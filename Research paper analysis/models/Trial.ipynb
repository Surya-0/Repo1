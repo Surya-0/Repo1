{
 "cells": [
  {
   "cell_type": "code",
   "execution_count": 1,
   "id": "initial_id",
   "metadata": {
    "collapsed": true,
    "ExecuteTime": {
     "end_time": "2024-01-30T00:15:46.002445Z",
     "start_time": "2024-01-30T00:15:45.556753Z"
    }
   },
   "outputs": [],
   "source": [
    "import matplotlib.pyplot as plt\n",
    "import numpy as np\n",
    "import pandas as pd\n",
    "from sklearn.decomposition import LatentDirichletAllocation\n"
   ]
  },
  {
   "cell_type": "code",
   "execution_count": 2,
   "outputs": [
    {
     "data": {
      "text/plain": "       Unnamed: 0.1  Unnamed: 0          AirName  \\\n0                 0           0          airasia   \n1                 1           1          airasia   \n2                 2           2          airasia   \n3                 3           3          airasia   \n4                 4           4          airasia   \n...             ...         ...              ...   \n18629         18629       18816  united-airlines   \n18630         18630       18817  united-airlines   \n18631         18631       18818  united-airlines   \n18632         18632       18819  united-airlines   \n18633         18633       18820  united-airlines   \n\n                                                Comments  DateFlown  \\\n0      according their check in process  they mention...       1022   \n1      nice  uneventful short flight  clean aircraft ...       1122   \n2      never again with airasia  i wish i could have ...       1122   \n3      my wife has problems with her knees and has gr...       1022   \n4      my flight was suppose to be at      pm on     ...       1022   \n...                                                  ...        ...   \n18629  my whole experience this evening  from an hour...        322   \n18630  united is the most unorganized airline in exis...        322   \n18631  we flew from fl to houston on february   th an...        222   \n18632  stuck in denver for almost    hours because yo...        322   \n18633  we had a connecting flight through newark new ...        322   \n\n                                                  Review  EntertainmentRating  \\\n0      according check process mentioned able start o...                    1   \n1      nice uneventful short flight clean aircraft su...                    0   \n2      never airasia wish could given star coming loy...                    0   \n3      wife problem knee great difficulty stair notif...                    0   \n4      flight suppose pm flight got delayed pm waited...                    0   \n...                                                  ...                  ...   \n18629  whole experience evening hour getting security...                    1   \n18630  united unorganized airline existence way handl...                    1   \n18631  flew fl houston february th great experience h...                    0   \n18632  stuck denver almost hour wanted book tight lay...                    1   \n18633  connecting flight newark new york made u pull ...                    3   \n\n       FoodRating  GroundServiceRating  OverallScore  Recommended  ReviewDate  \\\n0               1                    1             1            0        1122   \n1               0                    5             9            1        1122   \n2               1                    1             1            0        1122   \n3               0                    1             2            1        1122   \n4               0                    1             1            0        1122   \n...           ...                  ...           ...          ...         ...   \n18629           1                    1             1            0         322   \n18630           1                    1             1            0         322   \n18631           5                    5            10            1         322   \n18632           1                    1             1            0         322   \n18633           3                    1             1            0         322   \n\n                                ReviewTitle ReviewrCountry  SeatComfortRating  \\\n0                                bring food       Malaysia                  1   \n1              nice uneventful short flight       Malaysia                  4   \n2                             never airasia       Malaysia                  1   \n3                     time board wheelchair       Malaysia                  1   \n4                            bad experience       Malaysia                  1   \n...                                     ...            ...                ...   \n18629  made feel like cattle united airline  United States                  1   \n18630                                  clue  United States                  1   \n18631   flight attendant blessing attentive  United States                  5   \n18632                      never fly united  United States                  1   \n18633             lug bag around whole time  United States                  3   \n\n            SeatType  ServiceRating  ValueRating  WifiRating  \n0      Economy Class              3            2           1  \n1      Economy Class              5            5           0  \n2      Economy Class              1            2           0  \n3      Economy Class              1            1           0  \n4      Economy Class              1            1           0  \n...              ...            ...          ...         ...  \n18629  Economy Class              2            1           0  \n18630  Economy Class              1            1           1  \n18631  Economy Class              5            5           0  \n18632  Economy Class              1            1           0  \n18633  Economy Class              3            1           4  \n\n[18634 rows x 19 columns]",
      "text/html": "<div>\n<style scoped>\n    .dataframe tbody tr th:only-of-type {\n        vertical-align: middle;\n    }\n\n    .dataframe tbody tr th {\n        vertical-align: top;\n    }\n\n    .dataframe thead th {\n        text-align: right;\n    }\n</style>\n<table border=\"1\" class=\"dataframe\">\n  <thead>\n    <tr style=\"text-align: right;\">\n      <th></th>\n      <th>Unnamed: 0.1</th>\n      <th>Unnamed: 0</th>\n      <th>AirName</th>\n      <th>Comments</th>\n      <th>DateFlown</th>\n      <th>Review</th>\n      <th>EntertainmentRating</th>\n      <th>FoodRating</th>\n      <th>GroundServiceRating</th>\n      <th>OverallScore</th>\n      <th>Recommended</th>\n      <th>ReviewDate</th>\n      <th>ReviewTitle</th>\n      <th>ReviewrCountry</th>\n      <th>SeatComfortRating</th>\n      <th>SeatType</th>\n      <th>ServiceRating</th>\n      <th>ValueRating</th>\n      <th>WifiRating</th>\n    </tr>\n  </thead>\n  <tbody>\n    <tr>\n      <th>0</th>\n      <td>0</td>\n      <td>0</td>\n      <td>airasia</td>\n      <td>according their check in process  they mention...</td>\n      <td>1022</td>\n      <td>according check process mentioned able start o...</td>\n      <td>1</td>\n      <td>1</td>\n      <td>1</td>\n      <td>1</td>\n      <td>0</td>\n      <td>1122</td>\n      <td>bring food</td>\n      <td>Malaysia</td>\n      <td>1</td>\n      <td>Economy Class</td>\n      <td>3</td>\n      <td>2</td>\n      <td>1</td>\n    </tr>\n    <tr>\n      <th>1</th>\n      <td>1</td>\n      <td>1</td>\n      <td>airasia</td>\n      <td>nice  uneventful short flight  clean aircraft ...</td>\n      <td>1122</td>\n      <td>nice uneventful short flight clean aircraft su...</td>\n      <td>0</td>\n      <td>0</td>\n      <td>5</td>\n      <td>9</td>\n      <td>1</td>\n      <td>1122</td>\n      <td>nice uneventful short flight</td>\n      <td>Malaysia</td>\n      <td>4</td>\n      <td>Economy Class</td>\n      <td>5</td>\n      <td>5</td>\n      <td>0</td>\n    </tr>\n    <tr>\n      <th>2</th>\n      <td>2</td>\n      <td>2</td>\n      <td>airasia</td>\n      <td>never again with airasia  i wish i could have ...</td>\n      <td>1122</td>\n      <td>never airasia wish could given star coming loy...</td>\n      <td>0</td>\n      <td>1</td>\n      <td>1</td>\n      <td>1</td>\n      <td>0</td>\n      <td>1122</td>\n      <td>never airasia</td>\n      <td>Malaysia</td>\n      <td>1</td>\n      <td>Economy Class</td>\n      <td>1</td>\n      <td>2</td>\n      <td>0</td>\n    </tr>\n    <tr>\n      <th>3</th>\n      <td>3</td>\n      <td>3</td>\n      <td>airasia</td>\n      <td>my wife has problems with her knees and has gr...</td>\n      <td>1022</td>\n      <td>wife problem knee great difficulty stair notif...</td>\n      <td>0</td>\n      <td>0</td>\n      <td>1</td>\n      <td>2</td>\n      <td>1</td>\n      <td>1122</td>\n      <td>time board wheelchair</td>\n      <td>Malaysia</td>\n      <td>1</td>\n      <td>Economy Class</td>\n      <td>1</td>\n      <td>1</td>\n      <td>0</td>\n    </tr>\n    <tr>\n      <th>4</th>\n      <td>4</td>\n      <td>4</td>\n      <td>airasia</td>\n      <td>my flight was suppose to be at      pm on     ...</td>\n      <td>1022</td>\n      <td>flight suppose pm flight got delayed pm waited...</td>\n      <td>0</td>\n      <td>0</td>\n      <td>1</td>\n      <td>1</td>\n      <td>0</td>\n      <td>1122</td>\n      <td>bad experience</td>\n      <td>Malaysia</td>\n      <td>1</td>\n      <td>Economy Class</td>\n      <td>1</td>\n      <td>1</td>\n      <td>0</td>\n    </tr>\n    <tr>\n      <th>...</th>\n      <td>...</td>\n      <td>...</td>\n      <td>...</td>\n      <td>...</td>\n      <td>...</td>\n      <td>...</td>\n      <td>...</td>\n      <td>...</td>\n      <td>...</td>\n      <td>...</td>\n      <td>...</td>\n      <td>...</td>\n      <td>...</td>\n      <td>...</td>\n      <td>...</td>\n      <td>...</td>\n      <td>...</td>\n      <td>...</td>\n      <td>...</td>\n    </tr>\n    <tr>\n      <th>18629</th>\n      <td>18629</td>\n      <td>18816</td>\n      <td>united-airlines</td>\n      <td>my whole experience this evening  from an hour...</td>\n      <td>322</td>\n      <td>whole experience evening hour getting security...</td>\n      <td>1</td>\n      <td>1</td>\n      <td>1</td>\n      <td>1</td>\n      <td>0</td>\n      <td>322</td>\n      <td>made feel like cattle united airline</td>\n      <td>United States</td>\n      <td>1</td>\n      <td>Economy Class</td>\n      <td>2</td>\n      <td>1</td>\n      <td>0</td>\n    </tr>\n    <tr>\n      <th>18630</th>\n      <td>18630</td>\n      <td>18817</td>\n      <td>united-airlines</td>\n      <td>united is the most unorganized airline in exis...</td>\n      <td>322</td>\n      <td>united unorganized airline existence way handl...</td>\n      <td>1</td>\n      <td>1</td>\n      <td>1</td>\n      <td>1</td>\n      <td>0</td>\n      <td>322</td>\n      <td>clue</td>\n      <td>United States</td>\n      <td>1</td>\n      <td>Economy Class</td>\n      <td>1</td>\n      <td>1</td>\n      <td>1</td>\n    </tr>\n    <tr>\n      <th>18631</th>\n      <td>18631</td>\n      <td>18818</td>\n      <td>united-airlines</td>\n      <td>we flew from fl to houston on february   th an...</td>\n      <td>222</td>\n      <td>flew fl houston february th great experience h...</td>\n      <td>0</td>\n      <td>5</td>\n      <td>5</td>\n      <td>10</td>\n      <td>1</td>\n      <td>322</td>\n      <td>flight attendant blessing attentive</td>\n      <td>United States</td>\n      <td>5</td>\n      <td>Economy Class</td>\n      <td>5</td>\n      <td>5</td>\n      <td>0</td>\n    </tr>\n    <tr>\n      <th>18632</th>\n      <td>18632</td>\n      <td>18819</td>\n      <td>united-airlines</td>\n      <td>stuck in denver for almost    hours because yo...</td>\n      <td>322</td>\n      <td>stuck denver almost hour wanted book tight lay...</td>\n      <td>1</td>\n      <td>1</td>\n      <td>1</td>\n      <td>1</td>\n      <td>0</td>\n      <td>322</td>\n      <td>never fly united</td>\n      <td>United States</td>\n      <td>1</td>\n      <td>Economy Class</td>\n      <td>1</td>\n      <td>1</td>\n      <td>0</td>\n    </tr>\n    <tr>\n      <th>18633</th>\n      <td>18633</td>\n      <td>18820</td>\n      <td>united-airlines</td>\n      <td>we had a connecting flight through newark new ...</td>\n      <td>322</td>\n      <td>connecting flight newark new york made u pull ...</td>\n      <td>3</td>\n      <td>3</td>\n      <td>1</td>\n      <td>1</td>\n      <td>0</td>\n      <td>322</td>\n      <td>lug bag around whole time</td>\n      <td>United States</td>\n      <td>3</td>\n      <td>Economy Class</td>\n      <td>3</td>\n      <td>1</td>\n      <td>4</td>\n    </tr>\n  </tbody>\n</table>\n<p>18634 rows × 19 columns</p>\n</div>"
     },
     "execution_count": 2,
     "metadata": {},
     "output_type": "execute_result"
    }
   ],
   "source": [
    "df = pd.read_csv(\"../datasets/ProcessedData.csv\")\n",
    "df"
   ],
   "metadata": {
    "collapsed": false,
    "ExecuteTime": {
     "end_time": "2024-01-30T00:15:46.158833Z",
     "start_time": "2024-01-30T00:15:45.939801Z"
    }
   },
   "id": "483b41f8d6354b41"
  },
  {
   "cell_type": "code",
   "execution_count": 3,
   "outputs": [
    {
     "data": {
      "text/plain": "Index(['Unnamed: 0.1', 'Unnamed: 0', 'AirName', 'Comments', 'DateFlown',\n       'Review', 'EntertainmentRating', 'FoodRating', 'GroundServiceRating',\n       'OverallScore', 'Recommended', 'ReviewDate', 'ReviewTitle',\n       'ReviewrCountry', 'SeatComfortRating', 'SeatType', 'ServiceRating',\n       'ValueRating', 'WifiRating'],\n      dtype='object')"
     },
     "execution_count": 3,
     "metadata": {},
     "output_type": "execute_result"
    }
   ],
   "source": [
    "df.columns"
   ],
   "metadata": {
    "collapsed": false,
    "ExecuteTime": {
     "end_time": "2024-01-30T00:15:46.164910Z",
     "start_time": "2024-01-30T00:15:46.150563Z"
    }
   },
   "id": "34f1be81f5fb56a7"
  },
  {
   "cell_type": "code",
   "execution_count": 4,
   "outputs": [],
   "source": [
    "df.drop(columns=[\"Unnamed: 0.1\"],inplace=True)"
   ],
   "metadata": {
    "collapsed": false,
    "ExecuteTime": {
     "end_time": "2024-01-30T00:15:46.201921Z",
     "start_time": "2024-01-30T00:15:46.161935Z"
    }
   },
   "id": "8deda08ded044761"
  },
  {
   "cell_type": "code",
   "execution_count": 5,
   "outputs": [
    {
     "data": {
      "text/plain": "       Unnamed: 0          AirName  \\\n0               0          airasia   \n1               1          airasia   \n2               2          airasia   \n3               3          airasia   \n4               4          airasia   \n...           ...              ...   \n18629       18816  united-airlines   \n18630       18817  united-airlines   \n18631       18818  united-airlines   \n18632       18819  united-airlines   \n18633       18820  united-airlines   \n\n                                                Comments  DateFlown  \\\n0      according their check in process  they mention...       1022   \n1      nice  uneventful short flight  clean aircraft ...       1122   \n2      never again with airasia  i wish i could have ...       1122   \n3      my wife has problems with her knees and has gr...       1022   \n4      my flight was suppose to be at      pm on     ...       1022   \n...                                                  ...        ...   \n18629  my whole experience this evening  from an hour...        322   \n18630  united is the most unorganized airline in exis...        322   \n18631  we flew from fl to houston on february   th an...        222   \n18632  stuck in denver for almost    hours because yo...        322   \n18633  we had a connecting flight through newark new ...        322   \n\n                                                  Review  EntertainmentRating  \\\n0      according check process mentioned able start o...                    1   \n1      nice uneventful short flight clean aircraft su...                    0   \n2      never airasia wish could given star coming loy...                    0   \n3      wife problem knee great difficulty stair notif...                    0   \n4      flight suppose pm flight got delayed pm waited...                    0   \n...                                                  ...                  ...   \n18629  whole experience evening hour getting security...                    1   \n18630  united unorganized airline existence way handl...                    1   \n18631  flew fl houston february th great experience h...                    0   \n18632  stuck denver almost hour wanted book tight lay...                    1   \n18633  connecting flight newark new york made u pull ...                    3   \n\n       FoodRating  GroundServiceRating  OverallScore  Recommended  ReviewDate  \\\n0               1                    1             1            0        1122   \n1               0                    5             9            1        1122   \n2               1                    1             1            0        1122   \n3               0                    1             2            1        1122   \n4               0                    1             1            0        1122   \n...           ...                  ...           ...          ...         ...   \n18629           1                    1             1            0         322   \n18630           1                    1             1            0         322   \n18631           5                    5            10            1         322   \n18632           1                    1             1            0         322   \n18633           3                    1             1            0         322   \n\n                                ReviewTitle ReviewrCountry  SeatComfortRating  \\\n0                                bring food       Malaysia                  1   \n1              nice uneventful short flight       Malaysia                  4   \n2                             never airasia       Malaysia                  1   \n3                     time board wheelchair       Malaysia                  1   \n4                            bad experience       Malaysia                  1   \n...                                     ...            ...                ...   \n18629  made feel like cattle united airline  United States                  1   \n18630                                  clue  United States                  1   \n18631   flight attendant blessing attentive  United States                  5   \n18632                      never fly united  United States                  1   \n18633             lug bag around whole time  United States                  3   \n\n            SeatType  ServiceRating  ValueRating  WifiRating  \n0      Economy Class              3            2           1  \n1      Economy Class              5            5           0  \n2      Economy Class              1            2           0  \n3      Economy Class              1            1           0  \n4      Economy Class              1            1           0  \n...              ...            ...          ...         ...  \n18629  Economy Class              2            1           0  \n18630  Economy Class              1            1           1  \n18631  Economy Class              5            5           0  \n18632  Economy Class              1            1           0  \n18633  Economy Class              3            1           4  \n\n[18634 rows x 18 columns]",
      "text/html": "<div>\n<style scoped>\n    .dataframe tbody tr th:only-of-type {\n        vertical-align: middle;\n    }\n\n    .dataframe tbody tr th {\n        vertical-align: top;\n    }\n\n    .dataframe thead th {\n        text-align: right;\n    }\n</style>\n<table border=\"1\" class=\"dataframe\">\n  <thead>\n    <tr style=\"text-align: right;\">\n      <th></th>\n      <th>Unnamed: 0</th>\n      <th>AirName</th>\n      <th>Comments</th>\n      <th>DateFlown</th>\n      <th>Review</th>\n      <th>EntertainmentRating</th>\n      <th>FoodRating</th>\n      <th>GroundServiceRating</th>\n      <th>OverallScore</th>\n      <th>Recommended</th>\n      <th>ReviewDate</th>\n      <th>ReviewTitle</th>\n      <th>ReviewrCountry</th>\n      <th>SeatComfortRating</th>\n      <th>SeatType</th>\n      <th>ServiceRating</th>\n      <th>ValueRating</th>\n      <th>WifiRating</th>\n    </tr>\n  </thead>\n  <tbody>\n    <tr>\n      <th>0</th>\n      <td>0</td>\n      <td>airasia</td>\n      <td>according their check in process  they mention...</td>\n      <td>1022</td>\n      <td>according check process mentioned able start o...</td>\n      <td>1</td>\n      <td>1</td>\n      <td>1</td>\n      <td>1</td>\n      <td>0</td>\n      <td>1122</td>\n      <td>bring food</td>\n      <td>Malaysia</td>\n      <td>1</td>\n      <td>Economy Class</td>\n      <td>3</td>\n      <td>2</td>\n      <td>1</td>\n    </tr>\n    <tr>\n      <th>1</th>\n      <td>1</td>\n      <td>airasia</td>\n      <td>nice  uneventful short flight  clean aircraft ...</td>\n      <td>1122</td>\n      <td>nice uneventful short flight clean aircraft su...</td>\n      <td>0</td>\n      <td>0</td>\n      <td>5</td>\n      <td>9</td>\n      <td>1</td>\n      <td>1122</td>\n      <td>nice uneventful short flight</td>\n      <td>Malaysia</td>\n      <td>4</td>\n      <td>Economy Class</td>\n      <td>5</td>\n      <td>5</td>\n      <td>0</td>\n    </tr>\n    <tr>\n      <th>2</th>\n      <td>2</td>\n      <td>airasia</td>\n      <td>never again with airasia  i wish i could have ...</td>\n      <td>1122</td>\n      <td>never airasia wish could given star coming loy...</td>\n      <td>0</td>\n      <td>1</td>\n      <td>1</td>\n      <td>1</td>\n      <td>0</td>\n      <td>1122</td>\n      <td>never airasia</td>\n      <td>Malaysia</td>\n      <td>1</td>\n      <td>Economy Class</td>\n      <td>1</td>\n      <td>2</td>\n      <td>0</td>\n    </tr>\n    <tr>\n      <th>3</th>\n      <td>3</td>\n      <td>airasia</td>\n      <td>my wife has problems with her knees and has gr...</td>\n      <td>1022</td>\n      <td>wife problem knee great difficulty stair notif...</td>\n      <td>0</td>\n      <td>0</td>\n      <td>1</td>\n      <td>2</td>\n      <td>1</td>\n      <td>1122</td>\n      <td>time board wheelchair</td>\n      <td>Malaysia</td>\n      <td>1</td>\n      <td>Economy Class</td>\n      <td>1</td>\n      <td>1</td>\n      <td>0</td>\n    </tr>\n    <tr>\n      <th>4</th>\n      <td>4</td>\n      <td>airasia</td>\n      <td>my flight was suppose to be at      pm on     ...</td>\n      <td>1022</td>\n      <td>flight suppose pm flight got delayed pm waited...</td>\n      <td>0</td>\n      <td>0</td>\n      <td>1</td>\n      <td>1</td>\n      <td>0</td>\n      <td>1122</td>\n      <td>bad experience</td>\n      <td>Malaysia</td>\n      <td>1</td>\n      <td>Economy Class</td>\n      <td>1</td>\n      <td>1</td>\n      <td>0</td>\n    </tr>\n    <tr>\n      <th>...</th>\n      <td>...</td>\n      <td>...</td>\n      <td>...</td>\n      <td>...</td>\n      <td>...</td>\n      <td>...</td>\n      <td>...</td>\n      <td>...</td>\n      <td>...</td>\n      <td>...</td>\n      <td>...</td>\n      <td>...</td>\n      <td>...</td>\n      <td>...</td>\n      <td>...</td>\n      <td>...</td>\n      <td>...</td>\n      <td>...</td>\n    </tr>\n    <tr>\n      <th>18629</th>\n      <td>18816</td>\n      <td>united-airlines</td>\n      <td>my whole experience this evening  from an hour...</td>\n      <td>322</td>\n      <td>whole experience evening hour getting security...</td>\n      <td>1</td>\n      <td>1</td>\n      <td>1</td>\n      <td>1</td>\n      <td>0</td>\n      <td>322</td>\n      <td>made feel like cattle united airline</td>\n      <td>United States</td>\n      <td>1</td>\n      <td>Economy Class</td>\n      <td>2</td>\n      <td>1</td>\n      <td>0</td>\n    </tr>\n    <tr>\n      <th>18630</th>\n      <td>18817</td>\n      <td>united-airlines</td>\n      <td>united is the most unorganized airline in exis...</td>\n      <td>322</td>\n      <td>united unorganized airline existence way handl...</td>\n      <td>1</td>\n      <td>1</td>\n      <td>1</td>\n      <td>1</td>\n      <td>0</td>\n      <td>322</td>\n      <td>clue</td>\n      <td>United States</td>\n      <td>1</td>\n      <td>Economy Class</td>\n      <td>1</td>\n      <td>1</td>\n      <td>1</td>\n    </tr>\n    <tr>\n      <th>18631</th>\n      <td>18818</td>\n      <td>united-airlines</td>\n      <td>we flew from fl to houston on february   th an...</td>\n      <td>222</td>\n      <td>flew fl houston february th great experience h...</td>\n      <td>0</td>\n      <td>5</td>\n      <td>5</td>\n      <td>10</td>\n      <td>1</td>\n      <td>322</td>\n      <td>flight attendant blessing attentive</td>\n      <td>United States</td>\n      <td>5</td>\n      <td>Economy Class</td>\n      <td>5</td>\n      <td>5</td>\n      <td>0</td>\n    </tr>\n    <tr>\n      <th>18632</th>\n      <td>18819</td>\n      <td>united-airlines</td>\n      <td>stuck in denver for almost    hours because yo...</td>\n      <td>322</td>\n      <td>stuck denver almost hour wanted book tight lay...</td>\n      <td>1</td>\n      <td>1</td>\n      <td>1</td>\n      <td>1</td>\n      <td>0</td>\n      <td>322</td>\n      <td>never fly united</td>\n      <td>United States</td>\n      <td>1</td>\n      <td>Economy Class</td>\n      <td>1</td>\n      <td>1</td>\n      <td>0</td>\n    </tr>\n    <tr>\n      <th>18633</th>\n      <td>18820</td>\n      <td>united-airlines</td>\n      <td>we had a connecting flight through newark new ...</td>\n      <td>322</td>\n      <td>connecting flight newark new york made u pull ...</td>\n      <td>3</td>\n      <td>3</td>\n      <td>1</td>\n      <td>1</td>\n      <td>0</td>\n      <td>322</td>\n      <td>lug bag around whole time</td>\n      <td>United States</td>\n      <td>3</td>\n      <td>Economy Class</td>\n      <td>3</td>\n      <td>1</td>\n      <td>4</td>\n    </tr>\n  </tbody>\n</table>\n<p>18634 rows × 18 columns</p>\n</div>"
     },
     "execution_count": 5,
     "metadata": {},
     "output_type": "execute_result"
    }
   ],
   "source": [
    "df"
   ],
   "metadata": {
    "collapsed": false,
    "ExecuteTime": {
     "end_time": "2024-01-30T00:15:46.223586Z",
     "start_time": "2024-01-30T00:15:46.188518Z"
    }
   },
   "id": "9cbec032f31eec10"
  },
  {
   "cell_type": "code",
   "execution_count": 6,
   "outputs": [
    {
     "data": {
      "text/plain": "                                    Unnamed: 0                                \\\n                                         count     mean         std      min   \nAirName                                                                        \nAir India                                390.0   1213.5  112.727548   1019.0   \nAna                                      390.0   2418.5  112.727548   2224.0   \nair-europa                               390.0    433.5  112.727548    239.0   \nair-france                               390.0    823.5  112.727548    629.0   \nair-new-zealand                          390.0   1634.5  112.727548   1440.0   \nairasia                                  239.0    119.0   69.137544      0.0   \namerican-airlines                        390.0   2028.5  112.727548   1834.0   \naustrian-airlines                        390.0   2817.5  112.727548   2623.0   \nbangkok-airways                          390.0   3229.5  112.727548   3035.0   \nbritish-airways                          390.0   3624.5  112.727548   3430.0   \nemirates                                 390.0   4014.5  112.727548   3820.0   \nethiopian-airlines                       390.0   4404.5  112.727548   4210.0   \nflydubai                                 336.0   4767.5   97.139076   4600.0   \nfrontier-airlines                        390.0   5130.5  112.727548   4936.0   \ngulf-air                                 350.0   5500.5  101.180532   5326.0   \nhawaiian-airlines                        390.0   5870.5  112.727548   5676.0   \nindigo-airlines                          389.0   6260.0  112.438872   6066.0   \njapan-airlines                           382.0   6645.5  110.418145   6455.0   \njet2-com                                 385.0   7029.0  111.284171   6837.0   \nkenya-airways                            387.0   7415.0  111.861522   7222.0   \nkorean-air                               390.0   7803.5  112.727548   7609.0   \nlufthansa                                390.0   8193.5  112.727548   7999.0   \nmalaysia-airlines                        390.0   8583.5  112.727548   8389.0   \nmonarch-airlines                         318.0   8937.5   91.942917   8779.0   \noman-air                                 390.0   9407.5  112.727548   9213.0   \npegasus-airlines                         368.0   9786.5  106.376689   9603.0   \nphilippine-airlines                      390.0  10165.5  112.727548   9971.0   \npia-pakistan-international-airlines      146.0  10433.5   42.290661  10361.0   \nporter-airlines                          301.0  10657.0   87.035433  10507.0   \nqantas-airways                           390.0  11002.5  112.727548  10808.0   \nqatar-airways                            390.0  11392.5  112.727548  11198.0   \nroyal-air-maroc                          310.0  11742.5   89.633513  11588.0   \nroyal-brunei-airlines                    349.0  12072.0  100.891856  11898.0   \nroyal-jordanian-airlines                 350.0  12421.5  101.180532  12247.0   \nryanair                                  390.0  12791.5  112.727548  12597.0   \nsas-scandinavian-airlines                390.0  13181.5  112.727548  12987.0   \nsaudi-arabian-airlines                   359.0  13556.0  103.778611  13377.0   \nscoot                                    390.0  13930.5  112.727548  13736.0   \nsingapore-airlines                       390.0  14320.5  112.727548  14126.0   \nsouth-african-airways                    390.0  14710.5  112.727548  14516.0   \nsouthwest-airlines                       390.0  15100.5  112.727548  14906.0   \nspicejet                                 390.0  15490.5  112.727548  15296.0   \nspirit-airlines                          390.0  15880.5  112.727548  15686.0   \nsrilankan-airlines                       127.0  16139.0   36.805797  16076.0   \nsun-country-airlines                     297.0  16351.0   85.880731  16203.0   \nsunwing-airlines                         384.0  16691.5  110.995495  16500.0   \nswiss-international-air-lines            390.0  17078.5  112.727548  16884.0   \nswoop                                    390.0  17468.5  112.727548  17274.0   \nturkish-airlines                         390.0  17858.5  112.727548  17664.0   \nukraine-international-airlines           377.0  18242.0  108.974768  18054.0   \nunited-airlines                          390.0  18625.5  112.727548  18431.0   \n\n                                                                           \\\n                                          25%      50%       75%      max   \nAirName                                                                     \nAir India                             1116.25   1213.5   1310.75   1408.0   \nAna                                   2321.25   2418.5   2515.75   2613.0   \nair-europa                             336.25    433.5    530.75    628.0   \nair-france                             726.25    823.5    920.75   1018.0   \nair-new-zealand                       1537.25   1634.5   1731.75   1829.0   \nairasia                                 59.50    119.0    178.50    238.0   \namerican-airlines                     1931.25   2028.5   2125.75   2223.0   \naustrian-airlines                     2720.25   2817.5   2914.75   3012.0   \nbangkok-airways                       3132.25   3229.5   3326.75   3424.0   \nbritish-airways                       3527.25   3624.5   3721.75   3819.0   \nemirates                              3917.25   4014.5   4111.75   4209.0   \nethiopian-airlines                    4307.25   4404.5   4501.75   4599.0   \nflydubai                              4683.75   4767.5   4851.25   4935.0   \nfrontier-airlines                     5033.25   5130.5   5227.75   5325.0   \ngulf-air                              5413.25   5500.5   5587.75   5675.0   \nhawaiian-airlines                     5773.25   5870.5   5967.75   6065.0   \nindigo-airlines                       6163.00   6260.0   6357.00   6454.0   \njapan-airlines                        6550.25   6645.5   6740.75   6836.0   \njet2-com                              6933.00   7029.0   7125.00   7221.0   \nkenya-airways                         7318.50   7415.0   7511.50   7608.0   \nkorean-air                            7706.25   7803.5   7900.75   7998.0   \nlufthansa                             8096.25   8193.5   8290.75   8388.0   \nmalaysia-airlines                     8486.25   8583.5   8680.75   8778.0   \nmonarch-airlines                      8858.25   8937.5   9016.75   9096.0   \noman-air                              9310.25   9407.5   9504.75   9602.0   \npegasus-airlines                      9694.75   9786.5   9878.25   9970.0   \nphilippine-airlines                  10068.25  10165.5  10262.75  10360.0   \npia-pakistan-international-airlines  10397.25  10433.5  10469.75  10506.0   \nporter-airlines                      10582.00  10657.0  10732.00  10807.0   \nqantas-airways                       10905.25  11002.5  11099.75  11197.0   \nqatar-airways                        11295.25  11392.5  11489.75  11587.0   \nroyal-air-maroc                      11665.25  11742.5  11819.75  11897.0   \nroyal-brunei-airlines                11985.00  12072.0  12159.00  12246.0   \nroyal-jordanian-airlines             12334.25  12421.5  12508.75  12596.0   \nryanair                              12694.25  12791.5  12888.75  12986.0   \nsas-scandinavian-airlines            13084.25  13181.5  13278.75  13376.0   \nsaudi-arabian-airlines               13466.50  13556.0  13645.50  13735.0   \nscoot                                13833.25  13930.5  14027.75  14125.0   \nsingapore-airlines                   14223.25  14320.5  14417.75  14515.0   \nsouth-african-airways                14613.25  14710.5  14807.75  14905.0   \nsouthwest-airlines                   15003.25  15100.5  15197.75  15295.0   \nspicejet                             15393.25  15490.5  15587.75  15685.0   \nspirit-airlines                      15783.25  15880.5  15977.75  16075.0   \nsrilankan-airlines                   16107.50  16139.0  16170.50  16202.0   \nsun-country-airlines                 16277.00  16351.0  16425.00  16499.0   \nsunwing-airlines                     16595.75  16691.5  16787.25  16883.0   \nswiss-international-air-lines        16981.25  17078.5  17175.75  17273.0   \nswoop                                17371.25  17468.5  17565.75  17663.0   \nturkish-airlines                     17761.25  17858.5  17955.75  18053.0   \nukraine-international-airlines       18148.00  18242.0  18336.00  18430.0   \nunited-airlines                      18528.25  18625.5  18722.75  18820.0   \n\n                                    DateFlown              ... ValueRating  \\\n                                        count        mean  ...         75%   \nAirName                                                    ...               \nAir India                               390.0  673.723077  ...        3.00   \nAna                                     390.0  699.646154  ...        5.00   \nair-europa                              390.0  696.625641  ...        3.75   \nair-france                              390.0  707.874359  ...        4.00   \nair-new-zealand                         390.0  654.828205  ...        4.00   \nairasia                                 239.0  622.104603  ...        3.00   \namerican-airlines                       390.0  747.110256  ...        1.00   \naustrian-airlines                       390.0  738.035897  ...        4.00   \nbangkok-airways                         390.0  615.538462  ...        5.00   \nbritish-airways                         390.0  646.689744  ...        4.00   \nemirates                                390.0  707.194872  ...        4.00   \nethiopian-airlines                      390.0  681.648718  ...        4.00   \nflydubai                                336.0  665.916667  ...        4.00   \nfrontier-airlines                       390.0  767.612821  ...        1.00   \ngulf-air                                350.0  667.922857  ...        4.00   \nhawaiian-airlines                       390.0  683.361538  ...        4.00   \nindigo-airlines                         389.0  665.784062  ...        5.00   \njapan-airlines                          382.0  656.549738  ...        5.00   \njet2-com                                385.0  720.732468  ...        5.00   \nkenya-airways                           387.0  646.757106  ...        4.00   \nkorean-air                              390.0  648.753846  ...        5.00   \nlufthansa                               390.0  718.069231  ...        3.00   \nmalaysia-airlines                       390.0  663.105128  ...        4.00   \nmonarch-airlines                        318.0  683.588050  ...        4.00   \noman-air                                390.0  658.561538  ...        5.00   \npegasus-airlines                        368.0  733.543478  ...        4.00   \nphilippine-airlines                     390.0  650.620513  ...        5.00   \npia-pakistan-international-airlines     146.0  672.342466  ...        4.00   \nporter-airlines                         301.0  688.272425  ...        4.00   \nqantas-airways                          390.0  629.282051  ...        3.00   \nqatar-airways                           390.0  691.228205  ...        5.00   \nroyal-air-maroc                         310.0  664.454839  ...        4.00   \nroyal-brunei-airlines                   349.0  665.077364  ...        5.00   \nroyal-jordanian-airlines                350.0  662.405714  ...        4.00   \nryanair                                 390.0  755.541026  ...        3.00   \nsas-scandinavian-airlines               390.0  687.858974  ...        3.00   \nsaudi-arabian-airlines                  359.0  674.259053  ...        4.00   \nscoot                                   390.0  650.464103  ...        4.00   \nsingapore-airlines                      390.0  684.971795  ...        5.00   \nsouth-african-airways                   390.0  643.176923  ...        4.00   \nsouthwest-airlines                      390.0  736.610256  ...        3.00   \nspicejet                                390.0  681.828205  ...        4.00   \nspirit-airlines                         390.0  737.115385  ...        1.00   \nsrilankan-airlines                      127.0  692.181102  ...        5.00   \nsun-country-airlines                    297.0  670.575758  ...        3.00   \nsunwing-airlines                        384.0  513.408854  ...        3.00   \nswiss-international-air-lines           390.0  710.610256  ...        4.00   \nswoop                                   390.0  723.512821  ...        2.00   \nturkish-airlines                        390.0  702.992308  ...        3.00   \nukraine-international-airlines          377.0  719.188329  ...        4.00   \nunited-airlines                         390.0  662.748718  ...        2.00   \n\n                                         WifiRating                           \\\n                                     max      count      mean       std  min   \nAirName                                                                        \nAir India                            5.0      390.0  0.425641  0.667543  0.0   \nAna                                  5.0      390.0  0.817949  1.650796  0.0   \nair-europa                           5.0      390.0  0.364103  0.827387  0.0   \nair-france                           5.0      390.0  0.923077  1.631701  0.0   \nair-new-zealand                      5.0      390.0  0.579487  1.245079  0.0   \nairasia                              5.0      239.0  0.213389  0.667735  0.0   \namerican-airlines                    5.0      390.0  1.015385  1.274536  0.0   \naustrian-airlines                    5.0      390.0  0.346154  0.869756  0.0   \nbangkok-airways                      5.0      390.0  0.056410  0.395212  0.0   \nbritish-airways                      5.0      390.0  0.769231  1.481012  0.0   \nemirates                             5.0      390.0  1.389744  1.623066  0.0   \nethiopian-airlines                   5.0      390.0  0.312821  0.869116  0.0   \nflydubai                             5.0      336.0  0.428571  0.850436  0.0   \nfrontier-airlines                    5.0      390.0  0.389744  0.592930  0.0   \ngulf-air                             5.0      350.0  0.242857  0.822947  0.0   \nhawaiian-airlines                    5.0      390.0  0.448718  0.986378  0.0   \nindigo-airlines                      5.0      389.0  0.169666  0.693865  0.0   \njapan-airlines                       5.0      382.0  0.654450  1.490466  0.0   \njet2-com                             5.0      385.0  0.142857  0.631514  0.0   \nkenya-airways                        5.0      387.0  0.198966  0.614336  0.0   \nkorean-air                           5.0      390.0  0.264103  0.940105  0.0   \nlufthansa                            5.0      390.0  0.725641  1.231176  0.0   \nmalaysia-airlines                    5.0      390.0  0.374359  0.947658  0.0   \nmonarch-airlines                     5.0      318.0  0.028302  0.200514  0.0   \noman-air                             5.0      390.0  0.471795  1.148588  0.0   \npegasus-airlines                     5.0      368.0  0.152174  0.402574  0.0   \nphilippine-airlines                  5.0      390.0  1.156410  1.705472  0.0   \npia-pakistan-international-airlines  5.0      146.0  0.157534  0.450109  0.0   \nporter-airlines                      5.0      301.0  0.136213  0.421961  0.0   \nqantas-airways                       5.0      390.0  0.771795  1.326698  0.0   \nqatar-airways                        5.0      390.0  2.482051  2.205027  0.0   \nroyal-air-maroc                      5.0      310.0  0.270968  1.000386  0.0   \nroyal-brunei-airlines                5.0      349.0  0.128940  0.688989  0.0   \nroyal-jordanian-airlines             5.0      350.0  0.262857  0.632947  0.0   \nryanair                              5.0      390.0  0.233333  0.573105  0.0   \nsas-scandinavian-airlines            5.0      390.0  0.846154  1.313142  0.0   \nsaudi-arabian-airlines               5.0      359.0  0.660167  1.244586  0.0   \nscoot                                5.0      390.0  0.443590  0.996471  0.0   \nsingapore-airlines                   5.0      390.0  1.297436  1.883153  0.0   \nsouth-african-airways                5.0      390.0  0.097436  0.448641  0.0   \nsouthwest-airlines                   5.0      390.0  1.087179  1.365227  0.0   \nspicejet                             5.0      390.0  0.548718  1.165677  0.0   \nspirit-airlines                      5.0      390.0  0.558974  0.775830  0.0   \nsrilankan-airlines                   5.0      127.0  0.519685  1.037781  0.0   \nsun-country-airlines                 5.0      297.0  0.454545  0.865316  0.0   \nsunwing-airlines                     5.0      384.0  0.317708  0.735592  0.0   \nswiss-international-air-lines        5.0      390.0  0.553846  1.264880  0.0   \nswoop                                5.0      390.0  0.302564  0.792473  0.0   \nturkish-airlines                     5.0      390.0  0.969231  1.456861  0.0   \nukraine-international-airlines       5.0      377.0  0.299735  0.562881  0.0   \nunited-airlines                      5.0      390.0  1.115385  1.304341  0.0   \n\n                                                          \n                                     25%  50%   75%  max  \nAirName                                                   \nAir India                            0.0  0.0  1.00  5.0  \nAna                                  0.0  0.0  0.00  5.0  \nair-europa                           0.0  0.0  0.00  5.0  \nair-france                           0.0  0.0  1.00  5.0  \nair-new-zealand                      0.0  0.0  1.00  5.0  \nairasia                              0.0  0.0  0.00  5.0  \namerican-airlines                    0.0  1.0  1.00  5.0  \naustrian-airlines                    0.0  0.0  0.00  5.0  \nbangkok-airways                      0.0  0.0  0.00  5.0  \nbritish-airways                      0.0  0.0  1.00  5.0  \nemirates                             0.0  1.0  3.00  5.0  \nethiopian-airlines                   0.0  0.0  0.00  5.0  \nflydubai                             0.0  0.0  1.00  5.0  \nfrontier-airlines                    0.0  0.0  1.00  5.0  \ngulf-air                             0.0  0.0  0.00  5.0  \nhawaiian-airlines                    0.0  0.0  1.00  5.0  \nindigo-airlines                      0.0  0.0  0.00  5.0  \njapan-airlines                       0.0  0.0  0.00  5.0  \njet2-com                             0.0  0.0  0.00  5.0  \nkenya-airways                        0.0  0.0  0.00  5.0  \nkorean-air                           0.0  0.0  0.00  5.0  \nlufthansa                            0.0  0.0  1.00  5.0  \nmalaysia-airlines                    0.0  0.0  0.00  5.0  \nmonarch-airlines                     0.0  0.0  0.00  2.0  \noman-air                             0.0  0.0  0.00  5.0  \npegasus-airlines                     0.0  0.0  0.00  3.0  \nphilippine-airlines                  0.0  0.0  2.00  5.0  \npia-pakistan-international-airlines  0.0  0.0  0.00  3.0  \nporter-airlines                      0.0  0.0  0.00  3.0  \nqantas-airways                       0.0  0.0  1.00  5.0  \nqatar-airways                        0.0  3.0  5.00  5.0  \nroyal-air-maroc                      0.0  0.0  0.00  5.0  \nroyal-brunei-airlines                0.0  0.0  0.00  5.0  \nroyal-jordanian-airlines             0.0  0.0  0.00  4.0  \nryanair                              0.0  0.0  0.00  5.0  \nsas-scandinavian-airlines            0.0  0.0  1.00  5.0  \nsaudi-arabian-airlines               0.0  0.0  1.00  5.0  \nscoot                                0.0  0.0  0.75  5.0  \nsingapore-airlines                   0.0  0.0  3.00  5.0  \nsouth-african-airways                0.0  0.0  0.00  4.0  \nsouthwest-airlines                   0.0  1.0  1.00  5.0  \nspicejet                             0.0  0.0  1.00  5.0  \nspirit-airlines                      0.0  0.0  1.00  5.0  \nsrilankan-airlines                   0.0  0.0  1.00  5.0  \nsun-country-airlines                 0.0  0.0  1.00  5.0  \nsunwing-airlines                     0.0  0.0  0.00  5.0  \nswiss-international-air-lines        0.0  0.0  0.00  5.0  \nswoop                                0.0  0.0  0.00  5.0  \nturkish-airlines                     0.0  0.0  1.00  5.0  \nukraine-international-airlines       0.0  0.0  1.00  5.0  \nunited-airlines                      0.0  1.0  1.00  5.0  \n\n[51 rows x 96 columns]",
      "text/html": "<div>\n<style scoped>\n    .dataframe tbody tr th:only-of-type {\n        vertical-align: middle;\n    }\n\n    .dataframe tbody tr th {\n        vertical-align: top;\n    }\n\n    .dataframe thead tr th {\n        text-align: left;\n    }\n\n    .dataframe thead tr:last-of-type th {\n        text-align: right;\n    }\n</style>\n<table border=\"1\" class=\"dataframe\">\n  <thead>\n    <tr>\n      <th></th>\n      <th colspan=\"8\" halign=\"left\">Unnamed: 0</th>\n      <th colspan=\"2\" halign=\"left\">DateFlown</th>\n      <th>...</th>\n      <th colspan=\"2\" halign=\"left\">ValueRating</th>\n      <th colspan=\"8\" halign=\"left\">WifiRating</th>\n    </tr>\n    <tr>\n      <th></th>\n      <th>count</th>\n      <th>mean</th>\n      <th>std</th>\n      <th>min</th>\n      <th>25%</th>\n      <th>50%</th>\n      <th>75%</th>\n      <th>max</th>\n      <th>count</th>\n      <th>mean</th>\n      <th>...</th>\n      <th>75%</th>\n      <th>max</th>\n      <th>count</th>\n      <th>mean</th>\n      <th>std</th>\n      <th>min</th>\n      <th>25%</th>\n      <th>50%</th>\n      <th>75%</th>\n      <th>max</th>\n    </tr>\n    <tr>\n      <th>AirName</th>\n      <th></th>\n      <th></th>\n      <th></th>\n      <th></th>\n      <th></th>\n      <th></th>\n      <th></th>\n      <th></th>\n      <th></th>\n      <th></th>\n      <th></th>\n      <th></th>\n      <th></th>\n      <th></th>\n      <th></th>\n      <th></th>\n      <th></th>\n      <th></th>\n      <th></th>\n      <th></th>\n      <th></th>\n    </tr>\n  </thead>\n  <tbody>\n    <tr>\n      <th>Air India</th>\n      <td>390.0</td>\n      <td>1213.5</td>\n      <td>112.727548</td>\n      <td>1019.0</td>\n      <td>1116.25</td>\n      <td>1213.5</td>\n      <td>1310.75</td>\n      <td>1408.0</td>\n      <td>390.0</td>\n      <td>673.723077</td>\n      <td>...</td>\n      <td>3.00</td>\n      <td>5.0</td>\n      <td>390.0</td>\n      <td>0.425641</td>\n      <td>0.667543</td>\n      <td>0.0</td>\n      <td>0.0</td>\n      <td>0.0</td>\n      <td>1.00</td>\n      <td>5.0</td>\n    </tr>\n    <tr>\n      <th>Ana</th>\n      <td>390.0</td>\n      <td>2418.5</td>\n      <td>112.727548</td>\n      <td>2224.0</td>\n      <td>2321.25</td>\n      <td>2418.5</td>\n      <td>2515.75</td>\n      <td>2613.0</td>\n      <td>390.0</td>\n      <td>699.646154</td>\n      <td>...</td>\n      <td>5.00</td>\n      <td>5.0</td>\n      <td>390.0</td>\n      <td>0.817949</td>\n      <td>1.650796</td>\n      <td>0.0</td>\n      <td>0.0</td>\n      <td>0.0</td>\n      <td>0.00</td>\n      <td>5.0</td>\n    </tr>\n    <tr>\n      <th>air-europa</th>\n      <td>390.0</td>\n      <td>433.5</td>\n      <td>112.727548</td>\n      <td>239.0</td>\n      <td>336.25</td>\n      <td>433.5</td>\n      <td>530.75</td>\n      <td>628.0</td>\n      <td>390.0</td>\n      <td>696.625641</td>\n      <td>...</td>\n      <td>3.75</td>\n      <td>5.0</td>\n      <td>390.0</td>\n      <td>0.364103</td>\n      <td>0.827387</td>\n      <td>0.0</td>\n      <td>0.0</td>\n      <td>0.0</td>\n      <td>0.00</td>\n      <td>5.0</td>\n    </tr>\n    <tr>\n      <th>air-france</th>\n      <td>390.0</td>\n      <td>823.5</td>\n      <td>112.727548</td>\n      <td>629.0</td>\n      <td>726.25</td>\n      <td>823.5</td>\n      <td>920.75</td>\n      <td>1018.0</td>\n      <td>390.0</td>\n      <td>707.874359</td>\n      <td>...</td>\n      <td>4.00</td>\n      <td>5.0</td>\n      <td>390.0</td>\n      <td>0.923077</td>\n      <td>1.631701</td>\n      <td>0.0</td>\n      <td>0.0</td>\n      <td>0.0</td>\n      <td>1.00</td>\n      <td>5.0</td>\n    </tr>\n    <tr>\n      <th>air-new-zealand</th>\n      <td>390.0</td>\n      <td>1634.5</td>\n      <td>112.727548</td>\n      <td>1440.0</td>\n      <td>1537.25</td>\n      <td>1634.5</td>\n      <td>1731.75</td>\n      <td>1829.0</td>\n      <td>390.0</td>\n      <td>654.828205</td>\n      <td>...</td>\n      <td>4.00</td>\n      <td>5.0</td>\n      <td>390.0</td>\n      <td>0.579487</td>\n      <td>1.245079</td>\n      <td>0.0</td>\n      <td>0.0</td>\n      <td>0.0</td>\n      <td>1.00</td>\n      <td>5.0</td>\n    </tr>\n    <tr>\n      <th>airasia</th>\n      <td>239.0</td>\n      <td>119.0</td>\n      <td>69.137544</td>\n      <td>0.0</td>\n      <td>59.50</td>\n      <td>119.0</td>\n      <td>178.50</td>\n      <td>238.0</td>\n      <td>239.0</td>\n      <td>622.104603</td>\n      <td>...</td>\n      <td>3.00</td>\n      <td>5.0</td>\n      <td>239.0</td>\n      <td>0.213389</td>\n      <td>0.667735</td>\n      <td>0.0</td>\n      <td>0.0</td>\n      <td>0.0</td>\n      <td>0.00</td>\n      <td>5.0</td>\n    </tr>\n    <tr>\n      <th>american-airlines</th>\n      <td>390.0</td>\n      <td>2028.5</td>\n      <td>112.727548</td>\n      <td>1834.0</td>\n      <td>1931.25</td>\n      <td>2028.5</td>\n      <td>2125.75</td>\n      <td>2223.0</td>\n      <td>390.0</td>\n      <td>747.110256</td>\n      <td>...</td>\n      <td>1.00</td>\n      <td>5.0</td>\n      <td>390.0</td>\n      <td>1.015385</td>\n      <td>1.274536</td>\n      <td>0.0</td>\n      <td>0.0</td>\n      <td>1.0</td>\n      <td>1.00</td>\n      <td>5.0</td>\n    </tr>\n    <tr>\n      <th>austrian-airlines</th>\n      <td>390.0</td>\n      <td>2817.5</td>\n      <td>112.727548</td>\n      <td>2623.0</td>\n      <td>2720.25</td>\n      <td>2817.5</td>\n      <td>2914.75</td>\n      <td>3012.0</td>\n      <td>390.0</td>\n      <td>738.035897</td>\n      <td>...</td>\n      <td>4.00</td>\n      <td>5.0</td>\n      <td>390.0</td>\n      <td>0.346154</td>\n      <td>0.869756</td>\n      <td>0.0</td>\n      <td>0.0</td>\n      <td>0.0</td>\n      <td>0.00</td>\n      <td>5.0</td>\n    </tr>\n    <tr>\n      <th>bangkok-airways</th>\n      <td>390.0</td>\n      <td>3229.5</td>\n      <td>112.727548</td>\n      <td>3035.0</td>\n      <td>3132.25</td>\n      <td>3229.5</td>\n      <td>3326.75</td>\n      <td>3424.0</td>\n      <td>390.0</td>\n      <td>615.538462</td>\n      <td>...</td>\n      <td>5.00</td>\n      <td>5.0</td>\n      <td>390.0</td>\n      <td>0.056410</td>\n      <td>0.395212</td>\n      <td>0.0</td>\n      <td>0.0</td>\n      <td>0.0</td>\n      <td>0.00</td>\n      <td>5.0</td>\n    </tr>\n    <tr>\n      <th>british-airways</th>\n      <td>390.0</td>\n      <td>3624.5</td>\n      <td>112.727548</td>\n      <td>3430.0</td>\n      <td>3527.25</td>\n      <td>3624.5</td>\n      <td>3721.75</td>\n      <td>3819.0</td>\n      <td>390.0</td>\n      <td>646.689744</td>\n      <td>...</td>\n      <td>4.00</td>\n      <td>5.0</td>\n      <td>390.0</td>\n      <td>0.769231</td>\n      <td>1.481012</td>\n      <td>0.0</td>\n      <td>0.0</td>\n      <td>0.0</td>\n      <td>1.00</td>\n      <td>5.0</td>\n    </tr>\n    <tr>\n      <th>emirates</th>\n      <td>390.0</td>\n      <td>4014.5</td>\n      <td>112.727548</td>\n      <td>3820.0</td>\n      <td>3917.25</td>\n      <td>4014.5</td>\n      <td>4111.75</td>\n      <td>4209.0</td>\n      <td>390.0</td>\n      <td>707.194872</td>\n      <td>...</td>\n      <td>4.00</td>\n      <td>5.0</td>\n      <td>390.0</td>\n      <td>1.389744</td>\n      <td>1.623066</td>\n      <td>0.0</td>\n      <td>0.0</td>\n      <td>1.0</td>\n      <td>3.00</td>\n      <td>5.0</td>\n    </tr>\n    <tr>\n      <th>ethiopian-airlines</th>\n      <td>390.0</td>\n      <td>4404.5</td>\n      <td>112.727548</td>\n      <td>4210.0</td>\n      <td>4307.25</td>\n      <td>4404.5</td>\n      <td>4501.75</td>\n      <td>4599.0</td>\n      <td>390.0</td>\n      <td>681.648718</td>\n      <td>...</td>\n      <td>4.00</td>\n      <td>5.0</td>\n      <td>390.0</td>\n      <td>0.312821</td>\n      <td>0.869116</td>\n      <td>0.0</td>\n      <td>0.0</td>\n      <td>0.0</td>\n      <td>0.00</td>\n      <td>5.0</td>\n    </tr>\n    <tr>\n      <th>flydubai</th>\n      <td>336.0</td>\n      <td>4767.5</td>\n      <td>97.139076</td>\n      <td>4600.0</td>\n      <td>4683.75</td>\n      <td>4767.5</td>\n      <td>4851.25</td>\n      <td>4935.0</td>\n      <td>336.0</td>\n      <td>665.916667</td>\n      <td>...</td>\n      <td>4.00</td>\n      <td>5.0</td>\n      <td>336.0</td>\n      <td>0.428571</td>\n      <td>0.850436</td>\n      <td>0.0</td>\n      <td>0.0</td>\n      <td>0.0</td>\n      <td>1.00</td>\n      <td>5.0</td>\n    </tr>\n    <tr>\n      <th>frontier-airlines</th>\n      <td>390.0</td>\n      <td>5130.5</td>\n      <td>112.727548</td>\n      <td>4936.0</td>\n      <td>5033.25</td>\n      <td>5130.5</td>\n      <td>5227.75</td>\n      <td>5325.0</td>\n      <td>390.0</td>\n      <td>767.612821</td>\n      <td>...</td>\n      <td>1.00</td>\n      <td>5.0</td>\n      <td>390.0</td>\n      <td>0.389744</td>\n      <td>0.592930</td>\n      <td>0.0</td>\n      <td>0.0</td>\n      <td>0.0</td>\n      <td>1.00</td>\n      <td>5.0</td>\n    </tr>\n    <tr>\n      <th>gulf-air</th>\n      <td>350.0</td>\n      <td>5500.5</td>\n      <td>101.180532</td>\n      <td>5326.0</td>\n      <td>5413.25</td>\n      <td>5500.5</td>\n      <td>5587.75</td>\n      <td>5675.0</td>\n      <td>350.0</td>\n      <td>667.922857</td>\n      <td>...</td>\n      <td>4.00</td>\n      <td>5.0</td>\n      <td>350.0</td>\n      <td>0.242857</td>\n      <td>0.822947</td>\n      <td>0.0</td>\n      <td>0.0</td>\n      <td>0.0</td>\n      <td>0.00</td>\n      <td>5.0</td>\n    </tr>\n    <tr>\n      <th>hawaiian-airlines</th>\n      <td>390.0</td>\n      <td>5870.5</td>\n      <td>112.727548</td>\n      <td>5676.0</td>\n      <td>5773.25</td>\n      <td>5870.5</td>\n      <td>5967.75</td>\n      <td>6065.0</td>\n      <td>390.0</td>\n      <td>683.361538</td>\n      <td>...</td>\n      <td>4.00</td>\n      <td>5.0</td>\n      <td>390.0</td>\n      <td>0.448718</td>\n      <td>0.986378</td>\n      <td>0.0</td>\n      <td>0.0</td>\n      <td>0.0</td>\n      <td>1.00</td>\n      <td>5.0</td>\n    </tr>\n    <tr>\n      <th>indigo-airlines</th>\n      <td>389.0</td>\n      <td>6260.0</td>\n      <td>112.438872</td>\n      <td>6066.0</td>\n      <td>6163.00</td>\n      <td>6260.0</td>\n      <td>6357.00</td>\n      <td>6454.0</td>\n      <td>389.0</td>\n      <td>665.784062</td>\n      <td>...</td>\n      <td>5.00</td>\n      <td>5.0</td>\n      <td>389.0</td>\n      <td>0.169666</td>\n      <td>0.693865</td>\n      <td>0.0</td>\n      <td>0.0</td>\n      <td>0.0</td>\n      <td>0.00</td>\n      <td>5.0</td>\n    </tr>\n    <tr>\n      <th>japan-airlines</th>\n      <td>382.0</td>\n      <td>6645.5</td>\n      <td>110.418145</td>\n      <td>6455.0</td>\n      <td>6550.25</td>\n      <td>6645.5</td>\n      <td>6740.75</td>\n      <td>6836.0</td>\n      <td>382.0</td>\n      <td>656.549738</td>\n      <td>...</td>\n      <td>5.00</td>\n      <td>5.0</td>\n      <td>382.0</td>\n      <td>0.654450</td>\n      <td>1.490466</td>\n      <td>0.0</td>\n      <td>0.0</td>\n      <td>0.0</td>\n      <td>0.00</td>\n      <td>5.0</td>\n    </tr>\n    <tr>\n      <th>jet2-com</th>\n      <td>385.0</td>\n      <td>7029.0</td>\n      <td>111.284171</td>\n      <td>6837.0</td>\n      <td>6933.00</td>\n      <td>7029.0</td>\n      <td>7125.00</td>\n      <td>7221.0</td>\n      <td>385.0</td>\n      <td>720.732468</td>\n      <td>...</td>\n      <td>5.00</td>\n      <td>5.0</td>\n      <td>385.0</td>\n      <td>0.142857</td>\n      <td>0.631514</td>\n      <td>0.0</td>\n      <td>0.0</td>\n      <td>0.0</td>\n      <td>0.00</td>\n      <td>5.0</td>\n    </tr>\n    <tr>\n      <th>kenya-airways</th>\n      <td>387.0</td>\n      <td>7415.0</td>\n      <td>111.861522</td>\n      <td>7222.0</td>\n      <td>7318.50</td>\n      <td>7415.0</td>\n      <td>7511.50</td>\n      <td>7608.0</td>\n      <td>387.0</td>\n      <td>646.757106</td>\n      <td>...</td>\n      <td>4.00</td>\n      <td>5.0</td>\n      <td>387.0</td>\n      <td>0.198966</td>\n      <td>0.614336</td>\n      <td>0.0</td>\n      <td>0.0</td>\n      <td>0.0</td>\n      <td>0.00</td>\n      <td>5.0</td>\n    </tr>\n    <tr>\n      <th>korean-air</th>\n      <td>390.0</td>\n      <td>7803.5</td>\n      <td>112.727548</td>\n      <td>7609.0</td>\n      <td>7706.25</td>\n      <td>7803.5</td>\n      <td>7900.75</td>\n      <td>7998.0</td>\n      <td>390.0</td>\n      <td>648.753846</td>\n      <td>...</td>\n      <td>5.00</td>\n      <td>5.0</td>\n      <td>390.0</td>\n      <td>0.264103</td>\n      <td>0.940105</td>\n      <td>0.0</td>\n      <td>0.0</td>\n      <td>0.0</td>\n      <td>0.00</td>\n      <td>5.0</td>\n    </tr>\n    <tr>\n      <th>lufthansa</th>\n      <td>390.0</td>\n      <td>8193.5</td>\n      <td>112.727548</td>\n      <td>7999.0</td>\n      <td>8096.25</td>\n      <td>8193.5</td>\n      <td>8290.75</td>\n      <td>8388.0</td>\n      <td>390.0</td>\n      <td>718.069231</td>\n      <td>...</td>\n      <td>3.00</td>\n      <td>5.0</td>\n      <td>390.0</td>\n      <td>0.725641</td>\n      <td>1.231176</td>\n      <td>0.0</td>\n      <td>0.0</td>\n      <td>0.0</td>\n      <td>1.00</td>\n      <td>5.0</td>\n    </tr>\n    <tr>\n      <th>malaysia-airlines</th>\n      <td>390.0</td>\n      <td>8583.5</td>\n      <td>112.727548</td>\n      <td>8389.0</td>\n      <td>8486.25</td>\n      <td>8583.5</td>\n      <td>8680.75</td>\n      <td>8778.0</td>\n      <td>390.0</td>\n      <td>663.105128</td>\n      <td>...</td>\n      <td>4.00</td>\n      <td>5.0</td>\n      <td>390.0</td>\n      <td>0.374359</td>\n      <td>0.947658</td>\n      <td>0.0</td>\n      <td>0.0</td>\n      <td>0.0</td>\n      <td>0.00</td>\n      <td>5.0</td>\n    </tr>\n    <tr>\n      <th>monarch-airlines</th>\n      <td>318.0</td>\n      <td>8937.5</td>\n      <td>91.942917</td>\n      <td>8779.0</td>\n      <td>8858.25</td>\n      <td>8937.5</td>\n      <td>9016.75</td>\n      <td>9096.0</td>\n      <td>318.0</td>\n      <td>683.588050</td>\n      <td>...</td>\n      <td>4.00</td>\n      <td>5.0</td>\n      <td>318.0</td>\n      <td>0.028302</td>\n      <td>0.200514</td>\n      <td>0.0</td>\n      <td>0.0</td>\n      <td>0.0</td>\n      <td>0.00</td>\n      <td>2.0</td>\n    </tr>\n    <tr>\n      <th>oman-air</th>\n      <td>390.0</td>\n      <td>9407.5</td>\n      <td>112.727548</td>\n      <td>9213.0</td>\n      <td>9310.25</td>\n      <td>9407.5</td>\n      <td>9504.75</td>\n      <td>9602.0</td>\n      <td>390.0</td>\n      <td>658.561538</td>\n      <td>...</td>\n      <td>5.00</td>\n      <td>5.0</td>\n      <td>390.0</td>\n      <td>0.471795</td>\n      <td>1.148588</td>\n      <td>0.0</td>\n      <td>0.0</td>\n      <td>0.0</td>\n      <td>0.00</td>\n      <td>5.0</td>\n    </tr>\n    <tr>\n      <th>pegasus-airlines</th>\n      <td>368.0</td>\n      <td>9786.5</td>\n      <td>106.376689</td>\n      <td>9603.0</td>\n      <td>9694.75</td>\n      <td>9786.5</td>\n      <td>9878.25</td>\n      <td>9970.0</td>\n      <td>368.0</td>\n      <td>733.543478</td>\n      <td>...</td>\n      <td>4.00</td>\n      <td>5.0</td>\n      <td>368.0</td>\n      <td>0.152174</td>\n      <td>0.402574</td>\n      <td>0.0</td>\n      <td>0.0</td>\n      <td>0.0</td>\n      <td>0.00</td>\n      <td>3.0</td>\n    </tr>\n    <tr>\n      <th>philippine-airlines</th>\n      <td>390.0</td>\n      <td>10165.5</td>\n      <td>112.727548</td>\n      <td>9971.0</td>\n      <td>10068.25</td>\n      <td>10165.5</td>\n      <td>10262.75</td>\n      <td>10360.0</td>\n      <td>390.0</td>\n      <td>650.620513</td>\n      <td>...</td>\n      <td>5.00</td>\n      <td>5.0</td>\n      <td>390.0</td>\n      <td>1.156410</td>\n      <td>1.705472</td>\n      <td>0.0</td>\n      <td>0.0</td>\n      <td>0.0</td>\n      <td>2.00</td>\n      <td>5.0</td>\n    </tr>\n    <tr>\n      <th>pia-pakistan-international-airlines</th>\n      <td>146.0</td>\n      <td>10433.5</td>\n      <td>42.290661</td>\n      <td>10361.0</td>\n      <td>10397.25</td>\n      <td>10433.5</td>\n      <td>10469.75</td>\n      <td>10506.0</td>\n      <td>146.0</td>\n      <td>672.342466</td>\n      <td>...</td>\n      <td>4.00</td>\n      <td>5.0</td>\n      <td>146.0</td>\n      <td>0.157534</td>\n      <td>0.450109</td>\n      <td>0.0</td>\n      <td>0.0</td>\n      <td>0.0</td>\n      <td>0.00</td>\n      <td>3.0</td>\n    </tr>\n    <tr>\n      <th>porter-airlines</th>\n      <td>301.0</td>\n      <td>10657.0</td>\n      <td>87.035433</td>\n      <td>10507.0</td>\n      <td>10582.00</td>\n      <td>10657.0</td>\n      <td>10732.00</td>\n      <td>10807.0</td>\n      <td>301.0</td>\n      <td>688.272425</td>\n      <td>...</td>\n      <td>4.00</td>\n      <td>5.0</td>\n      <td>301.0</td>\n      <td>0.136213</td>\n      <td>0.421961</td>\n      <td>0.0</td>\n      <td>0.0</td>\n      <td>0.0</td>\n      <td>0.00</td>\n      <td>3.0</td>\n    </tr>\n    <tr>\n      <th>qantas-airways</th>\n      <td>390.0</td>\n      <td>11002.5</td>\n      <td>112.727548</td>\n      <td>10808.0</td>\n      <td>10905.25</td>\n      <td>11002.5</td>\n      <td>11099.75</td>\n      <td>11197.0</td>\n      <td>390.0</td>\n      <td>629.282051</td>\n      <td>...</td>\n      <td>3.00</td>\n      <td>5.0</td>\n      <td>390.0</td>\n      <td>0.771795</td>\n      <td>1.326698</td>\n      <td>0.0</td>\n      <td>0.0</td>\n      <td>0.0</td>\n      <td>1.00</td>\n      <td>5.0</td>\n    </tr>\n    <tr>\n      <th>qatar-airways</th>\n      <td>390.0</td>\n      <td>11392.5</td>\n      <td>112.727548</td>\n      <td>11198.0</td>\n      <td>11295.25</td>\n      <td>11392.5</td>\n      <td>11489.75</td>\n      <td>11587.0</td>\n      <td>390.0</td>\n      <td>691.228205</td>\n      <td>...</td>\n      <td>5.00</td>\n      <td>5.0</td>\n      <td>390.0</td>\n      <td>2.482051</td>\n      <td>2.205027</td>\n      <td>0.0</td>\n      <td>0.0</td>\n      <td>3.0</td>\n      <td>5.00</td>\n      <td>5.0</td>\n    </tr>\n    <tr>\n      <th>royal-air-maroc</th>\n      <td>310.0</td>\n      <td>11742.5</td>\n      <td>89.633513</td>\n      <td>11588.0</td>\n      <td>11665.25</td>\n      <td>11742.5</td>\n      <td>11819.75</td>\n      <td>11897.0</td>\n      <td>310.0</td>\n      <td>664.454839</td>\n      <td>...</td>\n      <td>4.00</td>\n      <td>5.0</td>\n      <td>310.0</td>\n      <td>0.270968</td>\n      <td>1.000386</td>\n      <td>0.0</td>\n      <td>0.0</td>\n      <td>0.0</td>\n      <td>0.00</td>\n      <td>5.0</td>\n    </tr>\n    <tr>\n      <th>royal-brunei-airlines</th>\n      <td>349.0</td>\n      <td>12072.0</td>\n      <td>100.891856</td>\n      <td>11898.0</td>\n      <td>11985.00</td>\n      <td>12072.0</td>\n      <td>12159.00</td>\n      <td>12246.0</td>\n      <td>349.0</td>\n      <td>665.077364</td>\n      <td>...</td>\n      <td>5.00</td>\n      <td>5.0</td>\n      <td>349.0</td>\n      <td>0.128940</td>\n      <td>0.688989</td>\n      <td>0.0</td>\n      <td>0.0</td>\n      <td>0.0</td>\n      <td>0.00</td>\n      <td>5.0</td>\n    </tr>\n    <tr>\n      <th>royal-jordanian-airlines</th>\n      <td>350.0</td>\n      <td>12421.5</td>\n      <td>101.180532</td>\n      <td>12247.0</td>\n      <td>12334.25</td>\n      <td>12421.5</td>\n      <td>12508.75</td>\n      <td>12596.0</td>\n      <td>350.0</td>\n      <td>662.405714</td>\n      <td>...</td>\n      <td>4.00</td>\n      <td>5.0</td>\n      <td>350.0</td>\n      <td>0.262857</td>\n      <td>0.632947</td>\n      <td>0.0</td>\n      <td>0.0</td>\n      <td>0.0</td>\n      <td>0.00</td>\n      <td>4.0</td>\n    </tr>\n    <tr>\n      <th>ryanair</th>\n      <td>390.0</td>\n      <td>12791.5</td>\n      <td>112.727548</td>\n      <td>12597.0</td>\n      <td>12694.25</td>\n      <td>12791.5</td>\n      <td>12888.75</td>\n      <td>12986.0</td>\n      <td>390.0</td>\n      <td>755.541026</td>\n      <td>...</td>\n      <td>3.00</td>\n      <td>5.0</td>\n      <td>390.0</td>\n      <td>0.233333</td>\n      <td>0.573105</td>\n      <td>0.0</td>\n      <td>0.0</td>\n      <td>0.0</td>\n      <td>0.00</td>\n      <td>5.0</td>\n    </tr>\n    <tr>\n      <th>sas-scandinavian-airlines</th>\n      <td>390.0</td>\n      <td>13181.5</td>\n      <td>112.727548</td>\n      <td>12987.0</td>\n      <td>13084.25</td>\n      <td>13181.5</td>\n      <td>13278.75</td>\n      <td>13376.0</td>\n      <td>390.0</td>\n      <td>687.858974</td>\n      <td>...</td>\n      <td>3.00</td>\n      <td>5.0</td>\n      <td>390.0</td>\n      <td>0.846154</td>\n      <td>1.313142</td>\n      <td>0.0</td>\n      <td>0.0</td>\n      <td>0.0</td>\n      <td>1.00</td>\n      <td>5.0</td>\n    </tr>\n    <tr>\n      <th>saudi-arabian-airlines</th>\n      <td>359.0</td>\n      <td>13556.0</td>\n      <td>103.778611</td>\n      <td>13377.0</td>\n      <td>13466.50</td>\n      <td>13556.0</td>\n      <td>13645.50</td>\n      <td>13735.0</td>\n      <td>359.0</td>\n      <td>674.259053</td>\n      <td>...</td>\n      <td>4.00</td>\n      <td>5.0</td>\n      <td>359.0</td>\n      <td>0.660167</td>\n      <td>1.244586</td>\n      <td>0.0</td>\n      <td>0.0</td>\n      <td>0.0</td>\n      <td>1.00</td>\n      <td>5.0</td>\n    </tr>\n    <tr>\n      <th>scoot</th>\n      <td>390.0</td>\n      <td>13930.5</td>\n      <td>112.727548</td>\n      <td>13736.0</td>\n      <td>13833.25</td>\n      <td>13930.5</td>\n      <td>14027.75</td>\n      <td>14125.0</td>\n      <td>390.0</td>\n      <td>650.464103</td>\n      <td>...</td>\n      <td>4.00</td>\n      <td>5.0</td>\n      <td>390.0</td>\n      <td>0.443590</td>\n      <td>0.996471</td>\n      <td>0.0</td>\n      <td>0.0</td>\n      <td>0.0</td>\n      <td>0.75</td>\n      <td>5.0</td>\n    </tr>\n    <tr>\n      <th>singapore-airlines</th>\n      <td>390.0</td>\n      <td>14320.5</td>\n      <td>112.727548</td>\n      <td>14126.0</td>\n      <td>14223.25</td>\n      <td>14320.5</td>\n      <td>14417.75</td>\n      <td>14515.0</td>\n      <td>390.0</td>\n      <td>684.971795</td>\n      <td>...</td>\n      <td>5.00</td>\n      <td>5.0</td>\n      <td>390.0</td>\n      <td>1.297436</td>\n      <td>1.883153</td>\n      <td>0.0</td>\n      <td>0.0</td>\n      <td>0.0</td>\n      <td>3.00</td>\n      <td>5.0</td>\n    </tr>\n    <tr>\n      <th>south-african-airways</th>\n      <td>390.0</td>\n      <td>14710.5</td>\n      <td>112.727548</td>\n      <td>14516.0</td>\n      <td>14613.25</td>\n      <td>14710.5</td>\n      <td>14807.75</td>\n      <td>14905.0</td>\n      <td>390.0</td>\n      <td>643.176923</td>\n      <td>...</td>\n      <td>4.00</td>\n      <td>5.0</td>\n      <td>390.0</td>\n      <td>0.097436</td>\n      <td>0.448641</td>\n      <td>0.0</td>\n      <td>0.0</td>\n      <td>0.0</td>\n      <td>0.00</td>\n      <td>4.0</td>\n    </tr>\n    <tr>\n      <th>southwest-airlines</th>\n      <td>390.0</td>\n      <td>15100.5</td>\n      <td>112.727548</td>\n      <td>14906.0</td>\n      <td>15003.25</td>\n      <td>15100.5</td>\n      <td>15197.75</td>\n      <td>15295.0</td>\n      <td>390.0</td>\n      <td>736.610256</td>\n      <td>...</td>\n      <td>3.00</td>\n      <td>5.0</td>\n      <td>390.0</td>\n      <td>1.087179</td>\n      <td>1.365227</td>\n      <td>0.0</td>\n      <td>0.0</td>\n      <td>1.0</td>\n      <td>1.00</td>\n      <td>5.0</td>\n    </tr>\n    <tr>\n      <th>spicejet</th>\n      <td>390.0</td>\n      <td>15490.5</td>\n      <td>112.727548</td>\n      <td>15296.0</td>\n      <td>15393.25</td>\n      <td>15490.5</td>\n      <td>15587.75</td>\n      <td>15685.0</td>\n      <td>390.0</td>\n      <td>681.828205</td>\n      <td>...</td>\n      <td>4.00</td>\n      <td>5.0</td>\n      <td>390.0</td>\n      <td>0.548718</td>\n      <td>1.165677</td>\n      <td>0.0</td>\n      <td>0.0</td>\n      <td>0.0</td>\n      <td>1.00</td>\n      <td>5.0</td>\n    </tr>\n    <tr>\n      <th>spirit-airlines</th>\n      <td>390.0</td>\n      <td>15880.5</td>\n      <td>112.727548</td>\n      <td>15686.0</td>\n      <td>15783.25</td>\n      <td>15880.5</td>\n      <td>15977.75</td>\n      <td>16075.0</td>\n      <td>390.0</td>\n      <td>737.115385</td>\n      <td>...</td>\n      <td>1.00</td>\n      <td>5.0</td>\n      <td>390.0</td>\n      <td>0.558974</td>\n      <td>0.775830</td>\n      <td>0.0</td>\n      <td>0.0</td>\n      <td>0.0</td>\n      <td>1.00</td>\n      <td>5.0</td>\n    </tr>\n    <tr>\n      <th>srilankan-airlines</th>\n      <td>127.0</td>\n      <td>16139.0</td>\n      <td>36.805797</td>\n      <td>16076.0</td>\n      <td>16107.50</td>\n      <td>16139.0</td>\n      <td>16170.50</td>\n      <td>16202.0</td>\n      <td>127.0</td>\n      <td>692.181102</td>\n      <td>...</td>\n      <td>5.00</td>\n      <td>5.0</td>\n      <td>127.0</td>\n      <td>0.519685</td>\n      <td>1.037781</td>\n      <td>0.0</td>\n      <td>0.0</td>\n      <td>0.0</td>\n      <td>1.00</td>\n      <td>5.0</td>\n    </tr>\n    <tr>\n      <th>sun-country-airlines</th>\n      <td>297.0</td>\n      <td>16351.0</td>\n      <td>85.880731</td>\n      <td>16203.0</td>\n      <td>16277.00</td>\n      <td>16351.0</td>\n      <td>16425.00</td>\n      <td>16499.0</td>\n      <td>297.0</td>\n      <td>670.575758</td>\n      <td>...</td>\n      <td>3.00</td>\n      <td>5.0</td>\n      <td>297.0</td>\n      <td>0.454545</td>\n      <td>0.865316</td>\n      <td>0.0</td>\n      <td>0.0</td>\n      <td>0.0</td>\n      <td>1.00</td>\n      <td>5.0</td>\n    </tr>\n    <tr>\n      <th>sunwing-airlines</th>\n      <td>384.0</td>\n      <td>16691.5</td>\n      <td>110.995495</td>\n      <td>16500.0</td>\n      <td>16595.75</td>\n      <td>16691.5</td>\n      <td>16787.25</td>\n      <td>16883.0</td>\n      <td>384.0</td>\n      <td>513.408854</td>\n      <td>...</td>\n      <td>3.00</td>\n      <td>5.0</td>\n      <td>384.0</td>\n      <td>0.317708</td>\n      <td>0.735592</td>\n      <td>0.0</td>\n      <td>0.0</td>\n      <td>0.0</td>\n      <td>0.00</td>\n      <td>5.0</td>\n    </tr>\n    <tr>\n      <th>swiss-international-air-lines</th>\n      <td>390.0</td>\n      <td>17078.5</td>\n      <td>112.727548</td>\n      <td>16884.0</td>\n      <td>16981.25</td>\n      <td>17078.5</td>\n      <td>17175.75</td>\n      <td>17273.0</td>\n      <td>390.0</td>\n      <td>710.610256</td>\n      <td>...</td>\n      <td>4.00</td>\n      <td>5.0</td>\n      <td>390.0</td>\n      <td>0.553846</td>\n      <td>1.264880</td>\n      <td>0.0</td>\n      <td>0.0</td>\n      <td>0.0</td>\n      <td>0.00</td>\n      <td>5.0</td>\n    </tr>\n    <tr>\n      <th>swoop</th>\n      <td>390.0</td>\n      <td>17468.5</td>\n      <td>112.727548</td>\n      <td>17274.0</td>\n      <td>17371.25</td>\n      <td>17468.5</td>\n      <td>17565.75</td>\n      <td>17663.0</td>\n      <td>390.0</td>\n      <td>723.512821</td>\n      <td>...</td>\n      <td>2.00</td>\n      <td>5.0</td>\n      <td>390.0</td>\n      <td>0.302564</td>\n      <td>0.792473</td>\n      <td>0.0</td>\n      <td>0.0</td>\n      <td>0.0</td>\n      <td>0.00</td>\n      <td>5.0</td>\n    </tr>\n    <tr>\n      <th>turkish-airlines</th>\n      <td>390.0</td>\n      <td>17858.5</td>\n      <td>112.727548</td>\n      <td>17664.0</td>\n      <td>17761.25</td>\n      <td>17858.5</td>\n      <td>17955.75</td>\n      <td>18053.0</td>\n      <td>390.0</td>\n      <td>702.992308</td>\n      <td>...</td>\n      <td>3.00</td>\n      <td>5.0</td>\n      <td>390.0</td>\n      <td>0.969231</td>\n      <td>1.456861</td>\n      <td>0.0</td>\n      <td>0.0</td>\n      <td>0.0</td>\n      <td>1.00</td>\n      <td>5.0</td>\n    </tr>\n    <tr>\n      <th>ukraine-international-airlines</th>\n      <td>377.0</td>\n      <td>18242.0</td>\n      <td>108.974768</td>\n      <td>18054.0</td>\n      <td>18148.00</td>\n      <td>18242.0</td>\n      <td>18336.00</td>\n      <td>18430.0</td>\n      <td>377.0</td>\n      <td>719.188329</td>\n      <td>...</td>\n      <td>4.00</td>\n      <td>5.0</td>\n      <td>377.0</td>\n      <td>0.299735</td>\n      <td>0.562881</td>\n      <td>0.0</td>\n      <td>0.0</td>\n      <td>0.0</td>\n      <td>1.00</td>\n      <td>5.0</td>\n    </tr>\n    <tr>\n      <th>united-airlines</th>\n      <td>390.0</td>\n      <td>18625.5</td>\n      <td>112.727548</td>\n      <td>18431.0</td>\n      <td>18528.25</td>\n      <td>18625.5</td>\n      <td>18722.75</td>\n      <td>18820.0</td>\n      <td>390.0</td>\n      <td>662.748718</td>\n      <td>...</td>\n      <td>2.00</td>\n      <td>5.0</td>\n      <td>390.0</td>\n      <td>1.115385</td>\n      <td>1.304341</td>\n      <td>0.0</td>\n      <td>0.0</td>\n      <td>1.0</td>\n      <td>1.00</td>\n      <td>5.0</td>\n    </tr>\n  </tbody>\n</table>\n<p>51 rows × 96 columns</p>\n</div>"
     },
     "execution_count": 6,
     "metadata": {},
     "output_type": "execute_result"
    }
   ],
   "source": [
    "df.groupby(\"AirName\").describe()"
   ],
   "metadata": {
    "collapsed": false,
    "ExecuteTime": {
     "end_time": "2024-01-30T00:15:46.543457Z",
     "start_time": "2024-01-30T00:15:46.197696Z"
    }
   },
   "id": "7c2ee98fbe414b51"
  },
  {
   "cell_type": "code",
   "execution_count": 7,
   "outputs": [],
   "source": [
    "top_airlines = df.groupby(\"AirName\")['OverallScore'].mean().nlargest(10)"
   ],
   "metadata": {
    "collapsed": false,
    "ExecuteTime": {
     "end_time": "2024-01-30T00:15:46.547363Z",
     "start_time": "2024-01-30T00:15:46.539775Z"
    }
   },
   "id": "b56379e88259763c"
  },
  {
   "cell_type": "code",
   "execution_count": 8,
   "outputs": [
    {
     "data": {
      "text/plain": "AirName\nAna                      7.958974\nbangkok-airways          7.512821\njapan-airlines           7.374346\nqatar-airways            7.361538\nkorean-air               7.289744\nroyal-brunei-airlines    7.240688\njet2-com                 6.646753\nindigo-airlines          6.326478\nmonarch-airlines         6.094340\nsingapore-airlines       6.010256\nName: OverallScore, dtype: float64"
     },
     "execution_count": 8,
     "metadata": {},
     "output_type": "execute_result"
    }
   ],
   "source": [
    "top_airlines"
   ],
   "metadata": {
    "collapsed": false,
    "ExecuteTime": {
     "end_time": "2024-01-30T00:15:46.560875Z",
     "start_time": "2024-01-30T00:15:46.549673Z"
    }
   },
   "id": "c9512f04d07e06e"
  },
  {
   "cell_type": "code",
   "execution_count": 9,
   "outputs": [
    {
     "data": {
      "text/plain": "Index(['Ana', 'bangkok-airways', 'japan-airlines', 'qatar-airways',\n       'korean-air', 'royal-brunei-airlines', 'jet2-com', 'indigo-airlines',\n       'monarch-airlines', 'singapore-airlines'],\n      dtype='object', name='AirName')"
     },
     "execution_count": 9,
     "metadata": {},
     "output_type": "execute_result"
    }
   ],
   "source": [
    "top_airlines.index "
   ],
   "metadata": {
    "collapsed": false,
    "ExecuteTime": {
     "end_time": "2024-01-30T00:15:46.578034Z",
     "start_time": "2024-01-30T00:15:46.555275Z"
    }
   },
   "id": "f2db14ee063d16ba"
  },
  {
   "cell_type": "code",
   "execution_count": 10,
   "outputs": [
    {
     "data": {
      "text/plain": "array([7.95897436, 7.51282051, 7.37434555, 7.36153846, 7.28974359,\n       7.24068768, 6.64675325, 6.32647815, 6.09433962, 6.01025641])"
     },
     "execution_count": 10,
     "metadata": {},
     "output_type": "execute_result"
    }
   ],
   "source": [
    "top_airlines.values"
   ],
   "metadata": {
    "collapsed": false,
    "ExecuteTime": {
     "end_time": "2024-01-30T00:15:46.594296Z",
     "start_time": "2024-01-30T00:15:46.559815Z"
    }
   },
   "id": "c8245c417750931b"
  },
  {
   "cell_type": "code",
   "execution_count": 11,
   "outputs": [
    {
     "data": {
      "text/plain": "([0, 1, 2, 3, 4, 5, 6, 7, 8, 9],\n [Text(0, 0, 'Ana'),\n  Text(1, 0, 'bangkok-airways'),\n  Text(2, 0, 'japan-airlines'),\n  Text(3, 0, 'qatar-airways'),\n  Text(4, 0, 'korean-air'),\n  Text(5, 0, 'royal-brunei-airlines'),\n  Text(6, 0, 'jet2-com'),\n  Text(7, 0, 'indigo-airlines'),\n  Text(8, 0, 'monarch-airlines'),\n  Text(9, 0, 'singapore-airlines')])"
     },
     "execution_count": 11,
     "metadata": {},
     "output_type": "execute_result"
    },
    {
     "data": {
      "text/plain": "<Figure size 1200x600 with 1 Axes>",
      "image/png": "[encoded data removed]"
     },
     "metadata": {},
     "output_type": "display_data"
    }
   ],
   "source": [
    "plt.figure(figsize=(12,6))\n",
    "plt.bar(top_airlines.index,top_airlines.values)\n",
    "plt.xticks(rotation=45,ha='right')"
   ],
   "metadata": {
    "collapsed": false,
    "ExecuteTime": {
     "end_time": "2024-01-30T00:15:46.935183Z",
     "start_time": "2024-01-30T00:15:46.572144Z"
    }
   },
   "id": "1ba514403d587021"
  },
  {
   "cell_type": "code",
   "execution_count": 12,
   "outputs": [
    {
     "data": {
      "text/plain": "array(['airasia', 'air-europa', 'air-france', 'Air India',\n       'air-new-zealand', 'american-airlines', 'Ana', 'austrian-airlines',\n       'bangkok-airways', 'british-airways', 'emirates',\n       'ethiopian-airlines', 'flydubai', 'frontier-airlines', 'gulf-air',\n       'hawaiian-airlines', 'indigo-airlines', 'japan-airlines',\n       'jet2-com', 'kenya-airways', 'korean-air', 'lufthansa',\n       'malaysia-airlines', 'monarch-airlines', 'oman-air',\n       'pegasus-airlines', 'philippine-airlines',\n       'pia-pakistan-international-airlines', 'porter-airlines',\n       'qantas-airways', 'qatar-airways', 'royal-air-maroc',\n       'royal-brunei-airlines', 'royal-jordanian-airlines', 'ryanair',\n       'sas-scandinavian-airlines', 'saudi-arabian-airlines', 'scoot',\n       'singapore-airlines', 'south-african-airways',\n       'southwest-airlines', 'spicejet', 'spirit-airlines',\n       'srilankan-airlines', 'sun-country-airlines', 'sunwing-airlines',\n       'swiss-international-air-lines', 'swoop', 'turkish-airlines',\n       'ukraine-international-airlines', 'united-airlines'], dtype=object)"
     },
     "execution_count": 12,
     "metadata": {},
     "output_type": "execute_result"
    }
   ],
   "source": [
    "x = df['AirName'].unique()\n",
    "x"
   ],
   "metadata": {
    "collapsed": false,
    "ExecuteTime": {
     "end_time": "2024-01-30T00:15:46.956989Z",
     "start_time": "2024-01-30T00:15:46.927477Z"
    }
   },
   "id": "4b9779d0ddc75965"
  },
  {
   "cell_type": "code",
   "execution_count": 13,
   "outputs": [
    {
     "data": {
      "text/plain": "             Unnamed: 0                                                      \\\n                  count          mean          std    min      25%      50%   \nOverallScore                                                                  \n1                6813.0  10121.102892  5959.938836    0.0  4730.00  10837.0   \n2                1807.0   9607.592695  5568.221212    3.0  4674.50   9838.0   \n3                1225.0   9471.813061  5356.847324   18.0  4788.00   9540.0   \n4                 695.0   9182.194245  5047.215530  139.0  4686.50   9039.0   \n5                 811.0   8899.759556  4974.380749    5.0  4556.50   8639.0   \n6                 689.0   9024.869376  4812.691305  143.0  5437.00   9005.0   \n7                1010.0   8692.501980  4975.892751  108.0  4519.00   8718.5   \n8                1554.0   8900.955598  4852.920223   20.0  5433.75   8657.5   \n9                1762.0   8746.799659  4821.889397    1.0  4705.50   8469.0   \n10               2268.0   8873.545414  4988.225761   85.0  4408.00   8563.0   \n\n                                DateFlown              ... ValueRating       \\\n                   75%      max     count        mean  ...         75%  max   \nOverallScore                                           ...                    \n1             15768.00  18820.0    6813.0  692.772934  ...         1.0  5.0   \n2             14450.00  18808.0    1807.0  687.553403  ...         2.0  5.0   \n3             13974.00  18811.0    1225.0  681.249796  ...         3.0  5.0   \n4             13452.00  18772.0     695.0  701.667626  ...         3.0  5.0   \n5             12876.00  18685.0     811.0  660.601726  ...         4.0  5.0   \n6             13194.00  18689.0     689.0  703.635704  ...         4.0  5.0   \n7             12565.50  18810.0    1010.0  651.642574  ...         4.0  5.0   \n8             12549.25  18708.0    1554.0  669.391248  ...         5.0  5.0   \n9             12220.25  18791.0    1762.0  663.083995  ...         5.0  5.0   \n10            12509.50  18818.0    2268.0  676.464286  ...         5.0  5.0   \n\n             WifiRating                                               \n                  count      mean       std  min  25%  50%  75%  max  \nOverallScore                                                          \n1                6813.0  0.440041  0.747157  0.0  0.0  0.0  1.0  5.0  \n2                1807.0  0.484781  0.892733  0.0  0.0  0.0  1.0  5.0  \n3                1225.0  0.536327  1.007583  0.0  0.0  0.0  1.0  5.0  \n4                 695.0  0.513669  1.005475  0.0  0.0  0.0  1.0  5.0  \n5                 811.0  0.450062  1.087940  0.0  0.0  0.0  0.0  5.0  \n6                 689.0  0.523948  1.218710  0.0  0.0  0.0  0.0  5.0  \n7                1010.0  0.443564  1.157251  0.0  0.0  0.0  0.0  5.0  \n8                1554.0  0.474260  1.264573  0.0  0.0  0.0  0.0  5.0  \n9                1762.0  0.637911  1.477253  0.0  0.0  0.0  0.0  5.0  \n10               2268.0  1.085538  1.962080  0.0  0.0  0.0  1.0  5.0  \n\n[10 rows x 88 columns]",
      "text/html": "<div>\n<style scoped>\n    .dataframe tbody tr th:only-of-type {\n        vertical-align: middle;\n    }\n\n    .dataframe tbody tr th {\n        vertical-align: top;\n    }\n\n    .dataframe thead tr th {\n        text-align: left;\n    }\n\n    .dataframe thead tr:last-of-type th {\n        text-align: right;\n    }\n</style>\n<table border=\"1\" class=\"dataframe\">\n  <thead>\n    <tr>\n      <th></th>\n      <th colspan=\"8\" halign=\"left\">Unnamed: 0</th>\n      <th colspan=\"2\" halign=\"left\">DateFlown</th>\n      <th>...</th>\n      <th colspan=\"2\" halign=\"left\">ValueRating</th>\n      <th colspan=\"8\" halign=\"left\">WifiRating</th>\n    </tr>\n    <tr>\n      <th></th>\n      <th>count</th>\n      <th>mean</th>\n      <th>std</th>\n      <th>min</th>\n      <th>25%</th>\n      <th>50%</th>\n      <th>75%</th>\n      <th>max</th>\n      <th>count</th>\n      <th>mean</th>\n      <th>...</th>\n      <th>75%</th>\n      <th>max</th>\n      <th>count</th>\n      <th>mean</th>\n      <th>std</th>\n      <th>min</th>\n      <th>25%</th>\n      <th>50%</th>\n      <th>75%</th>\n      <th>max</th>\n    </tr>\n    <tr>\n      <th>OverallScore</th>\n      <th></th>\n      <th></th>\n      <th></th>\n      <th></th>\n      <th></th>\n      <th></th>\n      <th></th>\n      <th></th>\n      <th></th>\n      <th></th>\n      <th></th>\n      <th></th>\n      <th></th>\n      <th></th>\n      <th></th>\n      <th></th>\n      <th></th>\n      <th></th>\n      <th></th>\n      <th></th>\n      <th></th>\n    </tr>\n  </thead>\n  <tbody>\n    <tr>\n      <th>1</th>\n      <td>6813.0</td>\n      <td>10121.102892</td>\n      <td>5959.938836</td>\n      <td>0.0</td>\n      <td>4730.00</td>\n      <td>10837.0</td>\n      <td>15768.00</td>\n      <td>18820.0</td>\n      <td>6813.0</td>\n      <td>692.772934</td>\n      <td>...</td>\n      <td>1.0</td>\n      <td>5.0</td>\n      <td>6813.0</td>\n      <td>0.440041</td>\n      <td>0.747157</td>\n      <td>0.0</td>\n      <td>0.0</td>\n      <td>0.0</td>\n      <td>1.0</td>\n      <td>5.0</td>\n    </tr>\n    <tr>\n      <th>2</th>\n      <td>1807.0</td>\n      <td>9607.592695</td>\n      <td>5568.221212</td>\n      <td>3.0</td>\n      <td>4674.50</td>\n      <td>9838.0</td>\n      <td>14450.00</td>\n      <td>18808.0</td>\n      <td>1807.0</td>\n      <td>687.553403</td>\n      <td>...</td>\n      <td>2.0</td>\n      <td>5.0</td>\n      <td>1807.0</td>\n      <td>0.484781</td>\n      <td>0.892733</td>\n      <td>0.0</td>\n      <td>0.0</td>\n      <td>0.0</td>\n      <td>1.0</td>\n      <td>5.0</td>\n    </tr>\n    <tr>\n      <th>3</th>\n      <td>1225.0</td>\n      <td>9471.813061</td>\n      <td>5356.847324</td>\n      <td>18.0</td>\n      <td>4788.00</td>\n      <td>9540.0</td>\n      <td>13974.00</td>\n      <td>18811.0</td>\n      <td>1225.0</td>\n      <td>681.249796</td>\n      <td>...</td>\n      <td>3.0</td>\n      <td>5.0</td>\n      <td>1225.0</td>\n      <td>0.536327</td>\n      <td>1.007583</td>\n      <td>0.0</td>\n      <td>0.0</td>\n      <td>0.0</td>\n      <td>1.0</td>\n      <td>5.0</td>\n    </tr>\n    <tr>\n      <th>4</th>\n      <td>695.0</td>\n      <td>9182.194245</td>\n      <td>5047.215530</td>\n      <td>139.0</td>\n      <td>4686.50</td>\n      <td>9039.0</td>\n      <td>13452.00</td>\n      <td>18772.0</td>\n      <td>695.0</td>\n      <td>701.667626</td>\n      <td>...</td>\n      <td>3.0</td>\n      <td>5.0</td>\n      <td>695.0</td>\n      <td>0.513669</td>\n      <td>1.005475</td>\n      <td>0.0</td>\n      <td>0.0</td>\n      <td>0.0</td>\n      <td>1.0</td>\n      <td>5.0</td>\n    </tr>\n    <tr>\n      <th>5</th>\n      <td>811.0</td>\n      <td>8899.759556</td>\n      <td>4974.380749</td>\n      <td>5.0</td>\n      <td>4556.50</td>\n      <td>8639.0</td>\n      <td>12876.00</td>\n      <td>18685.0</td>\n      <td>811.0</td>\n      <td>660.601726</td>\n      <td>...</td>\n      <td>4.0</td>\n      <td>5.0</td>\n      <td>811.0</td>\n      <td>0.450062</td>\n      <td>1.087940</td>\n      <td>0.0</td>\n      <td>0.0</td>\n      <td>0.0</td>\n      <td>0.0</td>\n      <td>5.0</td>\n    </tr>\n    <tr>\n      <th>6</th>\n      <td>689.0</td>\n      <td>9024.869376</td>\n      <td>4812.691305</td>\n      <td>143.0</td>\n      <td>5437.00</td>\n      <td>9005.0</td>\n      <td>13194.00</td>\n      <td>18689.0</td>\n      <td>689.0</td>\n      <td>703.635704</td>\n      <td>...</td>\n      <td>4.0</td>\n      <td>5.0</td>\n      <td>689.0</td>\n      <td>0.523948</td>\n      <td>1.218710</td>\n      <td>0.0</td>\n      <td>0.0</td>\n      <td>0.0</td>\n      <td>0.0</td>\n      <td>5.0</td>\n    </tr>\n    <tr>\n      <th>7</th>\n      <td>1010.0</td>\n      <td>8692.501980</td>\n      <td>4975.892751</td>\n      <td>108.0</td>\n      <td>4519.00</td>\n      <td>8718.5</td>\n      <td>12565.50</td>\n      <td>18810.0</td>\n      <td>1010.0</td>\n      <td>651.642574</td>\n      <td>...</td>\n      <td>4.0</td>\n      <td>5.0</td>\n      <td>1010.0</td>\n      <td>0.443564</td>\n      <td>1.157251</td>\n      <td>0.0</td>\n      <td>0.0</td>\n      <td>0.0</td>\n      <td>0.0</td>\n      <td>5.0</td>\n    </tr>\n    <tr>\n      <th>8</th>\n      <td>1554.0</td>\n      <td>8900.955598</td>\n      <td>4852.920223</td>\n      <td>20.0</td>\n      <td>5433.75</td>\n      <td>8657.5</td>\n      <td>12549.25</td>\n      <td>18708.0</td>\n      <td>1554.0</td>\n      <td>669.391248</td>\n      <td>...</td>\n      <td>5.0</td>\n      <td>5.0</td>\n      <td>1554.0</td>\n      <td>0.474260</td>\n      <td>1.264573</td>\n      <td>0.0</td>\n      <td>0.0</td>\n      <td>0.0</td>\n      <td>0.0</td>\n      <td>5.0</td>\n    </tr>\n    <tr>\n      <th>9</th>\n      <td>1762.0</td>\n      <td>8746.799659</td>\n      <td>4821.889397</td>\n      <td>1.0</td>\n      <td>4705.50</td>\n      <td>8469.0</td>\n      <td>12220.25</td>\n      <td>18791.0</td>\n      <td>1762.0</td>\n      <td>663.083995</td>\n      <td>...</td>\n      <td>5.0</td>\n      <td>5.0</td>\n      <td>1762.0</td>\n      <td>0.637911</td>\n      <td>1.477253</td>\n      <td>0.0</td>\n      <td>0.0</td>\n      <td>0.0</td>\n      <td>0.0</td>\n      <td>5.0</td>\n    </tr>\n    <tr>\n      <th>10</th>\n      <td>2268.0</td>\n      <td>8873.545414</td>\n      <td>4988.225761</td>\n      <td>85.0</td>\n      <td>4408.00</td>\n      <td>8563.0</td>\n      <td>12509.50</td>\n      <td>18818.0</td>\n      <td>2268.0</td>\n      <td>676.464286</td>\n      <td>...</td>\n      <td>5.0</td>\n      <td>5.0</td>\n      <td>2268.0</td>\n      <td>1.085538</td>\n      <td>1.962080</td>\n      <td>0.0</td>\n      <td>0.0</td>\n      <td>0.0</td>\n      <td>1.0</td>\n      <td>5.0</td>\n    </tr>\n  </tbody>\n</table>\n<p>10 rows × 88 columns</p>\n</div>"
     },
     "execution_count": 13,
     "metadata": {},
     "output_type": "execute_result"
    }
   ],
   "source": [
    "df.groupby(\"OverallScore\").describe()"
   ],
   "metadata": {
    "collapsed": false,
    "ExecuteTime": {
     "end_time": "2024-01-30T00:15:47.053559Z",
     "start_time": "2024-01-30T00:15:46.937988Z"
    }
   },
   "id": "1d549e677e6d69c8"
  },
  {
   "cell_type": "code",
   "execution_count": 14,
   "outputs": [
    {
     "data": {
      "text/plain": "AirName\nAir India                              3.100000\nAna                                    7.958974\nair-europa                             3.671795\nair-france                             4.202564\nair-new-zealand                        4.841026\nairasia                                3.012552\namerican-airlines                      2.082051\naustrian-airlines                      4.494872\nbangkok-airways                        7.512821\nbritish-airways                        4.194872\nemirates                               4.051282\nethiopian-airlines                     4.458974\nflydubai                               3.571429\nfrontier-airlines                      1.446154\ngulf-air                               5.400000\nhawaiian-airlines                      4.771795\nindigo-airlines                        6.326478\njapan-airlines                         7.374346\njet2-com                               6.646753\nkenya-airways                          4.635659\nkorean-air                             7.289744\nlufthansa                              2.935897\nmalaysia-airlines                      4.374359\nmonarch-airlines                       6.094340\noman-air                               5.707692\npegasus-airlines                       4.125000\nphilippine-airlines                    4.915385\npia-pakistan-international-airlines    5.109589\nporter-airlines                        4.109635\nqantas-airways                         3.546154\nqatar-airways                          7.361538\nroyal-air-maroc                        4.522581\nroyal-brunei-airlines                  7.240688\nroyal-jordanian-airlines               4.962857\nryanair                                2.735897\nsas-scandinavian-airlines              3.333333\nsaudi-arabian-airlines                 4.885794\nscoot                                  3.861538\nsingapore-airlines                     6.010256\nsouth-african-airways                  5.712821\nsouthwest-airlines                     2.561538\nspicejet                               3.841026\nspirit-airlines                        1.735897\nsrilankan-airlines                     4.181102\nsun-country-airlines                   3.232323\nsunwing-airlines                       3.031250\nswiss-international-air-lines          4.592308\nswoop                                  2.620513\nturkish-airlines                       2.753846\nukraine-international-airlines         3.827586\nunited-airlines                        2.484615\nName: OverallScore, dtype: float64"
     },
     "execution_count": 14,
     "metadata": {},
     "output_type": "execute_result"
    }
   ],
   "source": [
    "df.groupby(\"AirName\")['OverallScore'].mean()"
   ],
   "metadata": {
    "collapsed": false,
    "ExecuteTime": {
     "end_time": "2024-01-30T00:15:47.055157Z",
     "start_time": "2024-01-30T00:15:47.029203Z"
    }
   },
   "id": "c54ec2249de1c6"
  },
  {
   "cell_type": "code",
   "execution_count": 15,
   "outputs": [],
   "source": [
    "from sklearn.feature_extraction.text import CountVectorizer\n",
    "vec = CountVectorizer(stop_words='english')"
   ],
   "metadata": {
    "collapsed": false,
    "ExecuteTime": {
     "end_time": "2024-01-30T00:15:47.069165Z",
     "start_time": "2024-01-30T00:15:47.039967Z"
    }
   },
   "id": "b1d6e599438b6c35"
  },
  {
   "cell_type": "code",
   "execution_count": 16,
   "outputs": [],
   "source": [
    "x = vec.fit_transform(df['Review'])"
   ],
   "metadata": {
    "collapsed": false,
    "ExecuteTime": {
     "end_time": "2024-01-30T00:15:47.289945Z",
     "start_time": "2024-01-30T00:15:47.104975Z"
    }
   },
   "id": "39e226ebf71145fb"
  },
  {
   "cell_type": "code",
   "execution_count": 17,
   "outputs": [
    {
     "data": {
      "text/plain": "(18634, 15622)"
     },
     "execution_count": 17,
     "metadata": {},
     "output_type": "execute_result"
    }
   ],
   "source": [
    "x.shape"
   ],
   "metadata": {
    "collapsed": false,
    "ExecuteTime": {
     "end_time": "2024-01-30T00:15:47.291122Z",
     "start_time": "2024-01-30T00:15:47.281977Z"
    }
   },
   "id": "827899b6b76650d7"
  },
  {
   "cell_type": "code",
   "execution_count": 18,
   "outputs": [
    {
     "data": {
      "text/plain": "array(['aa', 'aaadvantage', 'aadvantage', ..., 'zurich', 'zvartnots',\n       'zya'], dtype=object)"
     },
     "execution_count": 18,
     "metadata": {},
     "output_type": "execute_result"
    }
   ],
   "source": [
    "vec.get_feature_names_out()"
   ],
   "metadata": {
    "collapsed": false,
    "ExecuteTime": {
     "end_time": "2024-01-30T00:15:47.299592Z",
     "start_time": "2024-01-30T00:15:47.290688Z"
    }
   },
   "id": "210caf1699c9df68"
  },
  {
   "cell_type": "code",
   "execution_count": 19,
   "outputs": [],
   "source": [
    "feature_names = vec.get_feature_names_out() "
   ],
   "metadata": {
    "collapsed": false,
    "ExecuteTime": {
     "end_time": "2024-01-30T00:15:47.315095Z",
     "start_time": "2024-01-30T00:15:47.299110Z"
    }
   },
   "id": "85cdbc7140fc174e"
  },
  {
   "cell_type": "code",
   "execution_count": 20,
   "outputs": [
    {
     "data": {
      "text/plain": "LatentDirichletAllocation(random_state=42)",
      "text/html": "<style>#sk-container-id-1 {color: black;}#sk-container-id-1 pre{padding: 0;}#sk-container-id-1 div.sk-toggleable {background-color: white;}#sk-container-id-1 label.sk-toggleable__label {cursor: pointer;display: block;width: 100%;margin-bottom: 0;padding: 0.3em;box-sizing: border-box;text-align: center;}#sk-container-id-1 label.sk-toggleable__label-arrow:before {content: \"▸\";float: left;margin-right: 0.25em;color: #696969;}#sk-container-id-1 label.sk-toggleable__label-arrow:hover:before {color: black;}#sk-container-id-1 div.sk-estimator:hover label.sk-toggleable__label-arrow:before {color: black;}#sk-container-id-1 div.sk-toggleable__content {max-height: 0;max-width: 0;overflow: hidden;text-align: left;background-color: #f0f8ff;}#sk-container-id-1 div.sk-toggleable__content pre {margin: 0.2em;color: black;border-radius: 0.25em;background-color: #f0f8ff;}#sk-container-id-1 input.sk-toggleable__control:checked~div.sk-toggleable__content {max-height: 200px;max-width: 100%;overflow: auto;}#sk-container-id-1 input.sk-toggleable__control:checked~label.sk-toggleable__label-arrow:before {content: \"▾\";}#sk-container-id-1 div.sk-estimator input.sk-toggleable__control:checked~label.sk-toggleable__label {background-color: #d4ebff;}#sk-container-id-1 div.sk-label input.sk-toggleable__control:checked~label.sk-toggleable__label {background-color: #d4ebff;}#sk-container-id-1 input.sk-hidden--visually {border: 0;clip: rect(1px 1px 1px 1px);clip: rect(1px, 1px, 1px, 1px);height: 1px;margin: -1px;overflow: hidden;padding: 0;position: absolute;width: 1px;}#sk-container-id-1 div.sk-estimator {font-family: monospace;background-color: #f0f8ff;border: 1px dotted black;border-radius: 0.25em;box-sizing: border-box;margin-bottom: 0.5em;}#sk-container-id-1 div.sk-estimator:hover {background-color: #d4ebff;}#sk-container-id-1 div.sk-parallel-item::after {content: \"\";width: 100%;border-bottom: 1px solid gray;flex-grow: 1;}#sk-container-id-1 div.sk-label:hover label.sk-toggleable__label {background-color: #d4ebff;}#sk-container-id-1 div.sk-serial::before {content: \"\";position: absolute;border-left: 1px solid gray;box-sizing: border-box;top: 0;bottom: 0;left: 50%;z-index: 0;}#sk-container-id-1 div.sk-serial {display: flex;flex-direction: column;align-items: center;background-color: white;padding-right: 0.2em;padding-left: 0.2em;position: relative;}#sk-container-id-1 div.sk-item {position: relative;z-index: 1;}#sk-container-id-1 div.sk-parallel {display: flex;align-items: stretch;justify-content: center;background-color: white;position: relative;}#sk-container-id-1 div.sk-item::before, #sk-container-id-1 div.sk-parallel-item::before {content: \"\";position: absolute;border-left: 1px solid gray;box-sizing: border-box;top: 0;bottom: 0;left: 50%;z-index: -1;}#sk-container-id-1 div.sk-parallel-item {display: flex;flex-direction: column;z-index: 1;position: relative;background-color: white;}#sk-container-id-1 div.sk-parallel-item:first-child::after {align-self: flex-end;width: 50%;}#sk-container-id-1 div.sk-parallel-item:last-child::after {align-self: flex-start;width: 50%;}#sk-container-id-1 div.sk-parallel-item:only-child::after {width: 0;}#sk-container-id-1 div.sk-dashed-wrapped {border: 1px dashed gray;margin: 0 0.4em 0.5em 0.4em;box-sizing: border-box;padding-bottom: 0.4em;background-color: white;}#sk-container-id-1 div.sk-label label {font-family: monospace;font-weight: bold;display: inline-block;line-height: 1.2em;}#sk-container-id-1 div.sk-label-container {text-align: center;}#sk-container-id-1 div.sk-container {/* jupyter's `normalize.less` sets `[hidden] { display: none; }` but bootstrap.min.css set `[hidden] { display: none !important; }` so we also need the `!important` here to be able to override the default hidden behavior on the sphinx rendered scikit-learn.org. See: https://github.com/scikit-learn/scikit-learn/issues/21755 */display: inline-block !important;position: relative;}#sk-container-id-1 div.sk-text-repr-fallback {display: none;}</style><div id=\"sk-container-id-1\" class=\"sk-top-container\"><div class=\"sk-text-repr-fallback\"><pre>LatentDirichletAllocation(random_state=42)</pre><b>In a Jupyter environment, please rerun this cell to show the HTML representation or trust the notebook. <br />On GitHub, the HTML representation is unable to render, please try loading this page with nbviewer.org.</b></div><div class=\"sk-container\" hidden><div class=\"sk-item\"><div class=\"sk-estimator sk-toggleable\"><input class=\"sk-toggleable__control sk-hidden--visually\" id=\"sk-estimator-id-1\" type=\"checkbox\" checked><label for=\"sk-estimator-id-1\" class=\"sk-toggleable__label sk-toggleable__label-arrow\">LatentDirichletAllocation</label><div class=\"sk-toggleable__content\"><pre>LatentDirichletAllocation(random_state=42)</pre></div></div></div></div></div>"
     },
     "execution_count": 20,
     "metadata": {},
     "output_type": "execute_result"
    }
   ],
   "source": [
    "num_topics = 10\n",
    "lda = LatentDirichletAllocation(n_components=num_topics, random_state=42)\n",
    "lda.fit(x)"
   ],
   "metadata": {
    "collapsed": false,
    "ExecuteTime": {
     "end_time": "2024-01-30T00:16:11.717074Z",
     "start_time": "2024-01-30T00:15:47.303117Z"
    }
   },
   "id": "b8879c41c011282b"
  },
  {
   "cell_type": "code",
   "execution_count": 21,
   "outputs": [
    {
     "data": {
      "text/plain": "(10, 15622)"
     },
     "execution_count": 21,
     "metadata": {},
     "output_type": "execute_result"
    }
   ],
   "source": [
    "lda.components_.shape"
   ],
   "metadata": {
    "collapsed": false,
    "ExecuteTime": {
     "end_time": "2024-01-30T00:16:11.722664Z",
     "start_time": "2024-01-30T00:16:11.715077Z"
    }
   },
   "id": "31da0a1e0cbecdb8"
  },
  {
   "cell_type": "code",
   "execution_count": 22,
   "outputs": [
    {
     "data": {
      "text/plain": "array([12.45912962,  0.10015832,  0.1000665 , ...,  1.15607932,\n        0.10021604,  0.1       ])"
     },
     "execution_count": 22,
     "metadata": {},
     "output_type": "execute_result"
    }
   ],
   "source": [
    "lda.components_[0]"
   ],
   "metadata": {
    "collapsed": false,
    "ExecuteTime": {
     "end_time": "2024-01-30T00:16:11.723894Z",
     "start_time": "2024-01-30T00:16:11.718984Z"
    }
   },
   "id": "91a0d227497f1d9c"
  },
  {
   "cell_type": "code",
   "execution_count": 23,
   "outputs": [
    {
     "name": "stdout",
     "output_type": "stream",
     "text": [
      "0   [12.45912962  0.10015832  0.1000665  ...  1.15607932  0.10021604\n",
      "  0.1       ]\n",
      "1   [ 5.50232491  0.1         0.1        ... 49.16271833  0.1\n",
      "  0.1       ]\n",
      "2   [55.28758357  0.10004853  2.09980485 ... 50.1205463   1.09949599\n",
      "  0.10001498]\n",
      "3   [ 0.10001852  0.1         0.1        ... 12.52544063  0.1\n",
      "  1.09988909]\n",
      "4   [ 3.25530408  0.1         0.10012864 ... 38.83759221  0.1\n",
      "  0.10009593]\n",
      "5   [ 3.21565244  0.1         0.1        ... 97.4231164   0.1\n",
      "  0.1       ]\n",
      "6   [2.85009977e+00 1.00000000e-01 1.00000000e-01 ... 1.36446534e+02\n",
      " 1.00287952e-01 1.00000000e-01]\n",
      "7   [1.129855   0.10026663 0.1        ... 0.10002093 0.1        0.1       ]\n",
      "8   [0.10001478 1.09952651 0.1        ... 0.10862949 0.1        0.1       ]\n",
      "9   [0.1000173  0.1        0.1        ... 0.11932255 0.1        0.1       ]\n"
     ]
    }
   ],
   "source": [
    "for i,j in enumerate(lda.components_):\n",
    "    print(i,\" \",j)"
   ],
   "metadata": {
    "collapsed": false,
    "ExecuteTime": {
     "end_time": "2024-01-30T00:16:11.742619Z",
     "start_time": "2024-01-30T00:16:11.722792Z"
    }
   },
   "id": "ebdcbb08d7e5c86b"
  },
  {
   "cell_type": "code",
   "execution_count": 24,
   "outputs": [
    {
     "data": {
      "text/plain": "array([[1.24591296e+01, 1.00158319e-01, 1.00066502e-01, 1.00000000e-01,\n        1.00000000e-01, 1.00000000e-01, 1.00000000e-01, 1.00000000e-01,\n        1.00015801e-01, 1.00005790e-01, 1.00000000e-01, 1.00009702e-01,\n        1.99401838e+00, 1.00000000e-01, 1.00015233e-01, 1.00000000e-01,\n        1.00000001e-01, 2.13575389e+01, 2.09996924e+00, 1.00000000e-01,\n        1.00000000e-01, 1.00000000e-01, 1.00000000e-01, 1.00009809e-01,\n        1.00000000e-01, 1.00040038e-01, 1.00000000e-01, 5.99861939e+00,\n        1.00006695e-01, 1.33093679e+02, 1.00000000e-01, 1.00114165e-01,\n        4.93989582e+00, 1.00038635e-01, 1.00000000e-01, 1.00000001e-01,\n        1.00000000e-01, 1.00000000e-01, 1.00034418e-01, 1.00000001e-01,\n        1.00000000e-01, 4.62062062e+00, 3.75289047e+00, 1.00027441e-01,\n        1.00109991e-01, 1.00011529e-01, 1.00002279e-01, 1.00000000e-01,\n        1.00000000e-01, 1.00000000e-01, 3.45514844e+01, 1.09960590e+00,\n        7.47058736e+01, 1.00163160e-01, 1.00022594e-01, 1.08443241e+01,\n        1.00018348e-01, 1.00031076e-01, 1.00002533e-01, 1.00001682e-01,\n        1.00000000e-01, 1.00000000e-01, 1.00004338e-01, 1.00000000e-01,\n        1.00000000e-01, 1.00002279e-01, 1.00000000e-01, 1.00000001e-01,\n        2.50301529e+00, 1.00000000e-01, 1.00044428e-01, 1.00029560e-01,\n        1.00017788e-01, 1.09997254e+00, 2.09980503e+00, 1.00067657e-01,\n        4.23804136e+01, 1.00000000e-01, 1.91713088e-01, 1.00000000e-01,\n        3.70614470e+01, 7.97625668e+00, 1.00005636e-01, 1.00000000e-01,\n        5.09915777e-01, 1.00000000e-01, 1.09997231e+00, 1.00041035e-01,\n        1.00018873e-01, 1.00014251e-01, 1.00000000e-01, 5.80880239e+00,\n        1.00077813e-01, 1.03664884e+01, 1.00000000e-01, 1.00000001e-01,\n        1.00000000e-01, 1.00000000e-01, 2.00062431e+00, 1.00000000e-01],\n       [5.50232491e+00, 1.00000001e-01, 1.00000000e-01, 1.00000001e-01,\n        1.00027488e-01, 1.00006573e-01, 1.00053071e-01, 1.00000000e-01,\n        1.09998950e+00, 1.00005995e-01, 1.00000000e-01, 1.00012578e-01,\n        1.00000001e-01, 1.00000000e-01, 1.00017029e-01, 1.00000000e-01,\n        1.00000001e-01, 1.00010685e-01, 1.00012031e-01, 1.00023081e-01,\n        1.00000000e-01, 1.00000000e-01, 1.00001516e-01, 6.09995311e+00,\n        1.09999651e+00, 1.00000000e-01, 1.00039519e-01, 1.00008156e-01,\n        1.00005898e-01, 5.77421965e+01, 1.09999774e+00, 1.00000000e-01,\n        7.21505535e-01, 1.00000000e-01, 1.00000000e-01, 1.17277554e+00,\n        1.00000000e-01, 1.00000000e-01, 1.00000000e-01, 1.09949863e+00,\n        1.00020270e-01, 6.22417896e+00, 1.00023511e-01, 5.89707226e+00,\n        1.00060821e-01, 1.00007378e-01, 1.00000001e-01, 1.00000000e-01,\n        1.00000000e-01, 1.00000000e-01, 1.23140234e-01, 1.00270045e-01,\n        8.56027593e+00, 1.00000002e-01, 1.00000000e-01, 2.35558583e+00,\n        1.00000000e-01, 1.00000000e-01, 1.00002849e-01, 1.09992580e+00,\n        1.00043867e-01, 1.00005043e-01, 1.00000000e-01, 1.00000000e-01,\n        1.00049707e-01, 1.30762346e+00, 1.00000000e-01, 1.00000001e-01,\n        1.00009589e-01, 1.00000000e-01, 2.84058748e+00, 1.00021377e-01,\n        1.00000000e-01, 1.00000001e-01, 1.00000000e-01, 1.09988324e+00,\n        1.23692071e+00, 1.00008250e-01, 1.69596496e+00, 1.00000000e-01,\n        1.18403367e-01, 1.00015522e-01, 1.00000000e-01, 1.00000000e-01,\n        2.87504384e+00, 1.00000000e-01, 1.00000000e-01, 1.00003351e-01,\n        1.00000000e-01, 1.00008755e-01, 1.00000000e-01, 6.73133595e+00,\n        1.09985229e+00, 5.13634940e+00, 1.00000000e-01, 1.00000001e-01,\n        1.00000000e-01, 1.00000000e-01, 1.00000000e-01, 1.00000000e-01],\n       [5.52875836e+01, 1.00048533e-01, 2.09980485e+00, 1.00112054e-01,\n        1.00000000e-01, 1.09997472e+00, 1.09994693e+00, 1.00000000e-01,\n        4.52268584e+00, 1.20999506e-01, 1.00000000e-01, 1.00016666e-01,\n        1.00097698e-01, 1.00000000e-01, 1.01854085e-01, 1.00000000e-01,\n        1.09949897e+00, 3.06808544e+01, 1.00000000e-01, 1.00000000e-01,\n        1.09981543e+00, 1.00029159e-01, 1.00000000e-01, 1.00014267e-01,\n        1.00008144e-01, 1.00000000e-01, 2.09994305e+00, 8.62590317e+00,\n        3.09992758e+00, 9.24976308e+01, 1.00000000e-01, 1.09988583e+00,\n        4.46889798e-01, 1.00000000e-01, 1.00004726e-01, 1.00250400e-01,\n        1.00020360e-01, 3.09998973e+00, 1.09974469e+00, 1.00000001e-01,\n        1.00002376e-01, 1.00006194e-01, 1.00005000e-01, 1.00096804e-01,\n        2.09988680e+00, 1.00010691e-01, 2.09977327e+00, 1.00000000e-01,\n        1.00000000e-01, 1.00052510e-01, 5.86252874e+01, 1.00000000e-01,\n        9.15580000e+01, 1.09842155e+00, 1.00000000e-01, 1.00013902e-01,\n        1.00000000e-01, 1.00002853e-01, 1.00003191e-01, 1.00022162e-01,\n        1.00003134e-01, 1.00004773e-01, 1.00000000e-01, 1.00031267e-01,\n        1.00000000e-01, 1.00011380e-01, 1.00000000e-01, 1.09865271e+00,\n        1.00023026e-01, 1.00000000e-01, 9.42550018e+00, 3.08091220e+00,\n        1.00000000e-01, 1.00018977e-01, 1.00000000e-01, 1.00101157e-01,\n        6.11046719e-01, 1.00000000e-01, 3.49972764e+00, 1.00000000e-01,\n        3.47702157e-01, 1.00026344e-01, 1.09998076e+00, 1.09995401e+00,\n        1.34591335e-01, 1.00000000e-01, 1.00027686e-01, 1.00010158e-01,\n        1.00000000e-01, 1.00014496e-01, 1.00001825e-01, 1.10575077e+01,\n        1.00000000e-01, 4.38288940e+00, 1.00000000e-01, 1.00439037e-01,\n        3.09990924e+00, 1.00000000e-01, 1.00044341e-01, 1.09999306e+00],\n       [1.00018524e-01, 1.00000001e-01, 1.00000000e-01, 1.00000001e-01,\n        1.00018049e-01, 1.00000000e-01, 1.00000000e-01, 1.00000000e-01,\n        1.00016810e-01, 1.00002118e-01, 1.00028494e-01, 1.00000000e-01,\n        1.00000001e-01, 1.00000000e-01, 3.09797087e+00, 1.00000000e-01,\n        1.00000001e-01, 1.00005539e-01, 1.00000000e-01, 2.09999550e+00,\n        1.00000000e-01, 1.00000000e-01, 1.00000000e-01, 1.00006082e-01,\n        1.00000000e-01, 1.00000000e-01, 1.00010719e-01, 1.00017531e-01,\n        1.00000000e-01, 1.94098356e+01, 1.00000000e-01, 1.00000000e-01,\n        3.56035126e+00, 1.00000000e-01, 1.00000000e-01, 1.02707295e+00,\n        1.00000000e-01, 1.00000000e-01, 1.00000001e-01, 1.00000002e-01,\n        1.00004317e-01, 1.00039552e-01, 4.10737542e-01, 2.10175033e-01,\n        1.00000001e-01, 1.00005495e-01, 1.00008950e-01, 1.00000000e-01,\n        1.00000000e-01, 1.00000000e-01, 1.00009740e-01, 1.00000001e-01,\n        1.98640523e+01, 1.00408270e-01, 1.00000000e-01, 1.00013080e-01,\n        1.00000000e-01, 1.00000000e-01, 1.00001903e-01, 1.00004355e-01,\n        1.00000000e-01, 1.00000000e-01, 1.00000000e-01, 1.00000000e-01,\n        1.00000000e-01, 1.00000000e-01, 1.00000000e-01, 1.00000002e-01,\n        1.00000000e-01, 1.09987995e+00, 1.00003735e-01, 1.46243865e+00,\n        1.00000000e-01, 1.00434773e-01, 1.00000000e-01, 2.09999991e+00,\n        1.00012855e-01, 1.00000000e-01, 4.73466589e+00, 1.00003989e-01,\n        1.37295027e+00, 1.00001999e-01, 1.00013606e-01, 1.00000000e-01,\n        1.74981926e+01, 1.00000000e-01, 1.00000000e-01, 1.00000000e-01,\n        2.09994546e+00, 1.00000000e-01, 1.00000000e-01, 1.00033999e-01,\n        1.00000000e-01, 4.73298230e-01, 1.00000000e-01, 1.00000001e-01,\n        1.00000000e-01, 1.00000000e-01, 1.00000000e-01, 1.00000000e-01],\n       [3.25530408e+00, 1.00000001e-01, 1.00128641e-01, 1.00315158e-01,\n        1.00013354e-01, 1.00000000e-01, 1.00000000e-01, 1.00029035e-01,\n        1.00084197e-01, 1.18037489e+02, 1.00000000e-01, 1.00000000e-01,\n        1.00031677e-01, 1.00000000e-01, 1.00000000e-01, 1.00008622e-01,\n        1.00000001e-01, 1.00004437e-01, 1.00000000e-01, 1.00000000e-01,\n        1.00000000e-01, 1.00000000e-01, 1.00002967e-01, 7.09996479e+00,\n        1.00000000e-01, 1.00000000e-01, 1.00056822e-01, 1.00018137e-01,\n        1.00000000e-01, 4.58814111e+01, 1.00002256e-01, 1.00000000e-01,\n        6.30368806e+00, 1.00159422e-01, 1.00000000e-01, 1.09989980e+00,\n        1.00000000e-01, 1.00000000e-01, 1.00000001e-01, 1.00000002e-01,\n        1.00000000e-01, 1.00001791e-01, 1.36977837e+00, 2.89944755e+00,\n        1.00002572e-01, 1.00004720e-01, 1.00002993e-01, 1.00000000e-01,\n        1.00000000e-01, 1.00002187e-01, 1.79428745e-01, 1.00000001e-01,\n        1.36323103e-01, 1.00674245e-01, 1.00000000e-01, 1.00000000e-01,\n        1.00025224e-01, 1.00000000e-01, 1.00008918e-01, 1.00013022e-01,\n        1.00000000e-01, 1.00021234e-01, 1.00000000e-01, 1.00000000e-01,\n        1.00016368e-01, 1.00025099e-01, 1.00000000e-01, 1.00351554e-01,\n        1.00023682e-01, 1.00000000e-01, 1.00020360e-01, 1.00078591e-01,\n        1.00000000e-01, 1.00000001e-01, 1.00000001e-01, 1.00050531e-01,\n        1.00076245e-01, 1.00000000e-01, 1.00025092e-01, 1.09999187e+00,\n        1.47496391e+01, 1.00050096e-01, 1.00000000e-01, 1.00045990e-01,\n        8.75512984e+01, 1.00000001e-01, 1.00000000e-01, 1.00050191e-01,\n        1.00027554e-01, 1.00015503e-01, 1.00000000e-01, 1.00013038e-01,\n        1.00000000e-01, 1.00012778e-01, 1.00000000e-01, 1.00000002e-01,\n        1.00000000e-01, 1.00000000e-01, 1.00013657e-01, 1.00006944e-01],\n       [3.21565244e+00, 1.00000001e-01, 1.00000001e-01, 1.00000001e-01,\n        1.00009389e-01, 1.00000000e-01, 1.00000000e-01, 1.00062199e-01,\n        1.00005231e-01, 1.00005306e-01, 1.00000000e-01, 2.09994677e+00,\n        1.20591685e+00, 1.00000000e-01, 1.00000000e-01, 1.00000000e-01,\n        1.00000002e-01, 1.00034724e-01, 1.00000000e-01, 2.09993922e+00,\n        1.00000000e-01, 1.00000000e-01, 1.00002687e-01, 1.00015187e-01,\n        1.00000000e-01, 1.00000000e-01, 1.00007309e-01, 1.00019407e-01,\n        1.00000000e-01, 2.04765037e+01, 1.00000000e-01, 1.00000000e-01,\n        1.00024848e-01, 1.00057274e-01, 1.00000000e-01, 1.09996726e+00,\n        1.00000000e-01, 1.00000000e-01, 1.00000001e-01, 1.00000003e-01,\n        1.00013225e-01, 1.00001411e-01, 1.00016969e-01, 1.39326770e+00,\n        1.00000001e-01, 7.09997473e+00, 1.00213335e-01, 1.09997419e+00,\n        1.09998060e+00, 1.00000000e-01, 5.39371281e+00, 1.00000001e-01,\n        8.56504618e+00, 1.00000003e-01, 1.00000000e-01, 1.00005944e-01,\n        1.00000000e-01, 1.00000000e-01, 5.20850494e+01, 1.00032297e-01,\n        2.09991401e+00, 1.00000000e-01, 1.00000000e-01, 1.00000000e-01,\n        1.00000000e-01, 2.89230905e+00, 1.00065181e-01, 1.00000002e-01,\n        7.19898409e+00, 1.00000000e-01, 4.99160544e+00, 1.75646521e+00,\n        1.00000000e-01, 1.00000001e-01, 1.00121524e-01, 1.09988413e+00,\n        2.47028892e+00, 1.00000000e-01, 7.96598943e+00, 1.00004142e-01,\n        2.41288230e+00, 1.00016747e-01, 1.00000000e-01, 1.00000000e-01,\n        2.28867870e+00, 1.00000001e-01, 1.00000000e-01, 1.00000000e-01,\n        1.00008109e-01, 1.00000000e-01, 1.00000000e-01, 1.80228597e+00,\n        1.00000000e-01, 1.00021784e-01, 1.00000000e-01, 1.00000002e-01,\n        1.00000000e-01, 1.09999095e+00, 1.99317695e-01, 1.00000000e-01],\n       [2.85009977e+00, 1.00000000e-01, 1.00000000e-01, 1.00000000e-01,\n        3.09993172e+00, 1.00000000e-01, 1.00000000e-01, 1.09990876e+00,\n        1.37666261e+00, 1.00058855e-01, 1.00007824e-01, 1.00000000e-01,\n        1.00000000e-01, 1.00000000e-01, 1.00006651e-01, 1.00025239e-01,\n        1.00000000e-01, 1.00003406e-01, 1.00000000e-01, 1.00021877e-01,\n        1.00000000e-01, 1.00000000e-01, 1.00009138e-01, 1.00007768e-01,\n        1.09986429e+00, 1.00000000e-01, 1.00007184e-01, 1.38161188e-01,\n        1.00000000e-01, 5.62911007e+01, 1.00000000e-01, 1.00000000e-01,\n        1.54183088e+01, 1.00000000e-01, 1.00000000e-01, 1.00000000e-01,\n        1.00000000e-01, 1.00000000e-01, 1.00000000e-01, 1.00501359e-01,\n        1.50999507e+01, 1.00011242e-01, 1.00036240e-01, 1.00001395e-01,\n        1.00027361e-01, 1.00015802e-01, 4.99417085e+00, 1.00004505e-01,\n        1.00000000e-01, 1.00000000e-01, 3.22639313e+00, 1.00049527e-01,\n        2.14771398e+01, 1.00000001e-01, 1.00000000e-01, 1.00000415e-01,\n        1.00000000e-01, 1.00000000e-01, 1.14905740e-01, 1.00002186e-01,\n        1.00038988e-01, 1.00061736e-01, 1.00003172e-01, 1.00000000e-01,\n        1.00000000e-01, 1.00000000e-01, 1.00000000e-01, 1.00091306e-01,\n        5.23668427e+00, 1.00037751e-01, 1.00019392e-01, 1.00016745e-01,\n        1.00000000e-01, 1.00000000e-01, 1.00073441e-01, 1.00013370e-01,\n        1.00013424e-01, 1.00006694e-01, 4.09867950e+01, 1.00000000e-01,\n        1.00014182e-01, 1.00004453e-01, 1.00000000e-01, 1.00000000e-01,\n        4.69824380e+01, 1.00023820e-01, 1.00000000e-01, 1.00000000e-01,\n        1.00000000e-01, 1.00000000e-01, 1.00000000e-01, 1.00004488e-01,\n        1.00000000e-01, 1.00023657e-01, 1.00062062e-01, 1.00000000e-01,\n        1.00000000e-01, 1.00009052e-01, 1.00000000e-01, 1.00000000e-01],\n       [1.12985500e+00, 1.00266632e-01, 1.00000000e-01, 1.09957278e+00,\n        1.00000000e-01, 1.00018710e-01, 1.00000000e-01, 1.00000000e-01,\n        1.00009406e-01, 1.00006114e-01, 1.00000000e-01, 1.00014287e-01,\n        1.09994921e+00, 1.00000000e-01, 1.00046806e-01, 1.09996614e+00,\n        1.00157756e-01, 1.24173495e+01, 1.00018730e-01, 1.00000000e-01,\n        1.00064245e-01, 1.00000000e-01, 1.00001897e-01, 1.00000000e-01,\n        1.00000000e-01, 1.09995996e+00, 5.09989411e+00, 9.24147540e+00,\n        1.00004077e-01, 1.63797988e+01, 1.00000000e-01, 1.00000000e-01,\n        1.00024103e-01, 1.09968849e+00, 1.00000000e-01, 1.00000001e-01,\n        1.09997964e+00, 1.00000000e-01, 1.00000000e-01, 1.00000002e-01,\n        1.00003842e-01, 7.45469642e+00, 1.58435916e+00, 1.00008222e-01,\n        1.09991246e+00, 1.00011601e-01, 1.00000001e-01, 1.00013403e-01,\n        1.00019400e-01, 1.00008506e-01, 1.98824338e+01, 1.00000001e-01,\n        6.44736740e+01, 1.00000002e-01, 1.09997741e+00, 1.00025710e-01,\n        1.00012263e-01, 1.00000000e-01, 1.00003866e-01, 1.00013595e-01,\n        1.00000000e-01, 1.00002963e-01, 2.09999249e+00, 1.00051822e-01,\n        1.00000000e-01, 1.00027172e-01, 1.00000000e-01, 1.00000001e-01,\n        1.46123228e+00, 1.00000000e-01, 1.00013221e-01, 1.09999545e+00,\n        1.09998221e+00, 1.00011186e-01, 1.00000000e-01, 1.00000001e-01,\n        9.04408055e+00, 1.09998506e+00, 1.21273840e+01, 1.00000000e-01,\n        1.00025894e-01, 1.00040792e-01, 1.00000000e-01, 1.00000000e-01,\n        1.00010904e-01, 1.00000000e-01, 1.00000000e-01, 1.00038987e-01,\n        1.00000000e-01, 3.09994148e+00, 1.00000000e-01, 1.00002440e-01,\n        1.00000000e-01, 1.05275114e-01, 1.09993794e+00, 1.00000001e-01,\n        1.00000000e-01, 1.00000000e-01, 1.00000000e-01, 1.00000000e-01],\n       [1.00014779e-01, 1.09952651e+00, 1.00000000e-01, 1.00000001e-01,\n        1.00000000e-01, 1.00000000e-01, 1.00000000e-01, 1.00000000e-01,\n        3.40050241e+00, 1.49471739e+02, 1.00000000e-01, 1.00000000e-01,\n        2.09998618e+00, 1.00000000e-01, 1.00089324e-01, 1.00000000e-01,\n        1.00343265e-01, 3.94419634e+00, 1.00000000e-01, 1.00020322e-01,\n        1.00000000e-01, 1.00076144e-01, 4.09998179e+00, 1.00028047e-01,\n        1.00115673e-01, 1.00000000e-01, 1.00039870e-01, 1.00000001e-01,\n        1.00045313e-01, 7.12575340e+00, 1.00000000e-01, 1.00000000e-01,\n        6.30927332e+00, 1.00056180e-01, 1.00007260e-01, 1.00000001e-01,\n        1.00000000e-01, 1.00000000e-01, 1.00097399e-01, 1.00000002e-01,\n        1.00001228e-01, 1.00438848e-01, 1.00011061e-01, 1.09990359e+00,\n        1.00000001e-01, 6.09992203e+00, 1.20575768e+00, 1.00000000e-01,\n        1.00000000e-01, 2.09989232e+00, 1.00011239e-01, 1.00000001e-01,\n        3.23279122e+01, 1.00000002e-01, 1.00000000e-01, 1.00013591e-01,\n        2.09994416e+00, 1.09996607e+00, 1.00007630e-01, 6.09998314e+00,\n        1.00000000e-01, 1.00003851e-01, 1.00000000e-01, 1.09991691e+00,\n        1.00000000e-01, 1.00000000e-01, 1.09982930e+00, 1.00904422e-01,\n        1.00007854e-01, 1.00000000e-01, 4.94806258e+00, 1.00000001e-01,\n        1.00000000e-01, 1.09956252e+00, 1.00000000e-01, 1.00000001e-01,\n        1.03381344e+01, 1.00000000e-01, 9.64301697e+00, 1.00000000e-01,\n        3.63690316e+00, 1.00000000e-01, 1.00000000e-01, 1.00000000e-01,\n        1.00010527e-01, 1.00120937e-01, 1.00000000e-01, 2.09985628e+00,\n        1.00000000e-01, 1.00005511e-01, 1.00000000e-01, 1.00005343e-01,\n        1.00069896e-01, 1.00001098e-01, 1.00000000e-01, 1.00000001e-01,\n        1.00001805e-01, 1.00000000e-01, 1.00000000e-01, 1.00000000e-01],\n       [1.00017301e-01, 1.00000001e-01, 1.00000000e-01, 1.00000001e-01,\n        1.00000000e-01, 1.00000000e-01, 1.00000000e-01, 1.00000000e-01,\n        1.00028205e-01, 2.76968903e+00, 1.09996368e+00, 1.00000000e-01,\n        1.00000000e-01, 2.10000000e+00, 1.00000000e-01, 1.00000000e-01,\n        1.00000001e-01, 1.00002080e-01, 1.00000000e-01, 1.00000000e-01,\n        1.00120320e-01, 1.09989470e+00, 1.00000000e-01, 1.00000939e-01,\n        1.00015378e-01, 1.00000000e-01, 1.00001425e-01, 4.95777625e-01,\n        1.00010431e-01, 1.21020904e+01, 1.00000000e-01, 1.00000000e-01,\n        1.00038413e-01, 1.00000000e-01, 1.09998801e+00, 1.00034049e-01,\n        1.00000000e-01, 1.00010270e-01, 1.00123486e-01, 1.00000002e-01,\n        1.00004081e-01, 1.00004965e-01, 5.38214167e+00, 1.00000000e-01,\n        1.00000000e-01, 1.00036028e-01, 1.00070641e-01, 1.00007906e-01,\n        1.00000000e-01, 1.00044472e-01, 3.81809857e+00, 1.00074528e-01,\n        1.33170299e+00, 1.00332765e-01, 1.00000000e-01, 1.00017427e-01,\n        1.00000000e-01, 1.00000000e-01, 1.00013960e-01, 1.00001768e-01,\n        1.00000000e-01, 5.09990040e+00, 1.00000000e-01, 1.00000000e-01,\n        1.09993392e+00, 1.00001558e-01, 1.00105514e-01, 1.00000001e-01,\n        1.00019922e-01, 1.00082298e-01, 2.42941432e+01, 1.00042214e-01,\n        1.00000000e-01, 1.00000001e-01, 1.00000000e-01, 1.00000001e-01,\n        4.61901266e+00, 1.00000000e-01, 2.20547179e+01, 1.00000000e-01,\n        1.00032499e-01, 1.22358737e+00, 1.00000000e-01, 1.00000000e-01,\n        2.95981987e+00, 1.09985524e+00, 1.00000000e-01, 1.00000000e-01,\n        1.00000000e-01, 1.00000000e-01, 1.09999817e+00, 1.00008638e-01,\n        1.00000000e-01, 1.35640085e-01, 1.00000000e-01, 1.09956095e+00,\n        1.00088959e-01, 1.00000000e-01, 1.00000000e-01, 1.00000000e-01]])"
     },
     "execution_count": 24,
     "metadata": {},
     "output_type": "execute_result"
    }
   ],
   "source": [
    "lda.components_[:,:100]"
   ],
   "metadata": {
    "collapsed": false,
    "ExecuteTime": {
     "end_time": "2024-01-30T00:16:11.744238Z",
     "start_time": "2024-01-30T00:16:11.726268Z"
    }
   },
   "id": "9a70261bee05c294"
  },
  {
   "cell_type": "code",
   "execution_count": 25,
   "outputs": [
    {
     "name": "stdout",
     "output_type": "stream",
     "text": [
      "Topic #0:\n",
      "flight ticket bag airline customer service refund luggage pay booked\n",
      "\n",
      "Topic #1:\n",
      "flight seat time booked air year delhi india asked wife\n",
      "\n",
      "Topic #2:\n",
      "flight hour delayed time airport delay airline day pm minute\n",
      "\n",
      "Topic #3:\n",
      "seat flight staff bangkok check airport extra leg crew room\n",
      "\n",
      "Topic #4:\n",
      "check boarding lounge airport johannesburg business class airway counter nairobi\n",
      "\n",
      "Topic #5:\n",
      "flight service air paris airline casablanca experience business doha customer\n",
      "\n",
      "Topic #6:\n",
      "flight seat food good service crew cabin class business time\n",
      "\n",
      "Topic #7:\n",
      "airline time fly service experience flight worst istanbul review flying\n",
      "\n",
      "Topic #8:\n",
      "flight time th flew airline return crew staff plane jet\n",
      "\n",
      "Topic #9:\n",
      "flight seat plane aircraft staff kuala lumpur boarding crew old\n"
     ]
    }
   ],
   "source": [
    "feature_names = vec.get_feature_names_out()\n",
    "for topic_idx, topic in enumerate(lda.components_):\n",
    "    print(\"Topic #%d:\" % topic_idx)\n",
    "    \n",
    "    print(\" \".join([feature_names[i] for i in topic.argsort()[:-11:-1]]))\n",
    "    print()\n"
   ],
   "metadata": {
    "collapsed": false,
    "ExecuteTime": {
     "end_time": "2024-01-30T00:16:11.775825Z",
     "start_time": "2024-01-30T00:16:11.738452Z"
    }
   },
   "id": "3622006529f2dea7"
  },
  {
   "cell_type": "code",
   "execution_count": 26,
   "outputs": [],
   "source": [
    "# Create a count vectorizer and fit it to the text data\n",
    "vectorizer = CountVectorizer(stop_words='english')\n",
    "X = vectorizer.fit_transform(df['Comments'])\n"
   ],
   "metadata": {
    "collapsed": false,
    "ExecuteTime": {
     "end_time": "2024-01-30T00:16:11.941326Z",
     "start_time": "2024-01-30T00:16:11.763388Z"
    }
   },
   "id": "cd48ca5701c93058"
  },
  {
   "cell_type": "code",
   "execution_count": 27,
   "outputs": [
    {
     "data": {
      "text/plain": "array(['aa', 'aaadvantage', 'aadvantage', ..., 'zurich', 'zvartnots',\n       'zya'], dtype=object)"
     },
     "execution_count": 27,
     "metadata": {},
     "output_type": "execute_result"
    }
   ],
   "source": [
    "vectorizer.get_feature_names_out()"
   ],
   "metadata": {
    "collapsed": false,
    "ExecuteTime": {
     "end_time": "2024-01-30T00:16:11.948124Z",
     "start_time": "2024-01-30T00:16:11.943609Z"
    }
   },
   "id": "77cad79b5c65051a"
  },
  {
   "cell_type": "code",
   "execution_count": 28,
   "outputs": [
    {
     "data": {
      "text/plain": "array([0, 0, 0, ..., 0, 0, 0])"
     },
     "execution_count": 28,
     "metadata": {},
     "output_type": "execute_result"
    }
   ],
   "source": [
    "X.toarray()[0]"
   ],
   "metadata": {
    "collapsed": false,
    "ExecuteTime": {
     "end_time": "2024-01-30T00:16:12.208529Z",
     "start_time": "2024-01-30T00:16:11.947130Z"
    }
   },
   "id": "5b2bd33a6fa8b52d"
  },
  {
   "cell_type": "code",
   "execution_count": 29,
   "outputs": [
    {
     "name": "stderr",
     "output_type": "stream",
     "text": [
      "/Users/surya/anaconda3/envs/Tf-metal/lib/python3.10/site-packages/sklearn/cluster/_kmeans.py:1416: FutureWarning: The default value of `n_init` will change from 10 to 'auto' in 1.4. Set the value of `n_init` explicitly to suppress the warning\n",
      "  super()._check_params_vs_input(X, default_n_init=10)\n"
     ]
    },
    {
     "data": {
      "text/plain": "KMeans(n_clusters=5, random_state=42)",
      "text/html": "<style>#sk-container-id-2 {color: black;}#sk-container-id-2 pre{padding: 0;}#sk-container-id-2 div.sk-toggleable {background-color: white;}#sk-container-id-2 label.sk-toggleable__label {cursor: pointer;display: block;width: 100%;margin-bottom: 0;padding: 0.3em;box-sizing: border-box;text-align: center;}#sk-container-id-2 label.sk-toggleable__label-arrow:before {content: \"▸\";float: left;margin-right: 0.25em;color: #696969;}#sk-container-id-2 label.sk-toggleable__label-arrow:hover:before {color: black;}#sk-container-id-2 div.sk-estimator:hover label.sk-toggleable__label-arrow:before {color: black;}#sk-container-id-2 div.sk-toggleable__content {max-height: 0;max-width: 0;overflow: hidden;text-align: left;background-color: #f0f8ff;}#sk-container-id-2 div.sk-toggleable__content pre {margin: 0.2em;color: black;border-radius: 0.25em;background-color: #f0f8ff;}#sk-container-id-2 input.sk-toggleable__control:checked~div.sk-toggleable__content {max-height: 200px;max-width: 100%;overflow: auto;}#sk-container-id-2 input.sk-toggleable__control:checked~label.sk-toggleable__label-arrow:before {content: \"▾\";}#sk-container-id-2 div.sk-estimator input.sk-toggleable__control:checked~label.sk-toggleable__label {background-color: #d4ebff;}#sk-container-id-2 div.sk-label input.sk-toggleable__control:checked~label.sk-toggleable__label {background-color: #d4ebff;}#sk-container-id-2 input.sk-hidden--visually {border: 0;clip: rect(1px 1px 1px 1px);clip: rect(1px, 1px, 1px, 1px);height: 1px;margin: -1px;overflow: hidden;padding: 0;position: absolute;width: 1px;}#sk-container-id-2 div.sk-estimator {font-family: monospace;background-color: #f0f8ff;border: 1px dotted black;border-radius: 0.25em;box-sizing: border-box;margin-bottom: 0.5em;}#sk-container-id-2 div.sk-estimator:hover {background-color: #d4ebff;}#sk-container-id-2 div.sk-parallel-item::after {content: \"\";width: 100%;border-bottom: 1px solid gray;flex-grow: 1;}#sk-container-id-2 div.sk-label:hover label.sk-toggleable__label {background-color: #d4ebff;}#sk-container-id-2 div.sk-serial::before {content: \"\";position: absolute;border-left: 1px solid gray;box-sizing: border-box;top: 0;bottom: 0;left: 50%;z-index: 0;}#sk-container-id-2 div.sk-serial {display: flex;flex-direction: column;align-items: center;background-color: white;padding-right: 0.2em;padding-left: 0.2em;position: relative;}#sk-container-id-2 div.sk-item {position: relative;z-index: 1;}#sk-container-id-2 div.sk-parallel {display: flex;align-items: stretch;justify-content: center;background-color: white;position: relative;}#sk-container-id-2 div.sk-item::before, #sk-container-id-2 div.sk-parallel-item::before {content: \"\";position: absolute;border-left: 1px solid gray;box-sizing: border-box;top: 0;bottom: 0;left: 50%;z-index: -1;}#sk-container-id-2 div.sk-parallel-item {display: flex;flex-direction: column;z-index: 1;position: relative;background-color: white;}#sk-container-id-2 div.sk-parallel-item:first-child::after {align-self: flex-end;width: 50%;}#sk-container-id-2 div.sk-parallel-item:last-child::after {align-self: flex-start;width: 50%;}#sk-container-id-2 div.sk-parallel-item:only-child::after {width: 0;}#sk-container-id-2 div.sk-dashed-wrapped {border: 1px dashed gray;margin: 0 0.4em 0.5em 0.4em;box-sizing: border-box;padding-bottom: 0.4em;background-color: white;}#sk-container-id-2 div.sk-label label {font-family: monospace;font-weight: bold;display: inline-block;line-height: 1.2em;}#sk-container-id-2 div.sk-label-container {text-align: center;}#sk-container-id-2 div.sk-container {/* jupyter's `normalize.less` sets `[hidden] { display: none; }` but bootstrap.min.css set `[hidden] { display: none !important; }` so we also need the `!important` here to be able to override the default hidden behavior on the sphinx rendered scikit-learn.org. See: https://github.com/scikit-learn/scikit-learn/issues/21755 */display: inline-block !important;position: relative;}#sk-container-id-2 div.sk-text-repr-fallback {display: none;}</style><div id=\"sk-container-id-2\" class=\"sk-top-container\"><div class=\"sk-text-repr-fallback\"><pre>KMeans(n_clusters=5, random_state=42)</pre><b>In a Jupyter environment, please rerun this cell to show the HTML representation or trust the notebook. <br />On GitHub, the HTML representation is unable to render, please try loading this page with nbviewer.org.</b></div><div class=\"sk-container\" hidden><div class=\"sk-item\"><div class=\"sk-estimator sk-toggleable\"><input class=\"sk-toggleable__control sk-hidden--visually\" id=\"sk-estimator-id-2\" type=\"checkbox\" checked><label for=\"sk-estimator-id-2\" class=\"sk-toggleable__label sk-toggleable__label-arrow\">KMeans</label><div class=\"sk-toggleable__content\"><pre>KMeans(n_clusters=5, random_state=42)</pre></div></div></div></div></div>"
     },
     "execution_count": 29,
     "metadata": {},
     "output_type": "execute_result"
    }
   ],
   "source": [
    "# Use KMeans clustering to group similar reviews together\n",
    "from sklearn.cluster import KMeans\n",
    "num_clusters = 5\n",
    "km = KMeans(n_clusters=num_clusters, random_state=42)\n",
    "km.fit(X)\n"
   ],
   "metadata": {
    "collapsed": false,
    "ExecuteTime": {
     "end_time": "2024-01-30T00:16:13.117889Z",
     "start_time": "2024-01-30T00:16:12.209045Z"
    }
   },
   "id": "d6541469167fc28"
  },
  {
   "cell_type": "code",
   "execution_count": 30,
   "outputs": [
    {
     "name": "stdout",
     "output_type": "stream",
     "text": [
      "Cluster 0:\n",
      " class\n",
      " business\n",
      " economy\n",
      " flight\n",
      " seats\n",
      " service\n",
      " seat\n",
      " food\n",
      " good\n",
      " flew\n",
      "\n",
      "Cluster 1:\n",
      " flight\n",
      " delayed\n",
      " hours\n",
      " time\n",
      " cancelled\n",
      " booked\n",
      " service\n",
      " hour\n",
      " return\n",
      " good\n",
      "\n",
      "Cluster 2:\n",
      " flight\n",
      " service\n",
      " airline\n",
      " hours\n",
      " staff\n",
      " delayed\n",
      " check\n",
      " airlines\n",
      " good\n",
      " airport\n",
      "\n",
      "Cluster 3:\n",
      " service\n",
      " airline\n",
      " check\n",
      " staff\n",
      " airlines\n",
      " flights\n",
      " flew\n",
      " good\n",
      " food\n",
      " experience\n",
      "\n",
      "Cluster 4:\n",
      " time\n",
      " flight\n",
      " flights\n",
      " service\n",
      " check\n",
      " good\n",
      " airline\n",
      " staff\n",
      " airlines\n",
      " crew\n"
     ]
    }
   ],
   "source": [
    "# Get the top terms for each cluster\n",
    "order_centroids = km.cluster_centers_.argsort()[:, ::-1]\n",
    "terms = vectorizer.get_feature_names_out()\n",
    "for i in range(num_clusters):\n",
    "    print(\"Cluster %d:\" % i)\n",
    "    for j in order_centroids[i, :10]:\n",
    "        print(' %s' % terms[j])\n",
    "    print()\n"
   ],
   "metadata": {
    "collapsed": false,
    "ExecuteTime": {
     "end_time": "2024-01-30T00:16:13.127296Z",
     "start_time": "2024-01-30T00:16:13.115296Z"
    }
   },
   "id": "bb177aa94a314f70"
  },
  {
   "cell_type": "code",
   "execution_count": 31,
   "outputs": [],
   "source": [
    "import pandas as pd\n",
    "import numpy as np\n",
    "from sklearn.feature_extraction.text import CountVectorizer\n",
    "from sklearn.decomposition import LatentDirichletAllocation\n",
    "from nltk.sentiment.vader import SentimentIntensityAnalyzer"
   ],
   "metadata": {
    "collapsed": false,
    "ExecuteTime": {
     "end_time": "2024-01-30T00:16:13.407239Z",
     "start_time": "2024-01-30T00:16:13.126326Z"
    }
   },
   "id": "12c1da8e942841ef"
  },
  {
   "cell_type": "code",
   "execution_count": 32,
   "outputs": [],
   "source": [
    "vectorizer = CountVectorizer(stop_words='english')\n",
    "X = vectorizer.fit_transform(df['Comments'])"
   ],
   "metadata": {
    "collapsed": false,
    "ExecuteTime": {
     "end_time": "2024-01-30T00:16:13.582994Z",
     "start_time": "2024-01-30T00:16:13.416210Z"
    }
   },
   "id": "531273a26cc9f1a"
  },
  {
   "cell_type": "code",
   "execution_count": 33,
   "outputs": [
    {
     "data": {
      "text/plain": "LatentDirichletAllocation(random_state=42)",
      "text/html": "<style>#sk-container-id-3 {color: black;}#sk-container-id-3 pre{padding: 0;}#sk-container-id-3 div.sk-toggleable {background-color: white;}#sk-container-id-3 label.sk-toggleable__label {cursor: pointer;display: block;width: 100%;margin-bottom: 0;padding: 0.3em;box-sizing: border-box;text-align: center;}#sk-container-id-3 label.sk-toggleable__label-arrow:before {content: \"▸\";float: left;margin-right: 0.25em;color: #696969;}#sk-container-id-3 label.sk-toggleable__label-arrow:hover:before {color: black;}#sk-container-id-3 div.sk-estimator:hover label.sk-toggleable__label-arrow:before {color: black;}#sk-container-id-3 div.sk-toggleable__content {max-height: 0;max-width: 0;overflow: hidden;text-align: left;background-color: #f0f8ff;}#sk-container-id-3 div.sk-toggleable__content pre {margin: 0.2em;color: black;border-radius: 0.25em;background-color: #f0f8ff;}#sk-container-id-3 input.sk-toggleable__control:checked~div.sk-toggleable__content {max-height: 200px;max-width: 100%;overflow: auto;}#sk-container-id-3 input.sk-toggleable__control:checked~label.sk-toggleable__label-arrow:before {content: \"▾\";}#sk-container-id-3 div.sk-estimator input.sk-toggleable__control:checked~label.sk-toggleable__label {background-color: #d4ebff;}#sk-container-id-3 div.sk-label input.sk-toggleable__control:checked~label.sk-toggleable__label {background-color: #d4ebff;}#sk-container-id-3 input.sk-hidden--visually {border: 0;clip: rect(1px 1px 1px 1px);clip: rect(1px, 1px, 1px, 1px);height: 1px;margin: -1px;overflow: hidden;padding: 0;position: absolute;width: 1px;}#sk-container-id-3 div.sk-estimator {font-family: monospace;background-color: #f0f8ff;border: 1px dotted black;border-radius: 0.25em;box-sizing: border-box;margin-bottom: 0.5em;}#sk-container-id-3 div.sk-estimator:hover {background-color: #d4ebff;}#sk-container-id-3 div.sk-parallel-item::after {content: \"\";width: 100%;border-bottom: 1px solid gray;flex-grow: 1;}#sk-container-id-3 div.sk-label:hover label.sk-toggleable__label {background-color: #d4ebff;}#sk-container-id-3 div.sk-serial::before {content: \"\";position: absolute;border-left: 1px solid gray;box-sizing: border-box;top: 0;bottom: 0;left: 50%;z-index: 0;}#sk-container-id-3 div.sk-serial {display: flex;flex-direction: column;align-items: center;background-color: white;padding-right: 0.2em;padding-left: 0.2em;position: relative;}#sk-container-id-3 div.sk-item {position: relative;z-index: 1;}#sk-container-id-3 div.sk-parallel {display: flex;align-items: stretch;justify-content: center;background-color: white;position: relative;}#sk-container-id-3 div.sk-item::before, #sk-container-id-3 div.sk-parallel-item::before {content: \"\";position: absolute;border-left: 1px solid gray;box-sizing: border-box;top: 0;bottom: 0;left: 50%;z-index: -1;}#sk-container-id-3 div.sk-parallel-item {display: flex;flex-direction: column;z-index: 1;position: relative;background-color: white;}#sk-container-id-3 div.sk-parallel-item:first-child::after {align-self: flex-end;width: 50%;}#sk-container-id-3 div.sk-parallel-item:last-child::after {align-self: flex-start;width: 50%;}#sk-container-id-3 div.sk-parallel-item:only-child::after {width: 0;}#sk-container-id-3 div.sk-dashed-wrapped {border: 1px dashed gray;margin: 0 0.4em 0.5em 0.4em;box-sizing: border-box;padding-bottom: 0.4em;background-color: white;}#sk-container-id-3 div.sk-label label {font-family: monospace;font-weight: bold;display: inline-block;line-height: 1.2em;}#sk-container-id-3 div.sk-label-container {text-align: center;}#sk-container-id-3 div.sk-container {/* jupyter's `normalize.less` sets `[hidden] { display: none; }` but bootstrap.min.css set `[hidden] { display: none !important; }` so we also need the `!important` here to be able to override the default hidden behavior on the sphinx rendered scikit-learn.org. See: https://github.com/scikit-learn/scikit-learn/issues/21755 */display: inline-block !important;position: relative;}#sk-container-id-3 div.sk-text-repr-fallback {display: none;}</style><div id=\"sk-container-id-3\" class=\"sk-top-container\"><div class=\"sk-text-repr-fallback\"><pre>LatentDirichletAllocation(random_state=42)</pre><b>In a Jupyter environment, please rerun this cell to show the HTML representation or trust the notebook. <br />On GitHub, the HTML representation is unable to render, please try loading this page with nbviewer.org.</b></div><div class=\"sk-container\" hidden><div class=\"sk-item\"><div class=\"sk-estimator sk-toggleable\"><input class=\"sk-toggleable__control sk-hidden--visually\" id=\"sk-estimator-id-3\" type=\"checkbox\" checked><label for=\"sk-estimator-id-3\" class=\"sk-toggleable__label sk-toggleable__label-arrow\">LatentDirichletAllocation</label><div class=\"sk-toggleable__content\"><pre>LatentDirichletAllocation(random_state=42)</pre></div></div></div></div></div>"
     },
     "execution_count": 33,
     "metadata": {},
     "output_type": "execute_result"
    }
   ],
   "source": [
    "num_topics = 10\n",
    "lda = LatentDirichletAllocation(n_components=num_topics, random_state=42)\n",
    "lda.fit(X)"
   ],
   "metadata": {
    "collapsed": false,
    "ExecuteTime": {
     "end_time": "2024-01-30T00:16:31.361033Z",
     "start_time": "2024-01-30T00:16:13.584131Z"
    }
   },
   "id": "e9e8e85563c17275"
  },
  {
   "cell_type": "code",
   "execution_count": 34,
   "outputs": [],
   "source": [
    "# Initialize the VADER sentiment analyzer\n",
    "sia = SentimentIntensityAnalyzer()"
   ],
   "metadata": {
    "collapsed": false,
    "ExecuteTime": {
     "end_time": "2024-01-30T00:16:31.383783Z",
     "start_time": "2024-01-30T00:16:31.359638Z"
    }
   },
   "id": "347c0d3ba4f2e147"
  },
  {
   "cell_type": "code",
   "execution_count": 35,
   "outputs": [
    {
     "data": {
      "text/plain": "array(['aa', 'aaadvantage', 'aadvantage', ..., 'zurich', 'zvartnots',\n       'zya'], dtype=object)"
     },
     "execution_count": 35,
     "metadata": {},
     "output_type": "execute_result"
    }
   ],
   "source": [
    "vectorizer.get_feature_names_out()"
   ],
   "metadata": {
    "collapsed": false,
    "ExecuteTime": {
     "end_time": "2024-01-30T00:16:31.403278Z",
     "start_time": "2024-01-30T00:16:31.391010Z"
    }
   },
   "id": "483afa16ca7e352"
  },
  {
   "cell_type": "code",
   "execution_count": 36,
   "outputs": [
    {
     "data": {
      "text/plain": "(10, 13911)"
     },
     "execution_count": 36,
     "metadata": {},
     "output_type": "execute_result"
    }
   ],
   "source": [
    "lda.components_.shape"
   ],
   "metadata": {
    "collapsed": false,
    "ExecuteTime": {
     "end_time": "2024-01-30T00:16:31.403687Z",
     "start_time": "2024-01-30T00:16:31.396521Z"
    }
   },
   "id": "770c159f4714f85f"
  },
  {
   "cell_type": "code",
   "execution_count": 37,
   "outputs": [
    {
     "name": "stdout",
     "output_type": "stream",
     "text": [
      "Topic #0:\n",
      "Top words:  ['airways', 'bangkok', 'airlines', 'time', 'flown', 'flights', 'flying', 'flight', 'airport', 'qatar']\n",
      "Sentiment polarity scores:  [0.0, 0.0, 0.0, 0.0, 0.0, 0.0, 0.0, 0.0, 0.0, 0.0]\n",
      "Average sentiment polarity score:  0.0\n",
      "\n",
      "Topic #1:\n",
      "Top words:  ['class', 'business', 'economy', 'seats', 'seat', 'new', 'airlines', 'flew', 'service', 'air']\n",
      "Sentiment polarity scores:  [0.0, 0.0, 0.0, 0.0, 0.0, 0.0, 0.0, 0.0, 0.0, 0.0]\n",
      "Average sentiment polarity score:  0.0\n",
      "\n",
      "Topic #2:\n",
      "Top words:  ['flight', 'cancelled', 'booked', 'delayed', 'hours', 'airline', 'worst', 'flights', 'trip', 'fly']\n",
      "Sentiment polarity scores:  [0.0, -0.25, 0.0, -0.2263, 0.0, 0.0, -0.6249, 0.0, 0.0, 0.0]\n",
      "Average sentiment polarity score:  -0.11012\n",
      "\n",
      "Topic #3:\n",
      "Top words:  ['service', 'customer', 'check', 'flight', 'airlines', 'addis', 'booking', 'online', 'ababa', 'ticket']\n",
      "Sentiment polarity scores:  [0.0, 0.0, 0.0, 0.0, 0.0, 0.0, 0.0, 0.0, 0.0, 0.0]\n",
      "Average sentiment polarity score:  0.0\n",
      "\n",
      "Topic #4:\n",
      "Top words:  ['crew', 'staff', 'cabin', 'flight', 'check', 'service', 'good', 'friendly', 'time', 'food']\n",
      "Sentiment polarity scores:  [0.0, 0.0, 0.0, 0.0, 0.0, 0.0, 0.4404, 0.4939, 0.0, 0.0]\n",
      "Average sentiment polarity score:  0.09343\n",
      "\n",
      "Topic #5:\n",
      "Top words:  ['flight', 'food', 'good', 'service', 'seats', 'entertainment', 'time', 'return', 'flights', 'staff']\n",
      "Sentiment polarity scores:  [0.0, 0.0, 0.4404, 0.0, 0.0, 0.4215, 0.0, 0.0, 0.0, 0.0]\n",
      "Average sentiment polarity score:  0.08619\n",
      "\n",
      "Topic #6:\n",
      "Top words:  ['airline', 'flight', 'hour', 'plane', 'worst', 'delay', 'time', 'airlines', 'service', 'luggage']\n",
      "Sentiment polarity scores:  [0.0, 0.0, 0.0, 0.0, -0.6249, -0.3182, 0.0, 0.0, 0.0, 0.0]\n",
      "Average sentiment polarity score:  -0.09431\n",
      "\n",
      "Topic #7:\n",
      "Top words:  ['flight', 'air', 'dubai', 'london', 'time', 'muscat', 'kuala', 'lumpur', 'delayed', 'arrived']\n",
      "Sentiment polarity scores:  [0.0, 0.0, 0.0, 0.0, 0.0, 0.0, 0.0, 0.0, -0.2263, 0.0]\n",
      "Average sentiment polarity score:  -0.02263\n",
      "\n",
      "Topic #8:\n",
      "Top words:  ['check', 'flight', 'luggage', 'bag', 'airport', 'airline', 'baggage', 'ticket', 'extra', 'istanbul']\n",
      "Sentiment polarity scores:  [0.0, 0.0, 0.0, 0.0, 0.0, 0.0, 0.0, 0.0, 0.0, 0.0]\n",
      "Average sentiment polarity score:  0.0\n",
      "\n",
      "Topic #9:\n",
      "Top words:  ['flight', 'hours', 'delayed', 'th', 'time', 'experience', 'air', 'madrid', 'boarding', 'airport']\n",
      "Sentiment polarity scores:  [0.0, 0.0, -0.2263, 0.0, 0.0, 0.0, 0.0, 0.0, 0.0, 0.0]\n",
      "Average sentiment polarity score:  -0.02263\n"
     ]
    }
   ],
   "source": [
    "# Print the top 10 words and sentiment polarity scores for each topic\n",
    "feature_names = vectorizer.get_feature_names_out()\n",
    "for topic_idx, topic in enumerate(lda.components_):\n",
    "    print(\"Topic #%d:\" % topic_idx)\n",
    "    top_words = [feature_names[i] for i in topic.argsort()[:-11:-1]]\n",
    "    sentiment_scores = []\n",
    "    for word in top_words:\n",
    "        scores = sia.polarity_scores(word)\n",
    "        sentiment_scores.append(scores['compound'])\n",
    "    print(\"Top words: \", top_words)\n",
    "    print(\"Sentiment polarity scores: \", sentiment_scores)\n",
    "    print(\"Average sentiment polarity score: \", np.mean(sentiment_scores))\n",
    "    print()"
   ],
   "metadata": {
    "collapsed": false,
    "ExecuteTime": {
     "end_time": "2024-01-30T00:16:31.476065Z",
     "start_time": "2024-01-30T00:16:31.402712Z"
    }
   },
   "id": "dd02d3dbd60fc828"
  },
  {
   "cell_type": "code",
   "execution_count": 38,
   "outputs": [],
   "source": [
    "# Import necessary libraries\n",
    "import pandas as pd\n",
    "import numpy as np\n",
    "import seaborn as sns\n",
    "import matplotlib.pyplot as plt\n",
    "\n",
    "from sklearn.feature_extraction.text import CountVectorizer, TfidfVectorizer\n",
    "from sklearn.cluster import KMeans\n",
    "from sklearn.metrics import silhouette_score, confusion_matrix, classification_report\n",
    "from sklearn.model_selection import train_test_split\n",
    "from sklearn.naive_bayes import MultinomialNB\n"
   ],
   "metadata": {
    "collapsed": false,
    "ExecuteTime": {
     "end_time": "2024-01-30T00:16:31.476270Z",
     "start_time": "2024-01-30T00:16:31.428857Z"
    }
   },
   "id": "86f4fe0bc84f0b11"
  },
  {
   "cell_type": "code",
   "execution_count": 39,
   "outputs": [
    {
     "data": {
      "text/plain": "KMeans(n_clusters=5, n_init=10, random_state=42)",
      "text/html": "<style>#sk-container-id-4 {color: black;}#sk-container-id-4 pre{padding: 0;}#sk-container-id-4 div.sk-toggleable {background-color: white;}#sk-container-id-4 label.sk-toggleable__label {cursor: pointer;display: block;width: 100%;margin-bottom: 0;padding: 0.3em;box-sizing: border-box;text-align: center;}#sk-container-id-4 label.sk-toggleable__label-arrow:before {content: \"▸\";float: left;margin-right: 0.25em;color: #696969;}#sk-container-id-4 label.sk-toggleable__label-arrow:hover:before {color: black;}#sk-container-id-4 div.sk-estimator:hover label.sk-toggleable__label-arrow:before {color: black;}#sk-container-id-4 div.sk-toggleable__content {max-height: 0;max-width: 0;overflow: hidden;text-align: left;background-color: #f0f8ff;}#sk-container-id-4 div.sk-toggleable__content pre {margin: 0.2em;color: black;border-radius: 0.25em;background-color: #f0f8ff;}#sk-container-id-4 input.sk-toggleable__control:checked~div.sk-toggleable__content {max-height: 200px;max-width: 100%;overflow: auto;}#sk-container-id-4 input.sk-toggleable__control:checked~label.sk-toggleable__label-arrow:before {content: \"▾\";}#sk-container-id-4 div.sk-estimator input.sk-toggleable__control:checked~label.sk-toggleable__label {background-color: #d4ebff;}#sk-container-id-4 div.sk-label input.sk-toggleable__control:checked~label.sk-toggleable__label {background-color: #d4ebff;}#sk-container-id-4 input.sk-hidden--visually {border: 0;clip: rect(1px 1px 1px 1px);clip: rect(1px, 1px, 1px, 1px);height: 1px;margin: -1px;overflow: hidden;padding: 0;position: absolute;width: 1px;}#sk-container-id-4 div.sk-estimator {font-family: monospace;background-color: #f0f8ff;border: 1px dotted black;border-radius: 0.25em;box-sizing: border-box;margin-bottom: 0.5em;}#sk-container-id-4 div.sk-estimator:hover {background-color: #d4ebff;}#sk-container-id-4 div.sk-parallel-item::after {content: \"\";width: 100%;border-bottom: 1px solid gray;flex-grow: 1;}#sk-container-id-4 div.sk-label:hover label.sk-toggleable__label {background-color: #d4ebff;}#sk-container-id-4 div.sk-serial::before {content: \"\";position: absolute;border-left: 1px solid gray;box-sizing: border-box;top: 0;bottom: 0;left: 50%;z-index: 0;}#sk-container-id-4 div.sk-serial {display: flex;flex-direction: column;align-items: center;background-color: white;padding-right: 0.2em;padding-left: 0.2em;position: relative;}#sk-container-id-4 div.sk-item {position: relative;z-index: 1;}#sk-container-id-4 div.sk-parallel {display: flex;align-items: stretch;justify-content: center;background-color: white;position: relative;}#sk-container-id-4 div.sk-item::before, #sk-container-id-4 div.sk-parallel-item::before {content: \"\";position: absolute;border-left: 1px solid gray;box-sizing: border-box;top: 0;bottom: 0;left: 50%;z-index: -1;}#sk-container-id-4 div.sk-parallel-item {display: flex;flex-direction: column;z-index: 1;position: relative;background-color: white;}#sk-container-id-4 div.sk-parallel-item:first-child::after {align-self: flex-end;width: 50%;}#sk-container-id-4 div.sk-parallel-item:last-child::after {align-self: flex-start;width: 50%;}#sk-container-id-4 div.sk-parallel-item:only-child::after {width: 0;}#sk-container-id-4 div.sk-dashed-wrapped {border: 1px dashed gray;margin: 0 0.4em 0.5em 0.4em;box-sizing: border-box;padding-bottom: 0.4em;background-color: white;}#sk-container-id-4 div.sk-label label {font-family: monospace;font-weight: bold;display: inline-block;line-height: 1.2em;}#sk-container-id-4 div.sk-label-container {text-align: center;}#sk-container-id-4 div.sk-container {/* jupyter's `normalize.less` sets `[hidden] { display: none; }` but bootstrap.min.css set `[hidden] { display: none !important; }` so we also need the `!important` here to be able to override the default hidden behavior on the sphinx rendered scikit-learn.org. See: https://github.com/scikit-learn/scikit-learn/issues/21755 */display: inline-block !important;position: relative;}#sk-container-id-4 div.sk-text-repr-fallback {display: none;}</style><div id=\"sk-container-id-4\" class=\"sk-top-container\"><div class=\"sk-text-repr-fallback\"><pre>KMeans(n_clusters=5, n_init=10, random_state=42)</pre><b>In a Jupyter environment, please rerun this cell to show the HTML representation or trust the notebook. <br />On GitHub, the HTML representation is unable to render, please try loading this page with nbviewer.org.</b></div><div class=\"sk-container\" hidden><div class=\"sk-item\"><div class=\"sk-estimator sk-toggleable\"><input class=\"sk-toggleable__control sk-hidden--visually\" id=\"sk-estimator-id-4\" type=\"checkbox\" checked><label for=\"sk-estimator-id-4\" class=\"sk-toggleable__label sk-toggleable__label-arrow\">KMeans</label><div class=\"sk-toggleable__content\"><pre>KMeans(n_clusters=5, n_init=10, random_state=42)</pre></div></div></div></div></div>"
     },
     "execution_count": 39,
     "metadata": {},
     "output_type": "execute_result"
    }
   ],
   "source": [
    "# Load the dataset\n",
    "reviews_df = pd.read_csv(\"../datasets/ProcessedData.csv\")\n",
    "\n",
    "# Perform clustering using K-Means algorithm\n",
    "tfidf_vectorizer = TfidfVectorizer(stop_words='english')\n",
    "tfidf = tfidf_vectorizer.fit_transform(reviews_df['Review'])\n",
    "kmeans = KMeans(n_clusters=5, init='k-means++', max_iter=300, n_init=10, random_state=42)\n",
    "kmeans.fit(tfidf)"
   ],
   "metadata": {
    "collapsed": false,
    "ExecuteTime": {
     "end_time": "2024-01-30T00:16:32.791911Z",
     "start_time": "2024-01-30T00:16:31.436987Z"
    }
   },
   "id": "47fdef4cdc5e2dc"
  },
  {
   "cell_type": "code",
   "execution_count": 40,
   "outputs": [
    {
     "data": {
      "text/plain": "array(['aa', 'aaadvantage', 'aadvantage', ..., 'zurich', 'zvartnots',\n       'zya'], dtype=object)"
     },
     "execution_count": 40,
     "metadata": {},
     "output_type": "execute_result"
    }
   ],
   "source": [
    "tfidf_vectorizer.get_feature_names_out()"
   ],
   "metadata": {
    "collapsed": false,
    "ExecuteTime": {
     "end_time": "2024-01-30T00:16:32.828907Z",
     "start_time": "2024-01-30T00:16:32.791454Z"
    }
   },
   "id": "a4e918434e35deb4"
  },
  {
   "cell_type": "code",
   "execution_count": 41,
   "outputs": [
    {
     "data": {
      "text/plain": "(18634, 15622)"
     },
     "execution_count": 41,
     "metadata": {},
     "output_type": "execute_result"
    }
   ],
   "source": [
    "tfidf.toarray().shape"
   ],
   "metadata": {
    "collapsed": false,
    "ExecuteTime": {
     "end_time": "2024-01-30T00:16:33.134147Z",
     "start_time": "2024-01-30T00:16:32.796612Z"
    }
   },
   "id": "dd73c36e8fa619c4"
  },
  {
   "cell_type": "code",
   "execution_count": 42,
   "outputs": [
    {
     "data": {
      "text/plain": "array([3.45330914e-04, 0.00000000e+00, 0.00000000e+00, ...,\n       4.20944054e-03, 8.86027519e-05, 0.00000000e+00])"
     },
     "execution_count": 42,
     "metadata": {},
     "output_type": "execute_result"
    }
   ],
   "source": [
    "kmeans.cluster_centers_[0]"
   ],
   "metadata": {
    "collapsed": false,
    "ExecuteTime": {
     "end_time": "2024-01-30T00:16:33.137264Z",
     "start_time": "2024-01-30T00:16:33.133779Z"
    }
   },
   "id": "52d202f0cc672b02"
  },
  {
   "cell_type": "code",
   "execution_count": 43,
   "outputs": [
    {
     "data": {
      "text/plain": "<Figure size 640x480 with 1 Axes>",
      "image/png": "[encoded data removed]"
     },
     "metadata": {},
     "output_type": "display_data"
    }
   ],
   "source": [
    "# Determine the optimal number of clusters\n",
    "max_clusters = 10\n",
    "silhouette_scores = []\n",
    "\n",
    "for k in range(2, max_clusters):\n",
    "    kmeans = KMeans(n_clusters=k, init='k-means++', max_iter=300, n_init=10, random_state=42)\n",
    "    kmeans.fit(tfidf)\n",
    "    silhouette_scores.append(silhouette_score(tfidf, kmeans.labels_))\n",
    "\n",
    "plt.plot(range(2, max_clusters), silhouette_scores)\n",
    "plt.title('Silhouette Score for K-Means Clustering')\n",
    "plt.xlabel('Number of Clusters')\n",
    "plt.ylabel('Silhouette Score')\n",
    "plt.show()\n"
   ],
   "metadata": {
    "collapsed": false,
    "ExecuteTime": {
     "end_time": "2024-01-30T00:17:39.495721Z",
     "start_time": "2024-01-30T00:16:33.138855Z"
    }
   },
   "id": "410e3e7b33cc5d7a"
  },
  {
   "cell_type": "code",
   "execution_count": 44,
   "outputs": [
    {
     "data": {
      "text/plain": "(18634,)"
     },
     "execution_count": 44,
     "metadata": {},
     "output_type": "execute_result"
    }
   ],
   "source": [
    "kmeans.labels_.shape"
   ],
   "metadata": {
    "collapsed": false,
    "ExecuteTime": {
     "end_time": "2024-01-30T00:17:39.501099Z",
     "start_time": "2024-01-30T00:17:39.493503Z"
    }
   },
   "id": "3425afcaf45a12d7"
  },
  {
   "cell_type": "code",
   "execution_count": 45,
   "outputs": [
    {
     "data": {
      "text/plain": "       Unnamed: 0.1  Unnamed: 0          AirName  \\\n0                 0           0          airasia   \n1                 1           1          airasia   \n2                 2           2          airasia   \n3                 3           3          airasia   \n4                 4           4          airasia   \n...             ...         ...              ...   \n18629         18629       18816  united-airlines   \n18630         18630       18817  united-airlines   \n18631         18631       18818  united-airlines   \n18632         18632       18819  united-airlines   \n18633         18633       18820  united-airlines   \n\n                                                Comments  DateFlown  \\\n0      according their check in process  they mention...       1022   \n1      nice  uneventful short flight  clean aircraft ...       1122   \n2      never again with airasia  i wish i could have ...       1122   \n3      my wife has problems with her knees and has gr...       1022   \n4      my flight was suppose to be at      pm on     ...       1022   \n...                                                  ...        ...   \n18629  my whole experience this evening  from an hour...        322   \n18630  united is the most unorganized airline in exis...        322   \n18631  we flew from fl to houston on february   th an...        222   \n18632  stuck in denver for almost    hours because yo...        322   \n18633  we had a connecting flight through newark new ...        322   \n\n                                                  Review  EntertainmentRating  \\\n0      according check process mentioned able start o...                    1   \n1      nice uneventful short flight clean aircraft su...                    0   \n2      never airasia wish could given star coming loy...                    0   \n3      wife problem knee great difficulty stair notif...                    0   \n4      flight suppose pm flight got delayed pm waited...                    0   \n...                                                  ...                  ...   \n18629  whole experience evening hour getting security...                    1   \n18630  united unorganized airline existence way handl...                    1   \n18631  flew fl houston february th great experience h...                    0   \n18632  stuck denver almost hour wanted book tight lay...                    1   \n18633  connecting flight newark new york made u pull ...                    3   \n\n       FoodRating  GroundServiceRating  OverallScore  Recommended  ReviewDate  \\\n0               1                    1             1            0        1122   \n1               0                    5             9            1        1122   \n2               1                    1             1            0        1122   \n3               0                    1             2            1        1122   \n4               0                    1             1            0        1122   \n...           ...                  ...           ...          ...         ...   \n18629           1                    1             1            0         322   \n18630           1                    1             1            0         322   \n18631           5                    5            10            1         322   \n18632           1                    1             1            0         322   \n18633           3                    1             1            0         322   \n\n                                ReviewTitle ReviewrCountry  SeatComfortRating  \\\n0                                bring food       Malaysia                  1   \n1              nice uneventful short flight       Malaysia                  4   \n2                             never airasia       Malaysia                  1   \n3                     time board wheelchair       Malaysia                  1   \n4                            bad experience       Malaysia                  1   \n...                                     ...            ...                ...   \n18629  made feel like cattle united airline  United States                  1   \n18630                                  clue  United States                  1   \n18631   flight attendant blessing attentive  United States                  5   \n18632                      never fly united  United States                  1   \n18633             lug bag around whole time  United States                  3   \n\n            SeatType  ServiceRating  ValueRating  WifiRating  \n0      Economy Class              3            2           1  \n1      Economy Class              5            5           0  \n2      Economy Class              1            2           0  \n3      Economy Class              1            1           0  \n4      Economy Class              1            1           0  \n...              ...            ...          ...         ...  \n18629  Economy Class              2            1           0  \n18630  Economy Class              1            1           1  \n18631  Economy Class              5            5           0  \n18632  Economy Class              1            1           0  \n18633  Economy Class              3            1           4  \n\n[18634 rows x 19 columns]",
      "text/html": "<div>\n<style scoped>\n    .dataframe tbody tr th:only-of-type {\n        vertical-align: middle;\n    }\n\n    .dataframe tbody tr th {\n        vertical-align: top;\n    }\n\n    .dataframe thead th {\n        text-align: right;\n    }\n</style>\n<table border=\"1\" class=\"dataframe\">\n  <thead>\n    <tr style=\"text-align: right;\">\n      <th></th>\n      <th>Unnamed: 0.1</th>\n      <th>Unnamed: 0</th>\n      <th>AirName</th>\n      <th>Comments</th>\n      <th>DateFlown</th>\n      <th>Review</th>\n      <th>EntertainmentRating</th>\n      <th>FoodRating</th>\n      <th>GroundServiceRating</th>\n      <th>OverallScore</th>\n      <th>Recommended</th>\n      <th>ReviewDate</th>\n      <th>ReviewTitle</th>\n      <th>ReviewrCountry</th>\n      <th>SeatComfortRating</th>\n      <th>SeatType</th>\n      <th>ServiceRating</th>\n      <th>ValueRating</th>\n      <th>WifiRating</th>\n    </tr>\n  </thead>\n  <tbody>\n    <tr>\n      <th>0</th>\n      <td>0</td>\n      <td>0</td>\n      <td>airasia</td>\n      <td>according their check in process  they mention...</td>\n      <td>1022</td>\n      <td>according check process mentioned able start o...</td>\n      <td>1</td>\n      <td>1</td>\n      <td>1</td>\n      <td>1</td>\n      <td>0</td>\n      <td>1122</td>\n      <td>bring food</td>\n      <td>Malaysia</td>\n      <td>1</td>\n      <td>Economy Class</td>\n      <td>3</td>\n      <td>2</td>\n      <td>1</td>\n    </tr>\n    <tr>\n      <th>1</th>\n      <td>1</td>\n      <td>1</td>\n      <td>airasia</td>\n      <td>nice  uneventful short flight  clean aircraft ...</td>\n      <td>1122</td>\n      <td>nice uneventful short flight clean aircraft su...</td>\n      <td>0</td>\n      <td>0</td>\n      <td>5</td>\n      <td>9</td>\n      <td>1</td>\n      <td>1122</td>\n      <td>nice uneventful short flight</td>\n      <td>Malaysia</td>\n      <td>4</td>\n      <td>Economy Class</td>\n      <td>5</td>\n      <td>5</td>\n      <td>0</td>\n    </tr>\n    <tr>\n      <th>2</th>\n      <td>2</td>\n      <td>2</td>\n      <td>airasia</td>\n      <td>never again with airasia  i wish i could have ...</td>\n      <td>1122</td>\n      <td>never airasia wish could given star coming loy...</td>\n      <td>0</td>\n      <td>1</td>\n      <td>1</td>\n      <td>1</td>\n      <td>0</td>\n      <td>1122</td>\n      <td>never airasia</td>\n      <td>Malaysia</td>\n      <td>1</td>\n      <td>Economy Class</td>\n      <td>1</td>\n      <td>2</td>\n      <td>0</td>\n    </tr>\n    <tr>\n      <th>3</th>\n      <td>3</td>\n      <td>3</td>\n      <td>airasia</td>\n      <td>my wife has problems with her knees and has gr...</td>\n      <td>1022</td>\n      <td>wife problem knee great difficulty stair notif...</td>\n      <td>0</td>\n      <td>0</td>\n      <td>1</td>\n      <td>2</td>\n      <td>1</td>\n      <td>1122</td>\n      <td>time board wheelchair</td>\n      <td>Malaysia</td>\n      <td>1</td>\n      <td>Economy Class</td>\n      <td>1</td>\n      <td>1</td>\n      <td>0</td>\n    </tr>\n    <tr>\n      <th>4</th>\n      <td>4</td>\n      <td>4</td>\n      <td>airasia</td>\n      <td>my flight was suppose to be at      pm on     ...</td>\n      <td>1022</td>\n      <td>flight suppose pm flight got delayed pm waited...</td>\n      <td>0</td>\n      <td>0</td>\n      <td>1</td>\n      <td>1</td>\n      <td>0</td>\n      <td>1122</td>\n      <td>bad experience</td>\n      <td>Malaysia</td>\n      <td>1</td>\n      <td>Economy Class</td>\n      <td>1</td>\n      <td>1</td>\n      <td>0</td>\n    </tr>\n    <tr>\n      <th>...</th>\n      <td>...</td>\n      <td>...</td>\n      <td>...</td>\n      <td>...</td>\n      <td>...</td>\n      <td>...</td>\n      <td>...</td>\n      <td>...</td>\n      <td>...</td>\n      <td>...</td>\n      <td>...</td>\n      <td>...</td>\n      <td>...</td>\n      <td>...</td>\n      <td>...</td>\n      <td>...</td>\n      <td>...</td>\n      <td>...</td>\n      <td>...</td>\n    </tr>\n    <tr>\n      <th>18629</th>\n      <td>18629</td>\n      <td>18816</td>\n      <td>united-airlines</td>\n      <td>my whole experience this evening  from an hour...</td>\n      <td>322</td>\n      <td>whole experience evening hour getting security...</td>\n      <td>1</td>\n      <td>1</td>\n      <td>1</td>\n      <td>1</td>\n      <td>0</td>\n      <td>322</td>\n      <td>made feel like cattle united airline</td>\n      <td>United States</td>\n      <td>1</td>\n      <td>Economy Class</td>\n      <td>2</td>\n      <td>1</td>\n      <td>0</td>\n    </tr>\n    <tr>\n      <th>18630</th>\n      <td>18630</td>\n      <td>18817</td>\n      <td>united-airlines</td>\n      <td>united is the most unorganized airline in exis...</td>\n      <td>322</td>\n      <td>united unorganized airline existence way handl...</td>\n      <td>1</td>\n      <td>1</td>\n      <td>1</td>\n      <td>1</td>\n      <td>0</td>\n      <td>322</td>\n      <td>clue</td>\n      <td>United States</td>\n      <td>1</td>\n      <td>Economy Class</td>\n      <td>1</td>\n      <td>1</td>\n      <td>1</td>\n    </tr>\n    <tr>\n      <th>18631</th>\n      <td>18631</td>\n      <td>18818</td>\n      <td>united-airlines</td>\n      <td>we flew from fl to houston on february   th an...</td>\n      <td>222</td>\n      <td>flew fl houston february th great experience h...</td>\n      <td>0</td>\n      <td>5</td>\n      <td>5</td>\n      <td>10</td>\n      <td>1</td>\n      <td>322</td>\n      <td>flight attendant blessing attentive</td>\n      <td>United States</td>\n      <td>5</td>\n      <td>Economy Class</td>\n      <td>5</td>\n      <td>5</td>\n      <td>0</td>\n    </tr>\n    <tr>\n      <th>18632</th>\n      <td>18632</td>\n      <td>18819</td>\n      <td>united-airlines</td>\n      <td>stuck in denver for almost    hours because yo...</td>\n      <td>322</td>\n      <td>stuck denver almost hour wanted book tight lay...</td>\n      <td>1</td>\n      <td>1</td>\n      <td>1</td>\n      <td>1</td>\n      <td>0</td>\n      <td>322</td>\n      <td>never fly united</td>\n      <td>United States</td>\n      <td>1</td>\n      <td>Economy Class</td>\n      <td>1</td>\n      <td>1</td>\n      <td>0</td>\n    </tr>\n    <tr>\n      <th>18633</th>\n      <td>18633</td>\n      <td>18820</td>\n      <td>united-airlines</td>\n      <td>we had a connecting flight through newark new ...</td>\n      <td>322</td>\n      <td>connecting flight newark new york made u pull ...</td>\n      <td>3</td>\n      <td>3</td>\n      <td>1</td>\n      <td>1</td>\n      <td>0</td>\n      <td>322</td>\n      <td>lug bag around whole time</td>\n      <td>United States</td>\n      <td>3</td>\n      <td>Economy Class</td>\n      <td>3</td>\n      <td>1</td>\n      <td>4</td>\n    </tr>\n  </tbody>\n</table>\n<p>18634 rows × 19 columns</p>\n</div>"
     },
     "execution_count": 45,
     "metadata": {},
     "output_type": "execute_result"
    }
   ],
   "source": [
    "reviews_df"
   ],
   "metadata": {
    "collapsed": false,
    "ExecuteTime": {
     "end_time": "2024-01-30T00:17:39.514130Z",
     "start_time": "2024-01-30T00:17:39.500504Z"
    }
   },
   "id": "18108419f6aea0b7"
  },
  {
   "cell_type": "code",
   "execution_count": 46,
   "outputs": [
    {
     "name": "stdout",
     "output_type": "stream",
     "text": [
      "[[49  1  0 ...  2  0  0]\n",
      " [ 0 70  0 ...  0  0  0]\n",
      " [ 1  0 56 ...  2  0  1]\n",
      " ...\n",
      " [ 0  1  0 ... 37  2  1]\n",
      " [ 0  0  0 ...  0 56  0]\n",
      " [ 0  2  0 ...  1  0 40]]\n",
      "                                     precision    recall  f1-score   support\n",
      "\n",
      "                          Air India       0.63      0.56      0.59        88\n",
      "                                Ana       0.56      0.84      0.68        83\n",
      "                         air-europa       0.80      0.73      0.76        77\n",
      "                         air-france       0.68      0.64      0.66        67\n",
      "                    air-new-zealand       0.76      0.68      0.72        73\n",
      "                            airasia       0.72      0.28      0.41        46\n",
      "                  american-airlines       0.33      0.47      0.39        74\n",
      "                  austrian-airlines       0.88      0.68      0.76        77\n",
      "                    bangkok-airways       0.76      0.94      0.84        78\n",
      "                    british-airways       0.73      0.49      0.58        76\n",
      "                           emirates       0.64      0.51      0.57        81\n",
      "                 ethiopian-airlines       0.81      0.82      0.81        72\n",
      "                           flydubai       0.81      0.58      0.68        65\n",
      "                  frontier-airlines       0.48      0.55      0.51        88\n",
      "                           gulf-air       0.74      0.84      0.79        69\n",
      "                  hawaiian-airlines       0.88      0.72      0.79        95\n",
      "                    indigo-airlines       0.64      0.69      0.66        80\n",
      "                     japan-airlines       0.61      0.57      0.59        89\n",
      "                           jet2-com       0.63      0.84      0.72        70\n",
      "                      kenya-airways       0.82      0.74      0.78        82\n",
      "                         korean-air       0.73      0.81      0.77        96\n",
      "                          lufthansa       0.64      0.41      0.50        85\n",
      "                  malaysia-airlines       0.80      0.76      0.78        98\n",
      "                   monarch-airlines       0.86      0.72      0.79        61\n",
      "                           oman-air       0.68      0.83      0.75        78\n",
      "                   pegasus-airlines       0.78      0.73      0.76        74\n",
      "                philippine-airlines       0.71      0.59      0.65        71\n",
      "pia-pakistan-international-airlines       1.00      0.17      0.29        30\n",
      "                    porter-airlines       0.97      0.65      0.78        60\n",
      "                     qantas-airways       0.68      0.53      0.60        73\n",
      "                      qatar-airways       0.58      0.62      0.60        72\n",
      "                    royal-air-maroc       0.98      0.79      0.87        62\n",
      "              royal-brunei-airlines       0.86      0.88      0.87        74\n",
      "           royal-jordanian-airlines       0.94      0.61      0.74        79\n",
      "                            ryanair       0.53      0.67      0.59        73\n",
      "          sas-scandinavian-airlines       0.71      0.74      0.72        72\n",
      "             saudi-arabian-airlines       0.84      0.56      0.68        96\n",
      "                              scoot       0.65      0.72      0.69        68\n",
      "                 singapore-airlines       0.36      0.54      0.43        65\n",
      "              south-african-airways       0.76      0.84      0.80        80\n",
      "                 southwest-airlines       0.49      0.65      0.56        71\n",
      "                           spicejet       0.55      0.72      0.62        61\n",
      "                    spirit-airlines       0.32      0.59      0.41        73\n",
      "                 srilankan-airlines       0.00      0.00      0.00        23\n",
      "               sun-country-airlines       1.00      0.58      0.73        62\n",
      "                   sunwing-airlines       0.71      0.84      0.77        74\n",
      "      swiss-international-air-lines       0.86      0.69      0.77        74\n",
      "                              swoop       0.50      0.86      0.63        70\n",
      "                   turkish-airlines       0.44      0.46      0.45        80\n",
      "     ukraine-international-airlines       0.79      0.84      0.81        67\n",
      "                    united-airlines       0.54      0.53      0.54        75\n",
      "\n",
      "                           accuracy                           0.67      3727\n",
      "                          macro avg       0.69      0.65      0.65      3727\n",
      "                       weighted avg       0.69      0.67      0.67      3727\n"
     ]
    },
    {
     "name": "stderr",
     "output_type": "stream",
     "text": [
      "/Users/surya/anaconda3/envs/Tf-metal/lib/python3.10/site-packages/sklearn/metrics/_classification.py:1471: UndefinedMetricWarning: Precision and F-score are ill-defined and being set to 0.0 in labels with no predicted samples. Use `zero_division` parameter to control this behavior.\n",
      "  _warn_prf(average, modifier, msg_start, len(result))\n",
      "/Users/surya/anaconda3/envs/Tf-metal/lib/python3.10/site-packages/sklearn/metrics/_classification.py:1471: UndefinedMetricWarning: Precision and F-score are ill-defined and being set to 0.0 in labels with no predicted samples. Use `zero_division` parameter to control this behavior.\n",
      "  _warn_prf(average, modifier, msg_start, len(result))\n",
      "/Users/surya/anaconda3/envs/Tf-metal/lib/python3.10/site-packages/sklearn/metrics/_classification.py:1471: UndefinedMetricWarning: Precision and F-score are ill-defined and being set to 0.0 in labels with no predicted samples. Use `zero_division` parameter to control this behavior.\n",
      "  _warn_prf(average, modifier, msg_start, len(result))\n"
     ]
    }
   ],
   "source": [
    "# Perform classification using Naive Bayes algorithm\n",
    "X_train, X_test, y_train, y_test = train_test_split(reviews_df['Review'], reviews_df['AirName'], test_size=0.2, random_state=42)\n",
    "count_vectorizer = CountVectorizer(stop_words='english')\n",
    "X_train_counts = count_vectorizer.fit_transform(X_train)\n",
    "X_test_counts = count_vectorizer.transform(X_test)\n",
    "nb_classifier = MultinomialNB()\n",
    "nb_classifier.fit(X_train_counts, y_train)\n",
    "y_pred = nb_classifier.predict(X_test_counts)\n",
    "\n",
    "# Evaluate the classification results\n",
    "print(confusion_matrix(y_test, y_pred))\n",
    "print(classification_report(y_test, y_pred))\n"
   ],
   "metadata": {
    "collapsed": false,
    "ExecuteTime": {
     "end_time": "2024-01-30T00:17:39.827662Z",
     "start_time": "2024-01-30T00:17:39.515543Z"
    }
   },
   "id": "7b295018774b06f6"
  },
  {
   "cell_type": "code",
   "execution_count": 47,
   "outputs": [
    {
     "data": {
      "text/plain": "                                    Unnamed: 0.1                       \\\n                                           count     mean         std   \nAirName                                                                 \nAir India                                  390.0   1213.5  112.727548   \nAna                                        390.0   2383.5  112.727548   \nair-europa                                 390.0    433.5  112.727548   \nair-france                                 390.0    823.5  112.727548   \nair-new-zealand                            390.0   1603.5  112.727548   \nairasia                                    239.0    119.0   69.137544   \namerican-airlines                          390.0   1993.5  112.727548   \naustrian-airlines                          390.0   2773.5  112.727548   \nbangkok-airways                            390.0   3163.5  112.727548   \nbritish-airways                            390.0   3553.5  112.727548   \nemirates                                   390.0   3943.5  112.727548   \nethiopian-airlines                         390.0   4333.5  112.727548   \nflydubai                                   336.0   4696.5   97.139076   \nfrontier-airlines                          390.0   5059.5  112.727548   \ngulf-air                                   350.0   5429.5  101.180532   \nhawaiian-airlines                          390.0   5799.5  112.727548   \nindigo-airlines                            389.0   6189.0  112.438872   \njapan-airlines                             382.0   6574.5  110.418145   \njet2-com                                   385.0   6958.0  111.284171   \nkenya-airways                              387.0   7344.0  111.861522   \nkorean-air                                 390.0   7732.5  112.727548   \nlufthansa                                  390.0   8122.5  112.727548   \nmalaysia-airlines                          390.0   8512.5  112.727548   \nmonarch-airlines                           318.0   8866.5   91.942917   \noman-air                                   390.0   9220.5  112.727548   \npegasus-airlines                           368.0   9599.5  106.376689   \nphilippine-airlines                        390.0   9978.5  112.727548   \npia-pakistan-international-airlines        146.0  10246.5   42.290661   \nporter-airlines                            301.0  10470.0   87.035433   \nqantas-airways                             390.0  10815.5  112.727548   \nqatar-airways                              390.0  11205.5  112.727548   \nroyal-air-maroc                            310.0  11555.5   89.633513   \nroyal-brunei-airlines                      349.0  11885.0  100.891856   \nroyal-jordanian-airlines                   350.0  12234.5  101.180532   \nryanair                                    390.0  12604.5  112.727548   \nsas-scandinavian-airlines                  390.0  12994.5  112.727548   \nsaudi-arabian-airlines                     359.0  13369.0  103.778611   \nscoot                                      390.0  13743.5  112.727548   \nsingapore-airlines                         390.0  14133.5  112.727548   \nsouth-african-airways                      390.0  14523.5  112.727548   \nsouthwest-airlines                         390.0  14913.5  112.727548   \nspicejet                                   390.0  15303.5  112.727548   \nspirit-airlines                            390.0  15693.5  112.727548   \nsrilankan-airlines                         127.0  15952.0   36.805797   \nsun-country-airlines                       297.0  16164.0   85.880731   \nsunwing-airlines                           384.0  16504.5  110.995495   \nswiss-international-air-lines              390.0  16891.5  112.727548   \nswoop                                      390.0  17281.5  112.727548   \nturkish-airlines                           390.0  17671.5  112.727548   \nukraine-international-airlines             377.0  18055.0  108.974768   \nunited-airlines                            390.0  18438.5  112.727548   \n\n                                                                           \\\n                                         min       25%      50%       75%   \nAirName                                                                     \nAir India                             1019.0   1116.25   1213.5   1310.75   \nAna                                   2189.0   2286.25   2383.5   2480.75   \nair-europa                             239.0    336.25    433.5    530.75   \nair-france                             629.0    726.25    823.5    920.75   \nair-new-zealand                       1409.0   1506.25   1603.5   1700.75   \nairasia                                  0.0     59.50    119.0    178.50   \namerican-airlines                     1799.0   1896.25   1993.5   2090.75   \naustrian-airlines                     2579.0   2676.25   2773.5   2870.75   \nbangkok-airways                       2969.0   3066.25   3163.5   3260.75   \nbritish-airways                       3359.0   3456.25   3553.5   3650.75   \nemirates                              3749.0   3846.25   3943.5   4040.75   \nethiopian-airlines                    4139.0   4236.25   4333.5   4430.75   \nflydubai                              4529.0   4612.75   4696.5   4780.25   \nfrontier-airlines                     4865.0   4962.25   5059.5   5156.75   \ngulf-air                              5255.0   5342.25   5429.5   5516.75   \nhawaiian-airlines                     5605.0   5702.25   5799.5   5896.75   \nindigo-airlines                       5995.0   6092.00   6189.0   6286.00   \njapan-airlines                        6384.0   6479.25   6574.5   6669.75   \njet2-com                              6766.0   6862.00   6958.0   7054.00   \nkenya-airways                         7151.0   7247.50   7344.0   7440.50   \nkorean-air                            7538.0   7635.25   7732.5   7829.75   \nlufthansa                             7928.0   8025.25   8122.5   8219.75   \nmalaysia-airlines                     8318.0   8415.25   8512.5   8609.75   \nmonarch-airlines                      8708.0   8787.25   8866.5   8945.75   \noman-air                              9026.0   9123.25   9220.5   9317.75   \npegasus-airlines                      9416.0   9507.75   9599.5   9691.25   \nphilippine-airlines                   9784.0   9881.25   9978.5  10075.75   \npia-pakistan-international-airlines  10174.0  10210.25  10246.5  10282.75   \nporter-airlines                      10320.0  10395.00  10470.0  10545.00   \nqantas-airways                       10621.0  10718.25  10815.5  10912.75   \nqatar-airways                        11011.0  11108.25  11205.5  11302.75   \nroyal-air-maroc                      11401.0  11478.25  11555.5  11632.75   \nroyal-brunei-airlines                11711.0  11798.00  11885.0  11972.00   \nroyal-jordanian-airlines             12060.0  12147.25  12234.5  12321.75   \nryanair                              12410.0  12507.25  12604.5  12701.75   \nsas-scandinavian-airlines            12800.0  12897.25  12994.5  13091.75   \nsaudi-arabian-airlines               13190.0  13279.50  13369.0  13458.50   \nscoot                                13549.0  13646.25  13743.5  13840.75   \nsingapore-airlines                   13939.0  14036.25  14133.5  14230.75   \nsouth-african-airways                14329.0  14426.25  14523.5  14620.75   \nsouthwest-airlines                   14719.0  14816.25  14913.5  15010.75   \nspicejet                             15109.0  15206.25  15303.5  15400.75   \nspirit-airlines                      15499.0  15596.25  15693.5  15790.75   \nsrilankan-airlines                   15889.0  15920.50  15952.0  15983.50   \nsun-country-airlines                 16016.0  16090.00  16164.0  16238.00   \nsunwing-airlines                     16313.0  16408.75  16504.5  16600.25   \nswiss-international-air-lines        16697.0  16794.25  16891.5  16988.75   \nswoop                                17087.0  17184.25  17281.5  17378.75   \nturkish-airlines                     17477.0  17574.25  17671.5  17768.75   \nukraine-international-airlines       17867.0  17961.00  18055.0  18149.00   \nunited-airlines                      18244.0  18341.25  18438.5  18535.75   \n\n                                             Unnamed: 0           ...  \\\n                                         max      count     mean  ...   \nAirName                                                           ...   \nAir India                             1408.0      390.0   1213.5  ...   \nAna                                   2578.0      390.0   2418.5  ...   \nair-europa                             628.0      390.0    433.5  ...   \nair-france                            1018.0      390.0    823.5  ...   \nair-new-zealand                       1798.0      390.0   1634.5  ...   \nairasia                                238.0      239.0    119.0  ...   \namerican-airlines                     2188.0      390.0   2028.5  ...   \naustrian-airlines                     2968.0      390.0   2817.5  ...   \nbangkok-airways                       3358.0      390.0   3229.5  ...   \nbritish-airways                       3748.0      390.0   3624.5  ...   \nemirates                              4138.0      390.0   4014.5  ...   \nethiopian-airlines                    4528.0      390.0   4404.5  ...   \nflydubai                              4864.0      336.0   4767.5  ...   \nfrontier-airlines                     5254.0      390.0   5130.5  ...   \ngulf-air                              5604.0      350.0   5500.5  ...   \nhawaiian-airlines                     5994.0      390.0   5870.5  ...   \nindigo-airlines                       6383.0      389.0   6260.0  ...   \njapan-airlines                        6765.0      382.0   6645.5  ...   \njet2-com                              7150.0      385.0   7029.0  ...   \nkenya-airways                         7537.0      387.0   7415.0  ...   \nkorean-air                            7927.0      390.0   7803.5  ...   \nlufthansa                             8317.0      390.0   8193.5  ...   \nmalaysia-airlines                     8707.0      390.0   8583.5  ...   \nmonarch-airlines                      9025.0      318.0   8937.5  ...   \noman-air                              9415.0      390.0   9407.5  ...   \npegasus-airlines                      9783.0      368.0   9786.5  ...   \nphilippine-airlines                  10173.0      390.0  10165.5  ...   \npia-pakistan-international-airlines  10319.0      146.0  10433.5  ...   \nporter-airlines                      10620.0      301.0  10657.0  ...   \nqantas-airways                       11010.0      390.0  11002.5  ...   \nqatar-airways                        11400.0      390.0  11392.5  ...   \nroyal-air-maroc                      11710.0      310.0  11742.5  ...   \nroyal-brunei-airlines                12059.0      349.0  12072.0  ...   \nroyal-jordanian-airlines             12409.0      350.0  12421.5  ...   \nryanair                              12799.0      390.0  12791.5  ...   \nsas-scandinavian-airlines            13189.0      390.0  13181.5  ...   \nsaudi-arabian-airlines               13548.0      359.0  13556.0  ...   \nscoot                                13938.0      390.0  13930.5  ...   \nsingapore-airlines                   14328.0      390.0  14320.5  ...   \nsouth-african-airways                14718.0      390.0  14710.5  ...   \nsouthwest-airlines                   15108.0      390.0  15100.5  ...   \nspicejet                             15498.0      390.0  15490.5  ...   \nspirit-airlines                      15888.0      390.0  15880.5  ...   \nsrilankan-airlines                   16015.0      127.0  16139.0  ...   \nsun-country-airlines                 16312.0      297.0  16351.0  ...   \nsunwing-airlines                     16696.0      384.0  16691.5  ...   \nswiss-international-air-lines        17086.0      390.0  17078.5  ...   \nswoop                                17476.0      390.0  17468.5  ...   \nturkish-airlines                     17866.0      390.0  17858.5  ...   \nukraine-international-airlines       18243.0      377.0  18242.0  ...   \nunited-airlines                      18633.0      390.0  18625.5  ...   \n\n                                    ValueRating      WifiRating            \\\n                                            75%  max      count      mean   \nAirName                                                                     \nAir India                                  3.00  5.0      390.0  0.425641   \nAna                                        5.00  5.0      390.0  0.817949   \nair-europa                                 3.75  5.0      390.0  0.364103   \nair-france                                 4.00  5.0      390.0  0.923077   \nair-new-zealand                            4.00  5.0      390.0  0.579487   \nairasia                                    3.00  5.0      239.0  0.213389   \namerican-airlines                          1.00  5.0      390.0  1.015385   \naustrian-airlines                          4.00  5.0      390.0  0.346154   \nbangkok-airways                            5.00  5.0      390.0  0.056410   \nbritish-airways                            4.00  5.0      390.0  0.769231   \nemirates                                   4.00  5.0      390.0  1.389744   \nethiopian-airlines                         4.00  5.0      390.0  0.312821   \nflydubai                                   4.00  5.0      336.0  0.428571   \nfrontier-airlines                          1.00  5.0      390.0  0.389744   \ngulf-air                                   4.00  5.0      350.0  0.242857   \nhawaiian-airlines                          4.00  5.0      390.0  0.448718   \nindigo-airlines                            5.00  5.0      389.0  0.169666   \njapan-airlines                             5.00  5.0      382.0  0.654450   \njet2-com                                   5.00  5.0      385.0  0.142857   \nkenya-airways                              4.00  5.0      387.0  0.198966   \nkorean-air                                 5.00  5.0      390.0  0.264103   \nlufthansa                                  3.00  5.0      390.0  0.725641   \nmalaysia-airlines                          4.00  5.0      390.0  0.374359   \nmonarch-airlines                           4.00  5.0      318.0  0.028302   \noman-air                                   5.00  5.0      390.0  0.471795   \npegasus-airlines                           4.00  5.0      368.0  0.152174   \nphilippine-airlines                        5.00  5.0      390.0  1.156410   \npia-pakistan-international-airlines        4.00  5.0      146.0  0.157534   \nporter-airlines                            4.00  5.0      301.0  0.136213   \nqantas-airways                             3.00  5.0      390.0  0.771795   \nqatar-airways                              5.00  5.0      390.0  2.482051   \nroyal-air-maroc                            4.00  5.0      310.0  0.270968   \nroyal-brunei-airlines                      5.00  5.0      349.0  0.128940   \nroyal-jordanian-airlines                   4.00  5.0      350.0  0.262857   \nryanair                                    3.00  5.0      390.0  0.233333   \nsas-scandinavian-airlines                  3.00  5.0      390.0  0.846154   \nsaudi-arabian-airlines                     4.00  5.0      359.0  0.660167   \nscoot                                      4.00  5.0      390.0  0.443590   \nsingapore-airlines                         5.00  5.0      390.0  1.297436   \nsouth-african-airways                      4.00  5.0      390.0  0.097436   \nsouthwest-airlines                         3.00  5.0      390.0  1.087179   \nspicejet                                   4.00  5.0      390.0  0.548718   \nspirit-airlines                            1.00  5.0      390.0  0.558974   \nsrilankan-airlines                         5.00  5.0      127.0  0.519685   \nsun-country-airlines                       3.00  5.0      297.0  0.454545   \nsunwing-airlines                           3.00  5.0      384.0  0.317708   \nswiss-international-air-lines              4.00  5.0      390.0  0.553846   \nswoop                                      2.00  5.0      390.0  0.302564   \nturkish-airlines                           3.00  5.0      390.0  0.969231   \nukraine-international-airlines             4.00  5.0      377.0  0.299735   \nunited-airlines                            2.00  5.0      390.0  1.115385   \n\n                                                                         \n                                          std  min  25%  50%   75%  max  \nAirName                                                                  \nAir India                            0.667543  0.0  0.0  0.0  1.00  5.0  \nAna                                  1.650796  0.0  0.0  0.0  0.00  5.0  \nair-europa                           0.827387  0.0  0.0  0.0  0.00  5.0  \nair-france                           1.631701  0.0  0.0  0.0  1.00  5.0  \nair-new-zealand                      1.245079  0.0  0.0  0.0  1.00  5.0  \nairasia                              0.667735  0.0  0.0  0.0  0.00  5.0  \namerican-airlines                    1.274536  0.0  0.0  1.0  1.00  5.0  \naustrian-airlines                    0.869756  0.0  0.0  0.0  0.00  5.0  \nbangkok-airways                      0.395212  0.0  0.0  0.0  0.00  5.0  \nbritish-airways                      1.481012  0.0  0.0  0.0  1.00  5.0  \nemirates                             1.623066  0.0  0.0  1.0  3.00  5.0  \nethiopian-airlines                   0.869116  0.0  0.0  0.0  0.00  5.0  \nflydubai                             0.850436  0.0  0.0  0.0  1.00  5.0  \nfrontier-airlines                    0.592930  0.0  0.0  0.0  1.00  5.0  \ngulf-air                             0.822947  0.0  0.0  0.0  0.00  5.0  \nhawaiian-airlines                    0.986378  0.0  0.0  0.0  1.00  5.0  \nindigo-airlines                      0.693865  0.0  0.0  0.0  0.00  5.0  \njapan-airlines                       1.490466  0.0  0.0  0.0  0.00  5.0  \njet2-com                             0.631514  0.0  0.0  0.0  0.00  5.0  \nkenya-airways                        0.614336  0.0  0.0  0.0  0.00  5.0  \nkorean-air                           0.940105  0.0  0.0  0.0  0.00  5.0  \nlufthansa                            1.231176  0.0  0.0  0.0  1.00  5.0  \nmalaysia-airlines                    0.947658  0.0  0.0  0.0  0.00  5.0  \nmonarch-airlines                     0.200514  0.0  0.0  0.0  0.00  2.0  \noman-air                             1.148588  0.0  0.0  0.0  0.00  5.0  \npegasus-airlines                     0.402574  0.0  0.0  0.0  0.00  3.0  \nphilippine-airlines                  1.705472  0.0  0.0  0.0  2.00  5.0  \npia-pakistan-international-airlines  0.450109  0.0  0.0  0.0  0.00  3.0  \nporter-airlines                      0.421961  0.0  0.0  0.0  0.00  3.0  \nqantas-airways                       1.326698  0.0  0.0  0.0  1.00  5.0  \nqatar-airways                        2.205027  0.0  0.0  3.0  5.00  5.0  \nroyal-air-maroc                      1.000386  0.0  0.0  0.0  0.00  5.0  \nroyal-brunei-airlines                0.688989  0.0  0.0  0.0  0.00  5.0  \nroyal-jordanian-airlines             0.632947  0.0  0.0  0.0  0.00  4.0  \nryanair                              0.573105  0.0  0.0  0.0  0.00  5.0  \nsas-scandinavian-airlines            1.313142  0.0  0.0  0.0  1.00  5.0  \nsaudi-arabian-airlines               1.244586  0.0  0.0  0.0  1.00  5.0  \nscoot                                0.996471  0.0  0.0  0.0  0.75  5.0  \nsingapore-airlines                   1.883153  0.0  0.0  0.0  3.00  5.0  \nsouth-african-airways                0.448641  0.0  0.0  0.0  0.00  4.0  \nsouthwest-airlines                   1.365227  0.0  0.0  1.0  1.00  5.0  \nspicejet                             1.165677  0.0  0.0  0.0  1.00  5.0  \nspirit-airlines                      0.775830  0.0  0.0  0.0  1.00  5.0  \nsrilankan-airlines                   1.037781  0.0  0.0  0.0  1.00  5.0  \nsun-country-airlines                 0.865316  0.0  0.0  0.0  1.00  5.0  \nsunwing-airlines                     0.735592  0.0  0.0  0.0  0.00  5.0  \nswiss-international-air-lines        1.264880  0.0  0.0  0.0  0.00  5.0  \nswoop                                0.792473  0.0  0.0  0.0  0.00  5.0  \nturkish-airlines                     1.456861  0.0  0.0  0.0  1.00  5.0  \nukraine-international-airlines       0.562881  0.0  0.0  0.0  1.00  5.0  \nunited-airlines                      1.304341  0.0  0.0  1.0  1.00  5.0  \n\n[51 rows x 104 columns]",
      "text/html": "<div>\n<style scoped>\n    .dataframe tbody tr th:only-of-type {\n        vertical-align: middle;\n    }\n\n    .dataframe tbody tr th {\n        vertical-align: top;\n    }\n\n    .dataframe thead tr th {\n        text-align: left;\n    }\n\n    .dataframe thead tr:last-of-type th {\n        text-align: right;\n    }\n</style>\n<table border=\"1\" class=\"dataframe\">\n  <thead>\n    <tr>\n      <th></th>\n      <th colspan=\"8\" halign=\"left\">Unnamed: 0.1</th>\n      <th colspan=\"2\" halign=\"left\">Unnamed: 0</th>\n      <th>...</th>\n      <th colspan=\"2\" halign=\"left\">ValueRating</th>\n      <th colspan=\"8\" halign=\"left\">WifiRating</th>\n    </tr>\n    <tr>\n      <th></th>\n      <th>count</th>\n      <th>mean</th>\n      <th>std</th>\n      <th>min</th>\n      <th>25%</th>\n      <th>50%</th>\n      <th>75%</th>\n      <th>max</th>\n      <th>count</th>\n      <th>mean</th>\n      <th>...</th>\n      <th>75%</th>\n      <th>max</th>\n      <th>count</th>\n      <th>mean</th>\n      <th>std</th>\n      <th>min</th>\n      <th>25%</th>\n      <th>50%</th>\n      <th>75%</th>\n      <th>max</th>\n    </tr>\n    <tr>\n      <th>AirName</th>\n      <th></th>\n      <th></th>\n      <th></th>\n      <th></th>\n      <th></th>\n      <th></th>\n      <th></th>\n      <th></th>\n      <th></th>\n      <th></th>\n      <th></th>\n      <th></th>\n      <th></th>\n      <th></th>\n      <th></th>\n      <th></th>\n      <th></th>\n      <th></th>\n      <th></th>\n      <th></th>\n      <th></th>\n    </tr>\n  </thead>\n  <tbody>\n    <tr>\n      <th>Air India</th>\n      <td>390.0</td>\n      <td>1213.5</td>\n      <td>112.727548</td>\n      <td>1019.0</td>\n      <td>1116.25</td>\n      <td>1213.5</td>\n      <td>1310.75</td>\n      <td>1408.0</td>\n      <td>390.0</td>\n      <td>1213.5</td>\n      <td>...</td>\n      <td>3.00</td>\n      <td>5.0</td>\n      <td>390.0</td>\n      <td>0.425641</td>\n      <td>0.667543</td>\n      <td>0.0</td>\n      <td>0.0</td>\n      <td>0.0</td>\n      <td>1.00</td>\n      <td>5.0</td>\n    </tr>\n    <tr>\n      <th>Ana</th>\n      <td>390.0</td>\n      <td>2383.5</td>\n      <td>112.727548</td>\n      <td>2189.0</td>\n      <td>2286.25</td>\n      <td>2383.5</td>\n      <td>2480.75</td>\n      <td>2578.0</td>\n      <td>390.0</td>\n      <td>2418.5</td>\n      <td>...</td>\n      <td>5.00</td>\n      <td>5.0</td>\n      <td>390.0</td>\n      <td>0.817949</td>\n      <td>1.650796</td>\n      <td>0.0</td>\n      <td>0.0</td>\n      <td>0.0</td>\n      <td>0.00</td>\n      <td>5.0</td>\n    </tr>\n    <tr>\n      <th>air-europa</th>\n      <td>390.0</td>\n      <td>433.5</td>\n      <td>112.727548</td>\n      <td>239.0</td>\n      <td>336.25</td>\n      <td>433.5</td>\n      <td>530.75</td>\n      <td>628.0</td>\n      <td>390.0</td>\n      <td>433.5</td>\n      <td>...</td>\n      <td>3.75</td>\n      <td>5.0</td>\n      <td>390.0</td>\n      <td>0.364103</td>\n      <td>0.827387</td>\n      <td>0.0</td>\n      <td>0.0</td>\n      <td>0.0</td>\n      <td>0.00</td>\n      <td>5.0</td>\n    </tr>\n    <tr>\n      <th>air-france</th>\n      <td>390.0</td>\n      <td>823.5</td>\n      <td>112.727548</td>\n      <td>629.0</td>\n      <td>726.25</td>\n      <td>823.5</td>\n      <td>920.75</td>\n      <td>1018.0</td>\n      <td>390.0</td>\n      <td>823.5</td>\n      <td>...</td>\n      <td>4.00</td>\n      <td>5.0</td>\n      <td>390.0</td>\n      <td>0.923077</td>\n      <td>1.631701</td>\n      <td>0.0</td>\n      <td>0.0</td>\n      <td>0.0</td>\n      <td>1.00</td>\n      <td>5.0</td>\n    </tr>\n    <tr>\n      <th>air-new-zealand</th>\n      <td>390.0</td>\n      <td>1603.5</td>\n      <td>112.727548</td>\n      <td>1409.0</td>\n      <td>1506.25</td>\n      <td>1603.5</td>\n      <td>1700.75</td>\n      <td>1798.0</td>\n      <td>390.0</td>\n      <td>1634.5</td>\n      <td>...</td>\n      <td>4.00</td>\n      <td>5.0</td>\n      <td>390.0</td>\n      <td>0.579487</td>\n      <td>1.245079</td>\n      <td>0.0</td>\n      <td>0.0</td>\n      <td>0.0</td>\n      <td>1.00</td>\n      <td>5.0</td>\n    </tr>\n    <tr>\n      <th>airasia</th>\n      <td>239.0</td>\n      <td>119.0</td>\n      <td>69.137544</td>\n      <td>0.0</td>\n      <td>59.50</td>\n      <td>119.0</td>\n      <td>178.50</td>\n      <td>238.0</td>\n      <td>239.0</td>\n      <td>119.0</td>\n      <td>...</td>\n      <td>3.00</td>\n      <td>5.0</td>\n      <td>239.0</td>\n      <td>0.213389</td>\n      <td>0.667735</td>\n      <td>0.0</td>\n      <td>0.0</td>\n      <td>0.0</td>\n      <td>0.00</td>\n      <td>5.0</td>\n    </tr>\n    <tr>\n      <th>american-airlines</th>\n      <td>390.0</td>\n      <td>1993.5</td>\n      <td>112.727548</td>\n      <td>1799.0</td>\n      <td>1896.25</td>\n      <td>1993.5</td>\n      <td>2090.75</td>\n      <td>2188.0</td>\n      <td>390.0</td>\n      <td>2028.5</td>\n      <td>...</td>\n      <td>1.00</td>\n      <td>5.0</td>\n      <td>390.0</td>\n      <td>1.015385</td>\n      <td>1.274536</td>\n      <td>0.0</td>\n      <td>0.0</td>\n      <td>1.0</td>\n      <td>1.00</td>\n      <td>5.0</td>\n    </tr>\n    <tr>\n      <th>austrian-airlines</th>\n      <td>390.0</td>\n      <td>2773.5</td>\n      <td>112.727548</td>\n      <td>2579.0</td>\n      <td>2676.25</td>\n      <td>2773.5</td>\n      <td>2870.75</td>\n      <td>2968.0</td>\n      <td>390.0</td>\n      <td>2817.5</td>\n      <td>...</td>\n      <td>4.00</td>\n      <td>5.0</td>\n      <td>390.0</td>\n      <td>0.346154</td>\n      <td>0.869756</td>\n      <td>0.0</td>\n      <td>0.0</td>\n      <td>0.0</td>\n      <td>0.00</td>\n      <td>5.0</td>\n    </tr>\n    <tr>\n      <th>bangkok-airways</th>\n      <td>390.0</td>\n      <td>3163.5</td>\n      <td>112.727548</td>\n      <td>2969.0</td>\n      <td>3066.25</td>\n      <td>3163.5</td>\n      <td>3260.75</td>\n      <td>3358.0</td>\n      <td>390.0</td>\n      <td>3229.5</td>\n      <td>...</td>\n      <td>5.00</td>\n      <td>5.0</td>\n      <td>390.0</td>\n      <td>0.056410</td>\n      <td>0.395212</td>\n      <td>0.0</td>\n      <td>0.0</td>\n      <td>0.0</td>\n      <td>0.00</td>\n      <td>5.0</td>\n    </tr>\n    <tr>\n      <th>british-airways</th>\n      <td>390.0</td>\n      <td>3553.5</td>\n      <td>112.727548</td>\n      <td>3359.0</td>\n      <td>3456.25</td>\n      <td>3553.5</td>\n      <td>3650.75</td>\n      <td>3748.0</td>\n      <td>390.0</td>\n      <td>3624.5</td>\n      <td>...</td>\n      <td>4.00</td>\n      <td>5.0</td>\n      <td>390.0</td>\n      <td>0.769231</td>\n      <td>1.481012</td>\n      <td>0.0</td>\n      <td>0.0</td>\n      <td>0.0</td>\n      <td>1.00</td>\n      <td>5.0</td>\n    </tr>\n    <tr>\n      <th>emirates</th>\n      <td>390.0</td>\n      <td>3943.5</td>\n      <td>112.727548</td>\n      <td>3749.0</td>\n      <td>3846.25</td>\n      <td>3943.5</td>\n      <td>4040.75</td>\n      <td>4138.0</td>\n      <td>390.0</td>\n      <td>4014.5</td>\n      <td>...</td>\n      <td>4.00</td>\n      <td>5.0</td>\n      <td>390.0</td>\n      <td>1.389744</td>\n      <td>1.623066</td>\n      <td>0.0</td>\n      <td>0.0</td>\n      <td>1.0</td>\n      <td>3.00</td>\n      <td>5.0</td>\n    </tr>\n    <tr>\n      <th>ethiopian-airlines</th>\n      <td>390.0</td>\n      <td>4333.5</td>\n      <td>112.727548</td>\n      <td>4139.0</td>\n      <td>4236.25</td>\n      <td>4333.5</td>\n      <td>4430.75</td>\n      <td>4528.0</td>\n      <td>390.0</td>\n      <td>4404.5</td>\n      <td>...</td>\n      <td>4.00</td>\n      <td>5.0</td>\n      <td>390.0</td>\n      <td>0.312821</td>\n      <td>0.869116</td>\n      <td>0.0</td>\n      <td>0.0</td>\n      <td>0.0</td>\n      <td>0.00</td>\n      <td>5.0</td>\n    </tr>\n    <tr>\n      <th>flydubai</th>\n      <td>336.0</td>\n      <td>4696.5</td>\n      <td>97.139076</td>\n      <td>4529.0</td>\n      <td>4612.75</td>\n      <td>4696.5</td>\n      <td>4780.25</td>\n      <td>4864.0</td>\n      <td>336.0</td>\n      <td>4767.5</td>\n      <td>...</td>\n      <td>4.00</td>\n      <td>5.0</td>\n      <td>336.0</td>\n      <td>0.428571</td>\n      <td>0.850436</td>\n      <td>0.0</td>\n      <td>0.0</td>\n      <td>0.0</td>\n      <td>1.00</td>\n      <td>5.0</td>\n    </tr>\n    <tr>\n      <th>frontier-airlines</th>\n      <td>390.0</td>\n      <td>5059.5</td>\n      <td>112.727548</td>\n      <td>4865.0</td>\n      <td>4962.25</td>\n      <td>5059.5</td>\n      <td>5156.75</td>\n      <td>5254.0</td>\n      <td>390.0</td>\n      <td>5130.5</td>\n      <td>...</td>\n      <td>1.00</td>\n      <td>5.0</td>\n      <td>390.0</td>\n      <td>0.389744</td>\n      <td>0.592930</td>\n      <td>0.0</td>\n      <td>0.0</td>\n      <td>0.0</td>\n      <td>1.00</td>\n      <td>5.0</td>\n    </tr>\n    <tr>\n      <th>gulf-air</th>\n      <td>350.0</td>\n      <td>5429.5</td>\n      <td>101.180532</td>\n      <td>5255.0</td>\n      <td>5342.25</td>\n      <td>5429.5</td>\n      <td>5516.75</td>\n      <td>5604.0</td>\n      <td>350.0</td>\n      <td>5500.5</td>\n      <td>...</td>\n      <td>4.00</td>\n      <td>5.0</td>\n      <td>350.0</td>\n      <td>0.242857</td>\n      <td>0.822947</td>\n      <td>0.0</td>\n      <td>0.0</td>\n      <td>0.0</td>\n      <td>0.00</td>\n      <td>5.0</td>\n    </tr>\n    <tr>\n      <th>hawaiian-airlines</th>\n      <td>390.0</td>\n      <td>5799.5</td>\n      <td>112.727548</td>\n      <td>5605.0</td>\n      <td>5702.25</td>\n      <td>5799.5</td>\n      <td>5896.75</td>\n      <td>5994.0</td>\n      <td>390.0</td>\n      <td>5870.5</td>\n      <td>...</td>\n      <td>4.00</td>\n      <td>5.0</td>\n      <td>390.0</td>\n      <td>0.448718</td>\n      <td>0.986378</td>\n      <td>0.0</td>\n      <td>0.0</td>\n      <td>0.0</td>\n      <td>1.00</td>\n      <td>5.0</td>\n    </tr>\n    <tr>\n      <th>indigo-airlines</th>\n      <td>389.0</td>\n      <td>6189.0</td>\n      <td>112.438872</td>\n      <td>5995.0</td>\n      <td>6092.00</td>\n      <td>6189.0</td>\n      <td>6286.00</td>\n      <td>6383.0</td>\n      <td>389.0</td>\n      <td>6260.0</td>\n      <td>...</td>\n      <td>5.00</td>\n      <td>5.0</td>\n      <td>389.0</td>\n      <td>0.169666</td>\n      <td>0.693865</td>\n      <td>0.0</td>\n      <td>0.0</td>\n      <td>0.0</td>\n      <td>0.00</td>\n      <td>5.0</td>\n    </tr>\n    <tr>\n      <th>japan-airlines</th>\n      <td>382.0</td>\n      <td>6574.5</td>\n      <td>110.418145</td>\n      <td>6384.0</td>\n      <td>6479.25</td>\n      <td>6574.5</td>\n      <td>6669.75</td>\n      <td>6765.0</td>\n      <td>382.0</td>\n      <td>6645.5</td>\n      <td>...</td>\n      <td>5.00</td>\n      <td>5.0</td>\n      <td>382.0</td>\n      <td>0.654450</td>\n      <td>1.490466</td>\n      <td>0.0</td>\n      <td>0.0</td>\n      <td>0.0</td>\n      <td>0.00</td>\n      <td>5.0</td>\n    </tr>\n    <tr>\n      <th>jet2-com</th>\n      <td>385.0</td>\n      <td>6958.0</td>\n      <td>111.284171</td>\n      <td>6766.0</td>\n      <td>6862.00</td>\n      <td>6958.0</td>\n      <td>7054.00</td>\n      <td>7150.0</td>\n      <td>385.0</td>\n      <td>7029.0</td>\n      <td>...</td>\n      <td>5.00</td>\n      <td>5.0</td>\n      <td>385.0</td>\n      <td>0.142857</td>\n      <td>0.631514</td>\n      <td>0.0</td>\n      <td>0.0</td>\n      <td>0.0</td>\n      <td>0.00</td>\n      <td>5.0</td>\n    </tr>\n    <tr>\n      <th>kenya-airways</th>\n      <td>387.0</td>\n      <td>7344.0</td>\n      <td>111.861522</td>\n      <td>7151.0</td>\n      <td>7247.50</td>\n      <td>7344.0</td>\n      <td>7440.50</td>\n      <td>7537.0</td>\n      <td>387.0</td>\n      <td>7415.0</td>\n      <td>...</td>\n      <td>4.00</td>\n      <td>5.0</td>\n      <td>387.0</td>\n      <td>0.198966</td>\n      <td>0.614336</td>\n      <td>0.0</td>\n      <td>0.0</td>\n      <td>0.0</td>\n      <td>0.00</td>\n      <td>5.0</td>\n    </tr>\n    <tr>\n      <th>korean-air</th>\n      <td>390.0</td>\n      <td>7732.5</td>\n      <td>112.727548</td>\n      <td>7538.0</td>\n      <td>7635.25</td>\n      <td>7732.5</td>\n      <td>7829.75</td>\n      <td>7927.0</td>\n      <td>390.0</td>\n      <td>7803.5</td>\n      <td>...</td>\n      <td>5.00</td>\n      <td>5.0</td>\n      <td>390.0</td>\n      <td>0.264103</td>\n      <td>0.940105</td>\n      <td>0.0</td>\n      <td>0.0</td>\n      <td>0.0</td>\n      <td>0.00</td>\n      <td>5.0</td>\n    </tr>\n    <tr>\n      <th>lufthansa</th>\n      <td>390.0</td>\n      <td>8122.5</td>\n      <td>112.727548</td>\n      <td>7928.0</td>\n      <td>8025.25</td>\n      <td>8122.5</td>\n      <td>8219.75</td>\n      <td>8317.0</td>\n      <td>390.0</td>\n      <td>8193.5</td>\n      <td>...</td>\n      <td>3.00</td>\n      <td>5.0</td>\n      <td>390.0</td>\n      <td>0.725641</td>\n      <td>1.231176</td>\n      <td>0.0</td>\n      <td>0.0</td>\n      <td>0.0</td>\n      <td>1.00</td>\n      <td>5.0</td>\n    </tr>\n    <tr>\n      <th>malaysia-airlines</th>\n      <td>390.0</td>\n      <td>8512.5</td>\n      <td>112.727548</td>\n      <td>8318.0</td>\n      <td>8415.25</td>\n      <td>8512.5</td>\n      <td>8609.75</td>\n      <td>8707.0</td>\n      <td>390.0</td>\n      <td>8583.5</td>\n      <td>...</td>\n      <td>4.00</td>\n      <td>5.0</td>\n      <td>390.0</td>\n      <td>0.374359</td>\n      <td>0.947658</td>\n      <td>0.0</td>\n      <td>0.0</td>\n      <td>0.0</td>\n      <td>0.00</td>\n      <td>5.0</td>\n    </tr>\n    <tr>\n      <th>monarch-airlines</th>\n      <td>318.0</td>\n      <td>8866.5</td>\n      <td>91.942917</td>\n      <td>8708.0</td>\n      <td>8787.25</td>\n      <td>8866.5</td>\n      <td>8945.75</td>\n      <td>9025.0</td>\n      <td>318.0</td>\n      <td>8937.5</td>\n      <td>...</td>\n      <td>4.00</td>\n      <td>5.0</td>\n      <td>318.0</td>\n      <td>0.028302</td>\n      <td>0.200514</td>\n      <td>0.0</td>\n      <td>0.0</td>\n      <td>0.0</td>\n      <td>0.00</td>\n      <td>2.0</td>\n    </tr>\n    <tr>\n      <th>oman-air</th>\n      <td>390.0</td>\n      <td>9220.5</td>\n      <td>112.727548</td>\n      <td>9026.0</td>\n      <td>9123.25</td>\n      <td>9220.5</td>\n      <td>9317.75</td>\n      <td>9415.0</td>\n      <td>390.0</td>\n      <td>9407.5</td>\n      <td>...</td>\n      <td>5.00</td>\n      <td>5.0</td>\n      <td>390.0</td>\n      <td>0.471795</td>\n      <td>1.148588</td>\n      <td>0.0</td>\n      <td>0.0</td>\n      <td>0.0</td>\n      <td>0.00</td>\n      <td>5.0</td>\n    </tr>\n    <tr>\n      <th>pegasus-airlines</th>\n      <td>368.0</td>\n      <td>9599.5</td>\n      <td>106.376689</td>\n      <td>9416.0</td>\n      <td>9507.75</td>\n      <td>9599.5</td>\n      <td>9691.25</td>\n      <td>9783.0</td>\n      <td>368.0</td>\n      <td>9786.5</td>\n      <td>...</td>\n      <td>4.00</td>\n      <td>5.0</td>\n      <td>368.0</td>\n      <td>0.152174</td>\n      <td>0.402574</td>\n      <td>0.0</td>\n      <td>0.0</td>\n      <td>0.0</td>\n      <td>0.00</td>\n      <td>3.0</td>\n    </tr>\n    <tr>\n      <th>philippine-airlines</th>\n      <td>390.0</td>\n      <td>9978.5</td>\n      <td>112.727548</td>\n      <td>9784.0</td>\n      <td>9881.25</td>\n      <td>9978.5</td>\n      <td>10075.75</td>\n      <td>10173.0</td>\n      <td>390.0</td>\n      <td>10165.5</td>\n      <td>...</td>\n      <td>5.00</td>\n      <td>5.0</td>\n      <td>390.0</td>\n      <td>1.156410</td>\n      <td>1.705472</td>\n      <td>0.0</td>\n      <td>0.0</td>\n      <td>0.0</td>\n      <td>2.00</td>\n      <td>5.0</td>\n    </tr>\n    <tr>\n      <th>pia-pakistan-international-airlines</th>\n      <td>146.0</td>\n      <td>10246.5</td>\n      <td>42.290661</td>\n      <td>10174.0</td>\n      <td>10210.25</td>\n      <td>10246.5</td>\n      <td>10282.75</td>\n      <td>10319.0</td>\n      <td>146.0</td>\n      <td>10433.5</td>\n      <td>...</td>\n      <td>4.00</td>\n      <td>5.0</td>\n      <td>146.0</td>\n      <td>0.157534</td>\n      <td>0.450109</td>\n      <td>0.0</td>\n      <td>0.0</td>\n      <td>0.0</td>\n      <td>0.00</td>\n      <td>3.0</td>\n    </tr>\n    <tr>\n      <th>porter-airlines</th>\n      <td>301.0</td>\n      <td>10470.0</td>\n      <td>87.035433</td>\n      <td>10320.0</td>\n      <td>10395.00</td>\n      <td>10470.0</td>\n      <td>10545.00</td>\n      <td>10620.0</td>\n      <td>301.0</td>\n      <td>10657.0</td>\n      <td>...</td>\n      <td>4.00</td>\n      <td>5.0</td>\n      <td>301.0</td>\n      <td>0.136213</td>\n      <td>0.421961</td>\n      <td>0.0</td>\n      <td>0.0</td>\n      <td>0.0</td>\n      <td>0.00</td>\n      <td>3.0</td>\n    </tr>\n    <tr>\n      <th>qantas-airways</th>\n      <td>390.0</td>\n      <td>10815.5</td>\n      <td>112.727548</td>\n      <td>10621.0</td>\n      <td>10718.25</td>\n      <td>10815.5</td>\n      <td>10912.75</td>\n      <td>11010.0</td>\n      <td>390.0</td>\n      <td>11002.5</td>\n      <td>...</td>\n      <td>3.00</td>\n      <td>5.0</td>\n      <td>390.0</td>\n      <td>0.771795</td>\n      <td>1.326698</td>\n      <td>0.0</td>\n      <td>0.0</td>\n      <td>0.0</td>\n      <td>1.00</td>\n      <td>5.0</td>\n    </tr>\n    <tr>\n      <th>qatar-airways</th>\n      <td>390.0</td>\n      <td>11205.5</td>\n      <td>112.727548</td>\n      <td>11011.0</td>\n      <td>11108.25</td>\n      <td>11205.5</td>\n      <td>11302.75</td>\n      <td>11400.0</td>\n      <td>390.0</td>\n      <td>11392.5</td>\n      <td>...</td>\n      <td>5.00</td>\n      <td>5.0</td>\n      <td>390.0</td>\n      <td>2.482051</td>\n      <td>2.205027</td>\n      <td>0.0</td>\n      <td>0.0</td>\n      <td>3.0</td>\n      <td>5.00</td>\n      <td>5.0</td>\n    </tr>\n    <tr>\n      <th>royal-air-maroc</th>\n      <td>310.0</td>\n      <td>11555.5</td>\n      <td>89.633513</td>\n      <td>11401.0</td>\n      <td>11478.25</td>\n      <td>11555.5</td>\n      <td>11632.75</td>\n      <td>11710.0</td>\n      <td>310.0</td>\n      <td>11742.5</td>\n      <td>...</td>\n      <td>4.00</td>\n      <td>5.0</td>\n      <td>310.0</td>\n      <td>0.270968</td>\n      <td>1.000386</td>\n      <td>0.0</td>\n      <td>0.0</td>\n      <td>0.0</td>\n      <td>0.00</td>\n      <td>5.0</td>\n    </tr>\n    <tr>\n      <th>royal-brunei-airlines</th>\n      <td>349.0</td>\n      <td>11885.0</td>\n      <td>100.891856</td>\n      <td>11711.0</td>\n      <td>11798.00</td>\n      <td>11885.0</td>\n      <td>11972.00</td>\n      <td>12059.0</td>\n      <td>349.0</td>\n      <td>12072.0</td>\n      <td>...</td>\n      <td>5.00</td>\n      <td>5.0</td>\n      <td>349.0</td>\n      <td>0.128940</td>\n      <td>0.688989</td>\n      <td>0.0</td>\n      <td>0.0</td>\n      <td>0.0</td>\n      <td>0.00</td>\n      <td>5.0</td>\n    </tr>\n    <tr>\n      <th>royal-jordanian-airlines</th>\n      <td>350.0</td>\n      <td>12234.5</td>\n      <td>101.180532</td>\n      <td>12060.0</td>\n      <td>12147.25</td>\n      <td>12234.5</td>\n      <td>12321.75</td>\n      <td>12409.0</td>\n      <td>350.0</td>\n      <td>12421.5</td>\n      <td>...</td>\n      <td>4.00</td>\n      <td>5.0</td>\n      <td>350.0</td>\n      <td>0.262857</td>\n      <td>0.632947</td>\n      <td>0.0</td>\n      <td>0.0</td>\n      <td>0.0</td>\n      <td>0.00</td>\n      <td>4.0</td>\n    </tr>\n    <tr>\n      <th>ryanair</th>\n      <td>390.0</td>\n      <td>12604.5</td>\n      <td>112.727548</td>\n      <td>12410.0</td>\n      <td>12507.25</td>\n      <td>12604.5</td>\n      <td>12701.75</td>\n      <td>12799.0</td>\n      <td>390.0</td>\n      <td>12791.5</td>\n      <td>...</td>\n      <td>3.00</td>\n      <td>5.0</td>\n      <td>390.0</td>\n      <td>0.233333</td>\n      <td>0.573105</td>\n      <td>0.0</td>\n      <td>0.0</td>\n      <td>0.0</td>\n      <td>0.00</td>\n      <td>5.0</td>\n    </tr>\n    <tr>\n      <th>sas-scandinavian-airlines</th>\n      <td>390.0</td>\n      <td>12994.5</td>\n      <td>112.727548</td>\n      <td>12800.0</td>\n      <td>12897.25</td>\n      <td>12994.5</td>\n      <td>13091.75</td>\n      <td>13189.0</td>\n      <td>390.0</td>\n      <td>13181.5</td>\n      <td>...</td>\n      <td>3.00</td>\n      <td>5.0</td>\n      <td>390.0</td>\n      <td>0.846154</td>\n      <td>1.313142</td>\n      <td>0.0</td>\n      <td>0.0</td>\n      <td>0.0</td>\n      <td>1.00</td>\n      <td>5.0</td>\n    </tr>\n    <tr>\n      <th>saudi-arabian-airlines</th>\n      <td>359.0</td>\n      <td>13369.0</td>\n      <td>103.778611</td>\n      <td>13190.0</td>\n      <td>13279.50</td>\n      <td>13369.0</td>\n      <td>13458.50</td>\n      <td>13548.0</td>\n      <td>359.0</td>\n      <td>13556.0</td>\n      <td>...</td>\n      <td>4.00</td>\n      <td>5.0</td>\n      <td>359.0</td>\n      <td>0.660167</td>\n      <td>1.244586</td>\n      <td>0.0</td>\n      <td>0.0</td>\n      <td>0.0</td>\n      <td>1.00</td>\n      <td>5.0</td>\n    </tr>\n    <tr>\n      <th>scoot</th>\n      <td>390.0</td>\n      <td>13743.5</td>\n      <td>112.727548</td>\n      <td>13549.0</td>\n      <td>13646.25</td>\n      <td>13743.5</td>\n      <td>13840.75</td>\n      <td>13938.0</td>\n      <td>390.0</td>\n      <td>13930.5</td>\n      <td>...</td>\n      <td>4.00</td>\n      <td>5.0</td>\n      <td>390.0</td>\n      <td>0.443590</td>\n      <td>0.996471</td>\n      <td>0.0</td>\n      <td>0.0</td>\n      <td>0.0</td>\n      <td>0.75</td>\n      <td>5.0</td>\n    </tr>\n    <tr>\n      <th>singapore-airlines</th>\n      <td>390.0</td>\n      <td>14133.5</td>\n      <td>112.727548</td>\n      <td>13939.0</td>\n      <td>14036.25</td>\n      <td>14133.5</td>\n      <td>14230.75</td>\n      <td>14328.0</td>\n      <td>390.0</td>\n      <td>14320.5</td>\n      <td>...</td>\n      <td>5.00</td>\n      <td>5.0</td>\n      <td>390.0</td>\n      <td>1.297436</td>\n      <td>1.883153</td>\n      <td>0.0</td>\n      <td>0.0</td>\n      <td>0.0</td>\n      <td>3.00</td>\n      <td>5.0</td>\n    </tr>\n    <tr>\n      <th>south-african-airways</th>\n      <td>390.0</td>\n      <td>14523.5</td>\n      <td>112.727548</td>\n      <td>14329.0</td>\n      <td>14426.25</td>\n      <td>14523.5</td>\n      <td>14620.75</td>\n      <td>14718.0</td>\n      <td>390.0</td>\n      <td>14710.5</td>\n      <td>...</td>\n      <td>4.00</td>\n      <td>5.0</td>\n      <td>390.0</td>\n      <td>0.097436</td>\n      <td>0.448641</td>\n      <td>0.0</td>\n      <td>0.0</td>\n      <td>0.0</td>\n      <td>0.00</td>\n      <td>4.0</td>\n    </tr>\n    <tr>\n      <th>southwest-airlines</th>\n      <td>390.0</td>\n      <td>14913.5</td>\n      <td>112.727548</td>\n      <td>14719.0</td>\n      <td>14816.25</td>\n      <td>14913.5</td>\n      <td>15010.75</td>\n      <td>15108.0</td>\n      <td>390.0</td>\n      <td>15100.5</td>\n      <td>...</td>\n      <td>3.00</td>\n      <td>5.0</td>\n      <td>390.0</td>\n      <td>1.087179</td>\n      <td>1.365227</td>\n      <td>0.0</td>\n      <td>0.0</td>\n      <td>1.0</td>\n      <td>1.00</td>\n      <td>5.0</td>\n    </tr>\n    <tr>\n      <th>spicejet</th>\n      <td>390.0</td>\n      <td>15303.5</td>\n      <td>112.727548</td>\n      <td>15109.0</td>\n      <td>15206.25</td>\n      <td>15303.5</td>\n      <td>15400.75</td>\n      <td>15498.0</td>\n      <td>390.0</td>\n      <td>15490.5</td>\n      <td>...</td>\n      <td>4.00</td>\n      <td>5.0</td>\n      <td>390.0</td>\n      <td>0.548718</td>\n      <td>1.165677</td>\n      <td>0.0</td>\n      <td>0.0</td>\n      <td>0.0</td>\n      <td>1.00</td>\n      <td>5.0</td>\n    </tr>\n    <tr>\n      <th>spirit-airlines</th>\n      <td>390.0</td>\n      <td>15693.5</td>\n      <td>112.727548</td>\n      <td>15499.0</td>\n      <td>15596.25</td>\n      <td>15693.5</td>\n      <td>15790.75</td>\n      <td>15888.0</td>\n      <td>390.0</td>\n      <td>15880.5</td>\n      <td>...</td>\n      <td>1.00</td>\n      <td>5.0</td>\n      <td>390.0</td>\n      <td>0.558974</td>\n      <td>0.775830</td>\n      <td>0.0</td>\n      <td>0.0</td>\n      <td>0.0</td>\n      <td>1.00</td>\n      <td>5.0</td>\n    </tr>\n    <tr>\n      <th>srilankan-airlines</th>\n      <td>127.0</td>\n      <td>15952.0</td>\n      <td>36.805797</td>\n      <td>15889.0</td>\n      <td>15920.50</td>\n      <td>15952.0</td>\n      <td>15983.50</td>\n      <td>16015.0</td>\n      <td>127.0</td>\n      <td>16139.0</td>\n      <td>...</td>\n      <td>5.00</td>\n      <td>5.0</td>\n      <td>127.0</td>\n      <td>0.519685</td>\n      <td>1.037781</td>\n      <td>0.0</td>\n      <td>0.0</td>\n      <td>0.0</td>\n      <td>1.00</td>\n      <td>5.0</td>\n    </tr>\n    <tr>\n      <th>sun-country-airlines</th>\n      <td>297.0</td>\n      <td>16164.0</td>\n      <td>85.880731</td>\n      <td>16016.0</td>\n      <td>16090.00</td>\n      <td>16164.0</td>\n      <td>16238.00</td>\n      <td>16312.0</td>\n      <td>297.0</td>\n      <td>16351.0</td>\n      <td>...</td>\n      <td>3.00</td>\n      <td>5.0</td>\n      <td>297.0</td>\n      <td>0.454545</td>\n      <td>0.865316</td>\n      <td>0.0</td>\n      <td>0.0</td>\n      <td>0.0</td>\n      <td>1.00</td>\n      <td>5.0</td>\n    </tr>\n    <tr>\n      <th>sunwing-airlines</th>\n      <td>384.0</td>\n      <td>16504.5</td>\n      <td>110.995495</td>\n      <td>16313.0</td>\n      <td>16408.75</td>\n      <td>16504.5</td>\n      <td>16600.25</td>\n      <td>16696.0</td>\n      <td>384.0</td>\n      <td>16691.5</td>\n      <td>...</td>\n      <td>3.00</td>\n      <td>5.0</td>\n      <td>384.0</td>\n      <td>0.317708</td>\n      <td>0.735592</td>\n      <td>0.0</td>\n      <td>0.0</td>\n      <td>0.0</td>\n      <td>0.00</td>\n      <td>5.0</td>\n    </tr>\n    <tr>\n      <th>swiss-international-air-lines</th>\n      <td>390.0</td>\n      <td>16891.5</td>\n      <td>112.727548</td>\n      <td>16697.0</td>\n      <td>16794.25</td>\n      <td>16891.5</td>\n      <td>16988.75</td>\n      <td>17086.0</td>\n      <td>390.0</td>\n      <td>17078.5</td>\n      <td>...</td>\n      <td>4.00</td>\n      <td>5.0</td>\n      <td>390.0</td>\n      <td>0.553846</td>\n      <td>1.264880</td>\n      <td>0.0</td>\n      <td>0.0</td>\n      <td>0.0</td>\n      <td>0.00</td>\n      <td>5.0</td>\n    </tr>\n    <tr>\n      <th>swoop</th>\n      <td>390.0</td>\n      <td>17281.5</td>\n      <td>112.727548</td>\n      <td>17087.0</td>\n      <td>17184.25</td>\n      <td>17281.5</td>\n      <td>17378.75</td>\n      <td>17476.0</td>\n      <td>390.0</td>\n      <td>17468.5</td>\n      <td>...</td>\n      <td>2.00</td>\n      <td>5.0</td>\n      <td>390.0</td>\n      <td>0.302564</td>\n      <td>0.792473</td>\n      <td>0.0</td>\n      <td>0.0</td>\n      <td>0.0</td>\n      <td>0.00</td>\n      <td>5.0</td>\n    </tr>\n    <tr>\n      <th>turkish-airlines</th>\n      <td>390.0</td>\n      <td>17671.5</td>\n      <td>112.727548</td>\n      <td>17477.0</td>\n      <td>17574.25</td>\n      <td>17671.5</td>\n      <td>17768.75</td>\n      <td>17866.0</td>\n      <td>390.0</td>\n      <td>17858.5</td>\n      <td>...</td>\n      <td>3.00</td>\n      <td>5.0</td>\n      <td>390.0</td>\n      <td>0.969231</td>\n      <td>1.456861</td>\n      <td>0.0</td>\n      <td>0.0</td>\n      <td>0.0</td>\n      <td>1.00</td>\n      <td>5.0</td>\n    </tr>\n    <tr>\n      <th>ukraine-international-airlines</th>\n      <td>377.0</td>\n      <td>18055.0</td>\n      <td>108.974768</td>\n      <td>17867.0</td>\n      <td>17961.00</td>\n      <td>18055.0</td>\n      <td>18149.00</td>\n      <td>18243.0</td>\n      <td>377.0</td>\n      <td>18242.0</td>\n      <td>...</td>\n      <td>4.00</td>\n      <td>5.0</td>\n      <td>377.0</td>\n      <td>0.299735</td>\n      <td>0.562881</td>\n      <td>0.0</td>\n      <td>0.0</td>\n      <td>0.0</td>\n      <td>1.00</td>\n      <td>5.0</td>\n    </tr>\n    <tr>\n      <th>united-airlines</th>\n      <td>390.0</td>\n      <td>18438.5</td>\n      <td>112.727548</td>\n      <td>18244.0</td>\n      <td>18341.25</td>\n      <td>18438.5</td>\n      <td>18535.75</td>\n      <td>18633.0</td>\n      <td>390.0</td>\n      <td>18625.5</td>\n      <td>...</td>\n      <td>2.00</td>\n      <td>5.0</td>\n      <td>390.0</td>\n      <td>1.115385</td>\n      <td>1.304341</td>\n      <td>0.0</td>\n      <td>0.0</td>\n      <td>1.0</td>\n      <td>1.00</td>\n      <td>5.0</td>\n    </tr>\n  </tbody>\n</table>\n<p>51 rows × 104 columns</p>\n</div>"
     },
     "execution_count": 47,
     "metadata": {},
     "output_type": "execute_result"
    }
   ],
   "source": [
    "reviews = pd.read_csv('../datasets/ProcessedData.csv')\n",
    "\n",
    "# Group the reviews by airline\n",
    "reviews_by_airline = reviews.groupby('AirName')\n",
    "reviews_by_airline.describe()"
   ],
   "metadata": {
    "collapsed": false,
    "ExecuteTime": {
     "end_time": "2024-01-30T00:17:40.183289Z",
     "start_time": "2024-01-30T00:17:39.825199Z"
    }
   },
   "id": "486d0ec40e9b79da"
  },
  {
   "cell_type": "code",
   "execution_count": 48,
   "outputs": [
    {
     "data": {
      "text/plain": "Index(['Unnamed: 0.1', 'Unnamed: 0', 'AirName', 'Comments', 'DateFlown',\n       'Review', 'EntertainmentRating', 'FoodRating', 'GroundServiceRating',\n       'OverallScore', 'Recommended', 'ReviewDate', 'ReviewTitle',\n       'ReviewrCountry', 'SeatComfortRating', 'SeatType', 'ServiceRating',\n       'ValueRating', 'WifiRating'],\n      dtype='object')"
     },
     "execution_count": 48,
     "metadata": {},
     "output_type": "execute_result"
    }
   ],
   "source": [
    "reviews.columns"
   ],
   "metadata": {
    "collapsed": false,
    "ExecuteTime": {
     "end_time": "2024-01-30T00:17:40.201282Z",
     "start_time": "2024-01-30T00:17:40.180192Z"
    }
   },
   "id": "8d72f42dcf7b0310"
  },
  {
   "cell_type": "code",
   "execution_count": 49,
   "outputs": [],
   "source": [
    "# Calculate the average score for each airline\n",
    "average_scores = reviews_by_airline['OverallScore'].mean()\n",
    "\n",
    "# Calculate the total number of reviews for each airline\n",
    "review_counts = reviews_by_airline.size()\n",
    "\n",
    "# Calculate the percentage of recommended reviews for each airline\n",
    "recommendation_rates = reviews_by_airline['Recommended'].mean() * 100\n",
    "\n",
    "# Combine the average score, review count, and recommendation rate for each airline\n",
    "airline_stats = pd.concat([average_scores, review_counts, recommendation_rates], axis=1)\n",
    "airline_stats.columns = ['Average Score', 'Review Count', 'Recommendation Rate']\n"
   ],
   "metadata": {
    "collapsed": false,
    "ExecuteTime": {
     "end_time": "2024-01-30T00:17:40.202030Z",
     "start_time": "2024-01-30T00:17:40.186280Z"
    }
   },
   "id": "8f0183ab5fc43d42"
  },
  {
   "cell_type": "code",
   "execution_count": 50,
   "outputs": [
    {
     "data": {
      "text/plain": "                                     Average Score  Review Count  \\\nAirName                                                            \nAir India                                 3.100000           390   \nAna                                       7.958974           390   \nair-europa                                3.671795           390   \nair-france                                4.202564           390   \nair-new-zealand                           4.841026           390   \nairasia                                   3.012552           239   \namerican-airlines                         2.082051           390   \naustrian-airlines                         4.494872           390   \nbangkok-airways                           7.512821           390   \nbritish-airways                           4.194872           390   \nemirates                                  4.051282           390   \nethiopian-airlines                        4.458974           390   \nflydubai                                  3.571429           336   \nfrontier-airlines                         1.446154           390   \ngulf-air                                  5.400000           350   \nhawaiian-airlines                         4.771795           390   \nindigo-airlines                           6.326478           389   \njapan-airlines                            7.374346           382   \njet2-com                                  6.646753           385   \nkenya-airways                             4.635659           387   \nkorean-air                                7.289744           390   \nlufthansa                                 2.935897           390   \nmalaysia-airlines                         4.374359           390   \nmonarch-airlines                          6.094340           318   \noman-air                                  5.707692           390   \npegasus-airlines                          4.125000           368   \nphilippine-airlines                       4.915385           390   \npia-pakistan-international-airlines       5.109589           146   \nporter-airlines                           4.109635           301   \nqantas-airways                            3.546154           390   \nqatar-airways                             7.361538           390   \nroyal-air-maroc                           4.522581           310   \nroyal-brunei-airlines                     7.240688           349   \nroyal-jordanian-airlines                  4.962857           350   \nryanair                                   2.735897           390   \nsas-scandinavian-airlines                 3.333333           390   \nsaudi-arabian-airlines                    4.885794           359   \nscoot                                     3.861538           390   \nsingapore-airlines                        6.010256           390   \nsouth-african-airways                     5.712821           390   \nsouthwest-airlines                        2.561538           390   \nspicejet                                  3.841026           390   \nspirit-airlines                           1.735897           390   \nsrilankan-airlines                        4.181102           127   \nsun-country-airlines                      3.232323           297   \nsunwing-airlines                          3.031250           384   \nswiss-international-air-lines             4.592308           390   \nswoop                                     2.620513           390   \nturkish-airlines                          2.753846           390   \nukraine-international-airlines            3.827586           377   \nunited-airlines                           2.484615           390   \n\n                                     Recommendation Rate  \nAirName                                                   \nAir India                                      23.589744  \nAna                                            85.384615  \nair-europa                                     28.974359  \nair-france                                     34.871795  \nair-new-zealand                                41.538462  \nairasia                                        26.778243  \namerican-airlines                              10.256410  \naustrian-airlines                              41.025641  \nbangkok-airways                                75.384615  \nbritish-airways                                35.897436  \nemirates                                       31.025641  \nethiopian-airlines                             41.794872  \nflydubai                                       28.869048  \nfrontier-airlines                               3.333333  \ngulf-air                                       52.285714  \nhawaiian-airlines                              40.769231  \nindigo-airlines                                60.925450  \njapan-airlines                                 74.607330  \njet2-com                                       63.376623  \nkenya-airways                                  39.793282  \nkorean-air                                     74.358974  \nlufthansa                                      18.974359  \nmalaysia-airlines                              40.512821  \nmonarch-airlines                               47.169811  \noman-air                                       55.897436  \npegasus-airlines                               32.608696  \nphilippine-airlines                            46.153846  \npia-pakistan-international-airlines            47.260274  \nporter-airlines                                30.564784  \nqantas-airways                                 29.743590  \nqatar-airways                                  73.076923  \nroyal-air-maroc                                36.129032  \nroyal-brunei-airlines                          75.358166  \nroyal-jordanian-airlines                       46.000000  \nryanair                                        20.256410  \nsas-scandinavian-airlines                      24.871795  \nsaudi-arabian-airlines                         45.682451  \nscoot                                          35.384615  \nsingapore-airlines                             58.974359  \nsouth-african-airways                          54.615385  \nsouthwest-airlines                             16.410256  \nspicejet                                       33.076923  \nspirit-airlines                                 7.948718  \nsrilankan-airlines                             40.157480  \nsun-country-airlines                           21.885522  \nsunwing-airlines                               20.052083  \nswiss-international-air-lines                  38.974359  \nswoop                                          17.435897  \nturkish-airlines                               16.666667  \nukraine-international-airlines                 32.095491  \nunited-airlines                                15.384615  ",
      "text/html": "<div>\n<style scoped>\n    .dataframe tbody tr th:only-of-type {\n        vertical-align: middle;\n    }\n\n    .dataframe tbody tr th {\n        vertical-align: top;\n    }\n\n    .dataframe thead th {\n        text-align: right;\n    }\n</style>\n<table border=\"1\" class=\"dataframe\">\n  <thead>\n    <tr style=\"text-align: right;\">\n      <th></th>\n      <th>Average Score</th>\n      <th>Review Count</th>\n      <th>Recommendation Rate</th>\n    </tr>\n    <tr>\n      <th>AirName</th>\n      <th></th>\n      <th></th>\n      <th></th>\n    </tr>\n  </thead>\n  <tbody>\n    <tr>\n      <th>Air India</th>\n      <td>3.100000</td>\n      <td>390</td>\n      <td>23.589744</td>\n    </tr>\n    <tr>\n      <th>Ana</th>\n      <td>7.958974</td>\n      <td>390</td>\n      <td>85.384615</td>\n    </tr>\n    <tr>\n      <th>air-europa</th>\n      <td>3.671795</td>\n      <td>390</td>\n      <td>28.974359</td>\n    </tr>\n    <tr>\n      <th>air-france</th>\n      <td>4.202564</td>\n      <td>390</td>\n      <td>34.871795</td>\n    </tr>\n    <tr>\n      <th>air-new-zealand</th>\n      <td>4.841026</td>\n      <td>390</td>\n      <td>41.538462</td>\n    </tr>\n    <tr>\n      <th>airasia</th>\n      <td>3.012552</td>\n      <td>239</td>\n      <td>26.778243</td>\n    </tr>\n    <tr>\n      <th>american-airlines</th>\n      <td>2.082051</td>\n      <td>390</td>\n      <td>10.256410</td>\n    </tr>\n    <tr>\n      <th>austrian-airlines</th>\n      <td>4.494872</td>\n      <td>390</td>\n      <td>41.025641</td>\n    </tr>\n    <tr>\n      <th>bangkok-airways</th>\n      <td>7.512821</td>\n      <td>390</td>\n      <td>75.384615</td>\n    </tr>\n    <tr>\n      <th>british-airways</th>\n      <td>4.194872</td>\n      <td>390</td>\n      <td>35.897436</td>\n    </tr>\n    <tr>\n      <th>emirates</th>\n      <td>4.051282</td>\n      <td>390</td>\n      <td>31.025641</td>\n    </tr>\n    <tr>\n      <th>ethiopian-airlines</th>\n      <td>4.458974</td>\n      <td>390</td>\n      <td>41.794872</td>\n    </tr>\n    <tr>\n      <th>flydubai</th>\n      <td>3.571429</td>\n      <td>336</td>\n      <td>28.869048</td>\n    </tr>\n    <tr>\n      <th>frontier-airlines</th>\n      <td>1.446154</td>\n      <td>390</td>\n      <td>3.333333</td>\n    </tr>\n    <tr>\n      <th>gulf-air</th>\n      <td>5.400000</td>\n      <td>350</td>\n      <td>52.285714</td>\n    </tr>\n    <tr>\n      <th>hawaiian-airlines</th>\n      <td>4.771795</td>\n      <td>390</td>\n      <td>40.769231</td>\n    </tr>\n    <tr>\n      <th>indigo-airlines</th>\n      <td>6.326478</td>\n      <td>389</td>\n      <td>60.925450</td>\n    </tr>\n    <tr>\n      <th>japan-airlines</th>\n      <td>7.374346</td>\n      <td>382</td>\n      <td>74.607330</td>\n    </tr>\n    <tr>\n      <th>jet2-com</th>\n      <td>6.646753</td>\n      <td>385</td>\n      <td>63.376623</td>\n    </tr>\n    <tr>\n      <th>kenya-airways</th>\n      <td>4.635659</td>\n      <td>387</td>\n      <td>39.793282</td>\n    </tr>\n    <tr>\n      <th>korean-air</th>\n      <td>7.289744</td>\n      <td>390</td>\n      <td>74.358974</td>\n    </tr>\n    <tr>\n      <th>lufthansa</th>\n      <td>2.935897</td>\n      <td>390</td>\n      <td>18.974359</td>\n    </tr>\n    <tr>\n      <th>malaysia-airlines</th>\n      <td>4.374359</td>\n      <td>390</td>\n      <td>40.512821</td>\n    </tr>\n    <tr>\n      <th>monarch-airlines</th>\n      <td>6.094340</td>\n      <td>318</td>\n      <td>47.169811</td>\n    </tr>\n    <tr>\n      <th>oman-air</th>\n      <td>5.707692</td>\n      <td>390</td>\n      <td>55.897436</td>\n    </tr>\n    <tr>\n      <th>pegasus-airlines</th>\n      <td>4.125000</td>\n      <td>368</td>\n      <td>32.608696</td>\n    </tr>\n    <tr>\n      <th>philippine-airlines</th>\n      <td>4.915385</td>\n      <td>390</td>\n      <td>46.153846</td>\n    </tr>\n    <tr>\n      <th>pia-pakistan-international-airlines</th>\n      <td>5.109589</td>\n      <td>146</td>\n      <td>47.260274</td>\n    </tr>\n    <tr>\n      <th>porter-airlines</th>\n      <td>4.109635</td>\n      <td>301</td>\n      <td>30.564784</td>\n    </tr>\n    <tr>\n      <th>qantas-airways</th>\n      <td>3.546154</td>\n      <td>390</td>\n      <td>29.743590</td>\n    </tr>\n    <tr>\n      <th>qatar-airways</th>\n      <td>7.361538</td>\n      <td>390</td>\n      <td>73.076923</td>\n    </tr>\n    <tr>\n      <th>royal-air-maroc</th>\n      <td>4.522581</td>\n      <td>310</td>\n      <td>36.129032</td>\n    </tr>\n    <tr>\n      <th>royal-brunei-airlines</th>\n      <td>7.240688</td>\n      <td>349</td>\n      <td>75.358166</td>\n    </tr>\n    <tr>\n      <th>royal-jordanian-airlines</th>\n      <td>4.962857</td>\n      <td>350</td>\n      <td>46.000000</td>\n    </tr>\n    <tr>\n      <th>ryanair</th>\n      <td>2.735897</td>\n      <td>390</td>\n      <td>20.256410</td>\n    </tr>\n    <tr>\n      <th>sas-scandinavian-airlines</th>\n      <td>3.333333</td>\n      <td>390</td>\n      <td>24.871795</td>\n    </tr>\n    <tr>\n      <th>saudi-arabian-airlines</th>\n      <td>4.885794</td>\n      <td>359</td>\n      <td>45.682451</td>\n    </tr>\n    <tr>\n      <th>scoot</th>\n      <td>3.861538</td>\n      <td>390</td>\n      <td>35.384615</td>\n    </tr>\n    <tr>\n      <th>singapore-airlines</th>\n      <td>6.010256</td>\n      <td>390</td>\n      <td>58.974359</td>\n    </tr>\n    <tr>\n      <th>south-african-airways</th>\n      <td>5.712821</td>\n      <td>390</td>\n      <td>54.615385</td>\n    </tr>\n    <tr>\n      <th>southwest-airlines</th>\n      <td>2.561538</td>\n      <td>390</td>\n      <td>16.410256</td>\n    </tr>\n    <tr>\n      <th>spicejet</th>\n      <td>3.841026</td>\n      <td>390</td>\n      <td>33.076923</td>\n    </tr>\n    <tr>\n      <th>spirit-airlines</th>\n      <td>1.735897</td>\n      <td>390</td>\n      <td>7.948718</td>\n    </tr>\n    <tr>\n      <th>srilankan-airlines</th>\n      <td>4.181102</td>\n      <td>127</td>\n      <td>40.157480</td>\n    </tr>\n    <tr>\n      <th>sun-country-airlines</th>\n      <td>3.232323</td>\n      <td>297</td>\n      <td>21.885522</td>\n    </tr>\n    <tr>\n      <th>sunwing-airlines</th>\n      <td>3.031250</td>\n      <td>384</td>\n      <td>20.052083</td>\n    </tr>\n    <tr>\n      <th>swiss-international-air-lines</th>\n      <td>4.592308</td>\n      <td>390</td>\n      <td>38.974359</td>\n    </tr>\n    <tr>\n      <th>swoop</th>\n      <td>2.620513</td>\n      <td>390</td>\n      <td>17.435897</td>\n    </tr>\n    <tr>\n      <th>turkish-airlines</th>\n      <td>2.753846</td>\n      <td>390</td>\n      <td>16.666667</td>\n    </tr>\n    <tr>\n      <th>ukraine-international-airlines</th>\n      <td>3.827586</td>\n      <td>377</td>\n      <td>32.095491</td>\n    </tr>\n    <tr>\n      <th>united-airlines</th>\n      <td>2.484615</td>\n      <td>390</td>\n      <td>15.384615</td>\n    </tr>\n  </tbody>\n</table>\n</div>"
     },
     "execution_count": 50,
     "metadata": {},
     "output_type": "execute_result"
    }
   ],
   "source": [
    "airline_stats"
   ],
   "metadata": {
    "collapsed": false,
    "ExecuteTime": {
     "end_time": "2024-01-30T00:17:40.222366Z",
     "start_time": "2024-01-30T00:17:40.198959Z"
    }
   },
   "id": "159be6ac3e158b53"
  },
  {
   "cell_type": "code",
   "execution_count": 51,
   "outputs": [
    {
     "name": "stdout",
     "output_type": "stream",
     "text": [
      "Air India\n",
      "Ana\n",
      "air-europa\n",
      "air-france\n",
      "air-new-zealand\n",
      "airasia\n",
      "american-airlines\n",
      "austrian-airlines\n",
      "bangkok-airways\n",
      "british-airways\n",
      "emirates\n",
      "ethiopian-airlines\n",
      "flydubai\n",
      "frontier-airlines\n",
      "gulf-air\n",
      "hawaiian-airlines\n",
      "indigo-airlines\n",
      "japan-airlines\n",
      "jet2-com\n",
      "kenya-airways\n",
      "korean-air\n",
      "lufthansa\n",
      "malaysia-airlines\n",
      "monarch-airlines\n",
      "oman-air\n",
      "pegasus-airlines\n",
      "philippine-airlines\n",
      "pia-pakistan-international-airlines\n",
      "porter-airlines\n",
      "qantas-airways\n",
      "qatar-airways\n",
      "royal-air-maroc\n",
      "royal-brunei-airlines\n",
      "royal-jordanian-airlines\n",
      "ryanair\n",
      "sas-scandinavian-airlines\n",
      "saudi-arabian-airlines\n",
      "scoot\n",
      "singapore-airlines\n",
      "south-african-airways\n",
      "southwest-airlines\n",
      "spicejet\n",
      "spirit-airlines\n",
      "srilankan-airlines\n",
      "sun-country-airlines\n",
      "sunwing-airlines\n",
      "swiss-international-air-lines\n",
      "swoop\n",
      "turkish-airlines\n",
      "ukraine-international-airlines\n",
      "united-airlines\n"
     ]
    }
   ],
   "source": [
    "for airline, data in reviews_by_airline:\n",
    "    print(airline)"
   ],
   "metadata": {
    "collapsed": false,
    "ExecuteTime": {
     "end_time": "2024-01-30T00:17:40.224927Z",
     "start_time": "2024-01-30T00:17:40.203909Z"
    }
   },
   "id": "75207b90768d7926"
  },
  {
   "cell_type": "code",
   "execution_count": 52,
   "outputs": [
    {
     "name": "stdout",
     "output_type": "stream",
     "text": [
      "Recommendations for Air India:\n",
      "Focus on improving customer service and addressing common complaints.\n",
      "\n",
      "\n",
      "Recommendations for Ana:\n",
      "Focus on improving customer service and addressing common complaints.\n",
      "\n",
      "\n",
      "Recommendations for air-europa:\n",
      "Focus on improving customer service and addressing common complaints.\n",
      "\n",
      "\n",
      "Recommendations for air-france:\n",
      "Focus on improving customer service and addressing common complaints.\n",
      "\n",
      "\n",
      "Recommendations for air-new-zealand:\n",
      "Focus on improving customer service and addressing common complaints.\n",
      "\n",
      "\n",
      "Recommendations for airasia:\n",
      "Focus on improving customer service and addressing common complaints.\n",
      "\n",
      "\n",
      "Recommendations for american-airlines:\n",
      "Focus on improving customer service and addressing common complaints.\n",
      "\n",
      "\n",
      "Recommendations for austrian-airlines:\n",
      "Focus on improving customer service and addressing common complaints.\n",
      "\n",
      "\n",
      "Recommendations for bangkok-airways:\n",
      "Focus on improving customer service and addressing common complaints.\n",
      "\n",
      "\n",
      "Recommendations for british-airways:\n",
      "Focus on improving customer service and addressing common complaints.\n",
      "\n",
      "\n",
      "Recommendations for emirates:\n",
      "Focus on improving customer service and addressing common complaints.\n",
      "\n",
      "\n",
      "Recommendations for ethiopian-airlines:\n",
      "Focus on improving customer service and addressing common complaints.\n",
      "\n",
      "\n",
      "Recommendations for flydubai:\n",
      "Focus on improving customer service and addressing common complaints.\n",
      "\n",
      "\n",
      "Recommendations for frontier-airlines:\n",
      "Focus on improving customer service and addressing common complaints.\n",
      "\n",
      "\n",
      "Recommendations for gulf-air:\n",
      "Focus on improving customer service and addressing common complaints.\n",
      "\n",
      "\n",
      "Recommendations for hawaiian-airlines:\n",
      "Focus on improving customer service and addressing common complaints.\n",
      "\n",
      "\n",
      "Recommendations for indigo-airlines:\n",
      "Focus on improving customer service and addressing common complaints.\n",
      "\n",
      "\n",
      "Recommendations for japan-airlines:\n",
      "Focus on improving customer service and addressing common complaints.\n",
      "\n",
      "\n",
      "Recommendations for jet2-com:\n",
      "Focus on improving customer service and addressing common complaints.\n",
      "\n",
      "\n",
      "Recommendations for kenya-airways:\n",
      "Focus on improving customer service and addressing common complaints.\n",
      "\n",
      "\n",
      "Recommendations for korean-air:\n",
      "Focus on improving customer service and addressing common complaints.\n",
      "\n",
      "\n",
      "Recommendations for lufthansa:\n",
      "Focus on improving customer service and addressing common complaints.\n",
      "\n",
      "\n",
      "Recommendations for malaysia-airlines:\n",
      "Focus on improving customer service and addressing common complaints.\n",
      "\n",
      "\n",
      "Recommendations for monarch-airlines:\n",
      "Focus on improving customer service and addressing common complaints.\n",
      "\n",
      "\n",
      "Recommendations for oman-air:\n",
      "Focus on improving customer service and addressing common complaints.\n",
      "\n",
      "\n",
      "Recommendations for pegasus-airlines:\n",
      "Focus on improving customer service and addressing common complaints.\n",
      "\n",
      "\n",
      "Recommendations for philippine-airlines:\n",
      "Focus on improving customer service and addressing common complaints.\n",
      "\n",
      "\n",
      "Recommendations for pia-pakistan-international-airlines:\n",
      "Focus on improving customer service and addressing common complaints.\n",
      "\n",
      "\n",
      "Recommendations for porter-airlines:\n",
      "Focus on improving customer service and addressing common complaints.\n",
      "\n",
      "\n",
      "Recommendations for qantas-airways:\n",
      "Focus on improving customer service and addressing common complaints.\n",
      "\n",
      "\n",
      "Recommendations for qatar-airways:\n",
      "Focus on improving customer service and addressing common complaints.\n",
      "\n",
      "\n",
      "Recommendations for royal-air-maroc:\n",
      "Focus on improving customer service and addressing common complaints.\n",
      "\n",
      "\n",
      "Recommendations for royal-brunei-airlines:\n",
      "Focus on improving customer service and addressing common complaints.\n",
      "\n",
      "\n",
      "Recommendations for royal-jordanian-airlines:\n",
      "Focus on improving customer service and addressing common complaints.\n",
      "\n",
      "\n",
      "Recommendations for ryanair:\n",
      "Focus on improving customer service and addressing common complaints.\n",
      "\n",
      "\n",
      "Recommendations for sas-scandinavian-airlines:\n",
      "Focus on improving customer service and addressing common complaints.\n",
      "\n",
      "\n",
      "Recommendations for saudi-arabian-airlines:\n",
      "Focus on improving customer service and addressing common complaints.\n",
      "\n",
      "\n",
      "Recommendations for scoot:\n",
      "Focus on improving customer service and addressing common complaints.\n",
      "\n",
      "\n",
      "Recommendations for singapore-airlines:\n",
      "Focus on improving customer service and addressing common complaints.\n",
      "\n",
      "\n",
      "Recommendations for south-african-airways:\n",
      "Focus on improving customer service and addressing common complaints.\n",
      "\n",
      "\n",
      "Recommendations for southwest-airlines:\n",
      "Focus on improving customer service and addressing common complaints.\n",
      "\n",
      "\n",
      "Recommendations for spicejet:\n",
      "Focus on improving customer service and addressing common complaints.\n",
      "\n",
      "\n",
      "Recommendations for spirit-airlines:\n",
      "Focus on improving customer service and addressing common complaints.\n",
      "\n",
      "\n",
      "Recommendations for srilankan-airlines:\n",
      "Focus on improving customer service and addressing common complaints.\n",
      "\n",
      "\n",
      "Recommendations for sun-country-airlines:\n",
      "Focus on improving customer service and addressing common complaints.\n",
      "\n",
      "\n",
      "Recommendations for sunwing-airlines:\n",
      "Focus on improving customer service and addressing common complaints.\n",
      "\n",
      "\n",
      "Recommendations for swiss-international-air-lines:\n",
      "Focus on improving customer service and addressing common complaints.\n",
      "\n",
      "\n",
      "Recommendations for swoop:\n",
      "Focus on improving customer service and addressing common complaints.\n",
      "\n",
      "\n",
      "Recommendations for turkish-airlines:\n",
      "Focus on improving customer service and addressing common complaints.\n",
      "\n",
      "\n",
      "Recommendations for ukraine-international-airlines:\n",
      "Focus on improving customer service and addressing common complaints.\n",
      "\n",
      "\n",
      "Recommendations for united-airlines:\n",
      "Focus on improving customer service and addressing common complaints.\n"
     ]
    }
   ],
   "source": [
    "# Generate recommendations for each airline based on the reviews\n",
    "for airline, data in reviews_by_airline:\n",
    "    # Print the name of the airline\n",
    "    print(f\"Recommendations for {airline}:\")\n",
    "    # print(data['OverallScore'].mean())\n",
    "    # print(airline_stats['Average Score'].quantile(0.25))\n",
    "    # Check if the airline has a low average score or low recommendation rate\n",
    "    if data['OverallScore'].mean() < airline_stats['Average Score'].quantile(0.25) or data['Recommended'].mean() < airline_stats['Recommendation Rate'].quantile(0.25):\n",
    "        print(\"Focus on improving customer service and addressing common complaints.\")\n",
    "        \n",
    "    # Check if the airline has a low review count\n",
    "    elif data.shape[0] < airline_stats['Review Count'].quantile(0.25):\n",
    "        print(\"Increase marketing efforts to attract more customers and collect more reviews.\")\n",
    "        \n",
    "    # Check if the airline has a high recommendation rate\n",
    "    elif data['Recommended'].mean() > airline_stats['Recommendation Rate'].quantile(0.75):\n",
    "        print(\"Keep up the good work and continue to provide excellent customer service.\")\n",
    "        \n",
    "    # Check if the airline has a high average score but low recommendation rate\n",
    "    elif data['OverallScore'].mean() > airline_stats['Average Score'].quantile(0.75) and \\\n",
    "        data['Recommended'].mean() < airline_stats['Recommendation Rate'].quantile(0.25):\n",
    "        print(\"Focus on improving the customer experience to increase recommendation rates.\")\n",
    "        \n",
    "    # If none of the above apply, provide general recommendations\n",
    "    else:\n",
    "        print(\"Consider offering more amenities and perks, such as in-flight entertainment or better food options.\")\n",
    "    \n",
    "    # Print a blank line for readability\n",
    "    print(\"\\n\")"
   ],
   "metadata": {
    "collapsed": false,
    "ExecuteTime": {
     "end_time": "2024-01-30T00:17:40.247775Z",
     "start_time": "2024-01-30T00:17:40.210469Z"
    }
   },
   "id": "5e334b0d4d4e81b"
  },
  {
   "cell_type": "code",
   "execution_count": 53,
   "outputs": [
    {
     "data": {
      "text/plain": "                                    Unnamed: 0.1                       \\\n                                           count     mean         std   \nAirName                                                                 \nAir India                                  390.0   1213.5  112.727548   \nAna                                        390.0   2383.5  112.727548   \nair-europa                                 390.0    433.5  112.727548   \nair-france                                 390.0    823.5  112.727548   \nair-new-zealand                            390.0   1603.5  112.727548   \nairasia                                    239.0    119.0   69.137544   \namerican-airlines                          390.0   1993.5  112.727548   \naustrian-airlines                          390.0   2773.5  112.727548   \nbangkok-airways                            390.0   3163.5  112.727548   \nbritish-airways                            390.0   3553.5  112.727548   \nemirates                                   390.0   3943.5  112.727548   \nethiopian-airlines                         390.0   4333.5  112.727548   \nflydubai                                   336.0   4696.5   97.139076   \nfrontier-airlines                          390.0   5059.5  112.727548   \ngulf-air                                   350.0   5429.5  101.180532   \nhawaiian-airlines                          390.0   5799.5  112.727548   \nindigo-airlines                            389.0   6189.0  112.438872   \njapan-airlines                             382.0   6574.5  110.418145   \njet2-com                                   385.0   6958.0  111.284171   \nkenya-airways                              387.0   7344.0  111.861522   \nkorean-air                                 390.0   7732.5  112.727548   \nlufthansa                                  390.0   8122.5  112.727548   \nmalaysia-airlines                          390.0   8512.5  112.727548   \nmonarch-airlines                           318.0   8866.5   91.942917   \noman-air                                   390.0   9220.5  112.727548   \npegasus-airlines                           368.0   9599.5  106.376689   \nphilippine-airlines                        390.0   9978.5  112.727548   \npia-pakistan-international-airlines        146.0  10246.5   42.290661   \nporter-airlines                            301.0  10470.0   87.035433   \nqantas-airways                             390.0  10815.5  112.727548   \nqatar-airways                              390.0  11205.5  112.727548   \nroyal-air-maroc                            310.0  11555.5   89.633513   \nroyal-brunei-airlines                      349.0  11885.0  100.891856   \nroyal-jordanian-airlines                   350.0  12234.5  101.180532   \nryanair                                    390.0  12604.5  112.727548   \nsas-scandinavian-airlines                  390.0  12994.5  112.727548   \nsaudi-arabian-airlines                     359.0  13369.0  103.778611   \nscoot                                      390.0  13743.5  112.727548   \nsingapore-airlines                         390.0  14133.5  112.727548   \nsouth-african-airways                      390.0  14523.5  112.727548   \nsouthwest-airlines                         390.0  14913.5  112.727548   \nspicejet                                   390.0  15303.5  112.727548   \nspirit-airlines                            390.0  15693.5  112.727548   \nsrilankan-airlines                         127.0  15952.0   36.805797   \nsun-country-airlines                       297.0  16164.0   85.880731   \nsunwing-airlines                           384.0  16504.5  110.995495   \nswiss-international-air-lines              390.0  16891.5  112.727548   \nswoop                                      390.0  17281.5  112.727548   \nturkish-airlines                           390.0  17671.5  112.727548   \nukraine-international-airlines             377.0  18055.0  108.974768   \nunited-airlines                            390.0  18438.5  112.727548   \n\n                                                                           \\\n                                         min       25%      50%       75%   \nAirName                                                                     \nAir India                             1019.0   1116.25   1213.5   1310.75   \nAna                                   2189.0   2286.25   2383.5   2480.75   \nair-europa                             239.0    336.25    433.5    530.75   \nair-france                             629.0    726.25    823.5    920.75   \nair-new-zealand                       1409.0   1506.25   1603.5   1700.75   \nairasia                                  0.0     59.50    119.0    178.50   \namerican-airlines                     1799.0   1896.25   1993.5   2090.75   \naustrian-airlines                     2579.0   2676.25   2773.5   2870.75   \nbangkok-airways                       2969.0   3066.25   3163.5   3260.75   \nbritish-airways                       3359.0   3456.25   3553.5   3650.75   \nemirates                              3749.0   3846.25   3943.5   4040.75   \nethiopian-airlines                    4139.0   4236.25   4333.5   4430.75   \nflydubai                              4529.0   4612.75   4696.5   4780.25   \nfrontier-airlines                     4865.0   4962.25   5059.5   5156.75   \ngulf-air                              5255.0   5342.25   5429.5   5516.75   \nhawaiian-airlines                     5605.0   5702.25   5799.5   5896.75   \nindigo-airlines                       5995.0   6092.00   6189.0   6286.00   \njapan-airlines                        6384.0   6479.25   6574.5   6669.75   \njet2-com                              6766.0   6862.00   6958.0   7054.00   \nkenya-airways                         7151.0   7247.50   7344.0   7440.50   \nkorean-air                            7538.0   7635.25   7732.5   7829.75   \nlufthansa                             7928.0   8025.25   8122.5   8219.75   \nmalaysia-airlines                     8318.0   8415.25   8512.5   8609.75   \nmonarch-airlines                      8708.0   8787.25   8866.5   8945.75   \noman-air                              9026.0   9123.25   9220.5   9317.75   \npegasus-airlines                      9416.0   9507.75   9599.5   9691.25   \nphilippine-airlines                   9784.0   9881.25   9978.5  10075.75   \npia-pakistan-international-airlines  10174.0  10210.25  10246.5  10282.75   \nporter-airlines                      10320.0  10395.00  10470.0  10545.00   \nqantas-airways                       10621.0  10718.25  10815.5  10912.75   \nqatar-airways                        11011.0  11108.25  11205.5  11302.75   \nroyal-air-maroc                      11401.0  11478.25  11555.5  11632.75   \nroyal-brunei-airlines                11711.0  11798.00  11885.0  11972.00   \nroyal-jordanian-airlines             12060.0  12147.25  12234.5  12321.75   \nryanair                              12410.0  12507.25  12604.5  12701.75   \nsas-scandinavian-airlines            12800.0  12897.25  12994.5  13091.75   \nsaudi-arabian-airlines               13190.0  13279.50  13369.0  13458.50   \nscoot                                13549.0  13646.25  13743.5  13840.75   \nsingapore-airlines                   13939.0  14036.25  14133.5  14230.75   \nsouth-african-airways                14329.0  14426.25  14523.5  14620.75   \nsouthwest-airlines                   14719.0  14816.25  14913.5  15010.75   \nspicejet                             15109.0  15206.25  15303.5  15400.75   \nspirit-airlines                      15499.0  15596.25  15693.5  15790.75   \nsrilankan-airlines                   15889.0  15920.50  15952.0  15983.50   \nsun-country-airlines                 16016.0  16090.00  16164.0  16238.00   \nsunwing-airlines                     16313.0  16408.75  16504.5  16600.25   \nswiss-international-air-lines        16697.0  16794.25  16891.5  16988.75   \nswoop                                17087.0  17184.25  17281.5  17378.75   \nturkish-airlines                     17477.0  17574.25  17671.5  17768.75   \nukraine-international-airlines       17867.0  17961.00  18055.0  18149.00   \nunited-airlines                      18244.0  18341.25  18438.5  18535.75   \n\n                                             Unnamed: 0           ...  \\\n                                         max      count     mean  ...   \nAirName                                                           ...   \nAir India                             1408.0      390.0   1213.5  ...   \nAna                                   2578.0      390.0   2418.5  ...   \nair-europa                             628.0      390.0    433.5  ...   \nair-france                            1018.0      390.0    823.5  ...   \nair-new-zealand                       1798.0      390.0   1634.5  ...   \nairasia                                238.0      239.0    119.0  ...   \namerican-airlines                     2188.0      390.0   2028.5  ...   \naustrian-airlines                     2968.0      390.0   2817.5  ...   \nbangkok-airways                       3358.0      390.0   3229.5  ...   \nbritish-airways                       3748.0      390.0   3624.5  ...   \nemirates                              4138.0      390.0   4014.5  ...   \nethiopian-airlines                    4528.0      390.0   4404.5  ...   \nflydubai                              4864.0      336.0   4767.5  ...   \nfrontier-airlines                     5254.0      390.0   5130.5  ...   \ngulf-air                              5604.0      350.0   5500.5  ...   \nhawaiian-airlines                     5994.0      390.0   5870.5  ...   \nindigo-airlines                       6383.0      389.0   6260.0  ...   \njapan-airlines                        6765.0      382.0   6645.5  ...   \njet2-com                              7150.0      385.0   7029.0  ...   \nkenya-airways                         7537.0      387.0   7415.0  ...   \nkorean-air                            7927.0      390.0   7803.5  ...   \nlufthansa                             8317.0      390.0   8193.5  ...   \nmalaysia-airlines                     8707.0      390.0   8583.5  ...   \nmonarch-airlines                      9025.0      318.0   8937.5  ...   \noman-air                              9415.0      390.0   9407.5  ...   \npegasus-airlines                      9783.0      368.0   9786.5  ...   \nphilippine-airlines                  10173.0      390.0  10165.5  ...   \npia-pakistan-international-airlines  10319.0      146.0  10433.5  ...   \nporter-airlines                      10620.0      301.0  10657.0  ...   \nqantas-airways                       11010.0      390.0  11002.5  ...   \nqatar-airways                        11400.0      390.0  11392.5  ...   \nroyal-air-maroc                      11710.0      310.0  11742.5  ...   \nroyal-brunei-airlines                12059.0      349.0  12072.0  ...   \nroyal-jordanian-airlines             12409.0      350.0  12421.5  ...   \nryanair                              12799.0      390.0  12791.5  ...   \nsas-scandinavian-airlines            13189.0      390.0  13181.5  ...   \nsaudi-arabian-airlines               13548.0      359.0  13556.0  ...   \nscoot                                13938.0      390.0  13930.5  ...   \nsingapore-airlines                   14328.0      390.0  14320.5  ...   \nsouth-african-airways                14718.0      390.0  14710.5  ...   \nsouthwest-airlines                   15108.0      390.0  15100.5  ...   \nspicejet                             15498.0      390.0  15490.5  ...   \nspirit-airlines                      15888.0      390.0  15880.5  ...   \nsrilankan-airlines                   16015.0      127.0  16139.0  ...   \nsun-country-airlines                 16312.0      297.0  16351.0  ...   \nsunwing-airlines                     16696.0      384.0  16691.5  ...   \nswiss-international-air-lines        17086.0      390.0  17078.5  ...   \nswoop                                17476.0      390.0  17468.5  ...   \nturkish-airlines                     17866.0      390.0  17858.5  ...   \nukraine-international-airlines       18243.0      377.0  18242.0  ...   \nunited-airlines                      18633.0      390.0  18625.5  ...   \n\n                                    ValueRating      WifiRating            \\\n                                            75%  max      count      mean   \nAirName                                                                     \nAir India                                  3.00  5.0      390.0  0.425641   \nAna                                        5.00  5.0      390.0  0.817949   \nair-europa                                 3.75  5.0      390.0  0.364103   \nair-france                                 4.00  5.0      390.0  0.923077   \nair-new-zealand                            4.00  5.0      390.0  0.579487   \nairasia                                    3.00  5.0      239.0  0.213389   \namerican-airlines                          1.00  5.0      390.0  1.015385   \naustrian-airlines                          4.00  5.0      390.0  0.346154   \nbangkok-airways                            5.00  5.0      390.0  0.056410   \nbritish-airways                            4.00  5.0      390.0  0.769231   \nemirates                                   4.00  5.0      390.0  1.389744   \nethiopian-airlines                         4.00  5.0      390.0  0.312821   \nflydubai                                   4.00  5.0      336.0  0.428571   \nfrontier-airlines                          1.00  5.0      390.0  0.389744   \ngulf-air                                   4.00  5.0      350.0  0.242857   \nhawaiian-airlines                          4.00  5.0      390.0  0.448718   \nindigo-airlines                            5.00  5.0      389.0  0.169666   \njapan-airlines                             5.00  5.0      382.0  0.654450   \njet2-com                                   5.00  5.0      385.0  0.142857   \nkenya-airways                              4.00  5.0      387.0  0.198966   \nkorean-air                                 5.00  5.0      390.0  0.264103   \nlufthansa                                  3.00  5.0      390.0  0.725641   \nmalaysia-airlines                          4.00  5.0      390.0  0.374359   \nmonarch-airlines                           4.00  5.0      318.0  0.028302   \noman-air                                   5.00  5.0      390.0  0.471795   \npegasus-airlines                           4.00  5.0      368.0  0.152174   \nphilippine-airlines                        5.00  5.0      390.0  1.156410   \npia-pakistan-international-airlines        4.00  5.0      146.0  0.157534   \nporter-airlines                            4.00  5.0      301.0  0.136213   \nqantas-airways                             3.00  5.0      390.0  0.771795   \nqatar-airways                              5.00  5.0      390.0  2.482051   \nroyal-air-maroc                            4.00  5.0      310.0  0.270968   \nroyal-brunei-airlines                      5.00  5.0      349.0  0.128940   \nroyal-jordanian-airlines                   4.00  5.0      350.0  0.262857   \nryanair                                    3.00  5.0      390.0  0.233333   \nsas-scandinavian-airlines                  3.00  5.0      390.0  0.846154   \nsaudi-arabian-airlines                     4.00  5.0      359.0  0.660167   \nscoot                                      4.00  5.0      390.0  0.443590   \nsingapore-airlines                         5.00  5.0      390.0  1.297436   \nsouth-african-airways                      4.00  5.0      390.0  0.097436   \nsouthwest-airlines                         3.00  5.0      390.0  1.087179   \nspicejet                                   4.00  5.0      390.0  0.548718   \nspirit-airlines                            1.00  5.0      390.0  0.558974   \nsrilankan-airlines                         5.00  5.0      127.0  0.519685   \nsun-country-airlines                       3.00  5.0      297.0  0.454545   \nsunwing-airlines                           3.00  5.0      384.0  0.317708   \nswiss-international-air-lines              4.00  5.0      390.0  0.553846   \nswoop                                      2.00  5.0      390.0  0.302564   \nturkish-airlines                           3.00  5.0      390.0  0.969231   \nukraine-international-airlines             4.00  5.0      377.0  0.299735   \nunited-airlines                            2.00  5.0      390.0  1.115385   \n\n                                                                         \n                                          std  min  25%  50%   75%  max  \nAirName                                                                  \nAir India                            0.667543  0.0  0.0  0.0  1.00  5.0  \nAna                                  1.650796  0.0  0.0  0.0  0.00  5.0  \nair-europa                           0.827387  0.0  0.0  0.0  0.00  5.0  \nair-france                           1.631701  0.0  0.0  0.0  1.00  5.0  \nair-new-zealand                      1.245079  0.0  0.0  0.0  1.00  5.0  \nairasia                              0.667735  0.0  0.0  0.0  0.00  5.0  \namerican-airlines                    1.274536  0.0  0.0  1.0  1.00  5.0  \naustrian-airlines                    0.869756  0.0  0.0  0.0  0.00  5.0  \nbangkok-airways                      0.395212  0.0  0.0  0.0  0.00  5.0  \nbritish-airways                      1.481012  0.0  0.0  0.0  1.00  5.0  \nemirates                             1.623066  0.0  0.0  1.0  3.00  5.0  \nethiopian-airlines                   0.869116  0.0  0.0  0.0  0.00  5.0  \nflydubai                             0.850436  0.0  0.0  0.0  1.00  5.0  \nfrontier-airlines                    0.592930  0.0  0.0  0.0  1.00  5.0  \ngulf-air                             0.822947  0.0  0.0  0.0  0.00  5.0  \nhawaiian-airlines                    0.986378  0.0  0.0  0.0  1.00  5.0  \nindigo-airlines                      0.693865  0.0  0.0  0.0  0.00  5.0  \njapan-airlines                       1.490466  0.0  0.0  0.0  0.00  5.0  \njet2-com                             0.631514  0.0  0.0  0.0  0.00  5.0  \nkenya-airways                        0.614336  0.0  0.0  0.0  0.00  5.0  \nkorean-air                           0.940105  0.0  0.0  0.0  0.00  5.0  \nlufthansa                            1.231176  0.0  0.0  0.0  1.00  5.0  \nmalaysia-airlines                    0.947658  0.0  0.0  0.0  0.00  5.0  \nmonarch-airlines                     0.200514  0.0  0.0  0.0  0.00  2.0  \noman-air                             1.148588  0.0  0.0  0.0  0.00  5.0  \npegasus-airlines                     0.402574  0.0  0.0  0.0  0.00  3.0  \nphilippine-airlines                  1.705472  0.0  0.0  0.0  2.00  5.0  \npia-pakistan-international-airlines  0.450109  0.0  0.0  0.0  0.00  3.0  \nporter-airlines                      0.421961  0.0  0.0  0.0  0.00  3.0  \nqantas-airways                       1.326698  0.0  0.0  0.0  1.00  5.0  \nqatar-airways                        2.205027  0.0  0.0  3.0  5.00  5.0  \nroyal-air-maroc                      1.000386  0.0  0.0  0.0  0.00  5.0  \nroyal-brunei-airlines                0.688989  0.0  0.0  0.0  0.00  5.0  \nroyal-jordanian-airlines             0.632947  0.0  0.0  0.0  0.00  4.0  \nryanair                              0.573105  0.0  0.0  0.0  0.00  5.0  \nsas-scandinavian-airlines            1.313142  0.0  0.0  0.0  1.00  5.0  \nsaudi-arabian-airlines               1.244586  0.0  0.0  0.0  1.00  5.0  \nscoot                                0.996471  0.0  0.0  0.0  0.75  5.0  \nsingapore-airlines                   1.883153  0.0  0.0  0.0  3.00  5.0  \nsouth-african-airways                0.448641  0.0  0.0  0.0  0.00  4.0  \nsouthwest-airlines                   1.365227  0.0  0.0  1.0  1.00  5.0  \nspicejet                             1.165677  0.0  0.0  0.0  1.00  5.0  \nspirit-airlines                      0.775830  0.0  0.0  0.0  1.00  5.0  \nsrilankan-airlines                   1.037781  0.0  0.0  0.0  1.00  5.0  \nsun-country-airlines                 0.865316  0.0  0.0  0.0  1.00  5.0  \nsunwing-airlines                     0.735592  0.0  0.0  0.0  0.00  5.0  \nswiss-international-air-lines        1.264880  0.0  0.0  0.0  0.00  5.0  \nswoop                                0.792473  0.0  0.0  0.0  0.00  5.0  \nturkish-airlines                     1.456861  0.0  0.0  0.0  1.00  5.0  \nukraine-international-airlines       0.562881  0.0  0.0  0.0  1.00  5.0  \nunited-airlines                      1.304341  0.0  0.0  1.0  1.00  5.0  \n\n[51 rows x 104 columns]",
      "text/html": "<div>\n<style scoped>\n    .dataframe tbody tr th:only-of-type {\n        vertical-align: middle;\n    }\n\n    .dataframe tbody tr th {\n        vertical-align: top;\n    }\n\n    .dataframe thead tr th {\n        text-align: left;\n    }\n\n    .dataframe thead tr:last-of-type th {\n        text-align: right;\n    }\n</style>\n<table border=\"1\" class=\"dataframe\">\n  <thead>\n    <tr>\n      <th></th>\n      <th colspan=\"8\" halign=\"left\">Unnamed: 0.1</th>\n      <th colspan=\"2\" halign=\"left\">Unnamed: 0</th>\n      <th>...</th>\n      <th colspan=\"2\" halign=\"left\">ValueRating</th>\n      <th colspan=\"8\" halign=\"left\">WifiRating</th>\n    </tr>\n    <tr>\n      <th></th>\n      <th>count</th>\n      <th>mean</th>\n      <th>std</th>\n      <th>min</th>\n      <th>25%</th>\n      <th>50%</th>\n      <th>75%</th>\n      <th>max</th>\n      <th>count</th>\n      <th>mean</th>\n      <th>...</th>\n      <th>75%</th>\n      <th>max</th>\n      <th>count</th>\n      <th>mean</th>\n      <th>std</th>\n      <th>min</th>\n      <th>25%</th>\n      <th>50%</th>\n      <th>75%</th>\n      <th>max</th>\n    </tr>\n    <tr>\n      <th>AirName</th>\n      <th></th>\n      <th></th>\n      <th></th>\n      <th></th>\n      <th></th>\n      <th></th>\n      <th></th>\n      <th></th>\n      <th></th>\n      <th></th>\n      <th></th>\n      <th></th>\n      <th></th>\n      <th></th>\n      <th></th>\n      <th></th>\n      <th></th>\n      <th></th>\n      <th></th>\n      <th></th>\n      <th></th>\n    </tr>\n  </thead>\n  <tbody>\n    <tr>\n      <th>Air India</th>\n      <td>390.0</td>\n      <td>1213.5</td>\n      <td>112.727548</td>\n      <td>1019.0</td>\n      <td>1116.25</td>\n      <td>1213.5</td>\n      <td>1310.75</td>\n      <td>1408.0</td>\n      <td>390.0</td>\n      <td>1213.5</td>\n      <td>...</td>\n      <td>3.00</td>\n      <td>5.0</td>\n      <td>390.0</td>\n      <td>0.425641</td>\n      <td>0.667543</td>\n      <td>0.0</td>\n      <td>0.0</td>\n      <td>0.0</td>\n      <td>1.00</td>\n      <td>5.0</td>\n    </tr>\n    <tr>\n      <th>Ana</th>\n      <td>390.0</td>\n      <td>2383.5</td>\n      <td>112.727548</td>\n      <td>2189.0</td>\n      <td>2286.25</td>\n      <td>2383.5</td>\n      <td>2480.75</td>\n      <td>2578.0</td>\n      <td>390.0</td>\n      <td>2418.5</td>\n      <td>...</td>\n      <td>5.00</td>\n      <td>5.0</td>\n      <td>390.0</td>\n      <td>0.817949</td>\n      <td>1.650796</td>\n      <td>0.0</td>\n      <td>0.0</td>\n      <td>0.0</td>\n      <td>0.00</td>\n      <td>5.0</td>\n    </tr>\n    <tr>\n      <th>air-europa</th>\n      <td>390.0</td>\n      <td>433.5</td>\n      <td>112.727548</td>\n      <td>239.0</td>\n      <td>336.25</td>\n      <td>433.5</td>\n      <td>530.75</td>\n      <td>628.0</td>\n      <td>390.0</td>\n      <td>433.5</td>\n      <td>...</td>\n      <td>3.75</td>\n      <td>5.0</td>\n      <td>390.0</td>\n      <td>0.364103</td>\n      <td>0.827387</td>\n      <td>0.0</td>\n      <td>0.0</td>\n      <td>0.0</td>\n      <td>0.00</td>\n      <td>5.0</td>\n    </tr>\n    <tr>\n      <th>air-france</th>\n      <td>390.0</td>\n      <td>823.5</td>\n      <td>112.727548</td>\n      <td>629.0</td>\n      <td>726.25</td>\n      <td>823.5</td>\n      <td>920.75</td>\n      <td>1018.0</td>\n      <td>390.0</td>\n      <td>823.5</td>\n      <td>...</td>\n      <td>4.00</td>\n      <td>5.0</td>\n      <td>390.0</td>\n      <td>0.923077</td>\n      <td>1.631701</td>\n      <td>0.0</td>\n      <td>0.0</td>\n      <td>0.0</td>\n      <td>1.00</td>\n      <td>5.0</td>\n    </tr>\n    <tr>\n      <th>air-new-zealand</th>\n      <td>390.0</td>\n      <td>1603.5</td>\n      <td>112.727548</td>\n      <td>1409.0</td>\n      <td>1506.25</td>\n      <td>1603.5</td>\n      <td>1700.75</td>\n      <td>1798.0</td>\n      <td>390.0</td>\n      <td>1634.5</td>\n      <td>...</td>\n      <td>4.00</td>\n      <td>5.0</td>\n      <td>390.0</td>\n      <td>0.579487</td>\n      <td>1.245079</td>\n      <td>0.0</td>\n      <td>0.0</td>\n      <td>0.0</td>\n      <td>1.00</td>\n      <td>5.0</td>\n    </tr>\n    <tr>\n      <th>airasia</th>\n      <td>239.0</td>\n      <td>119.0</td>\n      <td>69.137544</td>\n      <td>0.0</td>\n      <td>59.50</td>\n      <td>119.0</td>\n      <td>178.50</td>\n      <td>238.0</td>\n      <td>239.0</td>\n      <td>119.0</td>\n      <td>...</td>\n      <td>3.00</td>\n      <td>5.0</td>\n      <td>239.0</td>\n      <td>0.213389</td>\n      <td>0.667735</td>\n      <td>0.0</td>\n      <td>0.0</td>\n      <td>0.0</td>\n      <td>0.00</td>\n      <td>5.0</td>\n    </tr>\n    <tr>\n      <th>american-airlines</th>\n      <td>390.0</td>\n      <td>1993.5</td>\n      <td>112.727548</td>\n      <td>1799.0</td>\n      <td>1896.25</td>\n      <td>1993.5</td>\n      <td>2090.75</td>\n      <td>2188.0</td>\n      <td>390.0</td>\n      <td>2028.5</td>\n      <td>...</td>\n      <td>1.00</td>\n      <td>5.0</td>\n      <td>390.0</td>\n      <td>1.015385</td>\n      <td>1.274536</td>\n      <td>0.0</td>\n      <td>0.0</td>\n      <td>1.0</td>\n      <td>1.00</td>\n      <td>5.0</td>\n    </tr>\n    <tr>\n      <th>austrian-airlines</th>\n      <td>390.0</td>\n      <td>2773.5</td>\n      <td>112.727548</td>\n      <td>2579.0</td>\n      <td>2676.25</td>\n      <td>2773.5</td>\n      <td>2870.75</td>\n      <td>2968.0</td>\n      <td>390.0</td>\n      <td>2817.5</td>\n      <td>...</td>\n      <td>4.00</td>\n      <td>5.0</td>\n      <td>390.0</td>\n      <td>0.346154</td>\n      <td>0.869756</td>\n      <td>0.0</td>\n      <td>0.0</td>\n      <td>0.0</td>\n      <td>0.00</td>\n      <td>5.0</td>\n    </tr>\n    <tr>\n      <th>bangkok-airways</th>\n      <td>390.0</td>\n      <td>3163.5</td>\n      <td>112.727548</td>\n      <td>2969.0</td>\n      <td>3066.25</td>\n      <td>3163.5</td>\n      <td>3260.75</td>\n      <td>3358.0</td>\n      <td>390.0</td>\n      <td>3229.5</td>\n      <td>...</td>\n      <td>5.00</td>\n      <td>5.0</td>\n      <td>390.0</td>\n      <td>0.056410</td>\n      <td>0.395212</td>\n      <td>0.0</td>\n      <td>0.0</td>\n      <td>0.0</td>\n      <td>0.00</td>\n      <td>5.0</td>\n    </tr>\n    <tr>\n      <th>british-airways</th>\n      <td>390.0</td>\n      <td>3553.5</td>\n      <td>112.727548</td>\n      <td>3359.0</td>\n      <td>3456.25</td>\n      <td>3553.5</td>\n      <td>3650.75</td>\n      <td>3748.0</td>\n      <td>390.0</td>\n      <td>3624.5</td>\n      <td>...</td>\n      <td>4.00</td>\n      <td>5.0</td>\n      <td>390.0</td>\n      <td>0.769231</td>\n      <td>1.481012</td>\n      <td>0.0</td>\n      <td>0.0</td>\n      <td>0.0</td>\n      <td>1.00</td>\n      <td>5.0</td>\n    </tr>\n    <tr>\n      <th>emirates</th>\n      <td>390.0</td>\n      <td>3943.5</td>\n      <td>112.727548</td>\n      <td>3749.0</td>\n      <td>3846.25</td>\n      <td>3943.5</td>\n      <td>4040.75</td>\n      <td>4138.0</td>\n      <td>390.0</td>\n      <td>4014.5</td>\n      <td>...</td>\n      <td>4.00</td>\n      <td>5.0</td>\n      <td>390.0</td>\n      <td>1.389744</td>\n      <td>1.623066</td>\n      <td>0.0</td>\n      <td>0.0</td>\n      <td>1.0</td>\n      <td>3.00</td>\n      <td>5.0</td>\n    </tr>\n    <tr>\n      <th>ethiopian-airlines</th>\n      <td>390.0</td>\n      <td>4333.5</td>\n      <td>112.727548</td>\n      <td>4139.0</td>\n      <td>4236.25</td>\n      <td>4333.5</td>\n      <td>4430.75</td>\n      <td>4528.0</td>\n      <td>390.0</td>\n      <td>4404.5</td>\n      <td>...</td>\n      <td>4.00</td>\n      <td>5.0</td>\n      <td>390.0</td>\n      <td>0.312821</td>\n      <td>0.869116</td>\n      <td>0.0</td>\n      <td>0.0</td>\n      <td>0.0</td>\n      <td>0.00</td>\n      <td>5.0</td>\n    </tr>\n    <tr>\n      <th>flydubai</th>\n      <td>336.0</td>\n      <td>4696.5</td>\n      <td>97.139076</td>\n      <td>4529.0</td>\n      <td>4612.75</td>\n      <td>4696.5</td>\n      <td>4780.25</td>\n      <td>4864.0</td>\n      <td>336.0</td>\n      <td>4767.5</td>\n      <td>...</td>\n      <td>4.00</td>\n      <td>5.0</td>\n      <td>336.0</td>\n      <td>0.428571</td>\n      <td>0.850436</td>\n      <td>0.0</td>\n      <td>0.0</td>\n      <td>0.0</td>\n      <td>1.00</td>\n      <td>5.0</td>\n    </tr>\n    <tr>\n      <th>frontier-airlines</th>\n      <td>390.0</td>\n      <td>5059.5</td>\n      <td>112.727548</td>\n      <td>4865.0</td>\n      <td>4962.25</td>\n      <td>5059.5</td>\n      <td>5156.75</td>\n      <td>5254.0</td>\n      <td>390.0</td>\n      <td>5130.5</td>\n      <td>...</td>\n      <td>1.00</td>\n      <td>5.0</td>\n      <td>390.0</td>\n      <td>0.389744</td>\n      <td>0.592930</td>\n      <td>0.0</td>\n      <td>0.0</td>\n      <td>0.0</td>\n      <td>1.00</td>\n      <td>5.0</td>\n    </tr>\n    <tr>\n      <th>gulf-air</th>\n      <td>350.0</td>\n      <td>5429.5</td>\n      <td>101.180532</td>\n      <td>5255.0</td>\n      <td>5342.25</td>\n      <td>5429.5</td>\n      <td>5516.75</td>\n      <td>5604.0</td>\n      <td>350.0</td>\n      <td>5500.5</td>\n      <td>...</td>\n      <td>4.00</td>\n      <td>5.0</td>\n      <td>350.0</td>\n      <td>0.242857</td>\n      <td>0.822947</td>\n      <td>0.0</td>\n      <td>0.0</td>\n      <td>0.0</td>\n      <td>0.00</td>\n      <td>5.0</td>\n    </tr>\n    <tr>\n      <th>hawaiian-airlines</th>\n      <td>390.0</td>\n      <td>5799.5</td>\n      <td>112.727548</td>\n      <td>5605.0</td>\n      <td>5702.25</td>\n      <td>5799.5</td>\n      <td>5896.75</td>\n      <td>5994.0</td>\n      <td>390.0</td>\n      <td>5870.5</td>\n      <td>...</td>\n      <td>4.00</td>\n      <td>5.0</td>\n      <td>390.0</td>\n      <td>0.448718</td>\n      <td>0.986378</td>\n      <td>0.0</td>\n      <td>0.0</td>\n      <td>0.0</td>\n      <td>1.00</td>\n      <td>5.0</td>\n    </tr>\n    <tr>\n      <th>indigo-airlines</th>\n      <td>389.0</td>\n      <td>6189.0</td>\n      <td>112.438872</td>\n      <td>5995.0</td>\n      <td>6092.00</td>\n      <td>6189.0</td>\n      <td>6286.00</td>\n      <td>6383.0</td>\n      <td>389.0</td>\n      <td>6260.0</td>\n      <td>...</td>\n      <td>5.00</td>\n      <td>5.0</td>\n      <td>389.0</td>\n      <td>0.169666</td>\n      <td>0.693865</td>\n      <td>0.0</td>\n      <td>0.0</td>\n      <td>0.0</td>\n      <td>0.00</td>\n      <td>5.0</td>\n    </tr>\n    <tr>\n      <th>japan-airlines</th>\n      <td>382.0</td>\n      <td>6574.5</td>\n      <td>110.418145</td>\n      <td>6384.0</td>\n      <td>6479.25</td>\n      <td>6574.5</td>\n      <td>6669.75</td>\n      <td>6765.0</td>\n      <td>382.0</td>\n      <td>6645.5</td>\n      <td>...</td>\n      <td>5.00</td>\n      <td>5.0</td>\n      <td>382.0</td>\n      <td>0.654450</td>\n      <td>1.490466</td>\n      <td>0.0</td>\n      <td>0.0</td>\n      <td>0.0</td>\n      <td>0.00</td>\n      <td>5.0</td>\n    </tr>\n    <tr>\n      <th>jet2-com</th>\n      <td>385.0</td>\n      <td>6958.0</td>\n      <td>111.284171</td>\n      <td>6766.0</td>\n      <td>6862.00</td>\n      <td>6958.0</td>\n      <td>7054.00</td>\n      <td>7150.0</td>\n      <td>385.0</td>\n      <td>7029.0</td>\n      <td>...</td>\n      <td>5.00</td>\n      <td>5.0</td>\n      <td>385.0</td>\n      <td>0.142857</td>\n      <td>0.631514</td>\n      <td>0.0</td>\n      <td>0.0</td>\n      <td>0.0</td>\n      <td>0.00</td>\n      <td>5.0</td>\n    </tr>\n    <tr>\n      <th>kenya-airways</th>\n      <td>387.0</td>\n      <td>7344.0</td>\n      <td>111.861522</td>\n      <td>7151.0</td>\n      <td>7247.50</td>\n      <td>7344.0</td>\n      <td>7440.50</td>\n      <td>7537.0</td>\n      <td>387.0</td>\n      <td>7415.0</td>\n      <td>...</td>\n      <td>4.00</td>\n      <td>5.0</td>\n      <td>387.0</td>\n      <td>0.198966</td>\n      <td>0.614336</td>\n      <td>0.0</td>\n      <td>0.0</td>\n      <td>0.0</td>\n      <td>0.00</td>\n      <td>5.0</td>\n    </tr>\n    <tr>\n      <th>korean-air</th>\n      <td>390.0</td>\n      <td>7732.5</td>\n      <td>112.727548</td>\n      <td>7538.0</td>\n      <td>7635.25</td>\n      <td>7732.5</td>\n      <td>7829.75</td>\n      <td>7927.0</td>\n      <td>390.0</td>\n      <td>7803.5</td>\n      <td>...</td>\n      <td>5.00</td>\n      <td>5.0</td>\n      <td>390.0</td>\n      <td>0.264103</td>\n      <td>0.940105</td>\n      <td>0.0</td>\n      <td>0.0</td>\n      <td>0.0</td>\n      <td>0.00</td>\n      <td>5.0</td>\n    </tr>\n    <tr>\n      <th>lufthansa</th>\n      <td>390.0</td>\n      <td>8122.5</td>\n      <td>112.727548</td>\n      <td>7928.0</td>\n      <td>8025.25</td>\n      <td>8122.5</td>\n      <td>8219.75</td>\n      <td>8317.0</td>\n      <td>390.0</td>\n      <td>8193.5</td>\n      <td>...</td>\n      <td>3.00</td>\n      <td>5.0</td>\n      <td>390.0</td>\n      <td>0.725641</td>\n      <td>1.231176</td>\n      <td>0.0</td>\n      <td>0.0</td>\n      <td>0.0</td>\n      <td>1.00</td>\n      <td>5.0</td>\n    </tr>\n    <tr>\n      <th>malaysia-airlines</th>\n      <td>390.0</td>\n      <td>8512.5</td>\n      <td>112.727548</td>\n      <td>8318.0</td>\n      <td>8415.25</td>\n      <td>8512.5</td>\n      <td>8609.75</td>\n      <td>8707.0</td>\n      <td>390.0</td>\n      <td>8583.5</td>\n      <td>...</td>\n      <td>4.00</td>\n      <td>5.0</td>\n      <td>390.0</td>\n      <td>0.374359</td>\n      <td>0.947658</td>\n      <td>0.0</td>\n      <td>0.0</td>\n      <td>0.0</td>\n      <td>0.00</td>\n      <td>5.0</td>\n    </tr>\n    <tr>\n      <th>monarch-airlines</th>\n      <td>318.0</td>\n      <td>8866.5</td>\n      <td>91.942917</td>\n      <td>8708.0</td>\n      <td>8787.25</td>\n      <td>8866.5</td>\n      <td>8945.75</td>\n      <td>9025.0</td>\n      <td>318.0</td>\n      <td>8937.5</td>\n      <td>...</td>\n      <td>4.00</td>\n      <td>5.0</td>\n      <td>318.0</td>\n      <td>0.028302</td>\n      <td>0.200514</td>\n      <td>0.0</td>\n      <td>0.0</td>\n      <td>0.0</td>\n      <td>0.00</td>\n      <td>2.0</td>\n    </tr>\n    <tr>\n      <th>oman-air</th>\n      <td>390.0</td>\n      <td>9220.5</td>\n      <td>112.727548</td>\n      <td>9026.0</td>\n      <td>9123.25</td>\n      <td>9220.5</td>\n      <td>9317.75</td>\n      <td>9415.0</td>\n      <td>390.0</td>\n      <td>9407.5</td>\n      <td>...</td>\n      <td>5.00</td>\n      <td>5.0</td>\n      <td>390.0</td>\n      <td>0.471795</td>\n      <td>1.148588</td>\n      <td>0.0</td>\n      <td>0.0</td>\n      <td>0.0</td>\n      <td>0.00</td>\n      <td>5.0</td>\n    </tr>\n    <tr>\n      <th>pegasus-airlines</th>\n      <td>368.0</td>\n      <td>9599.5</td>\n      <td>106.376689</td>\n      <td>9416.0</td>\n      <td>9507.75</td>\n      <td>9599.5</td>\n      <td>9691.25</td>\n      <td>9783.0</td>\n      <td>368.0</td>\n      <td>9786.5</td>\n      <td>...</td>\n      <td>4.00</td>\n      <td>5.0</td>\n      <td>368.0</td>\n      <td>0.152174</td>\n      <td>0.402574</td>\n      <td>0.0</td>\n      <td>0.0</td>\n      <td>0.0</td>\n      <td>0.00</td>\n      <td>3.0</td>\n    </tr>\n    <tr>\n      <th>philippine-airlines</th>\n      <td>390.0</td>\n      <td>9978.5</td>\n      <td>112.727548</td>\n      <td>9784.0</td>\n      <td>9881.25</td>\n      <td>9978.5</td>\n      <td>10075.75</td>\n      <td>10173.0</td>\n      <td>390.0</td>\n      <td>10165.5</td>\n      <td>...</td>\n      <td>5.00</td>\n      <td>5.0</td>\n      <td>390.0</td>\n      <td>1.156410</td>\n      <td>1.705472</td>\n      <td>0.0</td>\n      <td>0.0</td>\n      <td>0.0</td>\n      <td>2.00</td>\n      <td>5.0</td>\n    </tr>\n    <tr>\n      <th>pia-pakistan-international-airlines</th>\n      <td>146.0</td>\n      <td>10246.5</td>\n      <td>42.290661</td>\n      <td>10174.0</td>\n      <td>10210.25</td>\n      <td>10246.5</td>\n      <td>10282.75</td>\n      <td>10319.0</td>\n      <td>146.0</td>\n      <td>10433.5</td>\n      <td>...</td>\n      <td>4.00</td>\n      <td>5.0</td>\n      <td>146.0</td>\n      <td>0.157534</td>\n      <td>0.450109</td>\n      <td>0.0</td>\n      <td>0.0</td>\n      <td>0.0</td>\n      <td>0.00</td>\n      <td>3.0</td>\n    </tr>\n    <tr>\n      <th>porter-airlines</th>\n      <td>301.0</td>\n      <td>10470.0</td>\n      <td>87.035433</td>\n      <td>10320.0</td>\n      <td>10395.00</td>\n      <td>10470.0</td>\n      <td>10545.00</td>\n      <td>10620.0</td>\n      <td>301.0</td>\n      <td>10657.0</td>\n      <td>...</td>\n      <td>4.00</td>\n      <td>5.0</td>\n      <td>301.0</td>\n      <td>0.136213</td>\n      <td>0.421961</td>\n      <td>0.0</td>\n      <td>0.0</td>\n      <td>0.0</td>\n      <td>0.00</td>\n      <td>3.0</td>\n    </tr>\n    <tr>\n      <th>qantas-airways</th>\n      <td>390.0</td>\n      <td>10815.5</td>\n      <td>112.727548</td>\n      <td>10621.0</td>\n      <td>10718.25</td>\n      <td>10815.5</td>\n      <td>10912.75</td>\n      <td>11010.0</td>\n      <td>390.0</td>\n      <td>11002.5</td>\n      <td>...</td>\n      <td>3.00</td>\n      <td>5.0</td>\n      <td>390.0</td>\n      <td>0.771795</td>\n      <td>1.326698</td>\n      <td>0.0</td>\n      <td>0.0</td>\n      <td>0.0</td>\n      <td>1.00</td>\n      <td>5.0</td>\n    </tr>\n    <tr>\n      <th>qatar-airways</th>\n      <td>390.0</td>\n      <td>11205.5</td>\n      <td>112.727548</td>\n      <td>11011.0</td>\n      <td>11108.25</td>\n      <td>11205.5</td>\n      <td>11302.75</td>\n      <td>11400.0</td>\n      <td>390.0</td>\n      <td>11392.5</td>\n      <td>...</td>\n      <td>5.00</td>\n      <td>5.0</td>\n      <td>390.0</td>\n      <td>2.482051</td>\n      <td>2.205027</td>\n      <td>0.0</td>\n      <td>0.0</td>\n      <td>3.0</td>\n      <td>5.00</td>\n      <td>5.0</td>\n    </tr>\n    <tr>\n      <th>royal-air-maroc</th>\n      <td>310.0</td>\n      <td>11555.5</td>\n      <td>89.633513</td>\n      <td>11401.0</td>\n      <td>11478.25</td>\n      <td>11555.5</td>\n      <td>11632.75</td>\n      <td>11710.0</td>\n      <td>310.0</td>\n      <td>11742.5</td>\n      <td>...</td>\n      <td>4.00</td>\n      <td>5.0</td>\n      <td>310.0</td>\n      <td>0.270968</td>\n      <td>1.000386</td>\n      <td>0.0</td>\n      <td>0.0</td>\n      <td>0.0</td>\n      <td>0.00</td>\n      <td>5.0</td>\n    </tr>\n    <tr>\n      <th>royal-brunei-airlines</th>\n      <td>349.0</td>\n      <td>11885.0</td>\n      <td>100.891856</td>\n      <td>11711.0</td>\n      <td>11798.00</td>\n      <td>11885.0</td>\n      <td>11972.00</td>\n      <td>12059.0</td>\n      <td>349.0</td>\n      <td>12072.0</td>\n      <td>...</td>\n      <td>5.00</td>\n      <td>5.0</td>\n      <td>349.0</td>\n      <td>0.128940</td>\n      <td>0.688989</td>\n      <td>0.0</td>\n      <td>0.0</td>\n      <td>0.0</td>\n      <td>0.00</td>\n      <td>5.0</td>\n    </tr>\n    <tr>\n      <th>royal-jordanian-airlines</th>\n      <td>350.0</td>\n      <td>12234.5</td>\n      <td>101.180532</td>\n      <td>12060.0</td>\n      <td>12147.25</td>\n      <td>12234.5</td>\n      <td>12321.75</td>\n      <td>12409.0</td>\n      <td>350.0</td>\n      <td>12421.5</td>\n      <td>...</td>\n      <td>4.00</td>\n      <td>5.0</td>\n      <td>350.0</td>\n      <td>0.262857</td>\n      <td>0.632947</td>\n      <td>0.0</td>\n      <td>0.0</td>\n      <td>0.0</td>\n      <td>0.00</td>\n      <td>4.0</td>\n    </tr>\n    <tr>\n      <th>ryanair</th>\n      <td>390.0</td>\n      <td>12604.5</td>\n      <td>112.727548</td>\n      <td>12410.0</td>\n      <td>12507.25</td>\n      <td>12604.5</td>\n      <td>12701.75</td>\n      <td>12799.0</td>\n      <td>390.0</td>\n      <td>12791.5</td>\n      <td>...</td>\n      <td>3.00</td>\n      <td>5.0</td>\n      <td>390.0</td>\n      <td>0.233333</td>\n      <td>0.573105</td>\n      <td>0.0</td>\n      <td>0.0</td>\n      <td>0.0</td>\n      <td>0.00</td>\n      <td>5.0</td>\n    </tr>\n    <tr>\n      <th>sas-scandinavian-airlines</th>\n      <td>390.0</td>\n      <td>12994.5</td>\n      <td>112.727548</td>\n      <td>12800.0</td>\n      <td>12897.25</td>\n      <td>12994.5</td>\n      <td>13091.75</td>\n      <td>13189.0</td>\n      <td>390.0</td>\n      <td>13181.5</td>\n      <td>...</td>\n      <td>3.00</td>\n      <td>5.0</td>\n      <td>390.0</td>\n      <td>0.846154</td>\n      <td>1.313142</td>\n      <td>0.0</td>\n      <td>0.0</td>\n      <td>0.0</td>\n      <td>1.00</td>\n      <td>5.0</td>\n    </tr>\n    <tr>\n      <th>saudi-arabian-airlines</th>\n      <td>359.0</td>\n      <td>13369.0</td>\n      <td>103.778611</td>\n      <td>13190.0</td>\n      <td>13279.50</td>\n      <td>13369.0</td>\n      <td>13458.50</td>\n      <td>13548.0</td>\n      <td>359.0</td>\n      <td>13556.0</td>\n      <td>...</td>\n      <td>4.00</td>\n      <td>5.0</td>\n      <td>359.0</td>\n      <td>0.660167</td>\n      <td>1.244586</td>\n      <td>0.0</td>\n      <td>0.0</td>\n      <td>0.0</td>\n      <td>1.00</td>\n      <td>5.0</td>\n    </tr>\n    <tr>\n      <th>scoot</th>\n      <td>390.0</td>\n      <td>13743.5</td>\n      <td>112.727548</td>\n      <td>13549.0</td>\n      <td>13646.25</td>\n      <td>13743.5</td>\n      <td>13840.75</td>\n      <td>13938.0</td>\n      <td>390.0</td>\n      <td>13930.5</td>\n      <td>...</td>\n      <td>4.00</td>\n      <td>5.0</td>\n      <td>390.0</td>\n      <td>0.443590</td>\n      <td>0.996471</td>\n      <td>0.0</td>\n      <td>0.0</td>\n      <td>0.0</td>\n      <td>0.75</td>\n      <td>5.0</td>\n    </tr>\n    <tr>\n      <th>singapore-airlines</th>\n      <td>390.0</td>\n      <td>14133.5</td>\n      <td>112.727548</td>\n      <td>13939.0</td>\n      <td>14036.25</td>\n      <td>14133.5</td>\n      <td>14230.75</td>\n      <td>14328.0</td>\n      <td>390.0</td>\n      <td>14320.5</td>\n      <td>...</td>\n      <td>5.00</td>\n      <td>5.0</td>\n      <td>390.0</td>\n      <td>1.297436</td>\n      <td>1.883153</td>\n      <td>0.0</td>\n      <td>0.0</td>\n      <td>0.0</td>\n      <td>3.00</td>\n      <td>5.0</td>\n    </tr>\n    <tr>\n      <th>south-african-airways</th>\n      <td>390.0</td>\n      <td>14523.5</td>\n      <td>112.727548</td>\n      <td>14329.0</td>\n      <td>14426.25</td>\n      <td>14523.5</td>\n      <td>14620.75</td>\n      <td>14718.0</td>\n      <td>390.0</td>\n      <td>14710.5</td>\n      <td>...</td>\n      <td>4.00</td>\n      <td>5.0</td>\n      <td>390.0</td>\n      <td>0.097436</td>\n      <td>0.448641</td>\n      <td>0.0</td>\n      <td>0.0</td>\n      <td>0.0</td>\n      <td>0.00</td>\n      <td>4.0</td>\n    </tr>\n    <tr>\n      <th>southwest-airlines</th>\n      <td>390.0</td>\n      <td>14913.5</td>\n      <td>112.727548</td>\n      <td>14719.0</td>\n      <td>14816.25</td>\n      <td>14913.5</td>\n      <td>15010.75</td>\n      <td>15108.0</td>\n      <td>390.0</td>\n      <td>15100.5</td>\n      <td>...</td>\n      <td>3.00</td>\n      <td>5.0</td>\n      <td>390.0</td>\n      <td>1.087179</td>\n      <td>1.365227</td>\n      <td>0.0</td>\n      <td>0.0</td>\n      <td>1.0</td>\n      <td>1.00</td>\n      <td>5.0</td>\n    </tr>\n    <tr>\n      <th>spicejet</th>\n      <td>390.0</td>\n      <td>15303.5</td>\n      <td>112.727548</td>\n      <td>15109.0</td>\n      <td>15206.25</td>\n      <td>15303.5</td>\n      <td>15400.75</td>\n      <td>15498.0</td>\n      <td>390.0</td>\n      <td>15490.5</td>\n      <td>...</td>\n      <td>4.00</td>\n      <td>5.0</td>\n      <td>390.0</td>\n      <td>0.548718</td>\n      <td>1.165677</td>\n      <td>0.0</td>\n      <td>0.0</td>\n      <td>0.0</td>\n      <td>1.00</td>\n      <td>5.0</td>\n    </tr>\n    <tr>\n      <th>spirit-airlines</th>\n      <td>390.0</td>\n      <td>15693.5</td>\n      <td>112.727548</td>\n      <td>15499.0</td>\n      <td>15596.25</td>\n      <td>15693.5</td>\n      <td>15790.75</td>\n      <td>15888.0</td>\n      <td>390.0</td>\n      <td>15880.5</td>\n      <td>...</td>\n      <td>1.00</td>\n      <td>5.0</td>\n      <td>390.0</td>\n      <td>0.558974</td>\n      <td>0.775830</td>\n      <td>0.0</td>\n      <td>0.0</td>\n      <td>0.0</td>\n      <td>1.00</td>\n      <td>5.0</td>\n    </tr>\n    <tr>\n      <th>srilankan-airlines</th>\n      <td>127.0</td>\n      <td>15952.0</td>\n      <td>36.805797</td>\n      <td>15889.0</td>\n      <td>15920.50</td>\n      <td>15952.0</td>\n      <td>15983.50</td>\n      <td>16015.0</td>\n      <td>127.0</td>\n      <td>16139.0</td>\n      <td>...</td>\n      <td>5.00</td>\n      <td>5.0</td>\n      <td>127.0</td>\n      <td>0.519685</td>\n      <td>1.037781</td>\n      <td>0.0</td>\n      <td>0.0</td>\n      <td>0.0</td>\n      <td>1.00</td>\n      <td>5.0</td>\n    </tr>\n    <tr>\n      <th>sun-country-airlines</th>\n      <td>297.0</td>\n      <td>16164.0</td>\n      <td>85.880731</td>\n      <td>16016.0</td>\n      <td>16090.00</td>\n      <td>16164.0</td>\n      <td>16238.00</td>\n      <td>16312.0</td>\n      <td>297.0</td>\n      <td>16351.0</td>\n      <td>...</td>\n      <td>3.00</td>\n      <td>5.0</td>\n      <td>297.0</td>\n      <td>0.454545</td>\n      <td>0.865316</td>\n      <td>0.0</td>\n      <td>0.0</td>\n      <td>0.0</td>\n      <td>1.00</td>\n      <td>5.0</td>\n    </tr>\n    <tr>\n      <th>sunwing-airlines</th>\n      <td>384.0</td>\n      <td>16504.5</td>\n      <td>110.995495</td>\n      <td>16313.0</td>\n      <td>16408.75</td>\n      <td>16504.5</td>\n      <td>16600.25</td>\n      <td>16696.0</td>\n      <td>384.0</td>\n      <td>16691.5</td>\n      <td>...</td>\n      <td>3.00</td>\n      <td>5.0</td>\n      <td>384.0</td>\n      <td>0.317708</td>\n      <td>0.735592</td>\n      <td>0.0</td>\n      <td>0.0</td>\n      <td>0.0</td>\n      <td>0.00</td>\n      <td>5.0</td>\n    </tr>\n    <tr>\n      <th>swiss-international-air-lines</th>\n      <td>390.0</td>\n      <td>16891.5</td>\n      <td>112.727548</td>\n      <td>16697.0</td>\n      <td>16794.25</td>\n      <td>16891.5</td>\n      <td>16988.75</td>\n      <td>17086.0</td>\n      <td>390.0</td>\n      <td>17078.5</td>\n      <td>...</td>\n      <td>4.00</td>\n      <td>5.0</td>\n      <td>390.0</td>\n      <td>0.553846</td>\n      <td>1.264880</td>\n      <td>0.0</td>\n      <td>0.0</td>\n      <td>0.0</td>\n      <td>0.00</td>\n      <td>5.0</td>\n    </tr>\n    <tr>\n      <th>swoop</th>\n      <td>390.0</td>\n      <td>17281.5</td>\n      <td>112.727548</td>\n      <td>17087.0</td>\n      <td>17184.25</td>\n      <td>17281.5</td>\n      <td>17378.75</td>\n      <td>17476.0</td>\n      <td>390.0</td>\n      <td>17468.5</td>\n      <td>...</td>\n      <td>2.00</td>\n      <td>5.0</td>\n      <td>390.0</td>\n      <td>0.302564</td>\n      <td>0.792473</td>\n      <td>0.0</td>\n      <td>0.0</td>\n      <td>0.0</td>\n      <td>0.00</td>\n      <td>5.0</td>\n    </tr>\n    <tr>\n      <th>turkish-airlines</th>\n      <td>390.0</td>\n      <td>17671.5</td>\n      <td>112.727548</td>\n      <td>17477.0</td>\n      <td>17574.25</td>\n      <td>17671.5</td>\n      <td>17768.75</td>\n      <td>17866.0</td>\n      <td>390.0</td>\n      <td>17858.5</td>\n      <td>...</td>\n      <td>3.00</td>\n      <td>5.0</td>\n      <td>390.0</td>\n      <td>0.969231</td>\n      <td>1.456861</td>\n      <td>0.0</td>\n      <td>0.0</td>\n      <td>0.0</td>\n      <td>1.00</td>\n      <td>5.0</td>\n    </tr>\n    <tr>\n      <th>ukraine-international-airlines</th>\n      <td>377.0</td>\n      <td>18055.0</td>\n      <td>108.974768</td>\n      <td>17867.0</td>\n      <td>17961.00</td>\n      <td>18055.0</td>\n      <td>18149.00</td>\n      <td>18243.0</td>\n      <td>377.0</td>\n      <td>18242.0</td>\n      <td>...</td>\n      <td>4.00</td>\n      <td>5.0</td>\n      <td>377.0</td>\n      <td>0.299735</td>\n      <td>0.562881</td>\n      <td>0.0</td>\n      <td>0.0</td>\n      <td>0.0</td>\n      <td>1.00</td>\n      <td>5.0</td>\n    </tr>\n    <tr>\n      <th>united-airlines</th>\n      <td>390.0</td>\n      <td>18438.5</td>\n      <td>112.727548</td>\n      <td>18244.0</td>\n      <td>18341.25</td>\n      <td>18438.5</td>\n      <td>18535.75</td>\n      <td>18633.0</td>\n      <td>390.0</td>\n      <td>18625.5</td>\n      <td>...</td>\n      <td>2.00</td>\n      <td>5.0</td>\n      <td>390.0</td>\n      <td>1.115385</td>\n      <td>1.304341</td>\n      <td>0.0</td>\n      <td>0.0</td>\n      <td>1.0</td>\n      <td>1.00</td>\n      <td>5.0</td>\n    </tr>\n  </tbody>\n</table>\n<p>51 rows × 104 columns</p>\n</div>"
     },
     "execution_count": 53,
     "metadata": {},
     "output_type": "execute_result"
    }
   ],
   "source": [
    "reviews_by_airline.describe()"
   ],
   "metadata": {
    "collapsed": false,
    "ExecuteTime": {
     "end_time": "2024-01-30T00:17:40.548577Z",
     "start_time": "2024-01-30T00:17:40.235668Z"
    }
   },
   "id": "7cece0256224b38a"
  },
  {
   "cell_type": "code",
   "execution_count": 55,
   "outputs": [
    {
     "name": "stdout",
     "output_type": "stream",
     "text": [
      "Topic #0:\n",
      "flight ticket bag airline customer service refund luggage pay booked\n",
      "\n",
      "Topic #1:\n",
      "flight seat time booked air year delhi india asked wife\n",
      "\n",
      "Topic #2:\n",
      "flight hour delayed time airport delay airline day pm minute\n",
      "\n",
      "Topic #3:\n",
      "seat flight staff bangkok check airport extra leg crew room\n",
      "\n",
      "Topic #4:\n",
      "check boarding lounge airport johannesburg business class airway counter nairobi\n",
      "\n",
      "Topic #5:\n",
      "flight service air paris airline casablanca experience business doha customer\n",
      "\n",
      "Topic #6:\n",
      "flight seat food good service crew cabin class business time\n",
      "\n",
      "Topic #7:\n",
      "airline time fly service experience flight worst istanbul review flying\n",
      "\n",
      "Topic #8:\n",
      "flight time th flew airline return crew staff plane jet\n",
      "\n",
      "Topic #9:\n",
      "flight seat plane aircraft staff kuala lumpur boarding crew old\n"
     ]
    }
   ],
   "source": [
    "import pandas as pd\n",
    "import numpy as np\n",
    "from sklearn.feature_extraction.text import CountVectorizer\n",
    "from sklearn.decomposition import LatentDirichletAllocation\n",
    "from nltk.sentiment import SentimentIntensityAnalyzer\n",
    "\n",
    "# Load the preprocessed data\n",
    "df = pd.read_csv('../datasets/ProcessedData.csv')\n",
    "\n",
    "# Create a count vectorizer and fit it to the text data\n",
    "vectorizer = CountVectorizer(stop_words='english')\n",
    "X = vectorizer.fit_transform(df['Review'])\n",
    "\n",
    "# Set the number of topics and fit the LDA model\n",
    "num_topics = 10\n",
    "lda = LatentDirichletAllocation(n_components=num_topics, random_state=42)\n",
    "lda.fit(X)\n",
    "\n",
    "drivers = []\n",
    "# Print the top 10 words for each topic\n",
    "feature_names = vectorizer.get_feature_names_out()\n",
    "for topic_idx, topic in enumerate(lda.components_):\n",
    "    print(\"Topic #%d:\" % topic_idx)\n",
    "    top_words = [feature_names[i] for i in topic.argsort()[:-11:-1]]\n",
    "    print(\" \".join(top_words))\n",
    "    print()\n",
    "    drivers.append(\" \".join(top_words))"
   ],
   "metadata": {
    "collapsed": false,
    "ExecuteTime": {
     "end_time": "2024-01-30T00:19:14.958858Z",
     "start_time": "2024-01-30T00:18:55.276399Z"
    }
   },
   "id": "5f513dfe0d633f0"
  },
  {
   "cell_type": "code",
   "execution_count": 56,
   "outputs": [
    {
     "data": {
      "text/plain": "['flight ticket bag airline customer service refund luggage pay booked',\n 'flight seat time booked air year delhi india asked wife',\n 'flight hour delayed time airport delay airline day pm minute',\n 'seat flight staff bangkok check airport extra leg crew room',\n 'check boarding lounge airport johannesburg business class airway counter nairobi',\n 'flight service air paris airline casablanca experience business doha customer',\n 'flight seat food good service crew cabin class business time',\n 'airline time fly service experience flight worst istanbul review flying',\n 'flight time th flew airline return crew staff plane jet',\n 'flight seat plane aircraft staff kuala lumpur boarding crew old']"
     },
     "execution_count": 56,
     "metadata": {},
     "output_type": "execute_result"
    }
   ],
   "source": [
    "drivers"
   ],
   "metadata": {
    "collapsed": false,
    "ExecuteTime": {
     "end_time": "2024-01-30T00:19:30.552145Z",
     "start_time": "2024-01-30T00:19:30.484004Z"
    }
   },
   "id": "c0125c15df3533bd"
  },
  {
   "cell_type": "code",
   "execution_count": 57,
   "outputs": [
    {
     "name": "stdout",
     "output_type": "stream",
     "text": [
      "Collecting textblob\r\n",
      "  Downloading textblob-0.17.1-py2.py3-none-any.whl (636 kB)\r\n",
      "\u001B[2K     \u001B[90m━━━━━━━━━━━━━━━━━━━━━━━━━━━━━━━━━━━━━━━\u001B[0m \u001B[32m636.8/636.8 kB\u001B[0m \u001B[31m2.1 MB/s\u001B[0m eta \u001B[36m0:00:00\u001B[0m00:01\u001B[0m00:01\u001B[0m\r\n",
      "\u001B[?25hRequirement already satisfied: nltk>=3.1 in /Users/surya/anaconda3/envs/tf-metal/lib/python3.10/site-packages (from textblob) (3.8.1)\r\n",
      "Requirement already satisfied: click in /Users/surya/anaconda3/envs/tf-metal/lib/python3.10/site-packages (from nltk>=3.1->textblob) (8.1.3)\r\n",
      "Requirement already satisfied: joblib in /Users/surya/anaconda3/envs/tf-metal/lib/python3.10/site-packages (from nltk>=3.1->textblob) (1.2.0)\r\n",
      "Requirement already satisfied: regex>=2021.8.3 in /Users/surya/anaconda3/envs/tf-metal/lib/python3.10/site-packages (from nltk>=3.1->textblob) (2023.10.3)\r\n",
      "Requirement already satisfied: tqdm in /Users/surya/anaconda3/envs/tf-metal/lib/python3.10/site-packages (from nltk>=3.1->textblob) (4.65.0)\r\n",
      "Installing collected packages: textblob\r\n",
      "Successfully installed textblob-0.17.1\r\n",
      "[nltk_data] Downloading package brown to /Users/surya/nltk_data...\r\n",
      "[nltk_data]   Unzipping corpora/brown.zip.\r\n",
      "[nltk_data] Downloading package punkt to /Users/surya/nltk_data...\r\n",
      "[nltk_data]   Package punkt is already up-to-date!\r\n",
      "[nltk_data] Downloading package wordnet to /Users/surya/nltk_data...\r\n",
      "[nltk_data]   Package wordnet is already up-to-date!\r\n",
      "[nltk_data] Downloading package averaged_perceptron_tagger to\r\n",
      "[nltk_data]     /Users/surya/nltk_data...\r\n",
      "[nltk_data]   Unzipping taggers/averaged_perceptron_tagger.zip.\r\n",
      "[nltk_data] Downloading package conll2000 to /Users/surya/nltk_data...\r\n",
      "[nltk_data]   Unzipping corpora/conll2000.zip.\r\n",
      "[nltk_data] Downloading package movie_reviews to\r\n",
      "[nltk_data]     /Users/surya/nltk_data...\r\n",
      "[nltk_data]   Unzipping corpora/movie_reviews.zip.\r\n",
      "Finished.\r\n"
     ]
    }
   ],
   "source": [
    "!pip install -U textblob\n",
    "!python -m textblob.download_corpora"
   ],
   "metadata": {
    "collapsed": false,
    "ExecuteTime": {
     "end_time": "2024-01-30T00:20:20.819084Z",
     "start_time": "2024-01-30T00:20:08.605869Z"
    }
   },
   "id": "aa6db733077d24cb"
  },
  {
   "cell_type": "code",
   "execution_count": 58,
   "outputs": [
    {
     "name": "stdout",
     "output_type": "stream",
     "text": [
      "Sentiment evaluation for 'flight ticket bag airline customer service refund luggage pay booked': Neutral\n",
      "Sentiment evaluation for 'flight seat time booked air year delhi india asked wife': Neutral\n",
      "Sentiment evaluation for 'flight hour delayed time airport delay airline day pm minute': Neutral\n",
      "Sentiment evaluation for 'seat flight staff bangkok check airport extra leg crew room': Neutral\n",
      "Sentiment evaluation for 'check boarding lounge airport johannesburg business class airway counter nairobi': Neutral\n",
      "Sentiment evaluation for 'flight service air paris airline casablanca experience business doha customer': Neutral\n",
      "Sentiment evaluation for 'flight seat food good service crew cabin class business time': Positive\n",
      "Sentiment evaluation for 'airline time fly service experience flight worst istanbul review flying': Negative\n",
      "Sentiment evaluation for 'flight time th flew airline return crew staff plane jet': Neutral\n",
      "Sentiment evaluation for 'flight seat plane aircraft staff kuala lumpur boarding crew old': Positive\n"
     ]
    }
   ],
   "source": [
    "from textblob import TextBlob\n",
    "\n",
    "# Evaluate sentiment for each driver\n",
    "for driver in drivers:\n",
    "    sentiment = TextBlob(driver).sentiment.polarity\n",
    "    if sentiment > 0:\n",
    "        sentiment_label = 'Positive'\n",
    "    elif sentiment < 0:\n",
    "        sentiment_label = 'Negative'\n",
    "    else:\n",
    "        sentiment_label = 'Neutral'\n",
    "    \n",
    "    print(f\"Sentiment evaluation for '{driver}': {sentiment_label}\")\n"
   ],
   "metadata": {
    "collapsed": false,
    "ExecuteTime": {
     "end_time": "2024-01-30T00:20:25.985114Z",
     "start_time": "2024-01-30T00:20:25.908930Z"
    }
   },
   "id": "9901639bdea713dd"
  },
  {
   "cell_type": "code",
   "execution_count": 59,
   "outputs": [
    {
     "data": {
      "text/plain": "LatentDirichletAllocation(random_state=42)",
      "text/html": "<style>#sk-container-id-5 {color: black;}#sk-container-id-5 pre{padding: 0;}#sk-container-id-5 div.sk-toggleable {background-color: white;}#sk-container-id-5 label.sk-toggleable__label {cursor: pointer;display: block;width: 100%;margin-bottom: 0;padding: 0.3em;box-sizing: border-box;text-align: center;}#sk-container-id-5 label.sk-toggleable__label-arrow:before {content: \"▸\";float: left;margin-right: 0.25em;color: #696969;}#sk-container-id-5 label.sk-toggleable__label-arrow:hover:before {color: black;}#sk-container-id-5 div.sk-estimator:hover label.sk-toggleable__label-arrow:before {color: black;}#sk-container-id-5 div.sk-toggleable__content {max-height: 0;max-width: 0;overflow: hidden;text-align: left;background-color: #f0f8ff;}#sk-container-id-5 div.sk-toggleable__content pre {margin: 0.2em;color: black;border-radius: 0.25em;background-color: #f0f8ff;}#sk-container-id-5 input.sk-toggleable__control:checked~div.sk-toggleable__content {max-height: 200px;max-width: 100%;overflow: auto;}#sk-container-id-5 input.sk-toggleable__control:checked~label.sk-toggleable__label-arrow:before {content: \"▾\";}#sk-container-id-5 div.sk-estimator input.sk-toggleable__control:checked~label.sk-toggleable__label {background-color: #d4ebff;}#sk-container-id-5 div.sk-label input.sk-toggleable__control:checked~label.sk-toggleable__label {background-color: #d4ebff;}#sk-container-id-5 input.sk-hidden--visually {border: 0;clip: rect(1px 1px 1px 1px);clip: rect(1px, 1px, 1px, 1px);height: 1px;margin: -1px;overflow: hidden;padding: 0;position: absolute;width: 1px;}#sk-container-id-5 div.sk-estimator {font-family: monospace;background-color: #f0f8ff;border: 1px dotted black;border-radius: 0.25em;box-sizing: border-box;margin-bottom: 0.5em;}#sk-container-id-5 div.sk-estimator:hover {background-color: #d4ebff;}#sk-container-id-5 div.sk-parallel-item::after {content: \"\";width: 100%;border-bottom: 1px solid gray;flex-grow: 1;}#sk-container-id-5 div.sk-label:hover label.sk-toggleable__label {background-color: #d4ebff;}#sk-container-id-5 div.sk-serial::before {content: \"\";position: absolute;border-left: 1px solid gray;box-sizing: border-box;top: 0;bottom: 0;left: 50%;z-index: 0;}#sk-container-id-5 div.sk-serial {display: flex;flex-direction: column;align-items: center;background-color: white;padding-right: 0.2em;padding-left: 0.2em;position: relative;}#sk-container-id-5 div.sk-item {position: relative;z-index: 1;}#sk-container-id-5 div.sk-parallel {display: flex;align-items: stretch;justify-content: center;background-color: white;position: relative;}#sk-container-id-5 div.sk-item::before, #sk-container-id-5 div.sk-parallel-item::before {content: \"\";position: absolute;border-left: 1px solid gray;box-sizing: border-box;top: 0;bottom: 0;left: 50%;z-index: -1;}#sk-container-id-5 div.sk-parallel-item {display: flex;flex-direction: column;z-index: 1;position: relative;background-color: white;}#sk-container-id-5 div.sk-parallel-item:first-child::after {align-self: flex-end;width: 50%;}#sk-container-id-5 div.sk-parallel-item:last-child::after {align-self: flex-start;width: 50%;}#sk-container-id-5 div.sk-parallel-item:only-child::after {width: 0;}#sk-container-id-5 div.sk-dashed-wrapped {border: 1px dashed gray;margin: 0 0.4em 0.5em 0.4em;box-sizing: border-box;padding-bottom: 0.4em;background-color: white;}#sk-container-id-5 div.sk-label label {font-family: monospace;font-weight: bold;display: inline-block;line-height: 1.2em;}#sk-container-id-5 div.sk-label-container {text-align: center;}#sk-container-id-5 div.sk-container {/* jupyter's `normalize.less` sets `[hidden] { display: none; }` but bootstrap.min.css set `[hidden] { display: none !important; }` so we also need the `!important` here to be able to override the default hidden behavior on the sphinx rendered scikit-learn.org. See: https://github.com/scikit-learn/scikit-learn/issues/21755 */display: inline-block !important;position: relative;}#sk-container-id-5 div.sk-text-repr-fallback {display: none;}</style><div id=\"sk-container-id-5\" class=\"sk-top-container\"><div class=\"sk-text-repr-fallback\"><pre>LatentDirichletAllocation(random_state=42)</pre><b>In a Jupyter environment, please rerun this cell to show the HTML representation or trust the notebook. <br />On GitHub, the HTML representation is unable to render, please try loading this page with nbviewer.org.</b></div><div class=\"sk-container\" hidden><div class=\"sk-item\"><div class=\"sk-estimator sk-toggleable\"><input class=\"sk-toggleable__control sk-hidden--visually\" id=\"sk-estimator-id-5\" type=\"checkbox\" checked><label for=\"sk-estimator-id-5\" class=\"sk-toggleable__label sk-toggleable__label-arrow\">LatentDirichletAllocation</label><div class=\"sk-toggleable__content\"><pre>LatentDirichletAllocation(random_state=42)</pre></div></div></div></div></div>"
     },
     "execution_count": 59,
     "metadata": {},
     "output_type": "execute_result"
    }
   ],
   "source": [
    "# Create a count vectorizer and fit it to the text data\n",
    "vectorizer = CountVectorizer(stop_words='english')\n",
    "X = vectorizer.fit_transform(df['Review'])\n",
    "\n",
    "# Set the number of topics and fit the LDA model\n",
    "num_topics = 10\n",
    "lda = LatentDirichletAllocation(n_components=num_topics, random_state=42)\n",
    "lda.fit(X)\n"
   ],
   "metadata": {
    "collapsed": false,
    "ExecuteTime": {
     "end_time": "2024-01-30T00:22:27.107245Z",
     "start_time": "2024-01-30T00:22:07.306579Z"
    }
   },
   "id": "14780432943ecb47"
  },
  {
   "cell_type": "code",
   "execution_count": 60,
   "outputs": [],
   "source": [
    "# Create a sentiment analyzer\n",
    "analyzer = SentimentIntensityAnalyzer()\n"
   ],
   "metadata": {
    "collapsed": false,
    "ExecuteTime": {
     "end_time": "2024-01-30T00:22:27.115718Z",
     "start_time": "2024-01-30T00:22:27.110455Z"
    }
   },
   "id": "a162bcdde6b2bc47"
  },
  {
   "cell_type": "code",
   "execution_count": 63,
   "outputs": [
    {
     "name": "stdout",
     "output_type": "stream",
     "text": [
      "5392   flight\n",
      "13959   ticket\n",
      "1237   bag\n",
      "403   airline\n",
      "3414   customer\n",
      "12321   service\n",
      "11255   refund\n",
      "8212   luggage\n",
      "9978   pay\n",
      "1700   booked\n",
      "5392   flight\n",
      "12195   seat\n",
      "13983   time\n",
      "1700   booked\n",
      "368   air\n",
      "15521   year\n",
      "3644   delhi\n",
      "6910   india\n",
      "957   asked\n",
      "15334   wife\n",
      "5392   flight\n",
      "6551   hour\n",
      "3635   delayed\n",
      "13983   time\n",
      "415   airport\n",
      "3633   delay\n",
      "403   airline\n",
      "3495   day\n",
      "10294   pm\n",
      "8753   minute\n",
      "12195   seat\n",
      "5392   flight\n",
      "13083   staff\n",
      "1289   bangkok\n",
      "2375   check\n",
      "415   airport\n",
      "5056   extra\n",
      "7889   leg\n",
      "3298   crew\n",
      "11803   room\n",
      "2375   check\n",
      "1651   boarding\n",
      "8161   lounge\n",
      "415   airport\n",
      "7395   johannesburg\n",
      "1969   business\n",
      "2526   class\n",
      "430   airway\n",
      "3203   counter\n",
      "9061   nairobi\n",
      "5392   flight\n",
      "12321   service\n",
      "368   air\n",
      "9899   paris\n",
      "403   airline\n",
      "2175   casablanca\n",
      "4996   experience\n",
      "1969   business\n",
      "4202   doha\n",
      "3414   customer\n",
      "5392   flight\n",
      "12195   seat\n",
      "5483   food\n",
      "5919   good\n",
      "12321   service\n",
      "3298   crew\n",
      "2005   cabin\n",
      "2526   class\n",
      "1969   business\n",
      "13983   time\n",
      "403   airline\n",
      "13983   time\n",
      "5436   fly\n",
      "12321   service\n",
      "4996   experience\n",
      "5392   flight\n",
      "15452   worst\n",
      "7275   istanbul\n",
      "11666   review\n",
      "5442   flying\n",
      "5392   flight\n",
      "13983   time\n",
      "13847   th\n",
      "5377   flew\n",
      "403   airline\n",
      "11646   return\n",
      "3298   crew\n",
      "13083   staff\n",
      "10227   plane\n",
      "7355   jet\n",
      "5392   flight\n",
      "12195   seat\n",
      "10227   plane\n",
      "390   aircraft\n",
      "13083   staff\n",
      "7691   kuala\n",
      "8220   lumpur\n",
      "1651   boarding\n",
      "3298   crew\n",
      "9511   old\n"
     ]
    }
   ],
   "source": [
    "# Evaluate the sentiment associated with each driver\n",
    "sentiment_scores = []\n",
    "for topic_idx, topic in enumerate(lda.components_):\n",
    "    for word in topic.argsort()[:-11:-1]:\n",
    "        print(word,\" \",feature_names[word])"
   ],
   "metadata": {
    "collapsed": false,
    "ExecuteTime": {
     "end_time": "2024-01-30T00:24:12.385485Z",
     "start_time": "2024-01-30T00:24:12.356452Z"
    }
   },
   "id": "caae76e1bf4a6a4b"
  },
  {
   "cell_type": "code",
   "execution_count": 64,
   "outputs": [
    {
     "data": {
      "text/plain": "(10, 15622)"
     },
     "execution_count": 64,
     "metadata": {},
     "output_type": "execute_result"
    }
   ],
   "source": [
    "lda.components_.shape"
   ],
   "metadata": {
    "collapsed": false,
    "ExecuteTime": {
     "end_time": "2024-01-30T00:24:30.079128Z",
     "start_time": "2024-01-30T00:24:30.050514Z"
    }
   },
   "id": "7e31adb053eb5de1"
  },
  {
   "cell_type": "code",
   "execution_count": 65,
   "outputs": [
    {
     "name": "stdout",
     "output_type": "stream",
     "text": [
      "Word: 5392 | Sentiment: 0.0\n",
      "Word: 13959 | Sentiment: 0.0\n",
      "Word: 1237 | Sentiment: 0.0\n",
      "Word: 403 | Sentiment: 0.0\n",
      "Word: 3414 | Sentiment: 0.0\n",
      "Word: 12321 | Sentiment: 0.0\n",
      "Word: 11255 | Sentiment: 0.0\n",
      "Word: 8212 | Sentiment: 0.0\n",
      "Word: 9978 | Sentiment: 0.0\n",
      "Word: 1700 | Sentiment: 0.0\n",
      "Word: 5392 | Sentiment: 0.0\n",
      "Word: 12195 | Sentiment: 0.0\n",
      "Word: 13983 | Sentiment: 0.0\n",
      "Word: 1700 | Sentiment: 0.0\n",
      "Word: 368 | Sentiment: 0.0\n",
      "Word: 15521 | Sentiment: 0.0\n",
      "Word: 3644 | Sentiment: 0.0\n",
      "Word: 6910 | Sentiment: 0.0\n",
      "Word: 957 | Sentiment: 0.0\n",
      "Word: 15334 | Sentiment: 0.0\n",
      "Word: 5392 | Sentiment: 0.0\n",
      "Word: 6551 | Sentiment: 0.0\n",
      "Word: 3635 | Sentiment: 0.0\n",
      "Word: 13983 | Sentiment: 0.0\n",
      "Word: 415 | Sentiment: 0.0\n",
      "Word: 3633 | Sentiment: 0.0\n",
      "Word: 403 | Sentiment: 0.0\n",
      "Word: 3495 | Sentiment: 0.0\n",
      "Word: 10294 | Sentiment: 0.0\n",
      "Word: 8753 | Sentiment: 0.0\n",
      "Word: 12195 | Sentiment: 0.0\n",
      "Word: 5392 | Sentiment: 0.0\n",
      "Word: 13083 | Sentiment: 0.0\n",
      "Word: 1289 | Sentiment: 0.0\n",
      "Word: 2375 | Sentiment: 0.0\n",
      "Word: 415 | Sentiment: 0.0\n",
      "Word: 5056 | Sentiment: 0.0\n",
      "Word: 7889 | Sentiment: 0.0\n",
      "Word: 3298 | Sentiment: 0.0\n",
      "Word: 11803 | Sentiment: 0.0\n",
      "Word: 2375 | Sentiment: 0.0\n",
      "Word: 1651 | Sentiment: 0.0\n",
      "Word: 8161 | Sentiment: 0.0\n",
      "Word: 415 | Sentiment: 0.0\n",
      "Word: 7395 | Sentiment: 0.0\n",
      "Word: 1969 | Sentiment: 0.0\n",
      "Word: 2526 | Sentiment: 0.0\n",
      "Word: 430 | Sentiment: 0.0\n",
      "Word: 3203 | Sentiment: 0.0\n",
      "Word: 9061 | Sentiment: 0.0\n",
      "Word: 5392 | Sentiment: 0.0\n",
      "Word: 12321 | Sentiment: 0.0\n",
      "Word: 368 | Sentiment: 0.0\n",
      "Word: 9899 | Sentiment: 0.0\n",
      "Word: 403 | Sentiment: 0.0\n",
      "Word: 2175 | Sentiment: 0.0\n",
      "Word: 4996 | Sentiment: 0.0\n",
      "Word: 1969 | Sentiment: 0.0\n",
      "Word: 4202 | Sentiment: 0.0\n",
      "Word: 3414 | Sentiment: 0.0\n",
      "Word: 5392 | Sentiment: 0.0\n",
      "Word: 12195 | Sentiment: 0.0\n",
      "Word: 5483 | Sentiment: 0.0\n",
      "Word: 5919 | Sentiment: 0.0\n",
      "Word: 12321 | Sentiment: 0.0\n",
      "Word: 3298 | Sentiment: 0.0\n",
      "Word: 2005 | Sentiment: 0.0\n",
      "Word: 2526 | Sentiment: 0.0\n",
      "Word: 1969 | Sentiment: 0.0\n",
      "Word: 13983 | Sentiment: 0.0\n",
      "Word: 403 | Sentiment: 0.0\n",
      "Word: 13983 | Sentiment: 0.0\n",
      "Word: 5436 | Sentiment: 0.0\n",
      "Word: 12321 | Sentiment: 0.0\n",
      "Word: 4996 | Sentiment: 0.0\n",
      "Word: 5392 | Sentiment: 0.0\n",
      "Word: 15452 | Sentiment: 0.0\n",
      "Word: 7275 | Sentiment: 0.0\n",
      "Word: 11666 | Sentiment: 0.0\n",
      "Word: 5442 | Sentiment: 0.0\n",
      "Word: 5392 | Sentiment: 0.0\n",
      "Word: 13983 | Sentiment: 0.0\n",
      "Word: 13847 | Sentiment: 0.0\n",
      "Word: 5377 | Sentiment: 0.0\n",
      "Word: 403 | Sentiment: 0.0\n",
      "Word: 11646 | Sentiment: 0.0\n",
      "Word: 3298 | Sentiment: 0.0\n",
      "Word: 13083 | Sentiment: 0.0\n",
      "Word: 10227 | Sentiment: 0.0\n",
      "Word: 7355 | Sentiment: 0.0\n",
      "Word: 5392 | Sentiment: 0.0\n",
      "Word: 12195 | Sentiment: 0.0\n",
      "Word: 10227 | Sentiment: 0.0\n",
      "Word: 390 | Sentiment: 0.0\n",
      "Word: 13083 | Sentiment: 0.0\n",
      "Word: 7691 | Sentiment: 0.0\n",
      "Word: 8220 | Sentiment: 0.0\n",
      "Word: 1651 | Sentiment: 0.0\n",
      "Word: 3298 | Sentiment: 0.0\n",
      "Word: 9511 | Sentiment: 0.0\n"
     ]
    }
   ],
   "source": [
    "# Evaluate the sentiment associated with each driver\n",
    "sentiment_scores = []\n",
    "for topic_idx, topic in enumerate(lda.components_):\n",
    "    for word in topic.argsort()[:-11:-1]:\n",
    "        sentiment_scores.append((word, analyzer.polarity_scores(word.astype('str'))))\n",
    "        \n",
    "# Print the sentiment scores\n",
    "for word, score in sentiment_scores:\n",
    "    print(\"Word: {} | Sentiment: {}\".format(word, score['compound']))\n"
   ],
   "metadata": {
    "collapsed": false,
    "ExecuteTime": {
     "end_time": "2024-01-30T00:24:55.723863Z",
     "start_time": "2024-01-30T00:24:55.663852Z"
    }
   },
   "id": "62a6939ba6f62b4d"
  },
  {
   "cell_type": "code",
   "execution_count": 66,
   "outputs": [],
   "source": [
    "import pandas as pd\n",
    "import numpy as np\n",
    "from sklearn.feature_extraction.text import CountVectorizer\n",
    "from sklearn.decomposition import LatentDirichletAllocation\n",
    "from nltk.sentiment.vader import SentimentIntensityAnalyzer\n"
   ],
   "metadata": {
    "collapsed": false,
    "ExecuteTime": {
     "end_time": "2024-01-30T00:25:49.289340Z",
     "start_time": "2024-01-30T00:25:49.264160Z"
    }
   },
   "id": "9bccce7017e723b5"
  },
  {
   "cell_type": "code",
   "execution_count": 67,
   "outputs": [],
   "source": [
    "# Load the data\n",
    "ddf = pd.DataFrame({'Driver': drivers})\n",
    "\n",
    "# Create a count vectorizer and fit it to the text data\n",
    "vectorizer = CountVectorizer(stop_words='english')\n",
    "X = vectorizer.fit_transform(ddf['Driver'])"
   ],
   "metadata": {
    "collapsed": false,
    "ExecuteTime": {
     "end_time": "2024-01-30T00:25:52.072429Z",
     "start_time": "2024-01-30T00:25:52.031471Z"
    }
   },
   "id": "d3bdbdb14b5b9c7"
  },
  {
   "cell_type": "code",
   "execution_count": 68,
   "outputs": [
    {
     "data": {
      "text/plain": "                                              Driver\n0  flight ticket bag airline customer service ref...\n1  flight seat time booked air year delhi india a...\n2  flight hour delayed time airport delay airline...\n3  seat flight staff bangkok check airport extra ...\n4  check boarding lounge airport johannesburg bus...\n5  flight service air paris airline casablanca ex...\n6  flight seat food good service crew cabin class...\n7  airline time fly service experience flight wor...\n8  flight time th flew airline return crew staff ...\n9  flight seat plane aircraft staff kuala lumpur ...",
      "text/html": "<div>\n<style scoped>\n    .dataframe tbody tr th:only-of-type {\n        vertical-align: middle;\n    }\n\n    .dataframe tbody tr th {\n        vertical-align: top;\n    }\n\n    .dataframe thead th {\n        text-align: right;\n    }\n</style>\n<table border=\"1\" class=\"dataframe\">\n  <thead>\n    <tr style=\"text-align: right;\">\n      <th></th>\n      <th>Driver</th>\n    </tr>\n  </thead>\n  <tbody>\n    <tr>\n      <th>0</th>\n      <td>flight ticket bag airline customer service ref...</td>\n    </tr>\n    <tr>\n      <th>1</th>\n      <td>flight seat time booked air year delhi india a...</td>\n    </tr>\n    <tr>\n      <th>2</th>\n      <td>flight hour delayed time airport delay airline...</td>\n    </tr>\n    <tr>\n      <th>3</th>\n      <td>seat flight staff bangkok check airport extra ...</td>\n    </tr>\n    <tr>\n      <th>4</th>\n      <td>check boarding lounge airport johannesburg bus...</td>\n    </tr>\n    <tr>\n      <th>5</th>\n      <td>flight service air paris airline casablanca ex...</td>\n    </tr>\n    <tr>\n      <th>6</th>\n      <td>flight seat food good service crew cabin class...</td>\n    </tr>\n    <tr>\n      <th>7</th>\n      <td>airline time fly service experience flight wor...</td>\n    </tr>\n    <tr>\n      <th>8</th>\n      <td>flight time th flew airline return crew staff ...</td>\n    </tr>\n    <tr>\n      <th>9</th>\n      <td>flight seat plane aircraft staff kuala lumpur ...</td>\n    </tr>\n  </tbody>\n</table>\n</div>"
     },
     "execution_count": 68,
     "metadata": {},
     "output_type": "execute_result"
    }
   ],
   "source": [
    "ddf\n"
   ],
   "metadata": {
    "collapsed": false,
    "ExecuteTime": {
     "end_time": "2024-01-30T00:25:54.067219Z",
     "start_time": "2024-01-30T00:25:54.036505Z"
    }
   },
   "id": "ece34d1a489e9da6"
  },
  {
   "cell_type": "code",
   "execution_count": 69,
   "outputs": [],
   "source": [
    "# Set the number of topics and fit the LDA model\n",
    "num_topics = 10\n",
    "lda = LatentDirichletAllocation(n_components=num_topics, random_state=42)\n",
    "lda.fit(X)\n",
    "\n",
    "# Create a sentiment analyzer\n",
    "analyzer = SentimentIntensityAnalyzer()"
   ],
   "metadata": {
    "collapsed": false,
    "ExecuteTime": {
     "end_time": "2024-01-30T00:26:24.432058Z",
     "start_time": "2024-01-30T00:26:24.385337Z"
    }
   },
   "id": "93ac3e452a311026"
  },
  {
   "cell_type": "code",
   "execution_count": 77,
   "outputs": [
    {
     "name": "stdout",
     "output_type": "stream",
     "text": [
      "Word: 2 | Sentiment: 0.0\n",
      "Word: 26 | Sentiment: 0.0\n",
      "Word: 16 | Sentiment: 0.0\n",
      "Word: 52 | Sentiment: 0.0\n",
      "Word: 57 | Sentiment: 0.0\n",
      "Word: 54 | Sentiment: 0.0\n",
      "Word: 10 | Sentiment: 0.0\n",
      "Word: 46 | Sentiment: 0.0\n",
      "Word: 14 | Sentiment: 0.0\n",
      "Word: 53 | Sentiment: 0.0\n",
      "Word: 8 | Sentiment: 0.0\n",
      "Word: 3 | Sentiment: 0.0\n",
      "Word: 26 | Sentiment: 0.0\n",
      "Word: 4 | Sentiment: 0.0\n",
      "Word: 15 | Sentiment: 0.0\n",
      "Word: 38 | Sentiment: 0.0\n",
      "Word: 42 | Sentiment: 0.0\n",
      "Word: 35 | Sentiment: 0.0\n",
      "Word: 36 | Sentiment: 0.0\n",
      "Word: 40 | Sentiment: 0.0\n",
      "Word: 2 | Sentiment: 0.0\n",
      "Word: 26 | Sentiment: 0.0\n",
      "Word: 16 | Sentiment: 0.0\n",
      "Word: 52 | Sentiment: 0.0\n",
      "Word: 57 | Sentiment: 0.0\n",
      "Word: 54 | Sentiment: 0.0\n",
      "Word: 10 | Sentiment: 0.0\n",
      "Word: 46 | Sentiment: 0.0\n",
      "Word: 14 | Sentiment: 0.0\n",
      "Word: 53 | Sentiment: 0.0\n",
      "Word: 57 | Sentiment: 0.0\n",
      "Word: 26 | Sentiment: 0.0\n",
      "Word: 46 | Sentiment: 0.0\n",
      "Word: 60 | Sentiment: 0.0\n",
      "Word: 58 | Sentiment: 0.0\n",
      "Word: 5 | Sentiment: 0.0\n",
      "Word: 21 | Sentiment: 0.0\n",
      "Word: 32 | Sentiment: 0.0\n",
      "Word: 34 | Sentiment: 0.0\n",
      "Word: 55 | Sentiment: 0.0\n",
      "Word: 2 | Sentiment: 0.0\n",
      "Word: 10 | Sentiment: 0.0\n",
      "Word: 17 | Sentiment: 0.0\n",
      "Word: 0 | Sentiment: 0.0\n",
      "Word: 26 | Sentiment: 0.0\n",
      "Word: 23 | Sentiment: 0.0\n",
      "Word: 12 | Sentiment: 0.0\n",
      "Word: 44 | Sentiment: 0.0\n",
      "Word: 22 | Sentiment: 0.0\n",
      "Word: 53 | Sentiment: 0.0\n",
      "Word: 26 | Sentiment: 0.0\n",
      "Word: 53 | Sentiment: 0.0\n",
      "Word: 14 | Sentiment: 0.0\n",
      "Word: 9 | Sentiment: 0.0\n",
      "Word: 39 | Sentiment: 0.0\n",
      "Word: 56 | Sentiment: 0.0\n",
      "Word: 45 | Sentiment: 0.0\n",
      "Word: 48 | Sentiment: 0.0\n",
      "Word: 6 | Sentiment: 0.0\n",
      "Word: 29 | Sentiment: 0.0\n",
      "Word: 16 | Sentiment: 0.0\n",
      "Word: 52 | Sentiment: 0.0\n",
      "Word: 54 | Sentiment: 0.0\n",
      "Word: 13 | Sentiment: 0.0\n",
      "Word: 3 | Sentiment: 0.0\n",
      "Word: 26 | Sentiment: 0.0\n",
      "Word: 51 | Sentiment: 0.0\n",
      "Word: 7 | Sentiment: 0.0\n",
      "Word: 24 | Sentiment: 0.0\n",
      "Word: 37 | Sentiment: 0.0\n",
      "Word: 2 | Sentiment: 0.0\n",
      "Word: 26 | Sentiment: 0.0\n",
      "Word: 16 | Sentiment: 0.0\n",
      "Word: 52 | Sentiment: 0.0\n",
      "Word: 57 | Sentiment: 0.0\n",
      "Word: 54 | Sentiment: 0.0\n",
      "Word: 10 | Sentiment: 0.0\n",
      "Word: 46 | Sentiment: 0.0\n",
      "Word: 14 | Sentiment: 0.0\n",
      "Word: 53 | Sentiment: 0.0\n",
      "Word: 2 | Sentiment: 0.0\n",
      "Word: 26 | Sentiment: 0.0\n",
      "Word: 16 | Sentiment: 0.0\n",
      "Word: 52 | Sentiment: 0.0\n",
      "Word: 57 | Sentiment: 0.0\n",
      "Word: 54 | Sentiment: 0.0\n",
      "Word: 10 | Sentiment: 0.0\n",
      "Word: 46 | Sentiment: 0.0\n",
      "Word: 14 | Sentiment: 0.0\n",
      "Word: 53 | Sentiment: 0.0\n",
      "Word: 2 | Sentiment: 0.0\n",
      "Word: 57 | Sentiment: 0.0\n",
      "Word: 26 | Sentiment: 0.0\n",
      "Word: 50 | Sentiment: 0.0\n",
      "Word: 27 | Sentiment: 0.0\n",
      "Word: 33 | Sentiment: 0.0\n",
      "Word: 59 | Sentiment: 0.0\n",
      "Word: 28 | Sentiment: 0.0\n",
      "Word: 23 | Sentiment: 0.0\n",
      "Word: 53 | Sentiment: 0.0\n"
     ]
    }
   ],
   "source": [
    "# Evaluate the sentiment associated with each driver\n",
    "sentiment_scores = []\n",
    "for topic_idx, topic in enumerate(lda.components_):\n",
    "    \n",
    "    for word in topic.argsort()[:-11:-1]:\n",
    "        sentiment_scores.append((word, analyzer.polarity_scores(word.astype('str'))))\n",
    "\n",
    "\n",
    "# Print the sentiment scores\n",
    "for word, score in sentiment_scores:\n",
    "    print(\"Word: {} | Sentiment: {}\".format(word, score['compound']))"
   ],
   "metadata": {
    "collapsed": false,
    "ExecuteTime": {
     "end_time": "2024-01-30T01:15:04.171819Z",
     "start_time": "2024-01-30T01:15:04.138073Z"
    }
   },
   "id": "dcab3d82dc58f79a"
  },
  {
   "cell_type": "code",
   "execution_count": 88,
   "outputs": [],
   "source": [
    "L = []\n",
    "L.append(analyzer.polarity_scores('good'))\n",
    "L.append(analyzer.polarity_scores('bad'))\n",
    "L.append(analyzer.polarity_scores('2'))\n",
    "L.append(analyzer.polarity_scores(drivers[0]))"
   ],
   "metadata": {
    "collapsed": false,
    "ExecuteTime": {
     "end_time": "2024-01-30T01:19:23.283463Z",
     "start_time": "2024-01-30T01:19:23.249462Z"
    }
   },
   "id": "36417c555797907c"
  },
  {
   "cell_type": "code",
   "execution_count": 89,
   "outputs": [
    {
     "data": {
      "text/plain": "[{'neg': 0.0, 'neu': 0.0, 'pos': 1.0, 'compound': 0.4404},\n {'neg': 1.0, 'neu': 0.0, 'pos': 0.0, 'compound': -0.5423},\n {'neg': 0.0, 'neu': 0.0, 'pos': 0.0, 'compound': 0.0},\n {'neg': 0.135, 'neu': 0.865, 'pos': 0.0, 'compound': -0.1027}]"
     },
     "execution_count": 89,
     "metadata": {},
     "output_type": "execute_result"
    }
   ],
   "source": [
    "L"
   ],
   "metadata": {
    "collapsed": false,
    "ExecuteTime": {
     "end_time": "2024-01-30T01:19:23.769084Z",
     "start_time": "2024-01-30T01:19:23.753443Z"
    }
   },
   "id": "c4c67393991e0a87"
  },
  {
   "cell_type": "code",
   "execution_count": 90,
   "outputs": [
    {
     "name": "stderr",
     "output_type": "stream",
     "text": [
      "[nltk_data] Downloading package vader_lexicon to\n",
      "[nltk_data]     /Users/surya/nltk_data...\n",
      "[nltk_data]   Package vader_lexicon is already up-to-date!\n"
     ]
    },
    {
     "data": {
      "text/plain": "True"
     },
     "execution_count": 90,
     "metadata": {},
     "output_type": "execute_result"
    }
   ],
   "source": [
    "import nltk\n",
    "\n",
    "nltk.download('vader_lexicon')\n"
   ],
   "metadata": {
    "collapsed": false,
    "ExecuteTime": {
     "end_time": "2024-01-30T01:19:25.680622Z",
     "start_time": "2024-01-30T01:19:25.657278Z"
    }
   },
   "id": "e18eaa26d2083f77"
  },
  {
   "cell_type": "code",
   "execution_count": 87,
   "outputs": [
    {
     "data": {
      "text/plain": "['flight ticket bag airline customer service refund luggage pay booked',\n 'flight seat time booked air year delhi india asked wife',\n 'flight hour delayed time airport delay airline day pm minute',\n 'seat flight staff bangkok check airport extra leg crew room',\n 'check boarding lounge airport johannesburg business class airway counter nairobi',\n 'flight service air paris airline casablanca experience business doha customer',\n 'flight seat food good service crew cabin class business time',\n 'airline time fly service experience flight worst istanbul review flying',\n 'flight time th flew airline return crew staff plane jet',\n 'flight seat plane aircraft staff kuala lumpur boarding crew old']"
     },
     "execution_count": 87,
     "metadata": {},
     "output_type": "execute_result"
    }
   ],
   "source": [
    "drivers"
   ],
   "metadata": {
    "collapsed": false,
    "ExecuteTime": {
     "end_time": "2024-01-30T01:18:46.652796Z",
     "start_time": "2024-01-30T01:18:46.622502Z"
    }
   },
   "id": "3d78a2e9514dab44"
  },
  {
   "cell_type": "code",
   "execution_count": 91,
   "outputs": [
    {
     "name": "stdout",
     "output_type": "stream",
     "text": [
      "Sentiment evaluation for 'flight ticket bag airline customer service refund luggage pay booked': Negative\n",
      "Sentiment evaluation for 'flight seat time booked air year delhi india asked wife': Neutral\n",
      "Sentiment evaluation for 'flight hour delayed time airport delay airline day pm minute': Negative\n",
      "Sentiment evaluation for 'seat flight staff bangkok check airport extra leg crew room': Neutral\n",
      "Sentiment evaluation for 'check boarding lounge airport johannesburg business class airway counter nairobi': Neutral\n",
      "Sentiment evaluation for 'flight service air paris airline casablanca experience business doha customer': Neutral\n",
      "Sentiment evaluation for 'flight seat food good service crew cabin class business time': Positive\n",
      "Sentiment evaluation for 'airline time fly service experience flight worst istanbul review flying': Negative\n",
      "Sentiment evaluation for 'flight time th flew airline return crew staff plane jet': Neutral\n",
      "Sentiment evaluation for 'flight seat plane aircraft staff kuala lumpur boarding crew old': Neutral\n"
     ]
    }
   ],
   "source": [
    "# Create an instance of the SentimentIntensityAnalyzer\n",
    "analyzer = SentimentIntensityAnalyzer()\n",
    "\n",
    "# Evaluate sentiment for each driver\n",
    "for driver in drivers:\n",
    "    sentiment_scores = analyzer.polarity_scores(driver)\n",
    "    compound_score = sentiment_scores['compound']\n",
    "    \n",
    "    if compound_score >= 0.05:\n",
    "        sentiment_label = 'Positive'\n",
    "    elif compound_score <= -0.05:\n",
    "        sentiment_label = 'Negative'\n",
    "    else:\n",
    "        sentiment_label = 'Neutral'\n",
    "    \n",
    "    print(f\"Sentiment evaluation for '{driver}': {sentiment_label}\")"
   ],
   "metadata": {
    "collapsed": false,
    "ExecuteTime": {
     "end_time": "2024-01-30T01:19:41.082200Z",
     "start_time": "2024-01-30T01:19:41.022109Z"
    }
   },
   "id": "ae4a85402ebb522b"
  },
  {
   "cell_type": "code",
   "execution_count": 93,
   "outputs": [
    {
     "name": "stdout",
     "output_type": "stream",
     "text": [
      "Collecting en-core-web-sm==3.5.0\n",
      "  Downloading https://github.com/explosion/spacy-models/releases/download/en_core_web_sm-3.5.0/en_core_web_sm-3.5.0-py3-none-any.whl (12.8 MB)\n",
      "\u001B[2K     \u001B[90m━━━━━━━━━━━━━━━━━━━━━━━━━━━━━━━━━━━━━━━━\u001B[0m \u001B[32m12.8/12.8 MB\u001B[0m \u001B[31m2.9 MB/s\u001B[0m eta \u001B[36m0:00:00\u001B[0m00:01\u001B[0m00:01\u001B[0m\n",
      "\u001B[?25hRequirement already satisfied: spacy<3.6.0,>=3.5.0 in /Users/surya/anaconda3/envs/Tf-metal/lib/python3.10/site-packages (from en-core-web-sm==3.5.0) (3.5.3)\n",
      "Requirement already satisfied: spacy-legacy<3.1.0,>=3.0.11 in /Users/surya/anaconda3/envs/Tf-metal/lib/python3.10/site-packages (from spacy<3.6.0,>=3.5.0->en-core-web-sm==3.5.0) (3.0.12)\n",
      "Requirement already satisfied: spacy-loggers<2.0.0,>=1.0.0 in /Users/surya/anaconda3/envs/Tf-metal/lib/python3.10/site-packages (from spacy<3.6.0,>=3.5.0->en-core-web-sm==3.5.0) (1.0.4)\n",
      "Requirement already satisfied: murmurhash<1.1.0,>=0.28.0 in /Users/surya/anaconda3/envs/Tf-metal/lib/python3.10/site-packages (from spacy<3.6.0,>=3.5.0->en-core-web-sm==3.5.0) (1.0.7)\n",
      "Requirement already satisfied: cymem<2.1.0,>=2.0.2 in /Users/surya/anaconda3/envs/Tf-metal/lib/python3.10/site-packages (from spacy<3.6.0,>=3.5.0->en-core-web-sm==3.5.0) (2.0.6)\n",
      "Requirement already satisfied: preshed<3.1.0,>=3.0.2 in /Users/surya/anaconda3/envs/Tf-metal/lib/python3.10/site-packages (from spacy<3.6.0,>=3.5.0->en-core-web-sm==3.5.0) (3.0.6)\n",
      "Requirement already satisfied: thinc<8.2.0,>=8.1.8 in /Users/surya/anaconda3/envs/Tf-metal/lib/python3.10/site-packages (from spacy<3.6.0,>=3.5.0->en-core-web-sm==3.5.0) (8.1.10)\n",
      "Requirement already satisfied: wasabi<1.2.0,>=0.9.1 in /Users/surya/anaconda3/envs/Tf-metal/lib/python3.10/site-packages (from spacy<3.6.0,>=3.5.0->en-core-web-sm==3.5.0) (0.9.1)\n",
      "Requirement already satisfied: srsly<3.0.0,>=2.4.3 in /Users/surya/anaconda3/envs/Tf-metal/lib/python3.10/site-packages (from spacy<3.6.0,>=3.5.0->en-core-web-sm==3.5.0) (2.4.8)\n",
      "Requirement already satisfied: catalogue<2.1.0,>=2.0.6 in /Users/surya/anaconda3/envs/Tf-metal/lib/python3.10/site-packages (from spacy<3.6.0,>=3.5.0->en-core-web-sm==3.5.0) (2.0.7)\n",
      "Requirement already satisfied: typer<0.8.0,>=0.3.0 in /Users/surya/anaconda3/envs/Tf-metal/lib/python3.10/site-packages (from spacy<3.6.0,>=3.5.0->en-core-web-sm==3.5.0) (0.4.1)\n",
      "Requirement already satisfied: pathy>=0.10.0 in /Users/surya/anaconda3/envs/Tf-metal/lib/python3.10/site-packages (from spacy<3.6.0,>=3.5.0->en-core-web-sm==3.5.0) (0.10.1)\n",
      "Requirement already satisfied: smart-open<7.0.0,>=5.2.1 in /Users/surya/anaconda3/envs/Tf-metal/lib/python3.10/site-packages (from spacy<3.6.0,>=3.5.0->en-core-web-sm==3.5.0) (5.2.1)\n",
      "Requirement already satisfied: tqdm<5.0.0,>=4.38.0 in /Users/surya/anaconda3/envs/Tf-metal/lib/python3.10/site-packages (from spacy<3.6.0,>=3.5.0->en-core-web-sm==3.5.0) (4.65.0)\n",
      "Requirement already satisfied: numpy>=1.15.0 in /Users/surya/anaconda3/envs/Tf-metal/lib/python3.10/site-packages (from spacy<3.6.0,>=3.5.0->en-core-web-sm==3.5.0) (1.26.2)\n",
      "Requirement already satisfied: requests<3.0.0,>=2.13.0 in /Users/surya/anaconda3/envs/Tf-metal/lib/python3.10/site-packages (from spacy<3.6.0,>=3.5.0->en-core-web-sm==3.5.0) (2.31.0)\n",
      "Requirement already satisfied: pydantic!=1.8,!=1.8.1,<1.11.0,>=1.7.4 in /Users/surya/anaconda3/envs/Tf-metal/lib/python3.10/site-packages (from spacy<3.6.0,>=3.5.0->en-core-web-sm==3.5.0) (1.10.12)\n",
      "Requirement already satisfied: jinja2 in /Users/surya/anaconda3/envs/Tf-metal/lib/python3.10/site-packages (from spacy<3.6.0,>=3.5.0->en-core-web-sm==3.5.0) (3.1.2)\n",
      "Requirement already satisfied: setuptools in /Users/surya/anaconda3/envs/Tf-metal/lib/python3.10/site-packages (from spacy<3.6.0,>=3.5.0->en-core-web-sm==3.5.0) (68.0.0)\n",
      "Requirement already satisfied: packaging>=20.0 in /Users/surya/anaconda3/envs/Tf-metal/lib/python3.10/site-packages (from spacy<3.6.0,>=3.5.0->en-core-web-sm==3.5.0) (23.1)\n",
      "Requirement already satisfied: langcodes<4.0.0,>=3.2.0 in /Users/surya/anaconda3/envs/Tf-metal/lib/python3.10/site-packages (from spacy<3.6.0,>=3.5.0->en-core-web-sm==3.5.0) (3.3.0)\n",
      "Requirement already satisfied: typing-extensions>=4.2.0 in /Users/surya/anaconda3/envs/Tf-metal/lib/python3.10/site-packages (from pydantic!=1.8,!=1.8.1,<1.11.0,>=1.7.4->spacy<3.6.0,>=3.5.0->en-core-web-sm==3.5.0) (4.7.1)\n",
      "Requirement already satisfied: charset-normalizer<4,>=2 in /Users/surya/anaconda3/envs/Tf-metal/lib/python3.10/site-packages (from requests<3.0.0,>=2.13.0->spacy<3.6.0,>=3.5.0->en-core-web-sm==3.5.0) (2.0.4)\n",
      "Requirement already satisfied: idna<4,>=2.5 in /Users/surya/anaconda3/envs/Tf-metal/lib/python3.10/site-packages (from requests<3.0.0,>=2.13.0->spacy<3.6.0,>=3.5.0->en-core-web-sm==3.5.0) (3.4)\n",
      "Requirement already satisfied: urllib3<3,>=1.21.1 in /Users/surya/anaconda3/envs/Tf-metal/lib/python3.10/site-packages (from requests<3.0.0,>=2.13.0->spacy<3.6.0,>=3.5.0->en-core-web-sm==3.5.0) (1.26.18)\n",
      "Requirement already satisfied: certifi>=2017.4.17 in /Users/surya/anaconda3/envs/Tf-metal/lib/python3.10/site-packages (from requests<3.0.0,>=2.13.0->spacy<3.6.0,>=3.5.0->en-core-web-sm==3.5.0) (2023.11.17)\n",
      "Requirement already satisfied: blis<0.8.0,>=0.7.8 in /Users/surya/anaconda3/envs/Tf-metal/lib/python3.10/site-packages (from thinc<8.2.0,>=8.1.8->spacy<3.6.0,>=3.5.0->en-core-web-sm==3.5.0) (0.7.9)\n",
      "Requirement already satisfied: confection<1.0.0,>=0.0.1 in /Users/surya/anaconda3/envs/Tf-metal/lib/python3.10/site-packages (from thinc<8.2.0,>=8.1.8->spacy<3.6.0,>=3.5.0->en-core-web-sm==3.5.0) (0.0.4)\n",
      "Requirement already satisfied: click<9.0.0,>=7.1.1 in /Users/surya/anaconda3/envs/Tf-metal/lib/python3.10/site-packages (from typer<0.8.0,>=0.3.0->spacy<3.6.0,>=3.5.0->en-core-web-sm==3.5.0) (8.1.3)\n",
      "Requirement already satisfied: MarkupSafe>=2.0 in /Users/surya/anaconda3/envs/Tf-metal/lib/python3.10/site-packages (from jinja2->spacy<3.6.0,>=3.5.0->en-core-web-sm==3.5.0) (2.1.1)\n",
      "\u001B[38;5;2m✔ Download and installation successful\u001B[0m\n",
      "You can now load the package via spacy.load('en_core_web_sm')\n"
     ]
    }
   ],
   "source": [
    "import spacy.cli\n",
    "spacy.cli.download('en_core_web_sm')\n"
   ],
   "metadata": {
    "collapsed": false,
    "ExecuteTime": {
     "end_time": "2024-01-30T01:22:43.761663Z",
     "start_time": "2024-01-30T01:22:16.730413Z"
    }
   },
   "id": "f4e3e39b062fb5ec"
  },
  {
   "cell_type": "code",
   "execution_count": 98,
   "outputs": [
    {
     "name": "stdout",
     "output_type": "stream",
     "text": [
      "Sentiment evaluation for 'flight ticket bag airline customer service refund luggage pay booked': 0.0\n",
      "Sentiment evaluation for 'flight seat time booked air year delhi india asked wife': 0.0\n",
      "Sentiment evaluation for 'flight hour delayed time airport delay airline day pm minute': 0.0\n",
      "Sentiment evaluation for 'seat flight staff bangkok check airport extra leg crew room': 0.0\n",
      "Sentiment evaluation for 'check boarding lounge airport johannesburg business class airway counter nairobi': 0.0\n",
      "Sentiment evaluation for 'flight service air paris airline casablanca experience business doha customer': 0.0\n",
      "Sentiment evaluation for 'flight seat food good service crew cabin class business time': 0.7\n",
      "Sentiment evaluation for 'airline time fly service experience flight worst istanbul review flying': -0.09999999999999998\n",
      "Sentiment evaluation for 'flight time th flew airline return crew staff plane jet': 0.0\n",
      "Sentiment evaluation for 'flight seat plane aircraft staff kuala lumpur boarding crew old': 0.1\n"
     ]
    }
   ],
   "source": [
    "import spacy\n",
    "from textblob import TextBlob\n",
    "\n",
    "# Load the spaCy English model\n",
    "nlp = spacy.load('en_core_web_sm')\n",
    "\n",
    "# Process each driver and evaluate sentiment\n",
    "for driver in drivers:\n",
    "    doc = nlp(driver)\n",
    "    \n",
    "    # Use TextBlob for sentiment analysis\n",
    "    blob = TextBlob(driver)\n",
    "    sentiment_score = blob.sentiment.polarity\n",
    "    \n",
    "    print(f\"Sentiment evaluation for '{driver}': {sentiment_score}\")\n"
   ],
   "metadata": {
    "collapsed": false,
    "ExecuteTime": {
     "end_time": "2024-01-30T01:28:42.280578Z",
     "start_time": "2024-01-30T01:28:41.933395Z"
    }
   },
   "id": "3dc4db12d64c2a35"
  },
  {
   "cell_type": "code",
   "execution_count": 99,
   "outputs": [
    {
     "name": "stdout",
     "output_type": "stream",
     "text": [
      "Neutral: flight ticket bag airline customer service refund luggage pay booked\n",
      "Neutral: flight seat time booked air year delhi india asked wife\n",
      "Neutral: flight hour delayed time airport delay airline day pm minute\n",
      "Neutral: seat flight staff bangkok check airport extra leg crew room\n",
      "Neutral: check boarding lounge airport johannesburg business class airway counter nairobi\n",
      "Neutral: flight service air paris airline casablanca experience business doha customer\n",
      "Positive: flight seat food good service crew cabin class business time\n",
      "Negative: airline time fly service experience flight worst istanbul review flying\n",
      "Neutral: flight time th flew airline return crew staff plane jet\n",
      "Positive: flight seat plane aircraft staff kuala lumpur boarding crew old\n"
     ]
    }
   ],
   "source": [
    "from textblob import TextBlob\n",
    "\n",
    "for driver in drivers:\n",
    "    sentiment = TextBlob(driver).sentiment.polarity\n",
    "    if sentiment > 0:\n",
    "        print(f'Positive: {driver}')\n",
    "    elif sentiment < 0:\n",
    "        print(f'Negative: {driver}')\n",
    "    else:\n",
    "        print(f'Neutral: {driver}')\n"
   ],
   "metadata": {
    "collapsed": false,
    "ExecuteTime": {
     "end_time": "2024-01-30T01:34:50.205740Z",
     "start_time": "2024-01-30T01:34:50.195215Z"
    }
   },
   "id": "96265d51506fac02"
  },
  {
   "cell_type": "code",
   "execution_count": 100,
   "outputs": [],
   "source": [
    "import pandas as pd\n",
    "\n",
    "# Load the customer review data into a pandas DataFrame\n",
    "reviews = pd.read_csv('../datasets/ProcessedData.csv')\n",
    "\n",
    "# Group the reviews by airline\n",
    "reviews_by_airline = reviews.groupby('AirName')\n",
    "\n",
    "# Calculate the average score for each airline\n",
    "average_scores = reviews_by_airline['OverallScore'].mean()"
   ],
   "metadata": {
    "collapsed": false,
    "ExecuteTime": {
     "end_time": "2024-01-30T01:39:59.120404Z",
     "start_time": "2024-01-30T01:39:58.959578Z"
    }
   },
   "id": "6064a473364aaa0f"
  },
  {
   "cell_type": "code",
   "execution_count": 102,
   "outputs": [
    {
     "data": {
      "text/plain": "                                    Unnamed: 0.1                       \\\n                                           count     mean         std   \nAirName                                                                 \nAir India                                  390.0   1213.5  112.727548   \nAna                                        390.0   2383.5  112.727548   \nair-europa                                 390.0    433.5  112.727548   \nair-france                                 390.0    823.5  112.727548   \nair-new-zealand                            390.0   1603.5  112.727548   \nairasia                                    239.0    119.0   69.137544   \namerican-airlines                          390.0   1993.5  112.727548   \naustrian-airlines                          390.0   2773.5  112.727548   \nbangkok-airways                            390.0   3163.5  112.727548   \nbritish-airways                            390.0   3553.5  112.727548   \nemirates                                   390.0   3943.5  112.727548   \nethiopian-airlines                         390.0   4333.5  112.727548   \nflydubai                                   336.0   4696.5   97.139076   \nfrontier-airlines                          390.0   5059.5  112.727548   \ngulf-air                                   350.0   5429.5  101.180532   \nhawaiian-airlines                          390.0   5799.5  112.727548   \nindigo-airlines                            389.0   6189.0  112.438872   \njapan-airlines                             382.0   6574.5  110.418145   \njet2-com                                   385.0   6958.0  111.284171   \nkenya-airways                              387.0   7344.0  111.861522   \nkorean-air                                 390.0   7732.5  112.727548   \nlufthansa                                  390.0   8122.5  112.727548   \nmalaysia-airlines                          390.0   8512.5  112.727548   \nmonarch-airlines                           318.0   8866.5   91.942917   \noman-air                                   390.0   9220.5  112.727548   \npegasus-airlines                           368.0   9599.5  106.376689   \nphilippine-airlines                        390.0   9978.5  112.727548   \npia-pakistan-international-airlines        146.0  10246.5   42.290661   \nporter-airlines                            301.0  10470.0   87.035433   \nqantas-airways                             390.0  10815.5  112.727548   \nqatar-airways                              390.0  11205.5  112.727548   \nroyal-air-maroc                            310.0  11555.5   89.633513   \nroyal-brunei-airlines                      349.0  11885.0  100.891856   \nroyal-jordanian-airlines                   350.0  12234.5  101.180532   \nryanair                                    390.0  12604.5  112.727548   \nsas-scandinavian-airlines                  390.0  12994.5  112.727548   \nsaudi-arabian-airlines                     359.0  13369.0  103.778611   \nscoot                                      390.0  13743.5  112.727548   \nsingapore-airlines                         390.0  14133.5  112.727548   \nsouth-african-airways                      390.0  14523.5  112.727548   \nsouthwest-airlines                         390.0  14913.5  112.727548   \nspicejet                                   390.0  15303.5  112.727548   \nspirit-airlines                            390.0  15693.5  112.727548   \nsrilankan-airlines                         127.0  15952.0   36.805797   \nsun-country-airlines                       297.0  16164.0   85.880731   \nsunwing-airlines                           384.0  16504.5  110.995495   \nswiss-international-air-lines              390.0  16891.5  112.727548   \nswoop                                      390.0  17281.5  112.727548   \nturkish-airlines                           390.0  17671.5  112.727548   \nukraine-international-airlines             377.0  18055.0  108.974768   \nunited-airlines                            390.0  18438.5  112.727548   \n\n                                                                           \\\n                                         min       25%      50%       75%   \nAirName                                                                     \nAir India                             1019.0   1116.25   1213.5   1310.75   \nAna                                   2189.0   2286.25   2383.5   2480.75   \nair-europa                             239.0    336.25    433.5    530.75   \nair-france                             629.0    726.25    823.5    920.75   \nair-new-zealand                       1409.0   1506.25   1603.5   1700.75   \nairasia                                  0.0     59.50    119.0    178.50   \namerican-airlines                     1799.0   1896.25   1993.5   2090.75   \naustrian-airlines                     2579.0   2676.25   2773.5   2870.75   \nbangkok-airways                       2969.0   3066.25   3163.5   3260.75   \nbritish-airways                       3359.0   3456.25   3553.5   3650.75   \nemirates                              3749.0   3846.25   3943.5   4040.75   \nethiopian-airlines                    4139.0   4236.25   4333.5   4430.75   \nflydubai                              4529.0   4612.75   4696.5   4780.25   \nfrontier-airlines                     4865.0   4962.25   5059.5   5156.75   \ngulf-air                              5255.0   5342.25   5429.5   5516.75   \nhawaiian-airlines                     5605.0   5702.25   5799.5   5896.75   \nindigo-airlines                       5995.0   6092.00   6189.0   6286.00   \njapan-airlines                        6384.0   6479.25   6574.5   6669.75   \njet2-com                              6766.0   6862.00   6958.0   7054.00   \nkenya-airways                         7151.0   7247.50   7344.0   7440.50   \nkorean-air                            7538.0   7635.25   7732.5   7829.75   \nlufthansa                             7928.0   8025.25   8122.5   8219.75   \nmalaysia-airlines                     8318.0   8415.25   8512.5   8609.75   \nmonarch-airlines                      8708.0   8787.25   8866.5   8945.75   \noman-air                              9026.0   9123.25   9220.5   9317.75   \npegasus-airlines                      9416.0   9507.75   9599.5   9691.25   \nphilippine-airlines                   9784.0   9881.25   9978.5  10075.75   \npia-pakistan-international-airlines  10174.0  10210.25  10246.5  10282.75   \nporter-airlines                      10320.0  10395.00  10470.0  10545.00   \nqantas-airways                       10621.0  10718.25  10815.5  10912.75   \nqatar-airways                        11011.0  11108.25  11205.5  11302.75   \nroyal-air-maroc                      11401.0  11478.25  11555.5  11632.75   \nroyal-brunei-airlines                11711.0  11798.00  11885.0  11972.00   \nroyal-jordanian-airlines             12060.0  12147.25  12234.5  12321.75   \nryanair                              12410.0  12507.25  12604.5  12701.75   \nsas-scandinavian-airlines            12800.0  12897.25  12994.5  13091.75   \nsaudi-arabian-airlines               13190.0  13279.50  13369.0  13458.50   \nscoot                                13549.0  13646.25  13743.5  13840.75   \nsingapore-airlines                   13939.0  14036.25  14133.5  14230.75   \nsouth-african-airways                14329.0  14426.25  14523.5  14620.75   \nsouthwest-airlines                   14719.0  14816.25  14913.5  15010.75   \nspicejet                             15109.0  15206.25  15303.5  15400.75   \nspirit-airlines                      15499.0  15596.25  15693.5  15790.75   \nsrilankan-airlines                   15889.0  15920.50  15952.0  15983.50   \nsun-country-airlines                 16016.0  16090.00  16164.0  16238.00   \nsunwing-airlines                     16313.0  16408.75  16504.5  16600.25   \nswiss-international-air-lines        16697.0  16794.25  16891.5  16988.75   \nswoop                                17087.0  17184.25  17281.5  17378.75   \nturkish-airlines                     17477.0  17574.25  17671.5  17768.75   \nukraine-international-airlines       17867.0  17961.00  18055.0  18149.00   \nunited-airlines                      18244.0  18341.25  18438.5  18535.75   \n\n                                             Unnamed: 0           ...  \\\n                                         max      count     mean  ...   \nAirName                                                           ...   \nAir India                             1408.0      390.0   1213.5  ...   \nAna                                   2578.0      390.0   2418.5  ...   \nair-europa                             628.0      390.0    433.5  ...   \nair-france                            1018.0      390.0    823.5  ...   \nair-new-zealand                       1798.0      390.0   1634.5  ...   \nairasia                                238.0      239.0    119.0  ...   \namerican-airlines                     2188.0      390.0   2028.5  ...   \naustrian-airlines                     2968.0      390.0   2817.5  ...   \nbangkok-airways                       3358.0      390.0   3229.5  ...   \nbritish-airways                       3748.0      390.0   3624.5  ...   \nemirates                              4138.0      390.0   4014.5  ...   \nethiopian-airlines                    4528.0      390.0   4404.5  ...   \nflydubai                              4864.0      336.0   4767.5  ...   \nfrontier-airlines                     5254.0      390.0   5130.5  ...   \ngulf-air                              5604.0      350.0   5500.5  ...   \nhawaiian-airlines                     5994.0      390.0   5870.5  ...   \nindigo-airlines                       6383.0      389.0   6260.0  ...   \njapan-airlines                        6765.0      382.0   6645.5  ...   \njet2-com                              7150.0      385.0   7029.0  ...   \nkenya-airways                         7537.0      387.0   7415.0  ...   \nkorean-air                            7927.0      390.0   7803.5  ...   \nlufthansa                             8317.0      390.0   8193.5  ...   \nmalaysia-airlines                     8707.0      390.0   8583.5  ...   \nmonarch-airlines                      9025.0      318.0   8937.5  ...   \noman-air                              9415.0      390.0   9407.5  ...   \npegasus-airlines                      9783.0      368.0   9786.5  ...   \nphilippine-airlines                  10173.0      390.0  10165.5  ...   \npia-pakistan-international-airlines  10319.0      146.0  10433.5  ...   \nporter-airlines                      10620.0      301.0  10657.0  ...   \nqantas-airways                       11010.0      390.0  11002.5  ...   \nqatar-airways                        11400.0      390.0  11392.5  ...   \nroyal-air-maroc                      11710.0      310.0  11742.5  ...   \nroyal-brunei-airlines                12059.0      349.0  12072.0  ...   \nroyal-jordanian-airlines             12409.0      350.0  12421.5  ...   \nryanair                              12799.0      390.0  12791.5  ...   \nsas-scandinavian-airlines            13189.0      390.0  13181.5  ...   \nsaudi-arabian-airlines               13548.0      359.0  13556.0  ...   \nscoot                                13938.0      390.0  13930.5  ...   \nsingapore-airlines                   14328.0      390.0  14320.5  ...   \nsouth-african-airways                14718.0      390.0  14710.5  ...   \nsouthwest-airlines                   15108.0      390.0  15100.5  ...   \nspicejet                             15498.0      390.0  15490.5  ...   \nspirit-airlines                      15888.0      390.0  15880.5  ...   \nsrilankan-airlines                   16015.0      127.0  16139.0  ...   \nsun-country-airlines                 16312.0      297.0  16351.0  ...   \nsunwing-airlines                     16696.0      384.0  16691.5  ...   \nswiss-international-air-lines        17086.0      390.0  17078.5  ...   \nswoop                                17476.0      390.0  17468.5  ...   \nturkish-airlines                     17866.0      390.0  17858.5  ...   \nukraine-international-airlines       18243.0      377.0  18242.0  ...   \nunited-airlines                      18633.0      390.0  18625.5  ...   \n\n                                    ValueRating      WifiRating            \\\n                                            75%  max      count      mean   \nAirName                                                                     \nAir India                                  3.00  5.0      390.0  0.425641   \nAna                                        5.00  5.0      390.0  0.817949   \nair-europa                                 3.75  5.0      390.0  0.364103   \nair-france                                 4.00  5.0      390.0  0.923077   \nair-new-zealand                            4.00  5.0      390.0  0.579487   \nairasia                                    3.00  5.0      239.0  0.213389   \namerican-airlines                          1.00  5.0      390.0  1.015385   \naustrian-airlines                          4.00  5.0      390.0  0.346154   \nbangkok-airways                            5.00  5.0      390.0  0.056410   \nbritish-airways                            4.00  5.0      390.0  0.769231   \nemirates                                   4.00  5.0      390.0  1.389744   \nethiopian-airlines                         4.00  5.0      390.0  0.312821   \nflydubai                                   4.00  5.0      336.0  0.428571   \nfrontier-airlines                          1.00  5.0      390.0  0.389744   \ngulf-air                                   4.00  5.0      350.0  0.242857   \nhawaiian-airlines                          4.00  5.0      390.0  0.448718   \nindigo-airlines                            5.00  5.0      389.0  0.169666   \njapan-airlines                             5.00  5.0      382.0  0.654450   \njet2-com                                   5.00  5.0      385.0  0.142857   \nkenya-airways                              4.00  5.0      387.0  0.198966   \nkorean-air                                 5.00  5.0      390.0  0.264103   \nlufthansa                                  3.00  5.0      390.0  0.725641   \nmalaysia-airlines                          4.00  5.0      390.0  0.374359   \nmonarch-airlines                           4.00  5.0      318.0  0.028302   \noman-air                                   5.00  5.0      390.0  0.471795   \npegasus-airlines                           4.00  5.0      368.0  0.152174   \nphilippine-airlines                        5.00  5.0      390.0  1.156410   \npia-pakistan-international-airlines        4.00  5.0      146.0  0.157534   \nporter-airlines                            4.00  5.0      301.0  0.136213   \nqantas-airways                             3.00  5.0      390.0  0.771795   \nqatar-airways                              5.00  5.0      390.0  2.482051   \nroyal-air-maroc                            4.00  5.0      310.0  0.270968   \nroyal-brunei-airlines                      5.00  5.0      349.0  0.128940   \nroyal-jordanian-airlines                   4.00  5.0      350.0  0.262857   \nryanair                                    3.00  5.0      390.0  0.233333   \nsas-scandinavian-airlines                  3.00  5.0      390.0  0.846154   \nsaudi-arabian-airlines                     4.00  5.0      359.0  0.660167   \nscoot                                      4.00  5.0      390.0  0.443590   \nsingapore-airlines                         5.00  5.0      390.0  1.297436   \nsouth-african-airways                      4.00  5.0      390.0  0.097436   \nsouthwest-airlines                         3.00  5.0      390.0  1.087179   \nspicejet                                   4.00  5.0      390.0  0.548718   \nspirit-airlines                            1.00  5.0      390.0  0.558974   \nsrilankan-airlines                         5.00  5.0      127.0  0.519685   \nsun-country-airlines                       3.00  5.0      297.0  0.454545   \nsunwing-airlines                           3.00  5.0      384.0  0.317708   \nswiss-international-air-lines              4.00  5.0      390.0  0.553846   \nswoop                                      2.00  5.0      390.0  0.302564   \nturkish-airlines                           3.00  5.0      390.0  0.969231   \nukraine-international-airlines             4.00  5.0      377.0  0.299735   \nunited-airlines                            2.00  5.0      390.0  1.115385   \n\n                                                                         \n                                          std  min  25%  50%   75%  max  \nAirName                                                                  \nAir India                            0.667543  0.0  0.0  0.0  1.00  5.0  \nAna                                  1.650796  0.0  0.0  0.0  0.00  5.0  \nair-europa                           0.827387  0.0  0.0  0.0  0.00  5.0  \nair-france                           1.631701  0.0  0.0  0.0  1.00  5.0  \nair-new-zealand                      1.245079  0.0  0.0  0.0  1.00  5.0  \nairasia                              0.667735  0.0  0.0  0.0  0.00  5.0  \namerican-airlines                    1.274536  0.0  0.0  1.0  1.00  5.0  \naustrian-airlines                    0.869756  0.0  0.0  0.0  0.00  5.0  \nbangkok-airways                      0.395212  0.0  0.0  0.0  0.00  5.0  \nbritish-airways                      1.481012  0.0  0.0  0.0  1.00  5.0  \nemirates                             1.623066  0.0  0.0  1.0  3.00  5.0  \nethiopian-airlines                   0.869116  0.0  0.0  0.0  0.00  5.0  \nflydubai                             0.850436  0.0  0.0  0.0  1.00  5.0  \nfrontier-airlines                    0.592930  0.0  0.0  0.0  1.00  5.0  \ngulf-air                             0.822947  0.0  0.0  0.0  0.00  5.0  \nhawaiian-airlines                    0.986378  0.0  0.0  0.0  1.00  5.0  \nindigo-airlines                      0.693865  0.0  0.0  0.0  0.00  5.0  \njapan-airlines                       1.490466  0.0  0.0  0.0  0.00  5.0  \njet2-com                             0.631514  0.0  0.0  0.0  0.00  5.0  \nkenya-airways                        0.614336  0.0  0.0  0.0  0.00  5.0  \nkorean-air                           0.940105  0.0  0.0  0.0  0.00  5.0  \nlufthansa                            1.231176  0.0  0.0  0.0  1.00  5.0  \nmalaysia-airlines                    0.947658  0.0  0.0  0.0  0.00  5.0  \nmonarch-airlines                     0.200514  0.0  0.0  0.0  0.00  2.0  \noman-air                             1.148588  0.0  0.0  0.0  0.00  5.0  \npegasus-airlines                     0.402574  0.0  0.0  0.0  0.00  3.0  \nphilippine-airlines                  1.705472  0.0  0.0  0.0  2.00  5.0  \npia-pakistan-international-airlines  0.450109  0.0  0.0  0.0  0.00  3.0  \nporter-airlines                      0.421961  0.0  0.0  0.0  0.00  3.0  \nqantas-airways                       1.326698  0.0  0.0  0.0  1.00  5.0  \nqatar-airways                        2.205027  0.0  0.0  3.0  5.00  5.0  \nroyal-air-maroc                      1.000386  0.0  0.0  0.0  0.00  5.0  \nroyal-brunei-airlines                0.688989  0.0  0.0  0.0  0.00  5.0  \nroyal-jordanian-airlines             0.632947  0.0  0.0  0.0  0.00  4.0  \nryanair                              0.573105  0.0  0.0  0.0  0.00  5.0  \nsas-scandinavian-airlines            1.313142  0.0  0.0  0.0  1.00  5.0  \nsaudi-arabian-airlines               1.244586  0.0  0.0  0.0  1.00  5.0  \nscoot                                0.996471  0.0  0.0  0.0  0.75  5.0  \nsingapore-airlines                   1.883153  0.0  0.0  0.0  3.00  5.0  \nsouth-african-airways                0.448641  0.0  0.0  0.0  0.00  4.0  \nsouthwest-airlines                   1.365227  0.0  0.0  1.0  1.00  5.0  \nspicejet                             1.165677  0.0  0.0  0.0  1.00  5.0  \nspirit-airlines                      0.775830  0.0  0.0  0.0  1.00  5.0  \nsrilankan-airlines                   1.037781  0.0  0.0  0.0  1.00  5.0  \nsun-country-airlines                 0.865316  0.0  0.0  0.0  1.00  5.0  \nsunwing-airlines                     0.735592  0.0  0.0  0.0  0.00  5.0  \nswiss-international-air-lines        1.264880  0.0  0.0  0.0  0.00  5.0  \nswoop                                0.792473  0.0  0.0  0.0  0.00  5.0  \nturkish-airlines                     1.456861  0.0  0.0  0.0  1.00  5.0  \nukraine-international-airlines       0.562881  0.0  0.0  0.0  1.00  5.0  \nunited-airlines                      1.304341  0.0  0.0  1.0  1.00  5.0  \n\n[51 rows x 104 columns]",
      "text/html": "<div>\n<style scoped>\n    .dataframe tbody tr th:only-of-type {\n        vertical-align: middle;\n    }\n\n    .dataframe tbody tr th {\n        vertical-align: top;\n    }\n\n    .dataframe thead tr th {\n        text-align: left;\n    }\n\n    .dataframe thead tr:last-of-type th {\n        text-align: right;\n    }\n</style>\n<table border=\"1\" class=\"dataframe\">\n  <thead>\n    <tr>\n      <th></th>\n      <th colspan=\"8\" halign=\"left\">Unnamed: 0.1</th>\n      <th colspan=\"2\" halign=\"left\">Unnamed: 0</th>\n      <th>...</th>\n      <th colspan=\"2\" halign=\"left\">ValueRating</th>\n      <th colspan=\"8\" halign=\"left\">WifiRating</th>\n    </tr>\n    <tr>\n      <th></th>\n      <th>count</th>\n      <th>mean</th>\n      <th>std</th>\n      <th>min</th>\n      <th>25%</th>\n      <th>50%</th>\n      <th>75%</th>\n      <th>max</th>\n      <th>count</th>\n      <th>mean</th>\n      <th>...</th>\n      <th>75%</th>\n      <th>max</th>\n      <th>count</th>\n      <th>mean</th>\n      <th>std</th>\n      <th>min</th>\n      <th>25%</th>\n      <th>50%</th>\n      <th>75%</th>\n      <th>max</th>\n    </tr>\n    <tr>\n      <th>AirName</th>\n      <th></th>\n      <th></th>\n      <th></th>\n      <th></th>\n      <th></th>\n      <th></th>\n      <th></th>\n      <th></th>\n      <th></th>\n      <th></th>\n      <th></th>\n      <th></th>\n      <th></th>\n      <th></th>\n      <th></th>\n      <th></th>\n      <th></th>\n      <th></th>\n      <th></th>\n      <th></th>\n      <th></th>\n    </tr>\n  </thead>\n  <tbody>\n    <tr>\n      <th>Air India</th>\n      <td>390.0</td>\n      <td>1213.5</td>\n      <td>112.727548</td>\n      <td>1019.0</td>\n      <td>1116.25</td>\n      <td>1213.5</td>\n      <td>1310.75</td>\n      <td>1408.0</td>\n      <td>390.0</td>\n      <td>1213.5</td>\n      <td>...</td>\n      <td>3.00</td>\n      <td>5.0</td>\n      <td>390.0</td>\n      <td>0.425641</td>\n      <td>0.667543</td>\n      <td>0.0</td>\n      <td>0.0</td>\n      <td>0.0</td>\n      <td>1.00</td>\n      <td>5.0</td>\n    </tr>\n    <tr>\n      <th>Ana</th>\n      <td>390.0</td>\n      <td>2383.5</td>\n      <td>112.727548</td>\n      <td>2189.0</td>\n      <td>2286.25</td>\n      <td>2383.5</td>\n      <td>2480.75</td>\n      <td>2578.0</td>\n      <td>390.0</td>\n      <td>2418.5</td>\n      <td>...</td>\n      <td>5.00</td>\n      <td>5.0</td>\n      <td>390.0</td>\n      <td>0.817949</td>\n      <td>1.650796</td>\n      <td>0.0</td>\n      <td>0.0</td>\n      <td>0.0</td>\n      <td>0.00</td>\n      <td>5.0</td>\n    </tr>\n    <tr>\n      <th>air-europa</th>\n      <td>390.0</td>\n      <td>433.5</td>\n      <td>112.727548</td>\n      <td>239.0</td>\n      <td>336.25</td>\n      <td>433.5</td>\n      <td>530.75</td>\n      <td>628.0</td>\n      <td>390.0</td>\n      <td>433.5</td>\n      <td>...</td>\n      <td>3.75</td>\n      <td>5.0</td>\n      <td>390.0</td>\n      <td>0.364103</td>\n      <td>0.827387</td>\n      <td>0.0</td>\n      <td>0.0</td>\n      <td>0.0</td>\n      <td>0.00</td>\n      <td>5.0</td>\n    </tr>\n    <tr>\n      <th>air-france</th>\n      <td>390.0</td>\n      <td>823.5</td>\n      <td>112.727548</td>\n      <td>629.0</td>\n      <td>726.25</td>\n      <td>823.5</td>\n      <td>920.75</td>\n      <td>1018.0</td>\n      <td>390.0</td>\n      <td>823.5</td>\n      <td>...</td>\n      <td>4.00</td>\n      <td>5.0</td>\n      <td>390.0</td>\n      <td>0.923077</td>\n      <td>1.631701</td>\n      <td>0.0</td>\n      <td>0.0</td>\n      <td>0.0</td>\n      <td>1.00</td>\n      <td>5.0</td>\n    </tr>\n    <tr>\n      <th>air-new-zealand</th>\n      <td>390.0</td>\n      <td>1603.5</td>\n      <td>112.727548</td>\n      <td>1409.0</td>\n      <td>1506.25</td>\n      <td>1603.5</td>\n      <td>1700.75</td>\n      <td>1798.0</td>\n      <td>390.0</td>\n      <td>1634.5</td>\n      <td>...</td>\n      <td>4.00</td>\n      <td>5.0</td>\n      <td>390.0</td>\n      <td>0.579487</td>\n      <td>1.245079</td>\n      <td>0.0</td>\n      <td>0.0</td>\n      <td>0.0</td>\n      <td>1.00</td>\n      <td>5.0</td>\n    </tr>\n    <tr>\n      <th>airasia</th>\n      <td>239.0</td>\n      <td>119.0</td>\n      <td>69.137544</td>\n      <td>0.0</td>\n      <td>59.50</td>\n      <td>119.0</td>\n      <td>178.50</td>\n      <td>238.0</td>\n      <td>239.0</td>\n      <td>119.0</td>\n      <td>...</td>\n      <td>3.00</td>\n      <td>5.0</td>\n      <td>239.0</td>\n      <td>0.213389</td>\n      <td>0.667735</td>\n      <td>0.0</td>\n      <td>0.0</td>\n      <td>0.0</td>\n      <td>0.00</td>\n      <td>5.0</td>\n    </tr>\n    <tr>\n      <th>american-airlines</th>\n      <td>390.0</td>\n      <td>1993.5</td>\n      <td>112.727548</td>\n      <td>1799.0</td>\n      <td>1896.25</td>\n      <td>1993.5</td>\n      <td>2090.75</td>\n      <td>2188.0</td>\n      <td>390.0</td>\n      <td>2028.5</td>\n      <td>...</td>\n      <td>1.00</td>\n      <td>5.0</td>\n      <td>390.0</td>\n      <td>1.015385</td>\n      <td>1.274536</td>\n      <td>0.0</td>\n      <td>0.0</td>\n      <td>1.0</td>\n      <td>1.00</td>\n      <td>5.0</td>\n    </tr>\n    <tr>\n      <th>austrian-airlines</th>\n      <td>390.0</td>\n      <td>2773.5</td>\n      <td>112.727548</td>\n      <td>2579.0</td>\n      <td>2676.25</td>\n      <td>2773.5</td>\n      <td>2870.75</td>\n      <td>2968.0</td>\n      <td>390.0</td>\n      <td>2817.5</td>\n      <td>...</td>\n      <td>4.00</td>\n      <td>5.0</td>\n      <td>390.0</td>\n      <td>0.346154</td>\n      <td>0.869756</td>\n      <td>0.0</td>\n      <td>0.0</td>\n      <td>0.0</td>\n      <td>0.00</td>\n      <td>5.0</td>\n    </tr>\n    <tr>\n      <th>bangkok-airways</th>\n      <td>390.0</td>\n      <td>3163.5</td>\n      <td>112.727548</td>\n      <td>2969.0</td>\n      <td>3066.25</td>\n      <td>3163.5</td>\n      <td>3260.75</td>\n      <td>3358.0</td>\n      <td>390.0</td>\n      <td>3229.5</td>\n      <td>...</td>\n      <td>5.00</td>\n      <td>5.0</td>\n      <td>390.0</td>\n      <td>0.056410</td>\n      <td>0.395212</td>\n      <td>0.0</td>\n      <td>0.0</td>\n      <td>0.0</td>\n      <td>0.00</td>\n      <td>5.0</td>\n    </tr>\n    <tr>\n      <th>british-airways</th>\n      <td>390.0</td>\n      <td>3553.5</td>\n      <td>112.727548</td>\n      <td>3359.0</td>\n      <td>3456.25</td>\n      <td>3553.5</td>\n      <td>3650.75</td>\n      <td>3748.0</td>\n      <td>390.0</td>\n      <td>3624.5</td>\n      <td>...</td>\n      <td>4.00</td>\n      <td>5.0</td>\n      <td>390.0</td>\n      <td>0.769231</td>\n      <td>1.481012</td>\n      <td>0.0</td>\n      <td>0.0</td>\n      <td>0.0</td>\n      <td>1.00</td>\n      <td>5.0</td>\n    </tr>\n    <tr>\n      <th>emirates</th>\n      <td>390.0</td>\n      <td>3943.5</td>\n      <td>112.727548</td>\n      <td>3749.0</td>\n      <td>3846.25</td>\n      <td>3943.5</td>\n      <td>4040.75</td>\n      <td>4138.0</td>\n      <td>390.0</td>\n      <td>4014.5</td>\n      <td>...</td>\n      <td>4.00</td>\n      <td>5.0</td>\n      <td>390.0</td>\n      <td>1.389744</td>\n      <td>1.623066</td>\n      <td>0.0</td>\n      <td>0.0</td>\n      <td>1.0</td>\n      <td>3.00</td>\n      <td>5.0</td>\n    </tr>\n    <tr>\n      <th>ethiopian-airlines</th>\n      <td>390.0</td>\n      <td>4333.5</td>\n      <td>112.727548</td>\n      <td>4139.0</td>\n      <td>4236.25</td>\n      <td>4333.5</td>\n      <td>4430.75</td>\n      <td>4528.0</td>\n      <td>390.0</td>\n      <td>4404.5</td>\n      <td>...</td>\n      <td>4.00</td>\n      <td>5.0</td>\n      <td>390.0</td>\n      <td>0.312821</td>\n      <td>0.869116</td>\n      <td>0.0</td>\n      <td>0.0</td>\n      <td>0.0</td>\n      <td>0.00</td>\n      <td>5.0</td>\n    </tr>\n    <tr>\n      <th>flydubai</th>\n      <td>336.0</td>\n      <td>4696.5</td>\n      <td>97.139076</td>\n      <td>4529.0</td>\n      <td>4612.75</td>\n      <td>4696.5</td>\n      <td>4780.25</td>\n      <td>4864.0</td>\n      <td>336.0</td>\n      <td>4767.5</td>\n      <td>...</td>\n      <td>4.00</td>\n      <td>5.0</td>\n      <td>336.0</td>\n      <td>0.428571</td>\n      <td>0.850436</td>\n      <td>0.0</td>\n      <td>0.0</td>\n      <td>0.0</td>\n      <td>1.00</td>\n      <td>5.0</td>\n    </tr>\n    <tr>\n      <th>frontier-airlines</th>\n      <td>390.0</td>\n      <td>5059.5</td>\n      <td>112.727548</td>\n      <td>4865.0</td>\n      <td>4962.25</td>\n      <td>5059.5</td>\n      <td>5156.75</td>\n      <td>5254.0</td>\n      <td>390.0</td>\n      <td>5130.5</td>\n      <td>...</td>\n      <td>1.00</td>\n      <td>5.0</td>\n      <td>390.0</td>\n      <td>0.389744</td>\n      <td>0.592930</td>\n      <td>0.0</td>\n      <td>0.0</td>\n      <td>0.0</td>\n      <td>1.00</td>\n      <td>5.0</td>\n    </tr>\n    <tr>\n      <th>gulf-air</th>\n      <td>350.0</td>\n      <td>5429.5</td>\n      <td>101.180532</td>\n      <td>5255.0</td>\n      <td>5342.25</td>\n      <td>5429.5</td>\n      <td>5516.75</td>\n      <td>5604.0</td>\n      <td>350.0</td>\n      <td>5500.5</td>\n      <td>...</td>\n      <td>4.00</td>\n      <td>5.0</td>\n      <td>350.0</td>\n      <td>0.242857</td>\n      <td>0.822947</td>\n      <td>0.0</td>\n      <td>0.0</td>\n      <td>0.0</td>\n      <td>0.00</td>\n      <td>5.0</td>\n    </tr>\n    <tr>\n      <th>hawaiian-airlines</th>\n      <td>390.0</td>\n      <td>5799.5</td>\n      <td>112.727548</td>\n      <td>5605.0</td>\n      <td>5702.25</td>\n      <td>5799.5</td>\n      <td>5896.75</td>\n      <td>5994.0</td>\n      <td>390.0</td>\n      <td>5870.5</td>\n      <td>...</td>\n      <td>4.00</td>\n      <td>5.0</td>\n      <td>390.0</td>\n      <td>0.448718</td>\n      <td>0.986378</td>\n      <td>0.0</td>\n      <td>0.0</td>\n      <td>0.0</td>\n      <td>1.00</td>\n      <td>5.0</td>\n    </tr>\n    <tr>\n      <th>indigo-airlines</th>\n      <td>389.0</td>\n      <td>6189.0</td>\n      <td>112.438872</td>\n      <td>5995.0</td>\n      <td>6092.00</td>\n      <td>6189.0</td>\n      <td>6286.00</td>\n      <td>6383.0</td>\n      <td>389.0</td>\n      <td>6260.0</td>\n      <td>...</td>\n      <td>5.00</td>\n      <td>5.0</td>\n      <td>389.0</td>\n      <td>0.169666</td>\n      <td>0.693865</td>\n      <td>0.0</td>\n      <td>0.0</td>\n      <td>0.0</td>\n      <td>0.00</td>\n      <td>5.0</td>\n    </tr>\n    <tr>\n      <th>japan-airlines</th>\n      <td>382.0</td>\n      <td>6574.5</td>\n      <td>110.418145</td>\n      <td>6384.0</td>\n      <td>6479.25</td>\n      <td>6574.5</td>\n      <td>6669.75</td>\n      <td>6765.0</td>\n      <td>382.0</td>\n      <td>6645.5</td>\n      <td>...</td>\n      <td>5.00</td>\n      <td>5.0</td>\n      <td>382.0</td>\n      <td>0.654450</td>\n      <td>1.490466</td>\n      <td>0.0</td>\n      <td>0.0</td>\n      <td>0.0</td>\n      <td>0.00</td>\n      <td>5.0</td>\n    </tr>\n    <tr>\n      <th>jet2-com</th>\n      <td>385.0</td>\n      <td>6958.0</td>\n      <td>111.284171</td>\n      <td>6766.0</td>\n      <td>6862.00</td>\n      <td>6958.0</td>\n      <td>7054.00</td>\n      <td>7150.0</td>\n      <td>385.0</td>\n      <td>7029.0</td>\n      <td>...</td>\n      <td>5.00</td>\n      <td>5.0</td>\n      <td>385.0</td>\n      <td>0.142857</td>\n      <td>0.631514</td>\n      <td>0.0</td>\n      <td>0.0</td>\n      <td>0.0</td>\n      <td>0.00</td>\n      <td>5.0</td>\n    </tr>\n    <tr>\n      <th>kenya-airways</th>\n      <td>387.0</td>\n      <td>7344.0</td>\n      <td>111.861522</td>\n      <td>7151.0</td>\n      <td>7247.50</td>\n      <td>7344.0</td>\n      <td>7440.50</td>\n      <td>7537.0</td>\n      <td>387.0</td>\n      <td>7415.0</td>\n      <td>...</td>\n      <td>4.00</td>\n      <td>5.0</td>\n      <td>387.0</td>\n      <td>0.198966</td>\n      <td>0.614336</td>\n      <td>0.0</td>\n      <td>0.0</td>\n      <td>0.0</td>\n      <td>0.00</td>\n      <td>5.0</td>\n    </tr>\n    <tr>\n      <th>korean-air</th>\n      <td>390.0</td>\n      <td>7732.5</td>\n      <td>112.727548</td>\n      <td>7538.0</td>\n      <td>7635.25</td>\n      <td>7732.5</td>\n      <td>7829.75</td>\n      <td>7927.0</td>\n      <td>390.0</td>\n      <td>7803.5</td>\n      <td>...</td>\n      <td>5.00</td>\n      <td>5.0</td>\n      <td>390.0</td>\n      <td>0.264103</td>\n      <td>0.940105</td>\n      <td>0.0</td>\n      <td>0.0</td>\n      <td>0.0</td>\n      <td>0.00</td>\n      <td>5.0</td>\n    </tr>\n    <tr>\n      <th>lufthansa</th>\n      <td>390.0</td>\n      <td>8122.5</td>\n      <td>112.727548</td>\n      <td>7928.0</td>\n      <td>8025.25</td>\n      <td>8122.5</td>\n      <td>8219.75</td>\n      <td>8317.0</td>\n      <td>390.0</td>\n      <td>8193.5</td>\n      <td>...</td>\n      <td>3.00</td>\n      <td>5.0</td>\n      <td>390.0</td>\n      <td>0.725641</td>\n      <td>1.231176</td>\n      <td>0.0</td>\n      <td>0.0</td>\n      <td>0.0</td>\n      <td>1.00</td>\n      <td>5.0</td>\n    </tr>\n    <tr>\n      <th>malaysia-airlines</th>\n      <td>390.0</td>\n      <td>8512.5</td>\n      <td>112.727548</td>\n      <td>8318.0</td>\n      <td>8415.25</td>\n      <td>8512.5</td>\n      <td>8609.75</td>\n      <td>8707.0</td>\n      <td>390.0</td>\n      <td>8583.5</td>\n      <td>...</td>\n      <td>4.00</td>\n      <td>5.0</td>\n      <td>390.0</td>\n      <td>0.374359</td>\n      <td>0.947658</td>\n      <td>0.0</td>\n      <td>0.0</td>\n      <td>0.0</td>\n      <td>0.00</td>\n      <td>5.0</td>\n    </tr>\n    <tr>\n      <th>monarch-airlines</th>\n      <td>318.0</td>\n      <td>8866.5</td>\n      <td>91.942917</td>\n      <td>8708.0</td>\n      <td>8787.25</td>\n      <td>8866.5</td>\n      <td>8945.75</td>\n      <td>9025.0</td>\n      <td>318.0</td>\n      <td>8937.5</td>\n      <td>...</td>\n      <td>4.00</td>\n      <td>5.0</td>\n      <td>318.0</td>\n      <td>0.028302</td>\n      <td>0.200514</td>\n      <td>0.0</td>\n      <td>0.0</td>\n      <td>0.0</td>\n      <td>0.00</td>\n      <td>2.0</td>\n    </tr>\n    <tr>\n      <th>oman-air</th>\n      <td>390.0</td>\n      <td>9220.5</td>\n      <td>112.727548</td>\n      <td>9026.0</td>\n      <td>9123.25</td>\n      <td>9220.5</td>\n      <td>9317.75</td>\n      <td>9415.0</td>\n      <td>390.0</td>\n      <td>9407.5</td>\n      <td>...</td>\n      <td>5.00</td>\n      <td>5.0</td>\n      <td>390.0</td>\n      <td>0.471795</td>\n      <td>1.148588</td>\n      <td>0.0</td>\n      <td>0.0</td>\n      <td>0.0</td>\n      <td>0.00</td>\n      <td>5.0</td>\n    </tr>\n    <tr>\n      <th>pegasus-airlines</th>\n      <td>368.0</td>\n      <td>9599.5</td>\n      <td>106.376689</td>\n      <td>9416.0</td>\n      <td>9507.75</td>\n      <td>9599.5</td>\n      <td>9691.25</td>\n      <td>9783.0</td>\n      <td>368.0</td>\n      <td>9786.5</td>\n      <td>...</td>\n      <td>4.00</td>\n      <td>5.0</td>\n      <td>368.0</td>\n      <td>0.152174</td>\n      <td>0.402574</td>\n      <td>0.0</td>\n      <td>0.0</td>\n      <td>0.0</td>\n      <td>0.00</td>\n      <td>3.0</td>\n    </tr>\n    <tr>\n      <th>philippine-airlines</th>\n      <td>390.0</td>\n      <td>9978.5</td>\n      <td>112.727548</td>\n      <td>9784.0</td>\n      <td>9881.25</td>\n      <td>9978.5</td>\n      <td>10075.75</td>\n      <td>10173.0</td>\n      <td>390.0</td>\n      <td>10165.5</td>\n      <td>...</td>\n      <td>5.00</td>\n      <td>5.0</td>\n      <td>390.0</td>\n      <td>1.156410</td>\n      <td>1.705472</td>\n      <td>0.0</td>\n      <td>0.0</td>\n      <td>0.0</td>\n      <td>2.00</td>\n      <td>5.0</td>\n    </tr>\n    <tr>\n      <th>pia-pakistan-international-airlines</th>\n      <td>146.0</td>\n      <td>10246.5</td>\n      <td>42.290661</td>\n      <td>10174.0</td>\n      <td>10210.25</td>\n      <td>10246.5</td>\n      <td>10282.75</td>\n      <td>10319.0</td>\n      <td>146.0</td>\n      <td>10433.5</td>\n      <td>...</td>\n      <td>4.00</td>\n      <td>5.0</td>\n      <td>146.0</td>\n      <td>0.157534</td>\n      <td>0.450109</td>\n      <td>0.0</td>\n      <td>0.0</td>\n      <td>0.0</td>\n      <td>0.00</td>\n      <td>3.0</td>\n    </tr>\n    <tr>\n      <th>porter-airlines</th>\n      <td>301.0</td>\n      <td>10470.0</td>\n      <td>87.035433</td>\n      <td>10320.0</td>\n      <td>10395.00</td>\n      <td>10470.0</td>\n      <td>10545.00</td>\n      <td>10620.0</td>\n      <td>301.0</td>\n      <td>10657.0</td>\n      <td>...</td>\n      <td>4.00</td>\n      <td>5.0</td>\n      <td>301.0</td>\n      <td>0.136213</td>\n      <td>0.421961</td>\n      <td>0.0</td>\n      <td>0.0</td>\n      <td>0.0</td>\n      <td>0.00</td>\n      <td>3.0</td>\n    </tr>\n    <tr>\n      <th>qantas-airways</th>\n      <td>390.0</td>\n      <td>10815.5</td>\n      <td>112.727548</td>\n      <td>10621.0</td>\n      <td>10718.25</td>\n      <td>10815.5</td>\n      <td>10912.75</td>\n      <td>11010.0</td>\n      <td>390.0</td>\n      <td>11002.5</td>\n      <td>...</td>\n      <td>3.00</td>\n      <td>5.0</td>\n      <td>390.0</td>\n      <td>0.771795</td>\n      <td>1.326698</td>\n      <td>0.0</td>\n      <td>0.0</td>\n      <td>0.0</td>\n      <td>1.00</td>\n      <td>5.0</td>\n    </tr>\n    <tr>\n      <th>qatar-airways</th>\n      <td>390.0</td>\n      <td>11205.5</td>\n      <td>112.727548</td>\n      <td>11011.0</td>\n      <td>11108.25</td>\n      <td>11205.5</td>\n      <td>11302.75</td>\n      <td>11400.0</td>\n      <td>390.0</td>\n      <td>11392.5</td>\n      <td>...</td>\n      <td>5.00</td>\n      <td>5.0</td>\n      <td>390.0</td>\n      <td>2.482051</td>\n      <td>2.205027</td>\n      <td>0.0</td>\n      <td>0.0</td>\n      <td>3.0</td>\n      <td>5.00</td>\n      <td>5.0</td>\n    </tr>\n    <tr>\n      <th>royal-air-maroc</th>\n      <td>310.0</td>\n      <td>11555.5</td>\n      <td>89.633513</td>\n      <td>11401.0</td>\n      <td>11478.25</td>\n      <td>11555.5</td>\n      <td>11632.75</td>\n      <td>11710.0</td>\n      <td>310.0</td>\n      <td>11742.5</td>\n      <td>...</td>\n      <td>4.00</td>\n      <td>5.0</td>\n      <td>310.0</td>\n      <td>0.270968</td>\n      <td>1.000386</td>\n      <td>0.0</td>\n      <td>0.0</td>\n      <td>0.0</td>\n      <td>0.00</td>\n      <td>5.0</td>\n    </tr>\n    <tr>\n      <th>royal-brunei-airlines</th>\n      <td>349.0</td>\n      <td>11885.0</td>\n      <td>100.891856</td>\n      <td>11711.0</td>\n      <td>11798.00</td>\n      <td>11885.0</td>\n      <td>11972.00</td>\n      <td>12059.0</td>\n      <td>349.0</td>\n      <td>12072.0</td>\n      <td>...</td>\n      <td>5.00</td>\n      <td>5.0</td>\n      <td>349.0</td>\n      <td>0.128940</td>\n      <td>0.688989</td>\n      <td>0.0</td>\n      <td>0.0</td>\n      <td>0.0</td>\n      <td>0.00</td>\n      <td>5.0</td>\n    </tr>\n    <tr>\n      <th>royal-jordanian-airlines</th>\n      <td>350.0</td>\n      <td>12234.5</td>\n      <td>101.180532</td>\n      <td>12060.0</td>\n      <td>12147.25</td>\n      <td>12234.5</td>\n      <td>12321.75</td>\n      <td>12409.0</td>\n      <td>350.0</td>\n      <td>12421.5</td>\n      <td>...</td>\n      <td>4.00</td>\n      <td>5.0</td>\n      <td>350.0</td>\n      <td>0.262857</td>\n      <td>0.632947</td>\n      <td>0.0</td>\n      <td>0.0</td>\n      <td>0.0</td>\n      <td>0.00</td>\n      <td>4.0</td>\n    </tr>\n    <tr>\n      <th>ryanair</th>\n      <td>390.0</td>\n      <td>12604.5</td>\n      <td>112.727548</td>\n      <td>12410.0</td>\n      <td>12507.25</td>\n      <td>12604.5</td>\n      <td>12701.75</td>\n      <td>12799.0</td>\n      <td>390.0</td>\n      <td>12791.5</td>\n      <td>...</td>\n      <td>3.00</td>\n      <td>5.0</td>\n      <td>390.0</td>\n      <td>0.233333</td>\n      <td>0.573105</td>\n      <td>0.0</td>\n      <td>0.0</td>\n      <td>0.0</td>\n      <td>0.00</td>\n      <td>5.0</td>\n    </tr>\n    <tr>\n      <th>sas-scandinavian-airlines</th>\n      <td>390.0</td>\n      <td>12994.5</td>\n      <td>112.727548</td>\n      <td>12800.0</td>\n      <td>12897.25</td>\n      <td>12994.5</td>\n      <td>13091.75</td>\n      <td>13189.0</td>\n      <td>390.0</td>\n      <td>13181.5</td>\n      <td>...</td>\n      <td>3.00</td>\n      <td>5.0</td>\n      <td>390.0</td>\n      <td>0.846154</td>\n      <td>1.313142</td>\n      <td>0.0</td>\n      <td>0.0</td>\n      <td>0.0</td>\n      <td>1.00</td>\n      <td>5.0</td>\n    </tr>\n    <tr>\n      <th>saudi-arabian-airlines</th>\n      <td>359.0</td>\n      <td>13369.0</td>\n      <td>103.778611</td>\n      <td>13190.0</td>\n      <td>13279.50</td>\n      <td>13369.0</td>\n      <td>13458.50</td>\n      <td>13548.0</td>\n      <td>359.0</td>\n      <td>13556.0</td>\n      <td>...</td>\n      <td>4.00</td>\n      <td>5.0</td>\n      <td>359.0</td>\n      <td>0.660167</td>\n      <td>1.244586</td>\n      <td>0.0</td>\n      <td>0.0</td>\n      <td>0.0</td>\n      <td>1.00</td>\n      <td>5.0</td>\n    </tr>\n    <tr>\n      <th>scoot</th>\n      <td>390.0</td>\n      <td>13743.5</td>\n      <td>112.727548</td>\n      <td>13549.0</td>\n      <td>13646.25</td>\n      <td>13743.5</td>\n      <td>13840.75</td>\n      <td>13938.0</td>\n      <td>390.0</td>\n      <td>13930.5</td>\n      <td>...</td>\n      <td>4.00</td>\n      <td>5.0</td>\n      <td>390.0</td>\n      <td>0.443590</td>\n      <td>0.996471</td>\n      <td>0.0</td>\n      <td>0.0</td>\n      <td>0.0</td>\n      <td>0.75</td>\n      <td>5.0</td>\n    </tr>\n    <tr>\n      <th>singapore-airlines</th>\n      <td>390.0</td>\n      <td>14133.5</td>\n      <td>112.727548</td>\n      <td>13939.0</td>\n      <td>14036.25</td>\n      <td>14133.5</td>\n      <td>14230.75</td>\n      <td>14328.0</td>\n      <td>390.0</td>\n      <td>14320.5</td>\n      <td>...</td>\n      <td>5.00</td>\n      <td>5.0</td>\n      <td>390.0</td>\n      <td>1.297436</td>\n      <td>1.883153</td>\n      <td>0.0</td>\n      <td>0.0</td>\n      <td>0.0</td>\n      <td>3.00</td>\n      <td>5.0</td>\n    </tr>\n    <tr>\n      <th>south-african-airways</th>\n      <td>390.0</td>\n      <td>14523.5</td>\n      <td>112.727548</td>\n      <td>14329.0</td>\n      <td>14426.25</td>\n      <td>14523.5</td>\n      <td>14620.75</td>\n      <td>14718.0</td>\n      <td>390.0</td>\n      <td>14710.5</td>\n      <td>...</td>\n      <td>4.00</td>\n      <td>5.0</td>\n      <td>390.0</td>\n      <td>0.097436</td>\n      <td>0.448641</td>\n      <td>0.0</td>\n      <td>0.0</td>\n      <td>0.0</td>\n      <td>0.00</td>\n      <td>4.0</td>\n    </tr>\n    <tr>\n      <th>southwest-airlines</th>\n      <td>390.0</td>\n      <td>14913.5</td>\n      <td>112.727548</td>\n      <td>14719.0</td>\n      <td>14816.25</td>\n      <td>14913.5</td>\n      <td>15010.75</td>\n      <td>15108.0</td>\n      <td>390.0</td>\n      <td>15100.5</td>\n      <td>...</td>\n      <td>3.00</td>\n      <td>5.0</td>\n      <td>390.0</td>\n      <td>1.087179</td>\n      <td>1.365227</td>\n      <td>0.0</td>\n      <td>0.0</td>\n      <td>1.0</td>\n      <td>1.00</td>\n      <td>5.0</td>\n    </tr>\n    <tr>\n      <th>spicejet</th>\n      <td>390.0</td>\n      <td>15303.5</td>\n      <td>112.727548</td>\n      <td>15109.0</td>\n      <td>15206.25</td>\n      <td>15303.5</td>\n      <td>15400.75</td>\n      <td>15498.0</td>\n      <td>390.0</td>\n      <td>15490.5</td>\n      <td>...</td>\n      <td>4.00</td>\n      <td>5.0</td>\n      <td>390.0</td>\n      <td>0.548718</td>\n      <td>1.165677</td>\n      <td>0.0</td>\n      <td>0.0</td>\n      <td>0.0</td>\n      <td>1.00</td>\n      <td>5.0</td>\n    </tr>\n    <tr>\n      <th>spirit-airlines</th>\n      <td>390.0</td>\n      <td>15693.5</td>\n      <td>112.727548</td>\n      <td>15499.0</td>\n      <td>15596.25</td>\n      <td>15693.5</td>\n      <td>15790.75</td>\n      <td>15888.0</td>\n      <td>390.0</td>\n      <td>15880.5</td>\n      <td>...</td>\n      <td>1.00</td>\n      <td>5.0</td>\n      <td>390.0</td>\n      <td>0.558974</td>\n      <td>0.775830</td>\n      <td>0.0</td>\n      <td>0.0</td>\n      <td>0.0</td>\n      <td>1.00</td>\n      <td>5.0</td>\n    </tr>\n    <tr>\n      <th>srilankan-airlines</th>\n      <td>127.0</td>\n      <td>15952.0</td>\n      <td>36.805797</td>\n      <td>15889.0</td>\n      <td>15920.50</td>\n      <td>15952.0</td>\n      <td>15983.50</td>\n      <td>16015.0</td>\n      <td>127.0</td>\n      <td>16139.0</td>\n      <td>...</td>\n      <td>5.00</td>\n      <td>5.0</td>\n      <td>127.0</td>\n      <td>0.519685</td>\n      <td>1.037781</td>\n      <td>0.0</td>\n      <td>0.0</td>\n      <td>0.0</td>\n      <td>1.00</td>\n      <td>5.0</td>\n    </tr>\n    <tr>\n      <th>sun-country-airlines</th>\n      <td>297.0</td>\n      <td>16164.0</td>\n      <td>85.880731</td>\n      <td>16016.0</td>\n      <td>16090.00</td>\n      <td>16164.0</td>\n      <td>16238.00</td>\n      <td>16312.0</td>\n      <td>297.0</td>\n      <td>16351.0</td>\n      <td>...</td>\n      <td>3.00</td>\n      <td>5.0</td>\n      <td>297.0</td>\n      <td>0.454545</td>\n      <td>0.865316</td>\n      <td>0.0</td>\n      <td>0.0</td>\n      <td>0.0</td>\n      <td>1.00</td>\n      <td>5.0</td>\n    </tr>\n    <tr>\n      <th>sunwing-airlines</th>\n      <td>384.0</td>\n      <td>16504.5</td>\n      <td>110.995495</td>\n      <td>16313.0</td>\n      <td>16408.75</td>\n      <td>16504.5</td>\n      <td>16600.25</td>\n      <td>16696.0</td>\n      <td>384.0</td>\n      <td>16691.5</td>\n      <td>...</td>\n      <td>3.00</td>\n      <td>5.0</td>\n      <td>384.0</td>\n      <td>0.317708</td>\n      <td>0.735592</td>\n      <td>0.0</td>\n      <td>0.0</td>\n      <td>0.0</td>\n      <td>0.00</td>\n      <td>5.0</td>\n    </tr>\n    <tr>\n      <th>swiss-international-air-lines</th>\n      <td>390.0</td>\n      <td>16891.5</td>\n      <td>112.727548</td>\n      <td>16697.0</td>\n      <td>16794.25</td>\n      <td>16891.5</td>\n      <td>16988.75</td>\n      <td>17086.0</td>\n      <td>390.0</td>\n      <td>17078.5</td>\n      <td>...</td>\n      <td>4.00</td>\n      <td>5.0</td>\n      <td>390.0</td>\n      <td>0.553846</td>\n      <td>1.264880</td>\n      <td>0.0</td>\n      <td>0.0</td>\n      <td>0.0</td>\n      <td>0.00</td>\n      <td>5.0</td>\n    </tr>\n    <tr>\n      <th>swoop</th>\n      <td>390.0</td>\n      <td>17281.5</td>\n      <td>112.727548</td>\n      <td>17087.0</td>\n      <td>17184.25</td>\n      <td>17281.5</td>\n      <td>17378.75</td>\n      <td>17476.0</td>\n      <td>390.0</td>\n      <td>17468.5</td>\n      <td>...</td>\n      <td>2.00</td>\n      <td>5.0</td>\n      <td>390.0</td>\n      <td>0.302564</td>\n      <td>0.792473</td>\n      <td>0.0</td>\n      <td>0.0</td>\n      <td>0.0</td>\n      <td>0.00</td>\n      <td>5.0</td>\n    </tr>\n    <tr>\n      <th>turkish-airlines</th>\n      <td>390.0</td>\n      <td>17671.5</td>\n      <td>112.727548</td>\n      <td>17477.0</td>\n      <td>17574.25</td>\n      <td>17671.5</td>\n      <td>17768.75</td>\n      <td>17866.0</td>\n      <td>390.0</td>\n      <td>17858.5</td>\n      <td>...</td>\n      <td>3.00</td>\n      <td>5.0</td>\n      <td>390.0</td>\n      <td>0.969231</td>\n      <td>1.456861</td>\n      <td>0.0</td>\n      <td>0.0</td>\n      <td>0.0</td>\n      <td>1.00</td>\n      <td>5.0</td>\n    </tr>\n    <tr>\n      <th>ukraine-international-airlines</th>\n      <td>377.0</td>\n      <td>18055.0</td>\n      <td>108.974768</td>\n      <td>17867.0</td>\n      <td>17961.00</td>\n      <td>18055.0</td>\n      <td>18149.00</td>\n      <td>18243.0</td>\n      <td>377.0</td>\n      <td>18242.0</td>\n      <td>...</td>\n      <td>4.00</td>\n      <td>5.0</td>\n      <td>377.0</td>\n      <td>0.299735</td>\n      <td>0.562881</td>\n      <td>0.0</td>\n      <td>0.0</td>\n      <td>0.0</td>\n      <td>1.00</td>\n      <td>5.0</td>\n    </tr>\n    <tr>\n      <th>united-airlines</th>\n      <td>390.0</td>\n      <td>18438.5</td>\n      <td>112.727548</td>\n      <td>18244.0</td>\n      <td>18341.25</td>\n      <td>18438.5</td>\n      <td>18535.75</td>\n      <td>18633.0</td>\n      <td>390.0</td>\n      <td>18625.5</td>\n      <td>...</td>\n      <td>2.00</td>\n      <td>5.0</td>\n      <td>390.0</td>\n      <td>1.115385</td>\n      <td>1.304341</td>\n      <td>0.0</td>\n      <td>0.0</td>\n      <td>1.0</td>\n      <td>1.00</td>\n      <td>5.0</td>\n    </tr>\n  </tbody>\n</table>\n<p>51 rows × 104 columns</p>\n</div>"
     },
     "execution_count": 102,
     "metadata": {},
     "output_type": "execute_result"
    }
   ],
   "source": [
    "reviews_by_airline.describe()"
   ],
   "metadata": {
    "collapsed": false,
    "ExecuteTime": {
     "end_time": "2024-01-30T01:40:20.190657Z",
     "start_time": "2024-01-30T01:40:19.907818Z"
    }
   },
   "id": "354c8e53965f8090"
  },
  {
   "cell_type": "code",
   "execution_count": 105,
   "outputs": [
    {
     "data": {
      "text/plain": "0         1\n1         9\n2         1\n3         2\n4         1\n         ..\n18629     1\n18630     1\n18631    10\n18632     1\n18633     1\nName: OverallScore, Length: 18634, dtype: int64"
     },
     "execution_count": 105,
     "metadata": {},
     "output_type": "execute_result"
    }
   ],
   "source": [
    "reviews['OverallScore'] "
   ],
   "metadata": {
    "collapsed": false,
    "ExecuteTime": {
     "end_time": "2024-01-30T01:42:21.455639Z",
     "start_time": "2024-01-30T01:42:21.415480Z"
    }
   },
   "id": "d1146e30176be8f6"
  },
  {
   "cell_type": "code",
   "execution_count": 106,
   "outputs": [
    {
     "data": {
      "text/plain": "       Unnamed: 0.1  Unnamed: 0          AirName  \\\n0                 0           0          airasia   \n1                 1           1          airasia   \n2                 2           2          airasia   \n3                 3           3          airasia   \n4                 4           4          airasia   \n...             ...         ...              ...   \n18629         18629       18816  united-airlines   \n18630         18630       18817  united-airlines   \n18631         18631       18818  united-airlines   \n18632         18632       18819  united-airlines   \n18633         18633       18820  united-airlines   \n\n                                                Comments  DateFlown  \\\n0      according their check in process  they mention...       1022   \n1      nice  uneventful short flight  clean aircraft ...       1122   \n2      never again with airasia  i wish i could have ...       1122   \n3      my wife has problems with her knees and has gr...       1022   \n4      my flight was suppose to be at      pm on     ...       1022   \n...                                                  ...        ...   \n18629  my whole experience this evening  from an hour...        322   \n18630  united is the most unorganized airline in exis...        322   \n18631  we flew from fl to houston on february   th an...        222   \n18632  stuck in denver for almost    hours because yo...        322   \n18633  we had a connecting flight through newark new ...        322   \n\n                                                  Review  EntertainmentRating  \\\n0      according check process mentioned able start o...                    1   \n1      nice uneventful short flight clean aircraft su...                    0   \n2      never airasia wish could given star coming loy...                    0   \n3      wife problem knee great difficulty stair notif...                    0   \n4      flight suppose pm flight got delayed pm waited...                    0   \n...                                                  ...                  ...   \n18629  whole experience evening hour getting security...                    1   \n18630  united unorganized airline existence way handl...                    1   \n18631  flew fl houston february th great experience h...                    0   \n18632  stuck denver almost hour wanted book tight lay...                    1   \n18633  connecting flight newark new york made u pull ...                    3   \n\n       FoodRating  GroundServiceRating  OverallScore  Recommended  ReviewDate  \\\n0               1                    1             1            0        1122   \n1               0                    5             9            1        1122   \n2               1                    1             1            0        1122   \n3               0                    1             2            1        1122   \n4               0                    1             1            0        1122   \n...           ...                  ...           ...          ...         ...   \n18629           1                    1             1            0         322   \n18630           1                    1             1            0         322   \n18631           5                    5            10            1         322   \n18632           1                    1             1            0         322   \n18633           3                    1             1            0         322   \n\n                                ReviewTitle ReviewrCountry  SeatComfortRating  \\\n0                                bring food       Malaysia                  1   \n1              nice uneventful short flight       Malaysia                  4   \n2                             never airasia       Malaysia                  1   \n3                     time board wheelchair       Malaysia                  1   \n4                            bad experience       Malaysia                  1   \n...                                     ...            ...                ...   \n18629  made feel like cattle united airline  United States                  1   \n18630                                  clue  United States                  1   \n18631   flight attendant blessing attentive  United States                  5   \n18632                      never fly united  United States                  1   \n18633             lug bag around whole time  United States                  3   \n\n            SeatType  ServiceRating  ValueRating  WifiRating  \n0      Economy Class              3            2           1  \n1      Economy Class              5            5           0  \n2      Economy Class              1            2           0  \n3      Economy Class              1            1           0  \n4      Economy Class              1            1           0  \n...              ...            ...          ...         ...  \n18629  Economy Class              2            1           0  \n18630  Economy Class              1            1           1  \n18631  Economy Class              5            5           0  \n18632  Economy Class              1            1           0  \n18633  Economy Class              3            1           4  \n\n[18634 rows x 19 columns]",
      "text/html": "<div>\n<style scoped>\n    .dataframe tbody tr th:only-of-type {\n        vertical-align: middle;\n    }\n\n    .dataframe tbody tr th {\n        vertical-align: top;\n    }\n\n    .dataframe thead th {\n        text-align: right;\n    }\n</style>\n<table border=\"1\" class=\"dataframe\">\n  <thead>\n    <tr style=\"text-align: right;\">\n      <th></th>\n      <th>Unnamed: 0.1</th>\n      <th>Unnamed: 0</th>\n      <th>AirName</th>\n      <th>Comments</th>\n      <th>DateFlown</th>\n      <th>Review</th>\n      <th>EntertainmentRating</th>\n      <th>FoodRating</th>\n      <th>GroundServiceRating</th>\n      <th>OverallScore</th>\n      <th>Recommended</th>\n      <th>ReviewDate</th>\n      <th>ReviewTitle</th>\n      <th>ReviewrCountry</th>\n      <th>SeatComfortRating</th>\n      <th>SeatType</th>\n      <th>ServiceRating</th>\n      <th>ValueRating</th>\n      <th>WifiRating</th>\n    </tr>\n  </thead>\n  <tbody>\n    <tr>\n      <th>0</th>\n      <td>0</td>\n      <td>0</td>\n      <td>airasia</td>\n      <td>according their check in process  they mention...</td>\n      <td>1022</td>\n      <td>according check process mentioned able start o...</td>\n      <td>1</td>\n      <td>1</td>\n      <td>1</td>\n      <td>1</td>\n      <td>0</td>\n      <td>1122</td>\n      <td>bring food</td>\n      <td>Malaysia</td>\n      <td>1</td>\n      <td>Economy Class</td>\n      <td>3</td>\n      <td>2</td>\n      <td>1</td>\n    </tr>\n    <tr>\n      <th>1</th>\n      <td>1</td>\n      <td>1</td>\n      <td>airasia</td>\n      <td>nice  uneventful short flight  clean aircraft ...</td>\n      <td>1122</td>\n      <td>nice uneventful short flight clean aircraft su...</td>\n      <td>0</td>\n      <td>0</td>\n      <td>5</td>\n      <td>9</td>\n      <td>1</td>\n      <td>1122</td>\n      <td>nice uneventful short flight</td>\n      <td>Malaysia</td>\n      <td>4</td>\n      <td>Economy Class</td>\n      <td>5</td>\n      <td>5</td>\n      <td>0</td>\n    </tr>\n    <tr>\n      <th>2</th>\n      <td>2</td>\n      <td>2</td>\n      <td>airasia</td>\n      <td>never again with airasia  i wish i could have ...</td>\n      <td>1122</td>\n      <td>never airasia wish could given star coming loy...</td>\n      <td>0</td>\n      <td>1</td>\n      <td>1</td>\n      <td>1</td>\n      <td>0</td>\n      <td>1122</td>\n      <td>never airasia</td>\n      <td>Malaysia</td>\n      <td>1</td>\n      <td>Economy Class</td>\n      <td>1</td>\n      <td>2</td>\n      <td>0</td>\n    </tr>\n    <tr>\n      <th>3</th>\n      <td>3</td>\n      <td>3</td>\n      <td>airasia</td>\n      <td>my wife has problems with her knees and has gr...</td>\n      <td>1022</td>\n      <td>wife problem knee great difficulty stair notif...</td>\n      <td>0</td>\n      <td>0</td>\n      <td>1</td>\n      <td>2</td>\n      <td>1</td>\n      <td>1122</td>\n      <td>time board wheelchair</td>\n      <td>Malaysia</td>\n      <td>1</td>\n      <td>Economy Class</td>\n      <td>1</td>\n      <td>1</td>\n      <td>0</td>\n    </tr>\n    <tr>\n      <th>4</th>\n      <td>4</td>\n      <td>4</td>\n      <td>airasia</td>\n      <td>my flight was suppose to be at      pm on     ...</td>\n      <td>1022</td>\n      <td>flight suppose pm flight got delayed pm waited...</td>\n      <td>0</td>\n      <td>0</td>\n      <td>1</td>\n      <td>1</td>\n      <td>0</td>\n      <td>1122</td>\n      <td>bad experience</td>\n      <td>Malaysia</td>\n      <td>1</td>\n      <td>Economy Class</td>\n      <td>1</td>\n      <td>1</td>\n      <td>0</td>\n    </tr>\n    <tr>\n      <th>...</th>\n      <td>...</td>\n      <td>...</td>\n      <td>...</td>\n      <td>...</td>\n      <td>...</td>\n      <td>...</td>\n      <td>...</td>\n      <td>...</td>\n      <td>...</td>\n      <td>...</td>\n      <td>...</td>\n      <td>...</td>\n      <td>...</td>\n      <td>...</td>\n      <td>...</td>\n      <td>...</td>\n      <td>...</td>\n      <td>...</td>\n      <td>...</td>\n    </tr>\n    <tr>\n      <th>18629</th>\n      <td>18629</td>\n      <td>18816</td>\n      <td>united-airlines</td>\n      <td>my whole experience this evening  from an hour...</td>\n      <td>322</td>\n      <td>whole experience evening hour getting security...</td>\n      <td>1</td>\n      <td>1</td>\n      <td>1</td>\n      <td>1</td>\n      <td>0</td>\n      <td>322</td>\n      <td>made feel like cattle united airline</td>\n      <td>United States</td>\n      <td>1</td>\n      <td>Economy Class</td>\n      <td>2</td>\n      <td>1</td>\n      <td>0</td>\n    </tr>\n    <tr>\n      <th>18630</th>\n      <td>18630</td>\n      <td>18817</td>\n      <td>united-airlines</td>\n      <td>united is the most unorganized airline in exis...</td>\n      <td>322</td>\n      <td>united unorganized airline existence way handl...</td>\n      <td>1</td>\n      <td>1</td>\n      <td>1</td>\n      <td>1</td>\n      <td>0</td>\n      <td>322</td>\n      <td>clue</td>\n      <td>United States</td>\n      <td>1</td>\n      <td>Economy Class</td>\n      <td>1</td>\n      <td>1</td>\n      <td>1</td>\n    </tr>\n    <tr>\n      <th>18631</th>\n      <td>18631</td>\n      <td>18818</td>\n      <td>united-airlines</td>\n      <td>we flew from fl to houston on february   th an...</td>\n      <td>222</td>\n      <td>flew fl houston february th great experience h...</td>\n      <td>0</td>\n      <td>5</td>\n      <td>5</td>\n      <td>10</td>\n      <td>1</td>\n      <td>322</td>\n      <td>flight attendant blessing attentive</td>\n      <td>United States</td>\n      <td>5</td>\n      <td>Economy Class</td>\n      <td>5</td>\n      <td>5</td>\n      <td>0</td>\n    </tr>\n    <tr>\n      <th>18632</th>\n      <td>18632</td>\n      <td>18819</td>\n      <td>united-airlines</td>\n      <td>stuck in denver for almost    hours because yo...</td>\n      <td>322</td>\n      <td>stuck denver almost hour wanted book tight lay...</td>\n      <td>1</td>\n      <td>1</td>\n      <td>1</td>\n      <td>1</td>\n      <td>0</td>\n      <td>322</td>\n      <td>never fly united</td>\n      <td>United States</td>\n      <td>1</td>\n      <td>Economy Class</td>\n      <td>1</td>\n      <td>1</td>\n      <td>0</td>\n    </tr>\n    <tr>\n      <th>18633</th>\n      <td>18633</td>\n      <td>18820</td>\n      <td>united-airlines</td>\n      <td>we had a connecting flight through newark new ...</td>\n      <td>322</td>\n      <td>connecting flight newark new york made u pull ...</td>\n      <td>3</td>\n      <td>3</td>\n      <td>1</td>\n      <td>1</td>\n      <td>0</td>\n      <td>322</td>\n      <td>lug bag around whole time</td>\n      <td>United States</td>\n      <td>3</td>\n      <td>Economy Class</td>\n      <td>3</td>\n      <td>1</td>\n      <td>4</td>\n    </tr>\n  </tbody>\n</table>\n<p>18634 rows × 19 columns</p>\n</div>"
     },
     "execution_count": 106,
     "metadata": {},
     "output_type": "execute_result"
    }
   ],
   "source": [
    "reviews"
   ],
   "metadata": {
    "collapsed": false,
    "ExecuteTime": {
     "end_time": "2024-01-30T01:42:35.909820Z",
     "start_time": "2024-01-30T01:42:35.871754Z"
    }
   },
   "id": "ba0d1b787c1fd8f0"
  },
  {
   "cell_type": "code",
   "execution_count": 104,
   "outputs": [
    {
     "data": {
      "text/plain": "                                     count      mean       std  min  25%  50%  \\\nAirName                                                                         \nAir India                            390.0  3.100000  3.043430  1.0  1.0  1.0   \nAna                                  390.0  7.958974  2.422762  1.0  7.0  9.0   \nair-europa                           390.0  3.671795  3.054766  1.0  1.0  2.0   \nair-france                           390.0  4.202564  3.485924  1.0  1.0  2.0   \nair-new-zealand                      390.0  4.841026  3.562928  1.0  1.0  4.0   \nairasia                              239.0  3.012552  3.121464  1.0  1.0  1.0   \namerican-airlines                    390.0  2.082051  2.428078  1.0  1.0  1.0   \naustrian-airlines                    390.0  4.494872  3.419094  1.0  1.0  3.0   \nbangkok-airways                      390.0  7.512821  2.829080  1.0  6.0  9.0   \nbritish-airways                      390.0  4.194872  3.354462  1.0  1.0  3.0   \nemirates                             390.0  4.051282  3.246899  1.0  1.0  3.0   \nethiopian-airlines                   390.0  4.458974  3.234949  1.0  1.0  4.0   \nflydubai                             336.0  3.571429  3.230584  1.0  1.0  2.0   \nfrontier-airlines                    390.0  1.446154  1.546510  1.0  1.0  1.0   \ngulf-air                             350.0  5.400000  3.044089  1.0  2.0  6.0   \nhawaiian-airlines                    390.0  4.771795  3.242825  1.0  2.0  4.0   \nindigo-airlines                      389.0  6.326478  3.490612  1.0  2.0  8.0   \njapan-airlines                       382.0  7.374346  2.723220  1.0  6.0  8.0   \njet2-com                             385.0  6.646753  3.333057  1.0  3.0  8.0   \nkenya-airways                        387.0  4.635659  3.207677  1.0  1.0  4.0   \nkorean-air                           390.0  7.289744  2.921536  1.0  6.0  8.0   \nlufthansa                            390.0  2.935897  2.732927  1.0  1.0  2.0   \nmalaysia-airlines                    390.0  4.374359  3.299663  1.0  1.0  3.0   \nmonarch-airlines                     318.0  6.094340  3.115632  1.0  3.0  7.0   \noman-air                             390.0  5.707692  3.387060  1.0  2.0  7.0   \npegasus-airlines                     368.0  4.125000  3.440522  1.0  1.0  2.0   \nphilippine-airlines                  390.0  4.915385  3.495942  1.0  1.0  4.0   \npia-pakistan-international-airlines  146.0  5.109589  2.828728  1.0  2.0  6.0   \nporter-airlines                      301.0  4.109635  3.545599  1.0  1.0  2.0   \nqantas-airways                       390.0  3.546154  3.037330  1.0  1.0  2.0   \nqatar-airways                        390.0  7.361538  3.235417  1.0  5.0  9.0   \nroyal-air-maroc                      310.0  4.522581  3.359449  1.0  1.0  4.0   \nroyal-brunei-airlines                349.0  7.240688  2.755237  1.0  6.0  8.0   \nroyal-jordanian-airlines             350.0  4.962857  3.324183  1.0  1.0  5.0   \nryanair                              390.0  2.735897  2.977982  1.0  1.0  1.0   \nsas-scandinavian-airlines            390.0  3.333333  3.172288  1.0  1.0  2.0   \nsaudi-arabian-airlines               359.0  4.885794  3.147366  1.0  2.0  5.0   \nscoot                                390.0  3.861538  3.282940  1.0  1.0  2.0   \nsingapore-airlines                   390.0  6.010256  3.363940  1.0  3.0  7.0   \nsouth-african-airways                390.0  5.712821  3.095662  1.0  3.0  6.0   \nsouthwest-airlines                   390.0  2.561538  2.763154  1.0  1.0  1.0   \nspicejet                             390.0  3.841026  3.574454  1.0  1.0  2.0   \nspirit-airlines                      390.0  1.735897  2.122106  1.0  1.0  1.0   \nsrilankan-airlines                   127.0  4.181102  3.526357  1.0  1.0  2.0   \nsun-country-airlines                 297.0  3.232323  3.377674  1.0  1.0  1.0   \nsunwing-airlines                     384.0  3.031250  2.921794  1.0  1.0  2.0   \nswiss-international-air-lines        390.0  4.592308  3.447057  1.0  1.0  4.0   \nswoop                                390.0  2.620513  3.024253  1.0  1.0  1.0   \nturkish-airlines                     390.0  2.753846  2.855729  1.0  1.0  1.0   \nukraine-international-airlines       377.0  3.827586  3.326151  1.0  1.0  2.0   \nunited-airlines                      390.0  2.484615  2.761937  1.0  1.0  1.0   \n\n                                       75%   max  \nAirName                                           \nAir India                             4.00  10.0  \nAna                                  10.00  10.0  \nair-europa                            6.75  10.0  \nair-france                            8.00  10.0  \nair-new-zealand                       9.00  10.0  \nairasia                               5.00  10.0  \namerican-airlines                     2.00  10.0  \naustrian-airlines                     8.00  10.0  \nbangkok-airways                      10.00  10.0  \nbritish-airways                       8.00  10.0  \nemirates                              6.00  10.0  \nethiopian-airlines                    8.00  10.0  \nflydubai                              7.00  10.0  \nfrontier-airlines                     1.00  10.0  \ngulf-air                              8.00  10.0  \nhawaiian-airlines                     8.00  10.0  \nindigo-airlines                       9.00  10.0  \njapan-airlines                       10.00  10.0  \njet2-com                             10.00  10.0  \nkenya-airways                         8.00  10.0  \nkorean-air                           10.00  10.0  \nlufthansa                             4.00  10.0  \nmalaysia-airlines                     8.00  10.0  \nmonarch-airlines                      9.00  10.0  \noman-air                              9.00  10.0  \npegasus-airlines                      8.00  10.0  \nphilippine-airlines                   9.00  10.0  \npia-pakistan-international-airlines   8.00  10.0  \nporter-airlines                       8.00  10.0  \nqantas-airways                        6.00  10.0  \nqatar-airways                        10.00  10.0  \nroyal-air-maroc                       8.00  10.0  \nroyal-brunei-airlines                 9.00  10.0  \nroyal-jordanian-airlines              8.00  10.0  \nryanair                               3.00  10.0  \nsas-scandinavian-airlines             5.00  10.0  \nsaudi-arabian-airlines                8.00  10.0  \nscoot                                 7.00  10.0  \nsingapore-airlines                    9.00  10.0  \nsouth-african-airways                 8.00  10.0  \nsouthwest-airlines                    3.00  10.0  \nspicejet                              8.00  10.0  \nspirit-airlines                       1.00  10.0  \nsrilankan-airlines                    8.00  10.0  \nsun-country-airlines                  5.00  10.0  \nsunwing-airlines                      4.00  10.0  \nswiss-international-air-lines         8.00  10.0  \nswoop                                 2.00  10.0  \nturkish-airlines                      3.00  10.0  \nukraine-international-airlines        8.00  10.0  \nunited-airlines                       2.00  10.0  ",
      "text/html": "<div>\n<style scoped>\n    .dataframe tbody tr th:only-of-type {\n        vertical-align: middle;\n    }\n\n    .dataframe tbody tr th {\n        vertical-align: top;\n    }\n\n    .dataframe thead th {\n        text-align: right;\n    }\n</style>\n<table border=\"1\" class=\"dataframe\">\n  <thead>\n    <tr style=\"text-align: right;\">\n      <th></th>\n      <th>count</th>\n      <th>mean</th>\n      <th>std</th>\n      <th>min</th>\n      <th>25%</th>\n      <th>50%</th>\n      <th>75%</th>\n      <th>max</th>\n    </tr>\n    <tr>\n      <th>AirName</th>\n      <th></th>\n      <th></th>\n      <th></th>\n      <th></th>\n      <th></th>\n      <th></th>\n      <th></th>\n      <th></th>\n    </tr>\n  </thead>\n  <tbody>\n    <tr>\n      <th>Air India</th>\n      <td>390.0</td>\n      <td>3.100000</td>\n      <td>3.043430</td>\n      <td>1.0</td>\n      <td>1.0</td>\n      <td>1.0</td>\n      <td>4.00</td>\n      <td>10.0</td>\n    </tr>\n    <tr>\n      <th>Ana</th>\n      <td>390.0</td>\n      <td>7.958974</td>\n      <td>2.422762</td>\n      <td>1.0</td>\n      <td>7.0</td>\n      <td>9.0</td>\n      <td>10.00</td>\n      <td>10.0</td>\n    </tr>\n    <tr>\n      <th>air-europa</th>\n      <td>390.0</td>\n      <td>3.671795</td>\n      <td>3.054766</td>\n      <td>1.0</td>\n      <td>1.0</td>\n      <td>2.0</td>\n      <td>6.75</td>\n      <td>10.0</td>\n    </tr>\n    <tr>\n      <th>air-france</th>\n      <td>390.0</td>\n      <td>4.202564</td>\n      <td>3.485924</td>\n      <td>1.0</td>\n      <td>1.0</td>\n      <td>2.0</td>\n      <td>8.00</td>\n      <td>10.0</td>\n    </tr>\n    <tr>\n      <th>air-new-zealand</th>\n      <td>390.0</td>\n      <td>4.841026</td>\n      <td>3.562928</td>\n      <td>1.0</td>\n      <td>1.0</td>\n      <td>4.0</td>\n      <td>9.00</td>\n      <td>10.0</td>\n    </tr>\n    <tr>\n      <th>airasia</th>\n      <td>239.0</td>\n      <td>3.012552</td>\n      <td>3.121464</td>\n      <td>1.0</td>\n      <td>1.0</td>\n      <td>1.0</td>\n      <td>5.00</td>\n      <td>10.0</td>\n    </tr>\n    <tr>\n      <th>american-airlines</th>\n      <td>390.0</td>\n      <td>2.082051</td>\n      <td>2.428078</td>\n      <td>1.0</td>\n      <td>1.0</td>\n      <td>1.0</td>\n      <td>2.00</td>\n      <td>10.0</td>\n    </tr>\n    <tr>\n      <th>austrian-airlines</th>\n      <td>390.0</td>\n      <td>4.494872</td>\n      <td>3.419094</td>\n      <td>1.0</td>\n      <td>1.0</td>\n      <td>3.0</td>\n      <td>8.00</td>\n      <td>10.0</td>\n    </tr>\n    <tr>\n      <th>bangkok-airways</th>\n      <td>390.0</td>\n      <td>7.512821</td>\n      <td>2.829080</td>\n      <td>1.0</td>\n      <td>6.0</td>\n      <td>9.0</td>\n      <td>10.00</td>\n      <td>10.0</td>\n    </tr>\n    <tr>\n      <th>british-airways</th>\n      <td>390.0</td>\n      <td>4.194872</td>\n      <td>3.354462</td>\n      <td>1.0</td>\n      <td>1.0</td>\n      <td>3.0</td>\n      <td>8.00</td>\n      <td>10.0</td>\n    </tr>\n    <tr>\n      <th>emirates</th>\n      <td>390.0</td>\n      <td>4.051282</td>\n      <td>3.246899</td>\n      <td>1.0</td>\n      <td>1.0</td>\n      <td>3.0</td>\n      <td>6.00</td>\n      <td>10.0</td>\n    </tr>\n    <tr>\n      <th>ethiopian-airlines</th>\n      <td>390.0</td>\n      <td>4.458974</td>\n      <td>3.234949</td>\n      <td>1.0</td>\n      <td>1.0</td>\n      <td>4.0</td>\n      <td>8.00</td>\n      <td>10.0</td>\n    </tr>\n    <tr>\n      <th>flydubai</th>\n      <td>336.0</td>\n      <td>3.571429</td>\n      <td>3.230584</td>\n      <td>1.0</td>\n      <td>1.0</td>\n      <td>2.0</td>\n      <td>7.00</td>\n      <td>10.0</td>\n    </tr>\n    <tr>\n      <th>frontier-airlines</th>\n      <td>390.0</td>\n      <td>1.446154</td>\n      <td>1.546510</td>\n      <td>1.0</td>\n      <td>1.0</td>\n      <td>1.0</td>\n      <td>1.00</td>\n      <td>10.0</td>\n    </tr>\n    <tr>\n      <th>gulf-air</th>\n      <td>350.0</td>\n      <td>5.400000</td>\n      <td>3.044089</td>\n      <td>1.0</td>\n      <td>2.0</td>\n      <td>6.0</td>\n      <td>8.00</td>\n      <td>10.0</td>\n    </tr>\n    <tr>\n      <th>hawaiian-airlines</th>\n      <td>390.0</td>\n      <td>4.771795</td>\n      <td>3.242825</td>\n      <td>1.0</td>\n      <td>2.0</td>\n      <td>4.0</td>\n      <td>8.00</td>\n      <td>10.0</td>\n    </tr>\n    <tr>\n      <th>indigo-airlines</th>\n      <td>389.0</td>\n      <td>6.326478</td>\n      <td>3.490612</td>\n      <td>1.0</td>\n      <td>2.0</td>\n      <td>8.0</td>\n      <td>9.00</td>\n      <td>10.0</td>\n    </tr>\n    <tr>\n      <th>japan-airlines</th>\n      <td>382.0</td>\n      <td>7.374346</td>\n      <td>2.723220</td>\n      <td>1.0</td>\n      <td>6.0</td>\n      <td>8.0</td>\n      <td>10.00</td>\n      <td>10.0</td>\n    </tr>\n    <tr>\n      <th>jet2-com</th>\n      <td>385.0</td>\n      <td>6.646753</td>\n      <td>3.333057</td>\n      <td>1.0</td>\n      <td>3.0</td>\n      <td>8.0</td>\n      <td>10.00</td>\n      <td>10.0</td>\n    </tr>\n    <tr>\n      <th>kenya-airways</th>\n      <td>387.0</td>\n      <td>4.635659</td>\n      <td>3.207677</td>\n      <td>1.0</td>\n      <td>1.0</td>\n      <td>4.0</td>\n      <td>8.00</td>\n      <td>10.0</td>\n    </tr>\n    <tr>\n      <th>korean-air</th>\n      <td>390.0</td>\n      <td>7.289744</td>\n      <td>2.921536</td>\n      <td>1.0</td>\n      <td>6.0</td>\n      <td>8.0</td>\n      <td>10.00</td>\n      <td>10.0</td>\n    </tr>\n    <tr>\n      <th>lufthansa</th>\n      <td>390.0</td>\n      <td>2.935897</td>\n      <td>2.732927</td>\n      <td>1.0</td>\n      <td>1.0</td>\n      <td>2.0</td>\n      <td>4.00</td>\n      <td>10.0</td>\n    </tr>\n    <tr>\n      <th>malaysia-airlines</th>\n      <td>390.0</td>\n      <td>4.374359</td>\n      <td>3.299663</td>\n      <td>1.0</td>\n      <td>1.0</td>\n      <td>3.0</td>\n      <td>8.00</td>\n      <td>10.0</td>\n    </tr>\n    <tr>\n      <th>monarch-airlines</th>\n      <td>318.0</td>\n      <td>6.094340</td>\n      <td>3.115632</td>\n      <td>1.0</td>\n      <td>3.0</td>\n      <td>7.0</td>\n      <td>9.00</td>\n      <td>10.0</td>\n    </tr>\n    <tr>\n      <th>oman-air</th>\n      <td>390.0</td>\n      <td>5.707692</td>\n      <td>3.387060</td>\n      <td>1.0</td>\n      <td>2.0</td>\n      <td>7.0</td>\n      <td>9.00</td>\n      <td>10.0</td>\n    </tr>\n    <tr>\n      <th>pegasus-airlines</th>\n      <td>368.0</td>\n      <td>4.125000</td>\n      <td>3.440522</td>\n      <td>1.0</td>\n      <td>1.0</td>\n      <td>2.0</td>\n      <td>8.00</td>\n      <td>10.0</td>\n    </tr>\n    <tr>\n      <th>philippine-airlines</th>\n      <td>390.0</td>\n      <td>4.915385</td>\n      <td>3.495942</td>\n      <td>1.0</td>\n      <td>1.0</td>\n      <td>4.0</td>\n      <td>9.00</td>\n      <td>10.0</td>\n    </tr>\n    <tr>\n      <th>pia-pakistan-international-airlines</th>\n      <td>146.0</td>\n      <td>5.109589</td>\n      <td>2.828728</td>\n      <td>1.0</td>\n      <td>2.0</td>\n      <td>6.0</td>\n      <td>8.00</td>\n      <td>10.0</td>\n    </tr>\n    <tr>\n      <th>porter-airlines</th>\n      <td>301.0</td>\n      <td>4.109635</td>\n      <td>3.545599</td>\n      <td>1.0</td>\n      <td>1.0</td>\n      <td>2.0</td>\n      <td>8.00</td>\n      <td>10.0</td>\n    </tr>\n    <tr>\n      <th>qantas-airways</th>\n      <td>390.0</td>\n      <td>3.546154</td>\n      <td>3.037330</td>\n      <td>1.0</td>\n      <td>1.0</td>\n      <td>2.0</td>\n      <td>6.00</td>\n      <td>10.0</td>\n    </tr>\n    <tr>\n      <th>qatar-airways</th>\n      <td>390.0</td>\n      <td>7.361538</td>\n      <td>3.235417</td>\n      <td>1.0</td>\n      <td>5.0</td>\n      <td>9.0</td>\n      <td>10.00</td>\n      <td>10.0</td>\n    </tr>\n    <tr>\n      <th>royal-air-maroc</th>\n      <td>310.0</td>\n      <td>4.522581</td>\n      <td>3.359449</td>\n      <td>1.0</td>\n      <td>1.0</td>\n      <td>4.0</td>\n      <td>8.00</td>\n      <td>10.0</td>\n    </tr>\n    <tr>\n      <th>royal-brunei-airlines</th>\n      <td>349.0</td>\n      <td>7.240688</td>\n      <td>2.755237</td>\n      <td>1.0</td>\n      <td>6.0</td>\n      <td>8.0</td>\n      <td>9.00</td>\n      <td>10.0</td>\n    </tr>\n    <tr>\n      <th>royal-jordanian-airlines</th>\n      <td>350.0</td>\n      <td>4.962857</td>\n      <td>3.324183</td>\n      <td>1.0</td>\n      <td>1.0</td>\n      <td>5.0</td>\n      <td>8.00</td>\n      <td>10.0</td>\n    </tr>\n    <tr>\n      <th>ryanair</th>\n      <td>390.0</td>\n      <td>2.735897</td>\n      <td>2.977982</td>\n      <td>1.0</td>\n      <td>1.0</td>\n      <td>1.0</td>\n      <td>3.00</td>\n      <td>10.0</td>\n    </tr>\n    <tr>\n      <th>sas-scandinavian-airlines</th>\n      <td>390.0</td>\n      <td>3.333333</td>\n      <td>3.172288</td>\n      <td>1.0</td>\n      <td>1.0</td>\n      <td>2.0</td>\n      <td>5.00</td>\n      <td>10.0</td>\n    </tr>\n    <tr>\n      <th>saudi-arabian-airlines</th>\n      <td>359.0</td>\n      <td>4.885794</td>\n      <td>3.147366</td>\n      <td>1.0</td>\n      <td>2.0</td>\n      <td>5.0</td>\n      <td>8.00</td>\n      <td>10.0</td>\n    </tr>\n    <tr>\n      <th>scoot</th>\n      <td>390.0</td>\n      <td>3.861538</td>\n      <td>3.282940</td>\n      <td>1.0</td>\n      <td>1.0</td>\n      <td>2.0</td>\n      <td>7.00</td>\n      <td>10.0</td>\n    </tr>\n    <tr>\n      <th>singapore-airlines</th>\n      <td>390.0</td>\n      <td>6.010256</td>\n      <td>3.363940</td>\n      <td>1.0</td>\n      <td>3.0</td>\n      <td>7.0</td>\n      <td>9.00</td>\n      <td>10.0</td>\n    </tr>\n    <tr>\n      <th>south-african-airways</th>\n      <td>390.0</td>\n      <td>5.712821</td>\n      <td>3.095662</td>\n      <td>1.0</td>\n      <td>3.0</td>\n      <td>6.0</td>\n      <td>8.00</td>\n      <td>10.0</td>\n    </tr>\n    <tr>\n      <th>southwest-airlines</th>\n      <td>390.0</td>\n      <td>2.561538</td>\n      <td>2.763154</td>\n      <td>1.0</td>\n      <td>1.0</td>\n      <td>1.0</td>\n      <td>3.00</td>\n      <td>10.0</td>\n    </tr>\n    <tr>\n      <th>spicejet</th>\n      <td>390.0</td>\n      <td>3.841026</td>\n      <td>3.574454</td>\n      <td>1.0</td>\n      <td>1.0</td>\n      <td>2.0</td>\n      <td>8.00</td>\n      <td>10.0</td>\n    </tr>\n    <tr>\n      <th>spirit-airlines</th>\n      <td>390.0</td>\n      <td>1.735897</td>\n      <td>2.122106</td>\n      <td>1.0</td>\n      <td>1.0</td>\n      <td>1.0</td>\n      <td>1.00</td>\n      <td>10.0</td>\n    </tr>\n    <tr>\n      <th>srilankan-airlines</th>\n      <td>127.0</td>\n      <td>4.181102</td>\n      <td>3.526357</td>\n      <td>1.0</td>\n      <td>1.0</td>\n      <td>2.0</td>\n      <td>8.00</td>\n      <td>10.0</td>\n    </tr>\n    <tr>\n      <th>sun-country-airlines</th>\n      <td>297.0</td>\n      <td>3.232323</td>\n      <td>3.377674</td>\n      <td>1.0</td>\n      <td>1.0</td>\n      <td>1.0</td>\n      <td>5.00</td>\n      <td>10.0</td>\n    </tr>\n    <tr>\n      <th>sunwing-airlines</th>\n      <td>384.0</td>\n      <td>3.031250</td>\n      <td>2.921794</td>\n      <td>1.0</td>\n      <td>1.0</td>\n      <td>2.0</td>\n      <td>4.00</td>\n      <td>10.0</td>\n    </tr>\n    <tr>\n      <th>swiss-international-air-lines</th>\n      <td>390.0</td>\n      <td>4.592308</td>\n      <td>3.447057</td>\n      <td>1.0</td>\n      <td>1.0</td>\n      <td>4.0</td>\n      <td>8.00</td>\n      <td>10.0</td>\n    </tr>\n    <tr>\n      <th>swoop</th>\n      <td>390.0</td>\n      <td>2.620513</td>\n      <td>3.024253</td>\n      <td>1.0</td>\n      <td>1.0</td>\n      <td>1.0</td>\n      <td>2.00</td>\n      <td>10.0</td>\n    </tr>\n    <tr>\n      <th>turkish-airlines</th>\n      <td>390.0</td>\n      <td>2.753846</td>\n      <td>2.855729</td>\n      <td>1.0</td>\n      <td>1.0</td>\n      <td>1.0</td>\n      <td>3.00</td>\n      <td>10.0</td>\n    </tr>\n    <tr>\n      <th>ukraine-international-airlines</th>\n      <td>377.0</td>\n      <td>3.827586</td>\n      <td>3.326151</td>\n      <td>1.0</td>\n      <td>1.0</td>\n      <td>2.0</td>\n      <td>8.00</td>\n      <td>10.0</td>\n    </tr>\n    <tr>\n      <th>united-airlines</th>\n      <td>390.0</td>\n      <td>2.484615</td>\n      <td>2.761937</td>\n      <td>1.0</td>\n      <td>1.0</td>\n      <td>1.0</td>\n      <td>2.00</td>\n      <td>10.0</td>\n    </tr>\n  </tbody>\n</table>\n</div>"
     },
     "execution_count": 104,
     "metadata": {},
     "output_type": "execute_result"
    }
   ],
   "source": [
    "reviews_by_airline['OverallScore'].describe()"
   ],
   "metadata": {
    "collapsed": false,
    "ExecuteTime": {
     "end_time": "2024-01-30T01:42:00.844526Z",
     "start_time": "2024-01-30T01:42:00.797148Z"
    }
   },
   "id": "13cf7066c983f1e7"
  },
  {
   "cell_type": "code",
   "execution_count": 108,
   "outputs": [
    {
     "data": {
      "text/plain": "                                     count      mean       std  min  25%  50%  \\\nAirName                                                                         \nAir India                            390.0  0.235897  0.425104  0.0  0.0  0.0   \nAna                                  390.0  0.853846  0.353714  0.0  1.0  1.0   \nair-europa                           390.0  0.289744  0.454226  0.0  0.0  0.0   \nair-france                           390.0  0.348718  0.477177  0.0  0.0  0.0   \nair-new-zealand                      390.0  0.415385  0.493421  0.0  0.0  0.0   \nairasia                              239.0  0.267782  0.443733  0.0  0.0  0.0   \namerican-airlines                    390.0  0.102564  0.303778  0.0  0.0  0.0   \naustrian-airlines                    390.0  0.410256  0.492512  0.0  0.0  0.0   \nbangkok-airways                      390.0  0.753846  0.431323  0.0  1.0  1.0   \nbritish-airways                      390.0  0.358974  0.480316  0.0  0.0  0.0   \nemirates                             390.0  0.310256  0.463193  0.0  0.0  0.0   \nethiopian-airlines                   390.0  0.417949  0.493855  0.0  0.0  0.0   \nflydubai                             336.0  0.288690  0.453830  0.0  0.0  0.0   \nfrontier-airlines                    390.0  0.033333  0.179736  0.0  0.0  0.0   \ngulf-air                             350.0  0.522857  0.500192  0.0  0.0  1.0   \nhawaiian-airlines                    390.0  0.407692  0.492037  0.0  0.0  0.0   \nindigo-airlines                      389.0  0.609254  0.488546  0.0  0.0  1.0   \njapan-airlines                       382.0  0.746073  0.435827  0.0  0.0  1.0   \njet2-com                             385.0  0.633766  0.482401  0.0  0.0  1.0   \nkenya-airways                        387.0  0.397933  0.490105  0.0  0.0  0.0   \nkorean-air                           390.0  0.743590  0.437212  0.0  0.0  1.0   \nlufthansa                            390.0  0.189744  0.392602  0.0  0.0  0.0   \nmalaysia-airlines                    390.0  0.405128  0.491547  0.0  0.0  0.0   \nmonarch-airlines                     318.0  0.471698  0.499985  0.0  0.0  0.0   \noman-air                             390.0  0.558974  0.497148  0.0  0.0  1.0   \npegasus-airlines                     368.0  0.326087  0.469418  0.0  0.0  0.0   \nphilippine-airlines                  390.0  0.461538  0.499159  0.0  0.0  0.0   \npia-pakistan-international-airlines  146.0  0.472603  0.500967  0.0  0.0  0.0   \nporter-airlines                      301.0  0.305648  0.461448  0.0  0.0  0.0   \nqantas-airways                       390.0  0.297436  0.457717  0.0  0.0  0.0   \nqatar-airways                        390.0  0.730769  0.444130  0.0  0.0  1.0   \nroyal-air-maroc                      310.0  0.361290  0.481151  0.0  0.0  0.0   \nroyal-brunei-airlines                349.0  0.753582  0.431544  0.0  1.0  1.0   \nroyal-jordanian-airlines             350.0  0.460000  0.499111  0.0  0.0  0.0   \nryanair                              390.0  0.202564  0.402427  0.0  0.0  0.0   \nsas-scandinavian-airlines            390.0  0.248718  0.432825  0.0  0.0  0.0   \nsaudi-arabian-airlines               359.0  0.456825  0.498828  0.0  0.0  0.0   \nscoot                                390.0  0.353846  0.478776  0.0  0.0  0.0   \nsingapore-airlines                   390.0  0.589744  0.492512  0.0  0.0  1.0   \nsouth-african-airways                390.0  0.546154  0.498505  0.0  0.0  1.0   \nsouthwest-airlines                   390.0  0.164103  0.370844  0.0  0.0  0.0   \nspicejet                             390.0  0.330769  0.471094  0.0  0.0  0.0   \nspirit-airlines                      390.0  0.079487  0.270845  0.0  0.0  0.0   \nsrilankan-airlines                   127.0  0.401575  0.492158  0.0  0.0  0.0   \nsun-country-airlines                 297.0  0.218855  0.414168  0.0  0.0  0.0   \nsunwing-airlines                     384.0  0.200521  0.400912  0.0  0.0  0.0   \nswiss-international-air-lines        390.0  0.389744  0.488318  0.0  0.0  0.0   \nswoop                                390.0  0.174359  0.379905  0.0  0.0  0.0   \nturkish-airlines                     390.0  0.166667  0.373157  0.0  0.0  0.0   \nukraine-international-airlines       377.0  0.320955  0.467464  0.0  0.0  0.0   \nunited-airlines                      390.0  0.153846  0.361265  0.0  0.0  0.0   \n\n                                     75%  max  \nAirName                                        \nAir India                            0.0  1.0  \nAna                                  1.0  1.0  \nair-europa                           1.0  1.0  \nair-france                           1.0  1.0  \nair-new-zealand                      1.0  1.0  \nairasia                              1.0  1.0  \namerican-airlines                    0.0  1.0  \naustrian-airlines                    1.0  1.0  \nbangkok-airways                      1.0  1.0  \nbritish-airways                      1.0  1.0  \nemirates                             1.0  1.0  \nethiopian-airlines                   1.0  1.0  \nflydubai                             1.0  1.0  \nfrontier-airlines                    0.0  1.0  \ngulf-air                             1.0  1.0  \nhawaiian-airlines                    1.0  1.0  \nindigo-airlines                      1.0  1.0  \njapan-airlines                       1.0  1.0  \njet2-com                             1.0  1.0  \nkenya-airways                        1.0  1.0  \nkorean-air                           1.0  1.0  \nlufthansa                            0.0  1.0  \nmalaysia-airlines                    1.0  1.0  \nmonarch-airlines                     1.0  1.0  \noman-air                             1.0  1.0  \npegasus-airlines                     1.0  1.0  \nphilippine-airlines                  1.0  1.0  \npia-pakistan-international-airlines  1.0  1.0  \nporter-airlines                      1.0  1.0  \nqantas-airways                       1.0  1.0  \nqatar-airways                        1.0  1.0  \nroyal-air-maroc                      1.0  1.0  \nroyal-brunei-airlines                1.0  1.0  \nroyal-jordanian-airlines             1.0  1.0  \nryanair                              0.0  1.0  \nsas-scandinavian-airlines            0.0  1.0  \nsaudi-arabian-airlines               1.0  1.0  \nscoot                                1.0  1.0  \nsingapore-airlines                   1.0  1.0  \nsouth-african-airways                1.0  1.0  \nsouthwest-airlines                   0.0  1.0  \nspicejet                             1.0  1.0  \nspirit-airlines                      0.0  1.0  \nsrilankan-airlines                   1.0  1.0  \nsun-country-airlines                 0.0  1.0  \nsunwing-airlines                     0.0  1.0  \nswiss-international-air-lines        1.0  1.0  \nswoop                                0.0  1.0  \nturkish-airlines                     0.0  1.0  \nukraine-international-airlines       1.0  1.0  \nunited-airlines                      0.0  1.0  ",
      "text/html": "<div>\n<style scoped>\n    .dataframe tbody tr th:only-of-type {\n        vertical-align: middle;\n    }\n\n    .dataframe tbody tr th {\n        vertical-align: top;\n    }\n\n    .dataframe thead th {\n        text-align: right;\n    }\n</style>\n<table border=\"1\" class=\"dataframe\">\n  <thead>\n    <tr style=\"text-align: right;\">\n      <th></th>\n      <th>count</th>\n      <th>mean</th>\n      <th>std</th>\n      <th>min</th>\n      <th>25%</th>\n      <th>50%</th>\n      <th>75%</th>\n      <th>max</th>\n    </tr>\n    <tr>\n      <th>AirName</th>\n      <th></th>\n      <th></th>\n      <th></th>\n      <th></th>\n      <th></th>\n      <th></th>\n      <th></th>\n      <th></th>\n    </tr>\n  </thead>\n  <tbody>\n    <tr>\n      <th>Air India</th>\n      <td>390.0</td>\n      <td>0.235897</td>\n      <td>0.425104</td>\n      <td>0.0</td>\n      <td>0.0</td>\n      <td>0.0</td>\n      <td>0.0</td>\n      <td>1.0</td>\n    </tr>\n    <tr>\n      <th>Ana</th>\n      <td>390.0</td>\n      <td>0.853846</td>\n      <td>0.353714</td>\n      <td>0.0</td>\n      <td>1.0</td>\n      <td>1.0</td>\n      <td>1.0</td>\n      <td>1.0</td>\n    </tr>\n    <tr>\n      <th>air-europa</th>\n      <td>390.0</td>\n      <td>0.289744</td>\n      <td>0.454226</td>\n      <td>0.0</td>\n      <td>0.0</td>\n      <td>0.0</td>\n      <td>1.0</td>\n      <td>1.0</td>\n    </tr>\n    <tr>\n      <th>air-france</th>\n      <td>390.0</td>\n      <td>0.348718</td>\n      <td>0.477177</td>\n      <td>0.0</td>\n      <td>0.0</td>\n      <td>0.0</td>\n      <td>1.0</td>\n      <td>1.0</td>\n    </tr>\n    <tr>\n      <th>air-new-zealand</th>\n      <td>390.0</td>\n      <td>0.415385</td>\n      <td>0.493421</td>\n      <td>0.0</td>\n      <td>0.0</td>\n      <td>0.0</td>\n      <td>1.0</td>\n      <td>1.0</td>\n    </tr>\n    <tr>\n      <th>airasia</th>\n      <td>239.0</td>\n      <td>0.267782</td>\n      <td>0.443733</td>\n      <td>0.0</td>\n      <td>0.0</td>\n      <td>0.0</td>\n      <td>1.0</td>\n      <td>1.0</td>\n    </tr>\n    <tr>\n      <th>american-airlines</th>\n      <td>390.0</td>\n      <td>0.102564</td>\n      <td>0.303778</td>\n      <td>0.0</td>\n      <td>0.0</td>\n      <td>0.0</td>\n      <td>0.0</td>\n      <td>1.0</td>\n    </tr>\n    <tr>\n      <th>austrian-airlines</th>\n      <td>390.0</td>\n      <td>0.410256</td>\n      <td>0.492512</td>\n      <td>0.0</td>\n      <td>0.0</td>\n      <td>0.0</td>\n      <td>1.0</td>\n      <td>1.0</td>\n    </tr>\n    <tr>\n      <th>bangkok-airways</th>\n      <td>390.0</td>\n      <td>0.753846</td>\n      <td>0.431323</td>\n      <td>0.0</td>\n      <td>1.0</td>\n      <td>1.0</td>\n      <td>1.0</td>\n      <td>1.0</td>\n    </tr>\n    <tr>\n      <th>british-airways</th>\n      <td>390.0</td>\n      <td>0.358974</td>\n      <td>0.480316</td>\n      <td>0.0</td>\n      <td>0.0</td>\n      <td>0.0</td>\n      <td>1.0</td>\n      <td>1.0</td>\n    </tr>\n    <tr>\n      <th>emirates</th>\n      <td>390.0</td>\n      <td>0.310256</td>\n      <td>0.463193</td>\n      <td>0.0</td>\n      <td>0.0</td>\n      <td>0.0</td>\n      <td>1.0</td>\n      <td>1.0</td>\n    </tr>\n    <tr>\n      <th>ethiopian-airlines</th>\n      <td>390.0</td>\n      <td>0.417949</td>\n      <td>0.493855</td>\n      <td>0.0</td>\n      <td>0.0</td>\n      <td>0.0</td>\n      <td>1.0</td>\n      <td>1.0</td>\n    </tr>\n    <tr>\n      <th>flydubai</th>\n      <td>336.0</td>\n      <td>0.288690</td>\n      <td>0.453830</td>\n      <td>0.0</td>\n      <td>0.0</td>\n      <td>0.0</td>\n      <td>1.0</td>\n      <td>1.0</td>\n    </tr>\n    <tr>\n      <th>frontier-airlines</th>\n      <td>390.0</td>\n      <td>0.033333</td>\n      <td>0.179736</td>\n      <td>0.0</td>\n      <td>0.0</td>\n      <td>0.0</td>\n      <td>0.0</td>\n      <td>1.0</td>\n    </tr>\n    <tr>\n      <th>gulf-air</th>\n      <td>350.0</td>\n      <td>0.522857</td>\n      <td>0.500192</td>\n      <td>0.0</td>\n      <td>0.0</td>\n      <td>1.0</td>\n      <td>1.0</td>\n      <td>1.0</td>\n    </tr>\n    <tr>\n      <th>hawaiian-airlines</th>\n      <td>390.0</td>\n      <td>0.407692</td>\n      <td>0.492037</td>\n      <td>0.0</td>\n      <td>0.0</td>\n      <td>0.0</td>\n      <td>1.0</td>\n      <td>1.0</td>\n    </tr>\n    <tr>\n      <th>indigo-airlines</th>\n      <td>389.0</td>\n      <td>0.609254</td>\n      <td>0.488546</td>\n      <td>0.0</td>\n      <td>0.0</td>\n      <td>1.0</td>\n      <td>1.0</td>\n      <td>1.0</td>\n    </tr>\n    <tr>\n      <th>japan-airlines</th>\n      <td>382.0</td>\n      <td>0.746073</td>\n      <td>0.435827</td>\n      <td>0.0</td>\n      <td>0.0</td>\n      <td>1.0</td>\n      <td>1.0</td>\n      <td>1.0</td>\n    </tr>\n    <tr>\n      <th>jet2-com</th>\n      <td>385.0</td>\n      <td>0.633766</td>\n      <td>0.482401</td>\n      <td>0.0</td>\n      <td>0.0</td>\n      <td>1.0</td>\n      <td>1.0</td>\n      <td>1.0</td>\n    </tr>\n    <tr>\n      <th>kenya-airways</th>\n      <td>387.0</td>\n      <td>0.397933</td>\n      <td>0.490105</td>\n      <td>0.0</td>\n      <td>0.0</td>\n      <td>0.0</td>\n      <td>1.0</td>\n      <td>1.0</td>\n    </tr>\n    <tr>\n      <th>korean-air</th>\n      <td>390.0</td>\n      <td>0.743590</td>\n      <td>0.437212</td>\n      <td>0.0</td>\n      <td>0.0</td>\n      <td>1.0</td>\n      <td>1.0</td>\n      <td>1.0</td>\n    </tr>\n    <tr>\n      <th>lufthansa</th>\n      <td>390.0</td>\n      <td>0.189744</td>\n      <td>0.392602</td>\n      <td>0.0</td>\n      <td>0.0</td>\n      <td>0.0</td>\n      <td>0.0</td>\n      <td>1.0</td>\n    </tr>\n    <tr>\n      <th>malaysia-airlines</th>\n      <td>390.0</td>\n      <td>0.405128</td>\n      <td>0.491547</td>\n      <td>0.0</td>\n      <td>0.0</td>\n      <td>0.0</td>\n      <td>1.0</td>\n      <td>1.0</td>\n    </tr>\n    <tr>\n      <th>monarch-airlines</th>\n      <td>318.0</td>\n      <td>0.471698</td>\n      <td>0.499985</td>\n      <td>0.0</td>\n      <td>0.0</td>\n      <td>0.0</td>\n      <td>1.0</td>\n      <td>1.0</td>\n    </tr>\n    <tr>\n      <th>oman-air</th>\n      <td>390.0</td>\n      <td>0.558974</td>\n      <td>0.497148</td>\n      <td>0.0</td>\n      <td>0.0</td>\n      <td>1.0</td>\n      <td>1.0</td>\n      <td>1.0</td>\n    </tr>\n    <tr>\n      <th>pegasus-airlines</th>\n      <td>368.0</td>\n      <td>0.326087</td>\n      <td>0.469418</td>\n      <td>0.0</td>\n      <td>0.0</td>\n      <td>0.0</td>\n      <td>1.0</td>\n      <td>1.0</td>\n    </tr>\n    <tr>\n      <th>philippine-airlines</th>\n      <td>390.0</td>\n      <td>0.461538</td>\n      <td>0.499159</td>\n      <td>0.0</td>\n      <td>0.0</td>\n      <td>0.0</td>\n      <td>1.0</td>\n      <td>1.0</td>\n    </tr>\n    <tr>\n      <th>pia-pakistan-international-airlines</th>\n      <td>146.0</td>\n      <td>0.472603</td>\n      <td>0.500967</td>\n      <td>0.0</td>\n      <td>0.0</td>\n      <td>0.0</td>\n      <td>1.0</td>\n      <td>1.0</td>\n    </tr>\n    <tr>\n      <th>porter-airlines</th>\n      <td>301.0</td>\n      <td>0.305648</td>\n      <td>0.461448</td>\n      <td>0.0</td>\n      <td>0.0</td>\n      <td>0.0</td>\n      <td>1.0</td>\n      <td>1.0</td>\n    </tr>\n    <tr>\n      <th>qantas-airways</th>\n      <td>390.0</td>\n      <td>0.297436</td>\n      <td>0.457717</td>\n      <td>0.0</td>\n      <td>0.0</td>\n      <td>0.0</td>\n      <td>1.0</td>\n      <td>1.0</td>\n    </tr>\n    <tr>\n      <th>qatar-airways</th>\n      <td>390.0</td>\n      <td>0.730769</td>\n      <td>0.444130</td>\n      <td>0.0</td>\n      <td>0.0</td>\n      <td>1.0</td>\n      <td>1.0</td>\n      <td>1.0</td>\n    </tr>\n    <tr>\n      <th>royal-air-maroc</th>\n      <td>310.0</td>\n      <td>0.361290</td>\n      <td>0.481151</td>\n      <td>0.0</td>\n      <td>0.0</td>\n      <td>0.0</td>\n      <td>1.0</td>\n      <td>1.0</td>\n    </tr>\n    <tr>\n      <th>royal-brunei-airlines</th>\n      <td>349.0</td>\n      <td>0.753582</td>\n      <td>0.431544</td>\n      <td>0.0</td>\n      <td>1.0</td>\n      <td>1.0</td>\n      <td>1.0</td>\n      <td>1.0</td>\n    </tr>\n    <tr>\n      <th>royal-jordanian-airlines</th>\n      <td>350.0</td>\n      <td>0.460000</td>\n      <td>0.499111</td>\n      <td>0.0</td>\n      <td>0.0</td>\n      <td>0.0</td>\n      <td>1.0</td>\n      <td>1.0</td>\n    </tr>\n    <tr>\n      <th>ryanair</th>\n      <td>390.0</td>\n      <td>0.202564</td>\n      <td>0.402427</td>\n      <td>0.0</td>\n      <td>0.0</td>\n      <td>0.0</td>\n      <td>0.0</td>\n      <td>1.0</td>\n    </tr>\n    <tr>\n      <th>sas-scandinavian-airlines</th>\n      <td>390.0</td>\n      <td>0.248718</td>\n      <td>0.432825</td>\n      <td>0.0</td>\n      <td>0.0</td>\n      <td>0.0</td>\n      <td>0.0</td>\n      <td>1.0</td>\n    </tr>\n    <tr>\n      <th>saudi-arabian-airlines</th>\n      <td>359.0</td>\n      <td>0.456825</td>\n      <td>0.498828</td>\n      <td>0.0</td>\n      <td>0.0</td>\n      <td>0.0</td>\n      <td>1.0</td>\n      <td>1.0</td>\n    </tr>\n    <tr>\n      <th>scoot</th>\n      <td>390.0</td>\n      <td>0.353846</td>\n      <td>0.478776</td>\n      <td>0.0</td>\n      <td>0.0</td>\n      <td>0.0</td>\n      <td>1.0</td>\n      <td>1.0</td>\n    </tr>\n    <tr>\n      <th>singapore-airlines</th>\n      <td>390.0</td>\n      <td>0.589744</td>\n      <td>0.492512</td>\n      <td>0.0</td>\n      <td>0.0</td>\n      <td>1.0</td>\n      <td>1.0</td>\n      <td>1.0</td>\n    </tr>\n    <tr>\n      <th>south-african-airways</th>\n      <td>390.0</td>\n      <td>0.546154</td>\n      <td>0.498505</td>\n      <td>0.0</td>\n      <td>0.0</td>\n      <td>1.0</td>\n      <td>1.0</td>\n      <td>1.0</td>\n    </tr>\n    <tr>\n      <th>southwest-airlines</th>\n      <td>390.0</td>\n      <td>0.164103</td>\n      <td>0.370844</td>\n      <td>0.0</td>\n      <td>0.0</td>\n      <td>0.0</td>\n      <td>0.0</td>\n      <td>1.0</td>\n    </tr>\n    <tr>\n      <th>spicejet</th>\n      <td>390.0</td>\n      <td>0.330769</td>\n      <td>0.471094</td>\n      <td>0.0</td>\n      <td>0.0</td>\n      <td>0.0</td>\n      <td>1.0</td>\n      <td>1.0</td>\n    </tr>\n    <tr>\n      <th>spirit-airlines</th>\n      <td>390.0</td>\n      <td>0.079487</td>\n      <td>0.270845</td>\n      <td>0.0</td>\n      <td>0.0</td>\n      <td>0.0</td>\n      <td>0.0</td>\n      <td>1.0</td>\n    </tr>\n    <tr>\n      <th>srilankan-airlines</th>\n      <td>127.0</td>\n      <td>0.401575</td>\n      <td>0.492158</td>\n      <td>0.0</td>\n      <td>0.0</td>\n      <td>0.0</td>\n      <td>1.0</td>\n      <td>1.0</td>\n    </tr>\n    <tr>\n      <th>sun-country-airlines</th>\n      <td>297.0</td>\n      <td>0.218855</td>\n      <td>0.414168</td>\n      <td>0.0</td>\n      <td>0.0</td>\n      <td>0.0</td>\n      <td>0.0</td>\n      <td>1.0</td>\n    </tr>\n    <tr>\n      <th>sunwing-airlines</th>\n      <td>384.0</td>\n      <td>0.200521</td>\n      <td>0.400912</td>\n      <td>0.0</td>\n      <td>0.0</td>\n      <td>0.0</td>\n      <td>0.0</td>\n      <td>1.0</td>\n    </tr>\n    <tr>\n      <th>swiss-international-air-lines</th>\n      <td>390.0</td>\n      <td>0.389744</td>\n      <td>0.488318</td>\n      <td>0.0</td>\n      <td>0.0</td>\n      <td>0.0</td>\n      <td>1.0</td>\n      <td>1.0</td>\n    </tr>\n    <tr>\n      <th>swoop</th>\n      <td>390.0</td>\n      <td>0.174359</td>\n      <td>0.379905</td>\n      <td>0.0</td>\n      <td>0.0</td>\n      <td>0.0</td>\n      <td>0.0</td>\n      <td>1.0</td>\n    </tr>\n    <tr>\n      <th>turkish-airlines</th>\n      <td>390.0</td>\n      <td>0.166667</td>\n      <td>0.373157</td>\n      <td>0.0</td>\n      <td>0.0</td>\n      <td>0.0</td>\n      <td>0.0</td>\n      <td>1.0</td>\n    </tr>\n    <tr>\n      <th>ukraine-international-airlines</th>\n      <td>377.0</td>\n      <td>0.320955</td>\n      <td>0.467464</td>\n      <td>0.0</td>\n      <td>0.0</td>\n      <td>0.0</td>\n      <td>1.0</td>\n      <td>1.0</td>\n    </tr>\n    <tr>\n      <th>united-airlines</th>\n      <td>390.0</td>\n      <td>0.153846</td>\n      <td>0.361265</td>\n      <td>0.0</td>\n      <td>0.0</td>\n      <td>0.0</td>\n      <td>0.0</td>\n      <td>1.0</td>\n    </tr>\n  </tbody>\n</table>\n</div>"
     },
     "execution_count": 108,
     "metadata": {},
     "output_type": "execute_result"
    }
   ],
   "source": [
    "reviews_by_airline['Recommended'].describe()"
   ],
   "metadata": {
    "collapsed": false,
    "ExecuteTime": {
     "end_time": "2024-01-30T01:45:28.718109Z",
     "start_time": "2024-01-30T01:45:28.680888Z"
    }
   },
   "id": "8b728568db71d660"
  },
  {
   "cell_type": "code",
   "execution_count": 107,
   "outputs": [
    {
     "data": {
      "text/plain": "AirName\nAir India                              3.100000\nAna                                    7.958974\nair-europa                             3.671795\nair-france                             4.202564\nair-new-zealand                        4.841026\nairasia                                3.012552\namerican-airlines                      2.082051\naustrian-airlines                      4.494872\nbangkok-airways                        7.512821\nbritish-airways                        4.194872\nemirates                               4.051282\nethiopian-airlines                     4.458974\nflydubai                               3.571429\nfrontier-airlines                      1.446154\ngulf-air                               5.400000\nhawaiian-airlines                      4.771795\nindigo-airlines                        6.326478\njapan-airlines                         7.374346\njet2-com                               6.646753\nkenya-airways                          4.635659\nkorean-air                             7.289744\nlufthansa                              2.935897\nmalaysia-airlines                      4.374359\nmonarch-airlines                       6.094340\noman-air                               5.707692\npegasus-airlines                       4.125000\nphilippine-airlines                    4.915385\npia-pakistan-international-airlines    5.109589\nporter-airlines                        4.109635\nqantas-airways                         3.546154\nqatar-airways                          7.361538\nroyal-air-maroc                        4.522581\nroyal-brunei-airlines                  7.240688\nroyal-jordanian-airlines               4.962857\nryanair                                2.735897\nsas-scandinavian-airlines              3.333333\nsaudi-arabian-airlines                 4.885794\nscoot                                  3.861538\nsingapore-airlines                     6.010256\nsouth-african-airways                  5.712821\nsouthwest-airlines                     2.561538\nspicejet                               3.841026\nspirit-airlines                        1.735897\nsrilankan-airlines                     4.181102\nsun-country-airlines                   3.232323\nsunwing-airlines                       3.031250\nswiss-international-air-lines          4.592308\nswoop                                  2.620513\nturkish-airlines                       2.753846\nukraine-international-airlines         3.827586\nunited-airlines                        2.484615\nName: OverallScore, dtype: float64"
     },
     "execution_count": 107,
     "metadata": {},
     "output_type": "execute_result"
    }
   ],
   "source": [
    "average_scores"
   ],
   "metadata": {
    "collapsed": false,
    "ExecuteTime": {
     "end_time": "2024-01-30T01:42:58.359978Z",
     "start_time": "2024-01-30T01:42:58.327011Z"
    }
   },
   "id": "867acb3cb83f9aae"
  },
  {
   "cell_type": "code",
   "execution_count": 109,
   "outputs": [
    {
     "data": {
      "text/plain": "AirName\nAir India                              390\nAna                                    390\nair-europa                             390\nair-france                             390\nair-new-zealand                        390\nairasia                                239\namerican-airlines                      390\naustrian-airlines                      390\nbangkok-airways                        390\nbritish-airways                        390\nemirates                               390\nethiopian-airlines                     390\nflydubai                               336\nfrontier-airlines                      390\ngulf-air                               350\nhawaiian-airlines                      390\nindigo-airlines                        389\njapan-airlines                         382\njet2-com                               385\nkenya-airways                          387\nkorean-air                             390\nlufthansa                              390\nmalaysia-airlines                      390\nmonarch-airlines                       318\noman-air                               390\npegasus-airlines                       368\nphilippine-airlines                    390\npia-pakistan-international-airlines    146\nporter-airlines                        301\nqantas-airways                         390\nqatar-airways                          390\nroyal-air-maroc                        310\nroyal-brunei-airlines                  349\nroyal-jordanian-airlines               350\nryanair                                390\nsas-scandinavian-airlines              390\nsaudi-arabian-airlines                 359\nscoot                                  390\nsingapore-airlines                     390\nsouth-african-airways                  390\nsouthwest-airlines                     390\nspicejet                               390\nspirit-airlines                        390\nsrilankan-airlines                     127\nsun-country-airlines                   297\nsunwing-airlines                       384\nswiss-international-air-lines          390\nswoop                                  390\nturkish-airlines                       390\nukraine-international-airlines         377\nunited-airlines                        390\ndtype: int64"
     },
     "execution_count": 109,
     "metadata": {},
     "output_type": "execute_result"
    }
   ],
   "source": [
    "reviews_by_airline.size()"
   ],
   "metadata": {
    "collapsed": false,
    "ExecuteTime": {
     "end_time": "2024-01-30T01:45:42.772751Z",
     "start_time": "2024-01-30T01:45:42.734181Z"
    }
   },
   "id": "7ab81a21edcf9f42"
  },
  {
   "cell_type": "code",
   "execution_count": 110,
   "outputs": [],
   "source": [
    "# Calculate the percentage of recommended reviews for each airline\n",
    "recommendation_rates = reviews_by_airline['Recommended'].mean() * 100\n",
    "\n",
    "# Calculate the count of reviews for each airline\n",
    "review_counts = reviews_by_airline.size()\n",
    "\n",
    "# Combine the average score, recommendation rate, and review count for each airline\n",
    "airline_stats = pd.concat([average_scores, recommendation_rates, review_counts], axis=1)\n",
    "airline_stats.columns = ['Average Score', 'Recommendation Rate', 'Review Count']"
   ],
   "metadata": {
    "collapsed": false,
    "ExecuteTime": {
     "end_time": "2024-01-30T02:26:35.240466Z",
     "start_time": "2024-01-30T02:26:35.205876Z"
    }
   },
   "id": "f749e748764eb63a"
  },
  {
   "cell_type": "code",
   "execution_count": 111,
   "outputs": [
    {
     "data": {
      "text/plain": "                                     Average Score  Recommendation Rate  \\\nAirName                                                                   \nAir India                                 3.100000            23.589744   \nAna                                       7.958974            85.384615   \nair-europa                                3.671795            28.974359   \nair-france                                4.202564            34.871795   \nair-new-zealand                           4.841026            41.538462   \nairasia                                   3.012552            26.778243   \namerican-airlines                         2.082051            10.256410   \naustrian-airlines                         4.494872            41.025641   \nbangkok-airways                           7.512821            75.384615   \nbritish-airways                           4.194872            35.897436   \nemirates                                  4.051282            31.025641   \nethiopian-airlines                        4.458974            41.794872   \nflydubai                                  3.571429            28.869048   \nfrontier-airlines                         1.446154             3.333333   \ngulf-air                                  5.400000            52.285714   \nhawaiian-airlines                         4.771795            40.769231   \nindigo-airlines                           6.326478            60.925450   \njapan-airlines                            7.374346            74.607330   \njet2-com                                  6.646753            63.376623   \nkenya-airways                             4.635659            39.793282   \nkorean-air                                7.289744            74.358974   \nlufthansa                                 2.935897            18.974359   \nmalaysia-airlines                         4.374359            40.512821   \nmonarch-airlines                          6.094340            47.169811   \noman-air                                  5.707692            55.897436   \npegasus-airlines                          4.125000            32.608696   \nphilippine-airlines                       4.915385            46.153846   \npia-pakistan-international-airlines       5.109589            47.260274   \nporter-airlines                           4.109635            30.564784   \nqantas-airways                            3.546154            29.743590   \nqatar-airways                             7.361538            73.076923   \nroyal-air-maroc                           4.522581            36.129032   \nroyal-brunei-airlines                     7.240688            75.358166   \nroyal-jordanian-airlines                  4.962857            46.000000   \nryanair                                   2.735897            20.256410   \nsas-scandinavian-airlines                 3.333333            24.871795   \nsaudi-arabian-airlines                    4.885794            45.682451   \nscoot                                     3.861538            35.384615   \nsingapore-airlines                        6.010256            58.974359   \nsouth-african-airways                     5.712821            54.615385   \nsouthwest-airlines                        2.561538            16.410256   \nspicejet                                  3.841026            33.076923   \nspirit-airlines                           1.735897             7.948718   \nsrilankan-airlines                        4.181102            40.157480   \nsun-country-airlines                      3.232323            21.885522   \nsunwing-airlines                          3.031250            20.052083   \nswiss-international-air-lines             4.592308            38.974359   \nswoop                                     2.620513            17.435897   \nturkish-airlines                          2.753846            16.666667   \nukraine-international-airlines            3.827586            32.095491   \nunited-airlines                           2.484615            15.384615   \n\n                                     Review Count  \nAirName                                            \nAir India                                     390  \nAna                                           390  \nair-europa                                    390  \nair-france                                    390  \nair-new-zealand                               390  \nairasia                                       239  \namerican-airlines                             390  \naustrian-airlines                             390  \nbangkok-airways                               390  \nbritish-airways                               390  \nemirates                                      390  \nethiopian-airlines                            390  \nflydubai                                      336  \nfrontier-airlines                             390  \ngulf-air                                      350  \nhawaiian-airlines                             390  \nindigo-airlines                               389  \njapan-airlines                                382  \njet2-com                                      385  \nkenya-airways                                 387  \nkorean-air                                    390  \nlufthansa                                     390  \nmalaysia-airlines                             390  \nmonarch-airlines                              318  \noman-air                                      390  \npegasus-airlines                              368  \nphilippine-airlines                           390  \npia-pakistan-international-airlines           146  \nporter-airlines                               301  \nqantas-airways                                390  \nqatar-airways                                 390  \nroyal-air-maroc                               310  \nroyal-brunei-airlines                         349  \nroyal-jordanian-airlines                      350  \nryanair                                       390  \nsas-scandinavian-airlines                     390  \nsaudi-arabian-airlines                        359  \nscoot                                         390  \nsingapore-airlines                            390  \nsouth-african-airways                         390  \nsouthwest-airlines                            390  \nspicejet                                      390  \nspirit-airlines                               390  \nsrilankan-airlines                            127  \nsun-country-airlines                          297  \nsunwing-airlines                              384  \nswiss-international-air-lines                 390  \nswoop                                         390  \nturkish-airlines                              390  \nukraine-international-airlines                377  \nunited-airlines                               390  ",
      "text/html": "<div>\n<style scoped>\n    .dataframe tbody tr th:only-of-type {\n        vertical-align: middle;\n    }\n\n    .dataframe tbody tr th {\n        vertical-align: top;\n    }\n\n    .dataframe thead th {\n        text-align: right;\n    }\n</style>\n<table border=\"1\" class=\"dataframe\">\n  <thead>\n    <tr style=\"text-align: right;\">\n      <th></th>\n      <th>Average Score</th>\n      <th>Recommendation Rate</th>\n      <th>Review Count</th>\n    </tr>\n    <tr>\n      <th>AirName</th>\n      <th></th>\n      <th></th>\n      <th></th>\n    </tr>\n  </thead>\n  <tbody>\n    <tr>\n      <th>Air India</th>\n      <td>3.100000</td>\n      <td>23.589744</td>\n      <td>390</td>\n    </tr>\n    <tr>\n      <th>Ana</th>\n      <td>7.958974</td>\n      <td>85.384615</td>\n      <td>390</td>\n    </tr>\n    <tr>\n      <th>air-europa</th>\n      <td>3.671795</td>\n      <td>28.974359</td>\n      <td>390</td>\n    </tr>\n    <tr>\n      <th>air-france</th>\n      <td>4.202564</td>\n      <td>34.871795</td>\n      <td>390</td>\n    </tr>\n    <tr>\n      <th>air-new-zealand</th>\n      <td>4.841026</td>\n      <td>41.538462</td>\n      <td>390</td>\n    </tr>\n    <tr>\n      <th>airasia</th>\n      <td>3.012552</td>\n      <td>26.778243</td>\n      <td>239</td>\n    </tr>\n    <tr>\n      <th>american-airlines</th>\n      <td>2.082051</td>\n      <td>10.256410</td>\n      <td>390</td>\n    </tr>\n    <tr>\n      <th>austrian-airlines</th>\n      <td>4.494872</td>\n      <td>41.025641</td>\n      <td>390</td>\n    </tr>\n    <tr>\n      <th>bangkok-airways</th>\n      <td>7.512821</td>\n      <td>75.384615</td>\n      <td>390</td>\n    </tr>\n    <tr>\n      <th>british-airways</th>\n      <td>4.194872</td>\n      <td>35.897436</td>\n      <td>390</td>\n    </tr>\n    <tr>\n      <th>emirates</th>\n      <td>4.051282</td>\n      <td>31.025641</td>\n      <td>390</td>\n    </tr>\n    <tr>\n      <th>ethiopian-airlines</th>\n      <td>4.458974</td>\n      <td>41.794872</td>\n      <td>390</td>\n    </tr>\n    <tr>\n      <th>flydubai</th>\n      <td>3.571429</td>\n      <td>28.869048</td>\n      <td>336</td>\n    </tr>\n    <tr>\n      <th>frontier-airlines</th>\n      <td>1.446154</td>\n      <td>3.333333</td>\n      <td>390</td>\n    </tr>\n    <tr>\n      <th>gulf-air</th>\n      <td>5.400000</td>\n      <td>52.285714</td>\n      <td>350</td>\n    </tr>\n    <tr>\n      <th>hawaiian-airlines</th>\n      <td>4.771795</td>\n      <td>40.769231</td>\n      <td>390</td>\n    </tr>\n    <tr>\n      <th>indigo-airlines</th>\n      <td>6.326478</td>\n      <td>60.925450</td>\n      <td>389</td>\n    </tr>\n    <tr>\n      <th>japan-airlines</th>\n      <td>7.374346</td>\n      <td>74.607330</td>\n      <td>382</td>\n    </tr>\n    <tr>\n      <th>jet2-com</th>\n      <td>6.646753</td>\n      <td>63.376623</td>\n      <td>385</td>\n    </tr>\n    <tr>\n      <th>kenya-airways</th>\n      <td>4.635659</td>\n      <td>39.793282</td>\n      <td>387</td>\n    </tr>\n    <tr>\n      <th>korean-air</th>\n      <td>7.289744</td>\n      <td>74.358974</td>\n      <td>390</td>\n    </tr>\n    <tr>\n      <th>lufthansa</th>\n      <td>2.935897</td>\n      <td>18.974359</td>\n      <td>390</td>\n    </tr>\n    <tr>\n      <th>malaysia-airlines</th>\n      <td>4.374359</td>\n      <td>40.512821</td>\n      <td>390</td>\n    </tr>\n    <tr>\n      <th>monarch-airlines</th>\n      <td>6.094340</td>\n      <td>47.169811</td>\n      <td>318</td>\n    </tr>\n    <tr>\n      <th>oman-air</th>\n      <td>5.707692</td>\n      <td>55.897436</td>\n      <td>390</td>\n    </tr>\n    <tr>\n      <th>pegasus-airlines</th>\n      <td>4.125000</td>\n      <td>32.608696</td>\n      <td>368</td>\n    </tr>\n    <tr>\n      <th>philippine-airlines</th>\n      <td>4.915385</td>\n      <td>46.153846</td>\n      <td>390</td>\n    </tr>\n    <tr>\n      <th>pia-pakistan-international-airlines</th>\n      <td>5.109589</td>\n      <td>47.260274</td>\n      <td>146</td>\n    </tr>\n    <tr>\n      <th>porter-airlines</th>\n      <td>4.109635</td>\n      <td>30.564784</td>\n      <td>301</td>\n    </tr>\n    <tr>\n      <th>qantas-airways</th>\n      <td>3.546154</td>\n      <td>29.743590</td>\n      <td>390</td>\n    </tr>\n    <tr>\n      <th>qatar-airways</th>\n      <td>7.361538</td>\n      <td>73.076923</td>\n      <td>390</td>\n    </tr>\n    <tr>\n      <th>royal-air-maroc</th>\n      <td>4.522581</td>\n      <td>36.129032</td>\n      <td>310</td>\n    </tr>\n    <tr>\n      <th>royal-brunei-airlines</th>\n      <td>7.240688</td>\n      <td>75.358166</td>\n      <td>349</td>\n    </tr>\n    <tr>\n      <th>royal-jordanian-airlines</th>\n      <td>4.962857</td>\n      <td>46.000000</td>\n      <td>350</td>\n    </tr>\n    <tr>\n      <th>ryanair</th>\n      <td>2.735897</td>\n      <td>20.256410</td>\n      <td>390</td>\n    </tr>\n    <tr>\n      <th>sas-scandinavian-airlines</th>\n      <td>3.333333</td>\n      <td>24.871795</td>\n      <td>390</td>\n    </tr>\n    <tr>\n      <th>saudi-arabian-airlines</th>\n      <td>4.885794</td>\n      <td>45.682451</td>\n      <td>359</td>\n    </tr>\n    <tr>\n      <th>scoot</th>\n      <td>3.861538</td>\n      <td>35.384615</td>\n      <td>390</td>\n    </tr>\n    <tr>\n      <th>singapore-airlines</th>\n      <td>6.010256</td>\n      <td>58.974359</td>\n      <td>390</td>\n    </tr>\n    <tr>\n      <th>south-african-airways</th>\n      <td>5.712821</td>\n      <td>54.615385</td>\n      <td>390</td>\n    </tr>\n    <tr>\n      <th>southwest-airlines</th>\n      <td>2.561538</td>\n      <td>16.410256</td>\n      <td>390</td>\n    </tr>\n    <tr>\n      <th>spicejet</th>\n      <td>3.841026</td>\n      <td>33.076923</td>\n      <td>390</td>\n    </tr>\n    <tr>\n      <th>spirit-airlines</th>\n      <td>1.735897</td>\n      <td>7.948718</td>\n      <td>390</td>\n    </tr>\n    <tr>\n      <th>srilankan-airlines</th>\n      <td>4.181102</td>\n      <td>40.157480</td>\n      <td>127</td>\n    </tr>\n    <tr>\n      <th>sun-country-airlines</th>\n      <td>3.232323</td>\n      <td>21.885522</td>\n      <td>297</td>\n    </tr>\n    <tr>\n      <th>sunwing-airlines</th>\n      <td>3.031250</td>\n      <td>20.052083</td>\n      <td>384</td>\n    </tr>\n    <tr>\n      <th>swiss-international-air-lines</th>\n      <td>4.592308</td>\n      <td>38.974359</td>\n      <td>390</td>\n    </tr>\n    <tr>\n      <th>swoop</th>\n      <td>2.620513</td>\n      <td>17.435897</td>\n      <td>390</td>\n    </tr>\n    <tr>\n      <th>turkish-airlines</th>\n      <td>2.753846</td>\n      <td>16.666667</td>\n      <td>390</td>\n    </tr>\n    <tr>\n      <th>ukraine-international-airlines</th>\n      <td>3.827586</td>\n      <td>32.095491</td>\n      <td>377</td>\n    </tr>\n    <tr>\n      <th>united-airlines</th>\n      <td>2.484615</td>\n      <td>15.384615</td>\n      <td>390</td>\n    </tr>\n  </tbody>\n</table>\n</div>"
     },
     "execution_count": 111,
     "metadata": {},
     "output_type": "execute_result"
    }
   ],
   "source": [
    "airline_stats"
   ],
   "metadata": {
    "collapsed": false,
    "ExecuteTime": {
     "end_time": "2024-01-30T02:26:40.550230Z",
     "start_time": "2024-01-30T02:26:40.519185Z"
    }
   },
   "id": "fd742f244756243d"
  },
  {
   "cell_type": "code",
   "execution_count": 112,
   "outputs": [
    {
     "data": {
      "text/plain": "                                     Average Score  Recommendation Rate  \\\nAirName                                                                   \nAna                                       7.958974            85.384615   \nbangkok-airways                           7.512821            75.384615   \njapan-airlines                            7.374346            74.607330   \nqatar-airways                             7.361538            73.076923   \nkorean-air                                7.289744            74.358974   \nroyal-brunei-airlines                     7.240688            75.358166   \njet2-com                                  6.646753            63.376623   \nindigo-airlines                           6.326478            60.925450   \nmonarch-airlines                          6.094340            47.169811   \nsingapore-airlines                        6.010256            58.974359   \nsouth-african-airways                     5.712821            54.615385   \noman-air                                  5.707692            55.897436   \ngulf-air                                  5.400000            52.285714   \npia-pakistan-international-airlines       5.109589            47.260274   \nroyal-jordanian-airlines                  4.962857            46.000000   \nphilippine-airlines                       4.915385            46.153846   \nsaudi-arabian-airlines                    4.885794            45.682451   \nair-new-zealand                           4.841026            41.538462   \nhawaiian-airlines                         4.771795            40.769231   \nkenya-airways                             4.635659            39.793282   \nswiss-international-air-lines             4.592308            38.974359   \nroyal-air-maroc                           4.522581            36.129032   \naustrian-airlines                         4.494872            41.025641   \nethiopian-airlines                        4.458974            41.794872   \nmalaysia-airlines                         4.374359            40.512821   \nair-france                                4.202564            34.871795   \nbritish-airways                           4.194872            35.897436   \nsrilankan-airlines                        4.181102            40.157480   \npegasus-airlines                          4.125000            32.608696   \nporter-airlines                           4.109635            30.564784   \nemirates                                  4.051282            31.025641   \nscoot                                     3.861538            35.384615   \nspicejet                                  3.841026            33.076923   \nukraine-international-airlines            3.827586            32.095491   \nair-europa                                3.671795            28.974359   \nflydubai                                  3.571429            28.869048   \nqantas-airways                            3.546154            29.743590   \nsas-scandinavian-airlines                 3.333333            24.871795   \nsun-country-airlines                      3.232323            21.885522   \nAir India                                 3.100000            23.589744   \nsunwing-airlines                          3.031250            20.052083   \nairasia                                   3.012552            26.778243   \nlufthansa                                 2.935897            18.974359   \nturkish-airlines                          2.753846            16.666667   \nryanair                                   2.735897            20.256410   \nswoop                                     2.620513            17.435897   \nsouthwest-airlines                        2.561538            16.410256   \nunited-airlines                           2.484615            15.384615   \namerican-airlines                         2.082051            10.256410   \nspirit-airlines                           1.735897             7.948718   \nfrontier-airlines                         1.446154             3.333333   \n\n                                     Review Count  \nAirName                                            \nAna                                           390  \nbangkok-airways                               390  \njapan-airlines                                382  \nqatar-airways                                 390  \nkorean-air                                    390  \nroyal-brunei-airlines                         349  \njet2-com                                      385  \nindigo-airlines                               389  \nmonarch-airlines                              318  \nsingapore-airlines                            390  \nsouth-african-airways                         390  \noman-air                                      390  \ngulf-air                                      350  \npia-pakistan-international-airlines           146  \nroyal-jordanian-airlines                      350  \nphilippine-airlines                           390  \nsaudi-arabian-airlines                        359  \nair-new-zealand                               390  \nhawaiian-airlines                             390  \nkenya-airways                                 387  \nswiss-international-air-lines                 390  \nroyal-air-maroc                               310  \naustrian-airlines                             390  \nethiopian-airlines                            390  \nmalaysia-airlines                             390  \nair-france                                    390  \nbritish-airways                               390  \nsrilankan-airlines                            127  \npegasus-airlines                              368  \nporter-airlines                               301  \nemirates                                      390  \nscoot                                         390  \nspicejet                                      390  \nukraine-international-airlines                377  \nair-europa                                    390  \nflydubai                                      336  \nqantas-airways                                390  \nsas-scandinavian-airlines                     390  \nsun-country-airlines                          297  \nAir India                                     390  \nsunwing-airlines                              384  \nairasia                                       239  \nlufthansa                                     390  \nturkish-airlines                              390  \nryanair                                       390  \nswoop                                         390  \nsouthwest-airlines                            390  \nunited-airlines                               390  \namerican-airlines                             390  \nspirit-airlines                               390  \nfrontier-airlines                             390  ",
      "text/html": "<div>\n<style scoped>\n    .dataframe tbody tr th:only-of-type {\n        vertical-align: middle;\n    }\n\n    .dataframe tbody tr th {\n        vertical-align: top;\n    }\n\n    .dataframe thead th {\n        text-align: right;\n    }\n</style>\n<table border=\"1\" class=\"dataframe\">\n  <thead>\n    <tr style=\"text-align: right;\">\n      <th></th>\n      <th>Average Score</th>\n      <th>Recommendation Rate</th>\n      <th>Review Count</th>\n    </tr>\n    <tr>\n      <th>AirName</th>\n      <th></th>\n      <th></th>\n      <th></th>\n    </tr>\n  </thead>\n  <tbody>\n    <tr>\n      <th>Ana</th>\n      <td>7.958974</td>\n      <td>85.384615</td>\n      <td>390</td>\n    </tr>\n    <tr>\n      <th>bangkok-airways</th>\n      <td>7.512821</td>\n      <td>75.384615</td>\n      <td>390</td>\n    </tr>\n    <tr>\n      <th>japan-airlines</th>\n      <td>7.374346</td>\n      <td>74.607330</td>\n      <td>382</td>\n    </tr>\n    <tr>\n      <th>qatar-airways</th>\n      <td>7.361538</td>\n      <td>73.076923</td>\n      <td>390</td>\n    </tr>\n    <tr>\n      <th>korean-air</th>\n      <td>7.289744</td>\n      <td>74.358974</td>\n      <td>390</td>\n    </tr>\n    <tr>\n      <th>royal-brunei-airlines</th>\n      <td>7.240688</td>\n      <td>75.358166</td>\n      <td>349</td>\n    </tr>\n    <tr>\n      <th>jet2-com</th>\n      <td>6.646753</td>\n      <td>63.376623</td>\n      <td>385</td>\n    </tr>\n    <tr>\n      <th>indigo-airlines</th>\n      <td>6.326478</td>\n      <td>60.925450</td>\n      <td>389</td>\n    </tr>\n    <tr>\n      <th>monarch-airlines</th>\n      <td>6.094340</td>\n      <td>47.169811</td>\n      <td>318</td>\n    </tr>\n    <tr>\n      <th>singapore-airlines</th>\n      <td>6.010256</td>\n      <td>58.974359</td>\n      <td>390</td>\n    </tr>\n    <tr>\n      <th>south-african-airways</th>\n      <td>5.712821</td>\n      <td>54.615385</td>\n      <td>390</td>\n    </tr>\n    <tr>\n      <th>oman-air</th>\n      <td>5.707692</td>\n      <td>55.897436</td>\n      <td>390</td>\n    </tr>\n    <tr>\n      <th>gulf-air</th>\n      <td>5.400000</td>\n      <td>52.285714</td>\n      <td>350</td>\n    </tr>\n    <tr>\n      <th>pia-pakistan-international-airlines</th>\n      <td>5.109589</td>\n      <td>47.260274</td>\n      <td>146</td>\n    </tr>\n    <tr>\n      <th>royal-jordanian-airlines</th>\n      <td>4.962857</td>\n      <td>46.000000</td>\n      <td>350</td>\n    </tr>\n    <tr>\n      <th>philippine-airlines</th>\n      <td>4.915385</td>\n      <td>46.153846</td>\n      <td>390</td>\n    </tr>\n    <tr>\n      <th>saudi-arabian-airlines</th>\n      <td>4.885794</td>\n      <td>45.682451</td>\n      <td>359</td>\n    </tr>\n    <tr>\n      <th>air-new-zealand</th>\n      <td>4.841026</td>\n      <td>41.538462</td>\n      <td>390</td>\n    </tr>\n    <tr>\n      <th>hawaiian-airlines</th>\n      <td>4.771795</td>\n      <td>40.769231</td>\n      <td>390</td>\n    </tr>\n    <tr>\n      <th>kenya-airways</th>\n      <td>4.635659</td>\n      <td>39.793282</td>\n      <td>387</td>\n    </tr>\n    <tr>\n      <th>swiss-international-air-lines</th>\n      <td>4.592308</td>\n      <td>38.974359</td>\n      <td>390</td>\n    </tr>\n    <tr>\n      <th>royal-air-maroc</th>\n      <td>4.522581</td>\n      <td>36.129032</td>\n      <td>310</td>\n    </tr>\n    <tr>\n      <th>austrian-airlines</th>\n      <td>4.494872</td>\n      <td>41.025641</td>\n      <td>390</td>\n    </tr>\n    <tr>\n      <th>ethiopian-airlines</th>\n      <td>4.458974</td>\n      <td>41.794872</td>\n      <td>390</td>\n    </tr>\n    <tr>\n      <th>malaysia-airlines</th>\n      <td>4.374359</td>\n      <td>40.512821</td>\n      <td>390</td>\n    </tr>\n    <tr>\n      <th>air-france</th>\n      <td>4.202564</td>\n      <td>34.871795</td>\n      <td>390</td>\n    </tr>\n    <tr>\n      <th>british-airways</th>\n      <td>4.194872</td>\n      <td>35.897436</td>\n      <td>390</td>\n    </tr>\n    <tr>\n      <th>srilankan-airlines</th>\n      <td>4.181102</td>\n      <td>40.157480</td>\n      <td>127</td>\n    </tr>\n    <tr>\n      <th>pegasus-airlines</th>\n      <td>4.125000</td>\n      <td>32.608696</td>\n      <td>368</td>\n    </tr>\n    <tr>\n      <th>porter-airlines</th>\n      <td>4.109635</td>\n      <td>30.564784</td>\n      <td>301</td>\n    </tr>\n    <tr>\n      <th>emirates</th>\n      <td>4.051282</td>\n      <td>31.025641</td>\n      <td>390</td>\n    </tr>\n    <tr>\n      <th>scoot</th>\n      <td>3.861538</td>\n      <td>35.384615</td>\n      <td>390</td>\n    </tr>\n    <tr>\n      <th>spicejet</th>\n      <td>3.841026</td>\n      <td>33.076923</td>\n      <td>390</td>\n    </tr>\n    <tr>\n      <th>ukraine-international-airlines</th>\n      <td>3.827586</td>\n      <td>32.095491</td>\n      <td>377</td>\n    </tr>\n    <tr>\n      <th>air-europa</th>\n      <td>3.671795</td>\n      <td>28.974359</td>\n      <td>390</td>\n    </tr>\n    <tr>\n      <th>flydubai</th>\n      <td>3.571429</td>\n      <td>28.869048</td>\n      <td>336</td>\n    </tr>\n    <tr>\n      <th>qantas-airways</th>\n      <td>3.546154</td>\n      <td>29.743590</td>\n      <td>390</td>\n    </tr>\n    <tr>\n      <th>sas-scandinavian-airlines</th>\n      <td>3.333333</td>\n      <td>24.871795</td>\n      <td>390</td>\n    </tr>\n    <tr>\n      <th>sun-country-airlines</th>\n      <td>3.232323</td>\n      <td>21.885522</td>\n      <td>297</td>\n    </tr>\n    <tr>\n      <th>Air India</th>\n      <td>3.100000</td>\n      <td>23.589744</td>\n      <td>390</td>\n    </tr>\n    <tr>\n      <th>sunwing-airlines</th>\n      <td>3.031250</td>\n      <td>20.052083</td>\n      <td>384</td>\n    </tr>\n    <tr>\n      <th>airasia</th>\n      <td>3.012552</td>\n      <td>26.778243</td>\n      <td>239</td>\n    </tr>\n    <tr>\n      <th>lufthansa</th>\n      <td>2.935897</td>\n      <td>18.974359</td>\n      <td>390</td>\n    </tr>\n    <tr>\n      <th>turkish-airlines</th>\n      <td>2.753846</td>\n      <td>16.666667</td>\n      <td>390</td>\n    </tr>\n    <tr>\n      <th>ryanair</th>\n      <td>2.735897</td>\n      <td>20.256410</td>\n      <td>390</td>\n    </tr>\n    <tr>\n      <th>swoop</th>\n      <td>2.620513</td>\n      <td>17.435897</td>\n      <td>390</td>\n    </tr>\n    <tr>\n      <th>southwest-airlines</th>\n      <td>2.561538</td>\n      <td>16.410256</td>\n      <td>390</td>\n    </tr>\n    <tr>\n      <th>united-airlines</th>\n      <td>2.484615</td>\n      <td>15.384615</td>\n      <td>390</td>\n    </tr>\n    <tr>\n      <th>american-airlines</th>\n      <td>2.082051</td>\n      <td>10.256410</td>\n      <td>390</td>\n    </tr>\n    <tr>\n      <th>spirit-airlines</th>\n      <td>1.735897</td>\n      <td>7.948718</td>\n      <td>390</td>\n    </tr>\n    <tr>\n      <th>frontier-airlines</th>\n      <td>1.446154</td>\n      <td>3.333333</td>\n      <td>390</td>\n    </tr>\n  </tbody>\n</table>\n</div>"
     },
     "execution_count": 112,
     "metadata": {},
     "output_type": "execute_result"
    }
   ],
   "source": [
    "# Sort the airlines based on average score in descending order\n",
    "airline_stats = airline_stats.sort_values(by='Average Score', ascending=False)\n",
    "airline_stats"
   ],
   "metadata": {
    "collapsed": false,
    "ExecuteTime": {
     "end_time": "2024-01-30T02:26:52.482269Z",
     "start_time": "2024-01-30T02:26:52.446097Z"
    }
   },
   "id": "d946b02e543dbe67"
  },
  {
   "cell_type": "code",
   "execution_count": null,
   "outputs": [],
   "source": [
    "# Print insights into strengths and weaknesses of airlines\n",
    "for airline, data in airline_stats.iterrows():\n",
    "    print(f\"Insights for {airline}:\")\n",
    "    \n",
    "    average_score = data['Average Score']\n",
    "    recommendation_rate = data['Recommendation Rate']\n",
    "    review_count = data['Review Count']\n",
    "    \n",
    "    if average_score >= 4.0 and recommendation_rate >= 80.0:\n",
    "        print(\"Strengths: High average score and high recommendation rate.\")\n",
    "    elif average_score < 3.0 and recommendation_rate < 50.0:\n",
    "        print(\"Weaknesses: Low average score and low recommendation rate.\")\n",
    "    elif average_score < 3.0:\n",
    "        print(\"Weaknesses: Low average score.\")\n",
    "    elif recommendation_rate < 50.0:\n",
    "        print(\"Weaknesses: Low recommendation rate.\")\n",
    "    else:\n",
    "        print(\"No specific strengths or weaknesses identified.\")\n",
    "    \n",
    "    print(f\"Average Score: {average_score:.2f}\")\n",
    "    print(f\"Recommendation Rate: {recommendation_rate:.2f}%\")\n",
    "    print(f\"Review Count: {review_count}\")\n",
    "    print(\"\\n\")"
   ],
   "metadata": {
    "collapsed": false
   },
   "id": "eb05a17377e60632"
  }
 ],
 "metadata": {
  "kernelspec": {
   "display_name": "Python 3",
   "language": "python",
   "name": "python3"
  },
  "language_info": {
   "codemirror_mode": {
    "name": "ipython",
    "version": 2
   },
   "file_extension": ".py",
   "mimetype": "text/x-python",
   "name": "python",
   "nbconvert_exporter": "python",
   "pygments_lexer": "ipython2",
   "version": "2.7.6"
  }
 },
 "nbformat": 4,
 "nbformat_minor": 5
}
