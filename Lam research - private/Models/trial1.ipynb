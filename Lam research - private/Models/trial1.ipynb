{
 "cells": [
  {
   "cell_type": "code",
   "execution_count": 38,
   "id": "initial_id",
   "metadata": {
    "collapsed": true,
    "ExecuteTime": {
     "end_time": "2023-12-07T15:02:56.336657Z",
     "start_time": "2023-12-07T15:02:56.333353Z"
    }
   },
   "outputs": [],
   "source": [
    "import numpy as np\n",
    "import matplotlib.pyplot as plt\n",
    "import pandas as pd\n",
    "import keras"
   ]
  },
  {
   "cell_type": "code",
   "execution_count": 39,
   "outputs": [
    {
     "data": {
      "text/plain": "            country         city\n0               USA     New York\n1               USA  Los Angeles\n2               USA      Chicago\n3            Canada      Toronto\n4            Canada    Vancouver\n..              ...          ...\n113          Greece       Patras\n114  Czech Republic      Ostrava\n115         Hungary       Szeged\n116         Austria    Innsbruck\n117    Saudi Arabia       Dammam\n\n[118 rows x 2 columns]",
      "text/html": "<div>\n<style scoped>\n    .dataframe tbody tr th:only-of-type {\n        vertical-align: middle;\n    }\n\n    .dataframe tbody tr th {\n        vertical-align: top;\n    }\n\n    .dataframe thead th {\n        text-align: right;\n    }\n</style>\n<table border=\"1\" class=\"dataframe\">\n  <thead>\n    <tr style=\"text-align: right;\">\n      <th></th>\n      <th>country</th>\n      <th>city</th>\n    </tr>\n  </thead>\n  <tbody>\n    <tr>\n      <th>0</th>\n      <td>USA</td>\n      <td>New York</td>\n    </tr>\n    <tr>\n      <th>1</th>\n      <td>USA</td>\n      <td>Los Angeles</td>\n    </tr>\n    <tr>\n      <th>2</th>\n      <td>USA</td>\n      <td>Chicago</td>\n    </tr>\n    <tr>\n      <th>3</th>\n      <td>Canada</td>\n      <td>Toronto</td>\n    </tr>\n    <tr>\n      <th>4</th>\n      <td>Canada</td>\n      <td>Vancouver</td>\n    </tr>\n    <tr>\n      <th>...</th>\n      <td>...</td>\n      <td>...</td>\n    </tr>\n    <tr>\n      <th>113</th>\n      <td>Greece</td>\n      <td>Patras</td>\n    </tr>\n    <tr>\n      <th>114</th>\n      <td>Czech Republic</td>\n      <td>Ostrava</td>\n    </tr>\n    <tr>\n      <th>115</th>\n      <td>Hungary</td>\n      <td>Szeged</td>\n    </tr>\n    <tr>\n      <th>116</th>\n      <td>Austria</td>\n      <td>Innsbruck</td>\n    </tr>\n    <tr>\n      <th>117</th>\n      <td>Saudi Arabia</td>\n      <td>Dammam</td>\n    </tr>\n  </tbody>\n</table>\n<p>118 rows × 2 columns</p>\n</div>"
     },
     "execution_count": 39,
     "metadata": {},
     "output_type": "execute_result"
    }
   ],
   "source": [
    "df = pd.read_csv('../Datasets/Country_city.csv')\n",
    "df"
   ],
   "metadata": {
    "collapsed": false,
    "ExecuteTime": {
     "end_time": "2023-12-07T15:02:56.896732Z",
     "start_time": "2023-12-07T15:02:56.883391Z"
    }
   },
   "id": "756bccb720d7bd91"
  },
  {
   "cell_type": "code",
   "execution_count": 40,
   "outputs": [
    {
     "data": {
      "text/plain": "           country                                      city_sequence\n0        Argentina                   [Buenos Aires, Cordoba, Mendoza]\n1        Australia               [Sydney, Melbourne, Brisbane, Perth]\n2          Austria                      [Vienna, Salzburg, Innsbruck]\n3          Belgium                         [Brussels, Antwerp, Ghent]\n4           Brazil   [Rio de Janeiro, Sao Paulo, Brasilia, Fortaleza]\n5           Canada            [Toronto, Vancouver, Montreal, Calgary]\n6            China          [Beijing, Shanghai, Guangzhou, Hong Kong]\n7   Czech Republic                            [Prague, Brno, Ostrava]\n8          Denmark                       [Copenhagen, Aarhus, Odense]\n9            Egypt                         [Cairo, Alexandria, Luxor]\n10         Finland                                [Helsinki, Tampere]\n11          France                 [Paris, Marseille, Bordeaux, Lyon]\n12         Germany               [Berlin, Munich, Hamburg, Stuttgart]\n13          Greece                     [Athens, Thessaloniki, Patras]\n14         Hungary                       [Budapest, Debrecen, Szeged]\n15           India                [Mumbai, Delhi, Bangalore, Chennai]\n16         Ireland                           [Dublin, Cork, Limerick]\n17           Italy                    [Rome, Milan, Venice, Florence]\n18           Japan                     [Tokyo, Osaka, Kyoto, Sapporo]\n19           Kenya                         [Nairobi, Mombasa, Kisumu]\n20          Mexico                 [Mexico City, Guadalajara, Puebla]\n21     Netherlands                                        [Amsterdam]\n22         Nigeria                               [Lagos, Abuja, Kano]\n23          Norway                          [Oslo, Bergen, Trondheim]\n24          Poland                           [Warsaw, Krakow, Poznan]\n25        Portugal                              [Lisbon, Porto, Faro]\n26          Russia  [Moscow, Saint Petersburg, Kazan, Nizhny Novgo...\n27    Saudi Arabia                           [Riyadh, Jeddah, Dammam]\n28    South Africa                  [Johannesburg, Cape Town, Durban]\n29     South Korea                            [Seoul, Busan, Incheon]\n30           Spain                       [Madrid, Barcelona, Seville]\n31          Sweden                     [Stockholm, Gothenburg, Malmo]\n32     Switzerland                                   [Zurich, Geneva]\n33          Turkey                          [Istanbul, Ankara, Izmir]\n34              UK        [London, Manchester, Birmingham, Edinburgh]\n35             USA  [New York, Los Angeles, Chicago, San Francisco...",
      "text/html": "<div>\n<style scoped>\n    .dataframe tbody tr th:only-of-type {\n        vertical-align: middle;\n    }\n\n    .dataframe tbody tr th {\n        vertical-align: top;\n    }\n\n    .dataframe thead th {\n        text-align: right;\n    }\n</style>\n<table border=\"1\" class=\"dataframe\">\n  <thead>\n    <tr style=\"text-align: right;\">\n      <th></th>\n      <th>country</th>\n      <th>city_sequence</th>\n    </tr>\n  </thead>\n  <tbody>\n    <tr>\n      <th>0</th>\n      <td>Argentina</td>\n      <td>[Buenos Aires, Cordoba, Mendoza]</td>\n    </tr>\n    <tr>\n      <th>1</th>\n      <td>Australia</td>\n      <td>[Sydney, Melbourne, Brisbane, Perth]</td>\n    </tr>\n    <tr>\n      <th>2</th>\n      <td>Austria</td>\n      <td>[Vienna, Salzburg, Innsbruck]</td>\n    </tr>\n    <tr>\n      <th>3</th>\n      <td>Belgium</td>\n      <td>[Brussels, Antwerp, Ghent]</td>\n    </tr>\n    <tr>\n      <th>4</th>\n      <td>Brazil</td>\n      <td>[Rio de Janeiro, Sao Paulo, Brasilia, Fortaleza]</td>\n    </tr>\n    <tr>\n      <th>5</th>\n      <td>Canada</td>\n      <td>[Toronto, Vancouver, Montreal, Calgary]</td>\n    </tr>\n    <tr>\n      <th>6</th>\n      <td>China</td>\n      <td>[Beijing, Shanghai, Guangzhou, Hong Kong]</td>\n    </tr>\n    <tr>\n      <th>7</th>\n      <td>Czech Republic</td>\n      <td>[Prague, Brno, Ostrava]</td>\n    </tr>\n    <tr>\n      <th>8</th>\n      <td>Denmark</td>\n      <td>[Copenhagen, Aarhus, Odense]</td>\n    </tr>\n    <tr>\n      <th>9</th>\n      <td>Egypt</td>\n      <td>[Cairo, Alexandria, Luxor]</td>\n    </tr>\n    <tr>\n      <th>10</th>\n      <td>Finland</td>\n      <td>[Helsinki, Tampere]</td>\n    </tr>\n    <tr>\n      <th>11</th>\n      <td>France</td>\n      <td>[Paris, Marseille, Bordeaux, Lyon]</td>\n    </tr>\n    <tr>\n      <th>12</th>\n      <td>Germany</td>\n      <td>[Berlin, Munich, Hamburg, Stuttgart]</td>\n    </tr>\n    <tr>\n      <th>13</th>\n      <td>Greece</td>\n      <td>[Athens, Thessaloniki, Patras]</td>\n    </tr>\n    <tr>\n      <th>14</th>\n      <td>Hungary</td>\n      <td>[Budapest, Debrecen, Szeged]</td>\n    </tr>\n    <tr>\n      <th>15</th>\n      <td>India</td>\n      <td>[Mumbai, Delhi, Bangalore, Chennai]</td>\n    </tr>\n    <tr>\n      <th>16</th>\n      <td>Ireland</td>\n      <td>[Dublin, Cork, Limerick]</td>\n    </tr>\n    <tr>\n      <th>17</th>\n      <td>Italy</td>\n      <td>[Rome, Milan, Venice, Florence]</td>\n    </tr>\n    <tr>\n      <th>18</th>\n      <td>Japan</td>\n      <td>[Tokyo, Osaka, Kyoto, Sapporo]</td>\n    </tr>\n    <tr>\n      <th>19</th>\n      <td>Kenya</td>\n      <td>[Nairobi, Mombasa, Kisumu]</td>\n    </tr>\n    <tr>\n      <th>20</th>\n      <td>Mexico</td>\n      <td>[Mexico City, Guadalajara, Puebla]</td>\n    </tr>\n    <tr>\n      <th>21</th>\n      <td>Netherlands</td>\n      <td>[Amsterdam]</td>\n    </tr>\n    <tr>\n      <th>22</th>\n      <td>Nigeria</td>\n      <td>[Lagos, Abuja, Kano]</td>\n    </tr>\n    <tr>\n      <th>23</th>\n      <td>Norway</td>\n      <td>[Oslo, Bergen, Trondheim]</td>\n    </tr>\n    <tr>\n      <th>24</th>\n      <td>Poland</td>\n      <td>[Warsaw, Krakow, Poznan]</td>\n    </tr>\n    <tr>\n      <th>25</th>\n      <td>Portugal</td>\n      <td>[Lisbon, Porto, Faro]</td>\n    </tr>\n    <tr>\n      <th>26</th>\n      <td>Russia</td>\n      <td>[Moscow, Saint Petersburg, Kazan, Nizhny Novgo...</td>\n    </tr>\n    <tr>\n      <th>27</th>\n      <td>Saudi Arabia</td>\n      <td>[Riyadh, Jeddah, Dammam]</td>\n    </tr>\n    <tr>\n      <th>28</th>\n      <td>South Africa</td>\n      <td>[Johannesburg, Cape Town, Durban]</td>\n    </tr>\n    <tr>\n      <th>29</th>\n      <td>South Korea</td>\n      <td>[Seoul, Busan, Incheon]</td>\n    </tr>\n    <tr>\n      <th>30</th>\n      <td>Spain</td>\n      <td>[Madrid, Barcelona, Seville]</td>\n    </tr>\n    <tr>\n      <th>31</th>\n      <td>Sweden</td>\n      <td>[Stockholm, Gothenburg, Malmo]</td>\n    </tr>\n    <tr>\n      <th>32</th>\n      <td>Switzerland</td>\n      <td>[Zurich, Geneva]</td>\n    </tr>\n    <tr>\n      <th>33</th>\n      <td>Turkey</td>\n      <td>[Istanbul, Ankara, Izmir]</td>\n    </tr>\n    <tr>\n      <th>34</th>\n      <td>UK</td>\n      <td>[London, Manchester, Birmingham, Edinburgh]</td>\n    </tr>\n    <tr>\n      <th>35</th>\n      <td>USA</td>\n      <td>[New York, Los Angeles, Chicago, San Francisco...</td>\n    </tr>\n  </tbody>\n</table>\n</div>"
     },
     "execution_count": 40,
     "metadata": {},
     "output_type": "execute_result"
    }
   ],
   "source": [
    "# Assuming df is your original DataFrame with columns \"country\" and \"city\"\n",
    "sequences = df.groupby('country')['city'].apply(list).reset_index(name='city_sequence')\n",
    "sequences"
   ],
   "metadata": {
    "collapsed": false,
    "ExecuteTime": {
     "end_time": "2023-12-07T15:02:59.375177Z",
     "start_time": "2023-12-07T15:02:59.367321Z"
    }
   },
   "id": "b7d50b29d84e49a1"
  },
  {
   "cell_type": "code",
   "execution_count": 41,
   "outputs": [],
   "source": [
    "from keras.preprocessing.text import Tokenizer\n",
    "from keras.preprocessing.sequence import pad_sequences\n",
    "\n",
    "# Assuming df is your original DataFrame with columns \"country\" and \"city\"\n",
    "sequences = df.groupby('country')['city'].apply(list).reset_index(name='city_sequence')\n",
    "\n",
    "tokenizer = Tokenizer()\n",
    "tokenizer.fit_on_texts(sequences['city_sequence'])\n",
    "total_words = len(tokenizer.word_index) + 1\n",
    "\n",
    "input_sequences = []\n",
    "for sequence in sequences['city_sequence']:\n",
    "    # Tokenize the city names\n",
    "    city_tokens = tokenizer.texts_to_sequences([sequence])[0]\n",
    "    \n",
    "    for i in range(1, len(city_tokens)):\n",
    "        n_gram_sequence = city_tokens[:i + 1]\n",
    "        input_sequences.append(n_gram_sequence)\n",
    "\n",
    "max_sequence_length = max(len(seq) for seq in input_sequences)\n",
    "padded_input_sequences = pad_sequences(input_sequences, maxlen=max_sequence_length, padding='pre')\n",
    "\n",
    "X, y = padded_input_sequences[:, :-1], padded_input_sequences[:, -1]\n",
    "y = keras.utils.to_categorical(y, num_classes=total_words)\n"
   ],
   "metadata": {
    "collapsed": false,
    "ExecuteTime": {
     "end_time": "2023-12-07T15:03:00.090664Z",
     "start_time": "2023-12-07T15:03:00.082595Z"
    }
   },
   "id": "bb5fa1200990f90d"
  },
  {
   "cell_type": "code",
   "execution_count": 42,
   "outputs": [
    {
     "name": "stdout",
     "output_type": "stream",
     "text": [
      "Epoch 1/50\n",
      "3/3 - 1s - loss: 4.7814 - accuracy: 0.0000e+00 - 970ms/epoch - 323ms/step\n",
      "Epoch 2/50\n",
      "3/3 - 0s - loss: 4.7750 - accuracy: 0.0000e+00 - 82ms/epoch - 27ms/step\n",
      "Epoch 3/50\n",
      "3/3 - 0s - loss: 4.7700 - accuracy: 0.0244 - 76ms/epoch - 25ms/step\n",
      "Epoch 4/50\n",
      "3/3 - 0s - loss: 4.7649 - accuracy: 0.0366 - 54ms/epoch - 18ms/step\n",
      "Epoch 5/50\n",
      "3/3 - 0s - loss: 4.7594 - accuracy: 0.0610 - 63ms/epoch - 21ms/step\n",
      "Epoch 6/50\n",
      "3/3 - 0s - loss: 4.7529 - accuracy: 0.0854 - 66ms/epoch - 22ms/step\n",
      "Epoch 7/50\n",
      "3/3 - 0s - loss: 4.7454 - accuracy: 0.0732 - 51ms/epoch - 17ms/step\n",
      "Epoch 8/50\n",
      "3/3 - 0s - loss: 4.7362 - accuracy: 0.0610 - 44ms/epoch - 15ms/step\n",
      "Epoch 9/50\n",
      "3/3 - 0s - loss: 4.7243 - accuracy: 0.0366 - 53ms/epoch - 18ms/step\n",
      "Epoch 10/50\n",
      "3/3 - 0s - loss: 4.7082 - accuracy: 0.0366 - 53ms/epoch - 18ms/step\n",
      "Epoch 11/50\n",
      "3/3 - 0s - loss: 4.6855 - accuracy: 0.0366 - 40ms/epoch - 13ms/step\n",
      "Epoch 12/50\n",
      "3/3 - 0s - loss: 4.6523 - accuracy: 0.0366 - 41ms/epoch - 14ms/step\n",
      "Epoch 13/50\n",
      "3/3 - 0s - loss: 4.6068 - accuracy: 0.0244 - 41ms/epoch - 14ms/step\n",
      "Epoch 14/50\n",
      "3/3 - 0s - loss: 4.5498 - accuracy: 0.0122 - 53ms/epoch - 18ms/step\n",
      "Epoch 15/50\n",
      "3/3 - 0s - loss: 4.4863 - accuracy: 0.0122 - 50ms/epoch - 17ms/step\n",
      "Epoch 16/50\n",
      "3/3 - 0s - loss: 4.4481 - accuracy: 0.0122 - 40ms/epoch - 13ms/step\n",
      "Epoch 17/50\n",
      "3/3 - 0s - loss: 4.4334 - accuracy: 0.0122 - 41ms/epoch - 14ms/step\n",
      "Epoch 18/50\n",
      "3/3 - 0s - loss: 4.4105 - accuracy: 0.0122 - 50ms/epoch - 17ms/step\n",
      "Epoch 19/50\n",
      "3/3 - 0s - loss: 4.3834 - accuracy: 0.0122 - 40ms/epoch - 13ms/step\n",
      "Epoch 20/50\n",
      "3/3 - 0s - loss: 4.3629 - accuracy: 0.0488 - 50ms/epoch - 17ms/step\n",
      "Epoch 21/50\n",
      "3/3 - 0s - loss: 4.3433 - accuracy: 0.0732 - 40ms/epoch - 13ms/step\n",
      "Epoch 22/50\n",
      "3/3 - 0s - loss: 4.3213 - accuracy: 0.0732 - 40ms/epoch - 13ms/step\n",
      "Epoch 23/50\n",
      "3/3 - 0s - loss: 4.3021 - accuracy: 0.0732 - 49ms/epoch - 16ms/step\n",
      "Epoch 24/50\n",
      "3/3 - 0s - loss: 4.2868 - accuracy: 0.0610 - 51ms/epoch - 17ms/step\n",
      "Epoch 25/50\n",
      "3/3 - 0s - loss: 4.2657 - accuracy: 0.0976 - 43ms/epoch - 14ms/step\n",
      "Epoch 26/50\n",
      "3/3 - 0s - loss: 4.2411 - accuracy: 0.1463 - 39ms/epoch - 13ms/step\n",
      "Epoch 27/50\n",
      "3/3 - 0s - loss: 4.2169 - accuracy: 0.1707 - 42ms/epoch - 14ms/step\n",
      "Epoch 28/50\n",
      "3/3 - 0s - loss: 4.1926 - accuracy: 0.1951 - 40ms/epoch - 13ms/step\n",
      "Epoch 29/50\n",
      "3/3 - 0s - loss: 4.1637 - accuracy: 0.1707 - 50ms/epoch - 17ms/step\n",
      "Epoch 30/50\n",
      "3/3 - 0s - loss: 4.1263 - accuracy: 0.2439 - 42ms/epoch - 14ms/step\n",
      "Epoch 31/50\n",
      "3/3 - 0s - loss: 4.0920 - accuracy: 0.2561 - 40ms/epoch - 13ms/step\n",
      "Epoch 32/50\n",
      "3/3 - 0s - loss: 4.0498 - accuracy: 0.3049 - 52ms/epoch - 17ms/step\n",
      "Epoch 33/50\n",
      "3/3 - 0s - loss: 3.9992 - accuracy: 0.3902 - 40ms/epoch - 13ms/step\n",
      "Epoch 34/50\n",
      "3/3 - 0s - loss: 3.9546 - accuracy: 0.3780 - 40ms/epoch - 13ms/step\n",
      "Epoch 35/50\n",
      "3/3 - 0s - loss: 3.8949 - accuracy: 0.5000 - 40ms/epoch - 13ms/step\n",
      "Epoch 36/50\n",
      "3/3 - 0s - loss: 3.8303 - accuracy: 0.4756 - 42ms/epoch - 14ms/step\n",
      "Epoch 37/50\n",
      "3/3 - 0s - loss: 3.7671 - accuracy: 0.4634 - 40ms/epoch - 13ms/step\n",
      "Epoch 38/50\n",
      "3/3 - 0s - loss: 3.6944 - accuracy: 0.5000 - 50ms/epoch - 17ms/step\n",
      "Epoch 39/50\n",
      "3/3 - 0s - loss: 3.6256 - accuracy: 0.5000 - 40ms/epoch - 13ms/step\n",
      "Epoch 40/50\n",
      "3/3 - 0s - loss: 3.5496 - accuracy: 0.5244 - 40ms/epoch - 13ms/step\n",
      "Epoch 41/50\n",
      "3/3 - 0s - loss: 3.4841 - accuracy: 0.5488 - 39ms/epoch - 13ms/step\n",
      "Epoch 42/50\n",
      "3/3 - 0s - loss: 3.4160 - accuracy: 0.5366 - 42ms/epoch - 14ms/step\n",
      "Epoch 43/50\n",
      "3/3 - 0s - loss: 3.3483 - accuracy: 0.4756 - 40ms/epoch - 13ms/step\n",
      "Epoch 44/50\n",
      "3/3 - 0s - loss: 3.2864 - accuracy: 0.4756 - 41ms/epoch - 14ms/step\n",
      "Epoch 45/50\n",
      "3/3 - 0s - loss: 3.2088 - accuracy: 0.5366 - 41ms/epoch - 14ms/step\n",
      "Epoch 46/50\n",
      "3/3 - 0s - loss: 3.1446 - accuracy: 0.6585 - 40ms/epoch - 13ms/step\n",
      "Epoch 47/50\n",
      "3/3 - 0s - loss: 3.0816 - accuracy: 0.6951 - 40ms/epoch - 13ms/step\n",
      "Epoch 48/50\n",
      "3/3 - 0s - loss: 3.0169 - accuracy: 0.6829 - 40ms/epoch - 13ms/step\n",
      "Epoch 49/50\n",
      "3/3 - 0s - loss: 2.9641 - accuracy: 0.6463 - 41ms/epoch - 14ms/step\n",
      "Epoch 50/50\n",
      "3/3 - 0s - loss: 2.9086 - accuracy: 0.6951 - 40ms/epoch - 13ms/step\n"
     ]
    },
    {
     "data": {
      "text/plain": "<keras.src.callbacks.History at 0x295b49120>"
     },
     "execution_count": 42,
     "metadata": {},
     "output_type": "execute_result"
    }
   ],
   "source": [
    "from keras.models import Sequential\n",
    "from keras.layers import Embedding, LSTM, Dense\n",
    "\n",
    "model = Sequential()\n",
    "model.add(Embedding(total_words, 50, input_length=max_sequence_length - 1))\n",
    "model.add(LSTM(100))\n",
    "model.add(Dense(total_words, activation='softmax'))\n",
    "\n",
    "model.compile(loss='categorical_crossentropy', optimizer='adam', metrics=['accuracy'])\n",
    "model.fit(X, y, epochs=50, verbose=2)\n"
   ],
   "metadata": {
    "collapsed": false,
    "ExecuteTime": {
     "end_time": "2023-12-07T15:03:04.066487Z",
     "start_time": "2023-12-07T15:03:00.585315Z"
    }
   },
   "id": "144bc613704b2241"
  },
  {
   "cell_type": "code",
   "execution_count": 43,
   "outputs": [
    {
     "name": "stdout",
     "output_type": "stream",
     "text": [
      "1/1 [==============================] - 0s 157ms/step\n",
      "1/1 [==============================] - 0s 11ms/step\n",
      "1/1 [==============================] - 0s 12ms/step\n",
      "1/1 [==============================] - 0s 11ms/step\n",
      "1/1 [==============================] - 0s 11ms/step\n"
     ]
    }
   ],
   "source": [
    "def generate_city_sequence(model, tokenizer, seed_text, max_sequence_length, num_words_to_generate):\n",
    "    result = seed_text\n",
    "    for _ in range(num_words_to_generate):\n",
    "        encoded = tokenizer.texts_to_sequences([result])[0]\n",
    "        encoded = pad_sequences([encoded], maxlen=max_sequence_length - 1, padding='pre')\n",
    "        predicted_word_index = np.argmax(model.predict(encoded), axis=-1)\n",
    "        predicted_word = tokenizer.index_word[predicted_word_index[0]]\n",
    "        result += ' ' + predicted_word\n",
    "    return result\n",
    "\n",
    "# Example usage\n",
    "seed_country = 'Country_X'\n",
    "generated_sequence = generate_city_sequence(model, tokenizer, seed_country, max_sequence_length, num_words_to_generate=5)\n"
   ],
   "metadata": {
    "collapsed": false,
    "ExecuteTime": {
     "end_time": "2023-12-07T15:03:06.273767Z",
     "start_time": "2023-12-07T15:03:05.973103Z"
    }
   },
   "id": "8b77d23d84f37a38"
  },
  {
   "cell_type": "code",
   "execution_count": 44,
   "outputs": [
    {
     "data": {
      "text/plain": "'Country_X tampere tampere birmingham edinburgh edinburgh'"
     },
     "execution_count": 44,
     "metadata": {},
     "output_type": "execute_result"
    }
   ],
   "source": [
    "generated_sequence"
   ],
   "metadata": {
    "collapsed": false,
    "ExecuteTime": {
     "end_time": "2023-12-07T15:03:07.500123Z",
     "start_time": "2023-12-07T15:03:07.494480Z"
    }
   },
   "id": "ea83ae880555d0cf"
  },
  {
   "cell_type": "code",
   "execution_count": 45,
   "outputs": [
    {
     "name": "stdout",
     "output_type": "stream",
     "text": [
      "1/1 [==============================] - 0s 19ms/step\n",
      "1/1 [==============================] - 0s 12ms/step\n",
      "1/1 [==============================] - 0s 9ms/step\n",
      "1/1 [==============================] - 0s 9ms/step\n",
      "1/1 [==============================] - 0s 9ms/step\n",
      "1/1 [==============================] - 0s 10ms/step\n",
      "1/1 [==============================] - 0s 9ms/step\n",
      "1/1 [==============================] - 0s 9ms/step\n",
      "1/1 [==============================] - 0s 9ms/step\n",
      "1/1 [==============================] - 0s 11ms/step\n",
      "1/1 [==============================] - 0s 10ms/step\n",
      "1/1 [==============================] - 0s 10ms/step\n",
      "1/1 [==============================] - 0s 9ms/step\n",
      "1/1 [==============================] - 0s 9ms/step\n",
      "1/1 [==============================] - 0s 9ms/step\n",
      "1/1 [==============================] - 0s 12ms/step\n",
      "1/1 [==============================] - 0s 9ms/step\n",
      "1/1 [==============================] - 0s 9ms/step\n",
      "1/1 [==============================] - 0s 9ms/step\n",
      "1/1 [==============================] - 0s 9ms/step\n",
      "1/1 [==============================] - 0s 9ms/step\n",
      "1/1 [==============================] - 0s 10ms/step\n",
      "1/1 [==============================] - 0s 9ms/step\n",
      "1/1 [==============================] - 0s 9ms/step\n",
      "1/1 [==============================] - 0s 9ms/step\n",
      "1/1 [==============================] - 0s 9ms/step\n",
      "1/1 [==============================] - 0s 9ms/step\n",
      "1/1 [==============================] - 0s 9ms/step\n",
      "1/1 [==============================] - 0s 9ms/step\n",
      "1/1 [==============================] - 0s 9ms/step\n",
      "1/1 [==============================] - 0s 10ms/step\n",
      "1/1 [==============================] - 0s 9ms/step\n",
      "1/1 [==============================] - 0s 9ms/step\n",
      "1/1 [==============================] - 0s 9ms/step\n",
      "1/1 [==============================] - 0s 9ms/step\n",
      "1/1 [==============================] - 0s 9ms/step\n",
      "1/1 [==============================] - 0s 9ms/step\n",
      "1/1 [==============================] - 0s 9ms/step\n",
      "1/1 [==============================] - 0s 9ms/step\n",
      "1/1 [==============================] - 0s 9ms/step\n",
      "1/1 [==============================] - 0s 9ms/step\n",
      "1/1 [==============================] - 0s 9ms/step\n",
      "1/1 [==============================] - 0s 9ms/step\n",
      "1/1 [==============================] - 0s 9ms/step\n",
      "1/1 [==============================] - 0s 9ms/step\n",
      "1/1 [==============================] - 0s 9ms/step\n",
      "1/1 [==============================] - 0s 9ms/step\n",
      "1/1 [==============================] - 0s 9ms/step\n",
      "1/1 [==============================] - 0s 9ms/step\n",
      "1/1 [==============================] - 0s 9ms/step\n",
      "1/1 [==============================] - 0s 9ms/step\n",
      "1/1 [==============================] - 0s 9ms/step\n",
      "1/1 [==============================] - 0s 10ms/step\n",
      "1/1 [==============================] - 0s 9ms/step\n",
      "1/1 [==============================] - 0s 9ms/step\n",
      "1/1 [==============================] - 0s 9ms/step\n",
      "1/1 [==============================] - 0s 9ms/step\n",
      "1/1 [==============================] - 0s 9ms/step\n",
      "1/1 [==============================] - 0s 9ms/step\n",
      "1/1 [==============================] - 0s 9ms/step\n",
      "1/1 [==============================] - 0s 9ms/step\n",
      "1/1 [==============================] - 0s 9ms/step\n",
      "1/1 [==============================] - 0s 9ms/step\n",
      "1/1 [==============================] - 0s 9ms/step\n",
      "1/1 [==============================] - 0s 9ms/step\n",
      "1/1 [==============================] - 0s 10ms/step\n",
      "1/1 [==============================] - 0s 9ms/step\n",
      "1/1 [==============================] - 0s 9ms/step\n",
      "1/1 [==============================] - 0s 9ms/step\n",
      "1/1 [==============================] - 0s 9ms/step\n",
      "1/1 [==============================] - 0s 9ms/step\n",
      "1/1 [==============================] - 0s 8ms/step\n",
      "1/1 [==============================] - 0s 12ms/step\n",
      "1/1 [==============================] - 0s 9ms/step\n",
      "1/1 [==============================] - 0s 9ms/step\n",
      "1/1 [==============================] - 0s 9ms/step\n",
      "1/1 [==============================] - 0s 9ms/step\n",
      "1/1 [==============================] - 0s 9ms/step\n",
      "1/1 [==============================] - 0s 9ms/step\n",
      "1/1 [==============================] - 0s 9ms/step\n",
      "1/1 [==============================] - 0s 9ms/step\n",
      "1/1 [==============================] - 0s 9ms/step\n",
      "1/1 [==============================] - 0s 9ms/step\n",
      "1/1 [==============================] - 0s 9ms/step\n",
      "1/1 [==============================] - 0s 9ms/step\n",
      "1/1 [==============================] - 0s 9ms/step\n",
      "1/1 [==============================] - 0s 9ms/step\n",
      "1/1 [==============================] - 0s 9ms/step\n",
      "1/1 [==============================] - 0s 9ms/step\n",
      "1/1 [==============================] - 0s 9ms/step\n",
      "1/1 [==============================] - 0s 9ms/step\n",
      "1/1 [==============================] - 0s 9ms/step\n",
      "1/1 [==============================] - 0s 9ms/step\n",
      "1/1 [==============================] - 0s 9ms/step\n",
      "1/1 [==============================] - 0s 9ms/step\n",
      "1/1 [==============================] - 0s 9ms/step\n",
      "1/1 [==============================] - 0s 9ms/step\n",
      "1/1 [==============================] - 0s 9ms/step\n",
      "1/1 [==============================] - 0s 9ms/step\n",
      "1/1 [==============================] - 0s 9ms/step\n",
      "1/1 [==============================] - 0s 9ms/step\n",
      "1/1 [==============================] - 0s 9ms/step\n",
      "1/1 [==============================] - 0s 11ms/step\n",
      "1/1 [==============================] - 0s 10ms/step\n",
      "1/1 [==============================] - 0s 10ms/step\n",
      "1/1 [==============================] - 0s 9ms/step\n",
      "1/1 [==============================] - 0s 10ms/step\n",
      "1/1 [==============================] - 0s 9ms/step\n",
      "1/1 [==============================] - 0s 10ms/step\n",
      "1/1 [==============================] - 0s 9ms/step\n",
      "1/1 [==============================] - 0s 10ms/step\n",
      "1/1 [==============================] - 0s 9ms/step\n",
      "1/1 [==============================] - 0s 9ms/step\n",
      "1/1 [==============================] - 0s 9ms/step\n",
      "1/1 [==============================] - 0s 9ms/step\n",
      "1/1 [==============================] - 0s 8ms/step\n",
      "1/1 [==============================] - 0s 9ms/step\n",
      "1/1 [==============================] - 0s 9ms/step\n",
      "1/1 [==============================] - 0s 9ms/step\n",
      "1/1 [==============================] - 0s 9ms/step\n",
      "1/1 [==============================] - 0s 9ms/step\n",
      "1/1 [==============================] - 0s 9ms/step\n",
      "1/1 [==============================] - 0s 9ms/step\n",
      "1/1 [==============================] - 0s 9ms/step\n",
      "1/1 [==============================] - 0s 9ms/step\n",
      "1/1 [==============================] - 0s 9ms/step\n",
      "1/1 [==============================] - 0s 9ms/step\n",
      "1/1 [==============================] - 0s 9ms/step\n",
      "1/1 [==============================] - 0s 9ms/step\n",
      "1/1 [==============================] - 0s 9ms/step\n",
      "1/1 [==============================] - 0s 10ms/step\n",
      "1/1 [==============================] - 0s 9ms/step\n",
      "1/1 [==============================] - 0s 9ms/step\n",
      "1/1 [==============================] - 0s 9ms/step\n",
      "1/1 [==============================] - 0s 8ms/step\n",
      "1/1 [==============================] - 0s 9ms/step\n",
      "1/1 [==============================] - 0s 9ms/step\n",
      "1/1 [==============================] - 0s 9ms/step\n",
      "1/1 [==============================] - 0s 9ms/step\n",
      "1/1 [==============================] - 0s 9ms/step\n",
      "1/1 [==============================] - 0s 9ms/step\n",
      "1/1 [==============================] - 0s 9ms/step\n",
      "1/1 [==============================] - 0s 9ms/step\n",
      "1/1 [==============================] - 0s 9ms/step\n",
      "1/1 [==============================] - 0s 10ms/step\n",
      "1/1 [==============================] - 0s 9ms/step\n",
      "1/1 [==============================] - 0s 9ms/step\n",
      "1/1 [==============================] - 0s 9ms/step\n",
      "1/1 [==============================] - 0s 9ms/step\n",
      "1/1 [==============================] - 0s 9ms/step\n",
      "1/1 [==============================] - 0s 9ms/step\n",
      "1/1 [==============================] - 0s 9ms/step\n",
      "1/1 [==============================] - 0s 10ms/step\n",
      "1/1 [==============================] - 0s 9ms/step\n",
      "1/1 [==============================] - 0s 9ms/step\n",
      "1/1 [==============================] - 0s 9ms/step\n",
      "1/1 [==============================] - 0s 9ms/step\n",
      "1/1 [==============================] - 0s 9ms/step\n",
      "1/1 [==============================] - 0s 9ms/step\n",
      "1/1 [==============================] - 0s 9ms/step\n",
      "1/1 [==============================] - 0s 9ms/step\n",
      "1/1 [==============================] - 0s 9ms/step\n",
      "1/1 [==============================] - 0s 9ms/step\n",
      "1/1 [==============================] - 0s 9ms/step\n",
      "1/1 [==============================] - 0s 9ms/step\n",
      "1/1 [==============================] - 0s 9ms/step\n",
      "1/1 [==============================] - 0s 9ms/step\n",
      "1/1 [==============================] - 0s 10ms/step\n",
      "1/1 [==============================] - 0s 9ms/step\n",
      "1/1 [==============================] - 0s 9ms/step\n",
      "1/1 [==============================] - 0s 9ms/step\n",
      "1/1 [==============================] - 0s 9ms/step\n",
      "1/1 [==============================] - 0s 9ms/step\n",
      "1/1 [==============================] - 0s 9ms/step\n",
      "1/1 [==============================] - 0s 10ms/step\n",
      "1/1 [==============================] - 0s 9ms/step\n",
      "1/1 [==============================] - 0s 10ms/step\n",
      "1/1 [==============================] - 0s 9ms/step\n",
      "1/1 [==============================] - 0s 9ms/step\n",
      "1/1 [==============================] - 0s 8ms/step\n",
      "      country        city\n",
      "0   Argentina     tampere\n",
      "1   Argentina     tampere\n",
      "2   Argentina  birmingham\n",
      "3   Argentina   edinburgh\n",
      "4   Argentina   edinburgh\n",
      "..        ...         ...\n",
      "0         USA     tampere\n",
      "1         USA     tampere\n",
      "2         USA  birmingham\n",
      "3         USA   edinburgh\n",
      "4         USA   edinburgh\n",
      "\n",
      "[184 rows x 2 columns]\n"
     ]
    }
   ],
   "source": [
    "augmented_df = pd.DataFrame(columns=['country', 'city'])\n",
    "\n",
    "for country in sequences['country']:\n",
    "    generated_sequence = generate_city_sequence(model, tokenizer, country, max_sequence_length, num_words_to_generate=5)\n",
    "    generated_cities = generated_sequence.split()[1:]  # Exclude the initial seed\n",
    "    augmented_df = pd.concat([augmented_df, pd.DataFrame({'country': [country] * len(generated_cities), 'city': generated_cities})])\n",
    "\n",
    "# Print the augmented DataFrame\n",
    "print(augmented_df)\n"
   ],
   "metadata": {
    "collapsed": false,
    "ExecuteTime": {
     "end_time": "2023-12-07T15:03:13.749394Z",
     "start_time": "2023-12-07T15:03:09.524242Z"
    }
   },
   "id": "919077d6f8ce9d"
  },
  {
   "cell_type": "code",
   "execution_count": 46,
   "outputs": [
    {
     "data": {
      "text/plain": "      country        city\n0   Argentina     tampere\n1   Argentina     tampere\n2   Argentina  birmingham\n3   Argentina   edinburgh\n4   Argentina   edinburgh\n..        ...         ...\n0         USA     tampere\n1         USA     tampere\n2         USA  birmingham\n3         USA   edinburgh\n4         USA   edinburgh\n\n[184 rows x 2 columns]",
      "text/html": "<div>\n<style scoped>\n    .dataframe tbody tr th:only-of-type {\n        vertical-align: middle;\n    }\n\n    .dataframe tbody tr th {\n        vertical-align: top;\n    }\n\n    .dataframe thead th {\n        text-align: right;\n    }\n</style>\n<table border=\"1\" class=\"dataframe\">\n  <thead>\n    <tr style=\"text-align: right;\">\n      <th></th>\n      <th>country</th>\n      <th>city</th>\n    </tr>\n  </thead>\n  <tbody>\n    <tr>\n      <th>0</th>\n      <td>Argentina</td>\n      <td>tampere</td>\n    </tr>\n    <tr>\n      <th>1</th>\n      <td>Argentina</td>\n      <td>tampere</td>\n    </tr>\n    <tr>\n      <th>2</th>\n      <td>Argentina</td>\n      <td>birmingham</td>\n    </tr>\n    <tr>\n      <th>3</th>\n      <td>Argentina</td>\n      <td>edinburgh</td>\n    </tr>\n    <tr>\n      <th>4</th>\n      <td>Argentina</td>\n      <td>edinburgh</td>\n    </tr>\n    <tr>\n      <th>...</th>\n      <td>...</td>\n      <td>...</td>\n    </tr>\n    <tr>\n      <th>0</th>\n      <td>USA</td>\n      <td>tampere</td>\n    </tr>\n    <tr>\n      <th>1</th>\n      <td>USA</td>\n      <td>tampere</td>\n    </tr>\n    <tr>\n      <th>2</th>\n      <td>USA</td>\n      <td>birmingham</td>\n    </tr>\n    <tr>\n      <th>3</th>\n      <td>USA</td>\n      <td>edinburgh</td>\n    </tr>\n    <tr>\n      <th>4</th>\n      <td>USA</td>\n      <td>edinburgh</td>\n    </tr>\n  </tbody>\n</table>\n<p>184 rows × 2 columns</p>\n</div>"
     },
     "execution_count": 46,
     "metadata": {},
     "output_type": "execute_result"
    }
   ],
   "source": [
    "augmented_df"
   ],
   "metadata": {
    "collapsed": false,
    "ExecuteTime": {
     "end_time": "2023-12-07T15:03:24.929108Z",
     "start_time": "2023-12-07T15:03:24.925963Z"
    }
   },
   "id": "9f580223c1c46b38"
  },
  {
   "cell_type": "code",
   "execution_count": null,
   "outputs": [],
   "source": [],
   "metadata": {
    "collapsed": false
   },
   "id": "450a035c324366fa"
  }
 ],
 "metadata": {
  "kernelspec": {
   "display_name": "Python 3",
   "language": "python",
   "name": "python3"
  },
  "language_info": {
   "codemirror_mode": {
    "name": "ipython",
    "version": 2
   },
   "file_extension": ".py",
   "mimetype": "text/x-python",
   "name": "python",
   "nbconvert_exporter": "python",
   "pygments_lexer": "ipython2",
   "version": "2.7.6"
  }
 },
 "nbformat": 4,
 "nbformat_minor": 5
}
