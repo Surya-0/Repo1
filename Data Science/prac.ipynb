{
 "cells": [
  {
   "cell_type": "raw",
   "source": [
    "import pandas as pd"
   ],
   "metadata": {
    "collapsed": false
   },
   "id": "f0586bfa3dc0b9de"
  },
  {
   "cell_type": "code",
   "execution_count": 1,
   "outputs": [],
   "source": [
    "import pandas as pd"
   ],
   "metadata": {
    "collapsed": false,
    "ExecuteTime": {
     "end_time": "2023-11-15T19:33:01.791608Z",
     "start_time": "2023-11-15T19:33:01.153202Z"
    }
   },
   "id": "53c551a93e6807d0"
  },
  {
   "cell_type": "code",
   "execution_count": 2,
   "outputs": [],
   "source": [
    "df = pd.read_csv('/Users/surya/Downloads/Flight-data.csv')"
   ],
   "metadata": {
    "collapsed": false,
    "ExecuteTime": {
     "end_time": "2023-11-15T19:33:21.953944Z",
     "start_time": "2023-11-15T19:33:21.938135Z"
    }
   },
   "id": "65a53fa6a4527372"
  },
  {
   "cell_type": "code",
   "execution_count": 3,
   "outputs": [
    {
     "data": {
      "text/plain": "      CRS_DEP_TIME CARRIER  DEP_TIME DEST  DISTANCE     FL_DATE  FL_NUM  \\\n0              823      DH       821  JFK       228  01/05/2004    7731   \n1              875      US       990  EWR       199   1/27/2004    2417   \n2             1456      DH      1720  LGA       227  01/09/2004    7424   \n3             2018      DL      1757  JFK       213   1/23/2004    7585   \n4              935      UA       885  LGA       214  01/06/2004    2394   \n...            ...     ...       ...  ...       ...         ...     ...   \n4995           718      RU      1626  LGA       214   1/28/2004    2126   \n4996          1259      DL       928  LGA       214   1/15/2004    7777   \n4997          1545      US      1794  LGA       214   1/13/2004    2052   \n4998          1500      DL      1085  LGA       213   1/16/2004    2571   \n4999           860      US      1580  JFK       213   1/30/2004    2036   \n\n     ORIGIN  Weather  DAY_WEEK  DAY_OF_MONTH TAIL_NUM Flight Status  \n0       IAD        0         2             4   N730MQ        ontime  \n1       DCA        0         5             4   N16632        ontime  \n2       IAD        0         3             9   N11641        ontime  \n3       IAD        0         5             7   N242DL        ontime  \n4       DCA        0         5             8   N964DL        ontime  \n...     ...      ...       ...           ...      ...           ...  \n4995    DCA        0         3            18   N426FJ        ontime  \n4996    IAD        0         5            20   N674BR        ontime  \n4997    DCA        0         3             8   N973CA        ontime  \n4998    DCA        0         5            18   N13913        ontime  \n4999    DCA        0         5            23   N13970        ontime  \n\n[5000 rows x 13 columns]",
      "text/html": "<div>\n<style scoped>\n    .dataframe tbody tr th:only-of-type {\n        vertical-align: middle;\n    }\n\n    .dataframe tbody tr th {\n        vertical-align: top;\n    }\n\n    .dataframe thead th {\n        text-align: right;\n    }\n</style>\n<table border=\"1\" class=\"dataframe\">\n  <thead>\n    <tr style=\"text-align: right;\">\n      <th></th>\n      <th>CRS_DEP_TIME</th>\n      <th>CARRIER</th>\n      <th>DEP_TIME</th>\n      <th>DEST</th>\n      <th>DISTANCE</th>\n      <th>FL_DATE</th>\n      <th>FL_NUM</th>\n      <th>ORIGIN</th>\n      <th>Weather</th>\n      <th>DAY_WEEK</th>\n      <th>DAY_OF_MONTH</th>\n      <th>TAIL_NUM</th>\n      <th>Flight Status</th>\n    </tr>\n  </thead>\n  <tbody>\n    <tr>\n      <th>0</th>\n      <td>823</td>\n      <td>DH</td>\n      <td>821</td>\n      <td>JFK</td>\n      <td>228</td>\n      <td>01/05/2004</td>\n      <td>7731</td>\n      <td>IAD</td>\n      <td>0</td>\n      <td>2</td>\n      <td>4</td>\n      <td>N730MQ</td>\n      <td>ontime</td>\n    </tr>\n    <tr>\n      <th>1</th>\n      <td>875</td>\n      <td>US</td>\n      <td>990</td>\n      <td>EWR</td>\n      <td>199</td>\n      <td>1/27/2004</td>\n      <td>2417</td>\n      <td>DCA</td>\n      <td>0</td>\n      <td>5</td>\n      <td>4</td>\n      <td>N16632</td>\n      <td>ontime</td>\n    </tr>\n    <tr>\n      <th>2</th>\n      <td>1456</td>\n      <td>DH</td>\n      <td>1720</td>\n      <td>LGA</td>\n      <td>227</td>\n      <td>01/09/2004</td>\n      <td>7424</td>\n      <td>IAD</td>\n      <td>0</td>\n      <td>3</td>\n      <td>9</td>\n      <td>N11641</td>\n      <td>ontime</td>\n    </tr>\n    <tr>\n      <th>3</th>\n      <td>2018</td>\n      <td>DL</td>\n      <td>1757</td>\n      <td>JFK</td>\n      <td>213</td>\n      <td>1/23/2004</td>\n      <td>7585</td>\n      <td>IAD</td>\n      <td>0</td>\n      <td>5</td>\n      <td>7</td>\n      <td>N242DL</td>\n      <td>ontime</td>\n    </tr>\n    <tr>\n      <th>4</th>\n      <td>935</td>\n      <td>UA</td>\n      <td>885</td>\n      <td>LGA</td>\n      <td>214</td>\n      <td>01/06/2004</td>\n      <td>2394</td>\n      <td>DCA</td>\n      <td>0</td>\n      <td>5</td>\n      <td>8</td>\n      <td>N964DL</td>\n      <td>ontime</td>\n    </tr>\n    <tr>\n      <th>...</th>\n      <td>...</td>\n      <td>...</td>\n      <td>...</td>\n      <td>...</td>\n      <td>...</td>\n      <td>...</td>\n      <td>...</td>\n      <td>...</td>\n      <td>...</td>\n      <td>...</td>\n      <td>...</td>\n      <td>...</td>\n      <td>...</td>\n    </tr>\n    <tr>\n      <th>4995</th>\n      <td>718</td>\n      <td>RU</td>\n      <td>1626</td>\n      <td>LGA</td>\n      <td>214</td>\n      <td>1/28/2004</td>\n      <td>2126</td>\n      <td>DCA</td>\n      <td>0</td>\n      <td>3</td>\n      <td>18</td>\n      <td>N426FJ</td>\n      <td>ontime</td>\n    </tr>\n    <tr>\n      <th>4996</th>\n      <td>1259</td>\n      <td>DL</td>\n      <td>928</td>\n      <td>LGA</td>\n      <td>214</td>\n      <td>1/15/2004</td>\n      <td>7777</td>\n      <td>IAD</td>\n      <td>0</td>\n      <td>5</td>\n      <td>20</td>\n      <td>N674BR</td>\n      <td>ontime</td>\n    </tr>\n    <tr>\n      <th>4997</th>\n      <td>1545</td>\n      <td>US</td>\n      <td>1794</td>\n      <td>LGA</td>\n      <td>214</td>\n      <td>1/13/2004</td>\n      <td>2052</td>\n      <td>DCA</td>\n      <td>0</td>\n      <td>3</td>\n      <td>8</td>\n      <td>N973CA</td>\n      <td>ontime</td>\n    </tr>\n    <tr>\n      <th>4998</th>\n      <td>1500</td>\n      <td>DL</td>\n      <td>1085</td>\n      <td>LGA</td>\n      <td>213</td>\n      <td>1/16/2004</td>\n      <td>2571</td>\n      <td>DCA</td>\n      <td>0</td>\n      <td>5</td>\n      <td>18</td>\n      <td>N13913</td>\n      <td>ontime</td>\n    </tr>\n    <tr>\n      <th>4999</th>\n      <td>860</td>\n      <td>US</td>\n      <td>1580</td>\n      <td>JFK</td>\n      <td>213</td>\n      <td>1/30/2004</td>\n      <td>2036</td>\n      <td>DCA</td>\n      <td>0</td>\n      <td>5</td>\n      <td>23</td>\n      <td>N13970</td>\n      <td>ontime</td>\n    </tr>\n  </tbody>\n</table>\n<p>5000 rows × 13 columns</p>\n</div>"
     },
     "execution_count": 3,
     "metadata": {},
     "output_type": "execute_result"
    }
   ],
   "source": [
    "df"
   ],
   "metadata": {
    "collapsed": false,
    "ExecuteTime": {
     "end_time": "2023-11-15T19:33:23.152167Z",
     "start_time": "2023-11-15T19:33:23.146195Z"
    }
   },
   "id": "b5cc591362333aba"
  },
  {
   "cell_type": "code",
   "execution_count": 4,
   "outputs": [
    {
     "data": {
      "text/plain": "      CRS_DEP_TIME CARRIER  DEP_TIME DEST  DISTANCE     FL_DATE  FL_NUM  \\\n0             1455      OH      1455  JFK       184  01/01/2004    5935   \n1             1640      DH      1640  JFK       213  01/01/2004    6155   \n2             1245      DH      1245  LGA       229  01/01/2004    7208   \n3             1715      DH      1709  LGA       229  01/01/2004    7215   \n4             1039      DH      1035  LGA       229  01/01/2004    7792   \n...            ...     ...       ...  ...       ...         ...     ...   \n2196           645      RU       644  EWR       199   1/31/2004    2761   \n2197          1700      RU      1653  EWR       213   1/31/2004    2497   \n2198          1600      RU      1558  EWR       199   1/31/2004    2361   \n2199          1359      RU      1403  EWR       199   1/31/2004    2216   \n2200          1730      RU      1736  EWR       199   1/31/2004    2097   \n\n     ORIGIN  Weather  DAY_WEEK  DAY_OF_MONTH TAIL_NUM Flight Status  \n0       BWI        0         4             1   N940CA        ontime  \n1       DCA        0         4             1   N405FJ        ontime  \n2       IAD        0         4             1   N695BR        ontime  \n3       IAD        0         4             1   N662BR        ontime  \n4       IAD        0         4             1   N698BR        ontime  \n...     ...      ...       ...           ...      ...           ...  \n2196    DCA        0         6            31   N15555        ontime  \n2197    IAD        0         6            31   N16976        ontime  \n2198    DCA        0         6            31   N14902        ontime  \n2199    DCA        0         6            31   N16961        ontime  \n2200    DCA        0         6            31   N13994        ontime  \n\n[2201 rows x 13 columns]",
      "text/html": "<div>\n<style scoped>\n    .dataframe tbody tr th:only-of-type {\n        vertical-align: middle;\n    }\n\n    .dataframe tbody tr th {\n        vertical-align: top;\n    }\n\n    .dataframe thead th {\n        text-align: right;\n    }\n</style>\n<table border=\"1\" class=\"dataframe\">\n  <thead>\n    <tr style=\"text-align: right;\">\n      <th></th>\n      <th>CRS_DEP_TIME</th>\n      <th>CARRIER</th>\n      <th>DEP_TIME</th>\n      <th>DEST</th>\n      <th>DISTANCE</th>\n      <th>FL_DATE</th>\n      <th>FL_NUM</th>\n      <th>ORIGIN</th>\n      <th>Weather</th>\n      <th>DAY_WEEK</th>\n      <th>DAY_OF_MONTH</th>\n      <th>TAIL_NUM</th>\n      <th>Flight Status</th>\n    </tr>\n  </thead>\n  <tbody>\n    <tr>\n      <th>0</th>\n      <td>1455</td>\n      <td>OH</td>\n      <td>1455</td>\n      <td>JFK</td>\n      <td>184</td>\n      <td>01/01/2004</td>\n      <td>5935</td>\n      <td>BWI</td>\n      <td>0</td>\n      <td>4</td>\n      <td>1</td>\n      <td>N940CA</td>\n      <td>ontime</td>\n    </tr>\n    <tr>\n      <th>1</th>\n      <td>1640</td>\n      <td>DH</td>\n      <td>1640</td>\n      <td>JFK</td>\n      <td>213</td>\n      <td>01/01/2004</td>\n      <td>6155</td>\n      <td>DCA</td>\n      <td>0</td>\n      <td>4</td>\n      <td>1</td>\n      <td>N405FJ</td>\n      <td>ontime</td>\n    </tr>\n    <tr>\n      <th>2</th>\n      <td>1245</td>\n      <td>DH</td>\n      <td>1245</td>\n      <td>LGA</td>\n      <td>229</td>\n      <td>01/01/2004</td>\n      <td>7208</td>\n      <td>IAD</td>\n      <td>0</td>\n      <td>4</td>\n      <td>1</td>\n      <td>N695BR</td>\n      <td>ontime</td>\n    </tr>\n    <tr>\n      <th>3</th>\n      <td>1715</td>\n      <td>DH</td>\n      <td>1709</td>\n      <td>LGA</td>\n      <td>229</td>\n      <td>01/01/2004</td>\n      <td>7215</td>\n      <td>IAD</td>\n      <td>0</td>\n      <td>4</td>\n      <td>1</td>\n      <td>N662BR</td>\n      <td>ontime</td>\n    </tr>\n    <tr>\n      <th>4</th>\n      <td>1039</td>\n      <td>DH</td>\n      <td>1035</td>\n      <td>LGA</td>\n      <td>229</td>\n      <td>01/01/2004</td>\n      <td>7792</td>\n      <td>IAD</td>\n      <td>0</td>\n      <td>4</td>\n      <td>1</td>\n      <td>N698BR</td>\n      <td>ontime</td>\n    </tr>\n    <tr>\n      <th>...</th>\n      <td>...</td>\n      <td>...</td>\n      <td>...</td>\n      <td>...</td>\n      <td>...</td>\n      <td>...</td>\n      <td>...</td>\n      <td>...</td>\n      <td>...</td>\n      <td>...</td>\n      <td>...</td>\n      <td>...</td>\n      <td>...</td>\n    </tr>\n    <tr>\n      <th>2196</th>\n      <td>645</td>\n      <td>RU</td>\n      <td>644</td>\n      <td>EWR</td>\n      <td>199</td>\n      <td>1/31/2004</td>\n      <td>2761</td>\n      <td>DCA</td>\n      <td>0</td>\n      <td>6</td>\n      <td>31</td>\n      <td>N15555</td>\n      <td>ontime</td>\n    </tr>\n    <tr>\n      <th>2197</th>\n      <td>1700</td>\n      <td>RU</td>\n      <td>1653</td>\n      <td>EWR</td>\n      <td>213</td>\n      <td>1/31/2004</td>\n      <td>2497</td>\n      <td>IAD</td>\n      <td>0</td>\n      <td>6</td>\n      <td>31</td>\n      <td>N16976</td>\n      <td>ontime</td>\n    </tr>\n    <tr>\n      <th>2198</th>\n      <td>1600</td>\n      <td>RU</td>\n      <td>1558</td>\n      <td>EWR</td>\n      <td>199</td>\n      <td>1/31/2004</td>\n      <td>2361</td>\n      <td>DCA</td>\n      <td>0</td>\n      <td>6</td>\n      <td>31</td>\n      <td>N14902</td>\n      <td>ontime</td>\n    </tr>\n    <tr>\n      <th>2199</th>\n      <td>1359</td>\n      <td>RU</td>\n      <td>1403</td>\n      <td>EWR</td>\n      <td>199</td>\n      <td>1/31/2004</td>\n      <td>2216</td>\n      <td>DCA</td>\n      <td>0</td>\n      <td>6</td>\n      <td>31</td>\n      <td>N16961</td>\n      <td>ontime</td>\n    </tr>\n    <tr>\n      <th>2200</th>\n      <td>1730</td>\n      <td>RU</td>\n      <td>1736</td>\n      <td>EWR</td>\n      <td>199</td>\n      <td>1/31/2004</td>\n      <td>2097</td>\n      <td>DCA</td>\n      <td>0</td>\n      <td>6</td>\n      <td>31</td>\n      <td>N13994</td>\n      <td>ontime</td>\n    </tr>\n  </tbody>\n</table>\n<p>2201 rows × 13 columns</p>\n</div>"
     },
     "execution_count": 4,
     "metadata": {},
     "output_type": "execute_result"
    }
   ],
   "source": [
    "gf = pd.read_csv('FlightDelays.csv')\n",
    "gf"
   ],
   "metadata": {
    "collapsed": false,
    "ExecuteTime": {
     "end_time": "2023-11-15T19:33:49.166733Z",
     "start_time": "2023-11-15T19:33:49.138161Z"
    }
   },
   "id": "d9a12b36f3443ff5"
  },
  {
   "cell_type": "code",
   "execution_count": null,
   "outputs": [],
   "source": [],
   "metadata": {
    "collapsed": false
   },
   "id": "d8beffb795ede4be"
  }
 ],
 "metadata": {
  "kernelspec": {
   "display_name": "Python 3",
   "language": "python",
   "name": "python3"
  },
  "language_info": {
   "codemirror_mode": {
    "name": "ipython",
    "version": 2
   },
   "file_extension": ".py",
   "mimetype": "text/x-python",
   "name": "python",
   "nbconvert_exporter": "python",
   "pygments_lexer": "ipython2",
   "version": "2.7.6"
  }
 },
 "nbformat": 4,
 "nbformat_minor": 5
}
