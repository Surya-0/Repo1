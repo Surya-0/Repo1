{
 "cells": [
  {
   "cell_type": "code",
   "execution_count": 4,
   "id": "initial_id",
   "metadata": {
    "collapsed": true,
    "ExecuteTime": {
     "end_time": "2024-03-29T12:59:39.905109Z",
     "start_time": "2024-03-29T12:59:39.887538Z"
    }
   },
   "outputs": [],
   "source": [
    "import numpy as np\n",
    "import pandas as pd\n",
    "import matplotlib.pyplot as plt"
   ]
  },
  {
   "cell_type": "code",
   "execution_count": 2,
   "outputs": [
    {
     "data": {
      "text/plain": "                    Date  SOS008L02P  SOS005L04P  SOS003L04P  SOS002L09P  \\\n0    2023-01-01 00:00:00       220.0      2598.0       287.0      2080.0   \n1    2023-01-02 00:00:00       485.0      4982.0      1048.0      4640.0   \n2    2023-01-03 00:00:00       520.0     11175.0       719.0     10801.0   \n3    2023-01-04 00:00:00       305.0      8286.0      1016.0      9004.0   \n4    2023-01-05 00:00:00       320.0      9787.0      1120.0      8875.0   \n..                   ...         ...         ...         ...         ...   \n216  2023-08-05 00:00:00       125.0       589.0       263.0      1391.0   \n217  2023-08-06 00:00:00       460.0      4229.0       310.0      1255.0   \n218  2023-08-07 00:00:00        35.0      3030.0       265.0      1825.0   \n219  2023-08-08 00:00:00        10.0      1240.0       140.0       768.0   \n220  2023-08-09 00:00:00         0.0         0.0         0.0         0.0   \n\n     SOS001L12P  SOS500M24P  SOS250M48P  SOP001L12P  POV005L04P  ...  \\\n0        2748.0    1670.634         0.0        10.0       100.0  ...   \n1        7560.0    3676.000         0.0        60.0        88.0  ...   \n2       12661.0    6334.500         0.0         0.0       195.0  ...   \n3       12087.0    5525.000         0.0       297.0       160.0  ...   \n4       12414.0    4576.000         0.0         0.0       195.0  ...   \n..          ...         ...         ...         ...         ...  ...   \n216      2925.0    1709.000       495.0         0.0       215.0  ...   \n217      2895.0    1735.000       210.0         0.0       305.0  ...   \n218      3962.0    1675.000       440.0         0.0       255.0  ...   \n219      1521.0     445.000       100.0         0.0        50.0  ...   \n220         0.0       0.000         0.0         0.0         0.0  ...   \n\n     MAHS025K  SE500G24P  SE200G24P  ATPPCH5X5K  ATPA1K24P  MAPA1K24P  \\\n0          43     1341.0        200           0          0          0   \n1           0      427.0         46           0          0          0   \n2           5      435.0          0           0          0          0   \n3           0      300.0          1           0          0          0   \n4           0      645.0          0           0          0          0   \n..        ...        ...        ...         ...        ...        ...   \n216         0      650.0         85           0          0          0   \n217         0        0.0          0           0          0          0   \n218       535      852.0         40           0          0          0   \n219         0       50.0          0           0          0          0   \n220         0        0.0          0           0          0          0   \n\n     MAP1K25P  MAC1K25P  EEA500G12P  EEA200G24P  \n0           0         0           0           0  \n1           0         0           0           0  \n2           0         0           0           0  \n3           0         0           0           0  \n4           0         0           0           0  \n..        ...       ...         ...         ...  \n216         0         0           0           0  \n217         0         0           0           0  \n218         0         0           0           0  \n219         0         0           0           0  \n220         0         0           0           0  \n\n[221 rows x 42 columns]",
      "text/html": "<div>\n<style scoped>\n    .dataframe tbody tr th:only-of-type {\n        vertical-align: middle;\n    }\n\n    .dataframe tbody tr th {\n        vertical-align: top;\n    }\n\n    .dataframe thead th {\n        text-align: right;\n    }\n</style>\n<table border=\"1\" class=\"dataframe\">\n  <thead>\n    <tr style=\"text-align: right;\">\n      <th></th>\n      <th>Date</th>\n      <th>SOS008L02P</th>\n      <th>SOS005L04P</th>\n      <th>SOS003L04P</th>\n      <th>SOS002L09P</th>\n      <th>SOS001L12P</th>\n      <th>SOS500M24P</th>\n      <th>SOS250M48P</th>\n      <th>SOP001L12P</th>\n      <th>POV005L04P</th>\n      <th>...</th>\n      <th>MAHS025K</th>\n      <th>SE500G24P</th>\n      <th>SE200G24P</th>\n      <th>ATPPCH5X5K</th>\n      <th>ATPA1K24P</th>\n      <th>MAPA1K24P</th>\n      <th>MAP1K25P</th>\n      <th>MAC1K25P</th>\n      <th>EEA500G12P</th>\n      <th>EEA200G24P</th>\n    </tr>\n  </thead>\n  <tbody>\n    <tr>\n      <th>0</th>\n      <td>2023-01-01 00:00:00</td>\n      <td>220.0</td>\n      <td>2598.0</td>\n      <td>287.0</td>\n      <td>2080.0</td>\n      <td>2748.0</td>\n      <td>1670.634</td>\n      <td>0.0</td>\n      <td>10.0</td>\n      <td>100.0</td>\n      <td>...</td>\n      <td>43</td>\n      <td>1341.0</td>\n      <td>200</td>\n      <td>0</td>\n      <td>0</td>\n      <td>0</td>\n      <td>0</td>\n      <td>0</td>\n      <td>0</td>\n      <td>0</td>\n    </tr>\n    <tr>\n      <th>1</th>\n      <td>2023-01-02 00:00:00</td>\n      <td>485.0</td>\n      <td>4982.0</td>\n      <td>1048.0</td>\n      <td>4640.0</td>\n      <td>7560.0</td>\n      <td>3676.000</td>\n      <td>0.0</td>\n      <td>60.0</td>\n      <td>88.0</td>\n      <td>...</td>\n      <td>0</td>\n      <td>427.0</td>\n      <td>46</td>\n      <td>0</td>\n      <td>0</td>\n      <td>0</td>\n      <td>0</td>\n      <td>0</td>\n      <td>0</td>\n      <td>0</td>\n    </tr>\n    <tr>\n      <th>2</th>\n      <td>2023-01-03 00:00:00</td>\n      <td>520.0</td>\n      <td>11175.0</td>\n      <td>719.0</td>\n      <td>10801.0</td>\n      <td>12661.0</td>\n      <td>6334.500</td>\n      <td>0.0</td>\n      <td>0.0</td>\n      <td>195.0</td>\n      <td>...</td>\n      <td>5</td>\n      <td>435.0</td>\n      <td>0</td>\n      <td>0</td>\n      <td>0</td>\n      <td>0</td>\n      <td>0</td>\n      <td>0</td>\n      <td>0</td>\n      <td>0</td>\n    </tr>\n    <tr>\n      <th>3</th>\n      <td>2023-01-04 00:00:00</td>\n      <td>305.0</td>\n      <td>8286.0</td>\n      <td>1016.0</td>\n      <td>9004.0</td>\n      <td>12087.0</td>\n      <td>5525.000</td>\n      <td>0.0</td>\n      <td>297.0</td>\n      <td>160.0</td>\n      <td>...</td>\n      <td>0</td>\n      <td>300.0</td>\n      <td>1</td>\n      <td>0</td>\n      <td>0</td>\n      <td>0</td>\n      <td>0</td>\n      <td>0</td>\n      <td>0</td>\n      <td>0</td>\n    </tr>\n    <tr>\n      <th>4</th>\n      <td>2023-01-05 00:00:00</td>\n      <td>320.0</td>\n      <td>9787.0</td>\n      <td>1120.0</td>\n      <td>8875.0</td>\n      <td>12414.0</td>\n      <td>4576.000</td>\n      <td>0.0</td>\n      <td>0.0</td>\n      <td>195.0</td>\n      <td>...</td>\n      <td>0</td>\n      <td>645.0</td>\n      <td>0</td>\n      <td>0</td>\n      <td>0</td>\n      <td>0</td>\n      <td>0</td>\n      <td>0</td>\n      <td>0</td>\n      <td>0</td>\n    </tr>\n    <tr>\n      <th>...</th>\n      <td>...</td>\n      <td>...</td>\n      <td>...</td>\n      <td>...</td>\n      <td>...</td>\n      <td>...</td>\n      <td>...</td>\n      <td>...</td>\n      <td>...</td>\n      <td>...</td>\n      <td>...</td>\n      <td>...</td>\n      <td>...</td>\n      <td>...</td>\n      <td>...</td>\n      <td>...</td>\n      <td>...</td>\n      <td>...</td>\n      <td>...</td>\n      <td>...</td>\n      <td>...</td>\n    </tr>\n    <tr>\n      <th>216</th>\n      <td>2023-08-05 00:00:00</td>\n      <td>125.0</td>\n      <td>589.0</td>\n      <td>263.0</td>\n      <td>1391.0</td>\n      <td>2925.0</td>\n      <td>1709.000</td>\n      <td>495.0</td>\n      <td>0.0</td>\n      <td>215.0</td>\n      <td>...</td>\n      <td>0</td>\n      <td>650.0</td>\n      <td>85</td>\n      <td>0</td>\n      <td>0</td>\n      <td>0</td>\n      <td>0</td>\n      <td>0</td>\n      <td>0</td>\n      <td>0</td>\n    </tr>\n    <tr>\n      <th>217</th>\n      <td>2023-08-06 00:00:00</td>\n      <td>460.0</td>\n      <td>4229.0</td>\n      <td>310.0</td>\n      <td>1255.0</td>\n      <td>2895.0</td>\n      <td>1735.000</td>\n      <td>210.0</td>\n      <td>0.0</td>\n      <td>305.0</td>\n      <td>...</td>\n      <td>0</td>\n      <td>0.0</td>\n      <td>0</td>\n      <td>0</td>\n      <td>0</td>\n      <td>0</td>\n      <td>0</td>\n      <td>0</td>\n      <td>0</td>\n      <td>0</td>\n    </tr>\n    <tr>\n      <th>218</th>\n      <td>2023-08-07 00:00:00</td>\n      <td>35.0</td>\n      <td>3030.0</td>\n      <td>265.0</td>\n      <td>1825.0</td>\n      <td>3962.0</td>\n      <td>1675.000</td>\n      <td>440.0</td>\n      <td>0.0</td>\n      <td>255.0</td>\n      <td>...</td>\n      <td>535</td>\n      <td>852.0</td>\n      <td>40</td>\n      <td>0</td>\n      <td>0</td>\n      <td>0</td>\n      <td>0</td>\n      <td>0</td>\n      <td>0</td>\n      <td>0</td>\n    </tr>\n    <tr>\n      <th>219</th>\n      <td>2023-08-08 00:00:00</td>\n      <td>10.0</td>\n      <td>1240.0</td>\n      <td>140.0</td>\n      <td>768.0</td>\n      <td>1521.0</td>\n      <td>445.000</td>\n      <td>100.0</td>\n      <td>0.0</td>\n      <td>50.0</td>\n      <td>...</td>\n      <td>0</td>\n      <td>50.0</td>\n      <td>0</td>\n      <td>0</td>\n      <td>0</td>\n      <td>0</td>\n      <td>0</td>\n      <td>0</td>\n      <td>0</td>\n      <td>0</td>\n    </tr>\n    <tr>\n      <th>220</th>\n      <td>2023-08-09 00:00:00</td>\n      <td>0.0</td>\n      <td>0.0</td>\n      <td>0.0</td>\n      <td>0.0</td>\n      <td>0.0</td>\n      <td>0.000</td>\n      <td>0.0</td>\n      <td>0.0</td>\n      <td>0.0</td>\n      <td>...</td>\n      <td>0</td>\n      <td>0.0</td>\n      <td>0</td>\n      <td>0</td>\n      <td>0</td>\n      <td>0</td>\n      <td>0</td>\n      <td>0</td>\n      <td>0</td>\n      <td>0</td>\n    </tr>\n  </tbody>\n</table>\n<p>221 rows × 42 columns</p>\n</div>"
     },
     "execution_count": 2,
     "metadata": {},
     "output_type": "execute_result"
    }
   ],
   "source": [
    "df = pd.read_csv('../Homogenoeus/Temporal_Data/Unit/Factory Issue.csv')\n",
    "df"
   ],
   "metadata": {
    "collapsed": false,
    "ExecuteTime": {
     "end_time": "2024-03-27T11:30:29.953379Z",
     "start_time": "2024-03-27T11:30:29.915188Z"
    }
   },
   "id": "756adbf4cc6b5061"
  },
  {
   "cell_type": "code",
   "execution_count": 3,
   "outputs": [
    {
     "data": {
      "text/plain": "Index(['Date', 'SOS008L02P', 'SOS005L04P', 'SOS003L04P', 'SOS002L09P',\n       'SOS001L12P', 'SOS500M24P', 'SOS250M48P', 'SOP001L12P', 'POV005L04P',\n       'POV002L09P', 'POV001L24P', 'POV500M24P', 'POP001L12P', 'POP015K',\n       'SO0005L04P', 'SO0002L09P', 'SO0001L12P', 'SO0500M24P', 'POP005L04P',\n       'POP002L09P', 'POP001L12P.1', 'POP500M24P', 'POPF01L12P', 'AT5X5K',\n       'ATN02K12P', 'ATN01K24P', 'MAR02K12P', 'MAR01K24P', 'ATWWP002K12P',\n       'ATWWP001K24P', 'MASR025K', 'MAHS025K', 'SE500G24P', 'SE200G24P',\n       'ATPPCH5X5K', 'ATPA1K24P', 'MAPA1K24P', 'MAP1K25P', 'MAC1K25P',\n       'EEA500G12P', 'EEA200G24P'],\n      dtype='object')"
     },
     "execution_count": 3,
     "metadata": {},
     "output_type": "execute_result"
    }
   ],
   "source": [
    "df.columns"
   ],
   "metadata": {
    "collapsed": false,
    "ExecuteTime": {
     "end_time": "2024-03-27T11:30:47.795601Z",
     "start_time": "2024-03-27T11:30:47.791457Z"
    }
   },
   "id": "3eafdb4834bf07f5"
  },
  {
   "cell_type": "code",
   "execution_count": 5,
   "outputs": [
    {
     "data": {
      "text/plain": "            Node\n0     SOS008L02P\n1     SOS005L04P\n2     SOS003L04P\n3     SOS002L09P\n4     SOS001L12P\n5     SOS500M24P\n6     SOS250M48P\n7     SOP001L12P\n8     POV005L04P\n9     POV002L09P\n10    POV001L24P\n11    POV500M24P\n12    POP001L12P\n13       POP015K\n14    SO0005L04P\n15    SO0002L09P\n16    SO0001L12P\n17    SO0500M24P\n18    POP005L04P\n19    POP002L09P\n20    POP001L12P\n21    POP500M24P\n22    POPF01L12P\n23        AT5X5K\n24     ATN02K12P\n25     ATN01K24P\n26     MAR02K12P\n27     MAR01K24P\n28  ATWWP002K12P\n29  ATWWP001K24P\n30      MASR025K\n31      MAHS025K\n32     SE500G24P\n33     SE200G24P\n34    ATPPCH5X5K\n35     ATPA1K24P\n36     MAPA1K24P\n37      MAP1K25P\n38      MAC1K25P\n39    EEA500G12P\n40    EEA200G24P",
      "text/html": "<div>\n<style scoped>\n    .dataframe tbody tr th:only-of-type {\n        vertical-align: middle;\n    }\n\n    .dataframe tbody tr th {\n        vertical-align: top;\n    }\n\n    .dataframe thead th {\n        text-align: right;\n    }\n</style>\n<table border=\"1\" class=\"dataframe\">\n  <thead>\n    <tr style=\"text-align: right;\">\n      <th></th>\n      <th>Node</th>\n    </tr>\n  </thead>\n  <tbody>\n    <tr>\n      <th>0</th>\n      <td>SOS008L02P</td>\n    </tr>\n    <tr>\n      <th>1</th>\n      <td>SOS005L04P</td>\n    </tr>\n    <tr>\n      <th>2</th>\n      <td>SOS003L04P</td>\n    </tr>\n    <tr>\n      <th>3</th>\n      <td>SOS002L09P</td>\n    </tr>\n    <tr>\n      <th>4</th>\n      <td>SOS001L12P</td>\n    </tr>\n    <tr>\n      <th>5</th>\n      <td>SOS500M24P</td>\n    </tr>\n    <tr>\n      <th>6</th>\n      <td>SOS250M48P</td>\n    </tr>\n    <tr>\n      <th>7</th>\n      <td>SOP001L12P</td>\n    </tr>\n    <tr>\n      <th>8</th>\n      <td>POV005L04P</td>\n    </tr>\n    <tr>\n      <th>9</th>\n      <td>POV002L09P</td>\n    </tr>\n    <tr>\n      <th>10</th>\n      <td>POV001L24P</td>\n    </tr>\n    <tr>\n      <th>11</th>\n      <td>POV500M24P</td>\n    </tr>\n    <tr>\n      <th>12</th>\n      <td>POP001L12P</td>\n    </tr>\n    <tr>\n      <th>13</th>\n      <td>POP015K</td>\n    </tr>\n    <tr>\n      <th>14</th>\n      <td>SO0005L04P</td>\n    </tr>\n    <tr>\n      <th>15</th>\n      <td>SO0002L09P</td>\n    </tr>\n    <tr>\n      <th>16</th>\n      <td>SO0001L12P</td>\n    </tr>\n    <tr>\n      <th>17</th>\n      <td>SO0500M24P</td>\n    </tr>\n    <tr>\n      <th>18</th>\n      <td>POP005L04P</td>\n    </tr>\n    <tr>\n      <th>19</th>\n      <td>POP002L09P</td>\n    </tr>\n    <tr>\n      <th>20</th>\n      <td>POP001L12P</td>\n    </tr>\n    <tr>\n      <th>21</th>\n      <td>POP500M24P</td>\n    </tr>\n    <tr>\n      <th>22</th>\n      <td>POPF01L12P</td>\n    </tr>\n    <tr>\n      <th>23</th>\n      <td>AT5X5K</td>\n    </tr>\n    <tr>\n      <th>24</th>\n      <td>ATN02K12P</td>\n    </tr>\n    <tr>\n      <th>25</th>\n      <td>ATN01K24P</td>\n    </tr>\n    <tr>\n      <th>26</th>\n      <td>MAR02K12P</td>\n    </tr>\n    <tr>\n      <th>27</th>\n      <td>MAR01K24P</td>\n    </tr>\n    <tr>\n      <th>28</th>\n      <td>ATWWP002K12P</td>\n    </tr>\n    <tr>\n      <th>29</th>\n      <td>ATWWP001K24P</td>\n    </tr>\n    <tr>\n      <th>30</th>\n      <td>MASR025K</td>\n    </tr>\n    <tr>\n      <th>31</th>\n      <td>MAHS025K</td>\n    </tr>\n    <tr>\n      <th>32</th>\n      <td>SE500G24P</td>\n    </tr>\n    <tr>\n      <th>33</th>\n      <td>SE200G24P</td>\n    </tr>\n    <tr>\n      <th>34</th>\n      <td>ATPPCH5X5K</td>\n    </tr>\n    <tr>\n      <th>35</th>\n      <td>ATPA1K24P</td>\n    </tr>\n    <tr>\n      <th>36</th>\n      <td>MAPA1K24P</td>\n    </tr>\n    <tr>\n      <th>37</th>\n      <td>MAP1K25P</td>\n    </tr>\n    <tr>\n      <th>38</th>\n      <td>MAC1K25P</td>\n    </tr>\n    <tr>\n      <th>39</th>\n      <td>EEA500G12P</td>\n    </tr>\n    <tr>\n      <th>40</th>\n      <td>EEA200G24P</td>\n    </tr>\n  </tbody>\n</table>\n</div>"
     },
     "execution_count": 5,
     "metadata": {},
     "output_type": "execute_result"
    }
   ],
   "source": [
    "df = pd.read_csv('../Homogenoeus/Nodes/Nodes.csv')\n",
    "df"
   ],
   "metadata": {
    "collapsed": false,
    "ExecuteTime": {
     "end_time": "2024-03-29T13:00:28.929365Z",
     "start_time": "2024-03-29T13:00:28.909560Z"
    }
   },
   "id": "340e13e40e722197"
  },
  {
   "cell_type": "code",
   "execution_count": 6,
   "outputs": [
    {
     "data": {
      "text/plain": "Index(['Node'], dtype='object')"
     },
     "execution_count": 6,
     "metadata": {},
     "output_type": "execute_result"
    }
   ],
   "source": [
    "df.columns"
   ],
   "metadata": {
    "collapsed": false,
    "ExecuteTime": {
     "end_time": "2024-03-29T13:00:32.543057Z",
     "start_time": "2024-03-29T13:00:32.538370Z"
    }
   },
   "id": "2bf04c3a904a4dc5"
  },
  {
   "cell_type": "code",
   "execution_count": 7,
   "outputs": [
    {
     "data": {
      "text/plain": "Node    40\ndtype: int64"
     },
     "execution_count": 7,
     "metadata": {},
     "output_type": "execute_result"
    }
   ],
   "source": [
    "df.nunique()"
   ],
   "metadata": {
    "collapsed": false,
    "ExecuteTime": {
     "end_time": "2024-03-29T13:00:51.802750Z",
     "start_time": "2024-03-29T13:00:51.793705Z"
    }
   },
   "id": "8fa5e50f5c9868cd"
  },
  {
   "cell_type": "code",
   "execution_count": 8,
   "outputs": [
    {
     "name": "stdout",
     "output_type": "stream",
     "text": [
      "          Node\n",
      "20  POP001L12P\n"
     ]
    }
   ],
   "source": [
    "duplicates = df[df.duplicated()]\n",
    "\n",
    "print(duplicates)"
   ],
   "metadata": {
    "collapsed": false,
    "ExecuteTime": {
     "end_time": "2024-03-29T13:01:35.901280Z",
     "start_time": "2024-03-29T13:01:35.895399Z"
    }
   },
   "id": "424563d26dd005b6"
  },
  {
   "cell_type": "code",
   "execution_count": 9,
   "outputs": [
    {
     "data": {
      "text/plain": "            Node  NodeIndex\n0     SOS008L02P          0\n1     SOS005L04P          1\n2     SOS003L04P          2\n3     SOS002L09P          3\n4     SOS001L12P          4\n5     SOS500M24P          5\n6     SOS250M48P          6\n7     SOP001L12P          7\n8     POV005L04P          8\n9     POV002L09P          9\n10    POV001L24P         10\n11    POV500M24P         11\n12    POP001L12P         12\n13       POP015K         13\n14    SO0005L04P         14\n15    SO0002L09P         15\n16    SO0001L12P         16\n17    SO0500M24P         17\n18    POP005L04P         18\n19    POP002L09P         19\n20    POP001L12P         12\n21    POP500M24P         20\n22    POPF01L12P         21\n23        AT5X5K         22\n24     ATN02K12P         23\n25     ATN01K24P         24\n26     MAR02K12P         25\n27     MAR01K24P         26\n28  ATWWP002K12P         27\n29  ATWWP001K24P         28\n30      MASR025K         29\n31      MAHS025K         30\n32     SE500G24P         31\n33     SE200G24P         32\n34    ATPPCH5X5K         33\n35     ATPA1K24P         34\n36     MAPA1K24P         35\n37      MAP1K25P         36\n38      MAC1K25P         37\n39    EEA500G12P         38\n40    EEA200G24P         39",
      "text/html": "<div>\n<style scoped>\n    .dataframe tbody tr th:only-of-type {\n        vertical-align: middle;\n    }\n\n    .dataframe tbody tr th {\n        vertical-align: top;\n    }\n\n    .dataframe thead th {\n        text-align: right;\n    }\n</style>\n<table border=\"1\" class=\"dataframe\">\n  <thead>\n    <tr style=\"text-align: right;\">\n      <th></th>\n      <th>Node</th>\n      <th>NodeIndex</th>\n    </tr>\n  </thead>\n  <tbody>\n    <tr>\n      <th>0</th>\n      <td>SOS008L02P</td>\n      <td>0</td>\n    </tr>\n    <tr>\n      <th>1</th>\n      <td>SOS005L04P</td>\n      <td>1</td>\n    </tr>\n    <tr>\n      <th>2</th>\n      <td>SOS003L04P</td>\n      <td>2</td>\n    </tr>\n    <tr>\n      <th>3</th>\n      <td>SOS002L09P</td>\n      <td>3</td>\n    </tr>\n    <tr>\n      <th>4</th>\n      <td>SOS001L12P</td>\n      <td>4</td>\n    </tr>\n    <tr>\n      <th>5</th>\n      <td>SOS500M24P</td>\n      <td>5</td>\n    </tr>\n    <tr>\n      <th>6</th>\n      <td>SOS250M48P</td>\n      <td>6</td>\n    </tr>\n    <tr>\n      <th>7</th>\n      <td>SOP001L12P</td>\n      <td>7</td>\n    </tr>\n    <tr>\n      <th>8</th>\n      <td>POV005L04P</td>\n      <td>8</td>\n    </tr>\n    <tr>\n      <th>9</th>\n      <td>POV002L09P</td>\n      <td>9</td>\n    </tr>\n    <tr>\n      <th>10</th>\n      <td>POV001L24P</td>\n      <td>10</td>\n    </tr>\n    <tr>\n      <th>11</th>\n      <td>POV500M24P</td>\n      <td>11</td>\n    </tr>\n    <tr>\n      <th>12</th>\n      <td>POP001L12P</td>\n      <td>12</td>\n    </tr>\n    <tr>\n      <th>13</th>\n      <td>POP015K</td>\n      <td>13</td>\n    </tr>\n    <tr>\n      <th>14</th>\n      <td>SO0005L04P</td>\n      <td>14</td>\n    </tr>\n    <tr>\n      <th>15</th>\n      <td>SO0002L09P</td>\n      <td>15</td>\n    </tr>\n    <tr>\n      <th>16</th>\n      <td>SO0001L12P</td>\n      <td>16</td>\n    </tr>\n    <tr>\n      <th>17</th>\n      <td>SO0500M24P</td>\n      <td>17</td>\n    </tr>\n    <tr>\n      <th>18</th>\n      <td>POP005L04P</td>\n      <td>18</td>\n    </tr>\n    <tr>\n      <th>19</th>\n      <td>POP002L09P</td>\n      <td>19</td>\n    </tr>\n    <tr>\n      <th>20</th>\n      <td>POP001L12P</td>\n      <td>12</td>\n    </tr>\n    <tr>\n      <th>21</th>\n      <td>POP500M24P</td>\n      <td>20</td>\n    </tr>\n    <tr>\n      <th>22</th>\n      <td>POPF01L12P</td>\n      <td>21</td>\n    </tr>\n    <tr>\n      <th>23</th>\n      <td>AT5X5K</td>\n      <td>22</td>\n    </tr>\n    <tr>\n      <th>24</th>\n      <td>ATN02K12P</td>\n      <td>23</td>\n    </tr>\n    <tr>\n      <th>25</th>\n      <td>ATN01K24P</td>\n      <td>24</td>\n    </tr>\n    <tr>\n      <th>26</th>\n      <td>MAR02K12P</td>\n      <td>25</td>\n    </tr>\n    <tr>\n      <th>27</th>\n      <td>MAR01K24P</td>\n      <td>26</td>\n    </tr>\n    <tr>\n      <th>28</th>\n      <td>ATWWP002K12P</td>\n      <td>27</td>\n    </tr>\n    <tr>\n      <th>29</th>\n      <td>ATWWP001K24P</td>\n      <td>28</td>\n    </tr>\n    <tr>\n      <th>30</th>\n      <td>MASR025K</td>\n      <td>29</td>\n    </tr>\n    <tr>\n      <th>31</th>\n      <td>MAHS025K</td>\n      <td>30</td>\n    </tr>\n    <tr>\n      <th>32</th>\n      <td>SE500G24P</td>\n      <td>31</td>\n    </tr>\n    <tr>\n      <th>33</th>\n      <td>SE200G24P</td>\n      <td>32</td>\n    </tr>\n    <tr>\n      <th>34</th>\n      <td>ATPPCH5X5K</td>\n      <td>33</td>\n    </tr>\n    <tr>\n      <th>35</th>\n      <td>ATPA1K24P</td>\n      <td>34</td>\n    </tr>\n    <tr>\n      <th>36</th>\n      <td>MAPA1K24P</td>\n      <td>35</td>\n    </tr>\n    <tr>\n      <th>37</th>\n      <td>MAP1K25P</td>\n      <td>36</td>\n    </tr>\n    <tr>\n      <th>38</th>\n      <td>MAC1K25P</td>\n      <td>37</td>\n    </tr>\n    <tr>\n      <th>39</th>\n      <td>EEA500G12P</td>\n      <td>38</td>\n    </tr>\n    <tr>\n      <th>40</th>\n      <td>EEA200G24P</td>\n      <td>39</td>\n    </tr>\n  </tbody>\n</table>\n</div>"
     },
     "execution_count": 9,
     "metadata": {},
     "output_type": "execute_result"
    }
   ],
   "source": [
    "df = pd.read_csv(\"../Homogenoeus/Nodes/NodesIndex.csv\")\n",
    "df"
   ],
   "metadata": {
    "collapsed": false,
    "ExecuteTime": {
     "end_time": "2024-03-29T19:12:47.726896Z",
     "start_time": "2024-03-29T19:12:47.701165Z"
    }
   },
   "id": "653ac9dde69518a4"
  },
  {
   "cell_type": "code",
   "execution_count": null,
   "outputs": [],
   "source": [
    "df = pd.read_csv(\"../Homogenoeus/\")"
   ],
   "metadata": {
    "collapsed": false
   },
   "id": "ce652c29dd357f0c"
  }
 ],
 "metadata": {
  "kernelspec": {
   "display_name": "Python 3",
   "language": "python",
   "name": "python3"
  },
  "language_info": {
   "codemirror_mode": {
    "name": "ipython",
    "version": 2
   },
   "file_extension": ".py",
   "mimetype": "text/x-python",
   "name": "python",
   "nbconvert_exporter": "python",
   "pygments_lexer": "ipython2",
   "version": "2.7.6"
  }
 },
 "nbformat": 4,
 "nbformat_minor": 5
}
