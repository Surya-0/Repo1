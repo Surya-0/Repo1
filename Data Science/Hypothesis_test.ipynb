{
 "cells": [
  {
   "cell_type": "code",
   "execution_count": 1,
   "id": "initial_id",
   "metadata": {
    "collapsed": true,
    "ExecuteTime": {
     "end_time": "2023-11-02T16:26:32.351331Z",
     "start_time": "2023-11-02T16:26:32.346080Z"
    }
   },
   "outputs": [],
   "source": [
    "import numpy as np\n",
    "import pandas as pd\n",
    "import matplotlib.pyplot as plt"
   ]
  },
  {
   "cell_type": "code",
   "execution_count": 2,
   "outputs": [],
   "source": [
    "mendel = [0.75,0.25]"
   ],
   "metadata": {
    "collapsed": false,
    "ExecuteTime": {
     "end_time": "2023-11-02T16:29:42.281159Z",
     "start_time": "2023-11-02T16:29:42.277209Z"
    }
   },
   "id": "8b865a2b8a5abf43"
  },
  {
   "cell_type": "code",
   "execution_count": 3,
   "outputs": [
    {
     "data": {
      "text/plain": "685"
     },
     "execution_count": 3,
     "metadata": {},
     "output_type": "execute_result"
    }
   ],
   "source": [
    "np.random.binomial(929,0.75)"
   ],
   "metadata": {
    "collapsed": false,
    "ExecuteTime": {
     "end_time": "2023-11-02T16:30:57.196871Z",
     "start_time": "2023-11-02T16:30:57.193696Z"
    }
   },
   "id": "4e2089a9c34acf3a"
  },
  {
   "cell_type": "code",
   "execution_count": 4,
   "outputs": [
    {
     "data": {
      "text/plain": "array([677, 698, 701, ..., 686, 697, 698])"
     },
     "execution_count": 4,
     "metadata": {},
     "output_type": "execute_result"
    }
   ],
   "source": [
    "arr = np.random.binomial(929,0.75,5000)\n",
    "arr"
   ],
   "metadata": {
    "collapsed": false,
    "ExecuteTime": {
     "end_time": "2023-11-02T16:31:26.213376Z",
     "start_time": "2023-11-02T16:31:26.208146Z"
    }
   },
   "id": "abec9b1e7d5b08c6"
  },
  {
   "cell_type": "code",
   "execution_count": 5,
   "outputs": [
    {
     "data": {
      "text/plain": "        0\n0     677\n1     698\n2     701\n3     714\n4     712\n...   ...\n4995  709\n4996  686\n4997  686\n4998  697\n4999  698\n\n[5000 rows x 1 columns]",
      "text/html": "<div>\n<style scoped>\n    .dataframe tbody tr th:only-of-type {\n        vertical-align: middle;\n    }\n\n    .dataframe tbody tr th {\n        vertical-align: top;\n    }\n\n    .dataframe thead th {\n        text-align: right;\n    }\n</style>\n<table border=\"1\" class=\"dataframe\">\n  <thead>\n    <tr style=\"text-align: right;\">\n      <th></th>\n      <th>0</th>\n    </tr>\n  </thead>\n  <tbody>\n    <tr>\n      <th>0</th>\n      <td>677</td>\n    </tr>\n    <tr>\n      <th>1</th>\n      <td>698</td>\n    </tr>\n    <tr>\n      <th>2</th>\n      <td>701</td>\n    </tr>\n    <tr>\n      <th>3</th>\n      <td>714</td>\n    </tr>\n    <tr>\n      <th>4</th>\n      <td>712</td>\n    </tr>\n    <tr>\n      <th>...</th>\n      <td>...</td>\n    </tr>\n    <tr>\n      <th>4995</th>\n      <td>709</td>\n    </tr>\n    <tr>\n      <th>4996</th>\n      <td>686</td>\n    </tr>\n    <tr>\n      <th>4997</th>\n      <td>686</td>\n    </tr>\n    <tr>\n      <th>4998</th>\n      <td>697</td>\n    </tr>\n    <tr>\n      <th>4999</th>\n      <td>698</td>\n    </tr>\n  </tbody>\n</table>\n<p>5000 rows × 1 columns</p>\n</div>"
     },
     "execution_count": 5,
     "metadata": {},
     "output_type": "execute_result"
    }
   ],
   "source": [
    "arr_df = pd.DataFrame(arr)\n",
    "arr_df"
   ],
   "metadata": {
    "collapsed": false,
    "ExecuteTime": {
     "end_time": "2023-11-02T16:31:49.345621Z",
     "start_time": "2023-11-02T16:31:49.334214Z"
    }
   },
   "id": "40e1a9b17add200e"
  },
  {
   "cell_type": "code",
   "execution_count": 7,
   "outputs": [
    {
     "data": {
      "text/plain": "<Figure size 640x480 with 1 Axes>",
      "image/png": "[encoded data removed]"
     },
     "metadata": {},
     "output_type": "display_data"
    }
   ],
   "source": [
    "arr_df.hist()\n",
    "plt.scatter(705,0,s = 30, color = 'red')\n",
    "plt.show()"
   ],
   "metadata": {
    "collapsed": false,
    "ExecuteTime": {
     "end_time": "2023-11-02T16:32:41.043415Z",
     "start_time": "2023-11-02T16:32:40.958909Z"
    }
   },
   "id": "cd86a5aae5f906d9"
  },
  {
   "cell_type": "code",
   "execution_count": null,
   "outputs": [],
   "source": [],
   "metadata": {
    "collapsed": false
   },
   "id": "12f8df63c1b34b2"
  }
 ],
 "metadata": {
  "kernelspec": {
   "display_name": "Python 3",
   "language": "python",
   "name": "python3"
  },
  "language_info": {
   "codemirror_mode": {
    "name": "ipython",
    "version": 2
   },
   "file_extension": ".py",
   "mimetype": "text/x-python",
   "name": "python",
   "nbconvert_exporter": "python",
   "pygments_lexer": "ipython2",
   "version": "2.7.6"
  }
 },
 "nbformat": 4,
 "nbformat_minor": 5
}
