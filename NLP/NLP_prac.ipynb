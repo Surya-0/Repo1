{
 "cells": [
  {
   "cell_type": "code",
   "execution_count": 2,
   "id": "370654e7150068f",
   "metadata": {
    "collapsed": false,
    "ExecuteTime": {
     "end_time": "2023-11-05T18:05:29.063657Z",
     "start_time": "2023-11-05T18:05:29.062761Z"
    }
   },
   "outputs": [],
   "source": [
    "import spacy"
   ]
  },
  {
   "cell_type": "code",
   "execution_count": 3,
   "outputs": [
    {
     "name": "stderr",
     "output_type": "stream",
     "text": [
      "/Users/surya/anaconda3/envs/tf/lib/python3.11/site-packages/tqdm/auto.py:21: TqdmWarning: IProgress not found. Please update jupyter and ipywidgets. See https://ipywidgets.readthedocs.io/en/stable/user_install.html\n",
      "  from .autonotebook import tqdm as notebook_tqdm\n"
     ]
    }
   ],
   "source": [
    "nlp = spacy.load('en_core_web_sm')"
   ],
   "metadata": {
    "collapsed": false,
    "ExecuteTime": {
     "end_time": "2023-11-05T18:06:00.558858Z",
     "start_time": "2023-11-05T18:05:54.272395Z"
    }
   },
   "id": "7ddffea9f3a905f3"
  },
  {
   "cell_type": "code",
   "execution_count": 6,
   "outputs": [],
   "source": [
    "doc = nlp(u'Tesla is looking at buying the U.K. startup for $6 million')"
   ],
   "metadata": {
    "collapsed": false,
    "ExecuteTime": {
     "end_time": "2023-11-05T18:10:05.619833Z",
     "start_time": "2023-11-05T18:10:05.608731Z"
    }
   },
   "id": "2552b49290944b6a"
  },
  {
   "cell_type": "code",
   "execution_count": 11,
   "outputs": [
    {
     "name": "stdout",
     "output_type": "stream",
     "text": [
      "Tesla PROPN\n",
      "is AUX\n",
      "looking VERB\n",
      "at ADP\n",
      "buying VERB\n",
      "the DET\n",
      "U.K. PROPN\n",
      "startup VERB\n",
      "for ADP\n",
      "$ SYM\n",
      "6 NUM\n",
      "million NUM\n"
     ]
    }
   ],
   "source": [
    "for token in doc:\n",
    "    print(token.text,token.pos_)"
   ],
   "metadata": {
    "collapsed": false,
    "ExecuteTime": {
     "end_time": "2023-11-05T18:11:53.571806Z",
     "start_time": "2023-11-05T18:11:53.568432Z"
    }
   },
   "id": "b18becf43afc4eda"
  },
  {
   "cell_type": "code",
   "execution_count": 12,
   "outputs": [
    {
     "name": "stdout",
     "output_type": "stream",
     "text": [
      "Tesla 96 PROPN nsubj\n",
      "is 87 AUX aux\n",
      "looking 100 VERB ROOT\n",
      "at 85 ADP prep\n",
      "buying 100 VERB pcomp\n",
      "the 90 DET det\n",
      "U.K. 96 PROPN dobj\n",
      "startup 100 VERB dep\n",
      "for 85 ADP prep\n",
      "$ 99 SYM quantmod\n",
      "6 93 NUM compound\n",
      "million 93 NUM pobj\n"
     ]
    }
   ],
   "source": [
    "for token in doc:\n",
    "    print(token.text,token.pos,token.pos_,token.dep_)"
   ],
   "metadata": {
    "collapsed": false,
    "ExecuteTime": {
     "end_time": "2023-11-05T18:11:54.377688Z",
     "start_time": "2023-11-05T18:11:54.370696Z"
    }
   },
   "id": "7bd0b544a930d254"
  },
  {
   "cell_type": "code",
   "execution_count": 13,
   "outputs": [
    {
     "data": {
      "text/plain": "[('tok2vec', <spacy.pipeline.tok2vec.Tok2Vec at 0x2919b68d0>),\n ('tagger', <spacy.pipeline.tagger.Tagger at 0x2919b6570>),\n ('parser', <spacy.pipeline.dep_parser.DependencyParser at 0x2919567a0>),\n ('attribute_ruler',\n  <spacy.pipeline.attributeruler.AttributeRuler at 0x291e72b10>),\n ('lemmatizer', <spacy.lang.en.lemmatizer.EnglishLemmatizer at 0x291e74450>),\n ('ner', <spacy.pipeline.ner.EntityRecognizer at 0x291956880>)]"
     },
     "execution_count": 13,
     "metadata": {},
     "output_type": "execute_result"
    }
   ],
   "source": [
    "nlp.pipeline"
   ],
   "metadata": {
    "collapsed": false,
    "ExecuteTime": {
     "end_time": "2023-11-05T18:27:01.528091Z",
     "start_time": "2023-11-05T18:27:01.517376Z"
    }
   },
   "id": "817b99eae30cc945"
  },
  {
   "cell_type": "code",
   "execution_count": 14,
   "outputs": [
    {
     "data": {
      "text/plain": "['tok2vec', 'tagger', 'parser', 'attribute_ruler', 'lemmatizer', 'ner']"
     },
     "execution_count": 14,
     "metadata": {},
     "output_type": "execute_result"
    }
   ],
   "source": [
    "nlp.pipe_names"
   ],
   "metadata": {
    "collapsed": false,
    "ExecuteTime": {
     "end_time": "2023-11-05T18:27:18.160939Z",
     "start_time": "2023-11-05T18:27:18.156599Z"
    }
   },
   "id": "f295c9fcd7ba4d39"
  },
  {
   "cell_type": "code",
   "execution_count": null,
   "outputs": [],
   "source": [],
   "metadata": {
    "collapsed": false
   },
   "id": "47651adbba6f64e0"
  }
 ],
 "metadata": {
  "kernelspec": {
   "display_name": "Python 3",
   "language": "python",
   "name": "python3"
  },
  "language_info": {
   "codemirror_mode": {
    "name": "ipython",
    "version": 2
   },
   "file_extension": ".py",
   "mimetype": "text/x-python",
   "name": "python",
   "nbconvert_exporter": "python",
   "pygments_lexer": "ipython2",
   "version": "3.11.4"
  }
 },
 "nbformat": 4,
 "nbformat_minor": 5
}
