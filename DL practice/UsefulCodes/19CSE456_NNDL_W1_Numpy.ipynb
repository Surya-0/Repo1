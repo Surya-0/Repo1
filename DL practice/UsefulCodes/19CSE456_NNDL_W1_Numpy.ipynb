{
  "nbformat": 4,
  "nbformat_minor": 0,
  "metadata": {
    "colab": {
      "provenance": []
    },
    "kernelspec": {
      "name": "python3",
      "display_name": "Python 3"
    },
    "language_info": {
      "name": "python"
    }
  },
  "cells": [
    {
      "cell_type": "markdown",
      "source": [
        "**Numpy** is the core library for scientific computing in Python. It provides a high-performance multidimensional array object, and tools for working with these arrays.\n",
        "\n",
        "A **numpy array** is a grid of values, all of the same type, and is indexed by a tuple of nonnegative integers. The number of dimensions is the rank of the array; the shape of an array is a tuple of integers giving the size of the array along each dimension."
      ],
      "metadata": {
        "id": "fDonH2V6x_Ym"
      }
    },
    {
      "cell_type": "code",
      "source": [
        "import numpy as np"
      ],
      "metadata": {
        "id": "-gmntrTWyu3y"
      },
      "execution_count": null,
      "outputs": []
    },
    {
      "cell_type": "code",
      "source": [
        "# Create a rank 1 array\n",
        "a = np.array([1, 2, 3])\n",
        "print (type(a), a.shape, a[0], a[1], a[2])\n",
        "\n",
        "# Change an element of the array\n",
        "a[0] = 5\n",
        "print (a)"
      ],
      "metadata": {
        "id": "19RyR-IOx_pv"
      },
      "execution_count": null,
      "outputs": []
    },
    {
      "cell_type": "code",
      "source": [
        "# Create a rank 2 array\n",
        "b = np.array([[1,2,3],[4,5,6]])\n",
        "print (b)"
      ],
      "metadata": {
        "id": "_QZqjU3TyncR"
      },
      "execution_count": null,
      "outputs": []
    },
    {
      "cell_type": "code",
      "source": [
        "# Create an array of all zeros\n",
        "a = np.zeros((2,2))\n",
        "print (a)"
      ],
      "metadata": {
        "id": "ayPBQ75HzJch"
      },
      "execution_count": null,
      "outputs": []
    },
    {
      "cell_type": "code",
      "source": [
        "# Create an array of all ones\n",
        "b = np.ones((1,2))\n",
        "print (b)"
      ],
      "metadata": {
        "id": "SINyBRUB0Rcx"
      },
      "execution_count": null,
      "outputs": []
    },
    {
      "cell_type": "code",
      "source": [
        "# Create a constant array\n",
        "c = np.full((2,2), 7)\n",
        "print (c)"
      ],
      "metadata": {
        "id": "0gsZDY-b0YWt"
      },
      "execution_count": null,
      "outputs": []
    },
    {
      "cell_type": "code",
      "source": [
        "# Create a 2x2 identity matrix\n",
        "d = np.eye(2)\n",
        "print (d)"
      ],
      "metadata": {
        "id": "By-XJgKM0e_U"
      },
      "execution_count": null,
      "outputs": []
    },
    {
      "cell_type": "code",
      "source": [
        "# Create an array filled with random values\n",
        "e = np.random.random((2,2))\n",
        "print (e)"
      ],
      "metadata": {
        "id": "MYOsPqoZ0mVi"
      },
      "execution_count": null,
      "outputs": []
    },
    {
      "cell_type": "markdown",
      "source": [
        "**Array indexing**:\n",
        "Numpy offers several ways to index into arrays.\n",
        "\n",
        "**Slicing**: Similar to Python lists, numpy arrays can be sliced. Since arrays may be multidimensional, you must specify a slice for each dimension of the array:"
      ],
      "metadata": {
        "id": "zLgSku0N1kfY"
      }
    },
    {
      "cell_type": "code",
      "source": [
        "# Create the following rank 2 array with shape (3, 4)\n",
        "a = np.array([[1,2,3,4], [5,6,7,8], [9,10,11,12]])\n",
        "\n",
        "# Use slicing to pull out the subarray consisting of the first 2 rows and columns 1 and 2; b is the following array of shape (2, 2):\n",
        "b = a[:2, 1:3]\n",
        "print (b)"
      ],
      "metadata": {
        "id": "Y8jpuPnS0suu"
      },
      "execution_count": null,
      "outputs": []
    },
    {
      "cell_type": "code",
      "source": [
        "print (a[0, 1])\n",
        "# b[0, 0] is the same piece of data as a[0, 1]\n",
        "b[0, 0] = 77\n",
        "print (a[0, 1])"
      ],
      "metadata": {
        "id": "6wsfhzIU14Nm"
      },
      "execution_count": null,
      "outputs": []
    },
    {
      "cell_type": "markdown",
      "source": [
        "**Mixing integer indexing with slices** yields an array of lower rank, while using only slices yields an array of the same rank as the original array:"
      ],
      "metadata": {
        "id": "7rtff3Yj2bFW"
      }
    },
    {
      "cell_type": "code",
      "source": [
        "# Rank 1 view of the second row of a\n",
        "row_r1 = a[1, :]\n",
        "\n",
        "# Rank 2 view of the second row of a\n",
        "row_r2 = a[1:2, :]\n",
        "\n",
        "# Rank 2 view of the second row of a\n",
        "row_r3 = a[[1], :]\n",
        "print (row_r1, row_r1.shape)\n",
        "print (row_r2, row_r2.shape)\n",
        "print (row_r3, row_r3.shape)"
      ],
      "metadata": {
        "id": "4uiqv9Z12CBZ"
      },
      "execution_count": null,
      "outputs": []
    },
    {
      "cell_type": "code",
      "source": [
        "# We can make the same distinction when accessing columns of an array:\n",
        "col_r1 = a[:, 1]\n",
        "col_r2 = a[:, 1:2]\n",
        "print (col_r1, col_r1.shape)\n",
        "print\n",
        "print (col_r2, col_r2.shape)"
      ],
      "metadata": {
        "id": "LbJOj6F92zJL"
      },
      "execution_count": null,
      "outputs": []
    },
    {
      "cell_type": "markdown",
      "source": [
        "In contrast, **integer array indexing** allows you to construct arbitrary arrays using the data from another array."
      ],
      "metadata": {
        "id": "YMBlwWBa3CbC"
      }
    },
    {
      "cell_type": "code",
      "source": [
        "a = np.array([[1,2], [3, 4], [5, 6]])\n",
        "print(a)\n",
        "\n",
        "# An example of integer array indexing.\n",
        "# The returned array will have shape (3,) and\n",
        "print (a[[0, 1, 2], [0, 1, 0]])\n",
        "\n",
        "# The above example of integer array indexing is equivalent to this:\n",
        "print (np.array([a[0, 0], a[1, 1], a[2, 0]]))"
      ],
      "metadata": {
        "id": "SyJIwuS623bY"
      },
      "execution_count": null,
      "outputs": []
    },
    {
      "cell_type": "markdown",
      "source": [
        "One **useful trick with integer array indexing** is selecting or mutating one element from each row of a matrix:"
      ],
      "metadata": {
        "id": "DFXTIQRr4Ikv"
      }
    },
    {
      "cell_type": "code",
      "source": [
        "# Create a new array from which we will select elements\n",
        "a = np.array([[1,2,3], [4,5,6], [7,8,9], [10, 11, 12]])\n",
        "print (a)\n",
        "\n",
        "# Create an array of indices\n",
        "b = np.array([0, 2, 0, 1])\n",
        "\n",
        "# Select one element from each row of a using the indices in b\n",
        "print (a[np.arange(4), b])"
      ],
      "metadata": {
        "id": "s7EE6n8W3gYq"
      },
      "execution_count": null,
      "outputs": []
    },
    {
      "cell_type": "code",
      "source": [
        "# Mutate one element from each row of a using the indices in b\n",
        "a[np.arange(4), b] += 10\n",
        "print (a)"
      ],
      "metadata": {
        "id": "A0U2Iegb4dMo"
      },
      "execution_count": null,
      "outputs": []
    },
    {
      "cell_type": "markdown",
      "source": [
        "**Boolean array indexing**: Boolean array indexing lets you pick out arbitrary elements of an array. Frequently this type of indexing is used to select the elements of an array that satisfy some condition."
      ],
      "metadata": {
        "id": "K2x7uY784s3W"
      }
    },
    {
      "cell_type": "code",
      "source": [
        "import numpy as np\n",
        "\n",
        "a = np.array([[1,2], [3, 4], [5, 6]])\n",
        "\n",
        "# Find the elements of a that are bigger than 2; this returns a numpy array of Booleans of the same shape as a, where each slot of bool_idx tells whether that element of a is > 2.\n",
        "\n",
        "bool_idx = (a > 2)\n",
        "\n",
        "print (bool_idx)"
      ],
      "metadata": {
        "id": "DwdKkvk-4nq-"
      },
      "execution_count": null,
      "outputs": []
    },
    {
      "cell_type": "code",
      "source": [
        "# We use boolean array indexing to construct a rank 1 array consisting of the elements of a corresponding to the True values of bool_idx\n",
        "print (a[bool_idx])"
      ],
      "metadata": {
        "id": "CgibSd8G5JaE"
      },
      "execution_count": null,
      "outputs": []
    },
    {
      "cell_type": "markdown",
      "source": [
        "**Array math**:\n",
        "Basic mathematical functions operate elementwise on arrays, and are available both as operator overloads and as functions in the numpy module."
      ],
      "metadata": {
        "id": "iUA626-c9KBe"
      }
    },
    {
      "cell_type": "code",
      "source": [
        "x = np.array([[1,2],[3,4]], dtype=np.float64)\n",
        "y = np.array([[5,6],[7,8]], dtype=np.float64)\n",
        "\n",
        "# Elementwise sum; both produce the array\n",
        "print (x + y)\n",
        "print (np.add(x, y))"
      ],
      "metadata": {
        "id": "MWh_CFCC9QUn"
      },
      "execution_count": null,
      "outputs": []
    },
    {
      "cell_type": "code",
      "source": [
        "# Elementwise difference; both produce the array\n",
        "print (x - y)\n",
        "print (np.subtract(x, y))"
      ],
      "metadata": {
        "id": "3p4oTBEy9UWA"
      },
      "execution_count": null,
      "outputs": []
    },
    {
      "cell_type": "code",
      "source": [
        "# Elementwise product; both produce the array\n",
        "print (x * y)\n",
        "print (np.multiply(x, y))"
      ],
      "metadata": {
        "id": "bYS5wN249YMQ"
      },
      "execution_count": null,
      "outputs": []
    },
    {
      "cell_type": "code",
      "source": [
        "# Elementwise division; both produce the array\n",
        "print (x / y)\n",
        "print (np.divide(x, y))"
      ],
      "metadata": {
        "id": "7zPHDPPO9cFI"
      },
      "execution_count": null,
      "outputs": []
    },
    {
      "cell_type": "code",
      "source": [
        "# Elementwise square root; produces the array\n",
        "print (np.sqrt(x))"
      ],
      "metadata": {
        "id": "S2XCy_uJ9fZ5"
      },
      "execution_count": null,
      "outputs": []
    },
    {
      "cell_type": "code",
      "source": [
        "v = np.array([9,10])\n",
        "w = np.array([11, 12])\n",
        "\n",
        "# Inner product of vectors; both produce 219\n",
        "print (v.dot(w))\n",
        "print (np.dot(v, w))"
      ],
      "metadata": {
        "id": "7L3NDbrP9idZ"
      },
      "execution_count": null,
      "outputs": []
    },
    {
      "cell_type": "code",
      "source": [
        "# Matrix / vector product; both produce the rank 1 array [29 67]\n",
        "print( x.dot(v))\n",
        "print (np.dot(x, v))"
      ],
      "metadata": {
        "id": "e2A6xNbe94u2"
      },
      "execution_count": null,
      "outputs": []
    },
    {
      "cell_type": "code",
      "source": [
        "# Matrix / matrix product; both produce the rank 2 array\n",
        "print (x.dot(y))\n",
        "print (np.dot(x, y))"
      ],
      "metadata": {
        "id": "71OjGnjd-AQY"
      },
      "execution_count": null,
      "outputs": []
    },
    {
      "cell_type": "code",
      "source": [
        "x = np.array([[1,2],[3,4]])\n",
        "\n",
        "# Compute sum of all elements\n",
        "print (np.sum(x))\n",
        "\n",
        "# Compute sum of each column\n",
        "print (np.sum(x, axis=0))\n",
        "\n",
        "# Compute sum of each row\n",
        "print (np.sum(x, axis=1))"
      ],
      "metadata": {
        "id": "yWAc4YSI-FW9"
      },
      "execution_count": null,
      "outputs": []
    },
    {
      "cell_type": "code",
      "source": [
        "#Transpose\n",
        "\n",
        "print (x)\n",
        "print (x.T)"
      ],
      "metadata": {
        "id": "6m96wKHW-UoQ"
      },
      "execution_count": null,
      "outputs": []
    },
    {
      "cell_type": "markdown",
      "source": [
        "**Broadcasting**\n",
        "\n",
        "Broadcasting is a powerful mechanism that allows numpy to work with arrays of different shapes when performing arithmetic operations. Frequently we have a smaller array and a larger array, and we want to use the smaller array multiple times to perform some operation on the larger array."
      ],
      "metadata": {
        "id": "7QtaGefx-sxq"
      }
    },
    {
      "cell_type": "code",
      "source": [
        "# We will add the vector v to each row of the matrix x,\n",
        "# storing the result in the matrix y\n",
        "x = np.array([[1,2,3], [4,5,6], [7,8,9], [10, 11, 12]])\n",
        "v = np.array([1, 0, 1])\n",
        "\n",
        "# Create an empty matrix with the same shape as x\n",
        "y = np.empty_like(x)\n",
        "\n",
        "# Add the vector v to each row of the matrix x with an explicit loop\n",
        "for i in range(4):\n",
        "    y[i, :] = x[i, :] + v\n",
        "\n",
        "print (y)"
      ],
      "metadata": {
        "id": "FckL4fEF-iWd"
      },
      "execution_count": null,
      "outputs": []
    },
    {
      "cell_type": "code",
      "source": [
        "vv = np.tile(v, (4, 1))  # Stack 4 copies of v on top of each other\n",
        "print (vv)"
      ],
      "metadata": {
        "id": "nENMbT9p-7As"
      },
      "execution_count": null,
      "outputs": []
    },
    {
      "cell_type": "code",
      "source": [
        "y = x + vv  # Add x and vv elementwise\n",
        "print (y)"
      ],
      "metadata": {
        "id": "DhnUU9ibG3lI"
      },
      "execution_count": null,
      "outputs": []
    },
    {
      "cell_type": "code",
      "source": [
        "import numpy as np\n",
        "\n",
        "# We will add the vector v to each row of the matrix x, storing the result in the matrix y\n",
        "x = np.array([[1,2,3], [4,5,6], [7,8,9], [10, 11, 12]])\n",
        "v = np.array([1, 0, 1])\n",
        "\n",
        "# Add v to each row of x using broadcasting\n",
        "y = x + v\n",
        "print (y)"
      ],
      "metadata": {
        "id": "KHeth5jfHbuZ"
      },
      "execution_count": null,
      "outputs": []
    },
    {
      "cell_type": "code",
      "source": [
        "# Compute outer product of vectors\n",
        "v = np.array([1,2,3])  # v has shape (3,)\n",
        "w = np.array([4,5])    # w has shape (2,)\n",
        "\n",
        "# To compute an outer product, we first reshape v to be a column vector of shape (3, 1); we can then broadcast it against w to yield an output of shape (3, 2), which is the outer product of v and w:\n",
        "print (np.reshape(v, (3, 1)) * w)"
      ],
      "metadata": {
        "id": "8EPeIaLsHg7r"
      },
      "execution_count": null,
      "outputs": []
    },
    {
      "cell_type": "code",
      "source": [
        "# Add a vector to each row of a matrix\n",
        "x = np.array([[1,2,3], [4,5,6]])\n",
        "\n",
        "# x has shape (2, 3) and v has shape (3,) so they broadcast to (2, 3), giving the following matrix:\n",
        "print (x + v)"
      ],
      "metadata": {
        "id": "oWWM1q_9IVPe"
      },
      "execution_count": null,
      "outputs": []
    },
    {
      "cell_type": "code",
      "source": [
        "# Add a vector to each column of a matrix\n",
        "print ((x.T + w).T)"
      ],
      "metadata": {
        "id": "7uY_2ScfIbCF"
      },
      "execution_count": null,
      "outputs": []
    },
    {
      "cell_type": "markdown",
      "source": [
        "**Exercises**\n",
        "\n",
        "1. Import the numpy package under the name np and print the numpy version and the configuration\n",
        "\n",
        "2. Convert a list of numeric value into a one-dimensional NumPy array\n",
        "\n",
        "3. Create a null vector of size 5\n",
        "\n",
        "4. Create a null vector of size 12 but the fourth value which is 100\n",
        "\n",
        "5. Create a vector with values ranging from 29 to 60\n",
        "\n",
        "6. Create a 3x3 matrix with values ranging from 50 to 58\n",
        "\n",
        "7. Find indices of non-zero elements from [5,8,0,9,0,0]\n",
        "\n",
        "8. Create a 5x5 identity matrix\n",
        "\n",
        "9. Create a 3x3x3 array with random values\n",
        "\n",
        "10. Create a 9x9 array with random values and find the minimum and maximum values\n",
        "\n",
        "11. Create a random vector of size 20 and find the mean value\n",
        "\n",
        "12. Create a 6x6 matrix with values 1,2,3,4 just below the diagonal\n",
        "\n",
        "13. Consider a (8,9,10) shape array, what is the index (x,y,z) of the 100th element?\n",
        "\n",
        "14. Consider two random array A and B, check if they are equal\n",
        "\n",
        "15. How to sort an array of shape (5, 4) by the nth column?\n",
        "\n",
        "16. Consider an array a = [1,2,3,4,5,6,7,8,9,10,11,12,13,14], how to generate an array b = [[1,2,3,4], [2,3,4,5], [3,4,5,6], ..., [11,12,13,14]]?\n",
        "\n",
        "17. How to find the most frequent value in an array?"
      ],
      "metadata": {
        "id": "KPY3DLemlyTV"
      }
    }
  ]
}