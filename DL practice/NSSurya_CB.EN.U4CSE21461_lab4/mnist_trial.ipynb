{
 "cells": [
  {
   "cell_type": "code",
   "execution_count": 1,
   "metadata": {
    "ExecuteTime": {
     "end_time": "2023-10-28T04:49:11.330092Z",
     "start_time": "2023-10-28T04:49:11.194084Z"
    }
   },
   "outputs": [],
   "source": [
    "import mnist_loader"
   ]
  },
  {
   "cell_type": "code",
   "execution_count": 2,
   "metadata": {
    "ExecuteTime": {
     "end_time": "2023-10-28T04:49:11.330501Z",
     "start_time": "2023-10-28T04:49:11.321050Z"
    }
   },
   "outputs": [],
   "source": [
    "import network"
   ]
  },
  {
   "cell_type": "code",
   "execution_count": 3,
   "metadata": {
    "ExecuteTime": {
     "end_time": "2023-10-28T04:49:11.591814Z",
     "start_time": "2023-10-28T04:49:11.327089Z"
    }
   },
   "outputs": [
    {
     "ename": "FileNotFoundError",
     "evalue": "[Errno 2] No such file or directory: '../data/mnist.pkl.gz'",
     "output_type": "error",
     "traceback": [
      "\u001B[0;31m---------------------------------------------------------------------------\u001B[0m",
      "\u001B[0;31mFileNotFoundError\u001B[0m                         Traceback (most recent call last)",
      "Cell \u001B[0;32mIn[3], line 1\u001B[0m\n\u001B[0;32m----> 1\u001B[0m training_data,validation_data,test_data \u001B[38;5;241m=\u001B[39m mnist_loader\u001B[38;5;241m.\u001B[39mload_data_wrapper()\n\u001B[1;32m      2\u001B[0m net \u001B[38;5;241m=\u001B[39m network\u001B[38;5;241m.\u001B[39mNetwork([\u001B[38;5;241m784\u001B[39m,\u001B[38;5;241m30\u001B[39m,\u001B[38;5;241m10\u001B[39m])\n",
      "File \u001B[0;32m~/Documents/Surya/Git/Repo1/DL practice/NSSurya_CB.EN.U4CSE21461_lab4/mnist_loader.py:68\u001B[0m, in \u001B[0;36mload_data_wrapper\u001B[0;34m()\u001B[0m\n\u001B[1;32m     47\u001B[0m \u001B[38;5;28;01mdef\u001B[39;00m \u001B[38;5;21mload_data_wrapper\u001B[39m():\n\u001B[1;32m     48\u001B[0m \u001B[38;5;250m    \u001B[39m\u001B[38;5;124;03m\"\"\"Return a tuple containing ``(training_data, validation_data,\u001B[39;00m\n\u001B[1;32m     49\u001B[0m \u001B[38;5;124;03m    test_data)``. Based on ``load_data``, but the format is more\u001B[39;00m\n\u001B[1;32m     50\u001B[0m \u001B[38;5;124;03m    convenient for use in our implementation of neural networks.\u001B[39;00m\n\u001B[0;32m   (...)\u001B[0m\n\u001B[1;32m     66\u001B[0m \u001B[38;5;124;03m    turn out to be the most convenient for use in our neural network\u001B[39;00m\n\u001B[1;32m     67\u001B[0m \u001B[38;5;124;03m    code.\"\"\"\u001B[39;00m\n\u001B[0;32m---> 68\u001B[0m     tr_d, va_d, te_d \u001B[38;5;241m=\u001B[39m load_data()\n\u001B[1;32m     69\u001B[0m     training_inputs \u001B[38;5;241m=\u001B[39m [np\u001B[38;5;241m.\u001B[39mreshape(x, (\u001B[38;5;241m784\u001B[39m, \u001B[38;5;241m1\u001B[39m)) \u001B[38;5;28;01mfor\u001B[39;00m x \u001B[38;5;129;01min\u001B[39;00m tr_d[\u001B[38;5;241m0\u001B[39m]]\n\u001B[1;32m     70\u001B[0m     \u001B[38;5;28mprint\u001B[39m(\u001B[38;5;28mtype\u001B[39m(training_inputs))\n",
      "File \u001B[0;32m~/Documents/Surya/Git/Repo1/DL practice/NSSurya_CB.EN.U4CSE21461_lab4/mnist_loader.py:42\u001B[0m, in \u001B[0;36mload_data\u001B[0;34m()\u001B[0m\n\u001B[1;32m     19\u001B[0m \u001B[38;5;28;01mdef\u001B[39;00m \u001B[38;5;21mload_data\u001B[39m():\n\u001B[1;32m     20\u001B[0m \u001B[38;5;250m    \u001B[39m\u001B[38;5;124;03m\"\"\"Return the MNIST data as a tuple containing the training data,\u001B[39;00m\n\u001B[1;32m     21\u001B[0m \u001B[38;5;124;03m    the validation data, and the test data.\u001B[39;00m\n\u001B[1;32m     22\u001B[0m \n\u001B[0;32m   (...)\u001B[0m\n\u001B[1;32m     40\u001B[0m \u001B[38;5;124;03m    below.\u001B[39;00m\n\u001B[1;32m     41\u001B[0m \u001B[38;5;124;03m    \"\"\"\u001B[39;00m\n\u001B[0;32m---> 42\u001B[0m     f \u001B[38;5;241m=\u001B[39m gzip\u001B[38;5;241m.\u001B[39mopen(\u001B[38;5;124m'\u001B[39m\u001B[38;5;124m../data/mnist.pkl.gz\u001B[39m\u001B[38;5;124m'\u001B[39m, \u001B[38;5;124m'\u001B[39m\u001B[38;5;124mrb\u001B[39m\u001B[38;5;124m'\u001B[39m)\n\u001B[1;32m     43\u001B[0m     training_data, validation_data, test_data \u001B[38;5;241m=\u001B[39m pickle\u001B[38;5;241m.\u001B[39mload(f,encoding\u001B[38;5;241m=\u001B[39m\u001B[38;5;124m'\u001B[39m\u001B[38;5;124mlatin1\u001B[39m\u001B[38;5;124m'\u001B[39m)\n\u001B[1;32m     44\u001B[0m     f\u001B[38;5;241m.\u001B[39mclose()\n",
      "File \u001B[0;32m~/anaconda3/envs/tf/lib/python3.11/gzip.py:58\u001B[0m, in \u001B[0;36mopen\u001B[0;34m(filename, mode, compresslevel, encoding, errors, newline)\u001B[0m\n\u001B[1;32m     56\u001B[0m gz_mode \u001B[38;5;241m=\u001B[39m mode\u001B[38;5;241m.\u001B[39mreplace(\u001B[38;5;124m\"\u001B[39m\u001B[38;5;124mt\u001B[39m\u001B[38;5;124m\"\u001B[39m, \u001B[38;5;124m\"\u001B[39m\u001B[38;5;124m\"\u001B[39m)\n\u001B[1;32m     57\u001B[0m \u001B[38;5;28;01mif\u001B[39;00m \u001B[38;5;28misinstance\u001B[39m(filename, (\u001B[38;5;28mstr\u001B[39m, \u001B[38;5;28mbytes\u001B[39m, os\u001B[38;5;241m.\u001B[39mPathLike)):\n\u001B[0;32m---> 58\u001B[0m     binary_file \u001B[38;5;241m=\u001B[39m GzipFile(filename, gz_mode, compresslevel)\n\u001B[1;32m     59\u001B[0m \u001B[38;5;28;01melif\u001B[39;00m \u001B[38;5;28mhasattr\u001B[39m(filename, \u001B[38;5;124m\"\u001B[39m\u001B[38;5;124mread\u001B[39m\u001B[38;5;124m\"\u001B[39m) \u001B[38;5;129;01mor\u001B[39;00m \u001B[38;5;28mhasattr\u001B[39m(filename, \u001B[38;5;124m\"\u001B[39m\u001B[38;5;124mwrite\u001B[39m\u001B[38;5;124m\"\u001B[39m):\n\u001B[1;32m     60\u001B[0m     binary_file \u001B[38;5;241m=\u001B[39m GzipFile(\u001B[38;5;28;01mNone\u001B[39;00m, gz_mode, compresslevel, filename)\n",
      "File \u001B[0;32m~/anaconda3/envs/tf/lib/python3.11/gzip.py:174\u001B[0m, in \u001B[0;36mGzipFile.__init__\u001B[0;34m(self, filename, mode, compresslevel, fileobj, mtime)\u001B[0m\n\u001B[1;32m    172\u001B[0m     mode \u001B[38;5;241m+\u001B[39m\u001B[38;5;241m=\u001B[39m \u001B[38;5;124m'\u001B[39m\u001B[38;5;124mb\u001B[39m\u001B[38;5;124m'\u001B[39m\n\u001B[1;32m    173\u001B[0m \u001B[38;5;28;01mif\u001B[39;00m fileobj \u001B[38;5;129;01mis\u001B[39;00m \u001B[38;5;28;01mNone\u001B[39;00m:\n\u001B[0;32m--> 174\u001B[0m     fileobj \u001B[38;5;241m=\u001B[39m \u001B[38;5;28mself\u001B[39m\u001B[38;5;241m.\u001B[39mmyfileobj \u001B[38;5;241m=\u001B[39m builtins\u001B[38;5;241m.\u001B[39mopen(filename, mode \u001B[38;5;129;01mor\u001B[39;00m \u001B[38;5;124m'\u001B[39m\u001B[38;5;124mrb\u001B[39m\u001B[38;5;124m'\u001B[39m)\n\u001B[1;32m    175\u001B[0m \u001B[38;5;28;01mif\u001B[39;00m filename \u001B[38;5;129;01mis\u001B[39;00m \u001B[38;5;28;01mNone\u001B[39;00m:\n\u001B[1;32m    176\u001B[0m     filename \u001B[38;5;241m=\u001B[39m \u001B[38;5;28mgetattr\u001B[39m(fileobj, \u001B[38;5;124m'\u001B[39m\u001B[38;5;124mname\u001B[39m\u001B[38;5;124m'\u001B[39m, \u001B[38;5;124m'\u001B[39m\u001B[38;5;124m'\u001B[39m)\n",
      "\u001B[0;31mFileNotFoundError\u001B[0m: [Errno 2] No such file or directory: '../data/mnist.pkl.gz'"
     ]
    }
   ],
   "source": [
    "training_data,validation_data,test_data = mnist_loader.load_data_wrapper()\n",
    "net = network.Network([784,30,10])"
   ]
  },
  {
   "cell_type": "code",
   "execution_count": null,
   "metadata": {
    "ExecuteTime": {
     "end_time": "2023-10-28T04:49:11.592205Z",
     "start_time": "2023-10-28T04:49:11.591975Z"
    }
   },
   "outputs": [],
   "source": [
    "print(type(training_data))\n"
   ]
  },
  {
   "cell_type": "code",
   "execution_count": null,
   "metadata": {
    "ExecuteTime": {
     "end_time": "2023-10-28T04:49:11.594547Z",
     "start_time": "2023-10-28T04:49:11.592649Z"
    }
   },
   "outputs": [],
   "source": [
    "net.SGD(training_data=training_data,epochs=50,mini_batch_size=10,eta=3.0,test_data=test_data)"
   ]
  },
  {
   "cell_type": "code",
   "execution_count": null,
   "metadata": {
    "ExecuteTime": {
     "start_time": "2023-10-28T04:49:11.593994Z"
    }
   },
   "outputs": [],
   "source": []
  }
 ],
 "metadata": {
  "kernelspec": {
   "display_name": "tf",
   "language": "python",
   "name": "python3"
  },
  "language_info": {
   "codemirror_mode": {
    "name": "ipython",
    "version": 3
   },
   "file_extension": ".py",
   "mimetype": "text/x-python",
   "name": "python",
   "nbconvert_exporter": "python",
   "pygments_lexer": "ipython3",
   "version": "3.11.4"
  },
  "orig_nbformat": 4
 },
 "nbformat": 4,
 "nbformat_minor": 2
}
