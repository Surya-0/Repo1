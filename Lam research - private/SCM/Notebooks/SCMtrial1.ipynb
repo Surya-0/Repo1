{
 "cells": [
  {
   "cell_type": "code",
   "execution_count": 4,
   "id": "initial_id",
   "metadata": {
    "collapsed": true,
    "ExecuteTime": {
     "end_time": "2024-03-29T12:59:39.905109Z",
     "start_time": "2024-03-29T12:59:39.887538Z"
    }
   },
   "outputs": [],
   "source": [
    "import numpy as np\n",
    "import pandas as pd\n",
    "import matplotlib.pyplot as plt"
   ]
  },
  {
   "cell_type": "code",
   "execution_count": 2,
   "outputs": [
    {
     "data": {
      "text/plain": "                    Date  SOS008L02P  SOS005L04P  SOS003L04P  SOS002L09P  \\\n0    2023-01-01 00:00:00       220.0      2598.0       287.0      2080.0   \n1    2023-01-02 00:00:00       485.0      4982.0      1048.0      4640.0   \n2    2023-01-03 00:00:00       520.0     11175.0       719.0     10801.0   \n3    2023-01-04 00:00:00       305.0      8286.0      1016.0      9004.0   \n4    2023-01-05 00:00:00       320.0      9787.0      1120.0      8875.0   \n..                   ...         ...         ...         ...         ...   \n216  2023-08-05 00:00:00       125.0       589.0       263.0      1391.0   \n217  2023-08-06 00:00:00       460.0      4229.0       310.0      1255.0   \n218  2023-08-07 00:00:00        35.0      3030.0       265.0      1825.0   \n219  2023-08-08 00:00:00        10.0      1240.0       140.0       768.0   \n220  2023-08-09 00:00:00         0.0         0.0         0.0         0.0   \n\n     SOS001L12P  SOS500M24P  SOS250M48P  SOP001L12P  POV005L04P  ...  \\\n0        2748.0    1670.634         0.0        10.0       100.0  ...   \n1        7560.0    3676.000         0.0        60.0        88.0  ...   \n2       12661.0    6334.500         0.0         0.0       195.0  ...   \n3       12087.0    5525.000         0.0       297.0       160.0  ...   \n4       12414.0    4576.000         0.0         0.0       195.0  ...   \n..          ...         ...         ...         ...         ...  ...   \n216      2925.0    1709.000       495.0         0.0       215.0  ...   \n217      2895.0    1735.000       210.0         0.0       305.0  ...   \n218      3962.0    1675.000       440.0         0.0       255.0  ...   \n219      1521.0     445.000       100.0         0.0        50.0  ...   \n220         0.0       0.000         0.0         0.0         0.0  ...   \n\n     MAHS025K  SE500G24P  SE200G24P  ATPPCH5X5K  ATPA1K24P  MAPA1K24P  \\\n0          43     1341.0        200           0          0          0   \n1           0      427.0         46           0          0          0   \n2           5      435.0          0           0          0          0   \n3           0      300.0          1           0          0          0   \n4           0      645.0          0           0          0          0   \n..        ...        ...        ...         ...        ...        ...   \n216         0      650.0         85           0          0          0   \n217         0        0.0          0           0          0          0   \n218       535      852.0         40           0          0          0   \n219         0       50.0          0           0          0          0   \n220         0        0.0          0           0          0          0   \n\n     MAP1K25P  MAC1K25P  EEA500G12P  EEA200G24P  \n0           0         0           0           0  \n1           0         0           0           0  \n2           0         0           0           0  \n3           0         0           0           0  \n4           0         0           0           0  \n..        ...       ...         ...         ...  \n216         0         0           0           0  \n217         0         0           0           0  \n218         0         0           0           0  \n219         0         0           0           0  \n220         0         0           0           0  \n\n[221 rows x 42 columns]",
      "text/html": "<div>\n<style scoped>\n    .dataframe tbody tr th:only-of-type {\n        vertical-align: middle;\n    }\n\n    .dataframe tbody tr th {\n        vertical-align: top;\n    }\n\n    .dataframe thead th {\n        text-align: right;\n    }\n</style>\n<table border=\"1\" class=\"dataframe\">\n  <thead>\n    <tr style=\"text-align: right;\">\n      <th></th>\n      <th>Date</th>\n      <th>SOS008L02P</th>\n      <th>SOS005L04P</th>\n      <th>SOS003L04P</th>\n      <th>SOS002L09P</th>\n      <th>SOS001L12P</th>\n      <th>SOS500M24P</th>\n      <th>SOS250M48P</th>\n      <th>SOP001L12P</th>\n      <th>POV005L04P</th>\n      <th>...</th>\n      <th>MAHS025K</th>\n      <th>SE500G24P</th>\n      <th>SE200G24P</th>\n      <th>ATPPCH5X5K</th>\n      <th>ATPA1K24P</th>\n      <th>MAPA1K24P</th>\n      <th>MAP1K25P</th>\n      <th>MAC1K25P</th>\n      <th>EEA500G12P</th>\n      <th>EEA200G24P</th>\n    </tr>\n  </thead>\n  <tbody>\n    <tr>\n      <th>0</th>\n      <td>2023-01-01 00:00:00</td>\n      <td>220.0</td>\n      <td>2598.0</td>\n      <td>287.0</td>\n      <td>2080.0</td>\n      <td>2748.0</td>\n      <td>1670.634</td>\n      <td>0.0</td>\n      <td>10.0</td>\n      <td>100.0</td>\n      <td>...</td>\n      <td>43</td>\n      <td>1341.0</td>\n      <td>200</td>\n      <td>0</td>\n      <td>0</td>\n      <td>0</td>\n      <td>0</td>\n      <td>0</td>\n      <td>0</td>\n      <td>0</td>\n    </tr>\n    <tr>\n      <th>1</th>\n      <td>2023-01-02 00:00:00</td>\n      <td>485.0</td>\n      <td>4982.0</td>\n      <td>1048.0</td>\n      <td>4640.0</td>\n      <td>7560.0</td>\n      <td>3676.000</td>\n      <td>0.0</td>\n      <td>60.0</td>\n      <td>88.0</td>\n      <td>...</td>\n      <td>0</td>\n      <td>427.0</td>\n      <td>46</td>\n      <td>0</td>\n      <td>0</td>\n      <td>0</td>\n      <td>0</td>\n      <td>0</td>\n      <td>0</td>\n      <td>0</td>\n    </tr>\n    <tr>\n      <th>2</th>\n      <td>2023-01-03 00:00:00</td>\n      <td>520.0</td>\n      <td>11175.0</td>\n      <td>719.0</td>\n      <td>10801.0</td>\n      <td>12661.0</td>\n      <td>6334.500</td>\n      <td>0.0</td>\n      <td>0.0</td>\n      <td>195.0</td>\n      <td>...</td>\n      <td>5</td>\n      <td>435.0</td>\n      <td>0</td>\n      <td>0</td>\n      <td>0</td>\n      <td>0</td>\n      <td>0</td>\n      <td>0</td>\n      <td>0</td>\n      <td>0</td>\n    </tr>\n    <tr>\n      <th>3</th>\n      <td>2023-01-04 00:00:00</td>\n      <td>305.0</td>\n      <td>8286.0</td>\n      <td>1016.0</td>\n      <td>9004.0</td>\n      <td>12087.0</td>\n      <td>5525.000</td>\n      <td>0.0</td>\n      <td>297.0</td>\n      <td>160.0</td>\n      <td>...</td>\n      <td>0</td>\n      <td>300.0</td>\n      <td>1</td>\n      <td>0</td>\n      <td>0</td>\n      <td>0</td>\n      <td>0</td>\n      <td>0</td>\n      <td>0</td>\n      <td>0</td>\n    </tr>\n    <tr>\n      <th>4</th>\n      <td>2023-01-05 00:00:00</td>\n      <td>320.0</td>\n      <td>9787.0</td>\n      <td>1120.0</td>\n      <td>8875.0</td>\n      <td>12414.0</td>\n      <td>4576.000</td>\n      <td>0.0</td>\n      <td>0.0</td>\n      <td>195.0</td>\n      <td>...</td>\n      <td>0</td>\n      <td>645.0</td>\n      <td>0</td>\n      <td>0</td>\n      <td>0</td>\n      <td>0</td>\n      <td>0</td>\n      <td>0</td>\n      <td>0</td>\n      <td>0</td>\n    </tr>\n    <tr>\n      <th>...</th>\n      <td>...</td>\n      <td>...</td>\n      <td>...</td>\n      <td>...</td>\n      <td>...</td>\n      <td>...</td>\n      <td>...</td>\n      <td>...</td>\n      <td>...</td>\n      <td>...</td>\n      <td>...</td>\n      <td>...</td>\n      <td>...</td>\n      <td>...</td>\n      <td>...</td>\n      <td>...</td>\n      <td>...</td>\n      <td>...</td>\n      <td>...</td>\n      <td>...</td>\n      <td>...</td>\n    </tr>\n    <tr>\n      <th>216</th>\n      <td>2023-08-05 00:00:00</td>\n      <td>125.0</td>\n      <td>589.0</td>\n      <td>263.0</td>\n      <td>1391.0</td>\n      <td>2925.0</td>\n      <td>1709.000</td>\n      <td>495.0</td>\n      <td>0.0</td>\n      <td>215.0</td>\n      <td>...</td>\n      <td>0</td>\n      <td>650.0</td>\n      <td>85</td>\n      <td>0</td>\n      <td>0</td>\n      <td>0</td>\n      <td>0</td>\n      <td>0</td>\n      <td>0</td>\n      <td>0</td>\n    </tr>\n    <tr>\n      <th>217</th>\n      <td>2023-08-06 00:00:00</td>\n      <td>460.0</td>\n      <td>4229.0</td>\n      <td>310.0</td>\n      <td>1255.0</td>\n      <td>2895.0</td>\n      <td>1735.000</td>\n      <td>210.0</td>\n      <td>0.0</td>\n      <td>305.0</td>\n      <td>...</td>\n      <td>0</td>\n      <td>0.0</td>\n      <td>0</td>\n      <td>0</td>\n      <td>0</td>\n      <td>0</td>\n      <td>0</td>\n      <td>0</td>\n      <td>0</td>\n      <td>0</td>\n    </tr>\n    <tr>\n      <th>218</th>\n      <td>2023-08-07 00:00:00</td>\n      <td>35.0</td>\n      <td>3030.0</td>\n      <td>265.0</td>\n      <td>1825.0</td>\n      <td>3962.0</td>\n      <td>1675.000</td>\n      <td>440.0</td>\n      <td>0.0</td>\n      <td>255.0</td>\n      <td>...</td>\n      <td>535</td>\n      <td>852.0</td>\n      <td>40</td>\n      <td>0</td>\n      <td>0</td>\n      <td>0</td>\n      <td>0</td>\n      <td>0</td>\n      <td>0</td>\n      <td>0</td>\n    </tr>\n    <tr>\n      <th>219</th>\n      <td>2023-08-08 00:00:00</td>\n      <td>10.0</td>\n      <td>1240.0</td>\n      <td>140.0</td>\n      <td>768.0</td>\n      <td>1521.0</td>\n      <td>445.000</td>\n      <td>100.0</td>\n      <td>0.0</td>\n      <td>50.0</td>\n      <td>...</td>\n      <td>0</td>\n      <td>50.0</td>\n      <td>0</td>\n      <td>0</td>\n      <td>0</td>\n      <td>0</td>\n      <td>0</td>\n      <td>0</td>\n      <td>0</td>\n      <td>0</td>\n    </tr>\n    <tr>\n      <th>220</th>\n      <td>2023-08-09 00:00:00</td>\n      <td>0.0</td>\n      <td>0.0</td>\n      <td>0.0</td>\n      <td>0.0</td>\n      <td>0.0</td>\n      <td>0.000</td>\n      <td>0.0</td>\n      <td>0.0</td>\n      <td>0.0</td>\n      <td>...</td>\n      <td>0</td>\n      <td>0.0</td>\n      <td>0</td>\n      <td>0</td>\n      <td>0</td>\n      <td>0</td>\n      <td>0</td>\n      <td>0</td>\n      <td>0</td>\n      <td>0</td>\n    </tr>\n  </tbody>\n</table>\n<p>221 rows × 42 columns</p>\n</div>"
     },
     "execution_count": 2,
     "metadata": {},
     "output_type": "execute_result"
    }
   ],
   "source": [
    "df = pd.read_csv('../Homogenoeus/Temporal_Data/Unit/Factory Issue.csv')\n",
    "df"
   ],
   "metadata": {
    "collapsed": false,
    "ExecuteTime": {
     "end_time": "2024-03-27T11:30:29.953379Z",
     "start_time": "2024-03-27T11:30:29.915188Z"
    }
   },
   "id": "756adbf4cc6b5061"
  },
  {
   "cell_type": "code",
   "execution_count": 3,
   "outputs": [
    {
     "data": {
      "text/plain": "Index(['Date', 'SOS008L02P', 'SOS005L04P', 'SOS003L04P', 'SOS002L09P',\n       'SOS001L12P', 'SOS500M24P', 'SOS250M48P', 'SOP001L12P', 'POV005L04P',\n       'POV002L09P', 'POV001L24P', 'POV500M24P', 'POP001L12P', 'POP015K',\n       'SO0005L04P', 'SO0002L09P', 'SO0001L12P', 'SO0500M24P', 'POP005L04P',\n       'POP002L09P', 'POP001L12P.1', 'POP500M24P', 'POPF01L12P', 'AT5X5K',\n       'ATN02K12P', 'ATN01K24P', 'MAR02K12P', 'MAR01K24P', 'ATWWP002K12P',\n       'ATWWP001K24P', 'MASR025K', 'MAHS025K', 'SE500G24P', 'SE200G24P',\n       'ATPPCH5X5K', 'ATPA1K24P', 'MAPA1K24P', 'MAP1K25P', 'MAC1K25P',\n       'EEA500G12P', 'EEA200G24P'],\n      dtype='object')"
     },
     "execution_count": 3,
     "metadata": {},
     "output_type": "execute_result"
    }
   ],
   "source": [
    "df.columns"
   ],
   "metadata": {
    "collapsed": false,
    "ExecuteTime": {
     "end_time": "2024-03-27T11:30:47.795601Z",
     "start_time": "2024-03-27T11:30:47.791457Z"
    }
   },
   "id": "3eafdb4834bf07f5"
  },
  {
   "cell_type": "code",
   "execution_count": null,
   "outputs": [],
   "source": [],
   "metadata": {
    "collapsed": false
   },
   "id": "340e13e40e722197"
  }
 ],
 "metadata": {
  "kernelspec": {
   "display_name": "Python 3",
   "language": "python",
   "name": "python3"
  },
  "language_info": {
   "codemirror_mode": {
    "name": "ipython",
    "version": 2
   },
   "file_extension": ".py",
   "mimetype": "text/x-python",
   "name": "python",
   "nbconvert_exporter": "python",
   "pygments_lexer": "ipython2",
   "version": "2.7.6"
  }
 },
 "nbformat": 4,
 "nbformat_minor": 5
}
