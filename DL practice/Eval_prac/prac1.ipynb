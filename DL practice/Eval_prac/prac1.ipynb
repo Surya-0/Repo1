{
 "cells": [
  {
   "cell_type": "code",
   "execution_count": 168,
   "id": "initial_id",
   "metadata": {
    "collapsed": true,
    "ExecuteTime": {
     "end_time": "2023-10-25T18:00:31.068209Z",
     "start_time": "2023-10-25T18:00:31.039848Z"
    }
   },
   "outputs": [],
   "source": [
    "import numpy as np\n",
    "import matplotlib.pyplot as plt\n",
    "import pandas as pd\n",
    "import seaborn as sns\n",
    "from sklearn.datasets import load_wine"
   ]
  },
  {
   "cell_type": "code",
   "execution_count": 169,
   "outputs": [],
   "source": [
    "wine = load_wine()\n",
    "data = wine.data\n",
    "target = wine.target"
   ],
   "metadata": {
    "collapsed": false,
    "ExecuteTime": {
     "end_time": "2023-10-25T18:00:31.068350Z",
     "start_time": "2023-10-25T18:00:31.044447Z"
    }
   },
   "id": "cefb2be0f0205edf"
  },
  {
   "cell_type": "code",
   "execution_count": 170,
   "outputs": [
    {
     "name": "stdout",
     "output_type": "stream",
     "text": [
      "[59, 71, 48]\n"
     ]
    }
   ],
   "source": [
    "len(np.unique(target))\n",
    "count = [0,0,0]\n",
    "for i in target:\n",
    "    count[i] +=1\n",
    "print(count)"
   ],
   "metadata": {
    "collapsed": false,
    "ExecuteTime": {
     "end_time": "2023-10-25T18:00:31.068453Z",
     "start_time": "2023-10-25T18:00:31.050730Z"
    }
   },
   "id": "be51233830a6dcd5"
  },
  {
   "cell_type": "code",
   "execution_count": 171,
   "outputs": [],
   "source": [
    "wine_data = data[:130,:]\n",
    "wine_target = target[:130]"
   ],
   "metadata": {
    "collapsed": false,
    "ExecuteTime": {
     "end_time": "2023-10-25T18:00:31.081242Z",
     "start_time": "2023-10-25T18:00:31.053152Z"
    }
   },
   "id": "162150a35dcc7685"
  },
  {
   "cell_type": "code",
   "execution_count": 172,
   "outputs": [
    {
     "data": {
      "text/plain": "array([0, 1])"
     },
     "execution_count": 172,
     "metadata": {},
     "output_type": "execute_result"
    }
   ],
   "source": [
    "np.unique(wine_target)"
   ],
   "metadata": {
    "collapsed": false,
    "ExecuteTime": {
     "end_time": "2023-10-25T18:00:31.081698Z",
     "start_time": "2023-10-25T18:00:31.056633Z"
    }
   },
   "id": "14177aee48ee12a6"
  },
  {
   "cell_type": "code",
   "execution_count": 173,
   "outputs": [],
   "source": [
    "from sklearn.model_selection import train_test_split\n",
    "X_train,X_test,y_train,y_test = train_test_split(wine_data,wine_target,test_size=0.2,random_state=42)"
   ],
   "metadata": {
    "collapsed": false,
    "ExecuteTime": {
     "end_time": "2023-10-25T18:00:31.081800Z",
     "start_time": "2023-10-25T18:00:31.059839Z"
    }
   },
   "id": "2cbf05ac99e27c59"
  },
  {
   "cell_type": "code",
   "execution_count": 174,
   "outputs": [
    {
     "data": {
      "text/plain": "array([[1.229e+01, 1.610e+00, 2.210e+00, ..., 9.060e-01, 1.820e+00,\n        8.700e+02],\n       [1.233e+01, 9.900e-01, 1.950e+00, ..., 1.060e+00, 2.310e+00,\n        7.500e+02],\n       [1.390e+01, 1.680e+00, 2.120e+00, ..., 9.100e-01, 3.330e+00,\n        9.850e+02],\n       ...,\n       [1.438e+01, 1.870e+00, 2.380e+00, ..., 1.200e+00, 3.000e+00,\n        1.547e+03],\n       [1.269e+01, 1.530e+00, 2.260e+00, ..., 9.600e-01, 2.060e+00,\n        4.950e+02],\n       [1.234e+01, 2.450e+00, 2.460e+00, ..., 8.000e-01, 3.380e+00,\n        4.380e+02]])"
     },
     "execution_count": 174,
     "metadata": {},
     "output_type": "execute_result"
    }
   ],
   "source": [
    "X_train"
   ],
   "metadata": {
    "collapsed": false,
    "ExecuteTime": {
     "end_time": "2023-10-25T18:00:31.081891Z",
     "start_time": "2023-10-25T18:00:31.063381Z"
    }
   },
   "id": "595bd3d971157f27"
  },
  {
   "cell_type": "code",
   "execution_count": 175,
   "outputs": [],
   "source": [
    "from sklearn.preprocessing import MinMaxScaler\n",
    "ms = MinMaxScaler()\n",
    "X_train = ms.fit_transform(X_train)\n",
    "X_test = ms.fit_transform(X_test)\n"
   ],
   "metadata": {
    "collapsed": false,
    "ExecuteTime": {
     "end_time": "2023-10-25T18:00:31.082945Z",
     "start_time": "2023-10-25T18:00:31.065997Z"
    }
   },
   "id": "a1e6173cb2865e7f"
  },
  {
   "cell_type": "code",
   "execution_count": 176,
   "outputs": [
    {
     "data": {
      "text/plain": "array([[0.79310345, 0.26666667, 0.64957265, 0.77941176, 0.4025974 ,\n        0.79012346, 0.56603774, 0.11538462, 0.63111111, 0.63970588,\n        0.28431373, 0.68965517, 0.60057061],\n       [0.79310345, 0.26031746, 0.52136752, 0.14705882, 0.41558442,\n        0.90740741, 0.75849057, 0.38461538, 0.58222222, 0.62205882,\n        0.25490196, 0.99137931, 0.36875892],\n       [0.81818182, 0.7015873 , 0.73504274, 0.        , 0.4025974 ,\n        0.62962963, 0.66037736, 0.05769231, 0.28      , 0.47058824,\n        0.26470588, 0.97413793, 0.40442225],\n       [0.79937304, 0.24444444, 0.56410256, 0.57352941, 0.27272727,\n        0.72839506, 0.72075472, 0.15384615, 0.40888889, 0.73529412,\n        0.39215686, 0.56034483, 0.88231098],\n       [0.        , 0.1968254 , 0.42735043, 0.92647059, 0.        ,\n        0.48148148, 0.33584906, 0.73076923, 0.43555556, 0.        ,\n        1.        , 0.55172414, 0.09201141],\n       [1.        , 0.25714286, 0.51282051, 0.16176471, 0.42857143,\n        0.9382716 , 0.6490566 , 0.23076923, 0.44444444, 0.65882353,\n        0.24509804, 0.93103448, 0.4935806 ],\n       [0.36990596, 0.0952381 , 0.04273504, 0.23529412, 0.85714286,\n        0.10493827, 0.        , 0.        , 0.65333333, 0.13970588,\n        0.57843137, 0.72413793, 0.31383738],\n       [0.43573668, 0.52698413, 0.48717949, 1.        , 0.06493506,\n        0.        , 0.21132075, 1.        , 0.17333333, 0.11764706,\n        0.16666667, 0.92241379, 0.02639087],\n       [0.52978056, 0.29206349, 0.42735043, 0.52941176, 0.01298701,\n        0.32098765, 0.47169811, 0.23076923, 0.32888889, 0.29411765,\n        0.46078431, 0.78448276, 0.31098431],\n       [0.73981191, 0.27936508, 0.78632479, 0.13235294, 0.1038961 ,\n        0.72222222, 0.62641509, 0.38461538, 0.18666667, 0.42647059,\n        0.2254902 , 0.85344828, 0.65406562],\n       [0.45141066, 0.2       , 0.42735043, 0.55882353, 1.        ,\n        0.50617284, 0.37358491, 0.34615385, 1.        , 0.10294118,\n        0.46078431, 0.34482759, 0.4700428 ],\n       [0.71159875, 0.26349206, 0.37606838, 0.26470588, 0.11688312,\n        0.44444444, 0.34339623, 0.25      , 0.14222222, 0.30147059,\n        0.32352941, 0.46551724, 0.71825963],\n       [0.35736677, 0.17777778, 0.70940171, 0.55882353, 0.24675325,\n        0.12962963, 0.17735849, 0.59615385, 0.        , 0.15441176,\n        0.74509804, 0.        , 0.05492154],\n       [0.69278997, 0.53968254, 1.        , 0.85294118, 0.42857143,\n        0.69135802, 0.53207547, 0.48076923, 0.35111111, 0.35588235,\n        0.34313725, 0.60344828, 0.32596291],\n       [0.39498433, 0.16507937, 0.23931624, 0.11764706, 0.        ,\n        0.53703704, 0.46037736, 0.28846154, 0.32888889, 0.14705882,\n        0.52941176, 0.43965517, 0.10699001],\n       [0.32915361, 0.37777778, 0.        , 0.33823529, 0.15584416,\n        0.33950617, 0.33584906, 0.23076923, 0.16444444, 0.20588235,\n        0.56862745, 0.62931034, 0.30813124],\n       [0.70532915, 0.23809524, 0.97435897, 0.04411765, 0.32467532,\n        0.56790123, 0.52830189, 0.38461538, 0.14666667, 0.39705882,\n        0.39215686, 0.47413793, 0.42938659],\n       [0.30407524, 0.00952381, 0.25641026, 0.55882353, 0.01298701,\n        0.45679012, 0.36981132, 0.30769231, 0.17777778, 0.08823529,\n        0.67647059, 0.76724138, 0.        ],\n       [0.39498433, 0.61587302, 0.44444444, 0.41176471, 0.03896104,\n        0.47530864, 0.36603774, 0.21153846, 0.42666667, 0.03676471,\n        0.45098039, 0.92241379, 0.0085592 ],\n       [0.2539185 , 0.        , 0.75213675, 0.41176471, 0.11688312,\n        0.32098765, 0.3509434 , 0.15384615, 0.58666667, 0.16911765,\n        0.09803922, 0.73275862, 0.17261056],\n       [0.99059561, 0.22222222, 0.66666667, 0.19117647, 0.2987013 ,\n        1.        , 1.        , 0.34615385, 0.36888889, 1.        ,\n        0.52941176, 0.50862069, 1.        ],\n       [0.96238245, 0.4031746 , 0.51282051, 0.41176471, 0.25974026,\n        0.78395062, 0.76981132, 0.15384615, 0.6       , 0.56617647,\n        0.54901961, 0.81034483, 0.87874465],\n       [0.13166144, 0.47936508, 0.61538462, 0.70588235, 0.14285714,\n        0.75308642, 0.56981132, 0.34615385, 0.35555556, 0.19852941,\n        0.10784314, 1.        , 0.24750357],\n       [0.96865204, 0.18730159, 0.52991453, 0.23529412, 0.12987013,\n        0.32098765, 0.43396226, 0.23076923, 0.24      , 0.45588235,\n        0.47058824, 0.50862069, 0.7146933 ],\n       [0.43887147, 0.2031746 , 0.5042735 , 0.92647059, 0.01298701,\n        0.65432099, 0.70566038, 0.48076923, 0.32888889, 0.3       ,\n        0.        , 0.52586207, 0.05278174],\n       [0.9968652 , 1.        , 0.63247863, 0.54411765, 0.33766234,\n        0.72222222, 0.51698113, 0.30769231, 0.09777778, 0.49117647,\n        0.17647059, 0.94827586, 0.57203994]])"
     },
     "execution_count": 176,
     "metadata": {},
     "output_type": "execute_result"
    }
   ],
   "source": [
    "X_test"
   ],
   "metadata": {
    "collapsed": false,
    "ExecuteTime": {
     "end_time": "2023-10-25T18:00:31.083227Z",
     "start_time": "2023-10-25T18:00:31.070859Z"
    }
   },
   "id": "b04b4a075e71965d"
  },
  {
   "cell_type": "code",
   "execution_count": 177,
   "outputs": [],
   "source": [
    "class Perceptron:\n",
    "    def __init__(self,learning_rate=0.01,iterations=1000):\n",
    "        self.learning_rate = learning_rate\n",
    "        self.iterations = iterations\n",
    "    \n",
    "    def sigmoid(self,z):\n",
    "        return 1/(1+np.exp(-z))\n",
    "    \n",
    "    def sigmoid_prime(self,X):\n",
    "        linear_model = np.dot(X,self.weights)+self.bias\n",
    "        return self.sigmoid(linear_model)*(1-self.sigmoid(linear_model))\n",
    "        \n",
    "    \n",
    "    def predict(self,X):\n",
    "        linear_model = np.dot(X,self.weights)+self.bias\n",
    "        return self.sigmoid(linear_model)\n",
    "    \n",
    "    def fit_batch(self,X,y):\n",
    "        num_samples,num_features = X.shape\n",
    "        self.weights = np.zeros(num_features)\n",
    "        self.bias = 0\n",
    "        for i in range(self.iterations):\n",
    "            y_pred = self.predict(X)\n",
    "            loss = y_pred - y\n",
    "            term = (loss*(self.sigmoid_prime(X))).astype(float)\n",
    "            print(term.shape)\n",
    "            dw = (1/num_samples)*(np.dot(term.T,X))\n",
    "            db = (1/num_samples)*(np.sum(term))\n",
    "            self.weights -= self.learning_rate*dw\n",
    "            self.bias -= self.learning_rate*db\n",
    "    \n",
    "    def fit_stochastic(self,X,y):\n",
    "        num_samples,num_features = X.shape\n",
    "        self.weights = np.zeros(num_features)\n",
    "        self.bias = 0\n",
    "        for i in range(self.iterations):\n",
    "            for j in range(num_samples):\n",
    "                y_pred = self.predict(X[j])\n",
    "                loss = y_pred - y[j]\n",
    "                term = (loss*(self.sigmoid_prime(X[j]))).astype(float)\n",
    "                dw = (1/num_samples)*(np.dot(term.T,X[j]))\n",
    "                db = (1/num_samples)*term\n",
    "                self.weights -= self.learning_rate*dw\n",
    "                self.bias -= self.learning_rate*db\n",
    "    \n",
    "    def fit_momentum(self,X,y):\n",
    "        num_samples,num_features = X.shape\n",
    "        self.weights = np.zeros(num_features)\n",
    "        self.bias = 0\n",
    "        prev_v_w,prev_v_b,gamma = 0,0,0.9\n",
    "        for i in range(self.iterations):\n",
    "            for j in range(num_samples):\n",
    "                y_pred = self.predict(X[j])\n",
    "                loss = (y_pred - y[j])\n",
    "                term = (loss*(self.sigmoid_prime(X[j]))).astype(float)\n",
    "                dw = (1/num_samples)*(np.dot(term.T,X[j]))\n",
    "                db = (1/num_samples)*term\n",
    "                v_w = -gamma*prev_v_w + self.learning_rate*dw\n",
    "                v_b = -gamma*prev_v_b +  self.learning_rate*db\n",
    "                self.weights -= v_w\n",
    "                self.bias -= v_b\n",
    "                prev_v_w = v_w\n",
    "                prev_v_b = v_b\n",
    "            \n",
    "    def test(self,X_test,y_test):\n",
    "        y_predtest = self.predict(X_test)\n",
    "        correct = 0\n",
    "        for i in range(len(y_predtest)):\n",
    "            if y_predtest[i] > 0.5:\n",
    "                y_predtest[i] = 1\n",
    "            else:\n",
    "                y_predtest[i] = 0\n",
    "            if y_predtest[i] == y_test[i]:\n",
    "                correct+=1\n",
    "        print(y_predtest)\n",
    "        print(\"Accuracy is : \",correct/len(y_predtest))"
   ],
   "metadata": {
    "collapsed": false,
    "ExecuteTime": {
     "end_time": "2023-10-25T18:00:31.083303Z",
     "start_time": "2023-10-25T18:00:31.078872Z"
    }
   },
   "id": "c16d6ce0b189eee"
  },
  {
   "cell_type": "code",
   "execution_count": 178,
   "outputs": [],
   "source": [
    "log_reg = Perceptron()\n",
    "log_reg.fit_momentum(X_train,y_train)"
   ],
   "metadata": {
    "collapsed": false,
    "ExecuteTime": {
     "end_time": "2023-10-25T18:00:31.741424Z",
     "start_time": "2023-10-25T18:00:31.082596Z"
    }
   },
   "id": "5426bb35061b6233"
  },
  {
   "cell_type": "code",
   "execution_count": 179,
   "outputs": [
    {
     "name": "stdout",
     "output_type": "stream",
     "text": [
      "[0. 0. 0. 0. 1. 0. 0. 1. 1. 0. 1. 0. 1. 1. 1. 1. 0. 1. 1. 1. 0. 0. 1. 0.\n",
      " 1. 0.]\n",
      "Accuracy is :  0.9230769230769231\n"
     ]
    }
   ],
   "source": [
    "log_reg.test(X_test,y_test)"
   ],
   "metadata": {
    "collapsed": false,
    "ExecuteTime": {
     "end_time": "2023-10-25T18:00:31.744955Z",
     "start_time": "2023-10-25T18:00:31.741808Z"
    }
   },
   "id": "100eee8aa4e8ef4b"
  },
  {
   "cell_type": "code",
   "execution_count": 180,
   "outputs": [
    {
     "name": "stdout",
     "output_type": "stream",
     "text": [
      "[0 0 0 0 1 0 1 1 1 0 1 0 1 0 1 1 0 1 1 1 0 0 1 0 1 0]\n"
     ]
    }
   ],
   "source": [
    "print(y_test)"
   ],
   "metadata": {
    "collapsed": false,
    "ExecuteTime": {
     "end_time": "2023-10-25T18:00:31.745885Z",
     "start_time": "2023-10-25T18:00:31.743490Z"
    }
   },
   "id": "c1c8ae188aa6e11"
  },
  {
   "cell_type": "code",
   "execution_count": null,
   "outputs": [],
   "source": [],
   "metadata": {
    "collapsed": false
   },
   "id": "61c80e3d1f5e3e59"
  }
 ],
 "metadata": {
  "kernelspec": {
   "display_name": "Python 3",
   "language": "python",
   "name": "python3"
  },
  "language_info": {
   "codemirror_mode": {
    "name": "ipython",
    "version": 2
   },
   "file_extension": ".py",
   "mimetype": "text/x-python",
   "name": "python",
   "nbconvert_exporter": "python",
   "pygments_lexer": "ipython2",
   "version": "2.7.6"
  }
 },
 "nbformat": 4,
 "nbformat_minor": 5
}
