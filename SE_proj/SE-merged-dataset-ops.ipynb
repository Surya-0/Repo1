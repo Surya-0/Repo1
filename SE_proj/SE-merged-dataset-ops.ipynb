{
 "cells": [
  {
   "cell_type": "code",
   "execution_count": 1,
   "id": "initial_id",
   "metadata": {
    "collapsed": true,
    "ExecuteTime": {
     "end_time": "2024-05-02T19:36:42.063280Z",
     "start_time": "2024-05-02T19:36:41.365856Z"
    }
   },
   "outputs": [],
   "source": [
    "import pandas as pd\n",
    "import numpy as np\n",
    "import matplotlib.pyplot as plt"
   ]
  },
  {
   "cell_type": "code",
   "execution_count": 2,
   "outputs": [
    {
     "data": {
      "text/plain": "                                                 title      price  \\\n0    Apple 2024 MacBook Air 13-inch Laptop with M3 ...    $979.11   \n1    Apple 2022 MacBook Air Laptop with M2 chip: 13...    $806.88   \n2    Apple 2024 MacBook Air 15-inch Laptop with M3 ...  $1,200.37   \n3    Apple 2017 Macbook Air with 1.8GHz Intel Core ...    $234.00   \n4    Apple 2023 MacBook Pro Laptop M3 Pro chip with...  $2,023.08   \n..                                                 ...        ...   \n112  Microsoft Surface Laptop 3 – 13.5\" Touch-Scree...    $647.28   \n113  Microsoft Surface Laptop Studio 2 14.4\" Touchs...  $1,419.99   \n114  Microsoft Surface Pro 9 (2022), 13\" 2-in-1 Tab...  $1,173.14   \n115  Microsoft Surface Pro 9 (2022), 13\" 2-in-1 Tab...  $1,249.99   \n116  Microsoft Surface Pro 9 (2022), 13\" 2-in-1 Tab...    $698.60   \n\n                 rating        reviews                        availability  \n0    4.4 out of 5 stars     58 ratings  Only 4 left in stock - order soon.  \n1    4.4 out of 5 stars  2,445 ratings  Only 4 left in stock - order soon.  \n2    4.5 out of 5 stars     48 ratings  Only 1 left in stock - order soon.  \n3    4.1 out of 5 stars    493 ratings                            In Stock  \n4    4.7 out of 5 stars    230 ratings  Only 3 left in stock - order soon.  \n..                  ...            ...                                 ...  \n112  4.5 out of 5 stars    531 ratings  Only 1 left in stock - order soon.  \n113  3.8 out of 5 stars      3 ratings                            In Stock  \n114  4.5 out of 5 stars    827 ratings                            In Stock  \n115  4.5 out of 5 stars    827 ratings  Only 2 left in stock - order soon.  \n116  4.5 out of 5 stars    827 ratings  Only 2 left in stock - order soon.  \n\n[117 rows x 5 columns]",
      "text/html": "<div>\n<style scoped>\n    .dataframe tbody tr th:only-of-type {\n        vertical-align: middle;\n    }\n\n    .dataframe tbody tr th {\n        vertical-align: top;\n    }\n\n    .dataframe thead th {\n        text-align: right;\n    }\n</style>\n<table border=\"1\" class=\"dataframe\">\n  <thead>\n    <tr style=\"text-align: right;\">\n      <th></th>\n      <th>title</th>\n      <th>price</th>\n      <th>rating</th>\n      <th>reviews</th>\n      <th>availability</th>\n    </tr>\n  </thead>\n  <tbody>\n    <tr>\n      <th>0</th>\n      <td>Apple 2024 MacBook Air 13-inch Laptop with M3 ...</td>\n      <td>$979.11</td>\n      <td>4.4 out of 5 stars</td>\n      <td>58 ratings</td>\n      <td>Only 4 left in stock - order soon.</td>\n    </tr>\n    <tr>\n      <th>1</th>\n      <td>Apple 2022 MacBook Air Laptop with M2 chip: 13...</td>\n      <td>$806.88</td>\n      <td>4.4 out of 5 stars</td>\n      <td>2,445 ratings</td>\n      <td>Only 4 left in stock - order soon.</td>\n    </tr>\n    <tr>\n      <th>2</th>\n      <td>Apple 2024 MacBook Air 15-inch Laptop with M3 ...</td>\n      <td>$1,200.37</td>\n      <td>4.5 out of 5 stars</td>\n      <td>48 ratings</td>\n      <td>Only 1 left in stock - order soon.</td>\n    </tr>\n    <tr>\n      <th>3</th>\n      <td>Apple 2017 Macbook Air with 1.8GHz Intel Core ...</td>\n      <td>$234.00</td>\n      <td>4.1 out of 5 stars</td>\n      <td>493 ratings</td>\n      <td>In Stock</td>\n    </tr>\n    <tr>\n      <th>4</th>\n      <td>Apple 2023 MacBook Pro Laptop M3 Pro chip with...</td>\n      <td>$2,023.08</td>\n      <td>4.7 out of 5 stars</td>\n      <td>230 ratings</td>\n      <td>Only 3 left in stock - order soon.</td>\n    </tr>\n    <tr>\n      <th>...</th>\n      <td>...</td>\n      <td>...</td>\n      <td>...</td>\n      <td>...</td>\n      <td>...</td>\n    </tr>\n    <tr>\n      <th>112</th>\n      <td>Microsoft Surface Laptop 3 – 13.5\" Touch-Scree...</td>\n      <td>$647.28</td>\n      <td>4.5 out of 5 stars</td>\n      <td>531 ratings</td>\n      <td>Only 1 left in stock - order soon.</td>\n    </tr>\n    <tr>\n      <th>113</th>\n      <td>Microsoft Surface Laptop Studio 2 14.4\" Touchs...</td>\n      <td>$1,419.99</td>\n      <td>3.8 out of 5 stars</td>\n      <td>3 ratings</td>\n      <td>In Stock</td>\n    </tr>\n    <tr>\n      <th>114</th>\n      <td>Microsoft Surface Pro 9 (2022), 13\" 2-in-1 Tab...</td>\n      <td>$1,173.14</td>\n      <td>4.5 out of 5 stars</td>\n      <td>827 ratings</td>\n      <td>In Stock</td>\n    </tr>\n    <tr>\n      <th>115</th>\n      <td>Microsoft Surface Pro 9 (2022), 13\" 2-in-1 Tab...</td>\n      <td>$1,249.99</td>\n      <td>4.5 out of 5 stars</td>\n      <td>827 ratings</td>\n      <td>Only 2 left in stock - order soon.</td>\n    </tr>\n    <tr>\n      <th>116</th>\n      <td>Microsoft Surface Pro 9 (2022), 13\" 2-in-1 Tab...</td>\n      <td>$698.60</td>\n      <td>4.5 out of 5 stars</td>\n      <td>827 ratings</td>\n      <td>Only 2 left in stock - order soon.</td>\n    </tr>\n  </tbody>\n</table>\n<p>117 rows × 5 columns</p>\n</div>"
     },
     "execution_count": 2,
     "metadata": {},
     "output_type": "execute_result"
    }
   ],
   "source": [
    "df = pd.read_csv('Scraped_datasets/Final_merged_data.csv')\n",
    "df"
   ],
   "metadata": {
    "collapsed": false,
    "ExecuteTime": {
     "end_time": "2024-05-02T19:37:12.077594Z",
     "start_time": "2024-05-02T19:37:12.063376Z"
    }
   },
   "id": "f57555fb503cbd66"
  },
  {
   "cell_type": "code",
   "execution_count": 3,
   "outputs": [],
   "source": [
    "# Create a new column 'brand' by splitting the 'title' column and keeping the first element\n",
    "df['brand'] = df['title'].str.split(\" \").str[0]\n",
    "\n",
    "# Create a new column 'product_details' by splitting the 'title' column and keeping the rest of the title\n",
    "df['product_details'] = df['title'].str.split(\" \").str[1:].str.join(\" \")"
   ],
   "metadata": {
    "collapsed": false,
    "ExecuteTime": {
     "end_time": "2024-05-02T19:37:26.717828Z",
     "start_time": "2024-05-02T19:37:26.716199Z"
    }
   },
   "id": "74c557d0b15154aa"
  },
  {
   "cell_type": "code",
   "execution_count": 4,
   "outputs": [
    {
     "data": {
      "text/plain": "                                                 title      price  \\\n0    Apple 2024 MacBook Air 13-inch Laptop with M3 ...    $979.11   \n1    Apple 2022 MacBook Air Laptop with M2 chip: 13...    $806.88   \n2    Apple 2024 MacBook Air 15-inch Laptop with M3 ...  $1,200.37   \n3    Apple 2017 Macbook Air with 1.8GHz Intel Core ...    $234.00   \n4    Apple 2023 MacBook Pro Laptop M3 Pro chip with...  $2,023.08   \n..                                                 ...        ...   \n112  Microsoft Surface Laptop 3 – 13.5\" Touch-Scree...    $647.28   \n113  Microsoft Surface Laptop Studio 2 14.4\" Touchs...  $1,419.99   \n114  Microsoft Surface Pro 9 (2022), 13\" 2-in-1 Tab...  $1,173.14   \n115  Microsoft Surface Pro 9 (2022), 13\" 2-in-1 Tab...  $1,249.99   \n116  Microsoft Surface Pro 9 (2022), 13\" 2-in-1 Tab...    $698.60   \n\n                 rating        reviews                        availability  \\\n0    4.4 out of 5 stars     58 ratings  Only 4 left in stock - order soon.   \n1    4.4 out of 5 stars  2,445 ratings  Only 4 left in stock - order soon.   \n2    4.5 out of 5 stars     48 ratings  Only 1 left in stock - order soon.   \n3    4.1 out of 5 stars    493 ratings                            In Stock   \n4    4.7 out of 5 stars    230 ratings  Only 3 left in stock - order soon.   \n..                  ...            ...                                 ...   \n112  4.5 out of 5 stars    531 ratings  Only 1 left in stock - order soon.   \n113  3.8 out of 5 stars      3 ratings                            In Stock   \n114  4.5 out of 5 stars    827 ratings                            In Stock   \n115  4.5 out of 5 stars    827 ratings  Only 2 left in stock - order soon.   \n116  4.5 out of 5 stars    827 ratings  Only 2 left in stock - order soon.   \n\n         brand                                    product_details  \n0        Apple  2024 MacBook Air 13-inch Laptop with M3 chip: ...  \n1        Apple  2022 MacBook Air Laptop with M2 chip: 13.6-inc...  \n2        Apple  2024 MacBook Air 15-inch Laptop with M3 chip: ...  \n3        Apple  2017 Macbook Air with 1.8GHz Intel Core i5 (13...  \n4        Apple  2023 MacBook Pro Laptop M3 Pro chip with 12‑co...  \n..         ...                                                ...  \n112  Microsoft  Surface Laptop 3 – 13.5\" Touch-Screen – Intel ...  \n113  Microsoft  Surface Laptop Studio 2 14.4\" Touchscreen Conv...  \n114  Microsoft  Surface Pro 9 (2022), 13\" 2-in-1 Tablet & Lapt...  \n115  Microsoft  Surface Pro 9 (2022), 13\" 2-in-1 Tablet & Lapt...  \n116  Microsoft  Surface Pro 9 (2022), 13\" 2-in-1 Tablet & Lapt...  \n\n[117 rows x 7 columns]",
      "text/html": "<div>\n<style scoped>\n    .dataframe tbody tr th:only-of-type {\n        vertical-align: middle;\n    }\n\n    .dataframe tbody tr th {\n        vertical-align: top;\n    }\n\n    .dataframe thead th {\n        text-align: right;\n    }\n</style>\n<table border=\"1\" class=\"dataframe\">\n  <thead>\n    <tr style=\"text-align: right;\">\n      <th></th>\n      <th>title</th>\n      <th>price</th>\n      <th>rating</th>\n      <th>reviews</th>\n      <th>availability</th>\n      <th>brand</th>\n      <th>product_details</th>\n    </tr>\n  </thead>\n  <tbody>\n    <tr>\n      <th>0</th>\n      <td>Apple 2024 MacBook Air 13-inch Laptop with M3 ...</td>\n      <td>$979.11</td>\n      <td>4.4 out of 5 stars</td>\n      <td>58 ratings</td>\n      <td>Only 4 left in stock - order soon.</td>\n      <td>Apple</td>\n      <td>2024 MacBook Air 13-inch Laptop with M3 chip: ...</td>\n    </tr>\n    <tr>\n      <th>1</th>\n      <td>Apple 2022 MacBook Air Laptop with M2 chip: 13...</td>\n      <td>$806.88</td>\n      <td>4.4 out of 5 stars</td>\n      <td>2,445 ratings</td>\n      <td>Only 4 left in stock - order soon.</td>\n      <td>Apple</td>\n      <td>2022 MacBook Air Laptop with M2 chip: 13.6-inc...</td>\n    </tr>\n    <tr>\n      <th>2</th>\n      <td>Apple 2024 MacBook Air 15-inch Laptop with M3 ...</td>\n      <td>$1,200.37</td>\n      <td>4.5 out of 5 stars</td>\n      <td>48 ratings</td>\n      <td>Only 1 left in stock - order soon.</td>\n      <td>Apple</td>\n      <td>2024 MacBook Air 15-inch Laptop with M3 chip: ...</td>\n    </tr>\n    <tr>\n      <th>3</th>\n      <td>Apple 2017 Macbook Air with 1.8GHz Intel Core ...</td>\n      <td>$234.00</td>\n      <td>4.1 out of 5 stars</td>\n      <td>493 ratings</td>\n      <td>In Stock</td>\n      <td>Apple</td>\n      <td>2017 Macbook Air with 1.8GHz Intel Core i5 (13...</td>\n    </tr>\n    <tr>\n      <th>4</th>\n      <td>Apple 2023 MacBook Pro Laptop M3 Pro chip with...</td>\n      <td>$2,023.08</td>\n      <td>4.7 out of 5 stars</td>\n      <td>230 ratings</td>\n      <td>Only 3 left in stock - order soon.</td>\n      <td>Apple</td>\n      <td>2023 MacBook Pro Laptop M3 Pro chip with 12‑co...</td>\n    </tr>\n    <tr>\n      <th>...</th>\n      <td>...</td>\n      <td>...</td>\n      <td>...</td>\n      <td>...</td>\n      <td>...</td>\n      <td>...</td>\n      <td>...</td>\n    </tr>\n    <tr>\n      <th>112</th>\n      <td>Microsoft Surface Laptop 3 – 13.5\" Touch-Scree...</td>\n      <td>$647.28</td>\n      <td>4.5 out of 5 stars</td>\n      <td>531 ratings</td>\n      <td>Only 1 left in stock - order soon.</td>\n      <td>Microsoft</td>\n      <td>Surface Laptop 3 – 13.5\" Touch-Screen – Intel ...</td>\n    </tr>\n    <tr>\n      <th>113</th>\n      <td>Microsoft Surface Laptop Studio 2 14.4\" Touchs...</td>\n      <td>$1,419.99</td>\n      <td>3.8 out of 5 stars</td>\n      <td>3 ratings</td>\n      <td>In Stock</td>\n      <td>Microsoft</td>\n      <td>Surface Laptop Studio 2 14.4\" Touchscreen Conv...</td>\n    </tr>\n    <tr>\n      <th>114</th>\n      <td>Microsoft Surface Pro 9 (2022), 13\" 2-in-1 Tab...</td>\n      <td>$1,173.14</td>\n      <td>4.5 out of 5 stars</td>\n      <td>827 ratings</td>\n      <td>In Stock</td>\n      <td>Microsoft</td>\n      <td>Surface Pro 9 (2022), 13\" 2-in-1 Tablet &amp; Lapt...</td>\n    </tr>\n    <tr>\n      <th>115</th>\n      <td>Microsoft Surface Pro 9 (2022), 13\" 2-in-1 Tab...</td>\n      <td>$1,249.99</td>\n      <td>4.5 out of 5 stars</td>\n      <td>827 ratings</td>\n      <td>Only 2 left in stock - order soon.</td>\n      <td>Microsoft</td>\n      <td>Surface Pro 9 (2022), 13\" 2-in-1 Tablet &amp; Lapt...</td>\n    </tr>\n    <tr>\n      <th>116</th>\n      <td>Microsoft Surface Pro 9 (2022), 13\" 2-in-1 Tab...</td>\n      <td>$698.60</td>\n      <td>4.5 out of 5 stars</td>\n      <td>827 ratings</td>\n      <td>Only 2 left in stock - order soon.</td>\n      <td>Microsoft</td>\n      <td>Surface Pro 9 (2022), 13\" 2-in-1 Tablet &amp; Lapt...</td>\n    </tr>\n  </tbody>\n</table>\n<p>117 rows × 7 columns</p>\n</div>"
     },
     "execution_count": 4,
     "metadata": {},
     "output_type": "execute_result"
    }
   ],
   "source": [
    "df"
   ],
   "metadata": {
    "collapsed": false,
    "ExecuteTime": {
     "end_time": "2024-05-02T19:37:27.778692Z",
     "start_time": "2024-05-02T19:37:27.767687Z"
    }
   },
   "id": "9038df41847fc707"
  },
  {
   "cell_type": "code",
   "execution_count": 5,
   "outputs": [
    {
     "data": {
      "text/plain": "0      Apple 2024 MacBook Air 13-inch Laptop with M3 ...\n1      Apple 2022 MacBook Air Laptop with M2 chip: 13...\n2      Apple 2024 MacBook Air 15-inch Laptop with M3 ...\n3      Apple 2017 Macbook Air with 1.8GHz Intel Core ...\n4      Apple 2023 MacBook Pro Laptop M3 Pro chip with...\n                             ...                        \n112    Microsoft Surface Laptop 3 – 13.5\" Touch-Scree...\n113    Microsoft Surface Laptop Studio 2 14.4\" Touchs...\n114    Microsoft Surface Pro 9 (2022), 13\" 2-in-1 Tab...\n115    Microsoft Surface Pro 9 (2022), 13\" 2-in-1 Tab...\n116    Microsoft Surface Pro 9 (2022), 13\" 2-in-1 Tab...\nName: title, Length: 117, dtype: object"
     },
     "execution_count": 5,
     "metadata": {},
     "output_type": "execute_result"
    }
   ],
   "source": [
    "df['title']"
   ],
   "metadata": {
    "collapsed": false,
    "ExecuteTime": {
     "end_time": "2024-05-02T19:38:07.421831Z",
     "start_time": "2024-05-02T19:38:07.411844Z"
    }
   },
   "id": "3e0c31c239de7c0b"
  },
  {
   "cell_type": "code",
   "execution_count": 6,
   "outputs": [],
   "source": [
    "import pandas as pd\n",
    "\n",
    "# Assuming df is your DataFrame and it has columns 'brand' and 'product_details'\n",
    "df['brand_product'] = df['brand'] + \"_\" + df['product_details']\n",
    "\n",
    "# Assign unique id to each unique brand_product\n",
    "df['product_id'] = pd.factorize(df['brand_product'])[0]"
   ],
   "metadata": {
    "collapsed": false,
    "ExecuteTime": {
     "end_time": "2024-05-02T20:02:34.855150Z",
     "start_time": "2024-05-02T20:02:34.809244Z"
    }
   },
   "id": "9a2c56f49022f5ef"
  },
  {
   "cell_type": "code",
   "execution_count": 7,
   "outputs": [
    {
     "data": {
      "text/plain": "                                                 title      price  \\\n0    Apple 2024 MacBook Air 13-inch Laptop with M3 ...    $979.11   \n1    Apple 2022 MacBook Air Laptop with M2 chip: 13...    $806.88   \n2    Apple 2024 MacBook Air 15-inch Laptop with M3 ...  $1,200.37   \n3    Apple 2017 Macbook Air with 1.8GHz Intel Core ...    $234.00   \n4    Apple 2023 MacBook Pro Laptop M3 Pro chip with...  $2,023.08   \n..                                                 ...        ...   \n112  Microsoft Surface Laptop 3 – 13.5\" Touch-Scree...    $647.28   \n113  Microsoft Surface Laptop Studio 2 14.4\" Touchs...  $1,419.99   \n114  Microsoft Surface Pro 9 (2022), 13\" 2-in-1 Tab...  $1,173.14   \n115  Microsoft Surface Pro 9 (2022), 13\" 2-in-1 Tab...  $1,249.99   \n116  Microsoft Surface Pro 9 (2022), 13\" 2-in-1 Tab...    $698.60   \n\n                 rating        reviews                        availability  \\\n0    4.4 out of 5 stars     58 ratings  Only 4 left in stock - order soon.   \n1    4.4 out of 5 stars  2,445 ratings  Only 4 left in stock - order soon.   \n2    4.5 out of 5 stars     48 ratings  Only 1 left in stock - order soon.   \n3    4.1 out of 5 stars    493 ratings                            In Stock   \n4    4.7 out of 5 stars    230 ratings  Only 3 left in stock - order soon.   \n..                  ...            ...                                 ...   \n112  4.5 out of 5 stars    531 ratings  Only 1 left in stock - order soon.   \n113  3.8 out of 5 stars      3 ratings                            In Stock   \n114  4.5 out of 5 stars    827 ratings                            In Stock   \n115  4.5 out of 5 stars    827 ratings  Only 2 left in stock - order soon.   \n116  4.5 out of 5 stars    827 ratings  Only 2 left in stock - order soon.   \n\n         brand                                    product_details  \\\n0        Apple  2024 MacBook Air 13-inch Laptop with M3 chip: ...   \n1        Apple  2022 MacBook Air Laptop with M2 chip: 13.6-inc...   \n2        Apple  2024 MacBook Air 15-inch Laptop with M3 chip: ...   \n3        Apple  2017 Macbook Air with 1.8GHz Intel Core i5 (13...   \n4        Apple  2023 MacBook Pro Laptop M3 Pro chip with 12‑co...   \n..         ...                                                ...   \n112  Microsoft  Surface Laptop 3 – 13.5\" Touch-Screen – Intel ...   \n113  Microsoft  Surface Laptop Studio 2 14.4\" Touchscreen Conv...   \n114  Microsoft  Surface Pro 9 (2022), 13\" 2-in-1 Tablet & Lapt...   \n115  Microsoft  Surface Pro 9 (2022), 13\" 2-in-1 Tablet & Lapt...   \n116  Microsoft  Surface Pro 9 (2022), 13\" 2-in-1 Tablet & Lapt...   \n\n                                         brand_product  product_id  \n0    Apple_2024 MacBook Air 13-inch Laptop with M3 ...           0  \n1    Apple_2022 MacBook Air Laptop with M2 chip: 13...           1  \n2    Apple_2024 MacBook Air 15-inch Laptop with M3 ...           2  \n3    Apple_2017 Macbook Air with 1.8GHz Intel Core ...           3  \n4    Apple_2023 MacBook Pro Laptop M3 Pro chip with...           4  \n..                                                 ...         ...  \n112  Microsoft_Surface Laptop 3 – 13.5\" Touch-Scree...         106  \n113  Microsoft_Surface Laptop Studio 2 14.4\" Touchs...         107  \n114  Microsoft_Surface Pro 9 (2022), 13\" 2-in-1 Tab...         108  \n115  Microsoft_Surface Pro 9 (2022), 13\" 2-in-1 Tab...         109  \n116  Microsoft_Surface Pro 9 (2022), 13\" 2-in-1 Tab...         110  \n\n[117 rows x 9 columns]",
      "text/html": "<div>\n<style scoped>\n    .dataframe tbody tr th:only-of-type {\n        vertical-align: middle;\n    }\n\n    .dataframe tbody tr th {\n        vertical-align: top;\n    }\n\n    .dataframe thead th {\n        text-align: right;\n    }\n</style>\n<table border=\"1\" class=\"dataframe\">\n  <thead>\n    <tr style=\"text-align: right;\">\n      <th></th>\n      <th>title</th>\n      <th>price</th>\n      <th>rating</th>\n      <th>reviews</th>\n      <th>availability</th>\n      <th>brand</th>\n      <th>product_details</th>\n      <th>brand_product</th>\n      <th>product_id</th>\n    </tr>\n  </thead>\n  <tbody>\n    <tr>\n      <th>0</th>\n      <td>Apple 2024 MacBook Air 13-inch Laptop with M3 ...</td>\n      <td>$979.11</td>\n      <td>4.4 out of 5 stars</td>\n      <td>58 ratings</td>\n      <td>Only 4 left in stock - order soon.</td>\n      <td>Apple</td>\n      <td>2024 MacBook Air 13-inch Laptop with M3 chip: ...</td>\n      <td>Apple_2024 MacBook Air 13-inch Laptop with M3 ...</td>\n      <td>0</td>\n    </tr>\n    <tr>\n      <th>1</th>\n      <td>Apple 2022 MacBook Air Laptop with M2 chip: 13...</td>\n      <td>$806.88</td>\n      <td>4.4 out of 5 stars</td>\n      <td>2,445 ratings</td>\n      <td>Only 4 left in stock - order soon.</td>\n      <td>Apple</td>\n      <td>2022 MacBook Air Laptop with M2 chip: 13.6-inc...</td>\n      <td>Apple_2022 MacBook Air Laptop with M2 chip: 13...</td>\n      <td>1</td>\n    </tr>\n    <tr>\n      <th>2</th>\n      <td>Apple 2024 MacBook Air 15-inch Laptop with M3 ...</td>\n      <td>$1,200.37</td>\n      <td>4.5 out of 5 stars</td>\n      <td>48 ratings</td>\n      <td>Only 1 left in stock - order soon.</td>\n      <td>Apple</td>\n      <td>2024 MacBook Air 15-inch Laptop with M3 chip: ...</td>\n      <td>Apple_2024 MacBook Air 15-inch Laptop with M3 ...</td>\n      <td>2</td>\n    </tr>\n    <tr>\n      <th>3</th>\n      <td>Apple 2017 Macbook Air with 1.8GHz Intel Core ...</td>\n      <td>$234.00</td>\n      <td>4.1 out of 5 stars</td>\n      <td>493 ratings</td>\n      <td>In Stock</td>\n      <td>Apple</td>\n      <td>2017 Macbook Air with 1.8GHz Intel Core i5 (13...</td>\n      <td>Apple_2017 Macbook Air with 1.8GHz Intel Core ...</td>\n      <td>3</td>\n    </tr>\n    <tr>\n      <th>4</th>\n      <td>Apple 2023 MacBook Pro Laptop M3 Pro chip with...</td>\n      <td>$2,023.08</td>\n      <td>4.7 out of 5 stars</td>\n      <td>230 ratings</td>\n      <td>Only 3 left in stock - order soon.</td>\n      <td>Apple</td>\n      <td>2023 MacBook Pro Laptop M3 Pro chip with 12‑co...</td>\n      <td>Apple_2023 MacBook Pro Laptop M3 Pro chip with...</td>\n      <td>4</td>\n    </tr>\n    <tr>\n      <th>...</th>\n      <td>...</td>\n      <td>...</td>\n      <td>...</td>\n      <td>...</td>\n      <td>...</td>\n      <td>...</td>\n      <td>...</td>\n      <td>...</td>\n      <td>...</td>\n    </tr>\n    <tr>\n      <th>112</th>\n      <td>Microsoft Surface Laptop 3 – 13.5\" Touch-Scree...</td>\n      <td>$647.28</td>\n      <td>4.5 out of 5 stars</td>\n      <td>531 ratings</td>\n      <td>Only 1 left in stock - order soon.</td>\n      <td>Microsoft</td>\n      <td>Surface Laptop 3 – 13.5\" Touch-Screen – Intel ...</td>\n      <td>Microsoft_Surface Laptop 3 – 13.5\" Touch-Scree...</td>\n      <td>106</td>\n    </tr>\n    <tr>\n      <th>113</th>\n      <td>Microsoft Surface Laptop Studio 2 14.4\" Touchs...</td>\n      <td>$1,419.99</td>\n      <td>3.8 out of 5 stars</td>\n      <td>3 ratings</td>\n      <td>In Stock</td>\n      <td>Microsoft</td>\n      <td>Surface Laptop Studio 2 14.4\" Touchscreen Conv...</td>\n      <td>Microsoft_Surface Laptop Studio 2 14.4\" Touchs...</td>\n      <td>107</td>\n    </tr>\n    <tr>\n      <th>114</th>\n      <td>Microsoft Surface Pro 9 (2022), 13\" 2-in-1 Tab...</td>\n      <td>$1,173.14</td>\n      <td>4.5 out of 5 stars</td>\n      <td>827 ratings</td>\n      <td>In Stock</td>\n      <td>Microsoft</td>\n      <td>Surface Pro 9 (2022), 13\" 2-in-1 Tablet &amp; Lapt...</td>\n      <td>Microsoft_Surface Pro 9 (2022), 13\" 2-in-1 Tab...</td>\n      <td>108</td>\n    </tr>\n    <tr>\n      <th>115</th>\n      <td>Microsoft Surface Pro 9 (2022), 13\" 2-in-1 Tab...</td>\n      <td>$1,249.99</td>\n      <td>4.5 out of 5 stars</td>\n      <td>827 ratings</td>\n      <td>Only 2 left in stock - order soon.</td>\n      <td>Microsoft</td>\n      <td>Surface Pro 9 (2022), 13\" 2-in-1 Tablet &amp; Lapt...</td>\n      <td>Microsoft_Surface Pro 9 (2022), 13\" 2-in-1 Tab...</td>\n      <td>109</td>\n    </tr>\n    <tr>\n      <th>116</th>\n      <td>Microsoft Surface Pro 9 (2022), 13\" 2-in-1 Tab...</td>\n      <td>$698.60</td>\n      <td>4.5 out of 5 stars</td>\n      <td>827 ratings</td>\n      <td>Only 2 left in stock - order soon.</td>\n      <td>Microsoft</td>\n      <td>Surface Pro 9 (2022), 13\" 2-in-1 Tablet &amp; Lapt...</td>\n      <td>Microsoft_Surface Pro 9 (2022), 13\" 2-in-1 Tab...</td>\n      <td>110</td>\n    </tr>\n  </tbody>\n</table>\n<p>117 rows × 9 columns</p>\n</div>"
     },
     "execution_count": 7,
     "metadata": {},
     "output_type": "execute_result"
    }
   ],
   "source": [
    "df"
   ],
   "metadata": {
    "collapsed": false,
    "ExecuteTime": {
     "end_time": "2024-05-02T20:02:36.059016Z",
     "start_time": "2024-05-02T20:02:35.962427Z"
    }
   },
   "id": "b92467a66c6b8278"
  },
  {
   "cell_type": "code",
   "execution_count": 8,
   "outputs": [],
   "source": [
    "df.drop(columns=['brand_product'], inplace=True)"
   ],
   "metadata": {
    "collapsed": false,
    "ExecuteTime": {
     "end_time": "2024-05-02T20:03:37.564226Z",
     "start_time": "2024-05-02T20:03:37.550175Z"
    }
   },
   "id": "fed8a18454bdfab5"
  },
  {
   "cell_type": "code",
   "execution_count": 9,
   "outputs": [
    {
     "data": {
      "text/plain": "                                                 title      price  \\\n0    Apple 2024 MacBook Air 13-inch Laptop with M3 ...    $979.11   \n1    Apple 2022 MacBook Air Laptop with M2 chip: 13...    $806.88   \n2    Apple 2024 MacBook Air 15-inch Laptop with M3 ...  $1,200.37   \n3    Apple 2017 Macbook Air with 1.8GHz Intel Core ...    $234.00   \n4    Apple 2023 MacBook Pro Laptop M3 Pro chip with...  $2,023.08   \n..                                                 ...        ...   \n112  Microsoft Surface Laptop 3 – 13.5\" Touch-Scree...    $647.28   \n113  Microsoft Surface Laptop Studio 2 14.4\" Touchs...  $1,419.99   \n114  Microsoft Surface Pro 9 (2022), 13\" 2-in-1 Tab...  $1,173.14   \n115  Microsoft Surface Pro 9 (2022), 13\" 2-in-1 Tab...  $1,249.99   \n116  Microsoft Surface Pro 9 (2022), 13\" 2-in-1 Tab...    $698.60   \n\n                 rating        reviews                        availability  \\\n0    4.4 out of 5 stars     58 ratings  Only 4 left in stock - order soon.   \n1    4.4 out of 5 stars  2,445 ratings  Only 4 left in stock - order soon.   \n2    4.5 out of 5 stars     48 ratings  Only 1 left in stock - order soon.   \n3    4.1 out of 5 stars    493 ratings                            In Stock   \n4    4.7 out of 5 stars    230 ratings  Only 3 left in stock - order soon.   \n..                  ...            ...                                 ...   \n112  4.5 out of 5 stars    531 ratings  Only 1 left in stock - order soon.   \n113  3.8 out of 5 stars      3 ratings                            In Stock   \n114  4.5 out of 5 stars    827 ratings                            In Stock   \n115  4.5 out of 5 stars    827 ratings  Only 2 left in stock - order soon.   \n116  4.5 out of 5 stars    827 ratings  Only 2 left in stock - order soon.   \n\n         brand                                    product_details  product_id  \n0        Apple  2024 MacBook Air 13-inch Laptop with M3 chip: ...           0  \n1        Apple  2022 MacBook Air Laptop with M2 chip: 13.6-inc...           1  \n2        Apple  2024 MacBook Air 15-inch Laptop with M3 chip: ...           2  \n3        Apple  2017 Macbook Air with 1.8GHz Intel Core i5 (13...           3  \n4        Apple  2023 MacBook Pro Laptop M3 Pro chip with 12‑co...           4  \n..         ...                                                ...         ...  \n112  Microsoft  Surface Laptop 3 – 13.5\" Touch-Screen – Intel ...         106  \n113  Microsoft  Surface Laptop Studio 2 14.4\" Touchscreen Conv...         107  \n114  Microsoft  Surface Pro 9 (2022), 13\" 2-in-1 Tablet & Lapt...         108  \n115  Microsoft  Surface Pro 9 (2022), 13\" 2-in-1 Tablet & Lapt...         109  \n116  Microsoft  Surface Pro 9 (2022), 13\" 2-in-1 Tablet & Lapt...         110  \n\n[117 rows x 8 columns]",
      "text/html": "<div>\n<style scoped>\n    .dataframe tbody tr th:only-of-type {\n        vertical-align: middle;\n    }\n\n    .dataframe tbody tr th {\n        vertical-align: top;\n    }\n\n    .dataframe thead th {\n        text-align: right;\n    }\n</style>\n<table border=\"1\" class=\"dataframe\">\n  <thead>\n    <tr style=\"text-align: right;\">\n      <th></th>\n      <th>title</th>\n      <th>price</th>\n      <th>rating</th>\n      <th>reviews</th>\n      <th>availability</th>\n      <th>brand</th>\n      <th>product_details</th>\n      <th>product_id</th>\n    </tr>\n  </thead>\n  <tbody>\n    <tr>\n      <th>0</th>\n      <td>Apple 2024 MacBook Air 13-inch Laptop with M3 ...</td>\n      <td>$979.11</td>\n      <td>4.4 out of 5 stars</td>\n      <td>58 ratings</td>\n      <td>Only 4 left in stock - order soon.</td>\n      <td>Apple</td>\n      <td>2024 MacBook Air 13-inch Laptop with M3 chip: ...</td>\n      <td>0</td>\n    </tr>\n    <tr>\n      <th>1</th>\n      <td>Apple 2022 MacBook Air Laptop with M2 chip: 13...</td>\n      <td>$806.88</td>\n      <td>4.4 out of 5 stars</td>\n      <td>2,445 ratings</td>\n      <td>Only 4 left in stock - order soon.</td>\n      <td>Apple</td>\n      <td>2022 MacBook Air Laptop with M2 chip: 13.6-inc...</td>\n      <td>1</td>\n    </tr>\n    <tr>\n      <th>2</th>\n      <td>Apple 2024 MacBook Air 15-inch Laptop with M3 ...</td>\n      <td>$1,200.37</td>\n      <td>4.5 out of 5 stars</td>\n      <td>48 ratings</td>\n      <td>Only 1 left in stock - order soon.</td>\n      <td>Apple</td>\n      <td>2024 MacBook Air 15-inch Laptop with M3 chip: ...</td>\n      <td>2</td>\n    </tr>\n    <tr>\n      <th>3</th>\n      <td>Apple 2017 Macbook Air with 1.8GHz Intel Core ...</td>\n      <td>$234.00</td>\n      <td>4.1 out of 5 stars</td>\n      <td>493 ratings</td>\n      <td>In Stock</td>\n      <td>Apple</td>\n      <td>2017 Macbook Air with 1.8GHz Intel Core i5 (13...</td>\n      <td>3</td>\n    </tr>\n    <tr>\n      <th>4</th>\n      <td>Apple 2023 MacBook Pro Laptop M3 Pro chip with...</td>\n      <td>$2,023.08</td>\n      <td>4.7 out of 5 stars</td>\n      <td>230 ratings</td>\n      <td>Only 3 left in stock - order soon.</td>\n      <td>Apple</td>\n      <td>2023 MacBook Pro Laptop M3 Pro chip with 12‑co...</td>\n      <td>4</td>\n    </tr>\n    <tr>\n      <th>...</th>\n      <td>...</td>\n      <td>...</td>\n      <td>...</td>\n      <td>...</td>\n      <td>...</td>\n      <td>...</td>\n      <td>...</td>\n      <td>...</td>\n    </tr>\n    <tr>\n      <th>112</th>\n      <td>Microsoft Surface Laptop 3 – 13.5\" Touch-Scree...</td>\n      <td>$647.28</td>\n      <td>4.5 out of 5 stars</td>\n      <td>531 ratings</td>\n      <td>Only 1 left in stock - order soon.</td>\n      <td>Microsoft</td>\n      <td>Surface Laptop 3 – 13.5\" Touch-Screen – Intel ...</td>\n      <td>106</td>\n    </tr>\n    <tr>\n      <th>113</th>\n      <td>Microsoft Surface Laptop Studio 2 14.4\" Touchs...</td>\n      <td>$1,419.99</td>\n      <td>3.8 out of 5 stars</td>\n      <td>3 ratings</td>\n      <td>In Stock</td>\n      <td>Microsoft</td>\n      <td>Surface Laptop Studio 2 14.4\" Touchscreen Conv...</td>\n      <td>107</td>\n    </tr>\n    <tr>\n      <th>114</th>\n      <td>Microsoft Surface Pro 9 (2022), 13\" 2-in-1 Tab...</td>\n      <td>$1,173.14</td>\n      <td>4.5 out of 5 stars</td>\n      <td>827 ratings</td>\n      <td>In Stock</td>\n      <td>Microsoft</td>\n      <td>Surface Pro 9 (2022), 13\" 2-in-1 Tablet &amp; Lapt...</td>\n      <td>108</td>\n    </tr>\n    <tr>\n      <th>115</th>\n      <td>Microsoft Surface Pro 9 (2022), 13\" 2-in-1 Tab...</td>\n      <td>$1,249.99</td>\n      <td>4.5 out of 5 stars</td>\n      <td>827 ratings</td>\n      <td>Only 2 left in stock - order soon.</td>\n      <td>Microsoft</td>\n      <td>Surface Pro 9 (2022), 13\" 2-in-1 Tablet &amp; Lapt...</td>\n      <td>109</td>\n    </tr>\n    <tr>\n      <th>116</th>\n      <td>Microsoft Surface Pro 9 (2022), 13\" 2-in-1 Tab...</td>\n      <td>$698.60</td>\n      <td>4.5 out of 5 stars</td>\n      <td>827 ratings</td>\n      <td>Only 2 left in stock - order soon.</td>\n      <td>Microsoft</td>\n      <td>Surface Pro 9 (2022), 13\" 2-in-1 Tablet &amp; Lapt...</td>\n      <td>110</td>\n    </tr>\n  </tbody>\n</table>\n<p>117 rows × 8 columns</p>\n</div>"
     },
     "execution_count": 9,
     "metadata": {},
     "output_type": "execute_result"
    }
   ],
   "source": [
    "df"
   ],
   "metadata": {
    "collapsed": false,
    "ExecuteTime": {
     "end_time": "2024-05-02T20:03:38.181325Z",
     "start_time": "2024-05-02T20:03:38.172159Z"
    }
   },
   "id": "5c0b4ddaf01953f7"
  },
  {
   "cell_type": "code",
   "execution_count": 10,
   "outputs": [],
   "source": [
    "# Convert the 'rating' column to float\n",
    "df['rating'] = df['rating'].str.split(' ').str[0].astype(float)"
   ],
   "metadata": {
    "collapsed": false,
    "ExecuteTime": {
     "end_time": "2024-05-02T20:06:13.746692Z",
     "start_time": "2024-05-02T20:06:13.736279Z"
    }
   },
   "id": "beeb641ee14d481b"
  },
  {
   "cell_type": "code",
   "execution_count": 11,
   "outputs": [
    {
     "data": {
      "text/plain": "                                                 title      price  rating  \\\n0    Apple 2024 MacBook Air 13-inch Laptop with M3 ...    $979.11     4.4   \n1    Apple 2022 MacBook Air Laptop with M2 chip: 13...    $806.88     4.4   \n2    Apple 2024 MacBook Air 15-inch Laptop with M3 ...  $1,200.37     4.5   \n3    Apple 2017 Macbook Air with 1.8GHz Intel Core ...    $234.00     4.1   \n4    Apple 2023 MacBook Pro Laptop M3 Pro chip with...  $2,023.08     4.7   \n..                                                 ...        ...     ...   \n112  Microsoft Surface Laptop 3 – 13.5\" Touch-Scree...    $647.28     4.5   \n113  Microsoft Surface Laptop Studio 2 14.4\" Touchs...  $1,419.99     3.8   \n114  Microsoft Surface Pro 9 (2022), 13\" 2-in-1 Tab...  $1,173.14     4.5   \n115  Microsoft Surface Pro 9 (2022), 13\" 2-in-1 Tab...  $1,249.99     4.5   \n116  Microsoft Surface Pro 9 (2022), 13\" 2-in-1 Tab...    $698.60     4.5   \n\n           reviews                        availability      brand  \\\n0       58 ratings  Only 4 left in stock - order soon.      Apple   \n1    2,445 ratings  Only 4 left in stock - order soon.      Apple   \n2       48 ratings  Only 1 left in stock - order soon.      Apple   \n3      493 ratings                            In Stock      Apple   \n4      230 ratings  Only 3 left in stock - order soon.      Apple   \n..             ...                                 ...        ...   \n112    531 ratings  Only 1 left in stock - order soon.  Microsoft   \n113      3 ratings                            In Stock  Microsoft   \n114    827 ratings                            In Stock  Microsoft   \n115    827 ratings  Only 2 left in stock - order soon.  Microsoft   \n116    827 ratings  Only 2 left in stock - order soon.  Microsoft   \n\n                                       product_details  product_id  \n0    2024 MacBook Air 13-inch Laptop with M3 chip: ...           0  \n1    2022 MacBook Air Laptop with M2 chip: 13.6-inc...           1  \n2    2024 MacBook Air 15-inch Laptop with M3 chip: ...           2  \n3    2017 Macbook Air with 1.8GHz Intel Core i5 (13...           3  \n4    2023 MacBook Pro Laptop M3 Pro chip with 12‑co...           4  \n..                                                 ...         ...  \n112  Surface Laptop 3 – 13.5\" Touch-Screen – Intel ...         106  \n113  Surface Laptop Studio 2 14.4\" Touchscreen Conv...         107  \n114  Surface Pro 9 (2022), 13\" 2-in-1 Tablet & Lapt...         108  \n115  Surface Pro 9 (2022), 13\" 2-in-1 Tablet & Lapt...         109  \n116  Surface Pro 9 (2022), 13\" 2-in-1 Tablet & Lapt...         110  \n\n[117 rows x 8 columns]",
      "text/html": "<div>\n<style scoped>\n    .dataframe tbody tr th:only-of-type {\n        vertical-align: middle;\n    }\n\n    .dataframe tbody tr th {\n        vertical-align: top;\n    }\n\n    .dataframe thead th {\n        text-align: right;\n    }\n</style>\n<table border=\"1\" class=\"dataframe\">\n  <thead>\n    <tr style=\"text-align: right;\">\n      <th></th>\n      <th>title</th>\n      <th>price</th>\n      <th>rating</th>\n      <th>reviews</th>\n      <th>availability</th>\n      <th>brand</th>\n      <th>product_details</th>\n      <th>product_id</th>\n    </tr>\n  </thead>\n  <tbody>\n    <tr>\n      <th>0</th>\n      <td>Apple 2024 MacBook Air 13-inch Laptop with M3 ...</td>\n      <td>$979.11</td>\n      <td>4.4</td>\n      <td>58 ratings</td>\n      <td>Only 4 left in stock - order soon.</td>\n      <td>Apple</td>\n      <td>2024 MacBook Air 13-inch Laptop with M3 chip: ...</td>\n      <td>0</td>\n    </tr>\n    <tr>\n      <th>1</th>\n      <td>Apple 2022 MacBook Air Laptop with M2 chip: 13...</td>\n      <td>$806.88</td>\n      <td>4.4</td>\n      <td>2,445 ratings</td>\n      <td>Only 4 left in stock - order soon.</td>\n      <td>Apple</td>\n      <td>2022 MacBook Air Laptop with M2 chip: 13.6-inc...</td>\n      <td>1</td>\n    </tr>\n    <tr>\n      <th>2</th>\n      <td>Apple 2024 MacBook Air 15-inch Laptop with M3 ...</td>\n      <td>$1,200.37</td>\n      <td>4.5</td>\n      <td>48 ratings</td>\n      <td>Only 1 left in stock - order soon.</td>\n      <td>Apple</td>\n      <td>2024 MacBook Air 15-inch Laptop with M3 chip: ...</td>\n      <td>2</td>\n    </tr>\n    <tr>\n      <th>3</th>\n      <td>Apple 2017 Macbook Air with 1.8GHz Intel Core ...</td>\n      <td>$234.00</td>\n      <td>4.1</td>\n      <td>493 ratings</td>\n      <td>In Stock</td>\n      <td>Apple</td>\n      <td>2017 Macbook Air with 1.8GHz Intel Core i5 (13...</td>\n      <td>3</td>\n    </tr>\n    <tr>\n      <th>4</th>\n      <td>Apple 2023 MacBook Pro Laptop M3 Pro chip with...</td>\n      <td>$2,023.08</td>\n      <td>4.7</td>\n      <td>230 ratings</td>\n      <td>Only 3 left in stock - order soon.</td>\n      <td>Apple</td>\n      <td>2023 MacBook Pro Laptop M3 Pro chip with 12‑co...</td>\n      <td>4</td>\n    </tr>\n    <tr>\n      <th>...</th>\n      <td>...</td>\n      <td>...</td>\n      <td>...</td>\n      <td>...</td>\n      <td>...</td>\n      <td>...</td>\n      <td>...</td>\n      <td>...</td>\n    </tr>\n    <tr>\n      <th>112</th>\n      <td>Microsoft Surface Laptop 3 – 13.5\" Touch-Scree...</td>\n      <td>$647.28</td>\n      <td>4.5</td>\n      <td>531 ratings</td>\n      <td>Only 1 left in stock - order soon.</td>\n      <td>Microsoft</td>\n      <td>Surface Laptop 3 – 13.5\" Touch-Screen – Intel ...</td>\n      <td>106</td>\n    </tr>\n    <tr>\n      <th>113</th>\n      <td>Microsoft Surface Laptop Studio 2 14.4\" Touchs...</td>\n      <td>$1,419.99</td>\n      <td>3.8</td>\n      <td>3 ratings</td>\n      <td>In Stock</td>\n      <td>Microsoft</td>\n      <td>Surface Laptop Studio 2 14.4\" Touchscreen Conv...</td>\n      <td>107</td>\n    </tr>\n    <tr>\n      <th>114</th>\n      <td>Microsoft Surface Pro 9 (2022), 13\" 2-in-1 Tab...</td>\n      <td>$1,173.14</td>\n      <td>4.5</td>\n      <td>827 ratings</td>\n      <td>In Stock</td>\n      <td>Microsoft</td>\n      <td>Surface Pro 9 (2022), 13\" 2-in-1 Tablet &amp; Lapt...</td>\n      <td>108</td>\n    </tr>\n    <tr>\n      <th>115</th>\n      <td>Microsoft Surface Pro 9 (2022), 13\" 2-in-1 Tab...</td>\n      <td>$1,249.99</td>\n      <td>4.5</td>\n      <td>827 ratings</td>\n      <td>Only 2 left in stock - order soon.</td>\n      <td>Microsoft</td>\n      <td>Surface Pro 9 (2022), 13\" 2-in-1 Tablet &amp; Lapt...</td>\n      <td>109</td>\n    </tr>\n    <tr>\n      <th>116</th>\n      <td>Microsoft Surface Pro 9 (2022), 13\" 2-in-1 Tab...</td>\n      <td>$698.60</td>\n      <td>4.5</td>\n      <td>827 ratings</td>\n      <td>Only 2 left in stock - order soon.</td>\n      <td>Microsoft</td>\n      <td>Surface Pro 9 (2022), 13\" 2-in-1 Tablet &amp; Lapt...</td>\n      <td>110</td>\n    </tr>\n  </tbody>\n</table>\n<p>117 rows × 8 columns</p>\n</div>"
     },
     "execution_count": 11,
     "metadata": {},
     "output_type": "execute_result"
    }
   ],
   "source": [
    "df"
   ],
   "metadata": {
    "collapsed": false,
    "ExecuteTime": {
     "end_time": "2024-05-02T20:06:14.482992Z",
     "start_time": "2024-05-02T20:06:14.467146Z"
    }
   },
   "id": "8d2d7671144a54d0"
  },
  {
   "cell_type": "code",
   "execution_count": 13,
   "outputs": [],
   "source": [
    "df['reviews'] = df['reviews'].str.replace(',', '').str.split(' ').str[0].astype(float)"
   ],
   "metadata": {
    "collapsed": false,
    "ExecuteTime": {
     "end_time": "2024-05-02T20:07:21.635366Z",
     "start_time": "2024-05-02T20:07:21.622282Z"
    }
   },
   "id": "63365958aaf9bca3"
  },
  {
   "cell_type": "code",
   "execution_count": 18,
   "outputs": [
    {
     "name": "stderr",
     "output_type": "stream",
     "text": [
      "/var/folders/21/yhy2dhmx219b7cbcq243hmwc0000gn/T/ipykernel_12446/3465546308.py:1: FutureWarning: The default value of regex will change from True to False in a future version. In addition, single character regular expressions will *not* be treated as literal strings when regex=True.\n",
      "  df['price'] = df['price'].str.replace('$', '').str.replace(',', '').astype(float)\n"
     ]
    }
   ],
   "source": [
    "df['price'] = df['price'].str.replace('$', '').str.replace(',', '').astype(float)"
   ],
   "metadata": {
    "collapsed": false,
    "ExecuteTime": {
     "end_time": "2024-05-02T20:12:43.400600Z",
     "start_time": "2024-05-02T20:12:43.343737Z"
    }
   },
   "id": "2f8b7be764037931"
  },
  {
   "cell_type": "code",
   "execution_count": 33,
   "outputs": [],
   "source": [
    "def generate_product_id(product_details):\n",
    "    product_id = hash(product_details)\n",
    "    if product_id < 0:\n",
    "        product_id = -1 * product_id\n",
    "    return product_id\n"
   ],
   "metadata": {
    "collapsed": false,
    "ExecuteTime": {
     "end_time": "2024-05-02T20:21:40.438114Z",
     "start_time": "2024-05-02T20:21:40.422519Z"
    }
   },
   "id": "5e3d9d3a52d5ecfa"
  },
  {
   "cell_type": "code",
   "execution_count": 34,
   "outputs": [],
   "source": [
    "df['product_id'] = df['product_details'].apply(generate_product_id)"
   ],
   "metadata": {
    "collapsed": false,
    "ExecuteTime": {
     "end_time": "2024-05-02T20:21:40.993301Z",
     "start_time": "2024-05-02T20:21:40.985874Z"
    }
   },
   "id": "1af3632254728b01"
  },
  {
   "cell_type": "code",
   "execution_count": 35,
   "outputs": [
    {
     "data": {
      "text/plain": "                                                 title    price  rating  \\\n0    Apple 2024 MacBook Air 13-inch Laptop with M3 ...   979.11     4.4   \n1    Apple 2022 MacBook Air Laptop with M2 chip: 13...   806.88     4.4   \n2    Apple 2024 MacBook Air 15-inch Laptop with M3 ...  1200.37     4.5   \n3    Apple 2017 Macbook Air with 1.8GHz Intel Core ...   234.00     4.1   \n4    Apple 2023 MacBook Pro Laptop M3 Pro chip with...  2023.08     4.7   \n..                                                 ...      ...     ...   \n112  Microsoft Surface Laptop 3 – 13.5\" Touch-Scree...   647.28     4.5   \n113  Microsoft Surface Laptop Studio 2 14.4\" Touchs...  1419.99     3.8   \n114  Microsoft Surface Pro 9 (2022), 13\" 2-in-1 Tab...  1173.14     4.5   \n115  Microsoft Surface Pro 9 (2022), 13\" 2-in-1 Tab...  1249.99     4.5   \n116  Microsoft Surface Pro 9 (2022), 13\" 2-in-1 Tab...   698.60     4.5   \n\n     reviews                        availability      brand  \\\n0       58.0  Only 4 left in stock - order soon.      Apple   \n1     2445.0  Only 4 left in stock - order soon.      Apple   \n2       48.0  Only 1 left in stock - order soon.      Apple   \n3      493.0                            In Stock      Apple   \n4      230.0  Only 3 left in stock - order soon.      Apple   \n..       ...                                 ...        ...   \n112    531.0  Only 1 left in stock - order soon.  Microsoft   \n113      3.0                            In Stock  Microsoft   \n114    827.0                            In Stock  Microsoft   \n115    827.0  Only 2 left in stock - order soon.  Microsoft   \n116    827.0  Only 2 left in stock - order soon.  Microsoft   \n\n                                       product_details           product_id  \n0    2024 MacBook Air 13-inch Laptop with M3 chip: ...  7566643813834675244  \n1    2022 MacBook Air Laptop with M2 chip: 13.6-inc...  3953635405565417399  \n2    2024 MacBook Air 15-inch Laptop with M3 chip: ...  4100182392096504489  \n3    2017 Macbook Air with 1.8GHz Intel Core i5 (13...  3973039454489180637  \n4    2023 MacBook Pro Laptop M3 Pro chip with 12‑co...  2837439741639311989  \n..                                                 ...                  ...  \n112  Surface Laptop 3 – 13.5\" Touch-Screen – Intel ...  8229651603289664558  \n113  Surface Laptop Studio 2 14.4\" Touchscreen Conv...  1896557373109127599  \n114  Surface Pro 9 (2022), 13\" 2-in-1 Tablet & Lapt...  3194266533159445757  \n115  Surface Pro 9 (2022), 13\" 2-in-1 Tablet & Lapt...  5607139241633160848  \n116  Surface Pro 9 (2022), 13\" 2-in-1 Tablet & Lapt...   969625547967614366  \n\n[117 rows x 8 columns]",
      "text/html": "<div>\n<style scoped>\n    .dataframe tbody tr th:only-of-type {\n        vertical-align: middle;\n    }\n\n    .dataframe tbody tr th {\n        vertical-align: top;\n    }\n\n    .dataframe thead th {\n        text-align: right;\n    }\n</style>\n<table border=\"1\" class=\"dataframe\">\n  <thead>\n    <tr style=\"text-align: right;\">\n      <th></th>\n      <th>title</th>\n      <th>price</th>\n      <th>rating</th>\n      <th>reviews</th>\n      <th>availability</th>\n      <th>brand</th>\n      <th>product_details</th>\n      <th>product_id</th>\n    </tr>\n  </thead>\n  <tbody>\n    <tr>\n      <th>0</th>\n      <td>Apple 2024 MacBook Air 13-inch Laptop with M3 ...</td>\n      <td>979.11</td>\n      <td>4.4</td>\n      <td>58.0</td>\n      <td>Only 4 left in stock - order soon.</td>\n      <td>Apple</td>\n      <td>2024 MacBook Air 13-inch Laptop with M3 chip: ...</td>\n      <td>7566643813834675244</td>\n    </tr>\n    <tr>\n      <th>1</th>\n      <td>Apple 2022 MacBook Air Laptop with M2 chip: 13...</td>\n      <td>806.88</td>\n      <td>4.4</td>\n      <td>2445.0</td>\n      <td>Only 4 left in stock - order soon.</td>\n      <td>Apple</td>\n      <td>2022 MacBook Air Laptop with M2 chip: 13.6-inc...</td>\n      <td>3953635405565417399</td>\n    </tr>\n    <tr>\n      <th>2</th>\n      <td>Apple 2024 MacBook Air 15-inch Laptop with M3 ...</td>\n      <td>1200.37</td>\n      <td>4.5</td>\n      <td>48.0</td>\n      <td>Only 1 left in stock - order soon.</td>\n      <td>Apple</td>\n      <td>2024 MacBook Air 15-inch Laptop with M3 chip: ...</td>\n      <td>4100182392096504489</td>\n    </tr>\n    <tr>\n      <th>3</th>\n      <td>Apple 2017 Macbook Air with 1.8GHz Intel Core ...</td>\n      <td>234.00</td>\n      <td>4.1</td>\n      <td>493.0</td>\n      <td>In Stock</td>\n      <td>Apple</td>\n      <td>2017 Macbook Air with 1.8GHz Intel Core i5 (13...</td>\n      <td>3973039454489180637</td>\n    </tr>\n    <tr>\n      <th>4</th>\n      <td>Apple 2023 MacBook Pro Laptop M3 Pro chip with...</td>\n      <td>2023.08</td>\n      <td>4.7</td>\n      <td>230.0</td>\n      <td>Only 3 left in stock - order soon.</td>\n      <td>Apple</td>\n      <td>2023 MacBook Pro Laptop M3 Pro chip with 12‑co...</td>\n      <td>2837439741639311989</td>\n    </tr>\n    <tr>\n      <th>...</th>\n      <td>...</td>\n      <td>...</td>\n      <td>...</td>\n      <td>...</td>\n      <td>...</td>\n      <td>...</td>\n      <td>...</td>\n      <td>...</td>\n    </tr>\n    <tr>\n      <th>112</th>\n      <td>Microsoft Surface Laptop 3 – 13.5\" Touch-Scree...</td>\n      <td>647.28</td>\n      <td>4.5</td>\n      <td>531.0</td>\n      <td>Only 1 left in stock - order soon.</td>\n      <td>Microsoft</td>\n      <td>Surface Laptop 3 – 13.5\" Touch-Screen – Intel ...</td>\n      <td>8229651603289664558</td>\n    </tr>\n    <tr>\n      <th>113</th>\n      <td>Microsoft Surface Laptop Studio 2 14.4\" Touchs...</td>\n      <td>1419.99</td>\n      <td>3.8</td>\n      <td>3.0</td>\n      <td>In Stock</td>\n      <td>Microsoft</td>\n      <td>Surface Laptop Studio 2 14.4\" Touchscreen Conv...</td>\n      <td>1896557373109127599</td>\n    </tr>\n    <tr>\n      <th>114</th>\n      <td>Microsoft Surface Pro 9 (2022), 13\" 2-in-1 Tab...</td>\n      <td>1173.14</td>\n      <td>4.5</td>\n      <td>827.0</td>\n      <td>In Stock</td>\n      <td>Microsoft</td>\n      <td>Surface Pro 9 (2022), 13\" 2-in-1 Tablet &amp; Lapt...</td>\n      <td>3194266533159445757</td>\n    </tr>\n    <tr>\n      <th>115</th>\n      <td>Microsoft Surface Pro 9 (2022), 13\" 2-in-1 Tab...</td>\n      <td>1249.99</td>\n      <td>4.5</td>\n      <td>827.0</td>\n      <td>Only 2 left in stock - order soon.</td>\n      <td>Microsoft</td>\n      <td>Surface Pro 9 (2022), 13\" 2-in-1 Tablet &amp; Lapt...</td>\n      <td>5607139241633160848</td>\n    </tr>\n    <tr>\n      <th>116</th>\n      <td>Microsoft Surface Pro 9 (2022), 13\" 2-in-1 Tab...</td>\n      <td>698.60</td>\n      <td>4.5</td>\n      <td>827.0</td>\n      <td>Only 2 left in stock - order soon.</td>\n      <td>Microsoft</td>\n      <td>Surface Pro 9 (2022), 13\" 2-in-1 Tablet &amp; Lapt...</td>\n      <td>969625547967614366</td>\n    </tr>\n  </tbody>\n</table>\n<p>117 rows × 8 columns</p>\n</div>"
     },
     "execution_count": 35,
     "metadata": {},
     "output_type": "execute_result"
    }
   ],
   "source": [
    "df"
   ],
   "metadata": {
    "collapsed": false,
    "ExecuteTime": {
     "end_time": "2024-05-02T20:21:41.454879Z",
     "start_time": "2024-05-02T20:21:41.440174Z"
    }
   },
   "id": "b13d8d93c74ce162"
  },
  {
   "cell_type": "code",
   "execution_count": 36,
   "outputs": [
    {
     "data": {
      "text/plain": "              product_id      brand  \\\n0    7566643813834675244      Apple   \n1    3953635405565417399      Apple   \n2    4100182392096504489      Apple   \n3    3973039454489180637      Apple   \n4    2837439741639311989      Apple   \n..                   ...        ...   \n112  8229651603289664558  Microsoft   \n113  1896557373109127599  Microsoft   \n114  3194266533159445757  Microsoft   \n115  5607139241633160848  Microsoft   \n116   969625547967614366  Microsoft   \n\n                                       product_details    price  rating  \\\n0    2024 MacBook Air 13-inch Laptop with M3 chip: ...   979.11     4.4   \n1    2022 MacBook Air Laptop with M2 chip: 13.6-inc...   806.88     4.4   \n2    2024 MacBook Air 15-inch Laptop with M3 chip: ...  1200.37     4.5   \n3    2017 Macbook Air with 1.8GHz Intel Core i5 (13...   234.00     4.1   \n4    2023 MacBook Pro Laptop M3 Pro chip with 12‑co...  2023.08     4.7   \n..                                                 ...      ...     ...   \n112  Surface Laptop 3 – 13.5\" Touch-Screen – Intel ...   647.28     4.5   \n113  Surface Laptop Studio 2 14.4\" Touchscreen Conv...  1419.99     3.8   \n114  Surface Pro 9 (2022), 13\" 2-in-1 Tablet & Lapt...  1173.14     4.5   \n115  Surface Pro 9 (2022), 13\" 2-in-1 Tablet & Lapt...  1249.99     4.5   \n116  Surface Pro 9 (2022), 13\" 2-in-1 Tablet & Lapt...   698.60     4.5   \n\n     reviews  \n0       58.0  \n1     2445.0  \n2       48.0  \n3      493.0  \n4      230.0  \n..       ...  \n112    531.0  \n113      3.0  \n114    827.0  \n115    827.0  \n116    827.0  \n\n[117 rows x 6 columns]",
      "text/html": "<div>\n<style scoped>\n    .dataframe tbody tr th:only-of-type {\n        vertical-align: middle;\n    }\n\n    .dataframe tbody tr th {\n        vertical-align: top;\n    }\n\n    .dataframe thead th {\n        text-align: right;\n    }\n</style>\n<table border=\"1\" class=\"dataframe\">\n  <thead>\n    <tr style=\"text-align: right;\">\n      <th></th>\n      <th>product_id</th>\n      <th>brand</th>\n      <th>product_details</th>\n      <th>price</th>\n      <th>rating</th>\n      <th>reviews</th>\n    </tr>\n  </thead>\n  <tbody>\n    <tr>\n      <th>0</th>\n      <td>7566643813834675244</td>\n      <td>Apple</td>\n      <td>2024 MacBook Air 13-inch Laptop with M3 chip: ...</td>\n      <td>979.11</td>\n      <td>4.4</td>\n      <td>58.0</td>\n    </tr>\n    <tr>\n      <th>1</th>\n      <td>3953635405565417399</td>\n      <td>Apple</td>\n      <td>2022 MacBook Air Laptop with M2 chip: 13.6-inc...</td>\n      <td>806.88</td>\n      <td>4.4</td>\n      <td>2445.0</td>\n    </tr>\n    <tr>\n      <th>2</th>\n      <td>4100182392096504489</td>\n      <td>Apple</td>\n      <td>2024 MacBook Air 15-inch Laptop with M3 chip: ...</td>\n      <td>1200.37</td>\n      <td>4.5</td>\n      <td>48.0</td>\n    </tr>\n    <tr>\n      <th>3</th>\n      <td>3973039454489180637</td>\n      <td>Apple</td>\n      <td>2017 Macbook Air with 1.8GHz Intel Core i5 (13...</td>\n      <td>234.00</td>\n      <td>4.1</td>\n      <td>493.0</td>\n    </tr>\n    <tr>\n      <th>4</th>\n      <td>2837439741639311989</td>\n      <td>Apple</td>\n      <td>2023 MacBook Pro Laptop M3 Pro chip with 12‑co...</td>\n      <td>2023.08</td>\n      <td>4.7</td>\n      <td>230.0</td>\n    </tr>\n    <tr>\n      <th>...</th>\n      <td>...</td>\n      <td>...</td>\n      <td>...</td>\n      <td>...</td>\n      <td>...</td>\n      <td>...</td>\n    </tr>\n    <tr>\n      <th>112</th>\n      <td>8229651603289664558</td>\n      <td>Microsoft</td>\n      <td>Surface Laptop 3 – 13.5\" Touch-Screen – Intel ...</td>\n      <td>647.28</td>\n      <td>4.5</td>\n      <td>531.0</td>\n    </tr>\n    <tr>\n      <th>113</th>\n      <td>1896557373109127599</td>\n      <td>Microsoft</td>\n      <td>Surface Laptop Studio 2 14.4\" Touchscreen Conv...</td>\n      <td>1419.99</td>\n      <td>3.8</td>\n      <td>3.0</td>\n    </tr>\n    <tr>\n      <th>114</th>\n      <td>3194266533159445757</td>\n      <td>Microsoft</td>\n      <td>Surface Pro 9 (2022), 13\" 2-in-1 Tablet &amp; Lapt...</td>\n      <td>1173.14</td>\n      <td>4.5</td>\n      <td>827.0</td>\n    </tr>\n    <tr>\n      <th>115</th>\n      <td>5607139241633160848</td>\n      <td>Microsoft</td>\n      <td>Surface Pro 9 (2022), 13\" 2-in-1 Tablet &amp; Lapt...</td>\n      <td>1249.99</td>\n      <td>4.5</td>\n      <td>827.0</td>\n    </tr>\n    <tr>\n      <th>116</th>\n      <td>969625547967614366</td>\n      <td>Microsoft</td>\n      <td>Surface Pro 9 (2022), 13\" 2-in-1 Tablet &amp; Lapt...</td>\n      <td>698.60</td>\n      <td>4.5</td>\n      <td>827.0</td>\n    </tr>\n  </tbody>\n</table>\n<p>117 rows × 6 columns</p>\n</div>"
     },
     "execution_count": 36,
     "metadata": {},
     "output_type": "execute_result"
    }
   ],
   "source": [
    "extracted_df = df[['product_id','brand', 'product_details','price','rating','reviews']]\n",
    "extracted_df"
   ],
   "metadata": {
    "collapsed": false,
    "ExecuteTime": {
     "end_time": "2024-05-02T20:22:33.913434Z",
     "start_time": "2024-05-02T20:22:33.870136Z"
    }
   },
   "id": "51f5162eb945fe1e"
  },
  {
   "cell_type": "code",
   "execution_count": 129,
   "outputs": [],
   "source": [
    "from sklearn.model_selection import train_test_split\n",
    "from sklearn.tree import DecisionTreeRegressor\n",
    "# from  sklearn.ensemble import RandomForestRegressor\n",
    "from sklearn.metrics import mean_squared_error\n",
    "from sklearn.preprocessing import OneHotEncoder\n",
    "from sklearn.compose import make_column_transformer\n",
    "from sklearn.pipeline import make_pipeline"
   ],
   "metadata": {
    "collapsed": false,
    "ExecuteTime": {
     "end_time": "2024-05-02T20:50:16.991071Z",
     "start_time": "2024-05-02T20:50:16.975409Z"
    }
   },
   "id": "f11f77cbfc717a2f"
  },
  {
   "cell_type": "code",
   "execution_count": 130,
   "outputs": [],
   "source": [
    "# Define preprocessor\n",
    "preprocessor = make_column_transformer(\n",
    "    (OneHotEncoder(), ['brand', 'product_details']),\n",
    "    remainder='passthrough'\n",
    ")"
   ],
   "metadata": {
    "collapsed": false,
    "ExecuteTime": {
     "end_time": "2024-05-02T20:50:17.318389Z",
     "start_time": "2024-05-02T20:50:17.306272Z"
    }
   },
   "id": "8fec401ad6aab043"
  },
  {
   "cell_type": "code",
   "execution_count": 131,
   "outputs": [],
   "source": [
    "# Define model\n",
    "model = make_pipeline(\n",
    "    preprocessor,\n",
    "    # DecisionTreeRegressor(criterion = 'friedman_mse',max_depth=25)\n",
    "    DecisionTreeRegressor(max_depth=25)\n",
    ")\n"
   ],
   "metadata": {
    "collapsed": false,
    "ExecuteTime": {
     "end_time": "2024-05-02T20:50:28.086689Z",
     "start_time": "2024-05-02T20:50:28.066360Z"
    }
   },
   "id": "899f5408d95e4d98"
  },
  {
   "cell_type": "code",
   "execution_count": 132,
   "outputs": [],
   "source": [
    "# Split the data\n",
    "X = extracted_df.drop('price', axis=1)\n",
    "y = extracted_df['price']"
   ],
   "metadata": {
    "collapsed": false,
    "ExecuteTime": {
     "end_time": "2024-05-02T20:50:28.623584Z",
     "start_time": "2024-05-02T20:50:28.616332Z"
    }
   },
   "id": "80e8a6a37d7fcc7a"
  },
  {
   "cell_type": "code",
   "execution_count": 133,
   "outputs": [
    {
     "data": {
      "text/plain": "Pipeline(steps=[('columntransformer',\n                 ColumnTransformer(remainder='passthrough',\n                                   transformers=[('onehotencoder',\n                                                  OneHotEncoder(),\n                                                  ['brand',\n                                                   'product_details'])])),\n                ('decisiontreeregressor', DecisionTreeRegressor(max_depth=25))])",
      "text/html": "<style>#sk-container-id-13 {color: black;}#sk-container-id-13 pre{padding: 0;}#sk-container-id-13 div.sk-toggleable {background-color: white;}#sk-container-id-13 label.sk-toggleable__label {cursor: pointer;display: block;width: 100%;margin-bottom: 0;padding: 0.3em;box-sizing: border-box;text-align: center;}#sk-container-id-13 label.sk-toggleable__label-arrow:before {content: \"▸\";float: left;margin-right: 0.25em;color: #696969;}#sk-container-id-13 label.sk-toggleable__label-arrow:hover:before {color: black;}#sk-container-id-13 div.sk-estimator:hover label.sk-toggleable__label-arrow:before {color: black;}#sk-container-id-13 div.sk-toggleable__content {max-height: 0;max-width: 0;overflow: hidden;text-align: left;background-color: #f0f8ff;}#sk-container-id-13 div.sk-toggleable__content pre {margin: 0.2em;color: black;border-radius: 0.25em;background-color: #f0f8ff;}#sk-container-id-13 input.sk-toggleable__control:checked~div.sk-toggleable__content {max-height: 200px;max-width: 100%;overflow: auto;}#sk-container-id-13 input.sk-toggleable__control:checked~label.sk-toggleable__label-arrow:before {content: \"▾\";}#sk-container-id-13 div.sk-estimator input.sk-toggleable__control:checked~label.sk-toggleable__label {background-color: #d4ebff;}#sk-container-id-13 div.sk-label input.sk-toggleable__control:checked~label.sk-toggleable__label {background-color: #d4ebff;}#sk-container-id-13 input.sk-hidden--visually {border: 0;clip: rect(1px 1px 1px 1px);clip: rect(1px, 1px, 1px, 1px);height: 1px;margin: -1px;overflow: hidden;padding: 0;position: absolute;width: 1px;}#sk-container-id-13 div.sk-estimator {font-family: monospace;background-color: #f0f8ff;border: 1px dotted black;border-radius: 0.25em;box-sizing: border-box;margin-bottom: 0.5em;}#sk-container-id-13 div.sk-estimator:hover {background-color: #d4ebff;}#sk-container-id-13 div.sk-parallel-item::after {content: \"\";width: 100%;border-bottom: 1px solid gray;flex-grow: 1;}#sk-container-id-13 div.sk-label:hover label.sk-toggleable__label {background-color: #d4ebff;}#sk-container-id-13 div.sk-serial::before {content: \"\";position: absolute;border-left: 1px solid gray;box-sizing: border-box;top: 0;bottom: 0;left: 50%;z-index: 0;}#sk-container-id-13 div.sk-serial {display: flex;flex-direction: column;align-items: center;background-color: white;padding-right: 0.2em;padding-left: 0.2em;position: relative;}#sk-container-id-13 div.sk-item {position: relative;z-index: 1;}#sk-container-id-13 div.sk-parallel {display: flex;align-items: stretch;justify-content: center;background-color: white;position: relative;}#sk-container-id-13 div.sk-item::before, #sk-container-id-13 div.sk-parallel-item::before {content: \"\";position: absolute;border-left: 1px solid gray;box-sizing: border-box;top: 0;bottom: 0;left: 50%;z-index: -1;}#sk-container-id-13 div.sk-parallel-item {display: flex;flex-direction: column;z-index: 1;position: relative;background-color: white;}#sk-container-id-13 div.sk-parallel-item:first-child::after {align-self: flex-end;width: 50%;}#sk-container-id-13 div.sk-parallel-item:last-child::after {align-self: flex-start;width: 50%;}#sk-container-id-13 div.sk-parallel-item:only-child::after {width: 0;}#sk-container-id-13 div.sk-dashed-wrapped {border: 1px dashed gray;margin: 0 0.4em 0.5em 0.4em;box-sizing: border-box;padding-bottom: 0.4em;background-color: white;}#sk-container-id-13 div.sk-label label {font-family: monospace;font-weight: bold;display: inline-block;line-height: 1.2em;}#sk-container-id-13 div.sk-label-container {text-align: center;}#sk-container-id-13 div.sk-container {/* jupyter's `normalize.less` sets `[hidden] { display: none; }` but bootstrap.min.css set `[hidden] { display: none !important; }` so we also need the `!important` here to be able to override the default hidden behavior on the sphinx rendered scikit-learn.org. See: https://github.com/scikit-learn/scikit-learn/issues/21755 */display: inline-block !important;position: relative;}#sk-container-id-13 div.sk-text-repr-fallback {display: none;}</style><div id=\"sk-container-id-13\" class=\"sk-top-container\"><div class=\"sk-text-repr-fallback\"><pre>Pipeline(steps=[(&#x27;columntransformer&#x27;,\n                 ColumnTransformer(remainder=&#x27;passthrough&#x27;,\n                                   transformers=[(&#x27;onehotencoder&#x27;,\n                                                  OneHotEncoder(),\n                                                  [&#x27;brand&#x27;,\n                                                   &#x27;product_details&#x27;])])),\n                (&#x27;decisiontreeregressor&#x27;, DecisionTreeRegressor(max_depth=25))])</pre><b>In a Jupyter environment, please rerun this cell to show the HTML representation or trust the notebook. <br />On GitHub, the HTML representation is unable to render, please try loading this page with nbviewer.org.</b></div><div class=\"sk-container\" hidden><div class=\"sk-item sk-dashed-wrapped\"><div class=\"sk-label-container\"><div class=\"sk-label sk-toggleable\"><input class=\"sk-toggleable__control sk-hidden--visually\" id=\"sk-estimator-id-85\" type=\"checkbox\" ><label for=\"sk-estimator-id-85\" class=\"sk-toggleable__label sk-toggleable__label-arrow\">Pipeline</label><div class=\"sk-toggleable__content\"><pre>Pipeline(steps=[(&#x27;columntransformer&#x27;,\n                 ColumnTransformer(remainder=&#x27;passthrough&#x27;,\n                                   transformers=[(&#x27;onehotencoder&#x27;,\n                                                  OneHotEncoder(),\n                                                  [&#x27;brand&#x27;,\n                                                   &#x27;product_details&#x27;])])),\n                (&#x27;decisiontreeregressor&#x27;, DecisionTreeRegressor(max_depth=25))])</pre></div></div></div><div class=\"sk-serial\"><div class=\"sk-item sk-dashed-wrapped\"><div class=\"sk-label-container\"><div class=\"sk-label sk-toggleable\"><input class=\"sk-toggleable__control sk-hidden--visually\" id=\"sk-estimator-id-86\" type=\"checkbox\" ><label for=\"sk-estimator-id-86\" class=\"sk-toggleable__label sk-toggleable__label-arrow\">columntransformer: ColumnTransformer</label><div class=\"sk-toggleable__content\"><pre>ColumnTransformer(remainder=&#x27;passthrough&#x27;,\n                  transformers=[(&#x27;onehotencoder&#x27;, OneHotEncoder(),\n                                 [&#x27;brand&#x27;, &#x27;product_details&#x27;])])</pre></div></div></div><div class=\"sk-parallel\"><div class=\"sk-parallel-item\"><div class=\"sk-item\"><div class=\"sk-label-container\"><div class=\"sk-label sk-toggleable\"><input class=\"sk-toggleable__control sk-hidden--visually\" id=\"sk-estimator-id-87\" type=\"checkbox\" ><label for=\"sk-estimator-id-87\" class=\"sk-toggleable__label sk-toggleable__label-arrow\">onehotencoder</label><div class=\"sk-toggleable__content\"><pre>[&#x27;brand&#x27;, &#x27;product_details&#x27;]</pre></div></div></div><div class=\"sk-serial\"><div class=\"sk-item\"><div class=\"sk-estimator sk-toggleable\"><input class=\"sk-toggleable__control sk-hidden--visually\" id=\"sk-estimator-id-88\" type=\"checkbox\" ><label for=\"sk-estimator-id-88\" class=\"sk-toggleable__label sk-toggleable__label-arrow\">OneHotEncoder</label><div class=\"sk-toggleable__content\"><pre>OneHotEncoder()</pre></div></div></div></div></div></div><div class=\"sk-parallel-item\"><div class=\"sk-item\"><div class=\"sk-label-container\"><div class=\"sk-label sk-toggleable\"><input class=\"sk-toggleable__control sk-hidden--visually\" id=\"sk-estimator-id-89\" type=\"checkbox\" ><label for=\"sk-estimator-id-89\" class=\"sk-toggleable__label sk-toggleable__label-arrow\">remainder</label><div class=\"sk-toggleable__content\"><pre>[&#x27;product_id&#x27;, &#x27;rating&#x27;, &#x27;reviews&#x27;]</pre></div></div></div><div class=\"sk-serial\"><div class=\"sk-item\"><div class=\"sk-estimator sk-toggleable\"><input class=\"sk-toggleable__control sk-hidden--visually\" id=\"sk-estimator-id-90\" type=\"checkbox\" ><label for=\"sk-estimator-id-90\" class=\"sk-toggleable__label sk-toggleable__label-arrow\">passthrough</label><div class=\"sk-toggleable__content\"><pre>passthrough</pre></div></div></div></div></div></div></div></div><div class=\"sk-item\"><div class=\"sk-estimator sk-toggleable\"><input class=\"sk-toggleable__control sk-hidden--visually\" id=\"sk-estimator-id-91\" type=\"checkbox\" ><label for=\"sk-estimator-id-91\" class=\"sk-toggleable__label sk-toggleable__label-arrow\">DecisionTreeRegressor</label><div class=\"sk-toggleable__content\"><pre>DecisionTreeRegressor(max_depth=25)</pre></div></div></div></div></div></div></div>"
     },
     "execution_count": 133,
     "metadata": {},
     "output_type": "execute_result"
    }
   ],
   "source": [
    "# Train the model\n",
    "model.fit(X, y)"
   ],
   "metadata": {
    "collapsed": false,
    "ExecuteTime": {
     "end_time": "2024-05-02T20:50:29.194565Z",
     "start_time": "2024-05-02T20:50:29.158262Z"
    }
   },
   "id": "808bd6e04bb53ac0"
  },
  {
   "cell_type": "code",
   "execution_count": 134,
   "outputs": [],
   "source": [
    "y_pred = model.predict(X)"
   ],
   "metadata": {
    "collapsed": false,
    "ExecuteTime": {
     "end_time": "2024-05-02T20:50:30.562299Z",
     "start_time": "2024-05-02T20:50:30.542452Z"
    }
   },
   "id": "2182ac59d20e1757"
  },
  {
   "cell_type": "code",
   "execution_count": 135,
   "outputs": [
    {
     "data": {
      "text/plain": "array([ 979.11 ,  806.88 , 1200.37 ,  234.   , 2023.08 ,  399.   ,\n       1198.55 ,  206.   ,  619.   , 3097.25 , 1406.77 ,  509.   ,\n       1998.99 ,  585.28 ,  449.99 ,  498.   ,  448.   ,  299.95 ,\n        298.485,  469.   ,  204.   ,  418.   ,  186.97 ,  339.   ,\n        589.99 ,  499.   ,  585.28 ,  585.28 ,  251.1  ,  349.   ,\n        819.99 ,  679.98 ,  669.99 ,  298.485,  879.   ,  585.28 ,\n        429.   ,  849.   ,  259.98 ,  259.98 ,  669.99 ,  389.   ,\n        487.   ,  389.   ,  487.   ,  157.92 ,  699.99 ,  172.   ,\n        318.88 ,  248.88 ,  268.88 ,  289.97 ,  799.   ,  399.99 ,\n        375.   , 1239.99 ,  149.   ,  585.28 ,  154.65 ,  169.   ,\n         12.99 ,  429.   ,  399.   ,  758.5  ,  585.28 ,  440.   ,\n        319.99 ,  618.99 ,  189.   ,   17.98 ,   21.99 ,   21.99 ,\n         21.99 ,  289.   ,  699.99 ,   29.99 ,   31.99 ,   31.99 ,\n         31.99 ,   16.99 ,   16.99 ,   16.99 ,   15.99 ,   46.99 ,\n       1078.88 ,  456.98 ,  199.99 ,  685.   , 1577.   , 1498.99 ,\n       1159.99 ,  549.99 , 1159.95 ,  486.   ,  479.   ,  205.95 ,\n        319.99 ,  184.   ,  208.   ,  138.4  ,  549.   ,  497.56 ,\n        398.   ,  949.   , 1039.99 ,  585.28 ,  630.   ,  675.   ,\n        460.97 ,  540.98 ,  349.95 ,  299.95 ,  647.28 , 1419.99 ,\n       1173.14 , 1249.99 ,  698.6  ])"
     },
     "execution_count": 135,
     "metadata": {},
     "output_type": "execute_result"
    }
   ],
   "source": [
    "y_pred"
   ],
   "metadata": {
    "collapsed": false,
    "ExecuteTime": {
     "end_time": "2024-05-02T20:50:31.246878Z",
     "start_time": "2024-05-02T20:50:31.233158Z"
    }
   },
   "id": "4eedf8a201a92b93"
  },
  {
   "cell_type": "code",
   "execution_count": 136,
   "outputs": [
    {
     "data": {
      "text/plain": "29.852321794871784"
     },
     "execution_count": 136,
     "metadata": {},
     "output_type": "execute_result"
    }
   ],
   "source": [
    "from sklearn.metrics import mean_squared_error\n",
    "mse  = mean_squared_error(y,y_pred)\n",
    "mse"
   ],
   "metadata": {
    "collapsed": false,
    "ExecuteTime": {
     "end_time": "2024-05-02T20:50:32.659624Z",
     "start_time": "2024-05-02T20:50:32.643199Z"
    }
   },
   "id": "619f6a37c0860624"
  },
  {
   "cell_type": "code",
   "execution_count": 144,
   "outputs": [],
   "source": [
    "def recommend_products(df, brand, min_rating):\n",
    "    \"\"\"Recommend products from the same brand with at least min_rating.\"\"\"\n",
    "    # Filter the DataFrame based on the conditions\n",
    "    recommended_df = df[(df['brand'] == brand) & (df['rating'] >= min_rating)]\n",
    "    \n",
    "    # Sort the DataFrame based on the rating (from high to low)\n",
    "    recommended_df = recommended_df.sort_values(by='rating', ascending=False)\n",
    "    \n",
    "    return recommended_df"
   ],
   "metadata": {
    "collapsed": false,
    "ExecuteTime": {
     "end_time": "2024-05-02T21:13:47.728773Z",
     "start_time": "2024-05-02T21:13:47.718648Z"
    }
   },
   "id": "99bea3c25550e30d"
  },
  {
   "cell_type": "code",
   "execution_count": 145,
   "outputs": [],
   "source": [
    "recommended_products = recommend_products(extracted_df, 'Apple', 4.5)"
   ],
   "metadata": {
    "collapsed": false,
    "ExecuteTime": {
     "end_time": "2024-05-02T21:14:03.907174Z",
     "start_time": "2024-05-02T21:14:03.879281Z"
    }
   },
   "id": "4e8eb8772490e761"
  },
  {
   "cell_type": "code",
   "execution_count": 146,
   "outputs": [
    {
     "data": {
      "text/plain": "             product_id  brand  \\\n6   7731553460605885094  Apple   \n4   2837439741639311989  Apple   \n10  5275084904871892803  Apple   \n12  6055086529589241214  Apple   \n9    340523220984963623  Apple   \n2   4100182392096504489  Apple   \n\n                                      product_details    price  rating  \\\n6   2022 13\" MacBook Air M2, 16GB RAM, 256GB Stora...  1198.55     4.8   \n4   2023 MacBook Pro Laptop M3 Pro chip with 12‑co...  2023.08     4.7   \n10  2023 MacBook Air Laptop with M2 chip: 15.3-inc...  1406.77     4.7   \n12  2023 MacBook Pro Laptop M2 Pro chip with 12‑co...  1998.99     4.7   \n9   2023 MacBook Pro Laptop M3 Max chip with 14‑co...  3097.25     4.6   \n2   2024 MacBook Air 15-inch Laptop with M3 chip: ...  1200.37     4.5   \n\n    reviews  \n6      69.0  \n4     230.0  \n10     87.0  \n12    357.0  \n9     142.0  \n2      48.0  ",
      "text/html": "<div>\n<style scoped>\n    .dataframe tbody tr th:only-of-type {\n        vertical-align: middle;\n    }\n\n    .dataframe tbody tr th {\n        vertical-align: top;\n    }\n\n    .dataframe thead th {\n        text-align: right;\n    }\n</style>\n<table border=\"1\" class=\"dataframe\">\n  <thead>\n    <tr style=\"text-align: right;\">\n      <th></th>\n      <th>product_id</th>\n      <th>brand</th>\n      <th>product_details</th>\n      <th>price</th>\n      <th>rating</th>\n      <th>reviews</th>\n    </tr>\n  </thead>\n  <tbody>\n    <tr>\n      <th>6</th>\n      <td>7731553460605885094</td>\n      <td>Apple</td>\n      <td>2022 13\" MacBook Air M2, 16GB RAM, 256GB Stora...</td>\n      <td>1198.55</td>\n      <td>4.8</td>\n      <td>69.0</td>\n    </tr>\n    <tr>\n      <th>4</th>\n      <td>2837439741639311989</td>\n      <td>Apple</td>\n      <td>2023 MacBook Pro Laptop M3 Pro chip with 12‑co...</td>\n      <td>2023.08</td>\n      <td>4.7</td>\n      <td>230.0</td>\n    </tr>\n    <tr>\n      <th>10</th>\n      <td>5275084904871892803</td>\n      <td>Apple</td>\n      <td>2023 MacBook Air Laptop with M2 chip: 15.3-inc...</td>\n      <td>1406.77</td>\n      <td>4.7</td>\n      <td>87.0</td>\n    </tr>\n    <tr>\n      <th>12</th>\n      <td>6055086529589241214</td>\n      <td>Apple</td>\n      <td>2023 MacBook Pro Laptop M2 Pro chip with 12‑co...</td>\n      <td>1998.99</td>\n      <td>4.7</td>\n      <td>357.0</td>\n    </tr>\n    <tr>\n      <th>9</th>\n      <td>340523220984963623</td>\n      <td>Apple</td>\n      <td>2023 MacBook Pro Laptop M3 Max chip with 14‑co...</td>\n      <td>3097.25</td>\n      <td>4.6</td>\n      <td>142.0</td>\n    </tr>\n    <tr>\n      <th>2</th>\n      <td>4100182392096504489</td>\n      <td>Apple</td>\n      <td>2024 MacBook Air 15-inch Laptop with M3 chip: ...</td>\n      <td>1200.37</td>\n      <td>4.5</td>\n      <td>48.0</td>\n    </tr>\n  </tbody>\n</table>\n</div>"
     },
     "execution_count": 146,
     "metadata": {},
     "output_type": "execute_result"
    }
   ],
   "source": [
    "recommended_products"
   ],
   "metadata": {
    "collapsed": false,
    "ExecuteTime": {
     "end_time": "2024-05-02T21:14:06.332693Z",
     "start_time": "2024-05-02T21:14:06.320689Z"
    }
   },
   "id": "f9d00a4e732b63a3"
  },
  {
   "cell_type": "code",
   "execution_count": null,
   "outputs": [],
   "source": [],
   "metadata": {
    "collapsed": false
   },
   "id": "c2dc53613d65c9f9"
  }
 ],
 "metadata": {
  "kernelspec": {
   "display_name": "Python 3",
   "language": "python",
   "name": "python3"
  },
  "language_info": {
   "codemirror_mode": {
    "name": "ipython",
    "version": 2
   },
   "file_extension": ".py",
   "mimetype": "text/x-python",
   "name": "python",
   "nbconvert_exporter": "python",
   "pygments_lexer": "ipython2",
   "version": "2.7.6"
  }
 },
 "nbformat": 4,
 "nbformat_minor": 5
}
