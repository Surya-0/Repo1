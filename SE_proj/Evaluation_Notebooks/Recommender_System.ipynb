{
 "cells": [
  {
   "cell_type": "code",
   "execution_count": 1,
   "id": "initial_id",
   "metadata": {
    "collapsed": true,
    "ExecuteTime": {
     "end_time": "2024-05-03T16:35:04.334651Z",
     "start_time": "2024-05-03T16:35:03.178127Z"
    }
   },
   "outputs": [],
   "source": [
    "import pandas as pd\n",
    "import numpy as np\n",
    "import matplotlib.pyplot as plt\n",
    "import sklearn\n",
    "from sklearn.decomposition import TruncatedSVD"
   ]
  },
  {
   "cell_type": "code",
   "execution_count": 2,
   "outputs": [],
   "source": [
    "plt.style.use(\"ggplot\")\n"
   ],
   "metadata": {
    "collapsed": false,
    "ExecuteTime": {
     "end_time": "2024-05-03T16:35:04.335793Z",
     "start_time": "2024-05-03T16:35:04.335142Z"
    }
   },
   "id": "89b7c6fe6330d55b"
  },
  {
   "cell_type": "code",
   "execution_count": 3,
   "outputs": [
    {
     "data": {
      "text/plain": "                 UserId   ProductId  Rating   Timestamp\n0        A39HTATAQ9V7YF  0205616461     5.0  1369699200\n1        A3JM6GV9MNOF9X  0558925278     3.0  1355443200\n2        A1Z513UWSAAO0F  0558925278     5.0  1404691200\n3        A1WMRR494NWEWV  0733001998     4.0  1382572800\n4        A3IAAVS479H7M7  0737104473     1.0  1274227200\n...                 ...         ...     ...         ...\n2023065  A3DEHKPFANB8VA  B00LORWRJA     5.0  1405296000\n2023066  A3DEHKPFANB8VA  B00LOS7MEE     5.0  1405296000\n2023067   AG9TJLJUN5OM3  B00LP2YB8E     5.0  1405382400\n2023068   AYBIB14QOI9PC  B00LPVG6V0     5.0  1405555200\n2023069  A1PB6OT0OOPKNQ  B00LU0LTOU     5.0  1405641600\n\n[2023070 rows x 4 columns]",
      "text/html": "<div>\n<style scoped>\n    .dataframe tbody tr th:only-of-type {\n        vertical-align: middle;\n    }\n\n    .dataframe tbody tr th {\n        vertical-align: top;\n    }\n\n    .dataframe thead th {\n        text-align: right;\n    }\n</style>\n<table border=\"1\" class=\"dataframe\">\n  <thead>\n    <tr style=\"text-align: right;\">\n      <th></th>\n      <th>UserId</th>\n      <th>ProductId</th>\n      <th>Rating</th>\n      <th>Timestamp</th>\n    </tr>\n  </thead>\n  <tbody>\n    <tr>\n      <th>0</th>\n      <td>A39HTATAQ9V7YF</td>\n      <td>0205616461</td>\n      <td>5.0</td>\n      <td>1369699200</td>\n    </tr>\n    <tr>\n      <th>1</th>\n      <td>A3JM6GV9MNOF9X</td>\n      <td>0558925278</td>\n      <td>3.0</td>\n      <td>1355443200</td>\n    </tr>\n    <tr>\n      <th>2</th>\n      <td>A1Z513UWSAAO0F</td>\n      <td>0558925278</td>\n      <td>5.0</td>\n      <td>1404691200</td>\n    </tr>\n    <tr>\n      <th>3</th>\n      <td>A1WMRR494NWEWV</td>\n      <td>0733001998</td>\n      <td>4.0</td>\n      <td>1382572800</td>\n    </tr>\n    <tr>\n      <th>4</th>\n      <td>A3IAAVS479H7M7</td>\n      <td>0737104473</td>\n      <td>1.0</td>\n      <td>1274227200</td>\n    </tr>\n    <tr>\n      <th>...</th>\n      <td>...</td>\n      <td>...</td>\n      <td>...</td>\n      <td>...</td>\n    </tr>\n    <tr>\n      <th>2023065</th>\n      <td>A3DEHKPFANB8VA</td>\n      <td>B00LORWRJA</td>\n      <td>5.0</td>\n      <td>1405296000</td>\n    </tr>\n    <tr>\n      <th>2023066</th>\n      <td>A3DEHKPFANB8VA</td>\n      <td>B00LOS7MEE</td>\n      <td>5.0</td>\n      <td>1405296000</td>\n    </tr>\n    <tr>\n      <th>2023067</th>\n      <td>AG9TJLJUN5OM3</td>\n      <td>B00LP2YB8E</td>\n      <td>5.0</td>\n      <td>1405382400</td>\n    </tr>\n    <tr>\n      <th>2023068</th>\n      <td>AYBIB14QOI9PC</td>\n      <td>B00LPVG6V0</td>\n      <td>5.0</td>\n      <td>1405555200</td>\n    </tr>\n    <tr>\n      <th>2023069</th>\n      <td>A1PB6OT0OOPKNQ</td>\n      <td>B00LU0LTOU</td>\n      <td>5.0</td>\n      <td>1405641600</td>\n    </tr>\n  </tbody>\n</table>\n<p>2023070 rows × 4 columns</p>\n</div>"
     },
     "execution_count": 3,
     "metadata": {},
     "output_type": "execute_result"
    }
   ],
   "source": [
    "amazon_ratings = pd.read_csv('../Datasets/ratings_Beauty.csv')\n",
    "amazon_ratings"
   ],
   "metadata": {
    "collapsed": false,
    "ExecuteTime": {
     "end_time": "2024-05-03T16:35:06.144068Z",
     "start_time": "2024-05-03T16:35:05.315097Z"
    }
   },
   "id": "da5e8da34b1761c1"
  },
  {
   "cell_type": "code",
   "execution_count": 4,
   "outputs": [
    {
     "data": {
      "text/plain": "UserId       1210271\nProductId     249274\nRating             5\nTimestamp       4231\ndtype: int64"
     },
     "execution_count": 4,
     "metadata": {},
     "output_type": "execute_result"
    }
   ],
   "source": [
    "amazon_ratings.nunique()"
   ],
   "metadata": {
    "collapsed": false,
    "ExecuteTime": {
     "end_time": "2024-05-03T16:35:08.838640Z",
     "start_time": "2024-05-03T16:35:08.539343Z"
    }
   },
   "id": "28fd0c8e4fdb35db"
  },
  {
   "cell_type": "code",
   "execution_count": 5,
   "outputs": [
    {
     "data": {
      "text/plain": "UserId       0\nProductId    0\nRating       0\nTimestamp    0\ndtype: int64"
     },
     "execution_count": 5,
     "metadata": {},
     "output_type": "execute_result"
    }
   ],
   "source": [
    "amazon_ratings.isnull().sum()"
   ],
   "metadata": {
    "collapsed": false,
    "ExecuteTime": {
     "end_time": "2024-05-03T16:35:09.124421Z",
     "start_time": "2024-05-03T16:35:09.041120Z"
    }
   },
   "id": "af62971a23aa7514"
  },
  {
   "cell_type": "code",
   "execution_count": 6,
   "outputs": [
    {
     "data": {
      "text/plain": "(2023070, 4)"
     },
     "execution_count": 6,
     "metadata": {},
     "output_type": "execute_result"
    }
   ],
   "source": [
    "amazon_ratings.shape"
   ],
   "metadata": {
    "collapsed": false,
    "ExecuteTime": {
     "end_time": "2024-05-03T16:35:09.554221Z",
     "start_time": "2024-05-03T16:35:09.548559Z"
    }
   },
   "id": "32795aa44b368f7f"
  },
  {
   "cell_type": "code",
   "execution_count": 7,
   "outputs": [
    {
     "data": {
      "text/plain": "            Rating\nProductId         \nB001MA0QY2    7533\nB0009V1YR8    2869\nB0043OYFKU    2477\nB0000YUXI0    2143\nB003V265QW    2088\nB000ZMBSPE    2041\nB003BQ6QXK    1918\nB004OHQR1Q    1885\nB00121UVU0    1838\nB000FS05VG    1589",
      "text/html": "<div>\n<style scoped>\n    .dataframe tbody tr th:only-of-type {\n        vertical-align: middle;\n    }\n\n    .dataframe tbody tr th {\n        vertical-align: top;\n    }\n\n    .dataframe thead th {\n        text-align: right;\n    }\n</style>\n<table border=\"1\" class=\"dataframe\">\n  <thead>\n    <tr style=\"text-align: right;\">\n      <th></th>\n      <th>Rating</th>\n    </tr>\n    <tr>\n      <th>ProductId</th>\n      <th></th>\n    </tr>\n  </thead>\n  <tbody>\n    <tr>\n      <th>B001MA0QY2</th>\n      <td>7533</td>\n    </tr>\n    <tr>\n      <th>B0009V1YR8</th>\n      <td>2869</td>\n    </tr>\n    <tr>\n      <th>B0043OYFKU</th>\n      <td>2477</td>\n    </tr>\n    <tr>\n      <th>B0000YUXI0</th>\n      <td>2143</td>\n    </tr>\n    <tr>\n      <th>B003V265QW</th>\n      <td>2088</td>\n    </tr>\n    <tr>\n      <th>B000ZMBSPE</th>\n      <td>2041</td>\n    </tr>\n    <tr>\n      <th>B003BQ6QXK</th>\n      <td>1918</td>\n    </tr>\n    <tr>\n      <th>B004OHQR1Q</th>\n      <td>1885</td>\n    </tr>\n    <tr>\n      <th>B00121UVU0</th>\n      <td>1838</td>\n    </tr>\n    <tr>\n      <th>B000FS05VG</th>\n      <td>1589</td>\n    </tr>\n  </tbody>\n</table>\n</div>"
     },
     "execution_count": 7,
     "metadata": {},
     "output_type": "execute_result"
    }
   ],
   "source": [
    "popular_products = pd.DataFrame(amazon_ratings.groupby('ProductId')['Rating'].count())\n",
    "most_popular = popular_products.sort_values('Rating', ascending=False)\n",
    "most_popular.head(10)"
   ],
   "metadata": {
    "collapsed": false,
    "ExecuteTime": {
     "end_time": "2024-05-03T16:35:10.130921Z",
     "start_time": "2024-05-03T16:35:09.986546Z"
    }
   },
   "id": "74b15c26b3490f1d"
  },
  {
   "cell_type": "code",
   "execution_count": 8,
   "outputs": [
    {
     "data": {
      "text/plain": "            Rating\nProductId         \nB001MA0QY2    7533\nB0009V1YR8    2869\nB0043OYFKU    2477\nB0000YUXI0    2143\nB003V265QW    2088\n...            ...\nB004U81OBC       1\nB004U7R0EI       1\nB004U7Q2O2       1\nB004U7NKRE       1\nB00LU0LTOU       1\n\n[249274 rows x 1 columns]",
      "text/html": "<div>\n<style scoped>\n    .dataframe tbody tr th:only-of-type {\n        vertical-align: middle;\n    }\n\n    .dataframe tbody tr th {\n        vertical-align: top;\n    }\n\n    .dataframe thead th {\n        text-align: right;\n    }\n</style>\n<table border=\"1\" class=\"dataframe\">\n  <thead>\n    <tr style=\"text-align: right;\">\n      <th></th>\n      <th>Rating</th>\n    </tr>\n    <tr>\n      <th>ProductId</th>\n      <th></th>\n    </tr>\n  </thead>\n  <tbody>\n    <tr>\n      <th>B001MA0QY2</th>\n      <td>7533</td>\n    </tr>\n    <tr>\n      <th>B0009V1YR8</th>\n      <td>2869</td>\n    </tr>\n    <tr>\n      <th>B0043OYFKU</th>\n      <td>2477</td>\n    </tr>\n    <tr>\n      <th>B0000YUXI0</th>\n      <td>2143</td>\n    </tr>\n    <tr>\n      <th>B003V265QW</th>\n      <td>2088</td>\n    </tr>\n    <tr>\n      <th>...</th>\n      <td>...</td>\n    </tr>\n    <tr>\n      <th>B004U81OBC</th>\n      <td>1</td>\n    </tr>\n    <tr>\n      <th>B004U7R0EI</th>\n      <td>1</td>\n    </tr>\n    <tr>\n      <th>B004U7Q2O2</th>\n      <td>1</td>\n    </tr>\n    <tr>\n      <th>B004U7NKRE</th>\n      <td>1</td>\n    </tr>\n    <tr>\n      <th>B00LU0LTOU</th>\n      <td>1</td>\n    </tr>\n  </tbody>\n</table>\n<p>249274 rows × 1 columns</p>\n</div>"
     },
     "execution_count": 8,
     "metadata": {},
     "output_type": "execute_result"
    }
   ],
   "source": [
    "most_popular"
   ],
   "metadata": {
    "collapsed": false,
    "ExecuteTime": {
     "end_time": "2024-05-03T16:35:10.333465Z",
     "start_time": "2024-05-03T16:35:10.328253Z"
    }
   },
   "id": "be954b15594e0193"
  },
  {
   "cell_type": "code",
   "execution_count": 9,
   "outputs": [
    {
     "data": {
      "text/plain": "Rating    4.321386\nName: B001MA0QY2, dtype: float64"
     },
     "execution_count": 9,
     "metadata": {},
     "output_type": "execute_result"
    }
   ],
   "source": [
    "mean_ratings = pd.DataFrame(amazon_ratings.groupby('ProductId')['Rating'].mean())\n",
    "most_popular_mean = mean_ratings.sort_values('Rating', ascending=False)\n",
    "most_popular_mean.loc['B001MA0QY2']"
   ],
   "metadata": {
    "collapsed": false,
    "ExecuteTime": {
     "end_time": "2024-05-03T16:35:10.983212Z",
     "start_time": "2024-05-03T16:35:10.724526Z"
    }
   },
   "id": "ed306660b6e2d776"
  },
  {
   "cell_type": "code",
   "execution_count": 10,
   "outputs": [
    {
     "data": {
      "text/plain": "            Rating\nProductId         \n0205616461     5.0\nB00551HYQC     5.0\nB0054ZSIXC     5.0\nB00550UX52     5.0\nB00550YQP0     5.0\n...            ...\nB00586PNN0     1.0\nB00585I1VW     1.0\nB005854H5G     1.0\nB00583Q2MY     1.0\nB00740KNT2     1.0\n\n[249274 rows x 1 columns]",
      "text/html": "<div>\n<style scoped>\n    .dataframe tbody tr th:only-of-type {\n        vertical-align: middle;\n    }\n\n    .dataframe tbody tr th {\n        vertical-align: top;\n    }\n\n    .dataframe thead th {\n        text-align: right;\n    }\n</style>\n<table border=\"1\" class=\"dataframe\">\n  <thead>\n    <tr style=\"text-align: right;\">\n      <th></th>\n      <th>Rating</th>\n    </tr>\n    <tr>\n      <th>ProductId</th>\n      <th></th>\n    </tr>\n  </thead>\n  <tbody>\n    <tr>\n      <th>0205616461</th>\n      <td>5.0</td>\n    </tr>\n    <tr>\n      <th>B00551HYQC</th>\n      <td>5.0</td>\n    </tr>\n    <tr>\n      <th>B0054ZSIXC</th>\n      <td>5.0</td>\n    </tr>\n    <tr>\n      <th>B00550UX52</th>\n      <td>5.0</td>\n    </tr>\n    <tr>\n      <th>B00550YQP0</th>\n      <td>5.0</td>\n    </tr>\n    <tr>\n      <th>...</th>\n      <td>...</td>\n    </tr>\n    <tr>\n      <th>B00586PNN0</th>\n      <td>1.0</td>\n    </tr>\n    <tr>\n      <th>B00585I1VW</th>\n      <td>1.0</td>\n    </tr>\n    <tr>\n      <th>B005854H5G</th>\n      <td>1.0</td>\n    </tr>\n    <tr>\n      <th>B00583Q2MY</th>\n      <td>1.0</td>\n    </tr>\n    <tr>\n      <th>B00740KNT2</th>\n      <td>1.0</td>\n    </tr>\n  </tbody>\n</table>\n<p>249274 rows × 1 columns</p>\n</div>"
     },
     "execution_count": 10,
     "metadata": {},
     "output_type": "execute_result"
    }
   ],
   "source": [
    "most_popular_mean"
   ],
   "metadata": {
    "collapsed": false,
    "ExecuteTime": {
     "end_time": "2024-05-03T16:35:11.264150Z",
     "start_time": "2024-05-03T16:35:11.256246Z"
    }
   },
   "id": "78ce90aea96b2dd9"
  },
  {
   "cell_type": "code",
   "execution_count": 11,
   "outputs": [
    {
     "data": {
      "text/plain": "<Axes: xlabel='ProductId'>"
     },
     "execution_count": 11,
     "metadata": {},
     "output_type": "execute_result"
    },
    {
     "data": {
      "text/plain": "<Figure size 640x480 with 1 Axes>",
      "image/png": "[encoded data removed]"
     },
     "metadata": {},
     "output_type": "display_data"
    }
   ],
   "source": [
    "most_popular.head(30).plot(kind = \"bar\")"
   ],
   "metadata": {
    "collapsed": false,
    "ExecuteTime": {
     "end_time": "2024-05-03T16:35:11.691394Z",
     "start_time": "2024-05-03T16:35:11.503978Z"
    }
   },
   "id": "7461214877723df7"
  },
  {
   "cell_type": "markdown",
   "source": [
    "### A statistical approach to the recommender system"
   ],
   "metadata": {
    "collapsed": false
   },
   "id": "dc359ca35f6c7bec"
  },
  {
   "cell_type": "markdown",
   "source": [
    "#### Building the utility matrix"
   ],
   "metadata": {
    "collapsed": false
   },
   "id": "b3d26880ebfed6d6"
  },
  {
   "cell_type": "code",
   "execution_count": 12,
   "outputs": [],
   "source": [
    "# Subset of Amazon Ratings\n",
    "amazon_ratings1 = amazon_ratings.head(10000)"
   ],
   "metadata": {
    "collapsed": false,
    "ExecuteTime": {
     "end_time": "2024-05-03T16:35:12.915429Z",
     "start_time": "2024-05-03T16:35:12.912094Z"
    }
   },
   "id": "aa0a4b26edf21fe8"
  },
  {
   "cell_type": "code",
   "execution_count": 13,
   "outputs": [
    {
     "data": {
      "text/plain": "              UserId   ProductId  Rating   Timestamp\n0     A39HTATAQ9V7YF  0205616461     5.0  1369699200\n1     A3JM6GV9MNOF9X  0558925278     3.0  1355443200\n2     A1Z513UWSAAO0F  0558925278     5.0  1404691200\n3     A1WMRR494NWEWV  0733001998     4.0  1382572800\n4     A3IAAVS479H7M7  0737104473     1.0  1274227200\n...              ...         ...     ...         ...\n9995   A9V4K2YJ2DWTQ  B000052YQ2     3.0  1396396800\n9996  A3033CXHQ0NF8J  B000052YQ2     5.0  1291248000\n9997  A1Z66KHEXSF3L5  B000052YQ2     3.0  1361577600\n9998  A1Y7D2DRVBN59D  B000052YQ2     5.0  1402099200\n9999   APYKGTU0LFICH  B000052YQ2     2.0  1387238400\n\n[10000 rows x 4 columns]",
      "text/html": "<div>\n<style scoped>\n    .dataframe tbody tr th:only-of-type {\n        vertical-align: middle;\n    }\n\n    .dataframe tbody tr th {\n        vertical-align: top;\n    }\n\n    .dataframe thead th {\n        text-align: right;\n    }\n</style>\n<table border=\"1\" class=\"dataframe\">\n  <thead>\n    <tr style=\"text-align: right;\">\n      <th></th>\n      <th>UserId</th>\n      <th>ProductId</th>\n      <th>Rating</th>\n      <th>Timestamp</th>\n    </tr>\n  </thead>\n  <tbody>\n    <tr>\n      <th>0</th>\n      <td>A39HTATAQ9V7YF</td>\n      <td>0205616461</td>\n      <td>5.0</td>\n      <td>1369699200</td>\n    </tr>\n    <tr>\n      <th>1</th>\n      <td>A3JM6GV9MNOF9X</td>\n      <td>0558925278</td>\n      <td>3.0</td>\n      <td>1355443200</td>\n    </tr>\n    <tr>\n      <th>2</th>\n      <td>A1Z513UWSAAO0F</td>\n      <td>0558925278</td>\n      <td>5.0</td>\n      <td>1404691200</td>\n    </tr>\n    <tr>\n      <th>3</th>\n      <td>A1WMRR494NWEWV</td>\n      <td>0733001998</td>\n      <td>4.0</td>\n      <td>1382572800</td>\n    </tr>\n    <tr>\n      <th>4</th>\n      <td>A3IAAVS479H7M7</td>\n      <td>0737104473</td>\n      <td>1.0</td>\n      <td>1274227200</td>\n    </tr>\n    <tr>\n      <th>...</th>\n      <td>...</td>\n      <td>...</td>\n      <td>...</td>\n      <td>...</td>\n    </tr>\n    <tr>\n      <th>9995</th>\n      <td>A9V4K2YJ2DWTQ</td>\n      <td>B000052YQ2</td>\n      <td>3.0</td>\n      <td>1396396800</td>\n    </tr>\n    <tr>\n      <th>9996</th>\n      <td>A3033CXHQ0NF8J</td>\n      <td>B000052YQ2</td>\n      <td>5.0</td>\n      <td>1291248000</td>\n    </tr>\n    <tr>\n      <th>9997</th>\n      <td>A1Z66KHEXSF3L5</td>\n      <td>B000052YQ2</td>\n      <td>3.0</td>\n      <td>1361577600</td>\n    </tr>\n    <tr>\n      <th>9998</th>\n      <td>A1Y7D2DRVBN59D</td>\n      <td>B000052YQ2</td>\n      <td>5.0</td>\n      <td>1402099200</td>\n    </tr>\n    <tr>\n      <th>9999</th>\n      <td>APYKGTU0LFICH</td>\n      <td>B000052YQ2</td>\n      <td>2.0</td>\n      <td>1387238400</td>\n    </tr>\n  </tbody>\n</table>\n<p>10000 rows × 4 columns</p>\n</div>"
     },
     "execution_count": 13,
     "metadata": {},
     "output_type": "execute_result"
    }
   ],
   "source": [
    "amazon_ratings1"
   ],
   "metadata": {
    "collapsed": false,
    "ExecuteTime": {
     "end_time": "2024-05-03T16:35:13.394610Z",
     "start_time": "2024-05-03T16:35:13.386986Z"
    }
   },
   "id": "fadc37e12088253c"
  },
  {
   "cell_type": "code",
   "execution_count": 14,
   "outputs": [
    {
     "data": {
      "text/plain": "UserId       9697\nProductId     886\nRating          5\nTimestamp    2320\ndtype: int64"
     },
     "execution_count": 14,
     "metadata": {},
     "output_type": "execute_result"
    }
   ],
   "source": [
    "amazon_ratings1.nunique()"
   ],
   "metadata": {
    "collapsed": false,
    "ExecuteTime": {
     "end_time": "2024-05-03T16:35:13.801084Z",
     "start_time": "2024-05-03T16:35:13.790877Z"
    }
   },
   "id": "23fe1fcd0689e433"
  },
  {
   "cell_type": "markdown",
   "source": [
    "There are 9697 users and 886 unique products in this dataframe amazon ratings 1 which is a miniature version of the original dataframe to simplify our mathematical calculations. With this we form the ratings utility matrix which consists of all possible user - item preferences as a matrix. The rows represent the users and the columns represent the products. "
   ],
   "metadata": {
    "collapsed": false
   },
   "id": "8bd44f1c99e50c4f"
  },
  {
   "cell_type": "code",
   "execution_count": 15,
   "outputs": [
    {
     "data": {
      "text/plain": "ProductId              0205616461  0558925278  0733001998  0737104473  \\\nUserId                                                                  \nA00205921JHJK5X9LNP42           0           0           0           0   \nA024581134CV80ZBLIZTZ           0           0           0           0   \nA03056581JJIOL5FSKJY7           0           0           0           0   \nA03099101ZRK4K607JVHH           0           0           0           0   \nA0505229A7NSH3FRXRR4            0           0           0           0   \n\nProductId              0762451459  1304139212  1304139220  130414089X  \\\nUserId                                                                  \nA00205921JHJK5X9LNP42           0           0           0           0   \nA024581134CV80ZBLIZTZ           0           0           0           0   \nA03056581JJIOL5FSKJY7           0           0           0           0   \nA03099101ZRK4K607JVHH           0           0           0           0   \nA0505229A7NSH3FRXRR4            0           0           0           0   \n\nProductId              130414643X  1304146537  ...  B000052YPE  B000052YPF  \\\nUserId                                         ...                           \nA00205921JHJK5X9LNP42           0           0  ...           0           0   \nA024581134CV80ZBLIZTZ           0           0  ...           0           0   \nA03056581JJIOL5FSKJY7           0           0  ...           0           0   \nA03099101ZRK4K607JVHH           0           0  ...           0           0   \nA0505229A7NSH3FRXRR4            0           0  ...           0           0   \n\nProductId              B000052YPG  B000052YPH  B000052YPM  B000052YPU  \\\nUserId                                                                  \nA00205921JHJK5X9LNP42           0           0           0           0   \nA024581134CV80ZBLIZTZ           0           0           0           0   \nA03056581JJIOL5FSKJY7           0           0           0           0   \nA03099101ZRK4K607JVHH           0           0           0           0   \nA0505229A7NSH3FRXRR4            0           0           0           0   \n\nProductId              B000052YPV  B000052YPY  B000052YQ0  B000052YQ2  \nUserId                                                                 \nA00205921JHJK5X9LNP42           0           0           0           0  \nA024581134CV80ZBLIZTZ           0           0           0           0  \nA03056581JJIOL5FSKJY7           0           0           0           0  \nA03099101ZRK4K607JVHH           0           0           0           0  \nA0505229A7NSH3FRXRR4            0           0           0           0  \n\n[5 rows x 886 columns]",
      "text/html": "<div>\n<style scoped>\n    .dataframe tbody tr th:only-of-type {\n        vertical-align: middle;\n    }\n\n    .dataframe tbody tr th {\n        vertical-align: top;\n    }\n\n    .dataframe thead th {\n        text-align: right;\n    }\n</style>\n<table border=\"1\" class=\"dataframe\">\n  <thead>\n    <tr style=\"text-align: right;\">\n      <th>ProductId</th>\n      <th>0205616461</th>\n      <th>0558925278</th>\n      <th>0733001998</th>\n      <th>0737104473</th>\n      <th>0762451459</th>\n      <th>1304139212</th>\n      <th>1304139220</th>\n      <th>130414089X</th>\n      <th>130414643X</th>\n      <th>1304146537</th>\n      <th>...</th>\n      <th>B000052YPE</th>\n      <th>B000052YPF</th>\n      <th>B000052YPG</th>\n      <th>B000052YPH</th>\n      <th>B000052YPM</th>\n      <th>B000052YPU</th>\n      <th>B000052YPV</th>\n      <th>B000052YPY</th>\n      <th>B000052YQ0</th>\n      <th>B000052YQ2</th>\n    </tr>\n    <tr>\n      <th>UserId</th>\n      <th></th>\n      <th></th>\n      <th></th>\n      <th></th>\n      <th></th>\n      <th></th>\n      <th></th>\n      <th></th>\n      <th></th>\n      <th></th>\n      <th></th>\n      <th></th>\n      <th></th>\n      <th></th>\n      <th></th>\n      <th></th>\n      <th></th>\n      <th></th>\n      <th></th>\n      <th></th>\n      <th></th>\n    </tr>\n  </thead>\n  <tbody>\n    <tr>\n      <th>A00205921JHJK5X9LNP42</th>\n      <td>0</td>\n      <td>0</td>\n      <td>0</td>\n      <td>0</td>\n      <td>0</td>\n      <td>0</td>\n      <td>0</td>\n      <td>0</td>\n      <td>0</td>\n      <td>0</td>\n      <td>...</td>\n      <td>0</td>\n      <td>0</td>\n      <td>0</td>\n      <td>0</td>\n      <td>0</td>\n      <td>0</td>\n      <td>0</td>\n      <td>0</td>\n      <td>0</td>\n      <td>0</td>\n    </tr>\n    <tr>\n      <th>A024581134CV80ZBLIZTZ</th>\n      <td>0</td>\n      <td>0</td>\n      <td>0</td>\n      <td>0</td>\n      <td>0</td>\n      <td>0</td>\n      <td>0</td>\n      <td>0</td>\n      <td>0</td>\n      <td>0</td>\n      <td>...</td>\n      <td>0</td>\n      <td>0</td>\n      <td>0</td>\n      <td>0</td>\n      <td>0</td>\n      <td>0</td>\n      <td>0</td>\n      <td>0</td>\n      <td>0</td>\n      <td>0</td>\n    </tr>\n    <tr>\n      <th>A03056581JJIOL5FSKJY7</th>\n      <td>0</td>\n      <td>0</td>\n      <td>0</td>\n      <td>0</td>\n      <td>0</td>\n      <td>0</td>\n      <td>0</td>\n      <td>0</td>\n      <td>0</td>\n      <td>0</td>\n      <td>...</td>\n      <td>0</td>\n      <td>0</td>\n      <td>0</td>\n      <td>0</td>\n      <td>0</td>\n      <td>0</td>\n      <td>0</td>\n      <td>0</td>\n      <td>0</td>\n      <td>0</td>\n    </tr>\n    <tr>\n      <th>A03099101ZRK4K607JVHH</th>\n      <td>0</td>\n      <td>0</td>\n      <td>0</td>\n      <td>0</td>\n      <td>0</td>\n      <td>0</td>\n      <td>0</td>\n      <td>0</td>\n      <td>0</td>\n      <td>0</td>\n      <td>...</td>\n      <td>0</td>\n      <td>0</td>\n      <td>0</td>\n      <td>0</td>\n      <td>0</td>\n      <td>0</td>\n      <td>0</td>\n      <td>0</td>\n      <td>0</td>\n      <td>0</td>\n    </tr>\n    <tr>\n      <th>A0505229A7NSH3FRXRR4</th>\n      <td>0</td>\n      <td>0</td>\n      <td>0</td>\n      <td>0</td>\n      <td>0</td>\n      <td>0</td>\n      <td>0</td>\n      <td>0</td>\n      <td>0</td>\n      <td>0</td>\n      <td>...</td>\n      <td>0</td>\n      <td>0</td>\n      <td>0</td>\n      <td>0</td>\n      <td>0</td>\n      <td>0</td>\n      <td>0</td>\n      <td>0</td>\n      <td>0</td>\n      <td>0</td>\n    </tr>\n  </tbody>\n</table>\n<p>5 rows × 886 columns</p>\n</div>"
     },
     "execution_count": 15,
     "metadata": {},
     "output_type": "execute_result"
    }
   ],
   "source": [
    "ratings_utility_matrix = amazon_ratings1.pivot_table(values='Rating', index='UserId', columns='ProductId', fill_value=0)\n",
    "ratings_utility_matrix.head()"
   ],
   "metadata": {
    "collapsed": false,
    "ExecuteTime": {
     "end_time": "2024-05-03T16:35:15.062503Z",
     "start_time": "2024-05-03T16:35:14.685626Z"
    }
   },
   "id": "5f526158d36be9ac"
  },
  {
   "cell_type": "code",
   "execution_count": 16,
   "outputs": [
    {
     "data": {
      "text/plain": "(9697, 886)"
     },
     "execution_count": 16,
     "metadata": {},
     "output_type": "execute_result"
    }
   ],
   "source": [
    "ratings_utility_matrix.shape"
   ],
   "metadata": {
    "collapsed": false,
    "ExecuteTime": {
     "end_time": "2024-05-03T16:35:15.160081Z",
     "start_time": "2024-05-03T16:35:15.153798Z"
    }
   },
   "id": "831d11ab7808ef4c"
  },
  {
   "cell_type": "markdown",
   "source": [
    "Next we take the transpose of the matrix due to which we get a matrix with the products as rows and the columns as users  "
   ],
   "metadata": {
    "collapsed": false
   },
   "id": "690783e5b52408cb"
  },
  {
   "cell_type": "code",
   "execution_count": 17,
   "outputs": [
    {
     "data": {
      "text/plain": "(886, 9697)"
     },
     "execution_count": 17,
     "metadata": {},
     "output_type": "execute_result"
    }
   ],
   "source": [
    "X = ratings_utility_matrix.T\n",
    "X.shape"
   ],
   "metadata": {
    "collapsed": false,
    "ExecuteTime": {
     "end_time": "2024-05-03T16:35:16.076579Z",
     "start_time": "2024-05-03T16:35:16.037427Z"
    }
   },
   "id": "351cbfae342d071b"
  },
  {
   "cell_type": "markdown",
   "source": [
    "This helps in reducing the dimensions of the matrix from 886 x 9697 to 886 x 10, to reduce the curse of dimensionality. "
   ],
   "metadata": {
    "collapsed": false
   },
   "id": "8ad125a56413f61d"
  },
  {
   "cell_type": "code",
   "execution_count": 18,
   "outputs": [
    {
     "data": {
      "text/plain": "(886, 10)"
     },
     "execution_count": 18,
     "metadata": {},
     "output_type": "execute_result"
    }
   ],
   "source": [
    "SVD = TruncatedSVD(n_components=10)\n",
    "decomposed_matrix = SVD.fit_transform(X)\n",
    "decomposed_matrix.shape"
   ],
   "metadata": {
    "collapsed": false,
    "ExecuteTime": {
     "end_time": "2024-05-03T16:35:18.821498Z",
     "start_time": "2024-05-03T16:35:17.413123Z"
    }
   },
   "id": "37756ef080f57393"
  },
  {
   "cell_type": "code",
   "execution_count": 19,
   "outputs": [
    {
     "data": {
      "text/plain": "array([[ 1.20772713e-15,  4.61620701e-14,  1.07249357e-14, ...,\n         4.46146976e-13,  2.72516503e-13,  5.05546772e-12],\n       [-7.95418595e-15, -4.90893821e-13,  2.33288378e-13, ...,\n        -4.99030209e-12, -1.36849819e-12, -2.81490479e-13],\n       [-2.08227479e-17, -2.12820904e-15, -5.11751641e-16, ...,\n         1.67336432e-14,  2.86472121e-14, -2.38164736e-13],\n       ...,\n       [ 3.63090436e-06,  2.27953992e-01, -1.04124059e-02, ...,\n        -3.75032032e-03,  7.76848656e-05, -4.92605221e-02],\n       [ 2.84243487e-07,  8.31276556e-04, -8.19026280e-05, ...,\n         9.18788455e-04,  1.33724434e-03,  1.04578438e-03],\n       [-4.03455725e-04,  4.10279392e-01,  3.49060547e-01, ...,\n         2.87538689e-02, -1.53869038e-02,  4.34526761e-01]])"
     },
     "execution_count": 19,
     "metadata": {},
     "output_type": "execute_result"
    }
   ],
   "source": [
    "decomposed_matrix"
   ],
   "metadata": {
    "collapsed": false,
    "ExecuteTime": {
     "end_time": "2024-05-03T16:35:18.895219Z",
     "start_time": "2024-05-03T16:35:18.816697Z"
    }
   },
   "id": "1b6b4ade8a7d9f9e"
  },
  {
   "cell_type": "markdown",
   "source": [
    "building the correlation matrix for the products to check the correlation between the various products involved"
   ],
   "metadata": {
    "collapsed": false
   },
   "id": "ed63f7c04eaa01c4"
  },
  {
   "cell_type": "code",
   "execution_count": 20,
   "outputs": [
    {
     "data": {
      "text/plain": "(886, 886)"
     },
     "execution_count": 20,
     "metadata": {},
     "output_type": "execute_result"
    }
   ],
   "source": [
    "correlation_matrix = np.corrcoef(decomposed_matrix)\n",
    "correlation_matrix.shape"
   ],
   "metadata": {
    "collapsed": false,
    "ExecuteTime": {
     "end_time": "2024-05-03T16:35:19.117633Z",
     "start_time": "2024-05-03T16:35:18.928641Z"
    }
   },
   "id": "4a952aead6e56bea"
  },
  {
   "cell_type": "code",
   "execution_count": 21,
   "outputs": [
    {
     "data": {
      "text/plain": "(886, 9697)"
     },
     "execution_count": 21,
     "metadata": {},
     "output_type": "execute_result"
    }
   ],
   "source": [
    "X.shape"
   ],
   "metadata": {
    "collapsed": false,
    "ExecuteTime": {
     "end_time": "2024-05-03T16:35:19.399814Z",
     "start_time": "2024-05-03T16:35:19.397570Z"
    }
   },
   "id": "7c8fad333061a719"
  },
  {
   "cell_type": "code",
   "execution_count": 22,
   "outputs": [
    {
     "data": {
      "text/plain": "'6117036094'"
     },
     "execution_count": 22,
     "metadata": {},
     "output_type": "execute_result"
    }
   ],
   "source": [
    "X.index[99]"
   ],
   "metadata": {
    "collapsed": false,
    "ExecuteTime": {
     "end_time": "2024-05-03T16:35:19.880168Z",
     "start_time": "2024-05-03T16:35:19.877731Z"
    }
   },
   "id": "6eb5808605082d47"
  },
  {
   "cell_type": "code",
   "execution_count": 23,
   "outputs": [
    {
     "data": {
      "text/plain": "99"
     },
     "execution_count": 23,
     "metadata": {},
     "output_type": "execute_result"
    }
   ],
   "source": [
    "i = \"6117036094\"\n",
    "\n",
    "product_names = list(X.index)\n",
    "product_ID = product_names.index(i)\n",
    "product_ID"
   ],
   "metadata": {
    "collapsed": false,
    "ExecuteTime": {
     "end_time": "2024-05-03T16:35:20.380532Z",
     "start_time": "2024-05-03T16:35:20.376250Z"
    }
   },
   "id": "ce1187240332357e"
  },
  {
   "cell_type": "code",
   "execution_count": 24,
   "outputs": [
    {
     "data": {
      "text/plain": "            UserId   ProductId  Rating   Timestamp\n294  ANLSZ40VRRB21  6117036094     5.0  1400457600",
      "text/html": "<div>\n<style scoped>\n    .dataframe tbody tr th:only-of-type {\n        vertical-align: middle;\n    }\n\n    .dataframe tbody tr th {\n        vertical-align: top;\n    }\n\n    .dataframe thead th {\n        text-align: right;\n    }\n</style>\n<table border=\"1\" class=\"dataframe\">\n  <thead>\n    <tr style=\"text-align: right;\">\n      <th></th>\n      <th>UserId</th>\n      <th>ProductId</th>\n      <th>Rating</th>\n      <th>Timestamp</th>\n    </tr>\n  </thead>\n  <tbody>\n    <tr>\n      <th>294</th>\n      <td>ANLSZ40VRRB21</td>\n      <td>6117036094</td>\n      <td>5.0</td>\n      <td>1400457600</td>\n    </tr>\n  </tbody>\n</table>\n</div>"
     },
     "execution_count": 24,
     "metadata": {},
     "output_type": "execute_result"
    }
   ],
   "source": [
    "amazon_ratings1[amazon_ratings1['ProductId'] == '6117036094']"
   ],
   "metadata": {
    "collapsed": false,
    "ExecuteTime": {
     "end_time": "2024-05-03T16:35:20.863326Z",
     "start_time": "2024-05-03T16:35:20.860324Z"
    }
   },
   "id": "1fd8c8a8b378e81c"
  },
  {
   "cell_type": "code",
   "execution_count": 25,
   "outputs": [
    {
     "data": {
      "text/plain": "886"
     },
     "execution_count": 25,
     "metadata": {},
     "output_type": "execute_result"
    }
   ],
   "source": [
    "len(product_names)"
   ],
   "metadata": {
    "collapsed": false,
    "ExecuteTime": {
     "end_time": "2024-05-03T16:35:21.322046Z",
     "start_time": "2024-05-03T16:35:21.318430Z"
    }
   },
   "id": "653a238c036205f0"
  },
  {
   "cell_type": "code",
   "execution_count": 26,
   "outputs": [
    {
     "data": {
      "text/plain": "array([-0.95910008, -0.02372532,  0.95204723,  0.79386821, -0.48033205,\n        0.99552308,  0.91469832,  0.84438324,  0.99547181,  0.92149079,\n        0.91469832,  0.92383337,  0.90905608,  0.99678734,  0.99552308,\n        0.91469832,  0.91469832, -0.88750958,  0.90905622, -0.87822324,\n        0.93559918,  0.49833247,  0.89561508,  0.92424801,  0.93475661,\n       -0.37584333, -0.41152413,  0.98869233,  0.92424801, -0.32047738,\n       -0.30078928,  0.99555014,  0.74633555, -0.3738302 ,  0.92397034,\n        0.99552308, -0.3738302 , -0.91111436,  0.99542727,  0.98912116,\n        0.98910521, -0.37584333,  0.99555228,  0.99552308,  0.99552308,\n        0.99552308,  0.92424801,  0.99552308,  0.99548255,  0.98912116,\n       -0.85095769, -0.98129316, -0.94926206, -0.88186508,  0.31190076,\n       -0.99177128, -0.93999744,  0.88312405, -0.95937453, -0.94944672,\n        0.86626158, -0.62064819,  0.94085491,  0.89208717,  0.96494802,\n       -0.69245785, -0.59696476, -0.74704089,  0.98137096, -0.97026405,\n        0.80715355, -0.80115241, -0.9703278 ,  0.54005571, -0.96737957,\n        0.29329824, -0.6321037 , -0.75949989,  0.6079958 ,  0.92470148,\n       -0.91962634, -0.34536403,  0.73360565, -0.81064981, -0.89420092,\n        0.91348091,  0.8646601 , -0.99577056,  0.98076094, -0.66455264,\n       -0.96351122,  0.28887811, -0.75000599, -0.94949722, -0.93935692,\n        0.1286182 ,  0.11619277,  0.1187584 ,  0.91991148,  1.        ,\n        0.93201557,  0.06606226, -0.87225642,  0.86127571, -0.90178931,\n        0.83381969, -0.97204396, -0.90424622,  0.95130867,  0.96350938,\n        0.78621087,  0.94168201,  0.93751453,  0.84920801,  0.02861022,\n        0.98655769, -0.44487488, -0.08883553, -0.43244591,  0.93645935,\n        0.93727524,  0.1475926 ,  0.62117789,  0.11377031,  0.95871006,\n       -0.87743454,  0.11112703, -0.9257696 , -0.09981661,  0.94160126,\n        0.28912582,  0.70310569, -0.1668768 , -0.92671602,  0.81829331,\n       -0.36394819,  0.81513173, -0.85853192,  0.95747475,  0.54118003,\n        0.96096111, -0.87067988, -0.96836104,  0.92241512,  0.76658053,\n       -0.96953804, -0.94000498, -0.9426105 ,  0.8938795 , -0.95053485,\n       -0.9894402 , -0.95470142,  0.22552623,  0.53194464,  0.98874804,\n        0.89684809,  0.4943387 , -0.67845801,  0.55008853,  0.64897073,\n       -0.94475832, -0.92856808, -0.88192111, -0.89035951, -0.13201277,\n       -0.36672573, -0.94101033,  0.98372884,  0.90755044, -0.85444575,\n        0.64949796, -0.88012301, -0.73895487,  0.64502108, -0.91202243,\n       -0.9762663 , -0.54346089,  0.95659926,  0.45526325, -0.75372662,\n        0.86385985,  0.91075135, -0.97927042,  0.92632999,  0.94519491,\n        0.72783781,  0.95908942, -0.84122069,  0.95679534, -0.96014072,\n        0.93943711,  0.61107938, -0.96689108, -0.92840145, -0.94317945,\n       -0.97107512,  0.4625518 ,  0.95518652,  0.97348036,  0.79916949,\n        0.85481015,  0.94519491, -0.8993863 ,  0.36190629,  0.74861601,\n       -0.82479329, -0.96067133,  0.19477836,  0.87456961, -0.81040373,\n       -0.87296683,  0.95293696,  0.93550316, -0.9746071 , -0.96009647,\n        0.5065276 ,  0.72361189,  0.98224779,  0.9355626 , -0.3232765 ,\n       -0.7888425 , -0.96308973,  0.85265576, -0.90806332, -0.8914363 ,\n        0.98660039,  0.97432377, -0.15527447, -0.88380065,  0.32390126,\n        0.93371497, -0.94714592, -0.912023  , -0.84889297, -0.4720185 ,\n       -0.81010712,  0.81287609, -0.89166105,  0.9564806 , -0.97903888,\n        0.82754247, -0.91930355,  0.98985846,  0.95017511, -0.93920833,\n       -0.36005474,  0.65518928, -0.68624798, -0.95211878, -0.9513404 ,\n       -0.92986635, -0.30514847, -0.96920176,  0.93640157, -0.86622092,\n       -0.78905833,  0.84346687, -0.7999289 ,  0.07898688, -0.91232802,\n       -0.93880683,  0.63977552,  0.83263326,  0.67057807, -0.9219925 ,\n        0.71969009,  0.3484958 , -0.91868181, -0.90432035,  0.9153655 ,\n        0.69465334, -0.86201207, -0.96494413, -0.77261389,  0.01593497,\n        0.71656936, -0.95469709,  0.94475748, -0.89557627, -0.93436519,\n       -0.73653378,  0.83510072,  0.01650229, -0.91345477, -0.95386754,\n       -0.86630756, -0.92894223, -0.78128553, -0.15395448,  0.83976881,\n       -0.02165145,  0.19260187,  0.37527066,  0.91919128, -0.98169764,\n        0.92482781,  0.95937961,  0.88447673, -0.6079973 , -0.23912319,\n        0.95793688, -0.78804437, -0.19120001, -0.90553482, -0.95140795,\n        0.68701264,  0.99272117, -0.59885709,  0.99090998, -0.45381745,\n        0.88641697,  0.84518286, -0.97210156,  0.97760842, -0.24363787,\n        0.96425929,  0.96453212,  0.802876  ,  0.74883926,  0.93202337,\n       -0.89573954, -0.79443926, -0.44540792, -0.94928924, -0.66285093,\n       -0.99728537, -0.92219402,  0.87886904, -0.69339714, -0.59067198,\n        0.65327924,  0.87805136, -0.93691683, -0.839845  , -0.33270435,\n       -0.9346929 ,  0.37344365, -0.90801833, -0.94340164, -0.72335378,\n        0.35931699,  0.78941844, -0.62833449, -0.96875031,  0.25096996,\n       -0.91777181, -0.97151049,  0.95567759, -0.71951901, -0.54652917,\n       -0.9465591 ,  0.75279129, -0.57561266, -0.86848994, -0.39484165,\n        0.89179925,  0.84346873,  0.89341674, -0.85391936, -0.76702769,\n        0.96615891, -0.23548592, -0.21761118,  0.95048613, -0.97191451,\n       -0.98497157,  0.0740293 ,  0.58565325, -0.68614054, -0.90235551,\n        0.97439121, -0.87983523, -0.16476252, -0.85144414, -0.87999595,\n       -0.90130848,  0.92181833, -0.48987444,  0.44148704,  0.79873126,\n       -0.85643664,  0.36992597,  0.25908303,  0.90575761, -0.91528064,\n       -0.98990097,  0.85500209, -0.48278366, -0.83448103,  0.0143482 ,\n        0.98424723,  0.87728222, -0.69824895, -0.98137664,  0.34849581,\n        0.95037577, -0.97101175,  0.01607902,  0.98160161,  0.86454073,\n       -0.55024733, -0.96989914,  0.87538688,  0.16273926,  0.876612  ,\n       -0.89658419, -0.68664427,  0.49860633,  0.85860821,  0.90966622,\n        0.938316  , -0.77885395,  0.27338592, -0.93666593, -0.81126165,\n        0.27338592,  0.88925381, -0.70545243, -0.83388978, -0.93411419,\n        0.83862649, -0.86424903, -0.78351146, -0.91118237,  0.98013885,\n       -0.93915999,  0.97051668, -0.79742639,  0.12104607, -0.87519395,\n        0.85719678, -0.88356103, -0.74366914, -0.54700033, -0.89577659,\n       -0.35093557, -0.64953279, -0.8451015 , -0.84546553, -0.72178373,\n        0.79924607,  0.96288897, -0.76181604,  0.84514681, -0.94162948,\n       -0.24905214, -0.54670116, -0.96121266,  0.78368305, -0.93324857,\n       -0.61210648, -0.37538626, -0.91553723, -0.93423418, -0.8865282 ,\n       -0.93639174, -0.91023065,  0.88517976, -0.88954757, -0.93210517,\n        0.49720293, -0.30746211,  0.82722252, -0.97102252,  0.96897344,\n        0.00910796, -0.84785468,  0.93187579, -0.92722475,  0.97810593,\n        0.87212699, -0.29935772, -0.89343814,  0.86064271, -0.90269564,\n        0.8435698 , -0.96468035,  0.95296606, -0.99228744,  0.9134526 ,\n       -0.86650792,  0.42160941, -0.9153717 , -0.83661844, -0.93974556,\n       -0.85470102,  0.93397387, -0.91383752,  0.38852271, -0.89931397,\n       -0.82515401,  0.98585694, -0.93857767,  0.95323006, -0.94830388,\n       -0.92254864, -0.13027088, -0.99426942,  0.88423193, -0.88202294,\n        0.93920137, -0.44695657,  0.90212685,  0.8664418 ,  0.95871841,\n       -0.97268822, -0.9725424 ,  0.96746795, -0.84761936,  0.39086686,\n        0.31239369,  0.95451226,  0.95084446,  0.6115305 , -0.9797351 ,\n       -0.8144757 ,  0.70249817,  0.7863152 , -0.1284211 , -0.90100308,\n        0.71738396, -0.95765326,  0.39033081,  0.78718825, -0.95655749,\n        0.67269518, -0.84761888, -0.94463357,  0.96494466, -0.19216896,\n        0.57032013, -0.64635097, -0.88063226,  0.74239096,  0.96012555,\n       -0.53072945,  0.51863831, -0.78365363,  0.30555997, -0.72547627,\n        0.87301606,  0.05977783,  0.90470706, -0.99673249, -0.94366458,\n       -0.31208672, -0.95571105,  0.12729609, -0.36783379, -0.43495402,\n       -0.88532661,  0.59109192, -0.94470731, -0.96766874, -0.92642909,\n        0.73091475,  0.44180999, -0.57230415,  0.39228649, -0.80321625,\n        0.97814956,  0.86366274, -0.2015971 , -0.92687062, -0.73783519,\n       -0.86670067, -0.76478971, -0.98179381,  0.94267968, -0.93467253,\n       -0.97904137, -0.84342733,  0.974643  ,  0.95344807,  0.94941883,\n        0.939651  ,  0.87305039, -0.91659174,  0.82908758, -0.784781  ,\n       -0.97242388, -0.9447745 , -0.94239678, -0.92644592, -0.89503403,\n        0.90999256,  0.9723581 ,  0.93524943,  0.90838364, -0.22621659,\n       -0.8813484 ,  0.96562443, -0.43419372, -0.22902106,  0.82014261,\n        0.91541811, -0.96398207, -0.90355439, -0.85372168, -0.93908704,\n        0.87227368, -0.82339775, -0.89264273, -0.68041409,  0.48712144,\n       -0.9786905 , -0.79152008, -0.91703578, -0.6832817 , -0.40964571,\n        0.64129082, -0.85248568, -0.96984522, -0.98391414, -0.91281042,\n       -0.95013597,  0.49026081,  0.84332776,  0.68868054,  0.89771845,\n       -0.65397366, -0.94248435,  0.95789442, -0.84658944, -0.78837101,\n        0.96273805, -0.87983899,  0.95850534, -0.50752155,  0.71830741,\n        0.97335935, -0.84052793, -0.89818815,  0.30658392,  0.1500497 ,\n        0.54352516, -0.99151899,  0.81786553, -0.70156109, -0.57704546,\n        0.97429115,  0.69768027, -0.9795512 , -0.97956098,  0.4909134 ,\n        0.92241729, -0.92003687,  0.82412944,  0.98307624,  0.93703135,\n       -0.88339978,  0.95243551, -0.88748523, -0.3035097 ,  0.19614632,\n        0.96314591,  0.77972555,  0.89740712, -0.98187989, -0.55200189,\n       -0.96829271,  0.64839112, -0.98543892, -0.90165096, -0.92817937,\n       -0.86948241,  0.8974071 ,  0.89552201, -0.96087204,  0.89537495,\n       -0.97617527, -0.59588659,  0.19079941, -0.60688731, -0.92924971,\n        0.97574664, -0.69762832,  0.98907415,  0.58138799, -0.8041771 ,\n        0.83915469,  0.93612153, -0.90165096, -0.95857645,  0.69526436,\n       -0.79567668, -0.94986077,  0.84052168, -0.94067424, -0.80052474,\n       -0.93832112,  0.43743332,  0.90103563,  0.62445182, -0.47909981,\n       -0.44196049, -0.70049979,  0.83485197, -0.94711093,  0.80556189,\n        0.91810824,  0.23384214,  0.92966586,  0.94880132,  0.12957732,\n        0.86831888, -0.86746717,  0.91203914,  0.80188413,  0.89186336,\n       -0.86708362, -0.70027991, -0.6866579 ,  0.71725346, -0.93105271,\n       -0.93090592,  0.8717583 , -0.20328337, -0.7058622 ,  0.11141318,\n       -0.03423014, -0.9121648 ,  0.92215769, -0.85306189, -0.31478368,\n        0.92392594,  0.23888352,  0.79415321,  0.90492969,  0.42982581,\n       -0.97107512,  0.27732129, -0.05791394,  0.01226449,  0.66262878,\n       -0.88509263, -0.95266912,  0.86271368,  0.92426295, -0.47264204,\n        0.56803911,  0.92095154,  0.93407131,  0.98168672, -0.97036035,\n       -0.91905134,  0.28480408, -0.67658381,  0.96348073,  0.96348098,\n        0.9736424 , -0.51076599, -0.04574239, -0.224434  ,  0.28322635,\n       -0.82568242, -0.24479883, -0.45779065, -0.8597983 , -0.90016399,\n       -0.21132439, -0.91294193,  0.90667788,  0.89144595,  0.34494073,\n       -0.66302796,  0.94385396,  0.95609325, -0.95044468, -0.28592208,\n        0.9149792 ,  0.11103661,  0.89044733, -0.88467097,  0.26005692,\n       -0.21935002,  0.29398484,  0.74159083,  0.00982483, -0.92335966,\n        0.68292999,  0.69493698,  0.8138619 ,  0.68058487, -0.63265635,\n        0.72033251, -0.98833161,  0.93156195, -0.89712595,  0.94797806,\n        0.34001294,  0.86754786, -0.99242508, -0.58997548, -0.54628149,\n        0.88640667, -0.84570314, -0.74702814, -0.82857658,  0.15064552,\n        0.8571626 , -0.04863594, -0.07315285,  0.17374654, -0.00873466,\n       -0.08391403, -0.08628804, -0.40396675, -0.54348895,  0.79808258,\n        0.95953454,  0.94060767,  0.68632309, -0.71537307, -0.24471022,\n       -0.86856919, -0.06010809, -0.23262608, -0.95042234, -0.94231709,\n       -0.27196998,  0.14467476, -0.94412185,  0.27526944, -0.38222483,\n        0.92575372, -0.78797136, -0.83557948, -0.62265034, -0.76381102,\n       -0.01529867,  0.64655237, -0.78471141, -0.93032264,  0.20860782,\n       -0.40719588,  0.73877875, -0.63561073,  0.941473  ,  0.9299285 ,\n        0.95422068, -0.91395648,  0.16918972,  0.18885132,  0.42676612,\n        0.22782166,  0.21721529,  0.33496446,  0.93181008,  0.96382143,\n       -0.14093295,  0.90122209,  0.18905732, -0.9225277 ,  0.92684497,\n       -0.92253267,  0.92210757,  0.40132793,  0.10965214,  0.88497332,\n        0.67104595, -0.00777262, -0.00875707,  0.7115354 , -0.5691441 ,\n       -0.00634722, -0.63118501, -0.76215457,  0.777506  , -0.89265769,\n        0.98845654, -0.42354144,  0.97615119,  0.12767726, -0.88308368,\n       -0.51554593,  0.17914839,  0.5924888 ,  0.16244899,  0.90750816,\n        0.95772257, -0.77452949, -0.88866866,  0.31647365, -0.27477525,\n       -0.09648347])"
     },
     "execution_count": 26,
     "metadata": {},
     "output_type": "execute_result"
    }
   ],
   "source": [
    "correlation_product_id = correlation_matrix[product_ID]\n",
    "correlation_product_id"
   ],
   "metadata": {
    "collapsed": false,
    "ExecuteTime": {
     "end_time": "2024-05-03T16:35:21.794152Z",
     "start_time": "2024-05-03T16:35:21.780476Z"
    }
   },
   "id": "c0b6649de116182e"
  },
  {
   "cell_type": "markdown",
   "source": [
    "So if we assume that the customer has bought the product 6117036094 then we recommend 10 items to the customer closely correlated to the item the customer has bought before."
   ],
   "metadata": {
    "collapsed": false
   },
   "id": "51655f1d6c0f36b"
  },
  {
   "cell_type": "code",
   "execution_count": 27,
   "outputs": [
    {
     "data": {
      "text/plain": "['0733001998',\n '1304139212',\n '1304139220',\n '130414643X',\n '1304146537',\n '130414674X',\n '1304168522',\n '1304174778',\n '1304174867']"
     },
     "execution_count": 27,
     "metadata": {},
     "output_type": "execute_result"
    }
   ],
   "source": [
    "Recommend = list(X.index[correlation_product_id > 0.90])\n",
    "\n",
    "# Removes the item already bought by the customer\n",
    "Recommend.remove(i) \n",
    "\n",
    "Recommend[0:9]"
   ],
   "metadata": {
    "collapsed": false,
    "ExecuteTime": {
     "end_time": "2024-05-03T16:35:22.762697Z",
     "start_time": "2024-05-03T16:35:22.756630Z"
    }
   },
   "id": "a7ac56e3efca0f0c"
  },
  {
   "cell_type": "markdown",
   "source": [
    "### A deep learning approach to the recommender system\n"
   ],
   "metadata": {
    "collapsed": false
   },
   "id": "355da14bcc8e53f0"
  },
  {
   "cell_type": "code",
   "execution_count": null,
   "outputs": [],
   "source": [],
   "metadata": {
    "collapsed": false
   },
   "id": "7b1dd37efb17e62f"
  }
 ],
 "metadata": {
  "kernelspec": {
   "display_name": "Python 3",
   "language": "python",
   "name": "python3"
  },
  "language_info": {
   "codemirror_mode": {
    "name": "ipython",
    "version": 2
   },
   "file_extension": ".py",
   "mimetype": "text/x-python",
   "name": "python",
   "nbconvert_exporter": "python",
   "pygments_lexer": "ipython2",
   "version": "2.7.6"
  }
 },
 "nbformat": 4,
 "nbformat_minor": 5
}
