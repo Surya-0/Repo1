{
 "cells": [
  {
   "cell_type": "code",
   "execution_count": 1,
   "id": "initial_id",
   "metadata": {
    "collapsed": true,
    "ExecuteTime": {
     "end_time": "2023-09-27T18:35:30.247662Z",
     "start_time": "2023-09-27T18:35:29.410158Z"
    }
   },
   "outputs": [],
   "source": [
    "import numpy as np\n",
    "import pandas as pd\n",
    "import matplotlib.pyplot as plt"
   ]
  },
  {
   "cell_type": "code",
   "execution_count": 2,
   "outputs": [
    {
     "data": {
      "text/plain": "   m1  m2  m3 pass/fail\n0  70  65  58         P\n1  32  40  12         F\n2  82  12  70         F\n3  65  58  48         P\n4  70  75  92         P\n5  68  69  63         P\n6  32  15  60         F\n7  18  20  31         F\n8  50  60  70         P\n9  89  92  98         P",
      "text/html": "<div>\n<style scoped>\n    .dataframe tbody tr th:only-of-type {\n        vertical-align: middle;\n    }\n\n    .dataframe tbody tr th {\n        vertical-align: top;\n    }\n\n    .dataframe thead th {\n        text-align: right;\n    }\n</style>\n<table border=\"1\" class=\"dataframe\">\n  <thead>\n    <tr style=\"text-align: right;\">\n      <th></th>\n      <th>m1</th>\n      <th>m2</th>\n      <th>m3</th>\n      <th>pass/fail</th>\n    </tr>\n  </thead>\n  <tbody>\n    <tr>\n      <th>0</th>\n      <td>70</td>\n      <td>65</td>\n      <td>58</td>\n      <td>P</td>\n    </tr>\n    <tr>\n      <th>1</th>\n      <td>32</td>\n      <td>40</td>\n      <td>12</td>\n      <td>F</td>\n    </tr>\n    <tr>\n      <th>2</th>\n      <td>82</td>\n      <td>12</td>\n      <td>70</td>\n      <td>F</td>\n    </tr>\n    <tr>\n      <th>3</th>\n      <td>65</td>\n      <td>58</td>\n      <td>48</td>\n      <td>P</td>\n    </tr>\n    <tr>\n      <th>4</th>\n      <td>70</td>\n      <td>75</td>\n      <td>92</td>\n      <td>P</td>\n    </tr>\n    <tr>\n      <th>5</th>\n      <td>68</td>\n      <td>69</td>\n      <td>63</td>\n      <td>P</td>\n    </tr>\n    <tr>\n      <th>6</th>\n      <td>32</td>\n      <td>15</td>\n      <td>60</td>\n      <td>F</td>\n    </tr>\n    <tr>\n      <th>7</th>\n      <td>18</td>\n      <td>20</td>\n      <td>31</td>\n      <td>F</td>\n    </tr>\n    <tr>\n      <th>8</th>\n      <td>50</td>\n      <td>60</td>\n      <td>70</td>\n      <td>P</td>\n    </tr>\n    <tr>\n      <th>9</th>\n      <td>89</td>\n      <td>92</td>\n      <td>98</td>\n      <td>P</td>\n    </tr>\n  </tbody>\n</table>\n</div>"
     },
     "execution_count": 2,
     "metadata": {},
     "output_type": "execute_result"
    }
   ],
   "source": [
    "df = pd.read_csv('logis_reg_dataset.csv')\n",
    "df"
   ],
   "metadata": {
    "collapsed": false,
    "ExecuteTime": {
     "end_time": "2023-09-27T18:36:00.039150Z",
     "start_time": "2023-09-27T18:36:00.003333Z"
    }
   },
   "id": "4a41f716d7b4a481"
  },
  {
   "cell_type": "code",
   "execution_count": null,
   "outputs": [],
   "source": [],
   "metadata": {
    "collapsed": false
   },
   "id": "f9e2774ecd2ff89d"
  }
 ],
 "metadata": {
  "kernelspec": {
   "display_name": "Python 3",
   "language": "python",
   "name": "python3"
  },
  "language_info": {
   "codemirror_mode": {
    "name": "ipython",
    "version": 2
   },
   "file_extension": ".py",
   "mimetype": "text/x-python",
   "name": "python",
   "nbconvert_exporter": "python",
   "pygments_lexer": "ipython2",
   "version": "2.7.6"
  }
 },
 "nbformat": 4,
 "nbformat_minor": 5
}
