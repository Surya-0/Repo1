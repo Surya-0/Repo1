{
 "cells": [
  {
   "cell_type": "code",
   "execution_count": 6,
   "id": "initial_id",
   "metadata": {
    "collapsed": true,
    "ExecuteTime": {
     "end_time": "2024-05-03T16:51:20.073726Z",
     "start_time": "2024-05-03T16:51:20.070001Z"
    }
   },
   "outputs": [],
   "source": [
    "import numpy as np\n",
    "import pandas as pd\n",
    "import matplotlib.pyplot as plt\n",
    "from bs4 import BeautifulSoup\n",
    "import requests"
   ]
  },
  {
   "cell_type": "code",
   "execution_count": 15,
   "outputs": [],
   "source": [
    "\n",
    "def get_reviews(soup):\n",
    "    reviews = []\n",
    "    try:\n",
    "        review_tags = soup.find_all('div',attrs={'class':'a-expander-content reviewText review-text-content a-expander-partial-collapse-content'})\n",
    "        \n",
    "        for review_tag in review_tags:\n",
    "            reviews.append(review_tag.text.strip())\n",
    "    except AttributeError:\n",
    "        pass\n",
    "    return reviews\n",
    "\n",
    "\n",
    "def get_user_names(soup):\n",
    "    user_names = []\n",
    "    try:\n",
    "        user_tags = soup.find_all('span',attrs={'class':'a-profile-name'})\n",
    "        for user_tag in user_tags:\n",
    "            user_names.append(user_tag)\n",
    "    except AttributeError:\n",
    "        pass\n",
    "    return user_names"
   ],
   "metadata": {
    "collapsed": false,
    "ExecuteTime": {
     "end_time": "2024-05-03T16:55:19.163180Z",
     "start_time": "2024-05-03T16:55:19.150729Z"
    }
   },
   "id": "c9e582bc71526b32"
  },
  {
   "cell_type": "code",
   "execution_count": 16,
   "outputs": [],
   "source": [
    "if __name__ == '__main__':\n",
    "\n",
    "    HEADERS = {\n",
    "        'User-Agent': 'Mozilla/5.0 (Macintosh; Intel Mac OS X 10_15_7) AppleWebKit/605.1.15 (KHTML, like Gecko) Version/17.4.1 Safari/605.1.15',\n",
    "        'Accept-Language': 'en-US,en;q=0.5'\n",
    "    }\n",
    "\n",
    "    # The webpage URL\n",
    "    URL = \"https://www.amazon.com/s?k=macbook&crid=39RUATP4XMNJ4&sprefix=macbo%2Caps%2C396&ref=nb_sb_ss_ts-doa-p_1_5\"\n",
    "\n",
    "    # HTTP Request\n",
    "    webpage = requests.get(URL, headers=HEADERS)\n",
    "\n",
    "    # Soup Object containing all data\n",
    "    soup = BeautifulSoup(webpage.content, \"html.parser\")\n",
    "\n",
    "    # Fetch links as List of Tag Objects\n",
    "    links = soup.find_all(\"a\", attrs={'class':'a-link-normal s-no-outline'})\n",
    "\n",
    "    # Store the links\n",
    "    links_list = []\n",
    "\n",
    "    # Loop for extracting links from Tag Objects\n",
    "    for link in links:\n",
    "            links_list.append(link.get('href'))\n",
    "\n",
    "    d = {\"user_reviews\":[]}\n",
    "\n",
    "    # Loop for extracting product details from each link\n",
    "    for link in links_list:\n",
    "        if not link.startswith('http'):\n",
    "            link = \"https://www.amazon.com\" + link\n",
    "        new_webpage = requests.get(link, headers=HEADERS)\n",
    "\n",
    "        new_soup = BeautifulSoup(new_webpage.content, \"html.parser\")\n",
    "\n",
    "        d['user_reviews'].append(get_reviews(new_soup))\n",
    "\n",
    "    \n",
    "    amazon_df = pd.DataFrame.from_dict(d)\n",
    "    amazon_df.to_csv('../Scraped_datasets/review_list.csv', header=True, index=False)"
   ],
   "metadata": {
    "collapsed": false,
    "ExecuteTime": {
     "end_time": "2024-05-03T16:55:59.508774Z",
     "start_time": "2024-05-03T16:55:19.579623Z"
    }
   },
   "id": "94cec9196f6e4124"
  },
  {
   "cell_type": "code",
   "execution_count": 17,
   "outputs": [
    {
     "data": {
      "text/plain": "                                         user_reviews\n0   [Definitely not an iPhone..fast, light weight ...\n1   [Love how slim and light weight this is. If yo...\n2   [Windows user here. Got tired of 1 to 2 hours ...\n3   [Works great with Lightroom Classic and large ...\n4   [Great Product and amazing service!, Macbook P...\n5   [Summary: I just did my new music album with t...\n6   [The Apple 2023 MacBook Air is a stellar examp...\n7   [I have used Mac products for over 30 years. T...\n8   [The service from this seller on Amazon was go...\n9                                                  []\n10  [WOW.  I had a 2013 MacBook Pro that is now go...\n11  [As a mostly PC user, the main reason I got th...\n12                                                 []\n13  [I really went back on forth on this Mac. I di...\n14  [efore going into details i want to say these ...\n15  [This laptop was one of my Christmas gifts. It...",
      "text/html": "<div>\n<style scoped>\n    .dataframe tbody tr th:only-of-type {\n        vertical-align: middle;\n    }\n\n    .dataframe tbody tr th {\n        vertical-align: top;\n    }\n\n    .dataframe thead th {\n        text-align: right;\n    }\n</style>\n<table border=\"1\" class=\"dataframe\">\n  <thead>\n    <tr style=\"text-align: right;\">\n      <th></th>\n      <th>user_reviews</th>\n    </tr>\n  </thead>\n  <tbody>\n    <tr>\n      <th>0</th>\n      <td>[Definitely not an iPhone..fast, light weight ...</td>\n    </tr>\n    <tr>\n      <th>1</th>\n      <td>[Love how slim and light weight this is. If yo...</td>\n    </tr>\n    <tr>\n      <th>2</th>\n      <td>[Windows user here. Got tired of 1 to 2 hours ...</td>\n    </tr>\n    <tr>\n      <th>3</th>\n      <td>[Works great with Lightroom Classic and large ...</td>\n    </tr>\n    <tr>\n      <th>4</th>\n      <td>[Great Product and amazing service!, Macbook P...</td>\n    </tr>\n    <tr>\n      <th>5</th>\n      <td>[Summary: I just did my new music album with t...</td>\n    </tr>\n    <tr>\n      <th>6</th>\n      <td>[The Apple 2023 MacBook Air is a stellar examp...</td>\n    </tr>\n    <tr>\n      <th>7</th>\n      <td>[I have used Mac products for over 30 years. T...</td>\n    </tr>\n    <tr>\n      <th>8</th>\n      <td>[The service from this seller on Amazon was go...</td>\n    </tr>\n    <tr>\n      <th>9</th>\n      <td>[]</td>\n    </tr>\n    <tr>\n      <th>10</th>\n      <td>[WOW.  I had a 2013 MacBook Pro that is now go...</td>\n    </tr>\n    <tr>\n      <th>11</th>\n      <td>[As a mostly PC user, the main reason I got th...</td>\n    </tr>\n    <tr>\n      <th>12</th>\n      <td>[]</td>\n    </tr>\n    <tr>\n      <th>13</th>\n      <td>[I really went back on forth on this Mac. I di...</td>\n    </tr>\n    <tr>\n      <th>14</th>\n      <td>[efore going into details i want to say these ...</td>\n    </tr>\n    <tr>\n      <th>15</th>\n      <td>[This laptop was one of my Christmas gifts. It...</td>\n    </tr>\n  </tbody>\n</table>\n</div>"
     },
     "execution_count": 17,
     "metadata": {},
     "output_type": "execute_result"
    }
   ],
   "source": [
    "amazon_df"
   ],
   "metadata": {
    "collapsed": false,
    "ExecuteTime": {
     "end_time": "2024-05-03T16:55:59.513852Z",
     "start_time": "2024-05-03T16:55:59.510923Z"
    }
   },
   "id": "eb2aa3a9b2ec0fc3"
  },
  {
   "cell_type": "code",
   "execution_count": 18,
   "outputs": [
    {
     "data": {
      "text/plain": "user_reviews    [Great Product and amazing service!, Macbook P...\nName: 4, dtype: object"
     },
     "execution_count": 18,
     "metadata": {},
     "output_type": "execute_result"
    }
   ],
   "source": [
    "amazon_df.iloc[4]"
   ],
   "metadata": {
    "collapsed": false,
    "ExecuteTime": {
     "end_time": "2024-05-03T16:55:59.515540Z",
     "start_time": "2024-05-03T16:55:59.513437Z"
    }
   },
   "id": "efa4983f1cec5733"
  },
  {
   "cell_type": "code",
   "execution_count": 19,
   "outputs": [
    {
     "data": {
      "text/plain": "['Definitely not an iPhone..fast, light weight all together beautiful machine',\n \"The 13.6-inch Liquid Retina display delivers stunning visuals with vibrant colors and sharp details. The M3 chip offers blazing-fast performance, ensuring seamless multitasking and smooth operation. With 8GB of unified memory and 256GB SSD storage, it provides ample space for all your needs. The backlit keyboard and Touch ID add convenience and security, while the 1080p FaceTime HD camera ensures crystal-clear video calls. In Midnight color, it's not just a laptop; it's a statement of style and sophistication.\",\n \"I use my laptop for work purposes, connecting to all sorts of external multimedia equipment. I had a MacBook Pro for nearly a decade, and it was more than showing its great age. I knew I needed to upgrade, but I was worried about choosing the Air. I liked the features, I liked the slender form and low weight. I just worried it would not do what I needed it to do.I needn't have worried. This is better in every sense, and because I'd waited so long to upgrade getting a 2024 MacBook Air easily outclassed my old Pro in every category. I'll for sure never miss my Pro.It just works.\",\n 'The media could not be loaded.\\n                \\n\\n\\n\\n\\xa0Coming from Windows PC’s this thing eats gaming laptop’s for breakfast…The MacBook Air doesn’t even have active cooling…Is thinner than my Samsung tablet and gets a steady 60fps in World of Warcraft without sweat and not even heating up…Consumes 15 watts during gameplay plugged in.Not plugged in and just browsing, word, YouTube consumes about 5% in half a day.Since I need windows for 2 or 3 things I installed parallels for running windows inside MacOS, and stills runs like Speedy Gonzales !Battery life tanks from 18 hours to 11 hours running Windows 11 inside MacOS.Nonetheless this super thin machine is a beast!',\n \"As a loyal Apple customer, I recently purchased a brand new MacBook with high hopes of a seamless experience. However, my excitement quickly turned to frustration when I encountered significant issues with the Touch ID functionality straight out of the box.Upon setup, the Touch ID feature was utterly glitchy, refusing to recognize my fingerprint no matter how many times I tried. It was as if the system had a mind of its own, completely ignoring my attempts to register my fingerprint. After struggling for an entire day, I finally managed to get it to work, only to find that it would still intermittently fail to recognize my fingerprint.What made matters worse was the lack of support from the Apple Store. Despite purchasing the MacBook from an authorized retailer, the Apple Store refused to initiate a return, citing their policy of not accepting returns on Apple products not bought directly from them.My advice to potential buyers is to avoid the hassle altogether and purchase directly from Apple. While I've always been a fan of their products, this experience left me deeply disappointed. The Touch ID issue, and subsequently having to return the laptop not only disrupted my workflow, but also made me question the quality assurance standards of such a reputable brand. Proceed with caution, and consider buying directly from Apple to avoid similar frustrations.\",\n 'Waited for hours for this Apple product to arrive, like a kid waiting for Christmas Day!  Not disappointed one bit when I viewed meticulously designed box, the tissue paper wrapping and this handsome hunk of metal. Thank you Apple.',\n 'Received on time and in excellent condition.',\n 'Producto sellado en perfectas condiciones',\n 'I love it compared to my 2017 macbook air this is super fast',\n \"The device would've been excellent for the base price if it had at least 12GB RAM and a 512 SSD. For what they're currently offering, it's not worth the money.\",\n 'Loaded up beautifully but then found it wouldn’t charge. Had to return. Very inconvenient as I use my laptop to run my business from home']"
     },
     "execution_count": 19,
     "metadata": {},
     "output_type": "execute_result"
    }
   ],
   "source": [
    "amazon_df['user_reviews'][0]"
   ],
   "metadata": {
    "collapsed": false,
    "ExecuteTime": {
     "end_time": "2024-05-03T16:55:59.520602Z",
     "start_time": "2024-05-03T16:55:59.516924Z"
    }
   },
   "id": "f49762dc8b72af34"
  },
  {
   "cell_type": "code",
   "execution_count": 21,
   "outputs": [],
   "source": [
    "from textblob import TextBlob\n",
    "# Calculate sentiment for each review\n",
    "sentiments = [TextBlob(review).sentiment.polarity for review in amazon_df['user_reviews'][0]]"
   ],
   "metadata": {
    "collapsed": false,
    "ExecuteTime": {
     "end_time": "2024-05-03T16:58:14.953385Z",
     "start_time": "2024-05-03T16:58:13.861464Z"
    }
   },
   "id": "eb30ecc711a13e16"
  },
  {
   "cell_type": "code",
   "execution_count": 22,
   "outputs": [
    {
     "data": {
      "text/plain": "[0.4166666666666667,\n 0.19027777777777777,\n 0.34027777777777785,\n -0.06833333333333333,\n 0.07100108225108226,\n 0.4375,\n 1.0,\n 0.0,\n 0.3444444444444444,\n -0.05,\n 0.034999999999999976]"
     },
     "execution_count": 22,
     "metadata": {},
     "output_type": "execute_result"
    }
   ],
   "source": [
    "sentiments"
   ],
   "metadata": {
    "collapsed": false,
    "ExecuteTime": {
     "end_time": "2024-05-03T16:58:16.541605Z",
     "start_time": "2024-05-03T16:58:16.522894Z"
    }
   },
   "id": "e0714177bd9b8664"
  },
  {
   "cell_type": "code",
   "execution_count": 24,
   "outputs": [
    {
     "data": {
      "text/plain": "0.24698494687131056"
     },
     "execution_count": 24,
     "metadata": {},
     "output_type": "execute_result"
    }
   ],
   "source": [
    "sum(sentiments)/len(sentiments)"
   ],
   "metadata": {
    "collapsed": false,
    "ExecuteTime": {
     "end_time": "2024-05-03T16:58:29.227628Z",
     "start_time": "2024-05-03T16:58:29.224960Z"
    }
   },
   "id": "e18926def4d2493d"
  },
  {
   "cell_type": "code",
   "execution_count": null,
   "outputs": [],
   "source": [],
   "metadata": {
    "collapsed": false
   },
   "id": "9593bb531f9064c6"
  }
 ],
 "metadata": {
  "kernelspec": {
   "display_name": "Python 3",
   "language": "python",
   "name": "python3"
  },
  "language_info": {
   "codemirror_mode": {
    "name": "ipython",
    "version": 2
   },
   "file_extension": ".py",
   "mimetype": "text/x-python",
   "name": "python",
   "nbconvert_exporter": "python",
   "pygments_lexer": "ipython2",
   "version": "2.7.6"
  }
 },
 "nbformat": 4,
 "nbformat_minor": 5
}
