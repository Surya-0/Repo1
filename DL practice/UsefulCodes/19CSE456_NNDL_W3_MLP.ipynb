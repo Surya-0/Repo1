{
 "nbformat": 4,
 "nbformat_minor": 0,
 "metadata": {
  "colab": {
   "provenance": []
  },
  "kernelspec": {
   "name": "python3",
   "language": "python",
   "display_name": "Python 3 (ipykernel)"
  },
  "language_info": {
   "name": "python"
  }
 },
 "cells": [
  {
   "cell_type": "code",
   "execution_count": 1,
   "metadata": {
    "id": "F1skw_EIMJKV",
    "ExecuteTime": {
     "end_time": "2023-10-26T02:17:21.857056Z",
     "start_time": "2023-10-26T02:17:21.759208Z"
    }
   },
   "outputs": [],
   "source": [
    "import numpy as np\n",
    "\n",
    "class MLP:\n",
    "    def __init__(self, input_size, hidden_size, output_size, learning_rate):\n",
    "        self.input_size = input_size\n",
    "        self.hidden_size = hidden_size\n",
    "        self.output_size = output_size\n",
    "        self.learning_rate = learning_rate\n",
    "\n",
    "        # Initialize weights and biases for hidden and output layers\n",
    "        self.hidden_weights = np.random.randn(self.input_size, self.hidden_size)\n",
    "        self.hidden_weights1 = np.round(self.hidden_weights, 1)\n",
    "\n",
    "        self.hidden_bias = np.random.randn(self.hidden_size)\n",
    "        self.hidden_bias1 = np.round(self.hidden_bias, 1)\n",
    "\n",
    "        self.output_weights = np.random.randn(self.hidden_size, self.output_size)\n",
    "        self.output_weights1 = np.round(self.output_weights, 1)\n",
    "\n",
    "        self.output_bias = np.random.randn(self.output_size)\n",
    "        self.output_bias1 = np.round(self.output_bias, 1)\n",
    "\n",
    "    def show(self):\n",
    "      print(self.hidden_weights1)\n",
    "      print(self.hidden_bias1)\n",
    "      print(self.output_weights1)\n",
    "      print(self.output_bias1)\n",
    "\n",
    "    def forward(self, X):\n",
    "        # Compute hidden layer output\n",
    "        self.hidden_output = np.dot(X, self.hidden_weights1) + self.hidden_bias1\n",
    "        self.hidden_activation = self.sigmoid(self.hidden_output)\n",
    "\n",
    "        # Compute output layer output\n",
    "        self.output = np.dot(self.hidden_activation, self.output_weights1) + self.output_bias1\n",
    "        self.output_activation = self.sigmoid(self.output)\n",
    "\n",
    "        return self.output_activation\n",
    "\n",
    "    def backward(self, X, y, output):\n",
    "        # Compute error and delta for output layer\n",
    "        error = y - output\n",
    "        output_delta = error * self.sigmoid_derivative(output)\n",
    "\n",
    "        # Compute error and delta for hidden layer\n",
    "        hidden_error = np.dot(output_delta, self.output_weights1.T)\n",
    "        hidden_delta = hidden_error * self.sigmoid_derivative(self.hidden_activation)\n",
    "\n",
    "        # Update weights and biases for output and hidden layers\n",
    "        self.output_weights1 += self.learning_rate * np.dot(self.hidden_activation.T, output_delta)\n",
    "        self.output_bias1 += self.learning_rate * np.sum(output_delta, axis=0)\n",
    "        self.hidden_weights1 += self.learning_rate * np.dot(X.T, hidden_delta)\n",
    "        self.hidden_bias1 += self.learning_rate * np.sum(hidden_delta, axis=0)\n",
    "\n",
    "    def train(self, X, y, epochs):\n",
    "        for i in range(epochs):\n",
    "            # Forward pass\n",
    "            output = self.forward(X)\n",
    "\n",
    "            # Backward pass\n",
    "            self.backward(X, y, output)\n",
    "\n",
    "            # Print loss for every 1000 epochs\n",
    "            loss = np.mean(np.square(y - output))\n",
    "            print(f\"Epoch {i}, Loss: {loss:.4f}\")\n",
    "\n",
    "    def predict(self, X):\n",
    "        return self.forward(X)\n",
    "\n",
    "    def sigmoid(self, x):\n",
    "        return 1 / (1 + np.exp(-x))\n",
    "\n",
    "    def sigmoid_derivative(self, x):\n",
    "        return x * (1 - x)"
   ]
  },
  {
   "cell_type": "code",
   "source": [
    "# Generate random input and output data\n",
    "X = np.random.randn(2, 3)\n",
    "X1 = np.round(X, 1)\n",
    "\n",
    "y = np.random.randn(2, 1)\n",
    "y1 = np.round(y, 1)"
   ],
   "metadata": {
    "id": "Us6iZ6wOXrRR",
    "ExecuteTime": {
     "end_time": "2023-10-26T02:17:21.947255Z",
     "start_time": "2023-10-26T02:17:21.858118Z"
    }
   },
   "execution_count": 2,
   "outputs": []
  },
  {
   "cell_type": "code",
   "source": [
    "# Create MLP with input size of 4, hidden size of 5, output size of 1, and learning rate of 0.1\n",
    "mlp = MLP(3, 4, 1, 0.1)"
   ],
   "metadata": {
    "id": "bcwG9kk8NbHX",
    "ExecuteTime": {
     "end_time": "2023-10-26T02:17:21.960510Z",
     "start_time": "2023-10-26T02:17:21.948169Z"
    }
   },
   "execution_count": 3,
   "outputs": []
  },
  {
   "cell_type": "code",
   "source": [
    "mlp.show()"
   ],
   "metadata": {
    "colab": {
     "base_uri": "https://localhost:8080/"
    },
    "id": "89vnuEsqO__8",
    "outputId": "539ce0ff-de74-466d-e2fd-5dad49b58f4c",
    "ExecuteTime": {
     "end_time": "2023-10-26T02:17:21.962145Z",
     "start_time": "2023-10-26T02:17:21.954764Z"
    }
   },
   "execution_count": 4,
   "outputs": [
    {
     "name": "stdout",
     "output_type": "stream",
     "text": [
      "[[-1.3  0.2  1.5  0.2]\n",
      " [ 0.4 -0.6  1.3 -2.1]\n",
      " [-0.4 -0.2  1.4  0.5]]\n",
      "[-1.9 -0.3  0.7  0.5]\n",
      "[[ 0.9]\n",
      " [-1. ]\n",
      " [ 0.1]\n",
      " [ 1.5]]\n",
      "[0.3]\n"
     ]
    }
   ]
  },
  {
   "cell_type": "code",
   "source": [
    "mlp.train(X1, y1, 10)"
   ],
   "metadata": {
    "colab": {
     "base_uri": "https://localhost:8080/"
    },
    "id": "1cx6sBDZM_Y6",
    "outputId": "4c965b2c-5629-43c3-f1eb-fc66326aef68",
    "ExecuteTime": {
     "end_time": "2023-10-26T02:17:21.965814Z",
     "start_time": "2023-10-26T02:17:21.963612Z"
    }
   },
   "execution_count": 5,
   "outputs": [
    {
     "name": "stdout",
     "output_type": "stream",
     "text": [
      "Epoch 0, Loss: 0.1883\n",
      "Epoch 1, Loss: 0.1804\n",
      "Epoch 2, Loss: 0.1727\n",
      "Epoch 3, Loss: 0.1652\n",
      "Epoch 4, Loss: 0.1579\n",
      "Epoch 5, Loss: 0.1508\n",
      "Epoch 6, Loss: 0.1439\n",
      "Epoch 7, Loss: 0.1373\n",
      "Epoch 8, Loss: 0.1309\n",
      "Epoch 9, Loss: 0.1248\n"
     ]
    }
   ]
  },
  {
   "cell_type": "code",
   "source": [
    "mlp.show()"
   ],
   "metadata": {
    "colab": {
     "base_uri": "https://localhost:8080/"
    },
    "id": "56OjiVm0NGEG",
    "outputId": "f3a42193-a380-49c6-e447-df32d5d19905",
    "ExecuteTime": {
     "end_time": "2023-10-26T02:17:22.022260Z",
     "start_time": "2023-10-26T02:17:21.967640Z"
    }
   },
   "execution_count": 6,
   "outputs": [
    {
     "name": "stdout",
     "output_type": "stream",
     "text": [
      "[[-1.30317351  0.23161891  1.49993833  0.15197261]\n",
      " [ 0.37843752 -0.56655883  1.29968448 -2.12800044]\n",
      " [-0.39449731 -0.19129926  1.40007069  0.47880103]]\n",
      "[-1.91292626 -0.26305579  0.69980121  0.45542548]\n",
      "[[ 0.87987774]\n",
      " [-1.05537998]\n",
      " [-0.06045438]\n",
      " [ 1.44885268]]\n",
      "[0.13222416]\n"
     ]
    }
   ]
  },
  {
   "cell_type": "code",
   "source": [
    "X1"
   ],
   "metadata": {
    "colab": {
     "base_uri": "https://localhost:8080/"
    },
    "id": "lznavU67XC3N",
    "outputId": "a2c7ac88-a664-42ce-eabf-e03c0074310a",
    "ExecuteTime": {
     "end_time": "2023-10-26T02:17:22.027534Z",
     "start_time": "2023-10-26T02:17:21.971994Z"
    }
   },
   "execution_count": 7,
   "outputs": [
    {
     "data": {
      "text/plain": "array([[-0.1,  2.1, -0.8],\n       [ 1.1,  0.6,  0.5]])"
     },
     "execution_count": 7,
     "metadata": {},
     "output_type": "execute_result"
    }
   ]
  },
  {
   "cell_type": "code",
   "source": [
    "y1"
   ],
   "metadata": {
    "colab": {
     "base_uri": "https://localhost:8080/"
    },
    "id": "1slrbsPpXKXE",
    "outputId": "2c08e905-cbad-4cec-b99f-999b63f71544",
    "ExecuteTime": {
     "end_time": "2023-10-26T02:17:22.035009Z",
     "start_time": "2023-10-26T02:17:21.976444Z"
    }
   },
   "execution_count": 8,
   "outputs": [
    {
     "data": {
      "text/plain": "array([[0.4],\n       [0.1]])"
     },
     "execution_count": 8,
     "metadata": {},
     "output_type": "execute_result"
    }
   ]
  }
 ]
}
