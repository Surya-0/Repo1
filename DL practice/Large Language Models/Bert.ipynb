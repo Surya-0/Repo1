{
 "cells": [
  {
   "cell_type": "code",
   "execution_count": 1,
   "metadata": {},
   "outputs": [
    {
     "name": "stderr",
     "output_type": "stream",
     "text": [
      "Some weights of the model checkpoint at bert-large-uncased were not used when initializing BertForMaskedLM: ['cls.seq_relationship.weight', 'cls.seq_relationship.bias']\n",
      "- This IS expected if you are initializing BertForMaskedLM from the checkpoint of a model trained on another task or with another architecture (e.g. initializing a BertForSequenceClassification model from a BertForPreTraining model).\n",
      "- This IS NOT expected if you are initializing BertForMaskedLM from the checkpoint of a model that you expect to be exactly identical (initializing a BertForSequenceClassification model from a BertForSequenceClassification model).\n"
     ]
    },
    {
     "name": "stdout",
     "output_type": "stream",
     "text": [
      "Predicted token at position 4: painted\n"
     ]
    }
   ],
   "source": [
    "import torch\n",
    "from transformers import BertForMaskedLM, BertTokenizer\n",
    "\n",
    "# Load pre-trained BERT model for masked language modeling\n",
    "model_name = 'bert-large-uncased'\n",
    "model = BertForMaskedLM.from_pretrained(model_name)\n",
    "tokenizer = BertTokenizer.from_pretrained(model_name)\n",
    "\n",
    "# Input text\n",
    "text = \"The cat was [MASK] in colour\"\n",
    "\n",
    "# Tokenize the input text\n",
    "inputs = tokenizer.encode(text, return_tensors=\"pt\")\n",
    "\n",
    "# Predict the masked token\n",
    "with torch.no_grad():\n",
    "    outputs = model(inputs)\n",
    "    predictions = outputs.logits\n",
    "\n",
    "# Get the predicted token IDs for the masked positions\n",
    "masked_positions = [i for i, token_id in enumerate(inputs[0]) if token_id == tokenizer.mask_token_id]\n",
    "predicted_token_ids = torch.argmax(predictions[0, masked_positions], dim=-1)\n",
    "\n",
    "# Convert predicted token IDs back to tokens\n",
    "predicted_tokens = [tokenizer.convert_ids_to_tokens(token_id.item()) for token_id in predicted_token_ids]\n",
    "\n",
    "# Print the predicted tokens\n",
    "for position, token in zip(masked_positions, predicted_tokens):\n",
    "    print(f\"Predicted token at position {position}: {token}\")\n"
   ]
  },
  {
   "cell_type": "code",
   "execution_count": null,
   "metadata": {},
   "outputs": [],
   "source": []
  }
 ],
 "metadata": {
  "kernelspec": {
   "display_name": "base",
   "language": "python",
   "name": "python3"
  },
  "language_info": {
   "codemirror_mode": {
    "name": "ipython",
    "version": 3
   },
   "file_extension": ".py",
   "mimetype": "text/x-python",
   "name": "python",
   "nbconvert_exporter": "python",
   "pygments_lexer": "ipython3",
   "version": "3.11.3"
  },
  "orig_nbformat": 4
 },
 "nbformat": 4,
 "nbformat_minor": 2
}
