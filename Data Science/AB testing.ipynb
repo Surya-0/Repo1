{
 "cells": [
  {
   "cell_type": "code",
   "execution_count": 2,
   "id": "initial_id",
   "metadata": {
    "collapsed": true,
    "ExecuteTime": {
     "end_time": "2023-10-27T09:06:44.161144Z",
     "start_time": "2023-10-27T09:06:44.148110Z"
    }
   },
   "outputs": [],
   "source": [
    "import numpy as np\n",
    "import pandas as pd\n",
    "import matplotlib.pyplot as plt\n",
    "%matplotlib inline"
   ]
  },
  {
   "cell_type": "code",
   "execution_count": 3,
   "outputs": [
    {
     "data": {
      "text/plain": "      case  bwt  gestation  parity   age  height  weight  smoke\n0        1  120      284.0       0  27.0    62.0   100.0    0.0\n1        2  113      282.0       0  33.0    64.0   135.0    0.0\n2        3  128      279.0       0  28.0    64.0   115.0    1.0\n3        4  123        NaN       0  36.0    69.0   190.0    0.0\n4        5  108      282.0       0  23.0    67.0   125.0    1.0\n...    ...  ...        ...     ...   ...     ...     ...    ...\n1231  1232  113      275.0       1  27.0    60.0   100.0    0.0\n1232  1233  128      265.0       0  24.0    67.0   120.0    0.0\n1233  1234  130      291.0       0  30.0    65.0   150.0    1.0\n1234  1235  125      281.0       1  21.0    65.0   110.0    0.0\n1235  1236  117      297.0       0  38.0    65.0   129.0    0.0\n\n[1236 rows x 8 columns]",
      "text/html": "<div>\n<style scoped>\n    .dataframe tbody tr th:only-of-type {\n        vertical-align: middle;\n    }\n\n    .dataframe tbody tr th {\n        vertical-align: top;\n    }\n\n    .dataframe thead th {\n        text-align: right;\n    }\n</style>\n<table border=\"1\" class=\"dataframe\">\n  <thead>\n    <tr style=\"text-align: right;\">\n      <th></th>\n      <th>case</th>\n      <th>bwt</th>\n      <th>gestation</th>\n      <th>parity</th>\n      <th>age</th>\n      <th>height</th>\n      <th>weight</th>\n      <th>smoke</th>\n    </tr>\n  </thead>\n  <tbody>\n    <tr>\n      <th>0</th>\n      <td>1</td>\n      <td>120</td>\n      <td>284.0</td>\n      <td>0</td>\n      <td>27.0</td>\n      <td>62.0</td>\n      <td>100.0</td>\n      <td>0.0</td>\n    </tr>\n    <tr>\n      <th>1</th>\n      <td>2</td>\n      <td>113</td>\n      <td>282.0</td>\n      <td>0</td>\n      <td>33.0</td>\n      <td>64.0</td>\n      <td>135.0</td>\n      <td>0.0</td>\n    </tr>\n    <tr>\n      <th>2</th>\n      <td>3</td>\n      <td>128</td>\n      <td>279.0</td>\n      <td>0</td>\n      <td>28.0</td>\n      <td>64.0</td>\n      <td>115.0</td>\n      <td>1.0</td>\n    </tr>\n    <tr>\n      <th>3</th>\n      <td>4</td>\n      <td>123</td>\n      <td>NaN</td>\n      <td>0</td>\n      <td>36.0</td>\n      <td>69.0</td>\n      <td>190.0</td>\n      <td>0.0</td>\n    </tr>\n    <tr>\n      <th>4</th>\n      <td>5</td>\n      <td>108</td>\n      <td>282.0</td>\n      <td>0</td>\n      <td>23.0</td>\n      <td>67.0</td>\n      <td>125.0</td>\n      <td>1.0</td>\n    </tr>\n    <tr>\n      <th>...</th>\n      <td>...</td>\n      <td>...</td>\n      <td>...</td>\n      <td>...</td>\n      <td>...</td>\n      <td>...</td>\n      <td>...</td>\n      <td>...</td>\n    </tr>\n    <tr>\n      <th>1231</th>\n      <td>1232</td>\n      <td>113</td>\n      <td>275.0</td>\n      <td>1</td>\n      <td>27.0</td>\n      <td>60.0</td>\n      <td>100.0</td>\n      <td>0.0</td>\n    </tr>\n    <tr>\n      <th>1232</th>\n      <td>1233</td>\n      <td>128</td>\n      <td>265.0</td>\n      <td>0</td>\n      <td>24.0</td>\n      <td>67.0</td>\n      <td>120.0</td>\n      <td>0.0</td>\n    </tr>\n    <tr>\n      <th>1233</th>\n      <td>1234</td>\n      <td>130</td>\n      <td>291.0</td>\n      <td>0</td>\n      <td>30.0</td>\n      <td>65.0</td>\n      <td>150.0</td>\n      <td>1.0</td>\n    </tr>\n    <tr>\n      <th>1234</th>\n      <td>1235</td>\n      <td>125</td>\n      <td>281.0</td>\n      <td>1</td>\n      <td>21.0</td>\n      <td>65.0</td>\n      <td>110.0</td>\n      <td>0.0</td>\n    </tr>\n    <tr>\n      <th>1235</th>\n      <td>1236</td>\n      <td>117</td>\n      <td>297.0</td>\n      <td>0</td>\n      <td>38.0</td>\n      <td>65.0</td>\n      <td>129.0</td>\n      <td>0.0</td>\n    </tr>\n  </tbody>\n</table>\n<p>1236 rows × 8 columns</p>\n</div>"
     },
     "execution_count": 3,
     "metadata": {},
     "output_type": "execute_result"
    }
   ],
   "source": [
    "df = pd.read_csv('babies.csv')\n",
    "df"
   ],
   "metadata": {
    "collapsed": false,
    "ExecuteTime": {
     "end_time": "2023-10-27T09:06:44.811532Z",
     "start_time": "2023-10-27T09:06:44.782008Z"
    }
   },
   "id": "ace9977192d8dd07"
  },
  {
   "cell_type": "code",
   "execution_count": 7,
   "outputs": [],
   "source": [
    "smoking_and_birthwt = df[['smoke','bwt']]"
   ],
   "metadata": {
    "collapsed": false,
    "ExecuteTime": {
     "end_time": "2023-10-27T09:07:33.068862Z",
     "start_time": "2023-10-27T09:07:33.061326Z"
    }
   },
   "id": "2eabdad124a72be6"
  },
  {
   "cell_type": "code",
   "execution_count": 8,
   "outputs": [
    {
     "data": {
      "text/plain": "      smoke  bwt\n0       0.0  120\n1       0.0  113\n2       1.0  128\n3       0.0  123\n4       1.0  108\n...     ...  ...\n1231    0.0  113\n1232    0.0  128\n1233    1.0  130\n1234    0.0  125\n1235    0.0  117\n\n[1236 rows x 2 columns]",
      "text/html": "<div>\n<style scoped>\n    .dataframe tbody tr th:only-of-type {\n        vertical-align: middle;\n    }\n\n    .dataframe tbody tr th {\n        vertical-align: top;\n    }\n\n    .dataframe thead th {\n        text-align: right;\n    }\n</style>\n<table border=\"1\" class=\"dataframe\">\n  <thead>\n    <tr style=\"text-align: right;\">\n      <th></th>\n      <th>smoke</th>\n      <th>bwt</th>\n    </tr>\n  </thead>\n  <tbody>\n    <tr>\n      <th>0</th>\n      <td>0.0</td>\n      <td>120</td>\n    </tr>\n    <tr>\n      <th>1</th>\n      <td>0.0</td>\n      <td>113</td>\n    </tr>\n    <tr>\n      <th>2</th>\n      <td>1.0</td>\n      <td>128</td>\n    </tr>\n    <tr>\n      <th>3</th>\n      <td>0.0</td>\n      <td>123</td>\n    </tr>\n    <tr>\n      <th>4</th>\n      <td>1.0</td>\n      <td>108</td>\n    </tr>\n    <tr>\n      <th>...</th>\n      <td>...</td>\n      <td>...</td>\n    </tr>\n    <tr>\n      <th>1231</th>\n      <td>0.0</td>\n      <td>113</td>\n    </tr>\n    <tr>\n      <th>1232</th>\n      <td>0.0</td>\n      <td>128</td>\n    </tr>\n    <tr>\n      <th>1233</th>\n      <td>1.0</td>\n      <td>130</td>\n    </tr>\n    <tr>\n      <th>1234</th>\n      <td>0.0</td>\n      <td>125</td>\n    </tr>\n    <tr>\n      <th>1235</th>\n      <td>0.0</td>\n      <td>117</td>\n    </tr>\n  </tbody>\n</table>\n<p>1236 rows × 2 columns</p>\n</div>"
     },
     "execution_count": 8,
     "metadata": {},
     "output_type": "execute_result"
    }
   ],
   "source": [
    "smoking_and_birthwt"
   ],
   "metadata": {
    "collapsed": false,
    "ExecuteTime": {
     "end_time": "2023-10-27T09:07:33.668492Z",
     "start_time": "2023-10-27T09:07:33.661916Z"
    }
   },
   "id": "3626ee89428eee99"
  },
  {
   "cell_type": "code",
   "execution_count": 12,
   "outputs": [
    {
     "data": {
      "text/plain": "2       128\n4       108\n9       143\n11      144\n12      141\n       ... \n1224    143\n1225    113\n1226    109\n1227    103\n1233    130\nName: bwt, Length: 484, dtype: int64"
     },
     "execution_count": 12,
     "metadata": {},
     "output_type": "execute_result"
    }
   ],
   "source": [
    "smoker = smoking_and_birthwt['bwt'][smoking_and_birthwt['smoke']==1]"
   ],
   "metadata": {
    "collapsed": false,
    "ExecuteTime": {
     "end_time": "2023-10-27T09:21:47.024804Z",
     "start_time": "2023-10-27T09:21:47.020444Z"
    }
   },
   "id": "34af9ef0dbbe8d7d"
  },
  {
   "cell_type": "code",
   "execution_count": 24,
   "outputs": [
    {
     "name": "stdout",
     "output_type": "stream",
     "text": [
      "10\n"
     ]
    }
   ],
   "source": [
    "print(smoking_and_birthwt['smoke'].isna().sum())"
   ],
   "metadata": {
    "collapsed": false,
    "ExecuteTime": {
     "end_time": "2023-10-27T09:26:07.111783Z",
     "start_time": "2023-10-27T09:26:07.106844Z"
    }
   },
   "id": "bec8cf6c0bb332a9"
  },
  {
   "cell_type": "code",
   "execution_count": 26,
   "outputs": [],
   "source": [
    "smoking_and_birthwt = smoking_and_birthwt.dropna()"
   ],
   "metadata": {
    "collapsed": false,
    "ExecuteTime": {
     "end_time": "2023-10-27T09:26:31.557613Z",
     "start_time": "2023-10-27T09:26:31.541808Z"
    }
   },
   "id": "765c885c2307d28c"
  },
  {
   "cell_type": "code",
   "execution_count": 28,
   "outputs": [
    {
     "data": {
      "text/plain": "2       128\n4       108\n9       143\n11      144\n12      141\n       ... \n1224    143\n1225    113\n1226    109\n1227    103\n1233    130\nName: bwt, Length: 484, dtype: int64"
     },
     "execution_count": 28,
     "metadata": {},
     "output_type": "execute_result"
    }
   ],
   "source": [
    "smoker = smoking_and_birthwt['bwt'][smoking_and_birthwt['smoke']==1]\n",
    "smoker"
   ],
   "metadata": {
    "collapsed": false,
    "ExecuteTime": {
     "end_time": "2023-10-27T09:26:47.257726Z",
     "start_time": "2023-10-27T09:26:47.251810Z"
    }
   },
   "id": "892adc13092062c1"
  },
  {
   "cell_type": "code",
   "execution_count": 30,
   "outputs": [
    {
     "data": {
      "text/plain": "array([<Axes: title={'center': '0.0'}>, <Axes: title={'center': '1.0'}>],\n      dtype=object)"
     },
     "execution_count": 30,
     "metadata": {},
     "output_type": "execute_result"
    },
    {
     "data": {
      "text/plain": "<Figure size 640x480 with 2 Axes>",
      "image/png": "[encoded data removed]"
     },
     "metadata": {},
     "output_type": "display_data"
    }
   ],
   "source": [
    "smoking_and_birthwt.hist(by='smoke')"
   ],
   "metadata": {
    "collapsed": false,
    "ExecuteTime": {
     "end_time": "2023-10-27T09:28:10.534254Z",
     "start_time": "2023-10-27T09:28:10.362442Z"
    }
   },
   "id": "debce6c885073d16"
  },
  {
   "cell_type": "code",
   "execution_count": null,
   "outputs": [],
   "source": [],
   "metadata": {
    "collapsed": false
   },
   "id": "5fec5cd2e1d925ce"
  }
 ],
 "metadata": {
  "kernelspec": {
   "display_name": "Python 3",
   "language": "python",
   "name": "python3"
  },
  "language_info": {
   "codemirror_mode": {
    "name": "ipython",
    "version": 2
   },
   "file_extension": ".py",
   "mimetype": "text/x-python",
   "name": "python",
   "nbconvert_exporter": "python",
   "pygments_lexer": "ipython2",
   "version": "2.7.6"
  }
 },
 "nbformat": 4,
 "nbformat_minor": 5
}
