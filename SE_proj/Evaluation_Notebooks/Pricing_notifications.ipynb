{
 "cells": [
  {
   "cell_type": "code",
   "execution_count": null,
   "id": "initial_id",
   "metadata": {
    "collapsed": true
   },
   "outputs": [],
   "source": [
    "import pandas as pd\n",
    "import smtplib"
   ]
  },
  {
   "cell_type": "code",
   "execution_count": 147,
   "outputs": [
    {
     "data": {
      "text/plain": "                                                title  \\\n0   Apple 2024 MacBook Air 13-inch Laptop with M3 ...   \n1   Apple 2022 MacBook Air Laptop with M2 chip: 13...   \n2   2017 Apple Macbook Air with 1.8GHz Intel Core ...   \n3   Apple 2023 MacBook Pro Laptop M3 Pro chip with...   \n4   Apple 13.3 inches MacBook Air Retina display, ...   \n5   Apple MacBook Air (13-inch Retina display, 1.6...   \n6   Late 2018 Apple MacBook Air with 1.6 GHz Intel...   \n7   Apple 2020 MacBook Air Laptop M1 Chip, 13” Ret...   \n8   Apple 2023 MacBook Air Laptop with M2 chip: 15...   \n9   Apple 2024 MacBook Air 15-inch Laptop with M3 ...   \n10  Apple 2022 13\" MacBook Air M2, 16GB RAM, 256GB...   \n11  Apple MacBook Air with Intel Core i5, 1.6GHz, ...   \n12  Apple 2023 MacBook Pro Laptop M3 chip with 8‑c...   \n13  Apple 2023 MacBook Pro Laptop M3 Max chip with...   \n14  Late 2019 Apple MacBook Pro with 2.6GHz Intel ...   \n15  Apple 2022 MacBook Pro Laptop with M2 chip: 13...   \n16  Apple 2023 MacBook Pro Laptop M2 Pro chip with...   \n17  Apple 2023 MacBook Air Laptop with M2 chip: 15...   \n18  Apple 2024 MacBook Air 13-inch Laptop with M3 ...   \n19  Apple MacBook Air 15.3\" with M3 Chip (Early 20...   \n20  Apple MacBook Pro 16.2\" with M3 Max Chip (Late...   \n21  2018 Apple MacBook Pro with 2.6 Intel Core i7 ...   \n22  2018 Apple MacBook Pro with 2.2GHz Intel Core ...   \n23  Apple 2023 MacBook Pro Laptop M2 Pro chip with...   \n24  Apple 2019 MacBook Pro (16-inch, 16GB RAM, 1TB...   \n25  Apple 2023 15\" MacBook Air M2, 16GB RAM, 512GB...   \n26  Apple MacBook Air 15.3\" with Liquid Retina Dis...   \n\n                                           image-link      price  \\\n0   https://m.media-amazon.com/images/I/71ItMeqpN3...    $909.88   \n1   https://m.media-amazon.com/images/I/71eXNIDUGj...    $840.51   \n2   https://m.media-amazon.com/images/I/61U4MibK9t...    $234.00   \n3   https://m.media-amazon.com/images/I/61SdxEONyu...  $1,940.32   \n4   https://m.media-amazon.com/images/I/51dafnlz6w...    $385.06   \n5   https://m.media-amazon.com/images/I/71thf1SYnG...        NaN   \n6   https://m.media-amazon.com/images/I/41lUYFnOxF...    $399.00   \n7   https://m.media-amazon.com/images/I/71vFKBpKak...        NaN   \n8   https://m.media-amazon.com/images/I/81Fm0tRFdH...        NaN   \n9   https://m.media-amazon.com/images/I/71h-tsPzk5...        NaN   \n10  https://m.media-amazon.com/images/I/719C6bJv8j...  $1,198.55   \n11  https://m.media-amazon.com/images/I/6157eU56s2...    $206.00   \n12  https://m.media-amazon.com/images/I/61lsexTCOh...  $1,471.08   \n13  https://m.media-amazon.com/images/I/61dnax4xch...  $3,097.25   \n14  https://m.media-amazon.com/images/I/619L9jf3-r...    $675.00   \n15  https://m.media-amazon.com/images/I/61L5QgPvgq...  $1,039.49   \n16  https://m.media-amazon.com/images/I/61bwiPRcv2...  $1,998.99   \n17  https://m.media-amazon.com/images/I/81EHBhjC-+...  $1,406.77   \n18  https://m.media-amazon.com/images/I/71-D1xCuVw...  $1,299.00   \n19  https://m.media-amazon.com/images/I/71O14N5GYL...  $1,489.99   \n20  https://m.media-amazon.com/images/I/51ZqjuoQFW...  $4,130.35   \n21  https://m.media-amazon.com/images/I/61Izntd7yM...    $559.00   \n22  https://m.media-amazon.com/images/I/61Izntd7yM...    $494.00   \n23  https://m.media-amazon.com/images/I/61lYIKPieD...        NaN   \n24  https://m.media-amazon.com/images/I/71pC69I3lz...  $1,223.52   \n25  https://m.media-amazon.com/images/I/81si8v7zy8...  $1,598.95   \n26  https://m.media-amazon.com/images/I/61xfZmqdwS...  $2,399.00   \n\n                                         rating         reviews  \\\n0                            4.4 out of 5 stars      61 ratings   \n1                            4.4 out of 5 stars   2,446 ratings   \n2                            4.1 out of 5 stars     494 ratings   \n3                            4.7 out of 5 stars     231 ratings   \n4                            4.1 out of 5 stars   2,364 ratings   \n5                            4.1 out of 5 stars   2,364 ratings   \n6                            4.1 out of 5 stars   2,364 ratings   \n7                            4.7 out of 5 stars  20,105 ratings   \n8                            4.7 out of 5 stars   1,974 ratings   \n9                            4.4 out of 5 stars      49 ratings   \n10                           4.8 out of 5 stars      69 ratings   \n11                           4.2 out of 5 stars   2,081 ratings   \n12                           4.6 out of 5 stars     186 ratings   \n13                           4.6 out of 5 stars     143 ratings   \n14                           4.2 out of 5 stars     124 ratings   \n15                           4.7 out of 5 stars   1,283 ratings   \n16                           4.7 out of 5 stars     357 ratings   \n17                           4.7 out of 5 stars      87 ratings   \n18  Previous page of related Sponsored Products             NaN   \n19  Previous page of related Sponsored Products             NaN   \n20  Previous page of related Sponsored Products             NaN   \n21                           4.1 out of 5 stars     644 ratings   \n22                           4.1 out of 5 stars     644 ratings   \n23                           4.7 out of 5 stars     547 ratings   \n24                           4.7 out of 5 stars   4,953 ratings   \n25                           4.6 out of 5 stars      12 ratings   \n26                           5.0 out of 5 stars        1 rating   \n\n                           availability  \n0    Only 1 left in stock - order soon.  \n1    Only 4 left in stock - order soon.  \n2                              In Stock  \n3    Only 3 left in stock - order soon.  \n4                              In Stock  \n5                         Not Available  \n6   Only 17 left in stock - order soon.  \n7                              In Stock  \n8                              In stock  \n9                         Not Available  \n10                             In Stock  \n11                             In Stock  \n12   Only 2 left in stock - order soon.  \n13   Only 1 left in stock - order soon.  \n14   Only 7 left in stock - order soon.  \n15   Only 5 left in stock - order soon.  \n16                             In Stock  \n17   Only 2 left in stock - order soon.  \n18   Only 3 left in stock - order soon.  \n19   Only 1 left in stock - order soon.  \n20   Only 3 left in stock - order soon.  \n21   Only 3 left in stock - order soon.  \n22  Only 11 left in stock - order soon.  \n23                             In Stock  \n24   Only 1 left in stock - order soon.  \n25   Only 1 left in stock - order soon.  \n26   Only 1 left in stock - order soon.  ",
      "text/html": "<div>\n<style scoped>\n    .dataframe tbody tr th:only-of-type {\n        vertical-align: middle;\n    }\n\n    .dataframe tbody tr th {\n        vertical-align: top;\n    }\n\n    .dataframe thead th {\n        text-align: right;\n    }\n</style>\n<table border=\"1\" class=\"dataframe\">\n  <thead>\n    <tr style=\"text-align: right;\">\n      <th></th>\n      <th>title</th>\n      <th>image-link</th>\n      <th>price</th>\n      <th>rating</th>\n      <th>reviews</th>\n      <th>availability</th>\n    </tr>\n  </thead>\n  <tbody>\n    <tr>\n      <th>0</th>\n      <td>Apple 2024 MacBook Air 13-inch Laptop with M3 ...</td>\n      <td>https://m.media-amazon.com/images/I/71ItMeqpN3...</td>\n      <td>$909.88</td>\n      <td>4.4 out of 5 stars</td>\n      <td>61 ratings</td>\n      <td>Only 1 left in stock - order soon.</td>\n    </tr>\n    <tr>\n      <th>1</th>\n      <td>Apple 2022 MacBook Air Laptop with M2 chip: 13...</td>\n      <td>https://m.media-amazon.com/images/I/71eXNIDUGj...</td>\n      <td>$840.51</td>\n      <td>4.4 out of 5 stars</td>\n      <td>2,446 ratings</td>\n      <td>Only 4 left in stock - order soon.</td>\n    </tr>\n    <tr>\n      <th>2</th>\n      <td>2017 Apple Macbook Air with 1.8GHz Intel Core ...</td>\n      <td>https://m.media-amazon.com/images/I/61U4MibK9t...</td>\n      <td>$234.00</td>\n      <td>4.1 out of 5 stars</td>\n      <td>494 ratings</td>\n      <td>In Stock</td>\n    </tr>\n    <tr>\n      <th>3</th>\n      <td>Apple 2023 MacBook Pro Laptop M3 Pro chip with...</td>\n      <td>https://m.media-amazon.com/images/I/61SdxEONyu...</td>\n      <td>$1,940.32</td>\n      <td>4.7 out of 5 stars</td>\n      <td>231 ratings</td>\n      <td>Only 3 left in stock - order soon.</td>\n    </tr>\n    <tr>\n      <th>4</th>\n      <td>Apple 13.3 inches MacBook Air Retina display, ...</td>\n      <td>https://m.media-amazon.com/images/I/51dafnlz6w...</td>\n      <td>$385.06</td>\n      <td>4.1 out of 5 stars</td>\n      <td>2,364 ratings</td>\n      <td>In Stock</td>\n    </tr>\n    <tr>\n      <th>5</th>\n      <td>Apple MacBook Air (13-inch Retina display, 1.6...</td>\n      <td>https://m.media-amazon.com/images/I/71thf1SYnG...</td>\n      <td>NaN</td>\n      <td>4.1 out of 5 stars</td>\n      <td>2,364 ratings</td>\n      <td>Not Available</td>\n    </tr>\n    <tr>\n      <th>6</th>\n      <td>Late 2018 Apple MacBook Air with 1.6 GHz Intel...</td>\n      <td>https://m.media-amazon.com/images/I/41lUYFnOxF...</td>\n      <td>$399.00</td>\n      <td>4.1 out of 5 stars</td>\n      <td>2,364 ratings</td>\n      <td>Only 17 left in stock - order soon.</td>\n    </tr>\n    <tr>\n      <th>7</th>\n      <td>Apple 2020 MacBook Air Laptop M1 Chip, 13” Ret...</td>\n      <td>https://m.media-amazon.com/images/I/71vFKBpKak...</td>\n      <td>NaN</td>\n      <td>4.7 out of 5 stars</td>\n      <td>20,105 ratings</td>\n      <td>In Stock</td>\n    </tr>\n    <tr>\n      <th>8</th>\n      <td>Apple 2023 MacBook Air Laptop with M2 chip: 15...</td>\n      <td>https://m.media-amazon.com/images/I/81Fm0tRFdH...</td>\n      <td>NaN</td>\n      <td>4.7 out of 5 stars</td>\n      <td>1,974 ratings</td>\n      <td>In stock</td>\n    </tr>\n    <tr>\n      <th>9</th>\n      <td>Apple 2024 MacBook Air 15-inch Laptop with M3 ...</td>\n      <td>https://m.media-amazon.com/images/I/71h-tsPzk5...</td>\n      <td>NaN</td>\n      <td>4.4 out of 5 stars</td>\n      <td>49 ratings</td>\n      <td>Not Available</td>\n    </tr>\n    <tr>\n      <th>10</th>\n      <td>Apple 2022 13\" MacBook Air M2, 16GB RAM, 256GB...</td>\n      <td>https://m.media-amazon.com/images/I/719C6bJv8j...</td>\n      <td>$1,198.55</td>\n      <td>4.8 out of 5 stars</td>\n      <td>69 ratings</td>\n      <td>In Stock</td>\n    </tr>\n    <tr>\n      <th>11</th>\n      <td>Apple MacBook Air with Intel Core i5, 1.6GHz, ...</td>\n      <td>https://m.media-amazon.com/images/I/6157eU56s2...</td>\n      <td>$206.00</td>\n      <td>4.2 out of 5 stars</td>\n      <td>2,081 ratings</td>\n      <td>In Stock</td>\n    </tr>\n    <tr>\n      <th>12</th>\n      <td>Apple 2023 MacBook Pro Laptop M3 chip with 8‑c...</td>\n      <td>https://m.media-amazon.com/images/I/61lsexTCOh...</td>\n      <td>$1,471.08</td>\n      <td>4.6 out of 5 stars</td>\n      <td>186 ratings</td>\n      <td>Only 2 left in stock - order soon.</td>\n    </tr>\n    <tr>\n      <th>13</th>\n      <td>Apple 2023 MacBook Pro Laptop M3 Max chip with...</td>\n      <td>https://m.media-amazon.com/images/I/61dnax4xch...</td>\n      <td>$3,097.25</td>\n      <td>4.6 out of 5 stars</td>\n      <td>143 ratings</td>\n      <td>Only 1 left in stock - order soon.</td>\n    </tr>\n    <tr>\n      <th>14</th>\n      <td>Late 2019 Apple MacBook Pro with 2.6GHz Intel ...</td>\n      <td>https://m.media-amazon.com/images/I/619L9jf3-r...</td>\n      <td>$675.00</td>\n      <td>4.2 out of 5 stars</td>\n      <td>124 ratings</td>\n      <td>Only 7 left in stock - order soon.</td>\n    </tr>\n    <tr>\n      <th>15</th>\n      <td>Apple 2022 MacBook Pro Laptop with M2 chip: 13...</td>\n      <td>https://m.media-amazon.com/images/I/61L5QgPvgq...</td>\n      <td>$1,039.49</td>\n      <td>4.7 out of 5 stars</td>\n      <td>1,283 ratings</td>\n      <td>Only 5 left in stock - order soon.</td>\n    </tr>\n    <tr>\n      <th>16</th>\n      <td>Apple 2023 MacBook Pro Laptop M2 Pro chip with...</td>\n      <td>https://m.media-amazon.com/images/I/61bwiPRcv2...</td>\n      <td>$1,998.99</td>\n      <td>4.7 out of 5 stars</td>\n      <td>357 ratings</td>\n      <td>In Stock</td>\n    </tr>\n    <tr>\n      <th>17</th>\n      <td>Apple 2023 MacBook Air Laptop with M2 chip: 15...</td>\n      <td>https://m.media-amazon.com/images/I/81EHBhjC-+...</td>\n      <td>$1,406.77</td>\n      <td>4.7 out of 5 stars</td>\n      <td>87 ratings</td>\n      <td>Only 2 left in stock - order soon.</td>\n    </tr>\n    <tr>\n      <th>18</th>\n      <td>Apple 2024 MacBook Air 13-inch Laptop with M3 ...</td>\n      <td>https://m.media-amazon.com/images/I/71-D1xCuVw...</td>\n      <td>$1,299.00</td>\n      <td>Previous page of related Sponsored Products</td>\n      <td>NaN</td>\n      <td>Only 3 left in stock - order soon.</td>\n    </tr>\n    <tr>\n      <th>19</th>\n      <td>Apple MacBook Air 15.3\" with M3 Chip (Early 20...</td>\n      <td>https://m.media-amazon.com/images/I/71O14N5GYL...</td>\n      <td>$1,489.99</td>\n      <td>Previous page of related Sponsored Products</td>\n      <td>NaN</td>\n      <td>Only 1 left in stock - order soon.</td>\n    </tr>\n    <tr>\n      <th>20</th>\n      <td>Apple MacBook Pro 16.2\" with M3 Max Chip (Late...</td>\n      <td>https://m.media-amazon.com/images/I/51ZqjuoQFW...</td>\n      <td>$4,130.35</td>\n      <td>Previous page of related Sponsored Products</td>\n      <td>NaN</td>\n      <td>Only 3 left in stock - order soon.</td>\n    </tr>\n    <tr>\n      <th>21</th>\n      <td>2018 Apple MacBook Pro with 2.6 Intel Core i7 ...</td>\n      <td>https://m.media-amazon.com/images/I/61Izntd7yM...</td>\n      <td>$559.00</td>\n      <td>4.1 out of 5 stars</td>\n      <td>644 ratings</td>\n      <td>Only 3 left in stock - order soon.</td>\n    </tr>\n    <tr>\n      <th>22</th>\n      <td>2018 Apple MacBook Pro with 2.2GHz Intel Core ...</td>\n      <td>https://m.media-amazon.com/images/I/61Izntd7yM...</td>\n      <td>$494.00</td>\n      <td>4.1 out of 5 stars</td>\n      <td>644 ratings</td>\n      <td>Only 11 left in stock - order soon.</td>\n    </tr>\n    <tr>\n      <th>23</th>\n      <td>Apple 2023 MacBook Pro Laptop M2 Pro chip with...</td>\n      <td>https://m.media-amazon.com/images/I/61lYIKPieD...</td>\n      <td>NaN</td>\n      <td>4.7 out of 5 stars</td>\n      <td>547 ratings</td>\n      <td>In Stock</td>\n    </tr>\n    <tr>\n      <th>24</th>\n      <td>Apple 2019 MacBook Pro (16-inch, 16GB RAM, 1TB...</td>\n      <td>https://m.media-amazon.com/images/I/71pC69I3lz...</td>\n      <td>$1,223.52</td>\n      <td>4.7 out of 5 stars</td>\n      <td>4,953 ratings</td>\n      <td>Only 1 left in stock - order soon.</td>\n    </tr>\n    <tr>\n      <th>25</th>\n      <td>Apple 2023 15\" MacBook Air M2, 16GB RAM, 512GB...</td>\n      <td>https://m.media-amazon.com/images/I/81si8v7zy8...</td>\n      <td>$1,598.95</td>\n      <td>4.6 out of 5 stars</td>\n      <td>12 ratings</td>\n      <td>Only 1 left in stock - order soon.</td>\n    </tr>\n    <tr>\n      <th>26</th>\n      <td>Apple MacBook Air 15.3\" with Liquid Retina Dis...</td>\n      <td>https://m.media-amazon.com/images/I/61xfZmqdwS...</td>\n      <td>$2,399.00</td>\n      <td>5.0 out of 5 stars</td>\n      <td>1 rating</td>\n      <td>Only 1 left in stock - order soon.</td>\n    </tr>\n  </tbody>\n</table>\n</div>"
     },
     "execution_count": 147,
     "metadata": {},
     "output_type": "execute_result"
    }
   ],
   "source": [
    "df = pd.read_csv('../Scraped_datasets/macbook_data.csv')\n",
    "df"
   ],
   "metadata": {
    "collapsed": false,
    "ExecuteTime": {
     "end_time": "2024-05-03T19:59:19.288324Z",
     "start_time": "2024-05-03T19:59:19.272048Z"
    }
   },
   "id": "c9734f86c3548465"
  },
  {
   "cell_type": "code",
   "execution_count": 148,
   "outputs": [
    {
     "name": "stderr",
     "output_type": "stream",
     "text": [
      "/var/folders/21/yhy2dhmx219b7cbcq243hmwc0000gn/T/ipykernel_5566/3465546308.py:1: FutureWarning: The default value of regex will change from True to False in a future version. In addition, single character regular expressions will *not* be treated as literal strings when regex=True.\n",
      "  df['price'] = df['price'].str.replace('$', '').str.replace(',', '').astype(float)\n"
     ]
    }
   ],
   "source": [
    "df['price'] = df['price'].str.replace('$', '').str.replace(',', '').astype(float)"
   ],
   "metadata": {
    "collapsed": false,
    "ExecuteTime": {
     "end_time": "2024-05-03T19:59:27.801615Z",
     "start_time": "2024-05-03T19:59:27.794306Z"
    }
   },
   "id": "3b41507c8cb866de"
  },
  {
   "cell_type": "code",
   "execution_count": 150,
   "outputs": [
    {
     "data": {
      "text/plain": "                                                title  \\\n0   Apple 2024 MacBook Air 13-inch Laptop with M3 ...   \n1   Apple 2022 MacBook Air Laptop with M2 chip: 13...   \n2   2017 Apple Macbook Air with 1.8GHz Intel Core ...   \n3   Apple 2023 MacBook Pro Laptop M3 Pro chip with...   \n4   Apple 13.3 inches MacBook Air Retina display, ...   \n5   Apple MacBook Air (13-inch Retina display, 1.6...   \n6   Late 2018 Apple MacBook Air with 1.6 GHz Intel...   \n7   Apple 2020 MacBook Air Laptop M1 Chip, 13” Ret...   \n8   Apple 2023 MacBook Air Laptop with M2 chip: 15...   \n9   Apple 2024 MacBook Air 15-inch Laptop with M3 ...   \n10  Apple 2022 13\" MacBook Air M2, 16GB RAM, 256GB...   \n11  Apple MacBook Air with Intel Core i5, 1.6GHz, ...   \n12  Apple 2023 MacBook Pro Laptop M3 chip with 8‑c...   \n13  Apple 2023 MacBook Pro Laptop M3 Max chip with...   \n14  Late 2019 Apple MacBook Pro with 2.6GHz Intel ...   \n15  Apple 2022 MacBook Pro Laptop with M2 chip: 13...   \n16  Apple 2023 MacBook Pro Laptop M2 Pro chip with...   \n17  Apple 2023 MacBook Air Laptop with M2 chip: 15...   \n18  Apple 2024 MacBook Air 13-inch Laptop with M3 ...   \n19  Apple MacBook Air 15.3\" with M3 Chip (Early 20...   \n20  Apple MacBook Pro 16.2\" with M3 Max Chip (Late...   \n21  2018 Apple MacBook Pro with 2.6 Intel Core i7 ...   \n22  2018 Apple MacBook Pro with 2.2GHz Intel Core ...   \n23  Apple 2023 MacBook Pro Laptop M2 Pro chip with...   \n24  Apple 2019 MacBook Pro (16-inch, 16GB RAM, 1TB...   \n25  Apple 2023 15\" MacBook Air M2, 16GB RAM, 512GB...   \n26  Apple MacBook Air 15.3\" with Liquid Retina Dis...   \n\n                                           image-link    price  \\\n0   https://m.media-amazon.com/images/I/71ItMeqpN3...   909.88   \n1   https://m.media-amazon.com/images/I/71eXNIDUGj...   840.51   \n2   https://m.media-amazon.com/images/I/61U4MibK9t...   234.00   \n3   https://m.media-amazon.com/images/I/61SdxEONyu...  1940.32   \n4   https://m.media-amazon.com/images/I/51dafnlz6w...   385.06   \n5   https://m.media-amazon.com/images/I/71thf1SYnG...      NaN   \n6   https://m.media-amazon.com/images/I/41lUYFnOxF...   399.00   \n7   https://m.media-amazon.com/images/I/71vFKBpKak...      NaN   \n8   https://m.media-amazon.com/images/I/81Fm0tRFdH...      NaN   \n9   https://m.media-amazon.com/images/I/71h-tsPzk5...      NaN   \n10  https://m.media-amazon.com/images/I/719C6bJv8j...  1198.55   \n11  https://m.media-amazon.com/images/I/6157eU56s2...   206.00   \n12  https://m.media-amazon.com/images/I/61lsexTCOh...  1471.08   \n13  https://m.media-amazon.com/images/I/61dnax4xch...  3097.25   \n14  https://m.media-amazon.com/images/I/619L9jf3-r...   675.00   \n15  https://m.media-amazon.com/images/I/61L5QgPvgq...  1039.49   \n16  https://m.media-amazon.com/images/I/61bwiPRcv2...  1998.99   \n17  https://m.media-amazon.com/images/I/81EHBhjC-+...  1406.77   \n18  https://m.media-amazon.com/images/I/71-D1xCuVw...  1299.00   \n19  https://m.media-amazon.com/images/I/71O14N5GYL...  1489.99   \n20  https://m.media-amazon.com/images/I/51ZqjuoQFW...  4130.35   \n21  https://m.media-amazon.com/images/I/61Izntd7yM...   559.00   \n22  https://m.media-amazon.com/images/I/61Izntd7yM...   494.00   \n23  https://m.media-amazon.com/images/I/61lYIKPieD...      NaN   \n24  https://m.media-amazon.com/images/I/71pC69I3lz...  1223.52   \n25  https://m.media-amazon.com/images/I/81si8v7zy8...  1598.95   \n26  https://m.media-amazon.com/images/I/61xfZmqdwS...  2399.00   \n\n                                         rating         reviews  \\\n0                            4.4 out of 5 stars      61 ratings   \n1                            4.4 out of 5 stars   2,446 ratings   \n2                            4.1 out of 5 stars     494 ratings   \n3                            4.7 out of 5 stars     231 ratings   \n4                            4.1 out of 5 stars   2,364 ratings   \n5                            4.1 out of 5 stars   2,364 ratings   \n6                            4.1 out of 5 stars   2,364 ratings   \n7                            4.7 out of 5 stars  20,105 ratings   \n8                            4.7 out of 5 stars   1,974 ratings   \n9                            4.4 out of 5 stars      49 ratings   \n10                           4.8 out of 5 stars      69 ratings   \n11                           4.2 out of 5 stars   2,081 ratings   \n12                           4.6 out of 5 stars     186 ratings   \n13                           4.6 out of 5 stars     143 ratings   \n14                           4.2 out of 5 stars     124 ratings   \n15                           4.7 out of 5 stars   1,283 ratings   \n16                           4.7 out of 5 stars     357 ratings   \n17                           4.7 out of 5 stars      87 ratings   \n18  Previous page of related Sponsored Products             NaN   \n19  Previous page of related Sponsored Products             NaN   \n20  Previous page of related Sponsored Products             NaN   \n21                           4.1 out of 5 stars     644 ratings   \n22                           4.1 out of 5 stars     644 ratings   \n23                           4.7 out of 5 stars     547 ratings   \n24                           4.7 out of 5 stars   4,953 ratings   \n25                           4.6 out of 5 stars      12 ratings   \n26                           5.0 out of 5 stars        1 rating   \n\n                           availability  \n0    Only 1 left in stock - order soon.  \n1    Only 4 left in stock - order soon.  \n2                              In Stock  \n3    Only 3 left in stock - order soon.  \n4                              In Stock  \n5                         Not Available  \n6   Only 17 left in stock - order soon.  \n7                              In Stock  \n8                              In stock  \n9                         Not Available  \n10                             In Stock  \n11                             In Stock  \n12   Only 2 left in stock - order soon.  \n13   Only 1 left in stock - order soon.  \n14   Only 7 left in stock - order soon.  \n15   Only 5 left in stock - order soon.  \n16                             In Stock  \n17   Only 2 left in stock - order soon.  \n18   Only 3 left in stock - order soon.  \n19   Only 1 left in stock - order soon.  \n20   Only 3 left in stock - order soon.  \n21   Only 3 left in stock - order soon.  \n22  Only 11 left in stock - order soon.  \n23                             In Stock  \n24   Only 1 left in stock - order soon.  \n25   Only 1 left in stock - order soon.  \n26   Only 1 left in stock - order soon.  ",
      "text/html": "<div>\n<style scoped>\n    .dataframe tbody tr th:only-of-type {\n        vertical-align: middle;\n    }\n\n    .dataframe tbody tr th {\n        vertical-align: top;\n    }\n\n    .dataframe thead th {\n        text-align: right;\n    }\n</style>\n<table border=\"1\" class=\"dataframe\">\n  <thead>\n    <tr style=\"text-align: right;\">\n      <th></th>\n      <th>title</th>\n      <th>image-link</th>\n      <th>price</th>\n      <th>rating</th>\n      <th>reviews</th>\n      <th>availability</th>\n    </tr>\n  </thead>\n  <tbody>\n    <tr>\n      <th>0</th>\n      <td>Apple 2024 MacBook Air 13-inch Laptop with M3 ...</td>\n      <td>https://m.media-amazon.com/images/I/71ItMeqpN3...</td>\n      <td>909.88</td>\n      <td>4.4 out of 5 stars</td>\n      <td>61 ratings</td>\n      <td>Only 1 left in stock - order soon.</td>\n    </tr>\n    <tr>\n      <th>1</th>\n      <td>Apple 2022 MacBook Air Laptop with M2 chip: 13...</td>\n      <td>https://m.media-amazon.com/images/I/71eXNIDUGj...</td>\n      <td>840.51</td>\n      <td>4.4 out of 5 stars</td>\n      <td>2,446 ratings</td>\n      <td>Only 4 left in stock - order soon.</td>\n    </tr>\n    <tr>\n      <th>2</th>\n      <td>2017 Apple Macbook Air with 1.8GHz Intel Core ...</td>\n      <td>https://m.media-amazon.com/images/I/61U4MibK9t...</td>\n      <td>234.00</td>\n      <td>4.1 out of 5 stars</td>\n      <td>494 ratings</td>\n      <td>In Stock</td>\n    </tr>\n    <tr>\n      <th>3</th>\n      <td>Apple 2023 MacBook Pro Laptop M3 Pro chip with...</td>\n      <td>https://m.media-amazon.com/images/I/61SdxEONyu...</td>\n      <td>1940.32</td>\n      <td>4.7 out of 5 stars</td>\n      <td>231 ratings</td>\n      <td>Only 3 left in stock - order soon.</td>\n    </tr>\n    <tr>\n      <th>4</th>\n      <td>Apple 13.3 inches MacBook Air Retina display, ...</td>\n      <td>https://m.media-amazon.com/images/I/51dafnlz6w...</td>\n      <td>385.06</td>\n      <td>4.1 out of 5 stars</td>\n      <td>2,364 ratings</td>\n      <td>In Stock</td>\n    </tr>\n    <tr>\n      <th>5</th>\n      <td>Apple MacBook Air (13-inch Retina display, 1.6...</td>\n      <td>https://m.media-amazon.com/images/I/71thf1SYnG...</td>\n      <td>NaN</td>\n      <td>4.1 out of 5 stars</td>\n      <td>2,364 ratings</td>\n      <td>Not Available</td>\n    </tr>\n    <tr>\n      <th>6</th>\n      <td>Late 2018 Apple MacBook Air with 1.6 GHz Intel...</td>\n      <td>https://m.media-amazon.com/images/I/41lUYFnOxF...</td>\n      <td>399.00</td>\n      <td>4.1 out of 5 stars</td>\n      <td>2,364 ratings</td>\n      <td>Only 17 left in stock - order soon.</td>\n    </tr>\n    <tr>\n      <th>7</th>\n      <td>Apple 2020 MacBook Air Laptop M1 Chip, 13” Ret...</td>\n      <td>https://m.media-amazon.com/images/I/71vFKBpKak...</td>\n      <td>NaN</td>\n      <td>4.7 out of 5 stars</td>\n      <td>20,105 ratings</td>\n      <td>In Stock</td>\n    </tr>\n    <tr>\n      <th>8</th>\n      <td>Apple 2023 MacBook Air Laptop with M2 chip: 15...</td>\n      <td>https://m.media-amazon.com/images/I/81Fm0tRFdH...</td>\n      <td>NaN</td>\n      <td>4.7 out of 5 stars</td>\n      <td>1,974 ratings</td>\n      <td>In stock</td>\n    </tr>\n    <tr>\n      <th>9</th>\n      <td>Apple 2024 MacBook Air 15-inch Laptop with M3 ...</td>\n      <td>https://m.media-amazon.com/images/I/71h-tsPzk5...</td>\n      <td>NaN</td>\n      <td>4.4 out of 5 stars</td>\n      <td>49 ratings</td>\n      <td>Not Available</td>\n    </tr>\n    <tr>\n      <th>10</th>\n      <td>Apple 2022 13\" MacBook Air M2, 16GB RAM, 256GB...</td>\n      <td>https://m.media-amazon.com/images/I/719C6bJv8j...</td>\n      <td>1198.55</td>\n      <td>4.8 out of 5 stars</td>\n      <td>69 ratings</td>\n      <td>In Stock</td>\n    </tr>\n    <tr>\n      <th>11</th>\n      <td>Apple MacBook Air with Intel Core i5, 1.6GHz, ...</td>\n      <td>https://m.media-amazon.com/images/I/6157eU56s2...</td>\n      <td>206.00</td>\n      <td>4.2 out of 5 stars</td>\n      <td>2,081 ratings</td>\n      <td>In Stock</td>\n    </tr>\n    <tr>\n      <th>12</th>\n      <td>Apple 2023 MacBook Pro Laptop M3 chip with 8‑c...</td>\n      <td>https://m.media-amazon.com/images/I/61lsexTCOh...</td>\n      <td>1471.08</td>\n      <td>4.6 out of 5 stars</td>\n      <td>186 ratings</td>\n      <td>Only 2 left in stock - order soon.</td>\n    </tr>\n    <tr>\n      <th>13</th>\n      <td>Apple 2023 MacBook Pro Laptop M3 Max chip with...</td>\n      <td>https://m.media-amazon.com/images/I/61dnax4xch...</td>\n      <td>3097.25</td>\n      <td>4.6 out of 5 stars</td>\n      <td>143 ratings</td>\n      <td>Only 1 left in stock - order soon.</td>\n    </tr>\n    <tr>\n      <th>14</th>\n      <td>Late 2019 Apple MacBook Pro with 2.6GHz Intel ...</td>\n      <td>https://m.media-amazon.com/images/I/619L9jf3-r...</td>\n      <td>675.00</td>\n      <td>4.2 out of 5 stars</td>\n      <td>124 ratings</td>\n      <td>Only 7 left in stock - order soon.</td>\n    </tr>\n    <tr>\n      <th>15</th>\n      <td>Apple 2022 MacBook Pro Laptop with M2 chip: 13...</td>\n      <td>https://m.media-amazon.com/images/I/61L5QgPvgq...</td>\n      <td>1039.49</td>\n      <td>4.7 out of 5 stars</td>\n      <td>1,283 ratings</td>\n      <td>Only 5 left in stock - order soon.</td>\n    </tr>\n    <tr>\n      <th>16</th>\n      <td>Apple 2023 MacBook Pro Laptop M2 Pro chip with...</td>\n      <td>https://m.media-amazon.com/images/I/61bwiPRcv2...</td>\n      <td>1998.99</td>\n      <td>4.7 out of 5 stars</td>\n      <td>357 ratings</td>\n      <td>In Stock</td>\n    </tr>\n    <tr>\n      <th>17</th>\n      <td>Apple 2023 MacBook Air Laptop with M2 chip: 15...</td>\n      <td>https://m.media-amazon.com/images/I/81EHBhjC-+...</td>\n      <td>1406.77</td>\n      <td>4.7 out of 5 stars</td>\n      <td>87 ratings</td>\n      <td>Only 2 left in stock - order soon.</td>\n    </tr>\n    <tr>\n      <th>18</th>\n      <td>Apple 2024 MacBook Air 13-inch Laptop with M3 ...</td>\n      <td>https://m.media-amazon.com/images/I/71-D1xCuVw...</td>\n      <td>1299.00</td>\n      <td>Previous page of related Sponsored Products</td>\n      <td>NaN</td>\n      <td>Only 3 left in stock - order soon.</td>\n    </tr>\n    <tr>\n      <th>19</th>\n      <td>Apple MacBook Air 15.3\" with M3 Chip (Early 20...</td>\n      <td>https://m.media-amazon.com/images/I/71O14N5GYL...</td>\n      <td>1489.99</td>\n      <td>Previous page of related Sponsored Products</td>\n      <td>NaN</td>\n      <td>Only 1 left in stock - order soon.</td>\n    </tr>\n    <tr>\n      <th>20</th>\n      <td>Apple MacBook Pro 16.2\" with M3 Max Chip (Late...</td>\n      <td>https://m.media-amazon.com/images/I/51ZqjuoQFW...</td>\n      <td>4130.35</td>\n      <td>Previous page of related Sponsored Products</td>\n      <td>NaN</td>\n      <td>Only 3 left in stock - order soon.</td>\n    </tr>\n    <tr>\n      <th>21</th>\n      <td>2018 Apple MacBook Pro with 2.6 Intel Core i7 ...</td>\n      <td>https://m.media-amazon.com/images/I/61Izntd7yM...</td>\n      <td>559.00</td>\n      <td>4.1 out of 5 stars</td>\n      <td>644 ratings</td>\n      <td>Only 3 left in stock - order soon.</td>\n    </tr>\n    <tr>\n      <th>22</th>\n      <td>2018 Apple MacBook Pro with 2.2GHz Intel Core ...</td>\n      <td>https://m.media-amazon.com/images/I/61Izntd7yM...</td>\n      <td>494.00</td>\n      <td>4.1 out of 5 stars</td>\n      <td>644 ratings</td>\n      <td>Only 11 left in stock - order soon.</td>\n    </tr>\n    <tr>\n      <th>23</th>\n      <td>Apple 2023 MacBook Pro Laptop M2 Pro chip with...</td>\n      <td>https://m.media-amazon.com/images/I/61lYIKPieD...</td>\n      <td>NaN</td>\n      <td>4.7 out of 5 stars</td>\n      <td>547 ratings</td>\n      <td>In Stock</td>\n    </tr>\n    <tr>\n      <th>24</th>\n      <td>Apple 2019 MacBook Pro (16-inch, 16GB RAM, 1TB...</td>\n      <td>https://m.media-amazon.com/images/I/71pC69I3lz...</td>\n      <td>1223.52</td>\n      <td>4.7 out of 5 stars</td>\n      <td>4,953 ratings</td>\n      <td>Only 1 left in stock - order soon.</td>\n    </tr>\n    <tr>\n      <th>25</th>\n      <td>Apple 2023 15\" MacBook Air M2, 16GB RAM, 512GB...</td>\n      <td>https://m.media-amazon.com/images/I/81si8v7zy8...</td>\n      <td>1598.95</td>\n      <td>4.6 out of 5 stars</td>\n      <td>12 ratings</td>\n      <td>Only 1 left in stock - order soon.</td>\n    </tr>\n    <tr>\n      <th>26</th>\n      <td>Apple MacBook Air 15.3\" with Liquid Retina Dis...</td>\n      <td>https://m.media-amazon.com/images/I/61xfZmqdwS...</td>\n      <td>2399.00</td>\n      <td>5.0 out of 5 stars</td>\n      <td>1 rating</td>\n      <td>Only 1 left in stock - order soon.</td>\n    </tr>\n  </tbody>\n</table>\n</div>"
     },
     "execution_count": 150,
     "metadata": {},
     "output_type": "execute_result"
    }
   ],
   "source": [
    "df"
   ],
   "metadata": {
    "collapsed": false,
    "ExecuteTime": {
     "end_time": "2024-05-03T19:59:42.186569Z",
     "start_time": "2024-05-03T19:59:42.181603Z"
    }
   },
   "id": "9fe30c256e7629a0"
  },
  {
   "cell_type": "code",
   "execution_count": 151,
   "outputs": [
    {
     "data": {
      "text/plain": "206.0"
     },
     "execution_count": 151,
     "metadata": {},
     "output_type": "execute_result"
    }
   ],
   "source": [
    "df['price'].min()"
   ],
   "metadata": {
    "collapsed": false,
    "ExecuteTime": {
     "end_time": "2024-05-03T19:59:44.994036Z",
     "start_time": "2024-05-03T19:59:44.984784Z"
    }
   },
   "id": "3e59b97b8fb19948"
  },
  {
   "cell_type": "code",
   "execution_count": 153,
   "outputs": [],
   "source": [
    "# Assume df is your DataFrame\n",
    "for index, row in df.iterrows():\n",
    "    title = row['title']\n",
    "    price = row['price']\n",
    "    receiver_email = \"ramnareshnathan@gmail.com\"\n",
    "    email = \"nssurya356@gmail.com\"\n",
    "    # Check the price\n",
    "    if price < 400:\n",
    "        # Send an email notification\n",
    "       \n",
    "        server = smtplib.SMTP('smtp.gmail.com', 587)\n",
    "        server.starttls()\n",
    "        server.login(email,\"qiqpgkkqihxzpsev\")\n",
    "        \n",
    "        subject = 'Your favourite apple product  ' + title + \" is now available at an affordable cost\"\n",
    "        body = f\"The price of {title} is {price} dollars only.\"\n",
    "        msg = f\"Subject: {subject}\\n\\n{body}\"\n",
    "        server.sendmail(email,receiver_email,msg)\n",
    "        server.quit()\n",
    "    "
   ],
   "metadata": {
    "collapsed": false,
    "ExecuteTime": {
     "end_time": "2024-05-03T20:03:02.012568Z",
     "start_time": "2024-05-03T20:02:35.122606Z"
    }
   },
   "id": "92043c90f9eae866"
  },
  {
   "cell_type": "code",
   "execution_count": null,
   "outputs": [],
   "source": [],
   "metadata": {
    "collapsed": false
   },
   "id": "b2aee14db5d0f31d"
  }
 ],
 "metadata": {
  "kernelspec": {
   "display_name": "Python 3",
   "language": "python",
   "name": "python3"
  },
  "language_info": {
   "codemirror_mode": {
    "name": "ipython",
    "version": 2
   },
   "file_extension": ".py",
   "mimetype": "text/x-python",
   "name": "python",
   "nbconvert_exporter": "python",
   "pygments_lexer": "ipython2",
   "version": "2.7.6"
  }
 },
 "nbformat": 4,
 "nbformat_minor": 5
}
