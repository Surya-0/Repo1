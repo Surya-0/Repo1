{
 "cells": [
  {
   "cell_type": "markdown",
   "source": [
    "### Experimentation with olist datasets"
   ],
   "metadata": {
    "collapsed": false
   },
   "id": "df96f09f373f0f16"
  },
  {
   "cell_type": "code",
   "execution_count": 2,
   "id": "initial_id",
   "metadata": {
    "collapsed": true,
    "ExecuteTime": {
     "end_time": "2024-05-01T08:23:08.264512Z",
     "start_time": "2024-05-01T08:23:06.549435Z"
    }
   },
   "outputs": [],
   "source": [
    "import numpy as np\n",
    "import pandas as pd\n",
    "import matplotlib.pyplot as plt\n",
    "import torch\n"
   ]
  },
  {
   "cell_type": "code",
   "execution_count": 3,
   "outputs": [],
   "source": [
    "orders_df = pd.read_csv('Datasets/olist_orders_dataset.csv')\n",
    "items_df = pd.read_csv('Datasets/olist_order_items_dataset.csv')\n",
    "sellers_df = pd.read_csv('Datasets/olist_sellers_dataset.csv')\n",
    "customers_df = pd.read_csv('Datasets/olist_customers_dataset.csv')\n",
    "products_df = pd.read_csv('Datasets/olist_products_dataset.csv')"
   ],
   "metadata": {
    "collapsed": false,
    "ExecuteTime": {
     "end_time": "2024-05-01T08:23:08.691457Z",
     "start_time": "2024-05-01T08:23:08.266087Z"
    }
   },
   "id": "ff5807ef066ee08f"
  },
  {
   "cell_type": "code",
   "execution_count": 4,
   "outputs": [
    {
     "data": {
      "text/plain": "                               order_id                       customer_id  \\\n0      e481f51cbdc54678b7cc49136f2d6af7  9ef432eb6251297304e76186b10a928d   \n1      53cdb2fc8bc7dce0b6741e2150273451  b0830fb4747a6c6d20dea0b8c802d7ef   \n2      47770eb9100c2d0c44946d9cf07ec65d  41ce2a54c0b03bf3443c3d931a367089   \n3      949d5b44dbf5de918fe9c16f97b45f8a  f88197465ea7920adcdbec7375364d82   \n4      ad21c59c0840e6cb83a9ceb5573f8159  8ab97904e6daea8866dbdbc4fb7aad2c   \n...                                 ...                               ...   \n99436  9c5dedf39a927c1b2549525ed64a053c  39bd1228ee8140590ac3aca26f2dfe00   \n99437  63943bddc261676b46f01ca7ac2f7bd8  1fca14ff2861355f6e5f14306ff977a7   \n99438  83c1379a015df1e13d02aae0204711ab  1aa71eb042121263aafbe80c1b562c9c   \n99439  11c177c8e97725db2631073c19f07b62  b331b74b18dc79bcdf6532d51e1637c1   \n99440  66dea50a8b16d9b4dee7af250b4be1a5  edb027a75a1449115f6b43211ae02a24   \n\n      order_status order_purchase_timestamp    order_approved_at  \\\n0        delivered      2017-10-02 10:56:33  2017-10-02 11:07:15   \n1        delivered      2018-07-24 20:41:37  2018-07-26 03:24:27   \n2        delivered      2018-08-08 08:38:49  2018-08-08 08:55:23   \n3        delivered      2017-11-18 19:28:06  2017-11-18 19:45:59   \n4        delivered      2018-02-13 21:18:39  2018-02-13 22:20:29   \n...            ...                      ...                  ...   \n99436    delivered      2017-03-09 09:54:05  2017-03-09 09:54:05   \n99437    delivered      2018-02-06 12:58:58  2018-02-06 13:10:37   \n99438    delivered      2017-08-27 14:46:43  2017-08-27 15:04:16   \n99439    delivered      2018-01-08 21:28:27  2018-01-08 21:36:21   \n99440    delivered      2018-03-08 20:57:30  2018-03-09 11:20:28   \n\n      order_delivered_carrier_date order_delivered_customer_date  \\\n0              2017-10-04 19:55:00           2017-10-10 21:25:13   \n1              2018-07-26 14:31:00           2018-08-07 15:27:45   \n2              2018-08-08 13:50:00           2018-08-17 18:06:29   \n3              2017-11-22 13:39:59           2017-12-02 00:28:42   \n4              2018-02-14 19:46:34           2018-02-16 18:17:02   \n...                            ...                           ...   \n99436          2017-03-10 11:18:03           2017-03-17 15:08:01   \n99437          2018-02-07 23:22:42           2018-02-28 17:37:56   \n99438          2017-08-28 20:52:26           2017-09-21 11:24:17   \n99439          2018-01-12 15:35:03           2018-01-25 23:32:54   \n99440          2018-03-09 22:11:59           2018-03-16 13:08:30   \n\n      order_estimated_delivery_date  \n0               2017-10-18 00:00:00  \n1               2018-08-13 00:00:00  \n2               2018-09-04 00:00:00  \n3               2017-12-15 00:00:00  \n4               2018-02-26 00:00:00  \n...                             ...  \n99436           2017-03-28 00:00:00  \n99437           2018-03-02 00:00:00  \n99438           2017-09-27 00:00:00  \n99439           2018-02-15 00:00:00  \n99440           2018-04-03 00:00:00  \n\n[99441 rows x 8 columns]",
      "text/html": "<div>\n<style scoped>\n    .dataframe tbody tr th:only-of-type {\n        vertical-align: middle;\n    }\n\n    .dataframe tbody tr th {\n        vertical-align: top;\n    }\n\n    .dataframe thead th {\n        text-align: right;\n    }\n</style>\n<table border=\"1\" class=\"dataframe\">\n  <thead>\n    <tr style=\"text-align: right;\">\n      <th></th>\n      <th>order_id</th>\n      <th>customer_id</th>\n      <th>order_status</th>\n      <th>order_purchase_timestamp</th>\n      <th>order_approved_at</th>\n      <th>order_delivered_carrier_date</th>\n      <th>order_delivered_customer_date</th>\n      <th>order_estimated_delivery_date</th>\n    </tr>\n  </thead>\n  <tbody>\n    <tr>\n      <th>0</th>\n      <td>e481f51cbdc54678b7cc49136f2d6af7</td>\n      <td>9ef432eb6251297304e76186b10a928d</td>\n      <td>delivered</td>\n      <td>2017-10-02 10:56:33</td>\n      <td>2017-10-02 11:07:15</td>\n      <td>2017-10-04 19:55:00</td>\n      <td>2017-10-10 21:25:13</td>\n      <td>2017-10-18 00:00:00</td>\n    </tr>\n    <tr>\n      <th>1</th>\n      <td>53cdb2fc8bc7dce0b6741e2150273451</td>\n      <td>b0830fb4747a6c6d20dea0b8c802d7ef</td>\n      <td>delivered</td>\n      <td>2018-07-24 20:41:37</td>\n      <td>2018-07-26 03:24:27</td>\n      <td>2018-07-26 14:31:00</td>\n      <td>2018-08-07 15:27:45</td>\n      <td>2018-08-13 00:00:00</td>\n    </tr>\n    <tr>\n      <th>2</th>\n      <td>47770eb9100c2d0c44946d9cf07ec65d</td>\n      <td>41ce2a54c0b03bf3443c3d931a367089</td>\n      <td>delivered</td>\n      <td>2018-08-08 08:38:49</td>\n      <td>2018-08-08 08:55:23</td>\n      <td>2018-08-08 13:50:00</td>\n      <td>2018-08-17 18:06:29</td>\n      <td>2018-09-04 00:00:00</td>\n    </tr>\n    <tr>\n      <th>3</th>\n      <td>949d5b44dbf5de918fe9c16f97b45f8a</td>\n      <td>f88197465ea7920adcdbec7375364d82</td>\n      <td>delivered</td>\n      <td>2017-11-18 19:28:06</td>\n      <td>2017-11-18 19:45:59</td>\n      <td>2017-11-22 13:39:59</td>\n      <td>2017-12-02 00:28:42</td>\n      <td>2017-12-15 00:00:00</td>\n    </tr>\n    <tr>\n      <th>4</th>\n      <td>ad21c59c0840e6cb83a9ceb5573f8159</td>\n      <td>8ab97904e6daea8866dbdbc4fb7aad2c</td>\n      <td>delivered</td>\n      <td>2018-02-13 21:18:39</td>\n      <td>2018-02-13 22:20:29</td>\n      <td>2018-02-14 19:46:34</td>\n      <td>2018-02-16 18:17:02</td>\n      <td>2018-02-26 00:00:00</td>\n    </tr>\n    <tr>\n      <th>...</th>\n      <td>...</td>\n      <td>...</td>\n      <td>...</td>\n      <td>...</td>\n      <td>...</td>\n      <td>...</td>\n      <td>...</td>\n      <td>...</td>\n    </tr>\n    <tr>\n      <th>99436</th>\n      <td>9c5dedf39a927c1b2549525ed64a053c</td>\n      <td>39bd1228ee8140590ac3aca26f2dfe00</td>\n      <td>delivered</td>\n      <td>2017-03-09 09:54:05</td>\n      <td>2017-03-09 09:54:05</td>\n      <td>2017-03-10 11:18:03</td>\n      <td>2017-03-17 15:08:01</td>\n      <td>2017-03-28 00:00:00</td>\n    </tr>\n    <tr>\n      <th>99437</th>\n      <td>63943bddc261676b46f01ca7ac2f7bd8</td>\n      <td>1fca14ff2861355f6e5f14306ff977a7</td>\n      <td>delivered</td>\n      <td>2018-02-06 12:58:58</td>\n      <td>2018-02-06 13:10:37</td>\n      <td>2018-02-07 23:22:42</td>\n      <td>2018-02-28 17:37:56</td>\n      <td>2018-03-02 00:00:00</td>\n    </tr>\n    <tr>\n      <th>99438</th>\n      <td>83c1379a015df1e13d02aae0204711ab</td>\n      <td>1aa71eb042121263aafbe80c1b562c9c</td>\n      <td>delivered</td>\n      <td>2017-08-27 14:46:43</td>\n      <td>2017-08-27 15:04:16</td>\n      <td>2017-08-28 20:52:26</td>\n      <td>2017-09-21 11:24:17</td>\n      <td>2017-09-27 00:00:00</td>\n    </tr>\n    <tr>\n      <th>99439</th>\n      <td>11c177c8e97725db2631073c19f07b62</td>\n      <td>b331b74b18dc79bcdf6532d51e1637c1</td>\n      <td>delivered</td>\n      <td>2018-01-08 21:28:27</td>\n      <td>2018-01-08 21:36:21</td>\n      <td>2018-01-12 15:35:03</td>\n      <td>2018-01-25 23:32:54</td>\n      <td>2018-02-15 00:00:00</td>\n    </tr>\n    <tr>\n      <th>99440</th>\n      <td>66dea50a8b16d9b4dee7af250b4be1a5</td>\n      <td>edb027a75a1449115f6b43211ae02a24</td>\n      <td>delivered</td>\n      <td>2018-03-08 20:57:30</td>\n      <td>2018-03-09 11:20:28</td>\n      <td>2018-03-09 22:11:59</td>\n      <td>2018-03-16 13:08:30</td>\n      <td>2018-04-03 00:00:00</td>\n    </tr>\n  </tbody>\n</table>\n<p>99441 rows × 8 columns</p>\n</div>"
     },
     "execution_count": 4,
     "metadata": {},
     "output_type": "execute_result"
    }
   ],
   "source": [
    "orders_df"
   ],
   "metadata": {
    "collapsed": false,
    "ExecuteTime": {
     "end_time": "2024-05-01T08:23:08.704164Z",
     "start_time": "2024-05-01T08:23:08.694837Z"
    }
   },
   "id": "2ed390e685015a36"
  },
  {
   "cell_type": "code",
   "execution_count": 5,
   "outputs": [
    {
     "data": {
      "text/plain": "                                order_id  order_item_id  \\\n0       00010242fe8c5a6d1ba2dd792cb16214              1   \n1       00018f77f2f0320c557190d7a144bdd3              1   \n2       000229ec398224ef6ca0657da4fc703e              1   \n3       00024acbcdf0a6daa1e931b038114c75              1   \n4       00042b26cf59d7ce69dfabb4e55b4fd9              1   \n...                                  ...            ...   \n112645  fffc94f6ce00a00581880bf54a75a037              1   \n112646  fffcd46ef2263f404302a634eb57f7eb              1   \n112647  fffce4705a9662cd70adb13d4a31832d              1   \n112648  fffe18544ffabc95dfada21779c9644f              1   \n112649  fffe41c64501cc87c801fd61db3f6244              1   \n\n                              product_id                         seller_id  \\\n0       4244733e06e7ecb4970a6e2683c13e61  48436dade18ac8b2bce089ec2a041202   \n1       e5f2d52b802189ee658865ca93d83a8f  dd7ddc04e1b6c2c614352b383efe2d36   \n2       c777355d18b72b67abbeef9df44fd0fd  5b51032eddd242adc84c38acab88f23d   \n3       7634da152a4610f1595efa32f14722fc  9d7a1d34a5052409006425275ba1c2b4   \n4       ac6c3623068f30de03045865e4e10089  df560393f3a51e74553ab94004ba5c87   \n...                                  ...                               ...   \n112645  4aa6014eceb682077f9dc4bffebc05b0  b8bc237ba3788b23da09c0f1f3a3288c   \n112646  32e07fd915822b0765e448c4dd74c828  f3c38ab652836d21de61fb8314b69182   \n112647  72a30483855e2eafc67aee5dc2560482  c3cfdc648177fdbbbb35635a37472c53   \n112648  9c422a519119dcad7575db5af1ba540e  2b3e4a2a3ea8e01938cabda2a3e5cc79   \n112649  350688d9dc1e75ff97be326363655e01  f7ccf836d21b2fb1de37564105216cc1   \n\n        shipping_limit_date   price  freight_value  \n0       2017-09-19 09:45:35   58.90          13.29  \n1       2017-05-03 11:05:13  239.90          19.93  \n2       2018-01-18 14:48:30  199.00          17.87  \n3       2018-08-15 10:10:18   12.99          12.79  \n4       2017-02-13 13:57:51  199.90          18.14  \n...                     ...     ...            ...  \n112645  2018-05-02 04:11:01  299.99          43.41  \n112646  2018-07-20 04:31:48  350.00          36.53  \n112647  2017-10-30 17:14:25   99.90          16.95  \n112648  2017-08-21 00:04:32   55.99           8.72  \n112649  2018-06-12 17:10:13   43.00          12.79  \n\n[112650 rows x 7 columns]",
      "text/html": "<div>\n<style scoped>\n    .dataframe tbody tr th:only-of-type {\n        vertical-align: middle;\n    }\n\n    .dataframe tbody tr th {\n        vertical-align: top;\n    }\n\n    .dataframe thead th {\n        text-align: right;\n    }\n</style>\n<table border=\"1\" class=\"dataframe\">\n  <thead>\n    <tr style=\"text-align: right;\">\n      <th></th>\n      <th>order_id</th>\n      <th>order_item_id</th>\n      <th>product_id</th>\n      <th>seller_id</th>\n      <th>shipping_limit_date</th>\n      <th>price</th>\n      <th>freight_value</th>\n    </tr>\n  </thead>\n  <tbody>\n    <tr>\n      <th>0</th>\n      <td>00010242fe8c5a6d1ba2dd792cb16214</td>\n      <td>1</td>\n      <td>4244733e06e7ecb4970a6e2683c13e61</td>\n      <td>48436dade18ac8b2bce089ec2a041202</td>\n      <td>2017-09-19 09:45:35</td>\n      <td>58.90</td>\n      <td>13.29</td>\n    </tr>\n    <tr>\n      <th>1</th>\n      <td>00018f77f2f0320c557190d7a144bdd3</td>\n      <td>1</td>\n      <td>e5f2d52b802189ee658865ca93d83a8f</td>\n      <td>dd7ddc04e1b6c2c614352b383efe2d36</td>\n      <td>2017-05-03 11:05:13</td>\n      <td>239.90</td>\n      <td>19.93</td>\n    </tr>\n    <tr>\n      <th>2</th>\n      <td>000229ec398224ef6ca0657da4fc703e</td>\n      <td>1</td>\n      <td>c777355d18b72b67abbeef9df44fd0fd</td>\n      <td>5b51032eddd242adc84c38acab88f23d</td>\n      <td>2018-01-18 14:48:30</td>\n      <td>199.00</td>\n      <td>17.87</td>\n    </tr>\n    <tr>\n      <th>3</th>\n      <td>00024acbcdf0a6daa1e931b038114c75</td>\n      <td>1</td>\n      <td>7634da152a4610f1595efa32f14722fc</td>\n      <td>9d7a1d34a5052409006425275ba1c2b4</td>\n      <td>2018-08-15 10:10:18</td>\n      <td>12.99</td>\n      <td>12.79</td>\n    </tr>\n    <tr>\n      <th>4</th>\n      <td>00042b26cf59d7ce69dfabb4e55b4fd9</td>\n      <td>1</td>\n      <td>ac6c3623068f30de03045865e4e10089</td>\n      <td>df560393f3a51e74553ab94004ba5c87</td>\n      <td>2017-02-13 13:57:51</td>\n      <td>199.90</td>\n      <td>18.14</td>\n    </tr>\n    <tr>\n      <th>...</th>\n      <td>...</td>\n      <td>...</td>\n      <td>...</td>\n      <td>...</td>\n      <td>...</td>\n      <td>...</td>\n      <td>...</td>\n    </tr>\n    <tr>\n      <th>112645</th>\n      <td>fffc94f6ce00a00581880bf54a75a037</td>\n      <td>1</td>\n      <td>4aa6014eceb682077f9dc4bffebc05b0</td>\n      <td>b8bc237ba3788b23da09c0f1f3a3288c</td>\n      <td>2018-05-02 04:11:01</td>\n      <td>299.99</td>\n      <td>43.41</td>\n    </tr>\n    <tr>\n      <th>112646</th>\n      <td>fffcd46ef2263f404302a634eb57f7eb</td>\n      <td>1</td>\n      <td>32e07fd915822b0765e448c4dd74c828</td>\n      <td>f3c38ab652836d21de61fb8314b69182</td>\n      <td>2018-07-20 04:31:48</td>\n      <td>350.00</td>\n      <td>36.53</td>\n    </tr>\n    <tr>\n      <th>112647</th>\n      <td>fffce4705a9662cd70adb13d4a31832d</td>\n      <td>1</td>\n      <td>72a30483855e2eafc67aee5dc2560482</td>\n      <td>c3cfdc648177fdbbbb35635a37472c53</td>\n      <td>2017-10-30 17:14:25</td>\n      <td>99.90</td>\n      <td>16.95</td>\n    </tr>\n    <tr>\n      <th>112648</th>\n      <td>fffe18544ffabc95dfada21779c9644f</td>\n      <td>1</td>\n      <td>9c422a519119dcad7575db5af1ba540e</td>\n      <td>2b3e4a2a3ea8e01938cabda2a3e5cc79</td>\n      <td>2017-08-21 00:04:32</td>\n      <td>55.99</td>\n      <td>8.72</td>\n    </tr>\n    <tr>\n      <th>112649</th>\n      <td>fffe41c64501cc87c801fd61db3f6244</td>\n      <td>1</td>\n      <td>350688d9dc1e75ff97be326363655e01</td>\n      <td>f7ccf836d21b2fb1de37564105216cc1</td>\n      <td>2018-06-12 17:10:13</td>\n      <td>43.00</td>\n      <td>12.79</td>\n    </tr>\n  </tbody>\n</table>\n<p>112650 rows × 7 columns</p>\n</div>"
     },
     "execution_count": 5,
     "metadata": {},
     "output_type": "execute_result"
    }
   ],
   "source": [
    "items_df"
   ],
   "metadata": {
    "collapsed": false,
    "ExecuteTime": {
     "end_time": "2024-05-01T08:23:08.709730Z",
     "start_time": "2024-05-01T08:23:08.704253Z"
    }
   },
   "id": "f23f9f0af68e0515"
  },
  {
   "cell_type": "code",
   "execution_count": 6,
   "outputs": [
    {
     "data": {
      "text/plain": "                             product_id              product_category_name  \\\n0      1e9e8ef04dbcff4541ed26657ea517e5                         perfumaria   \n1      3aa071139cb16b67ca9e5dea641aaa2f                              artes   \n2      96bd76ec8810374ed1b65e291975717f                      esporte_lazer   \n3      cef67bcfe19066a932b7673e239eb23d                              bebes   \n4      9dc1a7de274444849c219cff195d0b71              utilidades_domesticas   \n...                                 ...                                ...   \n32946  a0b7d5a992ccda646f2d34e418fff5a0                   moveis_decoracao   \n32947  bf4538d88321d0fd4412a93c974510e6  construcao_ferramentas_iluminacao   \n32948  9a7c6041fa9592d9d9ef6cfe62a71f8c                    cama_mesa_banho   \n32949  83808703fc0706a22e264b9d75f04a2e             informatica_acessorios   \n32950  106392145fca363410d287a815be6de4                    cama_mesa_banho   \n\n       product_name_lenght  product_description_lenght  product_photos_qty  \\\n0                     40.0                       287.0                 1.0   \n1                     44.0                       276.0                 1.0   \n2                     46.0                       250.0                 1.0   \n3                     27.0                       261.0                 1.0   \n4                     37.0                       402.0                 4.0   \n...                    ...                         ...                 ...   \n32946                 45.0                        67.0                 2.0   \n32947                 41.0                       971.0                 1.0   \n32948                 50.0                       799.0                 1.0   \n32949                 60.0                       156.0                 2.0   \n32950                 58.0                       309.0                 1.0   \n\n       product_weight_g  product_length_cm  product_height_cm  \\\n0                 225.0               16.0               10.0   \n1                1000.0               30.0               18.0   \n2                 154.0               18.0                9.0   \n3                 371.0               26.0                4.0   \n4                 625.0               20.0               17.0   \n...                 ...                ...                ...   \n32946           12300.0               40.0               40.0   \n32947            1700.0               16.0               19.0   \n32948            1400.0               27.0                7.0   \n32949             700.0               31.0               13.0   \n32950            2083.0               12.0                2.0   \n\n       product_width_cm  \n0                  14.0  \n1                  20.0  \n2                  15.0  \n3                  26.0  \n4                  13.0  \n...                 ...  \n32946              40.0  \n32947              16.0  \n32948              27.0  \n32949              20.0  \n32950               7.0  \n\n[32951 rows x 9 columns]",
      "text/html": "<div>\n<style scoped>\n    .dataframe tbody tr th:only-of-type {\n        vertical-align: middle;\n    }\n\n    .dataframe tbody tr th {\n        vertical-align: top;\n    }\n\n    .dataframe thead th {\n        text-align: right;\n    }\n</style>\n<table border=\"1\" class=\"dataframe\">\n  <thead>\n    <tr style=\"text-align: right;\">\n      <th></th>\n      <th>product_id</th>\n      <th>product_category_name</th>\n      <th>product_name_lenght</th>\n      <th>product_description_lenght</th>\n      <th>product_photos_qty</th>\n      <th>product_weight_g</th>\n      <th>product_length_cm</th>\n      <th>product_height_cm</th>\n      <th>product_width_cm</th>\n    </tr>\n  </thead>\n  <tbody>\n    <tr>\n      <th>0</th>\n      <td>1e9e8ef04dbcff4541ed26657ea517e5</td>\n      <td>perfumaria</td>\n      <td>40.0</td>\n      <td>287.0</td>\n      <td>1.0</td>\n      <td>225.0</td>\n      <td>16.0</td>\n      <td>10.0</td>\n      <td>14.0</td>\n    </tr>\n    <tr>\n      <th>1</th>\n      <td>3aa071139cb16b67ca9e5dea641aaa2f</td>\n      <td>artes</td>\n      <td>44.0</td>\n      <td>276.0</td>\n      <td>1.0</td>\n      <td>1000.0</td>\n      <td>30.0</td>\n      <td>18.0</td>\n      <td>20.0</td>\n    </tr>\n    <tr>\n      <th>2</th>\n      <td>96bd76ec8810374ed1b65e291975717f</td>\n      <td>esporte_lazer</td>\n      <td>46.0</td>\n      <td>250.0</td>\n      <td>1.0</td>\n      <td>154.0</td>\n      <td>18.0</td>\n      <td>9.0</td>\n      <td>15.0</td>\n    </tr>\n    <tr>\n      <th>3</th>\n      <td>cef67bcfe19066a932b7673e239eb23d</td>\n      <td>bebes</td>\n      <td>27.0</td>\n      <td>261.0</td>\n      <td>1.0</td>\n      <td>371.0</td>\n      <td>26.0</td>\n      <td>4.0</td>\n      <td>26.0</td>\n    </tr>\n    <tr>\n      <th>4</th>\n      <td>9dc1a7de274444849c219cff195d0b71</td>\n      <td>utilidades_domesticas</td>\n      <td>37.0</td>\n      <td>402.0</td>\n      <td>4.0</td>\n      <td>625.0</td>\n      <td>20.0</td>\n      <td>17.0</td>\n      <td>13.0</td>\n    </tr>\n    <tr>\n      <th>...</th>\n      <td>...</td>\n      <td>...</td>\n      <td>...</td>\n      <td>...</td>\n      <td>...</td>\n      <td>...</td>\n      <td>...</td>\n      <td>...</td>\n      <td>...</td>\n    </tr>\n    <tr>\n      <th>32946</th>\n      <td>a0b7d5a992ccda646f2d34e418fff5a0</td>\n      <td>moveis_decoracao</td>\n      <td>45.0</td>\n      <td>67.0</td>\n      <td>2.0</td>\n      <td>12300.0</td>\n      <td>40.0</td>\n      <td>40.0</td>\n      <td>40.0</td>\n    </tr>\n    <tr>\n      <th>32947</th>\n      <td>bf4538d88321d0fd4412a93c974510e6</td>\n      <td>construcao_ferramentas_iluminacao</td>\n      <td>41.0</td>\n      <td>971.0</td>\n      <td>1.0</td>\n      <td>1700.0</td>\n      <td>16.0</td>\n      <td>19.0</td>\n      <td>16.0</td>\n    </tr>\n    <tr>\n      <th>32948</th>\n      <td>9a7c6041fa9592d9d9ef6cfe62a71f8c</td>\n      <td>cama_mesa_banho</td>\n      <td>50.0</td>\n      <td>799.0</td>\n      <td>1.0</td>\n      <td>1400.0</td>\n      <td>27.0</td>\n      <td>7.0</td>\n      <td>27.0</td>\n    </tr>\n    <tr>\n      <th>32949</th>\n      <td>83808703fc0706a22e264b9d75f04a2e</td>\n      <td>informatica_acessorios</td>\n      <td>60.0</td>\n      <td>156.0</td>\n      <td>2.0</td>\n      <td>700.0</td>\n      <td>31.0</td>\n      <td>13.0</td>\n      <td>20.0</td>\n    </tr>\n    <tr>\n      <th>32950</th>\n      <td>106392145fca363410d287a815be6de4</td>\n      <td>cama_mesa_banho</td>\n      <td>58.0</td>\n      <td>309.0</td>\n      <td>1.0</td>\n      <td>2083.0</td>\n      <td>12.0</td>\n      <td>2.0</td>\n      <td>7.0</td>\n    </tr>\n  </tbody>\n</table>\n<p>32951 rows × 9 columns</p>\n</div>"
     },
     "execution_count": 6,
     "metadata": {},
     "output_type": "execute_result"
    }
   ],
   "source": [
    "products_df"
   ],
   "metadata": {
    "collapsed": false,
    "ExecuteTime": {
     "end_time": "2024-05-01T08:23:08.726742Z",
     "start_time": "2024-05-01T08:23:08.708761Z"
    }
   },
   "id": "eb7839f8affd9a1e"
  },
  {
   "cell_type": "code",
   "execution_count": 7,
   "outputs": [
    {
     "data": {
      "text/plain": "                             seller_id  seller_zip_code_prefix  \\\n0     3442f8959a84dea7ee197c632cb2df15                   13023   \n1     d1b65fc7debc3361ea86b5f14c68d2e2                   13844   \n2     ce3ad9de960102d0677a81f5d0bb7b2d                   20031   \n3     c0f3eea2e14555b6faeea3dd58c1b1c3                    4195   \n4     51a04a8a6bdcb23deccc82b0b80742cf                   12914   \n...                                ...                     ...   \n3090  98dddbc4601dd4443ca174359b237166                   87111   \n3091  f8201cab383e484733266d1906e2fdfa                   88137   \n3092  74871d19219c7d518d0090283e03c137                    4650   \n3093  e603cf3fec55f8697c9059638d6c8eb5                   96080   \n3094  9e25199f6ef7e7c347120ff175652c3b                   12051   \n\n            seller_city seller_state  \n0              campinas           SP  \n1            mogi guacu           SP  \n2        rio de janeiro           RJ  \n3             sao paulo           SP  \n4     braganca paulista           SP  \n...                 ...          ...  \n3090            sarandi           PR  \n3091            palhoca           SC  \n3092          sao paulo           SP  \n3093            pelotas           RS  \n3094            taubate           SP  \n\n[3095 rows x 4 columns]",
      "text/html": "<div>\n<style scoped>\n    .dataframe tbody tr th:only-of-type {\n        vertical-align: middle;\n    }\n\n    .dataframe tbody tr th {\n        vertical-align: top;\n    }\n\n    .dataframe thead th {\n        text-align: right;\n    }\n</style>\n<table border=\"1\" class=\"dataframe\">\n  <thead>\n    <tr style=\"text-align: right;\">\n      <th></th>\n      <th>seller_id</th>\n      <th>seller_zip_code_prefix</th>\n      <th>seller_city</th>\n      <th>seller_state</th>\n    </tr>\n  </thead>\n  <tbody>\n    <tr>\n      <th>0</th>\n      <td>3442f8959a84dea7ee197c632cb2df15</td>\n      <td>13023</td>\n      <td>campinas</td>\n      <td>SP</td>\n    </tr>\n    <tr>\n      <th>1</th>\n      <td>d1b65fc7debc3361ea86b5f14c68d2e2</td>\n      <td>13844</td>\n      <td>mogi guacu</td>\n      <td>SP</td>\n    </tr>\n    <tr>\n      <th>2</th>\n      <td>ce3ad9de960102d0677a81f5d0bb7b2d</td>\n      <td>20031</td>\n      <td>rio de janeiro</td>\n      <td>RJ</td>\n    </tr>\n    <tr>\n      <th>3</th>\n      <td>c0f3eea2e14555b6faeea3dd58c1b1c3</td>\n      <td>4195</td>\n      <td>sao paulo</td>\n      <td>SP</td>\n    </tr>\n    <tr>\n      <th>4</th>\n      <td>51a04a8a6bdcb23deccc82b0b80742cf</td>\n      <td>12914</td>\n      <td>braganca paulista</td>\n      <td>SP</td>\n    </tr>\n    <tr>\n      <th>...</th>\n      <td>...</td>\n      <td>...</td>\n      <td>...</td>\n      <td>...</td>\n    </tr>\n    <tr>\n      <th>3090</th>\n      <td>98dddbc4601dd4443ca174359b237166</td>\n      <td>87111</td>\n      <td>sarandi</td>\n      <td>PR</td>\n    </tr>\n    <tr>\n      <th>3091</th>\n      <td>f8201cab383e484733266d1906e2fdfa</td>\n      <td>88137</td>\n      <td>palhoca</td>\n      <td>SC</td>\n    </tr>\n    <tr>\n      <th>3092</th>\n      <td>74871d19219c7d518d0090283e03c137</td>\n      <td>4650</td>\n      <td>sao paulo</td>\n      <td>SP</td>\n    </tr>\n    <tr>\n      <th>3093</th>\n      <td>e603cf3fec55f8697c9059638d6c8eb5</td>\n      <td>96080</td>\n      <td>pelotas</td>\n      <td>RS</td>\n    </tr>\n    <tr>\n      <th>3094</th>\n      <td>9e25199f6ef7e7c347120ff175652c3b</td>\n      <td>12051</td>\n      <td>taubate</td>\n      <td>SP</td>\n    </tr>\n  </tbody>\n</table>\n<p>3095 rows × 4 columns</p>\n</div>"
     },
     "execution_count": 7,
     "metadata": {},
     "output_type": "execute_result"
    }
   ],
   "source": [
    "sellers_df"
   ],
   "metadata": {
    "collapsed": false,
    "ExecuteTime": {
     "end_time": "2024-05-01T08:23:08.728041Z",
     "start_time": "2024-05-01T08:23:08.716570Z"
    }
   },
   "id": "229d4f4c217ffe09"
  },
  {
   "cell_type": "code",
   "execution_count": 8,
   "outputs": [],
   "source": [
    "merged_df = pd.merge(orders_df, items_df,on=\"order_id\")"
   ],
   "metadata": {
    "collapsed": false,
    "ExecuteTime": {
     "end_time": "2024-05-01T08:23:08.826246Z",
     "start_time": "2024-05-01T08:23:08.726836Z"
    }
   },
   "id": "915d90897ef6ffe3"
  },
  {
   "cell_type": "code",
   "execution_count": 9,
   "outputs": [
    {
     "data": {
      "text/plain": "                                order_id                       customer_id  \\\n0       e481f51cbdc54678b7cc49136f2d6af7  9ef432eb6251297304e76186b10a928d   \n1       53cdb2fc8bc7dce0b6741e2150273451  b0830fb4747a6c6d20dea0b8c802d7ef   \n2       47770eb9100c2d0c44946d9cf07ec65d  41ce2a54c0b03bf3443c3d931a367089   \n3       949d5b44dbf5de918fe9c16f97b45f8a  f88197465ea7920adcdbec7375364d82   \n4       ad21c59c0840e6cb83a9ceb5573f8159  8ab97904e6daea8866dbdbc4fb7aad2c   \n...                                  ...                               ...   \n112645  63943bddc261676b46f01ca7ac2f7bd8  1fca14ff2861355f6e5f14306ff977a7   \n112646  83c1379a015df1e13d02aae0204711ab  1aa71eb042121263aafbe80c1b562c9c   \n112647  11c177c8e97725db2631073c19f07b62  b331b74b18dc79bcdf6532d51e1637c1   \n112648  11c177c8e97725db2631073c19f07b62  b331b74b18dc79bcdf6532d51e1637c1   \n112649  66dea50a8b16d9b4dee7af250b4be1a5  edb027a75a1449115f6b43211ae02a24   \n\n       order_status order_purchase_timestamp    order_approved_at  \\\n0         delivered      2017-10-02 10:56:33  2017-10-02 11:07:15   \n1         delivered      2018-07-24 20:41:37  2018-07-26 03:24:27   \n2         delivered      2018-08-08 08:38:49  2018-08-08 08:55:23   \n3         delivered      2017-11-18 19:28:06  2017-11-18 19:45:59   \n4         delivered      2018-02-13 21:18:39  2018-02-13 22:20:29   \n...             ...                      ...                  ...   \n112645    delivered      2018-02-06 12:58:58  2018-02-06 13:10:37   \n112646    delivered      2017-08-27 14:46:43  2017-08-27 15:04:16   \n112647    delivered      2018-01-08 21:28:27  2018-01-08 21:36:21   \n112648    delivered      2018-01-08 21:28:27  2018-01-08 21:36:21   \n112649    delivered      2018-03-08 20:57:30  2018-03-09 11:20:28   \n\n       order_delivered_carrier_date order_delivered_customer_date  \\\n0               2017-10-04 19:55:00           2017-10-10 21:25:13   \n1               2018-07-26 14:31:00           2018-08-07 15:27:45   \n2               2018-08-08 13:50:00           2018-08-17 18:06:29   \n3               2017-11-22 13:39:59           2017-12-02 00:28:42   \n4               2018-02-14 19:46:34           2018-02-16 18:17:02   \n...                             ...                           ...   \n112645          2018-02-07 23:22:42           2018-02-28 17:37:56   \n112646          2017-08-28 20:52:26           2017-09-21 11:24:17   \n112647          2018-01-12 15:35:03           2018-01-25 23:32:54   \n112648          2018-01-12 15:35:03           2018-01-25 23:32:54   \n112649          2018-03-09 22:11:59           2018-03-16 13:08:30   \n\n       order_estimated_delivery_date  order_item_id  \\\n0                2017-10-18 00:00:00              1   \n1                2018-08-13 00:00:00              1   \n2                2018-09-04 00:00:00              1   \n3                2017-12-15 00:00:00              1   \n4                2018-02-26 00:00:00              1   \n...                              ...            ...   \n112645           2018-03-02 00:00:00              1   \n112646           2017-09-27 00:00:00              1   \n112647           2018-02-15 00:00:00              1   \n112648           2018-02-15 00:00:00              2   \n112649           2018-04-03 00:00:00              1   \n\n                              product_id                         seller_id  \\\n0       87285b34884572647811a353c7ac498a  3504c0cb71d7fa48d967e0e4c94d59d9   \n1       595fac2a385ac33a80bd5114aec74eb8  289cdb325fb7e7f891c38608bf9e0962   \n2       aa4383b373c6aca5d8797843e5594415  4869f7a5dfa277a7dca6462dcf3b52b2   \n3       d0b61bfb1de832b15ba9d266ca96e5b0  66922902710d126a0e7d26b0e3805106   \n4       65266b2da20d04dbe00c5c2d3bb7859e  2c9e548be18521d1c43cde1c582c6de8   \n...                                  ...                               ...   \n112645  f1d4ce8c6dd66c47bbaa8c6781c2a923  1f9ab4708f3056ede07124aad39a2554   \n112646  b80910977a37536adeddd63663f916ad  d50d79cb34e38265a8649c383dcffd48   \n112647  d1c427060a0f73f6b889a5c7c61f2ac4  a1043bafd471dff536d0c462352beb48   \n112648  d1c427060a0f73f6b889a5c7c61f2ac4  a1043bafd471dff536d0c462352beb48   \n112649  006619bbed68b000c8ba3f8725d5409e  ececbfcff9804a2d6b40f589df8eef2b   \n\n        shipping_limit_date   price  freight_value  \n0       2017-10-06 11:07:15   29.99           8.72  \n1       2018-07-30 03:24:27  118.70          22.76  \n2       2018-08-13 08:55:23  159.90          19.22  \n3       2017-11-23 19:45:59   45.00          27.20  \n4       2018-02-19 20:31:37   19.90           8.72  \n...                     ...     ...            ...  \n112645  2018-02-12 13:10:37  174.90          20.10  \n112646  2017-09-05 15:04:16  205.99          65.02  \n112647  2018-01-12 21:36:21  179.99          40.59  \n112648  2018-01-12 21:36:21  179.99          40.59  \n112649  2018-03-15 10:55:42   68.50          18.36  \n\n[112650 rows x 14 columns]",
      "text/html": "<div>\n<style scoped>\n    .dataframe tbody tr th:only-of-type {\n        vertical-align: middle;\n    }\n\n    .dataframe tbody tr th {\n        vertical-align: top;\n    }\n\n    .dataframe thead th {\n        text-align: right;\n    }\n</style>\n<table border=\"1\" class=\"dataframe\">\n  <thead>\n    <tr style=\"text-align: right;\">\n      <th></th>\n      <th>order_id</th>\n      <th>customer_id</th>\n      <th>order_status</th>\n      <th>order_purchase_timestamp</th>\n      <th>order_approved_at</th>\n      <th>order_delivered_carrier_date</th>\n      <th>order_delivered_customer_date</th>\n      <th>order_estimated_delivery_date</th>\n      <th>order_item_id</th>\n      <th>product_id</th>\n      <th>seller_id</th>\n      <th>shipping_limit_date</th>\n      <th>price</th>\n      <th>freight_value</th>\n    </tr>\n  </thead>\n  <tbody>\n    <tr>\n      <th>0</th>\n      <td>e481f51cbdc54678b7cc49136f2d6af7</td>\n      <td>9ef432eb6251297304e76186b10a928d</td>\n      <td>delivered</td>\n      <td>2017-10-02 10:56:33</td>\n      <td>2017-10-02 11:07:15</td>\n      <td>2017-10-04 19:55:00</td>\n      <td>2017-10-10 21:25:13</td>\n      <td>2017-10-18 00:00:00</td>\n      <td>1</td>\n      <td>87285b34884572647811a353c7ac498a</td>\n      <td>3504c0cb71d7fa48d967e0e4c94d59d9</td>\n      <td>2017-10-06 11:07:15</td>\n      <td>29.99</td>\n      <td>8.72</td>\n    </tr>\n    <tr>\n      <th>1</th>\n      <td>53cdb2fc8bc7dce0b6741e2150273451</td>\n      <td>b0830fb4747a6c6d20dea0b8c802d7ef</td>\n      <td>delivered</td>\n      <td>2018-07-24 20:41:37</td>\n      <td>2018-07-26 03:24:27</td>\n      <td>2018-07-26 14:31:00</td>\n      <td>2018-08-07 15:27:45</td>\n      <td>2018-08-13 00:00:00</td>\n      <td>1</td>\n      <td>595fac2a385ac33a80bd5114aec74eb8</td>\n      <td>289cdb325fb7e7f891c38608bf9e0962</td>\n      <td>2018-07-30 03:24:27</td>\n      <td>118.70</td>\n      <td>22.76</td>\n    </tr>\n    <tr>\n      <th>2</th>\n      <td>47770eb9100c2d0c44946d9cf07ec65d</td>\n      <td>41ce2a54c0b03bf3443c3d931a367089</td>\n      <td>delivered</td>\n      <td>2018-08-08 08:38:49</td>\n      <td>2018-08-08 08:55:23</td>\n      <td>2018-08-08 13:50:00</td>\n      <td>2018-08-17 18:06:29</td>\n      <td>2018-09-04 00:00:00</td>\n      <td>1</td>\n      <td>aa4383b373c6aca5d8797843e5594415</td>\n      <td>4869f7a5dfa277a7dca6462dcf3b52b2</td>\n      <td>2018-08-13 08:55:23</td>\n      <td>159.90</td>\n      <td>19.22</td>\n    </tr>\n    <tr>\n      <th>3</th>\n      <td>949d5b44dbf5de918fe9c16f97b45f8a</td>\n      <td>f88197465ea7920adcdbec7375364d82</td>\n      <td>delivered</td>\n      <td>2017-11-18 19:28:06</td>\n      <td>2017-11-18 19:45:59</td>\n      <td>2017-11-22 13:39:59</td>\n      <td>2017-12-02 00:28:42</td>\n      <td>2017-12-15 00:00:00</td>\n      <td>1</td>\n      <td>d0b61bfb1de832b15ba9d266ca96e5b0</td>\n      <td>66922902710d126a0e7d26b0e3805106</td>\n      <td>2017-11-23 19:45:59</td>\n      <td>45.00</td>\n      <td>27.20</td>\n    </tr>\n    <tr>\n      <th>4</th>\n      <td>ad21c59c0840e6cb83a9ceb5573f8159</td>\n      <td>8ab97904e6daea8866dbdbc4fb7aad2c</td>\n      <td>delivered</td>\n      <td>2018-02-13 21:18:39</td>\n      <td>2018-02-13 22:20:29</td>\n      <td>2018-02-14 19:46:34</td>\n      <td>2018-02-16 18:17:02</td>\n      <td>2018-02-26 00:00:00</td>\n      <td>1</td>\n      <td>65266b2da20d04dbe00c5c2d3bb7859e</td>\n      <td>2c9e548be18521d1c43cde1c582c6de8</td>\n      <td>2018-02-19 20:31:37</td>\n      <td>19.90</td>\n      <td>8.72</td>\n    </tr>\n    <tr>\n      <th>...</th>\n      <td>...</td>\n      <td>...</td>\n      <td>...</td>\n      <td>...</td>\n      <td>...</td>\n      <td>...</td>\n      <td>...</td>\n      <td>...</td>\n      <td>...</td>\n      <td>...</td>\n      <td>...</td>\n      <td>...</td>\n      <td>...</td>\n      <td>...</td>\n    </tr>\n    <tr>\n      <th>112645</th>\n      <td>63943bddc261676b46f01ca7ac2f7bd8</td>\n      <td>1fca14ff2861355f6e5f14306ff977a7</td>\n      <td>delivered</td>\n      <td>2018-02-06 12:58:58</td>\n      <td>2018-02-06 13:10:37</td>\n      <td>2018-02-07 23:22:42</td>\n      <td>2018-02-28 17:37:56</td>\n      <td>2018-03-02 00:00:00</td>\n      <td>1</td>\n      <td>f1d4ce8c6dd66c47bbaa8c6781c2a923</td>\n      <td>1f9ab4708f3056ede07124aad39a2554</td>\n      <td>2018-02-12 13:10:37</td>\n      <td>174.90</td>\n      <td>20.10</td>\n    </tr>\n    <tr>\n      <th>112646</th>\n      <td>83c1379a015df1e13d02aae0204711ab</td>\n      <td>1aa71eb042121263aafbe80c1b562c9c</td>\n      <td>delivered</td>\n      <td>2017-08-27 14:46:43</td>\n      <td>2017-08-27 15:04:16</td>\n      <td>2017-08-28 20:52:26</td>\n      <td>2017-09-21 11:24:17</td>\n      <td>2017-09-27 00:00:00</td>\n      <td>1</td>\n      <td>b80910977a37536adeddd63663f916ad</td>\n      <td>d50d79cb34e38265a8649c383dcffd48</td>\n      <td>2017-09-05 15:04:16</td>\n      <td>205.99</td>\n      <td>65.02</td>\n    </tr>\n    <tr>\n      <th>112647</th>\n      <td>11c177c8e97725db2631073c19f07b62</td>\n      <td>b331b74b18dc79bcdf6532d51e1637c1</td>\n      <td>delivered</td>\n      <td>2018-01-08 21:28:27</td>\n      <td>2018-01-08 21:36:21</td>\n      <td>2018-01-12 15:35:03</td>\n      <td>2018-01-25 23:32:54</td>\n      <td>2018-02-15 00:00:00</td>\n      <td>1</td>\n      <td>d1c427060a0f73f6b889a5c7c61f2ac4</td>\n      <td>a1043bafd471dff536d0c462352beb48</td>\n      <td>2018-01-12 21:36:21</td>\n      <td>179.99</td>\n      <td>40.59</td>\n    </tr>\n    <tr>\n      <th>112648</th>\n      <td>11c177c8e97725db2631073c19f07b62</td>\n      <td>b331b74b18dc79bcdf6532d51e1637c1</td>\n      <td>delivered</td>\n      <td>2018-01-08 21:28:27</td>\n      <td>2018-01-08 21:36:21</td>\n      <td>2018-01-12 15:35:03</td>\n      <td>2018-01-25 23:32:54</td>\n      <td>2018-02-15 00:00:00</td>\n      <td>2</td>\n      <td>d1c427060a0f73f6b889a5c7c61f2ac4</td>\n      <td>a1043bafd471dff536d0c462352beb48</td>\n      <td>2018-01-12 21:36:21</td>\n      <td>179.99</td>\n      <td>40.59</td>\n    </tr>\n    <tr>\n      <th>112649</th>\n      <td>66dea50a8b16d9b4dee7af250b4be1a5</td>\n      <td>edb027a75a1449115f6b43211ae02a24</td>\n      <td>delivered</td>\n      <td>2018-03-08 20:57:30</td>\n      <td>2018-03-09 11:20:28</td>\n      <td>2018-03-09 22:11:59</td>\n      <td>2018-03-16 13:08:30</td>\n      <td>2018-04-03 00:00:00</td>\n      <td>1</td>\n      <td>006619bbed68b000c8ba3f8725d5409e</td>\n      <td>ececbfcff9804a2d6b40f589df8eef2b</td>\n      <td>2018-03-15 10:55:42</td>\n      <td>68.50</td>\n      <td>18.36</td>\n    </tr>\n  </tbody>\n</table>\n<p>112650 rows × 14 columns</p>\n</div>"
     },
     "execution_count": 9,
     "metadata": {},
     "output_type": "execute_result"
    }
   ],
   "source": [
    "merged_df"
   ],
   "metadata": {
    "collapsed": false,
    "ExecuteTime": {
     "end_time": "2024-05-01T08:23:08.826796Z",
     "start_time": "2024-05-01T08:23:08.798522Z"
    }
   },
   "id": "992b7e361199717d"
  },
  {
   "cell_type": "markdown",
   "source": [
    "### What I want to do : Create a mini graph with nodes as suppliers,products and customers"
   ],
   "metadata": {
    "collapsed": false
   },
   "id": "e5245b2bffc79189"
  },
  {
   "cell_type": "markdown",
   "source": [
    "#### Suppliers node table"
   ],
   "metadata": {
    "collapsed": false
   },
   "id": "5e76df480717109d"
  },
  {
   "cell_type": "code",
   "execution_count": 10,
   "outputs": [],
   "source": [
    "# Creating the suppliers nodes\n",
    "node_table_suppliers = sellers_df.copy()\n",
    "node_table_suppliers['NodeType'] = 'Supplier'"
   ],
   "metadata": {
    "collapsed": false,
    "ExecuteTime": {
     "end_time": "2024-05-01T08:23:08.826873Z",
     "start_time": "2024-05-01T08:23:08.801005Z"
    }
   },
   "id": "2802c3e909e69ba4"
  },
  {
   "cell_type": "code",
   "execution_count": 11,
   "outputs": [
    {
     "data": {
      "text/plain": "seller_id                 3095\nseller_zip_code_prefix    2246\nseller_city                611\nseller_state                23\nNodeType                     1\ndtype: int64"
     },
     "execution_count": 11,
     "metadata": {},
     "output_type": "execute_result"
    }
   ],
   "source": [
    "node_table_suppliers.nunique()"
   ],
   "metadata": {
    "collapsed": false,
    "ExecuteTime": {
     "end_time": "2024-05-01T08:23:08.829689Z",
     "start_time": "2024-05-01T08:23:08.803817Z"
    }
   },
   "id": "f5f0285c68df5308"
  },
  {
   "cell_type": "code",
   "execution_count": 12,
   "outputs": [
    {
     "data": {
      "text/plain": "                             seller_id  seller_zip_code_prefix  \\\n0     3442f8959a84dea7ee197c632cb2df15                   13023   \n1     d1b65fc7debc3361ea86b5f14c68d2e2                   13844   \n2     ce3ad9de960102d0677a81f5d0bb7b2d                   20031   \n3     c0f3eea2e14555b6faeea3dd58c1b1c3                    4195   \n4     51a04a8a6bdcb23deccc82b0b80742cf                   12914   \n...                                ...                     ...   \n3090  98dddbc4601dd4443ca174359b237166                   87111   \n3091  f8201cab383e484733266d1906e2fdfa                   88137   \n3092  74871d19219c7d518d0090283e03c137                    4650   \n3093  e603cf3fec55f8697c9059638d6c8eb5                   96080   \n3094  9e25199f6ef7e7c347120ff175652c3b                   12051   \n\n            seller_city seller_state  NodeType  \n0              campinas           SP  Supplier  \n1            mogi guacu           SP  Supplier  \n2        rio de janeiro           RJ  Supplier  \n3             sao paulo           SP  Supplier  \n4     braganca paulista           SP  Supplier  \n...                 ...          ...       ...  \n3090            sarandi           PR  Supplier  \n3091            palhoca           SC  Supplier  \n3092          sao paulo           SP  Supplier  \n3093            pelotas           RS  Supplier  \n3094            taubate           SP  Supplier  \n\n[3095 rows x 5 columns]",
      "text/html": "<div>\n<style scoped>\n    .dataframe tbody tr th:only-of-type {\n        vertical-align: middle;\n    }\n\n    .dataframe tbody tr th {\n        vertical-align: top;\n    }\n\n    .dataframe thead th {\n        text-align: right;\n    }\n</style>\n<table border=\"1\" class=\"dataframe\">\n  <thead>\n    <tr style=\"text-align: right;\">\n      <th></th>\n      <th>seller_id</th>\n      <th>seller_zip_code_prefix</th>\n      <th>seller_city</th>\n      <th>seller_state</th>\n      <th>NodeType</th>\n    </tr>\n  </thead>\n  <tbody>\n    <tr>\n      <th>0</th>\n      <td>3442f8959a84dea7ee197c632cb2df15</td>\n      <td>13023</td>\n      <td>campinas</td>\n      <td>SP</td>\n      <td>Supplier</td>\n    </tr>\n    <tr>\n      <th>1</th>\n      <td>d1b65fc7debc3361ea86b5f14c68d2e2</td>\n      <td>13844</td>\n      <td>mogi guacu</td>\n      <td>SP</td>\n      <td>Supplier</td>\n    </tr>\n    <tr>\n      <th>2</th>\n      <td>ce3ad9de960102d0677a81f5d0bb7b2d</td>\n      <td>20031</td>\n      <td>rio de janeiro</td>\n      <td>RJ</td>\n      <td>Supplier</td>\n    </tr>\n    <tr>\n      <th>3</th>\n      <td>c0f3eea2e14555b6faeea3dd58c1b1c3</td>\n      <td>4195</td>\n      <td>sao paulo</td>\n      <td>SP</td>\n      <td>Supplier</td>\n    </tr>\n    <tr>\n      <th>4</th>\n      <td>51a04a8a6bdcb23deccc82b0b80742cf</td>\n      <td>12914</td>\n      <td>braganca paulista</td>\n      <td>SP</td>\n      <td>Supplier</td>\n    </tr>\n    <tr>\n      <th>...</th>\n      <td>...</td>\n      <td>...</td>\n      <td>...</td>\n      <td>...</td>\n      <td>...</td>\n    </tr>\n    <tr>\n      <th>3090</th>\n      <td>98dddbc4601dd4443ca174359b237166</td>\n      <td>87111</td>\n      <td>sarandi</td>\n      <td>PR</td>\n      <td>Supplier</td>\n    </tr>\n    <tr>\n      <th>3091</th>\n      <td>f8201cab383e484733266d1906e2fdfa</td>\n      <td>88137</td>\n      <td>palhoca</td>\n      <td>SC</td>\n      <td>Supplier</td>\n    </tr>\n    <tr>\n      <th>3092</th>\n      <td>74871d19219c7d518d0090283e03c137</td>\n      <td>4650</td>\n      <td>sao paulo</td>\n      <td>SP</td>\n      <td>Supplier</td>\n    </tr>\n    <tr>\n      <th>3093</th>\n      <td>e603cf3fec55f8697c9059638d6c8eb5</td>\n      <td>96080</td>\n      <td>pelotas</td>\n      <td>RS</td>\n      <td>Supplier</td>\n    </tr>\n    <tr>\n      <th>3094</th>\n      <td>9e25199f6ef7e7c347120ff175652c3b</td>\n      <td>12051</td>\n      <td>taubate</td>\n      <td>SP</td>\n      <td>Supplier</td>\n    </tr>\n  </tbody>\n</table>\n<p>3095 rows × 5 columns</p>\n</div>"
     },
     "execution_count": 12,
     "metadata": {},
     "output_type": "execute_result"
    }
   ],
   "source": [
    "node_table_suppliers"
   ],
   "metadata": {
    "collapsed": false,
    "ExecuteTime": {
     "end_time": "2024-05-01T08:23:08.873268Z",
     "start_time": "2024-05-01T08:23:08.807891Z"
    }
   },
   "id": "74f71bce283261b9"
  },
  {
   "cell_type": "markdown",
   "source": [
    "#### Products node table"
   ],
   "metadata": {
    "collapsed": false
   },
   "id": "ea86aeefda9a084f"
  },
  {
   "cell_type": "code",
   "execution_count": 13,
   "outputs": [],
   "source": [
    "# Creating the Products Node Table\n",
    "node_table_products = products_df.copy()\n",
    "node_table_products['NodeType'] = 'Product'"
   ],
   "metadata": {
    "collapsed": false,
    "ExecuteTime": {
     "end_time": "2024-05-01T08:23:08.873552Z",
     "start_time": "2024-05-01T08:23:08.812629Z"
    }
   },
   "id": "e54848947bc28c46"
  },
  {
   "cell_type": "code",
   "execution_count": 14,
   "outputs": [
    {
     "data": {
      "text/plain": "product_id                    32951\nproduct_category_name            73\nproduct_name_lenght              66\nproduct_description_lenght     2960\nproduct_photos_qty               19\nproduct_weight_g               2204\nproduct_length_cm                99\nproduct_height_cm               102\nproduct_width_cm                 95\nNodeType                          1\ndtype: int64"
     },
     "execution_count": 14,
     "metadata": {},
     "output_type": "execute_result"
    }
   ],
   "source": [
    "node_table_products.nunique()"
   ],
   "metadata": {
    "collapsed": false,
    "ExecuteTime": {
     "end_time": "2024-05-01T08:23:08.873864Z",
     "start_time": "2024-05-01T08:23:08.816075Z"
    }
   },
   "id": "10eed108994cc006"
  },
  {
   "cell_type": "code",
   "execution_count": 15,
   "outputs": [
    {
     "data": {
      "text/plain": "                             product_id              product_category_name  \\\n0      1e9e8ef04dbcff4541ed26657ea517e5                         perfumaria   \n1      3aa071139cb16b67ca9e5dea641aaa2f                              artes   \n2      96bd76ec8810374ed1b65e291975717f                      esporte_lazer   \n3      cef67bcfe19066a932b7673e239eb23d                              bebes   \n4      9dc1a7de274444849c219cff195d0b71              utilidades_domesticas   \n...                                 ...                                ...   \n32946  a0b7d5a992ccda646f2d34e418fff5a0                   moveis_decoracao   \n32947  bf4538d88321d0fd4412a93c974510e6  construcao_ferramentas_iluminacao   \n32948  9a7c6041fa9592d9d9ef6cfe62a71f8c                    cama_mesa_banho   \n32949  83808703fc0706a22e264b9d75f04a2e             informatica_acessorios   \n32950  106392145fca363410d287a815be6de4                    cama_mesa_banho   \n\n       product_name_lenght  product_description_lenght  product_photos_qty  \\\n0                     40.0                       287.0                 1.0   \n1                     44.0                       276.0                 1.0   \n2                     46.0                       250.0                 1.0   \n3                     27.0                       261.0                 1.0   \n4                     37.0                       402.0                 4.0   \n...                    ...                         ...                 ...   \n32946                 45.0                        67.0                 2.0   \n32947                 41.0                       971.0                 1.0   \n32948                 50.0                       799.0                 1.0   \n32949                 60.0                       156.0                 2.0   \n32950                 58.0                       309.0                 1.0   \n\n       product_weight_g  product_length_cm  product_height_cm  \\\n0                 225.0               16.0               10.0   \n1                1000.0               30.0               18.0   \n2                 154.0               18.0                9.0   \n3                 371.0               26.0                4.0   \n4                 625.0               20.0               17.0   \n...                 ...                ...                ...   \n32946           12300.0               40.0               40.0   \n32947            1700.0               16.0               19.0   \n32948            1400.0               27.0                7.0   \n32949             700.0               31.0               13.0   \n32950            2083.0               12.0                2.0   \n\n       product_width_cm NodeType  \n0                  14.0  Product  \n1                  20.0  Product  \n2                  15.0  Product  \n3                  26.0  Product  \n4                  13.0  Product  \n...                 ...      ...  \n32946              40.0  Product  \n32947              16.0  Product  \n32948              27.0  Product  \n32949              20.0  Product  \n32950               7.0  Product  \n\n[32951 rows x 10 columns]",
      "text/html": "<div>\n<style scoped>\n    .dataframe tbody tr th:only-of-type {\n        vertical-align: middle;\n    }\n\n    .dataframe tbody tr th {\n        vertical-align: top;\n    }\n\n    .dataframe thead th {\n        text-align: right;\n    }\n</style>\n<table border=\"1\" class=\"dataframe\">\n  <thead>\n    <tr style=\"text-align: right;\">\n      <th></th>\n      <th>product_id</th>\n      <th>product_category_name</th>\n      <th>product_name_lenght</th>\n      <th>product_description_lenght</th>\n      <th>product_photos_qty</th>\n      <th>product_weight_g</th>\n      <th>product_length_cm</th>\n      <th>product_height_cm</th>\n      <th>product_width_cm</th>\n      <th>NodeType</th>\n    </tr>\n  </thead>\n  <tbody>\n    <tr>\n      <th>0</th>\n      <td>1e9e8ef04dbcff4541ed26657ea517e5</td>\n      <td>perfumaria</td>\n      <td>40.0</td>\n      <td>287.0</td>\n      <td>1.0</td>\n      <td>225.0</td>\n      <td>16.0</td>\n      <td>10.0</td>\n      <td>14.0</td>\n      <td>Product</td>\n    </tr>\n    <tr>\n      <th>1</th>\n      <td>3aa071139cb16b67ca9e5dea641aaa2f</td>\n      <td>artes</td>\n      <td>44.0</td>\n      <td>276.0</td>\n      <td>1.0</td>\n      <td>1000.0</td>\n      <td>30.0</td>\n      <td>18.0</td>\n      <td>20.0</td>\n      <td>Product</td>\n    </tr>\n    <tr>\n      <th>2</th>\n      <td>96bd76ec8810374ed1b65e291975717f</td>\n      <td>esporte_lazer</td>\n      <td>46.0</td>\n      <td>250.0</td>\n      <td>1.0</td>\n      <td>154.0</td>\n      <td>18.0</td>\n      <td>9.0</td>\n      <td>15.0</td>\n      <td>Product</td>\n    </tr>\n    <tr>\n      <th>3</th>\n      <td>cef67bcfe19066a932b7673e239eb23d</td>\n      <td>bebes</td>\n      <td>27.0</td>\n      <td>261.0</td>\n      <td>1.0</td>\n      <td>371.0</td>\n      <td>26.0</td>\n      <td>4.0</td>\n      <td>26.0</td>\n      <td>Product</td>\n    </tr>\n    <tr>\n      <th>4</th>\n      <td>9dc1a7de274444849c219cff195d0b71</td>\n      <td>utilidades_domesticas</td>\n      <td>37.0</td>\n      <td>402.0</td>\n      <td>4.0</td>\n      <td>625.0</td>\n      <td>20.0</td>\n      <td>17.0</td>\n      <td>13.0</td>\n      <td>Product</td>\n    </tr>\n    <tr>\n      <th>...</th>\n      <td>...</td>\n      <td>...</td>\n      <td>...</td>\n      <td>...</td>\n      <td>...</td>\n      <td>...</td>\n      <td>...</td>\n      <td>...</td>\n      <td>...</td>\n      <td>...</td>\n    </tr>\n    <tr>\n      <th>32946</th>\n      <td>a0b7d5a992ccda646f2d34e418fff5a0</td>\n      <td>moveis_decoracao</td>\n      <td>45.0</td>\n      <td>67.0</td>\n      <td>2.0</td>\n      <td>12300.0</td>\n      <td>40.0</td>\n      <td>40.0</td>\n      <td>40.0</td>\n      <td>Product</td>\n    </tr>\n    <tr>\n      <th>32947</th>\n      <td>bf4538d88321d0fd4412a93c974510e6</td>\n      <td>construcao_ferramentas_iluminacao</td>\n      <td>41.0</td>\n      <td>971.0</td>\n      <td>1.0</td>\n      <td>1700.0</td>\n      <td>16.0</td>\n      <td>19.0</td>\n      <td>16.0</td>\n      <td>Product</td>\n    </tr>\n    <tr>\n      <th>32948</th>\n      <td>9a7c6041fa9592d9d9ef6cfe62a71f8c</td>\n      <td>cama_mesa_banho</td>\n      <td>50.0</td>\n      <td>799.0</td>\n      <td>1.0</td>\n      <td>1400.0</td>\n      <td>27.0</td>\n      <td>7.0</td>\n      <td>27.0</td>\n      <td>Product</td>\n    </tr>\n    <tr>\n      <th>32949</th>\n      <td>83808703fc0706a22e264b9d75f04a2e</td>\n      <td>informatica_acessorios</td>\n      <td>60.0</td>\n      <td>156.0</td>\n      <td>2.0</td>\n      <td>700.0</td>\n      <td>31.0</td>\n      <td>13.0</td>\n      <td>20.0</td>\n      <td>Product</td>\n    </tr>\n    <tr>\n      <th>32950</th>\n      <td>106392145fca363410d287a815be6de4</td>\n      <td>cama_mesa_banho</td>\n      <td>58.0</td>\n      <td>309.0</td>\n      <td>1.0</td>\n      <td>2083.0</td>\n      <td>12.0</td>\n      <td>2.0</td>\n      <td>7.0</td>\n      <td>Product</td>\n    </tr>\n  </tbody>\n</table>\n<p>32951 rows × 10 columns</p>\n</div>"
     },
     "execution_count": 15,
     "metadata": {},
     "output_type": "execute_result"
    }
   ],
   "source": [
    "node_table_products"
   ],
   "metadata": {
    "collapsed": false,
    "ExecuteTime": {
     "end_time": "2024-05-01T08:23:08.884628Z",
     "start_time": "2024-05-01T08:23:08.826628Z"
    }
   },
   "id": "d95412ebcbd37c3d"
  },
  {
   "cell_type": "markdown",
   "source": [
    "#### Customers node table"
   ],
   "metadata": {
    "collapsed": false
   },
   "id": "37611d1ab5310550"
  },
  {
   "cell_type": "code",
   "execution_count": 16,
   "outputs": [],
   "source": [
    "# Creating the Customers Node Table\n",
    "node_table_customers = customers_df.copy()\n",
    "node_table_customers['NodeType'] = 'Customer'"
   ],
   "metadata": {
    "collapsed": false,
    "ExecuteTime": {
     "end_time": "2024-05-01T08:23:08.896429Z",
     "start_time": "2024-05-01T08:23:08.833899Z"
    }
   },
   "id": "efb156206cd2b88f"
  },
  {
   "cell_type": "code",
   "execution_count": 17,
   "outputs": [
    {
     "data": {
      "text/plain": "customer_id                 99441\ncustomer_unique_id          96096\ncustomer_zip_code_prefix    14994\ncustomer_city                4119\ncustomer_state                 27\nNodeType                        1\ndtype: int64"
     },
     "execution_count": 17,
     "metadata": {},
     "output_type": "execute_result"
    }
   ],
   "source": [
    "node_table_customers.nunique()"
   ],
   "metadata": {
    "collapsed": false,
    "ExecuteTime": {
     "end_time": "2024-05-01T08:23:08.932923Z",
     "start_time": "2024-05-01T08:23:08.842033Z"
    }
   },
   "id": "37cddcbfc232f1ce"
  },
  {
   "cell_type": "code",
   "execution_count": 18,
   "outputs": [
    {
     "data": {
      "text/plain": "                            customer_id                customer_unique_id  \\\n0      06b8999e2fba1a1fbc88172c00ba8bc7  861eff4711a542e4b93843c6dd7febb0   \n1      18955e83d337fd6b2def6b18a428ac77  290c77bc529b7ac935b93aa66c333dc3   \n2      4e7b3e00288586ebd08712fdd0374a03  060e732b5b29e8181a18229c7b0b2b5e   \n3      b2b6027bc5c5109e529d4dc6358b12c3  259dac757896d24d7702b9acbbff3f3c   \n4      4f2d8ab171c80ec8364f7c12e35b23ad  345ecd01c38d18a9036ed96c73b8d066   \n...                                 ...                               ...   \n99436  17ddf5dd5d51696bb3d7c6291687be6f  1a29b476fee25c95fbafc67c5ac95cf8   \n99437  e7b71a9017aa05c9a7fd292d714858e8  d52a67c98be1cf6a5c84435bd38d095d   \n99438  5e28dfe12db7fb50a4b2f691faecea5e  e9f50caf99f032f0bf3c55141f019d99   \n99439  56b18e2166679b8a959d72dd06da27f9  73c2643a0a458b49f58cea58833b192e   \n99440  274fa6071e5e17fe303b9748641082c8  84732c5050c01db9b23e19ba39899398   \n\n       customer_zip_code_prefix          customer_city customer_state  \\\n0                         14409                 franca             SP   \n1                          9790  sao bernardo do campo             SP   \n2                          1151              sao paulo             SP   \n3                          8775        mogi das cruzes             SP   \n4                         13056               campinas             SP   \n...                         ...                    ...            ...   \n99436                      3937              sao paulo             SP   \n99437                      6764        taboao da serra             SP   \n99438                     60115              fortaleza             CE   \n99439                     92120                 canoas             RS   \n99440                      6703                  cotia             SP   \n\n       NodeType  \n0      Customer  \n1      Customer  \n2      Customer  \n3      Customer  \n4      Customer  \n...         ...  \n99436  Customer  \n99437  Customer  \n99438  Customer  \n99439  Customer  \n99440  Customer  \n\n[99441 rows x 6 columns]",
      "text/html": "<div>\n<style scoped>\n    .dataframe tbody tr th:only-of-type {\n        vertical-align: middle;\n    }\n\n    .dataframe tbody tr th {\n        vertical-align: top;\n    }\n\n    .dataframe thead th {\n        text-align: right;\n    }\n</style>\n<table border=\"1\" class=\"dataframe\">\n  <thead>\n    <tr style=\"text-align: right;\">\n      <th></th>\n      <th>customer_id</th>\n      <th>customer_unique_id</th>\n      <th>customer_zip_code_prefix</th>\n      <th>customer_city</th>\n      <th>customer_state</th>\n      <th>NodeType</th>\n    </tr>\n  </thead>\n  <tbody>\n    <tr>\n      <th>0</th>\n      <td>06b8999e2fba1a1fbc88172c00ba8bc7</td>\n      <td>861eff4711a542e4b93843c6dd7febb0</td>\n      <td>14409</td>\n      <td>franca</td>\n      <td>SP</td>\n      <td>Customer</td>\n    </tr>\n    <tr>\n      <th>1</th>\n      <td>18955e83d337fd6b2def6b18a428ac77</td>\n      <td>290c77bc529b7ac935b93aa66c333dc3</td>\n      <td>9790</td>\n      <td>sao bernardo do campo</td>\n      <td>SP</td>\n      <td>Customer</td>\n    </tr>\n    <tr>\n      <th>2</th>\n      <td>4e7b3e00288586ebd08712fdd0374a03</td>\n      <td>060e732b5b29e8181a18229c7b0b2b5e</td>\n      <td>1151</td>\n      <td>sao paulo</td>\n      <td>SP</td>\n      <td>Customer</td>\n    </tr>\n    <tr>\n      <th>3</th>\n      <td>b2b6027bc5c5109e529d4dc6358b12c3</td>\n      <td>259dac757896d24d7702b9acbbff3f3c</td>\n      <td>8775</td>\n      <td>mogi das cruzes</td>\n      <td>SP</td>\n      <td>Customer</td>\n    </tr>\n    <tr>\n      <th>4</th>\n      <td>4f2d8ab171c80ec8364f7c12e35b23ad</td>\n      <td>345ecd01c38d18a9036ed96c73b8d066</td>\n      <td>13056</td>\n      <td>campinas</td>\n      <td>SP</td>\n      <td>Customer</td>\n    </tr>\n    <tr>\n      <th>...</th>\n      <td>...</td>\n      <td>...</td>\n      <td>...</td>\n      <td>...</td>\n      <td>...</td>\n      <td>...</td>\n    </tr>\n    <tr>\n      <th>99436</th>\n      <td>17ddf5dd5d51696bb3d7c6291687be6f</td>\n      <td>1a29b476fee25c95fbafc67c5ac95cf8</td>\n      <td>3937</td>\n      <td>sao paulo</td>\n      <td>SP</td>\n      <td>Customer</td>\n    </tr>\n    <tr>\n      <th>99437</th>\n      <td>e7b71a9017aa05c9a7fd292d714858e8</td>\n      <td>d52a67c98be1cf6a5c84435bd38d095d</td>\n      <td>6764</td>\n      <td>taboao da serra</td>\n      <td>SP</td>\n      <td>Customer</td>\n    </tr>\n    <tr>\n      <th>99438</th>\n      <td>5e28dfe12db7fb50a4b2f691faecea5e</td>\n      <td>e9f50caf99f032f0bf3c55141f019d99</td>\n      <td>60115</td>\n      <td>fortaleza</td>\n      <td>CE</td>\n      <td>Customer</td>\n    </tr>\n    <tr>\n      <th>99439</th>\n      <td>56b18e2166679b8a959d72dd06da27f9</td>\n      <td>73c2643a0a458b49f58cea58833b192e</td>\n      <td>92120</td>\n      <td>canoas</td>\n      <td>RS</td>\n      <td>Customer</td>\n    </tr>\n    <tr>\n      <th>99440</th>\n      <td>274fa6071e5e17fe303b9748641082c8</td>\n      <td>84732c5050c01db9b23e19ba39899398</td>\n      <td>6703</td>\n      <td>cotia</td>\n      <td>SP</td>\n      <td>Customer</td>\n    </tr>\n  </tbody>\n</table>\n<p>99441 rows × 6 columns</p>\n</div>"
     },
     "execution_count": 18,
     "metadata": {},
     "output_type": "execute_result"
    }
   ],
   "source": [
    "node_table_customers"
   ],
   "metadata": {
    "collapsed": false,
    "ExecuteTime": {
     "end_time": "2024-05-01T08:23:08.934084Z",
     "start_time": "2024-05-01T08:23:08.881573Z"
    }
   },
   "id": "72bd4cb61365d83f"
  },
  {
   "cell_type": "markdown",
   "source": [
    "### Edge table between suppliers and products"
   ],
   "metadata": {
    "collapsed": false
   },
   "id": "c5c28e6aa2516dd4"
  },
  {
   "cell_type": "code",
   "execution_count": 19,
   "outputs": [],
   "source": [],
   "metadata": {
    "collapsed": false,
    "ExecuteTime": {
     "end_time": "2024-05-01T08:23:08.934316Z",
     "start_time": "2024-05-01T08:23:08.886533Z"
    }
   },
   "id": "8ce50ab60a82ad65"
  },
  {
   "cell_type": "code",
   "execution_count": 25,
   "outputs": [],
   "source": [
    "edge_table_suppliers_products = pd.merge(node_table_suppliers,items_df,on= \"seller_id\")[['seller_id', 'product_id', 'price', 'freight_value']]"
   ],
   "metadata": {
    "collapsed": false,
    "ExecuteTime": {
     "end_time": "2024-05-01T08:26:01.295346Z",
     "start_time": "2024-05-01T08:26:01.269082Z"
    }
   },
   "id": "4f015001eac1353d"
  },
  {
   "cell_type": "code",
   "execution_count": 26,
   "outputs": [
    {
     "data": {
      "text/plain": "                                order_id  order_item_id  \\\n0       00010242fe8c5a6d1ba2dd792cb16214              1   \n1       00018f77f2f0320c557190d7a144bdd3              1   \n2       000229ec398224ef6ca0657da4fc703e              1   \n3       00024acbcdf0a6daa1e931b038114c75              1   \n4       00042b26cf59d7ce69dfabb4e55b4fd9              1   \n...                                  ...            ...   \n112613  ffebd80e3291e811c308365936897efd              1   \n112619  ffee31fb4b5e35c9123608015637c495              1   \n112632  fff7c4452f050315db1b3f24d9df5fcd              1   \n112637  fffa82886406ccf10c7b4e35c4ff2788              1   \n112649  fffe41c64501cc87c801fd61db3f6244              1   \n\n                              product_id                         seller_id  \\\n0       4244733e06e7ecb4970a6e2683c13e61  48436dade18ac8b2bce089ec2a041202   \n1       e5f2d52b802189ee658865ca93d83a8f  dd7ddc04e1b6c2c614352b383efe2d36   \n2       c777355d18b72b67abbeef9df44fd0fd  5b51032eddd242adc84c38acab88f23d   \n3       7634da152a4610f1595efa32f14722fc  9d7a1d34a5052409006425275ba1c2b4   \n4       ac6c3623068f30de03045865e4e10089  df560393f3a51e74553ab94004ba5c87   \n...                                  ...                               ...   \n112613  4cc4d02efc8f249c13355147fb44e34d  d1c7fa84e48cfa21a0e595167c1c500e   \n112619  b10ecf8e33aaaea419a9fa860ea80fb5  0241d4d5d36f10f80c644447315af0bd   \n112632  dd469c03ad67e201bc2179ef077dcd48  7e93a43ef30c4f03f38b393420bc753a   \n112637  bbe7651fef80287a816ead73f065fc4b  8f2ce03f928b567e3d56181ae20ae952   \n112649  350688d9dc1e75ff97be326363655e01  f7ccf836d21b2fb1de37564105216cc1   \n\n        shipping_limit_date   price  freight_value  \n0       2017-09-19 09:45:35   58.90          13.29  \n1       2017-05-03 11:05:13  239.90          19.93  \n2       2018-01-18 14:48:30  199.00          17.87  \n3       2018-08-15 10:10:18   12.99          12.79  \n4       2017-02-13 13:57:51  199.90          18.14  \n...                     ...     ...            ...  \n112613  2018-07-18 20:23:55  129.90          51.20  \n112619  2018-08-21 10:10:11   99.00          13.52  \n112632  2017-06-07 17:05:23  736.00          20.91  \n112637  2017-12-22 17:31:42  229.90          44.02  \n112649  2018-06-12 17:10:13   43.00          12.79  \n\n[34448 rows x 7 columns]",
      "text/html": "<div>\n<style scoped>\n    .dataframe tbody tr th:only-of-type {\n        vertical-align: middle;\n    }\n\n    .dataframe tbody tr th {\n        vertical-align: top;\n    }\n\n    .dataframe thead th {\n        text-align: right;\n    }\n</style>\n<table border=\"1\" class=\"dataframe\">\n  <thead>\n    <tr style=\"text-align: right;\">\n      <th></th>\n      <th>order_id</th>\n      <th>order_item_id</th>\n      <th>product_id</th>\n      <th>seller_id</th>\n      <th>shipping_limit_date</th>\n      <th>price</th>\n      <th>freight_value</th>\n    </tr>\n  </thead>\n  <tbody>\n    <tr>\n      <th>0</th>\n      <td>00010242fe8c5a6d1ba2dd792cb16214</td>\n      <td>1</td>\n      <td>4244733e06e7ecb4970a6e2683c13e61</td>\n      <td>48436dade18ac8b2bce089ec2a041202</td>\n      <td>2017-09-19 09:45:35</td>\n      <td>58.90</td>\n      <td>13.29</td>\n    </tr>\n    <tr>\n      <th>1</th>\n      <td>00018f77f2f0320c557190d7a144bdd3</td>\n      <td>1</td>\n      <td>e5f2d52b802189ee658865ca93d83a8f</td>\n      <td>dd7ddc04e1b6c2c614352b383efe2d36</td>\n      <td>2017-05-03 11:05:13</td>\n      <td>239.90</td>\n      <td>19.93</td>\n    </tr>\n    <tr>\n      <th>2</th>\n      <td>000229ec398224ef6ca0657da4fc703e</td>\n      <td>1</td>\n      <td>c777355d18b72b67abbeef9df44fd0fd</td>\n      <td>5b51032eddd242adc84c38acab88f23d</td>\n      <td>2018-01-18 14:48:30</td>\n      <td>199.00</td>\n      <td>17.87</td>\n    </tr>\n    <tr>\n      <th>3</th>\n      <td>00024acbcdf0a6daa1e931b038114c75</td>\n      <td>1</td>\n      <td>7634da152a4610f1595efa32f14722fc</td>\n      <td>9d7a1d34a5052409006425275ba1c2b4</td>\n      <td>2018-08-15 10:10:18</td>\n      <td>12.99</td>\n      <td>12.79</td>\n    </tr>\n    <tr>\n      <th>4</th>\n      <td>00042b26cf59d7ce69dfabb4e55b4fd9</td>\n      <td>1</td>\n      <td>ac6c3623068f30de03045865e4e10089</td>\n      <td>df560393f3a51e74553ab94004ba5c87</td>\n      <td>2017-02-13 13:57:51</td>\n      <td>199.90</td>\n      <td>18.14</td>\n    </tr>\n    <tr>\n      <th>...</th>\n      <td>...</td>\n      <td>...</td>\n      <td>...</td>\n      <td>...</td>\n      <td>...</td>\n      <td>...</td>\n      <td>...</td>\n    </tr>\n    <tr>\n      <th>112613</th>\n      <td>ffebd80e3291e811c308365936897efd</td>\n      <td>1</td>\n      <td>4cc4d02efc8f249c13355147fb44e34d</td>\n      <td>d1c7fa84e48cfa21a0e595167c1c500e</td>\n      <td>2018-07-18 20:23:55</td>\n      <td>129.90</td>\n      <td>51.20</td>\n    </tr>\n    <tr>\n      <th>112619</th>\n      <td>ffee31fb4b5e35c9123608015637c495</td>\n      <td>1</td>\n      <td>b10ecf8e33aaaea419a9fa860ea80fb5</td>\n      <td>0241d4d5d36f10f80c644447315af0bd</td>\n      <td>2018-08-21 10:10:11</td>\n      <td>99.00</td>\n      <td>13.52</td>\n    </tr>\n    <tr>\n      <th>112632</th>\n      <td>fff7c4452f050315db1b3f24d9df5fcd</td>\n      <td>1</td>\n      <td>dd469c03ad67e201bc2179ef077dcd48</td>\n      <td>7e93a43ef30c4f03f38b393420bc753a</td>\n      <td>2017-06-07 17:05:23</td>\n      <td>736.00</td>\n      <td>20.91</td>\n    </tr>\n    <tr>\n      <th>112637</th>\n      <td>fffa82886406ccf10c7b4e35c4ff2788</td>\n      <td>1</td>\n      <td>bbe7651fef80287a816ead73f065fc4b</td>\n      <td>8f2ce03f928b567e3d56181ae20ae952</td>\n      <td>2017-12-22 17:31:42</td>\n      <td>229.90</td>\n      <td>44.02</td>\n    </tr>\n    <tr>\n      <th>112649</th>\n      <td>fffe41c64501cc87c801fd61db3f6244</td>\n      <td>1</td>\n      <td>350688d9dc1e75ff97be326363655e01</td>\n      <td>f7ccf836d21b2fb1de37564105216cc1</td>\n      <td>2018-06-12 17:10:13</td>\n      <td>43.00</td>\n      <td>12.79</td>\n    </tr>\n  </tbody>\n</table>\n<p>34448 rows × 7 columns</p>\n</div>"
     },
     "execution_count": 26,
     "metadata": {},
     "output_type": "execute_result"
    }
   ],
   "source": [
    "edge_table_suppliers_products.columns = ['FromNode', 'ToNode', 'Cost', 'FreightValue']"
   ],
   "metadata": {
    "collapsed": false,
    "ExecuteTime": {
     "end_time": "2024-05-01T08:26:02.442103Z",
     "start_time": "2024-05-01T08:26:02.429056Z"
    }
   },
   "id": "e67ed4d5030f828b"
  },
  {
   "cell_type": "code",
   "execution_count": 27,
   "outputs": [
    {
     "data": {
      "text/plain": "order_id               33383\norder_item_id              9\nproduct_id             32951\nseller_id               3095\nshipping_limit_date    32836\nprice                   5241\nfreight_value           5281\ndtype: int64"
     },
     "execution_count": 27,
     "metadata": {},
     "output_type": "execute_result"
    }
   ],
   "source": [
    "edge_table_suppliers_products"
   ],
   "metadata": {
    "collapsed": false,
    "ExecuteTime": {
     "end_time": "2024-05-01T08:26:11.846320Z",
     "start_time": "2024-05-01T08:26:11.819061Z"
    }
   },
   "id": "cd72ceae4d1cc8ba"
  },
  {
   "cell_type": "code",
   "execution_count": null,
   "outputs": [],
   "source": [
    "merged_df = pd.merge(orders_df, items_df, on='order_id')\n",
    "merged_df = pd.merge(merged_df, sellers_df, on='seller_id')\n",
    "merged_df = pd.merge(merged_df, customers_df, on='customer_id')"
   ],
   "metadata": {
    "collapsed": false,
    "ExecuteTime": {
     "start_time": "2024-05-01T08:23:09.478280Z"
    }
   },
   "id": "4e4d03472f82b0b7"
  },
  {
   "cell_type": "code",
   "execution_count": null,
   "outputs": [],
   "source": [
    "node_table_products"
   ],
   "metadata": {
    "collapsed": false,
    "ExecuteTime": {
     "start_time": "2024-05-01T08:23:09.479079Z"
    }
   },
   "id": "fa47552525c508e9"
  },
  {
   "cell_type": "code",
   "execution_count": null,
   "outputs": [],
   "source": [],
   "metadata": {
    "collapsed": false
   },
   "id": "e3dff549d0c15314"
  }
 ],
 "metadata": {
  "kernelspec": {
   "display_name": "Python 3",
   "language": "python",
   "name": "python3"
  },
  "language_info": {
   "codemirror_mode": {
    "name": "ipython",
    "version": 2
   },
   "file_extension": ".py",
   "mimetype": "text/x-python",
   "name": "python",
   "nbconvert_exporter": "python",
   "pygments_lexer": "ipython2",
   "version": "2.7.6"
  }
 },
 "nbformat": 4,
 "nbformat_minor": 5
}
