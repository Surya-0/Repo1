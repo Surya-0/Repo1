{
 "cells": [
  {
   "cell_type": "markdown",
   "metadata": {},
   "source": [
    "## Logistic Regression"
   ]
  },
  {
   "cell_type": "code",
   "execution_count": 55,
   "metadata": {
    "ExecuteTime": {
     "end_time": "2023-10-28T18:15:50.335320Z",
     "start_time": "2023-10-28T18:15:50.284598Z"
    }
   },
   "outputs": [],
   "source": [
    "import numpy as np\n",
    "import pandas as pd\n",
    "import matplotlib.pyplot as plt"
   ]
  },
  {
   "cell_type": "code",
   "execution_count": 56,
   "metadata": {
    "ExecuteTime": {
     "end_time": "2023-10-28T18:15:50.349782Z",
     "start_time": "2023-10-28T18:15:50.288939Z"
    }
   },
   "outputs": [
    {
     "data": {
      "text/plain": "      Id  SepalLengthCm  SepalWidthCm  PetalLengthCm  PetalWidthCm  \\\n0      1            5.1           3.5            1.4           0.2   \n1      2            4.9           3.0            1.4           0.2   \n2      3            4.7           3.2            1.3           0.2   \n3      4            4.6           3.1            1.5           0.2   \n4      5            5.0           3.6            1.4           0.2   \n..   ...            ...           ...            ...           ...   \n145  146            6.7           3.0            5.2           2.3   \n146  147            6.3           2.5            5.0           1.9   \n147  148            6.5           3.0            5.2           2.0   \n148  149            6.2           3.4            5.4           2.3   \n149  150            5.9           3.0            5.1           1.8   \n\n            Species  \n0       Iris-setosa  \n1       Iris-setosa  \n2       Iris-setosa  \n3       Iris-setosa  \n4       Iris-setosa  \n..              ...  \n145  Iris-virginica  \n146  Iris-virginica  \n147  Iris-virginica  \n148  Iris-virginica  \n149  Iris-virginica  \n\n[150 rows x 6 columns]",
      "text/html": "<div>\n<style scoped>\n    .dataframe tbody tr th:only-of-type {\n        vertical-align: middle;\n    }\n\n    .dataframe tbody tr th {\n        vertical-align: top;\n    }\n\n    .dataframe thead th {\n        text-align: right;\n    }\n</style>\n<table border=\"1\" class=\"dataframe\">\n  <thead>\n    <tr style=\"text-align: right;\">\n      <th></th>\n      <th>Id</th>\n      <th>SepalLengthCm</th>\n      <th>SepalWidthCm</th>\n      <th>PetalLengthCm</th>\n      <th>PetalWidthCm</th>\n      <th>Species</th>\n    </tr>\n  </thead>\n  <tbody>\n    <tr>\n      <th>0</th>\n      <td>1</td>\n      <td>5.1</td>\n      <td>3.5</td>\n      <td>1.4</td>\n      <td>0.2</td>\n      <td>Iris-setosa</td>\n    </tr>\n    <tr>\n      <th>1</th>\n      <td>2</td>\n      <td>4.9</td>\n      <td>3.0</td>\n      <td>1.4</td>\n      <td>0.2</td>\n      <td>Iris-setosa</td>\n    </tr>\n    <tr>\n      <th>2</th>\n      <td>3</td>\n      <td>4.7</td>\n      <td>3.2</td>\n      <td>1.3</td>\n      <td>0.2</td>\n      <td>Iris-setosa</td>\n    </tr>\n    <tr>\n      <th>3</th>\n      <td>4</td>\n      <td>4.6</td>\n      <td>3.1</td>\n      <td>1.5</td>\n      <td>0.2</td>\n      <td>Iris-setosa</td>\n    </tr>\n    <tr>\n      <th>4</th>\n      <td>5</td>\n      <td>5.0</td>\n      <td>3.6</td>\n      <td>1.4</td>\n      <td>0.2</td>\n      <td>Iris-setosa</td>\n    </tr>\n    <tr>\n      <th>...</th>\n      <td>...</td>\n      <td>...</td>\n      <td>...</td>\n      <td>...</td>\n      <td>...</td>\n      <td>...</td>\n    </tr>\n    <tr>\n      <th>145</th>\n      <td>146</td>\n      <td>6.7</td>\n      <td>3.0</td>\n      <td>5.2</td>\n      <td>2.3</td>\n      <td>Iris-virginica</td>\n    </tr>\n    <tr>\n      <th>146</th>\n      <td>147</td>\n      <td>6.3</td>\n      <td>2.5</td>\n      <td>5.0</td>\n      <td>1.9</td>\n      <td>Iris-virginica</td>\n    </tr>\n    <tr>\n      <th>147</th>\n      <td>148</td>\n      <td>6.5</td>\n      <td>3.0</td>\n      <td>5.2</td>\n      <td>2.0</td>\n      <td>Iris-virginica</td>\n    </tr>\n    <tr>\n      <th>148</th>\n      <td>149</td>\n      <td>6.2</td>\n      <td>3.4</td>\n      <td>5.4</td>\n      <td>2.3</td>\n      <td>Iris-virginica</td>\n    </tr>\n    <tr>\n      <th>149</th>\n      <td>150</td>\n      <td>5.9</td>\n      <td>3.0</td>\n      <td>5.1</td>\n      <td>1.8</td>\n      <td>Iris-virginica</td>\n    </tr>\n  </tbody>\n</table>\n<p>150 rows × 6 columns</p>\n</div>"
     },
     "execution_count": 56,
     "metadata": {},
     "output_type": "execute_result"
    }
   ],
   "source": [
    "data = pd.read_csv('iris.csv')\n",
    "data"
   ]
  },
  {
   "cell_type": "code",
   "execution_count": 57,
   "metadata": {
    "ExecuteTime": {
     "end_time": "2023-10-28T18:15:50.349889Z",
     "start_time": "2023-10-28T18:15:50.299907Z"
    }
   },
   "outputs": [],
   "source": [
    "def convert(x):\n",
    "    if x==\"Iris-setosa\":\n",
    "        x=0\n",
    "    elif x==\"Iris-versicolor\":\n",
    "        x=1\n",
    "    return x\n",
    "data['Species'] = data['Species'].apply(convert)"
   ]
  },
  {
   "cell_type": "code",
   "execution_count": 58,
   "metadata": {
    "ExecuteTime": {
     "end_time": "2023-10-28T18:15:50.350131Z",
     "start_time": "2023-10-28T18:15:50.306195Z"
    }
   },
   "outputs": [
    {
     "data": {
      "text/plain": "      Id  SepalLengthCm  SepalWidthCm  PetalLengthCm  PetalWidthCm  \\\n0      1            5.1           3.5            1.4           0.2   \n1      2            4.9           3.0            1.4           0.2   \n2      3            4.7           3.2            1.3           0.2   \n3      4            4.6           3.1            1.5           0.2   \n4      5            5.0           3.6            1.4           0.2   \n..   ...            ...           ...            ...           ...   \n145  146            6.7           3.0            5.2           2.3   \n146  147            6.3           2.5            5.0           1.9   \n147  148            6.5           3.0            5.2           2.0   \n148  149            6.2           3.4            5.4           2.3   \n149  150            5.9           3.0            5.1           1.8   \n\n            Species  \n0                 0  \n1                 0  \n2                 0  \n3                 0  \n4                 0  \n..              ...  \n145  Iris-virginica  \n146  Iris-virginica  \n147  Iris-virginica  \n148  Iris-virginica  \n149  Iris-virginica  \n\n[150 rows x 6 columns]",
      "text/html": "<div>\n<style scoped>\n    .dataframe tbody tr th:only-of-type {\n        vertical-align: middle;\n    }\n\n    .dataframe tbody tr th {\n        vertical-align: top;\n    }\n\n    .dataframe thead th {\n        text-align: right;\n    }\n</style>\n<table border=\"1\" class=\"dataframe\">\n  <thead>\n    <tr style=\"text-align: right;\">\n      <th></th>\n      <th>Id</th>\n      <th>SepalLengthCm</th>\n      <th>SepalWidthCm</th>\n      <th>PetalLengthCm</th>\n      <th>PetalWidthCm</th>\n      <th>Species</th>\n    </tr>\n  </thead>\n  <tbody>\n    <tr>\n      <th>0</th>\n      <td>1</td>\n      <td>5.1</td>\n      <td>3.5</td>\n      <td>1.4</td>\n      <td>0.2</td>\n      <td>0</td>\n    </tr>\n    <tr>\n      <th>1</th>\n      <td>2</td>\n      <td>4.9</td>\n      <td>3.0</td>\n      <td>1.4</td>\n      <td>0.2</td>\n      <td>0</td>\n    </tr>\n    <tr>\n      <th>2</th>\n      <td>3</td>\n      <td>4.7</td>\n      <td>3.2</td>\n      <td>1.3</td>\n      <td>0.2</td>\n      <td>0</td>\n    </tr>\n    <tr>\n      <th>3</th>\n      <td>4</td>\n      <td>4.6</td>\n      <td>3.1</td>\n      <td>1.5</td>\n      <td>0.2</td>\n      <td>0</td>\n    </tr>\n    <tr>\n      <th>4</th>\n      <td>5</td>\n      <td>5.0</td>\n      <td>3.6</td>\n      <td>1.4</td>\n      <td>0.2</td>\n      <td>0</td>\n    </tr>\n    <tr>\n      <th>...</th>\n      <td>...</td>\n      <td>...</td>\n      <td>...</td>\n      <td>...</td>\n      <td>...</td>\n      <td>...</td>\n    </tr>\n    <tr>\n      <th>145</th>\n      <td>146</td>\n      <td>6.7</td>\n      <td>3.0</td>\n      <td>5.2</td>\n      <td>2.3</td>\n      <td>Iris-virginica</td>\n    </tr>\n    <tr>\n      <th>146</th>\n      <td>147</td>\n      <td>6.3</td>\n      <td>2.5</td>\n      <td>5.0</td>\n      <td>1.9</td>\n      <td>Iris-virginica</td>\n    </tr>\n    <tr>\n      <th>147</th>\n      <td>148</td>\n      <td>6.5</td>\n      <td>3.0</td>\n      <td>5.2</td>\n      <td>2.0</td>\n      <td>Iris-virginica</td>\n    </tr>\n    <tr>\n      <th>148</th>\n      <td>149</td>\n      <td>6.2</td>\n      <td>3.4</td>\n      <td>5.4</td>\n      <td>2.3</td>\n      <td>Iris-virginica</td>\n    </tr>\n    <tr>\n      <th>149</th>\n      <td>150</td>\n      <td>5.9</td>\n      <td>3.0</td>\n      <td>5.1</td>\n      <td>1.8</td>\n      <td>Iris-virginica</td>\n    </tr>\n  </tbody>\n</table>\n<p>150 rows × 6 columns</p>\n</div>"
     },
     "execution_count": 58,
     "metadata": {},
     "output_type": "execute_result"
    }
   ],
   "source": [
    "data"
   ]
  },
  {
   "cell_type": "code",
   "execution_count": 59,
   "metadata": {
    "ExecuteTime": {
     "end_time": "2023-10-28T18:15:50.350244Z",
     "start_time": "2023-10-28T18:15:50.310331Z"
    }
   },
   "outputs": [
    {
     "data": {
      "text/plain": "0                 50\n1                 50\nIris-virginica    50\nName: Species, dtype: int64"
     },
     "execution_count": 59,
     "metadata": {},
     "output_type": "execute_result"
    }
   ],
   "source": [
    "data['Species'].value_counts()"
   ]
  },
  {
   "cell_type": "code",
   "execution_count": 60,
   "metadata": {
    "ExecuteTime": {
     "end_time": "2023-10-28T18:15:50.350288Z",
     "start_time": "2023-10-28T18:15:50.313161Z"
    }
   },
   "outputs": [],
   "source": [
    "X = data.iloc[:100,:-1].values\n",
    "y = data.iloc[:100,-1].values"
   ]
  },
  {
   "cell_type": "code",
   "execution_count": 61,
   "metadata": {
    "ExecuteTime": {
     "end_time": "2023-10-28T18:15:50.350384Z",
     "start_time": "2023-10-28T18:15:50.315931Z"
    }
   },
   "outputs": [
    {
     "data": {
      "text/plain": "array([0, 0, 0, 0, 0, 0, 0, 0, 0, 0, 0, 0, 0, 0, 0, 0, 0, 0, 0, 0, 0, 0,\n       0, 0, 0, 0, 0, 0, 0, 0, 0, 0, 0, 0, 0, 0, 0, 0, 0, 0, 0, 0, 0, 0,\n       0, 0, 0, 0, 0, 0, 1, 1, 1, 1, 1, 1, 1, 1, 1, 1, 1, 1, 1, 1, 1, 1,\n       1, 1, 1, 1, 1, 1, 1, 1, 1, 1, 1, 1, 1, 1, 1, 1, 1, 1, 1, 1, 1, 1,\n       1, 1, 1, 1, 1, 1, 1, 1, 1, 1, 1, 1], dtype=object)"
     },
     "execution_count": 61,
     "metadata": {},
     "output_type": "execute_result"
    }
   ],
   "source": [
    "y"
   ]
  },
  {
   "cell_type": "code",
   "execution_count": 62,
   "metadata": {
    "ExecuteTime": {
     "end_time": "2023-10-28T18:15:50.350741Z",
     "start_time": "2023-10-28T18:15:50.319331Z"
    }
   },
   "outputs": [
    {
     "data": {
      "text/plain": "array([[  1. ,   5.1,   3.5,   1.4,   0.2],\n       [  2. ,   4.9,   3. ,   1.4,   0.2],\n       [  3. ,   4.7,   3.2,   1.3,   0.2],\n       [  4. ,   4.6,   3.1,   1.5,   0.2],\n       [  5. ,   5. ,   3.6,   1.4,   0.2],\n       [  6. ,   5.4,   3.9,   1.7,   0.4],\n       [  7. ,   4.6,   3.4,   1.4,   0.3],\n       [  8. ,   5. ,   3.4,   1.5,   0.2],\n       [  9. ,   4.4,   2.9,   1.4,   0.2],\n       [ 10. ,   4.9,   3.1,   1.5,   0.1],\n       [ 11. ,   5.4,   3.7,   1.5,   0.2],\n       [ 12. ,   4.8,   3.4,   1.6,   0.2],\n       [ 13. ,   4.8,   3. ,   1.4,   0.1],\n       [ 14. ,   4.3,   3. ,   1.1,   0.1],\n       [ 15. ,   5.8,   4. ,   1.2,   0.2],\n       [ 16. ,   5.7,   4.4,   1.5,   0.4],\n       [ 17. ,   5.4,   3.9,   1.3,   0.4],\n       [ 18. ,   5.1,   3.5,   1.4,   0.3],\n       [ 19. ,   5.7,   3.8,   1.7,   0.3],\n       [ 20. ,   5.1,   3.8,   1.5,   0.3],\n       [ 21. ,   5.4,   3.4,   1.7,   0.2],\n       [ 22. ,   5.1,   3.7,   1.5,   0.4],\n       [ 23. ,   4.6,   3.6,   1. ,   0.2],\n       [ 24. ,   5.1,   3.3,   1.7,   0.5],\n       [ 25. ,   4.8,   3.4,   1.9,   0.2],\n       [ 26. ,   5. ,   3. ,   1.6,   0.2],\n       [ 27. ,   5. ,   3.4,   1.6,   0.4],\n       [ 28. ,   5.2,   3.5,   1.5,   0.2],\n       [ 29. ,   5.2,   3.4,   1.4,   0.2],\n       [ 30. ,   4.7,   3.2,   1.6,   0.2],\n       [ 31. ,   4.8,   3.1,   1.6,   0.2],\n       [ 32. ,   5.4,   3.4,   1.5,   0.4],\n       [ 33. ,   5.2,   4.1,   1.5,   0.1],\n       [ 34. ,   5.5,   4.2,   1.4,   0.2],\n       [ 35. ,   4.9,   3.1,   1.5,   0.1],\n       [ 36. ,   5. ,   3.2,   1.2,   0.2],\n       [ 37. ,   5.5,   3.5,   1.3,   0.2],\n       [ 38. ,   4.9,   3.1,   1.5,   0.1],\n       [ 39. ,   4.4,   3. ,   1.3,   0.2],\n       [ 40. ,   5.1,   3.4,   1.5,   0.2],\n       [ 41. ,   5. ,   3.5,   1.3,   0.3],\n       [ 42. ,   4.5,   2.3,   1.3,   0.3],\n       [ 43. ,   4.4,   3.2,   1.3,   0.2],\n       [ 44. ,   5. ,   3.5,   1.6,   0.6],\n       [ 45. ,   5.1,   3.8,   1.9,   0.4],\n       [ 46. ,   4.8,   3. ,   1.4,   0.3],\n       [ 47. ,   5.1,   3.8,   1.6,   0.2],\n       [ 48. ,   4.6,   3.2,   1.4,   0.2],\n       [ 49. ,   5.3,   3.7,   1.5,   0.2],\n       [ 50. ,   5. ,   3.3,   1.4,   0.2],\n       [ 51. ,   7. ,   3.2,   4.7,   1.4],\n       [ 52. ,   6.4,   3.2,   4.5,   1.5],\n       [ 53. ,   6.9,   3.1,   4.9,   1.5],\n       [ 54. ,   5.5,   2.3,   4. ,   1.3],\n       [ 55. ,   6.5,   2.8,   4.6,   1.5],\n       [ 56. ,   5.7,   2.8,   4.5,   1.3],\n       [ 57. ,   6.3,   3.3,   4.7,   1.6],\n       [ 58. ,   4.9,   2.4,   3.3,   1. ],\n       [ 59. ,   6.6,   2.9,   4.6,   1.3],\n       [ 60. ,   5.2,   2.7,   3.9,   1.4],\n       [ 61. ,   5. ,   2. ,   3.5,   1. ],\n       [ 62. ,   5.9,   3. ,   4.2,   1.5],\n       [ 63. ,   6. ,   2.2,   4. ,   1. ],\n       [ 64. ,   6.1,   2.9,   4.7,   1.4],\n       [ 65. ,   5.6,   2.9,   3.6,   1.3],\n       [ 66. ,   6.7,   3.1,   4.4,   1.4],\n       [ 67. ,   5.6,   3. ,   4.5,   1.5],\n       [ 68. ,   5.8,   2.7,   4.1,   1. ],\n       [ 69. ,   6.2,   2.2,   4.5,   1.5],\n       [ 70. ,   5.6,   2.5,   3.9,   1.1],\n       [ 71. ,   5.9,   3.2,   4.8,   1.8],\n       [ 72. ,   6.1,   2.8,   4. ,   1.3],\n       [ 73. ,   6.3,   2.5,   4.9,   1.5],\n       [ 74. ,   6.1,   2.8,   4.7,   1.2],\n       [ 75. ,   6.4,   2.9,   4.3,   1.3],\n       [ 76. ,   6.6,   3. ,   4.4,   1.4],\n       [ 77. ,   6.8,   2.8,   4.8,   1.4],\n       [ 78. ,   6.7,   3. ,   5. ,   1.7],\n       [ 79. ,   6. ,   2.9,   4.5,   1.5],\n       [ 80. ,   5.7,   2.6,   3.5,   1. ],\n       [ 81. ,   5.5,   2.4,   3.8,   1.1],\n       [ 82. ,   5.5,   2.4,   3.7,   1. ],\n       [ 83. ,   5.8,   2.7,   3.9,   1.2],\n       [ 84. ,   6. ,   2.7,   5.1,   1.6],\n       [ 85. ,   5.4,   3. ,   4.5,   1.5],\n       [ 86. ,   6. ,   3.4,   4.5,   1.6],\n       [ 87. ,   6.7,   3.1,   4.7,   1.5],\n       [ 88. ,   6.3,   2.3,   4.4,   1.3],\n       [ 89. ,   5.6,   3. ,   4.1,   1.3],\n       [ 90. ,   5.5,   2.5,   4. ,   1.3],\n       [ 91. ,   5.5,   2.6,   4.4,   1.2],\n       [ 92. ,   6.1,   3. ,   4.6,   1.4],\n       [ 93. ,   5.8,   2.6,   4. ,   1.2],\n       [ 94. ,   5. ,   2.3,   3.3,   1. ],\n       [ 95. ,   5.6,   2.7,   4.2,   1.3],\n       [ 96. ,   5.7,   3. ,   4.2,   1.2],\n       [ 97. ,   5.7,   2.9,   4.2,   1.3],\n       [ 98. ,   6.2,   2.9,   4.3,   1.3],\n       [ 99. ,   5.1,   2.5,   3. ,   1.1],\n       [100. ,   5.7,   2.8,   4.1,   1.3]])"
     },
     "execution_count": 62,
     "metadata": {},
     "output_type": "execute_result"
    }
   ],
   "source": [
    "X"
   ]
  },
  {
   "cell_type": "code",
   "execution_count": 63,
   "metadata": {
    "ExecuteTime": {
     "end_time": "2023-10-28T18:15:50.350791Z",
     "start_time": "2023-10-28T18:15:50.321291Z"
    }
   },
   "outputs": [],
   "source": [
    "X = X[:,1:]"
   ]
  },
  {
   "cell_type": "code",
   "execution_count": 64,
   "metadata": {
    "ExecuteTime": {
     "end_time": "2023-10-28T18:15:50.351146Z",
     "start_time": "2023-10-28T18:15:50.323255Z"
    }
   },
   "outputs": [
    {
     "data": {
      "text/plain": "array([[5.1, 3.5, 1.4, 0.2],\n       [4.9, 3. , 1.4, 0.2],\n       [4.7, 3.2, 1.3, 0.2],\n       [4.6, 3.1, 1.5, 0.2],\n       [5. , 3.6, 1.4, 0.2],\n       [5.4, 3.9, 1.7, 0.4],\n       [4.6, 3.4, 1.4, 0.3],\n       [5. , 3.4, 1.5, 0.2],\n       [4.4, 2.9, 1.4, 0.2],\n       [4.9, 3.1, 1.5, 0.1],\n       [5.4, 3.7, 1.5, 0.2],\n       [4.8, 3.4, 1.6, 0.2],\n       [4.8, 3. , 1.4, 0.1],\n       [4.3, 3. , 1.1, 0.1],\n       [5.8, 4. , 1.2, 0.2],\n       [5.7, 4.4, 1.5, 0.4],\n       [5.4, 3.9, 1.3, 0.4],\n       [5.1, 3.5, 1.4, 0.3],\n       [5.7, 3.8, 1.7, 0.3],\n       [5.1, 3.8, 1.5, 0.3],\n       [5.4, 3.4, 1.7, 0.2],\n       [5.1, 3.7, 1.5, 0.4],\n       [4.6, 3.6, 1. , 0.2],\n       [5.1, 3.3, 1.7, 0.5],\n       [4.8, 3.4, 1.9, 0.2],\n       [5. , 3. , 1.6, 0.2],\n       [5. , 3.4, 1.6, 0.4],\n       [5.2, 3.5, 1.5, 0.2],\n       [5.2, 3.4, 1.4, 0.2],\n       [4.7, 3.2, 1.6, 0.2],\n       [4.8, 3.1, 1.6, 0.2],\n       [5.4, 3.4, 1.5, 0.4],\n       [5.2, 4.1, 1.5, 0.1],\n       [5.5, 4.2, 1.4, 0.2],\n       [4.9, 3.1, 1.5, 0.1],\n       [5. , 3.2, 1.2, 0.2],\n       [5.5, 3.5, 1.3, 0.2],\n       [4.9, 3.1, 1.5, 0.1],\n       [4.4, 3. , 1.3, 0.2],\n       [5.1, 3.4, 1.5, 0.2],\n       [5. , 3.5, 1.3, 0.3],\n       [4.5, 2.3, 1.3, 0.3],\n       [4.4, 3.2, 1.3, 0.2],\n       [5. , 3.5, 1.6, 0.6],\n       [5.1, 3.8, 1.9, 0.4],\n       [4.8, 3. , 1.4, 0.3],\n       [5.1, 3.8, 1.6, 0.2],\n       [4.6, 3.2, 1.4, 0.2],\n       [5.3, 3.7, 1.5, 0.2],\n       [5. , 3.3, 1.4, 0.2],\n       [7. , 3.2, 4.7, 1.4],\n       [6.4, 3.2, 4.5, 1.5],\n       [6.9, 3.1, 4.9, 1.5],\n       [5.5, 2.3, 4. , 1.3],\n       [6.5, 2.8, 4.6, 1.5],\n       [5.7, 2.8, 4.5, 1.3],\n       [6.3, 3.3, 4.7, 1.6],\n       [4.9, 2.4, 3.3, 1. ],\n       [6.6, 2.9, 4.6, 1.3],\n       [5.2, 2.7, 3.9, 1.4],\n       [5. , 2. , 3.5, 1. ],\n       [5.9, 3. , 4.2, 1.5],\n       [6. , 2.2, 4. , 1. ],\n       [6.1, 2.9, 4.7, 1.4],\n       [5.6, 2.9, 3.6, 1.3],\n       [6.7, 3.1, 4.4, 1.4],\n       [5.6, 3. , 4.5, 1.5],\n       [5.8, 2.7, 4.1, 1. ],\n       [6.2, 2.2, 4.5, 1.5],\n       [5.6, 2.5, 3.9, 1.1],\n       [5.9, 3.2, 4.8, 1.8],\n       [6.1, 2.8, 4. , 1.3],\n       [6.3, 2.5, 4.9, 1.5],\n       [6.1, 2.8, 4.7, 1.2],\n       [6.4, 2.9, 4.3, 1.3],\n       [6.6, 3. , 4.4, 1.4],\n       [6.8, 2.8, 4.8, 1.4],\n       [6.7, 3. , 5. , 1.7],\n       [6. , 2.9, 4.5, 1.5],\n       [5.7, 2.6, 3.5, 1. ],\n       [5.5, 2.4, 3.8, 1.1],\n       [5.5, 2.4, 3.7, 1. ],\n       [5.8, 2.7, 3.9, 1.2],\n       [6. , 2.7, 5.1, 1.6],\n       [5.4, 3. , 4.5, 1.5],\n       [6. , 3.4, 4.5, 1.6],\n       [6.7, 3.1, 4.7, 1.5],\n       [6.3, 2.3, 4.4, 1.3],\n       [5.6, 3. , 4.1, 1.3],\n       [5.5, 2.5, 4. , 1.3],\n       [5.5, 2.6, 4.4, 1.2],\n       [6.1, 3. , 4.6, 1.4],\n       [5.8, 2.6, 4. , 1.2],\n       [5. , 2.3, 3.3, 1. ],\n       [5.6, 2.7, 4.2, 1.3],\n       [5.7, 3. , 4.2, 1.2],\n       [5.7, 2.9, 4.2, 1.3],\n       [6.2, 2.9, 4.3, 1.3],\n       [5.1, 2.5, 3. , 1.1],\n       [5.7, 2.8, 4.1, 1.3]])"
     },
     "execution_count": 64,
     "metadata": {},
     "output_type": "execute_result"
    }
   ],
   "source": [
    "X"
   ]
  },
  {
   "cell_type": "code",
   "execution_count": 65,
   "metadata": {
    "ExecuteTime": {
     "end_time": "2023-10-28T18:15:50.351224Z",
     "start_time": "2023-10-28T18:15:50.328564Z"
    }
   },
   "outputs": [],
   "source": [
    "from sklearn.model_selection import train_test_split\n",
    "X_train,X_test,y_train,y_test = train_test_split(X,y,test_size=0.2,random_state=42)\n"
   ]
  },
  {
   "cell_type": "code",
   "execution_count": 66,
   "metadata": {
    "ExecuteTime": {
     "end_time": "2023-10-28T18:15:50.351273Z",
     "start_time": "2023-10-28T18:15:50.331130Z"
    }
   },
   "outputs": [],
   "source": [
    "from sklearn.preprocessing import StandardScaler\n",
    "sc = StandardScaler()\n",
    "X_train = sc.fit_transform(X_train)\n",
    "X_test = sc.fit_transform(X_test)"
   ]
  },
  {
   "cell_type": "code",
   "execution_count": 73,
   "metadata": {
    "ExecuteTime": {
     "end_time": "2023-10-28T18:16:17.545389Z",
     "start_time": "2023-10-28T18:16:17.541074Z"
    }
   },
   "outputs": [],
   "source": [
    "class Perceptron:\n",
    "    def __init__(self,learning_rate=0.01,num_epochs=1000):\n",
    "        self.learning_rate = learning_rate\n",
    "        self.num_epochs = num_epochs\n",
    "    \n",
    "    def sigmoid(self,z):\n",
    "        return 1/(1+np.exp(-z))\n",
    "\n",
    "    def sigmoid_prime(self,z):\n",
    "        return self.sigmoid(z)*(1-self.sigmoid(z))\n",
    "    \n",
    "    def predicted(self,X):\n",
    "        # print(X.shape)\n",
    "        # print(self.bias)\n",
    "        # print(self.weights.shape)\n",
    "        linear_model = np.dot(X,self.weights)+self.bias\n",
    "        # print(linear_model.shape)\n",
    "        pred = self.sigmoid(linear_model)\n",
    "        return pred\n",
    "    \n",
    "    def sigmoid_prime_predictor(self,X):\n",
    "        linear_model = np.dot(X,self.weights)+self.bias\n",
    "        pred = self.sigmoid_prime(linear_model)\n",
    "        return pred\n",
    "    \n",
    "    def fit(self,X,y):\n",
    "        num_samples,num_features = X.shape\n",
    "        self.weights = np.array([0.0]*num_features,dtype=\"float64\")\n",
    "        # print(self.weights.dtype)\n",
    "        self.bias = 0 \n",
    "\n",
    "        for i in range(self.num_epochs):\n",
    "            y_pred = self.predicted(X)\n",
    "            # print(y_pred.shape)\n",
    "            # print(\"Prediction type : \",y_pred.dtype)\n",
    "            sp = self.sigmoid_prime_predictor(X)\n",
    "            # print(\"Sp type :\",sp.dtype)\n",
    "            term = ((y_pred - y)*sp).astype('float')\n",
    "            # print(\"Subtraction type : \",(y_pred-y).dtype)\n",
    "            # print(\"Term type : \",term.dtype)\n",
    "            dw = (1/num_samples)*np.dot(X.T,term)\n",
    "            # print(dw.dtype)\n",
    "            db = (1/num_samples)*sum(term)\n",
    "\n",
    "            self.weights -= self.learning_rate*dw\n",
    "            self.bias -= self.learning_rate*db\n",
    "    \n",
    "    def test(self,X,y):\n",
    "        global Y_predtest\n",
    "        Y_predtest = self.predicted(X)\n",
    "        print(Y_predtest)\n",
    "        Y_values = Y_predtest\n",
    "        correct = 0\n",
    "        total = len(y)\n",
    "        for i in range(len(Y_predtest)):\n",
    "            if Y_predtest[i]>0.5:\n",
    "                Y_predtest[i] =1\n",
    "            else:\n",
    "                Y_predtest[i]=0\n",
    "        for i in range(len(y)):\n",
    "            if y[i] == Y_predtest[i]:\n",
    "                correct+=1\n",
    "\n",
    "        print(\"Accuracy: \",correct/total) \n",
    "            \n",
    "\n",
    "            "
   ]
  },
  {
   "cell_type": "code",
   "execution_count": 74,
   "metadata": {
    "ExecuteTime": {
     "end_time": "2023-10-28T18:16:18.103999Z",
     "start_time": "2023-10-28T18:16:18.083731Z"
    }
   },
   "outputs": [],
   "source": [
    "lgreg = Perceptron()\n",
    "lgreg.fit(X_train,y_train)"
   ]
  },
  {
   "cell_type": "code",
   "execution_count": 75,
   "metadata": {
    "ExecuteTime": {
     "end_time": "2023-10-28T18:16:19.124952Z",
     "start_time": "2023-10-28T18:16:19.120647Z"
    }
   },
   "outputs": [
    {
     "name": "stdout",
     "output_type": "stream",
     "text": [
      "[ 0.3638132  -0.38362432  0.53649734  0.53455321]\n",
      "0.049369040034941476\n"
     ]
    }
   ],
   "source": [
    "print(lgreg.weights)\n",
    "print(lgreg.bias)"
   ]
  },
  {
   "cell_type": "code",
   "execution_count": 76,
   "metadata": {
    "ExecuteTime": {
     "end_time": "2023-10-28T18:16:20.199869Z",
     "start_time": "2023-10-28T18:16:20.193382Z"
    }
   },
   "outputs": [
    {
     "name": "stdout",
     "output_type": "stream",
     "text": [
      "[0.91540496 0.84965915 0.88186361 0.26258445 0.23134809 0.22968047\n",
      " 0.13639333 0.803272   0.22170002 0.21054432 0.2711261  0.24418423\n",
      " 0.86646631 0.16611415 0.82489307 0.18841473 0.92523877 0.93324716\n",
      " 0.22942949 0.30028304]\n",
      "Accuracy:  1.0\n",
      "None\n"
     ]
    }
   ],
   "source": [
    "print(lgreg.test(X_test, y_test))"
   ]
  },
  {
   "cell_type": "code",
   "execution_count": 71,
   "metadata": {
    "ExecuteTime": {
     "end_time": "2023-10-28T18:15:50.395251Z",
     "start_time": "2023-10-28T18:15:50.376574Z"
    }
   },
   "outputs": [
    {
     "name": "stdout",
     "output_type": "stream",
     "text": [
      "[3 8]\n"
     ]
    }
   ],
   "source": [
    "arr = np.array([1,2])\n",
    "arr2 = np.array([3,4])\n",
    "print(arr*arr2)"
   ]
  },
  {
   "cell_type": "code",
   "execution_count": 72,
   "metadata": {
    "ExecuteTime": {
     "end_time": "2023-10-28T18:15:50.447010Z",
     "start_time": "2023-10-28T18:15:50.379056Z"
    }
   },
   "outputs": [
    {
     "name": "stdout",
     "output_type": "stream",
     "text": [
      "10\n"
     ]
    }
   ],
   "source": [
    "print(np.sum(arr+arr2))"
   ]
  },
  {
   "cell_type": "code",
   "execution_count": 72,
   "metadata": {
    "ExecuteTime": {
     "end_time": "2023-10-28T18:15:50.456998Z",
     "start_time": "2023-10-28T18:15:50.380744Z"
    }
   },
   "outputs": [],
   "source": []
  },
  {
   "cell_type": "code",
   "execution_count": 72,
   "metadata": {
    "ExecuteTime": {
     "end_time": "2023-10-28T18:15:50.457287Z",
     "start_time": "2023-10-28T18:15:50.382154Z"
    }
   },
   "outputs": [],
   "source": []
  }
 ],
 "metadata": {
  "kernelspec": {
   "display_name": "tf",
   "language": "python",
   "name": "python3"
  },
  "language_info": {
   "codemirror_mode": {
    "name": "ipython",
    "version": 3
   },
   "file_extension": ".py",
   "mimetype": "text/x-python",
   "name": "python",
   "nbconvert_exporter": "python",
   "pygments_lexer": "ipython3",
   "version": "3.11.4"
  },
  "orig_nbformat": 4
 },
 "nbformat": 4,
 "nbformat_minor": 2
}
