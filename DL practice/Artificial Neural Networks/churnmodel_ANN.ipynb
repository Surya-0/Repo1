{
 "cells": [
  {
   "cell_type": "markdown",
   "metadata": {},
   "source": [
    "# Artificial Neural Network"
   ]
  },
  {
   "cell_type": "markdown",
   "metadata": {},
   "source": [
    "### Importing the libraries"
   ]
  },
  {
   "cell_type": "code",
   "execution_count": 2,
   "metadata": {
    "ExecuteTime": {
     "end_time": "2023-09-27T15:07:06.703860Z",
     "start_time": "2023-09-27T15:07:06.629677Z"
    }
   },
   "outputs": [],
   "source": [
    "import numpy as np\n",
    "import tensorflow as tf\n",
    "import pandas as pd\n",
    "import math"
   ]
  },
  {
   "cell_type": "code",
   "execution_count": 3,
   "metadata": {
    "ExecuteTime": {
     "end_time": "2023-09-27T15:07:06.721275Z",
     "start_time": "2023-09-27T15:07:06.633813Z"
    }
   },
   "outputs": [
    {
     "data": {
      "text/plain": "'2.12.0'"
     },
     "execution_count": 3,
     "metadata": {},
     "output_type": "execute_result"
    }
   ],
   "source": [
    "tf.__version__ "
   ]
  },
  {
   "cell_type": "markdown",
   "metadata": {},
   "source": [
    "## Part 1 - Data Preprocessing"
   ]
  },
  {
   "cell_type": "markdown",
   "metadata": {},
   "source": [
    "### Importing the dataset"
   ]
  },
  {
   "cell_type": "code",
   "execution_count": 4,
   "metadata": {
    "ExecuteTime": {
     "end_time": "2023-09-27T15:07:06.846992Z",
     "start_time": "2023-09-27T15:07:06.646495Z"
    }
   },
   "outputs": [],
   "source": [
    "dataset = pd.read_csv('Churn_Modelling.csv')\n",
    "X = dataset.iloc[:, 3:-1].values # matrix of features\n",
    "y = dataset.iloc[:, -1].values  # dependent variable vector"
   ]
  },
  {
   "cell_type": "code",
   "execution_count": 5,
   "metadata": {
    "ExecuteTime": {
     "end_time": "2023-09-27T15:07:06.852636Z",
     "start_time": "2023-09-27T15:07:06.663325Z"
    }
   },
   "outputs": [
    {
     "name": "stdout",
     "output_type": "stream",
     "text": [
      "[[619 'France' 'Female' ... 1 1 101348.88]\n",
      " [608 'Spain' 'Female' ... 0 1 112542.58]\n",
      " [502 'France' 'Female' ... 1 0 113931.57]\n",
      " ...\n",
      " [709 'France' 'Female' ... 0 1 42085.58]\n",
      " [772 'Germany' 'Male' ... 1 0 92888.52]\n",
      " [792 'France' 'Female' ... 1 0 38190.78]]\n"
     ]
    }
   ],
   "source": [
    "print(X)"
   ]
  },
  {
   "cell_type": "code",
   "execution_count": 6,
   "metadata": {
    "ExecuteTime": {
     "end_time": "2023-09-27T15:07:06.856099Z",
     "start_time": "2023-09-27T15:07:06.667494Z"
    }
   },
   "outputs": [
    {
     "name": "stdout",
     "output_type": "stream",
     "text": [
      "[1 0 1 ... 1 1 0]\n"
     ]
    }
   ],
   "source": [
    "print(y)"
   ]
  },
  {
   "cell_type": "markdown",
   "metadata": {},
   "source": [
    "### Encoding categorical data"
   ]
  },
  {
   "cell_type": "markdown",
   "metadata": {},
   "source": [
    "Label Encoding the \"Gender\" column"
   ]
  },
  {
   "cell_type": "code",
   "execution_count": 7,
   "metadata": {
    "ExecuteTime": {
     "end_time": "2023-09-27T15:07:07.115746Z",
     "start_time": "2023-09-27T15:07:06.671419Z"
    }
   },
   "outputs": [],
   "source": [
    "from sklearn.preprocessing import LabelEncoder # since the gender is binary in the dataset it is label encoded\n",
    "le = LabelEncoder()\n",
    "X[:,2] = le.fit_transform(X[:,2])"
   ]
  },
  {
   "cell_type": "code",
   "execution_count": 8,
   "metadata": {
    "ExecuteTime": {
     "end_time": "2023-09-27T15:07:07.116645Z",
     "start_time": "2023-09-27T15:07:07.115966Z"
    }
   },
   "outputs": [
    {
     "name": "stdout",
     "output_type": "stream",
     "text": [
      "[[619 'France' 0 ... 1 1 101348.88]\n",
      " [608 'Spain' 0 ... 0 1 112542.58]\n",
      " [502 'France' 0 ... 1 0 113931.57]\n",
      " ...\n",
      " [709 'France' 0 ... 0 1 42085.58]\n",
      " [772 'Germany' 1 ... 1 0 92888.52]\n",
      " [792 'France' 0 ... 1 0 38190.78]]\n"
     ]
    }
   ],
   "source": [
    "print(X)"
   ]
  },
  {
   "cell_type": "markdown",
   "metadata": {},
   "source": [
    "One Hot Encoding the \"Geography\" column"
   ]
  },
  {
   "cell_type": "code",
   "execution_count": 9,
   "metadata": {
    "ExecuteTime": {
     "end_time": "2023-09-27T15:07:07.125639Z",
     "start_time": "2023-09-27T15:07:07.118201Z"
    }
   },
   "outputs": [],
   "source": [
    "from sklearn.compose import ColumnTransformer   # the three countries France,Spain and Germany dont have any relation to each other hence it is one hot encoded\n",
    "from sklearn.preprocessing import OneHotEncoder\n",
    "ct = ColumnTransformer(transformers=[('encoder', OneHotEncoder(), [1])], remainder='passthrough')\n",
    "X = np.array(ct.fit_transform(X))"
   ]
  },
  {
   "cell_type": "code",
   "execution_count": 10,
   "metadata": {
    "ExecuteTime": {
     "end_time": "2023-09-27T15:07:07.132652Z",
     "start_time": "2023-09-27T15:07:07.126275Z"
    }
   },
   "outputs": [
    {
     "name": "stdout",
     "output_type": "stream",
     "text": [
      "[[1.0 0.0 0.0 ... 1 1 101348.88]\n",
      " [0.0 0.0 1.0 ... 0 1 112542.58]\n",
      " [1.0 0.0 0.0 ... 1 0 113931.57]\n",
      " ...\n",
      " [1.0 0.0 0.0 ... 0 1 42085.58]\n",
      " [0.0 1.0 0.0 ... 1 0 92888.52]\n",
      " [1.0 0.0 0.0 ... 1 0 38190.78]]\n"
     ]
    }
   ],
   "source": [
    "print(X)"
   ]
  },
  {
   "cell_type": "markdown",
   "metadata": {},
   "source": [
    "### Splitting the dataset into the Training set and Test set"
   ]
  },
  {
   "cell_type": "code",
   "execution_count": 11,
   "metadata": {
    "ExecuteTime": {
     "end_time": "2023-09-27T15:07:07.189966Z",
     "start_time": "2023-09-27T15:07:07.128721Z"
    }
   },
   "outputs": [],
   "source": [
    "from sklearn.model_selection import train_test_split\n",
    "X_train, X_test, y_train, y_test = train_test_split(X, y, test_size = 0.2, random_state = 1)"
   ]
  },
  {
   "cell_type": "code",
   "execution_count": 12,
   "metadata": {
    "ExecuteTime": {
     "end_time": "2023-09-27T15:07:07.194436Z",
     "start_time": "2023-09-27T15:07:07.190751Z"
    }
   },
   "outputs": [
    {
     "name": "stdout",
     "output_type": "stream",
     "text": [
      "[[0.0 1.0 0.0 ... 0 1 124749.08]\n",
      " [1.0 0.0 0.0 ... 0 0 41104.82]\n",
      " [0.0 1.0 0.0 ... 1 1 45750.21]\n",
      " ...\n",
      " [1.0 0.0 0.0 ... 1 1 92027.69]\n",
      " [1.0 0.0 0.0 ... 1 1 101168.9]\n",
      " [0.0 1.0 0.0 ... 1 0 33462.94]]\n"
     ]
    }
   ],
   "source": [
    "print(X_train)"
   ]
  },
  {
   "cell_type": "code",
   "execution_count": 13,
   "metadata": {
    "ExecuteTime": {
     "end_time": "2023-09-27T15:07:07.196230Z",
     "start_time": "2023-09-27T15:07:07.193133Z"
    }
   },
   "outputs": [
    {
     "name": "stdout",
     "output_type": "stream",
     "text": [
      "[[1.0 0.0 0.0 ... 1 1 97057.28]\n",
      " [1.0 0.0 0.0 ... 1 0 66526.01]\n",
      " [1.0 0.0 0.0 ... 0 1 90537.47]\n",
      " ...\n",
      " [0.0 0.0 1.0 ... 0 1 161571.79]\n",
      " [0.0 1.0 0.0 ... 1 1 165257.31]\n",
      " [0.0 1.0 0.0 ... 1 1 49025.79]]\n"
     ]
    }
   ],
   "source": [
    "print(X_test)"
   ]
  },
  {
   "cell_type": "code",
   "execution_count": 14,
   "metadata": {
    "ExecuteTime": {
     "end_time": "2023-09-27T15:07:07.200043Z",
     "start_time": "2023-09-27T15:07:07.196746Z"
    }
   },
   "outputs": [
    {
     "name": "stdout",
     "output_type": "stream",
     "text": [
      "[0 0 1 ... 1 0 1]\n"
     ]
    }
   ],
   "source": [
    "print(y_train)"
   ]
  },
  {
   "cell_type": "code",
   "execution_count": 15,
   "metadata": {
    "ExecuteTime": {
     "end_time": "2023-09-27T15:07:07.203895Z",
     "start_time": "2023-09-27T15:07:07.201228Z"
    }
   },
   "outputs": [
    {
     "name": "stdout",
     "output_type": "stream",
     "text": [
      "[0 0 0 ... 0 0 0]\n"
     ]
    }
   ],
   "source": [
    "print(y_test)"
   ]
  },
  {
   "cell_type": "markdown",
   "metadata": {},
   "source": [
    "### Feature Scaling"
   ]
  },
  {
   "cell_type": "code",
   "execution_count": 16,
   "metadata": {
    "ExecuteTime": {
     "end_time": "2023-09-27T15:07:07.242340Z",
     "start_time": "2023-09-27T15:07:07.206390Z"
    }
   },
   "outputs": [],
   "source": [
    "from sklearn.preprocessing import StandardScaler  # note: For feature scaling in DL all the attributes need to be scaled unlike ML\n",
    "sc = StandardScaler()\n",
    "X_train = sc.fit_transform(X_train)\n",
    "X_test = sc.transform(X_test)"
   ]
  },
  {
   "cell_type": "code",
   "execution_count": 17,
   "metadata": {
    "ExecuteTime": {
     "end_time": "2023-09-27T15:07:07.247866Z",
     "start_time": "2023-09-27T15:07:07.212564Z"
    }
   },
   "outputs": [
    {
     "name": "stdout",
     "output_type": "stream",
     "text": [
      "[[-0.99850112  1.71490137 -0.57273139 ... -1.55337352  0.97725852\n",
      "   0.42739449]\n",
      " [ 1.00150113 -0.58312392 -0.57273139 ... -1.55337352 -1.02327069\n",
      "  -1.02548708]\n",
      " [-0.99850112  1.71490137 -0.57273139 ...  0.64376017  0.97725852\n",
      "  -0.94479772]\n",
      " ...\n",
      " [ 1.00150113 -0.58312392 -0.57273139 ...  0.64376017  0.97725852\n",
      "  -0.14096853]\n",
      " [ 1.00150113 -0.58312392 -0.57273139 ...  0.64376017  0.97725852\n",
      "   0.01781218]\n",
      " [-0.99850112  1.71490137 -0.57273139 ...  0.64376017 -1.02327069\n",
      "  -1.15822478]]\n"
     ]
    }
   ],
   "source": [
    "print(X_train)"
   ]
  },
  {
   "cell_type": "code",
   "execution_count": 18,
   "metadata": {
    "ExecuteTime": {
     "end_time": "2023-09-27T15:07:07.248467Z",
     "start_time": "2023-09-27T15:07:07.215898Z"
    }
   },
   "outputs": [
    {
     "name": "stdout",
     "output_type": "stream",
     "text": [
      "[[ 1.00150113 -0.58312392 -0.57273139 ...  0.64376017  0.97725852\n",
      "  -0.05360571]\n",
      " [ 1.00150113 -0.58312392 -0.57273139 ...  0.64376017 -1.02327069\n",
      "  -0.58392685]\n",
      " [ 1.00150113 -0.58312392 -0.57273139 ... -1.55337352  0.97725852\n",
      "  -0.16685331]\n",
      " ...\n",
      " [-0.99850112 -0.58312392  1.74601919 ... -1.55337352  0.97725852\n",
      "   1.0669965 ]\n",
      " [-0.99850112  1.71490137 -0.57273139 ...  0.64376017  0.97725852\n",
      "   1.13101314]\n",
      " [-0.99850112  1.71490137 -0.57273139 ...  0.64376017  0.97725852\n",
      "  -0.88790165]]\n"
     ]
    }
   ],
   "source": [
    "print(X_test)"
   ]
  },
  {
   "cell_type": "markdown",
   "metadata": {},
   "source": [
    "## Part 2 - Building the ANN"
   ]
  },
  {
   "cell_type": "markdown",
   "metadata": {},
   "source": [
    "### Initializing the ANN"
   ]
  },
  {
   "cell_type": "code",
   "execution_count": 19,
   "metadata": {
    "ExecuteTime": {
     "end_time": "2023-09-27T15:07:07.261884Z",
     "start_time": "2023-09-27T15:07:07.219619Z"
    }
   },
   "outputs": [],
   "source": [
    "ann = tf.keras.models.Sequential()"
   ]
  },
  {
   "cell_type": "markdown",
   "metadata": {},
   "source": [
    "### Adding the input layer and the first hidden layer"
   ]
  },
  {
   "cell_type": "code",
   "execution_count": 20,
   "metadata": {
    "ExecuteTime": {
     "end_time": "2023-09-27T15:07:07.300326Z",
     "start_time": "2023-09-27T15:07:07.264407Z"
    }
   },
   "outputs": [],
   "source": [
    "ann.add(tf.keras.layers.Dense(units=6,activation='relu'))"
   ]
  },
  {
   "cell_type": "markdown",
   "metadata": {},
   "source": [
    "### Adding the second hidden layer"
   ]
  },
  {
   "cell_type": "code",
   "execution_count": 21,
   "metadata": {
    "ExecuteTime": {
     "end_time": "2023-09-27T15:07:07.300875Z",
     "start_time": "2023-09-27T15:07:07.266777Z"
    }
   },
   "outputs": [],
   "source": [
    "ann.add(tf.keras.layers.Dense(units=6,activation='relu'))"
   ]
  },
  {
   "cell_type": "markdown",
   "metadata": {},
   "source": [
    "### Adding the output layer"
   ]
  },
  {
   "cell_type": "code",
   "execution_count": 22,
   "metadata": {
    "ExecuteTime": {
     "end_time": "2023-09-27T15:07:07.301371Z",
     "start_time": "2023-09-27T15:07:07.270643Z"
    }
   },
   "outputs": [],
   "source": [
    "ann.add(tf.keras.layers.Dense(units=1,activation='sigmoid'))"
   ]
  },
  {
   "cell_type": "markdown",
   "metadata": {},
   "source": [
    "## Part 3 - Training the ANN"
   ]
  },
  {
   "cell_type": "markdown",
   "metadata": {},
   "source": [
    "### Compiling the ANN"
   ]
  },
  {
   "cell_type": "code",
   "execution_count": 23,
   "metadata": {
    "ExecuteTime": {
     "end_time": "2023-09-27T15:07:07.301968Z",
     "start_time": "2023-09-27T15:07:07.278363Z"
    }
   },
   "outputs": [],
   "source": [
    "ann.compile(optimizer='Adagrad',loss='binary_crossentropy',metrics=['accuracy'])"
   ]
  },
  {
   "cell_type": "markdown",
   "metadata": {},
   "source": [
    "### Training the ANN on the Training set"
   ]
  },
  {
   "cell_type": "code",
   "execution_count": 24,
   "metadata": {
    "ExecuteTime": {
     "end_time": "2023-09-27T15:07:13.900582Z",
     "start_time": "2023-09-27T15:07:07.288259Z"
    }
   },
   "outputs": [
    {
     "name": "stdout",
     "output_type": "stream",
     "text": [
      "Epoch 1/100\n",
      "  1/250 [..............................] - ETA: 35s - loss: 0.6816 - accuracy: 0.6875"
     ]
    },
    {
     "name": "stderr",
     "output_type": "stream",
     "text": [
      "2023-09-27 20:37:07.324722: W tensorflow/tsl/platform/profile_utils/cpu_utils.cc:128] Failed to get CPU frequency: 0 Hz\n"
     ]
    },
    {
     "name": "stdout",
     "output_type": "stream",
     "text": [
      "250/250 [==============================] - 0s 281us/step - loss: 0.5851 - accuracy: 0.7972\n",
      "Epoch 2/100\n",
      "250/250 [==============================] - 0s 265us/step - loss: 0.5750 - accuracy: 0.7972\n",
      "Epoch 3/100\n",
      "250/250 [==============================] - 0s 255us/step - loss: 0.5682 - accuracy: 0.7972\n",
      "Epoch 4/100\n",
      "250/250 [==============================] - 0s 266us/step - loss: 0.5630 - accuracy: 0.7972\n",
      "Epoch 5/100\n",
      "250/250 [==============================] - 0s 257us/step - loss: 0.5588 - accuracy: 0.7972\n",
      "Epoch 6/100\n",
      "250/250 [==============================] - 0s 270us/step - loss: 0.5551 - accuracy: 0.7972\n",
      "Epoch 7/100\n",
      "250/250 [==============================] - 0s 247us/step - loss: 0.5519 - accuracy: 0.7972\n",
      "Epoch 8/100\n",
      "250/250 [==============================] - 0s 250us/step - loss: 0.5490 - accuracy: 0.7972\n",
      "Epoch 9/100\n",
      "250/250 [==============================] - 0s 243us/step - loss: 0.5465 - accuracy: 0.7972\n",
      "Epoch 10/100\n",
      "250/250 [==============================] - 0s 245us/step - loss: 0.5441 - accuracy: 0.7972\n",
      "Epoch 11/100\n",
      "250/250 [==============================] - 0s 241us/step - loss: 0.5420 - accuracy: 0.7972\n",
      "Epoch 12/100\n",
      "250/250 [==============================] - 0s 251us/step - loss: 0.5400 - accuracy: 0.7972\n",
      "Epoch 13/100\n",
      "250/250 [==============================] - 0s 243us/step - loss: 0.5381 - accuracy: 0.7972\n",
      "Epoch 14/100\n",
      "250/250 [==============================] - 0s 258us/step - loss: 0.5364 - accuracy: 0.7972\n",
      "Epoch 15/100\n",
      "250/250 [==============================] - 0s 238us/step - loss: 0.5348 - accuracy: 0.7972\n",
      "Epoch 16/100\n",
      "250/250 [==============================] - 0s 245us/step - loss: 0.5333 - accuracy: 0.7972\n",
      "Epoch 17/100\n",
      "250/250 [==============================] - 0s 242us/step - loss: 0.5319 - accuracy: 0.7972\n",
      "Epoch 18/100\n",
      "250/250 [==============================] - 0s 244us/step - loss: 0.5305 - accuracy: 0.7972\n",
      "Epoch 19/100\n",
      "250/250 [==============================] - 0s 243us/step - loss: 0.5293 - accuracy: 0.7972\n",
      "Epoch 20/100\n",
      "250/250 [==============================] - 0s 250us/step - loss: 0.5281 - accuracy: 0.7972\n",
      "Epoch 21/100\n",
      "250/250 [==============================] - 0s 238us/step - loss: 0.5269 - accuracy: 0.7972\n",
      "Epoch 22/100\n",
      "250/250 [==============================] - 0s 246us/step - loss: 0.5258 - accuracy: 0.7972\n",
      "Epoch 23/100\n",
      "250/250 [==============================] - 0s 248us/step - loss: 0.5248 - accuracy: 0.7972\n",
      "Epoch 24/100\n",
      "250/250 [==============================] - 0s 236us/step - loss: 0.5237 - accuracy: 0.7972\n",
      "Epoch 25/100\n",
      "250/250 [==============================] - 0s 244us/step - loss: 0.5228 - accuracy: 0.7972\n",
      "Epoch 26/100\n",
      "250/250 [==============================] - 0s 239us/step - loss: 0.5219 - accuracy: 0.7972\n",
      "Epoch 27/100\n",
      "250/250 [==============================] - 0s 239us/step - loss: 0.5210 - accuracy: 0.7972\n",
      "Epoch 28/100\n",
      "250/250 [==============================] - 0s 262us/step - loss: 0.5201 - accuracy: 0.7972\n",
      "Epoch 29/100\n",
      "250/250 [==============================] - 0s 255us/step - loss: 0.5193 - accuracy: 0.7972\n",
      "Epoch 30/100\n",
      "250/250 [==============================] - 0s 253us/step - loss: 0.5185 - accuracy: 0.7972\n",
      "Epoch 31/100\n",
      "250/250 [==============================] - 0s 257us/step - loss: 0.5177 - accuracy: 0.7972\n",
      "Epoch 32/100\n",
      "250/250 [==============================] - 0s 254us/step - loss: 0.5170 - accuracy: 0.7972\n",
      "Epoch 33/100\n",
      "250/250 [==============================] - 0s 277us/step - loss: 0.5163 - accuracy: 0.7972\n",
      "Epoch 34/100\n",
      "250/250 [==============================] - 0s 260us/step - loss: 0.5156 - accuracy: 0.7972\n",
      "Epoch 35/100\n",
      "250/250 [==============================] - 0s 250us/step - loss: 0.5149 - accuracy: 0.7972\n",
      "Epoch 36/100\n",
      "250/250 [==============================] - 0s 251us/step - loss: 0.5143 - accuracy: 0.7972\n",
      "Epoch 37/100\n",
      "250/250 [==============================] - 0s 259us/step - loss: 0.5136 - accuracy: 0.7972\n",
      "Epoch 38/100\n",
      "250/250 [==============================] - 0s 257us/step - loss: 0.5130 - accuracy: 0.7972\n",
      "Epoch 39/100\n",
      "250/250 [==============================] - 0s 261us/step - loss: 0.5124 - accuracy: 0.7972\n",
      "Epoch 40/100\n",
      "250/250 [==============================] - 0s 239us/step - loss: 0.5118 - accuracy: 0.7972\n",
      "Epoch 41/100\n",
      "250/250 [==============================] - 0s 257us/step - loss: 0.5113 - accuracy: 0.7972\n",
      "Epoch 42/100\n",
      "250/250 [==============================] - 0s 242us/step - loss: 0.5107 - accuracy: 0.7972\n",
      "Epoch 43/100\n",
      "250/250 [==============================] - 0s 247us/step - loss: 0.5102 - accuracy: 0.7972\n",
      "Epoch 44/100\n",
      "250/250 [==============================] - 0s 254us/step - loss: 0.5096 - accuracy: 0.7972\n",
      "Epoch 45/100\n",
      "250/250 [==============================] - 0s 475us/step - loss: 0.5091 - accuracy: 0.7972\n",
      "Epoch 46/100\n",
      "250/250 [==============================] - 0s 252us/step - loss: 0.5086 - accuracy: 0.7972\n",
      "Epoch 47/100\n",
      "250/250 [==============================] - 0s 251us/step - loss: 0.5081 - accuracy: 0.7972\n",
      "Epoch 48/100\n",
      "250/250 [==============================] - 0s 243us/step - loss: 0.5076 - accuracy: 0.7972\n",
      "Epoch 49/100\n",
      "250/250 [==============================] - 0s 249us/step - loss: 0.5072 - accuracy: 0.7972\n",
      "Epoch 50/100\n",
      "250/250 [==============================] - 0s 252us/step - loss: 0.5067 - accuracy: 0.7972\n",
      "Epoch 51/100\n",
      "250/250 [==============================] - 0s 259us/step - loss: 0.5063 - accuracy: 0.7972\n",
      "Epoch 52/100\n",
      "250/250 [==============================] - 0s 251us/step - loss: 0.5058 - accuracy: 0.7972\n",
      "Epoch 53/100\n",
      "250/250 [==============================] - 0s 235us/step - loss: 0.5054 - accuracy: 0.7972\n",
      "Epoch 54/100\n",
      "250/250 [==============================] - 0s 244us/step - loss: 0.5049 - accuracy: 0.7972\n",
      "Epoch 55/100\n",
      "250/250 [==============================] - 0s 240us/step - loss: 0.5045 - accuracy: 0.7972\n",
      "Epoch 56/100\n",
      "250/250 [==============================] - 0s 240us/step - loss: 0.5041 - accuracy: 0.7972\n",
      "Epoch 57/100\n",
      "250/250 [==============================] - 0s 247us/step - loss: 0.5037 - accuracy: 0.7972\n",
      "Epoch 58/100\n",
      "250/250 [==============================] - 0s 241us/step - loss: 0.5033 - accuracy: 0.7972\n",
      "Epoch 59/100\n",
      "250/250 [==============================] - 0s 257us/step - loss: 0.5029 - accuracy: 0.7972\n",
      "Epoch 60/100\n",
      "250/250 [==============================] - 0s 262us/step - loss: 0.5025 - accuracy: 0.7972\n",
      "Epoch 61/100\n",
      "250/250 [==============================] - 0s 253us/step - loss: 0.5021 - accuracy: 0.7972\n",
      "Epoch 62/100\n",
      "250/250 [==============================] - 0s 258us/step - loss: 0.5018 - accuracy: 0.7972\n",
      "Epoch 63/100\n",
      "250/250 [==============================] - 0s 249us/step - loss: 0.5014 - accuracy: 0.7972\n",
      "Epoch 64/100\n",
      "250/250 [==============================] - 0s 254us/step - loss: 0.5010 - accuracy: 0.7972\n",
      "Epoch 65/100\n",
      "250/250 [==============================] - 0s 243us/step - loss: 0.5007 - accuracy: 0.7972\n",
      "Epoch 66/100\n",
      "250/250 [==============================] - 0s 239us/step - loss: 0.5003 - accuracy: 0.7972\n",
      "Epoch 67/100\n",
      "250/250 [==============================] - 0s 247us/step - loss: 0.5000 - accuracy: 0.7972\n",
      "Epoch 68/100\n",
      "250/250 [==============================] - 0s 259us/step - loss: 0.4997 - accuracy: 0.7972\n",
      "Epoch 69/100\n",
      "250/250 [==============================] - 0s 282us/step - loss: 0.4993 - accuracy: 0.7972\n",
      "Epoch 70/100\n",
      "250/250 [==============================] - 0s 248us/step - loss: 0.4990 - accuracy: 0.7972\n",
      "Epoch 71/100\n",
      "250/250 [==============================] - 0s 245us/step - loss: 0.4987 - accuracy: 0.7972\n",
      "Epoch 72/100\n",
      "250/250 [==============================] - 0s 243us/step - loss: 0.4984 - accuracy: 0.7972\n",
      "Epoch 73/100\n",
      "250/250 [==============================] - 0s 249us/step - loss: 0.4981 - accuracy: 0.7972\n",
      "Epoch 74/100\n",
      "250/250 [==============================] - 0s 241us/step - loss: 0.4978 - accuracy: 0.7972\n",
      "Epoch 75/100\n",
      "250/250 [==============================] - 0s 240us/step - loss: 0.4975 - accuracy: 0.7972\n",
      "Epoch 76/100\n",
      "250/250 [==============================] - 0s 235us/step - loss: 0.4972 - accuracy: 0.7972\n",
      "Epoch 77/100\n",
      "250/250 [==============================] - 0s 236us/step - loss: 0.4969 - accuracy: 0.7972\n",
      "Epoch 78/100\n",
      "250/250 [==============================] - 0s 240us/step - loss: 0.4966 - accuracy: 0.7972\n",
      "Epoch 79/100\n",
      "250/250 [==============================] - 0s 265us/step - loss: 0.4963 - accuracy: 0.7972\n",
      "Epoch 80/100\n",
      "250/250 [==============================] - 0s 273us/step - loss: 0.4960 - accuracy: 0.7972\n",
      "Epoch 81/100\n",
      "250/250 [==============================] - 0s 237us/step - loss: 0.4957 - accuracy: 0.7972\n",
      "Epoch 82/100\n",
      "250/250 [==============================] - 0s 241us/step - loss: 0.4955 - accuracy: 0.7972\n",
      "Epoch 83/100\n",
      "250/250 [==============================] - 0s 242us/step - loss: 0.4952 - accuracy: 0.7972\n",
      "Epoch 84/100\n",
      "250/250 [==============================] - 0s 234us/step - loss: 0.4949 - accuracy: 0.7972\n",
      "Epoch 85/100\n",
      "250/250 [==============================] - 0s 238us/step - loss: 0.4947 - accuracy: 0.7972\n",
      "Epoch 86/100\n",
      "250/250 [==============================] - 0s 257us/step - loss: 0.4944 - accuracy: 0.7972\n",
      "Epoch 87/100\n",
      "250/250 [==============================] - 0s 253us/step - loss: 0.4941 - accuracy: 0.7972\n",
      "Epoch 88/100\n",
      "250/250 [==============================] - 0s 246us/step - loss: 0.4939 - accuracy: 0.7972\n",
      "Epoch 89/100\n",
      "250/250 [==============================] - 0s 233us/step - loss: 0.4936 - accuracy: 0.7972\n",
      "Epoch 90/100\n",
      "250/250 [==============================] - 0s 240us/step - loss: 0.4934 - accuracy: 0.7972\n",
      "Epoch 91/100\n",
      "250/250 [==============================] - 0s 248us/step - loss: 0.4931 - accuracy: 0.7972\n",
      "Epoch 92/100\n",
      "250/250 [==============================] - 0s 240us/step - loss: 0.4929 - accuracy: 0.7972\n",
      "Epoch 93/100\n",
      "250/250 [==============================] - 0s 241us/step - loss: 0.4927 - accuracy: 0.7972\n",
      "Epoch 94/100\n",
      "250/250 [==============================] - 0s 250us/step - loss: 0.4924 - accuracy: 0.7972\n",
      "Epoch 95/100\n",
      "250/250 [==============================] - 0s 242us/step - loss: 0.4922 - accuracy: 0.7972\n",
      "Epoch 96/100\n",
      "250/250 [==============================] - 0s 238us/step - loss: 0.4920 - accuracy: 0.7972\n",
      "Epoch 97/100\n",
      "250/250 [==============================] - 0s 244us/step - loss: 0.4918 - accuracy: 0.7972\n",
      "Epoch 98/100\n",
      "250/250 [==============================] - 0s 242us/step - loss: 0.4915 - accuracy: 0.7972\n",
      "Epoch 99/100\n",
      "250/250 [==============================] - 0s 239us/step - loss: 0.4913 - accuracy: 0.7972\n",
      "Epoch 100/100\n",
      "250/250 [==============================] - 0s 239us/step - loss: 0.4911 - accuracy: 0.7972\n"
     ]
    },
    {
     "data": {
      "text/plain": "<keras.callbacks.History at 0x1760c6250>"
     },
     "execution_count": 24,
     "metadata": {},
     "output_type": "execute_result"
    }
   ],
   "source": [
    "ann.fit(X_train,y_train,batch_size=32,epochs=100)"
   ]
  },
  {
   "cell_type": "markdown",
   "metadata": {},
   "source": [
    "## Part 4 - Making the predictions and evaluating the model"
   ]
  },
  {
   "cell_type": "markdown",
   "metadata": {},
   "source": [
    "### Predicting the result of a single observation"
   ]
  },
  {
   "cell_type": "markdown",
   "metadata": {},
   "source": [
    "\n",
    "Use our ANN model to predict if the customer with the following informations will leave the bank: \n",
    "\n",
    "Geography: France\n",
    "\n",
    "Credit Score: 600\n",
    "\n",
    "Gender: Male\n",
    "\n",
    "Age: 40 years old\n",
    "\n",
    "Tenure: 3 years\n",
    "\n",
    "Balance: \\$ 60000\n",
    "\n",
    "Number of Products: 2\n",
    "\n",
    "Does this customer have a credit card ? Yes\n",
    "\n",
    "Is this customer an Active Member: Yes\n",
    "\n",
    "Estimated Salary: \\$ 50000\n",
    "\n",
    "So, should we say goodbye to that customer ?"
   ]
  },
  {
   "cell_type": "markdown",
   "metadata": {},
   "source": [
    "**Solution**"
   ]
  },
  {
   "cell_type": "code",
   "execution_count": 25,
   "metadata": {
    "ExecuteTime": {
     "end_time": "2023-09-27T15:07:13.981295Z",
     "start_time": "2023-09-27T15:07:13.903396Z"
    }
   },
   "outputs": [
    {
     "name": "stdout",
     "output_type": "stream",
     "text": [
      "1/1 [==============================] - 0s 54ms/step\n",
      "[[0.16020438]]\n"
     ]
    }
   ],
   "source": [
    "print(ann.predict(sc.transform([[1,0,0,600,1,40,3,60000,2,1,1,50000]]))) # getting the probability as predicted by the sigmoid function"
   ]
  },
  {
   "cell_type": "code",
   "execution_count": 26,
   "metadata": {
    "ExecuteTime": {
     "end_time": "2023-09-27T15:07:14.014576Z",
     "start_time": "2023-09-27T15:07:13.980960Z"
    }
   },
   "outputs": [
    {
     "name": "stdout",
     "output_type": "stream",
     "text": [
      "1/1 [==============================] - 0s 10ms/step\n",
      "[[False]]\n"
     ]
    }
   ],
   "source": [
    "print(ann.predict(sc.transform([[1,0,0,600,1,40,3,60000,2,1,1,50000]]))>0.5) # getting the answer in 0 or 1/false or true"
   ]
  },
  {
   "cell_type": "markdown",
   "metadata": {},
   "source": [
    "Therefore, our ANN model predicts that this customer stays in the bank!\n",
    "\n",
    "**Important note 1:** Notice that the values of the features were all input in a double pair of square brackets. That's because the \"predict\" method always expects a 2D array as the format of its inputs. And putting our values into a double pair of square brackets makes the input exactly a 2D array.\n",
    "\n",
    "**Important note 2:** Notice also that the \"France\" country was not input as a string in the last column but as \"1, 0, 0\" in the first three columns. That's because of course the predict method expects the one-hot-encoded values of the state, and as we see in the first row of the matrix of features X, \"France\" was encoded as \"1, 0, 0\". And be careful to include these values in the first three columns, because the dummy variables are always created in the first columns."
   ]
  },
  {
   "cell_type": "markdown",
   "metadata": {},
   "source": [
    "### Predicting the Test set results"
   ]
  },
  {
   "cell_type": "code",
   "execution_count": 27,
   "metadata": {
    "ExecuteTime": {
     "end_time": "2023-09-27T15:07:14.066957Z",
     "start_time": "2023-09-27T15:07:14.004258Z"
    }
   },
   "outputs": [
    {
     "name": "stdout",
     "output_type": "stream",
     "text": [
      "63/63 [==============================] - 0s 225us/step\n",
      "[[0 0]\n",
      " [0 0]\n",
      " [0 0]\n",
      " ...\n",
      " [0 0]\n",
      " [0 0]\n",
      " [0 0]]\n"
     ]
    }
   ],
   "source": [
    "y_pred = ann.predict(X_test)\n",
    "y_pred = (y_pred >0.5)\n",
    "print(np.concatenate((y_pred.reshape(len(y_pred),1), y_test.reshape(len(y_test),1)),1))"
   ]
  },
  {
   "cell_type": "markdown",
   "metadata": {},
   "source": [
    "### Making the Confusion Matrix"
   ]
  },
  {
   "cell_type": "code",
   "execution_count": 28,
   "metadata": {
    "ExecuteTime": {
     "end_time": "2023-09-27T15:07:14.067428Z",
     "start_time": "2023-09-27T15:07:14.053378Z"
    }
   },
   "outputs": [
    {
     "name": "stdout",
     "output_type": "stream",
     "text": [
      "[[1585    0]\n",
      " [ 415    0]]\n"
     ]
    },
    {
     "data": {
      "text/plain": "0.7925"
     },
     "execution_count": 28,
     "metadata": {},
     "output_type": "execute_result"
    }
   ],
   "source": [
    "from sklearn.metrics import confusion_matrix, accuracy_score\n",
    "cm = confusion_matrix(y_test, y_pred)\n",
    "print(cm)\n",
    "accuracy_score(y_test, y_pred)"
   ]
  }
 ],
 "metadata": {
  "kernelspec": {
   "display_name": "tf",
   "language": "python",
   "name": "python3"
  },
  "language_info": {
   "codemirror_mode": {
    "name": "ipython",
    "version": 3
   },
   "file_extension": ".py",
   "mimetype": "text/x-python",
   "name": "python",
   "nbconvert_exporter": "python",
   "pygments_lexer": "ipython3",
   "version": "3.11.4"
  },
  "orig_nbformat": 4
 },
 "nbformat": 4,
 "nbformat_minor": 2
}
