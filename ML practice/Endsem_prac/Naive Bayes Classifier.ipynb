{
 "cells": [
  {
   "cell_type": "code",
   "execution_count": 41,
   "id": "initial_id",
   "metadata": {
    "collapsed": true,
    "ExecuteTime": {
     "end_time": "2023-12-27T15:54:39.451175Z",
     "start_time": "2023-12-27T15:54:39.445189Z"
    }
   },
   "outputs": [],
   "source": [
    "import numpy as np\n",
    "import pandas as pd\n",
    "import matplotlib.pyplot as plt\n",
    "from sklearn.feature_extraction.text import CountVectorizer\n",
    "from sklearn.preprocessing import LabelEncoder\n",
    "from sklearn.model_selection import train_test_split\n",
    "from sklearn.naive_bayes import MultinomialNB"
   ]
  },
  {
   "cell_type": "code",
   "execution_count": 6,
   "outputs": [],
   "source": [
    "df = pd.read_csv('spam.csv',encoding = 'latin-1')"
   ],
   "metadata": {
    "collapsed": false,
    "ExecuteTime": {
     "end_time": "2023-12-27T15:31:31.018431Z",
     "start_time": "2023-12-27T15:31:30.968778Z"
    }
   },
   "id": "f0b4e987ca3507be"
  },
  {
   "cell_type": "code",
   "execution_count": 7,
   "outputs": [
    {
     "data": {
      "text/plain": "        v1                                                 v2 Unnamed: 2  \\\n0      ham  Go until jurong point, crazy.. Available only ...        NaN   \n1      ham                      Ok lar... Joking wif u oni...        NaN   \n2     spam  Free entry in 2 a wkly comp to win FA Cup fina...        NaN   \n3      ham  U dun say so early hor... U c already then say...        NaN   \n4      ham  Nah I don't think he goes to usf, he lives aro...        NaN   \n...    ...                                                ...        ...   \n5567  spam  This is the 2nd time we have tried 2 contact u...        NaN   \n5568   ham              Will Ì_ b going to esplanade fr home?        NaN   \n5569   ham  Pity, * was in mood for that. So...any other s...        NaN   \n5570   ham  The guy did some bitching but I acted like i'd...        NaN   \n5571   ham                         Rofl. Its true to its name        NaN   \n\n     Unnamed: 3 Unnamed: 4  \n0           NaN        NaN  \n1           NaN        NaN  \n2           NaN        NaN  \n3           NaN        NaN  \n4           NaN        NaN  \n...         ...        ...  \n5567        NaN        NaN  \n5568        NaN        NaN  \n5569        NaN        NaN  \n5570        NaN        NaN  \n5571        NaN        NaN  \n\n[5572 rows x 5 columns]",
      "text/html": "<div>\n<style scoped>\n    .dataframe tbody tr th:only-of-type {\n        vertical-align: middle;\n    }\n\n    .dataframe tbody tr th {\n        vertical-align: top;\n    }\n\n    .dataframe thead th {\n        text-align: right;\n    }\n</style>\n<table border=\"1\" class=\"dataframe\">\n  <thead>\n    <tr style=\"text-align: right;\">\n      <th></th>\n      <th>v1</th>\n      <th>v2</th>\n      <th>Unnamed: 2</th>\n      <th>Unnamed: 3</th>\n      <th>Unnamed: 4</th>\n    </tr>\n  </thead>\n  <tbody>\n    <tr>\n      <th>0</th>\n      <td>ham</td>\n      <td>Go until jurong point, crazy.. Available only ...</td>\n      <td>NaN</td>\n      <td>NaN</td>\n      <td>NaN</td>\n    </tr>\n    <tr>\n      <th>1</th>\n      <td>ham</td>\n      <td>Ok lar... Joking wif u oni...</td>\n      <td>NaN</td>\n      <td>NaN</td>\n      <td>NaN</td>\n    </tr>\n    <tr>\n      <th>2</th>\n      <td>spam</td>\n      <td>Free entry in 2 a wkly comp to win FA Cup fina...</td>\n      <td>NaN</td>\n      <td>NaN</td>\n      <td>NaN</td>\n    </tr>\n    <tr>\n      <th>3</th>\n      <td>ham</td>\n      <td>U dun say so early hor... U c already then say...</td>\n      <td>NaN</td>\n      <td>NaN</td>\n      <td>NaN</td>\n    </tr>\n    <tr>\n      <th>4</th>\n      <td>ham</td>\n      <td>Nah I don't think he goes to usf, he lives aro...</td>\n      <td>NaN</td>\n      <td>NaN</td>\n      <td>NaN</td>\n    </tr>\n    <tr>\n      <th>...</th>\n      <td>...</td>\n      <td>...</td>\n      <td>...</td>\n      <td>...</td>\n      <td>...</td>\n    </tr>\n    <tr>\n      <th>5567</th>\n      <td>spam</td>\n      <td>This is the 2nd time we have tried 2 contact u...</td>\n      <td>NaN</td>\n      <td>NaN</td>\n      <td>NaN</td>\n    </tr>\n    <tr>\n      <th>5568</th>\n      <td>ham</td>\n      <td>Will Ì_ b going to esplanade fr home?</td>\n      <td>NaN</td>\n      <td>NaN</td>\n      <td>NaN</td>\n    </tr>\n    <tr>\n      <th>5569</th>\n      <td>ham</td>\n      <td>Pity, * was in mood for that. So...any other s...</td>\n      <td>NaN</td>\n      <td>NaN</td>\n      <td>NaN</td>\n    </tr>\n    <tr>\n      <th>5570</th>\n      <td>ham</td>\n      <td>The guy did some bitching but I acted like i'd...</td>\n      <td>NaN</td>\n      <td>NaN</td>\n      <td>NaN</td>\n    </tr>\n    <tr>\n      <th>5571</th>\n      <td>ham</td>\n      <td>Rofl. Its true to its name</td>\n      <td>NaN</td>\n      <td>NaN</td>\n      <td>NaN</td>\n    </tr>\n  </tbody>\n</table>\n<p>5572 rows × 5 columns</p>\n</div>"
     },
     "execution_count": 7,
     "metadata": {},
     "output_type": "execute_result"
    }
   ],
   "source": [
    "df"
   ],
   "metadata": {
    "collapsed": false,
    "ExecuteTime": {
     "end_time": "2023-12-27T15:31:32.507062Z",
     "start_time": "2023-12-27T15:31:32.464393Z"
    }
   },
   "id": "f9ec0949a8d12054"
  },
  {
   "cell_type": "code",
   "execution_count": 9,
   "outputs": [],
   "source": [
    "df = df.iloc[:,:-3]"
   ],
   "metadata": {
    "collapsed": false,
    "ExecuteTime": {
     "end_time": "2023-12-27T15:32:34.293092Z",
     "start_time": "2023-12-27T15:32:34.289218Z"
    }
   },
   "id": "35a12bd1e14b2c49"
  },
  {
   "cell_type": "code",
   "execution_count": 12,
   "outputs": [
    {
     "data": {
      "text/plain": "v1       2\nv2    5169\ndtype: int64"
     },
     "execution_count": 12,
     "metadata": {},
     "output_type": "execute_result"
    }
   ],
   "source": [
    "df.nunique()"
   ],
   "metadata": {
    "collapsed": false,
    "ExecuteTime": {
     "end_time": "2023-12-27T15:33:55.151972Z",
     "start_time": "2023-12-27T15:33:55.144437Z"
    }
   },
   "id": "e6852ed22141ff1b"
  },
  {
   "cell_type": "code",
   "execution_count": 17,
   "outputs": [
    {
     "data": {
      "text/plain": "Index(['v1', 'v2'], dtype='object')"
     },
     "execution_count": 17,
     "metadata": {},
     "output_type": "execute_result"
    }
   ],
   "source": [
    "df.columns"
   ],
   "metadata": {
    "collapsed": false,
    "ExecuteTime": {
     "end_time": "2023-12-27T15:38:55.259478Z",
     "start_time": "2023-12-27T15:38:55.252808Z"
    }
   },
   "id": "9a4135ba9e2a0401"
  },
  {
   "cell_type": "code",
   "execution_count": 18,
   "outputs": [
    {
     "name": "stderr",
     "output_type": "stream",
     "text": [
      "/var/folders/21/yhy2dhmx219b7cbcq243hmwc0000gn/T/ipykernel_20123/942117170.py:1: SettingWithCopyWarning: \n",
      "A value is trying to be set on a copy of a slice from a DataFrame\n",
      "\n",
      "See the caveats in the documentation: https://pandas.pydata.org/pandas-docs/stable/user_guide/indexing.html#returning-a-view-versus-a-copy\n",
      "  df.rename(columns = {'v1':'Category'},inplace= True)\n"
     ]
    }
   ],
   "source": [
    "df.rename(columns = {'v1':'Category'},inplace= True)"
   ],
   "metadata": {
    "collapsed": false,
    "ExecuteTime": {
     "end_time": "2023-12-27T15:39:22.509621Z",
     "start_time": "2023-12-27T15:39:22.507849Z"
    }
   },
   "id": "a8f4e352d0d75d8a"
  },
  {
   "cell_type": "code",
   "execution_count": 22,
   "outputs": [
    {
     "name": "stderr",
     "output_type": "stream",
     "text": [
      "/var/folders/21/yhy2dhmx219b7cbcq243hmwc0000gn/T/ipykernel_20123/2395398442.py:1: SettingWithCopyWarning: \n",
      "A value is trying to be set on a copy of a slice from a DataFrame\n",
      "\n",
      "See the caveats in the documentation: https://pandas.pydata.org/pandas-docs/stable/user_guide/indexing.html#returning-a-view-versus-a-copy\n",
      "  df.rename(columns = {'v2':'Message'},inplace= True)\n"
     ]
    }
   ],
   "source": [
    "df.rename(columns = {'v2':'Message'},inplace= True)"
   ],
   "metadata": {
    "collapsed": false,
    "ExecuteTime": {
     "end_time": "2023-12-27T15:40:55.409723Z",
     "start_time": "2023-12-27T15:40:55.405523Z"
    }
   },
   "id": "8162ffe93a1aa919"
  },
  {
   "cell_type": "code",
   "execution_count": 23,
   "outputs": [
    {
     "data": {
      "text/plain": "      Category                                            Message\n0            0  Go until jurong point, crazy.. Available only ...\n1            0                      Ok lar... Joking wif u oni...\n2            1  Free entry in 2 a wkly comp to win FA Cup fina...\n3            0  U dun say so early hor... U c already then say...\n4            0  Nah I don't think he goes to usf, he lives aro...\n...        ...                                                ...\n5567         1  This is the 2nd time we have tried 2 contact u...\n5568         0              Will Ì_ b going to esplanade fr home?\n5569         0  Pity, * was in mood for that. So...any other s...\n5570         0  The guy did some bitching but I acted like i'd...\n5571         0                         Rofl. Its true to its name\n\n[5572 rows x 2 columns]",
      "text/html": "<div>\n<style scoped>\n    .dataframe tbody tr th:only-of-type {\n        vertical-align: middle;\n    }\n\n    .dataframe tbody tr th {\n        vertical-align: top;\n    }\n\n    .dataframe thead th {\n        text-align: right;\n    }\n</style>\n<table border=\"1\" class=\"dataframe\">\n  <thead>\n    <tr style=\"text-align: right;\">\n      <th></th>\n      <th>Category</th>\n      <th>Message</th>\n    </tr>\n  </thead>\n  <tbody>\n    <tr>\n      <th>0</th>\n      <td>0</td>\n      <td>Go until jurong point, crazy.. Available only ...</td>\n    </tr>\n    <tr>\n      <th>1</th>\n      <td>0</td>\n      <td>Ok lar... Joking wif u oni...</td>\n    </tr>\n    <tr>\n      <th>2</th>\n      <td>1</td>\n      <td>Free entry in 2 a wkly comp to win FA Cup fina...</td>\n    </tr>\n    <tr>\n      <th>3</th>\n      <td>0</td>\n      <td>U dun say so early hor... U c already then say...</td>\n    </tr>\n    <tr>\n      <th>4</th>\n      <td>0</td>\n      <td>Nah I don't think he goes to usf, he lives aro...</td>\n    </tr>\n    <tr>\n      <th>...</th>\n      <td>...</td>\n      <td>...</td>\n    </tr>\n    <tr>\n      <th>5567</th>\n      <td>1</td>\n      <td>This is the 2nd time we have tried 2 contact u...</td>\n    </tr>\n    <tr>\n      <th>5568</th>\n      <td>0</td>\n      <td>Will Ì_ b going to esplanade fr home?</td>\n    </tr>\n    <tr>\n      <th>5569</th>\n      <td>0</td>\n      <td>Pity, * was in mood for that. So...any other s...</td>\n    </tr>\n    <tr>\n      <th>5570</th>\n      <td>0</td>\n      <td>The guy did some bitching but I acted like i'd...</td>\n    </tr>\n    <tr>\n      <th>5571</th>\n      <td>0</td>\n      <td>Rofl. Its true to its name</td>\n    </tr>\n  </tbody>\n</table>\n<p>5572 rows × 2 columns</p>\n</div>"
     },
     "execution_count": 23,
     "metadata": {},
     "output_type": "execute_result"
    }
   ],
   "source": [
    "df"
   ],
   "metadata": {
    "collapsed": false,
    "ExecuteTime": {
     "end_time": "2023-12-27T15:40:56.590972Z",
     "start_time": "2023-12-27T15:40:56.586022Z"
    }
   },
   "id": "176587f165933f9d"
  },
  {
   "cell_type": "code",
   "execution_count": 20,
   "outputs": [
    {
     "name": "stderr",
     "output_type": "stream",
     "text": [
      "/var/folders/21/yhy2dhmx219b7cbcq243hmwc0000gn/T/ipykernel_20123/2120877778.py:2: SettingWithCopyWarning: \n",
      "A value is trying to be set on a copy of a slice from a DataFrame.\n",
      "Try using .loc[row_indexer,col_indexer] = value instead\n",
      "\n",
      "See the caveats in the documentation: https://pandas.pydata.org/pandas-docs/stable/user_guide/indexing.html#returning-a-view-versus-a-copy\n",
      "  df['Category'] = le.fit_transform(df['Category'])\n"
     ]
    }
   ],
   "source": [
    "le = LabelEncoder()\n",
    "df['Category'] = le.fit_transform(df['Category'])"
   ],
   "metadata": {
    "collapsed": false,
    "ExecuteTime": {
     "end_time": "2023-12-27T15:39:50.935557Z",
     "start_time": "2023-12-27T15:39:50.933034Z"
    }
   },
   "id": "901bb9cf4372e3a2"
  },
  {
   "cell_type": "code",
   "execution_count": 21,
   "outputs": [
    {
     "data": {
      "text/plain": "      Category                                                 v2\n0            0  Go until jurong point, crazy.. Available only ...\n1            0                      Ok lar... Joking wif u oni...\n2            1  Free entry in 2 a wkly comp to win FA Cup fina...\n3            0  U dun say so early hor... U c already then say...\n4            0  Nah I don't think he goes to usf, he lives aro...\n...        ...                                                ...\n5567         1  This is the 2nd time we have tried 2 contact u...\n5568         0              Will Ì_ b going to esplanade fr home?\n5569         0  Pity, * was in mood for that. So...any other s...\n5570         0  The guy did some bitching but I acted like i'd...\n5571         0                         Rofl. Its true to its name\n\n[5572 rows x 2 columns]",
      "text/html": "<div>\n<style scoped>\n    .dataframe tbody tr th:only-of-type {\n        vertical-align: middle;\n    }\n\n    .dataframe tbody tr th {\n        vertical-align: top;\n    }\n\n    .dataframe thead th {\n        text-align: right;\n    }\n</style>\n<table border=\"1\" class=\"dataframe\">\n  <thead>\n    <tr style=\"text-align: right;\">\n      <th></th>\n      <th>Category</th>\n      <th>v2</th>\n    </tr>\n  </thead>\n  <tbody>\n    <tr>\n      <th>0</th>\n      <td>0</td>\n      <td>Go until jurong point, crazy.. Available only ...</td>\n    </tr>\n    <tr>\n      <th>1</th>\n      <td>0</td>\n      <td>Ok lar... Joking wif u oni...</td>\n    </tr>\n    <tr>\n      <th>2</th>\n      <td>1</td>\n      <td>Free entry in 2 a wkly comp to win FA Cup fina...</td>\n    </tr>\n    <tr>\n      <th>3</th>\n      <td>0</td>\n      <td>U dun say so early hor... U c already then say...</td>\n    </tr>\n    <tr>\n      <th>4</th>\n      <td>0</td>\n      <td>Nah I don't think he goes to usf, he lives aro...</td>\n    </tr>\n    <tr>\n      <th>...</th>\n      <td>...</td>\n      <td>...</td>\n    </tr>\n    <tr>\n      <th>5567</th>\n      <td>1</td>\n      <td>This is the 2nd time we have tried 2 contact u...</td>\n    </tr>\n    <tr>\n      <th>5568</th>\n      <td>0</td>\n      <td>Will Ì_ b going to esplanade fr home?</td>\n    </tr>\n    <tr>\n      <th>5569</th>\n      <td>0</td>\n      <td>Pity, * was in mood for that. So...any other s...</td>\n    </tr>\n    <tr>\n      <th>5570</th>\n      <td>0</td>\n      <td>The guy did some bitching but I acted like i'd...</td>\n    </tr>\n    <tr>\n      <th>5571</th>\n      <td>0</td>\n      <td>Rofl. Its true to its name</td>\n    </tr>\n  </tbody>\n</table>\n<p>5572 rows × 2 columns</p>\n</div>"
     },
     "execution_count": 21,
     "metadata": {},
     "output_type": "execute_result"
    }
   ],
   "source": [
    "df"
   ],
   "metadata": {
    "collapsed": false,
    "ExecuteTime": {
     "end_time": "2023-12-27T15:39:53.112646Z",
     "start_time": "2023-12-27T15:39:53.102759Z"
    }
   },
   "id": "398e83ebc5072024"
  },
  {
   "cell_type": "code",
   "execution_count": 26,
   "outputs": [],
   "source": [
    "X = df.iloc[:,1].values\n",
    "y = df.iloc[:,0].values"
   ],
   "metadata": {
    "collapsed": false,
    "ExecuteTime": {
     "end_time": "2023-12-27T15:41:41.386012Z",
     "start_time": "2023-12-27T15:41:41.382894Z"
    }
   },
   "id": "3bb2f04b51d3ef5f"
  },
  {
   "cell_type": "code",
   "execution_count": 27,
   "outputs": [
    {
     "data": {
      "text/plain": "array(['Go until jurong point, crazy.. Available only in bugis n great world la e buffet... Cine there got amore wat...',\n       'Ok lar... Joking wif u oni...',\n       \"Free entry in 2 a wkly comp to win FA Cup final tkts 21st May 2005. Text FA to 87121 to receive entry question(std txt rate)T&C's apply 08452810075over18's\",\n       ..., 'Pity, * was in mood for that. So...any other suggestions?',\n       \"The guy did some bitching but I acted like i'd be interested in buying something else next week and he gave it to us for free\",\n       'Rofl. Its true to its name'], dtype=object)"
     },
     "execution_count": 27,
     "metadata": {},
     "output_type": "execute_result"
    }
   ],
   "source": [
    "X"
   ],
   "metadata": {
    "collapsed": false,
    "ExecuteTime": {
     "end_time": "2023-12-27T15:41:43.399193Z",
     "start_time": "2023-12-27T15:41:43.394203Z"
    }
   },
   "id": "7bb0ed2ee4bc49c4"
  },
  {
   "cell_type": "code",
   "execution_count": 29,
   "outputs": [],
   "source": [
    "X_train,X_test,y_train,y_test = train_test_split(X,y,random_state=42,test_size=0.2)"
   ],
   "metadata": {
    "collapsed": false,
    "ExecuteTime": {
     "end_time": "2023-12-27T15:42:32.327616Z",
     "start_time": "2023-12-27T15:42:32.322935Z"
    }
   },
   "id": "e699686f14b26fc1"
  },
  {
   "cell_type": "code",
   "execution_count": 57,
   "outputs": [],
   "source": [
    "count_vec = CountVectorizer()"
   ],
   "metadata": {
    "collapsed": false,
    "ExecuteTime": {
     "end_time": "2023-12-27T16:55:39.503265Z",
     "start_time": "2023-12-27T16:55:39.500310Z"
    }
   },
   "id": "1137c079423ece26"
  },
  {
   "cell_type": "code",
   "execution_count": 31,
   "outputs": [
    {
     "data": {
      "text/plain": "'Convert a collection of text documents to a matrix of token counts.\\n\\n    This implementation produces a sparse representation of the counts using\\n    scipy.sparse.csr_matrix.\\n\\n    If you do not provide an a-priori dictionary and you do not use an analyzer\\n    that does some kind of feature selection then the number of features will\\n    be equal to the vocabulary size found by analyzing the data.\\n\\n    For an efficiency comparision of the different feature extractors, see\\n    :ref:`sphx_glr_auto_examples_text_plot_hashing_vs_dict_vectorizer.py`.\\n\\n    Read more in the :ref:`User Guide <text_feature_extraction>`.\\n\\n    Parameters\\n    ----------\\n    input : {\\'filename\\', \\'file\\', \\'content\\'}, default=\\'content\\'\\n        - If `\\'filename\\'`, the sequence passed as an argument to fit is\\n          expected to be a list of filenames that need reading to fetch\\n          the raw content to analyze.\\n\\n        - If `\\'file\\'`, the sequence items must have a \\'read\\' method (file-like\\n          object) that is called to fetch the bytes in memory.\\n\\n        - If `\\'content\\'`, the input is expected to be a sequence of items that\\n          can be of type string or byte.\\n\\n    encoding : str, default=\\'utf-8\\'\\n        If bytes or files are given to analyze, this encoding is used to\\n        decode.\\n\\n    decode_error : {\\'strict\\', \\'ignore\\', \\'replace\\'}, default=\\'strict\\'\\n        Instruction on what to do if a byte sequence is given to analyze that\\n        contains characters not of the given `encoding`. By default, it is\\n        \\'strict\\', meaning that a UnicodeDecodeError will be raised. Other\\n        values are \\'ignore\\' and \\'replace\\'.\\n\\n    strip_accents : {\\'ascii\\', \\'unicode\\'} or callable, default=None\\n        Remove accents and perform other character normalization\\n        during the preprocessing step.\\n        \\'ascii\\' is a fast method that only works on characters that have\\n        a direct ASCII mapping.\\n        \\'unicode\\' is a slightly slower method that works on any characters.\\n        None (default) means no character normalization is performed.\\n\\n        Both \\'ascii\\' and \\'unicode\\' use NFKD normalization from\\n        :func:`unicodedata.normalize`.\\n\\n    lowercase : bool, default=True\\n        Convert all characters to lowercase before tokenizing.\\n\\n    preprocessor : callable, default=None\\n        Override the preprocessing (strip_accents and lowercase) stage while\\n        preserving the tokenizing and n-grams generation steps.\\n        Only applies if ``analyzer`` is not callable.\\n\\n    tokenizer : callable, default=None\\n        Override the string tokenization step while preserving the\\n        preprocessing and n-grams generation steps.\\n        Only applies if ``analyzer == \\'word\\'``.\\n\\n    stop_words : {\\'english\\'}, list, default=None\\n        If \\'english\\', a built-in stop word list for English is used.\\n        There are several known issues with \\'english\\' and you should\\n        consider an alternative (see :ref:`stop_words`).\\n\\n        If a list, that list is assumed to contain stop words, all of which\\n        will be removed from the resulting tokens.\\n        Only applies if ``analyzer == \\'word\\'``.\\n\\n        If None, no stop words will be used. In this case, setting `max_df`\\n        to a higher value, such as in the range (0.7, 1.0), can automatically detect\\n        and filter stop words based on intra corpus document frequency of terms.\\n\\n    token_pattern : str or None, default=r\"(?u)\\\\\\\\b\\\\\\\\w\\\\\\\\w+\\\\\\\\b\"\\n        Regular expression denoting what constitutes a \"token\", only used\\n        if ``analyzer == \\'word\\'``. The default regexp select tokens of 2\\n        or more alphanumeric characters (punctuation is completely ignored\\n        and always treated as a token separator).\\n\\n        If there is a capturing group in token_pattern then the\\n        captured group content, not the entire match, becomes the token.\\n        At most one capturing group is permitted.\\n\\n    ngram_range : tuple (min_n, max_n), default=(1, 1)\\n        The lower and upper boundary of the range of n-values for different\\n        word n-grams or char n-grams to be extracted. All values of n such\\n        such that min_n <= n <= max_n will be used. For example an\\n        ``ngram_range`` of ``(1, 1)`` means only unigrams, ``(1, 2)`` means\\n        unigrams and bigrams, and ``(2, 2)`` means only bigrams.\\n        Only applies if ``analyzer`` is not callable.\\n\\n    analyzer : {\\'word\\', \\'char\\', \\'char_wb\\'} or callable, default=\\'word\\'\\n        Whether the feature should be made of word n-gram or character\\n        n-grams.\\n        Option \\'char_wb\\' creates character n-grams only from text inside\\n        word boundaries; n-grams at the edges of words are padded with space.\\n\\n        If a callable is passed it is used to extract the sequence of features\\n        out of the raw, unprocessed input.\\n\\n        .. versionchanged:: 0.21\\n\\n        Since v0.21, if ``input`` is ``filename`` or ``file``, the data is\\n        first read from the file and then passed to the given callable\\n        analyzer.\\n\\n    max_df : float in range [0.0, 1.0] or int, default=1.0\\n        When building the vocabulary ignore terms that have a document\\n        frequency strictly higher than the given threshold (corpus-specific\\n        stop words).\\n        If float, the parameter represents a proportion of documents, integer\\n        absolute counts.\\n        This parameter is ignored if vocabulary is not None.\\n\\n    min_df : float in range [0.0, 1.0] or int, default=1\\n        When building the vocabulary ignore terms that have a document\\n        frequency strictly lower than the given threshold. This value is also\\n        called cut-off in the literature.\\n        If float, the parameter represents a proportion of documents, integer\\n        absolute counts.\\n        This parameter is ignored if vocabulary is not None.\\n\\n    max_features : int, default=None\\n        If not None, build a vocabulary that only consider the top\\n        `max_features` ordered by term frequency across the corpus.\\n        Otherwise, all features are used.\\n\\n        This parameter is ignored if vocabulary is not None.\\n\\n    vocabulary : Mapping or iterable, default=None\\n        Either a Mapping (e.g., a dict) where keys are terms and values are\\n        indices in the feature matrix, or an iterable over terms. If not\\n        given, a vocabulary is determined from the input documents. Indices\\n        in the mapping should not be repeated and should not have any gap\\n        between 0 and the largest index.\\n\\n    binary : bool, default=False\\n        If True, all non zero counts are set to 1. This is useful for discrete\\n        probabilistic models that model binary events rather than integer\\n        counts.\\n\\n    dtype : dtype, default=np.int64\\n        Type of the matrix returned by fit_transform() or transform().\\n\\n    Attributes\\n    ----------\\n    vocabulary_ : dict\\n        A mapping of terms to feature indices.\\n\\n    fixed_vocabulary_ : bool\\n        True if a fixed vocabulary of term to indices mapping\\n        is provided by the user.\\n\\n    stop_words_ : set\\n        Terms that were ignored because they either:\\n\\n          - occurred in too many documents (`max_df`)\\n          - occurred in too few documents (`min_df`)\\n          - were cut off by feature selection (`max_features`).\\n\\n        This is only available if no vocabulary was given.\\n\\n    See Also\\n    --------\\n    HashingVectorizer : Convert a collection of text documents to a\\n        matrix of token counts.\\n\\n    TfidfVectorizer : Convert a collection of raw documents to a matrix\\n        of TF-IDF features.\\n\\n    Notes\\n    -----\\n    The ``stop_words_`` attribute can get large and increase the model size\\n    when pickling. This attribute is provided only for introspection and can\\n    be safely removed using delattr or set to None before pickling.\\n\\n    Examples\\n    --------\\n    >>> from sklearn.feature_extraction.text import CountVectorizer\\n    >>> corpus = [\\n    ...     \\'This is the first document.\\',\\n    ...     \\'This document is the second document.\\',\\n    ...     \\'And this is the third one.\\',\\n    ...     \\'Is this the first document?\\',\\n    ... ]\\n    >>> vectorizer = CountVectorizer()\\n    >>> X = vectorizer.fit_transform(corpus)\\n    >>> vectorizer.get_feature_names_out()\\n    array([\\'and\\', \\'document\\', \\'first\\', \\'is\\', \\'one\\', \\'second\\', \\'the\\', \\'third\\',\\n           \\'this\\'], ...)\\n    >>> print(X.toarray())\\n    [[0 1 1 1 0 0 1 0 1]\\n     [0 2 0 1 0 1 1 0 1]\\n     [1 0 0 1 1 0 1 1 1]\\n     [0 1 1 1 0 0 1 0 1]]\\n    >>> vectorizer2 = CountVectorizer(analyzer=\\'word\\', ngram_range=(2, 2))\\n    >>> X2 = vectorizer2.fit_transform(corpus)\\n    >>> vectorizer2.get_feature_names_out()\\n    array([\\'and this\\', \\'document is\\', \\'first document\\', \\'is the\\', \\'is this\\',\\n           \\'second document\\', \\'the first\\', \\'the second\\', \\'the third\\', \\'third one\\',\\n           \\'this document\\', \\'this is\\', \\'this the\\'], ...)\\n     >>> print(X2.toarray())\\n     [[0 0 1 1 0 0 1 0 0 0 0 1 0]\\n     [0 1 0 1 0 1 0 1 0 0 1 0 0]\\n     [1 0 0 1 0 0 0 0 1 1 0 1 0]\\n     [0 0 1 0 1 0 1 0 0 0 0 0 1]]\\n    '"
     },
     "execution_count": 31,
     "metadata": {},
     "output_type": "execute_result"
    }
   ],
   "source": [
    "count_vec.__doc__"
   ],
   "metadata": {
    "collapsed": false,
    "ExecuteTime": {
     "end_time": "2023-12-27T15:44:09.662457Z",
     "start_time": "2023-12-27T15:44:09.654570Z"
    }
   },
   "id": "e6fd8437d476113e"
  },
  {
   "cell_type": "code",
   "execution_count": 59,
   "outputs": [
    {
     "data": {
      "text/plain": "['__annotations__',\n '__class__',\n '__delattr__',\n '__dict__',\n '__dir__',\n '__doc__',\n '__eq__',\n '__format__',\n '__ge__',\n '__getattribute__',\n '__getstate__',\n '__gt__',\n '__hash__',\n '__init__',\n '__init_subclass__',\n '__le__',\n '__lt__',\n '__module__',\n '__ne__',\n '__new__',\n '__reduce__',\n '__reduce_ex__',\n '__repr__',\n '__setattr__',\n '__setstate__',\n '__sizeof__',\n '__sklearn_clone__',\n '__str__',\n '__subclasshook__',\n '__weakref__',\n '_build_request_for_signature',\n '_char_ngrams',\n '_char_wb_ngrams',\n '_check_feature_names',\n '_check_n_features',\n '_check_stop_words_consistency',\n '_check_vocabulary',\n '_count_vocab',\n '_get_default_requests',\n '_get_metadata_request',\n '_get_param_names',\n '_get_tags',\n '_limit_features',\n '_more_tags',\n '_parameter_constraints',\n '_repr_html_',\n '_repr_html_inner',\n '_repr_mimebundle_',\n '_sort_features',\n '_validate_data',\n '_validate_ngram_range',\n '_validate_params',\n '_validate_vocabulary',\n '_warn_for_unused_params',\n '_white_spaces',\n '_word_ngrams',\n 'build_analyzer',\n 'build_preprocessor',\n 'build_tokenizer',\n 'decode',\n 'fit',\n 'fit_transform',\n 'get_feature_names_out',\n 'get_metadata_routing',\n 'get_params',\n 'get_stop_words',\n 'inverse_transform',\n 'set_fit_request',\n 'set_params',\n 'set_transform_request',\n 'transform']"
     },
     "execution_count": 59,
     "metadata": {},
     "output_type": "execute_result"
    }
   ],
   "source": [
    "dir(CountVectorizer)"
   ],
   "metadata": {
    "collapsed": false,
    "ExecuteTime": {
     "end_time": "2023-12-27T16:56:18.825937Z",
     "start_time": "2023-12-27T16:56:18.817332Z"
    }
   },
   "id": "60015416be6b7f84"
  },
  {
   "cell_type": "code",
   "execution_count": 33,
   "outputs": [
    {
     "name": "stdout",
     "output_type": "stream",
     "text": [
      "Convert a collection of text documents to a matrix of token counts.\n",
      "\n",
      "    This implementation produces a sparse representation of the counts using\n",
      "    scipy.sparse.csr_matrix.\n",
      "\n",
      "    If you do not provide an a-priori dictionary and you do not use an analyzer\n",
      "    that does some kind of feature selection then the number of features will\n",
      "    be equal to the vocabulary size found by analyzing the data.\n",
      "\n",
      "    For an efficiency comparision of the different feature extractors, see\n",
      "    :ref:`sphx_glr_auto_examples_text_plot_hashing_vs_dict_vectorizer.py`.\n",
      "\n",
      "    Read more in the :ref:`User Guide <text_feature_extraction>`.\n",
      "\n",
      "    Parameters\n",
      "    ----------\n",
      "    input : {'filename', 'file', 'content'}, default='content'\n",
      "        - If `'filename'`, the sequence passed as an argument to fit is\n",
      "          expected to be a list of filenames that need reading to fetch\n",
      "          the raw content to analyze.\n",
      "\n",
      "        - If `'file'`, the sequence items must have a 'read' method (file-like\n",
      "          object) that is called to fetch the bytes in memory.\n",
      "\n",
      "        - If `'content'`, the input is expected to be a sequence of items that\n",
      "          can be of type string or byte.\n",
      "\n",
      "    encoding : str, default='utf-8'\n",
      "        If bytes or files are given to analyze, this encoding is used to\n",
      "        decode.\n",
      "\n",
      "    decode_error : {'strict', 'ignore', 'replace'}, default='strict'\n",
      "        Instruction on what to do if a byte sequence is given to analyze that\n",
      "        contains characters not of the given `encoding`. By default, it is\n",
      "        'strict', meaning that a UnicodeDecodeError will be raised. Other\n",
      "        values are 'ignore' and 'replace'.\n",
      "\n",
      "    strip_accents : {'ascii', 'unicode'} or callable, default=None\n",
      "        Remove accents and perform other character normalization\n",
      "        during the preprocessing step.\n",
      "        'ascii' is a fast method that only works on characters that have\n",
      "        a direct ASCII mapping.\n",
      "        'unicode' is a slightly slower method that works on any characters.\n",
      "        None (default) means no character normalization is performed.\n",
      "\n",
      "        Both 'ascii' and 'unicode' use NFKD normalization from\n",
      "        :func:`unicodedata.normalize`.\n",
      "\n",
      "    lowercase : bool, default=True\n",
      "        Convert all characters to lowercase before tokenizing.\n",
      "\n",
      "    preprocessor : callable, default=None\n",
      "        Override the preprocessing (strip_accents and lowercase) stage while\n",
      "        preserving the tokenizing and n-grams generation steps.\n",
      "        Only applies if ``analyzer`` is not callable.\n",
      "\n",
      "    tokenizer : callable, default=None\n",
      "        Override the string tokenization step while preserving the\n",
      "        preprocessing and n-grams generation steps.\n",
      "        Only applies if ``analyzer == 'word'``.\n",
      "\n",
      "    stop_words : {'english'}, list, default=None\n",
      "        If 'english', a built-in stop word list for English is used.\n",
      "        There are several known issues with 'english' and you should\n",
      "        consider an alternative (see :ref:`stop_words`).\n",
      "\n",
      "        If a list, that list is assumed to contain stop words, all of which\n",
      "        will be removed from the resulting tokens.\n",
      "        Only applies if ``analyzer == 'word'``.\n",
      "\n",
      "        If None, no stop words will be used. In this case, setting `max_df`\n",
      "        to a higher value, such as in the range (0.7, 1.0), can automatically detect\n",
      "        and filter stop words based on intra corpus document frequency of terms.\n",
      "\n",
      "    token_pattern : str or None, default=       Regular expression denoting what constitutes a , only used\n",
      "        if ``analyzer == 'word'``. The default regexp select tokens of 2\n",
      "        or more alphanumeric characters (punctuation is completely ignored\n",
      "        and always treated as a token separator).\n",
      "\n",
      "        If there is a capturing group in token_pattern then the\n",
      "        captured group content, not the entire match, becomes the token.\n",
      "        At most one capturing group is permitted.\n",
      "\n",
      "    ngram_range : tuple (min_n, max_n), default=(1, 1)\n",
      "        The lower and upper boundary of the range of n-values for different\n",
      "        word n-grams or char n-grams to be extracted. All values of n such\n",
      "        such that min_n <= n <= max_n will be used. For example an\n",
      "        ``ngram_range`` of ``(1, 1)`` means only unigrams, ``(1, 2)`` means\n",
      "        unigrams and bigrams, and ``(2, 2)`` means only bigrams.\n",
      "        Only applies if ``analyzer`` is not callable.\n",
      "\n",
      "    analyzer : {'word', 'char', 'char_wb'} or callable, default='word'\n",
      "        Whether the feature should be made of word n-gram or character\n",
      "        n-grams.\n",
      "        Option 'char_wb' creates character n-grams only from text inside\n",
      "        word boundaries; n-grams at the edges of words are padded with space.\n",
      "\n",
      "        If a callable is passed it is used to extract the sequence of features\n",
      "        out of the raw, unprocessed input.\n",
      "\n",
      "        .. versionchanged:: 0.21\n",
      "\n",
      "        Since v0.21, if ``input`` is ``filename`` or ``file``, the data is\n",
      "        first read from the file and then passed to the given callable\n",
      "        analyzer.\n",
      "\n",
      "    max_df : float in range [0.0, 1.0] or int, default=1.0\n",
      "        When building the vocabulary ignore terms that have a document\n",
      "        frequency strictly higher than the given threshold (corpus-specific\n",
      "        stop words).\n",
      "        If float, the parameter represents a proportion of documents, integer\n",
      "        absolute counts.\n",
      "        This parameter is ignored if vocabulary is not None.\n",
      "\n",
      "    min_df : float in range [0.0, 1.0] or int, default=1\n",
      "        When building the vocabulary ignore terms that have a document\n",
      "        frequency strictly lower than the given threshold. This value is also\n",
      "        called cut-off in the literature.\n",
      "        If float, the parameter represents a proportion of documents, integer\n",
      "        absolute counts.\n",
      "        This parameter is ignored if vocabulary is not None.\n",
      "\n",
      "    max_features : int, default=None\n",
      "        If not None, build a vocabulary that only consider the top\n",
      "        `max_features` ordered by term frequency across the corpus.\n",
      "        Otherwise, all features are used.\n",
      "\n",
      "        This parameter is ignored if vocabulary is not None.\n",
      "\n",
      "    vocabulary : Mapping or iterable, default=None\n",
      "        Either a Mapping (e.g., a dict) where keys are terms and values are\n",
      "        indices in the feature matrix, or an iterable over terms. If not\n",
      "        given, a vocabulary is determined from the input documents. Indices\n",
      "        in the mapping should not be repeated and should not have any gap\n",
      "        between 0 and the largest index.\n",
      "\n",
      "    binary : bool, default=False\n",
      "        If True, all non zero counts are set to 1. This is useful for discrete\n",
      "        probabilistic models that model binary events rather than integer\n",
      "        counts.\n",
      "\n",
      "    dtype : dtype, default=np.int64\n",
      "        Type of the matrix returned by fit_transform() or transform().\n",
      "\n",
      "    Attributes\n",
      "    ----------\n",
      "    vocabulary_ : dict\n",
      "        A mapping of terms to feature indices.\n",
      "\n",
      "    fixed_vocabulary_ : bool\n",
      "        True if a fixed vocabulary of term to indices mapping\n",
      "        is provided by the user.\n",
      "\n",
      "    stop_words_ : set\n",
      "        Terms that were ignored because they either:\n",
      "\n",
      "          - occurred in too many documents (`max_df`)\n",
      "          - occurred in too few documents (`min_df`)\n",
      "          - were cut off by feature selection (`max_features`).\n",
      "\n",
      "        This is only available if no vocabulary was given.\n",
      "\n",
      "    See Also\n",
      "    --------\n",
      "    HashingVectorizer : Convert a collection of text documents to a\n",
      "        matrix of token counts.\n",
      "\n",
      "    TfidfVectorizer : Convert a collection of raw documents to a matrix\n",
      "        of TF-IDF features.\n",
      "\n",
      "    Notes\n",
      "    -----\n",
      "    The ``stop_words_`` attribute can get large and increase the model size\n",
      "    when pickling. This attribute is provided only for introspection and can\n",
      "    be safely removed using delattr or set to None before pickling.\n",
      "\n",
      "    Examples\n",
      "    --------\n",
      "    >>> from sklearn.feature_extraction.text import CountVectorizer\n",
      "    >>> corpus = [\n",
      "    ...     'This is the first document.',\n",
      "    ...     'This document is the second document.',\n",
      "    ...     'And this is the third one.',\n",
      "    ...     'Is this the first document?',\n",
      "    ... ]\n",
      "    >>> vectorizer = CountVectorizer()\n",
      "    >>> X = vectorizer.fit_transform(corpus)\n",
      "    >>> vectorizer.get_feature_names_out()\n",
      "    array(['and', 'document', 'first', 'is', 'one', 'second', 'the', 'third',\n",
      "           'this'], ...)\n",
      "    >>> print(X.toarray())\n",
      "    [[0 1 1 1 0 0 1 0 1]\n",
      "     [0 2 0 1 0 1 1 0 1]\n",
      "     [1 0 0 1 1 0 1 1 1]\n",
      "     [0 1 1 1 0 0 1 0 1]]\n",
      "    >>> vectorizer2 = CountVectorizer(analyzer='word', ngram_range=(2, 2))\n",
      "    >>> X2 = vectorizer2.fit_transform(corpus)\n",
      "    >>> vectorizer2.get_feature_names_out()\n",
      "    array(['and this', 'document is', 'first document', 'is the', 'is this',\n",
      "           'second document', 'the first', 'the second', 'the third', 'third one',\n",
      "           'this document', 'this is', 'this the'], ...)\n",
      "     >>> print(X2.toarray())\n",
      "     [[0 0 1 1 0 0 1 0 0 0 0 1 0]\n",
      "     [0 1 0 1 0 1 0 1 0 0 1 0 0]\n",
      "     [1 0 0 1 0 0 0 0 1 1 0 1 0]\n",
      "     [0 0 1 0 1 0 1 0 0 0 0 0 1]]\n",
      "    '\n"
     ]
    }
   ],
   "source": [
    "print(\"Convert a collection of text documents to a matrix of token counts.\\n\\n    This implementation produces a sparse representation of the counts using\\n    scipy.sparse.csr_matrix.\\n\\n    If you do not provide an a-priori dictionary and you do not use an analyzer\\n    that does some kind of feature selection then the number of features will\\n    be equal to the vocabulary size found by analyzing the data.\\n\\n    For an efficiency comparision of the different feature extractors, see\\n    :ref:`sphx_glr_auto_examples_text_plot_hashing_vs_dict_vectorizer.py`.\\n\\n    Read more in the :ref:`User Guide <text_feature_extraction>`.\\n\\n    Parameters\\n    ----------\\n    input : {\\'filename\\', \\'file\\', \\'content\\'}, default=\\'content\\'\\n        - If `\\'filename\\'`, the sequence passed as an argument to fit is\\n          expected to be a list of filenames that need reading to fetch\\n          the raw content to analyze.\\n\\n        - If `\\'file\\'`, the sequence items must have a \\'read\\' method (file-like\\n          object) that is called to fetch the bytes in memory.\\n\\n        - If `\\'content\\'`, the input is expected to be a sequence of items that\\n          can be of type string or byte.\\n\\n    encoding : str, default=\\'utf-8\\'\\n        If bytes or files are given to analyze, this encoding is used to\\n        decode.\\n\\n    decode_error : {\\'strict\\', \\'ignore\\', \\'replace\\'}, default=\\'strict\\'\\n        Instruction on what to do if a byte sequence is given to analyze that\\n        contains characters not of the given `encoding`. By default, it is\\n        \\'strict\\', meaning that a UnicodeDecodeError will be raised. Other\\n        values are \\'ignore\\' and \\'replace\\'.\\n\\n    strip_accents : {\\'ascii\\', \\'unicode\\'} or callable, default=None\\n        Remove accents and perform other character normalization\\n        during the preprocessing step.\\n        \\'ascii\\' is a fast method that only works on characters that have\\n        a direct ASCII mapping.\\n        \\'unicode\\' is a slightly slower method that works on any characters.\\n        None (default) means no character normalization is performed.\\n\\n        Both \\'ascii\\' and \\'unicode\\' use NFKD normalization from\\n        :func:`unicodedata.normalize`.\\n\\n    lowercase : bool, default=True\\n        Convert all characters to lowercase before tokenizing.\\n\\n    preprocessor : callable, default=None\\n        Override the preprocessing (strip_accents and lowercase) stage while\\n        preserving the tokenizing and n-grams generation steps.\\n        Only applies if ``analyzer`` is not callable.\\n\\n    tokenizer : callable, default=None\\n        Override the string tokenization step while preserving the\\n        preprocessing and n-grams generation steps.\\n        Only applies if ``analyzer == \\'word\\'``.\\n\\n    stop_words : {\\'english\\'}, list, default=None\\n        If \\'english\\', a built-in stop word list for English is used.\\n        There are several known issues with \\'english\\' and you should\\n        consider an alternative (see :ref:`stop_words`).\\n\\n        If a list, that list is assumed to contain stop words, all of which\\n        will be removed from the resulting tokens.\\n        Only applies if ``analyzer == \\'word\\'``.\\n\\n        If None, no stop words will be used. In this case, setting `max_df`\\n        to a higher value, such as in the range (0.7, 1.0), can automatically detect\\n        and filter stop words based on intra corpus document frequency of terms.\\n\\n    token_pattern : str or None, default=       Regular expression denoting what constitutes a , only used\\n        if ``analyzer == \\'word\\'``. The default regexp select tokens of 2\\n        or more alphanumeric characters (punctuation is completely ignored\\n        and always treated as a token separator).\\n\\n        If there is a capturing group in token_pattern then the\\n        captured group content, not the entire match, becomes the token.\\n        At most one capturing group is permitted.\\n\\n    ngram_range : tuple (min_n, max_n), default=(1, 1)\\n        The lower and upper boundary of the range of n-values for different\\n        word n-grams or char n-grams to be extracted. All values of n such\\n        such that min_n <= n <= max_n will be used. For example an\\n        ``ngram_range`` of ``(1, 1)`` means only unigrams, ``(1, 2)`` means\\n        unigrams and bigrams, and ``(2, 2)`` means only bigrams.\\n        Only applies if ``analyzer`` is not callable.\\n\\n    analyzer : {\\'word\\', \\'char\\', \\'char_wb\\'} or callable, default=\\'word\\'\\n        Whether the feature should be made of word n-gram or character\\n        n-grams.\\n        Option \\'char_wb\\' creates character n-grams only from text inside\\n        word boundaries; n-grams at the edges of words are padded with space.\\n\\n        If a callable is passed it is used to extract the sequence of features\\n        out of the raw, unprocessed input.\\n\\n        .. versionchanged:: 0.21\\n\\n        Since v0.21, if ``input`` is ``filename`` or ``file``, the data is\\n        first read from the file and then passed to the given callable\\n        analyzer.\\n\\n    max_df : float in range [0.0, 1.0] or int, default=1.0\\n        When building the vocabulary ignore terms that have a document\\n        frequency strictly higher than the given threshold (corpus-specific\\n        stop words).\\n        If float, the parameter represents a proportion of documents, integer\\n        absolute counts.\\n        This parameter is ignored if vocabulary is not None.\\n\\n    min_df : float in range [0.0, 1.0] or int, default=1\\n        When building the vocabulary ignore terms that have a document\\n        frequency strictly lower than the given threshold. This value is also\\n        called cut-off in the literature.\\n        If float, the parameter represents a proportion of documents, integer\\n        absolute counts.\\n        This parameter is ignored if vocabulary is not None.\\n\\n    max_features : int, default=None\\n        If not None, build a vocabulary that only consider the top\\n        `max_features` ordered by term frequency across the corpus.\\n        Otherwise, all features are used.\\n\\n        This parameter is ignored if vocabulary is not None.\\n\\n    vocabulary : Mapping or iterable, default=None\\n        Either a Mapping (e.g., a dict) where keys are terms and values are\\n        indices in the feature matrix, or an iterable over terms. If not\\n        given, a vocabulary is determined from the input documents. Indices\\n        in the mapping should not be repeated and should not have any gap\\n        between 0 and the largest index.\\n\\n    binary : bool, default=False\\n        If True, all non zero counts are set to 1. This is useful for discrete\\n        probabilistic models that model binary events rather than integer\\n        counts.\\n\\n    dtype : dtype, default=np.int64\\n        Type of the matrix returned by fit_transform() or transform().\\n\\n    Attributes\\n    ----------\\n    vocabulary_ : dict\\n        A mapping of terms to feature indices.\\n\\n    fixed_vocabulary_ : bool\\n        True if a fixed vocabulary of term to indices mapping\\n        is provided by the user.\\n\\n    stop_words_ : set\\n        Terms that were ignored because they either:\\n\\n          - occurred in too many documents (`max_df`)\\n          - occurred in too few documents (`min_df`)\\n          - were cut off by feature selection (`max_features`).\\n\\n        This is only available if no vocabulary was given.\\n\\n    See Also\\n    --------\\n    HashingVectorizer : Convert a collection of text documents to a\\n        matrix of token counts.\\n\\n    TfidfVectorizer : Convert a collection of raw documents to a matrix\\n        of TF-IDF features.\\n\\n    Notes\\n    -----\\n    The ``stop_words_`` attribute can get large and increase the model size\\n    when pickling. This attribute is provided only for introspection and can\\n    be safely removed using delattr or set to None before pickling.\\n\\n    Examples\\n    --------\\n    >>> from sklearn.feature_extraction.text import CountVectorizer\\n    >>> corpus = [\\n    ...     \\'This is the first document.\\',\\n    ...     \\'This document is the second document.\\',\\n    ...     \\'And this is the third one.\\',\\n    ...     \\'Is this the first document?\\',\\n    ... ]\\n    >>> vectorizer = CountVectorizer()\\n    >>> X = vectorizer.fit_transform(corpus)\\n    >>> vectorizer.get_feature_names_out()\\n    array([\\'and\\', \\'document\\', \\'first\\', \\'is\\', \\'one\\', \\'second\\', \\'the\\', \\'third\\',\\n           \\'this\\'], ...)\\n    >>> print(X.toarray())\\n    [[0 1 1 1 0 0 1 0 1]\\n     [0 2 0 1 0 1 1 0 1]\\n     [1 0 0 1 1 0 1 1 1]\\n     [0 1 1 1 0 0 1 0 1]]\\n    >>> vectorizer2 = CountVectorizer(analyzer=\\'word\\', ngram_range=(2, 2))\\n    >>> X2 = vectorizer2.fit_transform(corpus)\\n    >>> vectorizer2.get_feature_names_out()\\n    array([\\'and this\\', \\'document is\\', \\'first document\\', \\'is the\\', \\'is this\\',\\n           \\'second document\\', \\'the first\\', \\'the second\\', \\'the third\\', \\'third one\\',\\n           \\'this document\\', \\'this is\\', \\'this the\\'], ...)\\n     >>> print(X2.toarray())\\n     [[0 0 1 1 0 0 1 0 0 0 0 1 0]\\n     [0 1 0 1 0 1 0 1 0 0 1 0 0]\\n     [1 0 0 1 0 0 0 0 1 1 0 1 0]\\n     [0 0 1 0 1 0 1 0 0 0 0 0 1]]\\n    '\")"
   ],
   "metadata": {
    "collapsed": false,
    "ExecuteTime": {
     "end_time": "2023-12-27T15:44:54.104947Z",
     "start_time": "2023-12-27T15:44:54.088879Z"
    }
   },
   "id": "ca4d8e0195996d6b"
  },
  {
   "cell_type": "code",
   "execution_count": 36,
   "outputs": [
    {
     "data": {
      "text/plain": "array([\"No I'm in the same boat. Still here at my moms. Check me out on yo. I'm half naked.\",\n       '(Bank of Granite issues Strong-Buy) EXPLOSIVE PICK FOR OUR MEMBERS *****UP OVER 300% *********** Nasdaq Symbol CDGT That is a $5.00 per..',\n       'They r giving a second chance to rahul dengra.', ...,\n       \"Prabha..i'm soryda..realy..frm heart i'm sory\",\n       'Nt joking seriously i told',\n       'In work now. Going have in few min.'], dtype=object)"
     },
     "execution_count": 36,
     "metadata": {},
     "output_type": "execute_result"
    }
   ],
   "source": [
    "X_train"
   ],
   "metadata": {
    "collapsed": false,
    "ExecuteTime": {
     "end_time": "2023-12-27T15:49:23.284652Z",
     "start_time": "2023-12-27T15:49:23.272411Z"
    }
   },
   "id": "97034098a24398e6"
  },
  {
   "cell_type": "code",
   "execution_count": 34,
   "outputs": [
    {
     "data": {
      "text/plain": "<4457x7735 sparse matrix of type '<class 'numpy.int64'>'\n\twith 58978 stored elements in Compressed Sparse Row format>"
     },
     "execution_count": 34,
     "metadata": {},
     "output_type": "execute_result"
    }
   ],
   "source": [
    "X_train_count = count_vec.fit_transform(X_train)\n",
    "X_train_count"
   ],
   "metadata": {
    "collapsed": false,
    "ExecuteTime": {
     "end_time": "2023-12-27T15:47:58.445314Z",
     "start_time": "2023-12-27T15:47:58.217396Z"
    }
   },
   "id": "2629e2a7ff21d4d9"
  },
  {
   "cell_type": "code",
   "execution_count": 35,
   "outputs": [
    {
     "data": {
      "text/plain": "array(['00', '000', '000pes', ..., 'ûïharry', 'ûò', 'ûówell'],\n      dtype=object)"
     },
     "execution_count": 35,
     "metadata": {},
     "output_type": "execute_result"
    }
   ],
   "source": [
    "count_vec.get_feature_names_out()"
   ],
   "metadata": {
    "collapsed": false,
    "ExecuteTime": {
     "end_time": "2023-12-27T15:49:15.354440Z",
     "start_time": "2023-12-27T15:49:15.343310Z"
    }
   },
   "id": "febc4545b3ae5129"
  },
  {
   "cell_type": "code",
   "execution_count": 40,
   "outputs": [
    {
     "data": {
      "text/plain": "(4457, 7735)"
     },
     "execution_count": 40,
     "metadata": {},
     "output_type": "execute_result"
    }
   ],
   "source": [
    "X_train_count.shape"
   ],
   "metadata": {
    "collapsed": false,
    "ExecuteTime": {
     "end_time": "2023-12-27T15:53:27.773109Z",
     "start_time": "2023-12-27T15:53:27.750828Z"
    }
   },
   "id": "cc9768e63bc34652"
  },
  {
   "cell_type": "code",
   "execution_count": 43,
   "outputs": [
    {
     "data": {
      "text/plain": "array([0, 1, 0, ..., 0, 0, 0])"
     },
     "execution_count": 43,
     "metadata": {},
     "output_type": "execute_result"
    }
   ],
   "source": [
    "y_train"
   ],
   "metadata": {
    "collapsed": false,
    "ExecuteTime": {
     "end_time": "2023-12-27T15:55:20.959495Z",
     "start_time": "2023-12-27T15:55:20.955135Z"
    }
   },
   "id": "2e76a7ed82805f0a"
  },
  {
   "cell_type": "code",
   "execution_count": 42,
   "outputs": [],
   "source": [
    "multi_nb = MultinomialNB()"
   ],
   "metadata": {
    "collapsed": false,
    "ExecuteTime": {
     "end_time": "2023-12-27T15:54:59.036910Z",
     "start_time": "2023-12-27T15:54:58.994873Z"
    }
   },
   "id": "6fb94292eb471630"
  },
  {
   "cell_type": "code",
   "execution_count": 44,
   "outputs": [
    {
     "data": {
      "text/plain": "MultinomialNB()",
      "text/html": "<style>#sk-container-id-1 {color: black;}#sk-container-id-1 pre{padding: 0;}#sk-container-id-1 div.sk-toggleable {background-color: white;}#sk-container-id-1 label.sk-toggleable__label {cursor: pointer;display: block;width: 100%;margin-bottom: 0;padding: 0.3em;box-sizing: border-box;text-align: center;}#sk-container-id-1 label.sk-toggleable__label-arrow:before {content: \"▸\";float: left;margin-right: 0.25em;color: #696969;}#sk-container-id-1 label.sk-toggleable__label-arrow:hover:before {color: black;}#sk-container-id-1 div.sk-estimator:hover label.sk-toggleable__label-arrow:before {color: black;}#sk-container-id-1 div.sk-toggleable__content {max-height: 0;max-width: 0;overflow: hidden;text-align: left;background-color: #f0f8ff;}#sk-container-id-1 div.sk-toggleable__content pre {margin: 0.2em;color: black;border-radius: 0.25em;background-color: #f0f8ff;}#sk-container-id-1 input.sk-toggleable__control:checked~div.sk-toggleable__content {max-height: 200px;max-width: 100%;overflow: auto;}#sk-container-id-1 input.sk-toggleable__control:checked~label.sk-toggleable__label-arrow:before {content: \"▾\";}#sk-container-id-1 div.sk-estimator input.sk-toggleable__control:checked~label.sk-toggleable__label {background-color: #d4ebff;}#sk-container-id-1 div.sk-label input.sk-toggleable__control:checked~label.sk-toggleable__label {background-color: #d4ebff;}#sk-container-id-1 input.sk-hidden--visually {border: 0;clip: rect(1px 1px 1px 1px);clip: rect(1px, 1px, 1px, 1px);height: 1px;margin: -1px;overflow: hidden;padding: 0;position: absolute;width: 1px;}#sk-container-id-1 div.sk-estimator {font-family: monospace;background-color: #f0f8ff;border: 1px dotted black;border-radius: 0.25em;box-sizing: border-box;margin-bottom: 0.5em;}#sk-container-id-1 div.sk-estimator:hover {background-color: #d4ebff;}#sk-container-id-1 div.sk-parallel-item::after {content: \"\";width: 100%;border-bottom: 1px solid gray;flex-grow: 1;}#sk-container-id-1 div.sk-label:hover label.sk-toggleable__label {background-color: #d4ebff;}#sk-container-id-1 div.sk-serial::before {content: \"\";position: absolute;border-left: 1px solid gray;box-sizing: border-box;top: 0;bottom: 0;left: 50%;z-index: 0;}#sk-container-id-1 div.sk-serial {display: flex;flex-direction: column;align-items: center;background-color: white;padding-right: 0.2em;padding-left: 0.2em;position: relative;}#sk-container-id-1 div.sk-item {position: relative;z-index: 1;}#sk-container-id-1 div.sk-parallel {display: flex;align-items: stretch;justify-content: center;background-color: white;position: relative;}#sk-container-id-1 div.sk-item::before, #sk-container-id-1 div.sk-parallel-item::before {content: \"\";position: absolute;border-left: 1px solid gray;box-sizing: border-box;top: 0;bottom: 0;left: 50%;z-index: -1;}#sk-container-id-1 div.sk-parallel-item {display: flex;flex-direction: column;z-index: 1;position: relative;background-color: white;}#sk-container-id-1 div.sk-parallel-item:first-child::after {align-self: flex-end;width: 50%;}#sk-container-id-1 div.sk-parallel-item:last-child::after {align-self: flex-start;width: 50%;}#sk-container-id-1 div.sk-parallel-item:only-child::after {width: 0;}#sk-container-id-1 div.sk-dashed-wrapped {border: 1px dashed gray;margin: 0 0.4em 0.5em 0.4em;box-sizing: border-box;padding-bottom: 0.4em;background-color: white;}#sk-container-id-1 div.sk-label label {font-family: monospace;font-weight: bold;display: inline-block;line-height: 1.2em;}#sk-container-id-1 div.sk-label-container {text-align: center;}#sk-container-id-1 div.sk-container {/* jupyter's `normalize.less` sets `[hidden] { display: none; }` but bootstrap.min.css set `[hidden] { display: none !important; }` so we also need the `!important` here to be able to override the default hidden behavior on the sphinx rendered scikit-learn.org. See: https://github.com/scikit-learn/scikit-learn/issues/21755 */display: inline-block !important;position: relative;}#sk-container-id-1 div.sk-text-repr-fallback {display: none;}</style><div id=\"sk-container-id-1\" class=\"sk-top-container\"><div class=\"sk-text-repr-fallback\"><pre>MultinomialNB()</pre><b>In a Jupyter environment, please rerun this cell to show the HTML representation or trust the notebook. <br />On GitHub, the HTML representation is unable to render, please try loading this page with nbviewer.org.</b></div><div class=\"sk-container\" hidden><div class=\"sk-item\"><div class=\"sk-estimator sk-toggleable\"><input class=\"sk-toggleable__control sk-hidden--visually\" id=\"sk-estimator-id-1\" type=\"checkbox\" checked><label for=\"sk-estimator-id-1\" class=\"sk-toggleable__label sk-toggleable__label-arrow\">MultinomialNB</label><div class=\"sk-toggleable__content\"><pre>MultinomialNB()</pre></div></div></div></div></div>"
     },
     "execution_count": 44,
     "metadata": {},
     "output_type": "execute_result"
    }
   ],
   "source": [
    "multi_nb.fit(X_train_count,y_train)"
   ],
   "metadata": {
    "collapsed": false,
    "ExecuteTime": {
     "end_time": "2023-12-27T15:55:35.085915Z",
     "start_time": "2023-12-27T15:55:35.057110Z"
    }
   },
   "id": "1876b9f2e726b3aa"
  },
  {
   "cell_type": "code",
   "execution_count": 45,
   "outputs": [
    {
     "data": {
      "text/plain": "array([3860.,  597.])"
     },
     "execution_count": 45,
     "metadata": {},
     "output_type": "execute_result"
    }
   ],
   "source": [
    "multi_nb.class_count_"
   ],
   "metadata": {
    "collapsed": false,
    "ExecuteTime": {
     "end_time": "2023-12-27T15:55:49.372906Z",
     "start_time": "2023-12-27T15:55:49.347284Z"
    }
   },
   "id": "47c4cf7dd6473497"
  },
  {
   "cell_type": "code",
   "execution_count": 47,
   "outputs": [],
   "source": [
    "X_test_count = count_vec.transform(X_test)"
   ],
   "metadata": {
    "collapsed": false,
    "ExecuteTime": {
     "end_time": "2023-12-27T15:57:32.674035Z",
     "start_time": "2023-12-27T15:57:32.666610Z"
    }
   },
   "id": "e7883947fb9ed3de"
  },
  {
   "cell_type": "code",
   "execution_count": 48,
   "outputs": [
    {
     "data": {
      "text/plain": "(1115, 7735)"
     },
     "execution_count": 48,
     "metadata": {},
     "output_type": "execute_result"
    }
   ],
   "source": [
    "X_test_count.shape"
   ],
   "metadata": {
    "collapsed": false,
    "ExecuteTime": {
     "end_time": "2023-12-27T15:57:40.235110Z",
     "start_time": "2023-12-27T15:57:40.230454Z"
    }
   },
   "id": "c2098bec7d348d79"
  },
  {
   "cell_type": "code",
   "execution_count": 49,
   "outputs": [],
   "source": [
    "y_pred = multi_nb.predict(X_test_count)"
   ],
   "metadata": {
    "collapsed": false,
    "ExecuteTime": {
     "end_time": "2023-12-27T15:57:44.748145Z",
     "start_time": "2023-12-27T15:57:44.739925Z"
    }
   },
   "id": "1d7d3830c91dee11"
  },
  {
   "cell_type": "code",
   "execution_count": 50,
   "outputs": [
    {
     "data": {
      "text/plain": "array([0, 0, 1, ..., 0, 0, 1])"
     },
     "execution_count": 50,
     "metadata": {},
     "output_type": "execute_result"
    }
   ],
   "source": [
    "y_pred"
   ],
   "metadata": {
    "collapsed": false,
    "ExecuteTime": {
     "end_time": "2023-12-27T15:57:50.089318Z",
     "start_time": "2023-12-27T15:57:50.073876Z"
    }
   },
   "id": "248eaf2083778ced"
  },
  {
   "cell_type": "code",
   "execution_count": 51,
   "outputs": [
    {
     "data": {
      "text/plain": "0.9838565022421525"
     },
     "execution_count": 51,
     "metadata": {},
     "output_type": "execute_result"
    }
   ],
   "source": [
    "from sklearn.metrics import accuracy_score\n",
    "acc = accuracy_score(y_test,y_pred)\n",
    "acc"
   ],
   "metadata": {
    "collapsed": false,
    "ExecuteTime": {
     "end_time": "2023-12-27T15:58:13.736809Z",
     "start_time": "2023-12-27T15:58:13.718450Z"
    }
   },
   "id": "fbeb41cf75f27eb9"
  },
  {
   "cell_type": "code",
   "execution_count": 46,
   "outputs": [],
   "source": [
    "emails = ['Hey mohan, can we get together to watch footbal game tomorrow?','Upto 20% discount on parking, exclusive offer just for you. Dont miss this reward!']"
   ],
   "metadata": {
    "collapsed": false,
    "ExecuteTime": {
     "end_time": "2023-12-27T15:56:55.797361Z",
     "start_time": "2023-12-27T15:56:55.782358Z"
    }
   },
   "id": "cda0c53beca630a2"
  },
  {
   "cell_type": "code",
   "execution_count": 52,
   "outputs": [],
   "source": [
    "emails_count = count_vec.transform(emails)"
   ],
   "metadata": {
    "collapsed": false,
    "ExecuteTime": {
     "end_time": "2023-12-27T16:00:14.625446Z",
     "start_time": "2023-12-27T16:00:14.624586Z"
    }
   },
   "id": "a11caae2572ba782"
  },
  {
   "cell_type": "code",
   "execution_count": 53,
   "outputs": [
    {
     "data": {
      "text/plain": "(2, 7735)"
     },
     "execution_count": 53,
     "metadata": {},
     "output_type": "execute_result"
    }
   ],
   "source": [
    "emails_count.shape"
   ],
   "metadata": {
    "collapsed": false,
    "ExecuteTime": {
     "end_time": "2023-12-27T16:00:31.723651Z",
     "start_time": "2023-12-27T16:00:31.696615Z"
    }
   },
   "id": "ba856a3a5b80866b"
  },
  {
   "cell_type": "code",
   "execution_count": 55,
   "outputs": [],
   "source": [
    "y_pred = multi_nb.predict(emails_count)\n"
   ],
   "metadata": {
    "collapsed": false,
    "ExecuteTime": {
     "end_time": "2023-12-27T16:04:29.325876Z",
     "start_time": "2023-12-27T16:04:29.304048Z"
    }
   },
   "id": "a8403e0a694b61a9"
  },
  {
   "cell_type": "code",
   "execution_count": 56,
   "outputs": [
    {
     "data": {
      "text/plain": "array([0, 1])"
     },
     "execution_count": 56,
     "metadata": {},
     "output_type": "execute_result"
    }
   ],
   "source": [
    "y_pred"
   ],
   "metadata": {
    "collapsed": false,
    "ExecuteTime": {
     "end_time": "2023-12-27T16:04:31.449739Z",
     "start_time": "2023-12-27T16:04:31.423272Z"
    }
   },
   "id": "53c5274cc7681d1b"
  },
  {
   "cell_type": "code",
   "execution_count": 63,
   "outputs": [
    {
     "data": {
      "text/plain": "array([\"No I'm in the same boat. Still here at my moms. Check me out on yo. I'm half naked.\",\n       '(Bank of Granite issues Strong-Buy) EXPLOSIVE PICK FOR OUR MEMBERS *****UP OVER 300% *********** Nasdaq Symbol CDGT That is a $5.00 per..',\n       'They r giving a second chance to rahul dengra.', ...,\n       \"Prabha..i'm soryda..realy..frm heart i'm sory\",\n       'Nt joking seriously i told',\n       'In work now. Going have in few min.'], dtype=object)"
     },
     "execution_count": 63,
     "metadata": {},
     "output_type": "execute_result"
    }
   ],
   "source": [
    "X_train"
   ],
   "metadata": {
    "collapsed": false,
    "ExecuteTime": {
     "end_time": "2023-12-27T17:10:20.916697Z",
     "start_time": "2023-12-27T17:10:20.895477Z"
    }
   },
   "id": "6ad5162fd09dfa0"
  },
  {
   "cell_type": "code",
   "execution_count": 64,
   "outputs": [
    {
     "data": {
      "text/plain": "array([0, 1, 0, ..., 0, 0, 0])"
     },
     "execution_count": 64,
     "metadata": {},
     "output_type": "execute_result"
    }
   ],
   "source": [
    "y_train"
   ],
   "metadata": {
    "collapsed": false,
    "ExecuteTime": {
     "end_time": "2023-12-27T17:10:24.489105Z",
     "start_time": "2023-12-27T17:10:24.470370Z"
    }
   },
   "id": "2c1fb0a2266d2e43"
  },
  {
   "cell_type": "code",
   "execution_count": 67,
   "outputs": [],
   "source": [
    "from sklearn.pipeline import Pipeline\n",
    "model = Pipeline([('vectorizer',CountVectorizer()),('nb',MultinomialNB())])"
   ],
   "metadata": {
    "collapsed": false,
    "ExecuteTime": {
     "end_time": "2023-12-27T17:10:44.017454Z",
     "start_time": "2023-12-27T17:10:44.004780Z"
    }
   },
   "id": "19decb847f11f891"
  },
  {
   "cell_type": "code",
   "execution_count": 68,
   "outputs": [
    {
     "data": {
      "text/plain": "Pipeline(steps=[('vectorizer', CountVectorizer()), ('nb', MultinomialNB())])",
      "text/html": "<style>#sk-container-id-2 {color: black;}#sk-container-id-2 pre{padding: 0;}#sk-container-id-2 div.sk-toggleable {background-color: white;}#sk-container-id-2 label.sk-toggleable__label {cursor: pointer;display: block;width: 100%;margin-bottom: 0;padding: 0.3em;box-sizing: border-box;text-align: center;}#sk-container-id-2 label.sk-toggleable__label-arrow:before {content: \"▸\";float: left;margin-right: 0.25em;color: #696969;}#sk-container-id-2 label.sk-toggleable__label-arrow:hover:before {color: black;}#sk-container-id-2 div.sk-estimator:hover label.sk-toggleable__label-arrow:before {color: black;}#sk-container-id-2 div.sk-toggleable__content {max-height: 0;max-width: 0;overflow: hidden;text-align: left;background-color: #f0f8ff;}#sk-container-id-2 div.sk-toggleable__content pre {margin: 0.2em;color: black;border-radius: 0.25em;background-color: #f0f8ff;}#sk-container-id-2 input.sk-toggleable__control:checked~div.sk-toggleable__content {max-height: 200px;max-width: 100%;overflow: auto;}#sk-container-id-2 input.sk-toggleable__control:checked~label.sk-toggleable__label-arrow:before {content: \"▾\";}#sk-container-id-2 div.sk-estimator input.sk-toggleable__control:checked~label.sk-toggleable__label {background-color: #d4ebff;}#sk-container-id-2 div.sk-label input.sk-toggleable__control:checked~label.sk-toggleable__label {background-color: #d4ebff;}#sk-container-id-2 input.sk-hidden--visually {border: 0;clip: rect(1px 1px 1px 1px);clip: rect(1px, 1px, 1px, 1px);height: 1px;margin: -1px;overflow: hidden;padding: 0;position: absolute;width: 1px;}#sk-container-id-2 div.sk-estimator {font-family: monospace;background-color: #f0f8ff;border: 1px dotted black;border-radius: 0.25em;box-sizing: border-box;margin-bottom: 0.5em;}#sk-container-id-2 div.sk-estimator:hover {background-color: #d4ebff;}#sk-container-id-2 div.sk-parallel-item::after {content: \"\";width: 100%;border-bottom: 1px solid gray;flex-grow: 1;}#sk-container-id-2 div.sk-label:hover label.sk-toggleable__label {background-color: #d4ebff;}#sk-container-id-2 div.sk-serial::before {content: \"\";position: absolute;border-left: 1px solid gray;box-sizing: border-box;top: 0;bottom: 0;left: 50%;z-index: 0;}#sk-container-id-2 div.sk-serial {display: flex;flex-direction: column;align-items: center;background-color: white;padding-right: 0.2em;padding-left: 0.2em;position: relative;}#sk-container-id-2 div.sk-item {position: relative;z-index: 1;}#sk-container-id-2 div.sk-parallel {display: flex;align-items: stretch;justify-content: center;background-color: white;position: relative;}#sk-container-id-2 div.sk-item::before, #sk-container-id-2 div.sk-parallel-item::before {content: \"\";position: absolute;border-left: 1px solid gray;box-sizing: border-box;top: 0;bottom: 0;left: 50%;z-index: -1;}#sk-container-id-2 div.sk-parallel-item {display: flex;flex-direction: column;z-index: 1;position: relative;background-color: white;}#sk-container-id-2 div.sk-parallel-item:first-child::after {align-self: flex-end;width: 50%;}#sk-container-id-2 div.sk-parallel-item:last-child::after {align-self: flex-start;width: 50%;}#sk-container-id-2 div.sk-parallel-item:only-child::after {width: 0;}#sk-container-id-2 div.sk-dashed-wrapped {border: 1px dashed gray;margin: 0 0.4em 0.5em 0.4em;box-sizing: border-box;padding-bottom: 0.4em;background-color: white;}#sk-container-id-2 div.sk-label label {font-family: monospace;font-weight: bold;display: inline-block;line-height: 1.2em;}#sk-container-id-2 div.sk-label-container {text-align: center;}#sk-container-id-2 div.sk-container {/* jupyter's `normalize.less` sets `[hidden] { display: none; }` but bootstrap.min.css set `[hidden] { display: none !important; }` so we also need the `!important` here to be able to override the default hidden behavior on the sphinx rendered scikit-learn.org. See: https://github.com/scikit-learn/scikit-learn/issues/21755 */display: inline-block !important;position: relative;}#sk-container-id-2 div.sk-text-repr-fallback {display: none;}</style><div id=\"sk-container-id-2\" class=\"sk-top-container\"><div class=\"sk-text-repr-fallback\"><pre>Pipeline(steps=[(&#x27;vectorizer&#x27;, CountVectorizer()), (&#x27;nb&#x27;, MultinomialNB())])</pre><b>In a Jupyter environment, please rerun this cell to show the HTML representation or trust the notebook. <br />On GitHub, the HTML representation is unable to render, please try loading this page with nbviewer.org.</b></div><div class=\"sk-container\" hidden><div class=\"sk-item sk-dashed-wrapped\"><div class=\"sk-label-container\"><div class=\"sk-label sk-toggleable\"><input class=\"sk-toggleable__control sk-hidden--visually\" id=\"sk-estimator-id-2\" type=\"checkbox\" ><label for=\"sk-estimator-id-2\" class=\"sk-toggleable__label sk-toggleable__label-arrow\">Pipeline</label><div class=\"sk-toggleable__content\"><pre>Pipeline(steps=[(&#x27;vectorizer&#x27;, CountVectorizer()), (&#x27;nb&#x27;, MultinomialNB())])</pre></div></div></div><div class=\"sk-serial\"><div class=\"sk-item\"><div class=\"sk-estimator sk-toggleable\"><input class=\"sk-toggleable__control sk-hidden--visually\" id=\"sk-estimator-id-3\" type=\"checkbox\" ><label for=\"sk-estimator-id-3\" class=\"sk-toggleable__label sk-toggleable__label-arrow\">CountVectorizer</label><div class=\"sk-toggleable__content\"><pre>CountVectorizer()</pre></div></div></div><div class=\"sk-item\"><div class=\"sk-estimator sk-toggleable\"><input class=\"sk-toggleable__control sk-hidden--visually\" id=\"sk-estimator-id-4\" type=\"checkbox\" ><label for=\"sk-estimator-id-4\" class=\"sk-toggleable__label sk-toggleable__label-arrow\">MultinomialNB</label><div class=\"sk-toggleable__content\"><pre>MultinomialNB()</pre></div></div></div></div></div></div></div>"
     },
     "execution_count": 68,
     "metadata": {},
     "output_type": "execute_result"
    }
   ],
   "source": [
    "model.fit(X_train,y_train)"
   ],
   "metadata": {
    "collapsed": false,
    "ExecuteTime": {
     "end_time": "2023-12-27T17:10:44.419310Z",
     "start_time": "2023-12-27T17:10:44.399593Z"
    }
   },
   "id": "255614be55fff5b4"
  },
  {
   "cell_type": "code",
   "execution_count": 69,
   "outputs": [
    {
     "data": {
      "text/plain": "array([0, 0, 1, ..., 0, 0, 1])"
     },
     "execution_count": 69,
     "metadata": {},
     "output_type": "execute_result"
    }
   ],
   "source": [
    "y_pred = model.predict(X_test)\n",
    "y_pred"
   ],
   "metadata": {
    "collapsed": false,
    "ExecuteTime": {
     "end_time": "2023-12-27T17:11:01.260539Z",
     "start_time": "2023-12-27T17:11:01.233635Z"
    }
   },
   "id": "5a268a3f3c219da"
  },
  {
   "cell_type": "code",
   "execution_count": null,
   "outputs": [],
   "source": [],
   "metadata": {
    "collapsed": false
   },
   "id": "c248012798b8ac08"
  }
 ],
 "metadata": {
  "kernelspec": {
   "display_name": "Python 3",
   "language": "python",
   "name": "python3"
  },
  "language_info": {
   "codemirror_mode": {
    "name": "ipython",
    "version": 2
   },
   "file_extension": ".py",
   "mimetype": "text/x-python",
   "name": "python",
   "nbconvert_exporter": "python",
   "pygments_lexer": "ipython2",
   "version": "2.7.6"
  }
 },
 "nbformat": 4,
 "nbformat_minor": 5
}
