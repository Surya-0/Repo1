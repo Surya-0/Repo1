{
 "cells": [
  {
   "cell_type": "code",
   "execution_count": 1,
   "id": "initial_id",
   "metadata": {
    "collapsed": true,
    "ExecuteTime": {
     "end_time": "2023-11-03T09:34:37.798900Z",
     "start_time": "2023-11-03T09:34:37.169394Z"
    }
   },
   "outputs": [],
   "source": [
    "import numpy as np\n",
    "import pandas as pd\n",
    "import matplotlib.pyplot as plt"
   ]
  },
  {
   "cell_type": "code",
   "execution_count": 2,
   "outputs": [
    {
     "data": {
      "text/plain": "{'Ethnicity': ['Asian', 'Black', 'White', 'Latino'],\n 'Eligible': [0.15, 0.18, 0.12, 0.54, 0.01],\n 'Panels': [0.26, 0.08, 0.08, 0.54, 0.04]}"
     },
     "execution_count": 2,
     "metadata": {},
     "output_type": "execute_result"
    }
   ],
   "source": [
    "jury = {\"Ethnicity\":[\"Asian\",\"Black\",\"White\",\"Latino\"],\"Eligible\":[0.15,0.18,0.12,0.54,0.01],\"Panels\":[0.26,0.08,0.08,0.54,0.04]}\n",
    "jury"
   ],
   "metadata": {
    "collapsed": false,
    "ExecuteTime": {
     "end_time": "2023-11-03T09:39:24.721309Z",
     "start_time": "2023-11-03T09:39:24.702687Z"
    }
   },
   "id": "401919631de6fcb8"
  },
  {
   "cell_type": "code",
   "execution_count": null,
   "outputs": [],
   "source": [],
   "metadata": {
    "collapsed": false
   },
   "id": "aaad6233cd2d0abf"
  }
 ],
 "metadata": {
  "kernelspec": {
   "display_name": "Python 3",
   "language": "python",
   "name": "python3"
  },
  "language_info": {
   "codemirror_mode": {
    "name": "ipython",
    "version": 2
   },
   "file_extension": ".py",
   "mimetype": "text/x-python",
   "name": "python",
   "nbconvert_exporter": "python",
   "pygments_lexer": "ipython2",
   "version": "2.7.6"
  }
 },
 "nbformat": 4,
 "nbformat_minor": 5
}
