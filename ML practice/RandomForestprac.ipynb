{
 "cells": [
  {
   "cell_type": "code",
   "execution_count": 1,
   "id": "initial_id",
   "metadata": {
    "collapsed": true,
    "ExecuteTime": {
     "end_time": "2023-10-18T03:43:29.984631Z",
     "start_time": "2023-10-18T03:43:29.979815Z"
    }
   },
   "outputs": [],
   "source": [
    "import numpy as np\n",
    "import pandas as pd\n",
    "import seaborn as sns\n",
    "import matplotlib.pyplot as plt"
   ]
  },
  {
   "cell_type": "code",
   "execution_count": 6,
   "outputs": [
    {
     "name": "stdout",
     "output_type": "stream",
     "text": [
      "Fitting 5 folds for each of 108 candidates, totalling 540 fits\n",
      "Best Parameters: {'max_depth': None, 'min_samples_leaf': 2, 'min_samples_split': 2, 'n_estimators': 200}\n",
      "Test Accuracy: 1.0\n",
      "Cross-Validation Scores: [1.         0.96666667 0.93333333 1.         0.9       ]\n",
      "Mean CV Accuracy: 0.9600000000000002\n"
     ]
    }
   ],
   "source": [
    "import numpy as np\n",
    "from sklearn.datasets import load_iris\n",
    "from sklearn.ensemble import RandomForestClassifier\n",
    "from sklearn.model_selection import GridSearchCV, train_test_split, cross_val_score, StratifiedKFold\n",
    "\n",
    "# Load the dataset\n",
    "data = load_iris()\n",
    "X = data.data\n",
    "y = data.target\n",
    "\n",
    "# Split the data into training and testing sets\n",
    "X_train, X_test, y_train, y_test = train_test_split(X, y, test_size=0.2, random_state=42)\n",
    "\n",
    "# Create a Random Forest classifier\n",
    "rf_classifier = RandomForestClassifier(random_state=42)\n",
    "\n",
    "# Define hyperparameters to tune\n",
    "param_grid = {\n",
    "    'n_estimators': [50, 100, 200],\n",
    "    'max_depth': [None, 10, 20, 30],\n",
    "    'min_samples_split': [2, 5, 10],\n",
    "    'min_samples_leaf': [1, 2, 4]\n",
    "}\n",
    "\n",
    "# Create a Grid Search object\n",
    "grid_search = GridSearchCV(estimator=rf_classifier, param_grid=param_grid, cv=5, scoring='accuracy', verbose=1)\n",
    "\n",
    "# Perform Grid Search with cross-validation\n",
    "grid_search.fit(X_train, y_train)\n",
    "\n",
    "# Get the best parameters\n",
    "best_params = grid_search.best_params_\n",
    "print(\"Best Parameters:\", best_params)\n",
    "\n",
    "# Train the Random Forest model with the best parameters\n",
    "best_rf_classifier = RandomForestClassifier(**best_params, random_state=42)\n",
    "best_rf_classifier.fit(X_train, y_train)\n",
    "\n",
    "# Evaluate the model\n",
    "accuracy = best_rf_classifier.score(X_test, y_test)\n",
    "print(\"Test Accuracy:\", accuracy)\n",
    "\n",
    "# K-fold Cross-Validation\n",
    "kfold = StratifiedKFold(n_splits=5, shuffle=True, random_state=42)\n",
    "cv_scores = cross_val_score(best_rf_classifier, X, y, cv=kfold)\n",
    "print(\"Cross-Validation Scores:\", cv_scores)\n",
    "print(\"Mean CV Accuracy:\", np.mean(cv_scores))\n"
   ],
   "metadata": {
    "collapsed": false,
    "ExecuteTime": {
     "end_time": "2023-10-18T04:18:14.389666Z",
     "start_time": "2023-10-18T04:17:52.090451Z"
    }
   },
   "id": "b3945cdecd1906f8"
  },
  {
   "cell_type": "code",
   "execution_count": 26,
   "outputs": [
    {
     "data": {
      "text/plain": "     age  sex   BP  cholestrol  heart disease\n0     70    1  130         322              1\n1     67    0  115         564              0\n2     57    1  124         261              1\n3     64    1  128         263              0\n4     74    0  120         269              0\n..   ...  ...  ...         ...            ...\n265   52    1  172         199              0\n266   44    1  120         263              0\n267   56    0  140         294              0\n268   57    1  140         192              0\n269   67    1  160         286              1\n\n[270 rows x 5 columns]",
      "text/html": "<div>\n<style scoped>\n    .dataframe tbody tr th:only-of-type {\n        vertical-align: middle;\n    }\n\n    .dataframe tbody tr th {\n        vertical-align: top;\n    }\n\n    .dataframe thead th {\n        text-align: right;\n    }\n</style>\n<table border=\"1\" class=\"dataframe\">\n  <thead>\n    <tr style=\"text-align: right;\">\n      <th></th>\n      <th>age</th>\n      <th>sex</th>\n      <th>BP</th>\n      <th>cholestrol</th>\n      <th>heart disease</th>\n    </tr>\n  </thead>\n  <tbody>\n    <tr>\n      <th>0</th>\n      <td>70</td>\n      <td>1</td>\n      <td>130</td>\n      <td>322</td>\n      <td>1</td>\n    </tr>\n    <tr>\n      <th>1</th>\n      <td>67</td>\n      <td>0</td>\n      <td>115</td>\n      <td>564</td>\n      <td>0</td>\n    </tr>\n    <tr>\n      <th>2</th>\n      <td>57</td>\n      <td>1</td>\n      <td>124</td>\n      <td>261</td>\n      <td>1</td>\n    </tr>\n    <tr>\n      <th>3</th>\n      <td>64</td>\n      <td>1</td>\n      <td>128</td>\n      <td>263</td>\n      <td>0</td>\n    </tr>\n    <tr>\n      <th>4</th>\n      <td>74</td>\n      <td>0</td>\n      <td>120</td>\n      <td>269</td>\n      <td>0</td>\n    </tr>\n    <tr>\n      <th>...</th>\n      <td>...</td>\n      <td>...</td>\n      <td>...</td>\n      <td>...</td>\n      <td>...</td>\n    </tr>\n    <tr>\n      <th>265</th>\n      <td>52</td>\n      <td>1</td>\n      <td>172</td>\n      <td>199</td>\n      <td>0</td>\n    </tr>\n    <tr>\n      <th>266</th>\n      <td>44</td>\n      <td>1</td>\n      <td>120</td>\n      <td>263</td>\n      <td>0</td>\n    </tr>\n    <tr>\n      <th>267</th>\n      <td>56</td>\n      <td>0</td>\n      <td>140</td>\n      <td>294</td>\n      <td>0</td>\n    </tr>\n    <tr>\n      <th>268</th>\n      <td>57</td>\n      <td>1</td>\n      <td>140</td>\n      <td>192</td>\n      <td>0</td>\n    </tr>\n    <tr>\n      <th>269</th>\n      <td>67</td>\n      <td>1</td>\n      <td>160</td>\n      <td>286</td>\n      <td>1</td>\n    </tr>\n  </tbody>\n</table>\n<p>270 rows × 5 columns</p>\n</div>"
     },
     "execution_count": 26,
     "metadata": {},
     "output_type": "execute_result"
    }
   ],
   "source": [
    "df = pd.read_csv('heart_v2.csv')\n",
    "df"
   ],
   "metadata": {
    "collapsed": false,
    "ExecuteTime": {
     "end_time": "2023-10-18T04:54:07.373856Z",
     "start_time": "2023-10-18T04:54:07.368430Z"
    }
   },
   "id": "b67a4c72fd35cc81"
  },
  {
   "cell_type": "code",
   "execution_count": 27,
   "outputs": [],
   "source": [
    "X = df.iloc[:,:-1].values\n",
    "y = df.iloc[:,1].values\n"
   ],
   "metadata": {
    "collapsed": false,
    "ExecuteTime": {
     "end_time": "2023-10-18T04:54:09.076927Z",
     "start_time": "2023-10-18T04:54:09.071431Z"
    }
   },
   "id": "85f8e5671c7f55d5"
  },
  {
   "cell_type": "code",
   "execution_count": 28,
   "outputs": [],
   "source": [
    "from sklearn.model_selection import train_test_split\n",
    "from sklearn.linear_model import LogisticRegression\n",
    "X_train,X_test,y_train,y_test = train_test_split(X,y,test_size=0.2,random_state=42)"
   ],
   "metadata": {
    "collapsed": false,
    "ExecuteTime": {
     "end_time": "2023-10-18T04:54:13.044151Z",
     "start_time": "2023-10-18T04:54:13.041392Z"
    }
   },
   "id": "e3587a0ac2e5aa74"
  },
  {
   "cell_type": "code",
   "execution_count": 29,
   "outputs": [
    {
     "ename": "ValueError",
     "evalue": "a must be 1-dimensional",
     "output_type": "error",
     "traceback": [
      "\u001B[0;31m---------------------------------------------------------------------------\u001B[0m",
      "\u001B[0;31mValueError\u001B[0m                                Traceback (most recent call last)",
      "Cell \u001B[0;32mIn[29], line 1\u001B[0m\n\u001B[0;32m----> 1\u001B[0m indices \u001B[38;5;241m=\u001B[39m np\u001B[38;5;241m.\u001B[39mrandom\u001B[38;5;241m.\u001B[39mchoice(X_train,size\u001B[38;5;241m=\u001B[39m\u001B[38;5;241m100\u001B[39m,replace\u001B[38;5;241m=\u001B[39m\u001B[38;5;28;01mTrue\u001B[39;00m)\n\u001B[1;32m      2\u001B[0m X_bootstrap \u001B[38;5;241m=\u001B[39m X_train[indices]\n\u001B[1;32m      3\u001B[0m y_bootstrap \u001B[38;5;241m=\u001B[39m y_train[indices]\n",
      "File \u001B[0;32mmtrand.pyx:911\u001B[0m, in \u001B[0;36mnumpy.random.mtrand.RandomState.choice\u001B[0;34m()\u001B[0m\n",
      "\u001B[0;31mValueError\u001B[0m: a must be 1-dimensional"
     ]
    }
   ],
   "source": [
    "indices = np.random.choice(X_train,size=100,replace=True)\n",
    "X_bootstrap = X_train[indices]\n",
    "y_bootstrap = y_train[indices]"
   ],
   "metadata": {
    "collapsed": false,
    "ExecuteTime": {
     "end_time": "2023-10-18T04:54:14.410845Z",
     "start_time": "2023-10-18T04:54:14.396267Z"
    }
   },
   "id": "2986a45e426b7760"
  },
  {
   "cell_type": "code",
   "execution_count": 30,
   "outputs": [
    {
     "data": {
      "text/plain": "array([[ 49,   0, 134, 271],\n       [ 59,   1, 170, 326],\n       [ 53,   1, 130, 246],\n       [ 50,   1, 140, 233],\n       [ 54,   0, 110, 214],\n       [ 59,   1, 160, 273],\n       [ 46,   1, 140, 311],\n       [ 45,   1, 142, 309],\n       [ 58,   1, 132, 224],\n       [ 59,   1, 135, 234],\n       [ 52,   1, 128, 255],\n       [ 51,   1, 140, 261],\n       [ 51,   1, 110, 175],\n       [ 41,   1, 135, 203],\n       [ 41,   1, 110, 172],\n       [ 76,   0, 140, 197],\n       [ 64,   1, 110, 211],\n       [ 67,   1, 120, 237],\n       [ 55,   0, 135, 250],\n       [ 60,   0, 158, 305],\n       [ 69,   1, 160, 234],\n       [ 62,   1, 128, 208],\n       [ 41,   0, 105, 198],\n       [ 58,   1, 100, 234],\n       [ 68,   1, 118, 277],\n       [ 42,   1, 130, 180],\n       [ 51,   0, 130, 256],\n       [ 57,   1, 110, 201],\n       [ 44,   1, 130, 219],\n       [ 54,   1, 124, 266],\n       [ 58,   1, 125, 300],\n       [ 62,   1, 120, 267],\n       [ 54,   1, 125, 273],\n       [ 42,   0, 120, 209],\n       [ 56,   0, 134, 409],\n       [ 41,   1, 110, 235],\n       [ 52,   1, 118, 186],\n       [ 55,   1, 132, 353],\n       [ 58,   0, 120, 340],\n       [ 59,   1, 170, 288],\n       [ 35,   1, 126, 282],\n       [ 46,   0, 105, 204],\n       [ 47,   1, 108, 243],\n       [ 57,   1, 124, 261],\n       [ 45,   1, 104, 208],\n       [ 40,   1, 110, 167],\n       [ 57,   1, 132, 207],\n       [ 51,   1, 125, 213],\n       [ 66,   1, 120, 302],\n       [ 59,   1, 140, 177],\n       [ 64,   1, 145, 212],\n       [ 68,   0, 120, 211],\n       [ 58,   1, 120, 284],\n       [ 67,   0, 106, 223],\n       [ 56,   0, 200, 288],\n       [ 71,   0, 110, 265],\n       [ 41,   0, 130, 204],\n       [ 54,   1, 108, 309],\n       [ 62,   1, 130, 231],\n       [ 46,   1, 150, 231],\n       [ 49,   1, 130, 266],\n       [ 65,   1, 120, 177],\n       [ 61,   1, 138, 166],\n       [ 43,   1, 150, 247],\n       [ 62,   0, 138, 294],\n       [ 43,   1, 110, 211],\n       [ 57,   1, 150, 276],\n       [ 45,   1, 128, 308],\n       [ 42,   1, 148, 244],\n       [ 42,   1, 120, 295],\n       [ 60,   1, 130, 253],\n       [ 67,   1, 100, 299],\n       [ 66,   1, 160, 228],\n       [ 44,   1, 140, 235],\n       [ 48,   1, 130, 256],\n       [ 58,   1, 112, 230],\n       [ 42,   1, 140, 226],\n       [ 52,   1, 128, 205],\n       [ 47,   1, 110, 275],\n       [ 53,   1, 130, 197],\n       [ 50,   1, 129, 196],\n       [ 62,   0, 124, 209],\n       [ 65,   1, 110, 248],\n       [ 51,   1, 140, 298],\n       [ 67,   0, 152, 277],\n       [ 46,   0, 138, 243],\n       [ 48,   1, 110, 229],\n       [ 59,   1, 138, 271],\n       [ 66,   0, 178, 228],\n       [ 70,   1, 130, 322],\n       [ 39,   1, 118, 219],\n       [ 44,   0, 108, 141],\n       [ 39,   1, 140, 321],\n       [ 60,   1, 125, 258],\n       [ 64,   0, 140, 313],\n       [ 61,   1, 140, 207],\n       [ 51,   0, 130, 305],\n       [ 41,   1, 112, 250],\n       [ 43,   0, 122, 213],\n       [ 61,   1, 150, 243],\n       [ 53,   1, 142, 226],\n       [ 56,   0, 140, 294],\n       [ 61,   0, 145, 307],\n       [ 51,   0, 120, 295],\n       [ 67,   1, 125, 254],\n       [ 74,   0, 120, 269],\n       [ 57,   1, 152, 274],\n       [ 37,   0, 120, 215],\n       [ 55,   1, 160, 289],\n       [ 55,   1, 130, 262],\n       [ 45,   0, 138, 236],\n       [ 60,   0, 102, 318],\n       [ 34,   0, 118, 210],\n       [ 44,   1, 120, 226],\n       [ 46,   0, 142, 177],\n       [ 52,   1, 134, 201],\n       [ 60,   1, 130, 206],\n       [ 62,   0, 140, 268],\n       [ 61,   1, 120, 260],\n       [ 57,   1, 150, 168],\n       [ 63,   1, 145, 233],\n       [ 59,   1, 126, 218],\n       [ 56,   1, 132, 184],\n       [ 55,   1, 140, 217],\n       [ 40,   1, 152, 223],\n       [ 65,   0, 160, 360],\n       [ 64,   0, 130, 303],\n       [ 47,   1, 112, 204],\n       [ 51,   1,  94, 227],\n       [ 58,   1, 128, 216],\n       [ 35,   1, 120, 198],\n       [ 48,   1, 122, 222],\n       [ 68,   1, 180, 274],\n       [ 44,   1, 110, 197],\n       [ 52,   1, 125, 212],\n       [ 54,   1, 110, 239],\n       [ 53,   0, 138, 234],\n       [ 62,   0, 150, 244],\n       [ 46,   1, 101, 197],\n       [ 53,   1, 123, 282],\n       [ 54,   1, 140, 239],\n       [ 51,   1, 125, 245],\n       [ 64,   1, 128, 263],\n       [ 48,   1, 124, 274],\n       [ 63,   0, 140, 195],\n       [ 64,   1, 120, 246],\n       [ 67,   0, 115, 564],\n       [ 63,   1, 130, 330],\n       [ 57,   1, 165, 289],\n       [ 65,   0, 150, 225],\n       [ 58,   1, 128, 259],\n       [ 58,   1, 146, 218],\n       [ 52,   1, 152, 298],\n       [ 50,   1, 144, 200],\n       [ 43,   1, 120, 177],\n       [ 59,   1, 110, 239],\n       [ 69,   1, 140, 254],\n       [ 69,   0, 140, 239],\n       [ 53,   0, 130, 264],\n       [ 55,   0, 180, 327],\n       [ 61,   0, 130, 330],\n       [ 41,   1, 130, 214],\n       [ 60,   1, 117, 230],\n       [ 65,   0, 140, 417],\n       [ 50,   1, 150, 243],\n       [ 60,   1, 140, 293],\n       [ 61,   1, 134, 234],\n       [ 62,   1, 120, 281],\n       [ 60,   1, 140, 185],\n       [ 66,   1, 112, 212],\n       [ 53,   1, 140, 203],\n       [ 50,   0, 110, 254],\n       [ 70,   1, 156, 245],\n       [ 59,   1, 150, 212],\n       [ 54,   1, 150, 232],\n       [ 60,   1, 145, 282],\n       [ 58,   0, 150, 283],\n       [ 64,   1, 140, 335],\n       [ 60,   0, 150, 240],\n       [ 45,   0, 130, 234],\n       [ 60,   0, 150, 258],\n       [ 42,   1, 136, 315],\n       [ 47,   1, 138, 257],\n       [ 34,   1, 118, 182],\n       [ 52,   1, 120, 325],\n       [ 70,   1, 160, 269],\n       [ 57,   0, 128, 303],\n       [ 58,   1, 105, 240],\n       [ 71,   0, 160, 302],\n       [ 44,   1, 120, 220],\n       [ 65,   1, 138, 282],\n       [ 59,   0, 174, 249],\n       [ 54,   1, 120, 258],\n       [ 66,   1, 160, 246],\n       [ 41,   0, 126, 306],\n       [ 62,   0, 160, 164],\n       [ 48,   1, 130, 245],\n       [ 60,   0, 120, 178],\n       [ 51,   1, 140, 299],\n       [ 38,   1, 120, 231],\n       [ 52,   1, 172, 199],\n       [ 52,   1, 108, 233],\n       [ 70,   1, 145, 174],\n       [ 41,   0, 112, 268],\n       [ 63,   0, 108, 269],\n       [ 50,   0, 120, 219],\n       [ 50,   0, 120, 244],\n       [ 59,   1, 178, 270],\n       [ 29,   1, 130, 204],\n       [ 54,   1, 122, 286],\n       [ 67,   1, 160, 286],\n       [ 67,   1, 120, 229],\n       [ 62,   0, 140, 394],\n       [ 57,   0, 120, 354],\n       [ 51,   1, 100, 222],\n       [ 49,   0, 130, 269]])"
     },
     "execution_count": 30,
     "metadata": {},
     "output_type": "execute_result"
    }
   ],
   "source": [
    "X_train"
   ],
   "metadata": {
    "collapsed": false,
    "ExecuteTime": {
     "end_time": "2023-10-18T04:54:15.628097Z",
     "start_time": "2023-10-18T04:54:15.621029Z"
    }
   },
   "id": "67f26921c071689"
  },
  {
   "cell_type": "code",
   "execution_count": 31,
   "outputs": [
    {
     "data": {
      "text/plain": "216"
     },
     "execution_count": 31,
     "metadata": {},
     "output_type": "execute_result"
    }
   ],
   "source": [
    "X_train.shape[0]"
   ],
   "metadata": {
    "collapsed": false,
    "ExecuteTime": {
     "end_time": "2023-10-18T04:54:18.395151Z",
     "start_time": "2023-10-18T04:54:18.389697Z"
    }
   },
   "id": "7c2294cb1b153473"
  },
  {
   "cell_type": "code",
   "execution_count": 32,
   "outputs": [],
   "source": [
    "n_trees = 10\n",
    "trees = []\n",
    "for i in range(n_trees):\n",
    "    indices = np.random.choice(X_train.shape[0],size=100,replace=True)\n",
    "    X_bootstrap = X_train[indices]\n",
    "    y_bootstrap = y_train[indices]\n",
    "    model = LogisticRegression()\n",
    "    model.fit(X_bootstrap,y_bootstrap)\n",
    "    trees.append(model)\n",
    "    "
   ],
   "metadata": {
    "collapsed": false,
    "ExecuteTime": {
     "end_time": "2023-10-18T04:54:19.646812Z",
     "start_time": "2023-10-18T04:54:19.623298Z"
    }
   },
   "id": "c40ba40ee1e6c9b5"
  },
  {
   "cell_type": "code",
   "execution_count": 53,
   "outputs": [
    {
     "name": "stdout",
     "output_type": "stream",
     "text": [
      "[1. 1. 1. 0. 0. 1. 1. 1. 1. 0. 0. 1. 0. 1. 0. 1. 0. 1. 1. 1. 1. 1. 1. 1.\n",
      " 1. 0. 1. 1. 0. 0. 0. 0. 1. 0. 1. 1. 1. 0. 1. 0. 0. 0. 0. 1. 0. 0. 1. 1.\n",
      " 1. 1. 0. 0. 1. 1.]\n"
     ]
    }
   ],
   "source": [
    "predictions = [tree.predict(X_test) for tree in trees]\n",
    "y_pred = np.round(np.mean(predictions, axis=0))\n",
    "print(y_pred)\n"
   ],
   "metadata": {
    "collapsed": false,
    "ExecuteTime": {
     "end_time": "2023-10-18T05:07:24.068087Z",
     "start_time": "2023-10-18T05:07:24.061986Z"
    }
   },
   "id": "64959b405ce0de1f"
  },
  {
   "cell_type": "code",
   "execution_count": 44,
   "outputs": [
    {
     "name": "stdout",
     "output_type": "stream",
     "text": [
      "[1 1 1 0 0 1 1 1 1 0 0 1 0 1 0 1 0 1 1 1 1 1 1 1 1 0 1 1 0 0 0 0 1 0 1 1 1\n",
      " 0 1 0 0 0 0 1 0 0 1 1 1 1 0 0 1 1]\n"
     ]
    }
   ],
   "source": [
    "print(y_test)"
   ],
   "metadata": {
    "collapsed": false,
    "ExecuteTime": {
     "end_time": "2023-10-18T05:01:32.969333Z",
     "start_time": "2023-10-18T05:01:32.967019Z"
    }
   },
   "id": "fb8311d6dc77c1d8"
  },
  {
   "cell_type": "code",
   "execution_count": 55,
   "outputs": [
    {
     "name": "stdout",
     "output_type": "stream",
     "text": [
      "[[22  0]\n",
      " [ 0 32]]\n",
      "1.0\n"
     ]
    }
   ],
   "source": [
    "from sklearn.metrics import confusion_matrix,accuracy_score\n",
    "cm = confusion_matrix(y_test,y_pred)\n",
    "ac = accuracy_score(y_test,y_pred)\n",
    "print(cm)\n",
    "print(ac)\n"
   ],
   "metadata": {
    "collapsed": false,
    "ExecuteTime": {
     "end_time": "2023-10-18T05:08:09.315470Z",
     "start_time": "2023-10-18T05:08:09.304714Z"
    }
   },
   "id": "a725d58b4c0948c7"
  }
 ],
 "metadata": {
  "kernelspec": {
   "display_name": "Python 3",
   "language": "python",
   "name": "python3"
  },
  "language_info": {
   "codemirror_mode": {
    "name": "ipython",
    "version": 2
   },
   "file_extension": ".py",
   "mimetype": "text/x-python",
   "name": "python",
   "nbconvert_exporter": "python",
   "pygments_lexer": "ipython2",
   "version": "2.7.6"
  }
 },
 "nbformat": 4,
 "nbformat_minor": 5
}
