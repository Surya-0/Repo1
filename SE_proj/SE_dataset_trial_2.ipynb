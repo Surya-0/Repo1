{
 "cells": [
  {
   "cell_type": "code",
   "execution_count": 3,
   "id": "initial_id",
   "metadata": {
    "collapsed": true,
    "ExecuteTime": {
     "end_time": "2024-04-30T05:20:35.472848Z",
     "start_time": "2024-04-30T05:20:35.470336Z"
    }
   },
   "outputs": [],
   "source": [
    "import numpy as np\n",
    "import pandas as pd\n",
    "import matplotlib.pyplot as plt"
   ]
  },
  {
   "cell_type": "code",
   "execution_count": 4,
   "outputs": [
    {
     "data": {
      "text/plain": "       InvoiceNo StockCode                          Description  Quantity  \\\n0         536365    85123A   WHITE HANGING HEART T-LIGHT HOLDER         6   \n1         536365     71053                  WHITE METAL LANTERN         6   \n2         536365    84406B       CREAM CUPID HEARTS COAT HANGER         8   \n3         536365    84029G  KNITTED UNION FLAG HOT WATER BOTTLE         6   \n4         536365    84029E       RED WOOLLY HOTTIE WHITE HEART.         6   \n...          ...       ...                                  ...       ...   \n541904    581587     22613          PACK OF 20 SPACEBOY NAPKINS        12   \n541905    581587     22899         CHILDREN'S APRON DOLLY GIRL          6   \n541906    581587     23254        CHILDRENS CUTLERY DOLLY GIRL          4   \n541907    581587     23255      CHILDRENS CUTLERY CIRCUS PARADE         4   \n541908    581587     22138        BAKING SET 9 PIECE RETROSPOT          3   \n\n            InvoiceDate  UnitPrice  CustomerID         Country  \n0        12/1/2010 8:26       2.55     17850.0  United Kingdom  \n1        12/1/2010 8:26       3.39     17850.0  United Kingdom  \n2        12/1/2010 8:26       2.75     17850.0  United Kingdom  \n3        12/1/2010 8:26       3.39     17850.0  United Kingdom  \n4        12/1/2010 8:26       3.39     17850.0  United Kingdom  \n...                 ...        ...         ...             ...  \n541904  12/9/2011 12:50       0.85     12680.0          France  \n541905  12/9/2011 12:50       2.10     12680.0          France  \n541906  12/9/2011 12:50       4.15     12680.0          France  \n541907  12/9/2011 12:50       4.15     12680.0          France  \n541908  12/9/2011 12:50       4.95     12680.0          France  \n\n[541909 rows x 8 columns]",
      "text/html": "<div>\n<style scoped>\n    .dataframe tbody tr th:only-of-type {\n        vertical-align: middle;\n    }\n\n    .dataframe tbody tr th {\n        vertical-align: top;\n    }\n\n    .dataframe thead th {\n        text-align: right;\n    }\n</style>\n<table border=\"1\" class=\"dataframe\">\n  <thead>\n    <tr style=\"text-align: right;\">\n      <th></th>\n      <th>InvoiceNo</th>\n      <th>StockCode</th>\n      <th>Description</th>\n      <th>Quantity</th>\n      <th>InvoiceDate</th>\n      <th>UnitPrice</th>\n      <th>CustomerID</th>\n      <th>Country</th>\n    </tr>\n  </thead>\n  <tbody>\n    <tr>\n      <th>0</th>\n      <td>536365</td>\n      <td>85123A</td>\n      <td>WHITE HANGING HEART T-LIGHT HOLDER</td>\n      <td>6</td>\n      <td>12/1/2010 8:26</td>\n      <td>2.55</td>\n      <td>17850.0</td>\n      <td>United Kingdom</td>\n    </tr>\n    <tr>\n      <th>1</th>\n      <td>536365</td>\n      <td>71053</td>\n      <td>WHITE METAL LANTERN</td>\n      <td>6</td>\n      <td>12/1/2010 8:26</td>\n      <td>3.39</td>\n      <td>17850.0</td>\n      <td>United Kingdom</td>\n    </tr>\n    <tr>\n      <th>2</th>\n      <td>536365</td>\n      <td>84406B</td>\n      <td>CREAM CUPID HEARTS COAT HANGER</td>\n      <td>8</td>\n      <td>12/1/2010 8:26</td>\n      <td>2.75</td>\n      <td>17850.0</td>\n      <td>United Kingdom</td>\n    </tr>\n    <tr>\n      <th>3</th>\n      <td>536365</td>\n      <td>84029G</td>\n      <td>KNITTED UNION FLAG HOT WATER BOTTLE</td>\n      <td>6</td>\n      <td>12/1/2010 8:26</td>\n      <td>3.39</td>\n      <td>17850.0</td>\n      <td>United Kingdom</td>\n    </tr>\n    <tr>\n      <th>4</th>\n      <td>536365</td>\n      <td>84029E</td>\n      <td>RED WOOLLY HOTTIE WHITE HEART.</td>\n      <td>6</td>\n      <td>12/1/2010 8:26</td>\n      <td>3.39</td>\n      <td>17850.0</td>\n      <td>United Kingdom</td>\n    </tr>\n    <tr>\n      <th>...</th>\n      <td>...</td>\n      <td>...</td>\n      <td>...</td>\n      <td>...</td>\n      <td>...</td>\n      <td>...</td>\n      <td>...</td>\n      <td>...</td>\n    </tr>\n    <tr>\n      <th>541904</th>\n      <td>581587</td>\n      <td>22613</td>\n      <td>PACK OF 20 SPACEBOY NAPKINS</td>\n      <td>12</td>\n      <td>12/9/2011 12:50</td>\n      <td>0.85</td>\n      <td>12680.0</td>\n      <td>France</td>\n    </tr>\n    <tr>\n      <th>541905</th>\n      <td>581587</td>\n      <td>22899</td>\n      <td>CHILDREN'S APRON DOLLY GIRL</td>\n      <td>6</td>\n      <td>12/9/2011 12:50</td>\n      <td>2.10</td>\n      <td>12680.0</td>\n      <td>France</td>\n    </tr>\n    <tr>\n      <th>541906</th>\n      <td>581587</td>\n      <td>23254</td>\n      <td>CHILDRENS CUTLERY DOLLY GIRL</td>\n      <td>4</td>\n      <td>12/9/2011 12:50</td>\n      <td>4.15</td>\n      <td>12680.0</td>\n      <td>France</td>\n    </tr>\n    <tr>\n      <th>541907</th>\n      <td>581587</td>\n      <td>23255</td>\n      <td>CHILDRENS CUTLERY CIRCUS PARADE</td>\n      <td>4</td>\n      <td>12/9/2011 12:50</td>\n      <td>4.15</td>\n      <td>12680.0</td>\n      <td>France</td>\n    </tr>\n    <tr>\n      <th>541908</th>\n      <td>581587</td>\n      <td>22138</td>\n      <td>BAKING SET 9 PIECE RETROSPOT</td>\n      <td>3</td>\n      <td>12/9/2011 12:50</td>\n      <td>4.95</td>\n      <td>12680.0</td>\n      <td>France</td>\n    </tr>\n  </tbody>\n</table>\n<p>541909 rows × 8 columns</p>\n</div>"
     },
     "execution_count": 4,
     "metadata": {},
     "output_type": "execute_result"
    }
   ],
   "source": [
    "df = pd.read_csv('data.csv',encoding='latin1')\n",
    "df"
   ],
   "metadata": {
    "collapsed": false,
    "ExecuteTime": {
     "end_time": "2024-04-30T05:20:36.440254Z",
     "start_time": "2024-04-30T05:20:36.117868Z"
    }
   },
   "id": "8d4ce60bfade20d7"
  },
  {
   "cell_type": "code",
   "execution_count": 5,
   "outputs": [
    {
     "data": {
      "text/plain": "InvoiceNo      25900\nStockCode       4070\nDescription     4223\nQuantity         722\nInvoiceDate    23260\nUnitPrice       1630\nCustomerID      4372\nCountry           38\ndtype: int64"
     },
     "execution_count": 5,
     "metadata": {},
     "output_type": "execute_result"
    }
   ],
   "source": [
    "df.nunique()"
   ],
   "metadata": {
    "collapsed": false,
    "ExecuteTime": {
     "end_time": "2024-04-30T05:21:36.985279Z",
     "start_time": "2024-04-30T05:21:36.878471Z"
    }
   },
   "id": "f2d60c2b37bcfbc6"
  },
  {
   "cell_type": "code",
   "execution_count": 15,
   "outputs": [
    {
     "data": {
      "text/plain": "       InvoiceNo StockCode                          Description  Quantity  \\\n0         536365    85123A   WHITE HANGING HEART T-LIGHT HOLDER         6   \n1         536365     71053                  WHITE METAL LANTERN         6   \n2         536365    84406B       CREAM CUPID HEARTS COAT HANGER         8   \n3         536365    84029G  KNITTED UNION FLAG HOT WATER BOTTLE         6   \n4         536365    84029E       RED WOOLLY HOTTIE WHITE HEART.         6   \n...          ...       ...                                  ...       ...   \n541904    581587     22613          PACK OF 20 SPACEBOY NAPKINS        12   \n541905    581587     22899         CHILDREN'S APRON DOLLY GIRL          6   \n541906    581587     23254        CHILDRENS CUTLERY DOLLY GIRL          4   \n541907    581587     23255      CHILDRENS CUTLERY CIRCUS PARADE         4   \n541908    581587     22138        BAKING SET 9 PIECE RETROSPOT          3   \n\n            InvoiceDate  UnitPrice  CustomerID         Country  sales  \n0        12/1/2010 8:26       2.55     17850.0  United Kingdom  15.30  \n1        12/1/2010 8:26       3.39     17850.0  United Kingdom  20.34  \n2        12/1/2010 8:26       2.75     17850.0  United Kingdom  22.00  \n3        12/1/2010 8:26       3.39     17850.0  United Kingdom  20.34  \n4        12/1/2010 8:26       3.39     17850.0  United Kingdom  20.34  \n...                 ...        ...         ...             ...    ...  \n541904  12/9/2011 12:50       0.85     12680.0          France  10.20  \n541905  12/9/2011 12:50       2.10     12680.0          France  12.60  \n541906  12/9/2011 12:50       4.15     12680.0          France  16.60  \n541907  12/9/2011 12:50       4.15     12680.0          France  16.60  \n541908  12/9/2011 12:50       4.95     12680.0          France  14.85  \n\n[541909 rows x 9 columns]",
      "text/html": "<div>\n<style scoped>\n    .dataframe tbody tr th:only-of-type {\n        vertical-align: middle;\n    }\n\n    .dataframe tbody tr th {\n        vertical-align: top;\n    }\n\n    .dataframe thead th {\n        text-align: right;\n    }\n</style>\n<table border=\"1\" class=\"dataframe\">\n  <thead>\n    <tr style=\"text-align: right;\">\n      <th></th>\n      <th>InvoiceNo</th>\n      <th>StockCode</th>\n      <th>Description</th>\n      <th>Quantity</th>\n      <th>InvoiceDate</th>\n      <th>UnitPrice</th>\n      <th>CustomerID</th>\n      <th>Country</th>\n      <th>sales</th>\n    </tr>\n  </thead>\n  <tbody>\n    <tr>\n      <th>0</th>\n      <td>536365</td>\n      <td>85123A</td>\n      <td>WHITE HANGING HEART T-LIGHT HOLDER</td>\n      <td>6</td>\n      <td>12/1/2010 8:26</td>\n      <td>2.55</td>\n      <td>17850.0</td>\n      <td>United Kingdom</td>\n      <td>15.30</td>\n    </tr>\n    <tr>\n      <th>1</th>\n      <td>536365</td>\n      <td>71053</td>\n      <td>WHITE METAL LANTERN</td>\n      <td>6</td>\n      <td>12/1/2010 8:26</td>\n      <td>3.39</td>\n      <td>17850.0</td>\n      <td>United Kingdom</td>\n      <td>20.34</td>\n    </tr>\n    <tr>\n      <th>2</th>\n      <td>536365</td>\n      <td>84406B</td>\n      <td>CREAM CUPID HEARTS COAT HANGER</td>\n      <td>8</td>\n      <td>12/1/2010 8:26</td>\n      <td>2.75</td>\n      <td>17850.0</td>\n      <td>United Kingdom</td>\n      <td>22.00</td>\n    </tr>\n    <tr>\n      <th>3</th>\n      <td>536365</td>\n      <td>84029G</td>\n      <td>KNITTED UNION FLAG HOT WATER BOTTLE</td>\n      <td>6</td>\n      <td>12/1/2010 8:26</td>\n      <td>3.39</td>\n      <td>17850.0</td>\n      <td>United Kingdom</td>\n      <td>20.34</td>\n    </tr>\n    <tr>\n      <th>4</th>\n      <td>536365</td>\n      <td>84029E</td>\n      <td>RED WOOLLY HOTTIE WHITE HEART.</td>\n      <td>6</td>\n      <td>12/1/2010 8:26</td>\n      <td>3.39</td>\n      <td>17850.0</td>\n      <td>United Kingdom</td>\n      <td>20.34</td>\n    </tr>\n    <tr>\n      <th>...</th>\n      <td>...</td>\n      <td>...</td>\n      <td>...</td>\n      <td>...</td>\n      <td>...</td>\n      <td>...</td>\n      <td>...</td>\n      <td>...</td>\n      <td>...</td>\n    </tr>\n    <tr>\n      <th>541904</th>\n      <td>581587</td>\n      <td>22613</td>\n      <td>PACK OF 20 SPACEBOY NAPKINS</td>\n      <td>12</td>\n      <td>12/9/2011 12:50</td>\n      <td>0.85</td>\n      <td>12680.0</td>\n      <td>France</td>\n      <td>10.20</td>\n    </tr>\n    <tr>\n      <th>541905</th>\n      <td>581587</td>\n      <td>22899</td>\n      <td>CHILDREN'S APRON DOLLY GIRL</td>\n      <td>6</td>\n      <td>12/9/2011 12:50</td>\n      <td>2.10</td>\n      <td>12680.0</td>\n      <td>France</td>\n      <td>12.60</td>\n    </tr>\n    <tr>\n      <th>541906</th>\n      <td>581587</td>\n      <td>23254</td>\n      <td>CHILDRENS CUTLERY DOLLY GIRL</td>\n      <td>4</td>\n      <td>12/9/2011 12:50</td>\n      <td>4.15</td>\n      <td>12680.0</td>\n      <td>France</td>\n      <td>16.60</td>\n    </tr>\n    <tr>\n      <th>541907</th>\n      <td>581587</td>\n      <td>23255</td>\n      <td>CHILDRENS CUTLERY CIRCUS PARADE</td>\n      <td>4</td>\n      <td>12/9/2011 12:50</td>\n      <td>4.15</td>\n      <td>12680.0</td>\n      <td>France</td>\n      <td>16.60</td>\n    </tr>\n    <tr>\n      <th>541908</th>\n      <td>581587</td>\n      <td>22138</td>\n      <td>BAKING SET 9 PIECE RETROSPOT</td>\n      <td>3</td>\n      <td>12/9/2011 12:50</td>\n      <td>4.95</td>\n      <td>12680.0</td>\n      <td>France</td>\n      <td>14.85</td>\n    </tr>\n  </tbody>\n</table>\n<p>541909 rows × 9 columns</p>\n</div>"
     },
     "execution_count": 15,
     "metadata": {},
     "output_type": "execute_result"
    }
   ],
   "source": [
    "df['sales'] = df['Quantity'] * df['UnitPrice']\n",
    "df"
   ],
   "metadata": {
    "collapsed": false,
    "ExecuteTime": {
     "end_time": "2024-04-30T05:43:53.049336Z",
     "start_time": "2024-04-30T05:43:53.020801Z"
    }
   },
   "id": "98fcdd3fbb490554"
  },
  {
   "cell_type": "code",
   "execution_count": 31,
   "outputs": [],
   "source": [
    "ef = df.groupby(['StockCode'])"
   ],
   "metadata": {
    "collapsed": false,
    "ExecuteTime": {
     "end_time": "2024-04-30T05:51:22.712131Z",
     "start_time": "2024-04-30T05:51:22.710806Z"
    }
   },
   "id": "3158f15b5164c3d5"
  },
  {
   "cell_type": "code",
   "execution_count": 35,
   "outputs": [
    {
     "data": {
      "text/plain": "               Quantity  UnitPrice    CustomerID      sales\nStockCode                                                  \n10002         14.205479   1.056849  14772.285714  10.409452\n10080         20.625000   0.376667  15857.809524   4.962083\n10120          6.433333   0.210000  16162.633333   1.351000\n10123C        -3.250000   0.487500  15567.000000   0.812500\n10123G       -38.000000   0.000000           NaN   0.000000\n...                 ...        ...           ...        ...\ngift_0001_20   2.000000  15.038000           NaN  16.705000\ngift_0001_30   4.625000  21.941250           NaN  21.941250\ngift_0001_40   1.000000  33.566667           NaN  33.566667\ngift_0001_50   1.000000  41.890000           NaN  41.890000\nm              1.000000   2.550000           NaN   2.550000\n\n[4070 rows x 4 columns]",
      "text/html": "<div>\n<style scoped>\n    .dataframe tbody tr th:only-of-type {\n        vertical-align: middle;\n    }\n\n    .dataframe tbody tr th {\n        vertical-align: top;\n    }\n\n    .dataframe thead th {\n        text-align: right;\n    }\n</style>\n<table border=\"1\" class=\"dataframe\">\n  <thead>\n    <tr style=\"text-align: right;\">\n      <th></th>\n      <th>Quantity</th>\n      <th>UnitPrice</th>\n      <th>CustomerID</th>\n      <th>sales</th>\n    </tr>\n    <tr>\n      <th>StockCode</th>\n      <th></th>\n      <th></th>\n      <th></th>\n      <th></th>\n    </tr>\n  </thead>\n  <tbody>\n    <tr>\n      <th>10002</th>\n      <td>14.205479</td>\n      <td>1.056849</td>\n      <td>14772.285714</td>\n      <td>10.409452</td>\n    </tr>\n    <tr>\n      <th>10080</th>\n      <td>20.625000</td>\n      <td>0.376667</td>\n      <td>15857.809524</td>\n      <td>4.962083</td>\n    </tr>\n    <tr>\n      <th>10120</th>\n      <td>6.433333</td>\n      <td>0.210000</td>\n      <td>16162.633333</td>\n      <td>1.351000</td>\n    </tr>\n    <tr>\n      <th>10123C</th>\n      <td>-3.250000</td>\n      <td>0.487500</td>\n      <td>15567.000000</td>\n      <td>0.812500</td>\n    </tr>\n    <tr>\n      <th>10123G</th>\n      <td>-38.000000</td>\n      <td>0.000000</td>\n      <td>NaN</td>\n      <td>0.000000</td>\n    </tr>\n    <tr>\n      <th>...</th>\n      <td>...</td>\n      <td>...</td>\n      <td>...</td>\n      <td>...</td>\n    </tr>\n    <tr>\n      <th>gift_0001_20</th>\n      <td>2.000000</td>\n      <td>15.038000</td>\n      <td>NaN</td>\n      <td>16.705000</td>\n    </tr>\n    <tr>\n      <th>gift_0001_30</th>\n      <td>4.625000</td>\n      <td>21.941250</td>\n      <td>NaN</td>\n      <td>21.941250</td>\n    </tr>\n    <tr>\n      <th>gift_0001_40</th>\n      <td>1.000000</td>\n      <td>33.566667</td>\n      <td>NaN</td>\n      <td>33.566667</td>\n    </tr>\n    <tr>\n      <th>gift_0001_50</th>\n      <td>1.000000</td>\n      <td>41.890000</td>\n      <td>NaN</td>\n      <td>41.890000</td>\n    </tr>\n    <tr>\n      <th>m</th>\n      <td>1.000000</td>\n      <td>2.550000</td>\n      <td>NaN</td>\n      <td>2.550000</td>\n    </tr>\n  </tbody>\n</table>\n<p>4070 rows × 4 columns</p>\n</div>"
     },
     "execution_count": 35,
     "metadata": {},
     "output_type": "execute_result"
    }
   ],
   "source": [
    "ef.mean()"
   ],
   "metadata": {
    "collapsed": false,
    "ExecuteTime": {
     "end_time": "2024-04-30T06:13:53.872982Z",
     "start_time": "2024-04-30T06:13:53.845311Z"
    }
   },
   "id": "888f13c4cbb040fa"
  },
  {
   "cell_type": "code",
   "execution_count": 30,
   "outputs": [
    {
     "data": {
      "text/plain": "             InvoiceNo                         Description  Quantity  \\\nStockCode                                                              \n10002           536370         INFLATABLE POLITICAL GLOBE         48   \n10080           545060            GROOVY CACTUS INFLATABLE         2   \n10120           536863                        DOGGY RUBBER         1   \n10123C          536863               HEARTS WRAPPING TAPE          1   \n10123G          549349                                None       -38   \n...                ...                                 ...       ...   \ngift_0001_20    540238  Dotcomgiftshop Gift Voucher £20.00         1   \ngift_0001_30    540238  Dotcomgiftshop Gift Voucher £30.00         1   \ngift_0001_40    539492  Dotcomgiftshop Gift Voucher £40.00         1   \ngift_0001_50    539958  Dotcomgiftshop Gift Voucher £50.00         1   \nm               539736                              Manual         1   \n\n                   InvoiceDate  UnitPrice  CustomerID         Country  sales  \nStockCode                                                                     \n10002           12/1/2010 8:45       0.85     12583.0          France  40.80  \n10080          2/27/2011 13:47       0.85     15547.0  United Kingdom   1.70  \n10120          12/3/2010 11:19       0.21     17967.0  United Kingdom   0.21  \n10123C         12/3/2010 11:19       0.65     17967.0  United Kingdom   0.65  \n10123G          4/8/2011 11:13       0.00         NaN  United Kingdom  -0.00  \n...                        ...        ...         ...             ...    ...  \ngift_0001_20    1/5/2011 14:44      17.02         NaN  United Kingdom  17.02  \ngift_0001_30    1/5/2011 14:44      25.53         NaN  United Kingdom  25.53  \ngift_0001_40  12/20/2010 10:14      34.04         NaN  United Kingdom  34.04  \ngift_0001_50  12/23/2010 13:26      42.55         NaN  United Kingdom  42.55  \nm             12/21/2010 15:18       2.55         NaN  United Kingdom   2.55  \n\n[4070 rows x 8 columns]",
      "text/html": "<div>\n<style scoped>\n    .dataframe tbody tr th:only-of-type {\n        vertical-align: middle;\n    }\n\n    .dataframe tbody tr th {\n        vertical-align: top;\n    }\n\n    .dataframe thead th {\n        text-align: right;\n    }\n</style>\n<table border=\"1\" class=\"dataframe\">\n  <thead>\n    <tr style=\"text-align: right;\">\n      <th></th>\n      <th>InvoiceNo</th>\n      <th>Description</th>\n      <th>Quantity</th>\n      <th>InvoiceDate</th>\n      <th>UnitPrice</th>\n      <th>CustomerID</th>\n      <th>Country</th>\n      <th>sales</th>\n    </tr>\n    <tr>\n      <th>StockCode</th>\n      <th></th>\n      <th></th>\n      <th></th>\n      <th></th>\n      <th></th>\n      <th></th>\n      <th></th>\n      <th></th>\n    </tr>\n  </thead>\n  <tbody>\n    <tr>\n      <th>10002</th>\n      <td>536370</td>\n      <td>INFLATABLE POLITICAL GLOBE</td>\n      <td>48</td>\n      <td>12/1/2010 8:45</td>\n      <td>0.85</td>\n      <td>12583.0</td>\n      <td>France</td>\n      <td>40.80</td>\n    </tr>\n    <tr>\n      <th>10080</th>\n      <td>545060</td>\n      <td>GROOVY CACTUS INFLATABLE</td>\n      <td>2</td>\n      <td>2/27/2011 13:47</td>\n      <td>0.85</td>\n      <td>15547.0</td>\n      <td>United Kingdom</td>\n      <td>1.70</td>\n    </tr>\n    <tr>\n      <th>10120</th>\n      <td>536863</td>\n      <td>DOGGY RUBBER</td>\n      <td>1</td>\n      <td>12/3/2010 11:19</td>\n      <td>0.21</td>\n      <td>17967.0</td>\n      <td>United Kingdom</td>\n      <td>0.21</td>\n    </tr>\n    <tr>\n      <th>10123C</th>\n      <td>536863</td>\n      <td>HEARTS WRAPPING TAPE</td>\n      <td>1</td>\n      <td>12/3/2010 11:19</td>\n      <td>0.65</td>\n      <td>17967.0</td>\n      <td>United Kingdom</td>\n      <td>0.65</td>\n    </tr>\n    <tr>\n      <th>10123G</th>\n      <td>549349</td>\n      <td>None</td>\n      <td>-38</td>\n      <td>4/8/2011 11:13</td>\n      <td>0.00</td>\n      <td>NaN</td>\n      <td>United Kingdom</td>\n      <td>-0.00</td>\n    </tr>\n    <tr>\n      <th>...</th>\n      <td>...</td>\n      <td>...</td>\n      <td>...</td>\n      <td>...</td>\n      <td>...</td>\n      <td>...</td>\n      <td>...</td>\n      <td>...</td>\n    </tr>\n    <tr>\n      <th>gift_0001_20</th>\n      <td>540238</td>\n      <td>Dotcomgiftshop Gift Voucher £20.00</td>\n      <td>1</td>\n      <td>1/5/2011 14:44</td>\n      <td>17.02</td>\n      <td>NaN</td>\n      <td>United Kingdom</td>\n      <td>17.02</td>\n    </tr>\n    <tr>\n      <th>gift_0001_30</th>\n      <td>540238</td>\n      <td>Dotcomgiftshop Gift Voucher £30.00</td>\n      <td>1</td>\n      <td>1/5/2011 14:44</td>\n      <td>25.53</td>\n      <td>NaN</td>\n      <td>United Kingdom</td>\n      <td>25.53</td>\n    </tr>\n    <tr>\n      <th>gift_0001_40</th>\n      <td>539492</td>\n      <td>Dotcomgiftshop Gift Voucher £40.00</td>\n      <td>1</td>\n      <td>12/20/2010 10:14</td>\n      <td>34.04</td>\n      <td>NaN</td>\n      <td>United Kingdom</td>\n      <td>34.04</td>\n    </tr>\n    <tr>\n      <th>gift_0001_50</th>\n      <td>539958</td>\n      <td>Dotcomgiftshop Gift Voucher £50.00</td>\n      <td>1</td>\n      <td>12/23/2010 13:26</td>\n      <td>42.55</td>\n      <td>NaN</td>\n      <td>United Kingdom</td>\n      <td>42.55</td>\n    </tr>\n    <tr>\n      <th>m</th>\n      <td>539736</td>\n      <td>Manual</td>\n      <td>1</td>\n      <td>12/21/2010 15:18</td>\n      <td>2.55</td>\n      <td>NaN</td>\n      <td>United Kingdom</td>\n      <td>2.55</td>\n    </tr>\n  </tbody>\n</table>\n<p>4070 rows × 8 columns</p>\n</div>"
     },
     "execution_count": 30,
     "metadata": {},
     "output_type": "execute_result"
    }
   ],
   "source": [
    "ef"
   ],
   "metadata": {
    "collapsed": false,
    "ExecuteTime": {
     "end_time": "2024-04-30T05:48:19.239739Z",
     "start_time": "2024-04-30T05:48:19.220909Z"
    }
   },
   "id": "ee305451be57c120"
  },
  {
   "cell_type": "code",
   "execution_count": 7,
   "outputs": [
    {
     "data": {
      "text/plain": "  InvoiceNo StockCode                          Description  Quantity  \\\n0    536365    85123A   WHITE HANGING HEART T-LIGHT HOLDER         6   \n1    536365     71053                  WHITE METAL LANTERN         6   \n2    536365    84406B       CREAM CUPID HEARTS COAT HANGER         8   \n3    536365    84029G  KNITTED UNION FLAG HOT WATER BOTTLE         6   \n4    536365    84029E       RED WOOLLY HOTTIE WHITE HEART.         6   \n5    536365     22752         SET 7 BABUSHKA NESTING BOXES         2   \n6    536365     21730    GLASS STAR FROSTED T-LIGHT HOLDER         6   \n\n      InvoiceDate  UnitPrice  CustomerID         Country  \n0  12/1/2010 8:26       2.55     17850.0  United Kingdom  \n1  12/1/2010 8:26       3.39     17850.0  United Kingdom  \n2  12/1/2010 8:26       2.75     17850.0  United Kingdom  \n3  12/1/2010 8:26       3.39     17850.0  United Kingdom  \n4  12/1/2010 8:26       3.39     17850.0  United Kingdom  \n5  12/1/2010 8:26       7.65     17850.0  United Kingdom  \n6  12/1/2010 8:26       4.25     17850.0  United Kingdom  ",
      "text/html": "<div>\n<style scoped>\n    .dataframe tbody tr th:only-of-type {\n        vertical-align: middle;\n    }\n\n    .dataframe tbody tr th {\n        vertical-align: top;\n    }\n\n    .dataframe thead th {\n        text-align: right;\n    }\n</style>\n<table border=\"1\" class=\"dataframe\">\n  <thead>\n    <tr style=\"text-align: right;\">\n      <th></th>\n      <th>InvoiceNo</th>\n      <th>StockCode</th>\n      <th>Description</th>\n      <th>Quantity</th>\n      <th>InvoiceDate</th>\n      <th>UnitPrice</th>\n      <th>CustomerID</th>\n      <th>Country</th>\n    </tr>\n  </thead>\n  <tbody>\n    <tr>\n      <th>0</th>\n      <td>536365</td>\n      <td>85123A</td>\n      <td>WHITE HANGING HEART T-LIGHT HOLDER</td>\n      <td>6</td>\n      <td>12/1/2010 8:26</td>\n      <td>2.55</td>\n      <td>17850.0</td>\n      <td>United Kingdom</td>\n    </tr>\n    <tr>\n      <th>1</th>\n      <td>536365</td>\n      <td>71053</td>\n      <td>WHITE METAL LANTERN</td>\n      <td>6</td>\n      <td>12/1/2010 8:26</td>\n      <td>3.39</td>\n      <td>17850.0</td>\n      <td>United Kingdom</td>\n    </tr>\n    <tr>\n      <th>2</th>\n      <td>536365</td>\n      <td>84406B</td>\n      <td>CREAM CUPID HEARTS COAT HANGER</td>\n      <td>8</td>\n      <td>12/1/2010 8:26</td>\n      <td>2.75</td>\n      <td>17850.0</td>\n      <td>United Kingdom</td>\n    </tr>\n    <tr>\n      <th>3</th>\n      <td>536365</td>\n      <td>84029G</td>\n      <td>KNITTED UNION FLAG HOT WATER BOTTLE</td>\n      <td>6</td>\n      <td>12/1/2010 8:26</td>\n      <td>3.39</td>\n      <td>17850.0</td>\n      <td>United Kingdom</td>\n    </tr>\n    <tr>\n      <th>4</th>\n      <td>536365</td>\n      <td>84029E</td>\n      <td>RED WOOLLY HOTTIE WHITE HEART.</td>\n      <td>6</td>\n      <td>12/1/2010 8:26</td>\n      <td>3.39</td>\n      <td>17850.0</td>\n      <td>United Kingdom</td>\n    </tr>\n    <tr>\n      <th>5</th>\n      <td>536365</td>\n      <td>22752</td>\n      <td>SET 7 BABUSHKA NESTING BOXES</td>\n      <td>2</td>\n      <td>12/1/2010 8:26</td>\n      <td>7.65</td>\n      <td>17850.0</td>\n      <td>United Kingdom</td>\n    </tr>\n    <tr>\n      <th>6</th>\n      <td>536365</td>\n      <td>21730</td>\n      <td>GLASS STAR FROSTED T-LIGHT HOLDER</td>\n      <td>6</td>\n      <td>12/1/2010 8:26</td>\n      <td>4.25</td>\n      <td>17850.0</td>\n      <td>United Kingdom</td>\n    </tr>\n  </tbody>\n</table>\n</div>"
     },
     "execution_count": 7,
     "metadata": {},
     "output_type": "execute_result"
    }
   ],
   "source": [
    "df[df['InvoiceNo'] == '536365']\n"
   ],
   "metadata": {
    "collapsed": false,
    "ExecuteTime": {
     "end_time": "2024-04-30T05:25:02.302560Z",
     "start_time": "2024-04-30T05:25:02.295533Z"
    }
   },
   "id": "711f45d741515f94"
  },
  {
   "cell_type": "code",
   "execution_count": 14,
   "outputs": [
    {
     "data": {
      "text/plain": "0         2.55\n49        2.55\n66        2.55\n220       2.55\n262       2.55\n          ... \n539342    5.79\n539979    2.55\n540217    2.95\n540837    5.79\n541639    2.95\nName: UnitPrice, Length: 2313, dtype: float64"
     },
     "execution_count": 14,
     "metadata": {},
     "output_type": "execute_result"
    }
   ],
   "source": [
    "df[df['StockCode'] == '85123A']['UnitPrice']"
   ],
   "metadata": {
    "collapsed": false,
    "ExecuteTime": {
     "end_time": "2024-04-30T05:43:08.324647Z",
     "start_time": "2024-04-30T05:43:08.295913Z"
    }
   },
   "id": "42c88a9575cdb637"
  },
  {
   "cell_type": "code",
   "execution_count": null,
   "outputs": [],
   "source": [],
   "metadata": {
    "collapsed": false
   },
   "id": "1fe020c1c948e609"
  }
 ],
 "metadata": {
  "kernelspec": {
   "display_name": "Python 3",
   "language": "python",
   "name": "python3"
  },
  "language_info": {
   "codemirror_mode": {
    "name": "ipython",
    "version": 2
   },
   "file_extension": ".py",
   "mimetype": "text/x-python",
   "name": "python",
   "nbconvert_exporter": "python",
   "pygments_lexer": "ipython2",
   "version": "2.7.6"
  }
 },
 "nbformat": 4,
 "nbformat_minor": 5
}
