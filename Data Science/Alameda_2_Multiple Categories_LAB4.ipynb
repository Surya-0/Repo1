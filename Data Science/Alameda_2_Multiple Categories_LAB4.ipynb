{
 "cells": [
  {
   "cell_type": "markdown",
   "metadata": {},
   "source": [
    "### Jury Selection\n",
    "In 2010, the ACLU presented a report on jury selection in Alameda County, California. Thereport concluded that certain ethnic groups are underrepresented among jury panelists inAlameda County, and suggested some reforms of the process by which eligible jurors areassigned to panels. In this section, we will perform our own analysis of the data and examinesome questions that arise as a result"
   ]
  },
  {
   "cell_type": "markdown",
   "metadata": {},
   "source": [
    "#### ANSWER"
   ]
  },
  {
   "cell_type": "markdown",
   "metadata": {},
   "source": [
    "##### Null Hypothesis:-panels were selected at random from the population of eligible jurors. "
   ]
  },
  {
   "cell_type": "markdown",
   "metadata": {},
   "source": [
    "##### Alternate Hypothesis:-panels were not selected at random"
   ]
  },
  {
   "cell_type": "code",
   "execution_count": 1,
   "metadata": {
    "ExecuteTime": {
     "end_time": "2023-11-03T09:16:13.988354Z",
     "start_time": "2023-11-03T09:16:13.321666Z"
    }
   },
   "outputs": [],
   "source": [
    "import pandas as pd\n",
    "import matplotlib.pyplot as plt\n",
    "%matplotlib inline\n",
    "import numpy as np"
   ]
  },
  {
   "cell_type": "code",
   "execution_count": 2,
   "metadata": {
    "ExecuteTime": {
     "end_time": "2023-11-03T09:16:13.992129Z",
     "start_time": "2023-11-03T09:16:13.989752Z"
    }
   },
   "outputs": [
    {
     "data": {
      "text/plain": "{'Ethnicity': ['Asian', 'Black', 'Latino', 'White', 'Other'],\n 'Eligible': [0.15, 0.18, 0.12, 0.54, 0.01],\n 'Panels': [0.26, 0.08, 0.08, 0.54, 0.04]}"
     },
     "execution_count": 2,
     "metadata": {},
     "output_type": "execute_result"
    }
   ],
   "source": [
    "jury = {\"Ethnicity\":[\"Asian\",\"Black\",\"Latino\",\"White\",\"Other\"],\"Eligible\":[0.15,0.18,0.12,0.54,0.01],\"Panels\":[0.26,0.08,0.08,0.54,0.04]}\n",
    "jury"
   ]
  },
  {
   "cell_type": "code",
   "execution_count": 3,
   "metadata": {
    "ExecuteTime": {
     "end_time": "2023-11-03T09:16:14.001577Z",
     "start_time": "2023-11-03T09:16:13.995359Z"
    }
   },
   "outputs": [
    {
     "data": {
      "text/plain": "  Ethnicity  Eligible  Panels\n0     Asian      0.15    0.26\n1     Black      0.18    0.08\n2    Latino      0.12    0.08\n3     White      0.54    0.54\n4     Other      0.01    0.04",
      "text/html": "<div>\n<style scoped>\n    .dataframe tbody tr th:only-of-type {\n        vertical-align: middle;\n    }\n\n    .dataframe tbody tr th {\n        vertical-align: top;\n    }\n\n    .dataframe thead th {\n        text-align: right;\n    }\n</style>\n<table border=\"1\" class=\"dataframe\">\n  <thead>\n    <tr style=\"text-align: right;\">\n      <th></th>\n      <th>Ethnicity</th>\n      <th>Eligible</th>\n      <th>Panels</th>\n    </tr>\n  </thead>\n  <tbody>\n    <tr>\n      <th>0</th>\n      <td>Asian</td>\n      <td>0.15</td>\n      <td>0.26</td>\n    </tr>\n    <tr>\n      <th>1</th>\n      <td>Black</td>\n      <td>0.18</td>\n      <td>0.08</td>\n    </tr>\n    <tr>\n      <th>2</th>\n      <td>Latino</td>\n      <td>0.12</td>\n      <td>0.08</td>\n    </tr>\n    <tr>\n      <th>3</th>\n      <td>White</td>\n      <td>0.54</td>\n      <td>0.54</td>\n    </tr>\n    <tr>\n      <th>4</th>\n      <td>Other</td>\n      <td>0.01</td>\n      <td>0.04</td>\n    </tr>\n  </tbody>\n</table>\n</div>"
     },
     "execution_count": 3,
     "metadata": {},
     "output_type": "execute_result"
    }
   ],
   "source": [
    "Alameda_df = pd.DataFrame(jury)\n",
    "Alameda_df"
   ]
  },
  {
   "cell_type": "code",
   "execution_count": 4,
   "metadata": {
    "ExecuteTime": {
     "end_time": "2023-11-03T09:16:14.007425Z",
     "start_time": "2023-11-03T09:16:14.003193Z"
    }
   },
   "outputs": [
    {
     "data": {
      "text/plain": "           Eligible  Panels\nEthnicity                  \nAsian          0.15    0.26\nBlack          0.18    0.08\nLatino         0.12    0.08\nWhite          0.54    0.54\nOther          0.01    0.04",
      "text/html": "<div>\n<style scoped>\n    .dataframe tbody tr th:only-of-type {\n        vertical-align: middle;\n    }\n\n    .dataframe tbody tr th {\n        vertical-align: top;\n    }\n\n    .dataframe thead th {\n        text-align: right;\n    }\n</style>\n<table border=\"1\" class=\"dataframe\">\n  <thead>\n    <tr style=\"text-align: right;\">\n      <th></th>\n      <th>Eligible</th>\n      <th>Panels</th>\n    </tr>\n    <tr>\n      <th>Ethnicity</th>\n      <th></th>\n      <th></th>\n    </tr>\n  </thead>\n  <tbody>\n    <tr>\n      <th>Asian</th>\n      <td>0.15</td>\n      <td>0.26</td>\n    </tr>\n    <tr>\n      <th>Black</th>\n      <td>0.18</td>\n      <td>0.08</td>\n    </tr>\n    <tr>\n      <th>Latino</th>\n      <td>0.12</td>\n      <td>0.08</td>\n    </tr>\n    <tr>\n      <th>White</th>\n      <td>0.54</td>\n      <td>0.54</td>\n    </tr>\n    <tr>\n      <th>Other</th>\n      <td>0.01</td>\n      <td>0.04</td>\n    </tr>\n  </tbody>\n</table>\n</div>"
     },
     "execution_count": 4,
     "metadata": {},
     "output_type": "execute_result"
    }
   ],
   "source": [
    "Alameda_df_1 = Alameda_df.set_index('Ethnicity')\n",
    "Alameda_df_1"
   ]
  },
  {
   "cell_type": "code",
   "execution_count": 5,
   "metadata": {
    "ExecuteTime": {
     "end_time": "2023-11-03T09:16:14.120814Z",
     "start_time": "2023-11-03T09:16:14.005824Z"
    }
   },
   "outputs": [
    {
     "data": {
      "text/plain": "<Figure size 640x480 with 1 Axes>",
      "image/png": "[encoded data removed]"
     },
     "metadata": {},
     "output_type": "display_data"
    }
   ],
   "source": [
    "#Bar chart for visualising the difference\n",
    "Alameda_df_1 .plot.barh()\n",
    "plt.ylabel('Ethnicity')\n",
    "plt.gca().invert_yaxis()"
   ]
  },
  {
   "cell_type": "markdown",
   "metadata": {},
   "source": [
    "#### Distance between Two Distributions"
   ]
  },
  {
   "cell_type": "code",
   "execution_count": 6,
   "metadata": {
    "ExecuteTime": {
     "end_time": "2023-11-03T09:16:14.121442Z",
     "start_time": "2023-11-03T09:16:14.088758Z"
    }
   },
   "outputs": [
    {
     "data": {
      "text/plain": "           Eligible  Panels  jury_with_diffs\nEthnicity                                   \nAsian          0.15    0.26             0.11\nBlack          0.18    0.08            -0.10\nLatino         0.12    0.08            -0.04\nWhite          0.54    0.54             0.00\nOther          0.01    0.04             0.03",
      "text/html": "<div>\n<style scoped>\n    .dataframe tbody tr th:only-of-type {\n        vertical-align: middle;\n    }\n\n    .dataframe tbody tr th {\n        vertical-align: top;\n    }\n\n    .dataframe thead th {\n        text-align: right;\n    }\n</style>\n<table border=\"1\" class=\"dataframe\">\n  <thead>\n    <tr style=\"text-align: right;\">\n      <th></th>\n      <th>Eligible</th>\n      <th>Panels</th>\n      <th>jury_with_diffs</th>\n    </tr>\n    <tr>\n      <th>Ethnicity</th>\n      <th></th>\n      <th></th>\n      <th></th>\n    </tr>\n  </thead>\n  <tbody>\n    <tr>\n      <th>Asian</th>\n      <td>0.15</td>\n      <td>0.26</td>\n      <td>0.11</td>\n    </tr>\n    <tr>\n      <th>Black</th>\n      <td>0.18</td>\n      <td>0.08</td>\n      <td>-0.10</td>\n    </tr>\n    <tr>\n      <th>Latino</th>\n      <td>0.12</td>\n      <td>0.08</td>\n      <td>-0.04</td>\n    </tr>\n    <tr>\n      <th>White</th>\n      <td>0.54</td>\n      <td>0.54</td>\n      <td>0.00</td>\n    </tr>\n    <tr>\n      <th>Other</th>\n      <td>0.01</td>\n      <td>0.04</td>\n      <td>0.03</td>\n    </tr>\n  </tbody>\n</table>\n</div>"
     },
     "execution_count": 6,
     "metadata": {},
     "output_type": "execute_result"
    }
   ],
   "source": [
    "#add a column for difference in eligible and panel \n",
    "Alameda_df_1['jury_with_diffs'] = Alameda_df_1['Panels']-Alameda_df_1['Eligible']\n",
    "Alameda_df_1"
   ]
  },
  {
   "cell_type": "markdown",
   "metadata": {},
   "source": [
    "Take a look at the column Difference and notice that the sum of its entries is 0: the positive entries add up to 0.14, exactly canceling the total of the negative entries which is -0.14.\n",
    "\n",
    "This is numerical evidence of the fact that in the bar chart, the gold bars exceed the blue bars by exactly as much as the blue bars exceed the gold. The proportions in each of the two columns Panels and Eligible add up to 1, and so the give-and-take between their entries must add up to 0.\n",
    "\n",
    "To avoid the cancellation, we drop the negative signs and then add all the entries. But this gives us two times the total of the positive entries (equivalently, two times the total of the negative entries, with the sign removed). So we divide the sum by 2."
   ]
  },
  {
   "cell_type": "code",
   "execution_count": 7,
   "metadata": {
    "ExecuteTime": {
     "end_time": "2023-11-03T09:16:14.122879Z",
     "start_time": "2023-11-03T09:16:14.097016Z"
    }
   },
   "outputs": [
    {
     "data": {
      "text/plain": "           Eligible  Panels  jury_with_diffs  Abs.Difference\nEthnicity                                                   \nAsian          0.15    0.26             0.11            0.11\nBlack          0.18    0.08            -0.10            0.10\nLatino         0.12    0.08            -0.04            0.04\nWhite          0.54    0.54             0.00            0.00\nOther          0.01    0.04             0.03            0.03",
      "text/html": "<div>\n<style scoped>\n    .dataframe tbody tr th:only-of-type {\n        vertical-align: middle;\n    }\n\n    .dataframe tbody tr th {\n        vertical-align: top;\n    }\n\n    .dataframe thead th {\n        text-align: right;\n    }\n</style>\n<table border=\"1\" class=\"dataframe\">\n  <thead>\n    <tr style=\"text-align: right;\">\n      <th></th>\n      <th>Eligible</th>\n      <th>Panels</th>\n      <th>jury_with_diffs</th>\n      <th>Abs.Difference</th>\n    </tr>\n    <tr>\n      <th>Ethnicity</th>\n      <th></th>\n      <th></th>\n      <th></th>\n      <th></th>\n    </tr>\n  </thead>\n  <tbody>\n    <tr>\n      <th>Asian</th>\n      <td>0.15</td>\n      <td>0.26</td>\n      <td>0.11</td>\n      <td>0.11</td>\n    </tr>\n    <tr>\n      <th>Black</th>\n      <td>0.18</td>\n      <td>0.08</td>\n      <td>-0.10</td>\n      <td>0.10</td>\n    </tr>\n    <tr>\n      <th>Latino</th>\n      <td>0.12</td>\n      <td>0.08</td>\n      <td>-0.04</td>\n      <td>0.04</td>\n    </tr>\n    <tr>\n      <th>White</th>\n      <td>0.54</td>\n      <td>0.54</td>\n      <td>0.00</td>\n      <td>0.00</td>\n    </tr>\n    <tr>\n      <th>Other</th>\n      <td>0.01</td>\n      <td>0.04</td>\n      <td>0.03</td>\n      <td>0.03</td>\n    </tr>\n  </tbody>\n</table>\n</div>"
     },
     "execution_count": 7,
     "metadata": {},
     "output_type": "execute_result"
    }
   ],
   "source": [
    "#finding ab\n",
    "Alameda_df_1['Abs.Difference']=abs(Alameda_df_1['jury_with_diffs'])\n",
    "Alameda_df_1"
   ]
  },
  {
   "cell_type": "code",
   "execution_count": 8,
   "metadata": {
    "ExecuteTime": {
     "end_time": "2023-11-03T09:16:14.123010Z",
     "start_time": "2023-11-03T09:16:14.099932Z"
    }
   },
   "outputs": [
    {
     "data": {
      "text/plain": "0.14"
     },
     "execution_count": 8,
     "metadata": {},
     "output_type": "execute_result"
    }
   ],
   "source": [
    "test_statistic = Alameda_df_1['Abs.Difference'].sum()/2\n",
    "test_statistic"
   ]
  },
  {
   "cell_type": "markdown",
   "metadata": {},
   "source": [
    "This quantity 0.14 is the total variation distance (TVD) between the distribution of ethnicities in the eligible juror population and the distribution in the panels.\n",
    "\n",
    "We could have obtained the same result by just adding the positive differences. But our method of including all the absolute differences eliminates the need to keep track of which differences are positive and which are not."
   ]
  },
  {
   "cell_type": "code",
   "execution_count": 9,
   "metadata": {
    "ExecuteTime": {
     "end_time": "2023-11-03T09:16:14.123057Z",
     "start_time": "2023-11-03T09:16:14.103440Z"
    }
   },
   "outputs": [],
   "source": [
    "import numpy as np"
   ]
  },
  {
   "cell_type": "code",
   "execution_count": 10,
   "metadata": {
    "ExecuteTime": {
     "end_time": "2023-11-03T09:16:14.123447Z",
     "start_time": "2023-11-03T09:16:14.110435Z"
    }
   },
   "outputs": [],
   "source": [
    "#function for calculating total variation distance\n",
    "def total_variation_distance(distribution_1, distribution_2):\n",
    "    return np.abs(distribution_1 - distribution_2).sum()/2"
   ]
  },
  {
   "cell_type": "code",
   "execution_count": 11,
   "metadata": {
    "ExecuteTime": {
     "end_time": "2023-11-03T09:16:14.123666Z",
     "start_time": "2023-11-03T09:16:14.114206Z"
    }
   },
   "outputs": [
    {
     "name": "stdout",
     "output_type": "stream",
     "text": [
      "0.14\n"
     ]
    }
   ],
   "source": [
    "def table_tvd(table, label, other):\n",
    "    return total_variation_distance(table[label], table[other])\n",
    "\n",
    "observed_stat =table_tvd(Alameda_df, 'Eligible', 'Panels')\n",
    "print(observed_stat)"
   ]
  },
  {
   "cell_type": "markdown",
   "metadata": {},
   "source": [
    "#### Are the panels representative of the population?\n",
    "\n",
    "#### sampling at Random from the Eligible Population\n"
   ]
  },
  {
   "cell_type": "code",
   "execution_count": 12,
   "metadata": {
    "ExecuteTime": {
     "end_time": "2023-11-03T09:16:14.123703Z",
     "start_time": "2023-11-03T09:16:14.117361Z"
    }
   },
   "outputs": [],
   "source": [
    "panel_size = 1453"
   ]
  },
  {
   "cell_type": "code",
   "execution_count": 13,
   "metadata": {
    "ExecuteTime": {
     "end_time": "2023-11-03T09:16:14.124529Z",
     "start_time": "2023-11-03T09:16:14.119305Z"
    }
   },
   "outputs": [
    {
     "data": {
      "text/plain": "array([223, 253, 176, 779,  22])"
     },
     "execution_count": 13,
     "metadata": {},
     "output_type": "execute_result"
    }
   ],
   "source": [
    "import numpy.random as npr\n",
    "np.random.multinomial(1453,[0.15,0.18,0.12,0.54,0.01])"
   ]
  },
  {
   "cell_type": "code",
   "execution_count": 14,
   "metadata": {
    "ExecuteTime": {
     "end_time": "2023-11-03T09:16:14.131856Z",
     "start_time": "2023-11-03T09:16:14.123742Z"
    }
   },
   "outputs": [],
   "source": [
    "Alameda_df_2 = pd.DataFrame(Alameda_df_1,columns = ['Eligible','Panels'])"
   ]
  },
  {
   "cell_type": "code",
   "execution_count": 15,
   "metadata": {
    "ExecuteTime": {
     "end_time": "2023-11-03T09:16:14.184390Z",
     "start_time": "2023-11-03T09:16:14.128026Z"
    }
   },
   "outputs": [
    {
     "data": {
      "text/plain": "           Eligible  Panels  Random Sample\nEthnicity                                 \nAsian          0.15    0.26       0.151411\nBlack          0.18    0.08       0.192017\nLatino         0.12    0.08       0.100482\nWhite          0.54    0.54       0.547832\nOther          0.01    0.04       0.008259",
      "text/html": "<div>\n<style scoped>\n    .dataframe tbody tr th:only-of-type {\n        vertical-align: middle;\n    }\n\n    .dataframe tbody tr th {\n        vertical-align: top;\n    }\n\n    .dataframe thead th {\n        text-align: right;\n    }\n</style>\n<table border=\"1\" class=\"dataframe\">\n  <thead>\n    <tr style=\"text-align: right;\">\n      <th></th>\n      <th>Eligible</th>\n      <th>Panels</th>\n      <th>Random Sample</th>\n    </tr>\n    <tr>\n      <th>Ethnicity</th>\n      <th></th>\n      <th></th>\n      <th></th>\n    </tr>\n  </thead>\n  <tbody>\n    <tr>\n      <th>Asian</th>\n      <td>0.15</td>\n      <td>0.26</td>\n      <td>0.151411</td>\n    </tr>\n    <tr>\n      <th>Black</th>\n      <td>0.18</td>\n      <td>0.08</td>\n      <td>0.192017</td>\n    </tr>\n    <tr>\n      <th>Latino</th>\n      <td>0.12</td>\n      <td>0.08</td>\n      <td>0.100482</td>\n    </tr>\n    <tr>\n      <th>White</th>\n      <td>0.54</td>\n      <td>0.54</td>\n      <td>0.547832</td>\n    </tr>\n    <tr>\n      <th>Other</th>\n      <td>0.01</td>\n      <td>0.04</td>\n      <td>0.008259</td>\n    </tr>\n  </tbody>\n</table>\n</div>"
     },
     "execution_count": 15,
     "metadata": {},
     "output_type": "execute_result"
    }
   ],
   "source": [
    "Alameda_df_2['Random Sample'] = np.random.multinomial(1453,[0.15,0.18,0.12,0.54,0.01])/1453\n",
    "Alameda_df_2"
   ]
  },
  {
   "cell_type": "markdown",
   "metadata": {},
   "source": [
    "the distribution of the random sample is close to the distribution of the eligible population and is different from the distribution of the panels."
   ]
  },
  {
   "cell_type": "code",
   "execution_count": 16,
   "metadata": {
    "ExecuteTime": {
     "end_time": "2023-11-03T09:16:14.227082Z",
     "start_time": "2023-11-03T09:16:14.130919Z"
    }
   },
   "outputs": [
    {
     "data": {
      "text/plain": "<Figure size 640x480 with 1 Axes>",
      "image/png": "[encoded data removed]"
     },
     "metadata": {},
     "output_type": "display_data"
    }
   ],
   "source": [
    "Alameda_df_2.plot.barh()\n",
    "plt.ylabel('Ethnicity')\n",
    "plt.gca().invert_yaxis()"
   ]
  },
  {
   "cell_type": "markdown",
   "metadata": {},
   "source": [
    "The green bar are  closer in size to the blue bars than the orange bars are. The randomsample resembles the eligible population, but the panels don't."
   ]
  },
  {
   "cell_type": "code",
   "execution_count": 17,
   "metadata": {
    "ExecuteTime": {
     "end_time": "2023-11-03T09:16:14.231216Z",
     "start_time": "2023-11-03T09:16:14.196772Z"
    }
   },
   "outputs": [
    {
     "data": {
      "text/plain": "0.021259463179628322"
     },
     "execution_count": 17,
     "metadata": {},
     "output_type": "execute_result"
    }
   ],
   "source": [
    "#Difference between eligible and Random sample\n",
    "TVD = (abs(Alameda_df_2['Eligible']-Alameda_df_2['Random Sample'])).sum()/2\n",
    "TVD"
   ]
  },
  {
   "cell_type": "markdown",
   "metadata": {},
   "source": [
    "The Total variation distance(TVD) between the eligible population and the panels was 0.14, but the TVD between the eligible population and the random sample is much smaller."
   ]
  },
  {
   "cell_type": "markdown",
   "metadata": {},
   "source": [
    "#### Emperical distribution of TVDs"
   ]
  },
  {
   "cell_type": "code",
   "execution_count": 18,
   "metadata": {
    "ExecuteTime": {
     "end_time": "2023-11-03T09:16:14.671009Z",
     "start_time": "2023-11-03T09:16:14.370392Z"
    }
   },
   "outputs": [
    {
     "data": {
      "text/plain": "[0.013000688231245686,\n 0.01815554026152787,\n 0.022601514108740506,\n 0.02448038540949759,\n 0.023103922918100518,\n 0.020633172746042684,\n 0.022450103234686873,\n 0.008575361321404008,\n 0.008878183069511346,\n 0.011348933241569152,\n 0.022133516861665526,\n 0.028871300757054373,\n 0.01887818306951136,\n 0.02112181693048865,\n 0.02231933929800413,\n 0.012284927735719153,\n 0.01887818306951135,\n 0.017467309015829272,\n 0.007198898830006903,\n 0.014466620784583589,\n 0.012601514108740502,\n 0.016627666896077094,\n 0.02200963523743981,\n 0.010536820371644863,\n 0.028203716448726778,\n 0.013833448038540997,\n 0.033392980041293895,\n 0.027460426703372308,\n 0.023296627666896087,\n 0.017192016517549896,\n 0.016531314521679247,\n 0.01618719889883,\n 0.016627666896077125,\n 0.01286304198210601,\n 0.02782518926359254,\n 0.010075705437026825,\n 0.02498967653131448,\n 0.017632484514797018,\n 0.03199587061252579,\n 0.005209910529938062,\n 0.01863041982105987,\n 0.012278045423262166,\n 0.010908465244322048,\n 0.019848589125946323,\n 0.009566414315209902,\n 0.016779077770130758,\n 0.011995870612525779,\n 0.02539573296627665,\n 0.014845147969717816,\n 0.013145216792842414,\n 0.01423950447350311,\n 0.015898141775636657,\n 0.027598072952512084,\n 0.008995182381280095,\n 0.025856847900894694,\n 0.01934618031658638,\n 0.014094975911906376,\n 0.018107364074328967,\n 0.03444597384721268,\n 0.016627666896077094,\n 0.018231245698554686,\n 0.017219545767377803,\n 0.016180316586373054,\n 0.019256710254645586,\n 0.0175223675154852,\n 0.005856847900894729,\n 0.022395044735030938,\n 0.0054920853406744945,\n 0.010674466620784603,\n 0.018472126634549207,\n 0.02338609772883691,\n 0.016779077770130768,\n 0.008933241569167229,\n 0.00652443220922226,\n 0.014239504473503087,\n 0.01203028217481071,\n 0.03346180316586377,\n 0.023509979353062628,\n 0.01823124569855468,\n 0.012278045423262166,\n 0.031920165175498914,\n 0.011486579490708877,\n 0.017095664143152067,\n 0.027192016517549926,\n 0.012030282174810728,\n 0.020757054370268452,\n 0.016125258086717106,\n 0.023289745354439083,\n 0.029525120440467997,\n 0.012649690295939424,\n 0.015726083964211962,\n 0.014115622849277388,\n 0.013062629043358615,\n 0.009566414315209899,\n 0.019883000688231213,\n 0.01891947694425323,\n 0.004741913282863029,\n 0.023792154163799047,\n 0.016992429456297312,\n 0.0182312456985547,\n 0.03503097040605642,\n 0.03164487267721957,\n 0.019745354439091558,\n 0.01589814177563664,\n 0.012422573984858923,\n 0.008554714384033024,\n 0.018596008258774922,\n 0.008589125946317912,\n 0.004831383344803816,\n 0.022284927735719197,\n 0.011362697866483147,\n 0.016503785271851368,\n 0.025450791465932564,\n 0.019167240192704715,\n 0.010901582931865057,\n 0.015388850653819654,\n 0.010715760495526524,\n 0.02897453544390916,\n 0.028857536132140434,\n 0.007997247075017241,\n 0.02553337921541641,\n 0.020660701995870574,\n 0.021548520302821735,\n 0.018320715760495536,\n 0.02241569167240196,\n 0.020385409497591232,\n 0.015251204404679988,\n 0.029931176875430142,\n 0.016221610461114956,\n 0.009993117687543018,\n 0.02673778389538884,\n 0.022663454920853428,\n 0.019057123193393,\n 0.016414315209910525,\n 0.004053682037164473,\n 0.02346868547832075,\n 0.027419132828630427,\n 0.01180316586373023,\n 0.01823124569855469,\n 0.02134893324156916,\n 0.016042670337233278,\n 0.011713695801789353,\n 0.01897453544390918,\n 0.010536820371644835,\n 0.02143840330351001,\n 0.012739160357880286,\n 0.020536820371644855,\n 0.010674466620784612,\n 0.021596696490020623,\n 0.011686166551961495,\n 0.01928423950447349,\n 0.010061940812112868,\n 0.017825189263592542,\n 0.011403991741225077,\n 0.03618031658637307,\n 0.019848589125946288,\n 0.01662078458362011,\n 0.021321403991741233,\n 0.007618719889882993,\n 0.023386097728836916,\n 0.010674466620784613,\n 0.010254645560908415,\n 0.01173434273916037,\n 0.02181004817618723,\n 0.028554714384033026,\n 0.010247763248451445,\n 0.015209910529938064,\n 0.020578114246386787,\n 0.0066689607708190135,\n 0.011080523055746718,\n 0.008368891947694454,\n 0.015478320715760496,\n 0.01272539573296623,\n 0.017543014452856165,\n 0.017907777013076394,\n 0.029483826565726057,\n 0.01985547143840327,\n 0.009883000688231235,\n 0.03589814177563664,\n 0.015843083275980722,\n 0.015760495526496898,\n 0.014879559532002802,\n 0.024101858224363382,\n 0.006545079146593259,\n 0.02203716448726772,\n 0.022009635237439814,\n 0.011589814177563612,\n 0.009057123193392993,\n 0.020942876806606992,\n 0.010337233310392272,\n 0.024480385409497627,\n 0.01818995182381279,\n 0.017783895388850616,\n 0.015437026841018551,\n 0.019566414315209904,\n 0.013695801789401224,\n 0.021004817618719872,\n 0.017274604267033773,\n 0.013661390227116276,\n 0.020942876806606996,\n 0.015457673778389558,\n 0.013372333103922888,\n 0.022415691672401962,\n 0.005946317962835518,\n 0.012601514108740532,\n 0.01658637302133519,\n 0.022498279421885748,\n 0.03613902271163114,\n 0.02763248451479698,\n 0.009532002752924968,\n 0.01503785271851341,\n 0.02410185822436337,\n 0.01974535443909155,\n 0.015533379215416377,\n 0.013392980041293873,\n 0.01346868547832073,\n 0.013750860289057146,\n 0.023103922918100487,\n 0.007928423950447348,\n 0.024053682037164473,\n 0.01604267033723327,\n 0.013778389538885024,\n 0.02053682037164483,\n 0.01264969029593942,\n 0.027742601514108702,\n 0.02484514796971785,\n 0.013551273227804566,\n 0.012174810736407448,\n 0.016854783207157584,\n 0.018472126634549172,\n 0.0065863730213351745,\n 0.020633172746042684,\n 0.04512732278045426,\n 0.020350997935306266,\n 0.016125258086717126,\n 0.012284927735719186,\n 0.023468685478320737,\n 0.004494150034411526,\n 0.019889883000688197,\n 0.015567790777701325,\n 0.00999311768754301,\n 0.011803165863730224,\n 0.013654507914659319,\n 0.01717136958017891,\n 0.007604955264969049,\n 0.017309015829318656,\n 0.01039229181004821,\n 0.011589814177563641,\n 0.009883000688231239,\n 0.012016517549896783,\n 0.026166551961459054,\n 0.01130763936682722,\n 0.016503785271851375,\n 0.012684101858224349,\n 0.017790777701307603,\n 0.018231245698554676,\n 0.008933241569167243,\n 0.013434273916035785,\n 0.004714384033035055,\n 0.01547832071576046,\n 0.020660701995870612,\n 0.01710254645560906,\n 0.017501720578114208,\n 0.015065381968341335,\n 0.003145216792842421,\n 0.0209979353062629,\n 0.02350997935306267,\n 0.02043358568479009,\n 0.01685478320715761,\n 0.015127322780454259,\n 0.028974535443909162,\n 0.016779077770130768,\n 0.022608396421197503,\n 0.010963523743977955,\n 0.017095664143152105,\n 0.024039917412250526,\n 0.02759807295251206,\n 0.009848589125946277,\n 0.01753613214039914,\n 0.0068134893324156825,\n 0.01847900894700619,\n 0.016909841706813523,\n 0.006304198210598758,\n 0.029263592567102585,\n 0.01662078458362011,\n 0.021686166551961455,\n 0.009532002752924948,\n 0.019993117687543034,\n 0.01644184445973847,\n 0.016221610461114935,\n 0.01710254645560904,\n 0.00721954576737782,\n 0.02398485891259464,\n 0.015402615278733652,\n 0.010433585684790086,\n 0.013716448726772216,\n 0.0266276668960771,\n 0.016765313145216766,\n 0.020963523743978,\n 0.00822436338609769,\n 0.0076806607019958666,\n 0.01130763936682722,\n 0.013468685478320707,\n 0.00924294562973158,\n 0.012863041982106024,\n 0.010715760495526517,\n 0.024879559532002778,\n 0.023757742601514115,\n 0.020633172746042705,\n 0.017646249139710933,\n 0.009208534067446627,\n 0.02466620784583619,\n 0.023296627666896042,\n 0.011713695801789391,\n 0.0053957329662766345,\n 0.015898141775636657,\n 0.01699242945629731,\n 0.01715760495526499,\n 0.019587061252580903,\n 0.02134893324156916,\n 0.013716448726772221,\n 0.023977976600137646,\n 0.020027529249827966,\n 0.015437026841018544,\n 0.009525120440467988,\n 0.022126634549208577,\n 0.01589814177563663,\n 0.01615966964900207,\n 0.037150722642808026,\n 0.012498279421885748,\n 0.012278045423262194,\n 0.014562973158981453,\n 0.028795595320027526,\n 0.030172057811424645,\n 0.012759807295251162,\n 0.02140399174122505,\n 0.02553337921541643,\n 0.022374397797660046,\n 0.016565726083964182,\n 0.025567790777701344,\n 0.009242945629731573,\n 0.019160357880247742,\n 0.028692360633172792,\n 0.015471438403303514,\n 0.020984170681348897,\n 0.019628355127322764,\n 0.018231245698554707,\n 0.019944941500344128,\n 0.013468685478320717,\n 0.015471438403303504,\n 0.015843083275980722,\n 0.013661390227116287,\n 0.014136269786648278,\n 0.017522367515485197,\n 0.023503097040605665,\n 0.03021335168616654,\n 0.018286304198210597,\n 0.028974535443909186,\n 0.012057811424638722,\n 0.02313833448038545,\n 0.023331039229180995,\n 0.014101858224363356,\n 0.016159669649002034,\n 0.019621472814865815,\n 0.03451479697178253,\n 0.015388850653819678,\n 0.013750860289057126,\n 0.021231933929800384,\n 0.02237439779766006,\n 0.025478320715760498,\n 0.004865794907088767,\n 0.018651066758430857,\n 0.028327598072952535,\n 0.00860977288368892,\n 0.03727460426703372,\n 0.012601514108740528,\n 0.018685478320715775,\n 0.01061940812112869,\n 0.026139022711631148,\n 0.015175498967653123,\n 0.017157604955264992,\n 0.011589814177563641,\n 0.010309704060564386,\n 0.01572608396421197,\n 0.007467309015829306,\n 0.023468685478320733,\n 0.012780454232622192,\n 0.02498967653131451,\n 0.01966276668960771,\n 0.009931176875430138,\n 0.01053682037164486,\n 0.020963523743977964,\n 0.019745354439091582,\n 0.018547832071576016,\n 0.014562973158981422,\n 0.011225051617343385,\n 0.011748107364074315,\n 0.008933241569167274,\n 0.01604267033723327,\n 0.013427391603578833,\n 0.012491397109428811,\n 0.011631108052305541,\n 0.00952512044046797,\n 0.0323331039229181,\n 0.019566414315209883,\n 0.027777013076393634,\n 0.010963523743977986,\n 0.010798348245010313,\n 0.024425326909841706,\n 0.025203028217481105,\n 0.024886441844459754,\n 0.014156916724019274,\n 0.02933241569167242,\n 0.005519614590502372,\n 0.023289745354439062,\n 0.007783895388850638,\n 0.006847900894700609,\n 0.01387474191328286,\n 0.011734342739160351,\n 0.026730901582931833,\n 0.021954576737783883,\n 0.00916035788024775,\n 0.023331039229181002,\n 0.03293186510667582,\n 0.0166276668960771,\n 0.019993117687543013,\n 0.015354439091534715,\n 0.009208534067446612,\n 0.011686166551961464,\n 0.02754301445285617,\n 0.019008947006194134,\n 0.02272539573296627,\n 0.012436338609772838,\n 0.013716448726772188,\n 0.016854783207157567,\n 0.008368891947694447,\n 0.013062629043358566,\n 0.01956641431520988,\n 0.012491397109428797,\n 0.0101101169993118,\n 0.02144528561596696,\n 0.01163110805230554,\n 0.009986235375086035,\n 0.012037164487267712,\n 0.016256022023399902,\n 0.006551961459050252,\n 0.02580178940123882,\n 0.026579490708878203,\n 0.012436338609772843,\n 0.03017894012388158,\n 0.019621472814865832,\n 0.028609772883688926,\n 0.005898141775636647,\n 0.014879559532002803,\n 0.01571920165175495,\n 0.02843083275980731,\n 0.010908465244322072,\n 0.008306951135581542,\n 0.017680660701995872,\n 0.016448726772195457,\n 0.020750172057811475,\n 0.031073640743289773,\n 0.006896077081899472,\n 0.016304198210598756,\n 0.006490020646937331,\n 0.028231245698554723,\n 0.022353750860289043,\n 0.01833448038540949,\n 0.009194769442532683,\n 0.014748795595319969,\n 0.019642119752236755,\n 0.01434273916035787,\n 0.005437026841018533,\n 0.005492085340674462,\n 0.01727460426703373,\n 0.03557467309015831,\n 0.02143840330351002,\n 0.012759807295251195,\n 0.011438403303509991,\n 0.016221610461114963,\n 0.007962835512732268,\n 0.02891947694425326,\n 0.020385409497591236,\n 0.02237439779766006,\n 0.011995870612525763,\n 0.004177563661390184,\n 0.025939435650378557,\n 0.02338609772883693,\n 0.01958706125258085,\n 0.025836200963523712,\n 0.01779077770130761,\n 0.012780454232622165,\n 0.017790777701307624,\n 0.027598072952512036,\n 0.0056090846524432195,\n 0.01653131452167925,\n 0.012814865794907091,\n 0.027955953200275323,\n 0.014060564349621458,\n 0.01962835512732277,\n 0.011121816930488663,\n 0.01788024776324846,\n 0.0043909153475567625,\n 0.022498279421885762,\n 0.01677907777013076,\n 0.019745354439091548,\n 0.015726083964211948,\n 0.018286304198210628,\n 0.022642807983482453,\n 0.020942876806607016,\n 0.017942188575361295,\n 0.018940123881624256,\n 0.019587061252580883,\n 0.02756366139022714,\n 0.022284927735719197,\n 0.016125258086717123,\n 0.013750860289057115,\n 0.016551961459050264,\n 0.02237439779766001,\n 0.03543702684101853,\n 0.014384033035099789,\n 0.017942188575361288,\n 0.01581555402615279,\n 0.019621472814865804,\n 0.013833448038540953,\n 0.020027529249827973,\n 0.029924294562973134,\n 0.016765313145216752,\n 0.017845836200963576,\n 0.011087405368203702,\n 0.016441844459738477,\n 0.011947694425326907,\n 0.012759807295251195,\n 0.0234136269786648,\n 0.01575361321403989,\n 0.0186854783207158,\n 0.015843083275980694,\n 0.01750172057811424,\n 0.011803165863730213,\n 0.0101101169993118,\n 0.00448726772195456,\n 0.022071576049552625,\n 0.014466620784583613,\n 0.0031452167928423943,\n 0.011686166551961454,\n 0.028568479008947018,\n 0.009745354439091565,\n 0.01887818306951134,\n 0.014748795595319995,\n 0.033709566414315245,\n 0.01756366139022711,\n 0.027481073640743276,\n 0.017563661390227164,\n 0.022608396421197482,\n 0.024707501720578083,\n 0.0250722642807983,\n 0.012684101858224333,\n 0.019256710254645586,\n 0.01782518926359257,\n 0.021410874053682034,\n 0.016992429456297326,\n 0.012174810736407457,\n 0.002050929112181736,\n 0.015402615278733649,\n 0.018685478320715803,\n 0.010254645560908458,\n 0.026262904335856863,\n 0.019167240192704722,\n 0.01240192704748791,\n 0.012278045423262211,\n 0.02581555402615282,\n 0.01419132828630421,\n 0.010660701995870566,\n 0.006125258086717119,\n 0.012050929112181735,\n 0.008011011699931172,\n 0.008472126634549194,\n 0.009318651066758412,\n 0.016304198210598787,\n 0.026083964211975185,\n 0.026737783895388827,\n 0.018651066758430857,\n 0.012284927735719185,\n 0.01681348933241565,\n 0.017309015829318694,\n 0.019160357880247773,\n 0.008733654507914653,\n 0.01471438403303505,\n 0.015719201651754996,\n 0.0115966964900206,\n 0.01727460426703374,\n 0.022601514108740492,\n 0.018245010323468695,\n 0.005581555402615256,\n 0.01207157604955264,\n 0.006779077770130706,\n 0.03654507914659328,\n 0.018472126634549203,\n 0.011768754301445309,\n 0.011803165863730241,\n 0.011810048176187206,\n 0.024384033035099773,\n 0.032924982794218835,\n 0.015154852030282166,\n 0.012498279421885777,\n 0.014136269786648302,\n 0.023386097728836923,\n 0.019532002752924976,\n 0.03167240192704745,\n 0.006545079146593286,\n 0.020172057811424626,\n 0.017790777701307638,\n 0.03921541637990367,\n 0.018189951823812795,\n 0.011768754301445337,\n 0.019910529938059203,\n 0.021348933241569144,\n 0.019587061252580883,\n 0.02649002064693737,\n 0.017556779077770146,\n 0.008520302821748106,\n 0.030495526496902917,\n 0.011748107364074317,\n 0.01237439779766001,\n 0.013833448038540962,\n 0.008933241569167243,\n 0.023186510667584346,\n 0.030956641431521006,\n 0.026414315209910486,\n 0.009304886441844459,\n 0.014026152787336542,\n 0.020633172746042712,\n 0.02123193392980039,\n 0.015478320715760495,\n 0.02970406056434966,\n 0.018286304198210597,\n 0.006951135581555439,\n 0.015760495526496873,\n 0.010433585684790133,\n 0.026469373709566455,\n 0.008148657949070846,\n 0.00924294562973155,\n 0.023331039229180978,\n 0.01171369580178936,\n 0.011734342739160346,\n 0.024198210598761184,\n 0.029242945629731554,\n 0.018919476944253256,\n 0.008334480385409494,\n 0.023771507226428054,\n 0.01799724707501725,\n 0.01274604267033724,\n 0.019621472814865832,\n 0.01096352374397801,\n 0.016992429456297316,\n 0.011631108052305527,\n 0.024514796971782583,\n 0.01024776324845145,\n 0.02059876118375775,\n 0.010536820371644863,\n 0.031321403991741256,\n 0.02553337921541641,\n 0.026262904335856867,\n 0.011348933241569143,\n 0.01781830695113557,\n 0.010935994494150003,\n 0.028568479008947014,\n 0.01905712319339301,\n 0.027790777701307577,\n 0.015154852030282141,\n 0.02054370268410183,\n 0.029490708878183034,\n 0.017240192704748816,\n 0.01994494150034412,\n 0.013840330350997928,\n 0.017102546455609043,\n 0.019380591878871298,\n 0.009972470750172041,\n 0.016565726083964203,\n 0.014122505161734342,\n 0.012739160357880244,\n 0.005395732966276633,\n 0.016187198898830038,\n 0.02029593943565038,\n 0.016730901582931834,\n 0.026772195457673748,\n 0.007322780454232631,\n 0.01039229181004819,\n 0.025891259463179668,\n 0.010715760495526526,\n 0.008733654507914657,\n 0.01850653819683414,\n 0.014810736407432919,\n 0.010275292498279444,\n 0.013372333103922896,\n 0.027102546455609056,\n 0.020660701995870563,\n 0.019160357880247773,\n 0.010027529249827935,\n 0.013289745354439095,\n 0.018651066758430857,\n 0.024879559532002795,\n 0.024762560220234008,\n 0.016854783207157564,\n 0.023475567790777727,\n 0.013503097040605691,\n 0.022415691672401962,\n 0.014101858224363346,\n 0.02535443909153472,\n 0.03774948382656572,\n 0.01974535443909155,\n 0.014521679284239496,\n 0.011775636613902287,\n 0.029015829318651112,\n 0.02649002064693733,\n 0.027543014452856143,\n 0.01868547832071577,\n 0.0192567102546456,\n 0.002395044735030937,\n 0.01443909153475567,\n 0.01741913282863041,\n 0.03057811424638678,\n 0.024074328974535493,\n 0.015615966964900238,\n 0.015072264280798341,\n 0.009242945629731549,\n 0.012174810736407433,\n 0.013289745354439081,\n 0.01681348933241569,\n 0.019642119752236727,\n 0.02066070199587058,\n 0.016779077770130758,\n 0.02361321403991738,\n 0.010275292498279463,\n 0.012319339298004111,\n 0.024418444597384726,\n 0.022360633172746003,\n 0.020027529249827952,\n 0.016090846524432177,\n 0.025354439091534755,\n 0.013337921541637966,\n 0.019662766689607713,\n 0.022821748107364072,\n 0.009050240880936027,\n 0.008506538196834099,\n 0.032697866483138376,\n 0.017907777013076397,\n 0.013413626978664795,\n 0.019621472814865808,\n 0.01825189263592566,\n 0.0048038540949759045,\n 0.01644872677219541,\n 0.009566414315209892,\n 0.016531314521679268,\n 0.022924982794218843,\n 0.013186510667584346,\n 0.01681348933241567,\n 0.012319339298004085,\n 0.014748795595319995,\n 0.01741913282863037,\n 0.014239504473503126,\n 0.00989676531314521,\n 0.004198210598761213,\n 0.010371644872677215,\n 0.0198898830006882,\n 0.012725395732966265,\n 0.002167928423950443,\n 0.0037990364762560368,\n 0.018685478320715803,\n 0.010798348245010322,\n 0.024480385409497613,\n 0.022450103234686873,\n 0.018596008258774926,\n 0.024790089470061918,\n 0.014562973158981429,\n 0.012050929112181703,\n 0.024845147969717835,\n 0.009532002752924968,\n 0.02641431520991048,\n 0.023661390227116306,\n 0.01021335168616654,\n 0.01974535443909156,\n 0.017825189263592563,\n 0.012863041982106024,\n 0.005030970406056427,\n 0.02090846524432208,\n 0.02557467309015834,\n 0.029119064005505832,\n 0.018596008258774943,\n 0.015533379215416435,\n 0.00584308327598068,\n 0.019642119752236717,\n 0.016958017894012373,\n 0.01174810736407432,\n 0.017783895388850616,\n 0.014845147969717854,\n 0.014377150722642812,\n 0.021761871988988348,\n 0.026042670337233263,\n 0.0271988988300069,\n 0.020289057123193368,\n 0.01300068823124567,\n 0.02832071576049556,\n 0.016503785271851375,\n 0.013654507914659296,\n 0.009710942876806605,\n 0.030708878183069544,\n 0.023874741913282916,\n 0.0062078458362009445,\n 0.013434273916035798,\n 0.017632484514797014,\n 0.0074604267033723266,\n 0.017171369580178904,\n 0.014466620784583583,\n 0.018534067446662104,\n 0.00893324156916724,\n 0.019566414315209914,\n 0.01630419821059877,\n 0.018479008947006166,\n 0.021651754989676558,\n 0.01618031658637302,\n 0.008981417756366163,\n 0.019167240192704743,\n 0.013406744666207844,\n 0.024019270474879527,\n 0.016868547832071607,\n 0.032030282174810756,\n 0.021686166551961452,\n 0.021548520302821745,\n 0.005822436338609804,\n 0.013812801101169949,\n 0.007618719889882993,\n 0.014927735719201675,\n 0.02608396421197521,\n 0.011734342739160396,\n 0.013867859600825896,\n 0.019201651754989627,\n 0.022780454232622194,\n 0.020681348933241576,\n 0.02231933929800409,\n 0.015037852718513385,\n 0.023695801789401207,\n 0.02864418444597385,\n 0.018651066758430854,\n 0.007095664143152088,\n 0.011342050929112137,\n 0.014666207845836178,\n 0.017825189263592552,\n 0.016166551961459046,\n 0.013000688231245668,\n 0.026730901582931843,\n 0.03852718513420512,\n 0.022092222986923652,\n 0.028609772883688923,\n 0.017825189263592542,\n 0.01176875430144531,\n 0.016159669649002062,\n 0.017818306951135572,\n 0.018953888506538175,\n 0.009284239504473484,\n 0.01988300068823124,\n 0.014562973158981429,\n 0.04150722642807982,\n 0.012863041982106017,\n 0.01641431520991049,\n 0.011486579490708877,\n 0.019662766689607744,\n 0.028114246386785918,\n 0.0166207845836201,\n 0.020006882312456994,\n 0.008995182381280064,\n 0.01905712319339301,\n 0.015877494838265623,\n 0.01452167928423952,\n 0.015457673778389558,\n 0.015843083275980725,\n 0.02269786648313834,\n 0.033386097728836904,\n 0.01482450103234683,\n 0.0271782518926359,\n 0.009298004129387479,\n 0.007866483138334447,\n 0.02539573296627664,\n 0.008506538196834126,\n 0.032642807983482444,\n 0.021913282863041974,\n 0.010426703372333144,\n 0.020027529249827945,\n 0.019373709566414363,\n 0.029580178940123908,\n 0.006524432209222281,\n 0.012828630419821052,\n 0.02820371644872678,\n 0.015877494838265623,\n 0.013145216792842392,\n 0.012050929112181712,\n 0.0038334480385409635,\n 0.03167240192704748,\n 0.01626978664831386,\n 0.027054370268410195,\n 0.03474879559531999,\n 0.019167240192704715,\n 0.012174810736407467,\n 0.012319339298004111,\n 0.009600825877494803,\n 0.01916035788024776,\n 0.016145905024088084,\n 0.007783895388850638,\n 0.02779077770130758,\n 0.027426015141087372,\n 0.01750172057811423,\n 0.014439091534755696,\n 0.023434273916035774,\n 0.01879559532002749,\n 0.01075017205781146,\n 0.015402615278733656,\n 0.00609084652443219,\n 0.017095664143152067,\n 0.024845147969717825,\n 0.019848589125946278,\n 0.025567790777701327,\n 0.017136958017894003,\n 0.017783895388850626,\n 0.009621472814865799,\n 0.024053682037164487,\n 0.02616655196145901,\n 0.018189951823812778,\n 0.027955953200275323,\n 0.02306262904335858,\n 0.018004129387474185,\n 0.02209910529938062,\n 0.012456985547143895,\n 0.018479008947006187,\n 0.014790089470061905,\n 0.014466620784583582,\n 0.02002752924982794,\n 0.018630419821059847,\n 0.030350997935306274,\n 0.008362009635237446,\n 0.0063041982105987845,\n 0.022236751548520298,\n 0.02313833448038545,\n 0.012684101858224345,\n 0.009242945629731545,\n 0.016620784583620145,\n 0.01969717825189265,\n 0.03626290433585686,\n 0.010426703372333118,\n 0.03313833448038542,\n 0.012456985547143841,\n 0.018286304198210594,\n 0.01365450791465932,\n 0.011225051617343398,\n 0.010213351686166498,\n 0.013977976600137627,\n 0.010901582931865056,\n 0.017859600825877467,\n 0.01589814177563662,\n 0.010433585684790081,\n 0.020633172746042677,\n 0.03843771507226427,\n 0.011995870612525768,\n 0.0028011011699931015,\n 0.020571231933929766,\n 0.017825189263592552,\n 0.019972470750172017,\n 0.006586373021335189,\n 0.02373709566414312,\n 0.01163110805230557,\n 0.016503785271851364,\n 0.01778389538885061,\n 0.021039229181004867,\n 0.01616655196145903,\n 0.028802477632484454,\n 0.026256022023399887,\n 0.014927735719201658,\n 0.01506538196834135,\n 0.021954576737783865,\n 0.030213351686166526,\n 0.017315898141775636,\n 0.03139710942876808,\n 0.012436338609772874,\n 0.01859600825877494,\n 0.016909841706813526,\n 0.0186854783207158,\n 0.01796283551273229,\n 0.020006882312456977,\n 0.006958017894012396,\n 0.014156916724019277,\n 0.010254645560908424,\n 0.027192016517549936,\n 0.030956641431521,\n 0.01750172057811421,\n 0.01727460426703377,\n 0.019160357880247773,\n 0.01520991052993808,\n 0.029628355127322776,\n 0.021445285615966977,\n 0.004893324156916747,\n 0.014487267721954595,\n ...]"
     },
     "execution_count": 18,
     "metadata": {},
     "output_type": "execute_result"
    }
   ],
   "source": [
    "simulations = 5000\n",
    "tvd_list=[]\n",
    "for i in np.arange(simulations):\n",
    "    Alameda_df_2[\"Random Sample\"]=(npr.multinomial(1453,[0.15, 0.18, 0.12, 0.54, 0.01]))/panel_size\n",
    "    tvd_list.append(table_tvd(Alameda_df_2, 'Eligible', 'Random Sample'))\n",
    "    \n",
    "tvd_list"
   ]
  },
  {
   "cell_type": "code",
   "execution_count": 19,
   "metadata": {
    "ExecuteTime": {
     "end_time": "2023-11-03T09:16:14.671398Z",
     "start_time": "2023-11-03T09:16:14.640097Z"
    }
   },
   "outputs": [
    {
     "data": {
      "text/plain": "        TVD\n0  0.013001\n1  0.018156\n2  0.022602\n3  0.024480\n4  0.023104",
      "text/html": "<div>\n<style scoped>\n    .dataframe tbody tr th:only-of-type {\n        vertical-align: middle;\n    }\n\n    .dataframe tbody tr th {\n        vertical-align: top;\n    }\n\n    .dataframe thead th {\n        text-align: right;\n    }\n</style>\n<table border=\"1\" class=\"dataframe\">\n  <thead>\n    <tr style=\"text-align: right;\">\n      <th></th>\n      <th>TVD</th>\n    </tr>\n  </thead>\n  <tbody>\n    <tr>\n      <th>0</th>\n      <td>0.013001</td>\n    </tr>\n    <tr>\n      <th>1</th>\n      <td>0.018156</td>\n    </tr>\n    <tr>\n      <th>2</th>\n      <td>0.022602</td>\n    </tr>\n    <tr>\n      <th>3</th>\n      <td>0.024480</td>\n    </tr>\n    <tr>\n      <th>4</th>\n      <td>0.023104</td>\n    </tr>\n  </tbody>\n</table>\n</div>"
     },
     "execution_count": 19,
     "metadata": {},
     "output_type": "execute_result"
    }
   ],
   "source": [
    "tvd_final_df=pd.DataFrame(tvd_list)\n",
    "tvd_final_df.rename(columns={0:\"TVD\"},inplace=True) # renaming column\n",
    "tvd_final_df.head()"
   ]
  },
  {
   "cell_type": "markdown",
   "metadata": {},
   "source": [
    "Each row of the column above contains the total variation distance between a random sample of size 1453 (the size of the panels) and the population of eligible jurors."
   ]
  },
  {
   "cell_type": "code",
   "execution_count": 20,
   "metadata": {
    "ExecuteTime": {
     "end_time": "2023-11-03T09:16:14.751900Z",
     "start_time": "2023-11-03T09:16:14.644635Z"
    }
   },
   "outputs": [
    {
     "data": {
      "text/plain": "<matplotlib.collections.PathCollection at 0x119e74490>"
     },
     "execution_count": 20,
     "metadata": {},
     "output_type": "execute_result"
    },
    {
     "data": {
      "text/plain": "<Figure size 640x480 with 1 Axes>",
      "image/png": "[encoded data removed]"
     },
     "metadata": {},
     "output_type": "display_data"
    }
   ],
   "source": [
    "tvd_final_df.hist(bins=np.arange(0,0.2,0.005))\n",
    "plt.ylabel('Percent per unit')\n",
    "plt.xlabel('TVD')\n",
    "plt.scatter(observed_stat, 0, color='red', s=30)"
   ]
  },
  {
   "cell_type": "markdown",
   "metadata": {},
   "source": [
    " distance between the panels and the population was 0.14,so it is farawaay from the distribution. panels were not representative of the distribution provided for the eligible jurors.\n",
    " \n",
    " hence  Null hypothesis is rejected"
   ]
  },
  {
   "cell_type": "code",
   "execution_count": 20,
   "metadata": {
    "ExecuteTime": {
     "end_time": "2023-11-03T09:16:14.763771Z",
     "start_time": "2023-11-03T09:16:14.751645Z"
    }
   },
   "outputs": [],
   "source": []
  }
 ],
 "metadata": {
  "kernelspec": {
   "display_name": "Python 3",
   "language": "python",
   "name": "python3"
  },
  "language_info": {
   "codemirror_mode": {
    "name": "ipython",
    "version": 3
   },
   "file_extension": ".py",
   "mimetype": "text/x-python",
   "name": "python",
   "nbconvert_exporter": "python",
   "pygments_lexer": "ipython3",
   "version": "3.7.6"
  }
 },
 "nbformat": 4,
 "nbformat_minor": 4
}
