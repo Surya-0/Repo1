{
 "cells": [
  {
   "cell_type": "code",
   "execution_count": 1,
   "metadata": {},
   "outputs": [],
   "source": [
    "import tensorflow as tf\n",
    "import json\n",
    "import numpy  as np\n"
   ]
  },
  {
   "cell_type": "code",
   "execution_count": 2,
   "metadata": {},
   "outputs": [],
   "source": [
    "with open(\"model_architecture.json\", \"r\") as json_file:\n",
    "    model_json = json_file.read()\n",
    "loaded_model = tf.keras.models.model_from_json(model_json)\n"
   ]
  },
  {
   "cell_type": "code",
   "execution_count": 3,
   "metadata": {},
   "outputs": [],
   "source": [
    "loaded_model.load_weights(\"model_weights.h5\")\n"
   ]
  },
  {
   "cell_type": "code",
   "execution_count": 5,
   "metadata": {},
   "outputs": [
    {
     "name": "stdout",
     "output_type": "stream",
     "text": [
      "1/1 [==============================] - 0s 11ms/step\n",
      "cat\n",
      "[[0.6904061  0.30959392]]\n"
     ]
    }
   ],
   "source": [
    "import numpy as np\n",
    "from keras.utils import load_img\n",
    "from keras.utils import img_to_array\n",
    "\n",
    "# Load the test image from the file path and resize it to the target size (64x64 pixels)\n",
    "test_image = load_img('/Users/surya/Documents/Surya/Git/Repo1/DL practice/Convolutional Neural Networks/dataset/test_set/cats/cat.4750.jpg', target_size=(64, 64))\n",
    "\n",
    "# Convert the test image to a NumPy array\n",
    "test_image = img_to_array(test_image)/255.\n",
    "\n",
    "# Add an extra dimension to the test image array to match the input shape expected by the model\n",
    "test_image = np.expand_dims(test_image, axis=0)\n",
    "\n",
    "# Use the CNN model to make a prediction on the test image\n",
    "result = loaded_model.predict(test_image)\n",
    "\n",
    "# Get the class indices mapping from the training set (used for interpreting the predictions)\n",
    "# class_indices = loaded_model.class_indices\n",
    "\n",
    "# Check the prediction result and assign the corresponding label (dog or cat)\n",
    "if result[0][0] > 0 and result[0][0] < 0.5:\n",
    "    prediction = 'dog'\n",
    "else:\n",
    "    prediction = 'cat' \n",
    "\n",
    "# Print the final prediction (dog or cat)\n",
    "print(prediction)\n",
    "print(result)"
   ]
  },
  {
   "cell_type": "code",
   "execution_count": null,
   "metadata": {},
   "outputs": [],
   "source": []
  }
 ],
 "metadata": {
  "kernelspec": {
   "display_name": "tf",
   "language": "python",
   "name": "python3"
  },
  "language_info": {
   "codemirror_mode": {
    "name": "ipython",
    "version": 3
   },
   "file_extension": ".py",
   "mimetype": "text/x-python",
   "name": "python",
   "nbconvert_exporter": "python",
   "pygments_lexer": "ipython3",
   "version": "3.11.4"
  },
  "orig_nbformat": 4
 },
 "nbformat": 4,
 "nbformat_minor": 2
}
