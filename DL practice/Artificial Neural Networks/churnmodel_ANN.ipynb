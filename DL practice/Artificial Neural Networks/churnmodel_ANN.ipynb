{
 "cells": [
  {
   "cell_type": "markdown",
   "metadata": {},
   "source": [
    "# Artificial Neural Network"
   ]
  },
  {
   "cell_type": "markdown",
   "metadata": {},
   "source": [
    "### Importing the libraries"
   ]
  },
  {
   "cell_type": "code",
   "execution_count": 82,
   "metadata": {},
   "outputs": [],
   "source": [
    "import numpy as np\n",
    "import tensorflow as tf\n",
    "import pandas as pd\n",
    "import math"
   ]
  },
  {
   "cell_type": "code",
   "execution_count": 83,
   "metadata": {},
   "outputs": [
    {
     "data": {
      "text/plain": [
       "'2.12.0'"
      ]
     },
     "execution_count": 83,
     "metadata": {},
     "output_type": "execute_result"
    }
   ],
   "source": [
    "tf.__version__ "
   ]
  },
  {
   "cell_type": "markdown",
   "metadata": {},
   "source": [
    "## Part 1 - Data Preprocessing"
   ]
  },
  {
   "cell_type": "markdown",
   "metadata": {},
   "source": [
    "### Importing the dataset"
   ]
  },
  {
   "cell_type": "code",
   "execution_count": 84,
   "metadata": {},
   "outputs": [],
   "source": [
    "dataset = pd.read_csv('Churn_Modelling.csv')\n",
    "X = dataset.iloc[:, 3:-1].values # matrix of features\n",
    "y = dataset.iloc[:, -1].values  # dependent variable vector"
   ]
  },
  {
   "cell_type": "code",
   "execution_count": 85,
   "metadata": {},
   "outputs": [
    {
     "name": "stdout",
     "output_type": "stream",
     "text": [
      "[[619 'France' 'Female' ... 1 1 101348.88]\n",
      " [608 'Spain' 'Female' ... 0 1 112542.58]\n",
      " [502 'France' 'Female' ... 1 0 113931.57]\n",
      " ...\n",
      " [709 'France' 'Female' ... 0 1 42085.58]\n",
      " [772 'Germany' 'Male' ... 1 0 92888.52]\n",
      " [792 'France' 'Female' ... 1 0 38190.78]]\n"
     ]
    }
   ],
   "source": [
    "print(X)"
   ]
  },
  {
   "cell_type": "code",
   "execution_count": 86,
   "metadata": {},
   "outputs": [
    {
     "name": "stdout",
     "output_type": "stream",
     "text": [
      "[1 0 1 ... 1 1 0]\n"
     ]
    }
   ],
   "source": [
    "print(y)"
   ]
  },
  {
   "cell_type": "markdown",
   "metadata": {},
   "source": [
    "### Encoding categorical data"
   ]
  },
  {
   "cell_type": "markdown",
   "metadata": {},
   "source": [
    "Label Encoding the \"Gender\" column"
   ]
  },
  {
   "cell_type": "code",
   "execution_count": 87,
   "metadata": {},
   "outputs": [],
   "source": [
    "from sklearn.preprocessing import LabelEncoder # since the gender is binary in the dataset it is label encoded\n",
    "le = LabelEncoder()\n",
    "X[:,2] = le.fit_transform(X[:,2])"
   ]
  },
  {
   "cell_type": "code",
   "execution_count": 88,
   "metadata": {},
   "outputs": [
    {
     "name": "stdout",
     "output_type": "stream",
     "text": [
      "[[619 'France' 0 ... 1 1 101348.88]\n",
      " [608 'Spain' 0 ... 0 1 112542.58]\n",
      " [502 'France' 0 ... 1 0 113931.57]\n",
      " ...\n",
      " [709 'France' 0 ... 0 1 42085.58]\n",
      " [772 'Germany' 1 ... 1 0 92888.52]\n",
      " [792 'France' 0 ... 1 0 38190.78]]\n"
     ]
    }
   ],
   "source": [
    "print(X)"
   ]
  },
  {
   "cell_type": "markdown",
   "metadata": {},
   "source": [
    "One Hot Encoding the \"Geography\" column"
   ]
  },
  {
   "cell_type": "code",
   "execution_count": 89,
   "metadata": {},
   "outputs": [],
   "source": [
    "from sklearn.compose import ColumnTransformer   # the three countries France,Spain and Germany dont have any relation to each other hence it is one hot encoded\n",
    "from sklearn.preprocessing import OneHotEncoder\n",
    "ct = ColumnTransformer(transformers=[('encoder', OneHotEncoder(), [1])], remainder='passthrough')\n",
    "X = np.array(ct.fit_transform(X))"
   ]
  },
  {
   "cell_type": "code",
   "execution_count": 90,
   "metadata": {},
   "outputs": [
    {
     "name": "stdout",
     "output_type": "stream",
     "text": [
      "[[1.0 0.0 0.0 ... 1 1 101348.88]\n",
      " [0.0 0.0 1.0 ... 0 1 112542.58]\n",
      " [1.0 0.0 0.0 ... 1 0 113931.57]\n",
      " ...\n",
      " [1.0 0.0 0.0 ... 0 1 42085.58]\n",
      " [0.0 1.0 0.0 ... 1 0 92888.52]\n",
      " [1.0 0.0 0.0 ... 1 0 38190.78]]\n"
     ]
    }
   ],
   "source": [
    "print(X)"
   ]
  },
  {
   "cell_type": "markdown",
   "metadata": {},
   "source": [
    "### Splitting the dataset into the Training set and Test set"
   ]
  },
  {
   "cell_type": "code",
   "execution_count": 91,
   "metadata": {},
   "outputs": [],
   "source": [
    "from sklearn.model_selection import train_test_split\n",
    "X_train, X_test, y_train, y_test = train_test_split(X, y, test_size = 0.2, random_state = 1)"
   ]
  },
  {
   "cell_type": "code",
   "execution_count": 92,
   "metadata": {},
   "outputs": [
    {
     "name": "stdout",
     "output_type": "stream",
     "text": [
      "[[0.0 1.0 0.0 ... 0 1 124749.08]\n",
      " [1.0 0.0 0.0 ... 0 0 41104.82]\n",
      " [0.0 1.0 0.0 ... 1 1 45750.21]\n",
      " ...\n",
      " [1.0 0.0 0.0 ... 1 1 92027.69]\n",
      " [1.0 0.0 0.0 ... 1 1 101168.9]\n",
      " [0.0 1.0 0.0 ... 1 0 33462.94]]\n"
     ]
    }
   ],
   "source": [
    "print(X_train)"
   ]
  },
  {
   "cell_type": "code",
   "execution_count": 93,
   "metadata": {},
   "outputs": [
    {
     "name": "stdout",
     "output_type": "stream",
     "text": [
      "[[1.0 0.0 0.0 ... 1 1 97057.28]\n",
      " [1.0 0.0 0.0 ... 1 0 66526.01]\n",
      " [1.0 0.0 0.0 ... 0 1 90537.47]\n",
      " ...\n",
      " [0.0 0.0 1.0 ... 0 1 161571.79]\n",
      " [0.0 1.0 0.0 ... 1 1 165257.31]\n",
      " [0.0 1.0 0.0 ... 1 1 49025.79]]\n"
     ]
    }
   ],
   "source": [
    "print(X_test)"
   ]
  },
  {
   "cell_type": "code",
   "execution_count": 94,
   "metadata": {},
   "outputs": [
    {
     "name": "stdout",
     "output_type": "stream",
     "text": [
      "[0 0 1 ... 1 0 1]\n"
     ]
    }
   ],
   "source": [
    "print(y_train)"
   ]
  },
  {
   "cell_type": "code",
   "execution_count": 95,
   "metadata": {},
   "outputs": [
    {
     "name": "stdout",
     "output_type": "stream",
     "text": [
      "[0 0 0 ... 0 0 0]\n"
     ]
    }
   ],
   "source": [
    "print(y_test)"
   ]
  },
  {
   "cell_type": "markdown",
   "metadata": {},
   "source": [
    "### Feature Scaling"
   ]
  },
  {
   "cell_type": "code",
   "execution_count": 96,
   "metadata": {},
   "outputs": [],
   "source": [
    "from sklearn.preprocessing import StandardScaler  # note: For feature scaling in DL all the attributes need to be scaled unlike ML\n",
    "sc = StandardScaler()\n",
    "X_train = sc.fit_transform(X_train)\n",
    "X_test = sc.transform(X_test)"
   ]
  },
  {
   "cell_type": "code",
   "execution_count": 97,
   "metadata": {},
   "outputs": [
    {
     "name": "stdout",
     "output_type": "stream",
     "text": [
      "[[-0.99850112  1.71490137 -0.57273139 ... -1.55337352  0.97725852\n",
      "   0.42739449]\n",
      " [ 1.00150113 -0.58312392 -0.57273139 ... -1.55337352 -1.02327069\n",
      "  -1.02548708]\n",
      " [-0.99850112  1.71490137 -0.57273139 ...  0.64376017  0.97725852\n",
      "  -0.94479772]\n",
      " ...\n",
      " [ 1.00150113 -0.58312392 -0.57273139 ...  0.64376017  0.97725852\n",
      "  -0.14096853]\n",
      " [ 1.00150113 -0.58312392 -0.57273139 ...  0.64376017  0.97725852\n",
      "   0.01781218]\n",
      " [-0.99850112  1.71490137 -0.57273139 ...  0.64376017 -1.02327069\n",
      "  -1.15822478]]\n"
     ]
    }
   ],
   "source": [
    "print(X_train)"
   ]
  },
  {
   "cell_type": "code",
   "execution_count": 98,
   "metadata": {},
   "outputs": [
    {
     "name": "stdout",
     "output_type": "stream",
     "text": [
      "[[ 1.00150113 -0.58312392 -0.57273139 ...  0.64376017  0.97725852\n",
      "  -0.05360571]\n",
      " [ 1.00150113 -0.58312392 -0.57273139 ...  0.64376017 -1.02327069\n",
      "  -0.58392685]\n",
      " [ 1.00150113 -0.58312392 -0.57273139 ... -1.55337352  0.97725852\n",
      "  -0.16685331]\n",
      " ...\n",
      " [-0.99850112 -0.58312392  1.74601919 ... -1.55337352  0.97725852\n",
      "   1.0669965 ]\n",
      " [-0.99850112  1.71490137 -0.57273139 ...  0.64376017  0.97725852\n",
      "   1.13101314]\n",
      " [-0.99850112  1.71490137 -0.57273139 ...  0.64376017  0.97725852\n",
      "  -0.88790165]]\n"
     ]
    }
   ],
   "source": [
    "print(X_test)"
   ]
  },
  {
   "cell_type": "markdown",
   "metadata": {},
   "source": [
    "## Part 2 - Building the ANN"
   ]
  },
  {
   "cell_type": "markdown",
   "metadata": {},
   "source": [
    "### Initializing the ANN"
   ]
  },
  {
   "cell_type": "code",
   "execution_count": 99,
   "metadata": {},
   "outputs": [],
   "source": [
    "ann = tf.keras.models.Sequential()"
   ]
  },
  {
   "cell_type": "markdown",
   "metadata": {},
   "source": [
    "### Adding the input layer and the first hidden layer"
   ]
  },
  {
   "cell_type": "code",
   "execution_count": 100,
   "metadata": {},
   "outputs": [],
   "source": [
    "ann.add(tf.keras.layers.Dense(units=6,activation='relu'))"
   ]
  },
  {
   "cell_type": "markdown",
   "metadata": {},
   "source": [
    "### Adding the second hidden layer"
   ]
  },
  {
   "cell_type": "code",
   "execution_count": 101,
   "metadata": {},
   "outputs": [],
   "source": [
    "ann.add(tf.keras.layers.Dense(units=6,activation='relu'))"
   ]
  },
  {
   "cell_type": "markdown",
   "metadata": {},
   "source": [
    "### Adding the output layer"
   ]
  },
  {
   "cell_type": "code",
   "execution_count": 102,
   "metadata": {},
   "outputs": [],
   "source": [
    "ann.add(tf.keras.layers.Dense(units=1,activation='sigmoid'))"
   ]
  },
  {
   "cell_type": "markdown",
   "metadata": {},
   "source": [
    "## Part 3 - Training the ANN"
   ]
  },
  {
   "cell_type": "markdown",
   "metadata": {},
   "source": [
    "### Compiling the ANN"
   ]
  },
  {
   "cell_type": "code",
   "execution_count": 103,
   "metadata": {},
   "outputs": [],
   "source": [
    "ann.compile(optimizer='Adagrad',loss='binary_crossentropy',metrics=['accuracy'])"
   ]
  },
  {
   "cell_type": "markdown",
   "metadata": {},
   "source": [
    "### Training the ANN on the Training set"
   ]
  },
  {
   "cell_type": "code",
   "execution_count": 104,
   "metadata": {},
   "outputs": [
    {
     "name": "stdout",
     "output_type": "stream",
     "text": [
      "Epoch 1/100\n",
      "250/250 [==============================] - 0s 298us/step - loss: 0.7551 - accuracy: 0.4112\n",
      "Epoch 2/100\n",
      "250/250 [==============================] - 0s 284us/step - loss: 0.7252 - accuracy: 0.4593\n",
      "Epoch 3/100\n"
     ]
    },
    {
     "name": "stdout",
     "output_type": "stream",
     "text": [
      "250/250 [==============================] - 0s 296us/step - loss: 0.7085 - accuracy: 0.4865\n",
      "Epoch 4/100\n",
      "250/250 [==============================] - 0s 314us/step - loss: 0.6963 - accuracy: 0.5134\n",
      "Epoch 5/100\n",
      "250/250 [==============================] - 0s 262us/step - loss: 0.6867 - accuracy: 0.5415\n",
      "Epoch 6/100\n",
      "250/250 [==============================] - 0s 259us/step - loss: 0.6787 - accuracy: 0.5671\n",
      "Epoch 7/100\n",
      "250/250 [==============================] - 0s 260us/step - loss: 0.6719 - accuracy: 0.6006\n",
      "Epoch 8/100\n",
      "250/250 [==============================] - 0s 258us/step - loss: 0.6659 - accuracy: 0.6248\n",
      "Epoch 9/100\n",
      "250/250 [==============================] - 0s 263us/step - loss: 0.6606 - accuracy: 0.6503\n",
      "Epoch 10/100\n",
      "250/250 [==============================] - 0s 255us/step - loss: 0.6558 - accuracy: 0.6729\n",
      "Epoch 11/100\n",
      "250/250 [==============================] - 0s 253us/step - loss: 0.6514 - accuracy: 0.6879\n",
      "Epoch 12/100\n",
      "250/250 [==============================] - 0s 255us/step - loss: 0.6474 - accuracy: 0.7003\n",
      "Epoch 13/100\n",
      "250/250 [==============================] - 0s 254us/step - loss: 0.6436 - accuracy: 0.7101\n",
      "Epoch 14/100\n",
      "250/250 [==============================] - 0s 256us/step - loss: 0.6401 - accuracy: 0.7180\n",
      "Epoch 15/100\n",
      "250/250 [==============================] - 0s 399us/step - loss: 0.6367 - accuracy: 0.7266\n",
      "Epoch 16/100\n",
      "250/250 [==============================] - 0s 279us/step - loss: 0.6336 - accuracy: 0.7340\n",
      "Epoch 17/100\n",
      "250/250 [==============================] - 0s 265us/step - loss: 0.6308 - accuracy: 0.7391\n",
      "Epoch 18/100\n",
      "250/250 [==============================] - 0s 271us/step - loss: 0.6280 - accuracy: 0.7439\n",
      "Epoch 19/100\n",
      "250/250 [==============================] - 0s 260us/step - loss: 0.6254 - accuracy: 0.7491\n",
      "Epoch 20/100\n",
      "250/250 [==============================] - 0s 265us/step - loss: 0.6229 - accuracy: 0.7529\n",
      "Epoch 21/100\n",
      "250/250 [==============================] - 0s 259us/step - loss: 0.6205 - accuracy: 0.7569\n",
      "Epoch 22/100\n",
      "250/250 [==============================] - 0s 253us/step - loss: 0.6182 - accuracy: 0.7606\n",
      "Epoch 23/100\n",
      "250/250 [==============================] - 0s 253us/step - loss: 0.6160 - accuracy: 0.7636\n",
      "Epoch 24/100\n",
      "250/250 [==============================] - 0s 253us/step - loss: 0.6139 - accuracy: 0.7673\n",
      "Epoch 25/100\n",
      "250/250 [==============================] - 0s 255us/step - loss: 0.6119 - accuracy: 0.7699\n",
      "Epoch 26/100\n",
      "250/250 [==============================] - 0s 251us/step - loss: 0.6099 - accuracy: 0.7722\n",
      "Epoch 27/100\n",
      "250/250 [==============================] - 0s 255us/step - loss: 0.6081 - accuracy: 0.7745\n",
      "Epoch 28/100\n",
      "250/250 [==============================] - 0s 254us/step - loss: 0.6062 - accuracy: 0.7765\n",
      "Epoch 29/100\n",
      "250/250 [==============================] - 0s 254us/step - loss: 0.6045 - accuracy: 0.7782\n",
      "Epoch 30/100\n",
      "250/250 [==============================] - 0s 253us/step - loss: 0.6028 - accuracy: 0.7800\n",
      "Epoch 31/100\n",
      "250/250 [==============================] - 0s 257us/step - loss: 0.6011 - accuracy: 0.7819\n",
      "Epoch 32/100\n",
      "250/250 [==============================] - 0s 251us/step - loss: 0.5994 - accuracy: 0.7832\n",
      "Epoch 33/100\n",
      "250/250 [==============================] - 0s 259us/step - loss: 0.5979 - accuracy: 0.7840\n",
      "Epoch 34/100\n",
      "250/250 [==============================] - 0s 282us/step - loss: 0.5963 - accuracy: 0.7851\n",
      "Epoch 35/100\n",
      "250/250 [==============================] - 0s 252us/step - loss: 0.5948 - accuracy: 0.7861\n",
      "Epoch 36/100\n",
      "250/250 [==============================] - 0s 255us/step - loss: 0.5933 - accuracy: 0.7872\n",
      "Epoch 37/100\n",
      "250/250 [==============================] - 0s 254us/step - loss: 0.5919 - accuracy: 0.7886\n",
      "Epoch 38/100\n",
      "250/250 [==============================] - 0s 254us/step - loss: 0.5905 - accuracy: 0.7895\n",
      "Epoch 39/100\n",
      "250/250 [==============================] - 0s 253us/step - loss: 0.5891 - accuracy: 0.7901\n",
      "Epoch 40/100\n",
      "250/250 [==============================] - 0s 257us/step - loss: 0.5878 - accuracy: 0.7914\n",
      "Epoch 41/100\n",
      "250/250 [==============================] - 0s 257us/step - loss: 0.5865 - accuracy: 0.7925\n",
      "Epoch 42/100\n",
      "250/250 [==============================] - 0s 256us/step - loss: 0.5852 - accuracy: 0.7930\n",
      "Epoch 43/100\n",
      "250/250 [==============================] - 0s 248us/step - loss: 0.5840 - accuracy: 0.7931\n",
      "Epoch 44/100\n",
      "250/250 [==============================] - 0s 254us/step - loss: 0.5828 - accuracy: 0.7936\n",
      "Epoch 45/100\n",
      "250/250 [==============================] - 0s 251us/step - loss: 0.5816 - accuracy: 0.7944\n",
      "Epoch 46/100\n",
      "250/250 [==============================] - 0s 261us/step - loss: 0.5804 - accuracy: 0.7950\n",
      "Epoch 47/100\n",
      "250/250 [==============================] - 0s 253us/step - loss: 0.5793 - accuracy: 0.7951\n",
      "Epoch 48/100\n",
      "250/250 [==============================] - 0s 254us/step - loss: 0.5782 - accuracy: 0.7954\n",
      "Epoch 49/100\n",
      "250/250 [==============================] - 0s 254us/step - loss: 0.5771 - accuracy: 0.7955\n",
      "Epoch 50/100\n",
      "250/250 [==============================] - 0s 254us/step - loss: 0.5760 - accuracy: 0.7958\n",
      "Epoch 51/100\n",
      "250/250 [==============================] - 0s 260us/step - loss: 0.5750 - accuracy: 0.7960\n",
      "Epoch 52/100\n",
      "250/250 [==============================] - 0s 255us/step - loss: 0.5739 - accuracy: 0.7962\n",
      "Epoch 53/100\n",
      "250/250 [==============================] - 0s 254us/step - loss: 0.5729 - accuracy: 0.7962\n",
      "Epoch 54/100\n",
      "250/250 [==============================] - 0s 262us/step - loss: 0.5719 - accuracy: 0.7962\n",
      "Epoch 55/100\n",
      "250/250 [==============================] - 0s 255us/step - loss: 0.5709 - accuracy: 0.7964\n",
      "Epoch 56/100\n",
      "250/250 [==============================] - 0s 262us/step - loss: 0.5700 - accuracy: 0.7966\n",
      "Epoch 57/100\n",
      "250/250 [==============================] - 0s 253us/step - loss: 0.5690 - accuracy: 0.7968\n",
      "Epoch 58/100\n",
      "250/250 [==============================] - 0s 254us/step - loss: 0.5681 - accuracy: 0.7968\n",
      "Epoch 59/100\n",
      "250/250 [==============================] - 0s 255us/step - loss: 0.5672 - accuracy: 0.7968\n",
      "Epoch 60/100\n",
      "250/250 [==============================] - 0s 259us/step - loss: 0.5663 - accuracy: 0.7968\n",
      "Epoch 61/100\n",
      "250/250 [==============================] - 0s 252us/step - loss: 0.5654 - accuracy: 0.7968\n",
      "Epoch 62/100\n",
      "250/250 [==============================] - 0s 251us/step - loss: 0.5645 - accuracy: 0.7968\n",
      "Epoch 63/100\n",
      "250/250 [==============================] - 0s 255us/step - loss: 0.5637 - accuracy: 0.7968\n",
      "Epoch 64/100\n",
      "250/250 [==============================] - 0s 253us/step - loss: 0.5628 - accuracy: 0.7969\n",
      "Epoch 65/100\n",
      "250/250 [==============================] - 0s 254us/step - loss: 0.5620 - accuracy: 0.7969\n",
      "Epoch 66/100\n",
      "250/250 [==============================] - 0s 253us/step - loss: 0.5612 - accuracy: 0.7970\n",
      "Epoch 67/100\n",
      "250/250 [==============================] - 0s 253us/step - loss: 0.5604 - accuracy: 0.7971\n",
      "Epoch 68/100\n",
      "250/250 [==============================] - 0s 253us/step - loss: 0.5596 - accuracy: 0.7970\n",
      "Epoch 69/100\n",
      "250/250 [==============================] - 0s 254us/step - loss: 0.5588 - accuracy: 0.7970\n",
      "Epoch 70/100\n",
      "250/250 [==============================] - 0s 253us/step - loss: 0.5581 - accuracy: 0.7970\n",
      "Epoch 71/100\n",
      "250/250 [==============================] - 0s 255us/step - loss: 0.5573 - accuracy: 0.7972\n",
      "Epoch 72/100\n",
      "250/250 [==============================] - 0s 254us/step - loss: 0.5566 - accuracy: 0.7972\n",
      "Epoch 73/100\n",
      "250/250 [==============================] - 0s 253us/step - loss: 0.5558 - accuracy: 0.7972\n",
      "Epoch 74/100\n",
      "250/250 [==============================] - 0s 254us/step - loss: 0.5551 - accuracy: 0.7972\n",
      "Epoch 75/100\n",
      "250/250 [==============================] - 0s 253us/step - loss: 0.5544 - accuracy: 0.7972\n",
      "Epoch 76/100\n",
      "250/250 [==============================] - 0s 254us/step - loss: 0.5537 - accuracy: 0.7972\n",
      "Epoch 77/100\n",
      "250/250 [==============================] - 0s 250us/step - loss: 0.5530 - accuracy: 0.7972\n",
      "Epoch 78/100\n",
      "250/250 [==============================] - 0s 250us/step - loss: 0.5523 - accuracy: 0.7972\n",
      "Epoch 79/100\n",
      "250/250 [==============================] - 0s 253us/step - loss: 0.5517 - accuracy: 0.7972\n",
      "Epoch 80/100\n",
      "250/250 [==============================] - 0s 373us/step - loss: 0.5510 - accuracy: 0.7972\n",
      "Epoch 81/100\n",
      "250/250 [==============================] - 0s 253us/step - loss: 0.5503 - accuracy: 0.7972\n",
      "Epoch 82/100\n",
      "250/250 [==============================] - 0s 251us/step - loss: 0.5497 - accuracy: 0.7972\n",
      "Epoch 83/100\n",
      "250/250 [==============================] - 0s 255us/step - loss: 0.5491 - accuracy: 0.7972\n",
      "Epoch 84/100\n",
      "250/250 [==============================] - 0s 254us/step - loss: 0.5484 - accuracy: 0.7972\n",
      "Epoch 85/100\n",
      "250/250 [==============================] - 0s 252us/step - loss: 0.5478 - accuracy: 0.7972\n",
      "Epoch 86/100\n",
      "250/250 [==============================] - 0s 253us/step - loss: 0.5472 - accuracy: 0.7972\n",
      "Epoch 87/100\n",
      "250/250 [==============================] - 0s 253us/step - loss: 0.5466 - accuracy: 0.7972\n",
      "Epoch 88/100\n",
      "250/250 [==============================] - 0s 255us/step - loss: 0.5460 - accuracy: 0.7972\n",
      "Epoch 89/100\n",
      "250/250 [==============================] - 0s 254us/step - loss: 0.5454 - accuracy: 0.7972\n",
      "Epoch 90/100\n",
      "250/250 [==============================] - 0s 255us/step - loss: 0.5449 - accuracy: 0.7972\n",
      "Epoch 91/100\n",
      "250/250 [==============================] - 0s 254us/step - loss: 0.5443 - accuracy: 0.7972\n",
      "Epoch 92/100\n",
      "250/250 [==============================] - 0s 252us/step - loss: 0.5437 - accuracy: 0.7972\n",
      "Epoch 93/100\n",
      "250/250 [==============================] - 0s 252us/step - loss: 0.5432 - accuracy: 0.7972\n",
      "Epoch 94/100\n",
      "250/250 [==============================] - 0s 251us/step - loss: 0.5426 - accuracy: 0.7972\n",
      "Epoch 95/100\n",
      "250/250 [==============================] - 0s 255us/step - loss: 0.5421 - accuracy: 0.7972\n",
      "Epoch 96/100\n",
      "250/250 [==============================] - 0s 253us/step - loss: 0.5415 - accuracy: 0.7972\n",
      "Epoch 97/100\n",
      "250/250 [==============================] - 0s 252us/step - loss: 0.5410 - accuracy: 0.7972\n",
      "Epoch 98/100\n",
      "250/250 [==============================] - 0s 253us/step - loss: 0.5405 - accuracy: 0.7972\n",
      "Epoch 99/100\n",
      "250/250 [==============================] - 0s 254us/step - loss: 0.5399 - accuracy: 0.7972\n",
      "Epoch 100/100\n",
      "250/250 [==============================] - 0s 254us/step - loss: 0.5394 - accuracy: 0.7972\n"
     ]
    },
    {
     "data": {
      "text/plain": [
       "<keras.callbacks.History at 0x15cfefe10>"
      ]
     },
     "execution_count": 104,
     "metadata": {},
     "output_type": "execute_result"
    }
   ],
   "source": [
    "ann.fit(X_train,y_train,batch_size=32,epochs=100)"
   ]
  },
  {
   "cell_type": "markdown",
   "metadata": {},
   "source": [
    "## Part 4 - Making the predictions and evaluating the model"
   ]
  },
  {
   "cell_type": "markdown",
   "metadata": {},
   "source": [
    "### Predicting the result of a single observation"
   ]
  },
  {
   "cell_type": "markdown",
   "metadata": {},
   "source": [
    "\n",
    "Use our ANN model to predict if the customer with the following informations will leave the bank: \n",
    "\n",
    "Geography: France\n",
    "\n",
    "Credit Score: 600\n",
    "\n",
    "Gender: Male\n",
    "\n",
    "Age: 40 years old\n",
    "\n",
    "Tenure: 3 years\n",
    "\n",
    "Balance: \\$ 60000\n",
    "\n",
    "Number of Products: 2\n",
    "\n",
    "Does this customer have a credit card ? Yes\n",
    "\n",
    "Is this customer an Active Member: Yes\n",
    "\n",
    "Estimated Salary: \\$ 50000\n",
    "\n",
    "So, should we say goodbye to that customer ?"
   ]
  },
  {
   "cell_type": "markdown",
   "metadata": {},
   "source": [
    "**Solution**"
   ]
  },
  {
   "cell_type": "code",
   "execution_count": 105,
   "metadata": {},
   "outputs": [
    {
     "name": "stdout",
     "output_type": "stream",
     "text": [
      "1/1 [==============================] - 0s 28ms/step\n",
      "[[0.09778502]]\n"
     ]
    }
   ],
   "source": [
    "print(ann.predict(sc.transform([[1,0,0,600,1,40,3,60000,2,1,1,50000]]))) # getting the probability as predicted by the sigmoid function"
   ]
  },
  {
   "cell_type": "code",
   "execution_count": 106,
   "metadata": {},
   "outputs": [
    {
     "name": "stdout",
     "output_type": "stream",
     "text": [
      "1/1 [==============================] - 0s 10ms/step\n",
      "[[False]]\n"
     ]
    }
   ],
   "source": [
    "print(ann.predict(sc.transform([[1,0,0,600,1,40,3,60000,2,1,1,50000]]))>0.5) # getting the answer in 0 or 1/false or true"
   ]
  },
  {
   "cell_type": "markdown",
   "metadata": {},
   "source": [
    "Therefore, our ANN model predicts that this customer stays in the bank!\n",
    "\n",
    "**Important note 1:** Notice that the values of the features were all input in a double pair of square brackets. That's because the \"predict\" method always expects a 2D array as the format of its inputs. And putting our values into a double pair of square brackets makes the input exactly a 2D array.\n",
    "\n",
    "**Important note 2:** Notice also that the \"France\" country was not input as a string in the last column but as \"1, 0, 0\" in the first three columns. That's because of course the predict method expects the one-hot-encoded values of the state, and as we see in the first row of the matrix of features X, \"France\" was encoded as \"1, 0, 0\". And be careful to include these values in the first three columns, because the dummy variables are always created in the first columns."
   ]
  },
  {
   "cell_type": "markdown",
   "metadata": {},
   "source": [
    "### Predicting the Test set results"
   ]
  },
  {
   "cell_type": "code",
   "execution_count": 107,
   "metadata": {},
   "outputs": [
    {
     "name": "stdout",
     "output_type": "stream",
     "text": [
      "63/63 [==============================] - 0s 230us/step\n",
      "[[0 0]\n",
      " [0 0]\n",
      " [0 0]\n",
      " ...\n",
      " [0 0]\n",
      " [0 0]\n",
      " [0 0]]\n"
     ]
    }
   ],
   "source": [
    "y_pred = ann.predict(X_test)\n",
    "y_pred = (y_pred >0.5)\n",
    "print(np.concatenate((y_pred.reshape(len(y_pred),1), y_test.reshape(len(y_test),1)),1))"
   ]
  },
  {
   "cell_type": "markdown",
   "metadata": {},
   "source": [
    "### Making the Confusion Matrix"
   ]
  },
  {
   "cell_type": "code",
   "execution_count": 108,
   "metadata": {},
   "outputs": [
    {
     "name": "stdout",
     "output_type": "stream",
     "text": [
      "[[1585    0]\n",
      " [ 415    0]]\n"
     ]
    },
    {
     "data": {
      "text/plain": [
       "0.7925"
      ]
     },
     "execution_count": 108,
     "metadata": {},
     "output_type": "execute_result"
    }
   ],
   "source": [
    "from sklearn.metrics import confusion_matrix, accuracy_score\n",
    "cm = confusion_matrix(y_test, y_pred)\n",
    "print(cm)\n",
    "accuracy_score(y_test, y_pred)"
   ]
  }
 ],
 "metadata": {
  "kernelspec": {
   "display_name": "tf",
   "language": "python",
   "name": "python3"
  },
  "language_info": {
   "codemirror_mode": {
    "name": "ipython",
    "version": 3
   },
   "file_extension": ".py",
   "mimetype": "text/x-python",
   "name": "python",
   "nbconvert_exporter": "python",
   "pygments_lexer": "ipython3",
   "version": "3.11.4"
  },
  "orig_nbformat": 4
 },
 "nbformat": 4,
 "nbformat_minor": 2
}
