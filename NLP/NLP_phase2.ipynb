{
 "cells": [
  {
   "cell_type": "code",
   "execution_count": 2,
   "id": "initial_id",
   "metadata": {
    "collapsed": true,
    "ExecuteTime": {
     "end_time": "2023-12-08T00:04:18.795583Z",
     "start_time": "2023-12-08T00:04:15.150117Z"
    }
   },
   "outputs": [],
   "source": [
    "import spacy"
   ]
  },
  {
   "cell_type": "code",
   "execution_count": 3,
   "outputs": [],
   "source": [
    "nlp = spacy.load('en_core_web_sm')"
   ],
   "metadata": {
    "collapsed": false,
    "ExecuteTime": {
     "end_time": "2023-12-08T00:04:40.622413Z",
     "start_time": "2023-12-08T00:04:40.299448Z"
    }
   },
   "id": "dac42ac98cb7f6bf"
  },
  {
   "cell_type": "code",
   "execution_count": 4,
   "outputs": [],
   "source": [
    "doc = nlp(u'Tesla is looking at buying U.S. startup for $6 million')"
   ],
   "metadata": {
    "collapsed": false,
    "ExecuteTime": {
     "end_time": "2023-12-08T00:05:16.788762Z",
     "start_time": "2023-12-08T00:05:16.761020Z"
    }
   },
   "id": "5c0499c59aca6cc4"
  },
  {
   "cell_type": "code",
   "execution_count": 10,
   "outputs": [
    {
     "name": "stdout",
     "output_type": "stream",
     "text": [
      "Tesla PROPN nsubj\n",
      "is AUX aux\n",
      "looking VERB ROOT\n",
      "at ADP prep\n",
      "buying VERB pcomp\n",
      "U.S. PROPN compound\n",
      "startup NOUN dobj\n",
      "for ADP prep\n",
      "$ SYM quantmod\n",
      "6 NUM compound\n",
      "million NUM pobj\n"
     ]
    }
   ],
   "source": [
    "for token in doc:\n",
    "    print(token.text,token.pos_,token.dep_)"
   ],
   "metadata": {
    "collapsed": false,
    "ExecuteTime": {
     "end_time": "2023-12-08T00:06:56.450084Z",
     "start_time": "2023-12-08T00:06:56.448131Z"
    }
   },
   "id": "d3d00d62ecf1b4e7"
  },
  {
   "cell_type": "code",
   "execution_count": 11,
   "outputs": [
    {
     "data": {
      "text/plain": "[('tok2vec', <spacy.pipeline.tok2vec.Tok2Vec at 0x29d177700>),\n ('tagger', <spacy.pipeline.tagger.Tagger at 0x29d177160>),\n ('parser', <spacy.pipeline.dep_parser.DependencyParser at 0x29cf13680>),\n ('attribute_ruler',\n  <spacy.pipeline.attributeruler.AttributeRuler at 0x29d343d80>),\n ('lemmatizer', <spacy.lang.en.lemmatizer.EnglishLemmatizer at 0x29d39a4c0>),\n ('ner', <spacy.pipeline.ner.EntityRecognizer at 0x29cf13920>)]"
     },
     "execution_count": 11,
     "metadata": {},
     "output_type": "execute_result"
    }
   ],
   "source": [
    "nlp.pipeline"
   ],
   "metadata": {
    "collapsed": false,
    "ExecuteTime": {
     "end_time": "2023-12-08T00:08:14.343903Z",
     "start_time": "2023-12-08T00:08:14.328045Z"
    }
   },
   "id": "e24862c895eb86fd"
  },
  {
   "cell_type": "code",
   "execution_count": 12,
   "outputs": [
    {
     "data": {
      "text/plain": "['tok2vec', 'tagger', 'parser', 'attribute_ruler', 'lemmatizer', 'ner']"
     },
     "execution_count": 12,
     "metadata": {},
     "output_type": "execute_result"
    }
   ],
   "source": [
    "nlp.pipe_names"
   ],
   "metadata": {
    "collapsed": false,
    "ExecuteTime": {
     "end_time": "2023-12-08T00:08:45.831110Z",
     "start_time": "2023-12-08T00:08:45.812377Z"
    }
   },
   "id": "66eafea1a201bcb4"
  },
  {
   "cell_type": "code",
   "execution_count": 13,
   "outputs": [],
   "source": [
    "doc2 = nlp(u\"Tesla isn't looking at buying U.S. startup for $6 million\")"
   ],
   "metadata": {
    "collapsed": false,
    "ExecuteTime": {
     "end_time": "2023-12-08T00:09:34.808896Z",
     "start_time": "2023-12-08T00:09:34.784427Z"
    }
   },
   "id": "2eb3ba1fea271a"
  },
  {
   "cell_type": "code",
   "execution_count": 14,
   "outputs": [
    {
     "name": "stdout",
     "output_type": "stream",
     "text": [
      "Tesla PROPN nsubj\n",
      "is AUX aux\n",
      "n't PART neg\n",
      "looking VERB ROOT\n",
      "at ADP prep\n",
      "buying VERB pcomp\n",
      "U.S. PROPN compound\n",
      "startup NOUN dobj\n",
      "for ADP prep\n",
      "$ SYM quantmod\n",
      "6 NUM compound\n",
      "million NUM pobj\n"
     ]
    }
   ],
   "source": [
    "for token in doc2:\n",
    "    print(token.text,token.pos_,token.dep_)"
   ],
   "metadata": {
    "collapsed": false,
    "ExecuteTime": {
     "end_time": "2023-12-08T00:09:52.345208Z",
     "start_time": "2023-12-08T00:09:52.332865Z"
    }
   },
   "id": "68a7b34f89f6496c"
  },
  {
   "cell_type": "code",
   "execution_count": 18,
   "outputs": [
    {
     "name": "stdout",
     "output_type": "stream",
     "text": [
      "Tesla ORG Companies, agencies, institutions, etc.\n",
      "U.S. GPE Countries, cities, states\n",
      "$6 million MONEY Monetary values, including unit\n"
     ]
    }
   ],
   "source": [
    "for entity in doc2.ents:\n",
    "    print(entity,entity.label_,str(spacy.explain(entity.label_)))"
   ],
   "metadata": {
    "collapsed": false,
    "ExecuteTime": {
     "end_time": "2023-12-08T00:34:45.627075Z",
     "start_time": "2023-12-08T00:34:45.624866Z"
    }
   },
   "id": "430423363ed32ccc"
  },
  {
   "cell_type": "code",
   "execution_count": 19,
   "outputs": [
    {
     "name": "stdout",
     "output_type": "stream",
     "text": [
      "Tesla\n",
      "U.S. startup\n"
     ]
    }
   ],
   "source": [
    "for chunk in doc2.noun_chunks:\n",
    "    print(chunk)"
   ],
   "metadata": {
    "collapsed": false,
    "ExecuteTime": {
     "end_time": "2023-12-08T00:36:06.175933Z",
     "start_time": "2023-12-08T00:36:06.163567Z"
    }
   },
   "id": "eb15376e21e66fb4"
  },
  {
   "cell_type": "code",
   "execution_count": null,
   "outputs": [],
   "source": [],
   "metadata": {
    "collapsed": false
   },
   "id": "70ef74f349f397a"
  }
 ],
 "metadata": {
  "kernelspec": {
   "display_name": "Python 3",
   "language": "python",
   "name": "python3"
  },
  "language_info": {
   "codemirror_mode": {
    "name": "ipython",
    "version": 2
   },
   "file_extension": ".py",
   "mimetype": "text/x-python",
   "name": "python",
   "nbconvert_exporter": "python",
   "pygments_lexer": "ipython2",
   "version": "2.7.6"
  }
 },
 "nbformat": 4,
 "nbformat_minor": 5
}
