{
 "cells": [
  {
   "cell_type": "markdown",
   "metadata": {},
   "source": [
    "# Convolutional Neural Network"
   ]
  },
  {
   "cell_type": "markdown",
   "metadata": {},
   "source": [
    "### Importing the libraries"
   ]
  },
  {
   "cell_type": "code",
   "execution_count": 24,
   "metadata": {},
   "outputs": [],
   "source": [
    "import tensorflow as tf\n",
    "from keras.preprocessing.image import ImageDataGenerator"
   ]
  },
  {
   "cell_type": "code",
   "execution_count": 25,
   "metadata": {},
   "outputs": [
    {
     "data": {
      "text/plain": [
       "'2.12.0'"
      ]
     },
     "execution_count": 25,
     "metadata": {},
     "output_type": "execute_result"
    }
   ],
   "source": [
    "tf.__version__"
   ]
  },
  {
   "cell_type": "markdown",
   "metadata": {},
   "source": [
    "## Part 1 - Data Preprocessing"
   ]
  },
  {
   "cell_type": "markdown",
   "metadata": {},
   "source": [
    "### Preprocessing the Training set"
   ]
  },
  {
   "cell_type": "code",
   "execution_count": 26,
   "metadata": {},
   "outputs": [
    {
     "name": "stdout",
     "output_type": "stream",
     "text": [
      "Found 7991 images belonging to 2 classes.\n"
     ]
    }
   ],
   "source": [
    "train_datagen = ImageDataGenerator(rescale = 1./255,\n",
    "                                   shear_range = 0.2,\n",
    "                                   zoom_range = 0.2,\n",
    "                                   horizontal_flip = True)\n",
    "training_set = train_datagen.flow_from_directory('dataset/training_set',\n",
    "                                                 target_size = (64, 64),\n",
    "                                                 batch_size = 32,\n",
    "                                                 class_mode = 'categorical')"
   ]
  },
  {
   "cell_type": "markdown",
   "metadata": {},
   "source": [
    "### Preprocessing the Test set"
   ]
  },
  {
   "cell_type": "code",
   "execution_count": 27,
   "metadata": {},
   "outputs": [
    {
     "name": "stdout",
     "output_type": "stream",
     "text": [
      "Found 1999 images belonging to 2 classes.\n"
     ]
    }
   ],
   "source": [
    "test_datagen = ImageDataGenerator(rescale = 1./255)\n",
    "test_set = test_datagen.flow_from_directory('dataset/test_set',\n",
    "                                            target_size = (64, 64),\n",
    "                                            batch_size = 32,\n",
    "                                            class_mode = 'categorical')"
   ]
  },
  {
   "cell_type": "markdown",
   "metadata": {},
   "source": [
    "## Part 2 - Building the CNN"
   ]
  },
  {
   "cell_type": "markdown",
   "metadata": {},
   "source": [
    "### Initialising the CNN"
   ]
  },
  {
   "cell_type": "code",
   "execution_count": 28,
   "metadata": {},
   "outputs": [],
   "source": [
    "cnnt = tf.keras.models.Sequential()"
   ]
  },
  {
   "cell_type": "markdown",
   "metadata": {},
   "source": [
    "### Step 1 - Convolution"
   ]
  },
  {
   "cell_type": "code",
   "execution_count": 29,
   "metadata": {},
   "outputs": [],
   "source": [
    "cnnt.add(tf.keras.layers.Conv2D(filters=32,kernel_size=3,activation='relu',input_shape=[64,64,3]))"
   ]
  },
  {
   "cell_type": "markdown",
   "metadata": {},
   "source": [
    "### Step 2 - Pooling"
   ]
  },
  {
   "cell_type": "code",
   "execution_count": 30,
   "metadata": {},
   "outputs": [],
   "source": [
    "cnnt.add(tf.keras.layers.MaxPool2D(pool_size=2,strides=2))"
   ]
  },
  {
   "cell_type": "markdown",
   "metadata": {},
   "source": [
    "### Adding a second convolutional layer"
   ]
  },
  {
   "cell_type": "code",
   "execution_count": 31,
   "metadata": {},
   "outputs": [],
   "source": [
    "cnnt.add(tf.keras.layers.Conv2D(filters=32,kernel_size=3,activation='relu'))\n",
    "cnnt.add(tf.keras.layers.MaxPool2D(pool_size=2,strides=2))"
   ]
  },
  {
   "cell_type": "markdown",
   "metadata": {},
   "source": [
    "### Adding a third convolutional layer"
   ]
  },
  {
   "cell_type": "code",
   "execution_count": 32,
   "metadata": {},
   "outputs": [],
   "source": [
    "cnnt.add(tf.keras.layers.Conv2D(filters=32,kernel_size=3,activation='relu'))\n",
    "cnnt.add(tf.keras.layers.MaxPool2D(pool_size=2,strides=2))"
   ]
  },
  {
   "cell_type": "markdown",
   "metadata": {},
   "source": [
    "### Step 3 - Flattening"
   ]
  },
  {
   "cell_type": "code",
   "execution_count": 33,
   "metadata": {},
   "outputs": [],
   "source": [
    "cnnt.add(tf.keras.layers.Flatten())"
   ]
  },
  {
   "cell_type": "markdown",
   "metadata": {},
   "source": [
    "### Step 4 - Full Connection"
   ]
  },
  {
   "cell_type": "code",
   "execution_count": 34,
   "metadata": {},
   "outputs": [],
   "source": [
    "cnnt.add(tf.keras.layers.Dense(units=128,activation='relu'))"
   ]
  },
  {
   "cell_type": "markdown",
   "metadata": {},
   "source": [
    "### Step 5 - Output Layer"
   ]
  },
  {
   "cell_type": "code",
   "execution_count": 35,
   "metadata": {},
   "outputs": [],
   "source": [
    "cnnt.add(tf.keras.layers.Dense(units=2,activation='softmax'))"
   ]
  },
  {
   "cell_type": "markdown",
   "metadata": {},
   "source": [
    "## Part 3 - Training the CNN"
   ]
  },
  {
   "cell_type": "markdown",
   "metadata": {},
   "source": [
    "### Compiling the CNN"
   ]
  },
  {
   "cell_type": "code",
   "execution_count": 36,
   "metadata": {},
   "outputs": [],
   "source": [
    "cnnt.compile(optimizer='nadam',loss='categorical_crossentropy',metrics=['accuracy'])"
   ]
  },
  {
   "cell_type": "markdown",
   "metadata": {},
   "source": [
    "### Training the CNN on the Training set and evaluating it on the Test set"
   ]
  },
  {
   "cell_type": "code",
   "execution_count": 37,
   "metadata": {},
   "outputs": [
    {
     "name": "stdout",
     "output_type": "stream",
     "text": [
      "Epoch 1/25\n"
     ]
    },
    {
     "name": "stderr",
     "output_type": "stream",
     "text": [
      "2023-09-22 01:24:06.471412: I tensorflow/core/common_runtime/executor.cc:1197] [/device:CPU:0] (DEBUG INFO) Executor start aborting (this does not indicate an error and you can ignore this message): INVALID_ARGUMENT: You must feed a value for placeholder tensor 'Placeholder/_0' with dtype int32\n",
      "\t [[{{node Placeholder/_0}}]]\n"
     ]
    },
    {
     "name": "stdout",
     "output_type": "stream",
     "text": [
      "250/250 [==============================] - ETA: 0s - loss: 0.6751 - accuracy: 0.5743"
     ]
    },
    {
     "name": "stderr",
     "output_type": "stream",
     "text": [
      "2023-09-22 01:24:21.171891: I tensorflow/core/common_runtime/executor.cc:1197] [/device:CPU:0] (DEBUG INFO) Executor start aborting (this does not indicate an error and you can ignore this message): INVALID_ARGUMENT: You must feed a value for placeholder tensor 'Placeholder/_0' with dtype int32\n",
      "\t [[{{node Placeholder/_0}}]]\n"
     ]
    },
    {
     "name": "stdout",
     "output_type": "stream",
     "text": [
      "250/250 [==============================] - 17s 67ms/step - loss: 0.6751 - accuracy: 0.5743 - val_loss: 0.6356 - val_accuracy: 0.6603\n",
      "Epoch 2/25\n",
      "250/250 [==============================] - 16s 65ms/step - loss: 0.6017 - accuracy: 0.6770 - val_loss: 0.5607 - val_accuracy: 0.7139\n",
      "Epoch 3/25\n",
      "250/250 [==============================] - 16s 66ms/step - loss: 0.5494 - accuracy: 0.7172 - val_loss: 0.4985 - val_accuracy: 0.7574\n",
      "Epoch 4/25\n",
      "250/250 [==============================] - 16s 63ms/step - loss: 0.4998 - accuracy: 0.7506 - val_loss: 0.4786 - val_accuracy: 0.7699\n",
      "Epoch 5/25\n",
      "250/250 [==============================] - 16s 63ms/step - loss: 0.4764 - accuracy: 0.7715 - val_loss: 0.4843 - val_accuracy: 0.7689\n",
      "Epoch 6/25\n",
      "250/250 [==============================] - 17s 68ms/step - loss: 0.4495 - accuracy: 0.7850 - val_loss: 0.4200 - val_accuracy: 0.8099\n",
      "Epoch 7/25\n",
      "250/250 [==============================] - 16s 66ms/step - loss: 0.4284 - accuracy: 0.7986 - val_loss: 0.4319 - val_accuracy: 0.8024\n",
      "Epoch 8/25\n",
      "250/250 [==============================] - 16s 65ms/step - loss: 0.4095 - accuracy: 0.8097 - val_loss: 0.4106 - val_accuracy: 0.8139\n",
      "Epoch 9/25\n",
      "250/250 [==============================] - 17s 66ms/step - loss: 0.3894 - accuracy: 0.8220 - val_loss: 0.4479 - val_accuracy: 0.7939\n",
      "Epoch 10/25\n",
      "250/250 [==============================] - 16s 64ms/step - loss: 0.3732 - accuracy: 0.8313 - val_loss: 0.3918 - val_accuracy: 0.8269\n",
      "Epoch 11/25\n",
      "250/250 [==============================] - 16s 63ms/step - loss: 0.3601 - accuracy: 0.8357 - val_loss: 0.3801 - val_accuracy: 0.8304\n",
      "Epoch 12/25\n",
      "250/250 [==============================] - 17s 66ms/step - loss: 0.3427 - accuracy: 0.8488 - val_loss: 0.3925 - val_accuracy: 0.8214\n",
      "Epoch 13/25\n",
      "250/250 [==============================] - 16s 64ms/step - loss: 0.3320 - accuracy: 0.8568 - val_loss: 0.4011 - val_accuracy: 0.8289\n",
      "Epoch 14/25\n",
      "250/250 [==============================] - 16s 63ms/step - loss: 0.3232 - accuracy: 0.8598 - val_loss: 0.3855 - val_accuracy: 0.8329\n",
      "Epoch 15/25\n",
      "250/250 [==============================] - 16s 64ms/step - loss: 0.3182 - accuracy: 0.8593 - val_loss: 0.3774 - val_accuracy: 0.8294\n",
      "Epoch 16/25\n",
      "250/250 [==============================] - ETA: 0s - loss: 0.2930 - accuracy: 0.8716"
     ]
    }
   ],
   "source": [
    "cnnt.fit(x = training_set,validation_data = test_set,epochs= 25)"
   ]
  },
  {
   "cell_type": "markdown",
   "metadata": {},
   "source": [
    "## Part 4 - Making a single prediction"
   ]
  },
  {
   "cell_type": "code",
   "execution_count": null,
   "metadata": {},
   "outputs": [
    {
     "name": "stdout",
     "output_type": "stream",
     "text": [
      "1/1 [==============================] - 0s 61ms/step\n",
      "cat\n",
      "[[0.6904061  0.30959392]]\n"
     ]
    }
   ],
   "source": [
    "import numpy as np\n",
    "from keras.utils import load_img\n",
    "from keras.utils import img_to_array\n",
    "\n",
    "# Load the test image from the file path and resize it to the target size (64x64 pixels)\n",
    "test_image = load_img('/Users/surya/Documents/Surya/Git/Repo1/DL practice/Convolutional Neural Networks/dataset/test_set/cats/cat.4750.jpg', target_size=(64, 64))\n",
    "\n",
    "# Convert the test image to a NumPy array\n",
    "test_image = img_to_array(test_image)/255.\n",
    "\n",
    "# Add an extra dimension to the test image array to match the input shape expected by the model\n",
    "test_image = np.expand_dims(test_image, axis=0)\n",
    "\n",
    "# Use the CNN model to make a prediction on the test image\n",
    "result = cnnt.predict(test_image)\n",
    "\n",
    "# Get the class indices mapping from the training set (used for interpreting the predictions)\n",
    "class_indices = training_set.class_indices\n",
    "\n",
    "# Check the prediction result and assign the corresponding label (dog or cat)\n",
    "if result[0][0] > 0 and result[0][0] < 0.5:\n",
    "    prediction = 'dog'\n",
    "else:\n",
    "    prediction = 'cat' \n",
    "\n",
    "# Print the final prediction (dog or cat)\n",
    "print(prediction)\n",
    "print(result)\n"
   ]
  },
  {
   "cell_type": "code",
   "execution_count": null,
   "metadata": {},
   "outputs": [
    {
     "name": "stdout",
     "output_type": "stream",
     "text": [
      "(10,)\n"
     ]
    },
    {
     "name": "stderr",
     "output_type": "stream",
     "text": [
      "/var/folders/21/yhy2dhmx219b7cbcq243hmwc0000gn/T/ipykernel_2138/3973995084.py:1: VisibleDeprecationWarning: Creating an ndarray from ragged nested sequences (which is a list-or-tuple of lists-or-tuples-or ndarrays with different lengths or shapes) is deprecated. If you meant to do this, you must specify 'dtype=object' when creating the ndarray.\n",
      "  a = np.array(cnnt.weights)\n"
     ]
    }
   ],
   "source": [
    "a = np.array(cnnt.weights)\n",
    "print(a.shape)"
   ]
  },
  {
   "cell_type": "code",
   "execution_count": null,
   "metadata": {},
   "outputs": [],
   "source": [
    "# Save the model's architecture to a JSON file\n",
    "model_json = cnnt.to_json()\n",
    "with open(\"model_architecture.json\", \"w\") as json_file:\n",
    "    json_file.write(model_json)\n",
    "\n",
    "# Save the model's weights to an HDF5 file\n",
    "cnnt.save_weights(\"model_weights.h5\")"
   ]
  },
  {
   "cell_type": "code",
   "execution_count": null,
   "metadata": {},
   "outputs": [],
   "source": []
  }
 ],
 "metadata": {
  "kernelspec": {
   "display_name": "tf",
   "language": "python",
   "name": "python3"
  },
  "language_info": {
   "codemirror_mode": {
    "name": "ipython",
    "version": 3
   },
   "file_extension": ".py",
   "mimetype": "text/x-python",
   "name": "python",
   "nbconvert_exporter": "python",
   "pygments_lexer": "ipython3",
   "version": "3.11.4"
  },
  "orig_nbformat": 4
 },
 "nbformat": 4,
 "nbformat_minor": 2
}
