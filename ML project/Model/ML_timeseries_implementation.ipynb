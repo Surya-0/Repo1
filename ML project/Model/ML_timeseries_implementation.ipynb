{
 "cells": [
  {
   "cell_type": "markdown",
   "source": [
    "## Importing the libraries\n"
   ],
   "metadata": {
    "collapsed": false
   },
   "id": "95bf890072fe8163"
  },
  {
   "cell_type": "code",
   "execution_count": 5,
   "outputs": [],
   "source": [
    "import numpy as np\n",
    "import pandas as pd\n",
    "import matplotlib.pyplot as plt\n",
    "from statsmodels.tsa.stattools import adfuller\n",
    "from statsmodels.graphics.tsaplots import plot_acf"
   ],
   "metadata": {
    "collapsed": false,
    "ExecuteTime": {
     "end_time": "2023-10-31T13:15:05.306477Z",
     "start_time": "2023-10-31T13:15:05.278787Z"
    }
   },
   "id": "846f91b9705ac466"
  },
  {
   "cell_type": "markdown",
   "source": [
    "## Loading the dataset"
   ],
   "metadata": {
    "collapsed": false
   },
   "id": "fd69e1a21a85ece1"
  },
  {
   "cell_type": "code",
   "execution_count": 6,
   "outputs": [],
   "source": [
    "# Load your time series data into a DataFrame\n",
    "# Replace 'your_data.csv' with the actual file or data source.\n",
    "df = pd.read_csv('../Datasets/train.csv')\n",
    "df = df.iloc[:1826,3:]\n"
   ],
   "metadata": {
    "collapsed": false,
    "ExecuteTime": {
     "end_time": "2023-10-31T13:15:05.416758Z",
     "start_time": "2023-10-31T13:15:05.283688Z"
    }
   },
   "id": "5a66977bc1a30713"
  },
  {
   "cell_type": "markdown",
   "source": [
    "## Augmented Dickey Fuller test for finding out whether the dataset is stationary or not"
   ],
   "metadata": {
    "collapsed": false
   },
   "id": "1e3a2907b0faff0"
  },
  {
   "cell_type": "code",
   "execution_count": 7,
   "outputs": [
    {
     "name": "stdout",
     "output_type": "stream",
     "text": [
      "ADF Statistic: -3.157670556332807\n",
      "p-value: 0.022569380626571333\n",
      "Reject the null hypothesis: Data is stationary.\n"
     ]
    }
   ],
   "source": [
    "# Perform the ADF test\n",
    "result = adfuller(df['sales'])\n",
    "\n",
    "# Extract and print the test statistics and p-value\n",
    "adf_statistic = result[0]\n",
    "p_value = result[1]\n",
    "print(f'ADF Statistic: {adf_statistic}')\n",
    "print(f'p-value: {p_value}')\n",
    "\n",
    "# Compare the p-value to a significance level (e.g., 0.05) for the inference\n",
    "if p_value <= 0.05:\n",
    "    print(\"Reject the null hypothesis: Data is stationary.\")\n",
    "else:\n",
    "    print(\"Fail to reject the null hypothesis: Data is non-stationary.\")\n"
   ],
   "metadata": {
    "collapsed": false,
    "ExecuteTime": {
     "end_time": "2023-10-31T13:15:05.515493Z",
     "start_time": "2023-10-31T13:15:05.419758Z"
    }
   },
   "id": "initial_id"
  },
  {
   "cell_type": "markdown",
   "source": [
    "## The Autocorrelation plot tells that there is a correlation between the lags since it has a positive correlation"
   ],
   "metadata": {
    "collapsed": false
   },
   "id": "717e32049614bd87"
  },
  {
   "cell_type": "code",
   "execution_count": 8,
   "outputs": [],
   "source": [],
   "metadata": {
    "collapsed": false,
    "ExecuteTime": {
     "end_time": "2023-10-31T13:15:05.660908Z",
     "start_time": "2023-10-31T13:15:05.642696Z"
    }
   },
   "id": "21d665e75207cc11"
  }
 ],
 "metadata": {
  "kernelspec": {
   "display_name": "Python 3",
   "language": "python",
   "name": "python3"
  },
  "language_info": {
   "codemirror_mode": {
    "name": "ipython",
    "version": 2
   },
   "file_extension": ".py",
   "mimetype": "text/x-python",
   "name": "python",
   "nbconvert_exporter": "python",
   "pygments_lexer": "ipython2",
   "version": "2.7.6"
  }
 },
 "nbformat": 4,
 "nbformat_minor": 5
}
