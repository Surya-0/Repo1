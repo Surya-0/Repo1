{
 "cells": [
  {
   "cell_type": "code",
   "execution_count": 103,
   "id": "initial_id",
   "metadata": {
    "collapsed": true,
    "ExecuteTime": {
     "end_time": "2023-10-25T19:36:13.771877Z",
     "start_time": "2023-10-25T19:36:13.742704Z"
    }
   },
   "outputs": [],
   "source": [
    "import numpy as np\n",
    "import tensorflow as tf\n",
    "import pandas as pd\n",
    "import matplotlib.pyplot as plt"
   ]
  },
  {
   "cell_type": "code",
   "execution_count": 104,
   "outputs": [
    {
     "data": {
      "text/plain": "'2.12.0'"
     },
     "execution_count": 104,
     "metadata": {},
     "output_type": "execute_result"
    }
   ],
   "source": [
    "tf.__version__"
   ],
   "metadata": {
    "collapsed": false,
    "ExecuteTime": {
     "end_time": "2023-10-25T19:36:13.772250Z",
     "start_time": "2023-10-25T19:36:13.748084Z"
    }
   },
   "id": "e8dbdd3e5a0beadd"
  },
  {
   "cell_type": "code",
   "execution_count": 105,
   "outputs": [],
   "source": [
    "from sklearn.datasets import load_wine\n",
    "wine = load_wine()\n",
    "wine_data = wine.data\n",
    "wine_target = wine.target"
   ],
   "metadata": {
    "collapsed": false,
    "ExecuteTime": {
     "end_time": "2023-10-25T19:36:13.785035Z",
     "start_time": "2023-10-25T19:36:13.751910Z"
    }
   },
   "id": "fddb5c0985c0ec53"
  },
  {
   "cell_type": "code",
   "execution_count": 106,
   "outputs": [
    {
     "data": {
      "text/plain": "array([0, 1, 2])"
     },
     "execution_count": 106,
     "metadata": {},
     "output_type": "execute_result"
    }
   ],
   "source": [
    "np.unique(wine_target)"
   ],
   "metadata": {
    "collapsed": false,
    "ExecuteTime": {
     "end_time": "2023-10-25T19:36:13.785447Z",
     "start_time": "2023-10-25T19:36:13.758302Z"
    }
   },
   "id": "263b9808af4fcb6b"
  },
  {
   "cell_type": "code",
   "execution_count": 107,
   "outputs": [],
   "source": [
    "from sklearn.model_selection import train_test_split\n",
    "X_train,X_test,y_train,y_test = train_test_split(wine_data,wine_target,test_size=0.2,random_state=42)"
   ],
   "metadata": {
    "collapsed": false,
    "ExecuteTime": {
     "end_time": "2023-10-25T19:36:13.785507Z",
     "start_time": "2023-10-25T19:36:13.763947Z"
    }
   },
   "id": "186802fef1e3123e"
  },
  {
   "cell_type": "code",
   "execution_count": 108,
   "outputs": [],
   "source": [
    "from sklearn.preprocessing import MinMaxScaler\n",
    "ms = MinMaxScaler()\n",
    "X_train = ms.fit_transform(X_train)\n",
    "X_test = ms.fit_transform(X_test)"
   ],
   "metadata": {
    "collapsed": false,
    "ExecuteTime": {
     "end_time": "2023-10-25T19:36:13.785544Z",
     "start_time": "2023-10-25T19:36:13.766667Z"
    }
   },
   "id": "c2be7f310ab397dd"
  },
  {
   "cell_type": "code",
   "execution_count": 109,
   "outputs": [],
   "source": [
    "y_train = tf.keras.utils.to_categorical(y_train)\n",
    "y_test = tf.keras.utils.to_categorical(y_test)"
   ],
   "metadata": {
    "collapsed": false,
    "ExecuteTime": {
     "end_time": "2023-10-25T19:36:13.785799Z",
     "start_time": "2023-10-25T19:36:13.769921Z"
    }
   },
   "id": "57c54a2903129631"
  },
  {
   "cell_type": "code",
   "execution_count": 110,
   "outputs": [
    {
     "data": {
      "text/plain": "(142, 3)"
     },
     "execution_count": 110,
     "metadata": {},
     "output_type": "execute_result"
    }
   ],
   "source": [
    "y_train.shape"
   ],
   "metadata": {
    "collapsed": false,
    "ExecuteTime": {
     "end_time": "2023-10-25T19:36:13.787398Z",
     "start_time": "2023-10-25T19:36:13.771488Z"
    }
   },
   "id": "1ee5ec3968b7221"
  },
  {
   "cell_type": "code",
   "execution_count": 114,
   "outputs": [],
   "source": [
    "ann = tf.keras.Sequential()\n",
    "ann.add(tf.keras.layers.Dense(units = 6,activation='relu'))\n",
    "ann.add(tf.keras.layers.Dense(units = 6,activation='relu'))\n",
    "ann.add(tf.keras.layers.Dense(units = 3,activation='sigmoid'))      "
   ],
   "metadata": {
    "collapsed": false,
    "ExecuteTime": {
     "end_time": "2023-10-25T19:36:55.122767Z",
     "start_time": "2023-10-25T19:36:55.118534Z"
    }
   },
   "id": "9438e69c27c69f60"
  },
  {
   "cell_type": "code",
   "execution_count": 115,
   "outputs": [],
   "source": [
    "ann.compile(optimizer='Adam',loss = 'categorical_crossentropy',metrics =['accuracy'])"
   ],
   "metadata": {
    "collapsed": false,
    "ExecuteTime": {
     "end_time": "2023-10-25T19:36:55.476455Z",
     "start_time": "2023-10-25T19:36:55.473787Z"
    }
   },
   "id": "e58b6c523bbcd9b"
  },
  {
   "cell_type": "code",
   "execution_count": 116,
   "outputs": [
    {
     "name": "stdout",
     "output_type": "stream",
     "text": [
      "Epoch 1/200\n",
      "5/5 [==============================] - 0s 718us/step - loss: 1.1458 - accuracy: 0.1408\n",
      "Epoch 2/200\n",
      "5/5 [==============================] - 0s 598us/step - loss: 1.1369 - accuracy: 0.1408\n",
      "Epoch 3/200\n",
      "5/5 [==============================] - 0s 599us/step - loss: 1.1291 - accuracy: 0.1549\n",
      "Epoch 4/200\n",
      "5/5 [==============================] - 0s 602us/step - loss: 1.1230 - accuracy: 0.1972\n",
      "Epoch 5/200\n",
      "5/5 [==============================] - 0s 612us/step - loss: 1.1178 - accuracy: 0.2958\n",
      "Epoch 6/200\n",
      "5/5 [==============================] - 0s 543us/step - loss: 1.1131 - accuracy: 0.3239\n",
      "Epoch 7/200\n",
      "5/5 [==============================] - 0s 448us/step - loss: 1.1093 - accuracy: 0.3380\n",
      "Epoch 8/200\n",
      "5/5 [==============================] - 0s 525us/step - loss: 1.1054 - accuracy: 0.3592\n",
      "Epoch 9/200\n",
      "5/5 [==============================] - 0s 487us/step - loss: 1.1018 - accuracy: 0.3732\n",
      "Epoch 10/200\n",
      "5/5 [==============================] - 0s 503us/step - loss: 1.0983 - accuracy: 0.3803\n",
      "Epoch 11/200\n",
      "5/5 [==============================] - 0s 435us/step - loss: 1.0948 - accuracy: 0.3873\n",
      "Epoch 12/200\n",
      "5/5 [==============================] - 0s 595us/step - loss: 1.0912 - accuracy: 0.3944\n",
      "Epoch 13/200\n",
      "5/5 [==============================] - 0s 587us/step - loss: 1.0869 - accuracy: 0.3944\n",
      "Epoch 14/200\n",
      "5/5 [==============================] - 0s 553us/step - loss: 1.0821 - accuracy: 0.3944\n",
      "Epoch 15/200\n",
      "5/5 [==============================] - 0s 688us/step - loss: 1.0768 - accuracy: 0.3944\n",
      "Epoch 16/200\n",
      "5/5 [==============================] - 0s 667us/step - loss: 1.0710 - accuracy: 0.3944\n",
      "Epoch 17/200\n",
      "5/5 [==============================] - 0s 547us/step - loss: 1.0656 - accuracy: 0.3873\n",
      "Epoch 18/200\n",
      "5/5 [==============================] - 0s 590us/step - loss: 1.0618 - accuracy: 0.3944\n",
      "Epoch 19/200\n",
      "5/5 [==============================] - 0s 574us/step - loss: 1.0579 - accuracy: 0.3944\n",
      "Epoch 20/200\n",
      "5/5 [==============================] - 0s 522us/step - loss: 1.0538 - accuracy: 0.4014\n",
      "Epoch 21/200\n",
      "5/5 [==============================] - 0s 651us/step - loss: 1.0491 - accuracy: 0.4014\n",
      "Epoch 22/200\n",
      "5/5 [==============================] - 0s 525us/step - loss: 1.0449 - accuracy: 0.4014\n",
      "Epoch 23/200\n",
      "5/5 [==============================] - 0s 579us/step - loss: 1.0406 - accuracy: 0.4014\n",
      "Epoch 24/200\n",
      "5/5 [==============================] - 0s 537us/step - loss: 1.0362 - accuracy: 0.4014\n",
      "Epoch 25/200\n",
      "5/5 [==============================] - 0s 555us/step - loss: 1.0315 - accuracy: 0.4014\n",
      "Epoch 26/200\n",
      "5/5 [==============================] - 0s 580us/step - loss: 1.0268 - accuracy: 0.4014\n",
      "Epoch 27/200\n",
      "5/5 [==============================] - 0s 503us/step - loss: 1.0219 - accuracy: 0.4014\n",
      "Epoch 28/200\n",
      "5/5 [==============================] - 0s 485us/step - loss: 1.0170 - accuracy: 0.4014\n",
      "Epoch 29/200\n",
      "5/5 [==============================] - 0s 598us/step - loss: 1.0119 - accuracy: 0.4014\n",
      "Epoch 30/200\n",
      "5/5 [==============================] - 0s 501us/step - loss: 1.0067 - accuracy: 0.4014\n",
      "Epoch 31/200\n",
      "5/5 [==============================] - 0s 565us/step - loss: 1.0013 - accuracy: 0.4014\n",
      "Epoch 32/200\n",
      "5/5 [==============================] - 0s 513us/step - loss: 0.9962 - accuracy: 0.4014\n",
      "Epoch 33/200\n",
      "5/5 [==============================] - 0s 548us/step - loss: 0.9903 - accuracy: 0.4014\n",
      "Epoch 34/200\n",
      "5/5 [==============================] - 0s 465us/step - loss: 0.9844 - accuracy: 0.4014\n",
      "Epoch 35/200\n",
      "5/5 [==============================] - 0s 519us/step - loss: 0.9784 - accuracy: 0.4225\n",
      "Epoch 36/200\n",
      "5/5 [==============================] - 0s 470us/step - loss: 0.9720 - accuracy: 0.4225\n",
      "Epoch 37/200\n",
      "5/5 [==============================] - 0s 533us/step - loss: 0.9656 - accuracy: 0.4225\n",
      "Epoch 38/200\n",
      "5/5 [==============================] - 0s 554us/step - loss: 0.9590 - accuracy: 0.4296\n",
      "Epoch 39/200\n",
      "5/5 [==============================] - 0s 453us/step - loss: 0.9520 - accuracy: 0.4437\n",
      "Epoch 40/200\n",
      "5/5 [==============================] - 0s 525us/step - loss: 0.9450 - accuracy: 0.4648\n",
      "Epoch 41/200\n",
      "5/5 [==============================] - 0s 488us/step - loss: 0.9377 - accuracy: 0.4859\n",
      "Epoch 42/200\n",
      "5/5 [==============================] - 0s 502us/step - loss: 0.9301 - accuracy: 0.5141\n",
      "Epoch 43/200\n",
      "5/5 [==============================] - 0s 531us/step - loss: 0.9223 - accuracy: 0.5141\n",
      "Epoch 44/200\n",
      "5/5 [==============================] - 0s 480us/step - loss: 0.9145 - accuracy: 0.5352\n",
      "Epoch 45/200\n",
      "5/5 [==============================] - 0s 518us/step - loss: 0.9063 - accuracy: 0.5423\n",
      "Epoch 46/200\n",
      "5/5 [==============================] - 0s 481us/step - loss: 0.8982 - accuracy: 0.5775\n",
      "Epoch 47/200\n",
      "5/5 [==============================] - 0s 597us/step - loss: 0.8895 - accuracy: 0.6197\n",
      "Epoch 48/200\n",
      "5/5 [==============================] - 0s 549us/step - loss: 0.8809 - accuracy: 0.6479\n",
      "Epoch 49/200\n",
      "5/5 [==============================] - 0s 611us/step - loss: 0.8721 - accuracy: 0.6690\n",
      "Epoch 50/200\n",
      "5/5 [==============================] - 0s 512us/step - loss: 0.8631 - accuracy: 0.6761\n",
      "Epoch 51/200\n",
      "5/5 [==============================] - 0s 538us/step - loss: 0.8535 - accuracy: 0.6831\n",
      "Epoch 52/200\n",
      "5/5 [==============================] - 0s 463us/step - loss: 0.8440 - accuracy: 0.6901\n",
      "Epoch 53/200\n",
      "5/5 [==============================] - 0s 762us/step - loss: 0.8343 - accuracy: 0.7183\n",
      "Epoch 54/200\n",
      "5/5 [==============================] - 0s 528us/step - loss: 0.8243 - accuracy: 0.7254\n",
      "Epoch 55/200\n",
      "5/5 [==============================] - 0s 442us/step - loss: 0.8140 - accuracy: 0.7465\n",
      "Epoch 56/200\n",
      "5/5 [==============================] - 0s 576us/step - loss: 0.8034 - accuracy: 0.7535\n",
      "Epoch 57/200\n",
      "5/5 [==============================] - 0s 472us/step - loss: 0.7929 - accuracy: 0.7817\n",
      "Epoch 58/200\n",
      "5/5 [==============================] - 0s 550us/step - loss: 0.7818 - accuracy: 0.7887\n",
      "Epoch 59/200\n",
      "5/5 [==============================] - 0s 560us/step - loss: 0.7708 - accuracy: 0.8099\n",
      "Epoch 60/200\n",
      "5/5 [==============================] - 0s 565us/step - loss: 0.7596 - accuracy: 0.8169\n",
      "Epoch 61/200\n",
      "5/5 [==============================] - 0s 548us/step - loss: 0.7479 - accuracy: 0.8239\n",
      "Epoch 62/200\n",
      "5/5 [==============================] - 0s 473us/step - loss: 0.7365 - accuracy: 0.8380\n",
      "Epoch 63/200\n",
      "5/5 [==============================] - 0s 500us/step - loss: 0.7254 - accuracy: 0.8521\n",
      "Epoch 64/200\n",
      "5/5 [==============================] - 0s 540us/step - loss: 0.7135 - accuracy: 0.8592\n",
      "Epoch 65/200\n",
      "5/5 [==============================] - 0s 547us/step - loss: 0.7015 - accuracy: 0.8803\n",
      "Epoch 66/200\n",
      "5/5 [==============================] - 0s 494us/step - loss: 0.6897 - accuracy: 0.8803\n",
      "Epoch 67/200\n",
      "5/5 [==============================] - 0s 503us/step - loss: 0.6779 - accuracy: 0.8803\n",
      "Epoch 68/200\n",
      "5/5 [==============================] - 0s 559us/step - loss: 0.6657 - accuracy: 0.8803\n",
      "Epoch 69/200\n",
      "5/5 [==============================] - 0s 489us/step - loss: 0.6539 - accuracy: 0.8803\n",
      "Epoch 70/200\n",
      "5/5 [==============================] - 0s 507us/step - loss: 0.6418 - accuracy: 0.8803\n",
      "Epoch 71/200\n",
      "5/5 [==============================] - 0s 566us/step - loss: 0.6303 - accuracy: 0.9155\n",
      "Epoch 72/200\n",
      "5/5 [==============================] - 0s 573us/step - loss: 0.6178 - accuracy: 0.9366\n",
      "Epoch 73/200\n",
      "5/5 [==============================] - 0s 583us/step - loss: 0.6058 - accuracy: 0.9366\n",
      "Epoch 74/200\n",
      "5/5 [==============================] - 0s 501us/step - loss: 0.5937 - accuracy: 0.9366\n",
      "Epoch 75/200\n",
      "5/5 [==============================] - 0s 503us/step - loss: 0.5818 - accuracy: 0.9366\n",
      "Epoch 76/200\n",
      "5/5 [==============================] - 0s 600us/step - loss: 0.5698 - accuracy: 0.9366\n",
      "Epoch 77/200\n",
      "5/5 [==============================] - 0s 663us/step - loss: 0.5581 - accuracy: 0.9366\n",
      "Epoch 78/200\n",
      "5/5 [==============================] - 0s 582us/step - loss: 0.5471 - accuracy: 0.9366\n",
      "Epoch 79/200\n",
      "5/5 [==============================] - 0s 679us/step - loss: 0.5362 - accuracy: 0.9366\n",
      "Epoch 80/200\n",
      "5/5 [==============================] - 0s 653us/step - loss: 0.5230 - accuracy: 0.9366\n",
      "Epoch 81/200\n",
      "5/5 [==============================] - 0s 696us/step - loss: 0.5116 - accuracy: 0.9366\n",
      "Epoch 82/200\n",
      "5/5 [==============================] - 0s 515us/step - loss: 0.5002 - accuracy: 0.9366\n",
      "Epoch 83/200\n",
      "5/5 [==============================] - 0s 574us/step - loss: 0.4885 - accuracy: 0.9437\n",
      "Epoch 84/200\n",
      "5/5 [==============================] - 0s 1ms/step - loss: 0.4769 - accuracy: 0.9577\n",
      "Epoch 85/200\n",
      "5/5 [==============================] - 0s 508us/step - loss: 0.4656 - accuracy: 0.9577\n",
      "Epoch 86/200\n",
      "5/5 [==============================] - 0s 432us/step - loss: 0.4532 - accuracy: 0.9577\n",
      "Epoch 87/200\n",
      "5/5 [==============================] - 0s 510us/step - loss: 0.4415 - accuracy: 0.9577\n",
      "Epoch 88/200\n",
      "5/5 [==============================] - 0s 543us/step - loss: 0.4305 - accuracy: 0.9577\n",
      "Epoch 89/200\n",
      "5/5 [==============================] - 0s 457us/step - loss: 0.4188 - accuracy: 0.9577\n",
      "Epoch 90/200\n",
      "5/5 [==============================] - 0s 531us/step - loss: 0.4083 - accuracy: 0.9577\n",
      "Epoch 91/200\n",
      "5/5 [==============================] - 0s 536us/step - loss: 0.3979 - accuracy: 0.9577\n",
      "Epoch 92/200\n",
      "5/5 [==============================] - 0s 486us/step - loss: 0.3880 - accuracy: 0.9577\n",
      "Epoch 93/200\n",
      "5/5 [==============================] - 0s 505us/step - loss: 0.3784 - accuracy: 0.9577\n",
      "Epoch 94/200\n",
      "5/5 [==============================] - 0s 511us/step - loss: 0.3691 - accuracy: 0.9577\n",
      "Epoch 95/200\n",
      "5/5 [==============================] - 0s 467us/step - loss: 0.3606 - accuracy: 0.9577\n",
      "Epoch 96/200\n",
      "5/5 [==============================] - 0s 462us/step - loss: 0.3519 - accuracy: 0.9577\n",
      "Epoch 97/200\n",
      "5/5 [==============================] - 0s 516us/step - loss: 0.3439 - accuracy: 0.9718\n",
      "Epoch 98/200\n",
      "5/5 [==============================] - 0s 466us/step - loss: 0.3358 - accuracy: 0.9648\n",
      "Epoch 99/200\n",
      "5/5 [==============================] - 0s 501us/step - loss: 0.3282 - accuracy: 0.9648\n",
      "Epoch 100/200\n",
      "5/5 [==============================] - 0s 539us/step - loss: 0.3207 - accuracy: 0.9648\n",
      "Epoch 101/200\n",
      "5/5 [==============================] - 0s 472us/step - loss: 0.3136 - accuracy: 0.9648\n",
      "Epoch 102/200\n",
      "5/5 [==============================] - 0s 450us/step - loss: 0.3068 - accuracy: 0.9648\n",
      "Epoch 103/200\n",
      "5/5 [==============================] - 0s 455us/step - loss: 0.3010 - accuracy: 0.9648\n",
      "Epoch 104/200\n",
      "5/5 [==============================] - 0s 445us/step - loss: 0.2937 - accuracy: 0.9648\n",
      "Epoch 105/200\n",
      "5/5 [==============================] - 0s 458us/step - loss: 0.2874 - accuracy: 0.9648\n",
      "Epoch 106/200\n",
      "5/5 [==============================] - 0s 471us/step - loss: 0.2816 - accuracy: 0.9648\n",
      "Epoch 107/200\n",
      "5/5 [==============================] - 0s 492us/step - loss: 0.2761 - accuracy: 0.9648\n",
      "Epoch 108/200\n",
      "5/5 [==============================] - 0s 429us/step - loss: 0.2704 - accuracy: 0.9648\n",
      "Epoch 109/200\n",
      "5/5 [==============================] - 0s 478us/step - loss: 0.2654 - accuracy: 0.9648\n",
      "Epoch 110/200\n",
      "5/5 [==============================] - 0s 596us/step - loss: 0.2605 - accuracy: 0.9648\n",
      "Epoch 111/200\n",
      "5/5 [==============================] - 0s 524us/step - loss: 0.2551 - accuracy: 0.9648\n",
      "Epoch 112/200\n",
      "5/5 [==============================] - 0s 459us/step - loss: 0.2501 - accuracy: 0.9648\n",
      "Epoch 113/200\n",
      "5/5 [==============================] - 0s 507us/step - loss: 0.2455 - accuracy: 0.9648\n",
      "Epoch 114/200\n",
      "5/5 [==============================] - 0s 493us/step - loss: 0.2408 - accuracy: 0.9648\n",
      "Epoch 115/200\n",
      "5/5 [==============================] - 0s 463us/step - loss: 0.2363 - accuracy: 0.9648\n",
      "Epoch 116/200\n",
      "5/5 [==============================] - 0s 506us/step - loss: 0.2321 - accuracy: 0.9648\n",
      "Epoch 117/200\n",
      "5/5 [==============================] - 0s 470us/step - loss: 0.2280 - accuracy: 0.9648\n",
      "Epoch 118/200\n",
      "5/5 [==============================] - 0s 535us/step - loss: 0.2240 - accuracy: 0.9648\n",
      "Epoch 119/200\n",
      "5/5 [==============================] - 0s 525us/step - loss: 0.2204 - accuracy: 0.9648\n",
      "Epoch 120/200\n",
      "5/5 [==============================] - 0s 625us/step - loss: 0.2165 - accuracy: 0.9648\n",
      "Epoch 121/200\n",
      "5/5 [==============================] - 0s 530us/step - loss: 0.2129 - accuracy: 0.9648\n",
      "Epoch 122/200\n",
      "5/5 [==============================] - 0s 649us/step - loss: 0.2095 - accuracy: 0.9648\n",
      "Epoch 123/200\n",
      "5/5 [==============================] - 0s 537us/step - loss: 0.2058 - accuracy: 0.9648\n",
      "Epoch 124/200\n",
      "5/5 [==============================] - 0s 537us/step - loss: 0.2025 - accuracy: 0.9648\n",
      "Epoch 125/200\n",
      "5/5 [==============================] - 0s 594us/step - loss: 0.1992 - accuracy: 0.9648\n",
      "Epoch 126/200\n",
      "5/5 [==============================] - 0s 606us/step - loss: 0.1964 - accuracy: 0.9648\n",
      "Epoch 127/200\n",
      "5/5 [==============================] - 0s 622us/step - loss: 0.1928 - accuracy: 0.9648\n",
      "Epoch 128/200\n",
      "5/5 [==============================] - 0s 520us/step - loss: 0.1903 - accuracy: 0.9648\n",
      "Epoch 129/200\n",
      "5/5 [==============================] - 0s 596us/step - loss: 0.1874 - accuracy: 0.9718\n",
      "Epoch 130/200\n",
      "5/5 [==============================] - 0s 508us/step - loss: 0.1846 - accuracy: 0.9718\n",
      "Epoch 131/200\n",
      "5/5 [==============================] - 0s 651us/step - loss: 0.1817 - accuracy: 0.9718\n",
      "Epoch 132/200\n",
      "5/5 [==============================] - 0s 632us/step - loss: 0.1793 - accuracy: 0.9718\n",
      "Epoch 133/200\n",
      "5/5 [==============================] - 0s 540us/step - loss: 0.1765 - accuracy: 0.9648\n",
      "Epoch 134/200\n",
      "5/5 [==============================] - 0s 479us/step - loss: 0.1737 - accuracy: 0.9648\n",
      "Epoch 135/200\n",
      "5/5 [==============================] - 0s 528us/step - loss: 0.1713 - accuracy: 0.9718\n",
      "Epoch 136/200\n",
      "5/5 [==============================] - 0s 464us/step - loss: 0.1690 - accuracy: 0.9718\n",
      "Epoch 137/200\n",
      "5/5 [==============================] - 0s 600us/step - loss: 0.1666 - accuracy: 0.9718\n",
      "Epoch 138/200\n",
      "5/5 [==============================] - 0s 495us/step - loss: 0.1645 - accuracy: 0.9718\n",
      "Epoch 139/200\n",
      "5/5 [==============================] - 0s 487us/step - loss: 0.1621 - accuracy: 0.9718\n",
      "Epoch 140/200\n",
      "5/5 [==============================] - 0s 552us/step - loss: 0.1599 - accuracy: 0.9718\n",
      "Epoch 141/200\n",
      "5/5 [==============================] - 0s 486us/step - loss: 0.1584 - accuracy: 0.9718\n",
      "Epoch 142/200\n",
      "5/5 [==============================] - 0s 489us/step - loss: 0.1561 - accuracy: 0.9718\n",
      "Epoch 143/200\n",
      "5/5 [==============================] - 0s 583us/step - loss: 0.1537 - accuracy: 0.9718\n",
      "Epoch 144/200\n",
      "5/5 [==============================] - 0s 597us/step - loss: 0.1522 - accuracy: 0.9718\n",
      "Epoch 145/200\n",
      "5/5 [==============================] - 0s 498us/step - loss: 0.1499 - accuracy: 0.9718\n",
      "Epoch 146/200\n",
      "5/5 [==============================] - 0s 627us/step - loss: 0.1480 - accuracy: 0.9718\n",
      "Epoch 147/200\n",
      "5/5 [==============================] - 0s 560us/step - loss: 0.1461 - accuracy: 0.9718\n",
      "Epoch 148/200\n",
      "5/5 [==============================] - 0s 537us/step - loss: 0.1446 - accuracy: 0.9718\n",
      "Epoch 149/200\n",
      "5/5 [==============================] - 0s 485us/step - loss: 0.1430 - accuracy: 0.9718\n",
      "Epoch 150/200\n",
      "5/5 [==============================] - 0s 562us/step - loss: 0.1410 - accuracy: 0.9718\n",
      "Epoch 151/200\n",
      "5/5 [==============================] - 0s 532us/step - loss: 0.1394 - accuracy: 0.9718\n",
      "Epoch 152/200\n",
      "5/5 [==============================] - 0s 466us/step - loss: 0.1382 - accuracy: 0.9718\n",
      "Epoch 153/200\n",
      "5/5 [==============================] - 0s 523us/step - loss: 0.1360 - accuracy: 0.9718\n",
      "Epoch 154/200\n",
      "5/5 [==============================] - 0s 531us/step - loss: 0.1344 - accuracy: 0.9718\n",
      "Epoch 155/200\n",
      "5/5 [==============================] - 0s 492us/step - loss: 0.1334 - accuracy: 0.9789\n",
      "Epoch 156/200\n",
      "5/5 [==============================] - 0s 490us/step - loss: 0.1318 - accuracy: 0.9789\n",
      "Epoch 157/200\n",
      "5/5 [==============================] - 0s 517us/step - loss: 0.1302 - accuracy: 0.9718\n",
      "Epoch 158/200\n",
      "5/5 [==============================] - 0s 527us/step - loss: 0.1289 - accuracy: 0.9718\n",
      "Epoch 159/200\n",
      "5/5 [==============================] - 0s 459us/step - loss: 0.1272 - accuracy: 0.9718\n",
      "Epoch 160/200\n",
      "5/5 [==============================] - 0s 511us/step - loss: 0.1257 - accuracy: 0.9718\n",
      "Epoch 161/200\n",
      "5/5 [==============================] - 0s 580us/step - loss: 0.1243 - accuracy: 0.9718\n",
      "Epoch 162/200\n",
      "5/5 [==============================] - 0s 525us/step - loss: 0.1232 - accuracy: 0.9718\n",
      "Epoch 163/200\n",
      "5/5 [==============================] - 0s 516us/step - loss: 0.1222 - accuracy: 0.9718\n",
      "Epoch 164/200\n",
      "5/5 [==============================] - 0s 625us/step - loss: 0.1211 - accuracy: 0.9718\n",
      "Epoch 165/200\n",
      "5/5 [==============================] - 0s 631us/step - loss: 0.1192 - accuracy: 0.9718\n",
      "Epoch 166/200\n",
      "5/5 [==============================] - 0s 629us/step - loss: 0.1182 - accuracy: 0.9718\n",
      "Epoch 167/200\n",
      "5/5 [==============================] - 0s 535us/step - loss: 0.1170 - accuracy: 0.9789\n",
      "Epoch 168/200\n",
      "5/5 [==============================] - 0s 525us/step - loss: 0.1158 - accuracy: 0.9789\n",
      "Epoch 169/200\n",
      "5/5 [==============================] - 0s 578us/step - loss: 0.1145 - accuracy: 0.9789\n",
      "Epoch 170/200\n",
      "5/5 [==============================] - 0s 642us/step - loss: 0.1136 - accuracy: 0.9789\n",
      "Epoch 171/200\n",
      "5/5 [==============================] - 0s 478us/step - loss: 0.1123 - accuracy: 0.9789\n",
      "Epoch 172/200\n",
      "5/5 [==============================] - 0s 502us/step - loss: 0.1112 - accuracy: 0.9789\n",
      "Epoch 173/200\n",
      "5/5 [==============================] - 0s 482us/step - loss: 0.1101 - accuracy: 0.9718\n",
      "Epoch 174/200\n",
      "5/5 [==============================] - 0s 575us/step - loss: 0.1090 - accuracy: 0.9718\n",
      "Epoch 175/200\n",
      "5/5 [==============================] - 0s 471us/step - loss: 0.1079 - accuracy: 0.9718\n",
      "Epoch 176/200\n",
      "5/5 [==============================] - 0s 498us/step - loss: 0.1068 - accuracy: 0.9718\n",
      "Epoch 177/200\n",
      "5/5 [==============================] - 0s 511us/step - loss: 0.1061 - accuracy: 0.9718\n",
      "Epoch 178/200\n",
      "5/5 [==============================] - 0s 503us/step - loss: 0.1045 - accuracy: 0.9718\n",
      "Epoch 179/200\n",
      "5/5 [==============================] - 0s 546us/step - loss: 0.1045 - accuracy: 0.9718\n",
      "Epoch 180/200\n",
      "5/5 [==============================] - 0s 527us/step - loss: 0.1032 - accuracy: 0.9718\n",
      "Epoch 181/200\n",
      "5/5 [==============================] - 0s 457us/step - loss: 0.1022 - accuracy: 0.9718\n",
      "Epoch 182/200\n",
      "5/5 [==============================] - 0s 527us/step - loss: 0.1011 - accuracy: 0.9718\n",
      "Epoch 183/200\n",
      "5/5 [==============================] - 0s 490us/step - loss: 0.1004 - accuracy: 0.9718\n",
      "Epoch 184/200\n",
      "5/5 [==============================] - 0s 476us/step - loss: 0.0995 - accuracy: 0.9718\n",
      "Epoch 185/200\n",
      "5/5 [==============================] - 0s 569us/step - loss: 0.0983 - accuracy: 0.9718\n",
      "Epoch 186/200\n",
      "5/5 [==============================] - 0s 482us/step - loss: 0.0976 - accuracy: 0.9718\n",
      "Epoch 187/200\n",
      "5/5 [==============================] - 0s 611us/step - loss: 0.0967 - accuracy: 0.9718\n",
      "Epoch 188/200\n",
      "5/5 [==============================] - 0s 556us/step - loss: 0.0962 - accuracy: 0.9718\n",
      "Epoch 189/200\n",
      "5/5 [==============================] - 0s 576us/step - loss: 0.0952 - accuracy: 0.9718\n",
      "Epoch 190/200\n",
      "5/5 [==============================] - 0s 501us/step - loss: 0.0943 - accuracy: 0.9718\n",
      "Epoch 191/200\n",
      "5/5 [==============================] - 0s 457us/step - loss: 0.0932 - accuracy: 0.9789\n",
      "Epoch 192/200\n",
      "5/5 [==============================] - 0s 538us/step - loss: 0.0925 - accuracy: 0.9789\n",
      "Epoch 193/200\n",
      "5/5 [==============================] - 0s 449us/step - loss: 0.0918 - accuracy: 0.9789\n",
      "Epoch 194/200\n",
      "5/5 [==============================] - 0s 572us/step - loss: 0.0914 - accuracy: 0.9789\n",
      "Epoch 195/200\n",
      "5/5 [==============================] - 0s 518us/step - loss: 0.0911 - accuracy: 0.9789\n",
      "Epoch 196/200\n",
      "5/5 [==============================] - 0s 497us/step - loss: 0.0896 - accuracy: 0.9789\n",
      "Epoch 197/200\n",
      "5/5 [==============================] - 0s 518us/step - loss: 0.0888 - accuracy: 0.9789\n",
      "Epoch 198/200\n",
      "5/5 [==============================] - 0s 456us/step - loss: 0.0880 - accuracy: 0.9789\n",
      "Epoch 199/200\n",
      "5/5 [==============================] - 0s 425us/step - loss: 0.0873 - accuracy: 0.9789\n",
      "Epoch 200/200\n",
      "5/5 [==============================] - 0s 527us/step - loss: 0.0869 - accuracy: 0.9789\n"
     ]
    },
    {
     "data": {
      "text/plain": "<keras.callbacks.History at 0x168d70610>"
     },
     "execution_count": 116,
     "metadata": {},
     "output_type": "execute_result"
    }
   ],
   "source": [
    "ann.fit(X_train,y_train,batch_size=32,epochs = 200)"
   ],
   "metadata": {
    "collapsed": false,
    "ExecuteTime": {
     "end_time": "2023-10-25T19:36:56.709684Z",
     "start_time": "2023-10-25T19:36:55.898531Z"
    }
   },
   "id": "e3023f04ce11d05a"
  },
  {
   "cell_type": "code",
   "execution_count": 113,
   "outputs": [],
   "source": [],
   "metadata": {
    "collapsed": false,
    "ExecuteTime": {
     "end_time": "2023-10-25T19:36:14.594266Z",
     "start_time": "2023-10-25T19:36:14.590251Z"
    }
   },
   "id": "3205065c5b0338dd"
  }
 ],
 "metadata": {
  "kernelspec": {
   "display_name": "Python 3",
   "language": "python",
   "name": "python3"
  },
  "language_info": {
   "codemirror_mode": {
    "name": "ipython",
    "version": 2
   },
   "file_extension": ".py",
   "mimetype": "text/x-python",
   "name": "python",
   "nbconvert_exporter": "python",
   "pygments_lexer": "ipython2",
   "version": "2.7.6"
  }
 },
 "nbformat": 4,
 "nbformat_minor": 5
}
