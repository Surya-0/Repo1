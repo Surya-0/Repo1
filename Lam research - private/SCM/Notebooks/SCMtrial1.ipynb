{
 "cells": [
  {
   "cell_type": "code",
   "execution_count": 1,
   "id": "initial_id",
   "metadata": {
    "collapsed": true,
    "ExecuteTime": {
     "end_time": "2024-04-22T17:45:31.459760Z",
     "start_time": "2024-04-22T17:45:30.751625Z"
    }
   },
   "outputs": [],
   "source": [
    "import numpy as np\n",
    "import pandas as pd\n",
    "import matplotlib.pyplot as plt"
   ]
  },
  {
   "cell_type": "code",
   "execution_count": 2,
   "outputs": [
    {
     "data": {
      "text/plain": "                    Date  SOS008L02P  SOS005L04P  SOS003L04P  SOS002L09P  \\\n0    2023-01-01 00:00:00       220.0      2598.0       287.0      2080.0   \n1    2023-01-02 00:00:00       485.0      4982.0      1048.0      4640.0   \n2    2023-01-03 00:00:00       520.0     11175.0       719.0     10801.0   \n3    2023-01-04 00:00:00       305.0      8286.0      1016.0      9004.0   \n4    2023-01-05 00:00:00       320.0      9787.0      1120.0      8875.0   \n..                   ...         ...         ...         ...         ...   \n216  2023-08-05 00:00:00       125.0       589.0       263.0      1391.0   \n217  2023-08-06 00:00:00       460.0      4229.0       310.0      1255.0   \n218  2023-08-07 00:00:00        35.0      3030.0       265.0      1825.0   \n219  2023-08-08 00:00:00        10.0      1240.0       140.0       768.0   \n220  2023-08-09 00:00:00         0.0         0.0         0.0         0.0   \n\n     SOS001L12P  SOS500M24P  SOS250M48P  SOP001L12P  POV005L04P  ...  \\\n0        2748.0    1670.634         0.0        10.0       100.0  ...   \n1        7560.0    3676.000         0.0        60.0        88.0  ...   \n2       12661.0    6334.500         0.0         0.0       195.0  ...   \n3       12087.0    5525.000         0.0       297.0       160.0  ...   \n4       12414.0    4576.000         0.0         0.0       195.0  ...   \n..          ...         ...         ...         ...         ...  ...   \n216      2925.0    1709.000       495.0         0.0       215.0  ...   \n217      2895.0    1735.000       210.0         0.0       305.0  ...   \n218      3962.0    1675.000       440.0         0.0       255.0  ...   \n219      1521.0     445.000       100.0         0.0        50.0  ...   \n220         0.0       0.000         0.0         0.0         0.0  ...   \n\n     MAHS025K  SE500G24P  SE200G24P  ATPPCH5X5K  ATPA1K24P  MAPA1K24P  \\\n0          43     1341.0        200           0          0          0   \n1           0      427.0         46           0          0          0   \n2           5      435.0          0           0          0          0   \n3           0      300.0          1           0          0          0   \n4           0      645.0          0           0          0          0   \n..        ...        ...        ...         ...        ...        ...   \n216         0      650.0         85           0          0          0   \n217         0        0.0          0           0          0          0   \n218       535      852.0         40           0          0          0   \n219         0       50.0          0           0          0          0   \n220         0        0.0          0           0          0          0   \n\n     MAP1K25P  MAC1K25P  EEA500G12P  EEA200G24P  \n0           0         0           0           0  \n1           0         0           0           0  \n2           0         0           0           0  \n3           0         0           0           0  \n4           0         0           0           0  \n..        ...       ...         ...         ...  \n216         0         0           0           0  \n217         0         0           0           0  \n218         0         0           0           0  \n219         0         0           0           0  \n220         0         0           0           0  \n\n[221 rows x 42 columns]",
      "text/html": "<div>\n<style scoped>\n    .dataframe tbody tr th:only-of-type {\n        vertical-align: middle;\n    }\n\n    .dataframe tbody tr th {\n        vertical-align: top;\n    }\n\n    .dataframe thead th {\n        text-align: right;\n    }\n</style>\n<table border=\"1\" class=\"dataframe\">\n  <thead>\n    <tr style=\"text-align: right;\">\n      <th></th>\n      <th>Date</th>\n      <th>SOS008L02P</th>\n      <th>SOS005L04P</th>\n      <th>SOS003L04P</th>\n      <th>SOS002L09P</th>\n      <th>SOS001L12P</th>\n      <th>SOS500M24P</th>\n      <th>SOS250M48P</th>\n      <th>SOP001L12P</th>\n      <th>POV005L04P</th>\n      <th>...</th>\n      <th>MAHS025K</th>\n      <th>SE500G24P</th>\n      <th>SE200G24P</th>\n      <th>ATPPCH5X5K</th>\n      <th>ATPA1K24P</th>\n      <th>MAPA1K24P</th>\n      <th>MAP1K25P</th>\n      <th>MAC1K25P</th>\n      <th>EEA500G12P</th>\n      <th>EEA200G24P</th>\n    </tr>\n  </thead>\n  <tbody>\n    <tr>\n      <th>0</th>\n      <td>2023-01-01 00:00:00</td>\n      <td>220.0</td>\n      <td>2598.0</td>\n      <td>287.0</td>\n      <td>2080.0</td>\n      <td>2748.0</td>\n      <td>1670.634</td>\n      <td>0.0</td>\n      <td>10.0</td>\n      <td>100.0</td>\n      <td>...</td>\n      <td>43</td>\n      <td>1341.0</td>\n      <td>200</td>\n      <td>0</td>\n      <td>0</td>\n      <td>0</td>\n      <td>0</td>\n      <td>0</td>\n      <td>0</td>\n      <td>0</td>\n    </tr>\n    <tr>\n      <th>1</th>\n      <td>2023-01-02 00:00:00</td>\n      <td>485.0</td>\n      <td>4982.0</td>\n      <td>1048.0</td>\n      <td>4640.0</td>\n      <td>7560.0</td>\n      <td>3676.000</td>\n      <td>0.0</td>\n      <td>60.0</td>\n      <td>88.0</td>\n      <td>...</td>\n      <td>0</td>\n      <td>427.0</td>\n      <td>46</td>\n      <td>0</td>\n      <td>0</td>\n      <td>0</td>\n      <td>0</td>\n      <td>0</td>\n      <td>0</td>\n      <td>0</td>\n    </tr>\n    <tr>\n      <th>2</th>\n      <td>2023-01-03 00:00:00</td>\n      <td>520.0</td>\n      <td>11175.0</td>\n      <td>719.0</td>\n      <td>10801.0</td>\n      <td>12661.0</td>\n      <td>6334.500</td>\n      <td>0.0</td>\n      <td>0.0</td>\n      <td>195.0</td>\n      <td>...</td>\n      <td>5</td>\n      <td>435.0</td>\n      <td>0</td>\n      <td>0</td>\n      <td>0</td>\n      <td>0</td>\n      <td>0</td>\n      <td>0</td>\n      <td>0</td>\n      <td>0</td>\n    </tr>\n    <tr>\n      <th>3</th>\n      <td>2023-01-04 00:00:00</td>\n      <td>305.0</td>\n      <td>8286.0</td>\n      <td>1016.0</td>\n      <td>9004.0</td>\n      <td>12087.0</td>\n      <td>5525.000</td>\n      <td>0.0</td>\n      <td>297.0</td>\n      <td>160.0</td>\n      <td>...</td>\n      <td>0</td>\n      <td>300.0</td>\n      <td>1</td>\n      <td>0</td>\n      <td>0</td>\n      <td>0</td>\n      <td>0</td>\n      <td>0</td>\n      <td>0</td>\n      <td>0</td>\n    </tr>\n    <tr>\n      <th>4</th>\n      <td>2023-01-05 00:00:00</td>\n      <td>320.0</td>\n      <td>9787.0</td>\n      <td>1120.0</td>\n      <td>8875.0</td>\n      <td>12414.0</td>\n      <td>4576.000</td>\n      <td>0.0</td>\n      <td>0.0</td>\n      <td>195.0</td>\n      <td>...</td>\n      <td>0</td>\n      <td>645.0</td>\n      <td>0</td>\n      <td>0</td>\n      <td>0</td>\n      <td>0</td>\n      <td>0</td>\n      <td>0</td>\n      <td>0</td>\n      <td>0</td>\n    </tr>\n    <tr>\n      <th>...</th>\n      <td>...</td>\n      <td>...</td>\n      <td>...</td>\n      <td>...</td>\n      <td>...</td>\n      <td>...</td>\n      <td>...</td>\n      <td>...</td>\n      <td>...</td>\n      <td>...</td>\n      <td>...</td>\n      <td>...</td>\n      <td>...</td>\n      <td>...</td>\n      <td>...</td>\n      <td>...</td>\n      <td>...</td>\n      <td>...</td>\n      <td>...</td>\n      <td>...</td>\n      <td>...</td>\n    </tr>\n    <tr>\n      <th>216</th>\n      <td>2023-08-05 00:00:00</td>\n      <td>125.0</td>\n      <td>589.0</td>\n      <td>263.0</td>\n      <td>1391.0</td>\n      <td>2925.0</td>\n      <td>1709.000</td>\n      <td>495.0</td>\n      <td>0.0</td>\n      <td>215.0</td>\n      <td>...</td>\n      <td>0</td>\n      <td>650.0</td>\n      <td>85</td>\n      <td>0</td>\n      <td>0</td>\n      <td>0</td>\n      <td>0</td>\n      <td>0</td>\n      <td>0</td>\n      <td>0</td>\n    </tr>\n    <tr>\n      <th>217</th>\n      <td>2023-08-06 00:00:00</td>\n      <td>460.0</td>\n      <td>4229.0</td>\n      <td>310.0</td>\n      <td>1255.0</td>\n      <td>2895.0</td>\n      <td>1735.000</td>\n      <td>210.0</td>\n      <td>0.0</td>\n      <td>305.0</td>\n      <td>...</td>\n      <td>0</td>\n      <td>0.0</td>\n      <td>0</td>\n      <td>0</td>\n      <td>0</td>\n      <td>0</td>\n      <td>0</td>\n      <td>0</td>\n      <td>0</td>\n      <td>0</td>\n    </tr>\n    <tr>\n      <th>218</th>\n      <td>2023-08-07 00:00:00</td>\n      <td>35.0</td>\n      <td>3030.0</td>\n      <td>265.0</td>\n      <td>1825.0</td>\n      <td>3962.0</td>\n      <td>1675.000</td>\n      <td>440.0</td>\n      <td>0.0</td>\n      <td>255.0</td>\n      <td>...</td>\n      <td>535</td>\n      <td>852.0</td>\n      <td>40</td>\n      <td>0</td>\n      <td>0</td>\n      <td>0</td>\n      <td>0</td>\n      <td>0</td>\n      <td>0</td>\n      <td>0</td>\n    </tr>\n    <tr>\n      <th>219</th>\n      <td>2023-08-08 00:00:00</td>\n      <td>10.0</td>\n      <td>1240.0</td>\n      <td>140.0</td>\n      <td>768.0</td>\n      <td>1521.0</td>\n      <td>445.000</td>\n      <td>100.0</td>\n      <td>0.0</td>\n      <td>50.0</td>\n      <td>...</td>\n      <td>0</td>\n      <td>50.0</td>\n      <td>0</td>\n      <td>0</td>\n      <td>0</td>\n      <td>0</td>\n      <td>0</td>\n      <td>0</td>\n      <td>0</td>\n      <td>0</td>\n    </tr>\n    <tr>\n      <th>220</th>\n      <td>2023-08-09 00:00:00</td>\n      <td>0.0</td>\n      <td>0.0</td>\n      <td>0.0</td>\n      <td>0.0</td>\n      <td>0.0</td>\n      <td>0.000</td>\n      <td>0.0</td>\n      <td>0.0</td>\n      <td>0.0</td>\n      <td>...</td>\n      <td>0</td>\n      <td>0.0</td>\n      <td>0</td>\n      <td>0</td>\n      <td>0</td>\n      <td>0</td>\n      <td>0</td>\n      <td>0</td>\n      <td>0</td>\n      <td>0</td>\n    </tr>\n  </tbody>\n</table>\n<p>221 rows × 42 columns</p>\n</div>"
     },
     "execution_count": 2,
     "metadata": {},
     "output_type": "execute_result"
    }
   ],
   "source": [
    "df = pd.read_csv('../Homogenoeus/Temporal_Data/Unit/Factory Issue.csv')\n",
    "df"
   ],
   "metadata": {
    "collapsed": false,
    "ExecuteTime": {
     "end_time": "2024-04-22T17:45:45.110768Z",
     "start_time": "2024-04-22T17:45:45.072703Z"
    }
   },
   "id": "756adbf4cc6b5061"
  },
  {
   "cell_type": "code",
   "execution_count": 6,
   "outputs": [
    {
     "data": {
      "text/plain": "Index(['FIELDS', 'DESCRIPTION'], dtype='object')"
     },
     "execution_count": 6,
     "metadata": {},
     "output_type": "execute_result"
    }
   ],
   "source": [
    "df.columns"
   ],
   "metadata": {
    "collapsed": false,
    "ExecuteTime": {
     "end_time": "2024-04-23T02:27:57.248187Z",
     "start_time": "2024-04-23T02:27:57.245258Z"
    }
   },
   "id": "3eafdb4834bf07f5"
  },
  {
   "cell_type": "code",
   "execution_count": 5,
   "outputs": [
    {
     "data": {
      "text/plain": "            Node\n0     SOS008L02P\n1     SOS005L04P\n2     SOS003L04P\n3     SOS002L09P\n4     SOS001L12P\n5     SOS500M24P\n6     SOS250M48P\n7     SOP001L12P\n8     POV005L04P\n9     POV002L09P\n10    POV001L24P\n11    POV500M24P\n12    POP001L12P\n13       POP015K\n14    SO0005L04P\n15    SO0002L09P\n16    SO0001L12P\n17    SO0500M24P\n18    POP005L04P\n19    POP002L09P\n20    POP001L12P\n21    POP500M24P\n22    POPF01L12P\n23        AT5X5K\n24     ATN02K12P\n25     ATN01K24P\n26     MAR02K12P\n27     MAR01K24P\n28  ATWWP002K12P\n29  ATWWP001K24P\n30      MASR025K\n31      MAHS025K\n32     SE500G24P\n33     SE200G24P\n34    ATPPCH5X5K\n35     ATPA1K24P\n36     MAPA1K24P\n37      MAP1K25P\n38      MAC1K25P\n39    EEA500G12P\n40    EEA200G24P",
      "text/html": "<div>\n<style scoped>\n    .dataframe tbody tr th:only-of-type {\n        vertical-align: middle;\n    }\n\n    .dataframe tbody tr th {\n        vertical-align: top;\n    }\n\n    .dataframe thead th {\n        text-align: right;\n    }\n</style>\n<table border=\"1\" class=\"dataframe\">\n  <thead>\n    <tr style=\"text-align: right;\">\n      <th></th>\n      <th>Node</th>\n    </tr>\n  </thead>\n  <tbody>\n    <tr>\n      <th>0</th>\n      <td>SOS008L02P</td>\n    </tr>\n    <tr>\n      <th>1</th>\n      <td>SOS005L04P</td>\n    </tr>\n    <tr>\n      <th>2</th>\n      <td>SOS003L04P</td>\n    </tr>\n    <tr>\n      <th>3</th>\n      <td>SOS002L09P</td>\n    </tr>\n    <tr>\n      <th>4</th>\n      <td>SOS001L12P</td>\n    </tr>\n    <tr>\n      <th>5</th>\n      <td>SOS500M24P</td>\n    </tr>\n    <tr>\n      <th>6</th>\n      <td>SOS250M48P</td>\n    </tr>\n    <tr>\n      <th>7</th>\n      <td>SOP001L12P</td>\n    </tr>\n    <tr>\n      <th>8</th>\n      <td>POV005L04P</td>\n    </tr>\n    <tr>\n      <th>9</th>\n      <td>POV002L09P</td>\n    </tr>\n    <tr>\n      <th>10</th>\n      <td>POV001L24P</td>\n    </tr>\n    <tr>\n      <th>11</th>\n      <td>POV500M24P</td>\n    </tr>\n    <tr>\n      <th>12</th>\n      <td>POP001L12P</td>\n    </tr>\n    <tr>\n      <th>13</th>\n      <td>POP015K</td>\n    </tr>\n    <tr>\n      <th>14</th>\n      <td>SO0005L04P</td>\n    </tr>\n    <tr>\n      <th>15</th>\n      <td>SO0002L09P</td>\n    </tr>\n    <tr>\n      <th>16</th>\n      <td>SO0001L12P</td>\n    </tr>\n    <tr>\n      <th>17</th>\n      <td>SO0500M24P</td>\n    </tr>\n    <tr>\n      <th>18</th>\n      <td>POP005L04P</td>\n    </tr>\n    <tr>\n      <th>19</th>\n      <td>POP002L09P</td>\n    </tr>\n    <tr>\n      <th>20</th>\n      <td>POP001L12P</td>\n    </tr>\n    <tr>\n      <th>21</th>\n      <td>POP500M24P</td>\n    </tr>\n    <tr>\n      <th>22</th>\n      <td>POPF01L12P</td>\n    </tr>\n    <tr>\n      <th>23</th>\n      <td>AT5X5K</td>\n    </tr>\n    <tr>\n      <th>24</th>\n      <td>ATN02K12P</td>\n    </tr>\n    <tr>\n      <th>25</th>\n      <td>ATN01K24P</td>\n    </tr>\n    <tr>\n      <th>26</th>\n      <td>MAR02K12P</td>\n    </tr>\n    <tr>\n      <th>27</th>\n      <td>MAR01K24P</td>\n    </tr>\n    <tr>\n      <th>28</th>\n      <td>ATWWP002K12P</td>\n    </tr>\n    <tr>\n      <th>29</th>\n      <td>ATWWP001K24P</td>\n    </tr>\n    <tr>\n      <th>30</th>\n      <td>MASR025K</td>\n    </tr>\n    <tr>\n      <th>31</th>\n      <td>MAHS025K</td>\n    </tr>\n    <tr>\n      <th>32</th>\n      <td>SE500G24P</td>\n    </tr>\n    <tr>\n      <th>33</th>\n      <td>SE200G24P</td>\n    </tr>\n    <tr>\n      <th>34</th>\n      <td>ATPPCH5X5K</td>\n    </tr>\n    <tr>\n      <th>35</th>\n      <td>ATPA1K24P</td>\n    </tr>\n    <tr>\n      <th>36</th>\n      <td>MAPA1K24P</td>\n    </tr>\n    <tr>\n      <th>37</th>\n      <td>MAP1K25P</td>\n    </tr>\n    <tr>\n      <th>38</th>\n      <td>MAC1K25P</td>\n    </tr>\n    <tr>\n      <th>39</th>\n      <td>EEA500G12P</td>\n    </tr>\n    <tr>\n      <th>40</th>\n      <td>EEA200G24P</td>\n    </tr>\n  </tbody>\n</table>\n</div>"
     },
     "execution_count": 5,
     "metadata": {},
     "output_type": "execute_result"
    }
   ],
   "source": [
    "df = pd.read_csv('../Homogenoeus/Nodes/Nodes.csv')\n",
    "df"
   ],
   "metadata": {
    "collapsed": false,
    "ExecuteTime": {
     "end_time": "2024-03-29T13:00:28.929365Z",
     "start_time": "2024-03-29T13:00:28.909560Z"
    }
   },
   "id": "340e13e40e722197"
  },
  {
   "cell_type": "code",
   "execution_count": 6,
   "outputs": [
    {
     "data": {
      "text/plain": "Index(['Node'], dtype='object')"
     },
     "execution_count": 6,
     "metadata": {},
     "output_type": "execute_result"
    }
   ],
   "source": [
    "df.columns"
   ],
   "metadata": {
    "collapsed": false,
    "ExecuteTime": {
     "end_time": "2024-03-29T13:00:32.543057Z",
     "start_time": "2024-03-29T13:00:32.538370Z"
    }
   },
   "id": "2bf04c3a904a4dc5"
  },
  {
   "cell_type": "code",
   "execution_count": 7,
   "outputs": [
    {
     "data": {
      "text/plain": "Node    40\ndtype: int64"
     },
     "execution_count": 7,
     "metadata": {},
     "output_type": "execute_result"
    }
   ],
   "source": [
    "df.nunique()"
   ],
   "metadata": {
    "collapsed": false,
    "ExecuteTime": {
     "end_time": "2024-03-29T13:00:51.802750Z",
     "start_time": "2024-03-29T13:00:51.793705Z"
    }
   },
   "id": "8fa5e50f5c9868cd"
  },
  {
   "cell_type": "code",
   "execution_count": 8,
   "outputs": [
    {
     "name": "stdout",
     "output_type": "stream",
     "text": [
      "          Node\n",
      "20  POP001L12P\n"
     ]
    }
   ],
   "source": [
    "duplicates = df[df.duplicated()]\n",
    "\n",
    "print(duplicates)"
   ],
   "metadata": {
    "collapsed": false,
    "ExecuteTime": {
     "end_time": "2024-03-29T13:01:35.901280Z",
     "start_time": "2024-03-29T13:01:35.895399Z"
    }
   },
   "id": "424563d26dd005b6"
  },
  {
   "cell_type": "code",
   "execution_count": 9,
   "outputs": [
    {
     "data": {
      "text/plain": "            Node  NodeIndex\n0     SOS008L02P          0\n1     SOS005L04P          1\n2     SOS003L04P          2\n3     SOS002L09P          3\n4     SOS001L12P          4\n5     SOS500M24P          5\n6     SOS250M48P          6\n7     SOP001L12P          7\n8     POV005L04P          8\n9     POV002L09P          9\n10    POV001L24P         10\n11    POV500M24P         11\n12    POP001L12P         12\n13       POP015K         13\n14    SO0005L04P         14\n15    SO0002L09P         15\n16    SO0001L12P         16\n17    SO0500M24P         17\n18    POP005L04P         18\n19    POP002L09P         19\n20    POP001L12P         12\n21    POP500M24P         20\n22    POPF01L12P         21\n23        AT5X5K         22\n24     ATN02K12P         23\n25     ATN01K24P         24\n26     MAR02K12P         25\n27     MAR01K24P         26\n28  ATWWP002K12P         27\n29  ATWWP001K24P         28\n30      MASR025K         29\n31      MAHS025K         30\n32     SE500G24P         31\n33     SE200G24P         32\n34    ATPPCH5X5K         33\n35     ATPA1K24P         34\n36     MAPA1K24P         35\n37      MAP1K25P         36\n38      MAC1K25P         37\n39    EEA500G12P         38\n40    EEA200G24P         39",
      "text/html": "<div>\n<style scoped>\n    .dataframe tbody tr th:only-of-type {\n        vertical-align: middle;\n    }\n\n    .dataframe tbody tr th {\n        vertical-align: top;\n    }\n\n    .dataframe thead th {\n        text-align: right;\n    }\n</style>\n<table border=\"1\" class=\"dataframe\">\n  <thead>\n    <tr style=\"text-align: right;\">\n      <th></th>\n      <th>Node</th>\n      <th>NodeIndex</th>\n    </tr>\n  </thead>\n  <tbody>\n    <tr>\n      <th>0</th>\n      <td>SOS008L02P</td>\n      <td>0</td>\n    </tr>\n    <tr>\n      <th>1</th>\n      <td>SOS005L04P</td>\n      <td>1</td>\n    </tr>\n    <tr>\n      <th>2</th>\n      <td>SOS003L04P</td>\n      <td>2</td>\n    </tr>\n    <tr>\n      <th>3</th>\n      <td>SOS002L09P</td>\n      <td>3</td>\n    </tr>\n    <tr>\n      <th>4</th>\n      <td>SOS001L12P</td>\n      <td>4</td>\n    </tr>\n    <tr>\n      <th>5</th>\n      <td>SOS500M24P</td>\n      <td>5</td>\n    </tr>\n    <tr>\n      <th>6</th>\n      <td>SOS250M48P</td>\n      <td>6</td>\n    </tr>\n    <tr>\n      <th>7</th>\n      <td>SOP001L12P</td>\n      <td>7</td>\n    </tr>\n    <tr>\n      <th>8</th>\n      <td>POV005L04P</td>\n      <td>8</td>\n    </tr>\n    <tr>\n      <th>9</th>\n      <td>POV002L09P</td>\n      <td>9</td>\n    </tr>\n    <tr>\n      <th>10</th>\n      <td>POV001L24P</td>\n      <td>10</td>\n    </tr>\n    <tr>\n      <th>11</th>\n      <td>POV500M24P</td>\n      <td>11</td>\n    </tr>\n    <tr>\n      <th>12</th>\n      <td>POP001L12P</td>\n      <td>12</td>\n    </tr>\n    <tr>\n      <th>13</th>\n      <td>POP015K</td>\n      <td>13</td>\n    </tr>\n    <tr>\n      <th>14</th>\n      <td>SO0005L04P</td>\n      <td>14</td>\n    </tr>\n    <tr>\n      <th>15</th>\n      <td>SO0002L09P</td>\n      <td>15</td>\n    </tr>\n    <tr>\n      <th>16</th>\n      <td>SO0001L12P</td>\n      <td>16</td>\n    </tr>\n    <tr>\n      <th>17</th>\n      <td>SO0500M24P</td>\n      <td>17</td>\n    </tr>\n    <tr>\n      <th>18</th>\n      <td>POP005L04P</td>\n      <td>18</td>\n    </tr>\n    <tr>\n      <th>19</th>\n      <td>POP002L09P</td>\n      <td>19</td>\n    </tr>\n    <tr>\n      <th>20</th>\n      <td>POP001L12P</td>\n      <td>12</td>\n    </tr>\n    <tr>\n      <th>21</th>\n      <td>POP500M24P</td>\n      <td>20</td>\n    </tr>\n    <tr>\n      <th>22</th>\n      <td>POPF01L12P</td>\n      <td>21</td>\n    </tr>\n    <tr>\n      <th>23</th>\n      <td>AT5X5K</td>\n      <td>22</td>\n    </tr>\n    <tr>\n      <th>24</th>\n      <td>ATN02K12P</td>\n      <td>23</td>\n    </tr>\n    <tr>\n      <th>25</th>\n      <td>ATN01K24P</td>\n      <td>24</td>\n    </tr>\n    <tr>\n      <th>26</th>\n      <td>MAR02K12P</td>\n      <td>25</td>\n    </tr>\n    <tr>\n      <th>27</th>\n      <td>MAR01K24P</td>\n      <td>26</td>\n    </tr>\n    <tr>\n      <th>28</th>\n      <td>ATWWP002K12P</td>\n      <td>27</td>\n    </tr>\n    <tr>\n      <th>29</th>\n      <td>ATWWP001K24P</td>\n      <td>28</td>\n    </tr>\n    <tr>\n      <th>30</th>\n      <td>MASR025K</td>\n      <td>29</td>\n    </tr>\n    <tr>\n      <th>31</th>\n      <td>MAHS025K</td>\n      <td>30</td>\n    </tr>\n    <tr>\n      <th>32</th>\n      <td>SE500G24P</td>\n      <td>31</td>\n    </tr>\n    <tr>\n      <th>33</th>\n      <td>SE200G24P</td>\n      <td>32</td>\n    </tr>\n    <tr>\n      <th>34</th>\n      <td>ATPPCH5X5K</td>\n      <td>33</td>\n    </tr>\n    <tr>\n      <th>35</th>\n      <td>ATPA1K24P</td>\n      <td>34</td>\n    </tr>\n    <tr>\n      <th>36</th>\n      <td>MAPA1K24P</td>\n      <td>35</td>\n    </tr>\n    <tr>\n      <th>37</th>\n      <td>MAP1K25P</td>\n      <td>36</td>\n    </tr>\n    <tr>\n      <th>38</th>\n      <td>MAC1K25P</td>\n      <td>37</td>\n    </tr>\n    <tr>\n      <th>39</th>\n      <td>EEA500G12P</td>\n      <td>38</td>\n    </tr>\n    <tr>\n      <th>40</th>\n      <td>EEA200G24P</td>\n      <td>39</td>\n    </tr>\n  </tbody>\n</table>\n</div>"
     },
     "execution_count": 9,
     "metadata": {},
     "output_type": "execute_result"
    }
   ],
   "source": [
    "df = pd.read_csv(\"../Homogenoeus/Nodes/NodesIndex.csv\")\n",
    "df"
   ],
   "metadata": {
    "collapsed": false,
    "ExecuteTime": {
     "end_time": "2024-03-29T19:12:47.726896Z",
     "start_time": "2024-03-29T19:12:47.701165Z"
    }
   },
   "id": "653ac9dde69518a4"
  },
  {
   "cell_type": "code",
   "execution_count": 10,
   "outputs": [
    {
     "data": {
      "text/plain": "      Plant  node1  node2\n0      1901     28     24\n1      1903     22     24\n2      1903     22     26\n3      1903     22     31\n4      1903     22     29\n...     ...    ...    ...\n1642   2122     20     19\n1643   2122     20     12\n1644   2122      0     19\n1645   2122      0     12\n1646   2122     19     12\n\n[1647 rows x 3 columns]",
      "text/html": "<div>\n<style scoped>\n    .dataframe tbody tr th:only-of-type {\n        vertical-align: middle;\n    }\n\n    .dataframe tbody tr th {\n        vertical-align: top;\n    }\n\n    .dataframe thead th {\n        text-align: right;\n    }\n</style>\n<table border=\"1\" class=\"dataframe\">\n  <thead>\n    <tr style=\"text-align: right;\">\n      <th></th>\n      <th>Plant</th>\n      <th>node1</th>\n      <th>node2</th>\n    </tr>\n  </thead>\n  <tbody>\n    <tr>\n      <th>0</th>\n      <td>1901</td>\n      <td>28</td>\n      <td>24</td>\n    </tr>\n    <tr>\n      <th>1</th>\n      <td>1903</td>\n      <td>22</td>\n      <td>24</td>\n    </tr>\n    <tr>\n      <th>2</th>\n      <td>1903</td>\n      <td>22</td>\n      <td>26</td>\n    </tr>\n    <tr>\n      <th>3</th>\n      <td>1903</td>\n      <td>22</td>\n      <td>31</td>\n    </tr>\n    <tr>\n      <th>4</th>\n      <td>1903</td>\n      <td>22</td>\n      <td>29</td>\n    </tr>\n    <tr>\n      <th>...</th>\n      <td>...</td>\n      <td>...</td>\n      <td>...</td>\n    </tr>\n    <tr>\n      <th>1642</th>\n      <td>2122</td>\n      <td>20</td>\n      <td>19</td>\n    </tr>\n    <tr>\n      <th>1643</th>\n      <td>2122</td>\n      <td>20</td>\n      <td>12</td>\n    </tr>\n    <tr>\n      <th>1644</th>\n      <td>2122</td>\n      <td>0</td>\n      <td>19</td>\n    </tr>\n    <tr>\n      <th>1645</th>\n      <td>2122</td>\n      <td>0</td>\n      <td>12</td>\n    </tr>\n    <tr>\n      <th>1646</th>\n      <td>2122</td>\n      <td>19</td>\n      <td>12</td>\n    </tr>\n  </tbody>\n</table>\n<p>1647 rows × 3 columns</p>\n</div>"
     },
     "execution_count": 10,
     "metadata": {},
     "output_type": "execute_result"
    }
   ],
   "source": [
    "df = pd.read_csv(\"../Homogenoeus/Edges/EdgesIndex/Edges (Plant).csv\")\n",
    "df"
   ],
   "metadata": {
    "collapsed": false,
    "ExecuteTime": {
     "end_time": "2024-03-29T19:18:30.400816Z",
     "start_time": "2024-03-29T19:18:30.368572Z"
    }
   },
   "id": "ce652c29dd357f0c"
  },
  {
   "cell_type": "code",
   "execution_count": 3,
   "outputs": [
    {
     "name": "stderr",
     "output_type": "stream",
     "text": [
      "/Users/surya/anaconda3/envs/Tf-metal/lib/python3.10/site-packages/IPython/core/interactiveshell.py:3526: DtypeWarning: Columns (0) have mixed types.Specify dtype option on import or set low_memory=False.\n",
      "  exec(code_obj, self.user_global_ns, self.user_ns)\n"
     ]
    },
    {
     "data": {
      "text/plain": "Index(['sku', 'national_inv', 'lead_time', 'in_transit_qty',\n       'forecast_3_month', 'forecast_6_month', 'forecast_9_month',\n       'sales_1_month', 'sales_3_month', 'sales_6_month', 'sales_9_month',\n       'min_bank', 'potential_issue', 'pieces_past_due', 'perf_6_month_avg',\n       'perf_12_month_avg', 'local_bo_qty', 'deck_risk', 'oe_constraint',\n       'ppap_risk', 'stop_auto_buy', 'rev_stop', 'went_on_backorder'],\n      dtype='object')"
     },
     "execution_count": 3,
     "metadata": {},
     "output_type": "execute_result"
    }
   ],
   "source": [
    "df = pd.read_csv(\"../data/Kaggle_Training_Dataset_v2.csv\")\n",
    "df.columns"
   ],
   "metadata": {
    "collapsed": false,
    "ExecuteTime": {
     "end_time": "2024-04-22T17:46:18.251239Z",
     "start_time": "2024-04-22T17:46:16.968571Z"
    }
   },
   "id": "f380da1c54ad62bd"
  },
  {
   "cell_type": "code",
   "execution_count": 4,
   "outputs": [
    {
     "data": {
      "text/plain": "                    sku  national_inv  lead_time  in_transit_qty  \\\n0               1026827           0.0        NaN             0.0   \n1               1043384           2.0        9.0             0.0   \n2               1043696           2.0        NaN             0.0   \n3               1043852           7.0        8.0             0.0   \n4               1044048           8.0        NaN             0.0   \n...                 ...           ...        ...             ...   \n1687856         1373987          -1.0        NaN             0.0   \n1687857         1524346          -1.0        9.0             0.0   \n1687858         1439563          62.0        9.0            16.0   \n1687859         1502009          19.0        4.0             0.0   \n1687860  (1687860 rows)           NaN        NaN             NaN   \n\n         forecast_3_month  forecast_6_month  forecast_9_month  sales_1_month  \\\n0                     0.0               0.0               0.0            0.0   \n1                     0.0               0.0               0.0            0.0   \n2                     0.0               0.0               0.0            0.0   \n3                     0.0               0.0               0.0            0.0   \n4                     0.0               0.0               0.0            0.0   \n...                   ...               ...               ...            ...   \n1687856               5.0               7.0               9.0            1.0   \n1687857               7.0               9.0              11.0            0.0   \n1687858              39.0              87.0             126.0           35.0   \n1687859               0.0               0.0               0.0            2.0   \n1687860               NaN               NaN               NaN            NaN   \n\n         sales_3_month  sales_6_month  ...  pieces_past_due  perf_6_month_avg  \\\n0                  0.0            0.0  ...              0.0            -99.00   \n1                  0.0            0.0  ...              0.0              0.99   \n2                  0.0            0.0  ...              0.0            -99.00   \n3                  0.0            0.0  ...              0.0              0.10   \n4                  0.0            0.0  ...              0.0            -99.00   \n...                ...            ...  ...              ...               ...   \n1687856            3.0            3.0  ...              0.0            -99.00   \n1687857            8.0           11.0  ...              0.0              0.86   \n1687858           63.0          153.0  ...              0.0              0.86   \n1687859            7.0           12.0  ...              0.0              0.73   \n1687860            NaN            NaN  ...              NaN               NaN   \n\n        perf_12_month_avg  local_bo_qty  deck_risk  oe_constraint  ppap_risk  \\\n0                  -99.00           0.0         No             No         No   \n1                    0.99           0.0         No             No         No   \n2                  -99.00           0.0        Yes             No         No   \n3                    0.13           0.0         No             No         No   \n4                  -99.00           0.0        Yes             No         No   \n...                   ...           ...        ...            ...        ...   \n1687856            -99.00           1.0         No             No         No   \n1687857              0.84           1.0        Yes             No         No   \n1687858              0.84           6.0         No             No         No   \n1687859              0.78           1.0         No             No         No   \n1687860               NaN           NaN        NaN            NaN        NaN   \n\n        stop_auto_buy rev_stop went_on_backorder  \n0                 Yes       No                No  \n1                 Yes       No                No  \n2                 Yes       No                No  \n3                 Yes       No                No  \n4                 Yes       No                No  \n...               ...      ...               ...  \n1687856           Yes       No                No  \n1687857            No       No               Yes  \n1687858           Yes       No                No  \n1687859           Yes       No                No  \n1687860           NaN      NaN               NaN  \n\n[1687861 rows x 23 columns]",
      "text/html": "<div>\n<style scoped>\n    .dataframe tbody tr th:only-of-type {\n        vertical-align: middle;\n    }\n\n    .dataframe tbody tr th {\n        vertical-align: top;\n    }\n\n    .dataframe thead th {\n        text-align: right;\n    }\n</style>\n<table border=\"1\" class=\"dataframe\">\n  <thead>\n    <tr style=\"text-align: right;\">\n      <th></th>\n      <th>sku</th>\n      <th>national_inv</th>\n      <th>lead_time</th>\n      <th>in_transit_qty</th>\n      <th>forecast_3_month</th>\n      <th>forecast_6_month</th>\n      <th>forecast_9_month</th>\n      <th>sales_1_month</th>\n      <th>sales_3_month</th>\n      <th>sales_6_month</th>\n      <th>...</th>\n      <th>pieces_past_due</th>\n      <th>perf_6_month_avg</th>\n      <th>perf_12_month_avg</th>\n      <th>local_bo_qty</th>\n      <th>deck_risk</th>\n      <th>oe_constraint</th>\n      <th>ppap_risk</th>\n      <th>stop_auto_buy</th>\n      <th>rev_stop</th>\n      <th>went_on_backorder</th>\n    </tr>\n  </thead>\n  <tbody>\n    <tr>\n      <th>0</th>\n      <td>1026827</td>\n      <td>0.0</td>\n      <td>NaN</td>\n      <td>0.0</td>\n      <td>0.0</td>\n      <td>0.0</td>\n      <td>0.0</td>\n      <td>0.0</td>\n      <td>0.0</td>\n      <td>0.0</td>\n      <td>...</td>\n      <td>0.0</td>\n      <td>-99.00</td>\n      <td>-99.00</td>\n      <td>0.0</td>\n      <td>No</td>\n      <td>No</td>\n      <td>No</td>\n      <td>Yes</td>\n      <td>No</td>\n      <td>No</td>\n    </tr>\n    <tr>\n      <th>1</th>\n      <td>1043384</td>\n      <td>2.0</td>\n      <td>9.0</td>\n      <td>0.0</td>\n      <td>0.0</td>\n      <td>0.0</td>\n      <td>0.0</td>\n      <td>0.0</td>\n      <td>0.0</td>\n      <td>0.0</td>\n      <td>...</td>\n      <td>0.0</td>\n      <td>0.99</td>\n      <td>0.99</td>\n      <td>0.0</td>\n      <td>No</td>\n      <td>No</td>\n      <td>No</td>\n      <td>Yes</td>\n      <td>No</td>\n      <td>No</td>\n    </tr>\n    <tr>\n      <th>2</th>\n      <td>1043696</td>\n      <td>2.0</td>\n      <td>NaN</td>\n      <td>0.0</td>\n      <td>0.0</td>\n      <td>0.0</td>\n      <td>0.0</td>\n      <td>0.0</td>\n      <td>0.0</td>\n      <td>0.0</td>\n      <td>...</td>\n      <td>0.0</td>\n      <td>-99.00</td>\n      <td>-99.00</td>\n      <td>0.0</td>\n      <td>Yes</td>\n      <td>No</td>\n      <td>No</td>\n      <td>Yes</td>\n      <td>No</td>\n      <td>No</td>\n    </tr>\n    <tr>\n      <th>3</th>\n      <td>1043852</td>\n      <td>7.0</td>\n      <td>8.0</td>\n      <td>0.0</td>\n      <td>0.0</td>\n      <td>0.0</td>\n      <td>0.0</td>\n      <td>0.0</td>\n      <td>0.0</td>\n      <td>0.0</td>\n      <td>...</td>\n      <td>0.0</td>\n      <td>0.10</td>\n      <td>0.13</td>\n      <td>0.0</td>\n      <td>No</td>\n      <td>No</td>\n      <td>No</td>\n      <td>Yes</td>\n      <td>No</td>\n      <td>No</td>\n    </tr>\n    <tr>\n      <th>4</th>\n      <td>1044048</td>\n      <td>8.0</td>\n      <td>NaN</td>\n      <td>0.0</td>\n      <td>0.0</td>\n      <td>0.0</td>\n      <td>0.0</td>\n      <td>0.0</td>\n      <td>0.0</td>\n      <td>0.0</td>\n      <td>...</td>\n      <td>0.0</td>\n      <td>-99.00</td>\n      <td>-99.00</td>\n      <td>0.0</td>\n      <td>Yes</td>\n      <td>No</td>\n      <td>No</td>\n      <td>Yes</td>\n      <td>No</td>\n      <td>No</td>\n    </tr>\n    <tr>\n      <th>...</th>\n      <td>...</td>\n      <td>...</td>\n      <td>...</td>\n      <td>...</td>\n      <td>...</td>\n      <td>...</td>\n      <td>...</td>\n      <td>...</td>\n      <td>...</td>\n      <td>...</td>\n      <td>...</td>\n      <td>...</td>\n      <td>...</td>\n      <td>...</td>\n      <td>...</td>\n      <td>...</td>\n      <td>...</td>\n      <td>...</td>\n      <td>...</td>\n      <td>...</td>\n      <td>...</td>\n    </tr>\n    <tr>\n      <th>1687856</th>\n      <td>1373987</td>\n      <td>-1.0</td>\n      <td>NaN</td>\n      <td>0.0</td>\n      <td>5.0</td>\n      <td>7.0</td>\n      <td>9.0</td>\n      <td>1.0</td>\n      <td>3.0</td>\n      <td>3.0</td>\n      <td>...</td>\n      <td>0.0</td>\n      <td>-99.00</td>\n      <td>-99.00</td>\n      <td>1.0</td>\n      <td>No</td>\n      <td>No</td>\n      <td>No</td>\n      <td>Yes</td>\n      <td>No</td>\n      <td>No</td>\n    </tr>\n    <tr>\n      <th>1687857</th>\n      <td>1524346</td>\n      <td>-1.0</td>\n      <td>9.0</td>\n      <td>0.0</td>\n      <td>7.0</td>\n      <td>9.0</td>\n      <td>11.0</td>\n      <td>0.0</td>\n      <td>8.0</td>\n      <td>11.0</td>\n      <td>...</td>\n      <td>0.0</td>\n      <td>0.86</td>\n      <td>0.84</td>\n      <td>1.0</td>\n      <td>Yes</td>\n      <td>No</td>\n      <td>No</td>\n      <td>No</td>\n      <td>No</td>\n      <td>Yes</td>\n    </tr>\n    <tr>\n      <th>1687858</th>\n      <td>1439563</td>\n      <td>62.0</td>\n      <td>9.0</td>\n      <td>16.0</td>\n      <td>39.0</td>\n      <td>87.0</td>\n      <td>126.0</td>\n      <td>35.0</td>\n      <td>63.0</td>\n      <td>153.0</td>\n      <td>...</td>\n      <td>0.0</td>\n      <td>0.86</td>\n      <td>0.84</td>\n      <td>6.0</td>\n      <td>No</td>\n      <td>No</td>\n      <td>No</td>\n      <td>Yes</td>\n      <td>No</td>\n      <td>No</td>\n    </tr>\n    <tr>\n      <th>1687859</th>\n      <td>1502009</td>\n      <td>19.0</td>\n      <td>4.0</td>\n      <td>0.0</td>\n      <td>0.0</td>\n      <td>0.0</td>\n      <td>0.0</td>\n      <td>2.0</td>\n      <td>7.0</td>\n      <td>12.0</td>\n      <td>...</td>\n      <td>0.0</td>\n      <td>0.73</td>\n      <td>0.78</td>\n      <td>1.0</td>\n      <td>No</td>\n      <td>No</td>\n      <td>No</td>\n      <td>Yes</td>\n      <td>No</td>\n      <td>No</td>\n    </tr>\n    <tr>\n      <th>1687860</th>\n      <td>(1687860 rows)</td>\n      <td>NaN</td>\n      <td>NaN</td>\n      <td>NaN</td>\n      <td>NaN</td>\n      <td>NaN</td>\n      <td>NaN</td>\n      <td>NaN</td>\n      <td>NaN</td>\n      <td>NaN</td>\n      <td>...</td>\n      <td>NaN</td>\n      <td>NaN</td>\n      <td>NaN</td>\n      <td>NaN</td>\n      <td>NaN</td>\n      <td>NaN</td>\n      <td>NaN</td>\n      <td>NaN</td>\n      <td>NaN</td>\n      <td>NaN</td>\n    </tr>\n  </tbody>\n</table>\n<p>1687861 rows × 23 columns</p>\n</div>"
     },
     "execution_count": 4,
     "metadata": {},
     "output_type": "execute_result"
    }
   ],
   "source": [
    "df"
   ],
   "metadata": {
    "collapsed": false,
    "ExecuteTime": {
     "end_time": "2024-04-22T17:46:31.590527Z",
     "start_time": "2024-04-22T17:46:30.981924Z"
    }
   },
   "id": "239823ca84e7ecd9"
  },
  {
   "cell_type": "code",
   "execution_count": 7,
   "outputs": [
    {
     "data": {
      "text/plain": "                           FIELDS  \\\n0                            Type   \n1   Days for shipping (real)        \n2   Days for shipment (scheduled)   \n3               Benefit per order   \n4              Sales per customer   \n5                 Delivery Status   \n6   Late_delivery_risk              \n7                     Category Id   \n8                   Category Name   \n9                   Customer City   \n10               Customer Country   \n11                 Customer Email   \n12                 Customer Fname   \n13                    Customer Id   \n14                 Customer Lname   \n15              Customer Password   \n16               Customer Segment   \n17                 Customer State   \n18                Customer Street   \n19               Customer Zipcode   \n20                  Department Id   \n21                Department Name   \n22                       Latitude   \n23                      Longitude   \n24                         Market   \n25                     Order City   \n26                  Order Country   \n27              Order Customer Id   \n28        order date (DateOrders)   \n29                       Order Id   \n30         Order Item Cardprod Id   \n31            Order Item Discount   \n32  Order Item Discount Rate        \n33                  Order Item Id   \n34  Order Item Product Price        \n35        Order Item Profit Ratio   \n36            Order Item Quantity   \n37                          Sales   \n38             Order Item Total     \n39         Order Profit Per Order   \n40                   Order Region   \n41                    Order State   \n42                   Order Status   \n43                Product Card Id   \n44            Product Category Id   \n45            Product Description   \n46                  Product Image   \n47                   Product Name   \n48                  Product Price   \n49                 Product Status   \n50  Shipping date (DateOrders)      \n51                  Shipping Mode   \n\n                                          DESCRIPTION  \n0                         :  Type of transaction made  \n1    :  Actual shipping days of the purchased product  \n2   :  Days of scheduled delivery of the purchased...  \n3                        :  Earnings per order placed  \n4       :  Total sales per customer made per customer  \n5   :  Delivery status of orders: Advance shipping...  \n6   :  Categorical variable that indicates if send...  \n7                            :  Product category code  \n8              :  Description of the product category  \n9        :  City where the customer made the purchase  \n10    :  Country where the customer made the purchase  \n11                                :  Customer's email  \n12                                   :  Customer name  \n13                                     :  Customer ID  \n14                               :  Customer lastname  \n15                             :  Masked customer key  \n16  :  Types of Customers: Consumer , Corporate , ...  \n17  :  State to which the store where the purchase...  \n18  :  Street to which the store where the purchas...  \n19                                :  Customer Zipcode  \n20                        :  Department code of store  \n21                        :  Department name of store  \n22     :  Latitude corresponding to location of store  \n23    :  Longitude corresponding to location of store  \n24  :  Market to where the order is delivered : Af...  \n25                   :  Destination city of the order  \n26                :  Destination country of the order  \n27                             :  Customer order code  \n28                 :  Date on which the order is made  \n29                                      :  Order code  \n30  :  Product code generated through the RFID reader  \n31                       :  Order item discount value  \n32                  :  Order item discount percentage  \n33                                 :  Order item code  \n34              :  Price of products without discount  \n35                         :  Order Item Profit Ratio  \n36                    :  Number of products per order  \n37                                  :  Value in sales  \n38                          :  Total amount per order  \n39                          :  Order Profit Per Order  \n40  :  Region of the world where the order is deli...  \n41  :  State of the region where the order is deli...  \n42  :  Order Status : COMPLETE , PENDING , CLOSED ...  \n43                                    :  Product code  \n44                           :  Product category code  \n45                             :  Product Description  \n46       :  Link of visit and purchase of the product  \n47                                    :  Product Name  \n48                                   :  Product Price  \n49  :  Status of the product stock :If it is 1 not...  \n50                 :  Exact date and time of shipment  \n51  :  The following shipping modes are presented ...  ",
      "text/html": "<div>\n<style scoped>\n    .dataframe tbody tr th:only-of-type {\n        vertical-align: middle;\n    }\n\n    .dataframe tbody tr th {\n        vertical-align: top;\n    }\n\n    .dataframe thead th {\n        text-align: right;\n    }\n</style>\n<table border=\"1\" class=\"dataframe\">\n  <thead>\n    <tr style=\"text-align: right;\">\n      <th></th>\n      <th>FIELDS</th>\n      <th>DESCRIPTION</th>\n    </tr>\n  </thead>\n  <tbody>\n    <tr>\n      <th>0</th>\n      <td>Type</td>\n      <td>:  Type of transaction made</td>\n    </tr>\n    <tr>\n      <th>1</th>\n      <td>Days for shipping (real)</td>\n      <td>:  Actual shipping days of the purchased product</td>\n    </tr>\n    <tr>\n      <th>2</th>\n      <td>Days for shipment (scheduled)</td>\n      <td>:  Days of scheduled delivery of the purchased...</td>\n    </tr>\n    <tr>\n      <th>3</th>\n      <td>Benefit per order</td>\n      <td>:  Earnings per order placed</td>\n    </tr>\n    <tr>\n      <th>4</th>\n      <td>Sales per customer</td>\n      <td>:  Total sales per customer made per customer</td>\n    </tr>\n    <tr>\n      <th>5</th>\n      <td>Delivery Status</td>\n      <td>:  Delivery status of orders: Advance shipping...</td>\n    </tr>\n    <tr>\n      <th>6</th>\n      <td>Late_delivery_risk</td>\n      <td>:  Categorical variable that indicates if send...</td>\n    </tr>\n    <tr>\n      <th>7</th>\n      <td>Category Id</td>\n      <td>:  Product category code</td>\n    </tr>\n    <tr>\n      <th>8</th>\n      <td>Category Name</td>\n      <td>:  Description of the product category</td>\n    </tr>\n    <tr>\n      <th>9</th>\n      <td>Customer City</td>\n      <td>:  City where the customer made the purchase</td>\n    </tr>\n    <tr>\n      <th>10</th>\n      <td>Customer Country</td>\n      <td>:  Country where the customer made the purchase</td>\n    </tr>\n    <tr>\n      <th>11</th>\n      <td>Customer Email</td>\n      <td>:  Customer's email</td>\n    </tr>\n    <tr>\n      <th>12</th>\n      <td>Customer Fname</td>\n      <td>:  Customer name</td>\n    </tr>\n    <tr>\n      <th>13</th>\n      <td>Customer Id</td>\n      <td>:  Customer ID</td>\n    </tr>\n    <tr>\n      <th>14</th>\n      <td>Customer Lname</td>\n      <td>:  Customer lastname</td>\n    </tr>\n    <tr>\n      <th>15</th>\n      <td>Customer Password</td>\n      <td>:  Masked customer key</td>\n    </tr>\n    <tr>\n      <th>16</th>\n      <td>Customer Segment</td>\n      <td>:  Types of Customers: Consumer , Corporate , ...</td>\n    </tr>\n    <tr>\n      <th>17</th>\n      <td>Customer State</td>\n      <td>:  State to which the store where the purchase...</td>\n    </tr>\n    <tr>\n      <th>18</th>\n      <td>Customer Street</td>\n      <td>:  Street to which the store where the purchas...</td>\n    </tr>\n    <tr>\n      <th>19</th>\n      <td>Customer Zipcode</td>\n      <td>:  Customer Zipcode</td>\n    </tr>\n    <tr>\n      <th>20</th>\n      <td>Department Id</td>\n      <td>:  Department code of store</td>\n    </tr>\n    <tr>\n      <th>21</th>\n      <td>Department Name</td>\n      <td>:  Department name of store</td>\n    </tr>\n    <tr>\n      <th>22</th>\n      <td>Latitude</td>\n      <td>:  Latitude corresponding to location of store</td>\n    </tr>\n    <tr>\n      <th>23</th>\n      <td>Longitude</td>\n      <td>:  Longitude corresponding to location of store</td>\n    </tr>\n    <tr>\n      <th>24</th>\n      <td>Market</td>\n      <td>:  Market to where the order is delivered : Af...</td>\n    </tr>\n    <tr>\n      <th>25</th>\n      <td>Order City</td>\n      <td>:  Destination city of the order</td>\n    </tr>\n    <tr>\n      <th>26</th>\n      <td>Order Country</td>\n      <td>:  Destination country of the order</td>\n    </tr>\n    <tr>\n      <th>27</th>\n      <td>Order Customer Id</td>\n      <td>:  Customer order code</td>\n    </tr>\n    <tr>\n      <th>28</th>\n      <td>order date (DateOrders)</td>\n      <td>:  Date on which the order is made</td>\n    </tr>\n    <tr>\n      <th>29</th>\n      <td>Order Id</td>\n      <td>:  Order code</td>\n    </tr>\n    <tr>\n      <th>30</th>\n      <td>Order Item Cardprod Id</td>\n      <td>:  Product code generated through the RFID reader</td>\n    </tr>\n    <tr>\n      <th>31</th>\n      <td>Order Item Discount</td>\n      <td>:  Order item discount value</td>\n    </tr>\n    <tr>\n      <th>32</th>\n      <td>Order Item Discount Rate</td>\n      <td>:  Order item discount percentage</td>\n    </tr>\n    <tr>\n      <th>33</th>\n      <td>Order Item Id</td>\n      <td>:  Order item code</td>\n    </tr>\n    <tr>\n      <th>34</th>\n      <td>Order Item Product Price</td>\n      <td>:  Price of products without discount</td>\n    </tr>\n    <tr>\n      <th>35</th>\n      <td>Order Item Profit Ratio</td>\n      <td>:  Order Item Profit Ratio</td>\n    </tr>\n    <tr>\n      <th>36</th>\n      <td>Order Item Quantity</td>\n      <td>:  Number of products per order</td>\n    </tr>\n    <tr>\n      <th>37</th>\n      <td>Sales</td>\n      <td>:  Value in sales</td>\n    </tr>\n    <tr>\n      <th>38</th>\n      <td>Order Item Total</td>\n      <td>:  Total amount per order</td>\n    </tr>\n    <tr>\n      <th>39</th>\n      <td>Order Profit Per Order</td>\n      <td>:  Order Profit Per Order</td>\n    </tr>\n    <tr>\n      <th>40</th>\n      <td>Order Region</td>\n      <td>:  Region of the world where the order is deli...</td>\n    </tr>\n    <tr>\n      <th>41</th>\n      <td>Order State</td>\n      <td>:  State of the region where the order is deli...</td>\n    </tr>\n    <tr>\n      <th>42</th>\n      <td>Order Status</td>\n      <td>:  Order Status : COMPLETE , PENDING , CLOSED ...</td>\n    </tr>\n    <tr>\n      <th>43</th>\n      <td>Product Card Id</td>\n      <td>:  Product code</td>\n    </tr>\n    <tr>\n      <th>44</th>\n      <td>Product Category Id</td>\n      <td>:  Product category code</td>\n    </tr>\n    <tr>\n      <th>45</th>\n      <td>Product Description</td>\n      <td>:  Product Description</td>\n    </tr>\n    <tr>\n      <th>46</th>\n      <td>Product Image</td>\n      <td>:  Link of visit and purchase of the product</td>\n    </tr>\n    <tr>\n      <th>47</th>\n      <td>Product Name</td>\n      <td>:  Product Name</td>\n    </tr>\n    <tr>\n      <th>48</th>\n      <td>Product Price</td>\n      <td>:  Product Price</td>\n    </tr>\n    <tr>\n      <th>49</th>\n      <td>Product Status</td>\n      <td>:  Status of the product stock :If it is 1 not...</td>\n    </tr>\n    <tr>\n      <th>50</th>\n      <td>Shipping date (DateOrders)</td>\n      <td>:  Exact date and time of shipment</td>\n    </tr>\n    <tr>\n      <th>51</th>\n      <td>Shipping Mode</td>\n      <td>:  The following shipping modes are presented ...</td>\n    </tr>\n  </tbody>\n</table>\n</div>"
     },
     "execution_count": 7,
     "metadata": {},
     "output_type": "execute_result"
    }
   ],
   "source": [
    "df = pd.read_csv(\"../8gx2fvg2k6-2/DescriptionDataCoSupplyChain.csv\")\n",
    "df"
   ],
   "metadata": {
    "collapsed": false,
    "ExecuteTime": {
     "end_time": "2024-04-23T02:28:07.925365Z",
     "start_time": "2024-04-23T02:28:07.906915Z"
    }
   },
   "id": "8197e3e20d85d45a"
  },
  {
   "cell_type": "code",
   "execution_count": 12,
   "outputs": [
    {
     "data": {
      "text/plain": "            Type  Days for shipping (real)  Days for shipment (scheduled)  \\\n0          DEBIT                         3                              4   \n1       TRANSFER                         5                              4   \n2           CASH                         4                              4   \n3          DEBIT                         3                              4   \n4        PAYMENT                         2                              4   \n...          ...                       ...                            ...   \n180514      CASH                         4                              4   \n180515     DEBIT                         3                              2   \n180516  TRANSFER                         5                              4   \n180517   PAYMENT                         3                              4   \n180518   PAYMENT                         4                              4   \n\n        Benefit per order  Sales per customer   Delivery Status  \\\n0               91.250000          314.640015  Advance shipping   \n1             -249.089996          311.359985     Late delivery   \n2             -247.779999          309.720001  Shipping on time   \n3               22.860001          304.809998  Advance shipping   \n4              134.210007          298.250000  Advance shipping   \n...                   ...                 ...               ...   \n180514          40.000000          399.980011  Shipping on time   \n180515        -613.770019          395.980011     Late delivery   \n180516         141.110001          391.980011     Late delivery   \n180517         186.229996          387.980011  Advance shipping   \n180518         168.949997          383.980011  Shipping on time   \n\n        Late_delivery_risk  Category Id   Category Name Customer City  ...  \\\n0                        0           73  Sporting Goods        Caguas  ...   \n1                        1           73  Sporting Goods        Caguas  ...   \n2                        0           73  Sporting Goods      San Jose  ...   \n3                        0           73  Sporting Goods   Los Angeles  ...   \n4                        0           73  Sporting Goods        Caguas  ...   \n...                    ...          ...             ...           ...  ...   \n180514                   0           45         Fishing      Brooklyn  ...   \n180515                   1           45         Fishing   Bakersfield  ...   \n180516                   1           45         Fishing       Bristol  ...   \n180517                   0           45         Fishing        Caguas  ...   \n180518                   0           45         Fishing        Caguas  ...   \n\n       Order Zipcode Product Card Id Product Category Id  Product Description  \\\n0                NaN            1360                  73                  NaN   \n1                NaN            1360                  73                  NaN   \n2                NaN            1360                  73                  NaN   \n3                NaN            1360                  73                  NaN   \n4                NaN            1360                  73                  NaN   \n...              ...             ...                 ...                  ...   \n180514           NaN            1004                  45                  NaN   \n180515           NaN            1004                  45                  NaN   \n180516           NaN            1004                  45                  NaN   \n180517           NaN            1004                  45                  NaN   \n180518           NaN            1004                  45                  NaN   \n\n                                            Product Image  \\\n0            http://images.acmesports.sports/Smart+watch    \n1            http://images.acmesports.sports/Smart+watch    \n2            http://images.acmesports.sports/Smart+watch    \n3            http://images.acmesports.sports/Smart+watch    \n4            http://images.acmesports.sports/Smart+watch    \n...                                                   ...   \n180514  http://images.acmesports.sports/Field+%26+Stre...   \n180515  http://images.acmesports.sports/Field+%26+Stre...   \n180516  http://images.acmesports.sports/Field+%26+Stre...   \n180517  http://images.acmesports.sports/Field+%26+Stre...   \n180518  http://images.acmesports.sports/Field+%26+Stre...   \n\n                                     Product Name Product Price  \\\n0                                    Smart watch     327.750000   \n1                                    Smart watch     327.750000   \n2                                    Smart watch     327.750000   \n3                                    Smart watch     327.750000   \n4                                    Smart watch     327.750000   \n...                                           ...           ...   \n180514  Field & Stream Sportsman 16 Gun Fire Safe    399.980011   \n180515  Field & Stream Sportsman 16 Gun Fire Safe    399.980011   \n180516  Field & Stream Sportsman 16 Gun Fire Safe    399.980011   \n180517  Field & Stream Sportsman 16 Gun Fire Safe    399.980011   \n180518  Field & Stream Sportsman 16 Gun Fire Safe    399.980011   \n\n       Product Status shipping date (DateOrders)   Shipping Mode  \n0                   0             2/3/2018 22:56  Standard Class  \n1                   0            1/18/2018 12:27  Standard Class  \n2                   0            1/17/2018 12:06  Standard Class  \n3                   0            1/16/2018 11:45  Standard Class  \n4                   0            1/15/2018 11:24  Standard Class  \n...               ...                        ...             ...  \n180514              0             1/20/2016 3:40  Standard Class  \n180515              0             1/19/2016 1:34    Second Class  \n180516              0            1/20/2016 21:00  Standard Class  \n180517              0            1/18/2016 20:18  Standard Class  \n180518              0            1/19/2016 18:54  Standard Class  \n\n[180519 rows x 53 columns]",
      "text/html": "<div>\n<style scoped>\n    .dataframe tbody tr th:only-of-type {\n        vertical-align: middle;\n    }\n\n    .dataframe tbody tr th {\n        vertical-align: top;\n    }\n\n    .dataframe thead th {\n        text-align: right;\n    }\n</style>\n<table border=\"1\" class=\"dataframe\">\n  <thead>\n    <tr style=\"text-align: right;\">\n      <th></th>\n      <th>Type</th>\n      <th>Days for shipping (real)</th>\n      <th>Days for shipment (scheduled)</th>\n      <th>Benefit per order</th>\n      <th>Sales per customer</th>\n      <th>Delivery Status</th>\n      <th>Late_delivery_risk</th>\n      <th>Category Id</th>\n      <th>Category Name</th>\n      <th>Customer City</th>\n      <th>...</th>\n      <th>Order Zipcode</th>\n      <th>Product Card Id</th>\n      <th>Product Category Id</th>\n      <th>Product Description</th>\n      <th>Product Image</th>\n      <th>Product Name</th>\n      <th>Product Price</th>\n      <th>Product Status</th>\n      <th>shipping date (DateOrders)</th>\n      <th>Shipping Mode</th>\n    </tr>\n  </thead>\n  <tbody>\n    <tr>\n      <th>0</th>\n      <td>DEBIT</td>\n      <td>3</td>\n      <td>4</td>\n      <td>91.250000</td>\n      <td>314.640015</td>\n      <td>Advance shipping</td>\n      <td>0</td>\n      <td>73</td>\n      <td>Sporting Goods</td>\n      <td>Caguas</td>\n      <td>...</td>\n      <td>NaN</td>\n      <td>1360</td>\n      <td>73</td>\n      <td>NaN</td>\n      <td>http://images.acmesports.sports/Smart+watch</td>\n      <td>Smart watch</td>\n      <td>327.750000</td>\n      <td>0</td>\n      <td>2/3/2018 22:56</td>\n      <td>Standard Class</td>\n    </tr>\n    <tr>\n      <th>1</th>\n      <td>TRANSFER</td>\n      <td>5</td>\n      <td>4</td>\n      <td>-249.089996</td>\n      <td>311.359985</td>\n      <td>Late delivery</td>\n      <td>1</td>\n      <td>73</td>\n      <td>Sporting Goods</td>\n      <td>Caguas</td>\n      <td>...</td>\n      <td>NaN</td>\n      <td>1360</td>\n      <td>73</td>\n      <td>NaN</td>\n      <td>http://images.acmesports.sports/Smart+watch</td>\n      <td>Smart watch</td>\n      <td>327.750000</td>\n      <td>0</td>\n      <td>1/18/2018 12:27</td>\n      <td>Standard Class</td>\n    </tr>\n    <tr>\n      <th>2</th>\n      <td>CASH</td>\n      <td>4</td>\n      <td>4</td>\n      <td>-247.779999</td>\n      <td>309.720001</td>\n      <td>Shipping on time</td>\n      <td>0</td>\n      <td>73</td>\n      <td>Sporting Goods</td>\n      <td>San Jose</td>\n      <td>...</td>\n      <td>NaN</td>\n      <td>1360</td>\n      <td>73</td>\n      <td>NaN</td>\n      <td>http://images.acmesports.sports/Smart+watch</td>\n      <td>Smart watch</td>\n      <td>327.750000</td>\n      <td>0</td>\n      <td>1/17/2018 12:06</td>\n      <td>Standard Class</td>\n    </tr>\n    <tr>\n      <th>3</th>\n      <td>DEBIT</td>\n      <td>3</td>\n      <td>4</td>\n      <td>22.860001</td>\n      <td>304.809998</td>\n      <td>Advance shipping</td>\n      <td>0</td>\n      <td>73</td>\n      <td>Sporting Goods</td>\n      <td>Los Angeles</td>\n      <td>...</td>\n      <td>NaN</td>\n      <td>1360</td>\n      <td>73</td>\n      <td>NaN</td>\n      <td>http://images.acmesports.sports/Smart+watch</td>\n      <td>Smart watch</td>\n      <td>327.750000</td>\n      <td>0</td>\n      <td>1/16/2018 11:45</td>\n      <td>Standard Class</td>\n    </tr>\n    <tr>\n      <th>4</th>\n      <td>PAYMENT</td>\n      <td>2</td>\n      <td>4</td>\n      <td>134.210007</td>\n      <td>298.250000</td>\n      <td>Advance shipping</td>\n      <td>0</td>\n      <td>73</td>\n      <td>Sporting Goods</td>\n      <td>Caguas</td>\n      <td>...</td>\n      <td>NaN</td>\n      <td>1360</td>\n      <td>73</td>\n      <td>NaN</td>\n      <td>http://images.acmesports.sports/Smart+watch</td>\n      <td>Smart watch</td>\n      <td>327.750000</td>\n      <td>0</td>\n      <td>1/15/2018 11:24</td>\n      <td>Standard Class</td>\n    </tr>\n    <tr>\n      <th>...</th>\n      <td>...</td>\n      <td>...</td>\n      <td>...</td>\n      <td>...</td>\n      <td>...</td>\n      <td>...</td>\n      <td>...</td>\n      <td>...</td>\n      <td>...</td>\n      <td>...</td>\n      <td>...</td>\n      <td>...</td>\n      <td>...</td>\n      <td>...</td>\n      <td>...</td>\n      <td>...</td>\n      <td>...</td>\n      <td>...</td>\n      <td>...</td>\n      <td>...</td>\n      <td>...</td>\n    </tr>\n    <tr>\n      <th>180514</th>\n      <td>CASH</td>\n      <td>4</td>\n      <td>4</td>\n      <td>40.000000</td>\n      <td>399.980011</td>\n      <td>Shipping on time</td>\n      <td>0</td>\n      <td>45</td>\n      <td>Fishing</td>\n      <td>Brooklyn</td>\n      <td>...</td>\n      <td>NaN</td>\n      <td>1004</td>\n      <td>45</td>\n      <td>NaN</td>\n      <td>http://images.acmesports.sports/Field+%26+Stre...</td>\n      <td>Field &amp; Stream Sportsman 16 Gun Fire Safe</td>\n      <td>399.980011</td>\n      <td>0</td>\n      <td>1/20/2016 3:40</td>\n      <td>Standard Class</td>\n    </tr>\n    <tr>\n      <th>180515</th>\n      <td>DEBIT</td>\n      <td>3</td>\n      <td>2</td>\n      <td>-613.770019</td>\n      <td>395.980011</td>\n      <td>Late delivery</td>\n      <td>1</td>\n      <td>45</td>\n      <td>Fishing</td>\n      <td>Bakersfield</td>\n      <td>...</td>\n      <td>NaN</td>\n      <td>1004</td>\n      <td>45</td>\n      <td>NaN</td>\n      <td>http://images.acmesports.sports/Field+%26+Stre...</td>\n      <td>Field &amp; Stream Sportsman 16 Gun Fire Safe</td>\n      <td>399.980011</td>\n      <td>0</td>\n      <td>1/19/2016 1:34</td>\n      <td>Second Class</td>\n    </tr>\n    <tr>\n      <th>180516</th>\n      <td>TRANSFER</td>\n      <td>5</td>\n      <td>4</td>\n      <td>141.110001</td>\n      <td>391.980011</td>\n      <td>Late delivery</td>\n      <td>1</td>\n      <td>45</td>\n      <td>Fishing</td>\n      <td>Bristol</td>\n      <td>...</td>\n      <td>NaN</td>\n      <td>1004</td>\n      <td>45</td>\n      <td>NaN</td>\n      <td>http://images.acmesports.sports/Field+%26+Stre...</td>\n      <td>Field &amp; Stream Sportsman 16 Gun Fire Safe</td>\n      <td>399.980011</td>\n      <td>0</td>\n      <td>1/20/2016 21:00</td>\n      <td>Standard Class</td>\n    </tr>\n    <tr>\n      <th>180517</th>\n      <td>PAYMENT</td>\n      <td>3</td>\n      <td>4</td>\n      <td>186.229996</td>\n      <td>387.980011</td>\n      <td>Advance shipping</td>\n      <td>0</td>\n      <td>45</td>\n      <td>Fishing</td>\n      <td>Caguas</td>\n      <td>...</td>\n      <td>NaN</td>\n      <td>1004</td>\n      <td>45</td>\n      <td>NaN</td>\n      <td>http://images.acmesports.sports/Field+%26+Stre...</td>\n      <td>Field &amp; Stream Sportsman 16 Gun Fire Safe</td>\n      <td>399.980011</td>\n      <td>0</td>\n      <td>1/18/2016 20:18</td>\n      <td>Standard Class</td>\n    </tr>\n    <tr>\n      <th>180518</th>\n      <td>PAYMENT</td>\n      <td>4</td>\n      <td>4</td>\n      <td>168.949997</td>\n      <td>383.980011</td>\n      <td>Shipping on time</td>\n      <td>0</td>\n      <td>45</td>\n      <td>Fishing</td>\n      <td>Caguas</td>\n      <td>...</td>\n      <td>NaN</td>\n      <td>1004</td>\n      <td>45</td>\n      <td>NaN</td>\n      <td>http://images.acmesports.sports/Field+%26+Stre...</td>\n      <td>Field &amp; Stream Sportsman 16 Gun Fire Safe</td>\n      <td>399.980011</td>\n      <td>0</td>\n      <td>1/19/2016 18:54</td>\n      <td>Standard Class</td>\n    </tr>\n  </tbody>\n</table>\n<p>180519 rows × 53 columns</p>\n</div>"
     },
     "execution_count": 12,
     "metadata": {},
     "output_type": "execute_result"
    }
   ],
   "source": [
    "cf = pd.read_csv(\"../8gx2fvg2k6-2/DataCoSupplyChainDataset.csv\",encoding= \"latin1\")\n",
    "cf"
   ],
   "metadata": {
    "collapsed": false,
    "ExecuteTime": {
     "end_time": "2024-04-23T02:30:16.996794Z",
     "start_time": "2024-04-23T02:30:16.117124Z"
    }
   },
   "id": "ed68c270f36a494"
  },
  {
   "cell_type": "code",
   "execution_count": 13,
   "outputs": [
    {
     "data": {
      "text/plain": "Index(['Type', 'Days for shipping (real)', 'Days for shipment (scheduled)',\n       'Benefit per order', 'Sales per customer', 'Delivery Status',\n       'Late_delivery_risk', 'Category Id', 'Category Name', 'Customer City',\n       'Customer Country', 'Customer Email', 'Customer Fname', 'Customer Id',\n       'Customer Lname', 'Customer Password', 'Customer Segment',\n       'Customer State', 'Customer Street', 'Customer Zipcode',\n       'Department Id', 'Department Name', 'Latitude', 'Longitude', 'Market',\n       'Order City', 'Order Country', 'Order Customer Id',\n       'order date (DateOrders)', 'Order Id', 'Order Item Cardprod Id',\n       'Order Item Discount', 'Order Item Discount Rate', 'Order Item Id',\n       'Order Item Product Price', 'Order Item Profit Ratio',\n       'Order Item Quantity', 'Sales', 'Order Item Total',\n       'Order Profit Per Order', 'Order Region', 'Order State', 'Order Status',\n       'Order Zipcode', 'Product Card Id', 'Product Category Id',\n       'Product Description', 'Product Image', 'Product Name', 'Product Price',\n       'Product Status', 'shipping date (DateOrders)', 'Shipping Mode'],\n      dtype='object')"
     },
     "execution_count": 13,
     "metadata": {},
     "output_type": "execute_result"
    }
   ],
   "source": [
    "cf.columns"
   ],
   "metadata": {
    "collapsed": false,
    "ExecuteTime": {
     "end_time": "2024-04-23T02:30:23.840698Z",
     "start_time": "2024-04-23T02:30:23.836706Z"
    }
   },
   "id": "118a79746c523ffb"
  },
  {
   "cell_type": "code",
   "execution_count": null,
   "outputs": [],
   "source": [],
   "metadata": {
    "collapsed": false
   },
   "id": "497a0a312ce2fa8b"
  }
 ],
 "metadata": {
  "kernelspec": {
   "display_name": "Python 3",
   "language": "python",
   "name": "python3"
  },
  "language_info": {
   "codemirror_mode": {
    "name": "ipython",
    "version": 2
   },
   "file_extension": ".py",
   "mimetype": "text/x-python",
   "name": "python",
   "nbconvert_exporter": "python",
   "pygments_lexer": "ipython2",
   "version": "2.7.6"
  }
 },
 "nbformat": 4,
 "nbformat_minor": 5
}
