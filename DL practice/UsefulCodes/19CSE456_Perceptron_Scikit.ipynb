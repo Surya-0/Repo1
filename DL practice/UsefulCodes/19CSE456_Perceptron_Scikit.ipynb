{
  "nbformat": 4,
  "nbformat_minor": 0,
  "metadata": {
    "colab": {
      "provenance": []
    },
    "kernelspec": {
      "name": "python3",
      "display_name": "Python 3"
    },
    "language_info": {
      "name": "python"
    }
  },
  "cells": [
    {
      "cell_type": "code",
      "execution_count": null,
      "metadata": {
        "id": "SDzzLSO5nXGH"
      },
      "outputs": [],
      "source": [
        "# evaluate a perceptron model on the dataset\n",
        "from numpy import mean\n",
        "from numpy import std\n",
        "from sklearn.datasets import make_classification\n",
        "from sklearn.model_selection import cross_val_score\n",
        "from sklearn.model_selection import RepeatedStratifiedKFold\n",
        "from sklearn.linear_model import Perceptron"
      ]
    },
    {
      "cell_type": "code",
      "source": [
        "# define dataset\n",
        "X, y = make_classification(n_samples=1000, n_features=10, n_informative=10, n_redundant=0, random_state=1)\n",
        "\n",
        "print(X.shape, y.shape)"
      ],
      "metadata": {
        "id": "KdFAE5OFoUeK"
      },
      "execution_count": null,
      "outputs": []
    },
    {
      "cell_type": "code",
      "source": [
        "# define model\n",
        "model = Perceptron()\n",
        "\n",
        "# define model evaluation method\n",
        "cv = RepeatedStratifiedKFold(n_splits=10, n_repeats=3, random_state=1)\n",
        "\n",
        "# evaluate model\n",
        "scores = cross_val_score(model, X, y, scoring='accuracy', cv=cv, n_jobs=-1)\n",
        "\n",
        "# summarize result\n",
        "print('Mean Accuracy: %.3f (%.3f)' % (mean(scores), std(scores)))"
      ],
      "metadata": {
        "id": "AJp7BNrlojBl"
      },
      "execution_count": null,
      "outputs": []
    },
    {
      "cell_type": "code",
      "source": [
        "# fit model\n",
        "model.fit(X, y)\n",
        "\n",
        "# define new data\n",
        "row = [0.12777556,-3.64400522,-2.23268854,-1.82114386,1.75466361,0.1243966,1.03397657,2.35822076,1.01001752,0.56768485]\n",
        "\n",
        "# make a prediction\n",
        "yhat = model.predict([row])\n",
        "\n",
        "# summarize prediction\n",
        "print('Predicted Class: %d' % yhat)"
      ],
      "metadata": {
        "id": "cwVWhjBXoryQ"
      },
      "execution_count": null,
      "outputs": []
    },
    {
      "cell_type": "code",
      "source": [
        "from sklearn.model_selection import GridSearchCV\n",
        "\n",
        "# define grid\n",
        "grid = dict()\n",
        "grid['eta0'] = [0.0001, 0.001, 0.01, 0.1, 1.0]\n",
        "\n",
        "# define search\n",
        "search = GridSearchCV(model, grid, scoring='accuracy', cv=cv, n_jobs=-1)\n",
        "\n",
        "# perform the search\n",
        "results = search.fit(X, y)\n",
        "\n",
        "# summarize\n",
        "print('Mean Accuracy: %.3f' % results.best_score_)\n",
        "print('Config: %s' % results.best_params_)\n",
        "\n",
        "# summarize all\n",
        "means = results.cv_results_['mean_test_score']\n",
        "params = results.cv_results_['params']\n",
        "for mean, param in zip(means, params):\n",
        "    print(\">%.3f with: %r\" % (mean, param))"
      ],
      "metadata": {
        "colab": {
          "base_uri": "https://localhost:8080/"
        },
        "id": "-qxPa4iqu0F9",
        "outputId": "b31703d0-75a3-44f8-85d3-b30e0ff4ecf2"
      },
      "execution_count": null,
      "outputs": [
        {
          "output_type": "stream",
          "name": "stdout",
          "text": [
            "Mean Accuracy: 0.857\n",
            "Config: {'eta0': 0.0001}\n",
            ">0.857 with: {'eta0': 0.0001}\n",
            ">0.857 with: {'eta0': 0.001}\n",
            ">0.853 with: {'eta0': 0.01}\n",
            ">0.847 with: {'eta0': 0.1}\n",
            ">0.847 with: {'eta0': 1.0}\n"
          ]
        }
      ]
    },
    {
      "cell_type": "code",
      "source": [
        "# define model\n",
        "model = Perceptron(eta0=0.0001)\n",
        "\n",
        "# define grid\n",
        "grid = dict()\n",
        "grid['max_iter'] = [1, 10, 100, 1000, 10000]\n",
        "\n",
        "# define search\n",
        "search = GridSearchCV(model, grid, scoring='accuracy', cv=cv, n_jobs=-1)\n",
        "\n",
        "# perform the search\n",
        "results = search.fit(X, y)\n",
        "\n",
        "# summarize\n",
        "print('Mean Accuracy: %.3f' % results.best_score_)\n",
        "print('Config: %s' % results.best_params_)\n",
        "\n",
        "# summarize all\n",
        "means = results.cv_results_['mean_test_score']\n",
        "params = results.cv_results_['params']\n",
        "for mean, param in zip(means, params):\n",
        "    print(\">%.3f with: %r\" % (mean, param))"
      ],
      "metadata": {
        "colab": {
          "base_uri": "https://localhost:8080/"
        },
        "id": "hYkjGENOyH1T",
        "outputId": "abaa3095-6162-4c46-d7fe-9d8559a7c103"
      },
      "execution_count": null,
      "outputs": [
        {
          "output_type": "stream",
          "name": "stdout",
          "text": [
            "Mean Accuracy: 0.857\n",
            "Config: {'max_iter': 10}\n",
            ">0.850 with: {'max_iter': 1}\n",
            ">0.857 with: {'max_iter': 10}\n",
            ">0.857 with: {'max_iter': 100}\n",
            ">0.857 with: {'max_iter': 1000}\n",
            ">0.857 with: {'max_iter': 10000}\n"
          ]
        }
      ]
    },
    {
      "cell_type": "code",
      "source": [
        "# define model\n",
        "model = Perceptron(eta0=0.0001, max_iter=10)\n",
        "\n",
        "# fit model\n",
        "model.fit(X, y)\n",
        "\n",
        "# define new data\n",
        "row = [0.12777556,-3.64400522,-2.23268854,-1.82114386,1.75466361,0.1243966,1.03397657,2.35822076,1.01001752,0.56768485]\n",
        "\n",
        "# make a prediction\n",
        "yhat = model.predict([row])\n",
        "\n",
        "# summarize prediction\n",
        "print('Predicted Class: %d' % yhat)"
      ],
      "metadata": {
        "colab": {
          "base_uri": "https://localhost:8080/"
        },
        "id": "hXF0rKKqy-g5",
        "outputId": "b21d0a63-7422-49a3-8ef8-09d4156f63e7"
      },
      "execution_count": null,
      "outputs": [
        {
          "output_type": "stream",
          "name": "stdout",
          "text": [
            "Predicted Class: 1\n"
          ]
        }
      ]
    }
  ]
}