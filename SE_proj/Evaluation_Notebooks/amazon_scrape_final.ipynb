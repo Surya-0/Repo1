{
 "cells": [
  {
   "cell_type": "code",
   "execution_count": 1,
   "id": "63eac0a4",
   "metadata": {
    "ExecuteTime": {
     "end_time": "2024-05-03T13:04:47.501941Z",
     "start_time": "2024-05-03T13:04:47.022404Z"
    }
   },
   "outputs": [],
   "source": [
    "from bs4 import BeautifulSoup\n",
    "import requests\n",
    "import pandas as pd\n",
    "import numpy as np"
   ]
  },
  {
   "cell_type": "code",
   "execution_count": 2,
   "id": "8ca27ab4",
   "metadata": {
    "ExecuteTime": {
     "end_time": "2024-05-03T13:04:49.925126Z",
     "start_time": "2024-05-03T13:04:49.919616Z"
    }
   },
   "outputs": [],
   "source": [
    "# Function to extract Product Title\n",
    "def get_title(soup):\n",
    "\n",
    "    try:\n",
    "        # Outer Tag Object\n",
    "        title = soup.find(\"span\", attrs={\"id\":'productTitle'})\n",
    "        \n",
    "        # Inner NavigatableString Object\n",
    "        title_value = title.text\n",
    "\n",
    "        # Title as a string value\n",
    "        title_string = title_value.strip()\n",
    "\n",
    "    except AttributeError:\n",
    "        title_string = \"\"\n",
    "\n",
    "    return title_string\n",
    "\n",
    "# Function to extract the image link\n",
    "\n",
    "def get_image_link(soup):\n",
    "    \n",
    "    try:\n",
    "        image = soup.find('img',attrs= {'class':\"a-dynamic-image\"})\n",
    "        if image is not None:\n",
    "            image_link = image['src']\n",
    "        else:\n",
    "            image_link = \"\"\n",
    "    \n",
    "    except AttributeError:\n",
    "        image_link = \"\"\n",
    "    \n",
    "    return image_link\n",
    "\n",
    "\n",
    "# Function to extract Product Price\n",
    "def get_price(soup):\n",
    "\n",
    "    try:\n",
    "        price = soup.find('span',attrs= {'class':'a-price a-text-price a-size-medium apexPriceToPay'}).find('span',attrs= {'class':'a-offscreen'}).text.strip()\n",
    "\n",
    "    except AttributeError:\n",
    "\n",
    "        try:\n",
    "            # If there is some deal price\n",
    "            price = soup.find(\"span\", attrs={'id':'priceblock_dealprice'}).string.strip()\n",
    "\n",
    "        except:\n",
    "            price = \"\"\n",
    "\n",
    "    return price\n",
    "\n",
    "\n",
    "# Function to extract Product Rating\n",
    "def get_review(soup):\n",
    "\n",
    "    try:\n",
    "        rating = soup.find(\"i\", attrs={'class':'a-icon a-icon-star a-star-4-5'}).string.strip()\n",
    "    \n",
    "    except AttributeError:\n",
    "        try:\n",
    "            rating = soup.find(\"span\", attrs={'class':'a-icon-alt'}).string.strip()\n",
    "        except:\n",
    "            rating = \"\"\t\n",
    "\n",
    "    return rating\n",
    "\n",
    "\n",
    "# Function to extract Number of User Reviews\n",
    "def get_review_count(soup):\n",
    "    try:\n",
    "        review_count = soup.find(\"span\", attrs={'id':'acrCustomerReviewText'}).string.strip()\n",
    "\n",
    "    except AttributeError:\n",
    "        review_count = \"\"\t\n",
    "\n",
    "    return review_count\n",
    "\n",
    "# Function to extract Availability Status\n",
    "def get_availability(soup):\n",
    "    try:\n",
    "        available = soup.find(\"div\", attrs={'id':'availability'})\n",
    "        available = available.find(\"span\").string.strip()\n",
    "\n",
    "    except AttributeError:\n",
    "        available = \"Not Available\"\t\n",
    "\n",
    "    return available\n",
    "\n",
    "def get_rating(soup):\n",
    "\n",
    "    try:\n",
    "        rating = soup.find(\"i\", attrs={'class':'a-icon a-icon-star a-star-4-5'}).string.strip()\n",
    "    \n",
    "    except AttributeError:\n",
    "        try:\n",
    "            rating = soup.find(\"span\", attrs={'class':'a-icon-alt'}).string.strip()\n",
    "        except:\n",
    "            rating = \"\"\t\n",
    "\n",
    "    return rating"
   ]
  },
  {
   "cell_type": "code",
   "execution_count": 69,
   "id": "4713b996",
   "metadata": {
    "ExecuteTime": {
     "end_time": "2024-05-03T04:28:14.515154Z",
     "start_time": "2024-05-03T04:24:58.378248Z"
    }
   },
   "outputs": [],
   "source": [
    "if __name__ == '__main__':\n",
    "\n",
    "    HEADERS = {\n",
    "        'User-Agent': 'Mozilla/5.0 (Macintosh; Intel Mac OS X 10_15_7) AppleWebKit/605.1.15 (KHTML, like Gecko) Version/17.4.1 Safari/605.1.15',\n",
    "        'Accept-Language': 'en-US,en;q=0.5'\n",
    "    }\n",
    "\n",
    "    # The webpage URL\n",
    "    URL = \"https://www.amazon.com/s?k=pharmacy&crid=2VCG3VT3OEWYO&sprefix=pharmacy%2Caps%2C350&ref=nb_sb_ss_ts-doa-p_2_8\"\n",
    "\n",
    "    # HTTP Request\n",
    "    webpage = requests.get(URL, headers=HEADERS)\n",
    "\n",
    "    # Soup Object containing all data\n",
    "    soup = BeautifulSoup(webpage.content, \"html.parser\")\n",
    "\n",
    "    # Fetch links as List of Tag Objects\n",
    "    links = soup.find_all(\"a\", attrs={'class':'a-link-normal s-no-outline'})\n",
    "\n",
    "    # Store the links\n",
    "    links_list = []\n",
    "\n",
    "    # Loop for extracting links from Tag Objects\n",
    "    for link in links:\n",
    "            links_list.append(link.get('href'))\n",
    "\n",
    "    d = {\"title\":[],\"image-link\": [],\"price\":[], \"rating\":[], \"reviews\":[],\"availability\":[]}\n",
    "    \n",
    "    # Loop for extracting product details from each link \n",
    "    for link in links_list:\n",
    "        if not link.startswith('http'):\n",
    "            link = \"https://www.amazon.com\" + link\n",
    "        new_webpage = requests.get(link, headers=HEADERS)\n",
    "    \n",
    "        new_soup = BeautifulSoup(new_webpage.content, \"html.parser\")\n",
    "    \n",
    "        # Function calls to display all necessary product information\n",
    "        d['title'].append(get_title(new_soup))\n",
    "        d['price'].append(get_price(new_soup))\n",
    "        d['rating'].append(get_rating(new_soup))\n",
    "        d['reviews'].append(get_review_count(new_soup))\n",
    "        d['availability'].append(get_availability(new_soup))\n",
    "        d['image-link'].append(get_image_link(new_soup))  # Add this line\n",
    "\n",
    "    \n",
    "    amazon_df = pd.DataFrame.from_dict(d)\n",
    "    amazon_df['title'].replace('', np.nan, inplace=True)\n",
    "    amazon_df = amazon_df.dropna(subset=['title'])\n",
    "    amazon_df.to_csv('Scraped_datasets/Pharmacy.csv', header=True, index=False)\n"
   ]
  },
  {
   "cell_type": "code",
   "execution_count": 70,
   "id": "db08fbaf",
   "metadata": {
    "ExecuteTime": {
     "end_time": "2024-05-03T04:28:14.549257Z",
     "start_time": "2024-05-03T04:28:14.508284Z"
    }
   },
   "outputs": [
    {
     "data": {
      "text/plain": "                                                title  \\\n1   Farmacy Honey Halo Ceramide Face Moisturizer C...   \n2   Farmacy Natural Cleansing Balm - Green Clean M...   \n3   Farmacy Brightening Toner for Face - Toner wit...   \n4   Farmacy Daily Greens Oil Free Gel Face Moistur...   \n5   Farmacy Whipped Greens Face Wash - Oil Free Fo...   \n..                                                ...   \n61  Focus Factor Adults Extra Strength, 120 Count ...   \n62  PCA SKIN Hydrating Face Toner - Alcohol-Free M...   \n63  PCA SKIN Nutrient Face Toner, Pumpkin Wine-Bas...   \n64  PTCB Exam Study Cards: PTCB Exam Prep 2024-202...   \n65  PTCB Exam Study Cards: PTCB Exam Prep 2024-202...   \n\n                                           image-link   price  \\\n1   https://m.media-amazon.com/images/I/41Nj++2b2T...  $48.00   \n2   https://m.media-amazon.com/images/I/41lQ4dEI-q...  $65.00   \n3   https://m.media-amazon.com/images/I/51DBzCUMhs...           \n4   https://m.media-amazon.com/images/I/41Y0nuiFrs...  $44.00   \n5   https://m.media-amazon.com/images/I/31VByWNiK9...  $29.00   \n..                                                ...     ...   \n61  https://m.media-amazon.com/images/I/71d5-piMN1...           \n62  https://m.media-amazon.com/images/I/31Ndv9rLT0...           \n63  https://m.media-amazon.com/images/I/31D5Tnt3rF...           \n64  https://m.media-amazon.com/images/I/31CbBY39UI...           \n65  https://m.media-amazon.com/images/I/31CbBY39UI...           \n\n                rating        reviews   availability  \n1   4.6 out of 5 stars  2,713 ratings       In Stock  \n2   4.7 out of 5 stars  7,296 ratings       In Stock  \n3   4.3 out of 5 stars    155 ratings  Not Available  \n4   4.5 out of 5 stars    913 ratings       In Stock  \n5   4.7 out of 5 stars    952 ratings       In Stock  \n..                 ...            ...            ...  \n61  4.2 out of 5 stars  9,006 ratings       In Stock  \n62  4.6 out of 5 stars    747 ratings       In Stock  \n63  4.6 out of 5 stars  1,687 ratings       In Stock  \n64  4.5 out of 5 stars    522 ratings       In Stock  \n65  4.5 out of 5 stars    522 ratings       In Stock  \n\n[65 rows x 6 columns]",
      "text/html": "<div>\n<style scoped>\n    .dataframe tbody tr th:only-of-type {\n        vertical-align: middle;\n    }\n\n    .dataframe tbody tr th {\n        vertical-align: top;\n    }\n\n    .dataframe thead th {\n        text-align: right;\n    }\n</style>\n<table border=\"1\" class=\"dataframe\">\n  <thead>\n    <tr style=\"text-align: right;\">\n      <th></th>\n      <th>title</th>\n      <th>image-link</th>\n      <th>price</th>\n      <th>rating</th>\n      <th>reviews</th>\n      <th>availability</th>\n    </tr>\n  </thead>\n  <tbody>\n    <tr>\n      <th>1</th>\n      <td>Farmacy Honey Halo Ceramide Face Moisturizer C...</td>\n      <td>https://m.media-amazon.com/images/I/41Nj++2b2T...</td>\n      <td>$48.00</td>\n      <td>4.6 out of 5 stars</td>\n      <td>2,713 ratings</td>\n      <td>In Stock</td>\n    </tr>\n    <tr>\n      <th>2</th>\n      <td>Farmacy Natural Cleansing Balm - Green Clean M...</td>\n      <td>https://m.media-amazon.com/images/I/41lQ4dEI-q...</td>\n      <td>$65.00</td>\n      <td>4.7 out of 5 stars</td>\n      <td>7,296 ratings</td>\n      <td>In Stock</td>\n    </tr>\n    <tr>\n      <th>3</th>\n      <td>Farmacy Brightening Toner for Face - Toner wit...</td>\n      <td>https://m.media-amazon.com/images/I/51DBzCUMhs...</td>\n      <td></td>\n      <td>4.3 out of 5 stars</td>\n      <td>155 ratings</td>\n      <td>Not Available</td>\n    </tr>\n    <tr>\n      <th>4</th>\n      <td>Farmacy Daily Greens Oil Free Gel Face Moistur...</td>\n      <td>https://m.media-amazon.com/images/I/41Y0nuiFrs...</td>\n      <td>$44.00</td>\n      <td>4.5 out of 5 stars</td>\n      <td>913 ratings</td>\n      <td>In Stock</td>\n    </tr>\n    <tr>\n      <th>5</th>\n      <td>Farmacy Whipped Greens Face Wash - Oil Free Fo...</td>\n      <td>https://m.media-amazon.com/images/I/31VByWNiK9...</td>\n      <td>$29.00</td>\n      <td>4.7 out of 5 stars</td>\n      <td>952 ratings</td>\n      <td>In Stock</td>\n    </tr>\n    <tr>\n      <th>...</th>\n      <td>...</td>\n      <td>...</td>\n      <td>...</td>\n      <td>...</td>\n      <td>...</td>\n      <td>...</td>\n    </tr>\n    <tr>\n      <th>61</th>\n      <td>Focus Factor Adults Extra Strength, 120 Count ...</td>\n      <td>https://m.media-amazon.com/images/I/71d5-piMN1...</td>\n      <td></td>\n      <td>4.2 out of 5 stars</td>\n      <td>9,006 ratings</td>\n      <td>In Stock</td>\n    </tr>\n    <tr>\n      <th>62</th>\n      <td>PCA SKIN Hydrating Face Toner - Alcohol-Free M...</td>\n      <td>https://m.media-amazon.com/images/I/31Ndv9rLT0...</td>\n      <td></td>\n      <td>4.6 out of 5 stars</td>\n      <td>747 ratings</td>\n      <td>In Stock</td>\n    </tr>\n    <tr>\n      <th>63</th>\n      <td>PCA SKIN Nutrient Face Toner, Pumpkin Wine-Bas...</td>\n      <td>https://m.media-amazon.com/images/I/31D5Tnt3rF...</td>\n      <td></td>\n      <td>4.6 out of 5 stars</td>\n      <td>1,687 ratings</td>\n      <td>In Stock</td>\n    </tr>\n    <tr>\n      <th>64</th>\n      <td>PTCB Exam Study Cards: PTCB Exam Prep 2024-202...</td>\n      <td>https://m.media-amazon.com/images/I/31CbBY39UI...</td>\n      <td></td>\n      <td>4.5 out of 5 stars</td>\n      <td>522 ratings</td>\n      <td>In Stock</td>\n    </tr>\n    <tr>\n      <th>65</th>\n      <td>PTCB Exam Study Cards: PTCB Exam Prep 2024-202...</td>\n      <td>https://m.media-amazon.com/images/I/31CbBY39UI...</td>\n      <td></td>\n      <td>4.5 out of 5 stars</td>\n      <td>522 ratings</td>\n      <td>In Stock</td>\n    </tr>\n  </tbody>\n</table>\n<p>65 rows × 6 columns</p>\n</div>"
     },
     "execution_count": 70,
     "metadata": {},
     "output_type": "execute_result"
    }
   ],
   "source": [
    "amazon_df"
   ]
  },
  {
   "cell_type": "code",
   "execution_count": 71,
   "outputs": [
    {
     "data": {
      "text/plain": "                                                title  \\\n0   Farmacy Honey Halo Ceramide Face Moisturizer C...   \n1   Farmacy Natural Cleansing Balm - Green Clean M...   \n2   Farmacy Brightening Toner for Face - Toner wit...   \n3   Farmacy Daily Greens Oil Free Gel Face Moistur...   \n4   Farmacy Whipped Greens Face Wash - Oil Free Fo...   \n..                                                ...   \n60  Focus Factor Adults Extra Strength, 120 Count ...   \n61  PCA SKIN Hydrating Face Toner - Alcohol-Free M...   \n62  PCA SKIN Nutrient Face Toner, Pumpkin Wine-Bas...   \n63  PTCB Exam Study Cards: PTCB Exam Prep 2024-202...   \n64  PTCB Exam Study Cards: PTCB Exam Prep 2024-202...   \n\n                                           image-link   price  \\\n0   https://m.media-amazon.com/images/I/41Nj++2b2T...  $48.00   \n1   https://m.media-amazon.com/images/I/41lQ4dEI-q...  $65.00   \n2   https://m.media-amazon.com/images/I/51DBzCUMhs...     NaN   \n3   https://m.media-amazon.com/images/I/41Y0nuiFrs...  $44.00   \n4   https://m.media-amazon.com/images/I/31VByWNiK9...  $29.00   \n..                                                ...     ...   \n60  https://m.media-amazon.com/images/I/71d5-piMN1...     NaN   \n61  https://m.media-amazon.com/images/I/31Ndv9rLT0...     NaN   \n62  https://m.media-amazon.com/images/I/31D5Tnt3rF...     NaN   \n63  https://m.media-amazon.com/images/I/31CbBY39UI...     NaN   \n64  https://m.media-amazon.com/images/I/31CbBY39UI...     NaN   \n\n                rating        reviews   availability  \n0   4.6 out of 5 stars  2,713 ratings       In Stock  \n1   4.7 out of 5 stars  7,296 ratings       In Stock  \n2   4.3 out of 5 stars    155 ratings  Not Available  \n3   4.5 out of 5 stars    913 ratings       In Stock  \n4   4.7 out of 5 stars    952 ratings       In Stock  \n..                 ...            ...            ...  \n60  4.2 out of 5 stars  9,006 ratings       In Stock  \n61  4.6 out of 5 stars    747 ratings       In Stock  \n62  4.6 out of 5 stars  1,687 ratings       In Stock  \n63  4.5 out of 5 stars    522 ratings       In Stock  \n64  4.5 out of 5 stars    522 ratings       In Stock  \n\n[65 rows x 6 columns]",
      "text/html": "<div>\n<style scoped>\n    .dataframe tbody tr th:only-of-type {\n        vertical-align: middle;\n    }\n\n    .dataframe tbody tr th {\n        vertical-align: top;\n    }\n\n    .dataframe thead th {\n        text-align: right;\n    }\n</style>\n<table border=\"1\" class=\"dataframe\">\n  <thead>\n    <tr style=\"text-align: right;\">\n      <th></th>\n      <th>title</th>\n      <th>image-link</th>\n      <th>price</th>\n      <th>rating</th>\n      <th>reviews</th>\n      <th>availability</th>\n    </tr>\n  </thead>\n  <tbody>\n    <tr>\n      <th>0</th>\n      <td>Farmacy Honey Halo Ceramide Face Moisturizer C...</td>\n      <td>https://m.media-amazon.com/images/I/41Nj++2b2T...</td>\n      <td>$48.00</td>\n      <td>4.6 out of 5 stars</td>\n      <td>2,713 ratings</td>\n      <td>In Stock</td>\n    </tr>\n    <tr>\n      <th>1</th>\n      <td>Farmacy Natural Cleansing Balm - Green Clean M...</td>\n      <td>https://m.media-amazon.com/images/I/41lQ4dEI-q...</td>\n      <td>$65.00</td>\n      <td>4.7 out of 5 stars</td>\n      <td>7,296 ratings</td>\n      <td>In Stock</td>\n    </tr>\n    <tr>\n      <th>2</th>\n      <td>Farmacy Brightening Toner for Face - Toner wit...</td>\n      <td>https://m.media-amazon.com/images/I/51DBzCUMhs...</td>\n      <td>NaN</td>\n      <td>4.3 out of 5 stars</td>\n      <td>155 ratings</td>\n      <td>Not Available</td>\n    </tr>\n    <tr>\n      <th>3</th>\n      <td>Farmacy Daily Greens Oil Free Gel Face Moistur...</td>\n      <td>https://m.media-amazon.com/images/I/41Y0nuiFrs...</td>\n      <td>$44.00</td>\n      <td>4.5 out of 5 stars</td>\n      <td>913 ratings</td>\n      <td>In Stock</td>\n    </tr>\n    <tr>\n      <th>4</th>\n      <td>Farmacy Whipped Greens Face Wash - Oil Free Fo...</td>\n      <td>https://m.media-amazon.com/images/I/31VByWNiK9...</td>\n      <td>$29.00</td>\n      <td>4.7 out of 5 stars</td>\n      <td>952 ratings</td>\n      <td>In Stock</td>\n    </tr>\n    <tr>\n      <th>...</th>\n      <td>...</td>\n      <td>...</td>\n      <td>...</td>\n      <td>...</td>\n      <td>...</td>\n      <td>...</td>\n    </tr>\n    <tr>\n      <th>60</th>\n      <td>Focus Factor Adults Extra Strength, 120 Count ...</td>\n      <td>https://m.media-amazon.com/images/I/71d5-piMN1...</td>\n      <td>NaN</td>\n      <td>4.2 out of 5 stars</td>\n      <td>9,006 ratings</td>\n      <td>In Stock</td>\n    </tr>\n    <tr>\n      <th>61</th>\n      <td>PCA SKIN Hydrating Face Toner - Alcohol-Free M...</td>\n      <td>https://m.media-amazon.com/images/I/31Ndv9rLT0...</td>\n      <td>NaN</td>\n      <td>4.6 out of 5 stars</td>\n      <td>747 ratings</td>\n      <td>In Stock</td>\n    </tr>\n    <tr>\n      <th>62</th>\n      <td>PCA SKIN Nutrient Face Toner, Pumpkin Wine-Bas...</td>\n      <td>https://m.media-amazon.com/images/I/31D5Tnt3rF...</td>\n      <td>NaN</td>\n      <td>4.6 out of 5 stars</td>\n      <td>1,687 ratings</td>\n      <td>In Stock</td>\n    </tr>\n    <tr>\n      <th>63</th>\n      <td>PTCB Exam Study Cards: PTCB Exam Prep 2024-202...</td>\n      <td>https://m.media-amazon.com/images/I/31CbBY39UI...</td>\n      <td>NaN</td>\n      <td>4.5 out of 5 stars</td>\n      <td>522 ratings</td>\n      <td>In Stock</td>\n    </tr>\n    <tr>\n      <th>64</th>\n      <td>PTCB Exam Study Cards: PTCB Exam Prep 2024-202...</td>\n      <td>https://m.media-amazon.com/images/I/31CbBY39UI...</td>\n      <td>NaN</td>\n      <td>4.5 out of 5 stars</td>\n      <td>522 ratings</td>\n      <td>In Stock</td>\n    </tr>\n  </tbody>\n</table>\n<p>65 rows × 6 columns</p>\n</div>"
     },
     "execution_count": 71,
     "metadata": {},
     "output_type": "execute_result"
    }
   ],
   "source": [
    "df = pd.read_csv('Scraped_datasets/Pharmacy.csv')\n",
    "df"
   ],
   "metadata": {
    "collapsed": false,
    "ExecuteTime": {
     "end_time": "2024-05-03T04:28:14.549508Z",
     "start_time": "2024-05-03T04:28:14.515099Z"
    }
   },
   "id": "328a85a858cb4c34"
  }
 ],
 "metadata": {
  "kernelspec": {
   "display_name": "Python 3 (ipykernel)",
   "language": "python",
   "name": "python3"
  },
  "language_info": {
   "codemirror_mode": {
    "name": "ipython",
    "version": 3
   },
   "file_extension": ".py",
   "mimetype": "text/x-python",
   "name": "python",
   "nbconvert_exporter": "python",
   "pygments_lexer": "ipython3",
   "version": "3.10.0"
  }
 },
 "nbformat": 4,
 "nbformat_minor": 5
}
