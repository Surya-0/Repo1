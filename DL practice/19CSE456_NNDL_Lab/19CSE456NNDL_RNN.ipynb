{
 "cells": [
  {
   "cell_type": "code",
   "execution_count": 1,
   "metadata": {
    "id": "ft9-ct3QbYRx",
    "ExecuteTime": {
     "end_time": "2023-12-25T09:49:42.978340Z",
     "start_time": "2023-12-25T09:49:33.343757Z"
    }
   },
   "outputs": [],
   "source": [
    "import numpy as np\n",
    "from keras.datasets import imdb\n",
    "from keras.models import Sequential\n",
    "from keras.layers import Embedding, LSTM, Dense\n",
    "from keras.preprocessing import sequence"
   ]
  },
  {
   "cell_type": "code",
   "execution_count": null,
   "metadata": {
    "id": "xWRkYBeJbdkm"
   },
   "outputs": [],
   "source": [
    "# Set random seed for reproducibility\n",
    "np.random.seed(42)"
   ]
  },
  {
   "cell_type": "code",
   "execution_count": null,
   "metadata": {
    "id": "iFK05fdfbjb3"
   },
   "outputs": [],
   "source": [
    "# Set the maximum number of words to be used (vocabulary size)\n",
    "max_words = 5000"
   ]
  },
  {
   "cell_type": "code",
   "execution_count": null,
   "metadata": {
    "colab": {
     "base_uri": "https://localhost:8080/"
    },
    "id": "-xhxzANlbm_r",
    "outputId": "8bd666f1-df80-4d9d-e8e9-2251cca19bda"
   },
   "outputs": [
    {
     "name": "stdout",
     "output_type": "stream",
     "text": [
      "Downloading data from https://storage.googleapis.com/tensorflow/tf-keras-datasets/imdb.npz\n",
      "17464789/17464789 [==============================] - 0s 0us/step\n"
     ]
    }
   ],
   "source": [
    "# Load the IMDB dataset\n",
    "(x_train, y_train), (x_test, y_test) = imdb.load_data(num_words=max_words)"
   ]
  },
  {
   "cell_type": "code",
   "execution_count": null,
   "metadata": {
    "id": "mSvVfTDWboK3"
   },
   "outputs": [],
   "source": [
    "# Pad sequences to a fixed length\n",
    "max_length = 100\n",
    "x_train = sequence.pad_sequences(x_train, maxlen=max_length)\n",
    "x_test = sequence.pad_sequences(x_test, maxlen=max_length)"
   ]
  },
  {
   "cell_type": "code",
   "execution_count": null,
   "metadata": {
    "id": "16tovIMcbrHb"
   },
   "outputs": [],
   "source": [
    "# Create the RNN model\n",
    "model = Sequential()\n",
    "model.add(Embedding(max_words, 32, input_length=max_length))\n",
    "model.add(LSTM(100))\n",
    "model.add(Dense(1, activation='sigmoid'))"
   ]
  },
  {
   "cell_type": "code",
   "execution_count": null,
   "metadata": {
    "id": "TK2epOd0buiA"
   },
   "outputs": [],
   "source": [
    "# Compile the model\n",
    "model.compile(loss='binary_crossentropy', optimizer='adam', metrics=['accuracy'])"
   ]
  },
  {
   "cell_type": "code",
   "execution_count": null,
   "metadata": {
    "colab": {
     "base_uri": "https://localhost:8080/"
    },
    "id": "aYbXpqS7bxeG",
    "outputId": "a1e12016-2b16-4169-beb5-ce70ec7ff238"
   },
   "outputs": [
    {
     "name": "stdout",
     "output_type": "stream",
     "text": [
      "Model: \"sequential\"\n",
      "_________________________________________________________________\n",
      " Layer (type)                Output Shape              Param #   \n",
      "=================================================================\n",
      " embedding (Embedding)       (None, 100, 32)           160000    \n",
      "                                                                 \n",
      " lstm (LSTM)                 (None, 100)               53200     \n",
      "                                                                 \n",
      " dense (Dense)               (None, 1)                 101       \n",
      "                                                                 \n",
      "=================================================================\n",
      "Total params: 213,301\n",
      "Trainable params: 213,301\n",
      "Non-trainable params: 0\n",
      "_________________________________________________________________\n",
      "None\n"
     ]
    }
   ],
   "source": [
    "# Print the model summary\n",
    "print(model.summary())"
   ]
  },
  {
   "cell_type": "code",
   "execution_count": null,
   "metadata": {
    "colab": {
     "background_save": true,
     "base_uri": "https://localhost:8080/"
    },
    "id": "PpTmsFhabzIQ",
    "outputId": "2b1441c0-92b8-48c4-e042-9cc9974f4673"
   },
   "outputs": [
    {
     "name": "stdout",
     "output_type": "stream",
     "text": [
      "Epoch 1/5\n",
      "391/391 [==============================] - 107s 266ms/step - loss: 0.4459 - accuracy: 0.7833 - val_loss: 0.3566 - val_accuracy: 0.8443\n",
      "Epoch 2/5\n",
      "391/391 [==============================] - 104s 265ms/step - loss: 0.3012 - accuracy: 0.8733 - val_loss: 0.3462 - val_accuracy: 0.8475\n",
      "Epoch 3/5\n",
      "391/391 [==============================] - 85s 217ms/step - loss: 0.2700 - accuracy: 0.8916 - val_loss: 0.3537 - val_accuracy: 0.8452\n",
      "Epoch 4/5\n",
      "391/391 [==============================] - 99s 254ms/step - loss: 0.2399 - accuracy: 0.9018 - val_loss: 0.3753 - val_accuracy: 0.8418\n",
      "Epoch 5/5\n",
      "391/391 [==============================] - 100s 255ms/step - loss: 0.2066 - accuracy: 0.9205 - val_loss: 0.4434 - val_accuracy: 0.8363\n"
     ]
    },
    {
     "data": {
      "text/plain": [
       "<keras.callbacks.History at 0x7f3f9dd22020>"
      ]
     },
     "execution_count": 9,
     "metadata": {},
     "output_type": "execute_result"
    }
   ],
   "source": [
    "# Train the model\n",
    "batch_size = 64\n",
    "epochs = 5\n",
    "model.fit(x_train, y_train, batch_size=batch_size, epochs=epochs, validation_data=(x_test, y_test))"
   ]
  },
  {
   "cell_type": "code",
   "execution_count": null,
   "metadata": {
    "colab": {
     "background_save": true
    },
    "id": "B_9k7g_Hb3OQ",
    "outputId": "577cb165-a104-42c3-cdf0-316770f7888e"
   },
   "outputs": [
    {
     "name": "stdout",
     "output_type": "stream",
     "text": [
      "Test loss: 0.4433738589286804\n",
      "Test accuracy: 0.8363199830055237\n"
     ]
    }
   ],
   "source": [
    "# Evaluate the model\n",
    "scores = model.evaluate(x_test, y_test, verbose=0)\n",
    "print('Test loss:', scores[0])\n",
    "print('Test accuracy:', scores[1])"
   ]
  },
  {
   "cell_type": "code",
   "execution_count": null,
   "outputs": [],
   "source": [
    "model."
   ],
   "metadata": {
    "collapsed": false
   }
  }
 ],
 "metadata": {
  "colab": {
   "provenance": []
  },
  "kernelspec": {
   "name": "python3",
   "language": "python",
   "display_name": "Python 3 (ipykernel)"
  },
  "language_info": {
   "name": "python"
  }
 },
 "nbformat": 4,
 "nbformat_minor": 0
}
