{
 "cells": [
  {
   "cell_type": "code",
   "execution_count": 10,
   "id": "initial_id",
   "metadata": {
    "collapsed": true,
    "ExecuteTime": {
     "end_time": "2023-10-27T08:41:54.374880Z",
     "start_time": "2023-10-27T08:41:54.363139Z"
    }
   },
   "outputs": [],
   "source": [
    "eligible_population = [0.26,0.74]"
   ]
  },
  {
   "cell_type": "code",
   "execution_count": 36,
   "outputs": [],
   "source": [
    "import numpy as np\n",
    "import matplotlib.pyplot as plt"
   ],
   "metadata": {
    "collapsed": false,
    "ExecuteTime": {
     "end_time": "2023-10-27T08:47:28.633501Z",
     "start_time": "2023-10-27T08:47:28.629106Z"
    }
   },
   "id": "5bbbbae2d5bd400d"
  },
  {
   "cell_type": "code",
   "execution_count": 12,
   "outputs": [],
   "source": [
    "import numpy.random as npr"
   ],
   "metadata": {
    "collapsed": false,
    "ExecuteTime": {
     "end_time": "2023-10-27T08:41:54.375329Z",
     "start_time": "2023-10-27T08:41:54.370953Z"
    }
   },
   "id": "724692cddf3e57b3"
  },
  {
   "cell_type": "code",
   "execution_count": 13,
   "outputs": [
    {
     "data": {
      "text/plain": "22"
     },
     "execution_count": 13,
     "metadata": {},
     "output_type": "execute_result"
    }
   ],
   "source": [
    "npr.binomial(100,0.26)"
   ],
   "metadata": {
    "collapsed": false,
    "ExecuteTime": {
     "end_time": "2023-10-27T08:41:54.387523Z",
     "start_time": "2023-10-27T08:41:54.375615Z"
    }
   },
   "id": "1da09466fd1b69d8"
  },
  {
   "cell_type": "code",
   "execution_count": 28,
   "outputs": [],
   "source": [
    "simulations = 1000\n",
    "# for i in np.arange(simulations):\n",
    "count_pop_black = npr.binomial(100,0.26,1000)"
   ],
   "metadata": {
    "collapsed": false,
    "ExecuteTime": {
     "end_time": "2023-10-27T08:44:35.097464Z",
     "start_time": "2023-10-27T08:44:35.091965Z"
    }
   },
   "id": "f67d800a12ff0cd8"
  },
  {
   "cell_type": "code",
   "execution_count": 29,
   "outputs": [
    {
     "data": {
      "text/plain": "array([28, 16, 26, 25, 27, 18, 25, 24, 37, 26, 35, 26, 33, 35, 28, 19, 32,\n       23, 24, 25, 26, 24, 24, 22, 29, 28, 37, 24, 27, 27, 32, 22, 22, 21,\n       18, 31, 23, 31, 37, 24, 35, 21, 27, 20, 24, 27, 27, 26, 28, 19, 26,\n       29, 22, 34, 32, 27, 28, 24, 29, 25, 24, 24, 29, 30, 20, 27, 32, 25,\n       28, 25, 19, 24, 25, 26, 20, 27, 34, 24, 17, 24, 26, 32, 28, 26, 29,\n       28, 23, 27, 29, 30, 19, 26, 19, 24, 30, 24, 29, 26, 27, 17, 18, 27,\n       28, 22, 29, 29, 31, 36, 29, 19, 32, 30, 22, 30, 24, 15, 26, 24, 32,\n       32, 24, 25, 37, 30, 23, 26, 28, 17, 28, 36, 24, 27, 23, 25, 24, 31,\n       32, 21, 23, 31, 29, 32, 32, 20, 23, 31, 25, 26, 19, 23, 23, 24, 18,\n       28, 24, 26, 33, 27, 25, 16, 30, 31, 31, 22, 25, 29, 23, 20, 28, 31,\n       23, 25, 29, 25, 23, 34, 24, 26, 19, 28, 26, 28, 26, 20, 23, 32, 25,\n       22, 24, 31, 23, 26, 23, 33, 23, 33, 29, 19, 32, 33, 28, 20, 26, 21,\n       30, 27, 24, 31, 26, 31, 24, 35, 23, 27, 30, 26, 22, 35, 23, 21, 24,\n       24, 28, 23, 23, 31, 29, 18, 19, 20, 14, 23, 31, 16, 30, 26, 36, 33,\n       28, 27, 27, 30, 21, 26, 22, 25, 31, 29, 27, 22, 18, 20, 24, 25, 23,\n       31, 28, 26, 20, 20, 21, 25, 25, 24, 25, 28, 33, 31, 21, 28, 24, 31,\n       24, 30, 31, 18, 23, 19, 28, 18, 30, 26, 28, 22, 27, 29, 27, 26, 32,\n       18, 29, 26, 30, 23, 27, 31, 18, 32, 24, 14, 29, 26, 22, 20, 15, 28,\n       34, 27, 26, 31, 34, 24, 31, 21, 38, 31, 24, 24, 27, 30, 26, 22, 32,\n       32, 36, 25, 25, 27, 20, 19, 27, 24, 34, 32, 26, 26, 27, 17, 33, 23,\n       22, 23, 22, 29, 33, 25, 23, 23, 23, 20, 19, 35, 28, 26, 23, 23, 25,\n       25, 29, 25, 25, 29, 28, 28, 21, 31, 30, 30, 24, 19, 31, 26, 27, 27,\n       21, 16, 26, 30, 19, 20, 30, 22, 28, 22, 18, 31, 22, 29, 29, 22, 26,\n       25, 29, 32, 33, 25, 21, 26, 24, 25, 24, 34, 25, 26, 21, 29, 24, 29,\n       26, 27, 32, 24, 26, 33, 20, 18, 27, 18, 14, 28, 24, 24, 19, 35, 28,\n       27, 30, 21, 29, 23, 21, 24, 31, 27, 38, 34, 25, 21, 30, 27, 31, 21,\n       19, 22, 29, 24, 28, 29, 29, 24, 24, 26, 33, 25, 28, 27, 28, 22, 30,\n       21, 30, 31, 18, 21, 26, 25, 27, 31, 24, 29, 27, 31, 31, 26, 29, 23,\n       26, 32, 30, 27, 25, 31, 25, 35, 18, 25, 27, 31, 33, 29, 23, 26, 19,\n       22, 29, 31, 23, 34, 21, 25, 32, 28, 21, 27, 18, 28, 22, 30, 27, 20,\n       20, 27, 25, 26, 33, 32, 23, 28, 24, 28, 24, 30, 26, 27, 21, 24, 19,\n       31, 21, 25, 21, 32, 31, 28, 26, 26, 32, 21, 25, 35, 23, 20, 29, 30,\n       21, 21, 24, 30, 22, 30, 24, 27, 26, 33, 32, 26, 30, 25, 27, 26, 31,\n       18, 28, 23, 19, 21, 24, 28, 23, 30, 26, 27, 26, 26, 21, 30, 28, 32,\n       21, 21, 25, 31, 22, 25, 32, 27, 30, 25, 23, 25, 36, 25, 23, 21, 25,\n       28, 25, 23, 26, 21, 23, 25, 21, 24, 25, 22, 27, 23, 25, 30, 18, 32,\n       26, 23, 33, 22, 26, 24, 25, 32, 23, 26, 36, 26, 30, 20, 29, 29, 30,\n       21, 30, 30, 27, 31, 25, 32, 26, 43, 37, 30, 30, 27, 27, 29, 25, 29,\n       26, 21, 28, 28, 24, 22, 23, 34, 36, 25, 24, 25, 29, 26, 27, 25, 26,\n       29, 23, 26, 29, 24, 30, 32, 25, 18, 31, 32, 30, 26, 28, 21, 30, 28,\n       27, 25, 26, 30, 29, 29, 24, 30, 33, 23, 26, 22, 24, 21, 30, 33, 31,\n       20, 28, 30, 25, 31, 22, 31, 17, 25, 25, 33, 32, 25, 26, 26, 23, 26,\n       23, 37, 26, 34, 34, 25, 34, 25, 32, 24, 25, 28, 23, 20, 26, 33, 23,\n       23, 25, 28, 27, 22, 32, 24, 23, 19, 21, 22, 21, 26, 23, 27, 20, 27,\n       30, 29, 26, 26, 19, 22, 24, 28, 25, 28, 23, 22, 21, 23, 20, 29, 29,\n       29, 27, 20, 25, 23, 28, 25, 26, 23, 24, 27, 34, 25, 22, 21, 29, 31,\n       27, 23, 28, 23, 25, 22, 25, 25, 20, 28, 26, 27, 24, 22, 18, 27, 25,\n       30, 32, 30, 17, 23, 31, 23, 28, 30, 30, 28, 29, 27, 20, 26, 26, 25,\n       31, 23, 24, 22, 33, 26, 19, 26, 31, 23, 23, 27, 25, 24, 29, 30, 19,\n       24, 31, 32, 34, 26, 24, 24, 36, 16, 29, 30, 27, 24, 28, 21, 23, 28,\n       21, 28, 27, 26, 35, 30, 22, 28, 26, 29, 19, 28, 25, 29, 27, 22, 21,\n       18, 33, 29, 28, 21, 22, 30, 20, 17, 26, 28, 31, 34, 26, 23, 26, 26,\n       31, 30, 21, 27, 26, 19, 28, 32, 29, 27, 35, 27, 24, 29, 30, 16, 26,\n       24, 21, 28, 29, 36, 27, 23, 27, 26, 23, 26, 21, 21, 24, 25, 26, 20,\n       29, 31, 11, 33, 21, 27, 17, 26, 34, 26, 26, 19, 16, 23, 28, 25, 26,\n       29, 19, 21, 27, 24, 35, 27, 35, 21, 26, 33, 29, 19, 23, 26, 28, 30,\n       29, 33, 30, 29, 23, 22, 21, 31, 30, 34, 22, 23, 24, 24, 30, 21, 24,\n       24, 23, 26, 34, 18, 31, 32, 27, 25, 18, 20, 23, 22, 23, 31, 30, 23,\n       28, 27, 34, 23, 24, 24, 28, 28, 30, 31, 21, 25, 27, 26])"
     },
     "execution_count": 29,
     "metadata": {},
     "output_type": "execute_result"
    }
   ],
   "source": [
    "count_pop_black"
   ],
   "metadata": {
    "collapsed": false,
    "ExecuteTime": {
     "end_time": "2023-10-27T08:44:35.526740Z",
     "start_time": "2023-10-27T08:44:35.522584Z"
    }
   },
   "id": "15cb04327caa872a"
  },
  {
   "cell_type": "code",
   "execution_count": 17,
   "outputs": [],
   "source": [
    "%matplotlib inline"
   ],
   "metadata": {
    "collapsed": false,
    "ExecuteTime": {
     "end_time": "2023-10-27T08:42:57.638360Z",
     "start_time": "2023-10-27T08:42:57.145450Z"
    }
   },
   "id": "b3ec04395fdc6bb3"
  },
  {
   "cell_type": "code",
   "execution_count": 18,
   "outputs": [],
   "source": [
    "import pandas as pd"
   ],
   "metadata": {
    "collapsed": false,
    "ExecuteTime": {
     "end_time": "2023-10-27T08:43:08.510743Z",
     "start_time": "2023-10-27T08:43:08.499329Z"
    }
   },
   "id": "9e1c9e7cb46b4e69"
  },
  {
   "cell_type": "code",
   "execution_count": 33,
   "outputs": [
    {
     "data": {
      "text/plain": "      0\n0    28\n1    16\n2    26\n3    25\n4    27\n..   ..\n995  31\n996  21\n997  25\n998  27\n999  26\n\n[1000 rows x 1 columns]",
      "text/html": "<div>\n<style scoped>\n    .dataframe tbody tr th:only-of-type {\n        vertical-align: middle;\n    }\n\n    .dataframe tbody tr th {\n        vertical-align: top;\n    }\n\n    .dataframe thead th {\n        text-align: right;\n    }\n</style>\n<table border=\"1\" class=\"dataframe\">\n  <thead>\n    <tr style=\"text-align: right;\">\n      <th></th>\n      <th>0</th>\n    </tr>\n  </thead>\n  <tbody>\n    <tr>\n      <th>0</th>\n      <td>28</td>\n    </tr>\n    <tr>\n      <th>1</th>\n      <td>16</td>\n    </tr>\n    <tr>\n      <th>2</th>\n      <td>26</td>\n    </tr>\n    <tr>\n      <th>3</th>\n      <td>25</td>\n    </tr>\n    <tr>\n      <th>4</th>\n      <td>27</td>\n    </tr>\n    <tr>\n      <th>...</th>\n      <td>...</td>\n    </tr>\n    <tr>\n      <th>995</th>\n      <td>31</td>\n    </tr>\n    <tr>\n      <th>996</th>\n      <td>21</td>\n    </tr>\n    <tr>\n      <th>997</th>\n      <td>25</td>\n    </tr>\n    <tr>\n      <th>998</th>\n      <td>27</td>\n    </tr>\n    <tr>\n      <th>999</th>\n      <td>26</td>\n    </tr>\n  </tbody>\n</table>\n<p>1000 rows × 1 columns</p>\n</div>"
     },
     "execution_count": 33,
     "metadata": {},
     "output_type": "execute_result"
    }
   ],
   "source": [
    "panel_df = pd.DataFrame(count_pop_black)\n",
    "panel_df"
   ],
   "metadata": {
    "collapsed": false,
    "ExecuteTime": {
     "end_time": "2023-10-27T08:46:09.805986Z",
     "start_time": "2023-10-27T08:46:09.799172Z"
    }
   },
   "id": "133fdc9bc6b5980f"
  },
  {
   "cell_type": "code",
   "execution_count": 34,
   "outputs": [],
   "source": [
    "%matplotlib inline"
   ],
   "metadata": {
    "collapsed": false,
    "ExecuteTime": {
     "end_time": "2023-10-27T08:46:27.545908Z",
     "start_time": "2023-10-27T08:46:27.542241Z"
    }
   },
   "id": "21af5317e9607750"
  },
  {
   "cell_type": "code",
   "execution_count": 41,
   "outputs": [
    {
     "data": {
      "text/plain": "<matplotlib.collections.PathCollection at 0x1225922d0>"
     },
     "execution_count": 41,
     "metadata": {},
     "output_type": "execute_result"
    },
    {
     "data": {
      "text/plain": "<Figure size 640x480 with 1 Axes>",
      "image/png": "[encoded data removed]"
     },
     "metadata": {},
     "output_type": "display_data"
    }
   ],
   "source": [
    "panel_df.hist()\n",
    "plt.title('Stastic')\n",
    "plt.xlabel('Count in a random sample %',fontsize=15)\n",
    "plt.ylabel('Unit',fontsize=15)\n",
    "plt.scatter(8,0,color = 'magenta',s = 30)"
   ],
   "metadata": {
    "collapsed": false,
    "ExecuteTime": {
     "end_time": "2023-10-27T08:50:37.506292Z",
     "start_time": "2023-10-27T08:50:37.433874Z"
    }
   },
   "id": "af0394cc21729420"
  },
  {
   "cell_type": "code",
   "execution_count": null,
   "outputs": [],
   "source": [],
   "metadata": {
    "collapsed": false
   },
   "id": "962c417c70969227"
  }
 ],
 "metadata": {
  "kernelspec": {
   "display_name": "Python 3",
   "language": "python",
   "name": "python3"
  },
  "language_info": {
   "codemirror_mode": {
    "name": "ipython",
    "version": 2
   },
   "file_extension": ".py",
   "mimetype": "text/x-python",
   "name": "python",
   "nbconvert_exporter": "python",
   "pygments_lexer": "ipython2",
   "version": "2.7.6"
  }
 },
 "nbformat": 4,
 "nbformat_minor": 5
}
