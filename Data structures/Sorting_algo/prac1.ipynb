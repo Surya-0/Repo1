{
 "cells": [
  {
   "cell_type": "code",
   "execution_count": null,
   "id": "initial_id",
   "metadata": {
    "collapsed": true
   },
   "outputs": [],
   "source": [
    "n = 5\n",
    "m = 3\n",
    "i = 0\n",
    "j = 0\n",
    "arr = list(map(int,input().split()))\n",
    "rep = list(map(int,input().split()))\n",
    "rep.sort(reverse=True)\n",
    "for i in range(m):\n",
    "    for j in range(n):\n",
    "        if rep[i]>arr[j]:\n",
    "            arr[i] = rep[j]\n",
    "\n",
    "        "
   ]
  }
 ],
 "metadata": {
  "kernelspec": {
   "display_name": "Python 3",
   "language": "python",
   "name": "python3"
  },
  "language_info": {
   "codemirror_mode": {
    "name": "ipython",
    "version": 2
   },
   "file_extension": ".py",
   "mimetype": "text/x-python",
   "name": "python",
   "nbconvert_exporter": "python",
   "pygments_lexer": "ipython2",
   "version": "2.7.6"
  }
 },
 "nbformat": 4,
 "nbformat_minor": 5
}
