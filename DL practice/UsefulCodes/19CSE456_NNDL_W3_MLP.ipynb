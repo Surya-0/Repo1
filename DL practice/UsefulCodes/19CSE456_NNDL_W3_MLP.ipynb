{
  "nbformat": 4,
  "nbformat_minor": 0,
  "metadata": {
    "colab": {
      "provenance": []
    },
    "kernelspec": {
      "name": "python3",
      "display_name": "Python 3"
    },
    "language_info": {
      "name": "python"
    }
  },
  "cells": [
    {
      "cell_type": "code",
      "execution_count": null,
      "metadata": {
        "id": "F1skw_EIMJKV"
      },
      "outputs": [],
      "source": [
        "import numpy as np\n",
        "\n",
        "class MLP:\n",
        "    def __init__(self, input_size, hidden_size, output_size, learning_rate):\n",
        "        self.input_size = input_size\n",
        "        self.hidden_size = hidden_size\n",
        "        self.output_size = output_size\n",
        "        self.learning_rate = learning_rate\n",
        "\n",
        "        # Initialize weights and biases for hidden and output layers\n",
        "        self.hidden_weights = np.random.randn(self.input_size, self.hidden_size)\n",
        "        self.hidden_weights1 = np.round(self.hidden_weights, 1)\n",
        "\n",
        "        self.hidden_bias = np.random.randn(self.hidden_size)\n",
        "        self.hidden_bias1 = np.round(self.hidden_bias, 1)\n",
        "\n",
        "        self.output_weights = np.random.randn(self.hidden_size, self.output_size)\n",
        "        self.output_weights1 = np.round(self.output_weights, 1)\n",
        "\n",
        "        self.output_bias = np.random.randn(self.output_size)\n",
        "        self.output_bias1 = np.round(self.output_bias, 1)\n",
        "\n",
        "    def show(self):\n",
        "      print(self.hidden_weights1)\n",
        "      print(self.hidden_bias1)\n",
        "      print(self.output_weights1)\n",
        "      print(self.output_bias1)\n",
        "\n",
        "    def forward(self, X):\n",
        "        # Compute hidden layer output\n",
        "        self.hidden_output = np.dot(X, self.hidden_weights1) + self.hidden_bias1\n",
        "        self.hidden_activation = self.sigmoid(self.hidden_output)\n",
        "\n",
        "        # Compute output layer output\n",
        "        self.output = np.dot(self.hidden_activation, self.output_weights1) + self.output_bias1\n",
        "        self.output_activation = self.sigmoid(self.output)\n",
        "\n",
        "        return self.output_activation\n",
        "\n",
        "    def backward(self, X, y, output):\n",
        "        # Compute error and delta for output layer\n",
        "        error = y - output\n",
        "        output_delta = error * self.sigmoid_derivative(output)\n",
        "\n",
        "        # Compute error and delta for hidden layer\n",
        "        hidden_error = np.dot(output_delta, self.output_weights1.T)\n",
        "        hidden_delta = hidden_error * self.sigmoid_derivative(self.hidden_activation)\n",
        "\n",
        "        # Update weights and biases for output and hidden layers\n",
        "        self.output_weights1 += self.learning_rate * np.dot(self.hidden_activation.T, output_delta)\n",
        "        self.output_bias1 += self.learning_rate * np.sum(output_delta, axis=0)\n",
        "        self.hidden_weights1 += self.learning_rate * np.dot(X.T, hidden_delta)\n",
        "        self.hidden_bias1 += self.learning_rate * np.sum(hidden_delta, axis=0)\n",
        "\n",
        "    def train(self, X, y, epochs):\n",
        "        for i in range(epochs):\n",
        "            # Forward pass\n",
        "            output = self.forward(X)\n",
        "\n",
        "            # Backward pass\n",
        "            self.backward(X, y, output)\n",
        "\n",
        "            # Print loss for every 1000 epochs\n",
        "            loss = np.mean(np.square(y - output))\n",
        "            print(f\"Epoch {i}, Loss: {loss:.4f}\")\n",
        "\n",
        "    def predict(self, X):\n",
        "        return self.forward(X)\n",
        "\n",
        "    def sigmoid(self, x):\n",
        "        return 1 / (1 + np.exp(-x))\n",
        "\n",
        "    def sigmoid_derivative(self, x):\n",
        "        return x * (1 - x)"
      ]
    },
    {
      "cell_type": "code",
      "source": [
        "# Generate random input and output data\n",
        "X = np.random.randn(2, 3)\n",
        "X1 = np.round(X, 1)\n",
        "\n",
        "y = np.random.randn(2, 1)\n",
        "y1 = np.round(y, 1)"
      ],
      "metadata": {
        "id": "Us6iZ6wOXrRR"
      },
      "execution_count": null,
      "outputs": []
    },
    {
      "cell_type": "code",
      "source": [
        "# Create MLP with input size of 4, hidden size of 5, output size of 1, and learning rate of 0.1\n",
        "mlp = MLP(3, 4, 1, 0.1)"
      ],
      "metadata": {
        "id": "bcwG9kk8NbHX"
      },
      "execution_count": null,
      "outputs": []
    },
    {
      "cell_type": "code",
      "source": [
        "mlp.show()"
      ],
      "metadata": {
        "colab": {
          "base_uri": "https://localhost:8080/"
        },
        "id": "89vnuEsqO__8",
        "outputId": "539ce0ff-de74-466d-e2fd-5dad49b58f4c"
      },
      "execution_count": null,
      "outputs": [
        {
          "output_type": "stream",
          "name": "stdout",
          "text": [
            "[[ 1.2  0.5  0.6 -1.3]\n",
            " [-0.8  1.1  0.1  0.5]\n",
            " [ 0.3  1.9  0.8 -1.2]]\n",
            "[ 0.7  0.8 -0.5 -0.7]\n",
            "[[-1.2]\n",
            " [-0.4]\n",
            " [ 0.3]\n",
            " [-2. ]]\n",
            "[-1.]\n"
          ]
        }
      ]
    },
    {
      "cell_type": "code",
      "source": [
        "mlp.train(X1, y1, 10)"
      ],
      "metadata": {
        "colab": {
          "base_uri": "https://localhost:8080/"
        },
        "id": "1cx6sBDZM_Y6",
        "outputId": "4c965b2c-5629-43c3-f1eb-fc66326aef68"
      },
      "execution_count": null,
      "outputs": [
        {
          "output_type": "stream",
          "name": "stdout",
          "text": [
            "Epoch 0, Loss: 0.2304\n",
            "Epoch 1, Loss: 0.2298\n",
            "Epoch 2, Loss: 0.2292\n",
            "Epoch 3, Loss: 0.2285\n",
            "Epoch 4, Loss: 0.2279\n",
            "Epoch 5, Loss: 0.2272\n",
            "Epoch 6, Loss: 0.2265\n",
            "Epoch 7, Loss: 0.2258\n",
            "Epoch 8, Loss: 0.2251\n",
            "Epoch 9, Loss: 0.2244\n"
          ]
        }
      ]
    },
    {
      "cell_type": "code",
      "source": [
        "mlp.show()"
      ],
      "metadata": {
        "colab": {
          "base_uri": "https://localhost:8080/"
        },
        "id": "56OjiVm0NGEG",
        "outputId": "f3a42193-a380-49c6-e447-df32d5d19905"
      },
      "execution_count": null,
      "outputs": [
        {
          "output_type": "stream",
          "name": "stdout",
          "text": [
            "[[ 1.20228191  0.50065779  0.59938129 -1.29647051]\n",
            " [-0.79941266  1.10006422  0.09974703  0.50044226]\n",
            " [ 0.30069734  1.90042621  0.80001175 -1.19792242]]\n",
            "[ 0.68537874  0.79548495 -0.4963034  -0.72394704]\n",
            "[[-1.16640994]\n",
            " [-0.36586006]\n",
            " [ 0.31877878]\n",
            " [-1.97941166]]\n",
            "[-0.94663215]\n"
          ]
        }
      ]
    },
    {
      "cell_type": "code",
      "source": [
        "X1"
      ],
      "metadata": {
        "colab": {
          "base_uri": "https://localhost:8080/"
        },
        "id": "lznavU67XC3N",
        "outputId": "a2c7ac88-a664-42ce-eabf-e03c0074310a"
      },
      "execution_count": null,
      "outputs": [
        {
          "output_type": "execute_result",
          "data": {
            "text/plain": [
              "array([[-0.3, -0.4,  0.6],\n",
              "       [-0.1,  0.1, -0.3]])"
            ]
          },
          "metadata": {},
          "execution_count": 83
        }
      ]
    },
    {
      "cell_type": "code",
      "source": [
        "y1"
      ],
      "metadata": {
        "colab": {
          "base_uri": "https://localhost:8080/"
        },
        "id": "1slrbsPpXKXE",
        "outputId": "2c08e905-cbad-4cec-b99f-999b63f71544"
      },
      "execution_count": null,
      "outputs": [
        {
          "output_type": "execute_result",
          "data": {
            "text/plain": [
              "array([[0.3],\n",
              "       [0.7]])"
            ]
          },
          "metadata": {},
          "execution_count": 84
        }
      ]
    }
  ]
}