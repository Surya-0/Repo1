{
 "cells": [
  {
   "cell_type": "code",
   "execution_count": 24,
   "id": "initial_id",
   "metadata": {
    "collapsed": true,
    "ExecuteTime": {
     "end_time": "2023-11-04T06:41:45.478610Z",
     "start_time": "2023-11-04T06:41:45.453005Z"
    }
   },
   "outputs": [
    {
     "name": "stdout",
     "output_type": "stream",
     "text": [
      "My name is  Jose\n"
     ]
    }
   ],
   "source": [
    "person = \"Jose\"\n",
    "print(\"My name is \", person)\n"
   ]
  },
  {
   "cell_type": "code",
   "execution_count": 25,
   "outputs": [
    {
     "name": "stdout",
     "output_type": "stream",
     "text": [
      "Today is  2023-11-04 00:00:00\n"
     ]
    }
   ],
   "source": [
    "from datetime import datetime\n",
    "today = datetime(year = 2023,month = 11,day = 4)\n",
    "print(\"Today is \", today)"
   ],
   "metadata": {
    "collapsed": false,
    "ExecuteTime": {
     "end_time": "2023-11-04T06:41:45.478824Z",
     "start_time": "2023-11-04T06:41:45.457746Z"
    }
   },
   "id": "895e7d26cc36868e"
  },
  {
   "cell_type": "code",
   "execution_count": 26,
   "outputs": [
    {
     "name": "stdout",
     "output_type": "stream",
     "text": [
      "2023-11-04 12:11:45.459648\n"
     ]
    }
   ],
   "source": [
    "today = datetime.today()\n",
    "print(today)"
   ],
   "metadata": {
    "collapsed": false,
    "ExecuteTime": {
     "end_time": "2023-11-04T06:41:45.478963Z",
     "start_time": "2023-11-04T06:41:45.460860Z"
    }
   },
   "id": "21f2d19e9b1a804b"
  },
  {
   "cell_type": "code",
   "execution_count": 27,
   "outputs": [
    {
     "name": "stdout",
     "output_type": "stream",
     "text": [
      "Overwriting test.txt\n"
     ]
    }
   ],
   "source": [
    "%%writefile test.txt \n",
    "Hello this is a quick  file test\n",
    "This is the second line of the file"
   ],
   "metadata": {
    "collapsed": false,
    "ExecuteTime": {
     "end_time": "2023-11-04T06:41:45.486567Z",
     "start_time": "2023-11-04T06:41:45.464219Z"
    }
   },
   "id": "9d6d7b8e0a026d6"
  },
  {
   "cell_type": "code",
   "execution_count": 28,
   "outputs": [
    {
     "name": "stdout",
     "output_type": "stream",
     "text": [
      "<_io.TextIOWrapper name='test.txt' mode='r' encoding='UTF-8'>\n",
      "<_io.TextIOWrapper name='/Users/surya/Documents/Surya/Git/Repo1/NLP/test.txt' mode='r' encoding='UTF-8'>\n"
     ]
    }
   ],
   "source": [
    "my_file = open('test.txt') # Using the file name in the same directory\n",
    "my_file2 = open('/Users/surya/Documents/Surya/Git/Repo1/NLP/test.txt') # Giving the entire file path \n",
    "print(my_file) \n",
    "print(my_file2) "
   ],
   "metadata": {
    "collapsed": false,
    "ExecuteTime": {
     "end_time": "2023-11-04T06:41:45.486822Z",
     "start_time": "2023-11-04T06:41:45.470627Z"
    }
   },
   "id": "7a4ad032a2e5b477"
  },
  {
   "cell_type": "code",
   "execution_count": 29,
   "outputs": [
    {
     "data": {
      "text/plain": "'Hello this is a quick  file test\\nThis is the second line of the file\\n'"
     },
     "execution_count": 29,
     "metadata": {},
     "output_type": "execute_result"
    }
   ],
   "source": [
    "my_file.read()"
   ],
   "metadata": {
    "collapsed": false,
    "ExecuteTime": {
     "end_time": "2023-11-04T06:41:45.489454Z",
     "start_time": "2023-11-04T06:41:45.476526Z"
    }
   },
   "id": "58796fdef5595a0b"
  },
  {
   "cell_type": "code",
   "execution_count": 30,
   "outputs": [
    {
     "data": {
      "text/plain": "''"
     },
     "execution_count": 30,
     "metadata": {},
     "output_type": "execute_result"
    }
   ],
   "source": [
    "my_file.read()"
   ],
   "metadata": {
    "collapsed": false,
    "ExecuteTime": {
     "end_time": "2023-11-04T06:41:45.489679Z",
     "start_time": "2023-11-04T06:41:45.480839Z"
    }
   },
   "id": "1d3248cdfdfa9c51"
  },
  {
   "cell_type": "code",
   "execution_count": 31,
   "outputs": [
    {
     "data": {
      "text/plain": "0"
     },
     "execution_count": 31,
     "metadata": {},
     "output_type": "execute_result"
    }
   ],
   "source": [
    "my_file.seek(0)"
   ],
   "metadata": {
    "collapsed": false,
    "ExecuteTime": {
     "end_time": "2023-11-04T06:41:45.491107Z",
     "start_time": "2023-11-04T06:41:45.484970Z"
    }
   },
   "id": "11128e2deed83081"
  },
  {
   "cell_type": "code",
   "execution_count": 32,
   "outputs": [
    {
     "name": "stdout",
     "output_type": "stream",
     "text": [
      "Hello this is a quick  file test\n",
      "This is the second line of the file\n"
     ]
    }
   ],
   "source": [
    "content = my_file.read()\n",
    "print(content)"
   ],
   "metadata": {
    "collapsed": false,
    "ExecuteTime": {
     "end_time": "2023-11-04T06:41:45.497928Z",
     "start_time": "2023-11-04T06:41:45.488121Z"
    }
   },
   "id": "daec10e9f99d9ef2"
  },
  {
   "cell_type": "code",
   "execution_count": 33,
   "outputs": [],
   "source": [
    "my_file.close()"
   ],
   "metadata": {
    "collapsed": false,
    "ExecuteTime": {
     "end_time": "2023-11-04T06:42:02.241801Z",
     "start_time": "2023-11-04T06:42:02.235496Z"
    }
   },
   "id": "9b2fdbe25f094bf0"
  },
  {
   "cell_type": "code",
   "execution_count": 34,
   "outputs": [
    {
     "data": {
      "text/plain": "['Hello this is a quick  file test\\n', 'This is the second line of the file\\n']"
     },
     "execution_count": 34,
     "metadata": {},
     "output_type": "execute_result"
    }
   ],
   "source": [
    "my_file2.readlines()"
   ],
   "metadata": {
    "collapsed": false,
    "ExecuteTime": {
     "end_time": "2023-11-04T06:42:25.265274Z",
     "start_time": "2023-11-04T06:42:25.257548Z"
    }
   },
   "id": "188c481c9df04ea6"
  },
  {
   "cell_type": "code",
   "execution_count": 35,
   "outputs": [
    {
     "name": "stdout",
     "output_type": "stream",
     "text": [
      "['Hello this is a quick  file test\\n', 'This is the second line of the file\\n']\n"
     ]
    }
   ],
   "source": [
    "my_file2.seek(0)\n",
    "content_2 = my_file2.readlines()\n",
    "print(content_2)"
   ],
   "metadata": {
    "collapsed": false,
    "ExecuteTime": {
     "end_time": "2023-11-04T06:43:12.027964Z",
     "start_time": "2023-11-04T06:43:12.024098Z"
    }
   },
   "id": "25d41e9cff99e1c8"
  },
  {
   "cell_type": "code",
   "execution_count": 39,
   "outputs": [
    {
     "name": "stdout",
     "output_type": "stream",
     "text": [
      "Hello this is a quick  file test\n",
      "\n",
      "['Hello', 'this', 'is', 'a', 'quick', 'file', 'test']\n",
      "Hello\n",
      "This is the second line of the file\n",
      "\n",
      "['This', 'is', 'the', 'second', 'line', 'of', 'the', 'file']\n",
      "This\n"
     ]
    }
   ],
   "source": [
    "for line in content_2:\n",
    "    print(line)\n",
    "    print(line.split())\n",
    "    print(line.split()[0])"
   ],
   "metadata": {
    "collapsed": false,
    "ExecuteTime": {
     "end_time": "2023-11-04T06:44:03.431352Z",
     "start_time": "2023-11-04T06:44:03.429597Z"
    }
   },
   "id": "9f97037d66524cd9"
  },
  {
   "cell_type": "code",
   "execution_count": 46,
   "outputs": [],
   "source": [
    "my_file2.close()"
   ],
   "metadata": {
    "collapsed": false,
    "ExecuteTime": {
     "end_time": "2023-11-04T06:50:50.185604Z",
     "start_time": "2023-11-04T06:50:50.181364Z"
    }
   },
   "id": "b06d254f1aa21000"
  },
  {
   "cell_type": "code",
   "execution_count": 40,
   "outputs": [
    {
     "data": {
      "text/plain": "''"
     },
     "execution_count": 40,
     "metadata": {},
     "output_type": "execute_result"
    }
   ],
   "source": [
    "my_file3 = open('test.txt',mode='w+') # It truncates the original file.So anything in the original file is overwritten or deleted.Use it with caution\n",
    "my_file3.read()"
   ],
   "metadata": {
    "collapsed": false,
    "ExecuteTime": {
     "end_time": "2023-11-04T06:48:21.102230Z",
     "start_time": "2023-11-04T06:48:21.099613Z"
    }
   },
   "id": "60162c66a4598c70"
  },
  {
   "cell_type": "code",
   "execution_count": 41,
   "outputs": [
    {
     "data": {
      "text/plain": "17"
     },
     "execution_count": 41,
     "metadata": {},
     "output_type": "execute_result"
    }
   ],
   "source": [
    "my_file3.write('My brand new text')"
   ],
   "metadata": {
    "collapsed": false,
    "ExecuteTime": {
     "end_time": "2023-11-04T06:48:36.596796Z",
     "start_time": "2023-11-04T06:48:36.587446Z"
    }
   },
   "id": "e2f4ffd56b28daba"
  },
  {
   "cell_type": "code",
   "execution_count": 42,
   "outputs": [
    {
     "data": {
      "text/plain": "0"
     },
     "execution_count": 42,
     "metadata": {},
     "output_type": "execute_result"
    }
   ],
   "source": [
    "my_file3.seek(0)"
   ],
   "metadata": {
    "collapsed": false,
    "ExecuteTime": {
     "end_time": "2023-11-04T06:48:47.569776Z",
     "start_time": "2023-11-04T06:48:47.552638Z"
    }
   },
   "id": "7314f90ca4bfe23d"
  },
  {
   "cell_type": "code",
   "execution_count": 43,
   "outputs": [
    {
     "data": {
      "text/plain": "'My brand new text'"
     },
     "execution_count": 43,
     "metadata": {},
     "output_type": "execute_result"
    }
   ],
   "source": [
    "my_file3.read()"
   ],
   "metadata": {
    "collapsed": false,
    "ExecuteTime": {
     "end_time": "2023-11-04T06:48:56.982658Z",
     "start_time": "2023-11-04T06:48:56.965215Z"
    }
   },
   "id": "79d2193c7bbb684f"
  },
  {
   "cell_type": "code",
   "execution_count": 45,
   "outputs": [],
   "source": [
    "my_file3.close()"
   ],
   "metadata": {
    "collapsed": false,
    "ExecuteTime": {
     "end_time": "2023-11-04T06:50:38.217443Z",
     "start_time": "2023-11-04T06:50:38.215472Z"
    }
   },
   "id": "394356d7d6844eea"
  },
  {
   "cell_type": "code",
   "execution_count": 48,
   "outputs": [
    {
     "data": {
      "text/plain": "44"
     },
     "execution_count": 48,
     "metadata": {},
     "output_type": "execute_result"
    }
   ],
   "source": [
    "my_file4 = open('test.txt',mode='a+')\n",
    "my_file4.write(' This is some more text which I am adding in')"
   ],
   "metadata": {
    "collapsed": false,
    "ExecuteTime": {
     "end_time": "2023-11-04T06:51:35.238356Z",
     "start_time": "2023-11-04T06:51:35.235793Z"
    }
   },
   "id": "902b978ac30a15a3"
  },
  {
   "cell_type": "code",
   "execution_count": null,
   "outputs": [],
   "source": [],
   "metadata": {
    "collapsed": false
   },
   "id": "984ade953632acbc"
  }
 ],
 "metadata": {
  "kernelspec": {
   "display_name": "Python 3",
   "language": "python",
   "name": "python3"
  },
  "language_info": {
   "codemirror_mode": {
    "name": "ipython",
    "version": 2
   },
   "file_extension": ".py",
   "mimetype": "text/x-python",
   "name": "python",
   "nbconvert_exporter": "python",
   "pygments_lexer": "ipython2",
   "version": "2.7.6"
  }
 },
 "nbformat": 4,
 "nbformat_minor": 5
}
