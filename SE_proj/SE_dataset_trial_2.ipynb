{
 "cells": [
  {
   "cell_type": "code",
   "execution_count": 53,
   "id": "initial_id",
   "metadata": {
    "collapsed": true,
    "ExecuteTime": {
     "end_time": "2024-04-30T15:40:39.829472Z",
     "start_time": "2024-04-30T15:40:39.826808Z"
    }
   },
   "outputs": [],
   "source": [
    "import numpy as np\n",
    "import pandas as pd\n",
    "import matplotlib.pyplot as plt"
   ]
  },
  {
   "cell_type": "code",
   "execution_count": 106,
   "outputs": [],
   "source": [
    "olist_order_payments = pd.read_csv('Datasets/olist_order_payments_dataset.csv')\n",
    "\n",
    "olist_order_items = pd.read_csv('Datasets/olist_order_items_dataset.csv')\n",
    "\n",
    "olist_order_reviews = pd.read_csv('Datasets/olist_order_reviews_dataset.csv')\n",
    "\n",
    "olist_products = pd.read_csv('Datasets/olist_products_dataset.csv')\n",
    "\n",
    "olist_sellers = pd.read_csv('Datasets/olist_sellers_dataset.csv')\n",
    "\n",
    "olist_geolocation = pd.read_csv('Datasets/olist_geolocation_dataset.csv')\n",
    "\n",
    "olist_product_names = pd.read_csv('Datasets/product_category_name_translation.csv')\n",
    "\n",
    "olist_customers = pd.read_csv('Datasets/olist_customers_dataset.csv')\n",
    "\n",
    "olist_orders = pd.read_csv('Datasets/olist_orders_dataset.csv')"
   ],
   "metadata": {
    "collapsed": false,
    "ExecuteTime": {
     "end_time": "2024-04-30T16:57:33.378490Z",
     "start_time": "2024-04-30T16:57:32.398499Z"
    }
   },
   "id": "a2e4b41c679dd7d9"
  },
  {
   "cell_type": "code",
   "execution_count": 111,
   "outputs": [],
   "source": [
    "import pandas as pd\n",
    "from sklearn.model_selection import train_test_split\n",
    "from sklearn.linear_model import LinearRegression\n",
    "from sklearn.metrics import mean_squared_error"
   ],
   "metadata": {
    "collapsed": false,
    "ExecuteTime": {
     "end_time": "2024-04-30T17:05:00.349962Z",
     "start_time": "2024-04-30T17:04:59.578415Z"
    }
   },
   "id": "ef54b6913b01f7a"
  },
  {
   "cell_type": "code",
   "execution_count": 112,
   "outputs": [],
   "source": [
    "\n",
    "# Load the datasets\n",
    "df_items = pd.read_csv('Datasets/olist_order_items_dataset.csv')\n",
    "df_payments = pd.read_csv('Datasets/olist_order_payments_dataset.csv')\n",
    "\n",
    "# Merge the datasets on 'order_id'\n",
    "df = pd.merge(df_items, df_payments, on='order_id')\n",
    "\n",
    "# Preprocessing: Remove rows with missing values\n",
    "df = df.dropna()\n"
   ],
   "metadata": {
    "collapsed": false,
    "ExecuteTime": {
     "end_time": "2024-04-30T17:05:10.180930Z",
     "start_time": "2024-04-30T17:05:09.921137Z"
    }
   },
   "id": "3d1781699e9da193"
  },
  {
   "cell_type": "code",
   "execution_count": 114,
   "outputs": [
    {
     "data": {
      "text/plain": "                                order_id  order_item_id  \\\n0       00010242fe8c5a6d1ba2dd792cb16214              1   \n1       00018f77f2f0320c557190d7a144bdd3              1   \n2       000229ec398224ef6ca0657da4fc703e              1   \n3       00024acbcdf0a6daa1e931b038114c75              1   \n4       00042b26cf59d7ce69dfabb4e55b4fd9              1   \n...                                  ...            ...   \n117596  fffc94f6ce00a00581880bf54a75a037              1   \n117597  fffcd46ef2263f404302a634eb57f7eb              1   \n117598  fffce4705a9662cd70adb13d4a31832d              1   \n117599  fffe18544ffabc95dfada21779c9644f              1   \n117600  fffe41c64501cc87c801fd61db3f6244              1   \n\n                              product_id                         seller_id  \\\n0       4244733e06e7ecb4970a6e2683c13e61  48436dade18ac8b2bce089ec2a041202   \n1       e5f2d52b802189ee658865ca93d83a8f  dd7ddc04e1b6c2c614352b383efe2d36   \n2       c777355d18b72b67abbeef9df44fd0fd  5b51032eddd242adc84c38acab88f23d   \n3       7634da152a4610f1595efa32f14722fc  9d7a1d34a5052409006425275ba1c2b4   \n4       ac6c3623068f30de03045865e4e10089  df560393f3a51e74553ab94004ba5c87   \n...                                  ...                               ...   \n117596  4aa6014eceb682077f9dc4bffebc05b0  b8bc237ba3788b23da09c0f1f3a3288c   \n117597  32e07fd915822b0765e448c4dd74c828  f3c38ab652836d21de61fb8314b69182   \n117598  72a30483855e2eafc67aee5dc2560482  c3cfdc648177fdbbbb35635a37472c53   \n117599  9c422a519119dcad7575db5af1ba540e  2b3e4a2a3ea8e01938cabda2a3e5cc79   \n117600  350688d9dc1e75ff97be326363655e01  f7ccf836d21b2fb1de37564105216cc1   \n\n        shipping_limit_date   price  freight_value  payment_sequential  \\\n0       2017-09-19 09:45:35   58.90          13.29                   1   \n1       2017-05-03 11:05:13  239.90          19.93                   1   \n2       2018-01-18 14:48:30  199.00          17.87                   1   \n3       2018-08-15 10:10:18   12.99          12.79                   1   \n4       2017-02-13 13:57:51  199.90          18.14                   1   \n...                     ...     ...            ...                 ...   \n117596  2018-05-02 04:11:01  299.99          43.41                   1   \n117597  2018-07-20 04:31:48  350.00          36.53                   1   \n117598  2017-10-30 17:14:25   99.90          16.95                   1   \n117599  2017-08-21 00:04:32   55.99           8.72                   1   \n117600  2018-06-12 17:10:13   43.00          12.79                   1   \n\n       payment_type  payment_installments  payment_value  \n0       credit_card                     2          72.19  \n1       credit_card                     3         259.83  \n2       credit_card                     5         216.87  \n3       credit_card                     2          25.78  \n4       credit_card                     3         218.04  \n...             ...                   ...            ...  \n117596       boleto                     1         343.40  \n117597       boleto                     1         386.53  \n117598  credit_card                     3         116.85  \n117599  credit_card                     3          64.71  \n117600  credit_card                     1          55.79  \n\n[117601 rows x 11 columns]",
      "text/html": "<div>\n<style scoped>\n    .dataframe tbody tr th:only-of-type {\n        vertical-align: middle;\n    }\n\n    .dataframe tbody tr th {\n        vertical-align: top;\n    }\n\n    .dataframe thead th {\n        text-align: right;\n    }\n</style>\n<table border=\"1\" class=\"dataframe\">\n  <thead>\n    <tr style=\"text-align: right;\">\n      <th></th>\n      <th>order_id</th>\n      <th>order_item_id</th>\n      <th>product_id</th>\n      <th>seller_id</th>\n      <th>shipping_limit_date</th>\n      <th>price</th>\n      <th>freight_value</th>\n      <th>payment_sequential</th>\n      <th>payment_type</th>\n      <th>payment_installments</th>\n      <th>payment_value</th>\n    </tr>\n  </thead>\n  <tbody>\n    <tr>\n      <th>0</th>\n      <td>00010242fe8c5a6d1ba2dd792cb16214</td>\n      <td>1</td>\n      <td>4244733e06e7ecb4970a6e2683c13e61</td>\n      <td>48436dade18ac8b2bce089ec2a041202</td>\n      <td>2017-09-19 09:45:35</td>\n      <td>58.90</td>\n      <td>13.29</td>\n      <td>1</td>\n      <td>credit_card</td>\n      <td>2</td>\n      <td>72.19</td>\n    </tr>\n    <tr>\n      <th>1</th>\n      <td>00018f77f2f0320c557190d7a144bdd3</td>\n      <td>1</td>\n      <td>e5f2d52b802189ee658865ca93d83a8f</td>\n      <td>dd7ddc04e1b6c2c614352b383efe2d36</td>\n      <td>2017-05-03 11:05:13</td>\n      <td>239.90</td>\n      <td>19.93</td>\n      <td>1</td>\n      <td>credit_card</td>\n      <td>3</td>\n      <td>259.83</td>\n    </tr>\n    <tr>\n      <th>2</th>\n      <td>000229ec398224ef6ca0657da4fc703e</td>\n      <td>1</td>\n      <td>c777355d18b72b67abbeef9df44fd0fd</td>\n      <td>5b51032eddd242adc84c38acab88f23d</td>\n      <td>2018-01-18 14:48:30</td>\n      <td>199.00</td>\n      <td>17.87</td>\n      <td>1</td>\n      <td>credit_card</td>\n      <td>5</td>\n      <td>216.87</td>\n    </tr>\n    <tr>\n      <th>3</th>\n      <td>00024acbcdf0a6daa1e931b038114c75</td>\n      <td>1</td>\n      <td>7634da152a4610f1595efa32f14722fc</td>\n      <td>9d7a1d34a5052409006425275ba1c2b4</td>\n      <td>2018-08-15 10:10:18</td>\n      <td>12.99</td>\n      <td>12.79</td>\n      <td>1</td>\n      <td>credit_card</td>\n      <td>2</td>\n      <td>25.78</td>\n    </tr>\n    <tr>\n      <th>4</th>\n      <td>00042b26cf59d7ce69dfabb4e55b4fd9</td>\n      <td>1</td>\n      <td>ac6c3623068f30de03045865e4e10089</td>\n      <td>df560393f3a51e74553ab94004ba5c87</td>\n      <td>2017-02-13 13:57:51</td>\n      <td>199.90</td>\n      <td>18.14</td>\n      <td>1</td>\n      <td>credit_card</td>\n      <td>3</td>\n      <td>218.04</td>\n    </tr>\n    <tr>\n      <th>...</th>\n      <td>...</td>\n      <td>...</td>\n      <td>...</td>\n      <td>...</td>\n      <td>...</td>\n      <td>...</td>\n      <td>...</td>\n      <td>...</td>\n      <td>...</td>\n      <td>...</td>\n      <td>...</td>\n    </tr>\n    <tr>\n      <th>117596</th>\n      <td>fffc94f6ce00a00581880bf54a75a037</td>\n      <td>1</td>\n      <td>4aa6014eceb682077f9dc4bffebc05b0</td>\n      <td>b8bc237ba3788b23da09c0f1f3a3288c</td>\n      <td>2018-05-02 04:11:01</td>\n      <td>299.99</td>\n      <td>43.41</td>\n      <td>1</td>\n      <td>boleto</td>\n      <td>1</td>\n      <td>343.40</td>\n    </tr>\n    <tr>\n      <th>117597</th>\n      <td>fffcd46ef2263f404302a634eb57f7eb</td>\n      <td>1</td>\n      <td>32e07fd915822b0765e448c4dd74c828</td>\n      <td>f3c38ab652836d21de61fb8314b69182</td>\n      <td>2018-07-20 04:31:48</td>\n      <td>350.00</td>\n      <td>36.53</td>\n      <td>1</td>\n      <td>boleto</td>\n      <td>1</td>\n      <td>386.53</td>\n    </tr>\n    <tr>\n      <th>117598</th>\n      <td>fffce4705a9662cd70adb13d4a31832d</td>\n      <td>1</td>\n      <td>72a30483855e2eafc67aee5dc2560482</td>\n      <td>c3cfdc648177fdbbbb35635a37472c53</td>\n      <td>2017-10-30 17:14:25</td>\n      <td>99.90</td>\n      <td>16.95</td>\n      <td>1</td>\n      <td>credit_card</td>\n      <td>3</td>\n      <td>116.85</td>\n    </tr>\n    <tr>\n      <th>117599</th>\n      <td>fffe18544ffabc95dfada21779c9644f</td>\n      <td>1</td>\n      <td>9c422a519119dcad7575db5af1ba540e</td>\n      <td>2b3e4a2a3ea8e01938cabda2a3e5cc79</td>\n      <td>2017-08-21 00:04:32</td>\n      <td>55.99</td>\n      <td>8.72</td>\n      <td>1</td>\n      <td>credit_card</td>\n      <td>3</td>\n      <td>64.71</td>\n    </tr>\n    <tr>\n      <th>117600</th>\n      <td>fffe41c64501cc87c801fd61db3f6244</td>\n      <td>1</td>\n      <td>350688d9dc1e75ff97be326363655e01</td>\n      <td>f7ccf836d21b2fb1de37564105216cc1</td>\n      <td>2018-06-12 17:10:13</td>\n      <td>43.00</td>\n      <td>12.79</td>\n      <td>1</td>\n      <td>credit_card</td>\n      <td>1</td>\n      <td>55.79</td>\n    </tr>\n  </tbody>\n</table>\n<p>117601 rows × 11 columns</p>\n</div>"
     },
     "execution_count": 114,
     "metadata": {},
     "output_type": "execute_result"
    }
   ],
   "source": [
    "df"
   ],
   "metadata": {
    "collapsed": false,
    "ExecuteTime": {
     "end_time": "2024-04-30T17:05:47.777341Z",
     "start_time": "2024-04-30T17:05:47.758929Z"
    }
   },
   "id": "e177075b61318418"
  },
  {
   "cell_type": "code",
   "execution_count": null,
   "outputs": [],
   "source": [
    "# Feature Selection: Select only the features that will be used to train the model\n",
    "features = ['payment_sequential', 'payment_installments', 'payment_value']\n",
    "target = 'price'\n",
    "X = df[features]\n",
    "y = df[target]\n",
    "\n",
    "# Split the data into training and testing sets\n",
    "X_train, X_test, y_train, y_test = train_test_split(X, y, test_size=0.2, random_state=42)\n",
    "\n",
    "# Model Selection: Choose a model\n",
    "model = LinearRegression()\n",
    "\n",
    "# Model Training: Train the model on the data\n",
    "model.fit(X_train, y_train)\n",
    "\n",
    "# Model Evaluation: Test the model on the test data\n",
    "y_pred = model.predict(X_test)\n",
    "mse = mean_squared_error(y_test, y_pred)\n",
    "print(f'Mean Squared Error: {mse}')\n",
    "\n",
    "# Model Optimization: In this case, we're using a simple model (linear regression) that doesn't have any parameters to tune. \n",
    "# If you were using a more complex model, this is where you would try to optimize its parameters to improve performance."
   ],
   "metadata": {
    "collapsed": false
   },
   "id": "327598d07361375e"
  },
  {
   "cell_type": "code",
   "execution_count": 115,
   "outputs": [
    {
     "data": {
      "text/plain": "                             product_id              product_category_name  \\\n0      1e9e8ef04dbcff4541ed26657ea517e5                         perfumaria   \n1      3aa071139cb16b67ca9e5dea641aaa2f                              artes   \n2      96bd76ec8810374ed1b65e291975717f                      esporte_lazer   \n3      cef67bcfe19066a932b7673e239eb23d                              bebes   \n4      9dc1a7de274444849c219cff195d0b71              utilidades_domesticas   \n...                                 ...                                ...   \n32946  a0b7d5a992ccda646f2d34e418fff5a0                   moveis_decoracao   \n32947  bf4538d88321d0fd4412a93c974510e6  construcao_ferramentas_iluminacao   \n32948  9a7c6041fa9592d9d9ef6cfe62a71f8c                    cama_mesa_banho   \n32949  83808703fc0706a22e264b9d75f04a2e             informatica_acessorios   \n32950  106392145fca363410d287a815be6de4                    cama_mesa_banho   \n\n       product_name_lenght  product_description_lenght  product_photos_qty  \\\n0                     40.0                       287.0                 1.0   \n1                     44.0                       276.0                 1.0   \n2                     46.0                       250.0                 1.0   \n3                     27.0                       261.0                 1.0   \n4                     37.0                       402.0                 4.0   \n...                    ...                         ...                 ...   \n32946                 45.0                        67.0                 2.0   \n32947                 41.0                       971.0                 1.0   \n32948                 50.0                       799.0                 1.0   \n32949                 60.0                       156.0                 2.0   \n32950                 58.0                       309.0                 1.0   \n\n       product_weight_g  product_length_cm  product_height_cm  \\\n0                 225.0               16.0               10.0   \n1                1000.0               30.0               18.0   \n2                 154.0               18.0                9.0   \n3                 371.0               26.0                4.0   \n4                 625.0               20.0               17.0   \n...                 ...                ...                ...   \n32946           12300.0               40.0               40.0   \n32947            1700.0               16.0               19.0   \n32948            1400.0               27.0                7.0   \n32949             700.0               31.0               13.0   \n32950            2083.0               12.0                2.0   \n\n       product_width_cm  \n0                  14.0  \n1                  20.0  \n2                  15.0  \n3                  26.0  \n4                  13.0  \n...                 ...  \n32946              40.0  \n32947              16.0  \n32948              27.0  \n32949              20.0  \n32950               7.0  \n\n[32951 rows x 9 columns]",
      "text/html": "<div>\n<style scoped>\n    .dataframe tbody tr th:only-of-type {\n        vertical-align: middle;\n    }\n\n    .dataframe tbody tr th {\n        vertical-align: top;\n    }\n\n    .dataframe thead th {\n        text-align: right;\n    }\n</style>\n<table border=\"1\" class=\"dataframe\">\n  <thead>\n    <tr style=\"text-align: right;\">\n      <th></th>\n      <th>product_id</th>\n      <th>product_category_name</th>\n      <th>product_name_lenght</th>\n      <th>product_description_lenght</th>\n      <th>product_photos_qty</th>\n      <th>product_weight_g</th>\n      <th>product_length_cm</th>\n      <th>product_height_cm</th>\n      <th>product_width_cm</th>\n    </tr>\n  </thead>\n  <tbody>\n    <tr>\n      <th>0</th>\n      <td>1e9e8ef04dbcff4541ed26657ea517e5</td>\n      <td>perfumaria</td>\n      <td>40.0</td>\n      <td>287.0</td>\n      <td>1.0</td>\n      <td>225.0</td>\n      <td>16.0</td>\n      <td>10.0</td>\n      <td>14.0</td>\n    </tr>\n    <tr>\n      <th>1</th>\n      <td>3aa071139cb16b67ca9e5dea641aaa2f</td>\n      <td>artes</td>\n      <td>44.0</td>\n      <td>276.0</td>\n      <td>1.0</td>\n      <td>1000.0</td>\n      <td>30.0</td>\n      <td>18.0</td>\n      <td>20.0</td>\n    </tr>\n    <tr>\n      <th>2</th>\n      <td>96bd76ec8810374ed1b65e291975717f</td>\n      <td>esporte_lazer</td>\n      <td>46.0</td>\n      <td>250.0</td>\n      <td>1.0</td>\n      <td>154.0</td>\n      <td>18.0</td>\n      <td>9.0</td>\n      <td>15.0</td>\n    </tr>\n    <tr>\n      <th>3</th>\n      <td>cef67bcfe19066a932b7673e239eb23d</td>\n      <td>bebes</td>\n      <td>27.0</td>\n      <td>261.0</td>\n      <td>1.0</td>\n      <td>371.0</td>\n      <td>26.0</td>\n      <td>4.0</td>\n      <td>26.0</td>\n    </tr>\n    <tr>\n      <th>4</th>\n      <td>9dc1a7de274444849c219cff195d0b71</td>\n      <td>utilidades_domesticas</td>\n      <td>37.0</td>\n      <td>402.0</td>\n      <td>4.0</td>\n      <td>625.0</td>\n      <td>20.0</td>\n      <td>17.0</td>\n      <td>13.0</td>\n    </tr>\n    <tr>\n      <th>...</th>\n      <td>...</td>\n      <td>...</td>\n      <td>...</td>\n      <td>...</td>\n      <td>...</td>\n      <td>...</td>\n      <td>...</td>\n      <td>...</td>\n      <td>...</td>\n    </tr>\n    <tr>\n      <th>32946</th>\n      <td>a0b7d5a992ccda646f2d34e418fff5a0</td>\n      <td>moveis_decoracao</td>\n      <td>45.0</td>\n      <td>67.0</td>\n      <td>2.0</td>\n      <td>12300.0</td>\n      <td>40.0</td>\n      <td>40.0</td>\n      <td>40.0</td>\n    </tr>\n    <tr>\n      <th>32947</th>\n      <td>bf4538d88321d0fd4412a93c974510e6</td>\n      <td>construcao_ferramentas_iluminacao</td>\n      <td>41.0</td>\n      <td>971.0</td>\n      <td>1.0</td>\n      <td>1700.0</td>\n      <td>16.0</td>\n      <td>19.0</td>\n      <td>16.0</td>\n    </tr>\n    <tr>\n      <th>32948</th>\n      <td>9a7c6041fa9592d9d9ef6cfe62a71f8c</td>\n      <td>cama_mesa_banho</td>\n      <td>50.0</td>\n      <td>799.0</td>\n      <td>1.0</td>\n      <td>1400.0</td>\n      <td>27.0</td>\n      <td>7.0</td>\n      <td>27.0</td>\n    </tr>\n    <tr>\n      <th>32949</th>\n      <td>83808703fc0706a22e264b9d75f04a2e</td>\n      <td>informatica_acessorios</td>\n      <td>60.0</td>\n      <td>156.0</td>\n      <td>2.0</td>\n      <td>700.0</td>\n      <td>31.0</td>\n      <td>13.0</td>\n      <td>20.0</td>\n    </tr>\n    <tr>\n      <th>32950</th>\n      <td>106392145fca363410d287a815be6de4</td>\n      <td>cama_mesa_banho</td>\n      <td>58.0</td>\n      <td>309.0</td>\n      <td>1.0</td>\n      <td>2083.0</td>\n      <td>12.0</td>\n      <td>2.0</td>\n      <td>7.0</td>\n    </tr>\n  </tbody>\n</table>\n<p>32951 rows × 9 columns</p>\n</div>"
     },
     "execution_count": 115,
     "metadata": {},
     "output_type": "execute_result"
    }
   ],
   "source": [
    "olist_products"
   ],
   "metadata": {
    "collapsed": false,
    "ExecuteTime": {
     "end_time": "2024-04-30T17:13:56.108486Z",
     "start_time": "2024-04-30T17:13:56.088086Z"
    }
   },
   "id": "253f1c48c9e1b56e"
  },
  {
   "cell_type": "code",
   "execution_count": 116,
   "outputs": [
    {
     "data": {
      "text/plain": "                                order_id  payment_sequential payment_type  \\\n0       b81ef226f3fe1789b1e8b2acac839d17                   1  credit_card   \n1       a9810da82917af2d9aefd1278f1dcfa0                   1  credit_card   \n2       25e8ea4e93396b6fa0d3dd708e76c1bd                   1  credit_card   \n3       ba78997921bbcdc1373bb41e913ab953                   1  credit_card   \n4       42fdf880ba16b47b59251dd489d4441a                   1  credit_card   \n...                                  ...                 ...          ...   \n103881  0406037ad97740d563a178ecc7a2075c                   1       boleto   \n103882  7b905861d7c825891d6347454ea7863f                   1  credit_card   \n103883  32609bbb3dd69b3c066a6860554a77bf                   1  credit_card   \n103884  b8b61059626efa996a60be9bb9320e10                   1  credit_card   \n103885  28bbae6599b09d39ca406b747b6632b1                   1       boleto   \n\n        payment_installments  payment_value  \n0                          8          99.33  \n1                          1          24.39  \n2                          1          65.71  \n3                          8         107.78  \n4                          2         128.45  \n...                      ...            ...  \n103881                     1         363.31  \n103882                     2          96.80  \n103883                     1          47.77  \n103884                     5         369.54  \n103885                     1         191.58  \n\n[103886 rows x 5 columns]",
      "text/html": "<div>\n<style scoped>\n    .dataframe tbody tr th:only-of-type {\n        vertical-align: middle;\n    }\n\n    .dataframe tbody tr th {\n        vertical-align: top;\n    }\n\n    .dataframe thead th {\n        text-align: right;\n    }\n</style>\n<table border=\"1\" class=\"dataframe\">\n  <thead>\n    <tr style=\"text-align: right;\">\n      <th></th>\n      <th>order_id</th>\n      <th>payment_sequential</th>\n      <th>payment_type</th>\n      <th>payment_installments</th>\n      <th>payment_value</th>\n    </tr>\n  </thead>\n  <tbody>\n    <tr>\n      <th>0</th>\n      <td>b81ef226f3fe1789b1e8b2acac839d17</td>\n      <td>1</td>\n      <td>credit_card</td>\n      <td>8</td>\n      <td>99.33</td>\n    </tr>\n    <tr>\n      <th>1</th>\n      <td>a9810da82917af2d9aefd1278f1dcfa0</td>\n      <td>1</td>\n      <td>credit_card</td>\n      <td>1</td>\n      <td>24.39</td>\n    </tr>\n    <tr>\n      <th>2</th>\n      <td>25e8ea4e93396b6fa0d3dd708e76c1bd</td>\n      <td>1</td>\n      <td>credit_card</td>\n      <td>1</td>\n      <td>65.71</td>\n    </tr>\n    <tr>\n      <th>3</th>\n      <td>ba78997921bbcdc1373bb41e913ab953</td>\n      <td>1</td>\n      <td>credit_card</td>\n      <td>8</td>\n      <td>107.78</td>\n    </tr>\n    <tr>\n      <th>4</th>\n      <td>42fdf880ba16b47b59251dd489d4441a</td>\n      <td>1</td>\n      <td>credit_card</td>\n      <td>2</td>\n      <td>128.45</td>\n    </tr>\n    <tr>\n      <th>...</th>\n      <td>...</td>\n      <td>...</td>\n      <td>...</td>\n      <td>...</td>\n      <td>...</td>\n    </tr>\n    <tr>\n      <th>103881</th>\n      <td>0406037ad97740d563a178ecc7a2075c</td>\n      <td>1</td>\n      <td>boleto</td>\n      <td>1</td>\n      <td>363.31</td>\n    </tr>\n    <tr>\n      <th>103882</th>\n      <td>7b905861d7c825891d6347454ea7863f</td>\n      <td>1</td>\n      <td>credit_card</td>\n      <td>2</td>\n      <td>96.80</td>\n    </tr>\n    <tr>\n      <th>103883</th>\n      <td>32609bbb3dd69b3c066a6860554a77bf</td>\n      <td>1</td>\n      <td>credit_card</td>\n      <td>1</td>\n      <td>47.77</td>\n    </tr>\n    <tr>\n      <th>103884</th>\n      <td>b8b61059626efa996a60be9bb9320e10</td>\n      <td>1</td>\n      <td>credit_card</td>\n      <td>5</td>\n      <td>369.54</td>\n    </tr>\n    <tr>\n      <th>103885</th>\n      <td>28bbae6599b09d39ca406b747b6632b1</td>\n      <td>1</td>\n      <td>boleto</td>\n      <td>1</td>\n      <td>191.58</td>\n    </tr>\n  </tbody>\n</table>\n<p>103886 rows × 5 columns</p>\n</div>"
     },
     "execution_count": 116,
     "metadata": {},
     "output_type": "execute_result"
    }
   ],
   "source": [
    "olist_order_payments"
   ],
   "metadata": {
    "collapsed": false,
    "ExecuteTime": {
     "end_time": "2024-04-30T17:14:09.216384Z",
     "start_time": "2024-04-30T17:14:09.212421Z"
    }
   },
   "id": "9f8d9d14525f498b"
  },
  {
   "cell_type": "code",
   "execution_count": 118,
   "outputs": [
    {
     "data": {
      "text/plain": "                                order_id  order_item_id  \\\n0       00010242fe8c5a6d1ba2dd792cb16214              1   \n1       00018f77f2f0320c557190d7a144bdd3              1   \n2       000229ec398224ef6ca0657da4fc703e              1   \n3       00024acbcdf0a6daa1e931b038114c75              1   \n4       00042b26cf59d7ce69dfabb4e55b4fd9              1   \n...                                  ...            ...   \n112645  fffc94f6ce00a00581880bf54a75a037              1   \n112646  fffcd46ef2263f404302a634eb57f7eb              1   \n112647  fffce4705a9662cd70adb13d4a31832d              1   \n112648  fffe18544ffabc95dfada21779c9644f              1   \n112649  fffe41c64501cc87c801fd61db3f6244              1   \n\n                              product_id                         seller_id  \\\n0       4244733e06e7ecb4970a6e2683c13e61  48436dade18ac8b2bce089ec2a041202   \n1       e5f2d52b802189ee658865ca93d83a8f  dd7ddc04e1b6c2c614352b383efe2d36   \n2       c777355d18b72b67abbeef9df44fd0fd  5b51032eddd242adc84c38acab88f23d   \n3       7634da152a4610f1595efa32f14722fc  9d7a1d34a5052409006425275ba1c2b4   \n4       ac6c3623068f30de03045865e4e10089  df560393f3a51e74553ab94004ba5c87   \n...                                  ...                               ...   \n112645  4aa6014eceb682077f9dc4bffebc05b0  b8bc237ba3788b23da09c0f1f3a3288c   \n112646  32e07fd915822b0765e448c4dd74c828  f3c38ab652836d21de61fb8314b69182   \n112647  72a30483855e2eafc67aee5dc2560482  c3cfdc648177fdbbbb35635a37472c53   \n112648  9c422a519119dcad7575db5af1ba540e  2b3e4a2a3ea8e01938cabda2a3e5cc79   \n112649  350688d9dc1e75ff97be326363655e01  f7ccf836d21b2fb1de37564105216cc1   \n\n        shipping_limit_date   price  freight_value  \n0       2017-09-19 09:45:35   58.90          13.29  \n1       2017-05-03 11:05:13  239.90          19.93  \n2       2018-01-18 14:48:30  199.00          17.87  \n3       2018-08-15 10:10:18   12.99          12.79  \n4       2017-02-13 13:57:51  199.90          18.14  \n...                     ...     ...            ...  \n112645  2018-05-02 04:11:01  299.99          43.41  \n112646  2018-07-20 04:31:48  350.00          36.53  \n112647  2017-10-30 17:14:25   99.90          16.95  \n112648  2017-08-21 00:04:32   55.99           8.72  \n112649  2018-06-12 17:10:13   43.00          12.79  \n\n[112650 rows x 7 columns]",
      "text/html": "<div>\n<style scoped>\n    .dataframe tbody tr th:only-of-type {\n        vertical-align: middle;\n    }\n\n    .dataframe tbody tr th {\n        vertical-align: top;\n    }\n\n    .dataframe thead th {\n        text-align: right;\n    }\n</style>\n<table border=\"1\" class=\"dataframe\">\n  <thead>\n    <tr style=\"text-align: right;\">\n      <th></th>\n      <th>order_id</th>\n      <th>order_item_id</th>\n      <th>product_id</th>\n      <th>seller_id</th>\n      <th>shipping_limit_date</th>\n      <th>price</th>\n      <th>freight_value</th>\n    </tr>\n  </thead>\n  <tbody>\n    <tr>\n      <th>0</th>\n      <td>00010242fe8c5a6d1ba2dd792cb16214</td>\n      <td>1</td>\n      <td>4244733e06e7ecb4970a6e2683c13e61</td>\n      <td>48436dade18ac8b2bce089ec2a041202</td>\n      <td>2017-09-19 09:45:35</td>\n      <td>58.90</td>\n      <td>13.29</td>\n    </tr>\n    <tr>\n      <th>1</th>\n      <td>00018f77f2f0320c557190d7a144bdd3</td>\n      <td>1</td>\n      <td>e5f2d52b802189ee658865ca93d83a8f</td>\n      <td>dd7ddc04e1b6c2c614352b383efe2d36</td>\n      <td>2017-05-03 11:05:13</td>\n      <td>239.90</td>\n      <td>19.93</td>\n    </tr>\n    <tr>\n      <th>2</th>\n      <td>000229ec398224ef6ca0657da4fc703e</td>\n      <td>1</td>\n      <td>c777355d18b72b67abbeef9df44fd0fd</td>\n      <td>5b51032eddd242adc84c38acab88f23d</td>\n      <td>2018-01-18 14:48:30</td>\n      <td>199.00</td>\n      <td>17.87</td>\n    </tr>\n    <tr>\n      <th>3</th>\n      <td>00024acbcdf0a6daa1e931b038114c75</td>\n      <td>1</td>\n      <td>7634da152a4610f1595efa32f14722fc</td>\n      <td>9d7a1d34a5052409006425275ba1c2b4</td>\n      <td>2018-08-15 10:10:18</td>\n      <td>12.99</td>\n      <td>12.79</td>\n    </tr>\n    <tr>\n      <th>4</th>\n      <td>00042b26cf59d7ce69dfabb4e55b4fd9</td>\n      <td>1</td>\n      <td>ac6c3623068f30de03045865e4e10089</td>\n      <td>df560393f3a51e74553ab94004ba5c87</td>\n      <td>2017-02-13 13:57:51</td>\n      <td>199.90</td>\n      <td>18.14</td>\n    </tr>\n    <tr>\n      <th>...</th>\n      <td>...</td>\n      <td>...</td>\n      <td>...</td>\n      <td>...</td>\n      <td>...</td>\n      <td>...</td>\n      <td>...</td>\n    </tr>\n    <tr>\n      <th>112645</th>\n      <td>fffc94f6ce00a00581880bf54a75a037</td>\n      <td>1</td>\n      <td>4aa6014eceb682077f9dc4bffebc05b0</td>\n      <td>b8bc237ba3788b23da09c0f1f3a3288c</td>\n      <td>2018-05-02 04:11:01</td>\n      <td>299.99</td>\n      <td>43.41</td>\n    </tr>\n    <tr>\n      <th>112646</th>\n      <td>fffcd46ef2263f404302a634eb57f7eb</td>\n      <td>1</td>\n      <td>32e07fd915822b0765e448c4dd74c828</td>\n      <td>f3c38ab652836d21de61fb8314b69182</td>\n      <td>2018-07-20 04:31:48</td>\n      <td>350.00</td>\n      <td>36.53</td>\n    </tr>\n    <tr>\n      <th>112647</th>\n      <td>fffce4705a9662cd70adb13d4a31832d</td>\n      <td>1</td>\n      <td>72a30483855e2eafc67aee5dc2560482</td>\n      <td>c3cfdc648177fdbbbb35635a37472c53</td>\n      <td>2017-10-30 17:14:25</td>\n      <td>99.90</td>\n      <td>16.95</td>\n    </tr>\n    <tr>\n      <th>112648</th>\n      <td>fffe18544ffabc95dfada21779c9644f</td>\n      <td>1</td>\n      <td>9c422a519119dcad7575db5af1ba540e</td>\n      <td>2b3e4a2a3ea8e01938cabda2a3e5cc79</td>\n      <td>2017-08-21 00:04:32</td>\n      <td>55.99</td>\n      <td>8.72</td>\n    </tr>\n    <tr>\n      <th>112649</th>\n      <td>fffe41c64501cc87c801fd61db3f6244</td>\n      <td>1</td>\n      <td>350688d9dc1e75ff97be326363655e01</td>\n      <td>f7ccf836d21b2fb1de37564105216cc1</td>\n      <td>2018-06-12 17:10:13</td>\n      <td>43.00</td>\n      <td>12.79</td>\n    </tr>\n  </tbody>\n</table>\n<p>112650 rows × 7 columns</p>\n</div>"
     },
     "execution_count": 118,
     "metadata": {},
     "output_type": "execute_result"
    }
   ],
   "source": [
    "olist_order_items"
   ],
   "metadata": {
    "collapsed": false,
    "ExecuteTime": {
     "end_time": "2024-04-30T17:16:11.435438Z",
     "start_time": "2024-04-30T17:16:11.426478Z"
    }
   },
   "id": "1c6c1d0dac4a3f16"
  },
  {
   "cell_type": "code",
   "execution_count": 124,
   "outputs": [
    {
     "data": {
      "text/plain": "                                order_id  order_item_id  \\\n14      0008288aa423d2a3f00fcb17cd7d8719              2   \n33      00143d0f86d6fbd9f9b38ab440ac16f5              2   \n34      00143d0f86d6fbd9f9b38ab440ac16f5              3   \n41      0019c29108428acffd089c36103c9440              1   \n43      001ab0a7578dd66cd4b0a71f5b6e1e41              2   \n...                                  ...            ...   \n112644  fffbee3b5462987e66fb49b1c5411df2              1   \n112645  fffc94f6ce00a00581880bf54a75a037              1   \n112646  fffcd46ef2263f404302a634eb57f7eb              1   \n112647  fffce4705a9662cd70adb13d4a31832d              1   \n112648  fffe18544ffabc95dfada21779c9644f              1   \n\n                              product_id                         seller_id  \\\n14      368c6c730842d78016ad823897a372db  1f50f920176fa81dab994f9023523100   \n33      e95ee6822b66ac6058e2e4aff656071a  a17f621c590ea0fab3d5d883e1630ec6   \n34      e95ee6822b66ac6058e2e4aff656071a  a17f621c590ea0fab3d5d883e1630ec6   \n41      28b4eced95a52d9c437a4caf9d311b95  77530e9772f57a62c906e1c21538ab82   \n43      0b0172eb0fd18479d29c3bc122c058c2  5656537e588803a555b8eb41f07a944b   \n...                                  ...                               ...   \n112644  6f0169f259bb0ff432bfff7d829b9946  213b25e6f54661939f11710a6fddb871   \n112645  4aa6014eceb682077f9dc4bffebc05b0  b8bc237ba3788b23da09c0f1f3a3288c   \n112646  32e07fd915822b0765e448c4dd74c828  f3c38ab652836d21de61fb8314b69182   \n112647  72a30483855e2eafc67aee5dc2560482  c3cfdc648177fdbbbb35635a37472c53   \n112648  9c422a519119dcad7575db5af1ba540e  2b3e4a2a3ea8e01938cabda2a3e5cc79   \n\n        shipping_limit_date   price  freight_value  \n14      2018-02-21 02:55:52   49.90          13.37  \n33      2017-10-20 16:07:52   21.33          15.10  \n34      2017-10-20 16:07:52   21.33          15.10  \n41      2018-03-12 06:50:26   59.90          19.95  \n43      2018-01-04 02:33:42   24.89          17.63  \n...                     ...     ...            ...  \n112644  2018-06-28 09:58:03  119.85          20.03  \n112645  2018-05-02 04:11:01  299.99          43.41  \n112646  2018-07-20 04:31:48  350.00          36.53  \n112647  2017-10-30 17:14:25   99.90          16.95  \n112648  2017-08-21 00:04:32   55.99           8.72  \n\n[79699 rows x 7 columns]",
      "text/html": "<div>\n<style scoped>\n    .dataframe tbody tr th:only-of-type {\n        vertical-align: middle;\n    }\n\n    .dataframe tbody tr th {\n        vertical-align: top;\n    }\n\n    .dataframe thead th {\n        text-align: right;\n    }\n</style>\n<table border=\"1\" class=\"dataframe\">\n  <thead>\n    <tr style=\"text-align: right;\">\n      <th></th>\n      <th>order_id</th>\n      <th>order_item_id</th>\n      <th>product_id</th>\n      <th>seller_id</th>\n      <th>shipping_limit_date</th>\n      <th>price</th>\n      <th>freight_value</th>\n    </tr>\n  </thead>\n  <tbody>\n    <tr>\n      <th>14</th>\n      <td>0008288aa423d2a3f00fcb17cd7d8719</td>\n      <td>2</td>\n      <td>368c6c730842d78016ad823897a372db</td>\n      <td>1f50f920176fa81dab994f9023523100</td>\n      <td>2018-02-21 02:55:52</td>\n      <td>49.90</td>\n      <td>13.37</td>\n    </tr>\n    <tr>\n      <th>33</th>\n      <td>00143d0f86d6fbd9f9b38ab440ac16f5</td>\n      <td>2</td>\n      <td>e95ee6822b66ac6058e2e4aff656071a</td>\n      <td>a17f621c590ea0fab3d5d883e1630ec6</td>\n      <td>2017-10-20 16:07:52</td>\n      <td>21.33</td>\n      <td>15.10</td>\n    </tr>\n    <tr>\n      <th>34</th>\n      <td>00143d0f86d6fbd9f9b38ab440ac16f5</td>\n      <td>3</td>\n      <td>e95ee6822b66ac6058e2e4aff656071a</td>\n      <td>a17f621c590ea0fab3d5d883e1630ec6</td>\n      <td>2017-10-20 16:07:52</td>\n      <td>21.33</td>\n      <td>15.10</td>\n    </tr>\n    <tr>\n      <th>41</th>\n      <td>0019c29108428acffd089c36103c9440</td>\n      <td>1</td>\n      <td>28b4eced95a52d9c437a4caf9d311b95</td>\n      <td>77530e9772f57a62c906e1c21538ab82</td>\n      <td>2018-03-12 06:50:26</td>\n      <td>59.90</td>\n      <td>19.95</td>\n    </tr>\n    <tr>\n      <th>43</th>\n      <td>001ab0a7578dd66cd4b0a71f5b6e1e41</td>\n      <td>2</td>\n      <td>0b0172eb0fd18479d29c3bc122c058c2</td>\n      <td>5656537e588803a555b8eb41f07a944b</td>\n      <td>2018-01-04 02:33:42</td>\n      <td>24.89</td>\n      <td>17.63</td>\n    </tr>\n    <tr>\n      <th>...</th>\n      <td>...</td>\n      <td>...</td>\n      <td>...</td>\n      <td>...</td>\n      <td>...</td>\n      <td>...</td>\n      <td>...</td>\n    </tr>\n    <tr>\n      <th>112644</th>\n      <td>fffbee3b5462987e66fb49b1c5411df2</td>\n      <td>1</td>\n      <td>6f0169f259bb0ff432bfff7d829b9946</td>\n      <td>213b25e6f54661939f11710a6fddb871</td>\n      <td>2018-06-28 09:58:03</td>\n      <td>119.85</td>\n      <td>20.03</td>\n    </tr>\n    <tr>\n      <th>112645</th>\n      <td>fffc94f6ce00a00581880bf54a75a037</td>\n      <td>1</td>\n      <td>4aa6014eceb682077f9dc4bffebc05b0</td>\n      <td>b8bc237ba3788b23da09c0f1f3a3288c</td>\n      <td>2018-05-02 04:11:01</td>\n      <td>299.99</td>\n      <td>43.41</td>\n    </tr>\n    <tr>\n      <th>112646</th>\n      <td>fffcd46ef2263f404302a634eb57f7eb</td>\n      <td>1</td>\n      <td>32e07fd915822b0765e448c4dd74c828</td>\n      <td>f3c38ab652836d21de61fb8314b69182</td>\n      <td>2018-07-20 04:31:48</td>\n      <td>350.00</td>\n      <td>36.53</td>\n    </tr>\n    <tr>\n      <th>112647</th>\n      <td>fffce4705a9662cd70adb13d4a31832d</td>\n      <td>1</td>\n      <td>72a30483855e2eafc67aee5dc2560482</td>\n      <td>c3cfdc648177fdbbbb35635a37472c53</td>\n      <td>2017-10-30 17:14:25</td>\n      <td>99.90</td>\n      <td>16.95</td>\n    </tr>\n    <tr>\n      <th>112648</th>\n      <td>fffe18544ffabc95dfada21779c9644f</td>\n      <td>1</td>\n      <td>9c422a519119dcad7575db5af1ba540e</td>\n      <td>2b3e4a2a3ea8e01938cabda2a3e5cc79</td>\n      <td>2017-08-21 00:04:32</td>\n      <td>55.99</td>\n      <td>8.72</td>\n    </tr>\n  </tbody>\n</table>\n<p>79699 rows × 7 columns</p>\n</div>"
     },
     "execution_count": 124,
     "metadata": {},
     "output_type": "execute_result"
    }
   ],
   "source": [
    "olist_order_items[olist_order_items.duplicated(['product_id'])]"
   ],
   "metadata": {
    "collapsed": false,
    "ExecuteTime": {
     "end_time": "2024-04-30T17:17:40.626965Z",
     "start_time": "2024-04-30T17:17:40.600456Z"
    }
   },
   "id": "373d93c2cf6ba5e0"
  },
  {
   "cell_type": "code",
   "execution_count": 126,
   "outputs": [
    {
     "data": {
      "text/plain": "                                order_id  order_item_id  \\\n31      001427c0ec99cf8af737bd88e92fd444              1   \n41      0019c29108428acffd089c36103c9440              1   \n999     025321e4e9674e090b7bc101f9c5ab5a              1   \n8714    13ee50026b736b8311e25b3a7bd37f64              1   \n9941    16cef404b7d23cd7230ead9eed6b8594              1   \n17685   288ca6904834f3c53b074ca4cf8ea81b              1   \n21316   30c81e4049d16861db007699a31d9a5e              1   \n32268   491f5fabbd1c4d86ab4ae7a2024d7368              2   \n48375   6dfce09652603d20237e1bc7caf8fd38              1   \n48376   6dfce09652603d20237e1bc7caf8fd38              2   \n48377   6dfce09652603d20237e1bc7caf8fd38              3   \n48378   6dfce09652603d20237e1bc7caf8fd38              4   \n48379   6dfce09652603d20237e1bc7caf8fd38              5   \n56715   810866331b08e6226337a3b29fd8c980              1   \n59221   86f452af7e6c8314fa5b43b768eb9d0d              1   \n59920   887fd510f45be7bea78ff0a3b0b334e2              1   \n59922   8880e2d4468f5aae8e21b63115ce635f              1   \n81679   b9a3648dcf60f6b902216e563c539244              1   \n87107   c5cccafad5a52123e975462ad4e26f73              1   \n92982   d2d597f1ac91b8b64bec818c2f10bc14              1   \n95905   d9985b5e60fcad79a6e2eed78bafedf4              1   \n108322  f62ff18c0fc73a78ebd80d0d881abfcf              1   \n\n                              product_id                         seller_id  \\\n31      28b4eced95a52d9c437a4caf9d311b95  77530e9772f57a62c906e1c21538ab82   \n41      28b4eced95a52d9c437a4caf9d311b95  77530e9772f57a62c906e1c21538ab82   \n999     28b4eced95a52d9c437a4caf9d311b95  77530e9772f57a62c906e1c21538ab82   \n8714    28b4eced95a52d9c437a4caf9d311b95  77530e9772f57a62c906e1c21538ab82   \n9941    28b4eced95a52d9c437a4caf9d311b95  77530e9772f57a62c906e1c21538ab82   \n17685   28b4eced95a52d9c437a4caf9d311b95  77530e9772f57a62c906e1c21538ab82   \n21316   28b4eced95a52d9c437a4caf9d311b95  77530e9772f57a62c906e1c21538ab82   \n32268   28b4eced95a52d9c437a4caf9d311b95  77530e9772f57a62c906e1c21538ab82   \n48375   28b4eced95a52d9c437a4caf9d311b95  77530e9772f57a62c906e1c21538ab82   \n48376   28b4eced95a52d9c437a4caf9d311b95  77530e9772f57a62c906e1c21538ab82   \n48377   28b4eced95a52d9c437a4caf9d311b95  77530e9772f57a62c906e1c21538ab82   \n48378   28b4eced95a52d9c437a4caf9d311b95  77530e9772f57a62c906e1c21538ab82   \n48379   28b4eced95a52d9c437a4caf9d311b95  77530e9772f57a62c906e1c21538ab82   \n56715   28b4eced95a52d9c437a4caf9d311b95  77530e9772f57a62c906e1c21538ab82   \n59221   28b4eced95a52d9c437a4caf9d311b95  77530e9772f57a62c906e1c21538ab82   \n59920   28b4eced95a52d9c437a4caf9d311b95  77530e9772f57a62c906e1c21538ab82   \n59922   28b4eced95a52d9c437a4caf9d311b95  77530e9772f57a62c906e1c21538ab82   \n81679   28b4eced95a52d9c437a4caf9d311b95  77530e9772f57a62c906e1c21538ab82   \n87107   28b4eced95a52d9c437a4caf9d311b95  77530e9772f57a62c906e1c21538ab82   \n92982   28b4eced95a52d9c437a4caf9d311b95  77530e9772f57a62c906e1c21538ab82   \n95905   28b4eced95a52d9c437a4caf9d311b95  77530e9772f57a62c906e1c21538ab82   \n108322  28b4eced95a52d9c437a4caf9d311b95  77530e9772f57a62c906e1c21538ab82   \n\n        shipping_limit_date  price  freight_value  \n31      2018-04-12 19:08:28   59.9          23.35  \n41      2018-03-12 06:50:26   59.9          19.95  \n999     2017-06-26 22:10:14   59.9          50.92  \n8714    2018-04-25 02:31:38   59.9          16.39  \n9941    2018-03-26 19:15:34   59.9          21.33  \n17685   2018-05-02 22:55:19   59.9          24.55  \n21316   2018-02-22 17:05:26   59.9          16.99  \n32268   2018-01-22 03:50:24   59.9          17.06  \n48375   2018-05-10 03:31:20   59.9          19.39  \n48376   2018-05-10 03:31:20   59.9          19.39  \n48377   2018-05-10 03:31:20   59.9          19.39  \n48378   2018-05-10 03:31:20   59.9          19.39  \n48379   2018-05-10 03:31:20   59.9          19.39  \n56715   2017-11-13 15:46:36   59.9          18.96  \n59221   2018-07-23 14:03:01   59.9          19.61  \n59920   2018-03-26 11:49:59   59.9          16.39  \n59922   2018-02-21 20:06:37   59.9          18.96  \n81679   2018-04-23 21:55:19   59.9           5.54  \n87107   2018-05-08 22:16:49   59.9          20.47  \n92982   2018-05-21 17:21:32   59.9          19.39  \n95905   2018-01-05 15:05:24   59.9          16.99  \n108322  2018-06-13 23:52:37   59.9          16.36  ",
      "text/html": "<div>\n<style scoped>\n    .dataframe tbody tr th:only-of-type {\n        vertical-align: middle;\n    }\n\n    .dataframe tbody tr th {\n        vertical-align: top;\n    }\n\n    .dataframe thead th {\n        text-align: right;\n    }\n</style>\n<table border=\"1\" class=\"dataframe\">\n  <thead>\n    <tr style=\"text-align: right;\">\n      <th></th>\n      <th>order_id</th>\n      <th>order_item_id</th>\n      <th>product_id</th>\n      <th>seller_id</th>\n      <th>shipping_limit_date</th>\n      <th>price</th>\n      <th>freight_value</th>\n    </tr>\n  </thead>\n  <tbody>\n    <tr>\n      <th>31</th>\n      <td>001427c0ec99cf8af737bd88e92fd444</td>\n      <td>1</td>\n      <td>28b4eced95a52d9c437a4caf9d311b95</td>\n      <td>77530e9772f57a62c906e1c21538ab82</td>\n      <td>2018-04-12 19:08:28</td>\n      <td>59.9</td>\n      <td>23.35</td>\n    </tr>\n    <tr>\n      <th>41</th>\n      <td>0019c29108428acffd089c36103c9440</td>\n      <td>1</td>\n      <td>28b4eced95a52d9c437a4caf9d311b95</td>\n      <td>77530e9772f57a62c906e1c21538ab82</td>\n      <td>2018-03-12 06:50:26</td>\n      <td>59.9</td>\n      <td>19.95</td>\n    </tr>\n    <tr>\n      <th>999</th>\n      <td>025321e4e9674e090b7bc101f9c5ab5a</td>\n      <td>1</td>\n      <td>28b4eced95a52d9c437a4caf9d311b95</td>\n      <td>77530e9772f57a62c906e1c21538ab82</td>\n      <td>2017-06-26 22:10:14</td>\n      <td>59.9</td>\n      <td>50.92</td>\n    </tr>\n    <tr>\n      <th>8714</th>\n      <td>13ee50026b736b8311e25b3a7bd37f64</td>\n      <td>1</td>\n      <td>28b4eced95a52d9c437a4caf9d311b95</td>\n      <td>77530e9772f57a62c906e1c21538ab82</td>\n      <td>2018-04-25 02:31:38</td>\n      <td>59.9</td>\n      <td>16.39</td>\n    </tr>\n    <tr>\n      <th>9941</th>\n      <td>16cef404b7d23cd7230ead9eed6b8594</td>\n      <td>1</td>\n      <td>28b4eced95a52d9c437a4caf9d311b95</td>\n      <td>77530e9772f57a62c906e1c21538ab82</td>\n      <td>2018-03-26 19:15:34</td>\n      <td>59.9</td>\n      <td>21.33</td>\n    </tr>\n    <tr>\n      <th>17685</th>\n      <td>288ca6904834f3c53b074ca4cf8ea81b</td>\n      <td>1</td>\n      <td>28b4eced95a52d9c437a4caf9d311b95</td>\n      <td>77530e9772f57a62c906e1c21538ab82</td>\n      <td>2018-05-02 22:55:19</td>\n      <td>59.9</td>\n      <td>24.55</td>\n    </tr>\n    <tr>\n      <th>21316</th>\n      <td>30c81e4049d16861db007699a31d9a5e</td>\n      <td>1</td>\n      <td>28b4eced95a52d9c437a4caf9d311b95</td>\n      <td>77530e9772f57a62c906e1c21538ab82</td>\n      <td>2018-02-22 17:05:26</td>\n      <td>59.9</td>\n      <td>16.99</td>\n    </tr>\n    <tr>\n      <th>32268</th>\n      <td>491f5fabbd1c4d86ab4ae7a2024d7368</td>\n      <td>2</td>\n      <td>28b4eced95a52d9c437a4caf9d311b95</td>\n      <td>77530e9772f57a62c906e1c21538ab82</td>\n      <td>2018-01-22 03:50:24</td>\n      <td>59.9</td>\n      <td>17.06</td>\n    </tr>\n    <tr>\n      <th>48375</th>\n      <td>6dfce09652603d20237e1bc7caf8fd38</td>\n      <td>1</td>\n      <td>28b4eced95a52d9c437a4caf9d311b95</td>\n      <td>77530e9772f57a62c906e1c21538ab82</td>\n      <td>2018-05-10 03:31:20</td>\n      <td>59.9</td>\n      <td>19.39</td>\n    </tr>\n    <tr>\n      <th>48376</th>\n      <td>6dfce09652603d20237e1bc7caf8fd38</td>\n      <td>2</td>\n      <td>28b4eced95a52d9c437a4caf9d311b95</td>\n      <td>77530e9772f57a62c906e1c21538ab82</td>\n      <td>2018-05-10 03:31:20</td>\n      <td>59.9</td>\n      <td>19.39</td>\n    </tr>\n    <tr>\n      <th>48377</th>\n      <td>6dfce09652603d20237e1bc7caf8fd38</td>\n      <td>3</td>\n      <td>28b4eced95a52d9c437a4caf9d311b95</td>\n      <td>77530e9772f57a62c906e1c21538ab82</td>\n      <td>2018-05-10 03:31:20</td>\n      <td>59.9</td>\n      <td>19.39</td>\n    </tr>\n    <tr>\n      <th>48378</th>\n      <td>6dfce09652603d20237e1bc7caf8fd38</td>\n      <td>4</td>\n      <td>28b4eced95a52d9c437a4caf9d311b95</td>\n      <td>77530e9772f57a62c906e1c21538ab82</td>\n      <td>2018-05-10 03:31:20</td>\n      <td>59.9</td>\n      <td>19.39</td>\n    </tr>\n    <tr>\n      <th>48379</th>\n      <td>6dfce09652603d20237e1bc7caf8fd38</td>\n      <td>5</td>\n      <td>28b4eced95a52d9c437a4caf9d311b95</td>\n      <td>77530e9772f57a62c906e1c21538ab82</td>\n      <td>2018-05-10 03:31:20</td>\n      <td>59.9</td>\n      <td>19.39</td>\n    </tr>\n    <tr>\n      <th>56715</th>\n      <td>810866331b08e6226337a3b29fd8c980</td>\n      <td>1</td>\n      <td>28b4eced95a52d9c437a4caf9d311b95</td>\n      <td>77530e9772f57a62c906e1c21538ab82</td>\n      <td>2017-11-13 15:46:36</td>\n      <td>59.9</td>\n      <td>18.96</td>\n    </tr>\n    <tr>\n      <th>59221</th>\n      <td>86f452af7e6c8314fa5b43b768eb9d0d</td>\n      <td>1</td>\n      <td>28b4eced95a52d9c437a4caf9d311b95</td>\n      <td>77530e9772f57a62c906e1c21538ab82</td>\n      <td>2018-07-23 14:03:01</td>\n      <td>59.9</td>\n      <td>19.61</td>\n    </tr>\n    <tr>\n      <th>59920</th>\n      <td>887fd510f45be7bea78ff0a3b0b334e2</td>\n      <td>1</td>\n      <td>28b4eced95a52d9c437a4caf9d311b95</td>\n      <td>77530e9772f57a62c906e1c21538ab82</td>\n      <td>2018-03-26 11:49:59</td>\n      <td>59.9</td>\n      <td>16.39</td>\n    </tr>\n    <tr>\n      <th>59922</th>\n      <td>8880e2d4468f5aae8e21b63115ce635f</td>\n      <td>1</td>\n      <td>28b4eced95a52d9c437a4caf9d311b95</td>\n      <td>77530e9772f57a62c906e1c21538ab82</td>\n      <td>2018-02-21 20:06:37</td>\n      <td>59.9</td>\n      <td>18.96</td>\n    </tr>\n    <tr>\n      <th>81679</th>\n      <td>b9a3648dcf60f6b902216e563c539244</td>\n      <td>1</td>\n      <td>28b4eced95a52d9c437a4caf9d311b95</td>\n      <td>77530e9772f57a62c906e1c21538ab82</td>\n      <td>2018-04-23 21:55:19</td>\n      <td>59.9</td>\n      <td>5.54</td>\n    </tr>\n    <tr>\n      <th>87107</th>\n      <td>c5cccafad5a52123e975462ad4e26f73</td>\n      <td>1</td>\n      <td>28b4eced95a52d9c437a4caf9d311b95</td>\n      <td>77530e9772f57a62c906e1c21538ab82</td>\n      <td>2018-05-08 22:16:49</td>\n      <td>59.9</td>\n      <td>20.47</td>\n    </tr>\n    <tr>\n      <th>92982</th>\n      <td>d2d597f1ac91b8b64bec818c2f10bc14</td>\n      <td>1</td>\n      <td>28b4eced95a52d9c437a4caf9d311b95</td>\n      <td>77530e9772f57a62c906e1c21538ab82</td>\n      <td>2018-05-21 17:21:32</td>\n      <td>59.9</td>\n      <td>19.39</td>\n    </tr>\n    <tr>\n      <th>95905</th>\n      <td>d9985b5e60fcad79a6e2eed78bafedf4</td>\n      <td>1</td>\n      <td>28b4eced95a52d9c437a4caf9d311b95</td>\n      <td>77530e9772f57a62c906e1c21538ab82</td>\n      <td>2018-01-05 15:05:24</td>\n      <td>59.9</td>\n      <td>16.99</td>\n    </tr>\n    <tr>\n      <th>108322</th>\n      <td>f62ff18c0fc73a78ebd80d0d881abfcf</td>\n      <td>1</td>\n      <td>28b4eced95a52d9c437a4caf9d311b95</td>\n      <td>77530e9772f57a62c906e1c21538ab82</td>\n      <td>2018-06-13 23:52:37</td>\n      <td>59.9</td>\n      <td>16.36</td>\n    </tr>\n  </tbody>\n</table>\n</div>"
     },
     "execution_count": 126,
     "metadata": {},
     "output_type": "execute_result"
    }
   ],
   "source": [
    "olist_order_items[olist_order_items['product_id'] == '28b4eced95a52d9c437a4caf9d311b95']"
   ],
   "metadata": {
    "collapsed": false,
    "ExecuteTime": {
     "end_time": "2024-04-30T17:20:30.671944Z",
     "start_time": "2024-04-30T17:20:30.651168Z"
    }
   },
   "id": "e9f0cbec1921bc31"
  },
  {
   "cell_type": "code",
   "execution_count": 128,
   "outputs": [
    {
     "data": {
      "text/plain": "       InvoiceNo StockCode                          Description  Quantity  \\\n0         536365    85123A   WHITE HANGING HEART T-LIGHT HOLDER         6   \n1         536365     71053                  WHITE METAL LANTERN         6   \n2         536365    84406B       CREAM CUPID HEARTS COAT HANGER         8   \n3         536365    84029G  KNITTED UNION FLAG HOT WATER BOTTLE         6   \n4         536365    84029E       RED WOOLLY HOTTIE WHITE HEART.         6   \n...          ...       ...                                  ...       ...   \n541904    581587     22613          PACK OF 20 SPACEBOY NAPKINS        12   \n541905    581587     22899         CHILDREN'S APRON DOLLY GIRL          6   \n541906    581587     23254        CHILDRENS CUTLERY DOLLY GIRL          4   \n541907    581587     23255      CHILDRENS CUTLERY CIRCUS PARADE         4   \n541908    581587     22138        BAKING SET 9 PIECE RETROSPOT          3   \n\n            InvoiceDate  UnitPrice  CustomerID         Country  \n0        12/1/2010 8:26       2.55     17850.0  United Kingdom  \n1        12/1/2010 8:26       3.39     17850.0  United Kingdom  \n2        12/1/2010 8:26       2.75     17850.0  United Kingdom  \n3        12/1/2010 8:26       3.39     17850.0  United Kingdom  \n4        12/1/2010 8:26       3.39     17850.0  United Kingdom  \n...                 ...        ...         ...             ...  \n541904  12/9/2011 12:50       0.85     12680.0          France  \n541905  12/9/2011 12:50       2.10     12680.0          France  \n541906  12/9/2011 12:50       4.15     12680.0          France  \n541907  12/9/2011 12:50       4.15     12680.0          France  \n541908  12/9/2011 12:50       4.95     12680.0          France  \n\n[541909 rows x 8 columns]",
      "text/html": "<div>\n<style scoped>\n    .dataframe tbody tr th:only-of-type {\n        vertical-align: middle;\n    }\n\n    .dataframe tbody tr th {\n        vertical-align: top;\n    }\n\n    .dataframe thead th {\n        text-align: right;\n    }\n</style>\n<table border=\"1\" class=\"dataframe\">\n  <thead>\n    <tr style=\"text-align: right;\">\n      <th></th>\n      <th>InvoiceNo</th>\n      <th>StockCode</th>\n      <th>Description</th>\n      <th>Quantity</th>\n      <th>InvoiceDate</th>\n      <th>UnitPrice</th>\n      <th>CustomerID</th>\n      <th>Country</th>\n    </tr>\n  </thead>\n  <tbody>\n    <tr>\n      <th>0</th>\n      <td>536365</td>\n      <td>85123A</td>\n      <td>WHITE HANGING HEART T-LIGHT HOLDER</td>\n      <td>6</td>\n      <td>12/1/2010 8:26</td>\n      <td>2.55</td>\n      <td>17850.0</td>\n      <td>United Kingdom</td>\n    </tr>\n    <tr>\n      <th>1</th>\n      <td>536365</td>\n      <td>71053</td>\n      <td>WHITE METAL LANTERN</td>\n      <td>6</td>\n      <td>12/1/2010 8:26</td>\n      <td>3.39</td>\n      <td>17850.0</td>\n      <td>United Kingdom</td>\n    </tr>\n    <tr>\n      <th>2</th>\n      <td>536365</td>\n      <td>84406B</td>\n      <td>CREAM CUPID HEARTS COAT HANGER</td>\n      <td>8</td>\n      <td>12/1/2010 8:26</td>\n      <td>2.75</td>\n      <td>17850.0</td>\n      <td>United Kingdom</td>\n    </tr>\n    <tr>\n      <th>3</th>\n      <td>536365</td>\n      <td>84029G</td>\n      <td>KNITTED UNION FLAG HOT WATER BOTTLE</td>\n      <td>6</td>\n      <td>12/1/2010 8:26</td>\n      <td>3.39</td>\n      <td>17850.0</td>\n      <td>United Kingdom</td>\n    </tr>\n    <tr>\n      <th>4</th>\n      <td>536365</td>\n      <td>84029E</td>\n      <td>RED WOOLLY HOTTIE WHITE HEART.</td>\n      <td>6</td>\n      <td>12/1/2010 8:26</td>\n      <td>3.39</td>\n      <td>17850.0</td>\n      <td>United Kingdom</td>\n    </tr>\n    <tr>\n      <th>...</th>\n      <td>...</td>\n      <td>...</td>\n      <td>...</td>\n      <td>...</td>\n      <td>...</td>\n      <td>...</td>\n      <td>...</td>\n      <td>...</td>\n    </tr>\n    <tr>\n      <th>541904</th>\n      <td>581587</td>\n      <td>22613</td>\n      <td>PACK OF 20 SPACEBOY NAPKINS</td>\n      <td>12</td>\n      <td>12/9/2011 12:50</td>\n      <td>0.85</td>\n      <td>12680.0</td>\n      <td>France</td>\n    </tr>\n    <tr>\n      <th>541905</th>\n      <td>581587</td>\n      <td>22899</td>\n      <td>CHILDREN'S APRON DOLLY GIRL</td>\n      <td>6</td>\n      <td>12/9/2011 12:50</td>\n      <td>2.10</td>\n      <td>12680.0</td>\n      <td>France</td>\n    </tr>\n    <tr>\n      <th>541906</th>\n      <td>581587</td>\n      <td>23254</td>\n      <td>CHILDRENS CUTLERY DOLLY GIRL</td>\n      <td>4</td>\n      <td>12/9/2011 12:50</td>\n      <td>4.15</td>\n      <td>12680.0</td>\n      <td>France</td>\n    </tr>\n    <tr>\n      <th>541907</th>\n      <td>581587</td>\n      <td>23255</td>\n      <td>CHILDRENS CUTLERY CIRCUS PARADE</td>\n      <td>4</td>\n      <td>12/9/2011 12:50</td>\n      <td>4.15</td>\n      <td>12680.0</td>\n      <td>France</td>\n    </tr>\n    <tr>\n      <th>541908</th>\n      <td>581587</td>\n      <td>22138</td>\n      <td>BAKING SET 9 PIECE RETROSPOT</td>\n      <td>3</td>\n      <td>12/9/2011 12:50</td>\n      <td>4.95</td>\n      <td>12680.0</td>\n      <td>France</td>\n    </tr>\n  </tbody>\n</table>\n<p>541909 rows × 8 columns</p>\n</div>"
     },
     "execution_count": 128,
     "metadata": {},
     "output_type": "execute_result"
    }
   ],
   "source": [
    "df = pd.read_csv('data.csv',encoding='latin-1')\n",
    "df"
   ],
   "metadata": {
    "collapsed": false,
    "ExecuteTime": {
     "end_time": "2024-04-30T17:30:23.594881Z",
     "start_time": "2024-04-30T17:30:23.099080Z"
    }
   },
   "id": "616766a8b501e017"
  },
  {
   "cell_type": "code",
   "execution_count": 129,
   "outputs": [
    {
     "data": {
      "text/plain": "InvoiceNo      25900\nStockCode       4070\nDescription     4223\nQuantity         722\nInvoiceDate    23260\nUnitPrice       1630\nCustomerID      4372\nCountry           38\ndtype: int64"
     },
     "execution_count": 129,
     "metadata": {},
     "output_type": "execute_result"
    }
   ],
   "source": [
    "df.nunique()"
   ],
   "metadata": {
    "collapsed": false,
    "ExecuteTime": {
     "end_time": "2024-04-30T17:30:52.072482Z",
     "start_time": "2024-04-30T17:30:51.975625Z"
    }
   },
   "id": "6867b33dbc61f7e8"
  },
  {
   "cell_type": "code",
   "execution_count": 130,
   "outputs": [
    {
     "data": {
      "text/plain": "       InvoiceNo StockCode                         Description  Quantity  \\\n0         536365    85123A  WHITE HANGING HEART T-LIGHT HOLDER         6   \n49        536373    85123A  WHITE HANGING HEART T-LIGHT HOLDER         6   \n66        536375    85123A  WHITE HANGING HEART T-LIGHT HOLDER         6   \n220       536390    85123A  WHITE HANGING HEART T-LIGHT HOLDER        64   \n262       536394    85123A  WHITE HANGING HEART T-LIGHT HOLDER        32   \n...          ...       ...                                 ...       ...   \n539342    581439    85123A  CREAM HANGING HEART T-LIGHT HOLDER         1   \n539979    581452    85123A  WHITE HANGING HEART T-LIGHT HOLDER        32   \n540217    581472    85123A  WHITE HANGING HEART T-LIGHT HOLDER         6   \n540837    581492    85123A  CREAM HANGING HEART T-LIGHT HOLDER         3   \n541639    581538    85123A  CREAM HANGING HEART T-LIGHT HOLDER         1   \n\n            InvoiceDate  UnitPrice  CustomerID         Country  \n0        12/1/2010 8:26       2.55     17850.0  United Kingdom  \n49       12/1/2010 9:02       2.55     17850.0  United Kingdom  \n66       12/1/2010 9:32       2.55     17850.0  United Kingdom  \n220     12/1/2010 10:19       2.55     17511.0  United Kingdom  \n262     12/1/2010 10:39       2.55     13408.0  United Kingdom  \n...                 ...        ...         ...             ...  \n539342  12/8/2011 16:30       5.79         NaN  United Kingdom  \n539979  12/8/2011 18:03       2.55     17675.0  United Kingdom  \n540217  12/8/2011 19:55       2.95     15796.0  United Kingdom  \n540837  12/9/2011 10:03       5.79         NaN  United Kingdom  \n541639  12/9/2011 11:34       2.95     14446.0  United Kingdom  \n\n[2313 rows x 8 columns]",
      "text/html": "<div>\n<style scoped>\n    .dataframe tbody tr th:only-of-type {\n        vertical-align: middle;\n    }\n\n    .dataframe tbody tr th {\n        vertical-align: top;\n    }\n\n    .dataframe thead th {\n        text-align: right;\n    }\n</style>\n<table border=\"1\" class=\"dataframe\">\n  <thead>\n    <tr style=\"text-align: right;\">\n      <th></th>\n      <th>InvoiceNo</th>\n      <th>StockCode</th>\n      <th>Description</th>\n      <th>Quantity</th>\n      <th>InvoiceDate</th>\n      <th>UnitPrice</th>\n      <th>CustomerID</th>\n      <th>Country</th>\n    </tr>\n  </thead>\n  <tbody>\n    <tr>\n      <th>0</th>\n      <td>536365</td>\n      <td>85123A</td>\n      <td>WHITE HANGING HEART T-LIGHT HOLDER</td>\n      <td>6</td>\n      <td>12/1/2010 8:26</td>\n      <td>2.55</td>\n      <td>17850.0</td>\n      <td>United Kingdom</td>\n    </tr>\n    <tr>\n      <th>49</th>\n      <td>536373</td>\n      <td>85123A</td>\n      <td>WHITE HANGING HEART T-LIGHT HOLDER</td>\n      <td>6</td>\n      <td>12/1/2010 9:02</td>\n      <td>2.55</td>\n      <td>17850.0</td>\n      <td>United Kingdom</td>\n    </tr>\n    <tr>\n      <th>66</th>\n      <td>536375</td>\n      <td>85123A</td>\n      <td>WHITE HANGING HEART T-LIGHT HOLDER</td>\n      <td>6</td>\n      <td>12/1/2010 9:32</td>\n      <td>2.55</td>\n      <td>17850.0</td>\n      <td>United Kingdom</td>\n    </tr>\n    <tr>\n      <th>220</th>\n      <td>536390</td>\n      <td>85123A</td>\n      <td>WHITE HANGING HEART T-LIGHT HOLDER</td>\n      <td>64</td>\n      <td>12/1/2010 10:19</td>\n      <td>2.55</td>\n      <td>17511.0</td>\n      <td>United Kingdom</td>\n    </tr>\n    <tr>\n      <th>262</th>\n      <td>536394</td>\n      <td>85123A</td>\n      <td>WHITE HANGING HEART T-LIGHT HOLDER</td>\n      <td>32</td>\n      <td>12/1/2010 10:39</td>\n      <td>2.55</td>\n      <td>13408.0</td>\n      <td>United Kingdom</td>\n    </tr>\n    <tr>\n      <th>...</th>\n      <td>...</td>\n      <td>...</td>\n      <td>...</td>\n      <td>...</td>\n      <td>...</td>\n      <td>...</td>\n      <td>...</td>\n      <td>...</td>\n    </tr>\n    <tr>\n      <th>539342</th>\n      <td>581439</td>\n      <td>85123A</td>\n      <td>CREAM HANGING HEART T-LIGHT HOLDER</td>\n      <td>1</td>\n      <td>12/8/2011 16:30</td>\n      <td>5.79</td>\n      <td>NaN</td>\n      <td>United Kingdom</td>\n    </tr>\n    <tr>\n      <th>539979</th>\n      <td>581452</td>\n      <td>85123A</td>\n      <td>WHITE HANGING HEART T-LIGHT HOLDER</td>\n      <td>32</td>\n      <td>12/8/2011 18:03</td>\n      <td>2.55</td>\n      <td>17675.0</td>\n      <td>United Kingdom</td>\n    </tr>\n    <tr>\n      <th>540217</th>\n      <td>581472</td>\n      <td>85123A</td>\n      <td>WHITE HANGING HEART T-LIGHT HOLDER</td>\n      <td>6</td>\n      <td>12/8/2011 19:55</td>\n      <td>2.95</td>\n      <td>15796.0</td>\n      <td>United Kingdom</td>\n    </tr>\n    <tr>\n      <th>540837</th>\n      <td>581492</td>\n      <td>85123A</td>\n      <td>CREAM HANGING HEART T-LIGHT HOLDER</td>\n      <td>3</td>\n      <td>12/9/2011 10:03</td>\n      <td>5.79</td>\n      <td>NaN</td>\n      <td>United Kingdom</td>\n    </tr>\n    <tr>\n      <th>541639</th>\n      <td>581538</td>\n      <td>85123A</td>\n      <td>CREAM HANGING HEART T-LIGHT HOLDER</td>\n      <td>1</td>\n      <td>12/9/2011 11:34</td>\n      <td>2.95</td>\n      <td>14446.0</td>\n      <td>United Kingdom</td>\n    </tr>\n  </tbody>\n</table>\n<p>2313 rows × 8 columns</p>\n</div>"
     },
     "execution_count": 130,
     "metadata": {},
     "output_type": "execute_result"
    }
   ],
   "source": [
    "df[df['StockCode'] == '85123A']"
   ],
   "metadata": {
    "collapsed": false,
    "ExecuteTime": {
     "end_time": "2024-04-30T17:31:30.604071Z",
     "start_time": "2024-04-30T17:31:30.578880Z"
    }
   },
   "id": "a3119fe8c34b5152"
  },
  {
   "cell_type": "code",
   "execution_count": 2,
   "outputs": [
    {
     "name": "stdout",
     "output_type": "stream",
     "text": [
      "Collecting autoscraper\r\n",
      "  Downloading autoscraper-1.1.14-py3-none-any.whl.metadata (5.3 kB)\r\n",
      "Requirement already satisfied: requests in /Users/surya/anaconda3/envs/tf-metal/lib/python3.10/site-packages (from autoscraper) (2.31.0)\r\n",
      "Collecting bs4 (from autoscraper)\r\n",
      "  Downloading bs4-0.0.2-py2.py3-none-any.whl.metadata (411 bytes)\r\n",
      "Collecting lxml (from autoscraper)\r\n",
      "  Downloading lxml-5.2.1-cp310-cp310-macosx_10_9_universal2.whl.metadata (3.4 kB)\r\n",
      "Requirement already satisfied: beautifulsoup4 in /Users/surya/anaconda3/envs/tf-metal/lib/python3.10/site-packages (from bs4->autoscraper) (4.12.2)\r\n",
      "Requirement already satisfied: charset-normalizer<4,>=2 in /Users/surya/anaconda3/envs/tf-metal/lib/python3.10/site-packages (from requests->autoscraper) (2.0.4)\r\n",
      "Requirement already satisfied: idna<4,>=2.5 in /Users/surya/anaconda3/envs/tf-metal/lib/python3.10/site-packages (from requests->autoscraper) (3.4)\r\n",
      "Requirement already satisfied: urllib3<3,>=1.21.1 in /Users/surya/anaconda3/envs/tf-metal/lib/python3.10/site-packages (from requests->autoscraper) (1.26.18)\r\n",
      "Requirement already satisfied: certifi>=2017.4.17 in /Users/surya/anaconda3/envs/tf-metal/lib/python3.10/site-packages (from requests->autoscraper) (2023.11.17)\r\n",
      "Requirement already satisfied: soupsieve>1.2 in /Users/surya/anaconda3/envs/tf-metal/lib/python3.10/site-packages (from beautifulsoup4->bs4->autoscraper) (2.5)\r\n",
      "Downloading autoscraper-1.1.14-py3-none-any.whl (10 kB)\r\n",
      "Downloading bs4-0.0.2-py2.py3-none-any.whl (1.2 kB)\r\n",
      "Downloading lxml-5.2.1-cp310-cp310-macosx_10_9_universal2.whl (8.5 MB)\r\n",
      "\u001B[2K   \u001B[90m━━━━━━━━━━━━━━━━━━━━━━━━━━━━━━━━━━━━━━━━\u001B[0m \u001B[32m8.5/8.5 MB\u001B[0m \u001B[31m1.2 MB/s\u001B[0m eta \u001B[36m0:00:00\u001B[0m00:01\u001B[0m00:01\u001B[0m\r\n",
      "\u001B[?25hInstalling collected packages: lxml, bs4, autoscraper\r\n",
      "Successfully installed autoscraper-1.1.14 bs4-0.0.2 lxml-5.2.1\r\n"
     ]
    }
   ],
   "source": [
    "!pip install autoscraper"
   ],
   "metadata": {
    "collapsed": false,
    "ExecuteTime": {
     "end_time": "2024-05-01T13:45:49.017339Z",
     "start_time": "2024-05-01T13:45:38.139837Z"
    }
   },
   "id": "9f4a9a221b532ae9"
  },
  {
   "cell_type": "code",
   "execution_count": 7,
   "outputs": [],
   "source": [
    "from autoscraper import AutoScraper"
   ],
   "metadata": {
    "collapsed": false,
    "ExecuteTime": {
     "end_time": "2024-05-01T17:22:36.333530Z",
     "start_time": "2024-05-01T17:22:35.841879Z"
    }
   },
   "id": "b1ccdfc475f79724"
  },
  {
   "cell_type": "code",
   "execution_count": 5,
   "outputs": [],
   "source": [
    "amazon_url  = 'https://www.amazon.in/s?k=headphones'"
   ],
   "metadata": {
    "collapsed": false,
    "ExecuteTime": {
     "end_time": "2024-05-01T17:20:30.164651Z",
     "start_time": "2024-05-01T17:20:30.160498Z"
    }
   },
   "id": "759cfc580e094399"
  },
  {
   "cell_type": "code",
   "execution_count": 30,
   "outputs": [],
   "source": [
    "wanted_list = [\"₹1,499\",\"boAt Rockerz 450 Bluetooth On Ear Headphones with Mic, Upto 15 Hours Playback, 40MM Drivers, Padded Ear Cushions, Integrated Controls and Dual Modes(Luscious Black)\",  \"112,478\"]"
   ],
   "metadata": {
    "collapsed": false,
    "ExecuteTime": {
     "end_time": "2024-05-01T17:29:43.008464Z",
     "start_time": "2024-05-01T17:29:42.999340Z"
    }
   },
   "id": "e40f541c67f2c88e"
  },
  {
   "cell_type": "code",
   "execution_count": 31,
   "outputs": [],
   "source": [
    "scraper = AutoScraper()"
   ],
   "metadata": {
    "collapsed": false,
    "ExecuteTime": {
     "end_time": "2024-05-01T17:29:43.445328Z",
     "start_time": "2024-05-01T17:29:43.440377Z"
    }
   },
   "id": "235c84d1d041fbb2"
  },
  {
   "cell_type": "code",
   "execution_count": 32,
   "outputs": [],
   "source": [
    "result = scraper.build(amazon_url,wanted_list)"
   ],
   "metadata": {
    "collapsed": false,
    "ExecuteTime": {
     "end_time": "2024-05-01T17:29:44.411337Z",
     "start_time": "2024-05-01T17:29:44.018306Z"
    }
   },
   "id": "aa0c8373389fe5b1"
  },
  {
   "cell_type": "code",
   "execution_count": 33,
   "outputs": [
    {
     "name": "stdout",
     "output_type": "stream",
     "text": [
      "[]\n"
     ]
    }
   ],
   "source": [
    "print(result)"
   ],
   "metadata": {
    "collapsed": false,
    "ExecuteTime": {
     "end_time": "2024-05-01T17:29:44.792657Z",
     "start_time": "2024-05-01T17:29:44.787414Z"
    }
   },
   "id": "6e41440b9654bf49"
  },
  {
   "cell_type": "code",
   "execution_count": 34,
   "outputs": [
    {
     "name": "stdout",
     "output_type": "stream",
     "text": [
      "<html>\n",
      "<head>\n",
      "<title>503 - Service Unavailable Error</title>\n",
      "</head>\n",
      "<body bgcolor=\"#FFFFFF\" text=\"#000000\">\n",
      "\n",
      "<!--\n",
      "        To discuss automated access to Amazon data please contact api-services-support@amazon.com.\n",
      "        For information about migrating to our APIs refer to our Marketplace APIs at https://developer.amazonservices.in/ref=rm_5_sv, or our Product Advertising API at https://affiliate-program.amazon.in/gp/advertising/api/detail/main.html/ref=rm_5_ac for advertising use cases.\n",
      "-->\n",
      "\n",
      "<center>\n",
      "<a href=\"https://www.amazon.in/ref=cs_503_logo/\">\n",
      "<img src=\"https://images-eu.ssl-images-amazon.com/images/G/31/x-locale/communities/people/logo.gif\" width=200 height=45 alt=\"Amazon.in\" border=0></a>\n",
      "<p align=center>\n",
      "<font face=\"Verdana,Arial,Helvetica\">\n",
      "<font size=\"+2\" color=\"#CC6600\"><b>Oops!</b></font><br>\n",
      "<b>It's rush hour and traffic is piling up on that page. Please try again in a short while.<br>If you were trying to place an order, it will not have been processed at this time.</b><p>\n",
      "\n",
      "<img src=\"https://images-eu.ssl-images-amazon.com/images/G/02/x-locale/common/orange-arrow.gif\" width=10 height=9 border=0 alt=\"*\">\n",
      "<b><a href=\"https://www.amazon.in/ref=cs_503_link/\">Go to the Amazon.in home page to continue shopping</a></b>\n",
      "</font>\n",
      "\n",
      "</center>\n",
      "</body>\n",
      "</html>\n"
     ]
    }
   ],
   "source": [
    "import requests\n",
    "\n",
    "response = requests.get(amazon_url)\n",
    "print(response.text)"
   ],
   "metadata": {
    "collapsed": false,
    "ExecuteTime": {
     "end_time": "2024-05-01T17:29:45.972837Z",
     "start_time": "2024-05-01T17:29:45.655157Z"
    }
   },
   "id": "f93ec0762a69b34d"
  },
  {
   "cell_type": "code",
   "execution_count": 36,
   "outputs": [],
   "source": [
    "from bs4 import BeautifulSoup\n",
    "import requests\n",
    "import pandas as pd\n"
   ],
   "metadata": {
    "collapsed": false,
    "ExecuteTime": {
     "end_time": "2024-05-01T17:33:25.553541Z",
     "start_time": "2024-05-01T17:33:25.549047Z"
    }
   },
   "id": "735cc172c44f472c"
  },
  {
   "cell_type": "code",
   "execution_count": null,
   "outputs": [],
   "source": [],
   "metadata": {
    "collapsed": false
   },
   "id": "d1e64308be7d7f10"
  }
 ],
 "metadata": {
  "kernelspec": {
   "display_name": "Python 3",
   "language": "python",
   "name": "python3"
  },
  "language_info": {
   "codemirror_mode": {
    "name": "ipython",
    "version": 2
   },
   "file_extension": ".py",
   "mimetype": "text/x-python",
   "name": "python",
   "nbconvert_exporter": "python",
   "pygments_lexer": "ipython2",
   "version": "2.7.6"
  }
 },
 "nbformat": 4,
 "nbformat_minor": 5
}
