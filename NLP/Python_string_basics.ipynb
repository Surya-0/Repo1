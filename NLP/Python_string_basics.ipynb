{
 "cells": [
  {
   "cell_type": "code",
   "execution_count": 1,
   "id": "initial_id",
   "metadata": {
    "collapsed": true,
    "ExecuteTime": {
     "end_time": "2023-11-04T10:31:47.932107Z",
     "start_time": "2023-11-04T10:31:47.866040Z"
    }
   },
   "outputs": [
    {
     "name": "stdout",
     "output_type": "stream",
     "text": [
      "My name is  Jose\n"
     ]
    }
   ],
   "source": [
    "person = \"Jose\"\n",
    "print(\"My name is \", person)\n"
   ]
  },
  {
   "cell_type": "code",
   "execution_count": 2,
   "outputs": [
    {
     "name": "stdout",
     "output_type": "stream",
     "text": [
      "Today is  2023-11-04 00:00:00\n"
     ]
    }
   ],
   "source": [
    "from datetime import datetime\n",
    "today = datetime(year = 2023,month = 11,day = 4)\n",
    "print(\"Today is \", today)"
   ],
   "metadata": {
    "collapsed": false,
    "ExecuteTime": {
     "end_time": "2023-11-04T10:31:47.932294Z",
     "start_time": "2023-11-04T10:31:47.870691Z"
    }
   },
   "id": "895e7d26cc36868e"
  },
  {
   "cell_type": "code",
   "execution_count": 3,
   "outputs": [
    {
     "name": "stdout",
     "output_type": "stream",
     "text": [
      "2023-11-04 16:01:47.872327\n"
     ]
    }
   ],
   "source": [
    "today = datetime.today()\n",
    "print(today)"
   ],
   "metadata": {
    "collapsed": false,
    "ExecuteTime": {
     "end_time": "2023-11-04T10:31:47.932380Z",
     "start_time": "2023-11-04T10:31:47.873054Z"
    }
   },
   "id": "21f2d19e9b1a804b"
  },
  {
   "cell_type": "code",
   "execution_count": 4,
   "outputs": [
    {
     "name": "stdout",
     "output_type": "stream",
     "text": [
      "Overwriting test.txt\n"
     ]
    }
   ],
   "source": [
    "%%writefile test.txt \n",
    "Hello this is a quick  file test\n",
    "This is the second line of the file"
   ],
   "metadata": {
    "collapsed": false,
    "ExecuteTime": {
     "end_time": "2023-11-04T10:31:47.932917Z",
     "start_time": "2023-11-04T10:31:47.876049Z"
    }
   },
   "id": "9d6d7b8e0a026d6"
  },
  {
   "cell_type": "code",
   "execution_count": 5,
   "outputs": [
    {
     "name": "stdout",
     "output_type": "stream",
     "text": [
      "<_io.TextIOWrapper name='test.txt' mode='r' encoding='UTF-8'>\n",
      "<_io.TextIOWrapper name='/Users/surya/Documents/Surya/Git/Repo1/NLP/test.txt' mode='r' encoding='UTF-8'>\n"
     ]
    }
   ],
   "source": [
    "my_file = open('test.txt') # Using the file name in the same directory\n",
    "my_file2 = open('/Users/surya/Documents/Surya/Git/Repo1/NLP/test.txt') # Giving the entire file path \n",
    "print(my_file) \n",
    "print(my_file2) "
   ],
   "metadata": {
    "collapsed": false,
    "ExecuteTime": {
     "end_time": "2023-11-04T10:31:47.933025Z",
     "start_time": "2023-11-04T10:31:47.881345Z"
    }
   },
   "id": "7a4ad032a2e5b477"
  },
  {
   "cell_type": "code",
   "execution_count": 6,
   "outputs": [
    {
     "data": {
      "text/plain": "'Hello this is a quick  file test\\nThis is the second line of the file\\n'"
     },
     "execution_count": 6,
     "metadata": {},
     "output_type": "execute_result"
    }
   ],
   "source": [
    "my_file.read()"
   ],
   "metadata": {
    "collapsed": false,
    "ExecuteTime": {
     "end_time": "2023-11-04T10:31:47.933138Z",
     "start_time": "2023-11-04T10:31:47.886287Z"
    }
   },
   "id": "58796fdef5595a0b"
  },
  {
   "cell_type": "code",
   "execution_count": 7,
   "outputs": [
    {
     "data": {
      "text/plain": "''"
     },
     "execution_count": 7,
     "metadata": {},
     "output_type": "execute_result"
    }
   ],
   "source": [
    "my_file.read()"
   ],
   "metadata": {
    "collapsed": false,
    "ExecuteTime": {
     "end_time": "2023-11-04T10:31:47.933208Z",
     "start_time": "2023-11-04T10:31:47.889061Z"
    }
   },
   "id": "1d3248cdfdfa9c51"
  },
  {
   "cell_type": "code",
   "execution_count": 8,
   "outputs": [
    {
     "data": {
      "text/plain": "0"
     },
     "execution_count": 8,
     "metadata": {},
     "output_type": "execute_result"
    }
   ],
   "source": [
    "my_file.seek(0)"
   ],
   "metadata": {
    "collapsed": false,
    "ExecuteTime": {
     "end_time": "2023-11-04T10:31:47.933274Z",
     "start_time": "2023-11-04T10:31:47.891624Z"
    }
   },
   "id": "11128e2deed83081"
  },
  {
   "cell_type": "code",
   "execution_count": 9,
   "outputs": [
    {
     "name": "stdout",
     "output_type": "stream",
     "text": [
      "Hello this is a quick  file test\n",
      "This is the second line of the file\n"
     ]
    }
   ],
   "source": [
    "content = my_file.read()\n",
    "print(content)"
   ],
   "metadata": {
    "collapsed": false,
    "ExecuteTime": {
     "end_time": "2023-11-04T10:31:47.933348Z",
     "start_time": "2023-11-04T10:31:47.893701Z"
    }
   },
   "id": "daec10e9f99d9ef2"
  },
  {
   "cell_type": "code",
   "execution_count": 10,
   "outputs": [],
   "source": [
    "my_file.close()"
   ],
   "metadata": {
    "collapsed": false,
    "ExecuteTime": {
     "end_time": "2023-11-04T10:31:47.933388Z",
     "start_time": "2023-11-04T10:31:47.895296Z"
    }
   },
   "id": "9b2fdbe25f094bf0"
  },
  {
   "cell_type": "code",
   "execution_count": 11,
   "outputs": [
    {
     "data": {
      "text/plain": "['Hello this is a quick  file test\\n', 'This is the second line of the file\\n']"
     },
     "execution_count": 11,
     "metadata": {},
     "output_type": "execute_result"
    }
   ],
   "source": [
    "my_file2.readlines()"
   ],
   "metadata": {
    "collapsed": false,
    "ExecuteTime": {
     "end_time": "2023-11-04T10:31:47.933478Z",
     "start_time": "2023-11-04T10:31:47.897004Z"
    }
   },
   "id": "188c481c9df04ea6"
  },
  {
   "cell_type": "code",
   "execution_count": 12,
   "outputs": [
    {
     "name": "stdout",
     "output_type": "stream",
     "text": [
      "['Hello this is a quick  file test\\n', 'This is the second line of the file\\n']\n"
     ]
    }
   ],
   "source": [
    "my_file2.seek(0)\n",
    "content_2 = my_file2.readlines()\n",
    "print(content_2)"
   ],
   "metadata": {
    "collapsed": false,
    "ExecuteTime": {
     "end_time": "2023-11-04T10:31:47.933549Z",
     "start_time": "2023-11-04T10:31:47.900182Z"
    }
   },
   "id": "25d41e9cff99e1c8"
  },
  {
   "cell_type": "code",
   "execution_count": 13,
   "outputs": [
    {
     "name": "stdout",
     "output_type": "stream",
     "text": [
      "Hello this is a quick  file test\n",
      "\n",
      "['Hello', 'this', 'is', 'a', 'quick', 'file', 'test']\n",
      "Hello\n",
      "This is the second line of the file\n",
      "\n",
      "['This', 'is', 'the', 'second', 'line', 'of', 'the', 'file']\n",
      "This\n"
     ]
    }
   ],
   "source": [
    "for line in content_2:\n",
    "    print(line)\n",
    "    print(line.split())\n",
    "    print(line.split()[0])"
   ],
   "metadata": {
    "collapsed": false,
    "ExecuteTime": {
     "end_time": "2023-11-04T10:31:47.933624Z",
     "start_time": "2023-11-04T10:31:47.902121Z"
    }
   },
   "id": "9f97037d66524cd9"
  },
  {
   "cell_type": "code",
   "execution_count": 14,
   "outputs": [],
   "source": [
    "my_file2.close()"
   ],
   "metadata": {
    "collapsed": false,
    "ExecuteTime": {
     "end_time": "2023-11-04T10:31:47.933662Z",
     "start_time": "2023-11-04T10:31:47.905690Z"
    }
   },
   "id": "b06d254f1aa21000"
  },
  {
   "cell_type": "code",
   "execution_count": 15,
   "outputs": [
    {
     "data": {
      "text/plain": "''"
     },
     "execution_count": 15,
     "metadata": {},
     "output_type": "execute_result"
    }
   ],
   "source": [
    "my_file3 = open('test.txt',mode='w+') # It truncates the original file.So anything in the original file is overwritten or deleted.Use it with caution\n",
    "my_file3.read()"
   ],
   "metadata": {
    "collapsed": false,
    "ExecuteTime": {
     "end_time": "2023-11-04T10:31:47.933768Z",
     "start_time": "2023-11-04T10:31:47.907365Z"
    }
   },
   "id": "60162c66a4598c70"
  },
  {
   "cell_type": "code",
   "execution_count": 16,
   "outputs": [
    {
     "data": {
      "text/plain": "17"
     },
     "execution_count": 16,
     "metadata": {},
     "output_type": "execute_result"
    }
   ],
   "source": [
    "my_file3.write('My brand new text')"
   ],
   "metadata": {
    "collapsed": false,
    "ExecuteTime": {
     "end_time": "2023-11-04T10:31:47.933851Z",
     "start_time": "2023-11-04T10:31:47.911816Z"
    }
   },
   "id": "e2f4ffd56b28daba"
  },
  {
   "cell_type": "code",
   "execution_count": 17,
   "outputs": [
    {
     "data": {
      "text/plain": "0"
     },
     "execution_count": 17,
     "metadata": {},
     "output_type": "execute_result"
    }
   ],
   "source": [
    "my_file3.seek(0)"
   ],
   "metadata": {
    "collapsed": false,
    "ExecuteTime": {
     "end_time": "2023-11-04T10:31:47.933954Z",
     "start_time": "2023-11-04T10:31:47.913969Z"
    }
   },
   "id": "7314f90ca4bfe23d"
  },
  {
   "cell_type": "code",
   "execution_count": 18,
   "outputs": [
    {
     "data": {
      "text/plain": "'My brand new text'"
     },
     "execution_count": 18,
     "metadata": {},
     "output_type": "execute_result"
    }
   ],
   "source": [
    "my_file3.read()"
   ],
   "metadata": {
    "collapsed": false,
    "ExecuteTime": {
     "end_time": "2023-11-04T10:31:47.934052Z",
     "start_time": "2023-11-04T10:31:47.915974Z"
    }
   },
   "id": "79d2193c7bbb684f"
  },
  {
   "cell_type": "code",
   "execution_count": 19,
   "outputs": [],
   "source": [
    "my_file3.close()"
   ],
   "metadata": {
    "collapsed": false,
    "ExecuteTime": {
     "end_time": "2023-11-04T10:31:47.934095Z",
     "start_time": "2023-11-04T10:31:47.918944Z"
    }
   },
   "id": "394356d7d6844eea"
  },
  {
   "cell_type": "code",
   "execution_count": 20,
   "outputs": [
    {
     "data": {
      "text/plain": "44"
     },
     "execution_count": 20,
     "metadata": {},
     "output_type": "execute_result"
    }
   ],
   "source": [
    "my_file4 = open('test.txt',mode='a+')\n",
    "my_file4.write('\\nThis is some more text which I am adding in')"
   ],
   "metadata": {
    "collapsed": false,
    "ExecuteTime": {
     "end_time": "2023-11-04T10:31:47.934205Z",
     "start_time": "2023-11-04T10:31:47.920997Z"
    }
   },
   "id": "902b978ac30a15a3"
  },
  {
   "cell_type": "code",
   "execution_count": 21,
   "outputs": [
    {
     "name": "stdout",
     "output_type": "stream",
     "text": [
      "My brand new text\n"
     ]
    }
   ],
   "source": [
    "file = open('test.txt')\n",
    "print(file.read())"
   ],
   "metadata": {
    "collapsed": false,
    "ExecuteTime": {
     "end_time": "2023-11-04T10:31:47.934272Z",
     "start_time": "2023-11-04T10:31:47.923271Z"
    }
   },
   "id": "984ade953632acbc"
  },
  {
   "cell_type": "code",
   "execution_count": 22,
   "outputs": [],
   "source": [
    "my_file4.close()\n",
    "file.close()"
   ],
   "metadata": {
    "collapsed": false,
    "ExecuteTime": {
     "end_time": "2023-11-04T10:31:47.934318Z",
     "start_time": "2023-11-04T10:31:47.925222Z"
    }
   },
   "id": "ebbb7157e548286f"
  },
  {
   "cell_type": "code",
   "execution_count": 23,
   "outputs": [
    {
     "name": "stdout",
     "output_type": "stream",
     "text": [
      "['My brand new text\\n', 'This is some more text which I am adding in']\n"
     ]
    }
   ],
   "source": [
    "with open('test.txt','r') as my_new_file:\n",
    "    my_var = my_new_file.readlines()\n",
    "    print(my_var)"
   ],
   "metadata": {
    "collapsed": false,
    "ExecuteTime": {
     "end_time": "2023-11-04T10:31:47.934385Z",
     "start_time": "2023-11-04T10:31:47.926992Z"
    }
   },
   "id": "b8eac4d6268a0635"
  },
  {
   "cell_type": "code",
   "execution_count": 24,
   "outputs": [
    {
     "name": "stdout",
     "output_type": "stream",
     "text": [
      "Requirement already satisfied: PyPDF2 in /Users/surya/anaconda3/envs/tf/lib/python3.11/site-packages (3.0.1)\r\n",
      "Note: you may need to restart the kernel to use updated packages.\n"
     ]
    }
   ],
   "source": [
    "pip install PyPDF2"
   ],
   "metadata": {
    "collapsed": false,
    "ExecuteTime": {
     "end_time": "2023-11-04T10:31:49.079768Z",
     "start_time": "2023-11-04T10:31:47.928954Z"
    }
   },
   "id": "8c2b987108f1f77c"
  },
  {
   "cell_type": "code",
   "execution_count": 25,
   "outputs": [],
   "source": [
    "import PyPDF2"
   ],
   "metadata": {
    "collapsed": false,
    "ExecuteTime": {
     "end_time": "2023-11-04T10:32:01.738269Z",
     "start_time": "2023-11-04T10:32:01.708717Z"
    }
   },
   "id": "548ba71119a9d145"
  },
  {
   "cell_type": "code",
   "execution_count": 26,
   "outputs": [],
   "source": [
    "my_pdf_file = open('US_Declaration.pdf',mode='rb')"
   ],
   "metadata": {
    "collapsed": false,
    "ExecuteTime": {
     "end_time": "2023-11-04T10:34:28.913869Z",
     "start_time": "2023-11-04T10:34:28.898553Z"
    }
   },
   "id": "5bdff1b53104d410"
  },
  {
   "cell_type": "code",
   "execution_count": 28,
   "outputs": [],
   "source": [
    "pdf_reader = PyPDF2.PdfReader(my_pdf_file)"
   ],
   "metadata": {
    "collapsed": false,
    "ExecuteTime": {
     "end_time": "2023-11-04T10:35:28.127797Z",
     "start_time": "2023-11-04T10:35:28.122336Z"
    }
   },
   "id": "c0bf6c7cd9a893f8"
  },
  {
   "cell_type": "code",
   "execution_count": 33,
   "outputs": [
    {
     "data": {
      "text/plain": "5"
     },
     "execution_count": 33,
     "metadata": {},
     "output_type": "execute_result"
    }
   ],
   "source": [
    "len(pdf_reader.pages)"
   ],
   "metadata": {
    "collapsed": false,
    "ExecuteTime": {
     "end_time": "2023-11-04T10:36:56.066396Z",
     "start_time": "2023-11-04T10:36:56.060298Z"
    }
   },
   "id": "866d33c358714e5a"
  },
  {
   "cell_type": "code",
   "execution_count": 35,
   "outputs": [],
   "source": [
    "page_one = pdf_reader.pages[0]"
   ],
   "metadata": {
    "collapsed": false,
    "ExecuteTime": {
     "end_time": "2023-11-04T10:41:43.808150Z",
     "start_time": "2023-11-04T10:41:43.805179Z"
    }
   },
   "id": "6ec8eda6e277e6c7"
  },
  {
   "cell_type": "code",
   "execution_count": 38,
   "outputs": [],
   "source": [
    "my_text = page_one.extract_text()"
   ],
   "metadata": {
    "collapsed": false,
    "ExecuteTime": {
     "end_time": "2023-11-04T10:42:36.610571Z",
     "start_time": "2023-11-04T10:42:36.605191Z"
    }
   },
   "id": "543cb1b267bdb312"
  },
  {
   "cell_type": "code",
   "execution_count": 39,
   "outputs": [],
   "source": [
    "my_pdf_file.close()"
   ],
   "metadata": {
    "collapsed": false,
    "ExecuteTime": {
     "end_time": "2023-11-04T10:42:45.403024Z",
     "start_time": "2023-11-04T10:42:45.384115Z"
    }
   },
   "id": "bfd481093fad7bd"
  },
  {
   "cell_type": "code",
   "execution_count": 43,
   "outputs": [],
   "source": [
    "f = open('US_Declaration.pdf',mode='rb')\n",
    "pdf_reader = PyPDF2.PdfReader(f)\n",
    "first_page = pdf_reader.pages[0]"
   ],
   "metadata": {
    "collapsed": false,
    "ExecuteTime": {
     "end_time": "2023-11-04T10:48:29.763024Z",
     "start_time": "2023-11-04T10:48:29.751777Z"
    }
   },
   "id": "4f20ec8834d913db"
  },
  {
   "cell_type": "code",
   "execution_count": 44,
   "outputs": [
    {
     "name": "stdout",
     "output_type": "stream",
     "text": [
      "Declaration of Independence\n",
      "IN CONGRESS, July 4, 1776.  \n",
      "The unanimous Declaration of the thirteen united States of America,  \n",
      "When in the Course of human events, it becomes necessary for one people to dissolve thepolitical bands which have connected them with another, and to assume among the powers of theearth, the separate and equal station to which the Laws of Nature and of Nature's God entitlethem, a decent respect to the opinions of mankind requires that they should declare the causeswhich impel them to the separation. We hold these truths to be self-evident, that all men are created equal, that they are endowed bytheir Creator with certain unalienable Rights, that among these are Life, Liberty and the pursuit\n",
      "of Happiness.— \u0014That to secure these rights, Governments are instituted among Men, derivingtheir just powers from the consent of the governed,—  \u0014That whenever any Form of Government\n",
      "becomes destructive of these ends, it is the Right of the People to alter or to abolish it, and to\n",
      "institute new Government, laying its foundation on such principles and organizing its powers in\n",
      "such form, as to them shall seem most likely to effect their Safety and Happiness. Prudence,indeed, will dictate that Governments long established should not be changed for light andtransient causes; and accordingly all experience hath shewn, that mankind are more disposed to\n",
      "suffer, while evils are sufferable, than to right themselves by abolishing the forms to which theyare accustomed. But when a long train of abuses and usurpations, pursuing invariably the same\n",
      "Object evinces a design to reduce them under absolute Despotism, it is their right, it is their duty,\n",
      "to throw off such Government, and to provide new Guards for their future securit y.— \u0014Such has\n",
      "been the patient sufferance of these Colonies; and such is now the necessity which constrainsthem to alter their former Systems of Government. The history of the present King of GreatBritain is a history of repeated injuries and usurpations, all having in direct object the\n",
      "establishment of an absolute Tyranny over these States. To prove this, let Facts be submitted to a\n",
      "candid world. \n",
      "He has refused his Assent to Laws, the most wholesome and necessary for the\n",
      "public good.He has forbidden his Governors to pass Laws of immediate and pressingimportance, unless suspended in their operation till his Assent should be obtained;and when so suspended, he has utterly neglected to attend to them.He has refused to pass other Laws for the accommodation of large districts of\n",
      "people, unless those people would relinquish the right of Representation in theLegislature, a right inestimable to them and formidable to tyrants only. He has called together legislative bodies at places unusual, uncomfortable, and distantfrom the depository of their public Records, for the sole purpose of fatiguing them into\n",
      "compliance with his measures.\n"
     ]
    }
   ],
   "source": [
    "print(first_page.extract_text())"
   ],
   "metadata": {
    "collapsed": false,
    "ExecuteTime": {
     "end_time": "2023-11-04T10:48:30.341579Z",
     "start_time": "2023-11-04T10:48:30.334100Z"
    }
   },
   "id": "cb5e668a5c090923"
  },
  {
   "cell_type": "code",
   "execution_count": 45,
   "outputs": [
    {
     "data": {
      "text/plain": "{'/Type': '/Page',\n '/Contents': {},\n '/MediaBox': [0, 0, 612, 792],\n '/Resources': {'/Font': {'/F9': {'/Type': '/Font',\n    '/Subtype': '/Type1',\n    '/Name': '/F9',\n    '/Encoding': '/WinAnsiEncoding',\n    '/FirstChar': 31,\n    '/LastChar': 255,\n    '/Widths': [778,\n     250,\n     333,\n     555,\n     500,\n     500,\n     1000,\n     833,\n     278,\n     333,\n     333,\n     500,\n     570,\n     250,\n     333,\n     250,\n     278,\n     500,\n     500,\n     500,\n     500,\n     500,\n     500,\n     500,\n     500,\n     500,\n     500,\n     333,\n     333,\n     570,\n     570,\n     570,\n     500,\n     930,\n     722,\n     667,\n     722,\n     722,\n     667,\n     611,\n     778,\n     778,\n     389,\n     500,\n     778,\n     667,\n     944,\n     722,\n     778,\n     611,\n     778,\n     722,\n     556,\n     667,\n     722,\n     722,\n     1000,\n     722,\n     722,\n     667,\n     333,\n     278,\n     333,\n     581,\n     500,\n     333,\n     500,\n     556,\n     444,\n     556,\n     444,\n     333,\n     500,\n     556,\n     278,\n     333,\n     556,\n     278,\n     833,\n     556,\n     500,\n     556,\n     556,\n     444,\n     389,\n     333,\n     556,\n     500,\n     722,\n     500,\n     500,\n     444,\n     394,\n     220,\n     394,\n     520,\n     778,\n     500,\n     778,\n     333,\n     500,\n     500,\n     1000,\n     500,\n     500,\n     333,\n     1000,\n     556,\n     333,\n     1000,\n     778,\n     778,\n     778,\n     778,\n     333,\n     333,\n     500,\n     500,\n     350,\n     500,\n     1000,\n     333,\n     1000,\n     389,\n     333,\n     722,\n     778,\n     778,\n     722,\n     250,\n     333,\n     500,\n     500,\n     500,\n     500,\n     220,\n     500,\n     333,\n     747,\n     300,\n     500,\n     570,\n     333,\n     747,\n     500,\n     400,\n     549,\n     300,\n     300,\n     333,\n     576,\n     540,\n     250,\n     333,\n     300,\n     330,\n     500,\n     750,\n     750,\n     750,\n     500,\n     722,\n     722,\n     722,\n     722,\n     722,\n     722,\n     1000,\n     722,\n     667,\n     667,\n     667,\n     667,\n     389,\n     389,\n     389,\n     389,\n     722,\n     722,\n     778,\n     778,\n     778,\n     778,\n     778,\n     570,\n     778,\n     722,\n     722,\n     722,\n     722,\n     722,\n     611,\n     556,\n     500,\n     500,\n     500,\n     500,\n     500,\n     500,\n     722,\n     444,\n     444,\n     444,\n     444,\n     444,\n     278,\n     278,\n     278,\n     278,\n     500,\n     556,\n     500,\n     500,\n     500,\n     500,\n     500,\n     549,\n     500,\n     556,\n     556,\n     556,\n     556,\n     500,\n     556,\n     500],\n    '/BaseFont': '/TimesNewRomanPS-BoldMT',\n    '/FontDescriptor': {'/Type': '/FontDescriptor',\n     '/FontName': '/TimesNewRomanPS-BoldMT',\n     '/Ascent': 677,\n     '/CapHeight': 500,\n     '/Descent': -216,\n     '/Flags': 34,\n     '/FontBBox': [-558, -307, 2034, 1026],\n     '/ItalicAngle': 0,\n     '/StemV': 0,\n     '/AvgWidth': 427,\n     '/Leading': 150,\n     '/MaxWidth': 2592,\n     '/XHeight': 250,\n     '/FontFile': {'/Filter': ['/ASCII85Decode'],\n      '/Length1': 4690,\n      '/Length2': 46374,\n      '/Length3': 532}}},\n   '/F6': {'/Type': '/Font',\n    '/Subtype': '/Type1',\n    '/Name': '/F6',\n    '/Encoding': '/WinAnsiEncoding',\n    '/FirstChar': 31,\n    '/LastChar': 255,\n    '/Widths': [778,\n     250,\n     333,\n     408,\n     500,\n     500,\n     833,\n     778,\n     180,\n     333,\n     333,\n     500,\n     564,\n     250,\n     333,\n     250,\n     278,\n     500,\n     500,\n     500,\n     500,\n     500,\n     500,\n     500,\n     500,\n     500,\n     500,\n     278,\n     278,\n     564,\n     564,\n     564,\n     444,\n     921,\n     722,\n     667,\n     667,\n     722,\n     611,\n     556,\n     722,\n     722,\n     333,\n     389,\n     722,\n     611,\n     889,\n     722,\n     722,\n     556,\n     722,\n     667,\n     556,\n     611,\n     722,\n     722,\n     944,\n     722,\n     722,\n     611,\n     333,\n     278,\n     333,\n     469,\n     500,\n     333,\n     444,\n     500,\n     444,\n     500,\n     444,\n     333,\n     500,\n     500,\n     278,\n     278,\n     500,\n     278,\n     778,\n     500,\n     500,\n     500,\n     500,\n     333,\n     389,\n     278,\n     500,\n     500,\n     722,\n     500,\n     500,\n     444,\n     480,\n     200,\n     480,\n     541,\n     778,\n     500,\n     778,\n     333,\n     500,\n     444,\n     1000,\n     500,\n     500,\n     333,\n     1000,\n     556,\n     333,\n     889,\n     778,\n     778,\n     778,\n     778,\n     333,\n     333,\n     444,\n     444,\n     350,\n     500,\n     1000,\n     333,\n     980,\n     389,\n     333,\n     722,\n     778,\n     778,\n     722,\n     250,\n     333,\n     500,\n     500,\n     500,\n     500,\n     200,\n     500,\n     333,\n     760,\n     276,\n     500,\n     564,\n     333,\n     760,\n     500,\n     400,\n     549,\n     300,\n     300,\n     333,\n     576,\n     453,\n     250,\n     333,\n     300,\n     310,\n     500,\n     750,\n     750,\n     750,\n     444,\n     722,\n     722,\n     722,\n     722,\n     722,\n     722,\n     889,\n     667,\n     611,\n     611,\n     611,\n     611,\n     333,\n     333,\n     333,\n     333,\n     722,\n     722,\n     722,\n     722,\n     722,\n     722,\n     722,\n     564,\n     722,\n     722,\n     722,\n     722,\n     722,\n     722,\n     556,\n     500,\n     444,\n     444,\n     444,\n     444,\n     444,\n     444,\n     667,\n     444,\n     444,\n     444,\n     444,\n     444,\n     278,\n     278,\n     278,\n     278,\n     500,\n     500,\n     500,\n     500,\n     500,\n     500,\n     500,\n     549,\n     500,\n     500,\n     500,\n     500,\n     500,\n     500,\n     500,\n     500],\n    '/BaseFont': '/TimesNewRomanPSMT',\n    '/FontDescriptor': {'/Type': '/FontDescriptor',\n     '/FontName': '/TimesNewRomanPSMT',\n     '/Ascent': 693,\n     '/CapHeight': 500,\n     '/Descent': -216,\n     '/Flags': 34,\n     '/FontBBox': [-568, -307, 2028, 1007],\n     '/ItalicAngle': 0,\n     '/StemV': 0,\n     '/AvgWidth': 401,\n     '/Leading': 150,\n     '/MaxWidth': 2597,\n     '/XHeight': 250,\n     '/FontFile': {'/Filter': ['/ASCII85Decode'],\n      '/Length1': 4680,\n      '/Length2': 46205,\n      '/Length3': 532}}}},\n  '/ProcSet': ['/PDF', '/Text']},\n '/Parent': {'/Type': '/Pages',\n  '/Count': 1,\n  '/Kids': [IndirectObject(4, 0, 4690028048)]}}"
     },
     "execution_count": 45,
     "metadata": {},
     "output_type": "execute_result"
    }
   ],
   "source": [
    "pdf_writer = PyPDF2.PdfWriter()\n",
    "pdf_writer.add_page(first_page)"
   ],
   "metadata": {
    "collapsed": false,
    "ExecuteTime": {
     "end_time": "2023-11-04T10:50:39.563779Z",
     "start_time": "2023-11-04T10:50:39.524025Z"
    }
   },
   "id": "e7e38efa890f4bc7"
  },
  {
   "cell_type": "code",
   "execution_count": 46,
   "outputs": [
    {
     "data": {
      "text/plain": "(False, <_io.BufferedWriter name='My_brand_new.pdf'>)"
     },
     "execution_count": 46,
     "metadata": {},
     "output_type": "execute_result"
    }
   ],
   "source": [
    "pdf_output = open('My_brand_new.pdf',mode='wb')\n",
    "pdf_writer.write(pdf_output)"
   ],
   "metadata": {
    "collapsed": false,
    "ExecuteTime": {
     "end_time": "2023-11-04T10:51:33.231953Z",
     "start_time": "2023-11-04T10:51:33.208302Z"
    }
   },
   "id": "70dd4207e348c8a0"
  },
  {
   "cell_type": "code",
   "execution_count": 47,
   "outputs": [],
   "source": [
    "pdf_output.close()\n",
    "f.close()"
   ],
   "metadata": {
    "collapsed": false,
    "ExecuteTime": {
     "end_time": "2023-11-04T10:51:59.633350Z",
     "start_time": "2023-11-04T10:51:59.621638Z"
    }
   },
   "id": "6d0af04aa48955b1"
  },
  {
   "cell_type": "code",
   "execution_count": 48,
   "outputs": [],
   "source": [
    "brand_new = open('My_brand_new.pdf',mode='rb')\n",
    "pdf_reader = PyPDF2.PdfReader(brand_new)"
   ],
   "metadata": {
    "collapsed": false,
    "ExecuteTime": {
     "end_time": "2023-11-04T10:53:04.739180Z",
     "start_time": "2023-11-04T10:53:04.717148Z"
    }
   },
   "id": "70e9bdb4dfbce6b6"
  },
  {
   "cell_type": "code",
   "execution_count": 50,
   "outputs": [
    {
     "data": {
      "text/plain": "1"
     },
     "execution_count": 50,
     "metadata": {},
     "output_type": "execute_result"
    }
   ],
   "source": [
    "len(pdf_reader.pages)"
   ],
   "metadata": {
    "collapsed": false,
    "ExecuteTime": {
     "end_time": "2023-11-04T10:53:14.097829Z",
     "start_time": "2023-11-04T10:53:14.093693Z"
    }
   },
   "id": "4ace8420fe0cc0f2"
  },
  {
   "cell_type": "code",
   "execution_count": null,
   "outputs": [],
   "source": [],
   "metadata": {
    "collapsed": false
   },
   "id": "a19ed5d2a2021205"
  }
 ],
 "metadata": {
  "kernelspec": {
   "display_name": "Python 3",
   "language": "python",
   "name": "python3"
  },
  "language_info": {
   "codemirror_mode": {
    "name": "ipython",
    "version": 2
   },
   "file_extension": ".py",
   "mimetype": "text/x-python",
   "name": "python",
   "nbconvert_exporter": "python",
   "pygments_lexer": "ipython2",
   "version": "2.7.6"
  }
 },
 "nbformat": 4,
 "nbformat_minor": 5
}
