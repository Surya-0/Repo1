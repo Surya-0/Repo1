{
 "cells": [
  {
   "cell_type": "code",
   "execution_count": 1,
   "id": "initial_id",
   "metadata": {
    "collapsed": true,
    "ExecuteTime": {
     "end_time": "2023-10-11T16:45:25.675257Z",
     "start_time": "2023-10-11T16:45:24.324942Z"
    }
   },
   "outputs": [],
   "source": [
    "import numpy as np\n",
    "import matplotlib.pyplot as plt\n",
    "import pandas as pd"
   ]
  },
  {
   "cell_type": "code",
   "execution_count": 2,
   "outputs": [],
   "source": [
    "df = pd.read_csv('Iris.csv')"
   ],
   "metadata": {
    "collapsed": false,
    "ExecuteTime": {
     "end_time": "2023-10-11T16:45:26.307035Z",
     "start_time": "2023-10-11T16:45:26.295833Z"
    }
   },
   "id": "9700036ebd1ff0d2"
  },
  {
   "cell_type": "code",
   "execution_count": 3,
   "outputs": [
    {
     "data": {
      "text/plain": "      Id  SepalLengthCm  SepalWidthCm  PetalLengthCm  PetalWidthCm  \\\n0      1            5.1           3.5            1.4           0.2   \n1      2            4.9           3.0            1.4           0.2   \n2      3            4.7           3.2            1.3           0.2   \n3      4            4.6           3.1            1.5           0.2   \n4      5            5.0           3.6            1.4           0.2   \n..   ...            ...           ...            ...           ...   \n145  146            6.7           3.0            5.2           2.3   \n146  147            6.3           2.5            5.0           1.9   \n147  148            6.5           3.0            5.2           2.0   \n148  149            6.2           3.4            5.4           2.3   \n149  150            5.9           3.0            5.1           1.8   \n\n            Species  \n0       Iris-setosa  \n1       Iris-setosa  \n2       Iris-setosa  \n3       Iris-setosa  \n4       Iris-setosa  \n..              ...  \n145  Iris-virginica  \n146  Iris-virginica  \n147  Iris-virginica  \n148  Iris-virginica  \n149  Iris-virginica  \n\n[150 rows x 6 columns]",
      "text/html": "<div>\n<style scoped>\n    .dataframe tbody tr th:only-of-type {\n        vertical-align: middle;\n    }\n\n    .dataframe tbody tr th {\n        vertical-align: top;\n    }\n\n    .dataframe thead th {\n        text-align: right;\n    }\n</style>\n<table border=\"1\" class=\"dataframe\">\n  <thead>\n    <tr style=\"text-align: right;\">\n      <th></th>\n      <th>Id</th>\n      <th>SepalLengthCm</th>\n      <th>SepalWidthCm</th>\n      <th>PetalLengthCm</th>\n      <th>PetalWidthCm</th>\n      <th>Species</th>\n    </tr>\n  </thead>\n  <tbody>\n    <tr>\n      <th>0</th>\n      <td>1</td>\n      <td>5.1</td>\n      <td>3.5</td>\n      <td>1.4</td>\n      <td>0.2</td>\n      <td>Iris-setosa</td>\n    </tr>\n    <tr>\n      <th>1</th>\n      <td>2</td>\n      <td>4.9</td>\n      <td>3.0</td>\n      <td>1.4</td>\n      <td>0.2</td>\n      <td>Iris-setosa</td>\n    </tr>\n    <tr>\n      <th>2</th>\n      <td>3</td>\n      <td>4.7</td>\n      <td>3.2</td>\n      <td>1.3</td>\n      <td>0.2</td>\n      <td>Iris-setosa</td>\n    </tr>\n    <tr>\n      <th>3</th>\n      <td>4</td>\n      <td>4.6</td>\n      <td>3.1</td>\n      <td>1.5</td>\n      <td>0.2</td>\n      <td>Iris-setosa</td>\n    </tr>\n    <tr>\n      <th>4</th>\n      <td>5</td>\n      <td>5.0</td>\n      <td>3.6</td>\n      <td>1.4</td>\n      <td>0.2</td>\n      <td>Iris-setosa</td>\n    </tr>\n    <tr>\n      <th>...</th>\n      <td>...</td>\n      <td>...</td>\n      <td>...</td>\n      <td>...</td>\n      <td>...</td>\n      <td>...</td>\n    </tr>\n    <tr>\n      <th>145</th>\n      <td>146</td>\n      <td>6.7</td>\n      <td>3.0</td>\n      <td>5.2</td>\n      <td>2.3</td>\n      <td>Iris-virginica</td>\n    </tr>\n    <tr>\n      <th>146</th>\n      <td>147</td>\n      <td>6.3</td>\n      <td>2.5</td>\n      <td>5.0</td>\n      <td>1.9</td>\n      <td>Iris-virginica</td>\n    </tr>\n    <tr>\n      <th>147</th>\n      <td>148</td>\n      <td>6.5</td>\n      <td>3.0</td>\n      <td>5.2</td>\n      <td>2.0</td>\n      <td>Iris-virginica</td>\n    </tr>\n    <tr>\n      <th>148</th>\n      <td>149</td>\n      <td>6.2</td>\n      <td>3.4</td>\n      <td>5.4</td>\n      <td>2.3</td>\n      <td>Iris-virginica</td>\n    </tr>\n    <tr>\n      <th>149</th>\n      <td>150</td>\n      <td>5.9</td>\n      <td>3.0</td>\n      <td>5.1</td>\n      <td>1.8</td>\n      <td>Iris-virginica</td>\n    </tr>\n  </tbody>\n</table>\n<p>150 rows × 6 columns</p>\n</div>"
     },
     "execution_count": 3,
     "metadata": {},
     "output_type": "execute_result"
    }
   ],
   "source": [
    "df"
   ],
   "metadata": {
    "collapsed": false,
    "ExecuteTime": {
     "end_time": "2023-10-11T16:45:26.973692Z",
     "start_time": "2023-10-11T16:45:26.957854Z"
    }
   },
   "id": "8f6653c80fdb5eae"
  },
  {
   "cell_type": "code",
   "execution_count": null,
   "outputs": [],
   "source": [],
   "metadata": {
    "collapsed": false
   },
   "id": "ab5f2f039ac8256d"
  },
  {
   "cell_type": "code",
   "execution_count": 191,
   "outputs": [
    {
     "data": {
      "text/plain": "      Id  SepalLengthCm  SepalWidthCm  PetalLengthCm  PetalWidthCm  \\\n0      1            5.1           3.5            1.4           0.2   \n1      2            4.9           3.0            1.4           0.2   \n2      3            4.7           3.2            1.3           0.2   \n3      4            4.6           3.1            1.5           0.2   \n4      5            5.0           3.6            1.4           0.2   \n..   ...            ...           ...            ...           ...   \n145  146            6.7           3.0            5.2           2.3   \n146  147            6.3           2.5            5.0           1.9   \n147  148            6.5           3.0            5.2           2.0   \n148  149            6.2           3.4            5.4           2.3   \n149  150            5.9           3.0            5.1           1.8   \n\n            Species  \n0                 0  \n1                 0  \n2                 0  \n3                 0  \n4                 0  \n..              ...  \n145  Iris-virginica  \n146  Iris-virginica  \n147  Iris-virginica  \n148  Iris-virginica  \n149  Iris-virginica  \n\n[150 rows x 6 columns]",
      "text/html": "<div>\n<style scoped>\n    .dataframe tbody tr th:only-of-type {\n        vertical-align: middle;\n    }\n\n    .dataframe tbody tr th {\n        vertical-align: top;\n    }\n\n    .dataframe thead th {\n        text-align: right;\n    }\n</style>\n<table border=\"1\" class=\"dataframe\">\n  <thead>\n    <tr style=\"text-align: right;\">\n      <th></th>\n      <th>Id</th>\n      <th>SepalLengthCm</th>\n      <th>SepalWidthCm</th>\n      <th>PetalLengthCm</th>\n      <th>PetalWidthCm</th>\n      <th>Species</th>\n    </tr>\n  </thead>\n  <tbody>\n    <tr>\n      <th>0</th>\n      <td>1</td>\n      <td>5.1</td>\n      <td>3.5</td>\n      <td>1.4</td>\n      <td>0.2</td>\n      <td>0</td>\n    </tr>\n    <tr>\n      <th>1</th>\n      <td>2</td>\n      <td>4.9</td>\n      <td>3.0</td>\n      <td>1.4</td>\n      <td>0.2</td>\n      <td>0</td>\n    </tr>\n    <tr>\n      <th>2</th>\n      <td>3</td>\n      <td>4.7</td>\n      <td>3.2</td>\n      <td>1.3</td>\n      <td>0.2</td>\n      <td>0</td>\n    </tr>\n    <tr>\n      <th>3</th>\n      <td>4</td>\n      <td>4.6</td>\n      <td>3.1</td>\n      <td>1.5</td>\n      <td>0.2</td>\n      <td>0</td>\n    </tr>\n    <tr>\n      <th>4</th>\n      <td>5</td>\n      <td>5.0</td>\n      <td>3.6</td>\n      <td>1.4</td>\n      <td>0.2</td>\n      <td>0</td>\n    </tr>\n    <tr>\n      <th>...</th>\n      <td>...</td>\n      <td>...</td>\n      <td>...</td>\n      <td>...</td>\n      <td>...</td>\n      <td>...</td>\n    </tr>\n    <tr>\n      <th>145</th>\n      <td>146</td>\n      <td>6.7</td>\n      <td>3.0</td>\n      <td>5.2</td>\n      <td>2.3</td>\n      <td>Iris-virginica</td>\n    </tr>\n    <tr>\n      <th>146</th>\n      <td>147</td>\n      <td>6.3</td>\n      <td>2.5</td>\n      <td>5.0</td>\n      <td>1.9</td>\n      <td>Iris-virginica</td>\n    </tr>\n    <tr>\n      <th>147</th>\n      <td>148</td>\n      <td>6.5</td>\n      <td>3.0</td>\n      <td>5.2</td>\n      <td>2.0</td>\n      <td>Iris-virginica</td>\n    </tr>\n    <tr>\n      <th>148</th>\n      <td>149</td>\n      <td>6.2</td>\n      <td>3.4</td>\n      <td>5.4</td>\n      <td>2.3</td>\n      <td>Iris-virginica</td>\n    </tr>\n    <tr>\n      <th>149</th>\n      <td>150</td>\n      <td>5.9</td>\n      <td>3.0</td>\n      <td>5.1</td>\n      <td>1.8</td>\n      <td>Iris-virginica</td>\n    </tr>\n  </tbody>\n</table>\n<p>150 rows × 6 columns</p>\n</div>"
     },
     "execution_count": 191,
     "metadata": {},
     "output_type": "execute_result"
    }
   ],
   "source": [
    "def convert(x):\n",
    "    if x == 'Iris-setosa':\n",
    "        x = 0\n",
    "    elif x == 'Iris-versicolor':\n",
    "        x = 1\n",
    "    return x\n",
    "\n",
    "df['Species'] = df['Species'].apply(convert)\n",
    "df      "
   ],
   "metadata": {
    "collapsed": false,
    "ExecuteTime": {
     "end_time": "2023-10-10T07:34:43.869074Z",
     "start_time": "2023-10-10T07:34:43.766402Z"
    }
   },
   "id": "9ed6a6302206863c"
  },
  {
   "cell_type": "code",
   "execution_count": 192,
   "outputs": [
    {
     "data": {
      "text/plain": "array([[  1. ,   5.1,   3.5,   1.4,   0.2],\n       [  2. ,   4.9,   3. ,   1.4,   0.2],\n       [  3. ,   4.7,   3.2,   1.3,   0.2],\n       [  4. ,   4.6,   3.1,   1.5,   0.2],\n       [  5. ,   5. ,   3.6,   1.4,   0.2],\n       [  6. ,   5.4,   3.9,   1.7,   0.4],\n       [  7. ,   4.6,   3.4,   1.4,   0.3],\n       [  8. ,   5. ,   3.4,   1.5,   0.2],\n       [  9. ,   4.4,   2.9,   1.4,   0.2],\n       [ 10. ,   4.9,   3.1,   1.5,   0.1],\n       [ 11. ,   5.4,   3.7,   1.5,   0.2],\n       [ 12. ,   4.8,   3.4,   1.6,   0.2],\n       [ 13. ,   4.8,   3. ,   1.4,   0.1],\n       [ 14. ,   4.3,   3. ,   1.1,   0.1],\n       [ 15. ,   5.8,   4. ,   1.2,   0.2],\n       [ 16. ,   5.7,   4.4,   1.5,   0.4],\n       [ 17. ,   5.4,   3.9,   1.3,   0.4],\n       [ 18. ,   5.1,   3.5,   1.4,   0.3],\n       [ 19. ,   5.7,   3.8,   1.7,   0.3],\n       [ 20. ,   5.1,   3.8,   1.5,   0.3],\n       [ 21. ,   5.4,   3.4,   1.7,   0.2],\n       [ 22. ,   5.1,   3.7,   1.5,   0.4],\n       [ 23. ,   4.6,   3.6,   1. ,   0.2],\n       [ 24. ,   5.1,   3.3,   1.7,   0.5],\n       [ 25. ,   4.8,   3.4,   1.9,   0.2],\n       [ 26. ,   5. ,   3. ,   1.6,   0.2],\n       [ 27. ,   5. ,   3.4,   1.6,   0.4],\n       [ 28. ,   5.2,   3.5,   1.5,   0.2],\n       [ 29. ,   5.2,   3.4,   1.4,   0.2],\n       [ 30. ,   4.7,   3.2,   1.6,   0.2],\n       [ 31. ,   4.8,   3.1,   1.6,   0.2],\n       [ 32. ,   5.4,   3.4,   1.5,   0.4],\n       [ 33. ,   5.2,   4.1,   1.5,   0.1],\n       [ 34. ,   5.5,   4.2,   1.4,   0.2],\n       [ 35. ,   4.9,   3.1,   1.5,   0.1],\n       [ 36. ,   5. ,   3.2,   1.2,   0.2],\n       [ 37. ,   5.5,   3.5,   1.3,   0.2],\n       [ 38. ,   4.9,   3.1,   1.5,   0.1],\n       [ 39. ,   4.4,   3. ,   1.3,   0.2],\n       [ 40. ,   5.1,   3.4,   1.5,   0.2],\n       [ 41. ,   5. ,   3.5,   1.3,   0.3],\n       [ 42. ,   4.5,   2.3,   1.3,   0.3],\n       [ 43. ,   4.4,   3.2,   1.3,   0.2],\n       [ 44. ,   5. ,   3.5,   1.6,   0.6],\n       [ 45. ,   5.1,   3.8,   1.9,   0.4],\n       [ 46. ,   4.8,   3. ,   1.4,   0.3],\n       [ 47. ,   5.1,   3.8,   1.6,   0.2],\n       [ 48. ,   4.6,   3.2,   1.4,   0.2],\n       [ 49. ,   5.3,   3.7,   1.5,   0.2],\n       [ 50. ,   5. ,   3.3,   1.4,   0.2],\n       [ 51. ,   7. ,   3.2,   4.7,   1.4],\n       [ 52. ,   6.4,   3.2,   4.5,   1.5],\n       [ 53. ,   6.9,   3.1,   4.9,   1.5],\n       [ 54. ,   5.5,   2.3,   4. ,   1.3],\n       [ 55. ,   6.5,   2.8,   4.6,   1.5],\n       [ 56. ,   5.7,   2.8,   4.5,   1.3],\n       [ 57. ,   6.3,   3.3,   4.7,   1.6],\n       [ 58. ,   4.9,   2.4,   3.3,   1. ],\n       [ 59. ,   6.6,   2.9,   4.6,   1.3],\n       [ 60. ,   5.2,   2.7,   3.9,   1.4],\n       [ 61. ,   5. ,   2. ,   3.5,   1. ],\n       [ 62. ,   5.9,   3. ,   4.2,   1.5],\n       [ 63. ,   6. ,   2.2,   4. ,   1. ],\n       [ 64. ,   6.1,   2.9,   4.7,   1.4],\n       [ 65. ,   5.6,   2.9,   3.6,   1.3],\n       [ 66. ,   6.7,   3.1,   4.4,   1.4],\n       [ 67. ,   5.6,   3. ,   4.5,   1.5],\n       [ 68. ,   5.8,   2.7,   4.1,   1. ],\n       [ 69. ,   6.2,   2.2,   4.5,   1.5],\n       [ 70. ,   5.6,   2.5,   3.9,   1.1],\n       [ 71. ,   5.9,   3.2,   4.8,   1.8],\n       [ 72. ,   6.1,   2.8,   4. ,   1.3],\n       [ 73. ,   6.3,   2.5,   4.9,   1.5],\n       [ 74. ,   6.1,   2.8,   4.7,   1.2],\n       [ 75. ,   6.4,   2.9,   4.3,   1.3],\n       [ 76. ,   6.6,   3. ,   4.4,   1.4],\n       [ 77. ,   6.8,   2.8,   4.8,   1.4],\n       [ 78. ,   6.7,   3. ,   5. ,   1.7],\n       [ 79. ,   6. ,   2.9,   4.5,   1.5],\n       [ 80. ,   5.7,   2.6,   3.5,   1. ],\n       [ 81. ,   5.5,   2.4,   3.8,   1.1],\n       [ 82. ,   5.5,   2.4,   3.7,   1. ],\n       [ 83. ,   5.8,   2.7,   3.9,   1.2],\n       [ 84. ,   6. ,   2.7,   5.1,   1.6],\n       [ 85. ,   5.4,   3. ,   4.5,   1.5],\n       [ 86. ,   6. ,   3.4,   4.5,   1.6],\n       [ 87. ,   6.7,   3.1,   4.7,   1.5],\n       [ 88. ,   6.3,   2.3,   4.4,   1.3],\n       [ 89. ,   5.6,   3. ,   4.1,   1.3],\n       [ 90. ,   5.5,   2.5,   4. ,   1.3],\n       [ 91. ,   5.5,   2.6,   4.4,   1.2],\n       [ 92. ,   6.1,   3. ,   4.6,   1.4],\n       [ 93. ,   5.8,   2.6,   4. ,   1.2],\n       [ 94. ,   5. ,   2.3,   3.3,   1. ],\n       [ 95. ,   5.6,   2.7,   4.2,   1.3],\n       [ 96. ,   5.7,   3. ,   4.2,   1.2],\n       [ 97. ,   5.7,   2.9,   4.2,   1.3],\n       [ 98. ,   6.2,   2.9,   4.3,   1.3],\n       [ 99. ,   5.1,   2.5,   3. ,   1.1],\n       [100. ,   5.7,   2.8,   4.1,   1.3]])"
     },
     "execution_count": 192,
     "metadata": {},
     "output_type": "execute_result"
    }
   ],
   "source": [
    "X = df.iloc[:100,:-1].values\n",
    "y = df.iloc[:100,-1].values\n",
    "X"
   ],
   "metadata": {
    "collapsed": false,
    "ExecuteTime": {
     "end_time": "2023-10-10T07:34:43.869335Z",
     "start_time": "2023-10-10T07:34:43.769747Z"
    }
   },
   "id": "933c34e5dc62036d"
  },
  {
   "cell_type": "code",
   "execution_count": 193,
   "outputs": [
    {
     "data": {
      "text/plain": "array([0, 0, 0, 0, 0, 0, 0, 0, 0, 0, 0, 0, 0, 0, 0, 0, 0, 0, 0, 0, 0, 0,\n       0, 0, 0, 0, 0, 0, 0, 0, 0, 0, 0, 0, 0, 0, 0, 0, 0, 0, 0, 0, 0, 0,\n       0, 0, 0, 0, 0, 0, 1, 1, 1, 1, 1, 1, 1, 1, 1, 1, 1, 1, 1, 1, 1, 1,\n       1, 1, 1, 1, 1, 1, 1, 1, 1, 1, 1, 1, 1, 1, 1, 1, 1, 1, 1, 1, 1, 1,\n       1, 1, 1, 1, 1, 1, 1, 1, 1, 1, 1, 1], dtype=object)"
     },
     "execution_count": 193,
     "metadata": {},
     "output_type": "execute_result"
    }
   ],
   "source": [
    "y"
   ],
   "metadata": {
    "collapsed": false,
    "ExecuteTime": {
     "end_time": "2023-10-10T07:34:43.869414Z",
     "start_time": "2023-10-10T07:34:43.775954Z"
    }
   },
   "id": "eb61f072d4631c4"
  },
  {
   "cell_type": "code",
   "execution_count": 194,
   "outputs": [
    {
     "name": "stdout",
     "output_type": "stream",
     "text": [
      "(75, 5)\n",
      "<class 'numpy.ndarray'>\n"
     ]
    }
   ],
   "source": [
    "from sklearn.model_selection import train_test_split\n",
    "X_train,X_test,Y_train,Y_test = train_test_split(X,y,test_size=0.25,random_state=42)\n",
    "print(X_train.shape)\n",
    "print(type(X_train))"
   ],
   "metadata": {
    "collapsed": false,
    "ExecuteTime": {
     "end_time": "2023-10-10T07:34:43.869502Z",
     "start_time": "2023-10-10T07:34:43.778789Z"
    }
   },
   "id": "f02632e9e3d725d7"
  },
  {
   "cell_type": "code",
   "execution_count": 195,
   "outputs": [],
   "source": [
    "from sklearn.preprocessing import MinMaxScaler\n",
    "ms = MinMaxScaler()\n",
    "X_train = ms.fit_transform(X_train)\n",
    "X_test = ms.fit_transform(X_test)\n"
   ],
   "metadata": {
    "collapsed": false,
    "ExecuteTime": {
     "end_time": "2023-10-10T07:34:43.869530Z",
     "start_time": "2023-10-10T07:34:43.785010Z"
    }
   },
   "id": "a67def52aecbf8fc"
  },
  {
   "cell_type": "code",
   "execution_count": 196,
   "outputs": [
    {
     "data": {
      "text/plain": "array([[0.14285714, 0.51851852, 1.        , 0.10526316, 0.2       ],\n       [0.39795918, 0.25925926, 0.625     , 0.05263158, 0.13333333],\n       [0.96938776, 0.51851852, 0.375     , 0.81578947, 0.8       ],\n       [0.08163265, 0.22222222, 0.45833333, 0.10526316, 0.        ],\n       [0.7244898 , 0.74074074, 0.20833333, 1.        , 0.93333333],\n       [0.10204082, 0.18518519, 0.58333333, 0.13157895, 0.06666667],\n       [0.46938776, 0.11111111, 0.5       , 0.07894737, 0.06666667],\n       [0.85714286, 0.62962963, 0.58333333, 0.89473684, 1.        ],\n       [0.2755102 , 0.33333333, 0.58333333, 0.07894737, 0.06666667],\n       [0.93877551, 0.25925926, 0.125     , 0.57894737, 0.6       ],\n       [0.04081633, 0.40740741, 0.79166667, 0.15789474, 0.2       ],\n       [0.66326531, 0.48148148, 0.41666667, 0.89473684, 0.93333333],\n       [0.65306122, 0.88888889, 0.45833333, 0.86842105, 0.86666667],\n       [0.34693878, 0.25925926, 0.5       , 0.02631579, 0.06666667],\n       [0.15306122, 0.40740741, 0.79166667, 0.05263158, 0.2       ],\n       [0.48979592, 0.25925926, 0.54166667, 0.07894737, 0.06666667],\n       [0.33673469, 0.22222222, 0.45833333, 0.10526316, 0.        ],\n       [0.06122449, 0.25925926, 0.58333333, 0.10526316, 0.06666667],\n       [0.95918367, 0.51851852, 0.41666667, 0.81578947, 0.73333333],\n       [0.26530612, 0.33333333, 0.625     , 0.10526316, 0.06666667],\n       [0.18367347, 0.2962963 , 0.75      , 0.10526316, 0.13333333],\n       [0.81632653, 0.44444444, 0.16666667, 0.68421053, 0.6       ],\n       [0.24489796, 0.25925926, 0.41666667, 0.13157895, 0.06666667],\n       [0.62244898, 0.62962963, 0.08333333, 0.76315789, 0.6       ],\n       [0.12244898, 0.        , 0.41666667, 0.        , 0.        ],\n       [0.23469388, 0.18518519, 0.58333333, 0.21052632, 0.06666667],\n       [0.02040816, 0.11111111, 0.45833333, 0.10526316, 0.06666667],\n       [0.16326531, 0.2962963 , 0.625     , 0.07894737, 0.13333333],\n       [0.37755102, 0.03703704, 0.41666667, 0.05263158, 0.06666667],\n       [0.07142857, 0.03703704, 0.375     , 0.07894737, 0.06666667],\n       [0.78571429, 0.62962963, 0.375     , 0.89473684, 0.93333333],\n       [0.05102041, 0.11111111, 0.58333333, 0.07894737, 0.13333333],\n       [0.64285714, 0.48148148, 0.375     , 0.65789474, 0.8       ],\n       [0.35714286, 0.44444444, 0.625     , 0.05263158, 0.06666667],\n       [0.89795918, 0.44444444, 0.20833333, 0.76315789, 0.8       ],\n       [0.56122449, 0.74074074, 0.54166667, 0.94736842, 1.        ],\n       [1.        , 0.51851852, 0.33333333, 0.78947368, 0.8       ],\n       [0.54081633, 0.81481481, 0.33333333, 0.92105263, 0.93333333],\n       [0.42857143, 0.25925926, 0.625     , 0.13157895, 0.33333333],\n       [0.5       , 1.        , 0.5       , 0.94736842, 0.86666667],\n       [0.67346939, 0.55555556, 0.29166667, 0.78947368, 0.6       ],\n       [0.45918367, 0.2962963 , 0.75      , 0.13157895, 0.06666667],\n       [0.68367347, 0.7037037 , 0.08333333, 0.89473684, 0.93333333],\n       [0.6122449 , 0.59259259, 0.41666667, 0.81578947, 0.93333333],\n       [0.97959184, 0.7037037 , 0.375     , 0.84210526, 0.8       ],\n       [0.79591837, 0.51851852, 0.25      , 0.63157895, 0.6       ],\n       [0.40816327, 0.07407407, 0.125     , 0.05263158, 0.13333333],\n       [0.58163265, 0.85185185, 0.375     , 0.92105263, 0.8       ],\n       [0.47959184, 0.37037037, 0.70833333, 0.10526316, 0.06666667],\n       [0.98979592, 0.2962963 , 0.20833333, 0.5       , 0.66666667],\n       [0.57142857, 0.22222222, 0.16666667, 0.57894737, 0.6       ],\n       [0.75510204, 0.85185185, 0.41666667, 0.86842105, 0.86666667],\n       [0.31632653, 0.33333333, 0.875     , 0.10526316, 0.        ],\n       [0.94897959, 0.48148148, 0.29166667, 0.81578947, 0.8       ],\n       [0.59183673, 0.33333333, 0.29166667, 0.73684211, 0.86666667],\n       [0.63265306, 0.66666667, 0.375     , 0.94736842, 0.86666667],\n       [0.84693878, 0.40740741, 0.41666667, 0.89473684, 0.93333333],\n       [0.36734694, 0.22222222, 0.45833333, 0.10526316, 0.        ],\n       [0.28571429, 0.14814815, 0.5       , 0.13157895, 0.06666667],\n       [0.        , 0.22222222, 0.41666667, 0.07894737, 0.06666667],\n       [0.52040816, 0.96296296, 0.45833333, 1.        , 0.93333333],\n       [0.20408163, 0.2962963 , 0.70833333, 0.10526316, 0.2       ],\n       [0.01020408, 0.14814815, 0.5       , 0.05263158, 0.06666667],\n       [0.2244898 , 0.2962963 , 0.54166667, 0.15789474, 0.26666667],\n       [0.87755102, 0.74074074, 0.125     , 0.86842105, 0.8       ],\n       [0.91836735, 0.66666667, 0.41666667, 0.92105263, 0.86666667],\n       [0.74489796, 0.77777778, 0.375     , 0.84210526, 0.8       ],\n       [0.86734694, 0.88888889, 0.45833333, 0.94736842, 0.93333333],\n       [0.82653061, 0.55555556, 0.29166667, 0.73684211, 0.73333333],\n       [0.19387755, 0.40740741, 0.58333333, 0.15789474, 0.06666667],\n       [0.60204082, 0.25925926, 0.        , 0.63157895, 0.6       ],\n       [0.71428571, 0.66666667, 0.33333333, 0.76315789, 0.8       ],\n       [0.13265306, 0.55555556, 0.83333333, 0.02631579, 0.06666667],\n       [0.92857143, 0.55555556, 0.25      , 0.76315789, 0.73333333],\n       [0.51020408, 0.77777778, 0.5       , 0.89473684, 0.93333333]])"
     },
     "execution_count": 196,
     "metadata": {},
     "output_type": "execute_result"
    }
   ],
   "source": [
    "X_train"
   ],
   "metadata": {
    "collapsed": false,
    "ExecuteTime": {
     "end_time": "2023-10-10T07:34:43.869785Z",
     "start_time": "2023-10-10T07:34:43.787609Z"
    }
   },
   "id": "277a2a6407a294a2"
  },
  {
   "cell_type": "code",
   "execution_count": 197,
   "outputs": [
    {
     "data": {
      "text/plain": "array([[0.92222222, 0.66666667, 0.21052632, 1.        , 0.88235294],\n       [0.58888889, 0.45833333, 0.        , 0.73170732, 0.70588235],\n       [0.77777778, 0.625     , 0.47368421, 0.92682927, 1.        ],\n       [0.5       , 0.16666667, 0.36842105, 0.09756098, 0.11764706],\n       [0.48888889, 0.29166667, 0.78947368, 0.2195122 , 0.17647059],\n       [0.43333333, 0.29166667, 0.57894737, 0.12195122, 0.05882353],\n       [0.24444444, 0.08333333, 0.68421053, 0.        , 0.05882353],\n       [0.88888889, 0.45833333, 0.05263158, 0.68292683, 0.58823529],\n       [0.11111111, 0.41666667, 0.73684211, 0.12195122, 0.05882353],\n       [0.        , 0.29166667, 0.63157895, 0.09756098, 0.05882353],\n       [0.2       , 0.54166667, 0.78947368, 0.17073171, 0.11764706],\n       [0.33333333, 0.16666667, 0.42105263, 0.14634146, 0.05882353],\n       [0.81111111, 0.70833333, 0.26315789, 0.90243902, 0.64705882],\n       [0.36666667, 0.45833333, 1.        , 0.09756098, 0.05882353],\n       [1.        , 0.45833333, 0.15789474, 0.82926829, 0.64705882],\n       [0.04444444, 0.25      , 0.68421053, 0.09756098, 0.05882353],\n       [0.84444444, 1.        , 0.26315789, 0.92682927, 0.76470588],\n       [0.85555556, 0.95833333, 0.36842105, 0.97560976, 0.94117647],\n       [0.13333333, 0.16666667, 0.36842105, 0.09756098, 0.        ],\n       [0.34444444, 0.41666667, 0.57894737, 0.12195122, 0.17647059],\n       [0.61111111, 0.54166667, 0.26315789, 0.85365854, 0.70588235],\n       [0.97777778, 0.5       , 0.36842105, 0.75609756, 0.70588235],\n       [0.28888889, 0.25      , 0.57894737, 0.14634146, 0.17647059],\n       [0.46666667, 0.        , 0.47368421, 0.07317073, 0.05882353],\n       [0.76666667, 0.5       , 0.10526316, 0.70731707, 0.58823529]])"
     },
     "execution_count": 197,
     "metadata": {},
     "output_type": "execute_result"
    }
   ],
   "source": [
    "X_test"
   ],
   "metadata": {
    "collapsed": false,
    "ExecuteTime": {
     "end_time": "2023-10-10T07:34:43.869911Z",
     "start_time": "2023-10-10T07:34:43.789313Z"
    }
   },
   "id": "cff7b47d7a0bb977"
  },
  {
   "cell_type": "code",
   "execution_count": 198,
   "outputs": [
    {
     "data": {
      "text/plain": "array([1, 1, 1, 0, 0, 0, 0, 1, 0, 0, 0, 0, 1, 0, 1, 0, 1, 1, 0, 0, 1, 1,\n       0, 0, 1], dtype=object)"
     },
     "execution_count": 198,
     "metadata": {},
     "output_type": "execute_result"
    }
   ],
   "source": [
    "Y_test"
   ],
   "metadata": {
    "collapsed": false,
    "ExecuteTime": {
     "end_time": "2023-10-10T07:34:43.869970Z",
     "start_time": "2023-10-10T07:34:43.792046Z"
    }
   },
   "id": "9250a1c4123e4b5e"
  },
  {
   "cell_type": "code",
   "execution_count": 199,
   "outputs": [],
   "source": [
    "class perceptron:\n",
    "    def __init__(self,learning_rate=0.01,iterations=10000,batch_size=25):\n",
    "        self.learning_rate = learning_rate\n",
    "        self.iterations =  iterations\n",
    "        self.batch_size = batch_size\n",
    "    \n",
    "    def sigmoid(self,z):\n",
    "        return 1/(1+np.exp(-z))\n",
    "    \n",
    "    def predicted(self,X):\n",
    "        linear_model = np.dot(X,self.weights)+self.bias\n",
    "        pred = self.sigmoid(linear_model)\n",
    "        return pred\n",
    "    \n",
    "    def sigmoid_prime(self,X):\n",
    "        linear_model = np.dot(X,self.weights)+self.bias\n",
    "        return self.sigmoid(linear_model)*(1-self.sigmoid(linear_model))\n",
    "    \n",
    "    def fit_stochastic(self,X,y):\n",
    "        num_samples,num_features = X.shape\n",
    "        self.weights = np.zeros(num_features)\n",
    "        print(self.weights.shape)\n",
    "        self.bias = 0\n",
    "        for i in range(self.iterations):\n",
    "            for j in range(num_samples):\n",
    "                y_pred = self.predicted(X[j])    \n",
    "                loss = (y_pred - y[j])\n",
    "                term = (loss*self.sigmoid_prime(X[j])).astype(float)\n",
    "                dw = (1/num_samples)*(np.dot(X[j],term))\n",
    "                db = (1/num_samples)*term\n",
    "            \n",
    "                self.weights -= self.learning_rate*dw\n",
    "                self.bias -= self.learning_rate*db\n",
    "    def nesterov_prime(self,X):\n",
    "        linear_model = np.dot(X,self.future_weights)+ self.future_bias\n",
    "        return self.sigmoid(linear_model)*(1-self.sigmoid(linear_model))\n",
    "    \n",
    "    def fit_momentum(self,X,y):\n",
    "        num_samples,num_features = X.shape\n",
    "        self.weights = np.zeros(num_features)\n",
    "        self.bias = 0\n",
    "        prev_v_w,prev_v_b,gamma = 0,0,0.9\n",
    "        for i in range(self.iterations):\n",
    "            for j in range(num_samples):\n",
    "                y_pred = self.predicted(X[j])\n",
    "                loss = (y_pred - y[j])\n",
    "                term = (loss*self.sigmoid_prime(X[j])).astype(float)\n",
    "                dw = (1/num_samples)*(np.dot(X[j],term))\n",
    "                db = (1/num_samples)*term\n",
    "                v_w = -gamma*prev_v_w + self.learning_rate*dw\n",
    "                v_b = -gamma*prev_v_b + self.learning_rate*db\n",
    "                self.weights-=v_w\n",
    "                self.bias-=v_b\n",
    "                prev_v_w = v_w\n",
    "                prev_v_b = v_b\n",
    "    \n",
    "    def fit_nestorov(self,X,y):\n",
    "        num_samples,num_features = X.shape\n",
    "        self.weights = np.zeros(num_features)\n",
    "        self.bias = 0\n",
    "        prev_v_w,prev_v_b,gamma = 0,0,0.9\n",
    "        \n",
    "        for i in range(self.iterations):\n",
    "            for j in range(num_samples):\n",
    "                v_w = -gamma*prev_v_w\n",
    "                v_b = -gamma*prev_v_b\n",
    "                self.future_weights = self.weights - v_w\n",
    "                self.future_bias = self.bias - v_b\n",
    "                y_pred = self.predicted(X[j])\n",
    "                loss = (y_pred - y[j])\n",
    "                term = (loss*self.nesterov_prime(X[j])).astype(float)\n",
    "                dw = (1/num_samples)*(np.dot(X[j],term))\n",
    "                db = (1/num_samples)*term\n",
    "                v_w = -gamma*prev_v_w + self.learning_rate*dw\n",
    "                v_b = -gamma*prev_v_b + self.learning_rate*db\n",
    "                self.weights-= v_w\n",
    "                self.bias-= v_b\n",
    "                prev_v_w = v_w\n",
    "                prev_v_b = v_b\n",
    "    \n",
    "    def fit_adagrad(self,X,y):\n",
    "        num_samples,num_features = X.shape\n",
    "        self.weights = np.zeros(num_features)\n",
    "        self.bias = 0\n",
    "        v_w = 0\n",
    "        v_b = 0\n",
    "        eps = 0.0000001\n",
    "        for i in range(self.iterations):\n",
    "            for j in range(num_samples):\n",
    "                y_pred = self.predicted(X[j])\n",
    "                loss = (y_pred - y[j])\n",
    "                term = (loss*self.sigmoid_prime(X[j])).astype(float)\n",
    "                dw = (1/num_samples)*(np.dot(X[j],term))\n",
    "                db = (1/num_samples)*term\n",
    "                v_w += dw**2\n",
    "                v_b += db**2\n",
    "                w = self.weights - (self.learning_rate/np.sqrt(v_w+eps))*dw\n",
    "                b = self.bias - (self.learning_rate/np.sqrt(v_b+eps))*db\n",
    "    \n",
    "    def fit_rmsprop(self,X,y):\n",
    "        num_samples,num_features = X.shape\n",
    "        self.weights = np.zeros(num_features)\n",
    "        self.bias = 0\n",
    "        v_w = 0\n",
    "        v_b = 0\n",
    "        eps = 0.0000001\n",
    "        beta1 = 0.9\n",
    "        for i in range(self.iterations):\n",
    "            for j in range(num_samples):\n",
    "                y_pred = self.predicted(X[j])\n",
    "                loss = (y_pred - y[j])\n",
    "                term = (loss*self.sigmoid_prime(X[j])).astype(float)\n",
    "                dw = (1/num_samples)*(np.dot(X[j],term))\n",
    "                db = (1/num_samples)*term\n",
    "                v_w = beta1*(v_w) + (1-beta1)*dw**2\n",
    "                v_b = beta1*(v_b) + (1-beta1)*db**2\n",
    "                w = self.weights - (self.learning_rate/np.sqrt(v_w+eps))*dw\n",
    "                b = self.bias - (self.learning_rate/np.sqrt(v_b+eps))*db\n",
    "        \n",
    "\n",
    "   \n",
    "    def test(self,X,y):\n",
    "        global Y_predtest\n",
    "        Y_predtest = self.predicted(X)\n",
    "        Y_values = Y_predtest\n",
    "        correct = 0\n",
    "        total =len(y)\n",
    "        for i in range(len(Y_predtest)):\n",
    "            if Y_predtest[i]>0.5:\n",
    "                Y_predtest[i] = 1\n",
    "            else:\n",
    "                Y_predtest[i]=0\n",
    "        for i in range(len(y)):\n",
    "            if y[i]==Y_predtest[i]:\n",
    "                correct+=1\n",
    "        \n",
    "        print(\"Accuracy : \",correct/total) \n",
    "    "
   ],
   "metadata": {
    "collapsed": false,
    "ExecuteTime": {
     "end_time": "2023-10-10T07:34:43.869998Z",
     "start_time": "2023-10-10T07:34:43.801299Z"
    }
   },
   "id": "28477a5e24f6698c"
  },
  {
   "cell_type": "code",
   "execution_count": 203,
   "outputs": [],
   "source": [
    "lgreg = perceptron()\n",
    "lgreg.fit_momentum(X_train,Y_train)"
   ],
   "metadata": {
    "collapsed": false,
    "ExecuteTime": {
     "end_time": "2023-10-10T07:35:15.387590Z",
     "start_time": "2023-10-10T07:35:10.973990Z"
    }
   },
   "id": "b5070825ec74c8b1"
  },
  {
   "cell_type": "code",
   "execution_count": 204,
   "outputs": [
    {
     "name": "stdout",
     "output_type": "stream",
     "text": [
      "[ 0.62799633  0.34421764 -0.87869146  1.06932694  1.05995478]\n",
      "-0.7946648094331255\n"
     ]
    }
   ],
   "source": [
    "print(lgreg.weights)\n",
    "print(lgreg.bias)"
   ],
   "metadata": {
    "collapsed": false,
    "ExecuteTime": {
     "end_time": "2023-10-10T07:35:16.017717Z",
     "start_time": "2023-10-10T07:35:16.000732Z"
    }
   },
   "id": "cb85475a96f37b7f"
  },
  {
   "cell_type": "code",
   "execution_count": 205,
   "outputs": [
    {
     "name": "stdout",
     "output_type": "stream",
     "text": [
      "Accuracy :  1.0\n",
      "None\n"
     ]
    }
   ],
   "source": [
    "print(lgreg.test(X_test, Y_test))"
   ],
   "metadata": {
    "collapsed": false,
    "ExecuteTime": {
     "end_time": "2023-10-10T07:35:16.996700Z",
     "start_time": "2023-10-10T07:35:16.979888Z"
    }
   },
   "id": "d6e6e2343b042359"
  },
  {
   "cell_type": "code",
   "execution_count": 202,
   "outputs": [],
   "source": [],
   "metadata": {
    "collapsed": false,
    "ExecuteTime": {
     "end_time": "2023-10-10T07:34:50.149166Z",
     "start_time": "2023-10-10T07:34:50.146957Z"
    }
   },
   "id": "848ec355e9e0752a"
  },
  {
   "cell_type": "code",
   "execution_count": 202,
   "outputs": [],
   "source": [],
   "metadata": {
    "collapsed": false,
    "ExecuteTime": {
     "end_time": "2023-10-10T07:34:50.150395Z",
     "start_time": "2023-10-10T07:34:50.148479Z"
    }
   },
   "id": "f5e30a6625e01392"
  }
 ],
 "metadata": {
  "kernelspec": {
   "display_name": "Python 3",
   "language": "python",
   "name": "python3"
  },
  "language_info": {
   "codemirror_mode": {
    "name": "ipython",
    "version": 2
   },
   "file_extension": ".py",
   "mimetype": "text/x-python",
   "name": "python",
   "nbconvert_exporter": "python",
   "pygments_lexer": "ipython2",
   "version": "2.7.6"
  }
 },
 "nbformat": 4,
 "nbformat_minor": 5
}
