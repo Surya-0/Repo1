{
  "nbformat": 4,
  "nbformat_minor": 0,
  "metadata": {
    "colab": {
      "provenance": []
    },
    "kernelspec": {
      "name": "python3",
      "display_name": "Python 3"
    },
    "language_info": {
      "name": "python"
    }
  },
  "cells": [
    {
      "cell_type": "code",
      "source": [
        "from google.colab import auth\n",
        "\n",
        "\n",
        "auth.authenticate_user()\n",
        "\n",
        "\n",
        "project_id = 'ee-nssurya21'\n",
        "!gcloud config set project {project_id}\n"
      ],
      "metadata": {
        "colab": {
          "base_uri": "https://localhost:8080/"
        },
        "id": "HkLF8qmoQpel",
        "outputId": "2287eeef-696e-421f-e8af-f1f144a5f469"
      },
      "execution_count": 1,
      "outputs": [
        {
          "output_type": "stream",
          "name": "stdout",
          "text": [
            "Updated property [core/project].\n"
          ]
        }
      ]
    },
    {
      "cell_type": "code",
      "source": [
        "# Install geemap library\n",
        "!pip install geemap\n",
        "\n",
        "# Import necessary libraries\n",
        "import ee\n",
        "import geemap\n",
        "import matplotlib.pyplot as plt"
      ],
      "metadata": {
        "colab": {
          "base_uri": "https://localhost:8080/",
          "height": 1000
        },
        "id": "3g2nALUhSlPw",
        "outputId": "a0301dfc-a33c-4243-97b7-0620274b78cf"
      },
      "execution_count": 2,
      "outputs": [
        {
          "output_type": "stream",
          "name": "stdout",
          "text": [
            "Requirement already satisfied: geemap in /usr/local/lib/python3.10/dist-packages (0.31.0)\n",
            "Requirement already satisfied: bqplot in /usr/local/lib/python3.10/dist-packages (from geemap) (0.12.42)\n",
            "Requirement already satisfied: colour in /usr/local/lib/python3.10/dist-packages (from geemap) (0.1.5)\n",
            "Requirement already satisfied: earthengine-api>=0.1.347 in /usr/local/lib/python3.10/dist-packages (from geemap) (0.1.390)\n",
            "Requirement already satisfied: eerepr>=0.0.4 in /usr/local/lib/python3.10/dist-packages (from geemap) (0.0.4)\n",
            "Requirement already satisfied: folium>=0.13.0 in /usr/local/lib/python3.10/dist-packages (from geemap) (0.14.0)\n",
            "Requirement already satisfied: geocoder in /usr/local/lib/python3.10/dist-packages (from geemap) (1.38.1)\n",
            "Requirement already satisfied: ipyevents in /usr/local/lib/python3.10/dist-packages (from geemap) (2.0.2)\n",
            "Requirement already satisfied: ipyfilechooser>=0.6.0 in /usr/local/lib/python3.10/dist-packages (from geemap) (0.6.0)\n",
            "Requirement already satisfied: ipyleaflet>=0.17.0 in /usr/local/lib/python3.10/dist-packages (from geemap) (0.18.2)\n",
            "Requirement already satisfied: ipytree in /usr/local/lib/python3.10/dist-packages (from geemap) (0.2.2)\n",
            "Requirement already satisfied: matplotlib in /usr/local/lib/python3.10/dist-packages (from geemap) (3.7.1)\n",
            "Requirement already satisfied: numpy in /usr/local/lib/python3.10/dist-packages (from geemap) (1.25.2)\n",
            "Requirement already satisfied: pandas in /usr/local/lib/python3.10/dist-packages (from geemap) (1.5.3)\n",
            "Requirement already satisfied: plotly in /usr/local/lib/python3.10/dist-packages (from geemap) (5.15.0)\n",
            "Requirement already satisfied: pyperclip in /usr/local/lib/python3.10/dist-packages (from geemap) (1.8.2)\n",
            "Requirement already satisfied: pyshp>=2.1.3 in /usr/local/lib/python3.10/dist-packages (from geemap) (2.3.1)\n",
            "Requirement already satisfied: python-box in /usr/local/lib/python3.10/dist-packages (from geemap) (7.1.1)\n",
            "Requirement already satisfied: scooby in /usr/local/lib/python3.10/dist-packages (from geemap) (0.9.2)\n",
            "Requirement already satisfied: google-cloud-storage in /usr/local/lib/python3.10/dist-packages (from earthengine-api>=0.1.347->geemap) (2.8.0)\n",
            "Requirement already satisfied: google-api-python-client>=1.12.1 in /usr/local/lib/python3.10/dist-packages (from earthengine-api>=0.1.347->geemap) (2.84.0)\n",
            "Requirement already satisfied: google-auth>=1.4.1 in /usr/local/lib/python3.10/dist-packages (from earthengine-api>=0.1.347->geemap) (2.27.0)\n",
            "Requirement already satisfied: google-auth-httplib2>=0.0.3 in /usr/local/lib/python3.10/dist-packages (from earthengine-api>=0.1.347->geemap) (0.1.1)\n",
            "Requirement already satisfied: httplib2<1dev,>=0.9.2 in /usr/local/lib/python3.10/dist-packages (from earthengine-api>=0.1.347->geemap) (0.22.0)\n",
            "Requirement already satisfied: requests in /usr/local/lib/python3.10/dist-packages (from earthengine-api>=0.1.347->geemap) (2.31.0)\n",
            "Requirement already satisfied: branca>=0.6.0 in /usr/local/lib/python3.10/dist-packages (from folium>=0.13.0->geemap) (0.7.1)\n",
            "Requirement already satisfied: jinja2>=2.9 in /usr/local/lib/python3.10/dist-packages (from folium>=0.13.0->geemap) (3.1.3)\n",
            "Requirement already satisfied: ipywidgets in /usr/local/lib/python3.10/dist-packages (from ipyfilechooser>=0.6.0->geemap) (7.7.1)\n",
            "Requirement already satisfied: traittypes<3,>=0.2.1 in /usr/local/lib/python3.10/dist-packages (from ipyleaflet>=0.17.0->geemap) (0.2.1)\n",
            "Requirement already satisfied: xyzservices>=2021.8.1 in /usr/local/lib/python3.10/dist-packages (from ipyleaflet>=0.17.0->geemap) (2023.10.1)\n",
            "Requirement already satisfied: traitlets>=4.3.0 in /usr/local/lib/python3.10/dist-packages (from bqplot->geemap) (5.7.1)\n",
            "Requirement already satisfied: python-dateutil>=2.8.1 in /usr/local/lib/python3.10/dist-packages (from pandas->geemap) (2.8.2)\n",
            "Requirement already satisfied: pytz>=2020.1 in /usr/local/lib/python3.10/dist-packages (from pandas->geemap) (2023.4)\n",
            "Requirement already satisfied: click in /usr/local/lib/python3.10/dist-packages (from geocoder->geemap) (8.1.7)\n",
            "Requirement already satisfied: future in /usr/local/lib/python3.10/dist-packages (from geocoder->geemap) (0.18.3)\n",
            "Requirement already satisfied: ratelim in /usr/local/lib/python3.10/dist-packages (from geocoder->geemap) (0.1.6)\n",
            "Requirement already satisfied: six in /usr/local/lib/python3.10/dist-packages (from geocoder->geemap) (1.16.0)\n",
            "Requirement already satisfied: contourpy>=1.0.1 in /usr/local/lib/python3.10/dist-packages (from matplotlib->geemap) (1.2.0)\n",
            "Requirement already satisfied: cycler>=0.10 in /usr/local/lib/python3.10/dist-packages (from matplotlib->geemap) (0.12.1)\n",
            "Requirement already satisfied: fonttools>=4.22.0 in /usr/local/lib/python3.10/dist-packages (from matplotlib->geemap) (4.49.0)\n",
            "Requirement already satisfied: kiwisolver>=1.0.1 in /usr/local/lib/python3.10/dist-packages (from matplotlib->geemap) (1.4.5)\n",
            "Requirement already satisfied: packaging>=20.0 in /usr/local/lib/python3.10/dist-packages (from matplotlib->geemap) (23.2)\n",
            "Requirement already satisfied: pillow>=6.2.0 in /usr/local/lib/python3.10/dist-packages (from matplotlib->geemap) (9.4.0)\n",
            "Requirement already satisfied: pyparsing>=2.3.1 in /usr/local/lib/python3.10/dist-packages (from matplotlib->geemap) (3.1.1)\n",
            "Requirement already satisfied: tenacity>=6.2.0 in /usr/local/lib/python3.10/dist-packages (from plotly->geemap) (8.2.3)\n",
            "Requirement already satisfied: google-api-core!=2.0.*,!=2.1.*,!=2.2.*,!=2.3.0,<3.0.0dev,>=1.31.5 in /usr/local/lib/python3.10/dist-packages (from google-api-python-client>=1.12.1->earthengine-api>=0.1.347->geemap) (2.11.1)\n",
            "Requirement already satisfied: uritemplate<5,>=3.0.1 in /usr/local/lib/python3.10/dist-packages (from google-api-python-client>=1.12.1->earthengine-api>=0.1.347->geemap) (4.1.1)\n",
            "Requirement already satisfied: cachetools<6.0,>=2.0.0 in /usr/local/lib/python3.10/dist-packages (from google-auth>=1.4.1->earthengine-api>=0.1.347->geemap) (5.3.2)\n",
            "Requirement already satisfied: pyasn1-modules>=0.2.1 in /usr/local/lib/python3.10/dist-packages (from google-auth>=1.4.1->earthengine-api>=0.1.347->geemap) (0.3.0)\n",
            "Requirement already satisfied: rsa<5,>=3.1.4 in /usr/local/lib/python3.10/dist-packages (from google-auth>=1.4.1->earthengine-api>=0.1.347->geemap) (4.9)\n",
            "Requirement already satisfied: ipykernel>=4.5.1 in /usr/local/lib/python3.10/dist-packages (from ipywidgets->ipyfilechooser>=0.6.0->geemap) (5.5.6)\n",
            "Requirement already satisfied: ipython-genutils~=0.2.0 in /usr/local/lib/python3.10/dist-packages (from ipywidgets->ipyfilechooser>=0.6.0->geemap) (0.2.0)\n",
            "Requirement already satisfied: widgetsnbextension~=3.6.0 in /usr/local/lib/python3.10/dist-packages (from ipywidgets->ipyfilechooser>=0.6.0->geemap) (3.6.6)\n",
            "Requirement already satisfied: ipython>=4.0.0 in /usr/local/lib/python3.10/dist-packages (from ipywidgets->ipyfilechooser>=0.6.0->geemap) (7.34.0)\n",
            "Requirement already satisfied: jupyterlab-widgets>=1.0.0 in /usr/local/lib/python3.10/dist-packages (from ipywidgets->ipyfilechooser>=0.6.0->geemap) (3.0.10)\n",
            "Requirement already satisfied: MarkupSafe>=2.0 in /usr/local/lib/python3.10/dist-packages (from jinja2>=2.9->folium>=0.13.0->geemap) (2.1.5)\n",
            "Requirement already satisfied: google-cloud-core<3.0dev,>=2.3.0 in /usr/local/lib/python3.10/dist-packages (from google-cloud-storage->earthengine-api>=0.1.347->geemap) (2.3.3)\n",
            "Requirement already satisfied: google-resumable-media>=2.3.2 in /usr/local/lib/python3.10/dist-packages (from google-cloud-storage->earthengine-api>=0.1.347->geemap) (2.7.0)\n",
            "Requirement already satisfied: charset-normalizer<4,>=2 in /usr/local/lib/python3.10/dist-packages (from requests->earthengine-api>=0.1.347->geemap) (3.3.2)\n",
            "Requirement already satisfied: idna<4,>=2.5 in /usr/local/lib/python3.10/dist-packages (from requests->earthengine-api>=0.1.347->geemap) (3.6)\n",
            "Requirement already satisfied: urllib3<3,>=1.21.1 in /usr/local/lib/python3.10/dist-packages (from requests->earthengine-api>=0.1.347->geemap) (2.0.7)\n",
            "Requirement already satisfied: certifi>=2017.4.17 in /usr/local/lib/python3.10/dist-packages (from requests->earthengine-api>=0.1.347->geemap) (2024.2.2)\n",
            "Requirement already satisfied: decorator in /usr/local/lib/python3.10/dist-packages (from ratelim->geocoder->geemap) (4.4.2)\n",
            "Requirement already satisfied: googleapis-common-protos<2.0.dev0,>=1.56.2 in /usr/local/lib/python3.10/dist-packages (from google-api-core!=2.0.*,!=2.1.*,!=2.2.*,!=2.3.0,<3.0.0dev,>=1.31.5->google-api-python-client>=1.12.1->earthengine-api>=0.1.347->geemap) (1.62.0)\n",
            "Requirement already satisfied: protobuf!=3.20.0,!=3.20.1,!=4.21.0,!=4.21.1,!=4.21.2,!=4.21.3,!=4.21.4,!=4.21.5,<5.0.0.dev0,>=3.19.5 in /usr/local/lib/python3.10/dist-packages (from google-api-core!=2.0.*,!=2.1.*,!=2.2.*,!=2.3.0,<3.0.0dev,>=1.31.5->google-api-python-client>=1.12.1->earthengine-api>=0.1.347->geemap) (3.20.3)\n",
            "Requirement already satisfied: google-crc32c<2.0dev,>=1.0 in /usr/local/lib/python3.10/dist-packages (from google-resumable-media>=2.3.2->google-cloud-storage->earthengine-api>=0.1.347->geemap) (1.5.0)\n",
            "Requirement already satisfied: jupyter-client in /usr/local/lib/python3.10/dist-packages (from ipykernel>=4.5.1->ipywidgets->ipyfilechooser>=0.6.0->geemap) (6.1.12)\n",
            "Requirement already satisfied: tornado>=4.2 in /usr/local/lib/python3.10/dist-packages (from ipykernel>=4.5.1->ipywidgets->ipyfilechooser>=0.6.0->geemap) (6.3.2)\n",
            "Requirement already satisfied: setuptools>=18.5 in /usr/local/lib/python3.10/dist-packages (from ipython>=4.0.0->ipywidgets->ipyfilechooser>=0.6.0->geemap) (67.7.2)\n",
            "Collecting jedi>=0.16 (from ipython>=4.0.0->ipywidgets->ipyfilechooser>=0.6.0->geemap)\n",
            "  Downloading jedi-0.19.1-py2.py3-none-any.whl (1.6 MB)\n",
            "\u001b[2K     \u001b[90m━━━━━━━━━━━━━━━━━━━━━━━━━━━━━━━━━━━━━━━━\u001b[0m \u001b[32m1.6/1.6 MB\u001b[0m \u001b[31m15.1 MB/s\u001b[0m eta \u001b[36m0:00:00\u001b[0m\n",
            "\u001b[?25hRequirement already satisfied: pickleshare in /usr/local/lib/python3.10/dist-packages (from ipython>=4.0.0->ipywidgets->ipyfilechooser>=0.6.0->geemap) (0.7.5)\n",
            "Requirement already satisfied: prompt-toolkit!=3.0.0,!=3.0.1,<3.1.0,>=2.0.0 in /usr/local/lib/python3.10/dist-packages (from ipython>=4.0.0->ipywidgets->ipyfilechooser>=0.6.0->geemap) (3.0.43)\n",
            "Requirement already satisfied: pygments in /usr/local/lib/python3.10/dist-packages (from ipython>=4.0.0->ipywidgets->ipyfilechooser>=0.6.0->geemap) (2.16.1)\n",
            "Requirement already satisfied: backcall in /usr/local/lib/python3.10/dist-packages (from ipython>=4.0.0->ipywidgets->ipyfilechooser>=0.6.0->geemap) (0.2.0)\n",
            "Requirement already satisfied: matplotlib-inline in /usr/local/lib/python3.10/dist-packages (from ipython>=4.0.0->ipywidgets->ipyfilechooser>=0.6.0->geemap) (0.1.6)\n",
            "Requirement already satisfied: pexpect>4.3 in /usr/local/lib/python3.10/dist-packages (from ipython>=4.0.0->ipywidgets->ipyfilechooser>=0.6.0->geemap) (4.9.0)\n",
            "Requirement already satisfied: pyasn1<0.6.0,>=0.4.6 in /usr/local/lib/python3.10/dist-packages (from pyasn1-modules>=0.2.1->google-auth>=1.4.1->earthengine-api>=0.1.347->geemap) (0.5.1)\n",
            "Requirement already satisfied: notebook>=4.4.1 in /usr/local/lib/python3.10/dist-packages (from widgetsnbextension~=3.6.0->ipywidgets->ipyfilechooser>=0.6.0->geemap) (6.5.5)\n",
            "Requirement already satisfied: parso<0.9.0,>=0.8.3 in /usr/local/lib/python3.10/dist-packages (from jedi>=0.16->ipython>=4.0.0->ipywidgets->ipyfilechooser>=0.6.0->geemap) (0.8.3)\n",
            "Requirement already satisfied: pyzmq<25,>=17 in /usr/local/lib/python3.10/dist-packages (from notebook>=4.4.1->widgetsnbextension~=3.6.0->ipywidgets->ipyfilechooser>=0.6.0->geemap) (23.2.1)\n",
            "Requirement already satisfied: argon2-cffi in /usr/local/lib/python3.10/dist-packages (from notebook>=4.4.1->widgetsnbextension~=3.6.0->ipywidgets->ipyfilechooser>=0.6.0->geemap) (23.1.0)\n",
            "Requirement already satisfied: jupyter-core>=4.6.1 in /usr/local/lib/python3.10/dist-packages (from notebook>=4.4.1->widgetsnbextension~=3.6.0->ipywidgets->ipyfilechooser>=0.6.0->geemap) (5.7.1)\n",
            "Requirement already satisfied: nbformat in /usr/local/lib/python3.10/dist-packages (from notebook>=4.4.1->widgetsnbextension~=3.6.0->ipywidgets->ipyfilechooser>=0.6.0->geemap) (5.9.2)\n",
            "Requirement already satisfied: nbconvert>=5 in /usr/local/lib/python3.10/dist-packages (from notebook>=4.4.1->widgetsnbextension~=3.6.0->ipywidgets->ipyfilechooser>=0.6.0->geemap) (6.5.4)\n",
            "Requirement already satisfied: nest-asyncio>=1.5 in /usr/local/lib/python3.10/dist-packages (from notebook>=4.4.1->widgetsnbextension~=3.6.0->ipywidgets->ipyfilechooser>=0.6.0->geemap) (1.6.0)\n",
            "Requirement already satisfied: Send2Trash>=1.8.0 in /usr/local/lib/python3.10/dist-packages (from notebook>=4.4.1->widgetsnbextension~=3.6.0->ipywidgets->ipyfilechooser>=0.6.0->geemap) (1.8.2)\n",
            "Requirement already satisfied: terminado>=0.8.3 in /usr/local/lib/python3.10/dist-packages (from notebook>=4.4.1->widgetsnbextension~=3.6.0->ipywidgets->ipyfilechooser>=0.6.0->geemap) (0.18.0)\n",
            "Requirement already satisfied: prometheus-client in /usr/local/lib/python3.10/dist-packages (from notebook>=4.4.1->widgetsnbextension~=3.6.0->ipywidgets->ipyfilechooser>=0.6.0->geemap) (0.20.0)\n",
            "Requirement already satisfied: nbclassic>=0.4.7 in /usr/local/lib/python3.10/dist-packages (from notebook>=4.4.1->widgetsnbextension~=3.6.0->ipywidgets->ipyfilechooser>=0.6.0->geemap) (1.0.0)\n",
            "Requirement already satisfied: ptyprocess>=0.5 in /usr/local/lib/python3.10/dist-packages (from pexpect>4.3->ipython>=4.0.0->ipywidgets->ipyfilechooser>=0.6.0->geemap) (0.7.0)\n",
            "Requirement already satisfied: wcwidth in /usr/local/lib/python3.10/dist-packages (from prompt-toolkit!=3.0.0,!=3.0.1,<3.1.0,>=2.0.0->ipython>=4.0.0->ipywidgets->ipyfilechooser>=0.6.0->geemap) (0.2.13)\n",
            "Requirement already satisfied: platformdirs>=2.5 in /usr/local/lib/python3.10/dist-packages (from jupyter-core>=4.6.1->notebook>=4.4.1->widgetsnbextension~=3.6.0->ipywidgets->ipyfilechooser>=0.6.0->geemap) (4.2.0)\n",
            "Requirement already satisfied: jupyter-server>=1.8 in /usr/local/lib/python3.10/dist-packages (from nbclassic>=0.4.7->notebook>=4.4.1->widgetsnbextension~=3.6.0->ipywidgets->ipyfilechooser>=0.6.0->geemap) (1.24.0)\n",
            "Requirement already satisfied: notebook-shim>=0.2.3 in /usr/local/lib/python3.10/dist-packages (from nbclassic>=0.4.7->notebook>=4.4.1->widgetsnbextension~=3.6.0->ipywidgets->ipyfilechooser>=0.6.0->geemap) (0.2.4)\n",
            "Requirement already satisfied: lxml in /usr/local/lib/python3.10/dist-packages (from nbconvert>=5->notebook>=4.4.1->widgetsnbextension~=3.6.0->ipywidgets->ipyfilechooser>=0.6.0->geemap) (4.9.4)\n",
            "Requirement already satisfied: beautifulsoup4 in /usr/local/lib/python3.10/dist-packages (from nbconvert>=5->notebook>=4.4.1->widgetsnbextension~=3.6.0->ipywidgets->ipyfilechooser>=0.6.0->geemap) (4.12.3)\n",
            "Requirement already satisfied: bleach in /usr/local/lib/python3.10/dist-packages (from nbconvert>=5->notebook>=4.4.1->widgetsnbextension~=3.6.0->ipywidgets->ipyfilechooser>=0.6.0->geemap) (6.1.0)\n",
            "Requirement already satisfied: defusedxml in /usr/local/lib/python3.10/dist-packages (from nbconvert>=5->notebook>=4.4.1->widgetsnbextension~=3.6.0->ipywidgets->ipyfilechooser>=0.6.0->geemap) (0.7.1)\n",
            "Requirement already satisfied: entrypoints>=0.2.2 in /usr/local/lib/python3.10/dist-packages (from nbconvert>=5->notebook>=4.4.1->widgetsnbextension~=3.6.0->ipywidgets->ipyfilechooser>=0.6.0->geemap) (0.4)\n",
            "Requirement already satisfied: jupyterlab-pygments in /usr/local/lib/python3.10/dist-packages (from nbconvert>=5->notebook>=4.4.1->widgetsnbextension~=3.6.0->ipywidgets->ipyfilechooser>=0.6.0->geemap) (0.3.0)\n",
            "Requirement already satisfied: mistune<2,>=0.8.1 in /usr/local/lib/python3.10/dist-packages (from nbconvert>=5->notebook>=4.4.1->widgetsnbextension~=3.6.0->ipywidgets->ipyfilechooser>=0.6.0->geemap) (0.8.4)\n",
            "Requirement already satisfied: nbclient>=0.5.0 in /usr/local/lib/python3.10/dist-packages (from nbconvert>=5->notebook>=4.4.1->widgetsnbextension~=3.6.0->ipywidgets->ipyfilechooser>=0.6.0->geemap) (0.9.0)\n",
            "Requirement already satisfied: pandocfilters>=1.4.1 in /usr/local/lib/python3.10/dist-packages (from nbconvert>=5->notebook>=4.4.1->widgetsnbextension~=3.6.0->ipywidgets->ipyfilechooser>=0.6.0->geemap) (1.5.1)\n",
            "Requirement already satisfied: tinycss2 in /usr/local/lib/python3.10/dist-packages (from nbconvert>=5->notebook>=4.4.1->widgetsnbextension~=3.6.0->ipywidgets->ipyfilechooser>=0.6.0->geemap) (1.2.1)\n",
            "Requirement already satisfied: fastjsonschema in /usr/local/lib/python3.10/dist-packages (from nbformat->notebook>=4.4.1->widgetsnbextension~=3.6.0->ipywidgets->ipyfilechooser>=0.6.0->geemap) (2.19.1)\n",
            "Requirement already satisfied: jsonschema>=2.6 in /usr/local/lib/python3.10/dist-packages (from nbformat->notebook>=4.4.1->widgetsnbextension~=3.6.0->ipywidgets->ipyfilechooser>=0.6.0->geemap) (4.19.2)\n",
            "Requirement already satisfied: argon2-cffi-bindings in /usr/local/lib/python3.10/dist-packages (from argon2-cffi->notebook>=4.4.1->widgetsnbextension~=3.6.0->ipywidgets->ipyfilechooser>=0.6.0->geemap) (21.2.0)\n",
            "Requirement already satisfied: attrs>=22.2.0 in /usr/local/lib/python3.10/dist-packages (from jsonschema>=2.6->nbformat->notebook>=4.4.1->widgetsnbextension~=3.6.0->ipywidgets->ipyfilechooser>=0.6.0->geemap) (23.2.0)\n",
            "Requirement already satisfied: jsonschema-specifications>=2023.03.6 in /usr/local/lib/python3.10/dist-packages (from jsonschema>=2.6->nbformat->notebook>=4.4.1->widgetsnbextension~=3.6.0->ipywidgets->ipyfilechooser>=0.6.0->geemap) (2023.12.1)\n",
            "Requirement already satisfied: referencing>=0.28.4 in /usr/local/lib/python3.10/dist-packages (from jsonschema>=2.6->nbformat->notebook>=4.4.1->widgetsnbextension~=3.6.0->ipywidgets->ipyfilechooser>=0.6.0->geemap) (0.33.0)\n",
            "Requirement already satisfied: rpds-py>=0.7.1 in /usr/local/lib/python3.10/dist-packages (from jsonschema>=2.6->nbformat->notebook>=4.4.1->widgetsnbextension~=3.6.0->ipywidgets->ipyfilechooser>=0.6.0->geemap) (0.18.0)\n",
            "Requirement already satisfied: anyio<4,>=3.1.0 in /usr/local/lib/python3.10/dist-packages (from jupyter-server>=1.8->nbclassic>=0.4.7->notebook>=4.4.1->widgetsnbextension~=3.6.0->ipywidgets->ipyfilechooser>=0.6.0->geemap) (3.7.1)\n",
            "Requirement already satisfied: websocket-client in /usr/local/lib/python3.10/dist-packages (from jupyter-server>=1.8->nbclassic>=0.4.7->notebook>=4.4.1->widgetsnbextension~=3.6.0->ipywidgets->ipyfilechooser>=0.6.0->geemap) (1.7.0)\n",
            "Requirement already satisfied: cffi>=1.0.1 in /usr/local/lib/python3.10/dist-packages (from argon2-cffi-bindings->argon2-cffi->notebook>=4.4.1->widgetsnbextension~=3.6.0->ipywidgets->ipyfilechooser>=0.6.0->geemap) (1.16.0)\n",
            "Requirement already satisfied: soupsieve>1.2 in /usr/local/lib/python3.10/dist-packages (from beautifulsoup4->nbconvert>=5->notebook>=4.4.1->widgetsnbextension~=3.6.0->ipywidgets->ipyfilechooser>=0.6.0->geemap) (2.5)\n",
            "Requirement already satisfied: webencodings in /usr/local/lib/python3.10/dist-packages (from bleach->nbconvert>=5->notebook>=4.4.1->widgetsnbextension~=3.6.0->ipywidgets->ipyfilechooser>=0.6.0->geemap) (0.5.1)\n",
            "Requirement already satisfied: sniffio>=1.1 in /usr/local/lib/python3.10/dist-packages (from anyio<4,>=3.1.0->jupyter-server>=1.8->nbclassic>=0.4.7->notebook>=4.4.1->widgetsnbextension~=3.6.0->ipywidgets->ipyfilechooser>=0.6.0->geemap) (1.3.0)\n",
            "Requirement already satisfied: exceptiongroup in /usr/local/lib/python3.10/dist-packages (from anyio<4,>=3.1.0->jupyter-server>=1.8->nbclassic>=0.4.7->notebook>=4.4.1->widgetsnbextension~=3.6.0->ipywidgets->ipyfilechooser>=0.6.0->geemap) (1.2.0)\n",
            "Requirement already satisfied: pycparser in /usr/local/lib/python3.10/dist-packages (from cffi>=1.0.1->argon2-cffi-bindings->argon2-cffi->notebook>=4.4.1->widgetsnbextension~=3.6.0->ipywidgets->ipyfilechooser>=0.6.0->geemap) (2.21)\n",
            "Installing collected packages: jedi\n",
            "Successfully installed jedi-0.19.1\n"
          ]
        }
      ]
    },
    {
      "cell_type": "code",
      "source": [
        "# Authenticate to Earth Engine\n",
        "try:\n",
        "    # Attempt to initialize Earth Engine with the specified project ID\n",
        "    ee.Initialize(project= project_id)  # Replace with your actual project ID\n",
        "\n",
        "    # If initialization is successful, no exceptions are raised, and you can proceed with Earth Engine code\n",
        "    print(\"Earth Engine initialized successfully!\")\n",
        "\n",
        "except ee.EEException as e:\n",
        "    # If initialization fails, an exception is raised, and authentication is needed\n",
        "    print(\"Authentication required. Initiating authentication...\")\n",
        "\n",
        "    # Authenticate to Earth Engine\n",
        "    ee.Authenticate()\n",
        "\n",
        "    # Retry initialization after authentication\n",
        "    ee.Initialize(project=project_id)  # Replace with your actual project ID\n",
        "\n",
        "    print(\"Earth Engine initialized successfully after authentication!\")\n"
      ],
      "metadata": {
        "colab": {
          "base_uri": "https://localhost:8080/",
          "height": 34
        },
        "id": "5rOxHqNMTmCS",
        "outputId": "d75646cc-8ac6-4cb1-8d2e-f844296f7ae1"
      },
      "execution_count": 3,
      "outputs": [
        {
          "output_type": "display_data",
          "data": {
            "text/plain": [
              "<IPython.core.display.HTML object>"
            ],
            "text/html": [
              "\n",
              "            <style>\n",
              "                .geemap-dark {\n",
              "                    --jp-widgets-color: white;\n",
              "                    --jp-widgets-label-color: white;\n",
              "                    --jp-ui-font-color1: white;\n",
              "                    --jp-layout-color2: #454545;\n",
              "                    background-color: #383838;\n",
              "                }\n",
              "                    \n",
              "                .geemap-dark .jupyter-button {\n",
              "                    --jp-layout-color3: #383838;\n",
              "                }\n",
              "                \n",
              "                .geemap-colab {\n",
              "                    background-color: var(--colab-primary-surface-color, white);\n",
              "                }\n",
              "                    \n",
              "                .geemap-colab .jupyter-button {\n",
              "                    --jp-layout-color3: var(--colab-primary-surface-color, white);\n",
              "                }\n",
              "            </style>\n",
              "            "
            ]
          },
          "metadata": {}
        },
        {
          "output_type": "stream",
          "name": "stdout",
          "text": [
            "Earth Engine initialized successfully!\n"
          ]
        }
      ]
    },
    {
      "cell_type": "code",
      "source": [
        "import folium"
      ],
      "metadata": {
        "colab": {
          "base_uri": "https://localhost:8080/",
          "height": 17
        },
        "id": "wNHw-Yz6WRH7",
        "outputId": "1efac3c0-1d78-4ab1-e3b3-7d5641258b94"
      },
      "execution_count": 4,
      "outputs": [
        {
          "output_type": "display_data",
          "data": {
            "text/plain": [
              "<IPython.core.display.HTML object>"
            ],
            "text/html": [
              "\n",
              "            <style>\n",
              "                .geemap-dark {\n",
              "                    --jp-widgets-color: white;\n",
              "                    --jp-widgets-label-color: white;\n",
              "                    --jp-ui-font-color1: white;\n",
              "                    --jp-layout-color2: #454545;\n",
              "                    background-color: #383838;\n",
              "                }\n",
              "                    \n",
              "                .geemap-dark .jupyter-button {\n",
              "                    --jp-layout-color3: #383838;\n",
              "                }\n",
              "                \n",
              "                .geemap-colab {\n",
              "                    background-color: var(--colab-primary-surface-color, white);\n",
              "                }\n",
              "                    \n",
              "                .geemap-colab .jupyter-button {\n",
              "                    --jp-layout-color3: var(--colab-primary-surface-color, white);\n",
              "                }\n",
              "            </style>\n",
              "            "
            ]
          },
          "metadata": {}
        }
      ]
    },
    {
      "cell_type": "code",
      "source": [
        "# Define the region of interest (ROI) for Ranthambore\n",
        "roi_ranthambore = ee.Geometry.Point([76.5000, 26.0167])\n",
        "\n",
        "# Load a Landsat image collection for a specific time and location (using Ranthambore ROI)\n",
        "landsat_collection_ranthambore = (ee.ImageCollection('LANDSAT/LC08/C01/T1_SR')\n",
        "                                   .filterBounds(roi_ranthambore)\n",
        "                                   .filterDate('2021-01-01', '2021-12-31')\n",
        "                                   .sort('system:time_start'))\n",
        "\n",
        "# Function to calculate NDVI\n",
        "def calculate_ndvi(image):\n",
        "    return image.normalizedDifference(['B5', 'B4']).rename('NDVI')\n",
        "\n",
        "\n",
        "# Create a folium map centered around the Ranthambore ROI\n",
        "map_center_ranthambore = [roi_ranthambore.getInfo()['coordinates'][1], roi_ranthambore.getInfo()['coordinates'][0]]\n",
        "m_ranthambore = folium.Map(location=map_center_ranthambore, zoom_start=10)\n",
        "\n",
        "# Add a marker for the Ranthambore ROI\n",
        "folium.Marker(map_center_ranthambore, popup='Ranthambore ROI').add_to(m_ranthambore)\n",
        "\n",
        "# Display the folium map for Ranthambore\n",
        "display(m_ranthambore)\n"
      ],
      "metadata": {
        "colab": {
          "base_uri": "https://localhost:8080/",
          "height": 807
        },
        "id": "Nf1gjgYubu7Q",
        "outputId": "71c91ba8-9656-4e6c-efa2-0acabdf4422a"
      },
      "execution_count": 5,
      "outputs": [
        {
          "output_type": "display_data",
          "data": {
            "text/plain": [
              "<IPython.core.display.HTML object>"
            ],
            "text/html": [
              "\n",
              "            <style>\n",
              "                .geemap-dark {\n",
              "                    --jp-widgets-color: white;\n",
              "                    --jp-widgets-label-color: white;\n",
              "                    --jp-ui-font-color1: white;\n",
              "                    --jp-layout-color2: #454545;\n",
              "                    background-color: #383838;\n",
              "                }\n",
              "                    \n",
              "                .geemap-dark .jupyter-button {\n",
              "                    --jp-layout-color3: #383838;\n",
              "                }\n",
              "                \n",
              "                .geemap-colab {\n",
              "                    background-color: var(--colab-primary-surface-color, white);\n",
              "                }\n",
              "                    \n",
              "                .geemap-colab .jupyter-button {\n",
              "                    --jp-layout-color3: var(--colab-primary-surface-color, white);\n",
              "                }\n",
              "            </style>\n",
              "            "
            ]
          },
          "metadata": {}
        },
        {
          "output_type": "display_data",
          "data": {
            "text/plain": [
              "<folium.folium.Map at 0x7f37a213cc40>"
            ],
            "text/html": [
              "<div style=\"width:100%;\"><div style=\"position:relative;width:100%;height:0;padding-bottom:60%;\"><span style=\"color:#565656\">Make this Notebook Trusted to load map: File -> Trust Notebook</span><iframe srcdoc=\"&lt;!DOCTYPE html&gt;\n",
              "&lt;html&gt;\n",
              "&lt;head&gt;\n",
              "    \n",
              "    &lt;meta http-equiv=&quot;content-type&quot; content=&quot;text/html; charset=UTF-8&quot; /&gt;\n",
              "    \n",
              "        &lt;script&gt;\n",
              "            L_NO_TOUCH = false;\n",
              "            L_DISABLE_3D = false;\n",
              "        &lt;/script&gt;\n",
              "    \n",
              "    &lt;style&gt;html, body {width: 100%;height: 100%;margin: 0;padding: 0;}&lt;/style&gt;\n",
              "    &lt;style&gt;#map {position:absolute;top:0;bottom:0;right:0;left:0;}&lt;/style&gt;\n",
              "    &lt;script src=&quot;https://cdn.jsdelivr.net/npm/leaflet@1.9.3/dist/leaflet.js&quot;&gt;&lt;/script&gt;\n",
              "    &lt;script src=&quot;https://code.jquery.com/jquery-1.12.4.min.js&quot;&gt;&lt;/script&gt;\n",
              "    &lt;script src=&quot;https://cdn.jsdelivr.net/npm/bootstrap@5.2.2/dist/js/bootstrap.bundle.min.js&quot;&gt;&lt;/script&gt;\n",
              "    &lt;script src=&quot;https://cdnjs.cloudflare.com/ajax/libs/Leaflet.awesome-markers/2.0.2/leaflet.awesome-markers.js&quot;&gt;&lt;/script&gt;\n",
              "    &lt;link rel=&quot;stylesheet&quot; href=&quot;https://cdn.jsdelivr.net/npm/leaflet@1.9.3/dist/leaflet.css&quot;/&gt;\n",
              "    &lt;link rel=&quot;stylesheet&quot; href=&quot;https://cdn.jsdelivr.net/npm/bootstrap@5.2.2/dist/css/bootstrap.min.css&quot;/&gt;\n",
              "    &lt;link rel=&quot;stylesheet&quot; href=&quot;https://netdna.bootstrapcdn.com/bootstrap/3.0.0/css/bootstrap.min.css&quot;/&gt;\n",
              "    &lt;link rel=&quot;stylesheet&quot; href=&quot;https://cdn.jsdelivr.net/npm/@fortawesome/fontawesome-free@6.2.0/css/all.min.css&quot;/&gt;\n",
              "    &lt;link rel=&quot;stylesheet&quot; href=&quot;https://cdnjs.cloudflare.com/ajax/libs/Leaflet.awesome-markers/2.0.2/leaflet.awesome-markers.css&quot;/&gt;\n",
              "    &lt;link rel=&quot;stylesheet&quot; href=&quot;https://cdn.jsdelivr.net/gh/python-visualization/folium/folium/templates/leaflet.awesome.rotate.min.css&quot;/&gt;\n",
              "    \n",
              "            &lt;meta name=&quot;viewport&quot; content=&quot;width=device-width,\n",
              "                initial-scale=1.0, maximum-scale=1.0, user-scalable=no&quot; /&gt;\n",
              "            &lt;style&gt;\n",
              "                #map_0e46a9c051aa91750f8f0ade57ba4444 {\n",
              "                    position: relative;\n",
              "                    width: 100.0%;\n",
              "                    height: 100.0%;\n",
              "                    left: 0.0%;\n",
              "                    top: 0.0%;\n",
              "                }\n",
              "                .leaflet-container { font-size: 1rem; }\n",
              "            &lt;/style&gt;\n",
              "        \n",
              "&lt;/head&gt;\n",
              "&lt;body&gt;\n",
              "    \n",
              "    \n",
              "            &lt;div class=&quot;folium-map&quot; id=&quot;map_0e46a9c051aa91750f8f0ade57ba4444&quot; &gt;&lt;/div&gt;\n",
              "        \n",
              "&lt;/body&gt;\n",
              "&lt;script&gt;\n",
              "    \n",
              "    \n",
              "            var map_0e46a9c051aa91750f8f0ade57ba4444 = L.map(\n",
              "                &quot;map_0e46a9c051aa91750f8f0ade57ba4444&quot;,\n",
              "                {\n",
              "                    center: [26.0167, 76.5],\n",
              "                    crs: L.CRS.EPSG3857,\n",
              "                    zoom: 10,\n",
              "                    zoomControl: true,\n",
              "                    preferCanvas: false,\n",
              "                }\n",
              "            );\n",
              "\n",
              "            \n",
              "\n",
              "        \n",
              "    \n",
              "            var tile_layer_c1737a9c7ef51c2a0117c8367b6713da = L.tileLayer(\n",
              "                &quot;https://{s}.tile.openstreetmap.org/{z}/{x}/{y}.png&quot;,\n",
              "                {&quot;attribution&quot;: &quot;Data by \\u0026copy; \\u003ca target=\\&quot;_blank\\&quot; href=\\&quot;http://openstreetmap.org\\&quot;\\u003eOpenStreetMap\\u003c/a\\u003e, under \\u003ca target=\\&quot;_blank\\&quot; href=\\&quot;http://www.openstreetmap.org/copyright\\&quot;\\u003eODbL\\u003c/a\\u003e.&quot;, &quot;detectRetina&quot;: false, &quot;maxNativeZoom&quot;: 18, &quot;maxZoom&quot;: 18, &quot;minZoom&quot;: 0, &quot;noWrap&quot;: false, &quot;opacity&quot;: 1, &quot;subdomains&quot;: &quot;abc&quot;, &quot;tms&quot;: false}\n",
              "            ).addTo(map_0e46a9c051aa91750f8f0ade57ba4444);\n",
              "        \n",
              "    \n",
              "            var marker_6c6963714f2f2c2985e68232cda11a35 = L.marker(\n",
              "                [26.0167, 76.5],\n",
              "                {}\n",
              "            ).addTo(map_0e46a9c051aa91750f8f0ade57ba4444);\n",
              "        \n",
              "    \n",
              "        var popup_5ae27e31fe416d8529ce904fff540687 = L.popup({&quot;maxWidth&quot;: &quot;100%&quot;});\n",
              "\n",
              "        \n",
              "            \n",
              "                var html_33d54959fe5af1a7eace9616a32427ff = $(`&lt;div id=&quot;html_33d54959fe5af1a7eace9616a32427ff&quot; style=&quot;width: 100.0%; height: 100.0%;&quot;&gt;Ranthambore ROI&lt;/div&gt;`)[0];\n",
              "                popup_5ae27e31fe416d8529ce904fff540687.setContent(html_33d54959fe5af1a7eace9616a32427ff);\n",
              "            \n",
              "        \n",
              "\n",
              "        marker_6c6963714f2f2c2985e68232cda11a35.bindPopup(popup_5ae27e31fe416d8529ce904fff540687)\n",
              "        ;\n",
              "\n",
              "        \n",
              "    \n",
              "&lt;/script&gt;\n",
              "&lt;/html&gt;\" style=\"position:absolute;width:100%;height:100%;left:0;top:0;border:none !important;\" allowfullscreen webkitallowfullscreen mozallowfullscreen></iframe></div></div>"
            ]
          },
          "metadata": {}
        }
      ]
    },
    {
      "cell_type": "code",
      "source": [
        "# Define the region of interest\n",
        "import pandas as pd\n",
        "roi = ee.Geometry.Point([76.5000, 26.0167])\n",
        "\n",
        "# Load the image collection\n",
        "image_collection = ee.ImageCollection('LANDSAT/LC08/C01/T1_SR').filterDate('2014-01-01', '2014-12-31').filterBounds(roi)\n",
        "\n",
        "# Initialize an empty DataFrame to store the NDVI values\n",
        "ndvi_df = pd.DataFrame(columns=['image_id', 'ndvi'])\n",
        "\n",
        "# Iterate over the image collection\n",
        "for i in range(image_collection.size().getInfo()):\n",
        "    # Get the image\n",
        "    image = ee.Image(image_collection.toList(image_collection.size()).get(i))\n",
        "\n",
        "    # Select the red and near-infrared bands\n",
        "    red = image.select('B4')\n",
        "    nir = image.select('B5')\n",
        "\n",
        "    # Calculate NDVI\n",
        "    ndvi = nir.subtract(red).divide(nir.add(red)).rename('NDVI')\n",
        "\n",
        "    # Get the mean NDVI value for the region of interest\n",
        "    ndvi_value = ndvi.reduceRegion(reducer=ee.Reducer.mean(), geometry=roi, scale=30).getInfo()['NDVI']\n",
        "\n",
        "    # Get the image ID\n",
        "    image_id = image.get('system:index').getInfo()\n",
        "\n",
        "    # Store the NDVI value in the DataFrame\n",
        "    ndvi_df = ndvi_df.append({'image_id': image_id, 'ndvi': ndvi_value}, ignore_index=True)\n",
        "\n",
        "# Print the DataFrame\n",
        "\n",
        "print(ndvi_df)"
      ],
      "metadata": {
        "colab": {
          "base_uri": "https://localhost:8080/",
          "height": 1000
        },
        "id": "TRxYDn4oa1p5",
        "outputId": "53c06bb3-a9c8-4578-d316-11faa958e650"
      },
      "execution_count": 6,
      "outputs": [
        {
          "output_type": "display_data",
          "data": {
            "text/plain": [
              "<IPython.core.display.HTML object>"
            ],
            "text/html": [
              "\n",
              "            <style>\n",
              "                .geemap-dark {\n",
              "                    --jp-widgets-color: white;\n",
              "                    --jp-widgets-label-color: white;\n",
              "                    --jp-ui-font-color1: white;\n",
              "                    --jp-layout-color2: #454545;\n",
              "                    background-color: #383838;\n",
              "                }\n",
              "                    \n",
              "                .geemap-dark .jupyter-button {\n",
              "                    --jp-layout-color3: #383838;\n",
              "                }\n",
              "                \n",
              "                .geemap-colab {\n",
              "                    background-color: var(--colab-primary-surface-color, white);\n",
              "                }\n",
              "                    \n",
              "                .geemap-colab .jupyter-button {\n",
              "                    --jp-layout-color3: var(--colab-primary-surface-color, white);\n",
              "                }\n",
              "            </style>\n",
              "            "
            ]
          },
          "metadata": {}
        },
        {
          "output_type": "stream",
          "name": "stderr",
          "text": [
            "<ipython-input-6-ea292aa5833b>:30: FutureWarning: The frame.append method is deprecated and will be removed from pandas in a future version. Use pandas.concat instead.\n",
            "  ndvi_df = ndvi_df.append({'image_id': image_id, 'ndvi': ndvi_value}, ignore_index=True)\n",
            "<ipython-input-6-ea292aa5833b>:30: FutureWarning: The frame.append method is deprecated and will be removed from pandas in a future version. Use pandas.concat instead.\n",
            "  ndvi_df = ndvi_df.append({'image_id': image_id, 'ndvi': ndvi_value}, ignore_index=True)\n",
            "<ipython-input-6-ea292aa5833b>:30: FutureWarning: The frame.append method is deprecated and will be removed from pandas in a future version. Use pandas.concat instead.\n",
            "  ndvi_df = ndvi_df.append({'image_id': image_id, 'ndvi': ndvi_value}, ignore_index=True)\n",
            "<ipython-input-6-ea292aa5833b>:30: FutureWarning: The frame.append method is deprecated and will be removed from pandas in a future version. Use pandas.concat instead.\n",
            "  ndvi_df = ndvi_df.append({'image_id': image_id, 'ndvi': ndvi_value}, ignore_index=True)\n",
            "<ipython-input-6-ea292aa5833b>:30: FutureWarning: The frame.append method is deprecated and will be removed from pandas in a future version. Use pandas.concat instead.\n",
            "  ndvi_df = ndvi_df.append({'image_id': image_id, 'ndvi': ndvi_value}, ignore_index=True)\n",
            "<ipython-input-6-ea292aa5833b>:30: FutureWarning: The frame.append method is deprecated and will be removed from pandas in a future version. Use pandas.concat instead.\n",
            "  ndvi_df = ndvi_df.append({'image_id': image_id, 'ndvi': ndvi_value}, ignore_index=True)\n",
            "<ipython-input-6-ea292aa5833b>:30: FutureWarning: The frame.append method is deprecated and will be removed from pandas in a future version. Use pandas.concat instead.\n",
            "  ndvi_df = ndvi_df.append({'image_id': image_id, 'ndvi': ndvi_value}, ignore_index=True)\n",
            "<ipython-input-6-ea292aa5833b>:30: FutureWarning: The frame.append method is deprecated and will be removed from pandas in a future version. Use pandas.concat instead.\n",
            "  ndvi_df = ndvi_df.append({'image_id': image_id, 'ndvi': ndvi_value}, ignore_index=True)\n",
            "<ipython-input-6-ea292aa5833b>:30: FutureWarning: The frame.append method is deprecated and will be removed from pandas in a future version. Use pandas.concat instead.\n",
            "  ndvi_df = ndvi_df.append({'image_id': image_id, 'ndvi': ndvi_value}, ignore_index=True)\n",
            "<ipython-input-6-ea292aa5833b>:30: FutureWarning: The frame.append method is deprecated and will be removed from pandas in a future version. Use pandas.concat instead.\n",
            "  ndvi_df = ndvi_df.append({'image_id': image_id, 'ndvi': ndvi_value}, ignore_index=True)\n",
            "<ipython-input-6-ea292aa5833b>:30: FutureWarning: The frame.append method is deprecated and will be removed from pandas in a future version. Use pandas.concat instead.\n",
            "  ndvi_df = ndvi_df.append({'image_id': image_id, 'ndvi': ndvi_value}, ignore_index=True)\n",
            "<ipython-input-6-ea292aa5833b>:30: FutureWarning: The frame.append method is deprecated and will be removed from pandas in a future version. Use pandas.concat instead.\n",
            "  ndvi_df = ndvi_df.append({'image_id': image_id, 'ndvi': ndvi_value}, ignore_index=True)\n",
            "<ipython-input-6-ea292aa5833b>:30: FutureWarning: The frame.append method is deprecated and will be removed from pandas in a future version. Use pandas.concat instead.\n",
            "  ndvi_df = ndvi_df.append({'image_id': image_id, 'ndvi': ndvi_value}, ignore_index=True)\n",
            "<ipython-input-6-ea292aa5833b>:30: FutureWarning: The frame.append method is deprecated and will be removed from pandas in a future version. Use pandas.concat instead.\n",
            "  ndvi_df = ndvi_df.append({'image_id': image_id, 'ndvi': ndvi_value}, ignore_index=True)\n",
            "<ipython-input-6-ea292aa5833b>:30: FutureWarning: The frame.append method is deprecated and will be removed from pandas in a future version. Use pandas.concat instead.\n",
            "  ndvi_df = ndvi_df.append({'image_id': image_id, 'ndvi': ndvi_value}, ignore_index=True)\n",
            "<ipython-input-6-ea292aa5833b>:30: FutureWarning: The frame.append method is deprecated and will be removed from pandas in a future version. Use pandas.concat instead.\n",
            "  ndvi_df = ndvi_df.append({'image_id': image_id, 'ndvi': ndvi_value}, ignore_index=True)\n",
            "<ipython-input-6-ea292aa5833b>:30: FutureWarning: The frame.append method is deprecated and will be removed from pandas in a future version. Use pandas.concat instead.\n",
            "  ndvi_df = ndvi_df.append({'image_id': image_id, 'ndvi': ndvi_value}, ignore_index=True)\n",
            "<ipython-input-6-ea292aa5833b>:30: FutureWarning: The frame.append method is deprecated and will be removed from pandas in a future version. Use pandas.concat instead.\n",
            "  ndvi_df = ndvi_df.append({'image_id': image_id, 'ndvi': ndvi_value}, ignore_index=True)\n",
            "<ipython-input-6-ea292aa5833b>:30: FutureWarning: The frame.append method is deprecated and will be removed from pandas in a future version. Use pandas.concat instead.\n",
            "  ndvi_df = ndvi_df.append({'image_id': image_id, 'ndvi': ndvi_value}, ignore_index=True)\n",
            "<ipython-input-6-ea292aa5833b>:30: FutureWarning: The frame.append method is deprecated and will be removed from pandas in a future version. Use pandas.concat instead.\n",
            "  ndvi_df = ndvi_df.append({'image_id': image_id, 'ndvi': ndvi_value}, ignore_index=True)\n",
            "<ipython-input-6-ea292aa5833b>:30: FutureWarning: The frame.append method is deprecated and will be removed from pandas in a future version. Use pandas.concat instead.\n",
            "  ndvi_df = ndvi_df.append({'image_id': image_id, 'ndvi': ndvi_value}, ignore_index=True)\n",
            "<ipython-input-6-ea292aa5833b>:30: FutureWarning: The frame.append method is deprecated and will be removed from pandas in a future version. Use pandas.concat instead.\n",
            "  ndvi_df = ndvi_df.append({'image_id': image_id, 'ndvi': ndvi_value}, ignore_index=True)\n",
            "<ipython-input-6-ea292aa5833b>:30: FutureWarning: The frame.append method is deprecated and will be removed from pandas in a future version. Use pandas.concat instead.\n",
            "  ndvi_df = ndvi_df.append({'image_id': image_id, 'ndvi': ndvi_value}, ignore_index=True)\n",
            "<ipython-input-6-ea292aa5833b>:30: FutureWarning: The frame.append method is deprecated and will be removed from pandas in a future version. Use pandas.concat instead.\n",
            "  ndvi_df = ndvi_df.append({'image_id': image_id, 'ndvi': ndvi_value}, ignore_index=True)\n",
            "<ipython-input-6-ea292aa5833b>:30: FutureWarning: The frame.append method is deprecated and will be removed from pandas in a future version. Use pandas.concat instead.\n",
            "  ndvi_df = ndvi_df.append({'image_id': image_id, 'ndvi': ndvi_value}, ignore_index=True)\n",
            "<ipython-input-6-ea292aa5833b>:30: FutureWarning: The frame.append method is deprecated and will be removed from pandas in a future version. Use pandas.concat instead.\n",
            "  ndvi_df = ndvi_df.append({'image_id': image_id, 'ndvi': ndvi_value}, ignore_index=True)\n",
            "<ipython-input-6-ea292aa5833b>:30: FutureWarning: The frame.append method is deprecated and will be removed from pandas in a future version. Use pandas.concat instead.\n",
            "  ndvi_df = ndvi_df.append({'image_id': image_id, 'ndvi': ndvi_value}, ignore_index=True)\n",
            "<ipython-input-6-ea292aa5833b>:30: FutureWarning: The frame.append method is deprecated and will be removed from pandas in a future version. Use pandas.concat instead.\n",
            "  ndvi_df = ndvi_df.append({'image_id': image_id, 'ndvi': ndvi_value}, ignore_index=True)\n",
            "<ipython-input-6-ea292aa5833b>:30: FutureWarning: The frame.append method is deprecated and will be removed from pandas in a future version. Use pandas.concat instead.\n",
            "  ndvi_df = ndvi_df.append({'image_id': image_id, 'ndvi': ndvi_value}, ignore_index=True)\n",
            "<ipython-input-6-ea292aa5833b>:30: FutureWarning: The frame.append method is deprecated and will be removed from pandas in a future version. Use pandas.concat instead.\n",
            "  ndvi_df = ndvi_df.append({'image_id': image_id, 'ndvi': ndvi_value}, ignore_index=True)\n",
            "<ipython-input-6-ea292aa5833b>:30: FutureWarning: The frame.append method is deprecated and will be removed from pandas in a future version. Use pandas.concat instead.\n",
            "  ndvi_df = ndvi_df.append({'image_id': image_id, 'ndvi': ndvi_value}, ignore_index=True)\n",
            "<ipython-input-6-ea292aa5833b>:30: FutureWarning: The frame.append method is deprecated and will be removed from pandas in a future version. Use pandas.concat instead.\n",
            "  ndvi_df = ndvi_df.append({'image_id': image_id, 'ndvi': ndvi_value}, ignore_index=True)\n",
            "<ipython-input-6-ea292aa5833b>:30: FutureWarning: The frame.append method is deprecated and will be removed from pandas in a future version. Use pandas.concat instead.\n",
            "  ndvi_df = ndvi_df.append({'image_id': image_id, 'ndvi': ndvi_value}, ignore_index=True)\n",
            "<ipython-input-6-ea292aa5833b>:30: FutureWarning: The frame.append method is deprecated and will be removed from pandas in a future version. Use pandas.concat instead.\n",
            "  ndvi_df = ndvi_df.append({'image_id': image_id, 'ndvi': ndvi_value}, ignore_index=True)\n",
            "<ipython-input-6-ea292aa5833b>:30: FutureWarning: The frame.append method is deprecated and will be removed from pandas in a future version. Use pandas.concat instead.\n",
            "  ndvi_df = ndvi_df.append({'image_id': image_id, 'ndvi': ndvi_value}, ignore_index=True)\n",
            "<ipython-input-6-ea292aa5833b>:30: FutureWarning: The frame.append method is deprecated and will be removed from pandas in a future version. Use pandas.concat instead.\n",
            "  ndvi_df = ndvi_df.append({'image_id': image_id, 'ndvi': ndvi_value}, ignore_index=True)\n",
            "<ipython-input-6-ea292aa5833b>:30: FutureWarning: The frame.append method is deprecated and will be removed from pandas in a future version. Use pandas.concat instead.\n",
            "  ndvi_df = ndvi_df.append({'image_id': image_id, 'ndvi': ndvi_value}, ignore_index=True)\n",
            "<ipython-input-6-ea292aa5833b>:30: FutureWarning: The frame.append method is deprecated and will be removed from pandas in a future version. Use pandas.concat instead.\n",
            "  ndvi_df = ndvi_df.append({'image_id': image_id, 'ndvi': ndvi_value}, ignore_index=True)\n"
          ]
        },
        {
          "output_type": "stream",
          "name": "stdout",
          "text": [
            "                image_id      ndvi\n",
            "0   LC08_146042_20140108  0.563304\n",
            "1   LC08_146042_20140124  0.514580\n",
            "2   LC08_146042_20140209  0.481315\n",
            "3   LC08_146042_20140225  0.219496\n",
            "4   LC08_146042_20140313  0.396445\n",
            "5   LC08_146042_20140329  0.398972\n",
            "6   LC08_146042_20140414  0.312276\n",
            "7   LC08_146042_20140516  0.390635\n",
            "8   LC08_146042_20140601  0.368625\n",
            "9   LC08_146042_20140617  0.409004\n",
            "10  LC08_146042_20140703  0.119014\n",
            "11  LC08_146042_20140719  0.063383\n",
            "12  LC08_146042_20140820  0.752882\n",
            "13  LC08_146042_20140905  0.036300\n",
            "14  LC08_146042_20140921  0.780409\n",
            "15  LC08_146042_20141007  0.731495\n",
            "16  LC08_146042_20141023  0.687741\n",
            "17  LC08_146042_20141108  0.671216\n",
            "18  LC08_146042_20141124  0.635845\n",
            "19  LC08_146042_20141210  0.616260\n",
            "20  LC08_146042_20141226  0.555707\n",
            "21  LC08_147042_20140115  0.490588\n",
            "22  LC08_147042_20140131  0.496276\n",
            "23  LC08_147042_20140216  0.002908\n",
            "24  LC08_147042_20140320  0.406082\n",
            "25  LC08_147042_20140405  0.359671\n",
            "26  LC08_147042_20140421  0.398539\n",
            "27  LC08_147042_20140507  0.384615\n",
            "28  LC08_147042_20140523  0.372656\n",
            "29  LC08_147042_20140608  0.371217\n",
            "30  LC08_147042_20140624  0.535938\n",
            "31  LC08_147042_20140710  0.541246\n",
            "32  LC08_147042_20140726  0.007617\n",
            "33  LC08_147042_20140827  0.781217\n",
            "34  LC08_147042_20140912  0.462946\n",
            "35  LC08_147042_20140928  0.780881\n",
            "36  LC08_147042_20141030  0.667956\n",
            "37  LC08_147042_20141201  0.619048\n",
            "38  LC08_147042_20141217  0.582634\n"
          ]
        },
        {
          "output_type": "stream",
          "name": "stderr",
          "text": [
            "<ipython-input-6-ea292aa5833b>:30: FutureWarning: The frame.append method is deprecated and will be removed from pandas in a future version. Use pandas.concat instead.\n",
            "  ndvi_df = ndvi_df.append({'image_id': image_id, 'ndvi': ndvi_value}, ignore_index=True)\n"
          ]
        }
      ]
    },
    {
      "cell_type": "code",
      "source": [
        "\n",
        "# Define the region of interest\n",
        "roi = ee.Geometry.Point([-122.0818, 37.4203])\n",
        "\n",
        "# Load a Landsat 8 image\n",
        "image = ee.ImageCollection('LANDSAT/LC08/C01/T1_SR').filterBounds(roi).first()\n",
        "image_collection = ee.ImageCollection('LANDSAT/LC08/C01/T1_SR').filterDate('2014-01-01', '2014-12-31').filterBounds(roi)\n",
        "# Select the red and near-infrared bands\n",
        "red = image.select('B4')\n",
        "nir = image.select('B5')\n",
        "\n",
        "# Calculate NDVI\n",
        "ndvi = nir.subtract(red).divide(nir.add(red)).rename('NDVI')\n",
        "\n",
        "# Print the NDVI value\n",
        "ndvi_info = ndvi.reduceRegion(reducer=ee.Reducer.mean(), geometry=roi, scale=30).getInfo()\n",
        "print('NDVI:', ndvi_info['NDVI'])\n",
        "print(type(ndvi))\n",
        "print(type(ndvi_info))"
      ],
      "metadata": {
        "colab": {
          "base_uri": "https://localhost:8080/",
          "height": 68
        },
        "id": "cDNfm0NRWx68",
        "outputId": "d47aae96-7c19-4fd5-de49-de885a9238c2"
      },
      "execution_count": 7,
      "outputs": [
        {
          "output_type": "display_data",
          "data": {
            "text/plain": [
              "<IPython.core.display.HTML object>"
            ],
            "text/html": [
              "\n",
              "            <style>\n",
              "                .geemap-dark {\n",
              "                    --jp-widgets-color: white;\n",
              "                    --jp-widgets-label-color: white;\n",
              "                    --jp-ui-font-color1: white;\n",
              "                    --jp-layout-color2: #454545;\n",
              "                    background-color: #383838;\n",
              "                }\n",
              "                    \n",
              "                .geemap-dark .jupyter-button {\n",
              "                    --jp-layout-color3: #383838;\n",
              "                }\n",
              "                \n",
              "                .geemap-colab {\n",
              "                    background-color: var(--colab-primary-surface-color, white);\n",
              "                }\n",
              "                    \n",
              "                .geemap-colab .jupyter-button {\n",
              "                    --jp-layout-color3: var(--colab-primary-surface-color, white);\n",
              "                }\n",
              "            </style>\n",
              "            "
            ]
          },
          "metadata": {}
        },
        {
          "output_type": "stream",
          "name": "stdout",
          "text": [
            "NDVI: 0.6493473253135398\n",
            "<class 'ee.image.Image'>\n",
            "<class 'dict'>\n"
          ]
        }
      ]
    },
    {
      "cell_type": "code",
      "source": [
        "# Sort the collection by 'system:time_start'\n",
        "image_collection = image_collection.sort('system:time_start')\n",
        "\n",
        "# Get the ID of the second image\n",
        "second_image_id = ee.Image(image_collection.toList(image_collection.size()).get(1)).get('system:index').getInfo()\n",
        "\n",
        "# Filter the collection to get the second image\n",
        "second_image = image_collection.filter(ee.Filter.eq('system:index', second_image_id))\n",
        "\n",
        "# Get information about the second image\n",
        "second_image_info = second_image.first().getInfo()\n",
        "\n",
        "# Print the information\n",
        "print(second_image_info)"
      ],
      "metadata": {
        "colab": {
          "base_uri": "https://localhost:8080/",
          "height": 54
        },
        "id": "Ld5kh3aZZRD6",
        "outputId": "0712743f-e572-4ec8-e030-ba3e3c7bb8b1"
      },
      "execution_count": 8,
      "outputs": [
        {
          "output_type": "display_data",
          "data": {
            "text/plain": [
              "<IPython.core.display.HTML object>"
            ],
            "text/html": [
              "\n",
              "            <style>\n",
              "                .geemap-dark {\n",
              "                    --jp-widgets-color: white;\n",
              "                    --jp-widgets-label-color: white;\n",
              "                    --jp-ui-font-color1: white;\n",
              "                    --jp-layout-color2: #454545;\n",
              "                    background-color: #383838;\n",
              "                }\n",
              "                    \n",
              "                .geemap-dark .jupyter-button {\n",
              "                    --jp-layout-color3: #383838;\n",
              "                }\n",
              "                \n",
              "                .geemap-colab {\n",
              "                    background-color: var(--colab-primary-surface-color, white);\n",
              "                }\n",
              "                    \n",
              "                .geemap-colab .jupyter-button {\n",
              "                    --jp-layout-color3: var(--colab-primary-surface-color, white);\n",
              "                }\n",
              "            </style>\n",
              "            "
            ]
          },
          "metadata": {}
        },
        {
          "output_type": "stream",
          "name": "stdout",
          "text": [
            "{'type': 'Image', 'bands': [{'id': 'B1', 'data_type': {'type': 'PixelType', 'precision': 'int', 'min': -32768, 'max': 32767}, 'dimensions': [7661, 7801], 'crs': 'EPSG:32610', 'crs_transform': [30, 0, 461085, 0, -30, 4264215]}, {'id': 'B2', 'data_type': {'type': 'PixelType', 'precision': 'int', 'min': -32768, 'max': 32767}, 'dimensions': [7661, 7801], 'crs': 'EPSG:32610', 'crs_transform': [30, 0, 461085, 0, -30, 4264215]}, {'id': 'B3', 'data_type': {'type': 'PixelType', 'precision': 'int', 'min': -32768, 'max': 32767}, 'dimensions': [7661, 7801], 'crs': 'EPSG:32610', 'crs_transform': [30, 0, 461085, 0, -30, 4264215]}, {'id': 'B4', 'data_type': {'type': 'PixelType', 'precision': 'int', 'min': -32768, 'max': 32767}, 'dimensions': [7661, 7801], 'crs': 'EPSG:32610', 'crs_transform': [30, 0, 461085, 0, -30, 4264215]}, {'id': 'B5', 'data_type': {'type': 'PixelType', 'precision': 'int', 'min': -32768, 'max': 32767}, 'dimensions': [7661, 7801], 'crs': 'EPSG:32610', 'crs_transform': [30, 0, 461085, 0, -30, 4264215]}, {'id': 'B6', 'data_type': {'type': 'PixelType', 'precision': 'int', 'min': -32768, 'max': 32767}, 'dimensions': [7661, 7801], 'crs': 'EPSG:32610', 'crs_transform': [30, 0, 461085, 0, -30, 4264215]}, {'id': 'B7', 'data_type': {'type': 'PixelType', 'precision': 'int', 'min': -32768, 'max': 32767}, 'dimensions': [7661, 7801], 'crs': 'EPSG:32610', 'crs_transform': [30, 0, 461085, 0, -30, 4264215]}, {'id': 'B10', 'data_type': {'type': 'PixelType', 'precision': 'int', 'min': -32768, 'max': 32767}, 'dimensions': [7661, 7801], 'crs': 'EPSG:32610', 'crs_transform': [30, 0, 461085, 0, -30, 4264215]}, {'id': 'B11', 'data_type': {'type': 'PixelType', 'precision': 'int', 'min': -32768, 'max': 32767}, 'dimensions': [7661, 7801], 'crs': 'EPSG:32610', 'crs_transform': [30, 0, 461085, 0, -30, 4264215]}, {'id': 'sr_aerosol', 'data_type': {'type': 'PixelType', 'precision': 'int', 'min': 0, 'max': 255}, 'dimensions': [7661, 7801], 'crs': 'EPSG:32610', 'crs_transform': [30, 0, 461085, 0, -30, 4264215]}, {'id': 'pixel_qa', 'data_type': {'type': 'PixelType', 'precision': 'int', 'min': 0, 'max': 65535}, 'dimensions': [7661, 7801], 'crs': 'EPSG:32610', 'crs_transform': [30, 0, 461085, 0, -30, 4264215]}, {'id': 'radsat_qa', 'data_type': {'type': 'PixelType', 'precision': 'int', 'min': 0, 'max': 65535}, 'dimensions': [7661, 7801], 'crs': 'EPSG:32610', 'crs_transform': [30, 0, 461085, 0, -30, 4264215]}], 'id': 'LANDSAT/LC08/C01/T1_SR/LC08_044034_20140129', 'version': 1522720281487930.0, 'properties': {'IMAGE_QUALITY_TIRS': 9, 'CLOUD_COVER': 90.09, 'EARTH_SUN_DISTANCE': 0.985054, 'LANDSAT_ID': 'LC08_L1TP_044034_20140129_20170307_01_T1', 'system:footprint': {'type': 'LinearRing', 'coordinates': [[-120.86311761292416, 38.13264282811984], [-120.86254323301745, 38.13502513518381], [-121.40693863526604, 38.24108459381297], [-122.7997479443463, 38.499655705902626], [-122.93606268584409, 38.52397611512045], [-122.93681493088198, 38.52338601877858], [-122.93913929708563, 38.51610274297369], [-122.94328053150767, 38.50204322995968], [-123.4253049772719, 36.803671087948466], [-122.4854089008023, 36.62859554209492], [-121.55868037816113, 36.44791383022206], [-121.39974117704611, 36.41613448502454], [-121.39814053772547, 36.41611303343184], [-121.39123124773667, 36.438594441017685], [-121.11916589939044, 37.3191851659083], [-121.06908381770839, 37.479147832906406], [-121.04620838554686, 37.55212751488998], [-121.02729963555984, 37.61237483237536], [-120.98416720945285, 37.74957423970132], [-120.9403245079735, 37.888573887442405], [-120.8766950979978, 38.08951337260734], [-120.86311761292416, 38.13264282811984]]}, 'CLOUD_COVER_LAND': 91.42, 'GEOMETRIC_RMSE_MODEL': 6.945, 'SR_APP_VERSION': 'LaSRC_1.3.0', 'SATELLITE': 'LANDSAT_8', 'SOLAR_AZIMUTH_ANGLE': 153.727997, 'IMAGE_QUALITY_OLI': 9, 'WRS_PATH': 44, 'system:time_start': 1391021230120, 'SENSING_TIME': '2014-01-29T18:47:10.1218740Z', 'ESPA_VERSION': '2_23_0_1a', 'SOLAR_ZENITH_ANGLE': 59.582321, 'WRS_ROW': 34, 'GEOMETRIC_RMSE_MODEL_Y': 5.06, 'LEVEL1_PRODUCTION_DATE': 1488881213000, 'GEOMETRIC_RMSE_MODEL_X': 4.758, 'system:asset_size': 682909232, 'PIXEL_QA_VERSION': 'generate_pixel_qa_1.6.0', 'system:index': 'LC08_044034_20140129'}}\n"
          ]
        }
      ]
    },
    {
      "cell_type": "code",
      "source": [
        "# Define the region of interest\n",
        "import pandas as pd\n",
        "roi = ee.Geometry.Point([-122.0818, 37.4203])\n",
        "\n",
        "# Load the image collection\n",
        "image_collection = ee.ImageCollection('LANDSAT/LC08/C01/T1_SR').filterDate('2013-01-01', '2014-12-31').filterBounds(roi)\n",
        "\n",
        "# Initialize an empty DataFrame to store the NDVI values\n",
        "ndvi_df = pd.DataFrame(columns=['image_id', 'ndvi'])\n",
        "\n",
        "# Iterate over the image collection\n",
        "for i in range(image_collection.size().getInfo()):\n",
        "    # Get the image\n",
        "    image = ee.Image(image_collection.toList(image_collection.size()).get(i))\n",
        "\n",
        "    # Select the red and near-infrared bands\n",
        "    red = image.select('B4')\n",
        "    nir = image.select('B5')\n",
        "\n",
        "    # Calculate NDVI\n",
        "    ndvi = nir.subtract(red).divide(nir.add(red)).rename('NDVI')\n",
        "\n",
        "    # Get the mean NDVI value for the region of interest\n",
        "    ndvi_value = ndvi.reduceRegion(reducer=ee.Reducer.mean(), geometry=roi, scale=30).getInfo()['NDVI']\n",
        "\n",
        "    # Get the image ID\n",
        "    image_id = image.get('system:index').getInfo()\n",
        "\n",
        "    # Store the NDVI value in the DataFrame\n",
        "    ndvi_df = ndvi_df.append({'image_id': image_id, 'ndvi': ndvi_value}, ignore_index=True)\n",
        "\n",
        "# Print the DataFrame\n",
        "print(ndvi_df)"
      ],
      "metadata": {
        "colab": {
          "base_uri": "https://localhost:8080/",
          "height": 1000
        },
        "id": "f47xnw7vZs5U",
        "outputId": "cebd7eab-2fe3-4e6e-a1ea-a15b05445fdb"
      },
      "execution_count": 9,
      "outputs": [
        {
          "output_type": "display_data",
          "data": {
            "text/plain": [
              "<IPython.core.display.HTML object>"
            ],
            "text/html": [
              "\n",
              "            <style>\n",
              "                .geemap-dark {\n",
              "                    --jp-widgets-color: white;\n",
              "                    --jp-widgets-label-color: white;\n",
              "                    --jp-ui-font-color1: white;\n",
              "                    --jp-layout-color2: #454545;\n",
              "                    background-color: #383838;\n",
              "                }\n",
              "                    \n",
              "                .geemap-dark .jupyter-button {\n",
              "                    --jp-layout-color3: #383838;\n",
              "                }\n",
              "                \n",
              "                .geemap-colab {\n",
              "                    background-color: var(--colab-primary-surface-color, white);\n",
              "                }\n",
              "                    \n",
              "                .geemap-colab .jupyter-button {\n",
              "                    --jp-layout-color3: var(--colab-primary-surface-color, white);\n",
              "                }\n",
              "            </style>\n",
              "            "
            ]
          },
          "metadata": {}
        },
        {
          "output_type": "stream",
          "name": "stderr",
          "text": [
            "<ipython-input-9-555d4ea9d758>:30: FutureWarning: The frame.append method is deprecated and will be removed from pandas in a future version. Use pandas.concat instead.\n",
            "  ndvi_df = ndvi_df.append({'image_id': image_id, 'ndvi': ndvi_value}, ignore_index=True)\n",
            "<ipython-input-9-555d4ea9d758>:30: FutureWarning: The frame.append method is deprecated and will be removed from pandas in a future version. Use pandas.concat instead.\n",
            "  ndvi_df = ndvi_df.append({'image_id': image_id, 'ndvi': ndvi_value}, ignore_index=True)\n",
            "<ipython-input-9-555d4ea9d758>:30: FutureWarning: The frame.append method is deprecated and will be removed from pandas in a future version. Use pandas.concat instead.\n",
            "  ndvi_df = ndvi_df.append({'image_id': image_id, 'ndvi': ndvi_value}, ignore_index=True)\n",
            "<ipython-input-9-555d4ea9d758>:30: FutureWarning: The frame.append method is deprecated and will be removed from pandas in a future version. Use pandas.concat instead.\n",
            "  ndvi_df = ndvi_df.append({'image_id': image_id, 'ndvi': ndvi_value}, ignore_index=True)\n",
            "<ipython-input-9-555d4ea9d758>:30: FutureWarning: The frame.append method is deprecated and will be removed from pandas in a future version. Use pandas.concat instead.\n",
            "  ndvi_df = ndvi_df.append({'image_id': image_id, 'ndvi': ndvi_value}, ignore_index=True)\n",
            "<ipython-input-9-555d4ea9d758>:30: FutureWarning: The frame.append method is deprecated and will be removed from pandas in a future version. Use pandas.concat instead.\n",
            "  ndvi_df = ndvi_df.append({'image_id': image_id, 'ndvi': ndvi_value}, ignore_index=True)\n",
            "<ipython-input-9-555d4ea9d758>:30: FutureWarning: The frame.append method is deprecated and will be removed from pandas in a future version. Use pandas.concat instead.\n",
            "  ndvi_df = ndvi_df.append({'image_id': image_id, 'ndvi': ndvi_value}, ignore_index=True)\n",
            "<ipython-input-9-555d4ea9d758>:30: FutureWarning: The frame.append method is deprecated and will be removed from pandas in a future version. Use pandas.concat instead.\n",
            "  ndvi_df = ndvi_df.append({'image_id': image_id, 'ndvi': ndvi_value}, ignore_index=True)\n",
            "<ipython-input-9-555d4ea9d758>:30: FutureWarning: The frame.append method is deprecated and will be removed from pandas in a future version. Use pandas.concat instead.\n",
            "  ndvi_df = ndvi_df.append({'image_id': image_id, 'ndvi': ndvi_value}, ignore_index=True)\n",
            "<ipython-input-9-555d4ea9d758>:30: FutureWarning: The frame.append method is deprecated and will be removed from pandas in a future version. Use pandas.concat instead.\n",
            "  ndvi_df = ndvi_df.append({'image_id': image_id, 'ndvi': ndvi_value}, ignore_index=True)\n",
            "<ipython-input-9-555d4ea9d758>:30: FutureWarning: The frame.append method is deprecated and will be removed from pandas in a future version. Use pandas.concat instead.\n",
            "  ndvi_df = ndvi_df.append({'image_id': image_id, 'ndvi': ndvi_value}, ignore_index=True)\n",
            "<ipython-input-9-555d4ea9d758>:30: FutureWarning: The frame.append method is deprecated and will be removed from pandas in a future version. Use pandas.concat instead.\n",
            "  ndvi_df = ndvi_df.append({'image_id': image_id, 'ndvi': ndvi_value}, ignore_index=True)\n",
            "<ipython-input-9-555d4ea9d758>:30: FutureWarning: The frame.append method is deprecated and will be removed from pandas in a future version. Use pandas.concat instead.\n",
            "  ndvi_df = ndvi_df.append({'image_id': image_id, 'ndvi': ndvi_value}, ignore_index=True)\n",
            "<ipython-input-9-555d4ea9d758>:30: FutureWarning: The frame.append method is deprecated and will be removed from pandas in a future version. Use pandas.concat instead.\n",
            "  ndvi_df = ndvi_df.append({'image_id': image_id, 'ndvi': ndvi_value}, ignore_index=True)\n",
            "<ipython-input-9-555d4ea9d758>:30: FutureWarning: The frame.append method is deprecated and will be removed from pandas in a future version. Use pandas.concat instead.\n",
            "  ndvi_df = ndvi_df.append({'image_id': image_id, 'ndvi': ndvi_value}, ignore_index=True)\n",
            "<ipython-input-9-555d4ea9d758>:30: FutureWarning: The frame.append method is deprecated and will be removed from pandas in a future version. Use pandas.concat instead.\n",
            "  ndvi_df = ndvi_df.append({'image_id': image_id, 'ndvi': ndvi_value}, ignore_index=True)\n",
            "<ipython-input-9-555d4ea9d758>:30: FutureWarning: The frame.append method is deprecated and will be removed from pandas in a future version. Use pandas.concat instead.\n",
            "  ndvi_df = ndvi_df.append({'image_id': image_id, 'ndvi': ndvi_value}, ignore_index=True)\n",
            "<ipython-input-9-555d4ea9d758>:30: FutureWarning: The frame.append method is deprecated and will be removed from pandas in a future version. Use pandas.concat instead.\n",
            "  ndvi_df = ndvi_df.append({'image_id': image_id, 'ndvi': ndvi_value}, ignore_index=True)\n",
            "<ipython-input-9-555d4ea9d758>:30: FutureWarning: The frame.append method is deprecated and will be removed from pandas in a future version. Use pandas.concat instead.\n",
            "  ndvi_df = ndvi_df.append({'image_id': image_id, 'ndvi': ndvi_value}, ignore_index=True)\n",
            "<ipython-input-9-555d4ea9d758>:30: FutureWarning: The frame.append method is deprecated and will be removed from pandas in a future version. Use pandas.concat instead.\n",
            "  ndvi_df = ndvi_df.append({'image_id': image_id, 'ndvi': ndvi_value}, ignore_index=True)\n",
            "<ipython-input-9-555d4ea9d758>:30: FutureWarning: The frame.append method is deprecated and will be removed from pandas in a future version. Use pandas.concat instead.\n",
            "  ndvi_df = ndvi_df.append({'image_id': image_id, 'ndvi': ndvi_value}, ignore_index=True)\n",
            "<ipython-input-9-555d4ea9d758>:30: FutureWarning: The frame.append method is deprecated and will be removed from pandas in a future version. Use pandas.concat instead.\n",
            "  ndvi_df = ndvi_df.append({'image_id': image_id, 'ndvi': ndvi_value}, ignore_index=True)\n",
            "<ipython-input-9-555d4ea9d758>:30: FutureWarning: The frame.append method is deprecated and will be removed from pandas in a future version. Use pandas.concat instead.\n",
            "  ndvi_df = ndvi_df.append({'image_id': image_id, 'ndvi': ndvi_value}, ignore_index=True)\n",
            "<ipython-input-9-555d4ea9d758>:30: FutureWarning: The frame.append method is deprecated and will be removed from pandas in a future version. Use pandas.concat instead.\n",
            "  ndvi_df = ndvi_df.append({'image_id': image_id, 'ndvi': ndvi_value}, ignore_index=True)\n",
            "<ipython-input-9-555d4ea9d758>:30: FutureWarning: The frame.append method is deprecated and will be removed from pandas in a future version. Use pandas.concat instead.\n",
            "  ndvi_df = ndvi_df.append({'image_id': image_id, 'ndvi': ndvi_value}, ignore_index=True)\n",
            "<ipython-input-9-555d4ea9d758>:30: FutureWarning: The frame.append method is deprecated and will be removed from pandas in a future version. Use pandas.concat instead.\n",
            "  ndvi_df = ndvi_df.append({'image_id': image_id, 'ndvi': ndvi_value}, ignore_index=True)\n",
            "<ipython-input-9-555d4ea9d758>:30: FutureWarning: The frame.append method is deprecated and will be removed from pandas in a future version. Use pandas.concat instead.\n",
            "  ndvi_df = ndvi_df.append({'image_id': image_id, 'ndvi': ndvi_value}, ignore_index=True)\n",
            "<ipython-input-9-555d4ea9d758>:30: FutureWarning: The frame.append method is deprecated and will be removed from pandas in a future version. Use pandas.concat instead.\n",
            "  ndvi_df = ndvi_df.append({'image_id': image_id, 'ndvi': ndvi_value}, ignore_index=True)\n",
            "<ipython-input-9-555d4ea9d758>:30: FutureWarning: The frame.append method is deprecated and will be removed from pandas in a future version. Use pandas.concat instead.\n",
            "  ndvi_df = ndvi_df.append({'image_id': image_id, 'ndvi': ndvi_value}, ignore_index=True)\n",
            "<ipython-input-9-555d4ea9d758>:30: FutureWarning: The frame.append method is deprecated and will be removed from pandas in a future version. Use pandas.concat instead.\n",
            "  ndvi_df = ndvi_df.append({'image_id': image_id, 'ndvi': ndvi_value}, ignore_index=True)\n",
            "<ipython-input-9-555d4ea9d758>:30: FutureWarning: The frame.append method is deprecated and will be removed from pandas in a future version. Use pandas.concat instead.\n",
            "  ndvi_df = ndvi_df.append({'image_id': image_id, 'ndvi': ndvi_value}, ignore_index=True)\n",
            "<ipython-input-9-555d4ea9d758>:30: FutureWarning: The frame.append method is deprecated and will be removed from pandas in a future version. Use pandas.concat instead.\n",
            "  ndvi_df = ndvi_df.append({'image_id': image_id, 'ndvi': ndvi_value}, ignore_index=True)\n",
            "<ipython-input-9-555d4ea9d758>:30: FutureWarning: The frame.append method is deprecated and will be removed from pandas in a future version. Use pandas.concat instead.\n",
            "  ndvi_df = ndvi_df.append({'image_id': image_id, 'ndvi': ndvi_value}, ignore_index=True)\n"
          ]
        },
        {
          "output_type": "stream",
          "name": "stdout",
          "text": [
            "                image_id      ndvi\n",
            "0   LC08_044034_20130409  0.649347\n",
            "1   LC08_044034_20130416  0.611197\n",
            "2   LC08_044034_20130603  0.562339\n",
            "3   LC08_044034_20130619  0.576914\n",
            "4   LC08_044034_20130705  0.622691\n",
            "5   LC08_044034_20130721  0.617317\n",
            "6   LC08_044034_20130806  0.575530\n",
            "7   LC08_044034_20130822  0.599776\n",
            "8   LC08_044034_20130907  0.668696\n",
            "9   LC08_044034_20130923  0.713694\n",
            "10  LC08_044034_20131009  0.670517\n",
            "11  LC08_044034_20131025  0.675733\n",
            "12  LC08_044034_20131110  0.627347\n",
            "13  LC08_044034_20131126  0.645191\n",
            "14  LC08_044034_20131212  0.681148\n",
            "15  LC08_044034_20131228  0.607627\n",
            "16  LC08_044034_20140113  0.606061\n",
            "17  LC08_044034_20140129  0.029374\n",
            "18  LC08_044034_20140214  0.029597\n",
            "19  LC08_044034_20140318  0.645625\n",
            "20  LC08_044034_20140403  0.333333\n",
            "21  LC08_044034_20140419  0.652893\n",
            "22  LC08_044034_20140505  0.063379\n",
            "23  LC08_044034_20140521  0.635908\n",
            "24  LC08_044034_20140606  0.640540\n",
            "25  LC08_044034_20140622  0.612822\n",
            "26  LC08_044034_20140708  0.622019\n",
            "27  LC08_044034_20140724  0.600531\n",
            "28  LC08_044034_20140809  0.611285\n",
            "29  LC08_044034_20140825  0.089442\n",
            "30  LC08_044034_20140910  0.512375\n",
            "31  LC08_044034_20140926  0.475362\n",
            "32  LC08_044034_20141012  0.487757\n",
            "33  LC08_044034_20141028  0.581673\n"
          ]
        },
        {
          "output_type": "stream",
          "name": "stderr",
          "text": [
            "<ipython-input-9-555d4ea9d758>:30: FutureWarning: The frame.append method is deprecated and will be removed from pandas in a future version. Use pandas.concat instead.\n",
            "  ndvi_df = ndvi_df.append({'image_id': image_id, 'ndvi': ndvi_value}, ignore_index=True)\n"
          ]
        }
      ]
    },
    {
      "cell_type": "code",
      "source": [
        "ndvi_df.shape"
      ],
      "metadata": {
        "colab": {
          "base_uri": "https://localhost:8080/",
          "height": 34
        },
        "id": "RlKjpzrZaFsf",
        "outputId": "4ef91d8e-82ce-46e1-8b8e-985bffc774c2"
      },
      "execution_count": 10,
      "outputs": [
        {
          "output_type": "display_data",
          "data": {
            "text/plain": [
              "<IPython.core.display.HTML object>"
            ],
            "text/html": [
              "\n",
              "            <style>\n",
              "                .geemap-dark {\n",
              "                    --jp-widgets-color: white;\n",
              "                    --jp-widgets-label-color: white;\n",
              "                    --jp-ui-font-color1: white;\n",
              "                    --jp-layout-color2: #454545;\n",
              "                    background-color: #383838;\n",
              "                }\n",
              "                    \n",
              "                .geemap-dark .jupyter-button {\n",
              "                    --jp-layout-color3: #383838;\n",
              "                }\n",
              "                \n",
              "                .geemap-colab {\n",
              "                    background-color: var(--colab-primary-surface-color, white);\n",
              "                }\n",
              "                    \n",
              "                .geemap-colab .jupyter-button {\n",
              "                    --jp-layout-color3: var(--colab-primary-surface-color, white);\n",
              "                }\n",
              "            </style>\n",
              "            "
            ]
          },
          "metadata": {}
        },
        {
          "output_type": "execute_result",
          "data": {
            "text/plain": [
              "(34, 2)"
            ]
          },
          "metadata": {},
          "execution_count": 10
        }
      ]
    },
    {
      "cell_type": "code",
      "source": [
        "import ee\n",
        "\n",
        "# Initialize the Earth Engine module.\n",
        "ee.Initialize()\n",
        "\n",
        "# Define a region of interest.\n",
        "roi = ee.Geometry.Polygon(\n",
        "  [[[76.842,11.481],\n",
        "    [77.249,11.481],\n",
        "    [77.249,10.935],\n",
        "    [76.842,10.935],\n",
        "    [76.842,11.481]]]\n",
        ")\n",
        "\n",
        "# Filter the L8 collection to a single date.\n",
        "collection = ee.ImageCollection('LANDSAT/LC08/C01/T1') \\\n",
        "    .filterDate('2020-01-01', '2020-12-31') \\\n",
        "    .filterBounds(roi)\n",
        "\n",
        "# Make a cloud-free composite.\n",
        "composite = ee.Algorithms.Landsat.simpleComposite(collection)\n",
        "\n",
        "# Calculate NDVI.\n",
        "ndvi = composite.normalizedDifference(['B5', 'B4']).rename('NDVI')\n",
        "\n",
        "# Clip the NDVI to the ROI.\n",
        "clipped = ndvi.clip(roi)\n",
        "\n",
        "# Calculate the mean NDVI for the entire image.\n",
        "mean_ndvi = clipped.reduceRegion(reducer=ee.Reducer.mean(), geometry=roi, scale=30, maxPixels=1e9)\n",
        "\n",
        "# Print the result to the console.\n",
        "print('Mean NDVI:', mean_ndvi.getInfo()['NDVI'])\n",
        "\n",
        "# Define a sub-region of interest within the clipped image.\n",
        "sub_roi = ee.Geometry.Rectangle([76.9, 11.2, 77.0, 11.1])\n",
        "\n",
        "# Calculate the mean NDVI within the sub-region.\n",
        "mean_ndvi_sub = clipped.reduceRegion(reducer=ee.Reducer.mean(), geometry=sub_roi, scale=30, maxPixels=1e9)\n",
        "\n",
        "# Print the result to the console.\n",
        "print('Mean NDVI in sub-region:', mean_ndvi_sub.getInfo()['NDVI'])"
      ],
      "metadata": {
        "id": "28djWy2ldPA2",
        "colab": {
          "base_uri": "https://localhost:8080/",
          "height": 51
        },
        "outputId": "62407b5c-047c-4eeb-d620-328263fb968c"
      },
      "execution_count": 11,
      "outputs": [
        {
          "output_type": "display_data",
          "data": {
            "text/plain": [
              "<IPython.core.display.HTML object>"
            ],
            "text/html": [
              "\n",
              "            <style>\n",
              "                .geemap-dark {\n",
              "                    --jp-widgets-color: white;\n",
              "                    --jp-widgets-label-color: white;\n",
              "                    --jp-ui-font-color1: white;\n",
              "                    --jp-layout-color2: #454545;\n",
              "                    background-color: #383838;\n",
              "                }\n",
              "                    \n",
              "                .geemap-dark .jupyter-button {\n",
              "                    --jp-layout-color3: #383838;\n",
              "                }\n",
              "                \n",
              "                .geemap-colab {\n",
              "                    background-color: var(--colab-primary-surface-color, white);\n",
              "                }\n",
              "                    \n",
              "                .geemap-colab .jupyter-button {\n",
              "                    --jp-layout-color3: var(--colab-primary-surface-color, white);\n",
              "                }\n",
              "            </style>\n",
              "            "
            ]
          },
          "metadata": {}
        },
        {
          "output_type": "stream",
          "name": "stdout",
          "text": [
            "Mean NDVI: 0.41911560093170225\n",
            "Mean NDVI in sub-region: 0.4183791543364513\n"
          ]
        }
      ]
    },
    {
      "cell_type": "code",
      "source": [
        "import ee\n",
        "\n",
        "# Initialize the Earth Engine module.\n",
        "ee.Initialize()\n",
        "\n",
        "# Define a region of interest.\n",
        "roi = ee.Geometry.Rectangle([80.18, 12.80, 80.27, 13.04])\n",
        "\n",
        "# Filter the L8 collection to a single date.\n",
        "collection = ee.ImageCollection('LANDSAT/LC08/C01/T1') \\\n",
        "    .filterDate('2020-01-01', '2020-12-31') \\\n",
        "    .filterBounds(roi)\n",
        "\n",
        "# Make a cloud-free composite.\n",
        "composite = ee.Algorithms.Landsat.simpleComposite(collection)\n",
        "\n",
        "# Calculate NDVI.\n",
        "ndvi = composite.normalizedDifference(['B5', 'B4']).rename('NDVI')\n",
        "\n",
        "# Clip the NDVI to the ROI.\n",
        "clipped = ndvi.clip(roi)\n",
        "\n",
        "# Calculate the mean NDVI for the entire image.\n",
        "mean_ndvi = clipped.reduceRegion(reducer=ee.Reducer.mean(), geometry=roi, scale=30, maxPixels=1e9)\n",
        "\n",
        "# Print the result to the console.\n",
        "print('Mean NDVI:', mean_ndvi.getInfo()['NDVI'])\n",
        "\n",
        "# Define a sub-region of interest within the clipped image.\n",
        "sub_roi = ee.Geometry.Rectangle([76.9, 11.2, 77.0, 11.1])\n",
        "\n",
        "# Calculate the mean NDVI within the sub-region.\n",
        "mean_ndvi_sub = clipped.reduceRegion(reducer=ee.Reducer.mean(), geometry=sub_roi, scale=30, maxPixels=1e9)\n",
        "\n",
        "# Print the result to the console.\n",
        "print('Mean NDVI in sub-region:', mean_ndvi_sub.getInfo()['NDVI'])"
      ],
      "metadata": {
        "colab": {
          "base_uri": "https://localhost:8080/",
          "height": 51
        },
        "id": "LL7tv-WxEq5A",
        "outputId": "2533d504-da0d-4367-8f47-95c1905cadc0"
      },
      "execution_count": 12,
      "outputs": [
        {
          "output_type": "display_data",
          "data": {
            "text/plain": [
              "<IPython.core.display.HTML object>"
            ],
            "text/html": [
              "\n",
              "            <style>\n",
              "                .geemap-dark {\n",
              "                    --jp-widgets-color: white;\n",
              "                    --jp-widgets-label-color: white;\n",
              "                    --jp-ui-font-color1: white;\n",
              "                    --jp-layout-color2: #454545;\n",
              "                    background-color: #383838;\n",
              "                }\n",
              "                    \n",
              "                .geemap-dark .jupyter-button {\n",
              "                    --jp-layout-color3: #383838;\n",
              "                }\n",
              "                \n",
              "                .geemap-colab {\n",
              "                    background-color: var(--colab-primary-surface-color, white);\n",
              "                }\n",
              "                    \n",
              "                .geemap-colab .jupyter-button {\n",
              "                    --jp-layout-color3: var(--colab-primary-surface-color, white);\n",
              "                }\n",
              "            </style>\n",
              "            "
            ]
          },
          "metadata": {}
        },
        {
          "output_type": "stream",
          "name": "stdout",
          "text": [
            "Mean NDVI: 0.251802540435411\n",
            "Mean NDVI in sub-region: None\n"
          ]
        }
      ]
    },
    {
      "cell_type": "code",
      "source": [
        "import ee\n",
        "\n",
        "# Initialize the Earth Engine module.\n",
        "ee.Initialize()\n",
        "\n",
        "# Define a region of interest.\n",
        "roi = ee.Geometry.Rectangle([76.842, 11.481, 77.249, 10.935])\n",
        "\n",
        "# Filter the L8 collection to a single date.\n",
        "collection = ee.ImageCollection('LANDSAT/LC08/C01/T1') \\\n",
        "    .filterDate('2020-02-01', '2020-03-31') \\\n",
        "    .filterBounds(roi)\n",
        "\n",
        "# Get the list of images in the collection.\n",
        "images = collection.toList(collection.size())\n",
        "\n",
        "# Loop over the images and create an export task for each one.\n",
        "for i in range(images.size().getInfo()):\n",
        "    image = ee.Image(images.get(i))\n",
        "    ndvi = image.normalizedDifference(['B5', 'B4']).rename('NDVI')\n",
        "    clipped = ndvi.clip(roi)\n",
        "    task = ee.batch.Export.image.toDrive(\n",
        "        image=clipped,\n",
        "        description='NDVI_' + image.id().getInfo(),\n",
        "        folder='Projects',\n",
        "        scale=30,\n",
        "        region=roi.getInfo()['coordinates']\n",
        "    )\n",
        "    task.start()\n",
        "    print(f'Started export task for image {image.id().getInfo()}')"
      ],
      "metadata": {
        "colab": {
          "base_uri": "https://localhost:8080/",
          "height": 119
        },
        "id": "i2SmPc7-PPLD",
        "outputId": "c68f6ee3-d65e-4165-aaa1-e681b7464c28"
      },
      "execution_count": 18,
      "outputs": [
        {
          "output_type": "display_data",
          "data": {
            "text/plain": [
              "<IPython.core.display.HTML object>"
            ],
            "text/html": [
              "\n",
              "            <style>\n",
              "                .geemap-dark {\n",
              "                    --jp-widgets-color: white;\n",
              "                    --jp-widgets-label-color: white;\n",
              "                    --jp-ui-font-color1: white;\n",
              "                    --jp-layout-color2: #454545;\n",
              "                    background-color: #383838;\n",
              "                }\n",
              "                    \n",
              "                .geemap-dark .jupyter-button {\n",
              "                    --jp-layout-color3: #383838;\n",
              "                }\n",
              "                \n",
              "                .geemap-colab {\n",
              "                    background-color: var(--colab-primary-surface-color, white);\n",
              "                }\n",
              "                    \n",
              "                .geemap-colab .jupyter-button {\n",
              "                    --jp-layout-color3: var(--colab-primary-surface-color, white);\n",
              "                }\n",
              "            </style>\n",
              "            "
            ]
          },
          "metadata": {}
        },
        {
          "output_type": "stream",
          "name": "stdout",
          "text": [
            "Started export task for image LC08_144052_20200212\n",
            "Started export task for image LC08_144052_20200228\n",
            "Started export task for image LC08_144052_20200315\n",
            "Started export task for image LC08_144053_20200212\n",
            "Started export task for image LC08_144053_20200228\n",
            "Started export task for image LC08_144053_20200315\n"
          ]
        }
      ]
    },
    {
      "cell_type": "code",
      "source": [
        "import ee\n",
        "\n",
        "# Initialize the Earth Engine module.\n",
        "ee.Initialize()\n",
        "\n",
        "# Define a region of interest.\n",
        "roi = ee.Geometry.Polygon(\n",
        "  [[[76.842,11.481],\n",
        "    [77.249,11.481],\n",
        "    [77.249,10.935],\n",
        "    [76.842,10.935],\n",
        "    [76.842,11.481]]\n",
        "  ]\n",
        ")\n",
        "\n",
        "# Filter the L8 collection to a single date.\n",
        "collection = ee.ImageCollection('LANDSAT/LC08/C01/T1') \\\n",
        "    .filterDate('2020-01-01', '2020-02-29') \\\n",
        "    .filterBounds(roi)\n",
        "\n",
        "# Make a cloud-free composite.\n",
        "composite = ee.Algorithms.Landsat.simpleComposite(collection)\n",
        "\n",
        "# Calculate NDVI.\n",
        "ndvi = composite.normalizedDifference(['B5', 'B4']).rename('NDVI')\n",
        "\n",
        "# Clip the NDVI to the ROI.\n",
        "clipped = ndvi.clip(roi)\n",
        "\n",
        "# Export the NDVI to your drive.\n",
        "task = ee.batch.Export.image.toDrive(\n",
        "    image=clipped,\n",
        "    description='NDVI_Coimbatore_2',\n",
        "    folder='Projects',\n",
        "    scale=30,\n",
        "    region=roi.getInfo()['coordinates'],\n",
        "    maxPixels=1e9\n",
        ")\n",
        "task.start()"
      ],
      "metadata": {
        "colab": {
          "base_uri": "https://localhost:8080/",
          "height": 17
        },
        "id": "Uyci2L7jPuiq",
        "outputId": "13e232cc-3af7-4e5c-e9b4-1e0a9f46e910"
      },
      "execution_count": 20,
      "outputs": [
        {
          "output_type": "display_data",
          "data": {
            "text/plain": [
              "<IPython.core.display.HTML object>"
            ],
            "text/html": [
              "\n",
              "            <style>\n",
              "                .geemap-dark {\n",
              "                    --jp-widgets-color: white;\n",
              "                    --jp-widgets-label-color: white;\n",
              "                    --jp-ui-font-color1: white;\n",
              "                    --jp-layout-color2: #454545;\n",
              "                    background-color: #383838;\n",
              "                }\n",
              "                    \n",
              "                .geemap-dark .jupyter-button {\n",
              "                    --jp-layout-color3: #383838;\n",
              "                }\n",
              "                \n",
              "                .geemap-colab {\n",
              "                    background-color: var(--colab-primary-surface-color, white);\n",
              "                }\n",
              "                    \n",
              "                .geemap-colab .jupyter-button {\n",
              "                    --jp-layout-color3: var(--colab-primary-surface-color, white);\n",
              "                }\n",
              "            </style>\n",
              "            "
            ]
          },
          "metadata": {}
        }
      ]
    },
    {
      "cell_type": "code",
      "source": [],
      "metadata": {
        "id": "kbYdoyNGUGST"
      },
      "execution_count": null,
      "outputs": []
    }
  ]
}