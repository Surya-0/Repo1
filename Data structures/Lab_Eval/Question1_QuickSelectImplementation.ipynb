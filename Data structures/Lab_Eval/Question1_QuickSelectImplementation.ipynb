{
 "cells": [
  {
   "cell_type": "code",
   "execution_count": 1,
   "metadata": {},
   "outputs": [],
   "source": [
    "import random\n",
    "\n",
    "def choose_pivot(arr, low, high):\n",
    "    return high\n",
    "\n",
    "def partition(arr, low, high):\n",
    "    pivot_index = choose_pivot(arr, low, high)\n",
    "    print(pivot_index)\n",
    "    pivot = arr[pivot_index]\n",
    "    arr[pivot_index], arr[high] = arr[high], arr[pivot_index]\n",
    "    i = low\n",
    "    for j in range(low, high):\n",
    "        if arr[j] > pivot:\n",
    "            arr[i], arr[j] = arr[j], arr[i]\n",
    "            i += 1\n",
    "    arr[i], arr[high] = arr[high], arr[i]\n",
    "    print(arr)\n",
    "    return i"
   ]
  },
  {
   "cell_type": "code",
   "execution_count": 2,
   "metadata": {},
   "outputs": [],
   "source": [
    "def kth_largest_element(arr, low, high, k):\n",
    "    if low == high:\n",
    "        return arr[low]\n",
    "    else:\n",
    "        pivot_index = partition(arr, low, high)\n",
    "        print(pivot_index)\n",
    "        if k == pivot_index:\n",
    "            return arr[pivot_index]\n",
    "        elif k < pivot_index:\n",
    "            return kth_largest_element(arr, low, pivot_index - 1, k)\n",
    "        else:\n",
    "            return kth_largest_element(arr, pivot_index + 1, high, k)\n",
    "\n",
    "def find_kth_largest(arr, k):\n",
    "    if k < 1 or k > len(arr):\n",
    "        return None\n",
    "    return kth_largest_element(arr, 0, len(arr) - 1, k - 1)\n"
   ]
  },
  {
   "cell_type": "code",
   "execution_count": 3,
   "metadata": {},
   "outputs": [
    {
     "name": "stdout",
     "output_type": "stream",
     "text": [
      "7\n",
      "[8, 7, 10, 6, 1, 5, 3, 2]\n",
      "3\n",
      "The 4th largest element is: 6\n"
     ]
    }
   ],
   "source": [
    "\n",
    "# arr = [random.randint(1,30) for a in range(10)]\n",
    "arr = [1,5,3,2,8,7,10,6]\n",
    "# k = random.randint(1,10)\n",
    "k = 4\n",
    "result = find_kth_largest(arr, k)\n",
    "# print(k)\n",
    "print(\"The \",k,\"th largest element is: \",result,sep=\"\")"
   ]
  },
  {
   "cell_type": "code",
   "execution_count": 4,
   "metadata": {},
   "outputs": [
    {
     "name": "stdout",
     "output_type": "stream",
     "text": [
      "Original array: [9, 26, 12, 10, 21, 5, 13, 20, 10, 27]\n",
      "[5, 9]\n"
     ]
    }
   ],
   "source": [
    "import random\n",
    "\n",
    "def choose_pivot(arr, low, high):\n",
    "    return high\n",
    "\n",
    "def partition(arr, low, high):\n",
    "    pivot_index = choose_pivot(arr, low, high)\n",
    "    pivot = arr[pivot_index]\n",
    "    arr[pivot_index], arr[low] = arr[low], arr[pivot_index]\n",
    "    i = low + 1\n",
    "    for j in range(low + 1, high + 1):\n",
    "        if arr[j] < pivot:\n",
    "            arr[i], arr[j] = arr[j], arr[i]\n",
    "            i += 1\n",
    "    arr[low], arr[i - 1] = arr[i - 1], arr[low]\n",
    "    return i - 1\n",
    "\n",
    "def kth_smallest_elements(arr, low, high, k):\n",
    "    if low == high:\n",
    "        return arr[low]\n",
    "    else:\n",
    "        pivot_index = partition(arr, low, high)\n",
    "        if k == pivot_index:\n",
    "            return arr[pivot_index]\n",
    "        elif k < pivot_index:\n",
    "            return kth_smallest_elements(arr, low, pivot_index - 1, k)\n",
    "        else:\n",
    "            return kth_smallest_elements(arr, pivot_index + 1, high, k)\n",
    "\n",
    "def find_kth_smallest(arr, k):\n",
    "    if k < 1 or k > len(arr):\n",
    "        return None\n",
    "    return kth_smallest_elements(arr, 0, len(arr) - 1, k - 1)\n",
    "\n",
    "arr = [random.randint(1, 30) for _ in range(10)]\n",
    "print(\"Original array:\", arr)\n",
    "\n",
    "k = 2\n",
    "result_arr = []\n",
    "for i in range(1,k+1):\n",
    "    result = find_kth_smallest(arr, i)\n",
    "    result_arr.append(result)\n",
    "print(result_arr)\n"
   ]
  },
  {
   "cell_type": "code",
   "execution_count": 5,
   "metadata": {},
   "outputs": [],
   "source": [
    "import time\n",
    "import random"
   ]
  },
  {
   "cell_type": "code",
   "execution_count": 6,
   "metadata": {},
   "outputs": [],
   "source": [
    "def partition(array,low,high):\n",
    "    pivot=array[high]\n",
    "    i=low - 1\n",
    "    for j in range(low,high):\n",
    "        if(array[j]<= pivot):\n",
    "            i=i+1\n",
    "            array[i],array[j]=array[j],array[i]\n",
    "    array[i+1],array[high]=array[high],array[i+1]\n",
    "    return i+1\n",
    "\n",
    "def quick_sort(array,low,high):\n",
    "    if(low < high):\n",
    "        pi=partition(array,low,high)\n",
    "        quick_sort(array,low,pi-1)\n",
    "        quick_sort(array,pi+1,high)\n",
    "    return array\n",
    "\n",
    "def quick_sort_call(arr,k):\n",
    "    start_time = time.time()\n",
    "    arr = quick_sort(arr,0,len(arr)-1)\n",
    "    ele = arr[:k]\n",
    "    end_time = time.time()\n",
    "    return end_time - start_time,ele"
   ]
  },
  {
   "cell_type": "code",
   "execution_count": 7,
   "metadata": {},
   "outputs": [
    {
     "name": "stdout",
     "output_type": "stream",
     "text": [
      "[1, 3]\n"
     ]
    }
   ],
   "source": [
    "brr = [22, 29, 3, 20, 28, 25, 5, 1, 13, 18]\n",
    "time,arr = quick_sort_call(brr,2)\n",
    "print(arr)"
   ]
  },
  {
   "cell_type": "code",
   "execution_count": null,
   "metadata": {},
   "outputs": [],
   "source": []
  }
 ],
 "metadata": {
  "kernelspec": {
   "display_name": "tf",
   "language": "python",
   "name": "python3"
  },
  "language_info": {
   "codemirror_mode": {
    "name": "ipython",
    "version": 3
   },
   "file_extension": ".py",
   "mimetype": "text/x-python",
   "name": "python",
   "nbconvert_exporter": "python",
   "pygments_lexer": "ipython3",
   "version": "3.11.4"
  },
  "orig_nbformat": 4
 },
 "nbformat": 4,
 "nbformat_minor": 2
}
