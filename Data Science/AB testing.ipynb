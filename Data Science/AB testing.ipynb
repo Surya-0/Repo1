{
 "cells": [
  {
   "cell_type": "code",
   "execution_count": 2,
   "id": "initial_id",
   "metadata": {
    "collapsed": true,
    "ExecuteTime": {
     "end_time": "2023-11-02T12:47:07.296623Z",
     "start_time": "2023-11-02T12:47:07.253181Z"
    }
   },
   "outputs": [],
   "source": [
    "import numpy as np\n",
    "import pandas as pd\n",
    "import matplotlib.pyplot as plt\n",
    "%matplotlib inline"
   ]
  },
  {
   "cell_type": "code",
   "execution_count": 3,
   "outputs": [
    {
     "data": {
      "text/plain": "      case  bwt  gestation  parity   age  height  weight  smoke\n0        1  120      284.0       0  27.0    62.0   100.0    0.0\n1        2  113      282.0       0  33.0    64.0   135.0    0.0\n2        3  128      279.0       0  28.0    64.0   115.0    1.0\n3        4  123        NaN       0  36.0    69.0   190.0    0.0\n4        5  108      282.0       0  23.0    67.0   125.0    1.0\n...    ...  ...        ...     ...   ...     ...     ...    ...\n1231  1232  113      275.0       1  27.0    60.0   100.0    0.0\n1232  1233  128      265.0       0  24.0    67.0   120.0    0.0\n1233  1234  130      291.0       0  30.0    65.0   150.0    1.0\n1234  1235  125      281.0       1  21.0    65.0   110.0    0.0\n1235  1236  117      297.0       0  38.0    65.0   129.0    0.0\n\n[1236 rows x 8 columns]",
      "text/html": "<div>\n<style scoped>\n    .dataframe tbody tr th:only-of-type {\n        vertical-align: middle;\n    }\n\n    .dataframe tbody tr th {\n        vertical-align: top;\n    }\n\n    .dataframe thead th {\n        text-align: right;\n    }\n</style>\n<table border=\"1\" class=\"dataframe\">\n  <thead>\n    <tr style=\"text-align: right;\">\n      <th></th>\n      <th>case</th>\n      <th>bwt</th>\n      <th>gestation</th>\n      <th>parity</th>\n      <th>age</th>\n      <th>height</th>\n      <th>weight</th>\n      <th>smoke</th>\n    </tr>\n  </thead>\n  <tbody>\n    <tr>\n      <th>0</th>\n      <td>1</td>\n      <td>120</td>\n      <td>284.0</td>\n      <td>0</td>\n      <td>27.0</td>\n      <td>62.0</td>\n      <td>100.0</td>\n      <td>0.0</td>\n    </tr>\n    <tr>\n      <th>1</th>\n      <td>2</td>\n      <td>113</td>\n      <td>282.0</td>\n      <td>0</td>\n      <td>33.0</td>\n      <td>64.0</td>\n      <td>135.0</td>\n      <td>0.0</td>\n    </tr>\n    <tr>\n      <th>2</th>\n      <td>3</td>\n      <td>128</td>\n      <td>279.0</td>\n      <td>0</td>\n      <td>28.0</td>\n      <td>64.0</td>\n      <td>115.0</td>\n      <td>1.0</td>\n    </tr>\n    <tr>\n      <th>3</th>\n      <td>4</td>\n      <td>123</td>\n      <td>NaN</td>\n      <td>0</td>\n      <td>36.0</td>\n      <td>69.0</td>\n      <td>190.0</td>\n      <td>0.0</td>\n    </tr>\n    <tr>\n      <th>4</th>\n      <td>5</td>\n      <td>108</td>\n      <td>282.0</td>\n      <td>0</td>\n      <td>23.0</td>\n      <td>67.0</td>\n      <td>125.0</td>\n      <td>1.0</td>\n    </tr>\n    <tr>\n      <th>...</th>\n      <td>...</td>\n      <td>...</td>\n      <td>...</td>\n      <td>...</td>\n      <td>...</td>\n      <td>...</td>\n      <td>...</td>\n      <td>...</td>\n    </tr>\n    <tr>\n      <th>1231</th>\n      <td>1232</td>\n      <td>113</td>\n      <td>275.0</td>\n      <td>1</td>\n      <td>27.0</td>\n      <td>60.0</td>\n      <td>100.0</td>\n      <td>0.0</td>\n    </tr>\n    <tr>\n      <th>1232</th>\n      <td>1233</td>\n      <td>128</td>\n      <td>265.0</td>\n      <td>0</td>\n      <td>24.0</td>\n      <td>67.0</td>\n      <td>120.0</td>\n      <td>0.0</td>\n    </tr>\n    <tr>\n      <th>1233</th>\n      <td>1234</td>\n      <td>130</td>\n      <td>291.0</td>\n      <td>0</td>\n      <td>30.0</td>\n      <td>65.0</td>\n      <td>150.0</td>\n      <td>1.0</td>\n    </tr>\n    <tr>\n      <th>1234</th>\n      <td>1235</td>\n      <td>125</td>\n      <td>281.0</td>\n      <td>1</td>\n      <td>21.0</td>\n      <td>65.0</td>\n      <td>110.0</td>\n      <td>0.0</td>\n    </tr>\n    <tr>\n      <th>1235</th>\n      <td>1236</td>\n      <td>117</td>\n      <td>297.0</td>\n      <td>0</td>\n      <td>38.0</td>\n      <td>65.0</td>\n      <td>129.0</td>\n      <td>0.0</td>\n    </tr>\n  </tbody>\n</table>\n<p>1236 rows × 8 columns</p>\n</div>"
     },
     "execution_count": 3,
     "metadata": {},
     "output_type": "execute_result"
    }
   ],
   "source": [
    "df = pd.read_csv('babies.csv')\n",
    "df"
   ],
   "metadata": {
    "collapsed": false,
    "ExecuteTime": {
     "end_time": "2023-11-02T12:47:07.324266Z",
     "start_time": "2023-11-02T12:47:07.269863Z"
    }
   },
   "id": "ace9977192d8dd07"
  },
  {
   "cell_type": "code",
   "execution_count": 4,
   "outputs": [],
   "source": [
    "smoking_and_birthwt = df[['smoke','bwt']]"
   ],
   "metadata": {
    "collapsed": false,
    "ExecuteTime": {
     "end_time": "2023-11-02T12:47:07.327450Z",
     "start_time": "2023-11-02T12:47:07.286452Z"
    }
   },
   "id": "2eabdad124a72be6"
  },
  {
   "cell_type": "markdown",
   "source": [],
   "metadata": {
    "collapsed": false
   },
   "id": "cc541f153ca0bb54"
  },
  {
   "cell_type": "code",
   "execution_count": 5,
   "outputs": [
    {
     "data": {
      "text/plain": "      smoke  bwt\n0       0.0  120\n1       0.0  113\n2       1.0  128\n3       0.0  123\n4       1.0  108\n...     ...  ...\n1231    0.0  113\n1232    0.0  128\n1233    1.0  130\n1234    0.0  125\n1235    0.0  117\n\n[1236 rows x 2 columns]",
      "text/html": "<div>\n<style scoped>\n    .dataframe tbody tr th:only-of-type {\n        vertical-align: middle;\n    }\n\n    .dataframe tbody tr th {\n        vertical-align: top;\n    }\n\n    .dataframe thead th {\n        text-align: right;\n    }\n</style>\n<table border=\"1\" class=\"dataframe\">\n  <thead>\n    <tr style=\"text-align: right;\">\n      <th></th>\n      <th>smoke</th>\n      <th>bwt</th>\n    </tr>\n  </thead>\n  <tbody>\n    <tr>\n      <th>0</th>\n      <td>0.0</td>\n      <td>120</td>\n    </tr>\n    <tr>\n      <th>1</th>\n      <td>0.0</td>\n      <td>113</td>\n    </tr>\n    <tr>\n      <th>2</th>\n      <td>1.0</td>\n      <td>128</td>\n    </tr>\n    <tr>\n      <th>3</th>\n      <td>0.0</td>\n      <td>123</td>\n    </tr>\n    <tr>\n      <th>4</th>\n      <td>1.0</td>\n      <td>108</td>\n    </tr>\n    <tr>\n      <th>...</th>\n      <td>...</td>\n      <td>...</td>\n    </tr>\n    <tr>\n      <th>1231</th>\n      <td>0.0</td>\n      <td>113</td>\n    </tr>\n    <tr>\n      <th>1232</th>\n      <td>0.0</td>\n      <td>128</td>\n    </tr>\n    <tr>\n      <th>1233</th>\n      <td>1.0</td>\n      <td>130</td>\n    </tr>\n    <tr>\n      <th>1234</th>\n      <td>0.0</td>\n      <td>125</td>\n    </tr>\n    <tr>\n      <th>1235</th>\n      <td>0.0</td>\n      <td>117</td>\n    </tr>\n  </tbody>\n</table>\n<p>1236 rows × 2 columns</p>\n</div>"
     },
     "execution_count": 5,
     "metadata": {},
     "output_type": "execute_result"
    }
   ],
   "source": [
    "smoking_and_birthwt"
   ],
   "metadata": {
    "collapsed": false,
    "ExecuteTime": {
     "end_time": "2023-11-02T12:47:07.327983Z",
     "start_time": "2023-11-02T12:47:07.291311Z"
    }
   },
   "id": "3626ee89428eee99"
  },
  {
   "cell_type": "code",
   "execution_count": 6,
   "outputs": [
    {
     "name": "stdout",
     "output_type": "stream",
     "text": [
      "10\n"
     ]
    }
   ],
   "source": [
    "print(smoking_and_birthwt['smoke'].isna().sum())"
   ],
   "metadata": {
    "collapsed": false,
    "ExecuteTime": {
     "end_time": "2023-11-02T12:47:07.328287Z",
     "start_time": "2023-11-02T12:47:07.294907Z"
    }
   },
   "id": "bec8cf6c0bb332a9"
  },
  {
   "cell_type": "code",
   "execution_count": 7,
   "outputs": [],
   "source": [
    "smoking_and_birthwt = smoking_and_birthwt.dropna()"
   ],
   "metadata": {
    "collapsed": false,
    "ExecuteTime": {
     "end_time": "2023-11-02T12:47:07.329016Z",
     "start_time": "2023-11-02T12:47:07.296817Z"
    }
   },
   "id": "765c885c2307d28c"
  },
  {
   "cell_type": "code",
   "execution_count": 8,
   "outputs": [
    {
     "data": {
      "text/plain": "      smoke  bwt\n0       0.0  120\n1       0.0  113\n2       1.0  128\n3       0.0  123\n4       1.0  108\n...     ...  ...\n1231    0.0  113\n1232    0.0  128\n1233    1.0  130\n1234    0.0  125\n1235    0.0  117\n\n[1226 rows x 2 columns]",
      "text/html": "<div>\n<style scoped>\n    .dataframe tbody tr th:only-of-type {\n        vertical-align: middle;\n    }\n\n    .dataframe tbody tr th {\n        vertical-align: top;\n    }\n\n    .dataframe thead th {\n        text-align: right;\n    }\n</style>\n<table border=\"1\" class=\"dataframe\">\n  <thead>\n    <tr style=\"text-align: right;\">\n      <th></th>\n      <th>smoke</th>\n      <th>bwt</th>\n    </tr>\n  </thead>\n  <tbody>\n    <tr>\n      <th>0</th>\n      <td>0.0</td>\n      <td>120</td>\n    </tr>\n    <tr>\n      <th>1</th>\n      <td>0.0</td>\n      <td>113</td>\n    </tr>\n    <tr>\n      <th>2</th>\n      <td>1.0</td>\n      <td>128</td>\n    </tr>\n    <tr>\n      <th>3</th>\n      <td>0.0</td>\n      <td>123</td>\n    </tr>\n    <tr>\n      <th>4</th>\n      <td>1.0</td>\n      <td>108</td>\n    </tr>\n    <tr>\n      <th>...</th>\n      <td>...</td>\n      <td>...</td>\n    </tr>\n    <tr>\n      <th>1231</th>\n      <td>0.0</td>\n      <td>113</td>\n    </tr>\n    <tr>\n      <th>1232</th>\n      <td>0.0</td>\n      <td>128</td>\n    </tr>\n    <tr>\n      <th>1233</th>\n      <td>1.0</td>\n      <td>130</td>\n    </tr>\n    <tr>\n      <th>1234</th>\n      <td>0.0</td>\n      <td>125</td>\n    </tr>\n    <tr>\n      <th>1235</th>\n      <td>0.0</td>\n      <td>117</td>\n    </tr>\n  </tbody>\n</table>\n<p>1226 rows × 2 columns</p>\n</div>"
     },
     "execution_count": 8,
     "metadata": {},
     "output_type": "execute_result"
    }
   ],
   "source": [
    "smoking_and_birthwt"
   ],
   "metadata": {
    "collapsed": false,
    "ExecuteTime": {
     "end_time": "2023-11-02T12:47:07.329472Z",
     "start_time": "2023-11-02T12:47:07.301497Z"
    }
   },
   "id": "fb43c18a149e5b70"
  },
  {
   "cell_type": "code",
   "execution_count": 9,
   "outputs": [
    {
     "data": {
      "text/plain": "2       128\n4       108\n9       143\n11      144\n12      141\n       ... \n1224    143\n1225    113\n1226    109\n1227    103\n1233    130\nName: bwt, Length: 484, dtype: int64"
     },
     "execution_count": 9,
     "metadata": {},
     "output_type": "execute_result"
    }
   ],
   "source": [
    "smoker = smoking_and_birthwt['bwt'][smoking_and_birthwt['smoke']==1]\n",
    "smoker"
   ],
   "metadata": {
    "collapsed": false,
    "ExecuteTime": {
     "end_time": "2023-11-02T12:47:07.329680Z",
     "start_time": "2023-11-02T12:47:07.304045Z"
    }
   },
   "id": "892adc13092062c1"
  },
  {
   "cell_type": "code",
   "execution_count": 10,
   "outputs": [
    {
     "data": {
      "text/plain": "0       120\n1       113\n3       123\n5       136\n6       138\n       ... \n1230    132\n1231    113\n1232    128\n1234    125\n1235    117\nName: bwt, Length: 742, dtype: int64"
     },
     "execution_count": 10,
     "metadata": {},
     "output_type": "execute_result"
    }
   ],
   "source": [
    "non_smoker = smoking_and_birthwt['bwt'][smoking_and_birthwt['smoke']==0]\n",
    "non_smoker"
   ],
   "metadata": {
    "collapsed": false,
    "ExecuteTime": {
     "end_time": "2023-11-02T12:47:07.329851Z",
     "start_time": "2023-11-02T12:47:07.307807Z"
    }
   },
   "id": "b91159f20c40c2a8"
  },
  {
   "cell_type": "code",
   "execution_count": 11,
   "outputs": [
    {
     "data": {
      "text/plain": "array([<Axes: title={'center': '0.0'}>, <Axes: title={'center': '1.0'}>],\n      dtype=object)"
     },
     "execution_count": 11,
     "metadata": {},
     "output_type": "execute_result"
    },
    {
     "data": {
      "text/plain": "<Figure size 640x480 with 2 Axes>",
      "image/png": "[encoded data removed]"
     },
     "metadata": {},
     "output_type": "display_data"
    }
   ],
   "source": [
    "smoking_and_birthwt.hist(by='smoke')"
   ],
   "metadata": {
    "collapsed": false,
    "ExecuteTime": {
     "end_time": "2023-11-02T12:47:07.558083Z",
     "start_time": "2023-11-02T12:47:07.310441Z"
    }
   },
   "id": "debce6c885073d16"
  },
  {
   "cell_type": "code",
   "execution_count": 12,
   "outputs": [
    {
     "data": {
      "text/plain": "<Axes: >"
     },
     "execution_count": 12,
     "metadata": {},
     "output_type": "execute_result"
    },
    {
     "data": {
      "text/plain": "<Figure size 640x480 with 1 Axes>",
      "image/png": "[encoded data removed]"
     },
     "metadata": {},
     "output_type": "display_data"
    }
   ],
   "source": [
    "smoker.hist(histtype = 'stepfilled')"
   ],
   "metadata": {
    "collapsed": false,
    "ExecuteTime": {
     "end_time": "2023-11-02T12:47:07.589289Z",
     "start_time": "2023-11-02T12:47:07.504210Z"
    }
   },
   "id": "5fec5cd2e1d925ce"
  },
  {
   "cell_type": "code",
   "execution_count": 13,
   "outputs": [
    {
     "data": {
      "text/plain": "<Axes: >"
     },
     "execution_count": 13,
     "metadata": {},
     "output_type": "execute_result"
    },
    {
     "data": {
      "text/plain": "<Figure size 640x480 with 1 Axes>",
      "image/png": "[encoded data removed]"
     },
     "metadata": {},
     "output_type": "display_data"
    }
   ],
   "source": [
    "non_smoker.hist(histtype = 'stepfilled')"
   ],
   "metadata": {
    "collapsed": false,
    "ExecuteTime": {
     "end_time": "2023-11-02T12:47:07.686160Z",
     "start_time": "2023-11-02T12:47:07.578420Z"
    }
   },
   "id": "c473e3b33b4c06ef"
  },
  {
   "cell_type": "code",
   "execution_count": 14,
   "outputs": [
    {
     "data": {
      "text/plain": "<Figure size 640x480 with 1 Axes>",
      "image/png": "[encoded data removed]"
     },
     "metadata": {},
     "output_type": "display_data"
    }
   ],
   "source": [
    "smoker.hist(histtype = 'stepfilled',alpha = 0.5,bins=20,color='red')\n",
    "non_smoker.hist(histtype = 'stepfilled',alpha = 0.5,bins=20,color='blue')\n",
    "plt.show()"
   ],
   "metadata": {
    "collapsed": false
   },
   "id": "73b544a3df1e42c5"
  },
  {
   "cell_type": "code",
   "execution_count": 26,
   "outputs": [
    {
     "data": {
      "text/plain": "114.10950413223141"
     },
     "execution_count": 26,
     "metadata": {},
     "output_type": "execute_result"
    }
   ],
   "source": [
    "mean_smoker = smoker.mean()\n",
    "mean_smoker"
   ],
   "metadata": {
    "collapsed": false,
    "ExecuteTime": {
     "end_time": "2023-11-02T12:48:43.635422Z",
     "start_time": "2023-11-02T12:48:43.630234Z"
    }
   },
   "id": "3bdf3b8be0d83eb4"
  },
  {
   "cell_type": "code",
   "execution_count": 27,
   "outputs": [
    {
     "data": {
      "text/plain": "123.04716981132076"
     },
     "execution_count": 27,
     "metadata": {},
     "output_type": "execute_result"
    }
   ],
   "source": [
    "mean_non_smoker = non_smoker.mean()\n",
    "mean_non_smoker"
   ],
   "metadata": {
    "collapsed": false,
    "ExecuteTime": {
     "end_time": "2023-11-02T12:48:51.750777Z",
     "start_time": "2023-11-02T12:48:51.727864Z"
    }
   },
   "id": "58cc9af74ace7b75"
  },
  {
   "cell_type": "markdown",
   "source": [
    " test stastistic is the difference between the mean weights of the smoker and the non-smoker "
   ],
   "metadata": {
    "collapsed": false
   },
   "id": "2abb6b066ed6b85b"
  },
  {
   "cell_type": "code",
   "execution_count": 28,
   "outputs": [
    {
     "data": {
      "text/plain": "-8.93766567908935"
     },
     "execution_count": 28,
     "metadata": {},
     "output_type": "execute_result"
    }
   ],
   "source": [
    "diff_smoker_non_smoker = mean_smoker - mean_non_smoker\n",
    "diff_smoker_non_smoker"
   ],
   "metadata": {
    "collapsed": false,
    "ExecuteTime": {
     "end_time": "2023-11-02T12:49:17.390881Z",
     "start_time": "2023-11-02T12:49:17.382043Z"
    }
   },
   "id": "2d779c3bf20d35b4"
  },
  {
   "cell_type": "markdown",
   "source": [
    "Null hypothesis : there is no difference between the weights of the new born baby of the smoker and the non-smoker\n",
    "Alternative hypothesis: there is difference between the weights of the new born baby non-smoker and the smoker "
   ],
   "metadata": {
    "collapsed": false
   },
   "id": "31b5085016902b13"
  },
  {
   "cell_type": "code",
   "execution_count": 30,
   "outputs": [
    {
     "data": {
      "text/plain": "              bwt\nsmoke            \n0.0    123.047170\n1.0    114.109504",
      "text/html": "<div>\n<style scoped>\n    .dataframe tbody tr th:only-of-type {\n        vertical-align: middle;\n    }\n\n    .dataframe tbody tr th {\n        vertical-align: top;\n    }\n\n    .dataframe thead th {\n        text-align: right;\n    }\n</style>\n<table border=\"1\" class=\"dataframe\">\n  <thead>\n    <tr style=\"text-align: right;\">\n      <th></th>\n      <th>bwt</th>\n    </tr>\n    <tr>\n      <th>smoke</th>\n      <th></th>\n    </tr>\n  </thead>\n  <tbody>\n    <tr>\n      <th>0.0</th>\n      <td>123.047170</td>\n    </tr>\n    <tr>\n      <th>1.0</th>\n      <td>114.109504</td>\n    </tr>\n  </tbody>\n</table>\n</div>"
     },
     "execution_count": 30,
     "metadata": {},
     "output_type": "execute_result"
    }
   ],
   "source": [
    "means_table = smoking_and_birthwt.groupby('smoke').mean()\n",
    "means_table"
   ],
   "metadata": {
    "collapsed": false,
    "ExecuteTime": {
     "end_time": "2023-11-02T12:53:11.450680Z",
     "start_time": "2023-11-02T12:53:11.435336Z"
    }
   },
   "id": "509e2c06cd7a765f"
  },
  {
   "cell_type": "markdown",
   "source": [
    "## Random permutation method"
   ],
   "metadata": {
    "collapsed": false
   },
   "id": "87870d8008c1c9a4"
  },
  {
   "cell_type": "code",
   "execution_count": 71,
   "outputs": [],
   "source": [
    "difference_arr = np.zeros(5000)"
   ],
   "metadata": {
    "collapsed": false,
    "ExecuteTime": {
     "end_time": "2023-11-02T13:38:03.209407Z",
     "start_time": "2023-11-02T13:38:03.202514Z"
    }
   },
   "id": "c9891cb308264f9f"
  },
  {
   "cell_type": "code",
   "execution_count": 72,
   "outputs": [],
   "source": [
    "for i in range(5000):\n",
    "    shuffled = smoking_and_birthwt.sample(1226)\n",
    "    shuffled_weights = shuffled['bwt']\n",
    "    original_and_shuffled = smoking_and_birthwt.assign(shuffled_weights = shuffled_weights.values)\n",
    "    all_group_means = original_and_shuffled.groupby('smoke').mean()\n",
    "    diff = all_group_means['shuffled_weights'][1] - all_group_means['shuffled_weights'][0]\n",
    "    difference_arr[i] = diff"
   ],
   "metadata": {
    "collapsed": false,
    "ExecuteTime": {
     "end_time": "2023-11-02T13:38:05.182532Z",
     "start_time": "2023-11-02T13:38:03.583103Z"
    }
   },
   "id": "c15e7a823e2a03f0"
  },
  {
   "cell_type": "code",
   "execution_count": 75,
   "outputs": [
    {
     "data": {
      "text/plain": "array([-1.33166448, -0.27337885, -1.43066539, ..., -0.19144706,\n        0.51862846,  0.85318327])"
     },
     "execution_count": 75,
     "metadata": {},
     "output_type": "execute_result"
    }
   ],
   "source": [
    "difference_arr"
   ],
   "metadata": {
    "collapsed": false,
    "ExecuteTime": {
     "end_time": "2023-11-02T13:39:38.617839Z",
     "start_time": "2023-11-02T13:39:38.611160Z"
    }
   },
   "id": "7147d65b1ca0f8af"
  },
  {
   "cell_type": "code",
   "execution_count": 80,
   "outputs": [
    {
     "data": {
      "text/plain": "             0\n0    -1.331664\n1    -0.273379\n2    -1.430665\n3    -0.164136\n4     1.368671\n...        ...\n4995 -0.556726\n4996 -1.102938\n4997 -0.191447\n4998  0.518628\n4999  0.853183\n\n[5000 rows x 1 columns]",
      "text/html": "<div>\n<style scoped>\n    .dataframe tbody tr th:only-of-type {\n        vertical-align: middle;\n    }\n\n    .dataframe tbody tr th {\n        vertical-align: top;\n    }\n\n    .dataframe thead th {\n        text-align: right;\n    }\n</style>\n<table border=\"1\" class=\"dataframe\">\n  <thead>\n    <tr style=\"text-align: right;\">\n      <th></th>\n      <th>0</th>\n    </tr>\n  </thead>\n  <tbody>\n    <tr>\n      <th>0</th>\n      <td>-1.331664</td>\n    </tr>\n    <tr>\n      <th>1</th>\n      <td>-0.273379</td>\n    </tr>\n    <tr>\n      <th>2</th>\n      <td>-1.430665</td>\n    </tr>\n    <tr>\n      <th>3</th>\n      <td>-0.164136</td>\n    </tr>\n    <tr>\n      <th>4</th>\n      <td>1.368671</td>\n    </tr>\n    <tr>\n      <th>...</th>\n      <td>...</td>\n    </tr>\n    <tr>\n      <th>4995</th>\n      <td>-0.556726</td>\n    </tr>\n    <tr>\n      <th>4996</th>\n      <td>-1.102938</td>\n    </tr>\n    <tr>\n      <th>4997</th>\n      <td>-0.191447</td>\n    </tr>\n    <tr>\n      <th>4998</th>\n      <td>0.518628</td>\n    </tr>\n    <tr>\n      <th>4999</th>\n      <td>0.853183</td>\n    </tr>\n  </tbody>\n</table>\n<p>5000 rows × 1 columns</p>\n</div>"
     },
     "execution_count": 80,
     "metadata": {},
     "output_type": "execute_result"
    }
   ],
   "source": [
    "difference_df = pd.DataFrame(difference_arr)\n",
    "difference_df"
   ],
   "metadata": {
    "collapsed": false,
    "ExecuteTime": {
     "end_time": "2023-11-02T13:43:16.927511Z",
     "start_time": "2023-11-02T13:43:16.916984Z"
    }
   },
   "id": "66cc1fd43b6649e0"
  },
  {
   "cell_type": "code",
   "execution_count": 77,
   "outputs": [
    {
     "data": {
      "text/plain": "array([[<Axes: title={'center': '0'}>]], dtype=object)"
     },
     "execution_count": 77,
     "metadata": {},
     "output_type": "execute_result"
    },
    {
     "data": {
      "text/plain": "<Figure size 640x480 with 1 Axes>",
      "image/png": "[encoded data removed]"
     },
     "metadata": {},
     "output_type": "display_data"
    }
   ],
   "source": [
    "difference_df.hist()"
   ],
   "metadata": {
    "collapsed": false,
    "ExecuteTime": {
     "end_time": "2023-11-02T13:42:37.048688Z",
     "start_time": "2023-11-02T13:42:36.944186Z"
    }
   },
   "id": "86a26881350ffba3"
  },
  {
   "cell_type": "markdown",
   "source": [
    "As we can see the data pt is nowhere near the range of values of the differences histogram. Hence we can reject the null hypothesis "
   ],
   "metadata": {
    "collapsed": false
   },
   "id": "bb93dccec702fdb6"
  },
  {
   "cell_type": "code",
   "execution_count": null,
   "outputs": [],
   "source": [],
   "metadata": {
    "collapsed": false
   },
   "id": "eb0e23220106a769"
  }
 ],
 "metadata": {
  "kernelspec": {
   "display_name": "Python 3",
   "language": "python",
   "name": "python3"
  },
  "language_info": {
   "codemirror_mode": {
    "name": "ipython",
    "version": 2
   },
   "file_extension": ".py",
   "mimetype": "text/x-python",
   "name": "python",
   "nbconvert_exporter": "python",
   "pygments_lexer": "ipython2",
   "version": "2.7.6"
  }
 },
 "nbformat": 4,
 "nbformat_minor": 5
}
