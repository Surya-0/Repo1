{
 "cells": [
  {
   "cell_type": "code",
   "execution_count": 1,
   "id": "initial_id",
   "metadata": {
    "collapsed": true,
    "ExecuteTime": {
     "end_time": "2023-11-04T10:31:47.932107Z",
     "start_time": "2023-11-04T10:31:47.866040Z"
    }
   },
   "outputs": [
    {
     "name": "stdout",
     "output_type": "stream",
     "text": [
      "My name is  Jose\n"
     ]
    }
   ],
   "source": [
    "person = \"Jose\"\n",
    "print(\"My name is \", person)\n"
   ]
  },
  {
   "cell_type": "code",
   "execution_count": 2,
   "outputs": [
    {
     "name": "stdout",
     "output_type": "stream",
     "text": [
      "Today is  2023-11-04 00:00:00\n"
     ]
    }
   ],
   "source": [
    "from datetime import datetime\n",
    "today = datetime(year = 2023,month = 11,day = 4)\n",
    "print(\"Today is \", today)"
   ],
   "metadata": {
    "collapsed": false,
    "ExecuteTime": {
     "end_time": "2023-11-04T10:31:47.932294Z",
     "start_time": "2023-11-04T10:31:47.870691Z"
    }
   },
   "id": "895e7d26cc36868e"
  },
  {
   "cell_type": "code",
   "execution_count": 3,
   "outputs": [
    {
     "name": "stdout",
     "output_type": "stream",
     "text": [
      "2023-11-04 16:01:47.872327\n"
     ]
    }
   ],
   "source": [
    "today = datetime.today()\n",
    "print(today)"
   ],
   "metadata": {
    "collapsed": false,
    "ExecuteTime": {
     "end_time": "2023-11-04T10:31:47.932380Z",
     "start_time": "2023-11-04T10:31:47.873054Z"
    }
   },
   "id": "21f2d19e9b1a804b"
  },
  {
   "cell_type": "code",
   "execution_count": 4,
   "outputs": [
    {
     "name": "stdout",
     "output_type": "stream",
     "text": [
      "Overwriting test.txt\n"
     ]
    }
   ],
   "source": [
    "%%writefile test.txt \n",
    "Hello this is a quick  file test\n",
    "This is the second line of the file"
   ],
   "metadata": {
    "collapsed": false,
    "ExecuteTime": {
     "end_time": "2023-11-04T10:31:47.932917Z",
     "start_time": "2023-11-04T10:31:47.876049Z"
    }
   },
   "id": "9d6d7b8e0a026d6"
  },
  {
   "cell_type": "code",
   "execution_count": 5,
   "outputs": [
    {
     "name": "stdout",
     "output_type": "stream",
     "text": [
      "<_io.TextIOWrapper name='test.txt' mode='r' encoding='UTF-8'>\n",
      "<_io.TextIOWrapper name='/Users/surya/Documents/Surya/Git/Repo1/NLP/test.txt' mode='r' encoding='UTF-8'>\n"
     ]
    }
   ],
   "source": [
    "my_file = open('test.txt') # Using the file name in the same directory\n",
    "my_file2 = open('/Users/surya/Documents/Surya/Git/Repo1/NLP/test.txt') # Giving the entire file path \n",
    "print(my_file) \n",
    "print(my_file2) "
   ],
   "metadata": {
    "collapsed": false,
    "ExecuteTime": {
     "end_time": "2023-11-04T10:31:47.933025Z",
     "start_time": "2023-11-04T10:31:47.881345Z"
    }
   },
   "id": "7a4ad032a2e5b477"
  },
  {
   "cell_type": "code",
   "execution_count": 6,
   "outputs": [
    {
     "data": {
      "text/plain": "'Hello this is a quick  file test\\nThis is the second line of the file\\n'"
     },
     "execution_count": 6,
     "metadata": {},
     "output_type": "execute_result"
    }
   ],
   "source": [
    "my_file.read()"
   ],
   "metadata": {
    "collapsed": false,
    "ExecuteTime": {
     "end_time": "2023-11-04T10:31:47.933138Z",
     "start_time": "2023-11-04T10:31:47.886287Z"
    }
   },
   "id": "58796fdef5595a0b"
  },
  {
   "cell_type": "code",
   "execution_count": 7,
   "outputs": [
    {
     "data": {
      "text/plain": "''"
     },
     "execution_count": 7,
     "metadata": {},
     "output_type": "execute_result"
    }
   ],
   "source": [
    "my_file.read()"
   ],
   "metadata": {
    "collapsed": false,
    "ExecuteTime": {
     "end_time": "2023-11-04T10:31:47.933208Z",
     "start_time": "2023-11-04T10:31:47.889061Z"
    }
   },
   "id": "1d3248cdfdfa9c51"
  },
  {
   "cell_type": "code",
   "execution_count": 8,
   "outputs": [
    {
     "data": {
      "text/plain": "0"
     },
     "execution_count": 8,
     "metadata": {},
     "output_type": "execute_result"
    }
   ],
   "source": [
    "my_file.seek(0)"
   ],
   "metadata": {
    "collapsed": false,
    "ExecuteTime": {
     "end_time": "2023-11-04T10:31:47.933274Z",
     "start_time": "2023-11-04T10:31:47.891624Z"
    }
   },
   "id": "11128e2deed83081"
  },
  {
   "cell_type": "code",
   "execution_count": 9,
   "outputs": [
    {
     "name": "stdout",
     "output_type": "stream",
     "text": [
      "Hello this is a quick  file test\n",
      "This is the second line of the file\n"
     ]
    }
   ],
   "source": [
    "content = my_file.read()\n",
    "print(content)"
   ],
   "metadata": {
    "collapsed": false,
    "ExecuteTime": {
     "end_time": "2023-11-04T10:31:47.933348Z",
     "start_time": "2023-11-04T10:31:47.893701Z"
    }
   },
   "id": "daec10e9f99d9ef2"
  },
  {
   "cell_type": "code",
   "execution_count": 10,
   "outputs": [],
   "source": [
    "my_file.close()"
   ],
   "metadata": {
    "collapsed": false,
    "ExecuteTime": {
     "end_time": "2023-11-04T10:31:47.933388Z",
     "start_time": "2023-11-04T10:31:47.895296Z"
    }
   },
   "id": "9b2fdbe25f094bf0"
  },
  {
   "cell_type": "code",
   "execution_count": 11,
   "outputs": [
    {
     "data": {
      "text/plain": "['Hello this is a quick  file test\\n', 'This is the second line of the file\\n']"
     },
     "execution_count": 11,
     "metadata": {},
     "output_type": "execute_result"
    }
   ],
   "source": [
    "my_file2.readlines()"
   ],
   "metadata": {
    "collapsed": false,
    "ExecuteTime": {
     "end_time": "2023-11-04T10:31:47.933478Z",
     "start_time": "2023-11-04T10:31:47.897004Z"
    }
   },
   "id": "188c481c9df04ea6"
  },
  {
   "cell_type": "code",
   "execution_count": 12,
   "outputs": [
    {
     "name": "stdout",
     "output_type": "stream",
     "text": [
      "['Hello this is a quick  file test\\n', 'This is the second line of the file\\n']\n"
     ]
    }
   ],
   "source": [
    "my_file2.seek(0)\n",
    "content_2 = my_file2.readlines()\n",
    "print(content_2)"
   ],
   "metadata": {
    "collapsed": false,
    "ExecuteTime": {
     "end_time": "2023-11-04T10:31:47.933549Z",
     "start_time": "2023-11-04T10:31:47.900182Z"
    }
   },
   "id": "25d41e9cff99e1c8"
  },
  {
   "cell_type": "code",
   "execution_count": 13,
   "outputs": [
    {
     "name": "stdout",
     "output_type": "stream",
     "text": [
      "Hello this is a quick  file test\n",
      "\n",
      "['Hello', 'this', 'is', 'a', 'quick', 'file', 'test']\n",
      "Hello\n",
      "This is the second line of the file\n",
      "\n",
      "['This', 'is', 'the', 'second', 'line', 'of', 'the', 'file']\n",
      "This\n"
     ]
    }
   ],
   "source": [
    "for line in content_2:\n",
    "    print(line)\n",
    "    print(line.split())\n",
    "    print(line.split()[0])"
   ],
   "metadata": {
    "collapsed": false,
    "ExecuteTime": {
     "end_time": "2023-11-04T10:31:47.933624Z",
     "start_time": "2023-11-04T10:31:47.902121Z"
    }
   },
   "id": "9f97037d66524cd9"
  },
  {
   "cell_type": "code",
   "execution_count": 14,
   "outputs": [],
   "source": [
    "my_file2.close()"
   ],
   "metadata": {
    "collapsed": false,
    "ExecuteTime": {
     "end_time": "2023-11-04T10:31:47.933662Z",
     "start_time": "2023-11-04T10:31:47.905690Z"
    }
   },
   "id": "b06d254f1aa21000"
  },
  {
   "cell_type": "code",
   "execution_count": 15,
   "outputs": [
    {
     "data": {
      "text/plain": "''"
     },
     "execution_count": 15,
     "metadata": {},
     "output_type": "execute_result"
    }
   ],
   "source": [
    "my_file3 = open('test.txt',mode='w+') # It truncates the original file.So anything in the original file is overwritten or deleted.Use it with caution\n",
    "my_file3.read()"
   ],
   "metadata": {
    "collapsed": false,
    "ExecuteTime": {
     "end_time": "2023-11-04T10:31:47.933768Z",
     "start_time": "2023-11-04T10:31:47.907365Z"
    }
   },
   "id": "60162c66a4598c70"
  },
  {
   "cell_type": "code",
   "execution_count": 16,
   "outputs": [
    {
     "data": {
      "text/plain": "17"
     },
     "execution_count": 16,
     "metadata": {},
     "output_type": "execute_result"
    }
   ],
   "source": [
    "my_file3.write('My brand new text')"
   ],
   "metadata": {
    "collapsed": false,
    "ExecuteTime": {
     "end_time": "2023-11-04T10:31:47.933851Z",
     "start_time": "2023-11-04T10:31:47.911816Z"
    }
   },
   "id": "e2f4ffd56b28daba"
  },
  {
   "cell_type": "code",
   "execution_count": 17,
   "outputs": [
    {
     "data": {
      "text/plain": "0"
     },
     "execution_count": 17,
     "metadata": {},
     "output_type": "execute_result"
    }
   ],
   "source": [
    "my_file3.seek(0)"
   ],
   "metadata": {
    "collapsed": false,
    "ExecuteTime": {
     "end_time": "2023-11-04T10:31:47.933954Z",
     "start_time": "2023-11-04T10:31:47.913969Z"
    }
   },
   "id": "7314f90ca4bfe23d"
  },
  {
   "cell_type": "code",
   "execution_count": 18,
   "outputs": [
    {
     "data": {
      "text/plain": "'My brand new text'"
     },
     "execution_count": 18,
     "metadata": {},
     "output_type": "execute_result"
    }
   ],
   "source": [
    "my_file3.read()"
   ],
   "metadata": {
    "collapsed": false,
    "ExecuteTime": {
     "end_time": "2023-11-04T10:31:47.934052Z",
     "start_time": "2023-11-04T10:31:47.915974Z"
    }
   },
   "id": "79d2193c7bbb684f"
  },
  {
   "cell_type": "code",
   "execution_count": 19,
   "outputs": [],
   "source": [
    "my_file3.close()"
   ],
   "metadata": {
    "collapsed": false,
    "ExecuteTime": {
     "end_time": "2023-11-04T10:31:47.934095Z",
     "start_time": "2023-11-04T10:31:47.918944Z"
    }
   },
   "id": "394356d7d6844eea"
  },
  {
   "cell_type": "code",
   "execution_count": 20,
   "outputs": [
    {
     "data": {
      "text/plain": "44"
     },
     "execution_count": 20,
     "metadata": {},
     "output_type": "execute_result"
    }
   ],
   "source": [
    "my_file4 = open('test.txt',mode='a+')\n",
    "my_file4.write('\\nThis is some more text which I am adding in')"
   ],
   "metadata": {
    "collapsed": false,
    "ExecuteTime": {
     "end_time": "2023-11-04T10:31:47.934205Z",
     "start_time": "2023-11-04T10:31:47.920997Z"
    }
   },
   "id": "902b978ac30a15a3"
  },
  {
   "cell_type": "code",
   "execution_count": 21,
   "outputs": [
    {
     "name": "stdout",
     "output_type": "stream",
     "text": [
      "My brand new text\n"
     ]
    }
   ],
   "source": [
    "file = open('test.txt')\n",
    "print(file.read())"
   ],
   "metadata": {
    "collapsed": false,
    "ExecuteTime": {
     "end_time": "2023-11-04T10:31:47.934272Z",
     "start_time": "2023-11-04T10:31:47.923271Z"
    }
   },
   "id": "984ade953632acbc"
  },
  {
   "cell_type": "code",
   "execution_count": 22,
   "outputs": [],
   "source": [
    "my_file4.close()\n",
    "file.close()"
   ],
   "metadata": {
    "collapsed": false,
    "ExecuteTime": {
     "end_time": "2023-11-04T10:31:47.934318Z",
     "start_time": "2023-11-04T10:31:47.925222Z"
    }
   },
   "id": "ebbb7157e548286f"
  },
  {
   "cell_type": "code",
   "execution_count": 23,
   "outputs": [
    {
     "name": "stdout",
     "output_type": "stream",
     "text": [
      "['My brand new text\\n', 'This is some more text which I am adding in']\n"
     ]
    }
   ],
   "source": [
    "with open('test.txt','r') as my_new_file:\n",
    "    my_var = my_new_file.readlines()\n",
    "    print(my_var)"
   ],
   "metadata": {
    "collapsed": false,
    "ExecuteTime": {
     "end_time": "2023-11-04T10:31:47.934385Z",
     "start_time": "2023-11-04T10:31:47.926992Z"
    }
   },
   "id": "b8eac4d6268a0635"
  },
  {
   "cell_type": "code",
   "execution_count": 24,
   "outputs": [
    {
     "name": "stdout",
     "output_type": "stream",
     "text": [
      "Requirement already satisfied: PyPDF2 in /Users/surya/anaconda3/envs/tf/lib/python3.11/site-packages (3.0.1)\r\n",
      "Note: you may need to restart the kernel to use updated packages.\n"
     ]
    }
   ],
   "source": [
    "pip install PyPDF2"
   ],
   "metadata": {
    "collapsed": false,
    "ExecuteTime": {
     "end_time": "2023-11-04T10:31:49.079768Z",
     "start_time": "2023-11-04T10:31:47.928954Z"
    }
   },
   "id": "8c2b987108f1f77c"
  },
  {
   "cell_type": "code",
   "execution_count": 25,
   "outputs": [],
   "source": [
    "import PyPDF2"
   ],
   "metadata": {
    "collapsed": false,
    "ExecuteTime": {
     "end_time": "2023-11-04T10:32:01.738269Z",
     "start_time": "2023-11-04T10:32:01.708717Z"
    }
   },
   "id": "548ba71119a9d145"
  },
  {
   "cell_type": "code",
   "execution_count": null,
   "outputs": [],
   "source": [],
   "metadata": {
    "collapsed": false
   },
   "id": "5bdff1b53104d410"
  }
 ],
 "metadata": {
  "kernelspec": {
   "display_name": "Python 3",
   "language": "python",
   "name": "python3"
  },
  "language_info": {
   "codemirror_mode": {
    "name": "ipython",
    "version": 2
   },
   "file_extension": ".py",
   "mimetype": "text/x-python",
   "name": "python",
   "nbconvert_exporter": "python",
   "pygments_lexer": "ipython2",
   "version": "2.7.6"
  }
 },
 "nbformat": 4,
 "nbformat_minor": 5
}
