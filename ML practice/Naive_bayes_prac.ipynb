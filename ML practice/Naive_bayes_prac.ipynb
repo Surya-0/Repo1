{
 "cells": [
  {
   "cell_type": "code",
   "execution_count": 1,
   "id": "initial_id",
   "metadata": {
    "collapsed": true,
    "ExecuteTime": {
     "end_time": "2023-11-08T03:48:27.426279Z",
     "start_time": "2023-11-08T03:48:26.260547Z"
    }
   },
   "outputs": [],
   "source": [
    "import numpy as np\n",
    "import pandas as pd\n",
    "import matplotlib.pyplot as plt"
   ]
  },
  {
   "cell_type": "code",
   "execution_count": 2,
   "outputs": [
    {
     "data": {
      "text/plain": "    day   outlook  temp humidity    wind play\n0    D1     Sunny   Hot     High    Weak   No\n1    D2     Sunny   Hot     High  Strong   No\n2    D3  Overcast   Hot     High    Weak  Yes\n3    D4      Rain  Mild     High    Weak  Yes\n4    D5      Rain  Cool   Normal    Weak  Yes\n5    D6      Rain  Cool   Normal  Strong   No\n6    D7  Overcast  Cool   Normal  Strong  Yes\n7    D8     Sunny  Mild     High    Weak   No\n8    D9     Sunny  Cool   Normal    Weak  Yes\n9   D10      Rain  Mild   Normal    Weak  Yes\n10  D11     Sunny  Mild   Normal  Strong  Yes\n11  D12  Overcast  Mild     High  Strong  Yes\n12  D13  Overcast   Hot   Normal    Weak  Yes\n13  D14      Rain  Mild     High  Strong   No",
      "text/html": "<div>\n<style scoped>\n    .dataframe tbody tr th:only-of-type {\n        vertical-align: middle;\n    }\n\n    .dataframe tbody tr th {\n        vertical-align: top;\n    }\n\n    .dataframe thead th {\n        text-align: right;\n    }\n</style>\n<table border=\"1\" class=\"dataframe\">\n  <thead>\n    <tr style=\"text-align: right;\">\n      <th></th>\n      <th>day</th>\n      <th>outlook</th>\n      <th>temp</th>\n      <th>humidity</th>\n      <th>wind</th>\n      <th>play</th>\n    </tr>\n  </thead>\n  <tbody>\n    <tr>\n      <th>0</th>\n      <td>D1</td>\n      <td>Sunny</td>\n      <td>Hot</td>\n      <td>High</td>\n      <td>Weak</td>\n      <td>No</td>\n    </tr>\n    <tr>\n      <th>1</th>\n      <td>D2</td>\n      <td>Sunny</td>\n      <td>Hot</td>\n      <td>High</td>\n      <td>Strong</td>\n      <td>No</td>\n    </tr>\n    <tr>\n      <th>2</th>\n      <td>D3</td>\n      <td>Overcast</td>\n      <td>Hot</td>\n      <td>High</td>\n      <td>Weak</td>\n      <td>Yes</td>\n    </tr>\n    <tr>\n      <th>3</th>\n      <td>D4</td>\n      <td>Rain</td>\n      <td>Mild</td>\n      <td>High</td>\n      <td>Weak</td>\n      <td>Yes</td>\n    </tr>\n    <tr>\n      <th>4</th>\n      <td>D5</td>\n      <td>Rain</td>\n      <td>Cool</td>\n      <td>Normal</td>\n      <td>Weak</td>\n      <td>Yes</td>\n    </tr>\n    <tr>\n      <th>5</th>\n      <td>D6</td>\n      <td>Rain</td>\n      <td>Cool</td>\n      <td>Normal</td>\n      <td>Strong</td>\n      <td>No</td>\n    </tr>\n    <tr>\n      <th>6</th>\n      <td>D7</td>\n      <td>Overcast</td>\n      <td>Cool</td>\n      <td>Normal</td>\n      <td>Strong</td>\n      <td>Yes</td>\n    </tr>\n    <tr>\n      <th>7</th>\n      <td>D8</td>\n      <td>Sunny</td>\n      <td>Mild</td>\n      <td>High</td>\n      <td>Weak</td>\n      <td>No</td>\n    </tr>\n    <tr>\n      <th>8</th>\n      <td>D9</td>\n      <td>Sunny</td>\n      <td>Cool</td>\n      <td>Normal</td>\n      <td>Weak</td>\n      <td>Yes</td>\n    </tr>\n    <tr>\n      <th>9</th>\n      <td>D10</td>\n      <td>Rain</td>\n      <td>Mild</td>\n      <td>Normal</td>\n      <td>Weak</td>\n      <td>Yes</td>\n    </tr>\n    <tr>\n      <th>10</th>\n      <td>D11</td>\n      <td>Sunny</td>\n      <td>Mild</td>\n      <td>Normal</td>\n      <td>Strong</td>\n      <td>Yes</td>\n    </tr>\n    <tr>\n      <th>11</th>\n      <td>D12</td>\n      <td>Overcast</td>\n      <td>Mild</td>\n      <td>High</td>\n      <td>Strong</td>\n      <td>Yes</td>\n    </tr>\n    <tr>\n      <th>12</th>\n      <td>D13</td>\n      <td>Overcast</td>\n      <td>Hot</td>\n      <td>Normal</td>\n      <td>Weak</td>\n      <td>Yes</td>\n    </tr>\n    <tr>\n      <th>13</th>\n      <td>D14</td>\n      <td>Rain</td>\n      <td>Mild</td>\n      <td>High</td>\n      <td>Strong</td>\n      <td>No</td>\n    </tr>\n  </tbody>\n</table>\n</div>"
     },
     "execution_count": 2,
     "metadata": {},
     "output_type": "execute_result"
    }
   ],
   "source": [
    "df = pd.read_csv('play_tennis.csv')\n",
    "df"
   ],
   "metadata": {
    "collapsed": false,
    "ExecuteTime": {
     "end_time": "2023-11-08T03:49:07.103911Z",
     "start_time": "2023-11-08T03:49:07.072949Z"
    }
   },
   "id": "2864f363a66996c5"
  },
  {
   "cell_type": "code",
   "execution_count": 1,
   "outputs": [
    {
     "name": "stdout",
     "output_type": "stream",
     "text": [
      "[{'part_number': '4f208381-81a7-46dc-ae82-fcb2acbed4ce', 'description': 'leave', 'quantity': 11, 'material': 'candidate', 'subcomponents': [{'part_number': 'c06db24d-b1b6-4323-b44e-9cb46f114109', 'description': 'break', 'quantity': 4, 'material': 'major'}, {'part_number': '7e79e811-d118-4485-8531-cdd53ebb7628', 'description': 'know', 'quantity': 9, 'material': 'great'}]}, {'part_number': '0cc5aaf6-7ea7-4465-8792-73c00aca7040', 'description': 'behavior', 'quantity': 37, 'material': 'later', 'subcomponents': [{'part_number': 'd26e2999-3fb3-4aa1-adad-73ba00754352', 'description': 'though', 'quantity': 10, 'material': 'wall'}]}, {'part_number': '5d735473-48ba-4e12-a0ae-bc6f37828b21', 'description': 'pass', 'quantity': 28, 'material': 'green', 'subcomponents': [{'part_number': '80c58024-ee03-4cec-864a-b67352704bf0', 'description': 'indicate', 'quantity': 5, 'material': 'leader'}]}, {'part_number': '2c3d64d9-0895-4217-92f8-ec04772cc442', 'description': 'respond', 'quantity': 7, 'material': 'he', 'subcomponents': [{'part_number': 'ac01cfa4-abd3-4fe7-8a52-91b5c6caaa8d', 'description': 'skill', 'quantity': 8, 'material': 'imagine'}]}, {'part_number': '0bf0c1a4-b4da-4f7a-b528-3fb29ad917b4', 'description': 'door', 'quantity': 16, 'material': 'city', 'subcomponents': [{'part_number': 'd8322105-1743-4b06-ac29-fb2485504a93', 'description': 'or', 'quantity': 7, 'material': 'hospital'}, {'part_number': 'dc11252b-4f18-43b1-8e39-df8018fa806b', 'description': 'significant', 'quantity': 8, 'material': 'before'}, {'part_number': 'f831f254-9553-4108-a0bb-aeacbf2fd87b', 'description': 'structure', 'quantity': 2, 'material': 'field'}]}, {'part_number': '37969d80-e0a6-4d7e-a310-7c17a877801c', 'description': 'plant', 'quantity': 84, 'material': 'office', 'subcomponents': [{'part_number': 'fc52a377-de50-465f-bfa8-12a8fe4ab8cc', 'description': 'represent', 'quantity': 1, 'material': 'choose'}, {'part_number': 'cf28b560-c792-4504-a6e2-14f775ee7476', 'description': 'along', 'quantity': 1, 'material': 'yard'}, {'part_number': 'd90a8ceb-292b-458f-aba5-4ac37998dbed', 'description': 'make', 'quantity': 4, 'material': 'his'}]}]\n"
     ]
    }
   ],
   "source": [
    "from faker import Faker\n",
    "import random\n",
    "\n",
    "fake = Faker()\n",
    "\n",
    "def generate_synthetic_bom():\n",
    "    bom = []\n",
    "\n",
    "    for _ in range(random.randint(5, 10)):\n",
    "        component = {\n",
    "            'part_number': fake.uuid4(),\n",
    "            'description': fake.word(),\n",
    "            'quantity': random.randint(1, 100),\n",
    "            'material': fake.word(),\n",
    "            'subcomponents': []\n",
    "        }\n",
    "\n",
    "        for _ in range(random.randint(0, 3)):\n",
    "            subcomponent = {\n",
    "                'part_number': fake.uuid4(),\n",
    "                'description': fake.word(),\n",
    "                'quantity': random.randint(1, 10),\n",
    "                'material': fake.word()\n",
    "            }\n",
    "            component['subcomponents'].append(subcomponent)\n",
    "\n",
    "        bom.append(component)\n",
    "\n",
    "    return bom\n",
    "\n",
    "# Example usage:\n",
    "synthetic_bom = generate_synthetic_bom()\n",
    "print(synthetic_bom)\n"
   ],
   "metadata": {
    "collapsed": false,
    "ExecuteTime": {
     "end_time": "2023-11-11T18:48:05.869604Z",
     "start_time": "2023-11-11T18:48:05.817600Z"
    }
   },
   "id": "d68fb7e6b6878229"
  },
  {
   "cell_type": "code",
   "execution_count": null,
   "outputs": [],
   "source": [],
   "metadata": {
    "collapsed": false
   },
   "id": "592a7c75310df840"
  }
 ],
 "metadata": {
  "kernelspec": {
   "display_name": "Python 3",
   "language": "python",
   "name": "python3"
  },
  "language_info": {
   "codemirror_mode": {
    "name": "ipython",
    "version": 2
   },
   "file_extension": ".py",
   "mimetype": "text/x-python",
   "name": "python",
   "nbconvert_exporter": "python",
   "pygments_lexer": "ipython2",
   "version": "2.7.6"
  }
 },
 "nbformat": 4,
 "nbformat_minor": 5
}
