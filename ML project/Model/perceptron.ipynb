{
 "cells": [
  {
   "cell_type": "code",
   "execution_count": 27,
   "id": "initial_id",
   "metadata": {
    "collapsed": true,
    "ExecuteTime": {
     "end_time": "2023-10-30T15:06:30.215852Z",
     "start_time": "2023-10-30T15:06:30.214065Z"
    }
   },
   "outputs": [],
   "source": [
    "import pandas as pd\n",
    "import numpy as np\n",
    "import matplotlib.pyplot as plt"
   ]
  },
  {
   "cell_type": "markdown",
   "source": [
    "## Preprocessing"
   ],
   "metadata": {
    "collapsed": false
   },
   "id": "574d47d2269d884"
  },
  {
   "cell_type": "code",
   "execution_count": 28,
   "outputs": [
    {
     "data": {
      "text/plain": "              date  store  item  sales\n0       2013-01-01      1     1     13\n1       2013-01-02      1     1     11\n2       2013-01-03      1     1     14\n3       2013-01-04      1     1     13\n4       2013-01-05      1     1     10\n...            ...    ...   ...    ...\n912995  2017-12-27     10    50     63\n912996  2017-12-28     10    50     59\n912997  2017-12-29     10    50     74\n912998  2017-12-30     10    50     62\n912999  2017-12-31     10    50     82\n\n[913000 rows x 4 columns]",
      "text/html": "<div>\n<style scoped>\n    .dataframe tbody tr th:only-of-type {\n        vertical-align: middle;\n    }\n\n    .dataframe tbody tr th {\n        vertical-align: top;\n    }\n\n    .dataframe thead th {\n        text-align: right;\n    }\n</style>\n<table border=\"1\" class=\"dataframe\">\n  <thead>\n    <tr style=\"text-align: right;\">\n      <th></th>\n      <th>date</th>\n      <th>store</th>\n      <th>item</th>\n      <th>sales</th>\n    </tr>\n  </thead>\n  <tbody>\n    <tr>\n      <th>0</th>\n      <td>2013-01-01</td>\n      <td>1</td>\n      <td>1</td>\n      <td>13</td>\n    </tr>\n    <tr>\n      <th>1</th>\n      <td>2013-01-02</td>\n      <td>1</td>\n      <td>1</td>\n      <td>11</td>\n    </tr>\n    <tr>\n      <th>2</th>\n      <td>2013-01-03</td>\n      <td>1</td>\n      <td>1</td>\n      <td>14</td>\n    </tr>\n    <tr>\n      <th>3</th>\n      <td>2013-01-04</td>\n      <td>1</td>\n      <td>1</td>\n      <td>13</td>\n    </tr>\n    <tr>\n      <th>4</th>\n      <td>2013-01-05</td>\n      <td>1</td>\n      <td>1</td>\n      <td>10</td>\n    </tr>\n    <tr>\n      <th>...</th>\n      <td>...</td>\n      <td>...</td>\n      <td>...</td>\n      <td>...</td>\n    </tr>\n    <tr>\n      <th>912995</th>\n      <td>2017-12-27</td>\n      <td>10</td>\n      <td>50</td>\n      <td>63</td>\n    </tr>\n    <tr>\n      <th>912996</th>\n      <td>2017-12-28</td>\n      <td>10</td>\n      <td>50</td>\n      <td>59</td>\n    </tr>\n    <tr>\n      <th>912997</th>\n      <td>2017-12-29</td>\n      <td>10</td>\n      <td>50</td>\n      <td>74</td>\n    </tr>\n    <tr>\n      <th>912998</th>\n      <td>2017-12-30</td>\n      <td>10</td>\n      <td>50</td>\n      <td>62</td>\n    </tr>\n    <tr>\n      <th>912999</th>\n      <td>2017-12-31</td>\n      <td>10</td>\n      <td>50</td>\n      <td>82</td>\n    </tr>\n  </tbody>\n</table>\n<p>913000 rows × 4 columns</p>\n</div>"
     },
     "execution_count": 28,
     "metadata": {},
     "output_type": "execute_result"
    }
   ],
   "source": [
    "df = pd.read_csv('train.csv')\n",
    "df"
   ],
   "metadata": {
    "collapsed": false,
    "ExecuteTime": {
     "end_time": "2023-10-30T15:06:30.571752Z",
     "start_time": "2023-10-30T15:06:30.218042Z"
    }
   },
   "id": "2b392d44a1f27e2d"
  },
  {
   "cell_type": "code",
   "execution_count": 29,
   "outputs": [
    {
     "data": {
      "text/plain": "              date  store  item  sales\n0       2013-01-01      1     1     13\n1       2013-01-02      1     1     11\n2       2013-01-03      1     1     14\n3       2013-01-04      1     1     13\n4       2013-01-05      1     1     10\n...            ...    ...   ...    ...\n912995  2017-12-27     10    50     63\n912996  2017-12-28     10    50     59\n912997  2017-12-29     10    50     74\n912998  2017-12-30     10    50     62\n912999  2017-12-31     10    50     82\n\n[913000 rows x 4 columns]",
      "text/html": "<div>\n<style scoped>\n    .dataframe tbody tr th:only-of-type {\n        vertical-align: middle;\n    }\n\n    .dataframe tbody tr th {\n        vertical-align: top;\n    }\n\n    .dataframe thead th {\n        text-align: right;\n    }\n</style>\n<table border=\"1\" class=\"dataframe\">\n  <thead>\n    <tr style=\"text-align: right;\">\n      <th></th>\n      <th>date</th>\n      <th>store</th>\n      <th>item</th>\n      <th>sales</th>\n    </tr>\n  </thead>\n  <tbody>\n    <tr>\n      <th>0</th>\n      <td>2013-01-01</td>\n      <td>1</td>\n      <td>1</td>\n      <td>13</td>\n    </tr>\n    <tr>\n      <th>1</th>\n      <td>2013-01-02</td>\n      <td>1</td>\n      <td>1</td>\n      <td>11</td>\n    </tr>\n    <tr>\n      <th>2</th>\n      <td>2013-01-03</td>\n      <td>1</td>\n      <td>1</td>\n      <td>14</td>\n    </tr>\n    <tr>\n      <th>3</th>\n      <td>2013-01-04</td>\n      <td>1</td>\n      <td>1</td>\n      <td>13</td>\n    </tr>\n    <tr>\n      <th>4</th>\n      <td>2013-01-05</td>\n      <td>1</td>\n      <td>1</td>\n      <td>10</td>\n    </tr>\n    <tr>\n      <th>...</th>\n      <td>...</td>\n      <td>...</td>\n      <td>...</td>\n      <td>...</td>\n    </tr>\n    <tr>\n      <th>912995</th>\n      <td>2017-12-27</td>\n      <td>10</td>\n      <td>50</td>\n      <td>63</td>\n    </tr>\n    <tr>\n      <th>912996</th>\n      <td>2017-12-28</td>\n      <td>10</td>\n      <td>50</td>\n      <td>59</td>\n    </tr>\n    <tr>\n      <th>912997</th>\n      <td>2017-12-29</td>\n      <td>10</td>\n      <td>50</td>\n      <td>74</td>\n    </tr>\n    <tr>\n      <th>912998</th>\n      <td>2017-12-30</td>\n      <td>10</td>\n      <td>50</td>\n      <td>62</td>\n    </tr>\n    <tr>\n      <th>912999</th>\n      <td>2017-12-31</td>\n      <td>10</td>\n      <td>50</td>\n      <td>82</td>\n    </tr>\n  </tbody>\n</table>\n<p>913000 rows × 4 columns</p>\n</div>"
     },
     "execution_count": 29,
     "metadata": {},
     "output_type": "execute_result"
    }
   ],
   "source": [
    "df"
   ],
   "metadata": {
    "collapsed": false,
    "ExecuteTime": {
     "end_time": "2023-10-30T15:06:30.577210Z",
     "start_time": "2023-10-30T15:06:30.573617Z"
    }
   },
   "id": "92bb5950503bbb78"
  },
  {
   "cell_type": "code",
   "execution_count": 30,
   "outputs": [],
   "source": [
    "df[['Year', 'Month', 'Day']] = df['date'].str.split('-', expand=True)\n",
    "df = df.drop(columns='date')"
   ],
   "metadata": {
    "collapsed": false,
    "ExecuteTime": {
     "end_time": "2023-10-30T15:06:31.749681Z",
     "start_time": "2023-10-30T15:06:30.597535Z"
    }
   },
   "id": "73e7cc7edf425e97"
  },
  {
   "cell_type": "code",
   "execution_count": 31,
   "outputs": [
    {
     "data": {
      "text/plain": "        store  item  sales  Year Month Day\n0           1     1     13  2013    01  01\n1           1     1     11  2013    01  02\n2           1     1     14  2013    01  03\n3           1     1     13  2013    01  04\n4           1     1     10  2013    01  05\n...       ...   ...    ...   ...   ...  ..\n912995     10    50     63  2017    12  27\n912996     10    50     59  2017    12  28\n912997     10    50     74  2017    12  29\n912998     10    50     62  2017    12  30\n912999     10    50     82  2017    12  31\n\n[913000 rows x 6 columns]",
      "text/html": "<div>\n<style scoped>\n    .dataframe tbody tr th:only-of-type {\n        vertical-align: middle;\n    }\n\n    .dataframe tbody tr th {\n        vertical-align: top;\n    }\n\n    .dataframe thead th {\n        text-align: right;\n    }\n</style>\n<table border=\"1\" class=\"dataframe\">\n  <thead>\n    <tr style=\"text-align: right;\">\n      <th></th>\n      <th>store</th>\n      <th>item</th>\n      <th>sales</th>\n      <th>Year</th>\n      <th>Month</th>\n      <th>Day</th>\n    </tr>\n  </thead>\n  <tbody>\n    <tr>\n      <th>0</th>\n      <td>1</td>\n      <td>1</td>\n      <td>13</td>\n      <td>2013</td>\n      <td>01</td>\n      <td>01</td>\n    </tr>\n    <tr>\n      <th>1</th>\n      <td>1</td>\n      <td>1</td>\n      <td>11</td>\n      <td>2013</td>\n      <td>01</td>\n      <td>02</td>\n    </tr>\n    <tr>\n      <th>2</th>\n      <td>1</td>\n      <td>1</td>\n      <td>14</td>\n      <td>2013</td>\n      <td>01</td>\n      <td>03</td>\n    </tr>\n    <tr>\n      <th>3</th>\n      <td>1</td>\n      <td>1</td>\n      <td>13</td>\n      <td>2013</td>\n      <td>01</td>\n      <td>04</td>\n    </tr>\n    <tr>\n      <th>4</th>\n      <td>1</td>\n      <td>1</td>\n      <td>10</td>\n      <td>2013</td>\n      <td>01</td>\n      <td>05</td>\n    </tr>\n    <tr>\n      <th>...</th>\n      <td>...</td>\n      <td>...</td>\n      <td>...</td>\n      <td>...</td>\n      <td>...</td>\n      <td>...</td>\n    </tr>\n    <tr>\n      <th>912995</th>\n      <td>10</td>\n      <td>50</td>\n      <td>63</td>\n      <td>2017</td>\n      <td>12</td>\n      <td>27</td>\n    </tr>\n    <tr>\n      <th>912996</th>\n      <td>10</td>\n      <td>50</td>\n      <td>59</td>\n      <td>2017</td>\n      <td>12</td>\n      <td>28</td>\n    </tr>\n    <tr>\n      <th>912997</th>\n      <td>10</td>\n      <td>50</td>\n      <td>74</td>\n      <td>2017</td>\n      <td>12</td>\n      <td>29</td>\n    </tr>\n    <tr>\n      <th>912998</th>\n      <td>10</td>\n      <td>50</td>\n      <td>62</td>\n      <td>2017</td>\n      <td>12</td>\n      <td>30</td>\n    </tr>\n    <tr>\n      <th>912999</th>\n      <td>10</td>\n      <td>50</td>\n      <td>82</td>\n      <td>2017</td>\n      <td>12</td>\n      <td>31</td>\n    </tr>\n  </tbody>\n</table>\n<p>913000 rows × 6 columns</p>\n</div>"
     },
     "execution_count": 31,
     "metadata": {},
     "output_type": "execute_result"
    }
   ],
   "source": [
    "df"
   ],
   "metadata": {
    "collapsed": false,
    "ExecuteTime": {
     "end_time": "2023-10-30T15:06:31.752585Z",
     "start_time": "2023-10-30T15:06:31.748721Z"
    }
   },
   "id": "91cd60d2fb20bee3"
  },
  {
   "cell_type": "code",
   "execution_count": 32,
   "outputs": [],
   "source": [
    "y = df.iloc[:,2].values\n",
    "df = df.drop(columns='sales')\n",
    "X = df.iloc[:,:].values"
   ],
   "metadata": {
    "collapsed": false,
    "ExecuteTime": {
     "end_time": "2023-10-30T15:06:31.996442Z",
     "start_time": "2023-10-30T15:06:31.755508Z"
    }
   },
   "id": "c6c6ee9a85e17200"
  },
  {
   "cell_type": "code",
   "execution_count": 33,
   "outputs": [
    {
     "data": {
      "text/plain": "array([[1, 1, '2013', '01', '01'],\n       [1, 1, '2013', '01', '02'],\n       [1, 1, '2013', '01', '03'],\n       ...,\n       [10, 50, '2017', '12', '29'],\n       [10, 50, '2017', '12', '30'],\n       [10, 50, '2017', '12', '31']], dtype=object)"
     },
     "execution_count": 33,
     "metadata": {},
     "output_type": "execute_result"
    }
   ],
   "source": [
    "X"
   ],
   "metadata": {
    "collapsed": false,
    "ExecuteTime": {
     "end_time": "2023-10-30T15:06:32.001421Z",
     "start_time": "2023-10-30T15:06:31.996330Z"
    }
   },
   "id": "6aa750a2e2829ccc"
  },
  {
   "cell_type": "code",
   "execution_count": 34,
   "outputs": [
    {
     "data": {
      "text/plain": "array([13, 11, 14, ..., 74, 62, 82])"
     },
     "execution_count": 34,
     "metadata": {},
     "output_type": "execute_result"
    }
   ],
   "source": [
    "y"
   ],
   "metadata": {
    "collapsed": false,
    "ExecuteTime": {
     "end_time": "2023-10-30T15:06:32.003571Z",
     "start_time": "2023-10-30T15:06:32.000828Z"
    }
   },
   "id": "364cdf46bb44063c"
  },
  {
   "cell_type": "code",
   "execution_count": 41,
   "outputs": [],
   "source": [
    "from sklearn.model_selection import train_test_split\n",
    "X_train,X_test,y_train,y_test = train_test_split(X, y,test_size=0.2,random_state=42)"
   ],
   "metadata": {
    "collapsed": false,
    "ExecuteTime": {
     "end_time": "2023-10-30T15:09:23.994823Z",
     "start_time": "2023-10-30T15:09:22.286546Z"
    }
   },
   "id": "cfc07719e35cafd2"
  },
  {
   "cell_type": "markdown",
   "source": [
    "## Building the model"
   ],
   "metadata": {
    "collapsed": false
   },
   "id": "ac00053f634ec892"
  },
  {
   "cell_type": "code",
   "execution_count": null,
   "outputs": [],
   "source": [],
   "metadata": {
    "collapsed": false
   },
   "id": "8ce919419fd28c3d"
  },
  {
   "cell_type": "code",
   "execution_count": null,
   "outputs": [],
   "source": [],
   "metadata": {
    "collapsed": false
   },
   "id": "dea0455d5e70b95a"
  }
 ],
 "metadata": {
  "kernelspec": {
   "display_name": "Python 3",
   "language": "python",
   "name": "python3"
  },
  "language_info": {
   "codemirror_mode": {
    "name": "ipython",
    "version": 2
   },
   "file_extension": ".py",
   "mimetype": "text/x-python",
   "name": "python",
   "nbconvert_exporter": "python",
   "pygments_lexer": "ipython2",
   "version": "2.7.6"
  }
 },
 "nbformat": 4,
 "nbformat_minor": 5
}
