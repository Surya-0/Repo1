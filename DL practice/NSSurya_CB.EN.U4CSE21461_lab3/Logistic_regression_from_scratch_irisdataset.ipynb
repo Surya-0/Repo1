{
 "cells": [
  {
   "cell_type": "markdown",
   "metadata": {},
   "source": [
    "# Logistic Regression"
   ]
  },
  {
   "cell_type": "markdown",
   "metadata": {},
   "source": [
    "# Data Preprocessing"
   ]
  },
  {
   "cell_type": "markdown",
   "metadata": {},
   "source": [
    "## Importing the libraries"
   ]
  },
  {
   "cell_type": "code",
   "execution_count": 63,
   "metadata": {},
   "outputs": [],
   "source": [
    "import numpy as np\n",
    "import pandas as pd\n",
    "import matplotlib.pyplot as plt"
   ]
  },
  {
   "cell_type": "markdown",
   "metadata": {},
   "source": [
    "## Importing the dataset"
   ]
  },
  {
   "cell_type": "code",
   "execution_count": 64,
   "metadata": {},
   "outputs": [
    {
     "data": {
      "text/html": [
       "<div>\n",
       "<style scoped>\n",
       "    .dataframe tbody tr th:only-of-type {\n",
       "        vertical-align: middle;\n",
       "    }\n",
       "\n",
       "    .dataframe tbody tr th {\n",
       "        vertical-align: top;\n",
       "    }\n",
       "\n",
       "    .dataframe thead th {\n",
       "        text-align: right;\n",
       "    }\n",
       "</style>\n",
       "<table border=\"1\" class=\"dataframe\">\n",
       "  <thead>\n",
       "    <tr style=\"text-align: right;\">\n",
       "      <th></th>\n",
       "      <th>Id</th>\n",
       "      <th>SepalLengthCm</th>\n",
       "      <th>SepalWidthCm</th>\n",
       "      <th>PetalLengthCm</th>\n",
       "      <th>PetalWidthCm</th>\n",
       "      <th>Species</th>\n",
       "    </tr>\n",
       "  </thead>\n",
       "  <tbody>\n",
       "    <tr>\n",
       "      <th>0</th>\n",
       "      <td>1</td>\n",
       "      <td>5.1</td>\n",
       "      <td>3.5</td>\n",
       "      <td>1.4</td>\n",
       "      <td>0.2</td>\n",
       "      <td>Iris-setosa</td>\n",
       "    </tr>\n",
       "    <tr>\n",
       "      <th>1</th>\n",
       "      <td>2</td>\n",
       "      <td>4.9</td>\n",
       "      <td>3.0</td>\n",
       "      <td>1.4</td>\n",
       "      <td>0.2</td>\n",
       "      <td>Iris-setosa</td>\n",
       "    </tr>\n",
       "    <tr>\n",
       "      <th>2</th>\n",
       "      <td>3</td>\n",
       "      <td>4.7</td>\n",
       "      <td>3.2</td>\n",
       "      <td>1.3</td>\n",
       "      <td>0.2</td>\n",
       "      <td>Iris-setosa</td>\n",
       "    </tr>\n",
       "    <tr>\n",
       "      <th>3</th>\n",
       "      <td>4</td>\n",
       "      <td>4.6</td>\n",
       "      <td>3.1</td>\n",
       "      <td>1.5</td>\n",
       "      <td>0.2</td>\n",
       "      <td>Iris-setosa</td>\n",
       "    </tr>\n",
       "    <tr>\n",
       "      <th>4</th>\n",
       "      <td>5</td>\n",
       "      <td>5.0</td>\n",
       "      <td>3.6</td>\n",
       "      <td>1.4</td>\n",
       "      <td>0.2</td>\n",
       "      <td>Iris-setosa</td>\n",
       "    </tr>\n",
       "    <tr>\n",
       "      <th>...</th>\n",
       "      <td>...</td>\n",
       "      <td>...</td>\n",
       "      <td>...</td>\n",
       "      <td>...</td>\n",
       "      <td>...</td>\n",
       "      <td>...</td>\n",
       "    </tr>\n",
       "    <tr>\n",
       "      <th>145</th>\n",
       "      <td>146</td>\n",
       "      <td>6.7</td>\n",
       "      <td>3.0</td>\n",
       "      <td>5.2</td>\n",
       "      <td>2.3</td>\n",
       "      <td>Iris-virginica</td>\n",
       "    </tr>\n",
       "    <tr>\n",
       "      <th>146</th>\n",
       "      <td>147</td>\n",
       "      <td>6.3</td>\n",
       "      <td>2.5</td>\n",
       "      <td>5.0</td>\n",
       "      <td>1.9</td>\n",
       "      <td>Iris-virginica</td>\n",
       "    </tr>\n",
       "    <tr>\n",
       "      <th>147</th>\n",
       "      <td>148</td>\n",
       "      <td>6.5</td>\n",
       "      <td>3.0</td>\n",
       "      <td>5.2</td>\n",
       "      <td>2.0</td>\n",
       "      <td>Iris-virginica</td>\n",
       "    </tr>\n",
       "    <tr>\n",
       "      <th>148</th>\n",
       "      <td>149</td>\n",
       "      <td>6.2</td>\n",
       "      <td>3.4</td>\n",
       "      <td>5.4</td>\n",
       "      <td>2.3</td>\n",
       "      <td>Iris-virginica</td>\n",
       "    </tr>\n",
       "    <tr>\n",
       "      <th>149</th>\n",
       "      <td>150</td>\n",
       "      <td>5.9</td>\n",
       "      <td>3.0</td>\n",
       "      <td>5.1</td>\n",
       "      <td>1.8</td>\n",
       "      <td>Iris-virginica</td>\n",
       "    </tr>\n",
       "  </tbody>\n",
       "</table>\n",
       "<p>150 rows × 6 columns</p>\n",
       "</div>"
      ],
      "text/plain": [
       "      Id  SepalLengthCm  SepalWidthCm  PetalLengthCm  PetalWidthCm  \\\n",
       "0      1            5.1           3.5            1.4           0.2   \n",
       "1      2            4.9           3.0            1.4           0.2   \n",
       "2      3            4.7           3.2            1.3           0.2   \n",
       "3      4            4.6           3.1            1.5           0.2   \n",
       "4      5            5.0           3.6            1.4           0.2   \n",
       "..   ...            ...           ...            ...           ...   \n",
       "145  146            6.7           3.0            5.2           2.3   \n",
       "146  147            6.3           2.5            5.0           1.9   \n",
       "147  148            6.5           3.0            5.2           2.0   \n",
       "148  149            6.2           3.4            5.4           2.3   \n",
       "149  150            5.9           3.0            5.1           1.8   \n",
       "\n",
       "            Species  \n",
       "0       Iris-setosa  \n",
       "1       Iris-setosa  \n",
       "2       Iris-setosa  \n",
       "3       Iris-setosa  \n",
       "4       Iris-setosa  \n",
       "..              ...  \n",
       "145  Iris-virginica  \n",
       "146  Iris-virginica  \n",
       "147  Iris-virginica  \n",
       "148  Iris-virginica  \n",
       "149  Iris-virginica  \n",
       "\n",
       "[150 rows x 6 columns]"
      ]
     },
     "execution_count": 64,
     "metadata": {},
     "output_type": "execute_result"
    }
   ],
   "source": [
    "irisdata = pd.read_csv('iris.csv')\n",
    "irisdata "
   ]
  },
  {
   "cell_type": "code",
   "execution_count": 65,
   "metadata": {},
   "outputs": [
    {
     "data": {
      "text/plain": [
       "Iris-setosa        50\n",
       "Iris-versicolor    50\n",
       "Iris-virginica     50\n",
       "Name: Species, dtype: int64"
      ]
     },
     "execution_count": 65,
     "metadata": {},
     "output_type": "execute_result"
    }
   ],
   "source": [
    "irisdata['Species'].value_counts()"
   ]
  },
  {
   "cell_type": "code",
   "execution_count": 66,
   "metadata": {},
   "outputs": [
    {
     "data": {
      "text/html": [
       "<div>\n",
       "<style scoped>\n",
       "    .dataframe tbody tr th:only-of-type {\n",
       "        vertical-align: middle;\n",
       "    }\n",
       "\n",
       "    .dataframe tbody tr th {\n",
       "        vertical-align: top;\n",
       "    }\n",
       "\n",
       "    .dataframe thead th {\n",
       "        text-align: right;\n",
       "    }\n",
       "</style>\n",
       "<table border=\"1\" class=\"dataframe\">\n",
       "  <thead>\n",
       "    <tr style=\"text-align: right;\">\n",
       "      <th></th>\n",
       "      <th>Id</th>\n",
       "      <th>SepalLengthCm</th>\n",
       "      <th>SepalWidthCm</th>\n",
       "      <th>PetalLengthCm</th>\n",
       "      <th>PetalWidthCm</th>\n",
       "      <th>Species</th>\n",
       "    </tr>\n",
       "  </thead>\n",
       "  <tbody>\n",
       "    <tr>\n",
       "      <th>0</th>\n",
       "      <td>1</td>\n",
       "      <td>5.1</td>\n",
       "      <td>3.5</td>\n",
       "      <td>1.4</td>\n",
       "      <td>0.2</td>\n",
       "      <td>Iris-setosa</td>\n",
       "    </tr>\n",
       "    <tr>\n",
       "      <th>1</th>\n",
       "      <td>2</td>\n",
       "      <td>4.9</td>\n",
       "      <td>3.0</td>\n",
       "      <td>1.4</td>\n",
       "      <td>0.2</td>\n",
       "      <td>Iris-setosa</td>\n",
       "    </tr>\n",
       "    <tr>\n",
       "      <th>2</th>\n",
       "      <td>3</td>\n",
       "      <td>4.7</td>\n",
       "      <td>3.2</td>\n",
       "      <td>1.3</td>\n",
       "      <td>0.2</td>\n",
       "      <td>Iris-setosa</td>\n",
       "    </tr>\n",
       "    <tr>\n",
       "      <th>3</th>\n",
       "      <td>4</td>\n",
       "      <td>4.6</td>\n",
       "      <td>3.1</td>\n",
       "      <td>1.5</td>\n",
       "      <td>0.2</td>\n",
       "      <td>Iris-setosa</td>\n",
       "    </tr>\n",
       "    <tr>\n",
       "      <th>4</th>\n",
       "      <td>5</td>\n",
       "      <td>5.0</td>\n",
       "      <td>3.6</td>\n",
       "      <td>1.4</td>\n",
       "      <td>0.2</td>\n",
       "      <td>Iris-setosa</td>\n",
       "    </tr>\n",
       "    <tr>\n",
       "      <th>...</th>\n",
       "      <td>...</td>\n",
       "      <td>...</td>\n",
       "      <td>...</td>\n",
       "      <td>...</td>\n",
       "      <td>...</td>\n",
       "      <td>...</td>\n",
       "    </tr>\n",
       "    <tr>\n",
       "      <th>95</th>\n",
       "      <td>96</td>\n",
       "      <td>5.7</td>\n",
       "      <td>3.0</td>\n",
       "      <td>4.2</td>\n",
       "      <td>1.2</td>\n",
       "      <td>Iris-versicolor</td>\n",
       "    </tr>\n",
       "    <tr>\n",
       "      <th>96</th>\n",
       "      <td>97</td>\n",
       "      <td>5.7</td>\n",
       "      <td>2.9</td>\n",
       "      <td>4.2</td>\n",
       "      <td>1.3</td>\n",
       "      <td>Iris-versicolor</td>\n",
       "    </tr>\n",
       "    <tr>\n",
       "      <th>97</th>\n",
       "      <td>98</td>\n",
       "      <td>6.2</td>\n",
       "      <td>2.9</td>\n",
       "      <td>4.3</td>\n",
       "      <td>1.3</td>\n",
       "      <td>Iris-versicolor</td>\n",
       "    </tr>\n",
       "    <tr>\n",
       "      <th>98</th>\n",
       "      <td>99</td>\n",
       "      <td>5.1</td>\n",
       "      <td>2.5</td>\n",
       "      <td>3.0</td>\n",
       "      <td>1.1</td>\n",
       "      <td>Iris-versicolor</td>\n",
       "    </tr>\n",
       "    <tr>\n",
       "      <th>99</th>\n",
       "      <td>100</td>\n",
       "      <td>5.7</td>\n",
       "      <td>2.8</td>\n",
       "      <td>4.1</td>\n",
       "      <td>1.3</td>\n",
       "      <td>Iris-versicolor</td>\n",
       "    </tr>\n",
       "  </tbody>\n",
       "</table>\n",
       "<p>100 rows × 6 columns</p>\n",
       "</div>"
      ],
      "text/plain": [
       "     Id  SepalLengthCm  SepalWidthCm  PetalLengthCm  PetalWidthCm  \\\n",
       "0     1            5.1           3.5            1.4           0.2   \n",
       "1     2            4.9           3.0            1.4           0.2   \n",
       "2     3            4.7           3.2            1.3           0.2   \n",
       "3     4            4.6           3.1            1.5           0.2   \n",
       "4     5            5.0           3.6            1.4           0.2   \n",
       "..  ...            ...           ...            ...           ...   \n",
       "95   96            5.7           3.0            4.2           1.2   \n",
       "96   97            5.7           2.9            4.2           1.3   \n",
       "97   98            6.2           2.9            4.3           1.3   \n",
       "98   99            5.1           2.5            3.0           1.1   \n",
       "99  100            5.7           2.8            4.1           1.3   \n",
       "\n",
       "            Species  \n",
       "0       Iris-setosa  \n",
       "1       Iris-setosa  \n",
       "2       Iris-setosa  \n",
       "3       Iris-setosa  \n",
       "4       Iris-setosa  \n",
       "..              ...  \n",
       "95  Iris-versicolor  \n",
       "96  Iris-versicolor  \n",
       "97  Iris-versicolor  \n",
       "98  Iris-versicolor  \n",
       "99  Iris-versicolor  \n",
       "\n",
       "[100 rows x 6 columns]"
      ]
     },
     "execution_count": 66,
     "metadata": {},
     "output_type": "execute_result"
    }
   ],
   "source": [
    "irisdata = irisdata.iloc[:100,:]\n",
    "irisdata "
   ]
  },
  {
   "cell_type": "code",
   "execution_count": 67,
   "metadata": {},
   "outputs": [
    {
     "data": {
      "text/plain": [
       "Iris-setosa        50\n",
       "Iris-versicolor    50\n",
       "Name: Species, dtype: int64"
      ]
     },
     "execution_count": 67,
     "metadata": {},
     "output_type": "execute_result"
    }
   ],
   "source": [
    "irisdata['Species'].value_counts()"
   ]
  },
  {
   "cell_type": "code",
   "execution_count": 68,
   "metadata": {},
   "outputs": [
    {
     "data": {
      "text/plain": [
       "0         Iris-setosa\n",
       "1         Iris-setosa\n",
       "2         Iris-setosa\n",
       "3         Iris-setosa\n",
       "4         Iris-setosa\n",
       "           ...       \n",
       "95    Iris-versicolor\n",
       "96    Iris-versicolor\n",
       "97    Iris-versicolor\n",
       "98    Iris-versicolor\n",
       "99    Iris-versicolor\n",
       "Name: Species, Length: 100, dtype: object"
      ]
     },
     "execution_count": 68,
     "metadata": {},
     "output_type": "execute_result"
    }
   ],
   "source": [
    "irisdata['Species']"
   ]
  },
  {
   "cell_type": "code",
   "execution_count": 69,
   "metadata": {},
   "outputs": [
    {
     "name": "stderr",
     "output_type": "stream",
     "text": [
      "/var/folders/21/yhy2dhmx219b7cbcq243hmwc0000gn/T/ipykernel_47173/3904547442.py:7: SettingWithCopyWarning: \n",
      "A value is trying to be set on a copy of a slice from a DataFrame.\n",
      "Try using .loc[row_indexer,col_indexer] = value instead\n",
      "\n",
      "See the caveats in the documentation: https://pandas.pydata.org/pandas-docs/stable/user_guide/indexing.html#returning-a-view-versus-a-copy\n",
      "  irisdata['Species'] = irisdata['Species'].apply(categorise)\n"
     ]
    },
    {
     "data": {
      "text/plain": [
       "1    50\n",
       "0    50\n",
       "Name: Species, dtype: int64"
      ]
     },
     "execution_count": 69,
     "metadata": {},
     "output_type": "execute_result"
    }
   ],
   "source": [
    "def categorise(x):\n",
    "    if x == \"Iris-setosa\":\n",
    "        x = 1\n",
    "    else:\n",
    "        x = 0\n",
    "    return x \n",
    "irisdata['Species'] = irisdata['Species'].apply(categorise)\n",
    "irisdata['Species'].value_counts()"
   ]
  },
  {
   "cell_type": "code",
   "execution_count": 70,
   "metadata": {},
   "outputs": [
    {
     "data": {
      "text/html": [
       "<div>\n",
       "<style scoped>\n",
       "    .dataframe tbody tr th:only-of-type {\n",
       "        vertical-align: middle;\n",
       "    }\n",
       "\n",
       "    .dataframe tbody tr th {\n",
       "        vertical-align: top;\n",
       "    }\n",
       "\n",
       "    .dataframe thead th {\n",
       "        text-align: right;\n",
       "    }\n",
       "</style>\n",
       "<table border=\"1\" class=\"dataframe\">\n",
       "  <thead>\n",
       "    <tr style=\"text-align: right;\">\n",
       "      <th></th>\n",
       "      <th>Id</th>\n",
       "      <th>SepalLengthCm</th>\n",
       "      <th>SepalWidthCm</th>\n",
       "      <th>PetalLengthCm</th>\n",
       "      <th>PetalWidthCm</th>\n",
       "      <th>Species</th>\n",
       "    </tr>\n",
       "  </thead>\n",
       "  <tbody>\n",
       "    <tr>\n",
       "      <th>0</th>\n",
       "      <td>1</td>\n",
       "      <td>5.1</td>\n",
       "      <td>3.5</td>\n",
       "      <td>1.4</td>\n",
       "      <td>0.2</td>\n",
       "      <td>1</td>\n",
       "    </tr>\n",
       "    <tr>\n",
       "      <th>1</th>\n",
       "      <td>2</td>\n",
       "      <td>4.9</td>\n",
       "      <td>3.0</td>\n",
       "      <td>1.4</td>\n",
       "      <td>0.2</td>\n",
       "      <td>1</td>\n",
       "    </tr>\n",
       "    <tr>\n",
       "      <th>2</th>\n",
       "      <td>3</td>\n",
       "      <td>4.7</td>\n",
       "      <td>3.2</td>\n",
       "      <td>1.3</td>\n",
       "      <td>0.2</td>\n",
       "      <td>1</td>\n",
       "    </tr>\n",
       "    <tr>\n",
       "      <th>3</th>\n",
       "      <td>4</td>\n",
       "      <td>4.6</td>\n",
       "      <td>3.1</td>\n",
       "      <td>1.5</td>\n",
       "      <td>0.2</td>\n",
       "      <td>1</td>\n",
       "    </tr>\n",
       "    <tr>\n",
       "      <th>4</th>\n",
       "      <td>5</td>\n",
       "      <td>5.0</td>\n",
       "      <td>3.6</td>\n",
       "      <td>1.4</td>\n",
       "      <td>0.2</td>\n",
       "      <td>1</td>\n",
       "    </tr>\n",
       "    <tr>\n",
       "      <th>...</th>\n",
       "      <td>...</td>\n",
       "      <td>...</td>\n",
       "      <td>...</td>\n",
       "      <td>...</td>\n",
       "      <td>...</td>\n",
       "      <td>...</td>\n",
       "    </tr>\n",
       "    <tr>\n",
       "      <th>95</th>\n",
       "      <td>96</td>\n",
       "      <td>5.7</td>\n",
       "      <td>3.0</td>\n",
       "      <td>4.2</td>\n",
       "      <td>1.2</td>\n",
       "      <td>0</td>\n",
       "    </tr>\n",
       "    <tr>\n",
       "      <th>96</th>\n",
       "      <td>97</td>\n",
       "      <td>5.7</td>\n",
       "      <td>2.9</td>\n",
       "      <td>4.2</td>\n",
       "      <td>1.3</td>\n",
       "      <td>0</td>\n",
       "    </tr>\n",
       "    <tr>\n",
       "      <th>97</th>\n",
       "      <td>98</td>\n",
       "      <td>6.2</td>\n",
       "      <td>2.9</td>\n",
       "      <td>4.3</td>\n",
       "      <td>1.3</td>\n",
       "      <td>0</td>\n",
       "    </tr>\n",
       "    <tr>\n",
       "      <th>98</th>\n",
       "      <td>99</td>\n",
       "      <td>5.1</td>\n",
       "      <td>2.5</td>\n",
       "      <td>3.0</td>\n",
       "      <td>1.1</td>\n",
       "      <td>0</td>\n",
       "    </tr>\n",
       "    <tr>\n",
       "      <th>99</th>\n",
       "      <td>100</td>\n",
       "      <td>5.7</td>\n",
       "      <td>2.8</td>\n",
       "      <td>4.1</td>\n",
       "      <td>1.3</td>\n",
       "      <td>0</td>\n",
       "    </tr>\n",
       "  </tbody>\n",
       "</table>\n",
       "<p>100 rows × 6 columns</p>\n",
       "</div>"
      ],
      "text/plain": [
       "     Id  SepalLengthCm  SepalWidthCm  PetalLengthCm  PetalWidthCm  Species\n",
       "0     1            5.1           3.5            1.4           0.2        1\n",
       "1     2            4.9           3.0            1.4           0.2        1\n",
       "2     3            4.7           3.2            1.3           0.2        1\n",
       "3     4            4.6           3.1            1.5           0.2        1\n",
       "4     5            5.0           3.6            1.4           0.2        1\n",
       "..  ...            ...           ...            ...           ...      ...\n",
       "95   96            5.7           3.0            4.2           1.2        0\n",
       "96   97            5.7           2.9            4.2           1.3        0\n",
       "97   98            6.2           2.9            4.3           1.3        0\n",
       "98   99            5.1           2.5            3.0           1.1        0\n",
       "99  100            5.7           2.8            4.1           1.3        0\n",
       "\n",
       "[100 rows x 6 columns]"
      ]
     },
     "execution_count": 70,
     "metadata": {},
     "output_type": "execute_result"
    }
   ],
   "source": [
    "irisdata"
   ]
  },
  {
   "cell_type": "code",
   "execution_count": 71,
   "metadata": {},
   "outputs": [],
   "source": [
    "X = irisdata.iloc[:,:-1].values\n",
    "Y = irisdata.iloc[:,-1].values"
   ]
  },
  {
   "cell_type": "code",
   "execution_count": 72,
   "metadata": {},
   "outputs": [
    {
     "data": {
      "text/plain": [
       "array([[  1. ,   5.1,   3.5,   1.4,   0.2],\n",
       "       [  2. ,   4.9,   3. ,   1.4,   0.2],\n",
       "       [  3. ,   4.7,   3.2,   1.3,   0.2],\n",
       "       [  4. ,   4.6,   3.1,   1.5,   0.2],\n",
       "       [  5. ,   5. ,   3.6,   1.4,   0.2],\n",
       "       [  6. ,   5.4,   3.9,   1.7,   0.4],\n",
       "       [  7. ,   4.6,   3.4,   1.4,   0.3],\n",
       "       [  8. ,   5. ,   3.4,   1.5,   0.2],\n",
       "       [  9. ,   4.4,   2.9,   1.4,   0.2],\n",
       "       [ 10. ,   4.9,   3.1,   1.5,   0.1],\n",
       "       [ 11. ,   5.4,   3.7,   1.5,   0.2],\n",
       "       [ 12. ,   4.8,   3.4,   1.6,   0.2],\n",
       "       [ 13. ,   4.8,   3. ,   1.4,   0.1],\n",
       "       [ 14. ,   4.3,   3. ,   1.1,   0.1],\n",
       "       [ 15. ,   5.8,   4. ,   1.2,   0.2],\n",
       "       [ 16. ,   5.7,   4.4,   1.5,   0.4],\n",
       "       [ 17. ,   5.4,   3.9,   1.3,   0.4],\n",
       "       [ 18. ,   5.1,   3.5,   1.4,   0.3],\n",
       "       [ 19. ,   5.7,   3.8,   1.7,   0.3],\n",
       "       [ 20. ,   5.1,   3.8,   1.5,   0.3],\n",
       "       [ 21. ,   5.4,   3.4,   1.7,   0.2],\n",
       "       [ 22. ,   5.1,   3.7,   1.5,   0.4],\n",
       "       [ 23. ,   4.6,   3.6,   1. ,   0.2],\n",
       "       [ 24. ,   5.1,   3.3,   1.7,   0.5],\n",
       "       [ 25. ,   4.8,   3.4,   1.9,   0.2],\n",
       "       [ 26. ,   5. ,   3. ,   1.6,   0.2],\n",
       "       [ 27. ,   5. ,   3.4,   1.6,   0.4],\n",
       "       [ 28. ,   5.2,   3.5,   1.5,   0.2],\n",
       "       [ 29. ,   5.2,   3.4,   1.4,   0.2],\n",
       "       [ 30. ,   4.7,   3.2,   1.6,   0.2],\n",
       "       [ 31. ,   4.8,   3.1,   1.6,   0.2],\n",
       "       [ 32. ,   5.4,   3.4,   1.5,   0.4],\n",
       "       [ 33. ,   5.2,   4.1,   1.5,   0.1],\n",
       "       [ 34. ,   5.5,   4.2,   1.4,   0.2],\n",
       "       [ 35. ,   4.9,   3.1,   1.5,   0.1],\n",
       "       [ 36. ,   5. ,   3.2,   1.2,   0.2],\n",
       "       [ 37. ,   5.5,   3.5,   1.3,   0.2],\n",
       "       [ 38. ,   4.9,   3.1,   1.5,   0.1],\n",
       "       [ 39. ,   4.4,   3. ,   1.3,   0.2],\n",
       "       [ 40. ,   5.1,   3.4,   1.5,   0.2],\n",
       "       [ 41. ,   5. ,   3.5,   1.3,   0.3],\n",
       "       [ 42. ,   4.5,   2.3,   1.3,   0.3],\n",
       "       [ 43. ,   4.4,   3.2,   1.3,   0.2],\n",
       "       [ 44. ,   5. ,   3.5,   1.6,   0.6],\n",
       "       [ 45. ,   5.1,   3.8,   1.9,   0.4],\n",
       "       [ 46. ,   4.8,   3. ,   1.4,   0.3],\n",
       "       [ 47. ,   5.1,   3.8,   1.6,   0.2],\n",
       "       [ 48. ,   4.6,   3.2,   1.4,   0.2],\n",
       "       [ 49. ,   5.3,   3.7,   1.5,   0.2],\n",
       "       [ 50. ,   5. ,   3.3,   1.4,   0.2],\n",
       "       [ 51. ,   7. ,   3.2,   4.7,   1.4],\n",
       "       [ 52. ,   6.4,   3.2,   4.5,   1.5],\n",
       "       [ 53. ,   6.9,   3.1,   4.9,   1.5],\n",
       "       [ 54. ,   5.5,   2.3,   4. ,   1.3],\n",
       "       [ 55. ,   6.5,   2.8,   4.6,   1.5],\n",
       "       [ 56. ,   5.7,   2.8,   4.5,   1.3],\n",
       "       [ 57. ,   6.3,   3.3,   4.7,   1.6],\n",
       "       [ 58. ,   4.9,   2.4,   3.3,   1. ],\n",
       "       [ 59. ,   6.6,   2.9,   4.6,   1.3],\n",
       "       [ 60. ,   5.2,   2.7,   3.9,   1.4],\n",
       "       [ 61. ,   5. ,   2. ,   3.5,   1. ],\n",
       "       [ 62. ,   5.9,   3. ,   4.2,   1.5],\n",
       "       [ 63. ,   6. ,   2.2,   4. ,   1. ],\n",
       "       [ 64. ,   6.1,   2.9,   4.7,   1.4],\n",
       "       [ 65. ,   5.6,   2.9,   3.6,   1.3],\n",
       "       [ 66. ,   6.7,   3.1,   4.4,   1.4],\n",
       "       [ 67. ,   5.6,   3. ,   4.5,   1.5],\n",
       "       [ 68. ,   5.8,   2.7,   4.1,   1. ],\n",
       "       [ 69. ,   6.2,   2.2,   4.5,   1.5],\n",
       "       [ 70. ,   5.6,   2.5,   3.9,   1.1],\n",
       "       [ 71. ,   5.9,   3.2,   4.8,   1.8],\n",
       "       [ 72. ,   6.1,   2.8,   4. ,   1.3],\n",
       "       [ 73. ,   6.3,   2.5,   4.9,   1.5],\n",
       "       [ 74. ,   6.1,   2.8,   4.7,   1.2],\n",
       "       [ 75. ,   6.4,   2.9,   4.3,   1.3],\n",
       "       [ 76. ,   6.6,   3. ,   4.4,   1.4],\n",
       "       [ 77. ,   6.8,   2.8,   4.8,   1.4],\n",
       "       [ 78. ,   6.7,   3. ,   5. ,   1.7],\n",
       "       [ 79. ,   6. ,   2.9,   4.5,   1.5],\n",
       "       [ 80. ,   5.7,   2.6,   3.5,   1. ],\n",
       "       [ 81. ,   5.5,   2.4,   3.8,   1.1],\n",
       "       [ 82. ,   5.5,   2.4,   3.7,   1. ],\n",
       "       [ 83. ,   5.8,   2.7,   3.9,   1.2],\n",
       "       [ 84. ,   6. ,   2.7,   5.1,   1.6],\n",
       "       [ 85. ,   5.4,   3. ,   4.5,   1.5],\n",
       "       [ 86. ,   6. ,   3.4,   4.5,   1.6],\n",
       "       [ 87. ,   6.7,   3.1,   4.7,   1.5],\n",
       "       [ 88. ,   6.3,   2.3,   4.4,   1.3],\n",
       "       [ 89. ,   5.6,   3. ,   4.1,   1.3],\n",
       "       [ 90. ,   5.5,   2.5,   4. ,   1.3],\n",
       "       [ 91. ,   5.5,   2.6,   4.4,   1.2],\n",
       "       [ 92. ,   6.1,   3. ,   4.6,   1.4],\n",
       "       [ 93. ,   5.8,   2.6,   4. ,   1.2],\n",
       "       [ 94. ,   5. ,   2.3,   3.3,   1. ],\n",
       "       [ 95. ,   5.6,   2.7,   4.2,   1.3],\n",
       "       [ 96. ,   5.7,   3. ,   4.2,   1.2],\n",
       "       [ 97. ,   5.7,   2.9,   4.2,   1.3],\n",
       "       [ 98. ,   6.2,   2.9,   4.3,   1.3],\n",
       "       [ 99. ,   5.1,   2.5,   3. ,   1.1],\n",
       "       [100. ,   5.7,   2.8,   4.1,   1.3]])"
      ]
     },
     "execution_count": 72,
     "metadata": {},
     "output_type": "execute_result"
    }
   ],
   "source": [
    "X"
   ]
  },
  {
   "cell_type": "code",
   "execution_count": 73,
   "metadata": {},
   "outputs": [
    {
     "data": {
      "text/plain": [
       "array([1, 1, 1, 1, 1, 1, 1, 1, 1, 1, 1, 1, 1, 1, 1, 1, 1, 1, 1, 1, 1, 1,\n",
       "       1, 1, 1, 1, 1, 1, 1, 1, 1, 1, 1, 1, 1, 1, 1, 1, 1, 1, 1, 1, 1, 1,\n",
       "       1, 1, 1, 1, 1, 1, 0, 0, 0, 0, 0, 0, 0, 0, 0, 0, 0, 0, 0, 0, 0, 0,\n",
       "       0, 0, 0, 0, 0, 0, 0, 0, 0, 0, 0, 0, 0, 0, 0, 0, 0, 0, 0, 0, 0, 0,\n",
       "       0, 0, 0, 0, 0, 0, 0, 0, 0, 0, 0, 0])"
      ]
     },
     "execution_count": 73,
     "metadata": {},
     "output_type": "execute_result"
    }
   ],
   "source": [
    "Y"
   ]
  },
  {
   "cell_type": "markdown",
   "metadata": {},
   "source": [
    "## Splitting the dataset into the Training set and Test set"
   ]
  },
  {
   "cell_type": "code",
   "execution_count": 74,
   "metadata": {},
   "outputs": [],
   "source": [
    "from sklearn.model_selection import train_test_split\n",
    "X_train,X_test,Y_train,Y_test = train_test_split(X,Y,test_size=0.25,random_state=0)"
   ]
  },
  {
   "cell_type": "code",
   "execution_count": 75,
   "metadata": {},
   "outputs": [
    {
     "data": {
      "text/plain": [
       "array([[ 49. ,   5.3,   3.7,   1.5,   0.2],\n",
       "       [  7. ,   4.6,   3.4,   1.4,   0.3],\n",
       "       [100. ,   5.7,   2.8,   4.1,   1.3],\n",
       "       [ 83. ,   5.8,   2.7,   3.9,   1.2],\n",
       "       [ 77. ,   6.8,   2.8,   4.8,   1.4],\n",
       "       [ 61. ,   5. ,   2. ,   3.5,   1. ],\n",
       "       [ 81. ,   5.5,   2.4,   3.8,   1.1],\n",
       "       [ 91. ,   5.5,   2.6,   4.4,   1.2],\n",
       "       [ 69. ,   6.2,   2.2,   4.5,   1.5],\n",
       "       [ 52. ,   6.4,   3.2,   4.5,   1.5],\n",
       "       [ 28. ,   5.2,   3.5,   1.5,   0.2],\n",
       "       [ 19. ,   5.7,   3.8,   1.7,   0.3],\n",
       "       [ 57. ,   6.3,   3.3,   4.7,   1.6],\n",
       "       [ 64. ,   6.1,   2.9,   4.7,   1.4],\n",
       "       [ 75. ,   6.4,   2.9,   4.3,   1.3],\n",
       "       [  2. ,   4.9,   3. ,   1.4,   0.2],\n",
       "       [ 62. ,   5.9,   3. ,   4.2,   1.5],\n",
       "       [ 43. ,   4.4,   3.2,   1.3,   0.2],\n",
       "       [ 42. ,   4.5,   2.3,   1.3,   0.3],\n",
       "       [  5. ,   5. ,   3.6,   1.4,   0.2],\n",
       "       [ 16. ,   5.7,   4.4,   1.5,   0.4],\n",
       "       [ 18. ,   5.1,   3.5,   1.4,   0.3],\n",
       "       [ 41. ,   5. ,   3.5,   1.3,   0.3],\n",
       "       [ 39. ,   4.4,   3. ,   1.3,   0.2],\n",
       "       [  6. ,   5.4,   3.9,   1.7,   0.4],\n",
       "       [ 92. ,   6.1,   3. ,   4.6,   1.4],\n",
       "       [ 60. ,   5.2,   2.7,   3.9,   1.4],\n",
       "       [  1. ,   5.1,   3.5,   1.4,   0.2],\n",
       "       [ 35. ,   4.9,   3.1,   1.5,   0.1],\n",
       "       [ 29. ,   5.2,   3.4,   1.4,   0.2],\n",
       "       [ 51. ,   7. ,   3.2,   4.7,   1.4],\n",
       "       [ 12. ,   4.8,   3.4,   1.6,   0.2],\n",
       "       [ 36. ,   5. ,   3.2,   1.2,   0.2],\n",
       "       [ 24. ,   5.1,   3.3,   1.7,   0.5],\n",
       "       [ 53. ,   6.9,   3.1,   4.9,   1.5],\n",
       "       [ 11. ,   5.4,   3.7,   1.5,   0.2],\n",
       "       [ 32. ,   5.4,   3.4,   1.5,   0.4],\n",
       "       [ 67. ,   5.6,   3. ,   4.5,   1.5],\n",
       "       [ 58. ,   4.9,   2.4,   3.3,   1. ],\n",
       "       [ 80. ,   5.7,   2.6,   3.5,   1. ],\n",
       "       [ 86. ,   6. ,   3.4,   4.5,   1.6],\n",
       "       [ 33. ,   5.2,   4.1,   1.5,   0.1],\n",
       "       [ 85. ,   5.4,   3. ,   4.5,   1.5],\n",
       "       [ 15. ,   5.8,   4. ,   1.2,   0.2],\n",
       "       [ 90. ,   5.5,   2.5,   4. ,   1.3],\n",
       "       [ 20. ,   5.1,   3.8,   1.5,   0.3],\n",
       "       [ 30. ,   4.7,   3.2,   1.6,   0.2],\n",
       "       [ 50. ,   5. ,   3.3,   1.4,   0.2],\n",
       "       [ 98. ,   6.2,   2.9,   4.3,   1.3],\n",
       "       [ 99. ,   5.1,   2.5,   3. ,   1.1],\n",
       "       [ 70. ,   5.6,   2.5,   3.9,   1.1],\n",
       "       [ 21. ,   5.4,   3.4,   1.7,   0.2],\n",
       "       [ 95. ,   5.6,   2.7,   4.2,   1.3],\n",
       "       [ 73. ,   6.3,   2.5,   4.9,   1.5],\n",
       "       [ 78. ,   6.7,   3. ,   5. ,   1.7],\n",
       "       [ 26. ,   5. ,   3. ,   1.6,   0.2],\n",
       "       [ 38. ,   4.9,   3.1,   1.5,   0.1],\n",
       "       [ 82. ,   5.5,   2.4,   3.7,   1. ],\n",
       "       [ 47. ,   5.1,   3.8,   1.6,   0.2],\n",
       "       [ 40. ,   5.1,   3.4,   1.5,   0.2],\n",
       "       [ 66. ,   6.7,   3.1,   4.4,   1.4],\n",
       "       [ 59. ,   6.6,   2.9,   4.6,   1.3],\n",
       "       [ 13. ,   4.8,   3. ,   1.4,   0.1],\n",
       "       [ 89. ,   5.6,   3. ,   4.1,   1.3],\n",
       "       [ 71. ,   5.9,   3.2,   4.8,   1.8],\n",
       "       [ 88. ,   6.3,   2.3,   4.4,   1.3],\n",
       "       [ 37. ,   5.5,   3.5,   1.3,   0.2],\n",
       "       [ 22. ,   5.1,   3.7,   1.5,   0.4],\n",
       "       [ 84. ,   6. ,   2.7,   5.1,   1.6],\n",
       "       [ 10. ,   4.9,   3.1,   1.5,   0.1],\n",
       "       [ 97. ,   5.7,   2.9,   4.2,   1.3],\n",
       "       [ 68. ,   5.8,   2.7,   4.1,   1. ],\n",
       "       [ 65. ,   5.6,   2.9,   3.6,   1.3],\n",
       "       [ 48. ,   4.6,   3.2,   1.4,   0.2],\n",
       "       [ 45. ,   5.1,   3.8,   1.9,   0.4]])"
      ]
     },
     "execution_count": 75,
     "metadata": {},
     "output_type": "execute_result"
    }
   ],
   "source": [
    "X_train"
   ]
  },
  {
   "cell_type": "code",
   "execution_count": 76,
   "metadata": {},
   "outputs": [
    {
     "data": {
      "text/plain": [
       "array([[27. ,  5. ,  3.4,  1.6,  0.4],\n",
       "       [87. ,  6.7,  3.1,  4.7,  1.5],\n",
       "       [ 3. ,  4.7,  3.2,  1.3,  0.2],\n",
       "       [56. ,  5.7,  2.8,  4.5,  1.3],\n",
       "       [76. ,  6.6,  3. ,  4.4,  1.4],\n",
       "       [94. ,  5. ,  2.3,  3.3,  1. ],\n",
       "       [17. ,  5.4,  3.9,  1.3,  0.4],\n",
       "       [74. ,  6.1,  2.8,  4.7,  1.2],\n",
       "       [55. ,  6.5,  2.8,  4.6,  1.5],\n",
       "       [96. ,  5.7,  3. ,  4.2,  1.2],\n",
       "       [54. ,  5.5,  2.3,  4. ,  1.3],\n",
       "       [93. ,  5.8,  2.6,  4. ,  1.2],\n",
       "       [79. ,  6. ,  2.9,  4.5,  1.5],\n",
       "       [14. ,  4.3,  3. ,  1.1,  0.1],\n",
       "       [ 8. ,  5. ,  3.4,  1.5,  0.2],\n",
       "       [31. ,  4.8,  3.1,  1.6,  0.2],\n",
       "       [23. ,  4.6,  3.6,  1. ,  0.2],\n",
       "       [25. ,  4.8,  3.4,  1.9,  0.2],\n",
       "       [34. ,  5.5,  4.2,  1.4,  0.2],\n",
       "       [ 9. ,  4.4,  2.9,  1.4,  0.2],\n",
       "       [44. ,  5. ,  3.5,  1.6,  0.6],\n",
       "       [63. ,  6. ,  2.2,  4. ,  1. ],\n",
       "       [ 4. ,  4.6,  3.1,  1.5,  0.2],\n",
       "       [72. ,  6.1,  2.8,  4. ,  1.3],\n",
       "       [46. ,  4.8,  3. ,  1.4,  0.3]])"
      ]
     },
     "execution_count": 76,
     "metadata": {},
     "output_type": "execute_result"
    }
   ],
   "source": [
    "X_test"
   ]
  },
  {
   "cell_type": "code",
   "execution_count": 77,
   "metadata": {},
   "outputs": [
    {
     "data": {
      "text/plain": [
       "array([1, 1, 0, 0, 0, 0, 0, 0, 0, 0, 1, 1, 0, 0, 0, 1, 0, 1, 1, 1, 1, 1,\n",
       "       1, 1, 1, 0, 0, 1, 1, 1, 0, 1, 1, 1, 0, 1, 1, 0, 0, 0, 0, 1, 0, 1,\n",
       "       0, 1, 1, 1, 0, 0, 0, 1, 0, 0, 0, 1, 1, 0, 1, 1, 0, 0, 1, 0, 0, 0,\n",
       "       1, 1, 0, 1, 0, 0, 0, 1, 1])"
      ]
     },
     "execution_count": 77,
     "metadata": {},
     "output_type": "execute_result"
    }
   ],
   "source": [
    "Y_train\n"
   ]
  },
  {
   "cell_type": "code",
   "execution_count": 78,
   "metadata": {},
   "outputs": [
    {
     "data": {
      "text/plain": [
       "(75,)"
      ]
     },
     "execution_count": 78,
     "metadata": {},
     "output_type": "execute_result"
    }
   ],
   "source": [
    "Y_train.shape"
   ]
  },
  {
   "cell_type": "code",
   "execution_count": 79,
   "metadata": {},
   "outputs": [
    {
     "data": {
      "text/plain": [
       "array([1, 0, 1, 0, 0, 0, 1, 0, 0, 0, 0, 0, 0, 1, 1, 1, 1, 1, 1, 1, 1, 0,\n",
       "       1, 0, 1])"
      ]
     },
     "execution_count": 79,
     "metadata": {},
     "output_type": "execute_result"
    }
   ],
   "source": [
    "Y_test"
   ]
  },
  {
   "cell_type": "code",
   "execution_count": 80,
   "metadata": {},
   "outputs": [
    {
     "data": {
      "text/plain": [
       "(25,)"
      ]
     },
     "execution_count": 80,
     "metadata": {},
     "output_type": "execute_result"
    }
   ],
   "source": [
    "Y_test.shape"
   ]
  },
  {
   "cell_type": "code",
   "execution_count": 81,
   "metadata": {},
   "outputs": [
    {
     "data": {
      "text/plain": [
       "(75, 5)"
      ]
     },
     "execution_count": 81,
     "metadata": {},
     "output_type": "execute_result"
    }
   ],
   "source": [
    "X_train.shape"
   ]
  },
  {
   "cell_type": "code",
   "execution_count": 82,
   "metadata": {},
   "outputs": [
    {
     "data": {
      "text/plain": [
       "array([[ 49. ,   5.3,   3.7,   1.5,   0.2],\n",
       "       [  7. ,   4.6,   3.4,   1.4,   0.3],\n",
       "       [100. ,   5.7,   2.8,   4.1,   1.3],\n",
       "       [ 83. ,   5.8,   2.7,   3.9,   1.2],\n",
       "       [ 77. ,   6.8,   2.8,   4.8,   1.4],\n",
       "       [ 61. ,   5. ,   2. ,   3.5,   1. ],\n",
       "       [ 81. ,   5.5,   2.4,   3.8,   1.1],\n",
       "       [ 91. ,   5.5,   2.6,   4.4,   1.2],\n",
       "       [ 69. ,   6.2,   2.2,   4.5,   1.5],\n",
       "       [ 52. ,   6.4,   3.2,   4.5,   1.5],\n",
       "       [ 28. ,   5.2,   3.5,   1.5,   0.2],\n",
       "       [ 19. ,   5.7,   3.8,   1.7,   0.3],\n",
       "       [ 57. ,   6.3,   3.3,   4.7,   1.6],\n",
       "       [ 64. ,   6.1,   2.9,   4.7,   1.4],\n",
       "       [ 75. ,   6.4,   2.9,   4.3,   1.3],\n",
       "       [  2. ,   4.9,   3. ,   1.4,   0.2],\n",
       "       [ 62. ,   5.9,   3. ,   4.2,   1.5],\n",
       "       [ 43. ,   4.4,   3.2,   1.3,   0.2],\n",
       "       [ 42. ,   4.5,   2.3,   1.3,   0.3],\n",
       "       [  5. ,   5. ,   3.6,   1.4,   0.2],\n",
       "       [ 16. ,   5.7,   4.4,   1.5,   0.4],\n",
       "       [ 18. ,   5.1,   3.5,   1.4,   0.3],\n",
       "       [ 41. ,   5. ,   3.5,   1.3,   0.3],\n",
       "       [ 39. ,   4.4,   3. ,   1.3,   0.2],\n",
       "       [  6. ,   5.4,   3.9,   1.7,   0.4],\n",
       "       [ 92. ,   6.1,   3. ,   4.6,   1.4],\n",
       "       [ 60. ,   5.2,   2.7,   3.9,   1.4],\n",
       "       [  1. ,   5.1,   3.5,   1.4,   0.2],\n",
       "       [ 35. ,   4.9,   3.1,   1.5,   0.1],\n",
       "       [ 29. ,   5.2,   3.4,   1.4,   0.2],\n",
       "       [ 51. ,   7. ,   3.2,   4.7,   1.4],\n",
       "       [ 12. ,   4.8,   3.4,   1.6,   0.2],\n",
       "       [ 36. ,   5. ,   3.2,   1.2,   0.2],\n",
       "       [ 24. ,   5.1,   3.3,   1.7,   0.5],\n",
       "       [ 53. ,   6.9,   3.1,   4.9,   1.5],\n",
       "       [ 11. ,   5.4,   3.7,   1.5,   0.2],\n",
       "       [ 32. ,   5.4,   3.4,   1.5,   0.4],\n",
       "       [ 67. ,   5.6,   3. ,   4.5,   1.5],\n",
       "       [ 58. ,   4.9,   2.4,   3.3,   1. ],\n",
       "       [ 80. ,   5.7,   2.6,   3.5,   1. ],\n",
       "       [ 86. ,   6. ,   3.4,   4.5,   1.6],\n",
       "       [ 33. ,   5.2,   4.1,   1.5,   0.1],\n",
       "       [ 85. ,   5.4,   3. ,   4.5,   1.5],\n",
       "       [ 15. ,   5.8,   4. ,   1.2,   0.2],\n",
       "       [ 90. ,   5.5,   2.5,   4. ,   1.3],\n",
       "       [ 20. ,   5.1,   3.8,   1.5,   0.3],\n",
       "       [ 30. ,   4.7,   3.2,   1.6,   0.2],\n",
       "       [ 50. ,   5. ,   3.3,   1.4,   0.2],\n",
       "       [ 98. ,   6.2,   2.9,   4.3,   1.3],\n",
       "       [ 99. ,   5.1,   2.5,   3. ,   1.1],\n",
       "       [ 70. ,   5.6,   2.5,   3.9,   1.1],\n",
       "       [ 21. ,   5.4,   3.4,   1.7,   0.2],\n",
       "       [ 95. ,   5.6,   2.7,   4.2,   1.3],\n",
       "       [ 73. ,   6.3,   2.5,   4.9,   1.5],\n",
       "       [ 78. ,   6.7,   3. ,   5. ,   1.7],\n",
       "       [ 26. ,   5. ,   3. ,   1.6,   0.2],\n",
       "       [ 38. ,   4.9,   3.1,   1.5,   0.1],\n",
       "       [ 82. ,   5.5,   2.4,   3.7,   1. ],\n",
       "       [ 47. ,   5.1,   3.8,   1.6,   0.2],\n",
       "       [ 40. ,   5.1,   3.4,   1.5,   0.2],\n",
       "       [ 66. ,   6.7,   3.1,   4.4,   1.4],\n",
       "       [ 59. ,   6.6,   2.9,   4.6,   1.3],\n",
       "       [ 13. ,   4.8,   3. ,   1.4,   0.1],\n",
       "       [ 89. ,   5.6,   3. ,   4.1,   1.3],\n",
       "       [ 71. ,   5.9,   3.2,   4.8,   1.8],\n",
       "       [ 88. ,   6.3,   2.3,   4.4,   1.3],\n",
       "       [ 37. ,   5.5,   3.5,   1.3,   0.2],\n",
       "       [ 22. ,   5.1,   3.7,   1.5,   0.4],\n",
       "       [ 84. ,   6. ,   2.7,   5.1,   1.6],\n",
       "       [ 10. ,   4.9,   3.1,   1.5,   0.1],\n",
       "       [ 97. ,   5.7,   2.9,   4.2,   1.3],\n",
       "       [ 68. ,   5.8,   2.7,   4.1,   1. ],\n",
       "       [ 65. ,   5.6,   2.9,   3.6,   1.3],\n",
       "       [ 48. ,   4.6,   3.2,   1.4,   0.2],\n",
       "       [ 45. ,   5.1,   3.8,   1.9,   0.4]])"
      ]
     },
     "execution_count": 82,
     "metadata": {},
     "output_type": "execute_result"
    }
   ],
   "source": [
    "X_train"
   ]
  },
  {
   "cell_type": "markdown",
   "metadata": {},
   "source": [
    "## Feature Scaling"
   ]
  },
  {
   "cell_type": "code",
   "execution_count": 83,
   "metadata": {},
   "outputs": [],
   "source": [
    "from sklearn.preprocessing import MinMaxScaler\n",
    "ms = MinMaxScaler()\n",
    "X_train = ms.fit_transform(X_train)\n",
    "X_test = ms.fit_transform(X_test)\n"
   ]
  },
  {
   "cell_type": "code",
   "execution_count": 84,
   "metadata": {},
   "outputs": [
    {
     "data": {
      "text/plain": [
       "array([[0.48484848, 0.34615385, 0.70833333, 0.07692308, 0.05882353],\n",
       "       [0.06060606, 0.07692308, 0.58333333, 0.05128205, 0.11764706],\n",
       "       [1.        , 0.5       , 0.33333333, 0.74358974, 0.70588235],\n",
       "       [0.82828283, 0.53846154, 0.29166667, 0.69230769, 0.64705882],\n",
       "       [0.76767677, 0.92307692, 0.33333333, 0.92307692, 0.76470588],\n",
       "       [0.60606061, 0.23076923, 0.        , 0.58974359, 0.52941176],\n",
       "       [0.80808081, 0.42307692, 0.16666667, 0.66666667, 0.58823529],\n",
       "       [0.90909091, 0.42307692, 0.25      , 0.82051282, 0.64705882],\n",
       "       [0.68686869, 0.69230769, 0.08333333, 0.84615385, 0.82352941],\n",
       "       [0.51515152, 0.76923077, 0.5       , 0.84615385, 0.82352941],\n",
       "       [0.27272727, 0.30769231, 0.625     , 0.07692308, 0.05882353],\n",
       "       [0.18181818, 0.5       , 0.75      , 0.12820513, 0.11764706],\n",
       "       [0.56565657, 0.73076923, 0.54166667, 0.8974359 , 0.88235294],\n",
       "       [0.63636364, 0.65384615, 0.375     , 0.8974359 , 0.76470588],\n",
       "       [0.74747475, 0.76923077, 0.375     , 0.79487179, 0.70588235],\n",
       "       [0.01010101, 0.19230769, 0.41666667, 0.05128205, 0.05882353],\n",
       "       [0.61616162, 0.57692308, 0.41666667, 0.76923077, 0.82352941],\n",
       "       [0.42424242, 0.        , 0.5       , 0.02564103, 0.05882353],\n",
       "       [0.41414141, 0.03846154, 0.125     , 0.02564103, 0.11764706],\n",
       "       [0.04040404, 0.23076923, 0.66666667, 0.05128205, 0.05882353],\n",
       "       [0.15151515, 0.5       , 1.        , 0.07692308, 0.17647059],\n",
       "       [0.17171717, 0.26923077, 0.625     , 0.05128205, 0.11764706],\n",
       "       [0.4040404 , 0.23076923, 0.625     , 0.02564103, 0.11764706],\n",
       "       [0.38383838, 0.        , 0.41666667, 0.02564103, 0.05882353],\n",
       "       [0.05050505, 0.38461538, 0.79166667, 0.12820513, 0.17647059],\n",
       "       [0.91919192, 0.65384615, 0.41666667, 0.87179487, 0.76470588],\n",
       "       [0.5959596 , 0.30769231, 0.29166667, 0.69230769, 0.76470588],\n",
       "       [0.        , 0.26923077, 0.625     , 0.05128205, 0.05882353],\n",
       "       [0.34343434, 0.19230769, 0.45833333, 0.07692308, 0.        ],\n",
       "       [0.28282828, 0.30769231, 0.58333333, 0.05128205, 0.05882353],\n",
       "       [0.50505051, 1.        , 0.5       , 0.8974359 , 0.76470588],\n",
       "       [0.11111111, 0.15384615, 0.58333333, 0.1025641 , 0.05882353],\n",
       "       [0.35353535, 0.23076923, 0.5       , 0.        , 0.05882353],\n",
       "       [0.23232323, 0.26923077, 0.54166667, 0.12820513, 0.23529412],\n",
       "       [0.52525253, 0.96153846, 0.45833333, 0.94871795, 0.82352941],\n",
       "       [0.1010101 , 0.38461538, 0.70833333, 0.07692308, 0.05882353],\n",
       "       [0.31313131, 0.38461538, 0.58333333, 0.07692308, 0.17647059],\n",
       "       [0.66666667, 0.46153846, 0.41666667, 0.84615385, 0.82352941],\n",
       "       [0.57575758, 0.19230769, 0.16666667, 0.53846154, 0.52941176],\n",
       "       [0.7979798 , 0.5       , 0.25      , 0.58974359, 0.52941176],\n",
       "       [0.85858586, 0.61538462, 0.58333333, 0.84615385, 0.88235294],\n",
       "       [0.32323232, 0.30769231, 0.875     , 0.07692308, 0.        ],\n",
       "       [0.84848485, 0.38461538, 0.41666667, 0.84615385, 0.82352941],\n",
       "       [0.14141414, 0.53846154, 0.83333333, 0.        , 0.05882353],\n",
       "       [0.8989899 , 0.42307692, 0.20833333, 0.71794872, 0.70588235],\n",
       "       [0.19191919, 0.26923077, 0.75      , 0.07692308, 0.11764706],\n",
       "       [0.29292929, 0.11538462, 0.5       , 0.1025641 , 0.05882353],\n",
       "       [0.49494949, 0.23076923, 0.54166667, 0.05128205, 0.05882353],\n",
       "       [0.97979798, 0.69230769, 0.375     , 0.79487179, 0.70588235],\n",
       "       [0.98989899, 0.26923077, 0.20833333, 0.46153846, 0.58823529],\n",
       "       [0.6969697 , 0.46153846, 0.20833333, 0.69230769, 0.58823529],\n",
       "       [0.2020202 , 0.38461538, 0.58333333, 0.12820513, 0.05882353],\n",
       "       [0.94949495, 0.46153846, 0.29166667, 0.76923077, 0.70588235],\n",
       "       [0.72727273, 0.73076923, 0.20833333, 0.94871795, 0.82352941],\n",
       "       [0.77777778, 0.88461538, 0.41666667, 0.97435897, 0.94117647],\n",
       "       [0.25252525, 0.23076923, 0.41666667, 0.1025641 , 0.05882353],\n",
       "       [0.37373737, 0.19230769, 0.45833333, 0.07692308, 0.        ],\n",
       "       [0.81818182, 0.42307692, 0.16666667, 0.64102564, 0.52941176],\n",
       "       [0.46464646, 0.26923077, 0.75      , 0.1025641 , 0.05882353],\n",
       "       [0.39393939, 0.26923077, 0.58333333, 0.07692308, 0.05882353],\n",
       "       [0.65656566, 0.88461538, 0.45833333, 0.82051282, 0.76470588],\n",
       "       [0.58585859, 0.84615385, 0.375     , 0.87179487, 0.70588235],\n",
       "       [0.12121212, 0.15384615, 0.41666667, 0.05128205, 0.        ],\n",
       "       [0.88888889, 0.46153846, 0.41666667, 0.74358974, 0.70588235],\n",
       "       [0.70707071, 0.57692308, 0.5       , 0.92307692, 1.        ],\n",
       "       [0.87878788, 0.73076923, 0.125     , 0.82051282, 0.70588235],\n",
       "       [0.36363636, 0.42307692, 0.625     , 0.02564103, 0.05882353],\n",
       "       [0.21212121, 0.26923077, 0.70833333, 0.07692308, 0.17647059],\n",
       "       [0.83838384, 0.61538462, 0.29166667, 1.        , 0.88235294],\n",
       "       [0.09090909, 0.19230769, 0.45833333, 0.07692308, 0.        ],\n",
       "       [0.96969697, 0.5       , 0.375     , 0.76923077, 0.70588235],\n",
       "       [0.67676768, 0.53846154, 0.29166667, 0.74358974, 0.52941176],\n",
       "       [0.64646465, 0.46153846, 0.375     , 0.61538462, 0.70588235],\n",
       "       [0.47474747, 0.07692308, 0.5       , 0.05128205, 0.05882353],\n",
       "       [0.44444444, 0.26923077, 0.75      , 0.17948718, 0.17647059]])"
      ]
     },
     "execution_count": 84,
     "metadata": {},
     "output_type": "execute_result"
    }
   ],
   "source": [
    "X_train"
   ]
  },
  {
   "cell_type": "code",
   "execution_count": 85,
   "metadata": {},
   "outputs": [
    {
     "data": {
      "text/plain": [
       "array([[0.25806452, 0.29166667, 0.6       , 0.16216216, 0.21428571],\n",
       "       [0.90322581, 1.        , 0.45      , 1.        , 1.        ],\n",
       "       [0.        , 0.16666667, 0.5       , 0.08108108, 0.07142857],\n",
       "       [0.56989247, 0.58333333, 0.3       , 0.94594595, 0.85714286],\n",
       "       [0.78494624, 0.95833333, 0.4       , 0.91891892, 0.92857143],\n",
       "       [0.97849462, 0.29166667, 0.05      , 0.62162162, 0.64285714],\n",
       "       [0.15053763, 0.45833333, 0.85      , 0.08108108, 0.21428571],\n",
       "       [0.76344086, 0.75      , 0.3       , 1.        , 0.78571429],\n",
       "       [0.55913978, 0.91666667, 0.3       , 0.97297297, 1.        ],\n",
       "       [1.        , 0.58333333, 0.4       , 0.86486486, 0.78571429],\n",
       "       [0.5483871 , 0.5       , 0.05      , 0.81081081, 0.85714286],\n",
       "       [0.96774194, 0.625     , 0.2       , 0.81081081, 0.78571429],\n",
       "       [0.8172043 , 0.70833333, 0.35      , 0.94594595, 1.        ],\n",
       "       [0.11827957, 0.        , 0.4       , 0.02702703, 0.        ],\n",
       "       [0.05376344, 0.29166667, 0.6       , 0.13513514, 0.07142857],\n",
       "       [0.30107527, 0.20833333, 0.45      , 0.16216216, 0.07142857],\n",
       "       [0.21505376, 0.125     , 0.7       , 0.        , 0.07142857],\n",
       "       [0.23655914, 0.20833333, 0.6       , 0.24324324, 0.07142857],\n",
       "       [0.33333333, 0.5       , 1.        , 0.10810811, 0.07142857],\n",
       "       [0.06451613, 0.04166667, 0.35      , 0.10810811, 0.07142857],\n",
       "       [0.44086022, 0.29166667, 0.65      , 0.16216216, 0.35714286],\n",
       "       [0.64516129, 0.70833333, 0.        , 0.81081081, 0.64285714],\n",
       "       [0.01075269, 0.125     , 0.45      , 0.13513514, 0.07142857],\n",
       "       [0.74193548, 0.75      , 0.3       , 0.81081081, 0.85714286],\n",
       "       [0.46236559, 0.20833333, 0.4       , 0.10810811, 0.14285714]])"
      ]
     },
     "execution_count": 85,
     "metadata": {},
     "output_type": "execute_result"
    }
   ],
   "source": [
    "X_test"
   ]
  },
  {
   "cell_type": "code",
   "execution_count": 86,
   "metadata": {},
   "outputs": [
    {
     "data": {
      "text/plain": [
       "array([1, 1, 0, 0, 0, 0, 0, 0, 0, 0, 1, 1, 0, 0, 0, 1, 0, 1, 1, 1, 1, 1,\n",
       "       1, 1, 1, 0, 0, 1, 1, 1, 0, 1, 1, 1, 0, 1, 1, 0, 0, 0, 0, 1, 0, 1,\n",
       "       0, 1, 1, 1, 0, 0, 0, 1, 0, 0, 0, 1, 1, 0, 1, 1, 0, 0, 1, 0, 0, 0,\n",
       "       1, 1, 0, 1, 0, 0, 0, 1, 1])"
      ]
     },
     "execution_count": 86,
     "metadata": {},
     "output_type": "execute_result"
    }
   ],
   "source": [
    "Y_train"
   ]
  },
  {
   "cell_type": "code",
   "execution_count": 87,
   "metadata": {},
   "outputs": [
    {
     "data": {
      "text/plain": [
       "array([1, 0, 1, 0, 0, 0, 1, 0, 0, 0, 0, 0, 0, 1, 1, 1, 1, 1, 1, 1, 1, 0,\n",
       "       1, 0, 1])"
      ]
     },
     "execution_count": 87,
     "metadata": {},
     "output_type": "execute_result"
    }
   ],
   "source": [
    "Y_test"
   ]
  },
  {
   "cell_type": "code",
   "execution_count": 88,
   "metadata": {},
   "outputs": [
    {
     "name": "stdout",
     "output_type": "stream",
     "text": [
      "Value: 0, Count: 38\n",
      "Value: 1, Count: 37\n"
     ]
    }
   ],
   "source": [
    "unique_values, counts = np.unique(Y_train, return_counts=True)\n",
    "\n",
    "# Print the unique values and their corresponding counts\n",
    "for value, count in zip(unique_values, counts):\n",
    "    print(f\"Value: {value}, Count: {count}\")"
   ]
  },
  {
   "cell_type": "code",
   "execution_count": 89,
   "metadata": {},
   "outputs": [
    {
     "name": "stdout",
     "output_type": "stream",
     "text": [
      "Value: 0, Count: 12\n",
      "Value: 1, Count: 13\n"
     ]
    }
   ],
   "source": [
    "unique_values,counts = np.unique(Y_test,return_counts = True)\n",
    "for value, count in zip(unique_values, counts):\n",
    "    print(f\"Value: {value}, Count: {count}\")\n"
   ]
  },
  {
   "cell_type": "markdown",
   "metadata": {},
   "source": [
    "## Training the Logistic Regression model on the Training set"
   ]
  },
  {
   "cell_type": "code",
   "execution_count": 90,
   "metadata": {},
   "outputs": [],
   "source": [
    "class LogisticRegression:\n",
    "    def __init__(self,learning_rate = 0.01,num_iterations = 1000):\n",
    "        self.learning_rate = learning_rate\n",
    "        self.num_iterations = num_iterations\n",
    "    \n",
    "    def sigmoid(self,z):\n",
    "        return 1/(1+np.exp(-z))\n",
    "    \n",
    "    def fit(self,X,Y):\n",
    "        num_samples,num_features = X.shape\n",
    "        print(num_samples,num_features)\n",
    "        self.weights = np.zeros(num_features)\n",
    "        self.bias = 0\n",
    "\n",
    "        for i in range(self.num_iterations):\n",
    "            Y_pred = self.predicted(X)\n",
    "            dw = (1/num_samples)*np.dot(X.T,(Y_pred - Y))\n",
    "            db = (1/num_samples)*np.sum(Y_pred - Y)\n",
    "            \n",
    "            self.weights -= self.learning_rate * dw\n",
    "            self.bias -= self.learning_rate*db\n",
    "            \n",
    "    def predicted(self,X):\n",
    "        linear_model = np.dot(X,self.weights)+self.bias\n",
    "        pred = self.sigmoid(linear_model)\n",
    "        return pred\n",
    "    \n",
    "    def test(self,X,Y):\n",
    "        global Y_predtest\n",
    "        Y_predtest = self.predicted(X)\n",
    "        print(Y_predtest)\n",
    "        Y_values = Y_predtest\n",
    "        correct = 0\n",
    "        total = len(Y)\n",
    "        for i in range(len(Y_predtest)):\n",
    "            if Y_predtest[i]>0.5:\n",
    "                Y_predtest[i] =1\n",
    "            else:\n",
    "                Y_predtest[i]=0\n",
    "        for i in range(len(Y)):\n",
    "            if Y[i] == Y_predtest[i]:\n",
    "                correct+=1\n",
    "        print(\"Accuracy: \",correct/total) \n",
    "            \n",
    "                \n",
    "        \n",
    "                "
   ]
  },
  {
   "cell_type": "code",
   "execution_count": 91,
   "metadata": {},
   "outputs": [
    {
     "name": "stdout",
     "output_type": "stream",
     "text": [
      "75 5\n"
     ]
    }
   ],
   "source": [
    "lgreg = LogisticRegression()\n",
    "lgreg.fit(X_train,Y_train)\n"
   ]
  },
  {
   "cell_type": "code",
   "execution_count": 92,
   "metadata": {},
   "outputs": [
    {
     "name": "stdout",
     "output_type": "stream",
     "text": [
      "[-0.59421133 -0.34134347  0.77201815 -1.0442842  -0.93645331]\n",
      "0.593168363178588\n"
     ]
    }
   ],
   "source": [
    "print(lgreg.weights)\n",
    "print(lgreg.bias)"
   ]
  },
  {
   "cell_type": "code",
   "execution_count": 93,
   "metadata": {},
   "outputs": [
    {
     "name": "stdout",
     "output_type": "stream",
     "text": [
      "[0.60670052 0.12806114 0.68367784 0.18190551 0.15177517 0.21410155\n",
      " 0.67219802 0.15909891 0.14518389 0.17794948 0.18032436 0.16474853\n",
      " 0.14328225 0.69071597 0.67191627 0.61166778 0.71017543 0.62803481\n",
      " 0.69352673 0.65272314 0.55716557 0.18532151 0.66452169 0.179242\n",
      " 0.57674976]\n",
      "Accuracy:  1.0\n",
      "None\n"
     ]
    }
   ],
   "source": [
    "print(lgreg.test(X_test, Y_test))\n"
   ]
  },
  {
   "cell_type": "code",
   "execution_count": 94,
   "metadata": {},
   "outputs": [
    {
     "name": "stdout",
     "output_type": "stream",
     "text": [
      "[[12  0]\n",
      " [ 0 13]]\n",
      "1.0\n",
      "1.0\n",
      "1.0\n"
     ]
    }
   ],
   "source": [
    "from sklearn.metrics import confusion_matrix,accuracy_score,precision_score,recall_score\n",
    "cm = confusion_matrix(Y_test,Y_predtest)\n",
    "print(cm)\n",
    "print(precision_score(Y_test,Y_predtest))\n",
    "print(accuracy_score(Y_test,Y_predtest))\n",
    "print(recall_score(Y_test,Y_predtest))"
   ]
  },
  {
   "cell_type": "code",
   "execution_count": null,
   "metadata": {},
   "outputs": [],
   "source": []
  }
 ],
 "metadata": {
  "kernelspec": {
   "display_name": "tf",
   "language": "python",
   "name": "python3"
  },
  "language_info": {
   "codemirror_mode": {
    "name": "ipython",
    "version": 3
   },
   "file_extension": ".py",
   "mimetype": "text/x-python",
   "name": "python",
   "nbconvert_exporter": "python",
   "pygments_lexer": "ipython3",
   "version": "3.11.4"
  },
  "orig_nbformat": 4
 },
 "nbformat": 4,
 "nbformat_minor": 2
}
