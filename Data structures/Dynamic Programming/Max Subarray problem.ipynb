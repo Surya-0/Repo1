{
 "cells": [
  {
   "cell_type": "code",
   "execution_count": null,
   "id": "initial_id",
   "metadata": {
    "collapsed": true
   },
   "outputs": [],
   "source": [
    "import random\n",
    "import matplotlib.pyplot as plt\n",
    "import time\n"
   ]
  },
  {
   "cell_type": "markdown",
   "source": [
    "## Brute force"
   ],
   "metadata": {
    "collapsed": false
   },
   "id": "432536a30b05ca58"
  },
  {
   "cell_type": "code",
   "execution_count": null,
   "outputs": [],
   "source": [
    "def max_sum(arr):\n",
    "    count=[]\n",
    "    \n",
    "    global_max = -float('inf')\n",
    "    for i in range(len(arr)):\n",
    "        local_max = 0\n",
    "        for j in range(i,len(arr)):\n",
    "            local_max += arr[j]\n",
    "            if local_max > global_max:\n",
    "                global_max = local_max\n",
    "    return global_max"
   ],
   "metadata": {
    "collapsed": false
   },
   "id": "7d1d8e94db52ad16"
  },
  {
   "cell_type": "markdown",
   "source": [
    "## Dynamic Programming"
   ],
   "metadata": {
    "collapsed": false
   },
   "id": "ae66c75052841c59"
  },
  {
   "cell_type": "code",
   "execution_count": null,
   "outputs": [],
   "source": [
    "\n",
    "def kadane(arr):\n",
    "    m = len(arr)\n",
    "    local_max = 0\n",
    "    global_max = -float('inf')\n",
    "    for i in range(0, m):\n",
    "        local_max = max(arr[i], arr[i] + local_max)\n",
    "        if local_max > global_max:\n",
    "            global_max = local_max\n",
    "    return global_max\n",
    "\n",
    "# %%\n"
   ],
   "metadata": {
    "collapsed": false
   },
   "id": "8594708bee023dfc"
  },
  {
   "cell_type": "markdown",
   "source": [
    "## Divide and Conquer"
   ],
   "metadata": {
    "collapsed": false
   },
   "id": "673cb2ab3d2b5144"
  },
  {
   "cell_type": "code",
   "execution_count": null,
   "outputs": [],
   "source": [
    "def maxCrossingSum(arr, low, mid, high):\n",
    "    sum = 0\n",
    "    left_sum = float(\"-inf\")\n",
    "    for i in range(mid, low-1, -1):\n",
    "        sum += arr[i]\n",
    "\n",
    "        if sum > left_sum:\n",
    "            left_sum = sum\n",
    "\n",
    "    sum = 0\n",
    "    right_sum = float(\"-inf\")\n",
    "    for i in range(mid, high+1, 1):\n",
    "        sum += arr[i]\n",
    "\n",
    "        if sum > right_sum:\n",
    "            right_sum = sum\n",
    "\n",
    "    return max(\n",
    "        left_sum,\n",
    "        right_sum,\n",
    "        left_sum + right_sum - arr[mid]\n",
    "    )\n",
    "\n",
    "def maxSubarraySum(arr, low, high):\n",
    "    max_val = float(\"-inf\")\n",
    "    if low > high:\n",
    "        return max_val\n",
    "    if low == high:\n",
    "        return arr[low]\n",
    "    mid = (low + high) // 2\n",
    "\n",
    "    return max(\n",
    "        maxSubarraySum(arr, low, mid-1),\n",
    "        maxSubarraySum(arr, mid+1, high),\n",
    "        maxCrossingSum(arr, low, mid, high)\n",
    "    )\n",
    "\n",
    "\n"
   ],
   "metadata": {
    "collapsed": false
   },
   "id": "4282d7ce3b000092"
  },
  {
   "cell_type": "markdown",
   "source": [
    "## Main"
   ],
   "metadata": {
    "collapsed": false
   },
   "id": "f4fa05876878604a"
  },
  {
   "cell_type": "code",
   "execution_count": null,
   "outputs": [],
   "source": [
    "if __name__ == '__main__':\n",
    "    time_arr_dp = []\n",
    "    time_arr_dc = []\n",
    "    time_arr_bf = []\n",
    "    for j in range(10):\n",
    "        M = [random.randint(-6000, 6000) for i in range(10000)]\n",
    "        # Dynamic Programming\n",
    "        start_time_dp = time.time()\n",
    "        max_subarray_large = kadane(M)\n",
    "        end_time_dp = time.time()\n",
    "        time_arr_dp.append(end_time_dp - start_time_dp)\n",
    "        # Divide and Conquer\n",
    "        start_time_dc = time.time()\n",
    "        dc_max = maxSubarraySum(M,0,len(M)-1)\n",
    "        end_time_dc = time.time()\n",
    "        time_arr_dc.append(end_time_dc - start_time_dc)\n",
    "        start_time = time.time()\n",
    "        bf_max = max_sum(M)\n",
    "        end_time = time.time()\n",
    "        time_arr_bf.append(end_time - start_time)\n",
    "        \n",
    "    plt.plot(time_arr_dp,color = \"red\",linestyle = \"-\",marker = \"o\",label = \"Dynamic Programming\")\n",
    "    plt.plot(time_arr_dc,color=\"blue\",linestyle = \"--\",marker=\"s\",label = \"Divide and Conquer\")\n",
    "    plt.plot(time_arr_bf,color=\"green\",linestyle = \"-.\",marker=\"d\",label=\"Brute force\")\n",
    "    plt.xlabel(\"iterations\")\n",
    "    plt.ylabel(\"time taken\")\n",
    "    plt.legend()\n",
    "    plt.show()\n"
   ],
   "metadata": {
    "collapsed": false
   },
   "id": "427403e4705ebe5e"
  },
  {
   "cell_type": "code",
   "execution_count": null,
   "outputs": [],
   "source": [
    "n = int(input())\n",
    "ht = []\n",
    "c = 0\n",
    "for i in range(n):\n",
    "    ht.append(int(input()))\n",
    "\n",
    "for i in range(n-1):\n",
    "    for j in range(i+1,n):\n",
    "        if ht[i]>ht[j]:\n",
    "            c+=1\n",
    "print(c)\n",
    "        "
   ],
   "metadata": {
    "collapsed": false
   },
   "id": "188310c5f6140754"
  },
  {
   "cell_type": "code",
   "execution_count": null,
   "outputs": [],
   "source": [
    "def merge_sort(arr,sc,count):\n",
    "    sc+=1\n",
    "    if len(arr)>1:\n",
    "        mid = len(arr)//2\n",
    "        \n",
    "        # print(mid)\n",
    "        L = arr[:mid]\n",
    "        # print(L)\n",
    "        R = arr[mid:]\n",
    "        # print(R)\n",
    "\n",
    "        count,sc = merge_sort(L,sc,count)\n",
    "        count,sc = merge_sort(R,sc,count)\n",
    "\n",
    "        i=j=k=0\n",
    "\n",
    "\n",
    "        while i<len(L) and j<len(R):\n",
    "            if L[i]<=R[j]:\n",
    "                arr[k] = L[i]\n",
    "                i+=1\n",
    "\n",
    "            else:\n",
    "                count+= len(L)-i\n",
    "                arr[k] = R[j]\n",
    "                j+=1\n",
    "            k+=1\n",
    "\n",
    "        while i<len(L):\n",
    "            arr[k] = L[i]\n",
    "            i+=1\n",
    "            k+=1\n",
    "\n",
    "        while j<len(R):\n",
    "            arr[k] = R[j]\n",
    "            j+=1\n",
    "            k+=1\n",
    "    return count,sc\n",
    "    \n",
    "if __name__ == \"__main__\":\n",
    "    count = 0\n",
    "    subproblem_count = 0\n",
    "    arr = [3,2,1]\n",
    "    c,s_c = merge_sort(arr,subproblem_count,count)\n",
    "    print(c)\n",
    "    print(s_c)"
   ],
   "metadata": {
    "collapsed": false
   },
   "id": "87dad3225e065b69"
  },
  {
   "cell_type": "code",
   "execution_count": null,
   "outputs": [],
   "source": [
    "def merge_sort(arr, start, end, count):\n",
    "    if start < end:\n",
    "        mid = (start + end) // 2\n",
    "        count = merge_sort(arr, start, mid, count)\n",
    "        count = merge_sort(arr, mid + 1, end, count)\n",
    "        count = merge(arr, start, mid, end, count)\n",
    "    return count\n",
    "\n",
    "def merge(arr, start, mid, end, count):\n",
    "    left = arr[start:mid + 1]\n",
    "    right = arr[mid + 1:end + 1]\n",
    "    i = j = 0\n",
    "    k = start\n",
    "\n",
    "    while i < len(left) and j < len(right):\n",
    "        if left[i] > right[j]:\n",
    "            count += len(left) - i\n",
    "            arr[k] = right[j]\n",
    "            j += 1\n",
    "        else:\n",
    "            arr[k] = left[i]\n",
    "            i += 1\n",
    "        k += 1\n",
    "\n",
    "    while i < len(left):\n",
    "        arr[k] = left[i]\n",
    "        i += 1\n",
    "        k += 1\n",
    "\n",
    "    while j < len(right):\n",
    "        arr[k] = right[j]\n",
    "        j += 1\n",
    "        k += 1\n",
    "\n",
    "    return count\n",
    "\n",
    "def count_students_not_in_order(arr):\n",
    "    n = len(arr)\n",
    "    count = 0\n",
    "    count = merge_sort(arr, 0, n - 1, count)\n",
    "    return count\n",
    "\n",
    "# Input\n",
    "n = int(input())\n",
    "heights = [int(input()) for _ in range(n)]\n",
    "\n",
    "# Calculate and print the result\n",
    "result = count_students_not_in_order(heights)\n",
    "print(result)\n"
   ],
   "metadata": {
    "collapsed": false
   },
   "id": "bc56207d9b1a1a62"
  },
  {
   "cell_type": "code",
   "execution_count": null,
   "outputs": [],
   "source": [
    "def merge_sort(arr, start, end, count, subproblem_count):\n",
    "    if start < end:\n",
    "        mid = (start + end) // 2\n",
    "        subproblem_count += 1  # Increment subproblem count for this split\n",
    "        count, subproblem_count = merge_sort(arr, start, mid, count, subproblem_count)\n",
    "        count, subproblem_count = merge_sort(arr, mid + 1, end, count, subproblem_count)\n",
    "        count = merge(arr, start, mid, end, count)\n",
    "    return count, subproblem_count\n",
    "\n",
    "def merge(arr, start, mid, end, count):\n",
    "    left = arr[start:mid + 1]\n",
    "    right = arr[mid + 1:end + 1]\n",
    "    i = j = 0\n",
    "    k = start\n",
    "    \n",
    "    while i < len(left) and j < len(right):\n",
    "        if left[i] > right[j]:\n",
    "            count += len(left) - i\n",
    "            arr[k] = right[j]\n",
    "            j += 1\n",
    "        else:\n",
    "            arr[k] = left[i]\n",
    "            i += 1\n",
    "        k += 1\n",
    "    \n",
    "    while i < len(left):\n",
    "        arr[k] = left[i]\n",
    "        i += 1\n",
    "        k += 1\n",
    "    \n",
    "    while j < len(right):\n",
    "        arr[k] = right[j]\n",
    "        j += 1\n",
    "        k += 1\n",
    "    \n",
    "    return count\n",
    "\n",
    "def count_students_not_in_order(arr):\n",
    "    n = len(arr)\n",
    "    count = 0\n",
    "    subproblem_count = 0\n",
    "    count, subproblem_count = merge_sort(arr, 0, n - 1, count, subproblem_count)\n",
    "    return count, subproblem_count\n",
    "\n",
    "# Input\n",
    "n = int(input())\n",
    "heights = [int(input()) for _ in range(n)]\n",
    "\n",
    "# Calculate and print the result\n",
    "result, subproblems = count_students_not_in_order(heights)\n",
    "print(\"Number of students not in order:\", result)\n",
    "print(\"Total number of subproblems solved:\", subproblems)\n"
   ],
   "metadata": {
    "collapsed": false
   },
   "id": "702f20365fb47dd2"
  },
  {
   "cell_type": "code",
   "execution_count": 26,
   "outputs": [
    {
     "name": "stdout",
     "output_type": "stream",
     "text": [
      "3\n",
      "5\n"
     ]
    }
   ],
   "source": [
    "def merge_sort(arr,sc,count):\n",
    "    sc+=1\n",
    "    if len(arr)>1:\n",
    "        mid = len(arr)//2\n",
    "        L = arr[:mid]\n",
    "        R = arr[mid:]\n",
    "\n",
    "        count,sc = merge_sort(L,sc,count)\n",
    "        count,sc = merge_sort(R,sc,count)\n",
    "\n",
    "        i=j=k=0\n",
    "\n",
    "\n",
    "        while i<len(L) and j<len(R):\n",
    "            if L[i]<=R[j]:\n",
    "                arr[k] = L[i]\n",
    "                i+=1\n",
    "\n",
    "            else:\n",
    "                count+= len(L)-i\n",
    "                arr[k] = R[j]\n",
    "                j+=1\n",
    "            k+=1\n",
    "\n",
    "        while i<len(L):\n",
    "            arr[k] = L[i]\n",
    "            i+=1\n",
    "            k+=1\n",
    "\n",
    "        while j<len(R):\n",
    "            arr[k] = R[j]\n",
    "            j+=1\n",
    "            k+=1\n",
    "    return count,sc\n",
    "\n",
    "arr = []\n",
    "count = 0\n",
    "subproblem_count = 0\n",
    "n = int(input())\n",
    "for i in range(n):\n",
    "    arr.append(int(input()))\n",
    "# print(count)\n",
    "# print(subproblem_count)\n",
    "# print(arr)\n",
    "count,subproblem_count = merge_sort(arr,subproblem_count,count)\n",
    "print(count)\n",
    "print(subproblem_count)"
   ],
   "metadata": {
    "collapsed": false,
    "ExecuteTime": {
     "end_time": "2023-10-19T09:18:57.200929Z",
     "start_time": "2023-10-19T09:18:54.685109Z"
    }
   },
   "id": "d1bf15a79de92004"
  },
  {
   "cell_type": "code",
   "execution_count": null,
   "outputs": [],
   "source": [],
   "metadata": {
    "collapsed": false
   },
   "id": "f3dd31420c01967c"
  }
 ],
 "metadata": {
  "kernelspec": {
   "display_name": "Python 3",
   "language": "python",
   "name": "python3"
  },
  "language_info": {
   "codemirror_mode": {
    "name": "ipython",
    "version": 2
   },
   "file_extension": ".py",
   "mimetype": "text/x-python",
   "name": "python",
   "nbconvert_exporter": "python",
   "pygments_lexer": "ipython2",
   "version": "2.7.6"
  }
 },
 "nbformat": 4,
 "nbformat_minor": 5
}
