{
 "cells": [
  {
   "cell_type": "code",
   "execution_count": 1,
   "outputs": [
    {
     "data": {
      "text/plain": "'1.7.0'"
     },
     "execution_count": 1,
     "metadata": {},
     "output_type": "execute_result"
    }
   ],
   "source": [
    "import sdv\n",
    "sdv.__version__"
   ],
   "metadata": {
    "collapsed": false,
    "ExecuteTime": {
     "end_time": "2023-11-30T09:10:21.339689Z",
     "start_time": "2023-11-30T09:10:19.245585Z"
    }
   },
   "id": "53fff2380021e657"
  },
  {
   "cell_type": "code",
   "execution_count": 2,
   "id": "initial_id",
   "metadata": {
    "collapsed": true,
    "ExecuteTime": {
     "end_time": "2023-11-30T09:10:22.238872Z",
     "start_time": "2023-11-30T09:10:22.207908Z"
    }
   },
   "outputs": [],
   "source": [
    "import numpy as np\n",
    "import pandas as pd"
   ]
  },
  {
   "cell_type": "code",
   "execution_count": 4,
   "outputs": [
    {
     "data": {
      "text/plain": "    Unnamed: 0            Timestamp Component_Name  Part_Number  \\\n0            0  2023-01-01 08:00:00        CHM-001        12345   \n1            1  2023-02-01 08:00:00        LID-001        54321   \n2            2  2023-03-01 08:00:00        GDS-001        67890   \n3            3  2023-04-01 08:00:00        PSA-001        11223   \n4            4  2023-05-01 08:00:00        WHS-001        33445   \n5            5  2023-06-01 08:00:00        ISA-002        55667   \n6            6  2023-07-01 08:00:00         CS-002        77889   \n7            7  2023-08-01 08:00:00        PSU-002        99001   \n8            8  2023-09-01 08:00:00        GPS-002        11223   \n9            9  2023-10-01 08:00:00        TCU-002        33445   \n10          10  2023-11-01 08:00:00         EC-002        55667   \n11          11  2023-12-01 08:00:00         VS-002        77889   \n12          12  2024-01-01 08:00:00        PCU-002        99001   \n13          13  2024-02-01 08:00:00       GFMS-002        11223   \n14          14  2024-03-01 08:00:00        WLS-002        33445   \n15          15  2024-04-01 08:00:00        PDM-002        55667   \n16          16  2024-05-01 08:00:00        NEW-001        78901   \n17          17  2024-06-01 08:00:00       MEMS-002        12345   \n18          18  2024-07-01 08:00:00        AFM-001        56789   \n19          19  2024-08-01 08:00:00        RFI-002        11223   \n20          20  2024-09-01 08:00:00        EUV-001        33445   \n21          21  2024-10-01 08:00:00       NANO-002        55667   \n22          22  2024-11-01 08:00:00        PCB-002        77889   \n23          23  2024-12-01 08:00:00        MIR-001        99001   \n24          24  2025-01-01 08:00:00        PLC-002        11223   \n25          25  2025-02-01 08:00:00      PHOTO-002        33445   \n26          26  2025-03-01 08:00:00       FTIR-001        55667   \n27          27  2025-04-01 08:00:00        CMP-002        77889   \n28          28  2025-05-01 08:00:00        HGA-001        99001   \n29          29  2025-06-01 08:00:00        MAS-002        11223   \n30          30  2025-07-01 08:00:00        THZ-001        33445   \n31          31  2025-08-01 08:00:00        RFQ-002        55667   \n32          32  2025-09-01 08:00:00        TOF-001        77889   \n33          33  2025-10-01 08:00:00        DAC-002        99001   \n34          34  2025-11-01 08:00:00         LC-002        11223   \n35          35  2025-12-01 08:00:00        EDA-001        33445   \n36          36  2026-01-01 08:00:00        AFR-002        55667   \n37          37  2026-02-01 08:00:00        PMS-001        77889   \n38          38  2026-03-01 08:00:00        HEA-002        99001   \n39          39  2026-04-01 08:00:00        MFM-002        11223   \n40          40  2026-05-01 08:00:00        DIE-001        33445   \n41          41  2026-06-01 08:00:00        LPC-002        55667   \n42          42  2026-07-01 08:00:00        PRA-001        77889   \n43          43  2026-08-01 08:00:00        RMS-002        99001   \n44          44  2026-09-01 08:00:00        ACU-002        11223   \n45          45  2026-10-01 08:00:00        SPA-001        33445   \n46          46  2026-11-01 08:00:00        CVL-002        55667   \n47          47  2026-12-01 08:00:00        PCS-002        77889   \n48          48  2027-01-01 08:00:00        RFS-002        99001   \n49          49  2027-02-01 08:00:00        DTP-001        11223   \n50          50  2027-03-01 08:00:00        LBC-002        33445   \n51          51  2027-04-01 08:00:00        DAS-002        55667   \n52          52  2027-05-01 08:00:00        SPS-001        77889   \n53          53  2027-06-01 08:00:00         GC-002        99001   \n54          54  2027-07-01 08:00:00        HVM-002        11223   \n55          55  2027-08-01 08:00:00        FTS-001        33445   \n56          56  2027-09-01 08:00:00        ION-002        55667   \n57          57  2027-10-01 08:00:00        EMF-002        77889   \n58          58  2027-11-01 08:00:00        UTS-002        99001   \n\n                                       Description  Quantity  \\\n0                                Main chamber body         1   \n1                                  Lid for chamber         1   \n2                        Gas distribution manifold         1   \n3    RF Generator and Electrostatic Chuck Assembly         1   \n4                        Robot arm and wafer chuck         1   \n5                    Ion source for plasma etching         1   \n6                       Closed-loop coolant system         1   \n7                        High-voltage power supply         1   \n8                  Gas purification and filtration         1   \n9                    Precision temperature control         1   \n10         Specialized chamber for etching process         1   \n11                  High-performance vacuum system         1   \n12            Control system for plasma parameters         1   \n13           System for controlling gas flow rates         1   \n14          System for loading wafers into chamber         1   \n15          Diagnostic tools for monitoring plasma         1   \n16                          Advanced Plasma Source         1   \n17                            Micro-Etching Module         1   \n18              Atomic Force Microscope Attachment         1   \n19                   Remote Plasma Inspection Unit         1   \n20                Extreme Ultraviolet Light Source         1   \n21                  Nanoparticle Deposition Module         1   \n22                      Plasma Cleaning Brush Unit         1   \n23                Mid-Infrared Spectroscopy Module         1   \n24                           Plasma Control System         1   \n25               Photolithography Enhancement Unit         1   \n26  Fourier Transform Infrared Spectroscopy Module         1   \n27              Chemical Mechanical Polishing Unit         1   \n28                    Hydrogen Gas Activation Unit         1   \n29                      Mass Spectrometry Analyzer         1   \n30                   Terahertz Spectroscopy Module         1   \n31                 Radio Frequency Quadrupole Unit         1   \n32         Time-of-Flight Mass Spectrometry Module         1   \n33                     Digital-to-Analog Converter         1   \n34                      Liquid Chromatography Unit         1   \n35            Electrochemical Deposition Apparatus         1   \n36                   Atomic Force Resonance Module         1   \n37                        Plasma Monitoring System         1   \n38                         High-Energy Accelerator         1   \n39                Magnetic Field Manipulation Unit         1   \n40               Dielectric Barrier Discharge Unit         1   \n41                     Low-Pressure Chamber Module         1   \n42                       Plasma Resonance Analyzer         1   \n43               Reactive Mass Spectrometry Module         1   \n44                           Acoustic Control Unit         1   \n45               Spectroscopic Ellipsometry Module         1   \n46                         Cathode Voltage Limiter         1   \n47                  Plasma Control Software System         1   \n48                           Residual Gas Analyzer         1   \n49                    Dynamic Temperature Profiler         1   \n50                     Laser Beam Collimation Unit         1   \n51                         Data Acquisition System         1   \n52                Scanning Probe Microscopy System         1   \n53                       Gas Chromatography Module         1   \n54                          High-Voltage Modulator         1   \n55           Fourier Transform Spectrometer Module         1   \n56                         Ion Implantation Module         1   \n57             Electrostatic Magnetic Field Module         1   \n58                       Ultrasonic Testing System         1   \n\n                          Material    Supplier  Unit_Cost Lead_Time  ...  \\\n0                  Stainless Steel    Vendor A      10000  12 weeks  ...   \n1                   Aluminum Alloy    Vendor B       5000   8 weeks  ...   \n2                  Stainless Steel    Vendor C       8000  10 weeks  ...   \n3                          Various    Vendor D      20000  14 weeks  ...   \n4          Aluminum Alloy, Ceramic    Vendor E      15000  16 weeks  ...   \n5                         Titanium    Vendor F      18000  15 weeks  ...   \n6                  Stainless Steel    Vendor G      12000  10 weeks  ...   \n7                  Copper, Silicon    Vendor H      25000  18 weeks  ...   \n8                    Polypropylene    Vendor I      15000  12 weeks  ...   \n9                          Inconel    Vendor J      20000  14 weeks  ...   \n10                          Quartz    Vendor K      22000  16 weeks  ...   \n11                 Stainless Steel    Vendor L      30000  20 weeks  ...   \n12           Electronic Components    Vendor M      15000  12 weeks  ...   \n13                 Stainless Steel    Vendor N      16000  14 weeks  ...   \n14                  Aluminum Alloy    Vendor O      10000   8 weeks  ...   \n15                         Various    Vendor P      28000  22 weeks  ...   \n16                         Ceramic    Vendor Q      22000  15 weeks  ...   \n17                         Silicon    Vendor R      18000  12 weeks  ...   \n18                 Titanium, Glass    Vendor S      25000  18 weeks  ...   \n19                 Stainless Steel    Vendor T      16000  14 weeks  ...   \n20                Optical Elements    Vendor U      30000  20 weeks  ...   \n21                   Gold, Polymer    Vendor V      20000  16 weeks  ...   \n22                Carbon Composite    Vendor W      12000  10 weeks  ...   \n23                   Zinc Selenide    Vendor X      28000  22 weeks  ...   \n24           Electronic Components    Vendor Y      15000  12 weeks  ...   \n25                   Glass, Quartz    Vendor Z      10000   8 weeks  ...   \n26                    Zinc Sulfide   Vendor AA      22000  15 weeks  ...   \n27           Ceramic, Polyurethane   Vendor BB      16000  14 weeks  ...   \n28                 Stainless Steel   Vendor CC      18000  12 weeks  ...   \n29           Aluminum Alloy, Glass   Vendor DD      25000  18 weeks  ...   \n30           Polyethylene, Silicon   Vendor EE      20000  16 weeks  ...   \n31                  Copper, Teflon   Vendor FF      12000  10 weeks  ...   \n32                    Gold, Quartz   Vendor GG      30000  20 weeks  ...   \n33           Electronic Components   Vendor HH      15000  12 weeks  ...   \n34          Stainless Steel, Glass   Vendor II      10000   8 weeks  ...   \n35         Titanium, Polypropylene   Vendor JJ      28000  22 weeks  ...   \n36               Silicon, Aluminum   Vendor KK      22000  15 weeks  ...   \n37  Electronic Components, Ceramic   Vendor LL      16000  14 weeks  ...   \n38          Copper, Magnetic Alloy   Vendor MM      18000  12 weeks  ...   \n39                 Ferrite, Copper   Vendor NN      25000  18 weeks  ...   \n40    Quartz, Dielectric Materials   Vendor OO      20000  16 weeks  ...   \n41   Stainless Steel, Polyethylene   Vendor PP      12000  10 weeks  ...   \n42                 Aluminum, Glass   Vendor QQ      30000  20 weeks  ...   \n43                Titanium, Quartz   Vendor RR      15000  12 weeks  ...   \n44               Plastic, Aluminum   Vendor SS      10000   8 weeks  ...   \n45                  Silicon, Glass   Vendor TT      28000  22 weeks  ...   \n46                 Copper, Ceramic   Vendor UU      22000  15 weeks  ...   \n47                        Software   Vendor VV      16000  14 weeks  ...   \n48          Stainless Steel, Glass   Vendor WW      18000  12 weeks  ...   \n49           Inconel, Polyurethane   Vendor XX      25000  18 weeks  ...   \n50         Aluminum, Optical Glass   Vendor YY      20000  16 weeks  ...   \n51           Electronic Components   Vendor ZZ      12000  10 weeks  ...   \n52                Ceramic, Silicon  Vendor AAA      30000  20 weeks  ...   \n53          Stainless Steel, Glass  Vendor BBB      15000  12 weeks  ...   \n54                 Copper, Ceramic  Vendor CCC      10000   8 weeks  ...   \n55          Zinc Sulfide, Aluminum  Vendor DDD      28000  22 weeks  ...   \n56               Titanium, Silicon  Vendor EEE      22000  15 weeks  ...   \n57                 Ferrite, Copper  Vendor FFF      16000  14 weeks  ...   \n58          Polyethylene, Aluminum  Vendor XYZ      15000  12 weeks  ...   \n\n             Manufacturing_Process Quality_Standards  \\\n0           CNC Machining, Welding         SEMI S123   \n1                    CNC Machining         SEMI S456   \n2              Precision Machining         SEMI S789   \n3        Integration of Components         SEMI S234   \n4                 Robotic Assembly         SEMI S567   \n5          Laser Cutting, Assembly         SEMI S890   \n6                    CNC Machining         SEMI S678   \n7              Electronic Assembly         SEMI S345   \n8      Filtration and Purification         SEMI S456   \n9           Thermoelectric Cooling         SEMI S789   \n10              Quartz Fabrication         SEMI S234   \n11               Vacuum Technology         SEMI S567   \n12             Electronic Assembly         SEMI S345   \n13           Flow Rate Calibration         SEMI S678   \n14               Automated Loading         SEMI S567   \n15      Integration of Diagnostics         SEMI S234   \n16      Advanced Plasma Generation         SEMI S890   \n17                MEMS Fabrication         SEMI S456   \n18                 AFM Integration         SEMI S567   \n19        Remote Plasma Technology         SEMI S678   \n20                  EUV Technology         SEMI S234   \n21         Nanoparticle Deposition         SEMI S345   \n22         Plasma Brush Technology         SEMI S567   \n23    MIR Spectroscopy Integration         SEMI S789   \n24             Electronic Assembly         SEMI S456   \n25    Photolithography Integration         SEMI S678   \n26   FTIR Spectroscopy Integration         SEMI S234   \n27                  CMP Technology         SEMI S567   \n28     Hydrogen Activation Process         SEMI S789   \n29                 MAS Integration         SEMI S456   \n30    THZ Spectroscopy Integration         SEMI S678   \n31                 RFQ Integration         SEMI S234   \n32              TOF-MS Integration         SEMI S567   \n33         Electronics Integration         SEMI S345   \n34                  LC Integration         SEMI S456   \n35                 EDA Integration         SEMI S789   \n36                 AFR Integration         SEMI S234   \n37                 PMS Integration         SEMI S567   \n38                 HEA Integration         SEMI S678   \n39                 MFM Integration         SEMI S456   \n40                 DBD Integration         SEMI S567   \n41                 LPC Integration         SEMI S234   \n42                 PRA Integration         SEMI S678   \n43                 RMS Integration         SEMI S345   \n44                 ACU Integration         SEMI S456   \n45                 SPA Integration         SEMI S789   \n46                 CVL Integration         SEMI S234   \n47            Software Development          ISO 9001   \n48                 RFS Integration         SEMI S567   \n49                 DTP Integration         SEMI S345   \n50                 LBC Integration         SEMI S456   \n51                 DAS Integration         SEMI S678   \n52                 SPS Integration         SEMI S234   \n53                  GC Integration         SEMI S567   \n54                 HVM Integration         SEMI S789   \n55                 FTS Integration         SEMI S456   \n56        Ion Implantation Process         SEMI S678   \n57                 EMF Integration         SEMI S234   \n58  Ultrasonic Testing Integration         SEMI S345   \n\n                 Testing_Requirements Assembly_Instructions Subassembly_Level  \\\n0                    Helium Leak Test    Provided by vendor           Level 1   \n1                   Visual Inspection    Provided by vendor           Level 1   \n2                           Leak Test    Provided by vendor           Level 2   \n3                    Electrical Tests    Provided by vendor           Level 2   \n4                    Functional Tests    Provided by vendor           Level 2   \n5              Mass Spectrometry Test    Provided by vendor           Level 2   \n6                       Pressure Test    Provided by vendor           Level 1   \n7             Electrical Safety Tests    Provided by vendor           Level 2   \n8                 Gas Purity Analysis    Provided by vendor           Level 1   \n9          Temperature Stability Test    Provided by vendor           Level 2   \n10                  Visual Inspection    Provided by vendor           Level 2   \n11              Vacuum Integrity Test    Provided by vendor           Level 2   \n12                   Electrical Tests    Provided by vendor           Level 1   \n13            Gas Flow Stability Test    Provided by vendor           Level 1   \n14                      Robotic Tests    Provided by vendor           Level 1   \n15       Diagnostics Performance Test    Provided by vendor           level 1   \n16            Ion Energy Distribution    Provided by vendor           Level 2   \n17           Microstructural Analysis    Provided by vendor           Level 1   \n18                AFM Resolution Test    Provided by vendor           Level 2   \n19             Plasma Uniformity Test    Provided by vendor           Level 1   \n20           Wavelength Accuracy Test    Provided by vendor           Level 2   \n21         Nanoparticle Size Analysis    Provided by vendor           Level 2   \n22           Cleaning Efficiency Test    Provided by vendor           Level 1   \n23           Spectral Resolution Test    Provided by vendor           Level 2   \n24               Control System Tests    Provided by vendor           Level 1   \n25        Resolution Enhancement Test    Provided by vendor           Level 1   \n26             Spectral Analysis Test    Provided by vendor           Level 2   \n27          Polishing Uniformity Test    Provided by vendor           Level 1   \n28         Activation Efficiency Test    Provided by vendor           Level 1   \n29               Mass Resolution Test    Provided by vendor           Level 2   \n30            Terahertz Wave Analysis    Provided by vendor           Level 2   \n31                 RFQ Stability Test    Provided by vendor           Level 1   \n32                 Mass Accuracy Test    Provided by vendor           Level 2   \n33        Analog Signal Accuracy Test    Provided by vendor           Level 1   \n34         Separation Efficiency Test    Provided by vendor           Level 1   \n35         Deposition Uniformity Test    Provided by vendor           Level 2   \n36           Resonance Frequency Test    Provided by vendor           Level 2   \n37    Plasma Characteristics Analysis    Provided by vendor           Level 1   \n38         Particle Acceleration Test    Provided by vendor           Level 1   \n39     Magnetic Field Uniformity Test    Provided by vendor           Level 2   \n40  Dielectric Barrier Discharge Test    Provided by vendor           Level 2   \n41           Pressure Uniformity Test    Provided by vendor           Level 1   \n42    Plasma Resonance Frequency Test    Provided by vendor           Level 2   \n43           Reactive Ionization Test    Provided by vendor           Level 1   \n44         Acoustic Wave Control Test    Provided by vendor           Level 1   \n45         Ellipsometry Accuracy Test    Provided by vendor           Level 2   \n46              Voltage Limiting Test    Provided by vendor           Level 2   \n47                   Software Testing    Provided by vendor           Level 1   \n48           Gas Composition Analysis    Provided by vendor           Level 1   \n49           Temperature Profile Test    Provided by vendor           Level 2   \n50     Beam Collimation Accuracy Test    Provided by vendor           Level 2   \n51                 Data Accuracy Test    Provided by vendor           Level 1   \n52                    Resolution Test    Provided by vendor           Level 2   \n53         Separation Efficiency Test    Provided by vendor           Level 1   \n54            Voltage Modulation Test    Provided by vendor           Level 1   \n55           Spectral Resolution Test    Provided by vendor           Level 2   \n56           Ion Dose Uniformity Test    Provided by vendor           Level 2   \n57       Magnetic Field Strength Test    Provided by vendor           Level 1   \n58                 Ultrasonic Testing    Provided by vendor           Level 1   \n\n   Weight Packaging_Information Environmental_Compliance  \\\n0     200          Custom crate              RoHS, REACH   \n1      50      Custom packaging              RoHS, REACH   \n2      30          Custom crate              RoHS, REACH   \n3     100      Custom packaging              RoHS, REACH   \n4      40          Custom crate              RoHS, REACH   \n5      80      Custom packaging              RoHS, REACH   \n6      60          Custom crate              RoHS, REACH   \n7     120      Custom packaging              RoHS, REACH   \n8      45          Custom crate              RoHS, REACH   \n9      90      Custom packaging              RoHS, REACH   \n10    100      Custom packaging              RoHS, REACH   \n11    150          Custom crate              RoHS, REACH   \n12     70      Custom packaging              RoHS, REACH   \n13     50          Custom crate              RoHS, REACH   \n14     30      Custom packaging              RoHS, REACH   \n15     40                   NaN                      NaN   \n16     75      Custom packaging              RoHS, REACH   \n17     40          Custom crate              RoHS, REACH   \n18     85      Custom packaging              RoHS, REACH   \n19     55          Custom crate              RoHS, REACH   \n20    120      Custom packaging              RoHS, REACH   \n21     70      Custom packaging              RoHS, REACH   \n22     35          Custom crate              RoHS, REACH   \n23     95      Custom packaging              RoHS, REACH   \n24     50          Custom crate              RoHS, REACH   \n25     25      Custom packaging              RoHS, REACH   \n26     85      Custom packaging              RoHS, REACH   \n27     55          Custom crate              RoHS, REACH   \n28     40      Custom packaging              RoHS, REACH   \n29    110          Custom crate              RoHS, REACH   \n30     75      Custom packaging              RoHS, REACH   \n31     35          Custom crate              RoHS, REACH   \n32     95      Custom packaging              RoHS, REACH   \n33     50          Custom crate              RoHS, REACH   \n34     25      Custom packaging              RoHS, REACH   \n35     80          Custom crate              RoHS, REACH   \n36     85      Custom packaging              RoHS, REACH   \n37     55          Custom crate              RoHS, REACH   \n38     40      Custom packaging              RoHS, REACH   \n39    110          Custom crate              RoHS, REACH   \n40     75      Custom packaging              RoHS, REACH   \n41     35          Custom crate              RoHS, REACH   \n42     95          Custom crate              RoHS, REACH   \n43     50      Custom packaging              RoHS, REACH   \n44     25          Custom crate              RoHS, REACH   \n45     80      Custom packaging              RoHS, REACH   \n46     85          Custom crate              RoHS, REACH   \n47     55      Digital delivery              RoHS, REACH   \n48     40      Custom packaging              RoHS, REACH   \n49    110          Custom crate              RoHS, REACH   \n50     75      Custom packaging              RoHS, REACH   \n51     35          Custom crate              RoHS, REACH   \n52     95          Custom crate              RoHS, REACH   \n53     50      Custom packaging              RoHS, REACH   \n54     25          Custom crate              RoHS, REACH   \n55     80      Custom packaging              RoHS, REACH   \n56     85          Custom crate              RoHS, REACH   \n57     55          Custom crate              RoHS, REACH   \n58     50      Custom packaging              RoHS, REACH   \n\n                   Safety_Considerations Demand  \n0   Safety interlocks during maintenance  150.0  \n1   Safety interlocks during lid opening  120.0  \n2                                      -   90.0  \n3     Safety interlocks during operation  180.0  \n4      Safety interlocks during handling  200.0  \n5     Safety interlocks during operation  160.0  \n6                                      -  110.0  \n7   Safety interlocks during maintenance  220.0  \n8                                      -  100.0  \n9     Safety interlocks during operation  130.0  \n10    Safety interlocks during operation  190.0  \n11    Safety interlocks during operation  240.0  \n12    Safety interlocks during operation  210.0  \n13                                     -  180.0  \n14     Safety interlocks during handling  160.0  \n15                                   NaN  164.0  \n16    Safety interlocks during operation  170.0  \n17                                     -  130.0  \n18    Safety interlocks during operation  190.0  \n19                                     -  150.0  \n20    Safety interlocks during operation  220.0  \n21    Safety interlocks during operation  200.0  \n22                                     -  110.0  \n23    Safety interlocks during operation  180.0  \n24                                     -  160.0  \n25                                     -  140.0  \n26    Safety interlocks during operation  190.0  \n27                                     -  150.0  \n28    Safety interlocks during operation  170.0  \n29                                     -  220.0  \n30    Safety interlocks during operation  160.0  \n31                                     -  130.0  \n32    Safety interlocks during operation  180.0  \n33                                     -  140.0  \n34                                     -  120.0  \n35    Safety interlocks during operation  200.0  \n36    Safety interlocks during operation  190.0  \n37                                     -  150.0  \n38    Safety interlocks during operation  170.0  \n39                                     -  220.0  \n40    Safety interlocks during operation  160.0  \n41                                     -  130.0  \n42    Safety interlocks during operation  180.0  \n43                                     -  140.0  \n44                                     -  120.0  \n45    Safety interlocks during operation  200.0  \n46    Safety interlocks during operation  190.0  \n47    Safety interlocks during operation  150.0  \n48                                     -  170.0  \n49                                     -  220.0  \n50    Safety interlocks during operation  160.0  \n51                                     -  130.0  \n52    Safety interlocks during operation  180.0  \n53                                     -  140.0  \n54                                     -  120.0  \n55    Safety interlocks during operation  200.0  \n56    Safety interlocks during operation  190.0  \n57                                     -  150.0  \n58    Safety interlocks during operation  140.0  \n\n[59 rows x 23 columns]",
      "text/html": "<div>\n<style scoped>\n    .dataframe tbody tr th:only-of-type {\n        vertical-align: middle;\n    }\n\n    .dataframe tbody tr th {\n        vertical-align: top;\n    }\n\n    .dataframe thead th {\n        text-align: right;\n    }\n</style>\n<table border=\"1\" class=\"dataframe\">\n  <thead>\n    <tr style=\"text-align: right;\">\n      <th></th>\n      <th>Unnamed: 0</th>\n      <th>Timestamp</th>\n      <th>Component_Name</th>\n      <th>Part_Number</th>\n      <th>Description</th>\n      <th>Quantity</th>\n      <th>Material</th>\n      <th>Supplier</th>\n      <th>Unit_Cost</th>\n      <th>Lead_Time</th>\n      <th>...</th>\n      <th>Manufacturing_Process</th>\n      <th>Quality_Standards</th>\n      <th>Testing_Requirements</th>\n      <th>Assembly_Instructions</th>\n      <th>Subassembly_Level</th>\n      <th>Weight</th>\n      <th>Packaging_Information</th>\n      <th>Environmental_Compliance</th>\n      <th>Safety_Considerations</th>\n      <th>Demand</th>\n    </tr>\n  </thead>\n  <tbody>\n    <tr>\n      <th>0</th>\n      <td>0</td>\n      <td>2023-01-01 08:00:00</td>\n      <td>CHM-001</td>\n      <td>12345</td>\n      <td>Main chamber body</td>\n      <td>1</td>\n      <td>Stainless Steel</td>\n      <td>Vendor A</td>\n      <td>10000</td>\n      <td>12 weeks</td>\n      <td>...</td>\n      <td>CNC Machining, Welding</td>\n      <td>SEMI S123</td>\n      <td>Helium Leak Test</td>\n      <td>Provided by vendor</td>\n      <td>Level 1</td>\n      <td>200</td>\n      <td>Custom crate</td>\n      <td>RoHS, REACH</td>\n      <td>Safety interlocks during maintenance</td>\n      <td>150.0</td>\n    </tr>\n    <tr>\n      <th>1</th>\n      <td>1</td>\n      <td>2023-02-01 08:00:00</td>\n      <td>LID-001</td>\n      <td>54321</td>\n      <td>Lid for chamber</td>\n      <td>1</td>\n      <td>Aluminum Alloy</td>\n      <td>Vendor B</td>\n      <td>5000</td>\n      <td>8 weeks</td>\n      <td>...</td>\n      <td>CNC Machining</td>\n      <td>SEMI S456</td>\n      <td>Visual Inspection</td>\n      <td>Provided by vendor</td>\n      <td>Level 1</td>\n      <td>50</td>\n      <td>Custom packaging</td>\n      <td>RoHS, REACH</td>\n      <td>Safety interlocks during lid opening</td>\n      <td>120.0</td>\n    </tr>\n    <tr>\n      <th>2</th>\n      <td>2</td>\n      <td>2023-03-01 08:00:00</td>\n      <td>GDS-001</td>\n      <td>67890</td>\n      <td>Gas distribution manifold</td>\n      <td>1</td>\n      <td>Stainless Steel</td>\n      <td>Vendor C</td>\n      <td>8000</td>\n      <td>10 weeks</td>\n      <td>...</td>\n      <td>Precision Machining</td>\n      <td>SEMI S789</td>\n      <td>Leak Test</td>\n      <td>Provided by vendor</td>\n      <td>Level 2</td>\n      <td>30</td>\n      <td>Custom crate</td>\n      <td>RoHS, REACH</td>\n      <td>-</td>\n      <td>90.0</td>\n    </tr>\n    <tr>\n      <th>3</th>\n      <td>3</td>\n      <td>2023-04-01 08:00:00</td>\n      <td>PSA-001</td>\n      <td>11223</td>\n      <td>RF Generator and Electrostatic Chuck Assembly</td>\n      <td>1</td>\n      <td>Various</td>\n      <td>Vendor D</td>\n      <td>20000</td>\n      <td>14 weeks</td>\n      <td>...</td>\n      <td>Integration of Components</td>\n      <td>SEMI S234</td>\n      <td>Electrical Tests</td>\n      <td>Provided by vendor</td>\n      <td>Level 2</td>\n      <td>100</td>\n      <td>Custom packaging</td>\n      <td>RoHS, REACH</td>\n      <td>Safety interlocks during operation</td>\n      <td>180.0</td>\n    </tr>\n    <tr>\n      <th>4</th>\n      <td>4</td>\n      <td>2023-05-01 08:00:00</td>\n      <td>WHS-001</td>\n      <td>33445</td>\n      <td>Robot arm and wafer chuck</td>\n      <td>1</td>\n      <td>Aluminum Alloy, Ceramic</td>\n      <td>Vendor E</td>\n      <td>15000</td>\n      <td>16 weeks</td>\n      <td>...</td>\n      <td>Robotic Assembly</td>\n      <td>SEMI S567</td>\n      <td>Functional Tests</td>\n      <td>Provided by vendor</td>\n      <td>Level 2</td>\n      <td>40</td>\n      <td>Custom crate</td>\n      <td>RoHS, REACH</td>\n      <td>Safety interlocks during handling</td>\n      <td>200.0</td>\n    </tr>\n    <tr>\n      <th>5</th>\n      <td>5</td>\n      <td>2023-06-01 08:00:00</td>\n      <td>ISA-002</td>\n      <td>55667</td>\n      <td>Ion source for plasma etching</td>\n      <td>1</td>\n      <td>Titanium</td>\n      <td>Vendor F</td>\n      <td>18000</td>\n      <td>15 weeks</td>\n      <td>...</td>\n      <td>Laser Cutting, Assembly</td>\n      <td>SEMI S890</td>\n      <td>Mass Spectrometry Test</td>\n      <td>Provided by vendor</td>\n      <td>Level 2</td>\n      <td>80</td>\n      <td>Custom packaging</td>\n      <td>RoHS, REACH</td>\n      <td>Safety interlocks during operation</td>\n      <td>160.0</td>\n    </tr>\n    <tr>\n      <th>6</th>\n      <td>6</td>\n      <td>2023-07-01 08:00:00</td>\n      <td>CS-002</td>\n      <td>77889</td>\n      <td>Closed-loop coolant system</td>\n      <td>1</td>\n      <td>Stainless Steel</td>\n      <td>Vendor G</td>\n      <td>12000</td>\n      <td>10 weeks</td>\n      <td>...</td>\n      <td>CNC Machining</td>\n      <td>SEMI S678</td>\n      <td>Pressure Test</td>\n      <td>Provided by vendor</td>\n      <td>Level 1</td>\n      <td>60</td>\n      <td>Custom crate</td>\n      <td>RoHS, REACH</td>\n      <td>-</td>\n      <td>110.0</td>\n    </tr>\n    <tr>\n      <th>7</th>\n      <td>7</td>\n      <td>2023-08-01 08:00:00</td>\n      <td>PSU-002</td>\n      <td>99001</td>\n      <td>High-voltage power supply</td>\n      <td>1</td>\n      <td>Copper, Silicon</td>\n      <td>Vendor H</td>\n      <td>25000</td>\n      <td>18 weeks</td>\n      <td>...</td>\n      <td>Electronic Assembly</td>\n      <td>SEMI S345</td>\n      <td>Electrical Safety Tests</td>\n      <td>Provided by vendor</td>\n      <td>Level 2</td>\n      <td>120</td>\n      <td>Custom packaging</td>\n      <td>RoHS, REACH</td>\n      <td>Safety interlocks during maintenance</td>\n      <td>220.0</td>\n    </tr>\n    <tr>\n      <th>8</th>\n      <td>8</td>\n      <td>2023-09-01 08:00:00</td>\n      <td>GPS-002</td>\n      <td>11223</td>\n      <td>Gas purification and filtration</td>\n      <td>1</td>\n      <td>Polypropylene</td>\n      <td>Vendor I</td>\n      <td>15000</td>\n      <td>12 weeks</td>\n      <td>...</td>\n      <td>Filtration and Purification</td>\n      <td>SEMI S456</td>\n      <td>Gas Purity Analysis</td>\n      <td>Provided by vendor</td>\n      <td>Level 1</td>\n      <td>45</td>\n      <td>Custom crate</td>\n      <td>RoHS, REACH</td>\n      <td>-</td>\n      <td>100.0</td>\n    </tr>\n    <tr>\n      <th>9</th>\n      <td>9</td>\n      <td>2023-10-01 08:00:00</td>\n      <td>TCU-002</td>\n      <td>33445</td>\n      <td>Precision temperature control</td>\n      <td>1</td>\n      <td>Inconel</td>\n      <td>Vendor J</td>\n      <td>20000</td>\n      <td>14 weeks</td>\n      <td>...</td>\n      <td>Thermoelectric Cooling</td>\n      <td>SEMI S789</td>\n      <td>Temperature Stability Test</td>\n      <td>Provided by vendor</td>\n      <td>Level 2</td>\n      <td>90</td>\n      <td>Custom packaging</td>\n      <td>RoHS, REACH</td>\n      <td>Safety interlocks during operation</td>\n      <td>130.0</td>\n    </tr>\n    <tr>\n      <th>10</th>\n      <td>10</td>\n      <td>2023-11-01 08:00:00</td>\n      <td>EC-002</td>\n      <td>55667</td>\n      <td>Specialized chamber for etching process</td>\n      <td>1</td>\n      <td>Quartz</td>\n      <td>Vendor K</td>\n      <td>22000</td>\n      <td>16 weeks</td>\n      <td>...</td>\n      <td>Quartz Fabrication</td>\n      <td>SEMI S234</td>\n      <td>Visual Inspection</td>\n      <td>Provided by vendor</td>\n      <td>Level 2</td>\n      <td>100</td>\n      <td>Custom packaging</td>\n      <td>RoHS, REACH</td>\n      <td>Safety interlocks during operation</td>\n      <td>190.0</td>\n    </tr>\n    <tr>\n      <th>11</th>\n      <td>11</td>\n      <td>2023-12-01 08:00:00</td>\n      <td>VS-002</td>\n      <td>77889</td>\n      <td>High-performance vacuum system</td>\n      <td>1</td>\n      <td>Stainless Steel</td>\n      <td>Vendor L</td>\n      <td>30000</td>\n      <td>20 weeks</td>\n      <td>...</td>\n      <td>Vacuum Technology</td>\n      <td>SEMI S567</td>\n      <td>Vacuum Integrity Test</td>\n      <td>Provided by vendor</td>\n      <td>Level 2</td>\n      <td>150</td>\n      <td>Custom crate</td>\n      <td>RoHS, REACH</td>\n      <td>Safety interlocks during operation</td>\n      <td>240.0</td>\n    </tr>\n    <tr>\n      <th>12</th>\n      <td>12</td>\n      <td>2024-01-01 08:00:00</td>\n      <td>PCU-002</td>\n      <td>99001</td>\n      <td>Control system for plasma parameters</td>\n      <td>1</td>\n      <td>Electronic Components</td>\n      <td>Vendor M</td>\n      <td>15000</td>\n      <td>12 weeks</td>\n      <td>...</td>\n      <td>Electronic Assembly</td>\n      <td>SEMI S345</td>\n      <td>Electrical Tests</td>\n      <td>Provided by vendor</td>\n      <td>Level 1</td>\n      <td>70</td>\n      <td>Custom packaging</td>\n      <td>RoHS, REACH</td>\n      <td>Safety interlocks during operation</td>\n      <td>210.0</td>\n    </tr>\n    <tr>\n      <th>13</th>\n      <td>13</td>\n      <td>2024-02-01 08:00:00</td>\n      <td>GFMS-002</td>\n      <td>11223</td>\n      <td>System for controlling gas flow rates</td>\n      <td>1</td>\n      <td>Stainless Steel</td>\n      <td>Vendor N</td>\n      <td>16000</td>\n      <td>14 weeks</td>\n      <td>...</td>\n      <td>Flow Rate Calibration</td>\n      <td>SEMI S678</td>\n      <td>Gas Flow Stability Test</td>\n      <td>Provided by vendor</td>\n      <td>Level 1</td>\n      <td>50</td>\n      <td>Custom crate</td>\n      <td>RoHS, REACH</td>\n      <td>-</td>\n      <td>180.0</td>\n    </tr>\n    <tr>\n      <th>14</th>\n      <td>14</td>\n      <td>2024-03-01 08:00:00</td>\n      <td>WLS-002</td>\n      <td>33445</td>\n      <td>System for loading wafers into chamber</td>\n      <td>1</td>\n      <td>Aluminum Alloy</td>\n      <td>Vendor O</td>\n      <td>10000</td>\n      <td>8 weeks</td>\n      <td>...</td>\n      <td>Automated Loading</td>\n      <td>SEMI S567</td>\n      <td>Robotic Tests</td>\n      <td>Provided by vendor</td>\n      <td>Level 1</td>\n      <td>30</td>\n      <td>Custom packaging</td>\n      <td>RoHS, REACH</td>\n      <td>Safety interlocks during handling</td>\n      <td>160.0</td>\n    </tr>\n    <tr>\n      <th>15</th>\n      <td>15</td>\n      <td>2024-04-01 08:00:00</td>\n      <td>PDM-002</td>\n      <td>55667</td>\n      <td>Diagnostic tools for monitoring plasma</td>\n      <td>1</td>\n      <td>Various</td>\n      <td>Vendor P</td>\n      <td>28000</td>\n      <td>22 weeks</td>\n      <td>...</td>\n      <td>Integration of Diagnostics</td>\n      <td>SEMI S234</td>\n      <td>Diagnostics Performance Test</td>\n      <td>Provided by vendor</td>\n      <td>level 1</td>\n      <td>40</td>\n      <td>NaN</td>\n      <td>NaN</td>\n      <td>NaN</td>\n      <td>164.0</td>\n    </tr>\n    <tr>\n      <th>16</th>\n      <td>16</td>\n      <td>2024-05-01 08:00:00</td>\n      <td>NEW-001</td>\n      <td>78901</td>\n      <td>Advanced Plasma Source</td>\n      <td>1</td>\n      <td>Ceramic</td>\n      <td>Vendor Q</td>\n      <td>22000</td>\n      <td>15 weeks</td>\n      <td>...</td>\n      <td>Advanced Plasma Generation</td>\n      <td>SEMI S890</td>\n      <td>Ion Energy Distribution</td>\n      <td>Provided by vendor</td>\n      <td>Level 2</td>\n      <td>75</td>\n      <td>Custom packaging</td>\n      <td>RoHS, REACH</td>\n      <td>Safety interlocks during operation</td>\n      <td>170.0</td>\n    </tr>\n    <tr>\n      <th>17</th>\n      <td>17</td>\n      <td>2024-06-01 08:00:00</td>\n      <td>MEMS-002</td>\n      <td>12345</td>\n      <td>Micro-Etching Module</td>\n      <td>1</td>\n      <td>Silicon</td>\n      <td>Vendor R</td>\n      <td>18000</td>\n      <td>12 weeks</td>\n      <td>...</td>\n      <td>MEMS Fabrication</td>\n      <td>SEMI S456</td>\n      <td>Microstructural Analysis</td>\n      <td>Provided by vendor</td>\n      <td>Level 1</td>\n      <td>40</td>\n      <td>Custom crate</td>\n      <td>RoHS, REACH</td>\n      <td>-</td>\n      <td>130.0</td>\n    </tr>\n    <tr>\n      <th>18</th>\n      <td>18</td>\n      <td>2024-07-01 08:00:00</td>\n      <td>AFM-001</td>\n      <td>56789</td>\n      <td>Atomic Force Microscope Attachment</td>\n      <td>1</td>\n      <td>Titanium, Glass</td>\n      <td>Vendor S</td>\n      <td>25000</td>\n      <td>18 weeks</td>\n      <td>...</td>\n      <td>AFM Integration</td>\n      <td>SEMI S567</td>\n      <td>AFM Resolution Test</td>\n      <td>Provided by vendor</td>\n      <td>Level 2</td>\n      <td>85</td>\n      <td>Custom packaging</td>\n      <td>RoHS, REACH</td>\n      <td>Safety interlocks during operation</td>\n      <td>190.0</td>\n    </tr>\n    <tr>\n      <th>19</th>\n      <td>19</td>\n      <td>2024-08-01 08:00:00</td>\n      <td>RFI-002</td>\n      <td>11223</td>\n      <td>Remote Plasma Inspection Unit</td>\n      <td>1</td>\n      <td>Stainless Steel</td>\n      <td>Vendor T</td>\n      <td>16000</td>\n      <td>14 weeks</td>\n      <td>...</td>\n      <td>Remote Plasma Technology</td>\n      <td>SEMI S678</td>\n      <td>Plasma Uniformity Test</td>\n      <td>Provided by vendor</td>\n      <td>Level 1</td>\n      <td>55</td>\n      <td>Custom crate</td>\n      <td>RoHS, REACH</td>\n      <td>-</td>\n      <td>150.0</td>\n    </tr>\n    <tr>\n      <th>20</th>\n      <td>20</td>\n      <td>2024-09-01 08:00:00</td>\n      <td>EUV-001</td>\n      <td>33445</td>\n      <td>Extreme Ultraviolet Light Source</td>\n      <td>1</td>\n      <td>Optical Elements</td>\n      <td>Vendor U</td>\n      <td>30000</td>\n      <td>20 weeks</td>\n      <td>...</td>\n      <td>EUV Technology</td>\n      <td>SEMI S234</td>\n      <td>Wavelength Accuracy Test</td>\n      <td>Provided by vendor</td>\n      <td>Level 2</td>\n      <td>120</td>\n      <td>Custom packaging</td>\n      <td>RoHS, REACH</td>\n      <td>Safety interlocks during operation</td>\n      <td>220.0</td>\n    </tr>\n    <tr>\n      <th>21</th>\n      <td>21</td>\n      <td>2024-10-01 08:00:00</td>\n      <td>NANO-002</td>\n      <td>55667</td>\n      <td>Nanoparticle Deposition Module</td>\n      <td>1</td>\n      <td>Gold, Polymer</td>\n      <td>Vendor V</td>\n      <td>20000</td>\n      <td>16 weeks</td>\n      <td>...</td>\n      <td>Nanoparticle Deposition</td>\n      <td>SEMI S345</td>\n      <td>Nanoparticle Size Analysis</td>\n      <td>Provided by vendor</td>\n      <td>Level 2</td>\n      <td>70</td>\n      <td>Custom packaging</td>\n      <td>RoHS, REACH</td>\n      <td>Safety interlocks during operation</td>\n      <td>200.0</td>\n    </tr>\n    <tr>\n      <th>22</th>\n      <td>22</td>\n      <td>2024-11-01 08:00:00</td>\n      <td>PCB-002</td>\n      <td>77889</td>\n      <td>Plasma Cleaning Brush Unit</td>\n      <td>1</td>\n      <td>Carbon Composite</td>\n      <td>Vendor W</td>\n      <td>12000</td>\n      <td>10 weeks</td>\n      <td>...</td>\n      <td>Plasma Brush Technology</td>\n      <td>SEMI S567</td>\n      <td>Cleaning Efficiency Test</td>\n      <td>Provided by vendor</td>\n      <td>Level 1</td>\n      <td>35</td>\n      <td>Custom crate</td>\n      <td>RoHS, REACH</td>\n      <td>-</td>\n      <td>110.0</td>\n    </tr>\n    <tr>\n      <th>23</th>\n      <td>23</td>\n      <td>2024-12-01 08:00:00</td>\n      <td>MIR-001</td>\n      <td>99001</td>\n      <td>Mid-Infrared Spectroscopy Module</td>\n      <td>1</td>\n      <td>Zinc Selenide</td>\n      <td>Vendor X</td>\n      <td>28000</td>\n      <td>22 weeks</td>\n      <td>...</td>\n      <td>MIR Spectroscopy Integration</td>\n      <td>SEMI S789</td>\n      <td>Spectral Resolution Test</td>\n      <td>Provided by vendor</td>\n      <td>Level 2</td>\n      <td>95</td>\n      <td>Custom packaging</td>\n      <td>RoHS, REACH</td>\n      <td>Safety interlocks during operation</td>\n      <td>180.0</td>\n    </tr>\n    <tr>\n      <th>24</th>\n      <td>24</td>\n      <td>2025-01-01 08:00:00</td>\n      <td>PLC-002</td>\n      <td>11223</td>\n      <td>Plasma Control System</td>\n      <td>1</td>\n      <td>Electronic Components</td>\n      <td>Vendor Y</td>\n      <td>15000</td>\n      <td>12 weeks</td>\n      <td>...</td>\n      <td>Electronic Assembly</td>\n      <td>SEMI S456</td>\n      <td>Control System Tests</td>\n      <td>Provided by vendor</td>\n      <td>Level 1</td>\n      <td>50</td>\n      <td>Custom crate</td>\n      <td>RoHS, REACH</td>\n      <td>-</td>\n      <td>160.0</td>\n    </tr>\n    <tr>\n      <th>25</th>\n      <td>25</td>\n      <td>2025-02-01 08:00:00</td>\n      <td>PHOTO-002</td>\n      <td>33445</td>\n      <td>Photolithography Enhancement Unit</td>\n      <td>1</td>\n      <td>Glass, Quartz</td>\n      <td>Vendor Z</td>\n      <td>10000</td>\n      <td>8 weeks</td>\n      <td>...</td>\n      <td>Photolithography Integration</td>\n      <td>SEMI S678</td>\n      <td>Resolution Enhancement Test</td>\n      <td>Provided by vendor</td>\n      <td>Level 1</td>\n      <td>25</td>\n      <td>Custom packaging</td>\n      <td>RoHS, REACH</td>\n      <td>-</td>\n      <td>140.0</td>\n    </tr>\n    <tr>\n      <th>26</th>\n      <td>26</td>\n      <td>2025-03-01 08:00:00</td>\n      <td>FTIR-001</td>\n      <td>55667</td>\n      <td>Fourier Transform Infrared Spectroscopy Module</td>\n      <td>1</td>\n      <td>Zinc Sulfide</td>\n      <td>Vendor AA</td>\n      <td>22000</td>\n      <td>15 weeks</td>\n      <td>...</td>\n      <td>FTIR Spectroscopy Integration</td>\n      <td>SEMI S234</td>\n      <td>Spectral Analysis Test</td>\n      <td>Provided by vendor</td>\n      <td>Level 2</td>\n      <td>85</td>\n      <td>Custom packaging</td>\n      <td>RoHS, REACH</td>\n      <td>Safety interlocks during operation</td>\n      <td>190.0</td>\n    </tr>\n    <tr>\n      <th>27</th>\n      <td>27</td>\n      <td>2025-04-01 08:00:00</td>\n      <td>CMP-002</td>\n      <td>77889</td>\n      <td>Chemical Mechanical Polishing Unit</td>\n      <td>1</td>\n      <td>Ceramic, Polyurethane</td>\n      <td>Vendor BB</td>\n      <td>16000</td>\n      <td>14 weeks</td>\n      <td>...</td>\n      <td>CMP Technology</td>\n      <td>SEMI S567</td>\n      <td>Polishing Uniformity Test</td>\n      <td>Provided by vendor</td>\n      <td>Level 1</td>\n      <td>55</td>\n      <td>Custom crate</td>\n      <td>RoHS, REACH</td>\n      <td>-</td>\n      <td>150.0</td>\n    </tr>\n    <tr>\n      <th>28</th>\n      <td>28</td>\n      <td>2025-05-01 08:00:00</td>\n      <td>HGA-001</td>\n      <td>99001</td>\n      <td>Hydrogen Gas Activation Unit</td>\n      <td>1</td>\n      <td>Stainless Steel</td>\n      <td>Vendor CC</td>\n      <td>18000</td>\n      <td>12 weeks</td>\n      <td>...</td>\n      <td>Hydrogen Activation Process</td>\n      <td>SEMI S789</td>\n      <td>Activation Efficiency Test</td>\n      <td>Provided by vendor</td>\n      <td>Level 1</td>\n      <td>40</td>\n      <td>Custom packaging</td>\n      <td>RoHS, REACH</td>\n      <td>Safety interlocks during operation</td>\n      <td>170.0</td>\n    </tr>\n    <tr>\n      <th>29</th>\n      <td>29</td>\n      <td>2025-06-01 08:00:00</td>\n      <td>MAS-002</td>\n      <td>11223</td>\n      <td>Mass Spectrometry Analyzer</td>\n      <td>1</td>\n      <td>Aluminum Alloy, Glass</td>\n      <td>Vendor DD</td>\n      <td>25000</td>\n      <td>18 weeks</td>\n      <td>...</td>\n      <td>MAS Integration</td>\n      <td>SEMI S456</td>\n      <td>Mass Resolution Test</td>\n      <td>Provided by vendor</td>\n      <td>Level 2</td>\n      <td>110</td>\n      <td>Custom crate</td>\n      <td>RoHS, REACH</td>\n      <td>-</td>\n      <td>220.0</td>\n    </tr>\n    <tr>\n      <th>30</th>\n      <td>30</td>\n      <td>2025-07-01 08:00:00</td>\n      <td>THZ-001</td>\n      <td>33445</td>\n      <td>Terahertz Spectroscopy Module</td>\n      <td>1</td>\n      <td>Polyethylene, Silicon</td>\n      <td>Vendor EE</td>\n      <td>20000</td>\n      <td>16 weeks</td>\n      <td>...</td>\n      <td>THZ Spectroscopy Integration</td>\n      <td>SEMI S678</td>\n      <td>Terahertz Wave Analysis</td>\n      <td>Provided by vendor</td>\n      <td>Level 2</td>\n      <td>75</td>\n      <td>Custom packaging</td>\n      <td>RoHS, REACH</td>\n      <td>Safety interlocks during operation</td>\n      <td>160.0</td>\n    </tr>\n    <tr>\n      <th>31</th>\n      <td>31</td>\n      <td>2025-08-01 08:00:00</td>\n      <td>RFQ-002</td>\n      <td>55667</td>\n      <td>Radio Frequency Quadrupole Unit</td>\n      <td>1</td>\n      <td>Copper, Teflon</td>\n      <td>Vendor FF</td>\n      <td>12000</td>\n      <td>10 weeks</td>\n      <td>...</td>\n      <td>RFQ Integration</td>\n      <td>SEMI S234</td>\n      <td>RFQ Stability Test</td>\n      <td>Provided by vendor</td>\n      <td>Level 1</td>\n      <td>35</td>\n      <td>Custom crate</td>\n      <td>RoHS, REACH</td>\n      <td>-</td>\n      <td>130.0</td>\n    </tr>\n    <tr>\n      <th>32</th>\n      <td>32</td>\n      <td>2025-09-01 08:00:00</td>\n      <td>TOF-001</td>\n      <td>77889</td>\n      <td>Time-of-Flight Mass Spectrometry Module</td>\n      <td>1</td>\n      <td>Gold, Quartz</td>\n      <td>Vendor GG</td>\n      <td>30000</td>\n      <td>20 weeks</td>\n      <td>...</td>\n      <td>TOF-MS Integration</td>\n      <td>SEMI S567</td>\n      <td>Mass Accuracy Test</td>\n      <td>Provided by vendor</td>\n      <td>Level 2</td>\n      <td>95</td>\n      <td>Custom packaging</td>\n      <td>RoHS, REACH</td>\n      <td>Safety interlocks during operation</td>\n      <td>180.0</td>\n    </tr>\n    <tr>\n      <th>33</th>\n      <td>33</td>\n      <td>2025-10-01 08:00:00</td>\n      <td>DAC-002</td>\n      <td>99001</td>\n      <td>Digital-to-Analog Converter</td>\n      <td>1</td>\n      <td>Electronic Components</td>\n      <td>Vendor HH</td>\n      <td>15000</td>\n      <td>12 weeks</td>\n      <td>...</td>\n      <td>Electronics Integration</td>\n      <td>SEMI S345</td>\n      <td>Analog Signal Accuracy Test</td>\n      <td>Provided by vendor</td>\n      <td>Level 1</td>\n      <td>50</td>\n      <td>Custom crate</td>\n      <td>RoHS, REACH</td>\n      <td>-</td>\n      <td>140.0</td>\n    </tr>\n    <tr>\n      <th>34</th>\n      <td>34</td>\n      <td>2025-11-01 08:00:00</td>\n      <td>LC-002</td>\n      <td>11223</td>\n      <td>Liquid Chromatography Unit</td>\n      <td>1</td>\n      <td>Stainless Steel, Glass</td>\n      <td>Vendor II</td>\n      <td>10000</td>\n      <td>8 weeks</td>\n      <td>...</td>\n      <td>LC Integration</td>\n      <td>SEMI S456</td>\n      <td>Separation Efficiency Test</td>\n      <td>Provided by vendor</td>\n      <td>Level 1</td>\n      <td>25</td>\n      <td>Custom packaging</td>\n      <td>RoHS, REACH</td>\n      <td>-</td>\n      <td>120.0</td>\n    </tr>\n    <tr>\n      <th>35</th>\n      <td>35</td>\n      <td>2025-12-01 08:00:00</td>\n      <td>EDA-001</td>\n      <td>33445</td>\n      <td>Electrochemical Deposition Apparatus</td>\n      <td>1</td>\n      <td>Titanium, Polypropylene</td>\n      <td>Vendor JJ</td>\n      <td>28000</td>\n      <td>22 weeks</td>\n      <td>...</td>\n      <td>EDA Integration</td>\n      <td>SEMI S789</td>\n      <td>Deposition Uniformity Test</td>\n      <td>Provided by vendor</td>\n      <td>Level 2</td>\n      <td>80</td>\n      <td>Custom crate</td>\n      <td>RoHS, REACH</td>\n      <td>Safety interlocks during operation</td>\n      <td>200.0</td>\n    </tr>\n    <tr>\n      <th>36</th>\n      <td>36</td>\n      <td>2026-01-01 08:00:00</td>\n      <td>AFR-002</td>\n      <td>55667</td>\n      <td>Atomic Force Resonance Module</td>\n      <td>1</td>\n      <td>Silicon, Aluminum</td>\n      <td>Vendor KK</td>\n      <td>22000</td>\n      <td>15 weeks</td>\n      <td>...</td>\n      <td>AFR Integration</td>\n      <td>SEMI S234</td>\n      <td>Resonance Frequency Test</td>\n      <td>Provided by vendor</td>\n      <td>Level 2</td>\n      <td>85</td>\n      <td>Custom packaging</td>\n      <td>RoHS, REACH</td>\n      <td>Safety interlocks during operation</td>\n      <td>190.0</td>\n    </tr>\n    <tr>\n      <th>37</th>\n      <td>37</td>\n      <td>2026-02-01 08:00:00</td>\n      <td>PMS-001</td>\n      <td>77889</td>\n      <td>Plasma Monitoring System</td>\n      <td>1</td>\n      <td>Electronic Components, Ceramic</td>\n      <td>Vendor LL</td>\n      <td>16000</td>\n      <td>14 weeks</td>\n      <td>...</td>\n      <td>PMS Integration</td>\n      <td>SEMI S567</td>\n      <td>Plasma Characteristics Analysis</td>\n      <td>Provided by vendor</td>\n      <td>Level 1</td>\n      <td>55</td>\n      <td>Custom crate</td>\n      <td>RoHS, REACH</td>\n      <td>-</td>\n      <td>150.0</td>\n    </tr>\n    <tr>\n      <th>38</th>\n      <td>38</td>\n      <td>2026-03-01 08:00:00</td>\n      <td>HEA-002</td>\n      <td>99001</td>\n      <td>High-Energy Accelerator</td>\n      <td>1</td>\n      <td>Copper, Magnetic Alloy</td>\n      <td>Vendor MM</td>\n      <td>18000</td>\n      <td>12 weeks</td>\n      <td>...</td>\n      <td>HEA Integration</td>\n      <td>SEMI S678</td>\n      <td>Particle Acceleration Test</td>\n      <td>Provided by vendor</td>\n      <td>Level 1</td>\n      <td>40</td>\n      <td>Custom packaging</td>\n      <td>RoHS, REACH</td>\n      <td>Safety interlocks during operation</td>\n      <td>170.0</td>\n    </tr>\n    <tr>\n      <th>39</th>\n      <td>39</td>\n      <td>2026-04-01 08:00:00</td>\n      <td>MFM-002</td>\n      <td>11223</td>\n      <td>Magnetic Field Manipulation Unit</td>\n      <td>1</td>\n      <td>Ferrite, Copper</td>\n      <td>Vendor NN</td>\n      <td>25000</td>\n      <td>18 weeks</td>\n      <td>...</td>\n      <td>MFM Integration</td>\n      <td>SEMI S456</td>\n      <td>Magnetic Field Uniformity Test</td>\n      <td>Provided by vendor</td>\n      <td>Level 2</td>\n      <td>110</td>\n      <td>Custom crate</td>\n      <td>RoHS, REACH</td>\n      <td>-</td>\n      <td>220.0</td>\n    </tr>\n    <tr>\n      <th>40</th>\n      <td>40</td>\n      <td>2026-05-01 08:00:00</td>\n      <td>DIE-001</td>\n      <td>33445</td>\n      <td>Dielectric Barrier Discharge Unit</td>\n      <td>1</td>\n      <td>Quartz, Dielectric Materials</td>\n      <td>Vendor OO</td>\n      <td>20000</td>\n      <td>16 weeks</td>\n      <td>...</td>\n      <td>DBD Integration</td>\n      <td>SEMI S567</td>\n      <td>Dielectric Barrier Discharge Test</td>\n      <td>Provided by vendor</td>\n      <td>Level 2</td>\n      <td>75</td>\n      <td>Custom packaging</td>\n      <td>RoHS, REACH</td>\n      <td>Safety interlocks during operation</td>\n      <td>160.0</td>\n    </tr>\n    <tr>\n      <th>41</th>\n      <td>41</td>\n      <td>2026-06-01 08:00:00</td>\n      <td>LPC-002</td>\n      <td>55667</td>\n      <td>Low-Pressure Chamber Module</td>\n      <td>1</td>\n      <td>Stainless Steel, Polyethylene</td>\n      <td>Vendor PP</td>\n      <td>12000</td>\n      <td>10 weeks</td>\n      <td>...</td>\n      <td>LPC Integration</td>\n      <td>SEMI S234</td>\n      <td>Pressure Uniformity Test</td>\n      <td>Provided by vendor</td>\n      <td>Level 1</td>\n      <td>35</td>\n      <td>Custom crate</td>\n      <td>RoHS, REACH</td>\n      <td>-</td>\n      <td>130.0</td>\n    </tr>\n    <tr>\n      <th>42</th>\n      <td>42</td>\n      <td>2026-07-01 08:00:00</td>\n      <td>PRA-001</td>\n      <td>77889</td>\n      <td>Plasma Resonance Analyzer</td>\n      <td>1</td>\n      <td>Aluminum, Glass</td>\n      <td>Vendor QQ</td>\n      <td>30000</td>\n      <td>20 weeks</td>\n      <td>...</td>\n      <td>PRA Integration</td>\n      <td>SEMI S678</td>\n      <td>Plasma Resonance Frequency Test</td>\n      <td>Provided by vendor</td>\n      <td>Level 2</td>\n      <td>95</td>\n      <td>Custom crate</td>\n      <td>RoHS, REACH</td>\n      <td>Safety interlocks during operation</td>\n      <td>180.0</td>\n    </tr>\n    <tr>\n      <th>43</th>\n      <td>43</td>\n      <td>2026-08-01 08:00:00</td>\n      <td>RMS-002</td>\n      <td>99001</td>\n      <td>Reactive Mass Spectrometry Module</td>\n      <td>1</td>\n      <td>Titanium, Quartz</td>\n      <td>Vendor RR</td>\n      <td>15000</td>\n      <td>12 weeks</td>\n      <td>...</td>\n      <td>RMS Integration</td>\n      <td>SEMI S345</td>\n      <td>Reactive Ionization Test</td>\n      <td>Provided by vendor</td>\n      <td>Level 1</td>\n      <td>50</td>\n      <td>Custom packaging</td>\n      <td>RoHS, REACH</td>\n      <td>-</td>\n      <td>140.0</td>\n    </tr>\n    <tr>\n      <th>44</th>\n      <td>44</td>\n      <td>2026-09-01 08:00:00</td>\n      <td>ACU-002</td>\n      <td>11223</td>\n      <td>Acoustic Control Unit</td>\n      <td>1</td>\n      <td>Plastic, Aluminum</td>\n      <td>Vendor SS</td>\n      <td>10000</td>\n      <td>8 weeks</td>\n      <td>...</td>\n      <td>ACU Integration</td>\n      <td>SEMI S456</td>\n      <td>Acoustic Wave Control Test</td>\n      <td>Provided by vendor</td>\n      <td>Level 1</td>\n      <td>25</td>\n      <td>Custom crate</td>\n      <td>RoHS, REACH</td>\n      <td>-</td>\n      <td>120.0</td>\n    </tr>\n    <tr>\n      <th>45</th>\n      <td>45</td>\n      <td>2026-10-01 08:00:00</td>\n      <td>SPA-001</td>\n      <td>33445</td>\n      <td>Spectroscopic Ellipsometry Module</td>\n      <td>1</td>\n      <td>Silicon, Glass</td>\n      <td>Vendor TT</td>\n      <td>28000</td>\n      <td>22 weeks</td>\n      <td>...</td>\n      <td>SPA Integration</td>\n      <td>SEMI S789</td>\n      <td>Ellipsometry Accuracy Test</td>\n      <td>Provided by vendor</td>\n      <td>Level 2</td>\n      <td>80</td>\n      <td>Custom packaging</td>\n      <td>RoHS, REACH</td>\n      <td>Safety interlocks during operation</td>\n      <td>200.0</td>\n    </tr>\n    <tr>\n      <th>46</th>\n      <td>46</td>\n      <td>2026-11-01 08:00:00</td>\n      <td>CVL-002</td>\n      <td>55667</td>\n      <td>Cathode Voltage Limiter</td>\n      <td>1</td>\n      <td>Copper, Ceramic</td>\n      <td>Vendor UU</td>\n      <td>22000</td>\n      <td>15 weeks</td>\n      <td>...</td>\n      <td>CVL Integration</td>\n      <td>SEMI S234</td>\n      <td>Voltage Limiting Test</td>\n      <td>Provided by vendor</td>\n      <td>Level 2</td>\n      <td>85</td>\n      <td>Custom crate</td>\n      <td>RoHS, REACH</td>\n      <td>Safety interlocks during operation</td>\n      <td>190.0</td>\n    </tr>\n    <tr>\n      <th>47</th>\n      <td>47</td>\n      <td>2026-12-01 08:00:00</td>\n      <td>PCS-002</td>\n      <td>77889</td>\n      <td>Plasma Control Software System</td>\n      <td>1</td>\n      <td>Software</td>\n      <td>Vendor VV</td>\n      <td>16000</td>\n      <td>14 weeks</td>\n      <td>...</td>\n      <td>Software Development</td>\n      <td>ISO 9001</td>\n      <td>Software Testing</td>\n      <td>Provided by vendor</td>\n      <td>Level 1</td>\n      <td>55</td>\n      <td>Digital delivery</td>\n      <td>RoHS, REACH</td>\n      <td>Safety interlocks during operation</td>\n      <td>150.0</td>\n    </tr>\n    <tr>\n      <th>48</th>\n      <td>48</td>\n      <td>2027-01-01 08:00:00</td>\n      <td>RFS-002</td>\n      <td>99001</td>\n      <td>Residual Gas Analyzer</td>\n      <td>1</td>\n      <td>Stainless Steel, Glass</td>\n      <td>Vendor WW</td>\n      <td>18000</td>\n      <td>12 weeks</td>\n      <td>...</td>\n      <td>RFS Integration</td>\n      <td>SEMI S567</td>\n      <td>Gas Composition Analysis</td>\n      <td>Provided by vendor</td>\n      <td>Level 1</td>\n      <td>40</td>\n      <td>Custom packaging</td>\n      <td>RoHS, REACH</td>\n      <td>-</td>\n      <td>170.0</td>\n    </tr>\n    <tr>\n      <th>49</th>\n      <td>49</td>\n      <td>2027-02-01 08:00:00</td>\n      <td>DTP-001</td>\n      <td>11223</td>\n      <td>Dynamic Temperature Profiler</td>\n      <td>1</td>\n      <td>Inconel, Polyurethane</td>\n      <td>Vendor XX</td>\n      <td>25000</td>\n      <td>18 weeks</td>\n      <td>...</td>\n      <td>DTP Integration</td>\n      <td>SEMI S345</td>\n      <td>Temperature Profile Test</td>\n      <td>Provided by vendor</td>\n      <td>Level 2</td>\n      <td>110</td>\n      <td>Custom crate</td>\n      <td>RoHS, REACH</td>\n      <td>-</td>\n      <td>220.0</td>\n    </tr>\n    <tr>\n      <th>50</th>\n      <td>50</td>\n      <td>2027-03-01 08:00:00</td>\n      <td>LBC-002</td>\n      <td>33445</td>\n      <td>Laser Beam Collimation Unit</td>\n      <td>1</td>\n      <td>Aluminum, Optical Glass</td>\n      <td>Vendor YY</td>\n      <td>20000</td>\n      <td>16 weeks</td>\n      <td>...</td>\n      <td>LBC Integration</td>\n      <td>SEMI S456</td>\n      <td>Beam Collimation Accuracy Test</td>\n      <td>Provided by vendor</td>\n      <td>Level 2</td>\n      <td>75</td>\n      <td>Custom packaging</td>\n      <td>RoHS, REACH</td>\n      <td>Safety interlocks during operation</td>\n      <td>160.0</td>\n    </tr>\n    <tr>\n      <th>51</th>\n      <td>51</td>\n      <td>2027-04-01 08:00:00</td>\n      <td>DAS-002</td>\n      <td>55667</td>\n      <td>Data Acquisition System</td>\n      <td>1</td>\n      <td>Electronic Components</td>\n      <td>Vendor ZZ</td>\n      <td>12000</td>\n      <td>10 weeks</td>\n      <td>...</td>\n      <td>DAS Integration</td>\n      <td>SEMI S678</td>\n      <td>Data Accuracy Test</td>\n      <td>Provided by vendor</td>\n      <td>Level 1</td>\n      <td>35</td>\n      <td>Custom crate</td>\n      <td>RoHS, REACH</td>\n      <td>-</td>\n      <td>130.0</td>\n    </tr>\n    <tr>\n      <th>52</th>\n      <td>52</td>\n      <td>2027-05-01 08:00:00</td>\n      <td>SPS-001</td>\n      <td>77889</td>\n      <td>Scanning Probe Microscopy System</td>\n      <td>1</td>\n      <td>Ceramic, Silicon</td>\n      <td>Vendor AAA</td>\n      <td>30000</td>\n      <td>20 weeks</td>\n      <td>...</td>\n      <td>SPS Integration</td>\n      <td>SEMI S234</td>\n      <td>Resolution Test</td>\n      <td>Provided by vendor</td>\n      <td>Level 2</td>\n      <td>95</td>\n      <td>Custom crate</td>\n      <td>RoHS, REACH</td>\n      <td>Safety interlocks during operation</td>\n      <td>180.0</td>\n    </tr>\n    <tr>\n      <th>53</th>\n      <td>53</td>\n      <td>2027-06-01 08:00:00</td>\n      <td>GC-002</td>\n      <td>99001</td>\n      <td>Gas Chromatography Module</td>\n      <td>1</td>\n      <td>Stainless Steel, Glass</td>\n      <td>Vendor BBB</td>\n      <td>15000</td>\n      <td>12 weeks</td>\n      <td>...</td>\n      <td>GC Integration</td>\n      <td>SEMI S567</td>\n      <td>Separation Efficiency Test</td>\n      <td>Provided by vendor</td>\n      <td>Level 1</td>\n      <td>50</td>\n      <td>Custom packaging</td>\n      <td>RoHS, REACH</td>\n      <td>-</td>\n      <td>140.0</td>\n    </tr>\n    <tr>\n      <th>54</th>\n      <td>54</td>\n      <td>2027-07-01 08:00:00</td>\n      <td>HVM-002</td>\n      <td>11223</td>\n      <td>High-Voltage Modulator</td>\n      <td>1</td>\n      <td>Copper, Ceramic</td>\n      <td>Vendor CCC</td>\n      <td>10000</td>\n      <td>8 weeks</td>\n      <td>...</td>\n      <td>HVM Integration</td>\n      <td>SEMI S789</td>\n      <td>Voltage Modulation Test</td>\n      <td>Provided by vendor</td>\n      <td>Level 1</td>\n      <td>25</td>\n      <td>Custom crate</td>\n      <td>RoHS, REACH</td>\n      <td>-</td>\n      <td>120.0</td>\n    </tr>\n    <tr>\n      <th>55</th>\n      <td>55</td>\n      <td>2027-08-01 08:00:00</td>\n      <td>FTS-001</td>\n      <td>33445</td>\n      <td>Fourier Transform Spectrometer Module</td>\n      <td>1</td>\n      <td>Zinc Sulfide, Aluminum</td>\n      <td>Vendor DDD</td>\n      <td>28000</td>\n      <td>22 weeks</td>\n      <td>...</td>\n      <td>FTS Integration</td>\n      <td>SEMI S456</td>\n      <td>Spectral Resolution Test</td>\n      <td>Provided by vendor</td>\n      <td>Level 2</td>\n      <td>80</td>\n      <td>Custom packaging</td>\n      <td>RoHS, REACH</td>\n      <td>Safety interlocks during operation</td>\n      <td>200.0</td>\n    </tr>\n    <tr>\n      <th>56</th>\n      <td>56</td>\n      <td>2027-09-01 08:00:00</td>\n      <td>ION-002</td>\n      <td>55667</td>\n      <td>Ion Implantation Module</td>\n      <td>1</td>\n      <td>Titanium, Silicon</td>\n      <td>Vendor EEE</td>\n      <td>22000</td>\n      <td>15 weeks</td>\n      <td>...</td>\n      <td>Ion Implantation Process</td>\n      <td>SEMI S678</td>\n      <td>Ion Dose Uniformity Test</td>\n      <td>Provided by vendor</td>\n      <td>Level 2</td>\n      <td>85</td>\n      <td>Custom crate</td>\n      <td>RoHS, REACH</td>\n      <td>Safety interlocks during operation</td>\n      <td>190.0</td>\n    </tr>\n    <tr>\n      <th>57</th>\n      <td>57</td>\n      <td>2027-10-01 08:00:00</td>\n      <td>EMF-002</td>\n      <td>77889</td>\n      <td>Electrostatic Magnetic Field Module</td>\n      <td>1</td>\n      <td>Ferrite, Copper</td>\n      <td>Vendor FFF</td>\n      <td>16000</td>\n      <td>14 weeks</td>\n      <td>...</td>\n      <td>EMF Integration</td>\n      <td>SEMI S234</td>\n      <td>Magnetic Field Strength Test</td>\n      <td>Provided by vendor</td>\n      <td>Level 1</td>\n      <td>55</td>\n      <td>Custom crate</td>\n      <td>RoHS, REACH</td>\n      <td>-</td>\n      <td>150.0</td>\n    </tr>\n    <tr>\n      <th>58</th>\n      <td>58</td>\n      <td>2027-11-01 08:00:00</td>\n      <td>UTS-002</td>\n      <td>99001</td>\n      <td>Ultrasonic Testing System</td>\n      <td>1</td>\n      <td>Polyethylene, Aluminum</td>\n      <td>Vendor XYZ</td>\n      <td>15000</td>\n      <td>12 weeks</td>\n      <td>...</td>\n      <td>Ultrasonic Testing Integration</td>\n      <td>SEMI S345</td>\n      <td>Ultrasonic Testing</td>\n      <td>Provided by vendor</td>\n      <td>Level 1</td>\n      <td>50</td>\n      <td>Custom packaging</td>\n      <td>RoHS, REACH</td>\n      <td>Safety interlocks during operation</td>\n      <td>140.0</td>\n    </tr>\n  </tbody>\n</table>\n<p>59 rows × 23 columns</p>\n</div>"
     },
     "execution_count": 4,
     "metadata": {},
     "output_type": "execute_result"
    }
   ],
   "source": [
    "df = pd.read_csv('../dataset/Out_102.csv')\n",
    "df"
   ],
   "metadata": {
    "collapsed": false,
    "ExecuteTime": {
     "end_time": "2023-11-30T09:10:40.949762Z",
     "start_time": "2023-11-30T09:10:40.905483Z"
    }
   },
   "id": "af3279d72bd3ff7d"
  },
  {
   "cell_type": "code",
   "execution_count": 4,
   "outputs": [],
   "source": [
    "df = df.drop(columns=['Safety_Considerations'])"
   ],
   "metadata": {
    "collapsed": false,
    "ExecuteTime": {
     "end_time": "2023-11-28T11:37:11.623383Z",
     "start_time": "2023-11-28T11:37:11.601437Z"
    }
   },
   "id": "fc424ec01a5f577c"
  },
  {
   "cell_type": "code",
   "execution_count": 5,
   "outputs": [
    {
     "data": {
      "text/plain": "Unnamed: 0                  59\nTimestamp                   59\nComponent_Name              59\nPart_Number                 10\nDescription                 59\nQuantity                     1\nMaterial                    44\nSupplier                    59\nUnit_Cost                   12\nLead_Time                    9\nCriticality                  2\nSource_of_Supply             1\nRevision_Level               5\nManufacturing_Process       56\nQuality_Standards            9\nTesting_Requirements        55\nAssembly_Instructions        1\nSubassembly_Level            3\nWeight                      19\nPackaging_Information        3\nEnvironmental_Compliance     1\nDemand                      16\ndtype: int64"
     },
     "execution_count": 5,
     "metadata": {},
     "output_type": "execute_result"
    }
   ],
   "source": [
    "df.nunique()"
   ],
   "metadata": {
    "collapsed": false,
    "ExecuteTime": {
     "end_time": "2023-11-28T11:37:11.623921Z",
     "start_time": "2023-11-28T11:37:11.606435Z"
    }
   },
   "id": "cea3547ab70adf25"
  },
  {
   "cell_type": "code",
   "execution_count": 6,
   "outputs": [
    {
     "data": {
      "text/plain": "0     200\n1      50\n2      30\n3     100\n4      40\n5      80\n6      60\n7     120\n8      45\n9      90\n10    100\n11    150\n12     70\n13     50\n14     30\n15     40\n16     75\n17     40\n18     85\n19     55\n20    120\n21     70\n22     35\n23     95\n24     50\n25     25\n26     85\n27     55\n28     40\n29    110\n30     75\n31     35\n32     95\n33     50\n34     25\n35     80\n36     85\n37     55\n38     40\n39    110\n40     75\n41     35\n42     95\n43     50\n44     25\n45     80\n46     85\n47     55\n48     40\n49    110\n50     75\n51     35\n52     95\n53     50\n54     25\n55     80\n56     85\n57     55\n58     50\nName: Weight, dtype: int64"
     },
     "execution_count": 6,
     "metadata": {},
     "output_type": "execute_result"
    }
   ],
   "source": [
    "df['Weight']"
   ],
   "metadata": {
    "collapsed": false,
    "ExecuteTime": {
     "end_time": "2023-11-28T11:37:11.624104Z",
     "start_time": "2023-11-28T11:37:11.610156Z"
    }
   },
   "id": "b3ea7935c66b7e7d"
  },
  {
   "cell_type": "code",
   "execution_count": 7,
   "outputs": [],
   "source": [
    "df[\"Weight\"] = df[\"Weight\"].apply(lambda x: str(x).strip(\" kg\"))"
   ],
   "metadata": {
    "collapsed": false,
    "ExecuteTime": {
     "end_time": "2023-11-28T11:37:11.625327Z",
     "start_time": "2023-11-28T11:37:11.613149Z"
    }
   },
   "id": "620a58b7a503fca5"
  },
  {
   "cell_type": "code",
   "execution_count": 8,
   "outputs": [
    {
     "data": {
      "text/plain": "0     False\n1     False\n2     False\n3     False\n4     False\n5     False\n6     False\n7     False\n8     False\n9     False\n10    False\n11    False\n12    False\n13    False\n14    False\n15    False\n16    False\n17    False\n18    False\n19    False\n20    False\n21    False\n22    False\n23    False\n24    False\n25    False\n26    False\n27    False\n28    False\n29    False\n30    False\n31    False\n32    False\n33    False\n34    False\n35    False\n36    False\n37    False\n38    False\n39    False\n40    False\n41    False\n42    False\n43    False\n44    False\n45    False\n46    False\n47    False\n48    False\n49    False\n50    False\n51    False\n52    False\n53    False\n54    False\n55    False\n56    False\n57    False\n58    False\nName: Weight, dtype: bool"
     },
     "execution_count": 8,
     "metadata": {},
     "output_type": "execute_result"
    }
   ],
   "source": [
    "df['Weight']=='nan'"
   ],
   "metadata": {
    "collapsed": false,
    "ExecuteTime": {
     "end_time": "2023-11-28T11:37:11.625528Z",
     "start_time": "2023-11-28T11:37:11.615771Z"
    }
   },
   "id": "f21eb70240ee7f38"
  },
  {
   "cell_type": "code",
   "execution_count": 9,
   "outputs": [
    {
     "data": {
      "text/plain": "Empty DataFrame\nColumns: [Unnamed: 0, Timestamp, Component_Name, Part_Number, Description, Quantity, Material, Supplier, Unit_Cost, Lead_Time, Criticality, Source_of_Supply, Revision_Level, Manufacturing_Process, Quality_Standards, Testing_Requirements, Assembly_Instructions, Subassembly_Level, Weight, Packaging_Information, Environmental_Compliance, Demand]\nIndex: []\n\n[0 rows x 22 columns]",
      "text/html": "<div>\n<style scoped>\n    .dataframe tbody tr th:only-of-type {\n        vertical-align: middle;\n    }\n\n    .dataframe tbody tr th {\n        vertical-align: top;\n    }\n\n    .dataframe thead th {\n        text-align: right;\n    }\n</style>\n<table border=\"1\" class=\"dataframe\">\n  <thead>\n    <tr style=\"text-align: right;\">\n      <th></th>\n      <th>Unnamed: 0</th>\n      <th>Timestamp</th>\n      <th>Component_Name</th>\n      <th>Part_Number</th>\n      <th>Description</th>\n      <th>Quantity</th>\n      <th>Material</th>\n      <th>Supplier</th>\n      <th>Unit_Cost</th>\n      <th>Lead_Time</th>\n      <th>...</th>\n      <th>Revision_Level</th>\n      <th>Manufacturing_Process</th>\n      <th>Quality_Standards</th>\n      <th>Testing_Requirements</th>\n      <th>Assembly_Instructions</th>\n      <th>Subassembly_Level</th>\n      <th>Weight</th>\n      <th>Packaging_Information</th>\n      <th>Environmental_Compliance</th>\n      <th>Demand</th>\n    </tr>\n  </thead>\n  <tbody>\n  </tbody>\n</table>\n<p>0 rows × 22 columns</p>\n</div>"
     },
     "execution_count": 9,
     "metadata": {},
     "output_type": "execute_result"
    }
   ],
   "source": [
    "df[df['Weight']=='nan']"
   ],
   "metadata": {
    "collapsed": false,
    "ExecuteTime": {
     "end_time": "2023-11-28T11:37:11.634302Z",
     "start_time": "2023-11-28T11:37:11.618183Z"
    }
   },
   "id": "840ddb40f817284c"
  },
  {
   "cell_type": "code",
   "execution_count": 10,
   "outputs": [],
   "source": [
    "condition = df['Weight']=='nan'\n",
    "df.loc[condition,'Weight'] = 40"
   ],
   "metadata": {
    "collapsed": false,
    "ExecuteTime": {
     "end_time": "2023-11-28T11:37:11.648798Z",
     "start_time": "2023-11-28T11:37:11.624324Z"
    }
   },
   "id": "f3e730e0e9494149"
  },
  {
   "cell_type": "code",
   "execution_count": 11,
   "outputs": [],
   "source": [
    "df.loc[condition,'Subassembly_Level'] = 'level 1'\n",
    "df.loc[condition,'Demand'] = 164"
   ],
   "metadata": {
    "collapsed": false,
    "ExecuteTime": {
     "end_time": "2023-11-28T11:37:11.648970Z",
     "start_time": "2023-11-28T11:37:11.627408Z"
    }
   },
   "id": "1354f78262c68d"
  },
  {
   "cell_type": "code",
   "execution_count": 12,
   "outputs": [
    {
     "data": {
      "text/plain": "    Unnamed: 0            Timestamp Component_Name  Part_Number  \\\n0            0  2023-01-01 08:00:00        CHM-001        12345   \n1            1  2023-02-01 08:00:00        LID-001        54321   \n2            2  2023-03-01 08:00:00        GDS-001        67890   \n3            3  2023-04-01 08:00:00        PSA-001        11223   \n4            4  2023-05-01 08:00:00        WHS-001        33445   \n5            5  2023-06-01 08:00:00        ISA-002        55667   \n6            6  2023-07-01 08:00:00         CS-002        77889   \n7            7  2023-08-01 08:00:00        PSU-002        99001   \n8            8  2023-09-01 08:00:00        GPS-002        11223   \n9            9  2023-10-01 08:00:00        TCU-002        33445   \n10          10  2023-11-01 08:00:00         EC-002        55667   \n11          11  2023-12-01 08:00:00         VS-002        77889   \n12          12  2024-01-01 08:00:00        PCU-002        99001   \n13          13  2024-02-01 08:00:00       GFMS-002        11223   \n14          14  2024-03-01 08:00:00        WLS-002        33445   \n15          15  2024-04-01 08:00:00        PDM-002        55667   \n16          16  2024-05-01 08:00:00        NEW-001        78901   \n17          17  2024-06-01 08:00:00       MEMS-002        12345   \n18          18  2024-07-01 08:00:00        AFM-001        56789   \n19          19  2024-08-01 08:00:00        RFI-002        11223   \n20          20  2024-09-01 08:00:00        EUV-001        33445   \n21          21  2024-10-01 08:00:00       NANO-002        55667   \n22          22  2024-11-01 08:00:00        PCB-002        77889   \n23          23  2024-12-01 08:00:00        MIR-001        99001   \n24          24  2025-01-01 08:00:00        PLC-002        11223   \n25          25  2025-02-01 08:00:00      PHOTO-002        33445   \n26          26  2025-03-01 08:00:00       FTIR-001        55667   \n27          27  2025-04-01 08:00:00        CMP-002        77889   \n28          28  2025-05-01 08:00:00        HGA-001        99001   \n29          29  2025-06-01 08:00:00        MAS-002        11223   \n30          30  2025-07-01 08:00:00        THZ-001        33445   \n31          31  2025-08-01 08:00:00        RFQ-002        55667   \n32          32  2025-09-01 08:00:00        TOF-001        77889   \n33          33  2025-10-01 08:00:00        DAC-002        99001   \n34          34  2025-11-01 08:00:00         LC-002        11223   \n35          35  2025-12-01 08:00:00        EDA-001        33445   \n36          36  2026-01-01 08:00:00        AFR-002        55667   \n37          37  2026-02-01 08:00:00        PMS-001        77889   \n38          38  2026-03-01 08:00:00        HEA-002        99001   \n39          39  2026-04-01 08:00:00        MFM-002        11223   \n40          40  2026-05-01 08:00:00        DIE-001        33445   \n41          41  2026-06-01 08:00:00        LPC-002        55667   \n42          42  2026-07-01 08:00:00        PRA-001        77889   \n43          43  2026-08-01 08:00:00        RMS-002        99001   \n44          44  2026-09-01 08:00:00        ACU-002        11223   \n45          45  2026-10-01 08:00:00        SPA-001        33445   \n46          46  2026-11-01 08:00:00        CVL-002        55667   \n47          47  2026-12-01 08:00:00        PCS-002        77889   \n48          48  2027-01-01 08:00:00        RFS-002        99001   \n49          49  2027-02-01 08:00:00        DTP-001        11223   \n50          50  2027-03-01 08:00:00        LBC-002        33445   \n51          51  2027-04-01 08:00:00        DAS-002        55667   \n52          52  2027-05-01 08:00:00        SPS-001        77889   \n53          53  2027-06-01 08:00:00         GC-002        99001   \n54          54  2027-07-01 08:00:00        HVM-002        11223   \n55          55  2027-08-01 08:00:00        FTS-001        33445   \n56          56  2027-09-01 08:00:00        ION-002        55667   \n57          57  2027-10-01 08:00:00        EMF-002        77889   \n58          58  2027-11-01 08:00:00        UTS-002        99001   \n\n                                       Description  Quantity  \\\n0                                Main chamber body         1   \n1                                  Lid for chamber         1   \n2                        Gas distribution manifold         1   \n3    RF Generator and Electrostatic Chuck Assembly         1   \n4                        Robot arm and wafer chuck         1   \n5                    Ion source for plasma etching         1   \n6                       Closed-loop coolant system         1   \n7                        High-voltage power supply         1   \n8                  Gas purification and filtration         1   \n9                    Precision temperature control         1   \n10         Specialized chamber for etching process         1   \n11                  High-performance vacuum system         1   \n12            Control system for plasma parameters         1   \n13           System for controlling gas flow rates         1   \n14          System for loading wafers into chamber         1   \n15          Diagnostic tools for monitoring plasma         1   \n16                          Advanced Plasma Source         1   \n17                            Micro-Etching Module         1   \n18              Atomic Force Microscope Attachment         1   \n19                   Remote Plasma Inspection Unit         1   \n20                Extreme Ultraviolet Light Source         1   \n21                  Nanoparticle Deposition Module         1   \n22                      Plasma Cleaning Brush Unit         1   \n23                Mid-Infrared Spectroscopy Module         1   \n24                           Plasma Control System         1   \n25               Photolithography Enhancement Unit         1   \n26  Fourier Transform Infrared Spectroscopy Module         1   \n27              Chemical Mechanical Polishing Unit         1   \n28                    Hydrogen Gas Activation Unit         1   \n29                      Mass Spectrometry Analyzer         1   \n30                   Terahertz Spectroscopy Module         1   \n31                 Radio Frequency Quadrupole Unit         1   \n32         Time-of-Flight Mass Spectrometry Module         1   \n33                     Digital-to-Analog Converter         1   \n34                      Liquid Chromatography Unit         1   \n35            Electrochemical Deposition Apparatus         1   \n36                   Atomic Force Resonance Module         1   \n37                        Plasma Monitoring System         1   \n38                         High-Energy Accelerator         1   \n39                Magnetic Field Manipulation Unit         1   \n40               Dielectric Barrier Discharge Unit         1   \n41                     Low-Pressure Chamber Module         1   \n42                       Plasma Resonance Analyzer         1   \n43               Reactive Mass Spectrometry Module         1   \n44                           Acoustic Control Unit         1   \n45               Spectroscopic Ellipsometry Module         1   \n46                         Cathode Voltage Limiter         1   \n47                  Plasma Control Software System         1   \n48                           Residual Gas Analyzer         1   \n49                    Dynamic Temperature Profiler         1   \n50                     Laser Beam Collimation Unit         1   \n51                         Data Acquisition System         1   \n52                Scanning Probe Microscopy System         1   \n53                       Gas Chromatography Module         1   \n54                          High-Voltage Modulator         1   \n55           Fourier Transform Spectrometer Module         1   \n56                         Ion Implantation Module         1   \n57             Electrostatic Magnetic Field Module         1   \n58                       Ultrasonic Testing System         1   \n\n                          Material    Supplier  Unit_Cost Lead_Time  ...  \\\n0                  Stainless Steel    Vendor A      10000  12 weeks  ...   \n1                   Aluminum Alloy    Vendor B       5000   8 weeks  ...   \n2                  Stainless Steel    Vendor C       8000  10 weeks  ...   \n3                          Various    Vendor D      20000  14 weeks  ...   \n4          Aluminum Alloy, Ceramic    Vendor E      15000  16 weeks  ...   \n5                         Titanium    Vendor F      18000  15 weeks  ...   \n6                  Stainless Steel    Vendor G      12000  10 weeks  ...   \n7                  Copper, Silicon    Vendor H      25000  18 weeks  ...   \n8                    Polypropylene    Vendor I      15000  12 weeks  ...   \n9                          Inconel    Vendor J      20000  14 weeks  ...   \n10                          Quartz    Vendor K      22000  16 weeks  ...   \n11                 Stainless Steel    Vendor L      30000  20 weeks  ...   \n12           Electronic Components    Vendor M      15000  12 weeks  ...   \n13                 Stainless Steel    Vendor N      16000  14 weeks  ...   \n14                  Aluminum Alloy    Vendor O      10000   8 weeks  ...   \n15                         Various    Vendor P      28000  22 weeks  ...   \n16                         Ceramic    Vendor Q      22000  15 weeks  ...   \n17                         Silicon    Vendor R      18000  12 weeks  ...   \n18                 Titanium, Glass    Vendor S      25000  18 weeks  ...   \n19                 Stainless Steel    Vendor T      16000  14 weeks  ...   \n20                Optical Elements    Vendor U      30000  20 weeks  ...   \n21                   Gold, Polymer    Vendor V      20000  16 weeks  ...   \n22                Carbon Composite    Vendor W      12000  10 weeks  ...   \n23                   Zinc Selenide    Vendor X      28000  22 weeks  ...   \n24           Electronic Components    Vendor Y      15000  12 weeks  ...   \n25                   Glass, Quartz    Vendor Z      10000   8 weeks  ...   \n26                    Zinc Sulfide   Vendor AA      22000  15 weeks  ...   \n27           Ceramic, Polyurethane   Vendor BB      16000  14 weeks  ...   \n28                 Stainless Steel   Vendor CC      18000  12 weeks  ...   \n29           Aluminum Alloy, Glass   Vendor DD      25000  18 weeks  ...   \n30           Polyethylene, Silicon   Vendor EE      20000  16 weeks  ...   \n31                  Copper, Teflon   Vendor FF      12000  10 weeks  ...   \n32                    Gold, Quartz   Vendor GG      30000  20 weeks  ...   \n33           Electronic Components   Vendor HH      15000  12 weeks  ...   \n34          Stainless Steel, Glass   Vendor II      10000   8 weeks  ...   \n35         Titanium, Polypropylene   Vendor JJ      28000  22 weeks  ...   \n36               Silicon, Aluminum   Vendor KK      22000  15 weeks  ...   \n37  Electronic Components, Ceramic   Vendor LL      16000  14 weeks  ...   \n38          Copper, Magnetic Alloy   Vendor MM      18000  12 weeks  ...   \n39                 Ferrite, Copper   Vendor NN      25000  18 weeks  ...   \n40    Quartz, Dielectric Materials   Vendor OO      20000  16 weeks  ...   \n41   Stainless Steel, Polyethylene   Vendor PP      12000  10 weeks  ...   \n42                 Aluminum, Glass   Vendor QQ      30000  20 weeks  ...   \n43                Titanium, Quartz   Vendor RR      15000  12 weeks  ...   \n44               Plastic, Aluminum   Vendor SS      10000   8 weeks  ...   \n45                  Silicon, Glass   Vendor TT      28000  22 weeks  ...   \n46                 Copper, Ceramic   Vendor UU      22000  15 weeks  ...   \n47                        Software   Vendor VV      16000  14 weeks  ...   \n48          Stainless Steel, Glass   Vendor WW      18000  12 weeks  ...   \n49           Inconel, Polyurethane   Vendor XX      25000  18 weeks  ...   \n50         Aluminum, Optical Glass   Vendor YY      20000  16 weeks  ...   \n51           Electronic Components   Vendor ZZ      12000  10 weeks  ...   \n52                Ceramic, Silicon  Vendor AAA      30000  20 weeks  ...   \n53          Stainless Steel, Glass  Vendor BBB      15000  12 weeks  ...   \n54                 Copper, Ceramic  Vendor CCC      10000   8 weeks  ...   \n55          Zinc Sulfide, Aluminum  Vendor DDD      28000  22 weeks  ...   \n56               Titanium, Silicon  Vendor EEE      22000  15 weeks  ...   \n57                 Ferrite, Copper  Vendor FFF      16000  14 weeks  ...   \n58          Polyethylene, Aluminum  Vendor XYZ      15000  12 weeks  ...   \n\n   Revision_Level           Manufacturing_Process Quality_Standards  \\\n0             A.1          CNC Machining, Welding         SEMI S123   \n1             A.1                   CNC Machining         SEMI S456   \n2             A.2             Precision Machining         SEMI S789   \n3             A.3       Integration of Components         SEMI S234   \n4             A.1                Robotic Assembly         SEMI S567   \n5             B.1         Laser Cutting, Assembly         SEMI S890   \n6             A.2                   CNC Machining         SEMI S678   \n7             A.1             Electronic Assembly         SEMI S345   \n8             A.1     Filtration and Purification         SEMI S456   \n9             B.2          Thermoelectric Cooling         SEMI S789   \n10            A.3              Quartz Fabrication         SEMI S234   \n11            B.1               Vacuum Technology         SEMI S567   \n12            A.1             Electronic Assembly         SEMI S345   \n13            A.2           Flow Rate Calibration         SEMI S678   \n14            B.2               Automated Loading         SEMI S567   \n15            A.3      Integration of Diagnostics         SEMI S234   \n16            A.2      Advanced Plasma Generation         SEMI S890   \n17            A.1                MEMS Fabrication         SEMI S456   \n18            A.3                 AFM Integration         SEMI S567   \n19            A.2        Remote Plasma Technology         SEMI S678   \n20            B.1                  EUV Technology         SEMI S234   \n21            A.3         Nanoparticle Deposition         SEMI S345   \n22            B.2         Plasma Brush Technology         SEMI S567   \n23            A.1    MIR Spectroscopy Integration         SEMI S789   \n24            A.1             Electronic Assembly         SEMI S456   \n25            B.2    Photolithography Integration         SEMI S678   \n26            A.3   FTIR Spectroscopy Integration         SEMI S234   \n27            A.2                  CMP Technology         SEMI S567   \n28            B.1     Hydrogen Activation Process         SEMI S789   \n29            A.1                 MAS Integration         SEMI S456   \n30            B.2    THZ Spectroscopy Integration         SEMI S678   \n31            A.3                 RFQ Integration         SEMI S234   \n32            A.2              TOF-MS Integration         SEMI S567   \n33            B.1         Electronics Integration         SEMI S345   \n34            A.1                  LC Integration         SEMI S456   \n35            A.3                 EDA Integration         SEMI S789   \n36            B.2                 AFR Integration         SEMI S234   \n37            A.2                 PMS Integration         SEMI S567   \n38            A.1                 HEA Integration         SEMI S678   \n39            A.3                 MFM Integration         SEMI S456   \n40            B.2                 DBD Integration         SEMI S567   \n41            A.2                 LPC Integration         SEMI S234   \n42            A.1                 PRA Integration         SEMI S678   \n43            B.1                 RMS Integration         SEMI S345   \n44            A.3                 ACU Integration         SEMI S456   \n45            A.2                 SPA Integration         SEMI S789   \n46            B.2                 CVL Integration         SEMI S234   \n47            A.1            Software Development          ISO 9001   \n48            A.1                 RFS Integration         SEMI S567   \n49            B.1                 DTP Integration         SEMI S345   \n50            A.3                 LBC Integration         SEMI S456   \n51            A.2                 DAS Integration         SEMI S678   \n52            A.1                 SPS Integration         SEMI S234   \n53            B.2                  GC Integration         SEMI S567   \n54            A.3                 HVM Integration         SEMI S789   \n55            A.2                 FTS Integration         SEMI S456   \n56            B.2        Ion Implantation Process         SEMI S678   \n57            A.3                 EMF Integration         SEMI S234   \n58            B.1  Ultrasonic Testing Integration         SEMI S345   \n\n                 Testing_Requirements Assembly_Instructions Subassembly_Level  \\\n0                    Helium Leak Test    Provided by vendor           Level 1   \n1                   Visual Inspection    Provided by vendor           Level 1   \n2                           Leak Test    Provided by vendor           Level 2   \n3                    Electrical Tests    Provided by vendor           Level 2   \n4                    Functional Tests    Provided by vendor           Level 2   \n5              Mass Spectrometry Test    Provided by vendor           Level 2   \n6                       Pressure Test    Provided by vendor           Level 1   \n7             Electrical Safety Tests    Provided by vendor           Level 2   \n8                 Gas Purity Analysis    Provided by vendor           Level 1   \n9          Temperature Stability Test    Provided by vendor           Level 2   \n10                  Visual Inspection    Provided by vendor           Level 2   \n11              Vacuum Integrity Test    Provided by vendor           Level 2   \n12                   Electrical Tests    Provided by vendor           Level 1   \n13            Gas Flow Stability Test    Provided by vendor           Level 1   \n14                      Robotic Tests    Provided by vendor           Level 1   \n15       Diagnostics Performance Test    Provided by vendor           level 1   \n16            Ion Energy Distribution    Provided by vendor           Level 2   \n17           Microstructural Analysis    Provided by vendor           Level 1   \n18                AFM Resolution Test    Provided by vendor           Level 2   \n19             Plasma Uniformity Test    Provided by vendor           Level 1   \n20           Wavelength Accuracy Test    Provided by vendor           Level 2   \n21         Nanoparticle Size Analysis    Provided by vendor           Level 2   \n22           Cleaning Efficiency Test    Provided by vendor           Level 1   \n23           Spectral Resolution Test    Provided by vendor           Level 2   \n24               Control System Tests    Provided by vendor           Level 1   \n25        Resolution Enhancement Test    Provided by vendor           Level 1   \n26             Spectral Analysis Test    Provided by vendor           Level 2   \n27          Polishing Uniformity Test    Provided by vendor           Level 1   \n28         Activation Efficiency Test    Provided by vendor           Level 1   \n29               Mass Resolution Test    Provided by vendor           Level 2   \n30            Terahertz Wave Analysis    Provided by vendor           Level 2   \n31                 RFQ Stability Test    Provided by vendor           Level 1   \n32                 Mass Accuracy Test    Provided by vendor           Level 2   \n33        Analog Signal Accuracy Test    Provided by vendor           Level 1   \n34         Separation Efficiency Test    Provided by vendor           Level 1   \n35         Deposition Uniformity Test    Provided by vendor           Level 2   \n36           Resonance Frequency Test    Provided by vendor           Level 2   \n37    Plasma Characteristics Analysis    Provided by vendor           Level 1   \n38         Particle Acceleration Test    Provided by vendor           Level 1   \n39     Magnetic Field Uniformity Test    Provided by vendor           Level 2   \n40  Dielectric Barrier Discharge Test    Provided by vendor           Level 2   \n41           Pressure Uniformity Test    Provided by vendor           Level 1   \n42    Plasma Resonance Frequency Test    Provided by vendor           Level 2   \n43           Reactive Ionization Test    Provided by vendor           Level 1   \n44         Acoustic Wave Control Test    Provided by vendor           Level 1   \n45         Ellipsometry Accuracy Test    Provided by vendor           Level 2   \n46              Voltage Limiting Test    Provided by vendor           Level 2   \n47                   Software Testing    Provided by vendor           Level 1   \n48           Gas Composition Analysis    Provided by vendor           Level 1   \n49           Temperature Profile Test    Provided by vendor           Level 2   \n50     Beam Collimation Accuracy Test    Provided by vendor           Level 2   \n51                 Data Accuracy Test    Provided by vendor           Level 1   \n52                    Resolution Test    Provided by vendor           Level 2   \n53         Separation Efficiency Test    Provided by vendor           Level 1   \n54            Voltage Modulation Test    Provided by vendor           Level 1   \n55           Spectral Resolution Test    Provided by vendor           Level 2   \n56           Ion Dose Uniformity Test    Provided by vendor           Level 2   \n57       Magnetic Field Strength Test    Provided by vendor           Level 1   \n58                 Ultrasonic Testing    Provided by vendor           Level 1   \n\n   Weight Packaging_Information Environmental_Compliance Demand  \n0     200          Custom crate              RoHS, REACH  150.0  \n1      50      Custom packaging              RoHS, REACH  120.0  \n2      30          Custom crate              RoHS, REACH   90.0  \n3     100      Custom packaging              RoHS, REACH  180.0  \n4      40          Custom crate              RoHS, REACH  200.0  \n5      80      Custom packaging              RoHS, REACH  160.0  \n6      60          Custom crate              RoHS, REACH  110.0  \n7     120      Custom packaging              RoHS, REACH  220.0  \n8      45          Custom crate              RoHS, REACH  100.0  \n9      90      Custom packaging              RoHS, REACH  130.0  \n10    100      Custom packaging              RoHS, REACH  190.0  \n11    150          Custom crate              RoHS, REACH  240.0  \n12     70      Custom packaging              RoHS, REACH  210.0  \n13     50          Custom crate              RoHS, REACH  180.0  \n14     30      Custom packaging              RoHS, REACH  160.0  \n15     40                   NaN                      NaN  164.0  \n16     75      Custom packaging              RoHS, REACH  170.0  \n17     40          Custom crate              RoHS, REACH  130.0  \n18     85      Custom packaging              RoHS, REACH  190.0  \n19     55          Custom crate              RoHS, REACH  150.0  \n20    120      Custom packaging              RoHS, REACH  220.0  \n21     70      Custom packaging              RoHS, REACH  200.0  \n22     35          Custom crate              RoHS, REACH  110.0  \n23     95      Custom packaging              RoHS, REACH  180.0  \n24     50          Custom crate              RoHS, REACH  160.0  \n25     25      Custom packaging              RoHS, REACH  140.0  \n26     85      Custom packaging              RoHS, REACH  190.0  \n27     55          Custom crate              RoHS, REACH  150.0  \n28     40      Custom packaging              RoHS, REACH  170.0  \n29    110          Custom crate              RoHS, REACH  220.0  \n30     75      Custom packaging              RoHS, REACH  160.0  \n31     35          Custom crate              RoHS, REACH  130.0  \n32     95      Custom packaging              RoHS, REACH  180.0  \n33     50          Custom crate              RoHS, REACH  140.0  \n34     25      Custom packaging              RoHS, REACH  120.0  \n35     80          Custom crate              RoHS, REACH  200.0  \n36     85      Custom packaging              RoHS, REACH  190.0  \n37     55          Custom crate              RoHS, REACH  150.0  \n38     40      Custom packaging              RoHS, REACH  170.0  \n39    110          Custom crate              RoHS, REACH  220.0  \n40     75      Custom packaging              RoHS, REACH  160.0  \n41     35          Custom crate              RoHS, REACH  130.0  \n42     95          Custom crate              RoHS, REACH  180.0  \n43     50      Custom packaging              RoHS, REACH  140.0  \n44     25          Custom crate              RoHS, REACH  120.0  \n45     80      Custom packaging              RoHS, REACH  200.0  \n46     85          Custom crate              RoHS, REACH  190.0  \n47     55      Digital delivery              RoHS, REACH  150.0  \n48     40      Custom packaging              RoHS, REACH  170.0  \n49    110          Custom crate              RoHS, REACH  220.0  \n50     75      Custom packaging              RoHS, REACH  160.0  \n51     35          Custom crate              RoHS, REACH  130.0  \n52     95          Custom crate              RoHS, REACH  180.0  \n53     50      Custom packaging              RoHS, REACH  140.0  \n54     25          Custom crate              RoHS, REACH  120.0  \n55     80      Custom packaging              RoHS, REACH  200.0  \n56     85          Custom crate              RoHS, REACH  190.0  \n57     55          Custom crate              RoHS, REACH  150.0  \n58     50      Custom packaging              RoHS, REACH  140.0  \n\n[59 rows x 22 columns]",
      "text/html": "<div>\n<style scoped>\n    .dataframe tbody tr th:only-of-type {\n        vertical-align: middle;\n    }\n\n    .dataframe tbody tr th {\n        vertical-align: top;\n    }\n\n    .dataframe thead th {\n        text-align: right;\n    }\n</style>\n<table border=\"1\" class=\"dataframe\">\n  <thead>\n    <tr style=\"text-align: right;\">\n      <th></th>\n      <th>Unnamed: 0</th>\n      <th>Timestamp</th>\n      <th>Component_Name</th>\n      <th>Part_Number</th>\n      <th>Description</th>\n      <th>Quantity</th>\n      <th>Material</th>\n      <th>Supplier</th>\n      <th>Unit_Cost</th>\n      <th>Lead_Time</th>\n      <th>...</th>\n      <th>Revision_Level</th>\n      <th>Manufacturing_Process</th>\n      <th>Quality_Standards</th>\n      <th>Testing_Requirements</th>\n      <th>Assembly_Instructions</th>\n      <th>Subassembly_Level</th>\n      <th>Weight</th>\n      <th>Packaging_Information</th>\n      <th>Environmental_Compliance</th>\n      <th>Demand</th>\n    </tr>\n  </thead>\n  <tbody>\n    <tr>\n      <th>0</th>\n      <td>0</td>\n      <td>2023-01-01 08:00:00</td>\n      <td>CHM-001</td>\n      <td>12345</td>\n      <td>Main chamber body</td>\n      <td>1</td>\n      <td>Stainless Steel</td>\n      <td>Vendor A</td>\n      <td>10000</td>\n      <td>12 weeks</td>\n      <td>...</td>\n      <td>A.1</td>\n      <td>CNC Machining, Welding</td>\n      <td>SEMI S123</td>\n      <td>Helium Leak Test</td>\n      <td>Provided by vendor</td>\n      <td>Level 1</td>\n      <td>200</td>\n      <td>Custom crate</td>\n      <td>RoHS, REACH</td>\n      <td>150.0</td>\n    </tr>\n    <tr>\n      <th>1</th>\n      <td>1</td>\n      <td>2023-02-01 08:00:00</td>\n      <td>LID-001</td>\n      <td>54321</td>\n      <td>Lid for chamber</td>\n      <td>1</td>\n      <td>Aluminum Alloy</td>\n      <td>Vendor B</td>\n      <td>5000</td>\n      <td>8 weeks</td>\n      <td>...</td>\n      <td>A.1</td>\n      <td>CNC Machining</td>\n      <td>SEMI S456</td>\n      <td>Visual Inspection</td>\n      <td>Provided by vendor</td>\n      <td>Level 1</td>\n      <td>50</td>\n      <td>Custom packaging</td>\n      <td>RoHS, REACH</td>\n      <td>120.0</td>\n    </tr>\n    <tr>\n      <th>2</th>\n      <td>2</td>\n      <td>2023-03-01 08:00:00</td>\n      <td>GDS-001</td>\n      <td>67890</td>\n      <td>Gas distribution manifold</td>\n      <td>1</td>\n      <td>Stainless Steel</td>\n      <td>Vendor C</td>\n      <td>8000</td>\n      <td>10 weeks</td>\n      <td>...</td>\n      <td>A.2</td>\n      <td>Precision Machining</td>\n      <td>SEMI S789</td>\n      <td>Leak Test</td>\n      <td>Provided by vendor</td>\n      <td>Level 2</td>\n      <td>30</td>\n      <td>Custom crate</td>\n      <td>RoHS, REACH</td>\n      <td>90.0</td>\n    </tr>\n    <tr>\n      <th>3</th>\n      <td>3</td>\n      <td>2023-04-01 08:00:00</td>\n      <td>PSA-001</td>\n      <td>11223</td>\n      <td>RF Generator and Electrostatic Chuck Assembly</td>\n      <td>1</td>\n      <td>Various</td>\n      <td>Vendor D</td>\n      <td>20000</td>\n      <td>14 weeks</td>\n      <td>...</td>\n      <td>A.3</td>\n      <td>Integration of Components</td>\n      <td>SEMI S234</td>\n      <td>Electrical Tests</td>\n      <td>Provided by vendor</td>\n      <td>Level 2</td>\n      <td>100</td>\n      <td>Custom packaging</td>\n      <td>RoHS, REACH</td>\n      <td>180.0</td>\n    </tr>\n    <tr>\n      <th>4</th>\n      <td>4</td>\n      <td>2023-05-01 08:00:00</td>\n      <td>WHS-001</td>\n      <td>33445</td>\n      <td>Robot arm and wafer chuck</td>\n      <td>1</td>\n      <td>Aluminum Alloy, Ceramic</td>\n      <td>Vendor E</td>\n      <td>15000</td>\n      <td>16 weeks</td>\n      <td>...</td>\n      <td>A.1</td>\n      <td>Robotic Assembly</td>\n      <td>SEMI S567</td>\n      <td>Functional Tests</td>\n      <td>Provided by vendor</td>\n      <td>Level 2</td>\n      <td>40</td>\n      <td>Custom crate</td>\n      <td>RoHS, REACH</td>\n      <td>200.0</td>\n    </tr>\n    <tr>\n      <th>5</th>\n      <td>5</td>\n      <td>2023-06-01 08:00:00</td>\n      <td>ISA-002</td>\n      <td>55667</td>\n      <td>Ion source for plasma etching</td>\n      <td>1</td>\n      <td>Titanium</td>\n      <td>Vendor F</td>\n      <td>18000</td>\n      <td>15 weeks</td>\n      <td>...</td>\n      <td>B.1</td>\n      <td>Laser Cutting, Assembly</td>\n      <td>SEMI S890</td>\n      <td>Mass Spectrometry Test</td>\n      <td>Provided by vendor</td>\n      <td>Level 2</td>\n      <td>80</td>\n      <td>Custom packaging</td>\n      <td>RoHS, REACH</td>\n      <td>160.0</td>\n    </tr>\n    <tr>\n      <th>6</th>\n      <td>6</td>\n      <td>2023-07-01 08:00:00</td>\n      <td>CS-002</td>\n      <td>77889</td>\n      <td>Closed-loop coolant system</td>\n      <td>1</td>\n      <td>Stainless Steel</td>\n      <td>Vendor G</td>\n      <td>12000</td>\n      <td>10 weeks</td>\n      <td>...</td>\n      <td>A.2</td>\n      <td>CNC Machining</td>\n      <td>SEMI S678</td>\n      <td>Pressure Test</td>\n      <td>Provided by vendor</td>\n      <td>Level 1</td>\n      <td>60</td>\n      <td>Custom crate</td>\n      <td>RoHS, REACH</td>\n      <td>110.0</td>\n    </tr>\n    <tr>\n      <th>7</th>\n      <td>7</td>\n      <td>2023-08-01 08:00:00</td>\n      <td>PSU-002</td>\n      <td>99001</td>\n      <td>High-voltage power supply</td>\n      <td>1</td>\n      <td>Copper, Silicon</td>\n      <td>Vendor H</td>\n      <td>25000</td>\n      <td>18 weeks</td>\n      <td>...</td>\n      <td>A.1</td>\n      <td>Electronic Assembly</td>\n      <td>SEMI S345</td>\n      <td>Electrical Safety Tests</td>\n      <td>Provided by vendor</td>\n      <td>Level 2</td>\n      <td>120</td>\n      <td>Custom packaging</td>\n      <td>RoHS, REACH</td>\n      <td>220.0</td>\n    </tr>\n    <tr>\n      <th>8</th>\n      <td>8</td>\n      <td>2023-09-01 08:00:00</td>\n      <td>GPS-002</td>\n      <td>11223</td>\n      <td>Gas purification and filtration</td>\n      <td>1</td>\n      <td>Polypropylene</td>\n      <td>Vendor I</td>\n      <td>15000</td>\n      <td>12 weeks</td>\n      <td>...</td>\n      <td>A.1</td>\n      <td>Filtration and Purification</td>\n      <td>SEMI S456</td>\n      <td>Gas Purity Analysis</td>\n      <td>Provided by vendor</td>\n      <td>Level 1</td>\n      <td>45</td>\n      <td>Custom crate</td>\n      <td>RoHS, REACH</td>\n      <td>100.0</td>\n    </tr>\n    <tr>\n      <th>9</th>\n      <td>9</td>\n      <td>2023-10-01 08:00:00</td>\n      <td>TCU-002</td>\n      <td>33445</td>\n      <td>Precision temperature control</td>\n      <td>1</td>\n      <td>Inconel</td>\n      <td>Vendor J</td>\n      <td>20000</td>\n      <td>14 weeks</td>\n      <td>...</td>\n      <td>B.2</td>\n      <td>Thermoelectric Cooling</td>\n      <td>SEMI S789</td>\n      <td>Temperature Stability Test</td>\n      <td>Provided by vendor</td>\n      <td>Level 2</td>\n      <td>90</td>\n      <td>Custom packaging</td>\n      <td>RoHS, REACH</td>\n      <td>130.0</td>\n    </tr>\n    <tr>\n      <th>10</th>\n      <td>10</td>\n      <td>2023-11-01 08:00:00</td>\n      <td>EC-002</td>\n      <td>55667</td>\n      <td>Specialized chamber for etching process</td>\n      <td>1</td>\n      <td>Quartz</td>\n      <td>Vendor K</td>\n      <td>22000</td>\n      <td>16 weeks</td>\n      <td>...</td>\n      <td>A.3</td>\n      <td>Quartz Fabrication</td>\n      <td>SEMI S234</td>\n      <td>Visual Inspection</td>\n      <td>Provided by vendor</td>\n      <td>Level 2</td>\n      <td>100</td>\n      <td>Custom packaging</td>\n      <td>RoHS, REACH</td>\n      <td>190.0</td>\n    </tr>\n    <tr>\n      <th>11</th>\n      <td>11</td>\n      <td>2023-12-01 08:00:00</td>\n      <td>VS-002</td>\n      <td>77889</td>\n      <td>High-performance vacuum system</td>\n      <td>1</td>\n      <td>Stainless Steel</td>\n      <td>Vendor L</td>\n      <td>30000</td>\n      <td>20 weeks</td>\n      <td>...</td>\n      <td>B.1</td>\n      <td>Vacuum Technology</td>\n      <td>SEMI S567</td>\n      <td>Vacuum Integrity Test</td>\n      <td>Provided by vendor</td>\n      <td>Level 2</td>\n      <td>150</td>\n      <td>Custom crate</td>\n      <td>RoHS, REACH</td>\n      <td>240.0</td>\n    </tr>\n    <tr>\n      <th>12</th>\n      <td>12</td>\n      <td>2024-01-01 08:00:00</td>\n      <td>PCU-002</td>\n      <td>99001</td>\n      <td>Control system for plasma parameters</td>\n      <td>1</td>\n      <td>Electronic Components</td>\n      <td>Vendor M</td>\n      <td>15000</td>\n      <td>12 weeks</td>\n      <td>...</td>\n      <td>A.1</td>\n      <td>Electronic Assembly</td>\n      <td>SEMI S345</td>\n      <td>Electrical Tests</td>\n      <td>Provided by vendor</td>\n      <td>Level 1</td>\n      <td>70</td>\n      <td>Custom packaging</td>\n      <td>RoHS, REACH</td>\n      <td>210.0</td>\n    </tr>\n    <tr>\n      <th>13</th>\n      <td>13</td>\n      <td>2024-02-01 08:00:00</td>\n      <td>GFMS-002</td>\n      <td>11223</td>\n      <td>System for controlling gas flow rates</td>\n      <td>1</td>\n      <td>Stainless Steel</td>\n      <td>Vendor N</td>\n      <td>16000</td>\n      <td>14 weeks</td>\n      <td>...</td>\n      <td>A.2</td>\n      <td>Flow Rate Calibration</td>\n      <td>SEMI S678</td>\n      <td>Gas Flow Stability Test</td>\n      <td>Provided by vendor</td>\n      <td>Level 1</td>\n      <td>50</td>\n      <td>Custom crate</td>\n      <td>RoHS, REACH</td>\n      <td>180.0</td>\n    </tr>\n    <tr>\n      <th>14</th>\n      <td>14</td>\n      <td>2024-03-01 08:00:00</td>\n      <td>WLS-002</td>\n      <td>33445</td>\n      <td>System for loading wafers into chamber</td>\n      <td>1</td>\n      <td>Aluminum Alloy</td>\n      <td>Vendor O</td>\n      <td>10000</td>\n      <td>8 weeks</td>\n      <td>...</td>\n      <td>B.2</td>\n      <td>Automated Loading</td>\n      <td>SEMI S567</td>\n      <td>Robotic Tests</td>\n      <td>Provided by vendor</td>\n      <td>Level 1</td>\n      <td>30</td>\n      <td>Custom packaging</td>\n      <td>RoHS, REACH</td>\n      <td>160.0</td>\n    </tr>\n    <tr>\n      <th>15</th>\n      <td>15</td>\n      <td>2024-04-01 08:00:00</td>\n      <td>PDM-002</td>\n      <td>55667</td>\n      <td>Diagnostic tools for monitoring plasma</td>\n      <td>1</td>\n      <td>Various</td>\n      <td>Vendor P</td>\n      <td>28000</td>\n      <td>22 weeks</td>\n      <td>...</td>\n      <td>A.3</td>\n      <td>Integration of Diagnostics</td>\n      <td>SEMI S234</td>\n      <td>Diagnostics Performance Test</td>\n      <td>Provided by vendor</td>\n      <td>level 1</td>\n      <td>40</td>\n      <td>NaN</td>\n      <td>NaN</td>\n      <td>164.0</td>\n    </tr>\n    <tr>\n      <th>16</th>\n      <td>16</td>\n      <td>2024-05-01 08:00:00</td>\n      <td>NEW-001</td>\n      <td>78901</td>\n      <td>Advanced Plasma Source</td>\n      <td>1</td>\n      <td>Ceramic</td>\n      <td>Vendor Q</td>\n      <td>22000</td>\n      <td>15 weeks</td>\n      <td>...</td>\n      <td>A.2</td>\n      <td>Advanced Plasma Generation</td>\n      <td>SEMI S890</td>\n      <td>Ion Energy Distribution</td>\n      <td>Provided by vendor</td>\n      <td>Level 2</td>\n      <td>75</td>\n      <td>Custom packaging</td>\n      <td>RoHS, REACH</td>\n      <td>170.0</td>\n    </tr>\n    <tr>\n      <th>17</th>\n      <td>17</td>\n      <td>2024-06-01 08:00:00</td>\n      <td>MEMS-002</td>\n      <td>12345</td>\n      <td>Micro-Etching Module</td>\n      <td>1</td>\n      <td>Silicon</td>\n      <td>Vendor R</td>\n      <td>18000</td>\n      <td>12 weeks</td>\n      <td>...</td>\n      <td>A.1</td>\n      <td>MEMS Fabrication</td>\n      <td>SEMI S456</td>\n      <td>Microstructural Analysis</td>\n      <td>Provided by vendor</td>\n      <td>Level 1</td>\n      <td>40</td>\n      <td>Custom crate</td>\n      <td>RoHS, REACH</td>\n      <td>130.0</td>\n    </tr>\n    <tr>\n      <th>18</th>\n      <td>18</td>\n      <td>2024-07-01 08:00:00</td>\n      <td>AFM-001</td>\n      <td>56789</td>\n      <td>Atomic Force Microscope Attachment</td>\n      <td>1</td>\n      <td>Titanium, Glass</td>\n      <td>Vendor S</td>\n      <td>25000</td>\n      <td>18 weeks</td>\n      <td>...</td>\n      <td>A.3</td>\n      <td>AFM Integration</td>\n      <td>SEMI S567</td>\n      <td>AFM Resolution Test</td>\n      <td>Provided by vendor</td>\n      <td>Level 2</td>\n      <td>85</td>\n      <td>Custom packaging</td>\n      <td>RoHS, REACH</td>\n      <td>190.0</td>\n    </tr>\n    <tr>\n      <th>19</th>\n      <td>19</td>\n      <td>2024-08-01 08:00:00</td>\n      <td>RFI-002</td>\n      <td>11223</td>\n      <td>Remote Plasma Inspection Unit</td>\n      <td>1</td>\n      <td>Stainless Steel</td>\n      <td>Vendor T</td>\n      <td>16000</td>\n      <td>14 weeks</td>\n      <td>...</td>\n      <td>A.2</td>\n      <td>Remote Plasma Technology</td>\n      <td>SEMI S678</td>\n      <td>Plasma Uniformity Test</td>\n      <td>Provided by vendor</td>\n      <td>Level 1</td>\n      <td>55</td>\n      <td>Custom crate</td>\n      <td>RoHS, REACH</td>\n      <td>150.0</td>\n    </tr>\n    <tr>\n      <th>20</th>\n      <td>20</td>\n      <td>2024-09-01 08:00:00</td>\n      <td>EUV-001</td>\n      <td>33445</td>\n      <td>Extreme Ultraviolet Light Source</td>\n      <td>1</td>\n      <td>Optical Elements</td>\n      <td>Vendor U</td>\n      <td>30000</td>\n      <td>20 weeks</td>\n      <td>...</td>\n      <td>B.1</td>\n      <td>EUV Technology</td>\n      <td>SEMI S234</td>\n      <td>Wavelength Accuracy Test</td>\n      <td>Provided by vendor</td>\n      <td>Level 2</td>\n      <td>120</td>\n      <td>Custom packaging</td>\n      <td>RoHS, REACH</td>\n      <td>220.0</td>\n    </tr>\n    <tr>\n      <th>21</th>\n      <td>21</td>\n      <td>2024-10-01 08:00:00</td>\n      <td>NANO-002</td>\n      <td>55667</td>\n      <td>Nanoparticle Deposition Module</td>\n      <td>1</td>\n      <td>Gold, Polymer</td>\n      <td>Vendor V</td>\n      <td>20000</td>\n      <td>16 weeks</td>\n      <td>...</td>\n      <td>A.3</td>\n      <td>Nanoparticle Deposition</td>\n      <td>SEMI S345</td>\n      <td>Nanoparticle Size Analysis</td>\n      <td>Provided by vendor</td>\n      <td>Level 2</td>\n      <td>70</td>\n      <td>Custom packaging</td>\n      <td>RoHS, REACH</td>\n      <td>200.0</td>\n    </tr>\n    <tr>\n      <th>22</th>\n      <td>22</td>\n      <td>2024-11-01 08:00:00</td>\n      <td>PCB-002</td>\n      <td>77889</td>\n      <td>Plasma Cleaning Brush Unit</td>\n      <td>1</td>\n      <td>Carbon Composite</td>\n      <td>Vendor W</td>\n      <td>12000</td>\n      <td>10 weeks</td>\n      <td>...</td>\n      <td>B.2</td>\n      <td>Plasma Brush Technology</td>\n      <td>SEMI S567</td>\n      <td>Cleaning Efficiency Test</td>\n      <td>Provided by vendor</td>\n      <td>Level 1</td>\n      <td>35</td>\n      <td>Custom crate</td>\n      <td>RoHS, REACH</td>\n      <td>110.0</td>\n    </tr>\n    <tr>\n      <th>23</th>\n      <td>23</td>\n      <td>2024-12-01 08:00:00</td>\n      <td>MIR-001</td>\n      <td>99001</td>\n      <td>Mid-Infrared Spectroscopy Module</td>\n      <td>1</td>\n      <td>Zinc Selenide</td>\n      <td>Vendor X</td>\n      <td>28000</td>\n      <td>22 weeks</td>\n      <td>...</td>\n      <td>A.1</td>\n      <td>MIR Spectroscopy Integration</td>\n      <td>SEMI S789</td>\n      <td>Spectral Resolution Test</td>\n      <td>Provided by vendor</td>\n      <td>Level 2</td>\n      <td>95</td>\n      <td>Custom packaging</td>\n      <td>RoHS, REACH</td>\n      <td>180.0</td>\n    </tr>\n    <tr>\n      <th>24</th>\n      <td>24</td>\n      <td>2025-01-01 08:00:00</td>\n      <td>PLC-002</td>\n      <td>11223</td>\n      <td>Plasma Control System</td>\n      <td>1</td>\n      <td>Electronic Components</td>\n      <td>Vendor Y</td>\n      <td>15000</td>\n      <td>12 weeks</td>\n      <td>...</td>\n      <td>A.1</td>\n      <td>Electronic Assembly</td>\n      <td>SEMI S456</td>\n      <td>Control System Tests</td>\n      <td>Provided by vendor</td>\n      <td>Level 1</td>\n      <td>50</td>\n      <td>Custom crate</td>\n      <td>RoHS, REACH</td>\n      <td>160.0</td>\n    </tr>\n    <tr>\n      <th>25</th>\n      <td>25</td>\n      <td>2025-02-01 08:00:00</td>\n      <td>PHOTO-002</td>\n      <td>33445</td>\n      <td>Photolithography Enhancement Unit</td>\n      <td>1</td>\n      <td>Glass, Quartz</td>\n      <td>Vendor Z</td>\n      <td>10000</td>\n      <td>8 weeks</td>\n      <td>...</td>\n      <td>B.2</td>\n      <td>Photolithography Integration</td>\n      <td>SEMI S678</td>\n      <td>Resolution Enhancement Test</td>\n      <td>Provided by vendor</td>\n      <td>Level 1</td>\n      <td>25</td>\n      <td>Custom packaging</td>\n      <td>RoHS, REACH</td>\n      <td>140.0</td>\n    </tr>\n    <tr>\n      <th>26</th>\n      <td>26</td>\n      <td>2025-03-01 08:00:00</td>\n      <td>FTIR-001</td>\n      <td>55667</td>\n      <td>Fourier Transform Infrared Spectroscopy Module</td>\n      <td>1</td>\n      <td>Zinc Sulfide</td>\n      <td>Vendor AA</td>\n      <td>22000</td>\n      <td>15 weeks</td>\n      <td>...</td>\n      <td>A.3</td>\n      <td>FTIR Spectroscopy Integration</td>\n      <td>SEMI S234</td>\n      <td>Spectral Analysis Test</td>\n      <td>Provided by vendor</td>\n      <td>Level 2</td>\n      <td>85</td>\n      <td>Custom packaging</td>\n      <td>RoHS, REACH</td>\n      <td>190.0</td>\n    </tr>\n    <tr>\n      <th>27</th>\n      <td>27</td>\n      <td>2025-04-01 08:00:00</td>\n      <td>CMP-002</td>\n      <td>77889</td>\n      <td>Chemical Mechanical Polishing Unit</td>\n      <td>1</td>\n      <td>Ceramic, Polyurethane</td>\n      <td>Vendor BB</td>\n      <td>16000</td>\n      <td>14 weeks</td>\n      <td>...</td>\n      <td>A.2</td>\n      <td>CMP Technology</td>\n      <td>SEMI S567</td>\n      <td>Polishing Uniformity Test</td>\n      <td>Provided by vendor</td>\n      <td>Level 1</td>\n      <td>55</td>\n      <td>Custom crate</td>\n      <td>RoHS, REACH</td>\n      <td>150.0</td>\n    </tr>\n    <tr>\n      <th>28</th>\n      <td>28</td>\n      <td>2025-05-01 08:00:00</td>\n      <td>HGA-001</td>\n      <td>99001</td>\n      <td>Hydrogen Gas Activation Unit</td>\n      <td>1</td>\n      <td>Stainless Steel</td>\n      <td>Vendor CC</td>\n      <td>18000</td>\n      <td>12 weeks</td>\n      <td>...</td>\n      <td>B.1</td>\n      <td>Hydrogen Activation Process</td>\n      <td>SEMI S789</td>\n      <td>Activation Efficiency Test</td>\n      <td>Provided by vendor</td>\n      <td>Level 1</td>\n      <td>40</td>\n      <td>Custom packaging</td>\n      <td>RoHS, REACH</td>\n      <td>170.0</td>\n    </tr>\n    <tr>\n      <th>29</th>\n      <td>29</td>\n      <td>2025-06-01 08:00:00</td>\n      <td>MAS-002</td>\n      <td>11223</td>\n      <td>Mass Spectrometry Analyzer</td>\n      <td>1</td>\n      <td>Aluminum Alloy, Glass</td>\n      <td>Vendor DD</td>\n      <td>25000</td>\n      <td>18 weeks</td>\n      <td>...</td>\n      <td>A.1</td>\n      <td>MAS Integration</td>\n      <td>SEMI S456</td>\n      <td>Mass Resolution Test</td>\n      <td>Provided by vendor</td>\n      <td>Level 2</td>\n      <td>110</td>\n      <td>Custom crate</td>\n      <td>RoHS, REACH</td>\n      <td>220.0</td>\n    </tr>\n    <tr>\n      <th>30</th>\n      <td>30</td>\n      <td>2025-07-01 08:00:00</td>\n      <td>THZ-001</td>\n      <td>33445</td>\n      <td>Terahertz Spectroscopy Module</td>\n      <td>1</td>\n      <td>Polyethylene, Silicon</td>\n      <td>Vendor EE</td>\n      <td>20000</td>\n      <td>16 weeks</td>\n      <td>...</td>\n      <td>B.2</td>\n      <td>THZ Spectroscopy Integration</td>\n      <td>SEMI S678</td>\n      <td>Terahertz Wave Analysis</td>\n      <td>Provided by vendor</td>\n      <td>Level 2</td>\n      <td>75</td>\n      <td>Custom packaging</td>\n      <td>RoHS, REACH</td>\n      <td>160.0</td>\n    </tr>\n    <tr>\n      <th>31</th>\n      <td>31</td>\n      <td>2025-08-01 08:00:00</td>\n      <td>RFQ-002</td>\n      <td>55667</td>\n      <td>Radio Frequency Quadrupole Unit</td>\n      <td>1</td>\n      <td>Copper, Teflon</td>\n      <td>Vendor FF</td>\n      <td>12000</td>\n      <td>10 weeks</td>\n      <td>...</td>\n      <td>A.3</td>\n      <td>RFQ Integration</td>\n      <td>SEMI S234</td>\n      <td>RFQ Stability Test</td>\n      <td>Provided by vendor</td>\n      <td>Level 1</td>\n      <td>35</td>\n      <td>Custom crate</td>\n      <td>RoHS, REACH</td>\n      <td>130.0</td>\n    </tr>\n    <tr>\n      <th>32</th>\n      <td>32</td>\n      <td>2025-09-01 08:00:00</td>\n      <td>TOF-001</td>\n      <td>77889</td>\n      <td>Time-of-Flight Mass Spectrometry Module</td>\n      <td>1</td>\n      <td>Gold, Quartz</td>\n      <td>Vendor GG</td>\n      <td>30000</td>\n      <td>20 weeks</td>\n      <td>...</td>\n      <td>A.2</td>\n      <td>TOF-MS Integration</td>\n      <td>SEMI S567</td>\n      <td>Mass Accuracy Test</td>\n      <td>Provided by vendor</td>\n      <td>Level 2</td>\n      <td>95</td>\n      <td>Custom packaging</td>\n      <td>RoHS, REACH</td>\n      <td>180.0</td>\n    </tr>\n    <tr>\n      <th>33</th>\n      <td>33</td>\n      <td>2025-10-01 08:00:00</td>\n      <td>DAC-002</td>\n      <td>99001</td>\n      <td>Digital-to-Analog Converter</td>\n      <td>1</td>\n      <td>Electronic Components</td>\n      <td>Vendor HH</td>\n      <td>15000</td>\n      <td>12 weeks</td>\n      <td>...</td>\n      <td>B.1</td>\n      <td>Electronics Integration</td>\n      <td>SEMI S345</td>\n      <td>Analog Signal Accuracy Test</td>\n      <td>Provided by vendor</td>\n      <td>Level 1</td>\n      <td>50</td>\n      <td>Custom crate</td>\n      <td>RoHS, REACH</td>\n      <td>140.0</td>\n    </tr>\n    <tr>\n      <th>34</th>\n      <td>34</td>\n      <td>2025-11-01 08:00:00</td>\n      <td>LC-002</td>\n      <td>11223</td>\n      <td>Liquid Chromatography Unit</td>\n      <td>1</td>\n      <td>Stainless Steel, Glass</td>\n      <td>Vendor II</td>\n      <td>10000</td>\n      <td>8 weeks</td>\n      <td>...</td>\n      <td>A.1</td>\n      <td>LC Integration</td>\n      <td>SEMI S456</td>\n      <td>Separation Efficiency Test</td>\n      <td>Provided by vendor</td>\n      <td>Level 1</td>\n      <td>25</td>\n      <td>Custom packaging</td>\n      <td>RoHS, REACH</td>\n      <td>120.0</td>\n    </tr>\n    <tr>\n      <th>35</th>\n      <td>35</td>\n      <td>2025-12-01 08:00:00</td>\n      <td>EDA-001</td>\n      <td>33445</td>\n      <td>Electrochemical Deposition Apparatus</td>\n      <td>1</td>\n      <td>Titanium, Polypropylene</td>\n      <td>Vendor JJ</td>\n      <td>28000</td>\n      <td>22 weeks</td>\n      <td>...</td>\n      <td>A.3</td>\n      <td>EDA Integration</td>\n      <td>SEMI S789</td>\n      <td>Deposition Uniformity Test</td>\n      <td>Provided by vendor</td>\n      <td>Level 2</td>\n      <td>80</td>\n      <td>Custom crate</td>\n      <td>RoHS, REACH</td>\n      <td>200.0</td>\n    </tr>\n    <tr>\n      <th>36</th>\n      <td>36</td>\n      <td>2026-01-01 08:00:00</td>\n      <td>AFR-002</td>\n      <td>55667</td>\n      <td>Atomic Force Resonance Module</td>\n      <td>1</td>\n      <td>Silicon, Aluminum</td>\n      <td>Vendor KK</td>\n      <td>22000</td>\n      <td>15 weeks</td>\n      <td>...</td>\n      <td>B.2</td>\n      <td>AFR Integration</td>\n      <td>SEMI S234</td>\n      <td>Resonance Frequency Test</td>\n      <td>Provided by vendor</td>\n      <td>Level 2</td>\n      <td>85</td>\n      <td>Custom packaging</td>\n      <td>RoHS, REACH</td>\n      <td>190.0</td>\n    </tr>\n    <tr>\n      <th>37</th>\n      <td>37</td>\n      <td>2026-02-01 08:00:00</td>\n      <td>PMS-001</td>\n      <td>77889</td>\n      <td>Plasma Monitoring System</td>\n      <td>1</td>\n      <td>Electronic Components, Ceramic</td>\n      <td>Vendor LL</td>\n      <td>16000</td>\n      <td>14 weeks</td>\n      <td>...</td>\n      <td>A.2</td>\n      <td>PMS Integration</td>\n      <td>SEMI S567</td>\n      <td>Plasma Characteristics Analysis</td>\n      <td>Provided by vendor</td>\n      <td>Level 1</td>\n      <td>55</td>\n      <td>Custom crate</td>\n      <td>RoHS, REACH</td>\n      <td>150.0</td>\n    </tr>\n    <tr>\n      <th>38</th>\n      <td>38</td>\n      <td>2026-03-01 08:00:00</td>\n      <td>HEA-002</td>\n      <td>99001</td>\n      <td>High-Energy Accelerator</td>\n      <td>1</td>\n      <td>Copper, Magnetic Alloy</td>\n      <td>Vendor MM</td>\n      <td>18000</td>\n      <td>12 weeks</td>\n      <td>...</td>\n      <td>A.1</td>\n      <td>HEA Integration</td>\n      <td>SEMI S678</td>\n      <td>Particle Acceleration Test</td>\n      <td>Provided by vendor</td>\n      <td>Level 1</td>\n      <td>40</td>\n      <td>Custom packaging</td>\n      <td>RoHS, REACH</td>\n      <td>170.0</td>\n    </tr>\n    <tr>\n      <th>39</th>\n      <td>39</td>\n      <td>2026-04-01 08:00:00</td>\n      <td>MFM-002</td>\n      <td>11223</td>\n      <td>Magnetic Field Manipulation Unit</td>\n      <td>1</td>\n      <td>Ferrite, Copper</td>\n      <td>Vendor NN</td>\n      <td>25000</td>\n      <td>18 weeks</td>\n      <td>...</td>\n      <td>A.3</td>\n      <td>MFM Integration</td>\n      <td>SEMI S456</td>\n      <td>Magnetic Field Uniformity Test</td>\n      <td>Provided by vendor</td>\n      <td>Level 2</td>\n      <td>110</td>\n      <td>Custom crate</td>\n      <td>RoHS, REACH</td>\n      <td>220.0</td>\n    </tr>\n    <tr>\n      <th>40</th>\n      <td>40</td>\n      <td>2026-05-01 08:00:00</td>\n      <td>DIE-001</td>\n      <td>33445</td>\n      <td>Dielectric Barrier Discharge Unit</td>\n      <td>1</td>\n      <td>Quartz, Dielectric Materials</td>\n      <td>Vendor OO</td>\n      <td>20000</td>\n      <td>16 weeks</td>\n      <td>...</td>\n      <td>B.2</td>\n      <td>DBD Integration</td>\n      <td>SEMI S567</td>\n      <td>Dielectric Barrier Discharge Test</td>\n      <td>Provided by vendor</td>\n      <td>Level 2</td>\n      <td>75</td>\n      <td>Custom packaging</td>\n      <td>RoHS, REACH</td>\n      <td>160.0</td>\n    </tr>\n    <tr>\n      <th>41</th>\n      <td>41</td>\n      <td>2026-06-01 08:00:00</td>\n      <td>LPC-002</td>\n      <td>55667</td>\n      <td>Low-Pressure Chamber Module</td>\n      <td>1</td>\n      <td>Stainless Steel, Polyethylene</td>\n      <td>Vendor PP</td>\n      <td>12000</td>\n      <td>10 weeks</td>\n      <td>...</td>\n      <td>A.2</td>\n      <td>LPC Integration</td>\n      <td>SEMI S234</td>\n      <td>Pressure Uniformity Test</td>\n      <td>Provided by vendor</td>\n      <td>Level 1</td>\n      <td>35</td>\n      <td>Custom crate</td>\n      <td>RoHS, REACH</td>\n      <td>130.0</td>\n    </tr>\n    <tr>\n      <th>42</th>\n      <td>42</td>\n      <td>2026-07-01 08:00:00</td>\n      <td>PRA-001</td>\n      <td>77889</td>\n      <td>Plasma Resonance Analyzer</td>\n      <td>1</td>\n      <td>Aluminum, Glass</td>\n      <td>Vendor QQ</td>\n      <td>30000</td>\n      <td>20 weeks</td>\n      <td>...</td>\n      <td>A.1</td>\n      <td>PRA Integration</td>\n      <td>SEMI S678</td>\n      <td>Plasma Resonance Frequency Test</td>\n      <td>Provided by vendor</td>\n      <td>Level 2</td>\n      <td>95</td>\n      <td>Custom crate</td>\n      <td>RoHS, REACH</td>\n      <td>180.0</td>\n    </tr>\n    <tr>\n      <th>43</th>\n      <td>43</td>\n      <td>2026-08-01 08:00:00</td>\n      <td>RMS-002</td>\n      <td>99001</td>\n      <td>Reactive Mass Spectrometry Module</td>\n      <td>1</td>\n      <td>Titanium, Quartz</td>\n      <td>Vendor RR</td>\n      <td>15000</td>\n      <td>12 weeks</td>\n      <td>...</td>\n      <td>B.1</td>\n      <td>RMS Integration</td>\n      <td>SEMI S345</td>\n      <td>Reactive Ionization Test</td>\n      <td>Provided by vendor</td>\n      <td>Level 1</td>\n      <td>50</td>\n      <td>Custom packaging</td>\n      <td>RoHS, REACH</td>\n      <td>140.0</td>\n    </tr>\n    <tr>\n      <th>44</th>\n      <td>44</td>\n      <td>2026-09-01 08:00:00</td>\n      <td>ACU-002</td>\n      <td>11223</td>\n      <td>Acoustic Control Unit</td>\n      <td>1</td>\n      <td>Plastic, Aluminum</td>\n      <td>Vendor SS</td>\n      <td>10000</td>\n      <td>8 weeks</td>\n      <td>...</td>\n      <td>A.3</td>\n      <td>ACU Integration</td>\n      <td>SEMI S456</td>\n      <td>Acoustic Wave Control Test</td>\n      <td>Provided by vendor</td>\n      <td>Level 1</td>\n      <td>25</td>\n      <td>Custom crate</td>\n      <td>RoHS, REACH</td>\n      <td>120.0</td>\n    </tr>\n    <tr>\n      <th>45</th>\n      <td>45</td>\n      <td>2026-10-01 08:00:00</td>\n      <td>SPA-001</td>\n      <td>33445</td>\n      <td>Spectroscopic Ellipsometry Module</td>\n      <td>1</td>\n      <td>Silicon, Glass</td>\n      <td>Vendor TT</td>\n      <td>28000</td>\n      <td>22 weeks</td>\n      <td>...</td>\n      <td>A.2</td>\n      <td>SPA Integration</td>\n      <td>SEMI S789</td>\n      <td>Ellipsometry Accuracy Test</td>\n      <td>Provided by vendor</td>\n      <td>Level 2</td>\n      <td>80</td>\n      <td>Custom packaging</td>\n      <td>RoHS, REACH</td>\n      <td>200.0</td>\n    </tr>\n    <tr>\n      <th>46</th>\n      <td>46</td>\n      <td>2026-11-01 08:00:00</td>\n      <td>CVL-002</td>\n      <td>55667</td>\n      <td>Cathode Voltage Limiter</td>\n      <td>1</td>\n      <td>Copper, Ceramic</td>\n      <td>Vendor UU</td>\n      <td>22000</td>\n      <td>15 weeks</td>\n      <td>...</td>\n      <td>B.2</td>\n      <td>CVL Integration</td>\n      <td>SEMI S234</td>\n      <td>Voltage Limiting Test</td>\n      <td>Provided by vendor</td>\n      <td>Level 2</td>\n      <td>85</td>\n      <td>Custom crate</td>\n      <td>RoHS, REACH</td>\n      <td>190.0</td>\n    </tr>\n    <tr>\n      <th>47</th>\n      <td>47</td>\n      <td>2026-12-01 08:00:00</td>\n      <td>PCS-002</td>\n      <td>77889</td>\n      <td>Plasma Control Software System</td>\n      <td>1</td>\n      <td>Software</td>\n      <td>Vendor VV</td>\n      <td>16000</td>\n      <td>14 weeks</td>\n      <td>...</td>\n      <td>A.1</td>\n      <td>Software Development</td>\n      <td>ISO 9001</td>\n      <td>Software Testing</td>\n      <td>Provided by vendor</td>\n      <td>Level 1</td>\n      <td>55</td>\n      <td>Digital delivery</td>\n      <td>RoHS, REACH</td>\n      <td>150.0</td>\n    </tr>\n    <tr>\n      <th>48</th>\n      <td>48</td>\n      <td>2027-01-01 08:00:00</td>\n      <td>RFS-002</td>\n      <td>99001</td>\n      <td>Residual Gas Analyzer</td>\n      <td>1</td>\n      <td>Stainless Steel, Glass</td>\n      <td>Vendor WW</td>\n      <td>18000</td>\n      <td>12 weeks</td>\n      <td>...</td>\n      <td>A.1</td>\n      <td>RFS Integration</td>\n      <td>SEMI S567</td>\n      <td>Gas Composition Analysis</td>\n      <td>Provided by vendor</td>\n      <td>Level 1</td>\n      <td>40</td>\n      <td>Custom packaging</td>\n      <td>RoHS, REACH</td>\n      <td>170.0</td>\n    </tr>\n    <tr>\n      <th>49</th>\n      <td>49</td>\n      <td>2027-02-01 08:00:00</td>\n      <td>DTP-001</td>\n      <td>11223</td>\n      <td>Dynamic Temperature Profiler</td>\n      <td>1</td>\n      <td>Inconel, Polyurethane</td>\n      <td>Vendor XX</td>\n      <td>25000</td>\n      <td>18 weeks</td>\n      <td>...</td>\n      <td>B.1</td>\n      <td>DTP Integration</td>\n      <td>SEMI S345</td>\n      <td>Temperature Profile Test</td>\n      <td>Provided by vendor</td>\n      <td>Level 2</td>\n      <td>110</td>\n      <td>Custom crate</td>\n      <td>RoHS, REACH</td>\n      <td>220.0</td>\n    </tr>\n    <tr>\n      <th>50</th>\n      <td>50</td>\n      <td>2027-03-01 08:00:00</td>\n      <td>LBC-002</td>\n      <td>33445</td>\n      <td>Laser Beam Collimation Unit</td>\n      <td>1</td>\n      <td>Aluminum, Optical Glass</td>\n      <td>Vendor YY</td>\n      <td>20000</td>\n      <td>16 weeks</td>\n      <td>...</td>\n      <td>A.3</td>\n      <td>LBC Integration</td>\n      <td>SEMI S456</td>\n      <td>Beam Collimation Accuracy Test</td>\n      <td>Provided by vendor</td>\n      <td>Level 2</td>\n      <td>75</td>\n      <td>Custom packaging</td>\n      <td>RoHS, REACH</td>\n      <td>160.0</td>\n    </tr>\n    <tr>\n      <th>51</th>\n      <td>51</td>\n      <td>2027-04-01 08:00:00</td>\n      <td>DAS-002</td>\n      <td>55667</td>\n      <td>Data Acquisition System</td>\n      <td>1</td>\n      <td>Electronic Components</td>\n      <td>Vendor ZZ</td>\n      <td>12000</td>\n      <td>10 weeks</td>\n      <td>...</td>\n      <td>A.2</td>\n      <td>DAS Integration</td>\n      <td>SEMI S678</td>\n      <td>Data Accuracy Test</td>\n      <td>Provided by vendor</td>\n      <td>Level 1</td>\n      <td>35</td>\n      <td>Custom crate</td>\n      <td>RoHS, REACH</td>\n      <td>130.0</td>\n    </tr>\n    <tr>\n      <th>52</th>\n      <td>52</td>\n      <td>2027-05-01 08:00:00</td>\n      <td>SPS-001</td>\n      <td>77889</td>\n      <td>Scanning Probe Microscopy System</td>\n      <td>1</td>\n      <td>Ceramic, Silicon</td>\n      <td>Vendor AAA</td>\n      <td>30000</td>\n      <td>20 weeks</td>\n      <td>...</td>\n      <td>A.1</td>\n      <td>SPS Integration</td>\n      <td>SEMI S234</td>\n      <td>Resolution Test</td>\n      <td>Provided by vendor</td>\n      <td>Level 2</td>\n      <td>95</td>\n      <td>Custom crate</td>\n      <td>RoHS, REACH</td>\n      <td>180.0</td>\n    </tr>\n    <tr>\n      <th>53</th>\n      <td>53</td>\n      <td>2027-06-01 08:00:00</td>\n      <td>GC-002</td>\n      <td>99001</td>\n      <td>Gas Chromatography Module</td>\n      <td>1</td>\n      <td>Stainless Steel, Glass</td>\n      <td>Vendor BBB</td>\n      <td>15000</td>\n      <td>12 weeks</td>\n      <td>...</td>\n      <td>B.2</td>\n      <td>GC Integration</td>\n      <td>SEMI S567</td>\n      <td>Separation Efficiency Test</td>\n      <td>Provided by vendor</td>\n      <td>Level 1</td>\n      <td>50</td>\n      <td>Custom packaging</td>\n      <td>RoHS, REACH</td>\n      <td>140.0</td>\n    </tr>\n    <tr>\n      <th>54</th>\n      <td>54</td>\n      <td>2027-07-01 08:00:00</td>\n      <td>HVM-002</td>\n      <td>11223</td>\n      <td>High-Voltage Modulator</td>\n      <td>1</td>\n      <td>Copper, Ceramic</td>\n      <td>Vendor CCC</td>\n      <td>10000</td>\n      <td>8 weeks</td>\n      <td>...</td>\n      <td>A.3</td>\n      <td>HVM Integration</td>\n      <td>SEMI S789</td>\n      <td>Voltage Modulation Test</td>\n      <td>Provided by vendor</td>\n      <td>Level 1</td>\n      <td>25</td>\n      <td>Custom crate</td>\n      <td>RoHS, REACH</td>\n      <td>120.0</td>\n    </tr>\n    <tr>\n      <th>55</th>\n      <td>55</td>\n      <td>2027-08-01 08:00:00</td>\n      <td>FTS-001</td>\n      <td>33445</td>\n      <td>Fourier Transform Spectrometer Module</td>\n      <td>1</td>\n      <td>Zinc Sulfide, Aluminum</td>\n      <td>Vendor DDD</td>\n      <td>28000</td>\n      <td>22 weeks</td>\n      <td>...</td>\n      <td>A.2</td>\n      <td>FTS Integration</td>\n      <td>SEMI S456</td>\n      <td>Spectral Resolution Test</td>\n      <td>Provided by vendor</td>\n      <td>Level 2</td>\n      <td>80</td>\n      <td>Custom packaging</td>\n      <td>RoHS, REACH</td>\n      <td>200.0</td>\n    </tr>\n    <tr>\n      <th>56</th>\n      <td>56</td>\n      <td>2027-09-01 08:00:00</td>\n      <td>ION-002</td>\n      <td>55667</td>\n      <td>Ion Implantation Module</td>\n      <td>1</td>\n      <td>Titanium, Silicon</td>\n      <td>Vendor EEE</td>\n      <td>22000</td>\n      <td>15 weeks</td>\n      <td>...</td>\n      <td>B.2</td>\n      <td>Ion Implantation Process</td>\n      <td>SEMI S678</td>\n      <td>Ion Dose Uniformity Test</td>\n      <td>Provided by vendor</td>\n      <td>Level 2</td>\n      <td>85</td>\n      <td>Custom crate</td>\n      <td>RoHS, REACH</td>\n      <td>190.0</td>\n    </tr>\n    <tr>\n      <th>57</th>\n      <td>57</td>\n      <td>2027-10-01 08:00:00</td>\n      <td>EMF-002</td>\n      <td>77889</td>\n      <td>Electrostatic Magnetic Field Module</td>\n      <td>1</td>\n      <td>Ferrite, Copper</td>\n      <td>Vendor FFF</td>\n      <td>16000</td>\n      <td>14 weeks</td>\n      <td>...</td>\n      <td>A.3</td>\n      <td>EMF Integration</td>\n      <td>SEMI S234</td>\n      <td>Magnetic Field Strength Test</td>\n      <td>Provided by vendor</td>\n      <td>Level 1</td>\n      <td>55</td>\n      <td>Custom crate</td>\n      <td>RoHS, REACH</td>\n      <td>150.0</td>\n    </tr>\n    <tr>\n      <th>58</th>\n      <td>58</td>\n      <td>2027-11-01 08:00:00</td>\n      <td>UTS-002</td>\n      <td>99001</td>\n      <td>Ultrasonic Testing System</td>\n      <td>1</td>\n      <td>Polyethylene, Aluminum</td>\n      <td>Vendor XYZ</td>\n      <td>15000</td>\n      <td>12 weeks</td>\n      <td>...</td>\n      <td>B.1</td>\n      <td>Ultrasonic Testing Integration</td>\n      <td>SEMI S345</td>\n      <td>Ultrasonic Testing</td>\n      <td>Provided by vendor</td>\n      <td>Level 1</td>\n      <td>50</td>\n      <td>Custom packaging</td>\n      <td>RoHS, REACH</td>\n      <td>140.0</td>\n    </tr>\n  </tbody>\n</table>\n<p>59 rows × 22 columns</p>\n</div>"
     },
     "execution_count": 12,
     "metadata": {},
     "output_type": "execute_result"
    }
   ],
   "source": [
    "df"
   ],
   "metadata": {
    "collapsed": false,
    "ExecuteTime": {
     "end_time": "2023-11-28T11:37:11.669256Z",
     "start_time": "2023-11-28T11:37:11.641129Z"
    }
   },
   "id": "aa285e0a5fb6fe6e"
  },
  {
   "cell_type": "code",
   "execution_count": 13,
   "outputs": [],
   "source": [
    "df = df.drop(15)"
   ],
   "metadata": {
    "collapsed": false,
    "ExecuteTime": {
     "end_time": "2023-11-28T11:37:11.669444Z",
     "start_time": "2023-11-28T11:37:11.645164Z"
    }
   },
   "id": "9a2e6ad24e0b4638"
  },
  {
   "cell_type": "code",
   "execution_count": 14,
   "outputs": [
    {
     "data": {
      "text/plain": "    Unnamed: 0            Timestamp Component_Name  Part_Number  \\\n0            0  2023-01-01 08:00:00        CHM-001        12345   \n1            1  2023-02-01 08:00:00        LID-001        54321   \n2            2  2023-03-01 08:00:00        GDS-001        67890   \n3            3  2023-04-01 08:00:00        PSA-001        11223   \n4            4  2023-05-01 08:00:00        WHS-001        33445   \n5            5  2023-06-01 08:00:00        ISA-002        55667   \n6            6  2023-07-01 08:00:00         CS-002        77889   \n7            7  2023-08-01 08:00:00        PSU-002        99001   \n8            8  2023-09-01 08:00:00        GPS-002        11223   \n9            9  2023-10-01 08:00:00        TCU-002        33445   \n10          10  2023-11-01 08:00:00         EC-002        55667   \n11          11  2023-12-01 08:00:00         VS-002        77889   \n12          12  2024-01-01 08:00:00        PCU-002        99001   \n13          13  2024-02-01 08:00:00       GFMS-002        11223   \n14          14  2024-03-01 08:00:00        WLS-002        33445   \n16          16  2024-05-01 08:00:00        NEW-001        78901   \n17          17  2024-06-01 08:00:00       MEMS-002        12345   \n18          18  2024-07-01 08:00:00        AFM-001        56789   \n19          19  2024-08-01 08:00:00        RFI-002        11223   \n20          20  2024-09-01 08:00:00        EUV-001        33445   \n21          21  2024-10-01 08:00:00       NANO-002        55667   \n22          22  2024-11-01 08:00:00        PCB-002        77889   \n23          23  2024-12-01 08:00:00        MIR-001        99001   \n24          24  2025-01-01 08:00:00        PLC-002        11223   \n25          25  2025-02-01 08:00:00      PHOTO-002        33445   \n26          26  2025-03-01 08:00:00       FTIR-001        55667   \n27          27  2025-04-01 08:00:00        CMP-002        77889   \n28          28  2025-05-01 08:00:00        HGA-001        99001   \n29          29  2025-06-01 08:00:00        MAS-002        11223   \n30          30  2025-07-01 08:00:00        THZ-001        33445   \n31          31  2025-08-01 08:00:00        RFQ-002        55667   \n32          32  2025-09-01 08:00:00        TOF-001        77889   \n33          33  2025-10-01 08:00:00        DAC-002        99001   \n34          34  2025-11-01 08:00:00         LC-002        11223   \n35          35  2025-12-01 08:00:00        EDA-001        33445   \n36          36  2026-01-01 08:00:00        AFR-002        55667   \n37          37  2026-02-01 08:00:00        PMS-001        77889   \n38          38  2026-03-01 08:00:00        HEA-002        99001   \n39          39  2026-04-01 08:00:00        MFM-002        11223   \n40          40  2026-05-01 08:00:00        DIE-001        33445   \n41          41  2026-06-01 08:00:00        LPC-002        55667   \n42          42  2026-07-01 08:00:00        PRA-001        77889   \n43          43  2026-08-01 08:00:00        RMS-002        99001   \n44          44  2026-09-01 08:00:00        ACU-002        11223   \n45          45  2026-10-01 08:00:00        SPA-001        33445   \n46          46  2026-11-01 08:00:00        CVL-002        55667   \n47          47  2026-12-01 08:00:00        PCS-002        77889   \n48          48  2027-01-01 08:00:00        RFS-002        99001   \n49          49  2027-02-01 08:00:00        DTP-001        11223   \n50          50  2027-03-01 08:00:00        LBC-002        33445   \n51          51  2027-04-01 08:00:00        DAS-002        55667   \n52          52  2027-05-01 08:00:00        SPS-001        77889   \n53          53  2027-06-01 08:00:00         GC-002        99001   \n54          54  2027-07-01 08:00:00        HVM-002        11223   \n55          55  2027-08-01 08:00:00        FTS-001        33445   \n56          56  2027-09-01 08:00:00        ION-002        55667   \n57          57  2027-10-01 08:00:00        EMF-002        77889   \n58          58  2027-11-01 08:00:00        UTS-002        99001   \n\n                                       Description  Quantity  \\\n0                                Main chamber body         1   \n1                                  Lid for chamber         1   \n2                        Gas distribution manifold         1   \n3    RF Generator and Electrostatic Chuck Assembly         1   \n4                        Robot arm and wafer chuck         1   \n5                    Ion source for plasma etching         1   \n6                       Closed-loop coolant system         1   \n7                        High-voltage power supply         1   \n8                  Gas purification and filtration         1   \n9                    Precision temperature control         1   \n10         Specialized chamber for etching process         1   \n11                  High-performance vacuum system         1   \n12            Control system for plasma parameters         1   \n13           System for controlling gas flow rates         1   \n14          System for loading wafers into chamber         1   \n16                          Advanced Plasma Source         1   \n17                            Micro-Etching Module         1   \n18              Atomic Force Microscope Attachment         1   \n19                   Remote Plasma Inspection Unit         1   \n20                Extreme Ultraviolet Light Source         1   \n21                  Nanoparticle Deposition Module         1   \n22                      Plasma Cleaning Brush Unit         1   \n23                Mid-Infrared Spectroscopy Module         1   \n24                           Plasma Control System         1   \n25               Photolithography Enhancement Unit         1   \n26  Fourier Transform Infrared Spectroscopy Module         1   \n27              Chemical Mechanical Polishing Unit         1   \n28                    Hydrogen Gas Activation Unit         1   \n29                      Mass Spectrometry Analyzer         1   \n30                   Terahertz Spectroscopy Module         1   \n31                 Radio Frequency Quadrupole Unit         1   \n32         Time-of-Flight Mass Spectrometry Module         1   \n33                     Digital-to-Analog Converter         1   \n34                      Liquid Chromatography Unit         1   \n35            Electrochemical Deposition Apparatus         1   \n36                   Atomic Force Resonance Module         1   \n37                        Plasma Monitoring System         1   \n38                         High-Energy Accelerator         1   \n39                Magnetic Field Manipulation Unit         1   \n40               Dielectric Barrier Discharge Unit         1   \n41                     Low-Pressure Chamber Module         1   \n42                       Plasma Resonance Analyzer         1   \n43               Reactive Mass Spectrometry Module         1   \n44                           Acoustic Control Unit         1   \n45               Spectroscopic Ellipsometry Module         1   \n46                         Cathode Voltage Limiter         1   \n47                  Plasma Control Software System         1   \n48                           Residual Gas Analyzer         1   \n49                    Dynamic Temperature Profiler         1   \n50                     Laser Beam Collimation Unit         1   \n51                         Data Acquisition System         1   \n52                Scanning Probe Microscopy System         1   \n53                       Gas Chromatography Module         1   \n54                          High-Voltage Modulator         1   \n55           Fourier Transform Spectrometer Module         1   \n56                         Ion Implantation Module         1   \n57             Electrostatic Magnetic Field Module         1   \n58                       Ultrasonic Testing System         1   \n\n                          Material    Supplier  Unit_Cost Lead_Time  ...  \\\n0                  Stainless Steel    Vendor A      10000  12 weeks  ...   \n1                   Aluminum Alloy    Vendor B       5000   8 weeks  ...   \n2                  Stainless Steel    Vendor C       8000  10 weeks  ...   \n3                          Various    Vendor D      20000  14 weeks  ...   \n4          Aluminum Alloy, Ceramic    Vendor E      15000  16 weeks  ...   \n5                         Titanium    Vendor F      18000  15 weeks  ...   \n6                  Stainless Steel    Vendor G      12000  10 weeks  ...   \n7                  Copper, Silicon    Vendor H      25000  18 weeks  ...   \n8                    Polypropylene    Vendor I      15000  12 weeks  ...   \n9                          Inconel    Vendor J      20000  14 weeks  ...   \n10                          Quartz    Vendor K      22000  16 weeks  ...   \n11                 Stainless Steel    Vendor L      30000  20 weeks  ...   \n12           Electronic Components    Vendor M      15000  12 weeks  ...   \n13                 Stainless Steel    Vendor N      16000  14 weeks  ...   \n14                  Aluminum Alloy    Vendor O      10000   8 weeks  ...   \n16                         Ceramic    Vendor Q      22000  15 weeks  ...   \n17                         Silicon    Vendor R      18000  12 weeks  ...   \n18                 Titanium, Glass    Vendor S      25000  18 weeks  ...   \n19                 Stainless Steel    Vendor T      16000  14 weeks  ...   \n20                Optical Elements    Vendor U      30000  20 weeks  ...   \n21                   Gold, Polymer    Vendor V      20000  16 weeks  ...   \n22                Carbon Composite    Vendor W      12000  10 weeks  ...   \n23                   Zinc Selenide    Vendor X      28000  22 weeks  ...   \n24           Electronic Components    Vendor Y      15000  12 weeks  ...   \n25                   Glass, Quartz    Vendor Z      10000   8 weeks  ...   \n26                    Zinc Sulfide   Vendor AA      22000  15 weeks  ...   \n27           Ceramic, Polyurethane   Vendor BB      16000  14 weeks  ...   \n28                 Stainless Steel   Vendor CC      18000  12 weeks  ...   \n29           Aluminum Alloy, Glass   Vendor DD      25000  18 weeks  ...   \n30           Polyethylene, Silicon   Vendor EE      20000  16 weeks  ...   \n31                  Copper, Teflon   Vendor FF      12000  10 weeks  ...   \n32                    Gold, Quartz   Vendor GG      30000  20 weeks  ...   \n33           Electronic Components   Vendor HH      15000  12 weeks  ...   \n34          Stainless Steel, Glass   Vendor II      10000   8 weeks  ...   \n35         Titanium, Polypropylene   Vendor JJ      28000  22 weeks  ...   \n36               Silicon, Aluminum   Vendor KK      22000  15 weeks  ...   \n37  Electronic Components, Ceramic   Vendor LL      16000  14 weeks  ...   \n38          Copper, Magnetic Alloy   Vendor MM      18000  12 weeks  ...   \n39                 Ferrite, Copper   Vendor NN      25000  18 weeks  ...   \n40    Quartz, Dielectric Materials   Vendor OO      20000  16 weeks  ...   \n41   Stainless Steel, Polyethylene   Vendor PP      12000  10 weeks  ...   \n42                 Aluminum, Glass   Vendor QQ      30000  20 weeks  ...   \n43                Titanium, Quartz   Vendor RR      15000  12 weeks  ...   \n44               Plastic, Aluminum   Vendor SS      10000   8 weeks  ...   \n45                  Silicon, Glass   Vendor TT      28000  22 weeks  ...   \n46                 Copper, Ceramic   Vendor UU      22000  15 weeks  ...   \n47                        Software   Vendor VV      16000  14 weeks  ...   \n48          Stainless Steel, Glass   Vendor WW      18000  12 weeks  ...   \n49           Inconel, Polyurethane   Vendor XX      25000  18 weeks  ...   \n50         Aluminum, Optical Glass   Vendor YY      20000  16 weeks  ...   \n51           Electronic Components   Vendor ZZ      12000  10 weeks  ...   \n52                Ceramic, Silicon  Vendor AAA      30000  20 weeks  ...   \n53          Stainless Steel, Glass  Vendor BBB      15000  12 weeks  ...   \n54                 Copper, Ceramic  Vendor CCC      10000   8 weeks  ...   \n55          Zinc Sulfide, Aluminum  Vendor DDD      28000  22 weeks  ...   \n56               Titanium, Silicon  Vendor EEE      22000  15 weeks  ...   \n57                 Ferrite, Copper  Vendor FFF      16000  14 weeks  ...   \n58          Polyethylene, Aluminum  Vendor XYZ      15000  12 weeks  ...   \n\n   Revision_Level           Manufacturing_Process Quality_Standards  \\\n0             A.1          CNC Machining, Welding         SEMI S123   \n1             A.1                   CNC Machining         SEMI S456   \n2             A.2             Precision Machining         SEMI S789   \n3             A.3       Integration of Components         SEMI S234   \n4             A.1                Robotic Assembly         SEMI S567   \n5             B.1         Laser Cutting, Assembly         SEMI S890   \n6             A.2                   CNC Machining         SEMI S678   \n7             A.1             Electronic Assembly         SEMI S345   \n8             A.1     Filtration and Purification         SEMI S456   \n9             B.2          Thermoelectric Cooling         SEMI S789   \n10            A.3              Quartz Fabrication         SEMI S234   \n11            B.1               Vacuum Technology         SEMI S567   \n12            A.1             Electronic Assembly         SEMI S345   \n13            A.2           Flow Rate Calibration         SEMI S678   \n14            B.2               Automated Loading         SEMI S567   \n16            A.2      Advanced Plasma Generation         SEMI S890   \n17            A.1                MEMS Fabrication         SEMI S456   \n18            A.3                 AFM Integration         SEMI S567   \n19            A.2        Remote Plasma Technology         SEMI S678   \n20            B.1                  EUV Technology         SEMI S234   \n21            A.3         Nanoparticle Deposition         SEMI S345   \n22            B.2         Plasma Brush Technology         SEMI S567   \n23            A.1    MIR Spectroscopy Integration         SEMI S789   \n24            A.1             Electronic Assembly         SEMI S456   \n25            B.2    Photolithography Integration         SEMI S678   \n26            A.3   FTIR Spectroscopy Integration         SEMI S234   \n27            A.2                  CMP Technology         SEMI S567   \n28            B.1     Hydrogen Activation Process         SEMI S789   \n29            A.1                 MAS Integration         SEMI S456   \n30            B.2    THZ Spectroscopy Integration         SEMI S678   \n31            A.3                 RFQ Integration         SEMI S234   \n32            A.2              TOF-MS Integration         SEMI S567   \n33            B.1         Electronics Integration         SEMI S345   \n34            A.1                  LC Integration         SEMI S456   \n35            A.3                 EDA Integration         SEMI S789   \n36            B.2                 AFR Integration         SEMI S234   \n37            A.2                 PMS Integration         SEMI S567   \n38            A.1                 HEA Integration         SEMI S678   \n39            A.3                 MFM Integration         SEMI S456   \n40            B.2                 DBD Integration         SEMI S567   \n41            A.2                 LPC Integration         SEMI S234   \n42            A.1                 PRA Integration         SEMI S678   \n43            B.1                 RMS Integration         SEMI S345   \n44            A.3                 ACU Integration         SEMI S456   \n45            A.2                 SPA Integration         SEMI S789   \n46            B.2                 CVL Integration         SEMI S234   \n47            A.1            Software Development          ISO 9001   \n48            A.1                 RFS Integration         SEMI S567   \n49            B.1                 DTP Integration         SEMI S345   \n50            A.3                 LBC Integration         SEMI S456   \n51            A.2                 DAS Integration         SEMI S678   \n52            A.1                 SPS Integration         SEMI S234   \n53            B.2                  GC Integration         SEMI S567   \n54            A.3                 HVM Integration         SEMI S789   \n55            A.2                 FTS Integration         SEMI S456   \n56            B.2        Ion Implantation Process         SEMI S678   \n57            A.3                 EMF Integration         SEMI S234   \n58            B.1  Ultrasonic Testing Integration         SEMI S345   \n\n                 Testing_Requirements Assembly_Instructions Subassembly_Level  \\\n0                    Helium Leak Test    Provided by vendor           Level 1   \n1                   Visual Inspection    Provided by vendor           Level 1   \n2                           Leak Test    Provided by vendor           Level 2   \n3                    Electrical Tests    Provided by vendor           Level 2   \n4                    Functional Tests    Provided by vendor           Level 2   \n5              Mass Spectrometry Test    Provided by vendor           Level 2   \n6                       Pressure Test    Provided by vendor           Level 1   \n7             Electrical Safety Tests    Provided by vendor           Level 2   \n8                 Gas Purity Analysis    Provided by vendor           Level 1   \n9          Temperature Stability Test    Provided by vendor           Level 2   \n10                  Visual Inspection    Provided by vendor           Level 2   \n11              Vacuum Integrity Test    Provided by vendor           Level 2   \n12                   Electrical Tests    Provided by vendor           Level 1   \n13            Gas Flow Stability Test    Provided by vendor           Level 1   \n14                      Robotic Tests    Provided by vendor           Level 1   \n16            Ion Energy Distribution    Provided by vendor           Level 2   \n17           Microstructural Analysis    Provided by vendor           Level 1   \n18                AFM Resolution Test    Provided by vendor           Level 2   \n19             Plasma Uniformity Test    Provided by vendor           Level 1   \n20           Wavelength Accuracy Test    Provided by vendor           Level 2   \n21         Nanoparticle Size Analysis    Provided by vendor           Level 2   \n22           Cleaning Efficiency Test    Provided by vendor           Level 1   \n23           Spectral Resolution Test    Provided by vendor           Level 2   \n24               Control System Tests    Provided by vendor           Level 1   \n25        Resolution Enhancement Test    Provided by vendor           Level 1   \n26             Spectral Analysis Test    Provided by vendor           Level 2   \n27          Polishing Uniformity Test    Provided by vendor           Level 1   \n28         Activation Efficiency Test    Provided by vendor           Level 1   \n29               Mass Resolution Test    Provided by vendor           Level 2   \n30            Terahertz Wave Analysis    Provided by vendor           Level 2   \n31                 RFQ Stability Test    Provided by vendor           Level 1   \n32                 Mass Accuracy Test    Provided by vendor           Level 2   \n33        Analog Signal Accuracy Test    Provided by vendor           Level 1   \n34         Separation Efficiency Test    Provided by vendor           Level 1   \n35         Deposition Uniformity Test    Provided by vendor           Level 2   \n36           Resonance Frequency Test    Provided by vendor           Level 2   \n37    Plasma Characteristics Analysis    Provided by vendor           Level 1   \n38         Particle Acceleration Test    Provided by vendor           Level 1   \n39     Magnetic Field Uniformity Test    Provided by vendor           Level 2   \n40  Dielectric Barrier Discharge Test    Provided by vendor           Level 2   \n41           Pressure Uniformity Test    Provided by vendor           Level 1   \n42    Plasma Resonance Frequency Test    Provided by vendor           Level 2   \n43           Reactive Ionization Test    Provided by vendor           Level 1   \n44         Acoustic Wave Control Test    Provided by vendor           Level 1   \n45         Ellipsometry Accuracy Test    Provided by vendor           Level 2   \n46              Voltage Limiting Test    Provided by vendor           Level 2   \n47                   Software Testing    Provided by vendor           Level 1   \n48           Gas Composition Analysis    Provided by vendor           Level 1   \n49           Temperature Profile Test    Provided by vendor           Level 2   \n50     Beam Collimation Accuracy Test    Provided by vendor           Level 2   \n51                 Data Accuracy Test    Provided by vendor           Level 1   \n52                    Resolution Test    Provided by vendor           Level 2   \n53         Separation Efficiency Test    Provided by vendor           Level 1   \n54            Voltage Modulation Test    Provided by vendor           Level 1   \n55           Spectral Resolution Test    Provided by vendor           Level 2   \n56           Ion Dose Uniformity Test    Provided by vendor           Level 2   \n57       Magnetic Field Strength Test    Provided by vendor           Level 1   \n58                 Ultrasonic Testing    Provided by vendor           Level 1   \n\n   Weight Packaging_Information Environmental_Compliance Demand  \n0     200          Custom crate              RoHS, REACH  150.0  \n1      50      Custom packaging              RoHS, REACH  120.0  \n2      30          Custom crate              RoHS, REACH   90.0  \n3     100      Custom packaging              RoHS, REACH  180.0  \n4      40          Custom crate              RoHS, REACH  200.0  \n5      80      Custom packaging              RoHS, REACH  160.0  \n6      60          Custom crate              RoHS, REACH  110.0  \n7     120      Custom packaging              RoHS, REACH  220.0  \n8      45          Custom crate              RoHS, REACH  100.0  \n9      90      Custom packaging              RoHS, REACH  130.0  \n10    100      Custom packaging              RoHS, REACH  190.0  \n11    150          Custom crate              RoHS, REACH  240.0  \n12     70      Custom packaging              RoHS, REACH  210.0  \n13     50          Custom crate              RoHS, REACH  180.0  \n14     30      Custom packaging              RoHS, REACH  160.0  \n16     75      Custom packaging              RoHS, REACH  170.0  \n17     40          Custom crate              RoHS, REACH  130.0  \n18     85      Custom packaging              RoHS, REACH  190.0  \n19     55          Custom crate              RoHS, REACH  150.0  \n20    120      Custom packaging              RoHS, REACH  220.0  \n21     70      Custom packaging              RoHS, REACH  200.0  \n22     35          Custom crate              RoHS, REACH  110.0  \n23     95      Custom packaging              RoHS, REACH  180.0  \n24     50          Custom crate              RoHS, REACH  160.0  \n25     25      Custom packaging              RoHS, REACH  140.0  \n26     85      Custom packaging              RoHS, REACH  190.0  \n27     55          Custom crate              RoHS, REACH  150.0  \n28     40      Custom packaging              RoHS, REACH  170.0  \n29    110          Custom crate              RoHS, REACH  220.0  \n30     75      Custom packaging              RoHS, REACH  160.0  \n31     35          Custom crate              RoHS, REACH  130.0  \n32     95      Custom packaging              RoHS, REACH  180.0  \n33     50          Custom crate              RoHS, REACH  140.0  \n34     25      Custom packaging              RoHS, REACH  120.0  \n35     80          Custom crate              RoHS, REACH  200.0  \n36     85      Custom packaging              RoHS, REACH  190.0  \n37     55          Custom crate              RoHS, REACH  150.0  \n38     40      Custom packaging              RoHS, REACH  170.0  \n39    110          Custom crate              RoHS, REACH  220.0  \n40     75      Custom packaging              RoHS, REACH  160.0  \n41     35          Custom crate              RoHS, REACH  130.0  \n42     95          Custom crate              RoHS, REACH  180.0  \n43     50      Custom packaging              RoHS, REACH  140.0  \n44     25          Custom crate              RoHS, REACH  120.0  \n45     80      Custom packaging              RoHS, REACH  200.0  \n46     85          Custom crate              RoHS, REACH  190.0  \n47     55      Digital delivery              RoHS, REACH  150.0  \n48     40      Custom packaging              RoHS, REACH  170.0  \n49    110          Custom crate              RoHS, REACH  220.0  \n50     75      Custom packaging              RoHS, REACH  160.0  \n51     35          Custom crate              RoHS, REACH  130.0  \n52     95          Custom crate              RoHS, REACH  180.0  \n53     50      Custom packaging              RoHS, REACH  140.0  \n54     25          Custom crate              RoHS, REACH  120.0  \n55     80      Custom packaging              RoHS, REACH  200.0  \n56     85          Custom crate              RoHS, REACH  190.0  \n57     55          Custom crate              RoHS, REACH  150.0  \n58     50      Custom packaging              RoHS, REACH  140.0  \n\n[58 rows x 22 columns]",
      "text/html": "<div>\n<style scoped>\n    .dataframe tbody tr th:only-of-type {\n        vertical-align: middle;\n    }\n\n    .dataframe tbody tr th {\n        vertical-align: top;\n    }\n\n    .dataframe thead th {\n        text-align: right;\n    }\n</style>\n<table border=\"1\" class=\"dataframe\">\n  <thead>\n    <tr style=\"text-align: right;\">\n      <th></th>\n      <th>Unnamed: 0</th>\n      <th>Timestamp</th>\n      <th>Component_Name</th>\n      <th>Part_Number</th>\n      <th>Description</th>\n      <th>Quantity</th>\n      <th>Material</th>\n      <th>Supplier</th>\n      <th>Unit_Cost</th>\n      <th>Lead_Time</th>\n      <th>...</th>\n      <th>Revision_Level</th>\n      <th>Manufacturing_Process</th>\n      <th>Quality_Standards</th>\n      <th>Testing_Requirements</th>\n      <th>Assembly_Instructions</th>\n      <th>Subassembly_Level</th>\n      <th>Weight</th>\n      <th>Packaging_Information</th>\n      <th>Environmental_Compliance</th>\n      <th>Demand</th>\n    </tr>\n  </thead>\n  <tbody>\n    <tr>\n      <th>0</th>\n      <td>0</td>\n      <td>2023-01-01 08:00:00</td>\n      <td>CHM-001</td>\n      <td>12345</td>\n      <td>Main chamber body</td>\n      <td>1</td>\n      <td>Stainless Steel</td>\n      <td>Vendor A</td>\n      <td>10000</td>\n      <td>12 weeks</td>\n      <td>...</td>\n      <td>A.1</td>\n      <td>CNC Machining, Welding</td>\n      <td>SEMI S123</td>\n      <td>Helium Leak Test</td>\n      <td>Provided by vendor</td>\n      <td>Level 1</td>\n      <td>200</td>\n      <td>Custom crate</td>\n      <td>RoHS, REACH</td>\n      <td>150.0</td>\n    </tr>\n    <tr>\n      <th>1</th>\n      <td>1</td>\n      <td>2023-02-01 08:00:00</td>\n      <td>LID-001</td>\n      <td>54321</td>\n      <td>Lid for chamber</td>\n      <td>1</td>\n      <td>Aluminum Alloy</td>\n      <td>Vendor B</td>\n      <td>5000</td>\n      <td>8 weeks</td>\n      <td>...</td>\n      <td>A.1</td>\n      <td>CNC Machining</td>\n      <td>SEMI S456</td>\n      <td>Visual Inspection</td>\n      <td>Provided by vendor</td>\n      <td>Level 1</td>\n      <td>50</td>\n      <td>Custom packaging</td>\n      <td>RoHS, REACH</td>\n      <td>120.0</td>\n    </tr>\n    <tr>\n      <th>2</th>\n      <td>2</td>\n      <td>2023-03-01 08:00:00</td>\n      <td>GDS-001</td>\n      <td>67890</td>\n      <td>Gas distribution manifold</td>\n      <td>1</td>\n      <td>Stainless Steel</td>\n      <td>Vendor C</td>\n      <td>8000</td>\n      <td>10 weeks</td>\n      <td>...</td>\n      <td>A.2</td>\n      <td>Precision Machining</td>\n      <td>SEMI S789</td>\n      <td>Leak Test</td>\n      <td>Provided by vendor</td>\n      <td>Level 2</td>\n      <td>30</td>\n      <td>Custom crate</td>\n      <td>RoHS, REACH</td>\n      <td>90.0</td>\n    </tr>\n    <tr>\n      <th>3</th>\n      <td>3</td>\n      <td>2023-04-01 08:00:00</td>\n      <td>PSA-001</td>\n      <td>11223</td>\n      <td>RF Generator and Electrostatic Chuck Assembly</td>\n      <td>1</td>\n      <td>Various</td>\n      <td>Vendor D</td>\n      <td>20000</td>\n      <td>14 weeks</td>\n      <td>...</td>\n      <td>A.3</td>\n      <td>Integration of Components</td>\n      <td>SEMI S234</td>\n      <td>Electrical Tests</td>\n      <td>Provided by vendor</td>\n      <td>Level 2</td>\n      <td>100</td>\n      <td>Custom packaging</td>\n      <td>RoHS, REACH</td>\n      <td>180.0</td>\n    </tr>\n    <tr>\n      <th>4</th>\n      <td>4</td>\n      <td>2023-05-01 08:00:00</td>\n      <td>WHS-001</td>\n      <td>33445</td>\n      <td>Robot arm and wafer chuck</td>\n      <td>1</td>\n      <td>Aluminum Alloy, Ceramic</td>\n      <td>Vendor E</td>\n      <td>15000</td>\n      <td>16 weeks</td>\n      <td>...</td>\n      <td>A.1</td>\n      <td>Robotic Assembly</td>\n      <td>SEMI S567</td>\n      <td>Functional Tests</td>\n      <td>Provided by vendor</td>\n      <td>Level 2</td>\n      <td>40</td>\n      <td>Custom crate</td>\n      <td>RoHS, REACH</td>\n      <td>200.0</td>\n    </tr>\n    <tr>\n      <th>5</th>\n      <td>5</td>\n      <td>2023-06-01 08:00:00</td>\n      <td>ISA-002</td>\n      <td>55667</td>\n      <td>Ion source for plasma etching</td>\n      <td>1</td>\n      <td>Titanium</td>\n      <td>Vendor F</td>\n      <td>18000</td>\n      <td>15 weeks</td>\n      <td>...</td>\n      <td>B.1</td>\n      <td>Laser Cutting, Assembly</td>\n      <td>SEMI S890</td>\n      <td>Mass Spectrometry Test</td>\n      <td>Provided by vendor</td>\n      <td>Level 2</td>\n      <td>80</td>\n      <td>Custom packaging</td>\n      <td>RoHS, REACH</td>\n      <td>160.0</td>\n    </tr>\n    <tr>\n      <th>6</th>\n      <td>6</td>\n      <td>2023-07-01 08:00:00</td>\n      <td>CS-002</td>\n      <td>77889</td>\n      <td>Closed-loop coolant system</td>\n      <td>1</td>\n      <td>Stainless Steel</td>\n      <td>Vendor G</td>\n      <td>12000</td>\n      <td>10 weeks</td>\n      <td>...</td>\n      <td>A.2</td>\n      <td>CNC Machining</td>\n      <td>SEMI S678</td>\n      <td>Pressure Test</td>\n      <td>Provided by vendor</td>\n      <td>Level 1</td>\n      <td>60</td>\n      <td>Custom crate</td>\n      <td>RoHS, REACH</td>\n      <td>110.0</td>\n    </tr>\n    <tr>\n      <th>7</th>\n      <td>7</td>\n      <td>2023-08-01 08:00:00</td>\n      <td>PSU-002</td>\n      <td>99001</td>\n      <td>High-voltage power supply</td>\n      <td>1</td>\n      <td>Copper, Silicon</td>\n      <td>Vendor H</td>\n      <td>25000</td>\n      <td>18 weeks</td>\n      <td>...</td>\n      <td>A.1</td>\n      <td>Electronic Assembly</td>\n      <td>SEMI S345</td>\n      <td>Electrical Safety Tests</td>\n      <td>Provided by vendor</td>\n      <td>Level 2</td>\n      <td>120</td>\n      <td>Custom packaging</td>\n      <td>RoHS, REACH</td>\n      <td>220.0</td>\n    </tr>\n    <tr>\n      <th>8</th>\n      <td>8</td>\n      <td>2023-09-01 08:00:00</td>\n      <td>GPS-002</td>\n      <td>11223</td>\n      <td>Gas purification and filtration</td>\n      <td>1</td>\n      <td>Polypropylene</td>\n      <td>Vendor I</td>\n      <td>15000</td>\n      <td>12 weeks</td>\n      <td>...</td>\n      <td>A.1</td>\n      <td>Filtration and Purification</td>\n      <td>SEMI S456</td>\n      <td>Gas Purity Analysis</td>\n      <td>Provided by vendor</td>\n      <td>Level 1</td>\n      <td>45</td>\n      <td>Custom crate</td>\n      <td>RoHS, REACH</td>\n      <td>100.0</td>\n    </tr>\n    <tr>\n      <th>9</th>\n      <td>9</td>\n      <td>2023-10-01 08:00:00</td>\n      <td>TCU-002</td>\n      <td>33445</td>\n      <td>Precision temperature control</td>\n      <td>1</td>\n      <td>Inconel</td>\n      <td>Vendor J</td>\n      <td>20000</td>\n      <td>14 weeks</td>\n      <td>...</td>\n      <td>B.2</td>\n      <td>Thermoelectric Cooling</td>\n      <td>SEMI S789</td>\n      <td>Temperature Stability Test</td>\n      <td>Provided by vendor</td>\n      <td>Level 2</td>\n      <td>90</td>\n      <td>Custom packaging</td>\n      <td>RoHS, REACH</td>\n      <td>130.0</td>\n    </tr>\n    <tr>\n      <th>10</th>\n      <td>10</td>\n      <td>2023-11-01 08:00:00</td>\n      <td>EC-002</td>\n      <td>55667</td>\n      <td>Specialized chamber for etching process</td>\n      <td>1</td>\n      <td>Quartz</td>\n      <td>Vendor K</td>\n      <td>22000</td>\n      <td>16 weeks</td>\n      <td>...</td>\n      <td>A.3</td>\n      <td>Quartz Fabrication</td>\n      <td>SEMI S234</td>\n      <td>Visual Inspection</td>\n      <td>Provided by vendor</td>\n      <td>Level 2</td>\n      <td>100</td>\n      <td>Custom packaging</td>\n      <td>RoHS, REACH</td>\n      <td>190.0</td>\n    </tr>\n    <tr>\n      <th>11</th>\n      <td>11</td>\n      <td>2023-12-01 08:00:00</td>\n      <td>VS-002</td>\n      <td>77889</td>\n      <td>High-performance vacuum system</td>\n      <td>1</td>\n      <td>Stainless Steel</td>\n      <td>Vendor L</td>\n      <td>30000</td>\n      <td>20 weeks</td>\n      <td>...</td>\n      <td>B.1</td>\n      <td>Vacuum Technology</td>\n      <td>SEMI S567</td>\n      <td>Vacuum Integrity Test</td>\n      <td>Provided by vendor</td>\n      <td>Level 2</td>\n      <td>150</td>\n      <td>Custom crate</td>\n      <td>RoHS, REACH</td>\n      <td>240.0</td>\n    </tr>\n    <tr>\n      <th>12</th>\n      <td>12</td>\n      <td>2024-01-01 08:00:00</td>\n      <td>PCU-002</td>\n      <td>99001</td>\n      <td>Control system for plasma parameters</td>\n      <td>1</td>\n      <td>Electronic Components</td>\n      <td>Vendor M</td>\n      <td>15000</td>\n      <td>12 weeks</td>\n      <td>...</td>\n      <td>A.1</td>\n      <td>Electronic Assembly</td>\n      <td>SEMI S345</td>\n      <td>Electrical Tests</td>\n      <td>Provided by vendor</td>\n      <td>Level 1</td>\n      <td>70</td>\n      <td>Custom packaging</td>\n      <td>RoHS, REACH</td>\n      <td>210.0</td>\n    </tr>\n    <tr>\n      <th>13</th>\n      <td>13</td>\n      <td>2024-02-01 08:00:00</td>\n      <td>GFMS-002</td>\n      <td>11223</td>\n      <td>System for controlling gas flow rates</td>\n      <td>1</td>\n      <td>Stainless Steel</td>\n      <td>Vendor N</td>\n      <td>16000</td>\n      <td>14 weeks</td>\n      <td>...</td>\n      <td>A.2</td>\n      <td>Flow Rate Calibration</td>\n      <td>SEMI S678</td>\n      <td>Gas Flow Stability Test</td>\n      <td>Provided by vendor</td>\n      <td>Level 1</td>\n      <td>50</td>\n      <td>Custom crate</td>\n      <td>RoHS, REACH</td>\n      <td>180.0</td>\n    </tr>\n    <tr>\n      <th>14</th>\n      <td>14</td>\n      <td>2024-03-01 08:00:00</td>\n      <td>WLS-002</td>\n      <td>33445</td>\n      <td>System for loading wafers into chamber</td>\n      <td>1</td>\n      <td>Aluminum Alloy</td>\n      <td>Vendor O</td>\n      <td>10000</td>\n      <td>8 weeks</td>\n      <td>...</td>\n      <td>B.2</td>\n      <td>Automated Loading</td>\n      <td>SEMI S567</td>\n      <td>Robotic Tests</td>\n      <td>Provided by vendor</td>\n      <td>Level 1</td>\n      <td>30</td>\n      <td>Custom packaging</td>\n      <td>RoHS, REACH</td>\n      <td>160.0</td>\n    </tr>\n    <tr>\n      <th>16</th>\n      <td>16</td>\n      <td>2024-05-01 08:00:00</td>\n      <td>NEW-001</td>\n      <td>78901</td>\n      <td>Advanced Plasma Source</td>\n      <td>1</td>\n      <td>Ceramic</td>\n      <td>Vendor Q</td>\n      <td>22000</td>\n      <td>15 weeks</td>\n      <td>...</td>\n      <td>A.2</td>\n      <td>Advanced Plasma Generation</td>\n      <td>SEMI S890</td>\n      <td>Ion Energy Distribution</td>\n      <td>Provided by vendor</td>\n      <td>Level 2</td>\n      <td>75</td>\n      <td>Custom packaging</td>\n      <td>RoHS, REACH</td>\n      <td>170.0</td>\n    </tr>\n    <tr>\n      <th>17</th>\n      <td>17</td>\n      <td>2024-06-01 08:00:00</td>\n      <td>MEMS-002</td>\n      <td>12345</td>\n      <td>Micro-Etching Module</td>\n      <td>1</td>\n      <td>Silicon</td>\n      <td>Vendor R</td>\n      <td>18000</td>\n      <td>12 weeks</td>\n      <td>...</td>\n      <td>A.1</td>\n      <td>MEMS Fabrication</td>\n      <td>SEMI S456</td>\n      <td>Microstructural Analysis</td>\n      <td>Provided by vendor</td>\n      <td>Level 1</td>\n      <td>40</td>\n      <td>Custom crate</td>\n      <td>RoHS, REACH</td>\n      <td>130.0</td>\n    </tr>\n    <tr>\n      <th>18</th>\n      <td>18</td>\n      <td>2024-07-01 08:00:00</td>\n      <td>AFM-001</td>\n      <td>56789</td>\n      <td>Atomic Force Microscope Attachment</td>\n      <td>1</td>\n      <td>Titanium, Glass</td>\n      <td>Vendor S</td>\n      <td>25000</td>\n      <td>18 weeks</td>\n      <td>...</td>\n      <td>A.3</td>\n      <td>AFM Integration</td>\n      <td>SEMI S567</td>\n      <td>AFM Resolution Test</td>\n      <td>Provided by vendor</td>\n      <td>Level 2</td>\n      <td>85</td>\n      <td>Custom packaging</td>\n      <td>RoHS, REACH</td>\n      <td>190.0</td>\n    </tr>\n    <tr>\n      <th>19</th>\n      <td>19</td>\n      <td>2024-08-01 08:00:00</td>\n      <td>RFI-002</td>\n      <td>11223</td>\n      <td>Remote Plasma Inspection Unit</td>\n      <td>1</td>\n      <td>Stainless Steel</td>\n      <td>Vendor T</td>\n      <td>16000</td>\n      <td>14 weeks</td>\n      <td>...</td>\n      <td>A.2</td>\n      <td>Remote Plasma Technology</td>\n      <td>SEMI S678</td>\n      <td>Plasma Uniformity Test</td>\n      <td>Provided by vendor</td>\n      <td>Level 1</td>\n      <td>55</td>\n      <td>Custom crate</td>\n      <td>RoHS, REACH</td>\n      <td>150.0</td>\n    </tr>\n    <tr>\n      <th>20</th>\n      <td>20</td>\n      <td>2024-09-01 08:00:00</td>\n      <td>EUV-001</td>\n      <td>33445</td>\n      <td>Extreme Ultraviolet Light Source</td>\n      <td>1</td>\n      <td>Optical Elements</td>\n      <td>Vendor U</td>\n      <td>30000</td>\n      <td>20 weeks</td>\n      <td>...</td>\n      <td>B.1</td>\n      <td>EUV Technology</td>\n      <td>SEMI S234</td>\n      <td>Wavelength Accuracy Test</td>\n      <td>Provided by vendor</td>\n      <td>Level 2</td>\n      <td>120</td>\n      <td>Custom packaging</td>\n      <td>RoHS, REACH</td>\n      <td>220.0</td>\n    </tr>\n    <tr>\n      <th>21</th>\n      <td>21</td>\n      <td>2024-10-01 08:00:00</td>\n      <td>NANO-002</td>\n      <td>55667</td>\n      <td>Nanoparticle Deposition Module</td>\n      <td>1</td>\n      <td>Gold, Polymer</td>\n      <td>Vendor V</td>\n      <td>20000</td>\n      <td>16 weeks</td>\n      <td>...</td>\n      <td>A.3</td>\n      <td>Nanoparticle Deposition</td>\n      <td>SEMI S345</td>\n      <td>Nanoparticle Size Analysis</td>\n      <td>Provided by vendor</td>\n      <td>Level 2</td>\n      <td>70</td>\n      <td>Custom packaging</td>\n      <td>RoHS, REACH</td>\n      <td>200.0</td>\n    </tr>\n    <tr>\n      <th>22</th>\n      <td>22</td>\n      <td>2024-11-01 08:00:00</td>\n      <td>PCB-002</td>\n      <td>77889</td>\n      <td>Plasma Cleaning Brush Unit</td>\n      <td>1</td>\n      <td>Carbon Composite</td>\n      <td>Vendor W</td>\n      <td>12000</td>\n      <td>10 weeks</td>\n      <td>...</td>\n      <td>B.2</td>\n      <td>Plasma Brush Technology</td>\n      <td>SEMI S567</td>\n      <td>Cleaning Efficiency Test</td>\n      <td>Provided by vendor</td>\n      <td>Level 1</td>\n      <td>35</td>\n      <td>Custom crate</td>\n      <td>RoHS, REACH</td>\n      <td>110.0</td>\n    </tr>\n    <tr>\n      <th>23</th>\n      <td>23</td>\n      <td>2024-12-01 08:00:00</td>\n      <td>MIR-001</td>\n      <td>99001</td>\n      <td>Mid-Infrared Spectroscopy Module</td>\n      <td>1</td>\n      <td>Zinc Selenide</td>\n      <td>Vendor X</td>\n      <td>28000</td>\n      <td>22 weeks</td>\n      <td>...</td>\n      <td>A.1</td>\n      <td>MIR Spectroscopy Integration</td>\n      <td>SEMI S789</td>\n      <td>Spectral Resolution Test</td>\n      <td>Provided by vendor</td>\n      <td>Level 2</td>\n      <td>95</td>\n      <td>Custom packaging</td>\n      <td>RoHS, REACH</td>\n      <td>180.0</td>\n    </tr>\n    <tr>\n      <th>24</th>\n      <td>24</td>\n      <td>2025-01-01 08:00:00</td>\n      <td>PLC-002</td>\n      <td>11223</td>\n      <td>Plasma Control System</td>\n      <td>1</td>\n      <td>Electronic Components</td>\n      <td>Vendor Y</td>\n      <td>15000</td>\n      <td>12 weeks</td>\n      <td>...</td>\n      <td>A.1</td>\n      <td>Electronic Assembly</td>\n      <td>SEMI S456</td>\n      <td>Control System Tests</td>\n      <td>Provided by vendor</td>\n      <td>Level 1</td>\n      <td>50</td>\n      <td>Custom crate</td>\n      <td>RoHS, REACH</td>\n      <td>160.0</td>\n    </tr>\n    <tr>\n      <th>25</th>\n      <td>25</td>\n      <td>2025-02-01 08:00:00</td>\n      <td>PHOTO-002</td>\n      <td>33445</td>\n      <td>Photolithography Enhancement Unit</td>\n      <td>1</td>\n      <td>Glass, Quartz</td>\n      <td>Vendor Z</td>\n      <td>10000</td>\n      <td>8 weeks</td>\n      <td>...</td>\n      <td>B.2</td>\n      <td>Photolithography Integration</td>\n      <td>SEMI S678</td>\n      <td>Resolution Enhancement Test</td>\n      <td>Provided by vendor</td>\n      <td>Level 1</td>\n      <td>25</td>\n      <td>Custom packaging</td>\n      <td>RoHS, REACH</td>\n      <td>140.0</td>\n    </tr>\n    <tr>\n      <th>26</th>\n      <td>26</td>\n      <td>2025-03-01 08:00:00</td>\n      <td>FTIR-001</td>\n      <td>55667</td>\n      <td>Fourier Transform Infrared Spectroscopy Module</td>\n      <td>1</td>\n      <td>Zinc Sulfide</td>\n      <td>Vendor AA</td>\n      <td>22000</td>\n      <td>15 weeks</td>\n      <td>...</td>\n      <td>A.3</td>\n      <td>FTIR Spectroscopy Integration</td>\n      <td>SEMI S234</td>\n      <td>Spectral Analysis Test</td>\n      <td>Provided by vendor</td>\n      <td>Level 2</td>\n      <td>85</td>\n      <td>Custom packaging</td>\n      <td>RoHS, REACH</td>\n      <td>190.0</td>\n    </tr>\n    <tr>\n      <th>27</th>\n      <td>27</td>\n      <td>2025-04-01 08:00:00</td>\n      <td>CMP-002</td>\n      <td>77889</td>\n      <td>Chemical Mechanical Polishing Unit</td>\n      <td>1</td>\n      <td>Ceramic, Polyurethane</td>\n      <td>Vendor BB</td>\n      <td>16000</td>\n      <td>14 weeks</td>\n      <td>...</td>\n      <td>A.2</td>\n      <td>CMP Technology</td>\n      <td>SEMI S567</td>\n      <td>Polishing Uniformity Test</td>\n      <td>Provided by vendor</td>\n      <td>Level 1</td>\n      <td>55</td>\n      <td>Custom crate</td>\n      <td>RoHS, REACH</td>\n      <td>150.0</td>\n    </tr>\n    <tr>\n      <th>28</th>\n      <td>28</td>\n      <td>2025-05-01 08:00:00</td>\n      <td>HGA-001</td>\n      <td>99001</td>\n      <td>Hydrogen Gas Activation Unit</td>\n      <td>1</td>\n      <td>Stainless Steel</td>\n      <td>Vendor CC</td>\n      <td>18000</td>\n      <td>12 weeks</td>\n      <td>...</td>\n      <td>B.1</td>\n      <td>Hydrogen Activation Process</td>\n      <td>SEMI S789</td>\n      <td>Activation Efficiency Test</td>\n      <td>Provided by vendor</td>\n      <td>Level 1</td>\n      <td>40</td>\n      <td>Custom packaging</td>\n      <td>RoHS, REACH</td>\n      <td>170.0</td>\n    </tr>\n    <tr>\n      <th>29</th>\n      <td>29</td>\n      <td>2025-06-01 08:00:00</td>\n      <td>MAS-002</td>\n      <td>11223</td>\n      <td>Mass Spectrometry Analyzer</td>\n      <td>1</td>\n      <td>Aluminum Alloy, Glass</td>\n      <td>Vendor DD</td>\n      <td>25000</td>\n      <td>18 weeks</td>\n      <td>...</td>\n      <td>A.1</td>\n      <td>MAS Integration</td>\n      <td>SEMI S456</td>\n      <td>Mass Resolution Test</td>\n      <td>Provided by vendor</td>\n      <td>Level 2</td>\n      <td>110</td>\n      <td>Custom crate</td>\n      <td>RoHS, REACH</td>\n      <td>220.0</td>\n    </tr>\n    <tr>\n      <th>30</th>\n      <td>30</td>\n      <td>2025-07-01 08:00:00</td>\n      <td>THZ-001</td>\n      <td>33445</td>\n      <td>Terahertz Spectroscopy Module</td>\n      <td>1</td>\n      <td>Polyethylene, Silicon</td>\n      <td>Vendor EE</td>\n      <td>20000</td>\n      <td>16 weeks</td>\n      <td>...</td>\n      <td>B.2</td>\n      <td>THZ Spectroscopy Integration</td>\n      <td>SEMI S678</td>\n      <td>Terahertz Wave Analysis</td>\n      <td>Provided by vendor</td>\n      <td>Level 2</td>\n      <td>75</td>\n      <td>Custom packaging</td>\n      <td>RoHS, REACH</td>\n      <td>160.0</td>\n    </tr>\n    <tr>\n      <th>31</th>\n      <td>31</td>\n      <td>2025-08-01 08:00:00</td>\n      <td>RFQ-002</td>\n      <td>55667</td>\n      <td>Radio Frequency Quadrupole Unit</td>\n      <td>1</td>\n      <td>Copper, Teflon</td>\n      <td>Vendor FF</td>\n      <td>12000</td>\n      <td>10 weeks</td>\n      <td>...</td>\n      <td>A.3</td>\n      <td>RFQ Integration</td>\n      <td>SEMI S234</td>\n      <td>RFQ Stability Test</td>\n      <td>Provided by vendor</td>\n      <td>Level 1</td>\n      <td>35</td>\n      <td>Custom crate</td>\n      <td>RoHS, REACH</td>\n      <td>130.0</td>\n    </tr>\n    <tr>\n      <th>32</th>\n      <td>32</td>\n      <td>2025-09-01 08:00:00</td>\n      <td>TOF-001</td>\n      <td>77889</td>\n      <td>Time-of-Flight Mass Spectrometry Module</td>\n      <td>1</td>\n      <td>Gold, Quartz</td>\n      <td>Vendor GG</td>\n      <td>30000</td>\n      <td>20 weeks</td>\n      <td>...</td>\n      <td>A.2</td>\n      <td>TOF-MS Integration</td>\n      <td>SEMI S567</td>\n      <td>Mass Accuracy Test</td>\n      <td>Provided by vendor</td>\n      <td>Level 2</td>\n      <td>95</td>\n      <td>Custom packaging</td>\n      <td>RoHS, REACH</td>\n      <td>180.0</td>\n    </tr>\n    <tr>\n      <th>33</th>\n      <td>33</td>\n      <td>2025-10-01 08:00:00</td>\n      <td>DAC-002</td>\n      <td>99001</td>\n      <td>Digital-to-Analog Converter</td>\n      <td>1</td>\n      <td>Electronic Components</td>\n      <td>Vendor HH</td>\n      <td>15000</td>\n      <td>12 weeks</td>\n      <td>...</td>\n      <td>B.1</td>\n      <td>Electronics Integration</td>\n      <td>SEMI S345</td>\n      <td>Analog Signal Accuracy Test</td>\n      <td>Provided by vendor</td>\n      <td>Level 1</td>\n      <td>50</td>\n      <td>Custom crate</td>\n      <td>RoHS, REACH</td>\n      <td>140.0</td>\n    </tr>\n    <tr>\n      <th>34</th>\n      <td>34</td>\n      <td>2025-11-01 08:00:00</td>\n      <td>LC-002</td>\n      <td>11223</td>\n      <td>Liquid Chromatography Unit</td>\n      <td>1</td>\n      <td>Stainless Steel, Glass</td>\n      <td>Vendor II</td>\n      <td>10000</td>\n      <td>8 weeks</td>\n      <td>...</td>\n      <td>A.1</td>\n      <td>LC Integration</td>\n      <td>SEMI S456</td>\n      <td>Separation Efficiency Test</td>\n      <td>Provided by vendor</td>\n      <td>Level 1</td>\n      <td>25</td>\n      <td>Custom packaging</td>\n      <td>RoHS, REACH</td>\n      <td>120.0</td>\n    </tr>\n    <tr>\n      <th>35</th>\n      <td>35</td>\n      <td>2025-12-01 08:00:00</td>\n      <td>EDA-001</td>\n      <td>33445</td>\n      <td>Electrochemical Deposition Apparatus</td>\n      <td>1</td>\n      <td>Titanium, Polypropylene</td>\n      <td>Vendor JJ</td>\n      <td>28000</td>\n      <td>22 weeks</td>\n      <td>...</td>\n      <td>A.3</td>\n      <td>EDA Integration</td>\n      <td>SEMI S789</td>\n      <td>Deposition Uniformity Test</td>\n      <td>Provided by vendor</td>\n      <td>Level 2</td>\n      <td>80</td>\n      <td>Custom crate</td>\n      <td>RoHS, REACH</td>\n      <td>200.0</td>\n    </tr>\n    <tr>\n      <th>36</th>\n      <td>36</td>\n      <td>2026-01-01 08:00:00</td>\n      <td>AFR-002</td>\n      <td>55667</td>\n      <td>Atomic Force Resonance Module</td>\n      <td>1</td>\n      <td>Silicon, Aluminum</td>\n      <td>Vendor KK</td>\n      <td>22000</td>\n      <td>15 weeks</td>\n      <td>...</td>\n      <td>B.2</td>\n      <td>AFR Integration</td>\n      <td>SEMI S234</td>\n      <td>Resonance Frequency Test</td>\n      <td>Provided by vendor</td>\n      <td>Level 2</td>\n      <td>85</td>\n      <td>Custom packaging</td>\n      <td>RoHS, REACH</td>\n      <td>190.0</td>\n    </tr>\n    <tr>\n      <th>37</th>\n      <td>37</td>\n      <td>2026-02-01 08:00:00</td>\n      <td>PMS-001</td>\n      <td>77889</td>\n      <td>Plasma Monitoring System</td>\n      <td>1</td>\n      <td>Electronic Components, Ceramic</td>\n      <td>Vendor LL</td>\n      <td>16000</td>\n      <td>14 weeks</td>\n      <td>...</td>\n      <td>A.2</td>\n      <td>PMS Integration</td>\n      <td>SEMI S567</td>\n      <td>Plasma Characteristics Analysis</td>\n      <td>Provided by vendor</td>\n      <td>Level 1</td>\n      <td>55</td>\n      <td>Custom crate</td>\n      <td>RoHS, REACH</td>\n      <td>150.0</td>\n    </tr>\n    <tr>\n      <th>38</th>\n      <td>38</td>\n      <td>2026-03-01 08:00:00</td>\n      <td>HEA-002</td>\n      <td>99001</td>\n      <td>High-Energy Accelerator</td>\n      <td>1</td>\n      <td>Copper, Magnetic Alloy</td>\n      <td>Vendor MM</td>\n      <td>18000</td>\n      <td>12 weeks</td>\n      <td>...</td>\n      <td>A.1</td>\n      <td>HEA Integration</td>\n      <td>SEMI S678</td>\n      <td>Particle Acceleration Test</td>\n      <td>Provided by vendor</td>\n      <td>Level 1</td>\n      <td>40</td>\n      <td>Custom packaging</td>\n      <td>RoHS, REACH</td>\n      <td>170.0</td>\n    </tr>\n    <tr>\n      <th>39</th>\n      <td>39</td>\n      <td>2026-04-01 08:00:00</td>\n      <td>MFM-002</td>\n      <td>11223</td>\n      <td>Magnetic Field Manipulation Unit</td>\n      <td>1</td>\n      <td>Ferrite, Copper</td>\n      <td>Vendor NN</td>\n      <td>25000</td>\n      <td>18 weeks</td>\n      <td>...</td>\n      <td>A.3</td>\n      <td>MFM Integration</td>\n      <td>SEMI S456</td>\n      <td>Magnetic Field Uniformity Test</td>\n      <td>Provided by vendor</td>\n      <td>Level 2</td>\n      <td>110</td>\n      <td>Custom crate</td>\n      <td>RoHS, REACH</td>\n      <td>220.0</td>\n    </tr>\n    <tr>\n      <th>40</th>\n      <td>40</td>\n      <td>2026-05-01 08:00:00</td>\n      <td>DIE-001</td>\n      <td>33445</td>\n      <td>Dielectric Barrier Discharge Unit</td>\n      <td>1</td>\n      <td>Quartz, Dielectric Materials</td>\n      <td>Vendor OO</td>\n      <td>20000</td>\n      <td>16 weeks</td>\n      <td>...</td>\n      <td>B.2</td>\n      <td>DBD Integration</td>\n      <td>SEMI S567</td>\n      <td>Dielectric Barrier Discharge Test</td>\n      <td>Provided by vendor</td>\n      <td>Level 2</td>\n      <td>75</td>\n      <td>Custom packaging</td>\n      <td>RoHS, REACH</td>\n      <td>160.0</td>\n    </tr>\n    <tr>\n      <th>41</th>\n      <td>41</td>\n      <td>2026-06-01 08:00:00</td>\n      <td>LPC-002</td>\n      <td>55667</td>\n      <td>Low-Pressure Chamber Module</td>\n      <td>1</td>\n      <td>Stainless Steel, Polyethylene</td>\n      <td>Vendor PP</td>\n      <td>12000</td>\n      <td>10 weeks</td>\n      <td>...</td>\n      <td>A.2</td>\n      <td>LPC Integration</td>\n      <td>SEMI S234</td>\n      <td>Pressure Uniformity Test</td>\n      <td>Provided by vendor</td>\n      <td>Level 1</td>\n      <td>35</td>\n      <td>Custom crate</td>\n      <td>RoHS, REACH</td>\n      <td>130.0</td>\n    </tr>\n    <tr>\n      <th>42</th>\n      <td>42</td>\n      <td>2026-07-01 08:00:00</td>\n      <td>PRA-001</td>\n      <td>77889</td>\n      <td>Plasma Resonance Analyzer</td>\n      <td>1</td>\n      <td>Aluminum, Glass</td>\n      <td>Vendor QQ</td>\n      <td>30000</td>\n      <td>20 weeks</td>\n      <td>...</td>\n      <td>A.1</td>\n      <td>PRA Integration</td>\n      <td>SEMI S678</td>\n      <td>Plasma Resonance Frequency Test</td>\n      <td>Provided by vendor</td>\n      <td>Level 2</td>\n      <td>95</td>\n      <td>Custom crate</td>\n      <td>RoHS, REACH</td>\n      <td>180.0</td>\n    </tr>\n    <tr>\n      <th>43</th>\n      <td>43</td>\n      <td>2026-08-01 08:00:00</td>\n      <td>RMS-002</td>\n      <td>99001</td>\n      <td>Reactive Mass Spectrometry Module</td>\n      <td>1</td>\n      <td>Titanium, Quartz</td>\n      <td>Vendor RR</td>\n      <td>15000</td>\n      <td>12 weeks</td>\n      <td>...</td>\n      <td>B.1</td>\n      <td>RMS Integration</td>\n      <td>SEMI S345</td>\n      <td>Reactive Ionization Test</td>\n      <td>Provided by vendor</td>\n      <td>Level 1</td>\n      <td>50</td>\n      <td>Custom packaging</td>\n      <td>RoHS, REACH</td>\n      <td>140.0</td>\n    </tr>\n    <tr>\n      <th>44</th>\n      <td>44</td>\n      <td>2026-09-01 08:00:00</td>\n      <td>ACU-002</td>\n      <td>11223</td>\n      <td>Acoustic Control Unit</td>\n      <td>1</td>\n      <td>Plastic, Aluminum</td>\n      <td>Vendor SS</td>\n      <td>10000</td>\n      <td>8 weeks</td>\n      <td>...</td>\n      <td>A.3</td>\n      <td>ACU Integration</td>\n      <td>SEMI S456</td>\n      <td>Acoustic Wave Control Test</td>\n      <td>Provided by vendor</td>\n      <td>Level 1</td>\n      <td>25</td>\n      <td>Custom crate</td>\n      <td>RoHS, REACH</td>\n      <td>120.0</td>\n    </tr>\n    <tr>\n      <th>45</th>\n      <td>45</td>\n      <td>2026-10-01 08:00:00</td>\n      <td>SPA-001</td>\n      <td>33445</td>\n      <td>Spectroscopic Ellipsometry Module</td>\n      <td>1</td>\n      <td>Silicon, Glass</td>\n      <td>Vendor TT</td>\n      <td>28000</td>\n      <td>22 weeks</td>\n      <td>...</td>\n      <td>A.2</td>\n      <td>SPA Integration</td>\n      <td>SEMI S789</td>\n      <td>Ellipsometry Accuracy Test</td>\n      <td>Provided by vendor</td>\n      <td>Level 2</td>\n      <td>80</td>\n      <td>Custom packaging</td>\n      <td>RoHS, REACH</td>\n      <td>200.0</td>\n    </tr>\n    <tr>\n      <th>46</th>\n      <td>46</td>\n      <td>2026-11-01 08:00:00</td>\n      <td>CVL-002</td>\n      <td>55667</td>\n      <td>Cathode Voltage Limiter</td>\n      <td>1</td>\n      <td>Copper, Ceramic</td>\n      <td>Vendor UU</td>\n      <td>22000</td>\n      <td>15 weeks</td>\n      <td>...</td>\n      <td>B.2</td>\n      <td>CVL Integration</td>\n      <td>SEMI S234</td>\n      <td>Voltage Limiting Test</td>\n      <td>Provided by vendor</td>\n      <td>Level 2</td>\n      <td>85</td>\n      <td>Custom crate</td>\n      <td>RoHS, REACH</td>\n      <td>190.0</td>\n    </tr>\n    <tr>\n      <th>47</th>\n      <td>47</td>\n      <td>2026-12-01 08:00:00</td>\n      <td>PCS-002</td>\n      <td>77889</td>\n      <td>Plasma Control Software System</td>\n      <td>1</td>\n      <td>Software</td>\n      <td>Vendor VV</td>\n      <td>16000</td>\n      <td>14 weeks</td>\n      <td>...</td>\n      <td>A.1</td>\n      <td>Software Development</td>\n      <td>ISO 9001</td>\n      <td>Software Testing</td>\n      <td>Provided by vendor</td>\n      <td>Level 1</td>\n      <td>55</td>\n      <td>Digital delivery</td>\n      <td>RoHS, REACH</td>\n      <td>150.0</td>\n    </tr>\n    <tr>\n      <th>48</th>\n      <td>48</td>\n      <td>2027-01-01 08:00:00</td>\n      <td>RFS-002</td>\n      <td>99001</td>\n      <td>Residual Gas Analyzer</td>\n      <td>1</td>\n      <td>Stainless Steel, Glass</td>\n      <td>Vendor WW</td>\n      <td>18000</td>\n      <td>12 weeks</td>\n      <td>...</td>\n      <td>A.1</td>\n      <td>RFS Integration</td>\n      <td>SEMI S567</td>\n      <td>Gas Composition Analysis</td>\n      <td>Provided by vendor</td>\n      <td>Level 1</td>\n      <td>40</td>\n      <td>Custom packaging</td>\n      <td>RoHS, REACH</td>\n      <td>170.0</td>\n    </tr>\n    <tr>\n      <th>49</th>\n      <td>49</td>\n      <td>2027-02-01 08:00:00</td>\n      <td>DTP-001</td>\n      <td>11223</td>\n      <td>Dynamic Temperature Profiler</td>\n      <td>1</td>\n      <td>Inconel, Polyurethane</td>\n      <td>Vendor XX</td>\n      <td>25000</td>\n      <td>18 weeks</td>\n      <td>...</td>\n      <td>B.1</td>\n      <td>DTP Integration</td>\n      <td>SEMI S345</td>\n      <td>Temperature Profile Test</td>\n      <td>Provided by vendor</td>\n      <td>Level 2</td>\n      <td>110</td>\n      <td>Custom crate</td>\n      <td>RoHS, REACH</td>\n      <td>220.0</td>\n    </tr>\n    <tr>\n      <th>50</th>\n      <td>50</td>\n      <td>2027-03-01 08:00:00</td>\n      <td>LBC-002</td>\n      <td>33445</td>\n      <td>Laser Beam Collimation Unit</td>\n      <td>1</td>\n      <td>Aluminum, Optical Glass</td>\n      <td>Vendor YY</td>\n      <td>20000</td>\n      <td>16 weeks</td>\n      <td>...</td>\n      <td>A.3</td>\n      <td>LBC Integration</td>\n      <td>SEMI S456</td>\n      <td>Beam Collimation Accuracy Test</td>\n      <td>Provided by vendor</td>\n      <td>Level 2</td>\n      <td>75</td>\n      <td>Custom packaging</td>\n      <td>RoHS, REACH</td>\n      <td>160.0</td>\n    </tr>\n    <tr>\n      <th>51</th>\n      <td>51</td>\n      <td>2027-04-01 08:00:00</td>\n      <td>DAS-002</td>\n      <td>55667</td>\n      <td>Data Acquisition System</td>\n      <td>1</td>\n      <td>Electronic Components</td>\n      <td>Vendor ZZ</td>\n      <td>12000</td>\n      <td>10 weeks</td>\n      <td>...</td>\n      <td>A.2</td>\n      <td>DAS Integration</td>\n      <td>SEMI S678</td>\n      <td>Data Accuracy Test</td>\n      <td>Provided by vendor</td>\n      <td>Level 1</td>\n      <td>35</td>\n      <td>Custom crate</td>\n      <td>RoHS, REACH</td>\n      <td>130.0</td>\n    </tr>\n    <tr>\n      <th>52</th>\n      <td>52</td>\n      <td>2027-05-01 08:00:00</td>\n      <td>SPS-001</td>\n      <td>77889</td>\n      <td>Scanning Probe Microscopy System</td>\n      <td>1</td>\n      <td>Ceramic, Silicon</td>\n      <td>Vendor AAA</td>\n      <td>30000</td>\n      <td>20 weeks</td>\n      <td>...</td>\n      <td>A.1</td>\n      <td>SPS Integration</td>\n      <td>SEMI S234</td>\n      <td>Resolution Test</td>\n      <td>Provided by vendor</td>\n      <td>Level 2</td>\n      <td>95</td>\n      <td>Custom crate</td>\n      <td>RoHS, REACH</td>\n      <td>180.0</td>\n    </tr>\n    <tr>\n      <th>53</th>\n      <td>53</td>\n      <td>2027-06-01 08:00:00</td>\n      <td>GC-002</td>\n      <td>99001</td>\n      <td>Gas Chromatography Module</td>\n      <td>1</td>\n      <td>Stainless Steel, Glass</td>\n      <td>Vendor BBB</td>\n      <td>15000</td>\n      <td>12 weeks</td>\n      <td>...</td>\n      <td>B.2</td>\n      <td>GC Integration</td>\n      <td>SEMI S567</td>\n      <td>Separation Efficiency Test</td>\n      <td>Provided by vendor</td>\n      <td>Level 1</td>\n      <td>50</td>\n      <td>Custom packaging</td>\n      <td>RoHS, REACH</td>\n      <td>140.0</td>\n    </tr>\n    <tr>\n      <th>54</th>\n      <td>54</td>\n      <td>2027-07-01 08:00:00</td>\n      <td>HVM-002</td>\n      <td>11223</td>\n      <td>High-Voltage Modulator</td>\n      <td>1</td>\n      <td>Copper, Ceramic</td>\n      <td>Vendor CCC</td>\n      <td>10000</td>\n      <td>8 weeks</td>\n      <td>...</td>\n      <td>A.3</td>\n      <td>HVM Integration</td>\n      <td>SEMI S789</td>\n      <td>Voltage Modulation Test</td>\n      <td>Provided by vendor</td>\n      <td>Level 1</td>\n      <td>25</td>\n      <td>Custom crate</td>\n      <td>RoHS, REACH</td>\n      <td>120.0</td>\n    </tr>\n    <tr>\n      <th>55</th>\n      <td>55</td>\n      <td>2027-08-01 08:00:00</td>\n      <td>FTS-001</td>\n      <td>33445</td>\n      <td>Fourier Transform Spectrometer Module</td>\n      <td>1</td>\n      <td>Zinc Sulfide, Aluminum</td>\n      <td>Vendor DDD</td>\n      <td>28000</td>\n      <td>22 weeks</td>\n      <td>...</td>\n      <td>A.2</td>\n      <td>FTS Integration</td>\n      <td>SEMI S456</td>\n      <td>Spectral Resolution Test</td>\n      <td>Provided by vendor</td>\n      <td>Level 2</td>\n      <td>80</td>\n      <td>Custom packaging</td>\n      <td>RoHS, REACH</td>\n      <td>200.0</td>\n    </tr>\n    <tr>\n      <th>56</th>\n      <td>56</td>\n      <td>2027-09-01 08:00:00</td>\n      <td>ION-002</td>\n      <td>55667</td>\n      <td>Ion Implantation Module</td>\n      <td>1</td>\n      <td>Titanium, Silicon</td>\n      <td>Vendor EEE</td>\n      <td>22000</td>\n      <td>15 weeks</td>\n      <td>...</td>\n      <td>B.2</td>\n      <td>Ion Implantation Process</td>\n      <td>SEMI S678</td>\n      <td>Ion Dose Uniformity Test</td>\n      <td>Provided by vendor</td>\n      <td>Level 2</td>\n      <td>85</td>\n      <td>Custom crate</td>\n      <td>RoHS, REACH</td>\n      <td>190.0</td>\n    </tr>\n    <tr>\n      <th>57</th>\n      <td>57</td>\n      <td>2027-10-01 08:00:00</td>\n      <td>EMF-002</td>\n      <td>77889</td>\n      <td>Electrostatic Magnetic Field Module</td>\n      <td>1</td>\n      <td>Ferrite, Copper</td>\n      <td>Vendor FFF</td>\n      <td>16000</td>\n      <td>14 weeks</td>\n      <td>...</td>\n      <td>A.3</td>\n      <td>EMF Integration</td>\n      <td>SEMI S234</td>\n      <td>Magnetic Field Strength Test</td>\n      <td>Provided by vendor</td>\n      <td>Level 1</td>\n      <td>55</td>\n      <td>Custom crate</td>\n      <td>RoHS, REACH</td>\n      <td>150.0</td>\n    </tr>\n    <tr>\n      <th>58</th>\n      <td>58</td>\n      <td>2027-11-01 08:00:00</td>\n      <td>UTS-002</td>\n      <td>99001</td>\n      <td>Ultrasonic Testing System</td>\n      <td>1</td>\n      <td>Polyethylene, Aluminum</td>\n      <td>Vendor XYZ</td>\n      <td>15000</td>\n      <td>12 weeks</td>\n      <td>...</td>\n      <td>B.1</td>\n      <td>Ultrasonic Testing Integration</td>\n      <td>SEMI S345</td>\n      <td>Ultrasonic Testing</td>\n      <td>Provided by vendor</td>\n      <td>Level 1</td>\n      <td>50</td>\n      <td>Custom packaging</td>\n      <td>RoHS, REACH</td>\n      <td>140.0</td>\n    </tr>\n  </tbody>\n</table>\n<p>58 rows × 22 columns</p>\n</div>"
     },
     "execution_count": 14,
     "metadata": {},
     "output_type": "execute_result"
    }
   ],
   "source": [
    "df"
   ],
   "metadata": {
    "collapsed": false,
    "ExecuteTime": {
     "end_time": "2023-11-28T11:37:11.700319Z",
     "start_time": "2023-11-28T11:37:11.661993Z"
    }
   },
   "id": "52b03b1635e40f10"
  },
  {
   "cell_type": "code",
   "execution_count": 15,
   "outputs": [],
   "source": [
    "df['Weight']= df['Weight'].astype('int')"
   ],
   "metadata": {
    "collapsed": false,
    "ExecuteTime": {
     "end_time": "2023-11-28T11:37:11.700534Z",
     "start_time": "2023-11-28T11:37:11.664878Z"
    }
   },
   "id": "794b9fa13aba466a"
  },
  {
   "cell_type": "code",
   "execution_count": 16,
   "outputs": [
    {
     "name": "stdout",
     "output_type": "stream",
     "text": [
      "<class 'pandas.core.frame.DataFrame'>\n",
      "Index: 58 entries, 0 to 58\n",
      "Data columns (total 22 columns):\n",
      " #   Column                    Non-Null Count  Dtype  \n",
      "---  ------                    --------------  -----  \n",
      " 0   Unnamed: 0                58 non-null     int64  \n",
      " 1   Timestamp                 58 non-null     object \n",
      " 2   Component_Name            58 non-null     object \n",
      " 3   Part_Number               58 non-null     int64  \n",
      " 4   Description               58 non-null     object \n",
      " 5   Quantity                  58 non-null     int64  \n",
      " 6   Material                  58 non-null     object \n",
      " 7   Supplier                  58 non-null     object \n",
      " 8   Unit_Cost                 58 non-null     int64  \n",
      " 9   Lead_Time                 58 non-null     object \n",
      " 10  Criticality               58 non-null     object \n",
      " 11  Source_of_Supply          58 non-null     object \n",
      " 12  Revision_Level            58 non-null     object \n",
      " 13  Manufacturing_Process     58 non-null     object \n",
      " 14  Quality_Standards         58 non-null     object \n",
      " 15  Testing_Requirements      58 non-null     object \n",
      " 16  Assembly_Instructions     58 non-null     object \n",
      " 17  Subassembly_Level         58 non-null     object \n",
      " 18  Weight                    58 non-null     int64  \n",
      " 19  Packaging_Information     58 non-null     object \n",
      " 20  Environmental_Compliance  58 non-null     object \n",
      " 21  Demand                    58 non-null     float64\n",
      "dtypes: float64(1), int64(5), object(16)\n",
      "memory usage: 10.4+ KB\n"
     ]
    }
   ],
   "source": [
    "df.info()"
   ],
   "metadata": {
    "collapsed": false,
    "ExecuteTime": {
     "end_time": "2023-11-28T11:37:11.704268Z",
     "start_time": "2023-11-28T11:37:11.667972Z"
    }
   },
   "id": "a90f49970f86c42e"
  },
  {
   "cell_type": "code",
   "execution_count": 17,
   "outputs": [],
   "source": [
    "from sdv.metadata import SingleTableMetadata\n",
    "metadata = SingleTableMetadata()\n",
    "metadata.detect_from_dataframe(data=df)"
   ],
   "metadata": {
    "collapsed": false,
    "ExecuteTime": {
     "end_time": "2023-11-28T11:37:11.753434Z",
     "start_time": "2023-11-28T11:37:11.680161Z"
    }
   },
   "id": "aed19bf41120f9c9"
  },
  {
   "cell_type": "code",
   "execution_count": 18,
   "outputs": [
    {
     "data": {
      "text/plain": "{\n    \"columns\": {\n        \"Unnamed: 0\": {\n            \"sdtype\": \"id\"\n        },\n        \"Timestamp\": {\n            \"sdtype\": \"datetime\",\n            \"datetime_format\": \"%Y-%m-%d %H:%M:%S\"\n        },\n        \"Component_Name\": {\n            \"sdtype\": \"unknown\",\n            \"pii\": true\n        },\n        \"Part_Number\": {\n            \"sdtype\": \"numerical\"\n        },\n        \"Description\": {\n            \"sdtype\": \"unknown\",\n            \"pii\": true\n        },\n        \"Quantity\": {\n            \"sdtype\": \"categorical\"\n        },\n        \"Material\": {\n            \"sdtype\": \"unknown\",\n            \"pii\": true\n        },\n        \"Supplier\": {\n            \"sdtype\": \"unknown\",\n            \"pii\": true\n        },\n        \"Unit_Cost\": {\n            \"sdtype\": \"numerical\"\n        },\n        \"Lead_Time\": {\n            \"sdtype\": \"categorical\"\n        },\n        \"Criticality\": {\n            \"sdtype\": \"categorical\"\n        },\n        \"Source_of_Supply\": {\n            \"sdtype\": \"categorical\"\n        },\n        \"Revision_Level\": {\n            \"sdtype\": \"categorical\"\n        },\n        \"Manufacturing_Process\": {\n            \"sdtype\": \"unknown\",\n            \"pii\": true\n        },\n        \"Quality_Standards\": {\n            \"sdtype\": \"categorical\"\n        },\n        \"Testing_Requirements\": {\n            \"sdtype\": \"unknown\",\n            \"pii\": true\n        },\n        \"Assembly_Instructions\": {\n            \"sdtype\": \"categorical\"\n        },\n        \"Subassembly_Level\": {\n            \"sdtype\": \"categorical\"\n        },\n        \"Weight\": {\n            \"sdtype\": \"numerical\"\n        },\n        \"Packaging_Information\": {\n            \"sdtype\": \"categorical\"\n        },\n        \"Environmental_Compliance\": {\n            \"sdtype\": \"categorical\"\n        },\n        \"Demand\": {\n            \"sdtype\": \"numerical\"\n        }\n    },\n    \"primary_key\": \"Unnamed: 0\",\n    \"METADATA_SPEC_VERSION\": \"SINGLE_TABLE_V1\"\n}"
     },
     "execution_count": 18,
     "metadata": {},
     "output_type": "execute_result"
    }
   ],
   "source": [
    "metadata"
   ],
   "metadata": {
    "collapsed": false,
    "ExecuteTime": {
     "end_time": "2023-11-28T11:37:11.763669Z",
     "start_time": "2023-11-28T11:37:11.683107Z"
    }
   },
   "id": "661871e983215abb"
  },
  {
   "cell_type": "code",
   "execution_count": 19,
   "outputs": [
    {
     "data": {
      "text/plain": "{'columns': {'Unnamed: 0': {'sdtype': 'id'},\n  'Timestamp': {'sdtype': 'datetime', 'datetime_format': '%Y-%m-%d %H:%M:%S'},\n  'Component_Name': {'sdtype': 'unknown', 'pii': True},\n  'Part_Number': {'sdtype': 'numerical'},\n  'Description': {'sdtype': 'unknown', 'pii': True},\n  'Quantity': {'sdtype': 'categorical'},\n  'Material': {'sdtype': 'unknown', 'pii': True},\n  'Supplier': {'sdtype': 'unknown', 'pii': True},\n  'Unit_Cost': {'sdtype': 'numerical'},\n  'Lead_Time': {'sdtype': 'categorical'},\n  'Criticality': {'sdtype': 'categorical'},\n  'Source_of_Supply': {'sdtype': 'categorical'},\n  'Revision_Level': {'sdtype': 'categorical'},\n  'Manufacturing_Process': {'sdtype': 'unknown', 'pii': True},\n  'Quality_Standards': {'sdtype': 'categorical'},\n  'Testing_Requirements': {'sdtype': 'unknown', 'pii': True},\n  'Assembly_Instructions': {'sdtype': 'categorical'},\n  'Subassembly_Level': {'sdtype': 'categorical'},\n  'Weight': {'sdtype': 'numerical'},\n  'Packaging_Information': {'sdtype': 'categorical'},\n  'Environmental_Compliance': {'sdtype': 'categorical'},\n  'Demand': {'sdtype': 'numerical'}},\n 'primary_key': 'Unnamed: 0',\n 'METADATA_SPEC_VERSION': 'SINGLE_TABLE_V1'}"
     },
     "execution_count": 19,
     "metadata": {},
     "output_type": "execute_result"
    }
   ],
   "source": [
    "python_dict = metadata.to_dict()\n",
    "python_dict"
   ],
   "metadata": {
    "collapsed": false,
    "ExecuteTime": {
     "end_time": "2023-11-28T11:37:11.806366Z",
     "start_time": "2023-11-28T11:37:11.687188Z"
    }
   },
   "id": "5b605733e0888d1"
  },
  {
   "cell_type": "code",
   "execution_count": 20,
   "outputs": [
    {
     "data": {
      "image/svg+xml": "<?xml version=\"1.0\" encoding=\"UTF-8\" standalone=\"no\"?>\n<!DOCTYPE svg PUBLIC \"-//W3C//DTD SVG 1.1//EN\"\n \"http://www.w3.org/Graphics/SVG/1.1/DTD/svg11.dtd\">\n<!-- Generated by graphviz version 9.0.0 (20230911.1827)\n -->\n<!-- Title: Metadata Pages: 1 -->\n<svg width=\"167pt\" height=\"141pt\"\n viewBox=\"0.00 0.00 166.50 140.50\" xmlns=\"http://www.w3.org/2000/svg\" xmlns:xlink=\"http://www.w3.org/1999/xlink\">\n<g id=\"graph0\" class=\"graph\" transform=\"scale(1 1) rotate(0) translate(4 136.5)\">\n<title>Metadata</title>\n<polygon fill=\"white\" stroke=\"none\" points=\"-4,4 -4,-136.5 162.5,-136.5 162.5,4 -4,4\"/>\n<g id=\"node1\" class=\"node\">\n<title></title>\n<path fill=\"#ffec8b\" stroke=\"black\" d=\"M12,-0.5C12,-0.5 146.5,-0.5 146.5,-0.5 152.5,-0.5 158.5,-6.5 158.5,-12.5 158.5,-12.5 158.5,-120 158.5,-120 158.5,-126 152.5,-132 146.5,-132 146.5,-132 12,-132 12,-132 6,-132 0,-126 0,-120 0,-120 0,-12.5 0,-12.5 0,-6.5 6,-0.5 12,-0.5\"/>\n<text text-anchor=\"start\" x=\"8\" y=\"-114.7\" font-family=\"Times,serif\" font-size=\"14.00\">Columns</text>\n<text text-anchor=\"start\" x=\"8\" y=\"-98.2\" font-family=\"Times,serif\" font-size=\"14.00\">    • categorical : 10</text>\n<text text-anchor=\"start\" x=\"8\" y=\"-81.7\" font-family=\"Times,serif\" font-size=\"14.00\">    • datetime : 1</text>\n<text text-anchor=\"start\" x=\"8\" y=\"-65.2\" font-family=\"Times,serif\" font-size=\"14.00\">    • id : 1</text>\n<text text-anchor=\"start\" x=\"8\" y=\"-48.7\" font-family=\"Times,serif\" font-size=\"14.00\">    • numerical : 4</text>\n<text text-anchor=\"start\" x=\"8\" y=\"-32.2\" font-family=\"Times,serif\" font-size=\"14.00\">    • other : 6</text>\n<polyline fill=\"none\" stroke=\"black\" points=\"0,-25 158.5,-25\"/>\n<text text-anchor=\"start\" x=\"8\" y=\"-7.7\" font-family=\"Times,serif\" font-size=\"14.00\">Primary key: Unnamed: 0</text>\n</g>\n</g>\n</svg>\n",
      "text/plain": "<graphviz.graphs.Digraph at 0x2819f9d20>"
     },
     "execution_count": 20,
     "metadata": {},
     "output_type": "execute_result"
    }
   ],
   "source": [
    "\n",
    "metadata.visualize(\n",
    "    show_table_details='summarized',\n",
    "    output_filepath='my_metadata.png'\n",
    ")"
   ],
   "metadata": {
    "collapsed": false,
    "ExecuteTime": {
     "end_time": "2023-11-28T11:37:12.050945Z",
     "start_time": "2023-11-28T11:37:11.690145Z"
    }
   },
   "id": "b4e5a947abe8a689"
  },
  {
   "cell_type": "code",
   "execution_count": 21,
   "outputs": [],
   "source": [
    "metadata.validate_data(data=df)"
   ],
   "metadata": {
    "collapsed": false,
    "ExecuteTime": {
     "end_time": "2023-11-28T11:37:12.057655Z",
     "start_time": "2023-11-28T11:37:12.052848Z"
    }
   },
   "id": "cfaa8791f6325fcc"
  },
  {
   "cell_type": "code",
   "execution_count": 22,
   "outputs": [
    {
     "data": {
      "image/svg+xml": "<?xml version=\"1.0\" encoding=\"UTF-8\" standalone=\"no\"?>\n<!DOCTYPE svg PUBLIC \"-//W3C//DTD SVG 1.1//EN\"\n \"http://www.w3.org/Graphics/SVG/1.1/DTD/svg11.dtd\">\n<!-- Generated by graphviz version 9.0.0 (20230911.1827)\n -->\n<!-- Title: Metadata Pages: 1 -->\n<svg width=\"248pt\" height=\"405pt\"\n viewBox=\"0.00 0.00 248.25 404.50\" xmlns=\"http://www.w3.org/2000/svg\" xmlns:xlink=\"http://www.w3.org/1999/xlink\">\n<g id=\"graph0\" class=\"graph\" transform=\"scale(1 1) rotate(0) translate(4 400.5)\">\n<title>Metadata</title>\n<polygon fill=\"white\" stroke=\"none\" points=\"-4,4 -4,-400.5 244.25,-400.5 244.25,4 -4,4\"/>\n<g id=\"node1\" class=\"node\">\n<title></title>\n<path fill=\"#ffec8b\" stroke=\"black\" d=\"M12,-0.5C12,-0.5 228.25,-0.5 228.25,-0.5 234.25,-0.5 240.25,-6.5 240.25,-12.5 240.25,-12.5 240.25,-384 240.25,-384 240.25,-390 234.25,-396 228.25,-396 228.25,-396 12,-396 12,-396 6,-396 0,-390 0,-384 0,-384 0,-12.5 0,-12.5 0,-6.5 6,-0.5 12,-0.5\"/>\n<text text-anchor=\"start\" x=\"8\" y=\"-378.7\" font-family=\"Times,serif\" font-size=\"14.00\">Unnamed: 0 : id</text>\n<text text-anchor=\"start\" x=\"8\" y=\"-362.2\" font-family=\"Times,serif\" font-size=\"14.00\">Timestamp : datetime</text>\n<text text-anchor=\"start\" x=\"8\" y=\"-345.7\" font-family=\"Times,serif\" font-size=\"14.00\">Component_Name : unknown</text>\n<text text-anchor=\"start\" x=\"8\" y=\"-329.2\" font-family=\"Times,serif\" font-size=\"14.00\">Part_Number : numerical</text>\n<text text-anchor=\"start\" x=\"8\" y=\"-312.7\" font-family=\"Times,serif\" font-size=\"14.00\">Description : unknown</text>\n<text text-anchor=\"start\" x=\"8\" y=\"-296.2\" font-family=\"Times,serif\" font-size=\"14.00\">Quantity : categorical</text>\n<text text-anchor=\"start\" x=\"8\" y=\"-279.7\" font-family=\"Times,serif\" font-size=\"14.00\">Material : unknown</text>\n<text text-anchor=\"start\" x=\"8\" y=\"-263.2\" font-family=\"Times,serif\" font-size=\"14.00\">Supplier : unknown</text>\n<text text-anchor=\"start\" x=\"8\" y=\"-246.7\" font-family=\"Times,serif\" font-size=\"14.00\">Unit_Cost : numerical</text>\n<text text-anchor=\"start\" x=\"8\" y=\"-230.2\" font-family=\"Times,serif\" font-size=\"14.00\">Lead_Time : categorical</text>\n<text text-anchor=\"start\" x=\"8\" y=\"-213.7\" font-family=\"Times,serif\" font-size=\"14.00\">Criticality : categorical</text>\n<text text-anchor=\"start\" x=\"8\" y=\"-197.2\" font-family=\"Times,serif\" font-size=\"14.00\">Source_of_Supply : categorical</text>\n<text text-anchor=\"start\" x=\"8\" y=\"-180.7\" font-family=\"Times,serif\" font-size=\"14.00\">Revision_Level : categorical</text>\n<text text-anchor=\"start\" x=\"8\" y=\"-164.2\" font-family=\"Times,serif\" font-size=\"14.00\">Manufacturing_Process : unknown</text>\n<text text-anchor=\"start\" x=\"8\" y=\"-147.7\" font-family=\"Times,serif\" font-size=\"14.00\">Quality_Standards : categorical</text>\n<text text-anchor=\"start\" x=\"8\" y=\"-131.2\" font-family=\"Times,serif\" font-size=\"14.00\">Testing_Requirements : unknown</text>\n<text text-anchor=\"start\" x=\"8\" y=\"-114.7\" font-family=\"Times,serif\" font-size=\"14.00\">Assembly_Instructions : categorical</text>\n<text text-anchor=\"start\" x=\"8\" y=\"-98.2\" font-family=\"Times,serif\" font-size=\"14.00\">Subassembly_Level : categorical</text>\n<text text-anchor=\"start\" x=\"8\" y=\"-81.7\" font-family=\"Times,serif\" font-size=\"14.00\">Weight : numerical</text>\n<text text-anchor=\"start\" x=\"8\" y=\"-65.2\" font-family=\"Times,serif\" font-size=\"14.00\">Packaging_Information : categorical</text>\n<text text-anchor=\"start\" x=\"8\" y=\"-48.7\" font-family=\"Times,serif\" font-size=\"14.00\">Environmental_Compliance : categorical</text>\n<text text-anchor=\"start\" x=\"8\" y=\"-32.2\" font-family=\"Times,serif\" font-size=\"14.00\">Demand : numerical</text>\n<polyline fill=\"none\" stroke=\"black\" points=\"0,-25 240.25,-25\"/>\n<text text-anchor=\"start\" x=\"8\" y=\"-7.7\" font-family=\"Times,serif\" font-size=\"14.00\">Primary key: Unnamed: 0</text>\n</g>\n</g>\n</svg>\n",
      "text/plain": "<graphviz.graphs.Digraph at 0x2819fbe20>"
     },
     "execution_count": 22,
     "metadata": {},
     "output_type": "execute_result"
    }
   ],
   "source": [
    "metadata.visualize()"
   ],
   "metadata": {
    "collapsed": false,
    "ExecuteTime": {
     "end_time": "2023-11-28T11:37:12.227993Z",
     "start_time": "2023-11-28T11:37:12.055477Z"
    }
   },
   "id": "f48b9f7f649214fd"
  },
  {
   "cell_type": "code",
   "execution_count": 23,
   "outputs": [],
   "source": [
    "from sdv.single_table import GaussianCopulaSynthesizer\n",
    "\n",
    "# Step 1: Create the synthesizer\n",
    "synthesizer = GaussianCopulaSynthesizer(metadata)\n",
    "\n",
    "# Step 2: Train the synthesizer\n",
    "synthesizer.fit(df)\n",
    "\n",
    "# Step 3: Generate synthetic data\n",
    "synthetic_data = synthesizer.sample(num_rows=1000)"
   ],
   "metadata": {
    "collapsed": false,
    "ExecuteTime": {
     "end_time": "2023-11-28T11:37:12.847482Z",
     "start_time": "2023-11-28T11:37:12.229383Z"
    }
   },
   "id": "d5db3646651523e8"
  },
  {
   "cell_type": "code",
   "execution_count": 24,
   "outputs": [
    {
     "data": {
      "text/plain": "     Unnamed: 0            Timestamp Component_Name  Part_Number  \\\n0             0  2026-06-20 16:22:01  sdv-pii-18y5u        55300   \n1             1  2026-07-24 20:44:01  sdv-pii-43483        47627   \n2             2  2025-02-25 07:29:21  sdv-pii-4vuno        43942   \n3             3  2024-12-15 12:07:41  sdv-pii-i4ls1        97123   \n4             4  2025-04-28 10:54:56  sdv-pii-19pbh        20675   \n..          ...                  ...            ...          ...   \n995         995  2025-04-16 23:16:08  sdv-pii-2pg2n        50052   \n996         996  2023-06-25 04:27:13  sdv-pii-s6f18        39983   \n997         997  2025-05-23 22:13:48  sdv-pii-sgoo9        74951   \n998         998  2023-02-07 20:45:53  sdv-pii-4spgp        18090   \n999         999  2023-04-13 20:04:34  sdv-pii-c1oka        80777   \n\n       Description  Quantity       Material       Supplier  Unit_Cost  \\\n0    sdv-pii-56krt         1  sdv-pii-qhxyb  sdv-pii-824bi      27472   \n1    sdv-pii-yihw7         1  sdv-pii-1apol  sdv-pii-59xeh      15037   \n2    sdv-pii-66b63         1  sdv-pii-fhvun  sdv-pii-xac3l       8407   \n3    sdv-pii-dvq0s         1  sdv-pii-cv2gw  sdv-pii-27aec      18955   \n4    sdv-pii-moglv         1  sdv-pii-qt695  sdv-pii-mxl4e      23824   \n..             ...       ...            ...            ...        ...   \n995  sdv-pii-nipfn         1  sdv-pii-nyzs8  sdv-pii-5pu0m       8174   \n996  sdv-pii-wnbxg         1  sdv-pii-ybsth  sdv-pii-hhhqm      13033   \n997  sdv-pii-6x9gw         1  sdv-pii-l91c8  sdv-pii-b9bzp      27466   \n998  sdv-pii-tuvpq         1  sdv-pii-wijpt  sdv-pii-tsah5       8356   \n999  sdv-pii-1ipzs         1  sdv-pii-7rvqs  sdv-pii-ckn26       8145   \n\n    Lead_Time  ... Revision_Level Manufacturing_Process Quality_Standards  \\\n0    18 weeks  ...            B.1         sdv-pii-gqzvl         SEMI S345   \n1     8 weeks  ...            A.1         sdv-pii-1mrac         SEMI S345   \n2    14 weeks  ...            B.1         sdv-pii-stsqd         SEMI S234   \n3    14 weeks  ...            A.3         sdv-pii-7ehpd         SEMI S234   \n4    16 weeks  ...            B.1         sdv-pii-02h2l         SEMI S456   \n..        ...  ...            ...                   ...               ...   \n995  14 weeks  ...            A.1         sdv-pii-35uei         SEMI S567   \n996  12 weeks  ...            A.3         sdv-pii-ek7ck         SEMI S456   \n997  18 weeks  ...            A.1         sdv-pii-44sdt         SEMI S567   \n998   8 weeks  ...            A.3         sdv-pii-4047k         SEMI S456   \n999  12 weeks  ...            B.1         sdv-pii-lt5k8         SEMI S567   \n\n    Testing_Requirements Assembly_Instructions Subassembly_Level Weight  \\\n0          sdv-pii-boq2a    Provided by vendor           Level 2     25   \n1          sdv-pii-7ji20    Provided by vendor           Level 2     25   \n2          sdv-pii-po1ej    Provided by vendor           Level 2     25   \n3          sdv-pii-6r24g    Provided by vendor           Level 1     25   \n4          sdv-pii-uwx3v    Provided by vendor           Level 1     25   \n..                   ...                   ...               ...    ...   \n995        sdv-pii-nfymk    Provided by vendor           Level 2     25   \n996        sdv-pii-qzgmu    Provided by vendor           Level 1     25   \n997        sdv-pii-xsyim    Provided by vendor           Level 2     25   \n998        sdv-pii-0pqji    Provided by vendor           Level 2     25   \n999        sdv-pii-5dymi    Provided by vendor           Level 1     25   \n\n    Packaging_Information  Environmental_Compliance Demand  \n0            Custom crate               RoHS, REACH  212.0  \n1        Custom packaging               RoHS, REACH  137.0  \n2        Custom packaging               RoHS, REACH  110.0  \n3        Custom packaging               RoHS, REACH  177.0  \n4            Custom crate               RoHS, REACH  166.0  \n..                    ...                       ...    ...  \n995      Custom packaging               RoHS, REACH  116.0  \n996          Custom crate               RoHS, REACH  173.0  \n997          Custom crate               RoHS, REACH  234.0  \n998          Custom crate               RoHS, REACH   90.0  \n999          Custom crate               RoHS, REACH  115.0  \n\n[1000 rows x 22 columns]",
      "text/html": "<div>\n<style scoped>\n    .dataframe tbody tr th:only-of-type {\n        vertical-align: middle;\n    }\n\n    .dataframe tbody tr th {\n        vertical-align: top;\n    }\n\n    .dataframe thead th {\n        text-align: right;\n    }\n</style>\n<table border=\"1\" class=\"dataframe\">\n  <thead>\n    <tr style=\"text-align: right;\">\n      <th></th>\n      <th>Unnamed: 0</th>\n      <th>Timestamp</th>\n      <th>Component_Name</th>\n      <th>Part_Number</th>\n      <th>Description</th>\n      <th>Quantity</th>\n      <th>Material</th>\n      <th>Supplier</th>\n      <th>Unit_Cost</th>\n      <th>Lead_Time</th>\n      <th>...</th>\n      <th>Revision_Level</th>\n      <th>Manufacturing_Process</th>\n      <th>Quality_Standards</th>\n      <th>Testing_Requirements</th>\n      <th>Assembly_Instructions</th>\n      <th>Subassembly_Level</th>\n      <th>Weight</th>\n      <th>Packaging_Information</th>\n      <th>Environmental_Compliance</th>\n      <th>Demand</th>\n    </tr>\n  </thead>\n  <tbody>\n    <tr>\n      <th>0</th>\n      <td>0</td>\n      <td>2026-06-20 16:22:01</td>\n      <td>sdv-pii-18y5u</td>\n      <td>55300</td>\n      <td>sdv-pii-56krt</td>\n      <td>1</td>\n      <td>sdv-pii-qhxyb</td>\n      <td>sdv-pii-824bi</td>\n      <td>27472</td>\n      <td>18 weeks</td>\n      <td>...</td>\n      <td>B.1</td>\n      <td>sdv-pii-gqzvl</td>\n      <td>SEMI S345</td>\n      <td>sdv-pii-boq2a</td>\n      <td>Provided by vendor</td>\n      <td>Level 2</td>\n      <td>25</td>\n      <td>Custom crate</td>\n      <td>RoHS, REACH</td>\n      <td>212.0</td>\n    </tr>\n    <tr>\n      <th>1</th>\n      <td>1</td>\n      <td>2026-07-24 20:44:01</td>\n      <td>sdv-pii-43483</td>\n      <td>47627</td>\n      <td>sdv-pii-yihw7</td>\n      <td>1</td>\n      <td>sdv-pii-1apol</td>\n      <td>sdv-pii-59xeh</td>\n      <td>15037</td>\n      <td>8 weeks</td>\n      <td>...</td>\n      <td>A.1</td>\n      <td>sdv-pii-1mrac</td>\n      <td>SEMI S345</td>\n      <td>sdv-pii-7ji20</td>\n      <td>Provided by vendor</td>\n      <td>Level 2</td>\n      <td>25</td>\n      <td>Custom packaging</td>\n      <td>RoHS, REACH</td>\n      <td>137.0</td>\n    </tr>\n    <tr>\n      <th>2</th>\n      <td>2</td>\n      <td>2025-02-25 07:29:21</td>\n      <td>sdv-pii-4vuno</td>\n      <td>43942</td>\n      <td>sdv-pii-66b63</td>\n      <td>1</td>\n      <td>sdv-pii-fhvun</td>\n      <td>sdv-pii-xac3l</td>\n      <td>8407</td>\n      <td>14 weeks</td>\n      <td>...</td>\n      <td>B.1</td>\n      <td>sdv-pii-stsqd</td>\n      <td>SEMI S234</td>\n      <td>sdv-pii-po1ej</td>\n      <td>Provided by vendor</td>\n      <td>Level 2</td>\n      <td>25</td>\n      <td>Custom packaging</td>\n      <td>RoHS, REACH</td>\n      <td>110.0</td>\n    </tr>\n    <tr>\n      <th>3</th>\n      <td>3</td>\n      <td>2024-12-15 12:07:41</td>\n      <td>sdv-pii-i4ls1</td>\n      <td>97123</td>\n      <td>sdv-pii-dvq0s</td>\n      <td>1</td>\n      <td>sdv-pii-cv2gw</td>\n      <td>sdv-pii-27aec</td>\n      <td>18955</td>\n      <td>14 weeks</td>\n      <td>...</td>\n      <td>A.3</td>\n      <td>sdv-pii-7ehpd</td>\n      <td>SEMI S234</td>\n      <td>sdv-pii-6r24g</td>\n      <td>Provided by vendor</td>\n      <td>Level 1</td>\n      <td>25</td>\n      <td>Custom packaging</td>\n      <td>RoHS, REACH</td>\n      <td>177.0</td>\n    </tr>\n    <tr>\n      <th>4</th>\n      <td>4</td>\n      <td>2025-04-28 10:54:56</td>\n      <td>sdv-pii-19pbh</td>\n      <td>20675</td>\n      <td>sdv-pii-moglv</td>\n      <td>1</td>\n      <td>sdv-pii-qt695</td>\n      <td>sdv-pii-mxl4e</td>\n      <td>23824</td>\n      <td>16 weeks</td>\n      <td>...</td>\n      <td>B.1</td>\n      <td>sdv-pii-02h2l</td>\n      <td>SEMI S456</td>\n      <td>sdv-pii-uwx3v</td>\n      <td>Provided by vendor</td>\n      <td>Level 1</td>\n      <td>25</td>\n      <td>Custom crate</td>\n      <td>RoHS, REACH</td>\n      <td>166.0</td>\n    </tr>\n    <tr>\n      <th>...</th>\n      <td>...</td>\n      <td>...</td>\n      <td>...</td>\n      <td>...</td>\n      <td>...</td>\n      <td>...</td>\n      <td>...</td>\n      <td>...</td>\n      <td>...</td>\n      <td>...</td>\n      <td>...</td>\n      <td>...</td>\n      <td>...</td>\n      <td>...</td>\n      <td>...</td>\n      <td>...</td>\n      <td>...</td>\n      <td>...</td>\n      <td>...</td>\n      <td>...</td>\n      <td>...</td>\n    </tr>\n    <tr>\n      <th>995</th>\n      <td>995</td>\n      <td>2025-04-16 23:16:08</td>\n      <td>sdv-pii-2pg2n</td>\n      <td>50052</td>\n      <td>sdv-pii-nipfn</td>\n      <td>1</td>\n      <td>sdv-pii-nyzs8</td>\n      <td>sdv-pii-5pu0m</td>\n      <td>8174</td>\n      <td>14 weeks</td>\n      <td>...</td>\n      <td>A.1</td>\n      <td>sdv-pii-35uei</td>\n      <td>SEMI S567</td>\n      <td>sdv-pii-nfymk</td>\n      <td>Provided by vendor</td>\n      <td>Level 2</td>\n      <td>25</td>\n      <td>Custom packaging</td>\n      <td>RoHS, REACH</td>\n      <td>116.0</td>\n    </tr>\n    <tr>\n      <th>996</th>\n      <td>996</td>\n      <td>2023-06-25 04:27:13</td>\n      <td>sdv-pii-s6f18</td>\n      <td>39983</td>\n      <td>sdv-pii-wnbxg</td>\n      <td>1</td>\n      <td>sdv-pii-ybsth</td>\n      <td>sdv-pii-hhhqm</td>\n      <td>13033</td>\n      <td>12 weeks</td>\n      <td>...</td>\n      <td>A.3</td>\n      <td>sdv-pii-ek7ck</td>\n      <td>SEMI S456</td>\n      <td>sdv-pii-qzgmu</td>\n      <td>Provided by vendor</td>\n      <td>Level 1</td>\n      <td>25</td>\n      <td>Custom crate</td>\n      <td>RoHS, REACH</td>\n      <td>173.0</td>\n    </tr>\n    <tr>\n      <th>997</th>\n      <td>997</td>\n      <td>2025-05-23 22:13:48</td>\n      <td>sdv-pii-sgoo9</td>\n      <td>74951</td>\n      <td>sdv-pii-6x9gw</td>\n      <td>1</td>\n      <td>sdv-pii-l91c8</td>\n      <td>sdv-pii-b9bzp</td>\n      <td>27466</td>\n      <td>18 weeks</td>\n      <td>...</td>\n      <td>A.1</td>\n      <td>sdv-pii-44sdt</td>\n      <td>SEMI S567</td>\n      <td>sdv-pii-xsyim</td>\n      <td>Provided by vendor</td>\n      <td>Level 2</td>\n      <td>25</td>\n      <td>Custom crate</td>\n      <td>RoHS, REACH</td>\n      <td>234.0</td>\n    </tr>\n    <tr>\n      <th>998</th>\n      <td>998</td>\n      <td>2023-02-07 20:45:53</td>\n      <td>sdv-pii-4spgp</td>\n      <td>18090</td>\n      <td>sdv-pii-tuvpq</td>\n      <td>1</td>\n      <td>sdv-pii-wijpt</td>\n      <td>sdv-pii-tsah5</td>\n      <td>8356</td>\n      <td>8 weeks</td>\n      <td>...</td>\n      <td>A.3</td>\n      <td>sdv-pii-4047k</td>\n      <td>SEMI S456</td>\n      <td>sdv-pii-0pqji</td>\n      <td>Provided by vendor</td>\n      <td>Level 2</td>\n      <td>25</td>\n      <td>Custom crate</td>\n      <td>RoHS, REACH</td>\n      <td>90.0</td>\n    </tr>\n    <tr>\n      <th>999</th>\n      <td>999</td>\n      <td>2023-04-13 20:04:34</td>\n      <td>sdv-pii-c1oka</td>\n      <td>80777</td>\n      <td>sdv-pii-1ipzs</td>\n      <td>1</td>\n      <td>sdv-pii-7rvqs</td>\n      <td>sdv-pii-ckn26</td>\n      <td>8145</td>\n      <td>12 weeks</td>\n      <td>...</td>\n      <td>B.1</td>\n      <td>sdv-pii-lt5k8</td>\n      <td>SEMI S567</td>\n      <td>sdv-pii-5dymi</td>\n      <td>Provided by vendor</td>\n      <td>Level 1</td>\n      <td>25</td>\n      <td>Custom crate</td>\n      <td>RoHS, REACH</td>\n      <td>115.0</td>\n    </tr>\n  </tbody>\n</table>\n<p>1000 rows × 22 columns</p>\n</div>"
     },
     "execution_count": 24,
     "metadata": {},
     "output_type": "execute_result"
    }
   ],
   "source": [
    "synthetic_data"
   ],
   "metadata": {
    "collapsed": false,
    "ExecuteTime": {
     "end_time": "2023-11-28T11:37:12.856437Z",
     "start_time": "2023-11-28T11:37:12.849508Z"
    }
   },
   "id": "de104c78c29afd59"
  },
  {
   "cell_type": "code",
   "execution_count": 25,
   "outputs": [
    {
     "data": {
      "text/plain": "Unnamed: 0                  58\nTimestamp                   58\nComponent_Name              58\nPart_Number                 10\nDescription                 58\nQuantity                     1\nMaterial                    44\nSupplier                    58\nUnit_Cost                   12\nLead_Time                    9\nCriticality                  2\nSource_of_Supply             1\nRevision_Level               5\nManufacturing_Process       55\nQuality_Standards            9\nTesting_Requirements        54\nAssembly_Instructions        1\nSubassembly_Level            2\nWeight                      19\nPackaging_Information        3\nEnvironmental_Compliance     1\nDemand                      15\ndtype: int64"
     },
     "execution_count": 25,
     "metadata": {},
     "output_type": "execute_result"
    }
   ],
   "source": [
    "df.nunique()"
   ],
   "metadata": {
    "collapsed": false,
    "ExecuteTime": {
     "end_time": "2023-11-28T11:37:12.862812Z",
     "start_time": "2023-11-28T11:37:12.856806Z"
    }
   },
   "id": "e6ea025fefb441b2"
  },
  {
   "cell_type": "code",
   "execution_count": 26,
   "outputs": [
    {
     "data": {
      "text/plain": "Unnamed: 0                  1000\nTimestamp                    999\nComponent_Name              1000\nPart_Number                  994\nDescription                 1000\nQuantity                       1\nMaterial                    1000\nSupplier                    1000\nUnit_Cost                    971\nLead_Time                      9\nCriticality                    2\nSource_of_Supply               1\nRevision_Level                 5\nManufacturing_Process       1000\nQuality_Standards              8\nTesting_Requirements        1000\nAssembly_Instructions          1\nSubassembly_Level              2\nWeight                         1\nPackaging_Information          3\nEnvironmental_Compliance       1\nDemand                       144\ndtype: int64"
     },
     "execution_count": 26,
     "metadata": {},
     "output_type": "execute_result"
    }
   ],
   "source": [
    "synthetic_data.nunique()"
   ],
   "metadata": {
    "collapsed": false,
    "ExecuteTime": {
     "end_time": "2023-11-28T11:37:12.866934Z",
     "start_time": "2023-11-28T11:37:12.861024Z"
    }
   },
   "id": "bfea56dd163b56e1"
  },
  {
   "cell_type": "code",
   "execution_count": 27,
   "outputs": [],
   "source": [
    "from sdv.single_table import TVAESynthesizer\n",
    "\n",
    "synthesizer = TVAESynthesizer(\n",
    "    metadata, # required\n",
    "    enforce_min_max_values=False,\n",
    "    enforce_rounding=True,\n",
    "    epochs=500\n",
    ")"
   ],
   "metadata": {
    "collapsed": false,
    "ExecuteTime": {
     "end_time": "2023-11-28T11:37:12.883886Z",
     "start_time": "2023-11-28T11:37:12.866820Z"
    }
   },
   "id": "fd995e08d548f0ea"
  },
  {
   "cell_type": "code",
   "execution_count": 28,
   "outputs": [
    {
     "data": {
      "text/plain": "{'enforce_min_max_values': False,\n 'enforce_rounding': True,\n 'embedding_dim': 128,\n 'compress_dims': (128, 128),\n 'decompress_dims': (128, 128),\n 'l2scale': 1e-05,\n 'batch_size': 500,\n 'epochs': 500,\n 'loss_factor': 2,\n 'cuda': True}"
     },
     "execution_count": 28,
     "metadata": {},
     "output_type": "execute_result"
    }
   ],
   "source": [
    "synthesizer.get_parameters()"
   ],
   "metadata": {
    "collapsed": false,
    "ExecuteTime": {
     "end_time": "2023-11-28T11:37:12.912803Z",
     "start_time": "2023-11-28T11:37:12.871855Z"
    }
   },
   "id": "d446376f2a1fe4d1"
  },
  {
   "cell_type": "code",
   "execution_count": 29,
   "outputs": [],
   "source": [
    "metadata_syn = synthesizer.get_metadata()"
   ],
   "metadata": {
    "collapsed": false,
    "ExecuteTime": {
     "end_time": "2023-11-28T11:37:12.912978Z",
     "start_time": "2023-11-28T11:37:12.875159Z"
    }
   },
   "id": "19385e4e8e92f6c0"
  },
  {
   "cell_type": "code",
   "execution_count": 30,
   "outputs": [
    {
     "data": {
      "text/plain": "{\n    \"columns\": {\n        \"Unnamed: 0\": {\n            \"sdtype\": \"id\"\n        },\n        \"Timestamp\": {\n            \"sdtype\": \"datetime\",\n            \"datetime_format\": \"%Y-%m-%d %H:%M:%S\"\n        },\n        \"Component_Name\": {\n            \"sdtype\": \"unknown\",\n            \"pii\": true\n        },\n        \"Part_Number\": {\n            \"sdtype\": \"numerical\"\n        },\n        \"Description\": {\n            \"sdtype\": \"unknown\",\n            \"pii\": true\n        },\n        \"Quantity\": {\n            \"sdtype\": \"categorical\"\n        },\n        \"Material\": {\n            \"sdtype\": \"unknown\",\n            \"pii\": true\n        },\n        \"Supplier\": {\n            \"sdtype\": \"unknown\",\n            \"pii\": true\n        },\n        \"Unit_Cost\": {\n            \"sdtype\": \"numerical\"\n        },\n        \"Lead_Time\": {\n            \"sdtype\": \"categorical\"\n        },\n        \"Criticality\": {\n            \"sdtype\": \"categorical\"\n        },\n        \"Source_of_Supply\": {\n            \"sdtype\": \"categorical\"\n        },\n        \"Revision_Level\": {\n            \"sdtype\": \"categorical\"\n        },\n        \"Manufacturing_Process\": {\n            \"sdtype\": \"unknown\",\n            \"pii\": true\n        },\n        \"Quality_Standards\": {\n            \"sdtype\": \"categorical\"\n        },\n        \"Testing_Requirements\": {\n            \"sdtype\": \"unknown\",\n            \"pii\": true\n        },\n        \"Assembly_Instructions\": {\n            \"sdtype\": \"categorical\"\n        },\n        \"Subassembly_Level\": {\n            \"sdtype\": \"categorical\"\n        },\n        \"Weight\": {\n            \"sdtype\": \"numerical\"\n        },\n        \"Packaging_Information\": {\n            \"sdtype\": \"categorical\"\n        },\n        \"Environmental_Compliance\": {\n            \"sdtype\": \"categorical\"\n        },\n        \"Demand\": {\n            \"sdtype\": \"numerical\"\n        }\n    },\n    \"primary_key\": \"Unnamed: 0\",\n    \"METADATA_SPEC_VERSION\": \"SINGLE_TABLE_V1\"\n}"
     },
     "execution_count": 30,
     "metadata": {},
     "output_type": "execute_result"
    }
   ],
   "source": [
    "metadata_syn"
   ],
   "metadata": {
    "collapsed": false,
    "ExecuteTime": {
     "end_time": "2023-11-28T11:37:12.913199Z",
     "start_time": "2023-11-28T11:37:12.877755Z"
    }
   },
   "id": "64f8ac6cdc3b2d0d"
  },
  {
   "cell_type": "code",
   "execution_count": 31,
   "outputs": [],
   "source": [
    "synthesizer.fit(df)"
   ],
   "metadata": {
    "collapsed": false,
    "ExecuteTime": {
     "end_time": "2023-11-28T11:37:15.168239Z",
     "start_time": "2023-11-28T11:37:12.879903Z"
    }
   },
   "id": "1d31e4c8a2b41c84"
  },
  {
   "cell_type": "code",
   "execution_count": 32,
   "outputs": [],
   "source": [
    "\n",
    "synthetic_data = synthesizer.sample(num_rows=1000)"
   ],
   "metadata": {
    "collapsed": false,
    "ExecuteTime": {
     "end_time": "2023-11-28T11:37:15.247453Z",
     "start_time": "2023-11-28T11:37:15.168555Z"
    }
   },
   "id": "a56ac7b3dc499508"
  },
  {
   "cell_type": "code",
   "execution_count": 33,
   "outputs": [
    {
     "data": {
      "text/plain": "     Unnamed: 0            Timestamp Component_Name  Part_Number  \\\n0             0  2026-04-20 07:43:55  sdv-pii-18y5u        40408   \n1             1  2024-08-14 14:43:20  sdv-pii-43483        66371   \n2             2  2026-07-28 01:10:04  sdv-pii-4vuno        36480   \n3             3  2026-09-09 03:48:36  sdv-pii-i4ls1        23568   \n4             4  2026-05-22 11:17:02  sdv-pii-19pbh        89075   \n..          ...                  ...            ...          ...   \n995         995  2024-09-30 23:12:18  sdv-pii-2pg2n        48406   \n996         996  2027-01-09 12:15:58  sdv-pii-s6f18        38380   \n997         997  2027-03-11 05:27:58  sdv-pii-sgoo9        32631   \n998         998  2022-12-01 19:09:43  sdv-pii-4spgp        12308   \n999         999  2026-08-25 11:50:55  sdv-pii-c1oka        32674   \n\n       Description  Quantity       Material       Supplier  Unit_Cost  \\\n0    sdv-pii-56krt         1  sdv-pii-qhxyb  sdv-pii-824bi      15181   \n1    sdv-pii-yihw7         1  sdv-pii-1apol  sdv-pii-59xeh      15792   \n2    sdv-pii-66b63         1  sdv-pii-fhvun  sdv-pii-xac3l      21806   \n3    sdv-pii-dvq0s         1  sdv-pii-cv2gw  sdv-pii-27aec      25026   \n4    sdv-pii-moglv         1  sdv-pii-qt695  sdv-pii-mxl4e      12430   \n..             ...       ...            ...            ...        ...   \n995  sdv-pii-nipfn         1  sdv-pii-nyzs8  sdv-pii-5pu0m      18896   \n996  sdv-pii-wnbxg         1  sdv-pii-ybsth  sdv-pii-hhhqm      23872   \n997  sdv-pii-6x9gw         1  sdv-pii-l91c8  sdv-pii-b9bzp      14823   \n998  sdv-pii-tuvpq         1  sdv-pii-wijpt  sdv-pii-tsah5      15505   \n999  sdv-pii-1ipzs         1  sdv-pii-7rvqs  sdv-pii-ckn26      22576   \n\n    Lead_Time  ... Revision_Level Manufacturing_Process Quality_Standards  \\\n0    15 weeks  ...            B.2         sdv-pii-gqzvl         SEMI S678   \n1    15 weeks  ...            B.2         sdv-pii-1mrac         SEMI S789   \n2    15 weeks  ...            B.2         sdv-pii-stsqd         SEMI S678   \n3    18 weeks  ...            A.3         sdv-pii-7ehpd         SEMI S456   \n4    12 weeks  ...            B.2         sdv-pii-02h2l         SEMI S567   \n..        ...  ...            ...                   ...               ...   \n995  16 weeks  ...            A.3         sdv-pii-35uei         SEMI S567   \n996  12 weeks  ...            B.2         sdv-pii-ek7ck         SEMI S678   \n997  12 weeks  ...            B.2         sdv-pii-44sdt         SEMI S789   \n998   8 weeks  ...            A.1         sdv-pii-4047k         SEMI S456   \n999  15 weeks  ...            B.2         sdv-pii-lt5k8         SEMI S678   \n\n    Testing_Requirements Assembly_Instructions Subassembly_Level Weight  \\\n0          sdv-pii-boq2a    Provided by vendor           Level 2     66   \n1          sdv-pii-7ji20    Provided by vendor           Level 1     86   \n2          sdv-pii-po1ej    Provided by vendor           Level 2     95   \n3          sdv-pii-6r24g    Provided by vendor           Level 2     99   \n4          sdv-pii-uwx3v    Provided by vendor           Level 1     43   \n..                   ...                   ...               ...    ...   \n995        sdv-pii-nfymk    Provided by vendor           Level 2     64   \n996        sdv-pii-qzgmu    Provided by vendor           Level 1     66   \n997        sdv-pii-xsyim    Provided by vendor           Level 1     55   \n998        sdv-pii-0pqji    Provided by vendor           Level 1     45   \n999        sdv-pii-5dymi    Provided by vendor           Level 2     67   \n\n    Packaging_Information  Environmental_Compliance Demand  \n0            Custom crate               RoHS, REACH  144.0  \n1        Custom packaging               RoHS, REACH  168.0  \n2        Custom packaging               RoHS, REACH  142.0  \n3        Custom packaging               RoHS, REACH  169.0  \n4        Custom packaging               RoHS, REACH  150.0  \n..                    ...                       ...    ...  \n995          Custom crate               RoHS, REACH  167.0  \n996      Custom packaging               RoHS, REACH  120.0  \n997      Custom packaging               RoHS, REACH  146.0  \n998          Custom crate               RoHS, REACH  149.0  \n999      Custom packaging               RoHS, REACH  168.0  \n\n[1000 rows x 22 columns]",
      "text/html": "<div>\n<style scoped>\n    .dataframe tbody tr th:only-of-type {\n        vertical-align: middle;\n    }\n\n    .dataframe tbody tr th {\n        vertical-align: top;\n    }\n\n    .dataframe thead th {\n        text-align: right;\n    }\n</style>\n<table border=\"1\" class=\"dataframe\">\n  <thead>\n    <tr style=\"text-align: right;\">\n      <th></th>\n      <th>Unnamed: 0</th>\n      <th>Timestamp</th>\n      <th>Component_Name</th>\n      <th>Part_Number</th>\n      <th>Description</th>\n      <th>Quantity</th>\n      <th>Material</th>\n      <th>Supplier</th>\n      <th>Unit_Cost</th>\n      <th>Lead_Time</th>\n      <th>...</th>\n      <th>Revision_Level</th>\n      <th>Manufacturing_Process</th>\n      <th>Quality_Standards</th>\n      <th>Testing_Requirements</th>\n      <th>Assembly_Instructions</th>\n      <th>Subassembly_Level</th>\n      <th>Weight</th>\n      <th>Packaging_Information</th>\n      <th>Environmental_Compliance</th>\n      <th>Demand</th>\n    </tr>\n  </thead>\n  <tbody>\n    <tr>\n      <th>0</th>\n      <td>0</td>\n      <td>2026-04-20 07:43:55</td>\n      <td>sdv-pii-18y5u</td>\n      <td>40408</td>\n      <td>sdv-pii-56krt</td>\n      <td>1</td>\n      <td>sdv-pii-qhxyb</td>\n      <td>sdv-pii-824bi</td>\n      <td>15181</td>\n      <td>15 weeks</td>\n      <td>...</td>\n      <td>B.2</td>\n      <td>sdv-pii-gqzvl</td>\n      <td>SEMI S678</td>\n      <td>sdv-pii-boq2a</td>\n      <td>Provided by vendor</td>\n      <td>Level 2</td>\n      <td>66</td>\n      <td>Custom crate</td>\n      <td>RoHS, REACH</td>\n      <td>144.0</td>\n    </tr>\n    <tr>\n      <th>1</th>\n      <td>1</td>\n      <td>2024-08-14 14:43:20</td>\n      <td>sdv-pii-43483</td>\n      <td>66371</td>\n      <td>sdv-pii-yihw7</td>\n      <td>1</td>\n      <td>sdv-pii-1apol</td>\n      <td>sdv-pii-59xeh</td>\n      <td>15792</td>\n      <td>15 weeks</td>\n      <td>...</td>\n      <td>B.2</td>\n      <td>sdv-pii-1mrac</td>\n      <td>SEMI S789</td>\n      <td>sdv-pii-7ji20</td>\n      <td>Provided by vendor</td>\n      <td>Level 1</td>\n      <td>86</td>\n      <td>Custom packaging</td>\n      <td>RoHS, REACH</td>\n      <td>168.0</td>\n    </tr>\n    <tr>\n      <th>2</th>\n      <td>2</td>\n      <td>2026-07-28 01:10:04</td>\n      <td>sdv-pii-4vuno</td>\n      <td>36480</td>\n      <td>sdv-pii-66b63</td>\n      <td>1</td>\n      <td>sdv-pii-fhvun</td>\n      <td>sdv-pii-xac3l</td>\n      <td>21806</td>\n      <td>15 weeks</td>\n      <td>...</td>\n      <td>B.2</td>\n      <td>sdv-pii-stsqd</td>\n      <td>SEMI S678</td>\n      <td>sdv-pii-po1ej</td>\n      <td>Provided by vendor</td>\n      <td>Level 2</td>\n      <td>95</td>\n      <td>Custom packaging</td>\n      <td>RoHS, REACH</td>\n      <td>142.0</td>\n    </tr>\n    <tr>\n      <th>3</th>\n      <td>3</td>\n      <td>2026-09-09 03:48:36</td>\n      <td>sdv-pii-i4ls1</td>\n      <td>23568</td>\n      <td>sdv-pii-dvq0s</td>\n      <td>1</td>\n      <td>sdv-pii-cv2gw</td>\n      <td>sdv-pii-27aec</td>\n      <td>25026</td>\n      <td>18 weeks</td>\n      <td>...</td>\n      <td>A.3</td>\n      <td>sdv-pii-7ehpd</td>\n      <td>SEMI S456</td>\n      <td>sdv-pii-6r24g</td>\n      <td>Provided by vendor</td>\n      <td>Level 2</td>\n      <td>99</td>\n      <td>Custom packaging</td>\n      <td>RoHS, REACH</td>\n      <td>169.0</td>\n    </tr>\n    <tr>\n      <th>4</th>\n      <td>4</td>\n      <td>2026-05-22 11:17:02</td>\n      <td>sdv-pii-19pbh</td>\n      <td>89075</td>\n      <td>sdv-pii-moglv</td>\n      <td>1</td>\n      <td>sdv-pii-qt695</td>\n      <td>sdv-pii-mxl4e</td>\n      <td>12430</td>\n      <td>12 weeks</td>\n      <td>...</td>\n      <td>B.2</td>\n      <td>sdv-pii-02h2l</td>\n      <td>SEMI S567</td>\n      <td>sdv-pii-uwx3v</td>\n      <td>Provided by vendor</td>\n      <td>Level 1</td>\n      <td>43</td>\n      <td>Custom packaging</td>\n      <td>RoHS, REACH</td>\n      <td>150.0</td>\n    </tr>\n    <tr>\n      <th>...</th>\n      <td>...</td>\n      <td>...</td>\n      <td>...</td>\n      <td>...</td>\n      <td>...</td>\n      <td>...</td>\n      <td>...</td>\n      <td>...</td>\n      <td>...</td>\n      <td>...</td>\n      <td>...</td>\n      <td>...</td>\n      <td>...</td>\n      <td>...</td>\n      <td>...</td>\n      <td>...</td>\n      <td>...</td>\n      <td>...</td>\n      <td>...</td>\n      <td>...</td>\n      <td>...</td>\n    </tr>\n    <tr>\n      <th>995</th>\n      <td>995</td>\n      <td>2024-09-30 23:12:18</td>\n      <td>sdv-pii-2pg2n</td>\n      <td>48406</td>\n      <td>sdv-pii-nipfn</td>\n      <td>1</td>\n      <td>sdv-pii-nyzs8</td>\n      <td>sdv-pii-5pu0m</td>\n      <td>18896</td>\n      <td>16 weeks</td>\n      <td>...</td>\n      <td>A.3</td>\n      <td>sdv-pii-35uei</td>\n      <td>SEMI S567</td>\n      <td>sdv-pii-nfymk</td>\n      <td>Provided by vendor</td>\n      <td>Level 2</td>\n      <td>64</td>\n      <td>Custom crate</td>\n      <td>RoHS, REACH</td>\n      <td>167.0</td>\n    </tr>\n    <tr>\n      <th>996</th>\n      <td>996</td>\n      <td>2027-01-09 12:15:58</td>\n      <td>sdv-pii-s6f18</td>\n      <td>38380</td>\n      <td>sdv-pii-wnbxg</td>\n      <td>1</td>\n      <td>sdv-pii-ybsth</td>\n      <td>sdv-pii-hhhqm</td>\n      <td>23872</td>\n      <td>12 weeks</td>\n      <td>...</td>\n      <td>B.2</td>\n      <td>sdv-pii-ek7ck</td>\n      <td>SEMI S678</td>\n      <td>sdv-pii-qzgmu</td>\n      <td>Provided by vendor</td>\n      <td>Level 1</td>\n      <td>66</td>\n      <td>Custom packaging</td>\n      <td>RoHS, REACH</td>\n      <td>120.0</td>\n    </tr>\n    <tr>\n      <th>997</th>\n      <td>997</td>\n      <td>2027-03-11 05:27:58</td>\n      <td>sdv-pii-sgoo9</td>\n      <td>32631</td>\n      <td>sdv-pii-6x9gw</td>\n      <td>1</td>\n      <td>sdv-pii-l91c8</td>\n      <td>sdv-pii-b9bzp</td>\n      <td>14823</td>\n      <td>12 weeks</td>\n      <td>...</td>\n      <td>B.2</td>\n      <td>sdv-pii-44sdt</td>\n      <td>SEMI S789</td>\n      <td>sdv-pii-xsyim</td>\n      <td>Provided by vendor</td>\n      <td>Level 1</td>\n      <td>55</td>\n      <td>Custom packaging</td>\n      <td>RoHS, REACH</td>\n      <td>146.0</td>\n    </tr>\n    <tr>\n      <th>998</th>\n      <td>998</td>\n      <td>2022-12-01 19:09:43</td>\n      <td>sdv-pii-4spgp</td>\n      <td>12308</td>\n      <td>sdv-pii-tuvpq</td>\n      <td>1</td>\n      <td>sdv-pii-wijpt</td>\n      <td>sdv-pii-tsah5</td>\n      <td>15505</td>\n      <td>8 weeks</td>\n      <td>...</td>\n      <td>A.1</td>\n      <td>sdv-pii-4047k</td>\n      <td>SEMI S456</td>\n      <td>sdv-pii-0pqji</td>\n      <td>Provided by vendor</td>\n      <td>Level 1</td>\n      <td>45</td>\n      <td>Custom crate</td>\n      <td>RoHS, REACH</td>\n      <td>149.0</td>\n    </tr>\n    <tr>\n      <th>999</th>\n      <td>999</td>\n      <td>2026-08-25 11:50:55</td>\n      <td>sdv-pii-c1oka</td>\n      <td>32674</td>\n      <td>sdv-pii-1ipzs</td>\n      <td>1</td>\n      <td>sdv-pii-7rvqs</td>\n      <td>sdv-pii-ckn26</td>\n      <td>22576</td>\n      <td>15 weeks</td>\n      <td>...</td>\n      <td>B.2</td>\n      <td>sdv-pii-lt5k8</td>\n      <td>SEMI S678</td>\n      <td>sdv-pii-5dymi</td>\n      <td>Provided by vendor</td>\n      <td>Level 2</td>\n      <td>67</td>\n      <td>Custom packaging</td>\n      <td>RoHS, REACH</td>\n      <td>168.0</td>\n    </tr>\n  </tbody>\n</table>\n<p>1000 rows × 22 columns</p>\n</div>"
     },
     "execution_count": 33,
     "metadata": {},
     "output_type": "execute_result"
    }
   ],
   "source": [
    "synthetic_data"
   ],
   "metadata": {
    "collapsed": false,
    "ExecuteTime": {
     "end_time": "2023-11-28T11:37:15.258055Z",
     "start_time": "2023-11-28T11:37:15.248257Z"
    }
   },
   "id": "184acb7274e0746d"
  },
  {
   "cell_type": "code",
   "execution_count": 34,
   "outputs": [
    {
     "data": {
      "text/plain": "Unnamed: 0                  1000\nTimestamp                   1000\nComponent_Name              1000\nPart_Number                  998\nDescription                 1000\nQuantity                       1\nMaterial                    1000\nSupplier                    1000\nUnit_Cost                    970\nLead_Time                      9\nCriticality                    2\nSource_of_Supply               1\nRevision_Level                 5\nManufacturing_Process       1000\nQuality_Standards              8\nTesting_Requirements        1000\nAssembly_Instructions          1\nSubassembly_Level              2\nWeight                       112\nPackaging_Information          2\nEnvironmental_Compliance       1\nDemand                       118\ndtype: int64"
     },
     "execution_count": 34,
     "metadata": {},
     "output_type": "execute_result"
    }
   ],
   "source": [
    "synthetic_data.nunique()"
   ],
   "metadata": {
    "collapsed": false,
    "ExecuteTime": {
     "end_time": "2023-11-28T11:37:15.267085Z",
     "start_time": "2023-11-28T11:37:15.257995Z"
    }
   },
   "id": "f4a183f6dcdb5108"
  },
  {
   "cell_type": "code",
   "execution_count": 35,
   "outputs": [],
   "source": [
    "d = python_dict[('columns')]"
   ],
   "metadata": {
    "collapsed": false,
    "ExecuteTime": {
     "end_time": "2023-11-28T11:37:15.267236Z",
     "start_time": "2023-11-28T11:37:15.262659Z"
    }
   },
   "id": "cb127e396aad43a6"
  },
  {
   "cell_type": "code",
   "execution_count": 36,
   "outputs": [
    {
     "name": "stdout",
     "output_type": "stream",
     "text": [
      "{'sdtype': 'id'}\n",
      "{'sdtype': 'datetime', 'datetime_format': '%Y-%m-%d %H:%M:%S'}\n",
      "{'sdtype': 'unknown', 'pii': True}\n",
      "{'sdtype': 'numerical'}\n",
      "{'sdtype': 'unknown', 'pii': True}\n",
      "{'sdtype': 'categorical'}\n",
      "{'sdtype': 'unknown', 'pii': True}\n",
      "{'sdtype': 'unknown', 'pii': True}\n",
      "{'sdtype': 'numerical'}\n",
      "{'sdtype': 'categorical'}\n",
      "{'sdtype': 'categorical'}\n",
      "{'sdtype': 'categorical'}\n",
      "{'sdtype': 'categorical'}\n",
      "{'sdtype': 'unknown', 'pii': True}\n",
      "{'sdtype': 'categorical'}\n",
      "{'sdtype': 'unknown', 'pii': True}\n",
      "{'sdtype': 'categorical'}\n",
      "{'sdtype': 'categorical'}\n",
      "{'sdtype': 'numerical'}\n",
      "{'sdtype': 'categorical'}\n",
      "{'sdtype': 'categorical'}\n",
      "{'sdtype': 'numerical'}\n"
     ]
    }
   ],
   "source": [
    "for key,val in d.items():\n",
    "    print(val)"
   ],
   "metadata": {
    "collapsed": false,
    "ExecuteTime": {
     "end_time": "2023-11-28T11:37:15.269043Z",
     "start_time": "2023-11-28T11:37:15.265343Z"
    }
   },
   "id": "ca2605d43055c22b"
  },
  {
   "cell_type": "code",
   "execution_count": 37,
   "outputs": [
    {
     "data": {
      "text/plain": "     Unnamed: 0            Timestamp Component_Name  Part_Number  \\\n0             0  2023-01-01 08:00:00        CHM-001        12345   \n1             1  2023-02-01 08:00:00        LID-001        54321   \n2             2  2023-03-01 08:00:00        GDS-001        67890   \n3             3  2023-04-01 08:00:00        PSA-001        11223   \n4             4  2023-05-01 08:00:00        WHS-001        33445   \n..          ...                  ...            ...          ...   \n96           96  2029-09-01 08:00:00        ESR-002        33446   \n97           97  2029-10-01 08:00:00        EMS-002        55668   \n98           98  2029-11-01 08:00:00        PAS-002        77890   \n99           99  2029-12-01 08:00:00        CST-001        99002   \n100         100  2030-01-01 08:00:00        IMS-002        11224   \n\n                                       Description  Quantity  \\\n0                                Main chamber body         1   \n1                                  Lid for chamber         1   \n2                        Gas distribution manifold         1   \n3    RF Generator and Electrostatic Chuck Assembly         1   \n4                        Robot arm and wafer chuck         1   \n..                                             ...       ...   \n96                  Electron Spin Resonance Module         1   \n97                      Electron Microscopy System         1   \n98               Photoacoustic Spectroscopy Module         1   \n99                     Coating and Sputtering Tool         1   \n100                             Ion Milling System         1   \n\n                      Material   Supplier  Unit_Cost Lead_Time  ...  \\\n0              Stainless Steel   Vendor A      10000  12 weeks  ...   \n1               Aluminum Alloy   Vendor B       5000   8 weeks  ...   \n2              Stainless Steel   Vendor C       8000  10 weeks  ...   \n3                      Various   Vendor D      20000  14 weeks  ...   \n4      Aluminum Alloy, Ceramic   Vendor E      15000  16 weeks  ...   \n..                         ...        ...        ...       ...  ...   \n96             Silicon, Copper  Vendor VV      20000  16 weeks  ...   \n97             Titanium, Glass  Vendor WW      18000  14 weeks  ...   \n98             Quartz, Plastic  Vendor XX      15000  12 weeks  ...   \n99   Stainless Steel, Aluminum  Vendor YY      22000  18 weeks  ...   \n100           Aluminum, Quartz  Vendor ZZ      25000  20 weeks  ...   \n\n         Manufacturing_Process Quality_Standards      Testing_Requirements  \\\n0       CNC Machining, Welding         SEMI S123          Helium Leak Test   \n1                CNC Machining         SEMI S456         Visual Inspection   \n2          Precision Machining         SEMI S789                 Leak Test   \n3    Integration of Components         SEMI S234          Electrical Tests   \n4             Robotic Assembly         SEMI S567          Functional Tests   \n..                         ...               ...                       ...   \n96             ESR Integration         SEMI S678  Resonance Frequency Test   \n97             EMS Integration         SEMI S234           Resolution Test   \n98             PAS Integration         SEMI S345    Spectral Analysis Test   \n99      Coating and Sputtering         SEMI S567   Coating Uniformity Test   \n100            IMS Integration         SEMI S678   Milling Efficiency Test   \n\n    Assembly_Instructions Subassembly_Level Weight Packaging_Information  \\\n0      Provided by vendor           Level 1  200.0          Custom crate   \n1      Provided by vendor           Level 1   50.0      Custom packaging   \n2      Provided by vendor           Level 2   30.0          Custom crate   \n3      Provided by vendor           Level 2  100.0      Custom packaging   \n4      Provided by vendor           Level 2   40.0          Custom crate   \n..                    ...               ...    ...                   ...   \n96     Provided by vendor           Level 2   85.0          Custom crate   \n97     Provided by vendor           Level 1   60.0      Custom packaging   \n98     Provided by vendor           Level 2   75.0          Custom crate   \n99     Provided by vendor           Level 2   90.0      Custom packaging   \n100    Provided by vendor           Level 2   95.0          Custom crate   \n\n    Environmental_Compliance                 Safety_Considerations Demand  \n0                RoHS, REACH  Safety interlocks during maintenance  150.0  \n1                RoHS, REACH  Safety interlocks during lid opening  120.0  \n2                RoHS, REACH                                     -   90.0  \n3                RoHS, REACH    Safety interlocks during operation  180.0  \n4                RoHS, REACH     Safety interlocks during handling  200.0  \n..                       ...                                   ...    ...  \n96               RoHS, REACH    Safety interlocks during operation  190.0  \n97               RoHS, REACH                                     -  170.0  \n98               RoHS, REACH    Safety interlocks during operation  180.0  \n99               RoHS, REACH    Safety interlocks during operation  220.0  \n100              RoHS, REACH    Safety interlocks during operation  200.0  \n\n[101 rows x 23 columns]",
      "text/html": "<div>\n<style scoped>\n    .dataframe tbody tr th:only-of-type {\n        vertical-align: middle;\n    }\n\n    .dataframe tbody tr th {\n        vertical-align: top;\n    }\n\n    .dataframe thead th {\n        text-align: right;\n    }\n</style>\n<table border=\"1\" class=\"dataframe\">\n  <thead>\n    <tr style=\"text-align: right;\">\n      <th></th>\n      <th>Unnamed: 0</th>\n      <th>Timestamp</th>\n      <th>Component_Name</th>\n      <th>Part_Number</th>\n      <th>Description</th>\n      <th>Quantity</th>\n      <th>Material</th>\n      <th>Supplier</th>\n      <th>Unit_Cost</th>\n      <th>Lead_Time</th>\n      <th>...</th>\n      <th>Manufacturing_Process</th>\n      <th>Quality_Standards</th>\n      <th>Testing_Requirements</th>\n      <th>Assembly_Instructions</th>\n      <th>Subassembly_Level</th>\n      <th>Weight</th>\n      <th>Packaging_Information</th>\n      <th>Environmental_Compliance</th>\n      <th>Safety_Considerations</th>\n      <th>Demand</th>\n    </tr>\n  </thead>\n  <tbody>\n    <tr>\n      <th>0</th>\n      <td>0</td>\n      <td>2023-01-01 08:00:00</td>\n      <td>CHM-001</td>\n      <td>12345</td>\n      <td>Main chamber body</td>\n      <td>1</td>\n      <td>Stainless Steel</td>\n      <td>Vendor A</td>\n      <td>10000</td>\n      <td>12 weeks</td>\n      <td>...</td>\n      <td>CNC Machining, Welding</td>\n      <td>SEMI S123</td>\n      <td>Helium Leak Test</td>\n      <td>Provided by vendor</td>\n      <td>Level 1</td>\n      <td>200.0</td>\n      <td>Custom crate</td>\n      <td>RoHS, REACH</td>\n      <td>Safety interlocks during maintenance</td>\n      <td>150.0</td>\n    </tr>\n    <tr>\n      <th>1</th>\n      <td>1</td>\n      <td>2023-02-01 08:00:00</td>\n      <td>LID-001</td>\n      <td>54321</td>\n      <td>Lid for chamber</td>\n      <td>1</td>\n      <td>Aluminum Alloy</td>\n      <td>Vendor B</td>\n      <td>5000</td>\n      <td>8 weeks</td>\n      <td>...</td>\n      <td>CNC Machining</td>\n      <td>SEMI S456</td>\n      <td>Visual Inspection</td>\n      <td>Provided by vendor</td>\n      <td>Level 1</td>\n      <td>50.0</td>\n      <td>Custom packaging</td>\n      <td>RoHS, REACH</td>\n      <td>Safety interlocks during lid opening</td>\n      <td>120.0</td>\n    </tr>\n    <tr>\n      <th>2</th>\n      <td>2</td>\n      <td>2023-03-01 08:00:00</td>\n      <td>GDS-001</td>\n      <td>67890</td>\n      <td>Gas distribution manifold</td>\n      <td>1</td>\n      <td>Stainless Steel</td>\n      <td>Vendor C</td>\n      <td>8000</td>\n      <td>10 weeks</td>\n      <td>...</td>\n      <td>Precision Machining</td>\n      <td>SEMI S789</td>\n      <td>Leak Test</td>\n      <td>Provided by vendor</td>\n      <td>Level 2</td>\n      <td>30.0</td>\n      <td>Custom crate</td>\n      <td>RoHS, REACH</td>\n      <td>-</td>\n      <td>90.0</td>\n    </tr>\n    <tr>\n      <th>3</th>\n      <td>3</td>\n      <td>2023-04-01 08:00:00</td>\n      <td>PSA-001</td>\n      <td>11223</td>\n      <td>RF Generator and Electrostatic Chuck Assembly</td>\n      <td>1</td>\n      <td>Various</td>\n      <td>Vendor D</td>\n      <td>20000</td>\n      <td>14 weeks</td>\n      <td>...</td>\n      <td>Integration of Components</td>\n      <td>SEMI S234</td>\n      <td>Electrical Tests</td>\n      <td>Provided by vendor</td>\n      <td>Level 2</td>\n      <td>100.0</td>\n      <td>Custom packaging</td>\n      <td>RoHS, REACH</td>\n      <td>Safety interlocks during operation</td>\n      <td>180.0</td>\n    </tr>\n    <tr>\n      <th>4</th>\n      <td>4</td>\n      <td>2023-05-01 08:00:00</td>\n      <td>WHS-001</td>\n      <td>33445</td>\n      <td>Robot arm and wafer chuck</td>\n      <td>1</td>\n      <td>Aluminum Alloy, Ceramic</td>\n      <td>Vendor E</td>\n      <td>15000</td>\n      <td>16 weeks</td>\n      <td>...</td>\n      <td>Robotic Assembly</td>\n      <td>SEMI S567</td>\n      <td>Functional Tests</td>\n      <td>Provided by vendor</td>\n      <td>Level 2</td>\n      <td>40.0</td>\n      <td>Custom crate</td>\n      <td>RoHS, REACH</td>\n      <td>Safety interlocks during handling</td>\n      <td>200.0</td>\n    </tr>\n    <tr>\n      <th>...</th>\n      <td>...</td>\n      <td>...</td>\n      <td>...</td>\n      <td>...</td>\n      <td>...</td>\n      <td>...</td>\n      <td>...</td>\n      <td>...</td>\n      <td>...</td>\n      <td>...</td>\n      <td>...</td>\n      <td>...</td>\n      <td>...</td>\n      <td>...</td>\n      <td>...</td>\n      <td>...</td>\n      <td>...</td>\n      <td>...</td>\n      <td>...</td>\n      <td>...</td>\n      <td>...</td>\n    </tr>\n    <tr>\n      <th>96</th>\n      <td>96</td>\n      <td>2029-09-01 08:00:00</td>\n      <td>ESR-002</td>\n      <td>33446</td>\n      <td>Electron Spin Resonance Module</td>\n      <td>1</td>\n      <td>Silicon, Copper</td>\n      <td>Vendor VV</td>\n      <td>20000</td>\n      <td>16 weeks</td>\n      <td>...</td>\n      <td>ESR Integration</td>\n      <td>SEMI S678</td>\n      <td>Resonance Frequency Test</td>\n      <td>Provided by vendor</td>\n      <td>Level 2</td>\n      <td>85.0</td>\n      <td>Custom crate</td>\n      <td>RoHS, REACH</td>\n      <td>Safety interlocks during operation</td>\n      <td>190.0</td>\n    </tr>\n    <tr>\n      <th>97</th>\n      <td>97</td>\n      <td>2029-10-01 08:00:00</td>\n      <td>EMS-002</td>\n      <td>55668</td>\n      <td>Electron Microscopy System</td>\n      <td>1</td>\n      <td>Titanium, Glass</td>\n      <td>Vendor WW</td>\n      <td>18000</td>\n      <td>14 weeks</td>\n      <td>...</td>\n      <td>EMS Integration</td>\n      <td>SEMI S234</td>\n      <td>Resolution Test</td>\n      <td>Provided by vendor</td>\n      <td>Level 1</td>\n      <td>60.0</td>\n      <td>Custom packaging</td>\n      <td>RoHS, REACH</td>\n      <td>-</td>\n      <td>170.0</td>\n    </tr>\n    <tr>\n      <th>98</th>\n      <td>98</td>\n      <td>2029-11-01 08:00:00</td>\n      <td>PAS-002</td>\n      <td>77890</td>\n      <td>Photoacoustic Spectroscopy Module</td>\n      <td>1</td>\n      <td>Quartz, Plastic</td>\n      <td>Vendor XX</td>\n      <td>15000</td>\n      <td>12 weeks</td>\n      <td>...</td>\n      <td>PAS Integration</td>\n      <td>SEMI S345</td>\n      <td>Spectral Analysis Test</td>\n      <td>Provided by vendor</td>\n      <td>Level 2</td>\n      <td>75.0</td>\n      <td>Custom crate</td>\n      <td>RoHS, REACH</td>\n      <td>Safety interlocks during operation</td>\n      <td>180.0</td>\n    </tr>\n    <tr>\n      <th>99</th>\n      <td>99</td>\n      <td>2029-12-01 08:00:00</td>\n      <td>CST-001</td>\n      <td>99002</td>\n      <td>Coating and Sputtering Tool</td>\n      <td>1</td>\n      <td>Stainless Steel, Aluminum</td>\n      <td>Vendor YY</td>\n      <td>22000</td>\n      <td>18 weeks</td>\n      <td>...</td>\n      <td>Coating and Sputtering</td>\n      <td>SEMI S567</td>\n      <td>Coating Uniformity Test</td>\n      <td>Provided by vendor</td>\n      <td>Level 2</td>\n      <td>90.0</td>\n      <td>Custom packaging</td>\n      <td>RoHS, REACH</td>\n      <td>Safety interlocks during operation</td>\n      <td>220.0</td>\n    </tr>\n    <tr>\n      <th>100</th>\n      <td>100</td>\n      <td>2030-01-01 08:00:00</td>\n      <td>IMS-002</td>\n      <td>11224</td>\n      <td>Ion Milling System</td>\n      <td>1</td>\n      <td>Aluminum, Quartz</td>\n      <td>Vendor ZZ</td>\n      <td>25000</td>\n      <td>20 weeks</td>\n      <td>...</td>\n      <td>IMS Integration</td>\n      <td>SEMI S678</td>\n      <td>Milling Efficiency Test</td>\n      <td>Provided by vendor</td>\n      <td>Level 2</td>\n      <td>95.0</td>\n      <td>Custom crate</td>\n      <td>RoHS, REACH</td>\n      <td>Safety interlocks during operation</td>\n      <td>200.0</td>\n    </tr>\n  </tbody>\n</table>\n<p>101 rows × 23 columns</p>\n</div>"
     },
     "execution_count": 37,
     "metadata": {},
     "output_type": "execute_result"
    }
   ],
   "source": [
    "df = pd.read_csv('../dataset/ALE_dataset.csv')\n",
    "df"
   ],
   "metadata": {
    "collapsed": false,
    "ExecuteTime": {
     "end_time": "2023-11-28T11:37:15.312664Z",
     "start_time": "2023-11-28T11:37:15.267203Z"
    }
   },
   "id": "f9be4ff839dcdb64"
  },
  {
   "cell_type": "code",
   "execution_count": 38,
   "outputs": [
    {
     "data": {
      "text/plain": "Unnamed: 0                  101\nTimestamp                    92\nComponent_Name              100\nPart_Number                  16\nDescription                 100\nQuantity                      1\nMaterial                     62\nSupplier                     59\nUnit_Cost                    22\nLead_Time                    11\nCriticality                   3\nSource_of_Supply              1\nRevision_Level                5\nManufacturing_Process        93\nQuality_Standards            10\nTesting_Requirements         75\nAssembly_Instructions         1\nSubassembly_Level             3\nWeight                       27\nPackaging_Information         3\nEnvironmental_Compliance      1\nSafety_Considerations         5\nDemand                       27\ndtype: int64"
     },
     "execution_count": 38,
     "metadata": {},
     "output_type": "execute_result"
    }
   ],
   "source": [
    "df.nunique()"
   ],
   "metadata": {
    "collapsed": false,
    "ExecuteTime": {
     "end_time": "2023-11-28T11:37:15.328440Z",
     "start_time": "2023-11-28T11:37:15.279321Z"
    }
   },
   "id": "9770148be85aebb4"
  },
  {
   "cell_type": "code",
   "execution_count": 39,
   "outputs": [
    {
     "data": {
      "text/plain": "Unnamed: 0                  0\nTimestamp                   0\nComponent_Name              0\nPart_Number                 0\nDescription                 0\nQuantity                    0\nMaterial                    0\nSupplier                    0\nUnit_Cost                   0\nLead_Time                   0\nCriticality                 0\nSource_of_Supply            0\nRevision_Level              0\nManufacturing_Process       0\nQuality_Standards           0\nTesting_Requirements        0\nAssembly_Instructions       1\nSubassembly_Level           1\nWeight                      1\nPackaging_Information       2\nEnvironmental_Compliance    2\nSafety_Considerations       2\nDemand                      1\ndtype: int64"
     },
     "execution_count": 39,
     "metadata": {},
     "output_type": "execute_result"
    }
   ],
   "source": [
    "df.isnull().sum()"
   ],
   "metadata": {
    "collapsed": false,
    "ExecuteTime": {
     "end_time": "2023-11-28T11:37:15.329306Z",
     "start_time": "2023-11-28T11:37:15.284854Z"
    }
   },
   "id": "e1924ea91af9818"
  },
  {
   "cell_type": "code",
   "execution_count": 40,
   "outputs": [],
   "source": [
    "df = df.dropna()"
   ],
   "metadata": {
    "collapsed": false,
    "ExecuteTime": {
     "end_time": "2023-11-28T11:37:15.329390Z",
     "start_time": "2023-11-28T11:37:15.288283Z"
    }
   },
   "id": "1ddc0523ad4ccaa"
  },
  {
   "cell_type": "code",
   "execution_count": 41,
   "outputs": [
    {
     "data": {
      "text/plain": "     Unnamed: 0            Timestamp Component_Name  Part_Number  \\\n0             0  2023-01-01 08:00:00        CHM-001        12345   \n1             1  2023-02-01 08:00:00        LID-001        54321   \n2             2  2023-03-01 08:00:00        GDS-001        67890   \n3             3  2023-04-01 08:00:00        PSA-001        11223   \n4             4  2023-05-01 08:00:00        WHS-001        33445   \n..          ...                  ...            ...          ...   \n96           96  2029-09-01 08:00:00        ESR-002        33446   \n97           97  2029-10-01 08:00:00        EMS-002        55668   \n98           98  2029-11-01 08:00:00        PAS-002        77890   \n99           99  2029-12-01 08:00:00        CST-001        99002   \n100         100  2030-01-01 08:00:00        IMS-002        11224   \n\n                                       Description  Quantity  \\\n0                                Main chamber body         1   \n1                                  Lid for chamber         1   \n2                        Gas distribution manifold         1   \n3    RF Generator and Electrostatic Chuck Assembly         1   \n4                        Robot arm and wafer chuck         1   \n..                                             ...       ...   \n96                  Electron Spin Resonance Module         1   \n97                      Electron Microscopy System         1   \n98               Photoacoustic Spectroscopy Module         1   \n99                     Coating and Sputtering Tool         1   \n100                             Ion Milling System         1   \n\n                      Material   Supplier  Unit_Cost Lead_Time  ...  \\\n0              Stainless Steel   Vendor A      10000  12 weeks  ...   \n1               Aluminum Alloy   Vendor B       5000   8 weeks  ...   \n2              Stainless Steel   Vendor C       8000  10 weeks  ...   \n3                      Various   Vendor D      20000  14 weeks  ...   \n4      Aluminum Alloy, Ceramic   Vendor E      15000  16 weeks  ...   \n..                         ...        ...        ...       ...  ...   \n96             Silicon, Copper  Vendor VV      20000  16 weeks  ...   \n97             Titanium, Glass  Vendor WW      18000  14 weeks  ...   \n98             Quartz, Plastic  Vendor XX      15000  12 weeks  ...   \n99   Stainless Steel, Aluminum  Vendor YY      22000  18 weeks  ...   \n100           Aluminum, Quartz  Vendor ZZ      25000  20 weeks  ...   \n\n         Manufacturing_Process Quality_Standards      Testing_Requirements  \\\n0       CNC Machining, Welding         SEMI S123          Helium Leak Test   \n1                CNC Machining         SEMI S456         Visual Inspection   \n2          Precision Machining         SEMI S789                 Leak Test   \n3    Integration of Components         SEMI S234          Electrical Tests   \n4             Robotic Assembly         SEMI S567          Functional Tests   \n..                         ...               ...                       ...   \n96             ESR Integration         SEMI S678  Resonance Frequency Test   \n97             EMS Integration         SEMI S234           Resolution Test   \n98             PAS Integration         SEMI S345    Spectral Analysis Test   \n99      Coating and Sputtering         SEMI S567   Coating Uniformity Test   \n100            IMS Integration         SEMI S678   Milling Efficiency Test   \n\n    Assembly_Instructions Subassembly_Level Weight Packaging_Information  \\\n0      Provided by vendor           Level 1  200.0          Custom crate   \n1      Provided by vendor           Level 1   50.0      Custom packaging   \n2      Provided by vendor           Level 2   30.0          Custom crate   \n3      Provided by vendor           Level 2  100.0      Custom packaging   \n4      Provided by vendor           Level 2   40.0          Custom crate   \n..                    ...               ...    ...                   ...   \n96     Provided by vendor           Level 2   85.0          Custom crate   \n97     Provided by vendor           Level 1   60.0      Custom packaging   \n98     Provided by vendor           Level 2   75.0          Custom crate   \n99     Provided by vendor           Level 2   90.0      Custom packaging   \n100    Provided by vendor           Level 2   95.0          Custom crate   \n\n    Environmental_Compliance                 Safety_Considerations Demand  \n0                RoHS, REACH  Safety interlocks during maintenance  150.0  \n1                RoHS, REACH  Safety interlocks during lid opening  120.0  \n2                RoHS, REACH                                     -   90.0  \n3                RoHS, REACH    Safety interlocks during operation  180.0  \n4                RoHS, REACH     Safety interlocks during handling  200.0  \n..                       ...                                   ...    ...  \n96               RoHS, REACH    Safety interlocks during operation  190.0  \n97               RoHS, REACH                                     -  170.0  \n98               RoHS, REACH    Safety interlocks during operation  180.0  \n99               RoHS, REACH    Safety interlocks during operation  220.0  \n100              RoHS, REACH    Safety interlocks during operation  200.0  \n\n[99 rows x 23 columns]",
      "text/html": "<div>\n<style scoped>\n    .dataframe tbody tr th:only-of-type {\n        vertical-align: middle;\n    }\n\n    .dataframe tbody tr th {\n        vertical-align: top;\n    }\n\n    .dataframe thead th {\n        text-align: right;\n    }\n</style>\n<table border=\"1\" class=\"dataframe\">\n  <thead>\n    <tr style=\"text-align: right;\">\n      <th></th>\n      <th>Unnamed: 0</th>\n      <th>Timestamp</th>\n      <th>Component_Name</th>\n      <th>Part_Number</th>\n      <th>Description</th>\n      <th>Quantity</th>\n      <th>Material</th>\n      <th>Supplier</th>\n      <th>Unit_Cost</th>\n      <th>Lead_Time</th>\n      <th>...</th>\n      <th>Manufacturing_Process</th>\n      <th>Quality_Standards</th>\n      <th>Testing_Requirements</th>\n      <th>Assembly_Instructions</th>\n      <th>Subassembly_Level</th>\n      <th>Weight</th>\n      <th>Packaging_Information</th>\n      <th>Environmental_Compliance</th>\n      <th>Safety_Considerations</th>\n      <th>Demand</th>\n    </tr>\n  </thead>\n  <tbody>\n    <tr>\n      <th>0</th>\n      <td>0</td>\n      <td>2023-01-01 08:00:00</td>\n      <td>CHM-001</td>\n      <td>12345</td>\n      <td>Main chamber body</td>\n      <td>1</td>\n      <td>Stainless Steel</td>\n      <td>Vendor A</td>\n      <td>10000</td>\n      <td>12 weeks</td>\n      <td>...</td>\n      <td>CNC Machining, Welding</td>\n      <td>SEMI S123</td>\n      <td>Helium Leak Test</td>\n      <td>Provided by vendor</td>\n      <td>Level 1</td>\n      <td>200.0</td>\n      <td>Custom crate</td>\n      <td>RoHS, REACH</td>\n      <td>Safety interlocks during maintenance</td>\n      <td>150.0</td>\n    </tr>\n    <tr>\n      <th>1</th>\n      <td>1</td>\n      <td>2023-02-01 08:00:00</td>\n      <td>LID-001</td>\n      <td>54321</td>\n      <td>Lid for chamber</td>\n      <td>1</td>\n      <td>Aluminum Alloy</td>\n      <td>Vendor B</td>\n      <td>5000</td>\n      <td>8 weeks</td>\n      <td>...</td>\n      <td>CNC Machining</td>\n      <td>SEMI S456</td>\n      <td>Visual Inspection</td>\n      <td>Provided by vendor</td>\n      <td>Level 1</td>\n      <td>50.0</td>\n      <td>Custom packaging</td>\n      <td>RoHS, REACH</td>\n      <td>Safety interlocks during lid opening</td>\n      <td>120.0</td>\n    </tr>\n    <tr>\n      <th>2</th>\n      <td>2</td>\n      <td>2023-03-01 08:00:00</td>\n      <td>GDS-001</td>\n      <td>67890</td>\n      <td>Gas distribution manifold</td>\n      <td>1</td>\n      <td>Stainless Steel</td>\n      <td>Vendor C</td>\n      <td>8000</td>\n      <td>10 weeks</td>\n      <td>...</td>\n      <td>Precision Machining</td>\n      <td>SEMI S789</td>\n      <td>Leak Test</td>\n      <td>Provided by vendor</td>\n      <td>Level 2</td>\n      <td>30.0</td>\n      <td>Custom crate</td>\n      <td>RoHS, REACH</td>\n      <td>-</td>\n      <td>90.0</td>\n    </tr>\n    <tr>\n      <th>3</th>\n      <td>3</td>\n      <td>2023-04-01 08:00:00</td>\n      <td>PSA-001</td>\n      <td>11223</td>\n      <td>RF Generator and Electrostatic Chuck Assembly</td>\n      <td>1</td>\n      <td>Various</td>\n      <td>Vendor D</td>\n      <td>20000</td>\n      <td>14 weeks</td>\n      <td>...</td>\n      <td>Integration of Components</td>\n      <td>SEMI S234</td>\n      <td>Electrical Tests</td>\n      <td>Provided by vendor</td>\n      <td>Level 2</td>\n      <td>100.0</td>\n      <td>Custom packaging</td>\n      <td>RoHS, REACH</td>\n      <td>Safety interlocks during operation</td>\n      <td>180.0</td>\n    </tr>\n    <tr>\n      <th>4</th>\n      <td>4</td>\n      <td>2023-05-01 08:00:00</td>\n      <td>WHS-001</td>\n      <td>33445</td>\n      <td>Robot arm and wafer chuck</td>\n      <td>1</td>\n      <td>Aluminum Alloy, Ceramic</td>\n      <td>Vendor E</td>\n      <td>15000</td>\n      <td>16 weeks</td>\n      <td>...</td>\n      <td>Robotic Assembly</td>\n      <td>SEMI S567</td>\n      <td>Functional Tests</td>\n      <td>Provided by vendor</td>\n      <td>Level 2</td>\n      <td>40.0</td>\n      <td>Custom crate</td>\n      <td>RoHS, REACH</td>\n      <td>Safety interlocks during handling</td>\n      <td>200.0</td>\n    </tr>\n    <tr>\n      <th>...</th>\n      <td>...</td>\n      <td>...</td>\n      <td>...</td>\n      <td>...</td>\n      <td>...</td>\n      <td>...</td>\n      <td>...</td>\n      <td>...</td>\n      <td>...</td>\n      <td>...</td>\n      <td>...</td>\n      <td>...</td>\n      <td>...</td>\n      <td>...</td>\n      <td>...</td>\n      <td>...</td>\n      <td>...</td>\n      <td>...</td>\n      <td>...</td>\n      <td>...</td>\n      <td>...</td>\n    </tr>\n    <tr>\n      <th>96</th>\n      <td>96</td>\n      <td>2029-09-01 08:00:00</td>\n      <td>ESR-002</td>\n      <td>33446</td>\n      <td>Electron Spin Resonance Module</td>\n      <td>1</td>\n      <td>Silicon, Copper</td>\n      <td>Vendor VV</td>\n      <td>20000</td>\n      <td>16 weeks</td>\n      <td>...</td>\n      <td>ESR Integration</td>\n      <td>SEMI S678</td>\n      <td>Resonance Frequency Test</td>\n      <td>Provided by vendor</td>\n      <td>Level 2</td>\n      <td>85.0</td>\n      <td>Custom crate</td>\n      <td>RoHS, REACH</td>\n      <td>Safety interlocks during operation</td>\n      <td>190.0</td>\n    </tr>\n    <tr>\n      <th>97</th>\n      <td>97</td>\n      <td>2029-10-01 08:00:00</td>\n      <td>EMS-002</td>\n      <td>55668</td>\n      <td>Electron Microscopy System</td>\n      <td>1</td>\n      <td>Titanium, Glass</td>\n      <td>Vendor WW</td>\n      <td>18000</td>\n      <td>14 weeks</td>\n      <td>...</td>\n      <td>EMS Integration</td>\n      <td>SEMI S234</td>\n      <td>Resolution Test</td>\n      <td>Provided by vendor</td>\n      <td>Level 1</td>\n      <td>60.0</td>\n      <td>Custom packaging</td>\n      <td>RoHS, REACH</td>\n      <td>-</td>\n      <td>170.0</td>\n    </tr>\n    <tr>\n      <th>98</th>\n      <td>98</td>\n      <td>2029-11-01 08:00:00</td>\n      <td>PAS-002</td>\n      <td>77890</td>\n      <td>Photoacoustic Spectroscopy Module</td>\n      <td>1</td>\n      <td>Quartz, Plastic</td>\n      <td>Vendor XX</td>\n      <td>15000</td>\n      <td>12 weeks</td>\n      <td>...</td>\n      <td>PAS Integration</td>\n      <td>SEMI S345</td>\n      <td>Spectral Analysis Test</td>\n      <td>Provided by vendor</td>\n      <td>Level 2</td>\n      <td>75.0</td>\n      <td>Custom crate</td>\n      <td>RoHS, REACH</td>\n      <td>Safety interlocks during operation</td>\n      <td>180.0</td>\n    </tr>\n    <tr>\n      <th>99</th>\n      <td>99</td>\n      <td>2029-12-01 08:00:00</td>\n      <td>CST-001</td>\n      <td>99002</td>\n      <td>Coating and Sputtering Tool</td>\n      <td>1</td>\n      <td>Stainless Steel, Aluminum</td>\n      <td>Vendor YY</td>\n      <td>22000</td>\n      <td>18 weeks</td>\n      <td>...</td>\n      <td>Coating and Sputtering</td>\n      <td>SEMI S567</td>\n      <td>Coating Uniformity Test</td>\n      <td>Provided by vendor</td>\n      <td>Level 2</td>\n      <td>90.0</td>\n      <td>Custom packaging</td>\n      <td>RoHS, REACH</td>\n      <td>Safety interlocks during operation</td>\n      <td>220.0</td>\n    </tr>\n    <tr>\n      <th>100</th>\n      <td>100</td>\n      <td>2030-01-01 08:00:00</td>\n      <td>IMS-002</td>\n      <td>11224</td>\n      <td>Ion Milling System</td>\n      <td>1</td>\n      <td>Aluminum, Quartz</td>\n      <td>Vendor ZZ</td>\n      <td>25000</td>\n      <td>20 weeks</td>\n      <td>...</td>\n      <td>IMS Integration</td>\n      <td>SEMI S678</td>\n      <td>Milling Efficiency Test</td>\n      <td>Provided by vendor</td>\n      <td>Level 2</td>\n      <td>95.0</td>\n      <td>Custom crate</td>\n      <td>RoHS, REACH</td>\n      <td>Safety interlocks during operation</td>\n      <td>200.0</td>\n    </tr>\n  </tbody>\n</table>\n<p>99 rows × 23 columns</p>\n</div>"
     },
     "execution_count": 41,
     "metadata": {},
     "output_type": "execute_result"
    }
   ],
   "source": [
    "df"
   ],
   "metadata": {
    "collapsed": false,
    "ExecuteTime": {
     "end_time": "2023-11-28T11:37:15.345536Z",
     "start_time": "2023-11-28T11:37:15.308150Z"
    }
   },
   "id": "d5efcb7b03ed98dc"
  },
  {
   "cell_type": "code",
   "execution_count": 42,
   "outputs": [
    {
     "data": {
      "text/plain": "       Unnamed: 0   Part_Number  Quantity     Unit_Cost      Weight  \\\ncount   99.000000     99.000000      99.0     99.000000   99.000000   \nmean    49.939394  54284.232323       1.0  14407.070707   58.212121   \nstd     29.092330  31255.328226       0.0   8440.466818   34.655822   \nmin      0.000000  11223.000000       1.0    500.000000    2.000000   \n25%     25.500000  33445.000000       1.0   8000.000000   35.000000   \n50%     50.000000  55667.000000       1.0  15000.000000   55.000000   \n75%     74.500000  77890.000000       1.0  20000.000000   80.000000   \nmax    100.000000  99002.000000       1.0  30000.000000  200.000000   \n\n           Demand  \ncount   99.000000  \nmean   136.464646  \nstd     60.324008  \nmin      8.000000  \n25%    105.000000  \n50%    150.000000  \n75%    180.000000  \nmax    240.000000  ",
      "text/html": "<div>\n<style scoped>\n    .dataframe tbody tr th:only-of-type {\n        vertical-align: middle;\n    }\n\n    .dataframe tbody tr th {\n        vertical-align: top;\n    }\n\n    .dataframe thead th {\n        text-align: right;\n    }\n</style>\n<table border=\"1\" class=\"dataframe\">\n  <thead>\n    <tr style=\"text-align: right;\">\n      <th></th>\n      <th>Unnamed: 0</th>\n      <th>Part_Number</th>\n      <th>Quantity</th>\n      <th>Unit_Cost</th>\n      <th>Weight</th>\n      <th>Demand</th>\n    </tr>\n  </thead>\n  <tbody>\n    <tr>\n      <th>count</th>\n      <td>99.000000</td>\n      <td>99.000000</td>\n      <td>99.0</td>\n      <td>99.000000</td>\n      <td>99.000000</td>\n      <td>99.000000</td>\n    </tr>\n    <tr>\n      <th>mean</th>\n      <td>49.939394</td>\n      <td>54284.232323</td>\n      <td>1.0</td>\n      <td>14407.070707</td>\n      <td>58.212121</td>\n      <td>136.464646</td>\n    </tr>\n    <tr>\n      <th>std</th>\n      <td>29.092330</td>\n      <td>31255.328226</td>\n      <td>0.0</td>\n      <td>8440.466818</td>\n      <td>34.655822</td>\n      <td>60.324008</td>\n    </tr>\n    <tr>\n      <th>min</th>\n      <td>0.000000</td>\n      <td>11223.000000</td>\n      <td>1.0</td>\n      <td>500.000000</td>\n      <td>2.000000</td>\n      <td>8.000000</td>\n    </tr>\n    <tr>\n      <th>25%</th>\n      <td>25.500000</td>\n      <td>33445.000000</td>\n      <td>1.0</td>\n      <td>8000.000000</td>\n      <td>35.000000</td>\n      <td>105.000000</td>\n    </tr>\n    <tr>\n      <th>50%</th>\n      <td>50.000000</td>\n      <td>55667.000000</td>\n      <td>1.0</td>\n      <td>15000.000000</td>\n      <td>55.000000</td>\n      <td>150.000000</td>\n    </tr>\n    <tr>\n      <th>75%</th>\n      <td>74.500000</td>\n      <td>77890.000000</td>\n      <td>1.0</td>\n      <td>20000.000000</td>\n      <td>80.000000</td>\n      <td>180.000000</td>\n    </tr>\n    <tr>\n      <th>max</th>\n      <td>100.000000</td>\n      <td>99002.000000</td>\n      <td>1.0</td>\n      <td>30000.000000</td>\n      <td>200.000000</td>\n      <td>240.000000</td>\n    </tr>\n  </tbody>\n</table>\n</div>"
     },
     "execution_count": 42,
     "metadata": {},
     "output_type": "execute_result"
    }
   ],
   "source": [
    "df.describe()"
   ],
   "metadata": {
    "collapsed": false,
    "ExecuteTime": {
     "end_time": "2023-11-28T11:37:15.370646Z",
     "start_time": "2023-11-28T11:37:15.309947Z"
    }
   },
   "id": "3daacf3f249d7a8e"
  },
  {
   "cell_type": "code",
   "execution_count": 43,
   "outputs": [],
   "source": [
    "from sdv.metadata import SingleTableMetadata\n",
    "metadata = SingleTableMetadata()\n",
    "metadata.detect_from_dataframe(data=df)"
   ],
   "metadata": {
    "collapsed": false,
    "ExecuteTime": {
     "end_time": "2023-11-28T11:37:15.385704Z",
     "start_time": "2023-11-28T11:37:15.320774Z"
    }
   },
   "id": "88c03ae680e84935"
  },
  {
   "cell_type": "code",
   "execution_count": 44,
   "outputs": [
    {
     "data": {
      "text/plain": "{\n    \"columns\": {\n        \"Unnamed: 0\": {\n            \"sdtype\": \"id\"\n        },\n        \"Timestamp\": {\n            \"sdtype\": \"datetime\",\n            \"datetime_format\": \"%Y-%m-%d %H:%M:%S\"\n        },\n        \"Component_Name\": {\n            \"sdtype\": \"unknown\",\n            \"pii\": true\n        },\n        \"Part_Number\": {\n            \"sdtype\": \"numerical\"\n        },\n        \"Description\": {\n            \"sdtype\": \"unknown\",\n            \"pii\": true\n        },\n        \"Quantity\": {\n            \"sdtype\": \"categorical\"\n        },\n        \"Material\": {\n            \"sdtype\": \"unknown\",\n            \"pii\": true\n        },\n        \"Supplier\": {\n            \"sdtype\": \"unknown\",\n            \"pii\": true\n        },\n        \"Unit_Cost\": {\n            \"sdtype\": \"numerical\"\n        },\n        \"Lead_Time\": {\n            \"sdtype\": \"categorical\"\n        },\n        \"Criticality\": {\n            \"sdtype\": \"categorical\"\n        },\n        \"Source_of_Supply\": {\n            \"sdtype\": \"categorical\"\n        },\n        \"Revision_Level\": {\n            \"sdtype\": \"categorical\"\n        },\n        \"Manufacturing_Process\": {\n            \"sdtype\": \"unknown\",\n            \"pii\": true\n        },\n        \"Quality_Standards\": {\n            \"sdtype\": \"categorical\"\n        },\n        \"Testing_Requirements\": {\n            \"sdtype\": \"unknown\",\n            \"pii\": true\n        },\n        \"Assembly_Instructions\": {\n            \"sdtype\": \"categorical\"\n        },\n        \"Subassembly_Level\": {\n            \"sdtype\": \"categorical\"\n        },\n        \"Weight\": {\n            \"sdtype\": \"numerical\"\n        },\n        \"Packaging_Information\": {\n            \"sdtype\": \"categorical\"\n        },\n        \"Environmental_Compliance\": {\n            \"sdtype\": \"categorical\"\n        },\n        \"Safety_Considerations\": {\n            \"sdtype\": \"categorical\"\n        },\n        \"Demand\": {\n            \"sdtype\": \"numerical\"\n        }\n    },\n    \"primary_key\": \"Unnamed: 0\",\n    \"METADATA_SPEC_VERSION\": \"SINGLE_TABLE_V1\"\n}"
     },
     "execution_count": 44,
     "metadata": {},
     "output_type": "execute_result"
    }
   ],
   "source": [
    "metadata"
   ],
   "metadata": {
    "collapsed": false,
    "ExecuteTime": {
     "end_time": "2023-11-28T11:37:15.389666Z",
     "start_time": "2023-11-28T11:37:15.327398Z"
    }
   },
   "id": "f62353c32ee185a9"
  },
  {
   "cell_type": "code",
   "execution_count": 45,
   "outputs": [
    {
     "data": {
      "image/svg+xml": "<?xml version=\"1.0\" encoding=\"UTF-8\" standalone=\"no\"?>\n<!DOCTYPE svg PUBLIC \"-//W3C//DTD SVG 1.1//EN\"\n \"http://www.w3.org/Graphics/SVG/1.1/DTD/svg11.dtd\">\n<!-- Generated by graphviz version 9.0.0 (20230911.1827)\n -->\n<!-- Title: Metadata Pages: 1 -->\n<svg width=\"248pt\" height=\"421pt\"\n viewBox=\"0.00 0.00 248.25 421.00\" xmlns=\"http://www.w3.org/2000/svg\" xmlns:xlink=\"http://www.w3.org/1999/xlink\">\n<g id=\"graph0\" class=\"graph\" transform=\"scale(1 1) rotate(0) translate(4 417)\">\n<title>Metadata</title>\n<polygon fill=\"white\" stroke=\"none\" points=\"-4,4 -4,-417 244.25,-417 244.25,4 -4,4\"/>\n<g id=\"node1\" class=\"node\">\n<title></title>\n<path fill=\"#ffec8b\" stroke=\"black\" d=\"M12,-0.5C12,-0.5 228.25,-0.5 228.25,-0.5 234.25,-0.5 240.25,-6.5 240.25,-12.5 240.25,-12.5 240.25,-400.5 240.25,-400.5 240.25,-406.5 234.25,-412.5 228.25,-412.5 228.25,-412.5 12,-412.5 12,-412.5 6,-412.5 0,-406.5 0,-400.5 0,-400.5 0,-12.5 0,-12.5 0,-6.5 6,-0.5 12,-0.5\"/>\n<text text-anchor=\"start\" x=\"8\" y=\"-395.2\" font-family=\"Times,serif\" font-size=\"14.00\">Unnamed: 0 : id</text>\n<text text-anchor=\"start\" x=\"8\" y=\"-378.7\" font-family=\"Times,serif\" font-size=\"14.00\">Timestamp : datetime</text>\n<text text-anchor=\"start\" x=\"8\" y=\"-362.2\" font-family=\"Times,serif\" font-size=\"14.00\">Component_Name : unknown</text>\n<text text-anchor=\"start\" x=\"8\" y=\"-345.7\" font-family=\"Times,serif\" font-size=\"14.00\">Part_Number : numerical</text>\n<text text-anchor=\"start\" x=\"8\" y=\"-329.2\" font-family=\"Times,serif\" font-size=\"14.00\">Description : unknown</text>\n<text text-anchor=\"start\" x=\"8\" y=\"-312.7\" font-family=\"Times,serif\" font-size=\"14.00\">Quantity : categorical</text>\n<text text-anchor=\"start\" x=\"8\" y=\"-296.2\" font-family=\"Times,serif\" font-size=\"14.00\">Material : unknown</text>\n<text text-anchor=\"start\" x=\"8\" y=\"-279.7\" font-family=\"Times,serif\" font-size=\"14.00\">Supplier : unknown</text>\n<text text-anchor=\"start\" x=\"8\" y=\"-263.2\" font-family=\"Times,serif\" font-size=\"14.00\">Unit_Cost : numerical</text>\n<text text-anchor=\"start\" x=\"8\" y=\"-246.7\" font-family=\"Times,serif\" font-size=\"14.00\">Lead_Time : categorical</text>\n<text text-anchor=\"start\" x=\"8\" y=\"-230.2\" font-family=\"Times,serif\" font-size=\"14.00\">Criticality : categorical</text>\n<text text-anchor=\"start\" x=\"8\" y=\"-213.7\" font-family=\"Times,serif\" font-size=\"14.00\">Source_of_Supply : categorical</text>\n<text text-anchor=\"start\" x=\"8\" y=\"-197.2\" font-family=\"Times,serif\" font-size=\"14.00\">Revision_Level : categorical</text>\n<text text-anchor=\"start\" x=\"8\" y=\"-180.7\" font-family=\"Times,serif\" font-size=\"14.00\">Manufacturing_Process : unknown</text>\n<text text-anchor=\"start\" x=\"8\" y=\"-164.2\" font-family=\"Times,serif\" font-size=\"14.00\">Quality_Standards : categorical</text>\n<text text-anchor=\"start\" x=\"8\" y=\"-147.7\" font-family=\"Times,serif\" font-size=\"14.00\">Testing_Requirements : unknown</text>\n<text text-anchor=\"start\" x=\"8\" y=\"-131.2\" font-family=\"Times,serif\" font-size=\"14.00\">Assembly_Instructions : categorical</text>\n<text text-anchor=\"start\" x=\"8\" y=\"-114.7\" font-family=\"Times,serif\" font-size=\"14.00\">Subassembly_Level : categorical</text>\n<text text-anchor=\"start\" x=\"8\" y=\"-98.2\" font-family=\"Times,serif\" font-size=\"14.00\">Weight : numerical</text>\n<text text-anchor=\"start\" x=\"8\" y=\"-81.7\" font-family=\"Times,serif\" font-size=\"14.00\">Packaging_Information : categorical</text>\n<text text-anchor=\"start\" x=\"8\" y=\"-65.2\" font-family=\"Times,serif\" font-size=\"14.00\">Environmental_Compliance : categorical</text>\n<text text-anchor=\"start\" x=\"8\" y=\"-48.7\" font-family=\"Times,serif\" font-size=\"14.00\">Safety_Considerations : categorical</text>\n<text text-anchor=\"start\" x=\"8\" y=\"-32.2\" font-family=\"Times,serif\" font-size=\"14.00\">Demand : numerical</text>\n<polyline fill=\"none\" stroke=\"black\" points=\"0,-25 240.25,-25\"/>\n<text text-anchor=\"start\" x=\"8\" y=\"-7.7\" font-family=\"Times,serif\" font-size=\"14.00\">Primary key: Unnamed: 0</text>\n</g>\n</g>\n</svg>\n",
      "text/plain": "<graphviz.graphs.Digraph at 0x297460100>"
     },
     "execution_count": 45,
     "metadata": {},
     "output_type": "execute_result"
    }
   ],
   "source": [
    "metadata.visualize()"
   ],
   "metadata": {
    "collapsed": false,
    "ExecuteTime": {
     "end_time": "2023-11-28T11:37:15.540204Z",
     "start_time": "2023-11-28T11:37:15.336568Z"
    }
   },
   "id": "8a86dac78557c7e2"
  },
  {
   "cell_type": "code",
   "execution_count": 46,
   "outputs": [],
   "source": [
    "from sdv.single_table import TVAESynthesizer\n",
    "\n",
    "synthesizer = TVAESynthesizer(\n",
    "    metadata, # required\n",
    "    enforce_min_max_values=False,\n",
    "    enforce_rounding=True,\n",
    "    epochs=500\n",
    ")"
   ],
   "metadata": {
    "collapsed": false,
    "ExecuteTime": {
     "end_time": "2023-11-28T11:37:15.540373Z",
     "start_time": "2023-11-28T11:37:15.515635Z"
    }
   },
   "id": "b24d08a51f9ce665"
  },
  {
   "cell_type": "code",
   "execution_count": 47,
   "outputs": [],
   "source": [
    "synthesizer.fit(df)"
   ],
   "metadata": {
    "collapsed": false,
    "ExecuteTime": {
     "end_time": "2023-11-28T11:37:17.572328Z",
     "start_time": "2023-11-28T11:37:15.522942Z"
    }
   },
   "id": "8dc2236bad8d068c"
  },
  {
   "cell_type": "code",
   "execution_count": 48,
   "outputs": [],
   "source": [
    "synthetic_data = synthesizer.sample(num_rows=1000)"
   ],
   "metadata": {
    "collapsed": false,
    "ExecuteTime": {
     "end_time": "2023-11-28T11:37:17.667756Z",
     "start_time": "2023-11-28T11:37:17.569693Z"
    }
   },
   "id": "c6e8de663d4cfcff"
  },
  {
   "cell_type": "code",
   "execution_count": 49,
   "outputs": [
    {
     "data": {
      "text/plain": "     Unnamed: 0            Timestamp Component_Name  Part_Number  \\\n0             0  2028-02-27 22:19:38  sdv-pii-18y5u        74093   \n1             1  2029-03-18 04:24:00  sdv-pii-43483        84137   \n2             2  2024-01-19 06:29:17  sdv-pii-4vuno        73328   \n3             3  2024-04-13 09:43:08  sdv-pii-i4ls1        13821   \n4             4  2024-10-28 07:31:01  sdv-pii-19pbh        64029   \n..          ...                  ...            ...          ...   \n995         995  2029-04-07 03:06:30  sdv-pii-2pg2n        51948   \n996         996  2024-05-01 22:34:20  sdv-pii-s6f18        84985   \n997         997  2029-11-13 13:53:33  sdv-pii-sgoo9        76721   \n998         998  2024-04-15 03:47:04  sdv-pii-4spgp        53547   \n999         999  2028-11-07 05:15:23  sdv-pii-c1oka        86728   \n\n       Description  Quantity       Material       Supplier  Unit_Cost  \\\n0    sdv-pii-56krt         1  sdv-pii-qhxyb  sdv-pii-824bi      21386   \n1    sdv-pii-yihw7         1  sdv-pii-1apol  sdv-pii-59xeh      17638   \n2    sdv-pii-66b63         1  sdv-pii-fhvun  sdv-pii-xac3l      19439   \n3    sdv-pii-dvq0s         1  sdv-pii-cv2gw  sdv-pii-27aec      17692   \n4    sdv-pii-moglv         1  sdv-pii-qt695  sdv-pii-mxl4e      15950   \n..             ...       ...            ...            ...        ...   \n995  sdv-pii-nipfn         1  sdv-pii-nyzs8  sdv-pii-5pu0m      12603   \n996  sdv-pii-wnbxg         1  sdv-pii-ybsth  sdv-pii-hhhqm      18553   \n997  sdv-pii-6x9gw         1  sdv-pii-l91c8  sdv-pii-b9bzp      19304   \n998  sdv-pii-tuvpq         1  sdv-pii-wijpt  sdv-pii-tsah5      25051   \n999  sdv-pii-1ipzs         1  sdv-pii-7rvqs  sdv-pii-ckn26      14020   \n\n    Lead_Time  ... Manufacturing_Process Quality_Standards  \\\n0    15 weeks  ...         sdv-pii-gqzvl         SEMI S234   \n1    12 weeks  ...         sdv-pii-1mrac         SEMI S345   \n2    18 weeks  ...         sdv-pii-stsqd         SEMI S456   \n3    16 weeks  ...         sdv-pii-7ehpd         SEMI S456   \n4    15 weeks  ...         sdv-pii-02h2l         SEMI S234   \n..        ...  ...                   ...               ...   \n995   8 weeks  ...         sdv-pii-35uei         SEMI S567   \n996  12 weeks  ...         sdv-pii-ek7ck         SEMI S345   \n997  12 weeks  ...         sdv-pii-44sdt         SEMI S345   \n998  12 weeks  ...         sdv-pii-4047k         SEMI S234   \n999   8 weeks  ...         sdv-pii-lt5k8         SEMI S567   \n\n    Testing_Requirements Assembly_Instructions Subassembly_Level Weight  \\\n0          sdv-pii-boq2a    Provided by vendor           Level 2   78.0   \n1          sdv-pii-7ji20    Provided by vendor           Level 1   60.0   \n2          sdv-pii-po1ej    Provided by vendor           Level 2  116.0   \n3          sdv-pii-6r24g    Provided by vendor           Level 2   90.0   \n4          sdv-pii-uwx3v    Provided by vendor           Level 2   67.0   \n..                   ...                   ...               ...    ...   \n995        sdv-pii-nfymk    Provided by vendor           Level 1   24.0   \n996        sdv-pii-qzgmu    Provided by vendor           Level 2   70.0   \n997        sdv-pii-xsyim    Provided by vendor           Level 2  118.0   \n998        sdv-pii-0pqji    Provided by vendor           Level 2   91.0   \n999        sdv-pii-5dymi    Provided by vendor           Level 1   19.0   \n\n    Packaging_Information Environmental_Compliance  \\\n0        Custom packaging              RoHS, REACH   \n1        Custom packaging              RoHS, REACH   \n2        Custom packaging              RoHS, REACH   \n3        Custom packaging              RoHS, REACH   \n4        Custom packaging              RoHS, REACH   \n..                    ...                      ...   \n995          Custom crate              RoHS, REACH   \n996      Custom packaging              RoHS, REACH   \n997      Custom packaging              RoHS, REACH   \n998      Custom packaging              RoHS, REACH   \n999      Custom packaging              RoHS, REACH   \n\n                  Safety_Considerations Demand  \n0    Safety interlocks during operation  164.0  \n1    Safety interlocks during operation  156.0  \n2    Safety interlocks during operation  167.0  \n3    Safety interlocks during operation  184.0  \n4    Safety interlocks during operation  183.0  \n..                                  ...    ...  \n995  Safety interlocks during operation   22.0  \n996  Safety interlocks during operation  139.0  \n997  Safety interlocks during operation  182.0  \n998  Safety interlocks during operation  190.0  \n999                                   -  150.0  \n\n[1000 rows x 23 columns]",
      "text/html": "<div>\n<style scoped>\n    .dataframe tbody tr th:only-of-type {\n        vertical-align: middle;\n    }\n\n    .dataframe tbody tr th {\n        vertical-align: top;\n    }\n\n    .dataframe thead th {\n        text-align: right;\n    }\n</style>\n<table border=\"1\" class=\"dataframe\">\n  <thead>\n    <tr style=\"text-align: right;\">\n      <th></th>\n      <th>Unnamed: 0</th>\n      <th>Timestamp</th>\n      <th>Component_Name</th>\n      <th>Part_Number</th>\n      <th>Description</th>\n      <th>Quantity</th>\n      <th>Material</th>\n      <th>Supplier</th>\n      <th>Unit_Cost</th>\n      <th>Lead_Time</th>\n      <th>...</th>\n      <th>Manufacturing_Process</th>\n      <th>Quality_Standards</th>\n      <th>Testing_Requirements</th>\n      <th>Assembly_Instructions</th>\n      <th>Subassembly_Level</th>\n      <th>Weight</th>\n      <th>Packaging_Information</th>\n      <th>Environmental_Compliance</th>\n      <th>Safety_Considerations</th>\n      <th>Demand</th>\n    </tr>\n  </thead>\n  <tbody>\n    <tr>\n      <th>0</th>\n      <td>0</td>\n      <td>2028-02-27 22:19:38</td>\n      <td>sdv-pii-18y5u</td>\n      <td>74093</td>\n      <td>sdv-pii-56krt</td>\n      <td>1</td>\n      <td>sdv-pii-qhxyb</td>\n      <td>sdv-pii-824bi</td>\n      <td>21386</td>\n      <td>15 weeks</td>\n      <td>...</td>\n      <td>sdv-pii-gqzvl</td>\n      <td>SEMI S234</td>\n      <td>sdv-pii-boq2a</td>\n      <td>Provided by vendor</td>\n      <td>Level 2</td>\n      <td>78.0</td>\n      <td>Custom packaging</td>\n      <td>RoHS, REACH</td>\n      <td>Safety interlocks during operation</td>\n      <td>164.0</td>\n    </tr>\n    <tr>\n      <th>1</th>\n      <td>1</td>\n      <td>2029-03-18 04:24:00</td>\n      <td>sdv-pii-43483</td>\n      <td>84137</td>\n      <td>sdv-pii-yihw7</td>\n      <td>1</td>\n      <td>sdv-pii-1apol</td>\n      <td>sdv-pii-59xeh</td>\n      <td>17638</td>\n      <td>12 weeks</td>\n      <td>...</td>\n      <td>sdv-pii-1mrac</td>\n      <td>SEMI S345</td>\n      <td>sdv-pii-7ji20</td>\n      <td>Provided by vendor</td>\n      <td>Level 1</td>\n      <td>60.0</td>\n      <td>Custom packaging</td>\n      <td>RoHS, REACH</td>\n      <td>Safety interlocks during operation</td>\n      <td>156.0</td>\n    </tr>\n    <tr>\n      <th>2</th>\n      <td>2</td>\n      <td>2024-01-19 06:29:17</td>\n      <td>sdv-pii-4vuno</td>\n      <td>73328</td>\n      <td>sdv-pii-66b63</td>\n      <td>1</td>\n      <td>sdv-pii-fhvun</td>\n      <td>sdv-pii-xac3l</td>\n      <td>19439</td>\n      <td>18 weeks</td>\n      <td>...</td>\n      <td>sdv-pii-stsqd</td>\n      <td>SEMI S456</td>\n      <td>sdv-pii-po1ej</td>\n      <td>Provided by vendor</td>\n      <td>Level 2</td>\n      <td>116.0</td>\n      <td>Custom packaging</td>\n      <td>RoHS, REACH</td>\n      <td>Safety interlocks during operation</td>\n      <td>167.0</td>\n    </tr>\n    <tr>\n      <th>3</th>\n      <td>3</td>\n      <td>2024-04-13 09:43:08</td>\n      <td>sdv-pii-i4ls1</td>\n      <td>13821</td>\n      <td>sdv-pii-dvq0s</td>\n      <td>1</td>\n      <td>sdv-pii-cv2gw</td>\n      <td>sdv-pii-27aec</td>\n      <td>17692</td>\n      <td>16 weeks</td>\n      <td>...</td>\n      <td>sdv-pii-7ehpd</td>\n      <td>SEMI S456</td>\n      <td>sdv-pii-6r24g</td>\n      <td>Provided by vendor</td>\n      <td>Level 2</td>\n      <td>90.0</td>\n      <td>Custom packaging</td>\n      <td>RoHS, REACH</td>\n      <td>Safety interlocks during operation</td>\n      <td>184.0</td>\n    </tr>\n    <tr>\n      <th>4</th>\n      <td>4</td>\n      <td>2024-10-28 07:31:01</td>\n      <td>sdv-pii-19pbh</td>\n      <td>64029</td>\n      <td>sdv-pii-moglv</td>\n      <td>1</td>\n      <td>sdv-pii-qt695</td>\n      <td>sdv-pii-mxl4e</td>\n      <td>15950</td>\n      <td>15 weeks</td>\n      <td>...</td>\n      <td>sdv-pii-02h2l</td>\n      <td>SEMI S234</td>\n      <td>sdv-pii-uwx3v</td>\n      <td>Provided by vendor</td>\n      <td>Level 2</td>\n      <td>67.0</td>\n      <td>Custom packaging</td>\n      <td>RoHS, REACH</td>\n      <td>Safety interlocks during operation</td>\n      <td>183.0</td>\n    </tr>\n    <tr>\n      <th>...</th>\n      <td>...</td>\n      <td>...</td>\n      <td>...</td>\n      <td>...</td>\n      <td>...</td>\n      <td>...</td>\n      <td>...</td>\n      <td>...</td>\n      <td>...</td>\n      <td>...</td>\n      <td>...</td>\n      <td>...</td>\n      <td>...</td>\n      <td>...</td>\n      <td>...</td>\n      <td>...</td>\n      <td>...</td>\n      <td>...</td>\n      <td>...</td>\n      <td>...</td>\n      <td>...</td>\n    </tr>\n    <tr>\n      <th>995</th>\n      <td>995</td>\n      <td>2029-04-07 03:06:30</td>\n      <td>sdv-pii-2pg2n</td>\n      <td>51948</td>\n      <td>sdv-pii-nipfn</td>\n      <td>1</td>\n      <td>sdv-pii-nyzs8</td>\n      <td>sdv-pii-5pu0m</td>\n      <td>12603</td>\n      <td>8 weeks</td>\n      <td>...</td>\n      <td>sdv-pii-35uei</td>\n      <td>SEMI S567</td>\n      <td>sdv-pii-nfymk</td>\n      <td>Provided by vendor</td>\n      <td>Level 1</td>\n      <td>24.0</td>\n      <td>Custom crate</td>\n      <td>RoHS, REACH</td>\n      <td>Safety interlocks during operation</td>\n      <td>22.0</td>\n    </tr>\n    <tr>\n      <th>996</th>\n      <td>996</td>\n      <td>2024-05-01 22:34:20</td>\n      <td>sdv-pii-s6f18</td>\n      <td>84985</td>\n      <td>sdv-pii-wnbxg</td>\n      <td>1</td>\n      <td>sdv-pii-ybsth</td>\n      <td>sdv-pii-hhhqm</td>\n      <td>18553</td>\n      <td>12 weeks</td>\n      <td>...</td>\n      <td>sdv-pii-ek7ck</td>\n      <td>SEMI S345</td>\n      <td>sdv-pii-qzgmu</td>\n      <td>Provided by vendor</td>\n      <td>Level 2</td>\n      <td>70.0</td>\n      <td>Custom packaging</td>\n      <td>RoHS, REACH</td>\n      <td>Safety interlocks during operation</td>\n      <td>139.0</td>\n    </tr>\n    <tr>\n      <th>997</th>\n      <td>997</td>\n      <td>2029-11-13 13:53:33</td>\n      <td>sdv-pii-sgoo9</td>\n      <td>76721</td>\n      <td>sdv-pii-6x9gw</td>\n      <td>1</td>\n      <td>sdv-pii-l91c8</td>\n      <td>sdv-pii-b9bzp</td>\n      <td>19304</td>\n      <td>12 weeks</td>\n      <td>...</td>\n      <td>sdv-pii-44sdt</td>\n      <td>SEMI S345</td>\n      <td>sdv-pii-xsyim</td>\n      <td>Provided by vendor</td>\n      <td>Level 2</td>\n      <td>118.0</td>\n      <td>Custom packaging</td>\n      <td>RoHS, REACH</td>\n      <td>Safety interlocks during operation</td>\n      <td>182.0</td>\n    </tr>\n    <tr>\n      <th>998</th>\n      <td>998</td>\n      <td>2024-04-15 03:47:04</td>\n      <td>sdv-pii-4spgp</td>\n      <td>53547</td>\n      <td>sdv-pii-tuvpq</td>\n      <td>1</td>\n      <td>sdv-pii-wijpt</td>\n      <td>sdv-pii-tsah5</td>\n      <td>25051</td>\n      <td>12 weeks</td>\n      <td>...</td>\n      <td>sdv-pii-4047k</td>\n      <td>SEMI S234</td>\n      <td>sdv-pii-0pqji</td>\n      <td>Provided by vendor</td>\n      <td>Level 2</td>\n      <td>91.0</td>\n      <td>Custom packaging</td>\n      <td>RoHS, REACH</td>\n      <td>Safety interlocks during operation</td>\n      <td>190.0</td>\n    </tr>\n    <tr>\n      <th>999</th>\n      <td>999</td>\n      <td>2028-11-07 05:15:23</td>\n      <td>sdv-pii-c1oka</td>\n      <td>86728</td>\n      <td>sdv-pii-1ipzs</td>\n      <td>1</td>\n      <td>sdv-pii-7rvqs</td>\n      <td>sdv-pii-ckn26</td>\n      <td>14020</td>\n      <td>8 weeks</td>\n      <td>...</td>\n      <td>sdv-pii-lt5k8</td>\n      <td>SEMI S567</td>\n      <td>sdv-pii-5dymi</td>\n      <td>Provided by vendor</td>\n      <td>Level 1</td>\n      <td>19.0</td>\n      <td>Custom packaging</td>\n      <td>RoHS, REACH</td>\n      <td>-</td>\n      <td>150.0</td>\n    </tr>\n  </tbody>\n</table>\n<p>1000 rows × 23 columns</p>\n</div>"
     },
     "execution_count": 49,
     "metadata": {},
     "output_type": "execute_result"
    }
   ],
   "source": [
    "synthetic_data"
   ],
   "metadata": {
    "collapsed": false,
    "ExecuteTime": {
     "end_time": "2023-11-28T11:37:17.679144Z",
     "start_time": "2023-11-28T11:37:17.668838Z"
    }
   },
   "id": "42bb30e6af671f58"
  },
  {
   "cell_type": "code",
   "execution_count": 50,
   "outputs": [
    {
     "data": {
      "text/plain": "Unnamed: 0                  1000\nTimestamp                   1000\nComponent_Name              1000\nPart_Number                  991\nDescription                 1000\nQuantity                       1\nMaterial                    1000\nSupplier                    1000\nUnit_Cost                    981\nLead_Time                     11\nCriticality                    3\nSource_of_Supply               1\nRevision_Level                 5\nManufacturing_Process       1000\nQuality_Standards              9\nTesting_Requirements        1000\nAssembly_Instructions          1\nSubassembly_Level              2\nWeight                       121\nPackaging_Information          2\nEnvironmental_Compliance       1\nSafety_Considerations          3\nDemand                       206\ndtype: int64"
     },
     "execution_count": 50,
     "metadata": {},
     "output_type": "execute_result"
    }
   ],
   "source": [
    "synthetic_data.nunique()"
   ],
   "metadata": {
    "collapsed": false,
    "ExecuteTime": {
     "end_time": "2023-11-28T11:37:17.685118Z",
     "start_time": "2023-11-28T11:37:17.679001Z"
    }
   },
   "id": "6fbb63a3310e0138"
  },
  {
   "cell_type": "code",
   "execution_count": 51,
   "outputs": [
    {
     "data": {
      "text/plain": "     Unnamed: 0.1  Unnamed: 0            Timestamp Component_Name  \\\n0              27         100  2030-02-01 08:00:00        RMS-002   \n1              84          93  2027-08-01 08:00:00        CHM-001   \n2             100          40  2027-05-01 08:00:00         GC-003   \n3              19          45  2027-11-01 08:00:00        HPS-002   \n4              86           3  2030-01-01 08:00:00        FTS-001   \n..            ...         ...                  ...            ...   \n995           100           0  2023-02-01 08:00:00        GPS-002   \n996           100          93  2023-11-01 08:00:00        TCU-002   \n997            10          73  2028-10-01 08:00:00       FTIR-002   \n998            42          70  2028-09-01 08:00:00        PCS-002   \n999            44          44  2023-12-01 08:00:00        CLT-001   \n\n     Part_Number                          Description  Quantity  \\\n0          30307           Closed-loop coolant system         1   \n1          11223            Gas Chromatography Module         1   \n2          66177                Vacuum Sealing System         1   \n3          11223         Pulsed Laser Deposition Unit         1   \n4          26617                Acoustic Control Unit         1   \n..           ...                                  ...       ...   \n995        99002    Photoacoustic Spectroscopy Module         1   \n996        86633            Laser Spectroscopy Module         1   \n997        65565         Dynamic Temperature Profiler         1   \n998        11223    Spectroscopic Ellipsometry Module         1   \n999        11223  Coolant Pump for Closed-loop System         1   \n\n                           Material    Supplier  Unit_Cost  ...  \\\n0                   Aluminum, Glass   Vendor SS        500  ...   \n1           Aluminum, Optical Glass   Vendor RR      30000  ...   \n2             Electronic Components    Vendor Y      24195  ...   \n3            Zinc Sulfide, Aluminum   Vendor RR        500  ...   \n4                     Glass, Quartz   Vendor ZZ      12154  ...   \n..                              ...         ...        ...  ...   \n995                Titanium, Quartz  Vendor AAA        500  ...   \n996  Electronic Components, Ceramic   Vendor CC        500  ...   \n997           Electronic Components    Vendor P        500  ...   \n998   Stainless Steel, Polyethylene    Vendor Z        500  ...   \n999           Ceramic, Polyurethane    Vendor K        500  ...   \n\n           Manufacturing_Process Quality_Standards  \\\n0                PRA Integration         SEMI S456   \n1                SPA Integration         SEMI S234   \n2         Lamp Assembly, Testing         SEMI S567   \n3                RTS Integration         SEMI S567   \n4                LPC Integration         SEMI S678   \n..                           ...               ...   \n995                 LDS Assembly         SEMI S567   \n996          Electronic Assembly         SEMI S456   \n997       Thermal Probe Assembly          ISO 9001   \n998              EMS Integration         SEMI S234   \n999  Hydrogen Activation Process         SEMI S234   \n\n            Testing_Requirements Assembly_Instructions Subassembly_Level  \\\n0    Resolution Enhancement Test    Provided by vendor           Level 2   \n1               Functional Tests    Provided by vendor           Level 1   \n2               Helium Leak Test    Provided by vendor           Level 1   \n3               Functional Tests    Provided by vendor           Level 1   \n4    Resolution Enhancement Test    Provided by vendor           Level 1   \n..                           ...                   ...               ...   \n995   Deposition Uniformity Test    Provided by vendor           Level 1   \n996       Spectral Analysis Test    Provided by vendor           Level 1   \n997      Electrical Safety Tests    Provided by vendor           Level 1   \n998  Resolution Enhancement Test    Provided by vendor           Level 1   \n999                Pressure Test    Provided by vendor           Level 1   \n\n    Weight Packaging_Information Environmental_Compliance  \\\n0     88.0          Custom crate              RoHS, REACH   \n1      2.0          Custom crate              RoHS, REACH   \n2    180.0          Custom crate              RoHS, REACH   \n3      2.0          Custom crate              RoHS, REACH   \n4     54.0          Custom crate              RoHS, REACH   \n..     ...                   ...                      ...   \n995  169.0      Custom packaging              RoHS, REACH   \n996  163.0          Custom crate              RoHS, REACH   \n997   57.0          Custom crate              RoHS, REACH   \n998    2.0          Custom crate              RoHS, REACH   \n999    5.0          Custom crate              RoHS, REACH   \n\n                  Safety_Considerations  Demand  \n0                                     -   240.0  \n1                                     -   240.0  \n2    Safety interlocks during operation    60.0  \n3                                     -   240.0  \n4    Safety interlocks during operation    57.0  \n..                                  ...     ...  \n995                                   -    26.0  \n996   Safety interlocks during handling   142.0  \n997  Safety interlocks during operation   240.0  \n998                                   -   240.0  \n999                                   -     8.0  \n\n[1000 rows x 24 columns]",
      "text/html": "<div>\n<style scoped>\n    .dataframe tbody tr th:only-of-type {\n        vertical-align: middle;\n    }\n\n    .dataframe tbody tr th {\n        vertical-align: top;\n    }\n\n    .dataframe thead th {\n        text-align: right;\n    }\n</style>\n<table border=\"1\" class=\"dataframe\">\n  <thead>\n    <tr style=\"text-align: right;\">\n      <th></th>\n      <th>Unnamed: 0.1</th>\n      <th>Unnamed: 0</th>\n      <th>Timestamp</th>\n      <th>Component_Name</th>\n      <th>Part_Number</th>\n      <th>Description</th>\n      <th>Quantity</th>\n      <th>Material</th>\n      <th>Supplier</th>\n      <th>Unit_Cost</th>\n      <th>...</th>\n      <th>Manufacturing_Process</th>\n      <th>Quality_Standards</th>\n      <th>Testing_Requirements</th>\n      <th>Assembly_Instructions</th>\n      <th>Subassembly_Level</th>\n      <th>Weight</th>\n      <th>Packaging_Information</th>\n      <th>Environmental_Compliance</th>\n      <th>Safety_Considerations</th>\n      <th>Demand</th>\n    </tr>\n  </thead>\n  <tbody>\n    <tr>\n      <th>0</th>\n      <td>27</td>\n      <td>100</td>\n      <td>2030-02-01 08:00:00</td>\n      <td>RMS-002</td>\n      <td>30307</td>\n      <td>Closed-loop coolant system</td>\n      <td>1</td>\n      <td>Aluminum, Glass</td>\n      <td>Vendor SS</td>\n      <td>500</td>\n      <td>...</td>\n      <td>PRA Integration</td>\n      <td>SEMI S456</td>\n      <td>Resolution Enhancement Test</td>\n      <td>Provided by vendor</td>\n      <td>Level 2</td>\n      <td>88.0</td>\n      <td>Custom crate</td>\n      <td>RoHS, REACH</td>\n      <td>-</td>\n      <td>240.0</td>\n    </tr>\n    <tr>\n      <th>1</th>\n      <td>84</td>\n      <td>93</td>\n      <td>2027-08-01 08:00:00</td>\n      <td>CHM-001</td>\n      <td>11223</td>\n      <td>Gas Chromatography Module</td>\n      <td>1</td>\n      <td>Aluminum, Optical Glass</td>\n      <td>Vendor RR</td>\n      <td>30000</td>\n      <td>...</td>\n      <td>SPA Integration</td>\n      <td>SEMI S234</td>\n      <td>Functional Tests</td>\n      <td>Provided by vendor</td>\n      <td>Level 1</td>\n      <td>2.0</td>\n      <td>Custom crate</td>\n      <td>RoHS, REACH</td>\n      <td>-</td>\n      <td>240.0</td>\n    </tr>\n    <tr>\n      <th>2</th>\n      <td>100</td>\n      <td>40</td>\n      <td>2027-05-01 08:00:00</td>\n      <td>GC-003</td>\n      <td>66177</td>\n      <td>Vacuum Sealing System</td>\n      <td>1</td>\n      <td>Electronic Components</td>\n      <td>Vendor Y</td>\n      <td>24195</td>\n      <td>...</td>\n      <td>Lamp Assembly, Testing</td>\n      <td>SEMI S567</td>\n      <td>Helium Leak Test</td>\n      <td>Provided by vendor</td>\n      <td>Level 1</td>\n      <td>180.0</td>\n      <td>Custom crate</td>\n      <td>RoHS, REACH</td>\n      <td>Safety interlocks during operation</td>\n      <td>60.0</td>\n    </tr>\n    <tr>\n      <th>3</th>\n      <td>19</td>\n      <td>45</td>\n      <td>2027-11-01 08:00:00</td>\n      <td>HPS-002</td>\n      <td>11223</td>\n      <td>Pulsed Laser Deposition Unit</td>\n      <td>1</td>\n      <td>Zinc Sulfide, Aluminum</td>\n      <td>Vendor RR</td>\n      <td>500</td>\n      <td>...</td>\n      <td>RTS Integration</td>\n      <td>SEMI S567</td>\n      <td>Functional Tests</td>\n      <td>Provided by vendor</td>\n      <td>Level 1</td>\n      <td>2.0</td>\n      <td>Custom crate</td>\n      <td>RoHS, REACH</td>\n      <td>-</td>\n      <td>240.0</td>\n    </tr>\n    <tr>\n      <th>4</th>\n      <td>86</td>\n      <td>3</td>\n      <td>2030-01-01 08:00:00</td>\n      <td>FTS-001</td>\n      <td>26617</td>\n      <td>Acoustic Control Unit</td>\n      <td>1</td>\n      <td>Glass, Quartz</td>\n      <td>Vendor ZZ</td>\n      <td>12154</td>\n      <td>...</td>\n      <td>LPC Integration</td>\n      <td>SEMI S678</td>\n      <td>Resolution Enhancement Test</td>\n      <td>Provided by vendor</td>\n      <td>Level 1</td>\n      <td>54.0</td>\n      <td>Custom crate</td>\n      <td>RoHS, REACH</td>\n      <td>Safety interlocks during operation</td>\n      <td>57.0</td>\n    </tr>\n    <tr>\n      <th>...</th>\n      <td>...</td>\n      <td>...</td>\n      <td>...</td>\n      <td>...</td>\n      <td>...</td>\n      <td>...</td>\n      <td>...</td>\n      <td>...</td>\n      <td>...</td>\n      <td>...</td>\n      <td>...</td>\n      <td>...</td>\n      <td>...</td>\n      <td>...</td>\n      <td>...</td>\n      <td>...</td>\n      <td>...</td>\n      <td>...</td>\n      <td>...</td>\n      <td>...</td>\n      <td>...</td>\n    </tr>\n    <tr>\n      <th>995</th>\n      <td>100</td>\n      <td>0</td>\n      <td>2023-02-01 08:00:00</td>\n      <td>GPS-002</td>\n      <td>99002</td>\n      <td>Photoacoustic Spectroscopy Module</td>\n      <td>1</td>\n      <td>Titanium, Quartz</td>\n      <td>Vendor AAA</td>\n      <td>500</td>\n      <td>...</td>\n      <td>LDS Assembly</td>\n      <td>SEMI S567</td>\n      <td>Deposition Uniformity Test</td>\n      <td>Provided by vendor</td>\n      <td>Level 1</td>\n      <td>169.0</td>\n      <td>Custom packaging</td>\n      <td>RoHS, REACH</td>\n      <td>-</td>\n      <td>26.0</td>\n    </tr>\n    <tr>\n      <th>996</th>\n      <td>100</td>\n      <td>93</td>\n      <td>2023-11-01 08:00:00</td>\n      <td>TCU-002</td>\n      <td>86633</td>\n      <td>Laser Spectroscopy Module</td>\n      <td>1</td>\n      <td>Electronic Components, Ceramic</td>\n      <td>Vendor CC</td>\n      <td>500</td>\n      <td>...</td>\n      <td>Electronic Assembly</td>\n      <td>SEMI S456</td>\n      <td>Spectral Analysis Test</td>\n      <td>Provided by vendor</td>\n      <td>Level 1</td>\n      <td>163.0</td>\n      <td>Custom crate</td>\n      <td>RoHS, REACH</td>\n      <td>Safety interlocks during handling</td>\n      <td>142.0</td>\n    </tr>\n    <tr>\n      <th>997</th>\n      <td>10</td>\n      <td>73</td>\n      <td>2028-10-01 08:00:00</td>\n      <td>FTIR-002</td>\n      <td>65565</td>\n      <td>Dynamic Temperature Profiler</td>\n      <td>1</td>\n      <td>Electronic Components</td>\n      <td>Vendor P</td>\n      <td>500</td>\n      <td>...</td>\n      <td>Thermal Probe Assembly</td>\n      <td>ISO 9001</td>\n      <td>Electrical Safety Tests</td>\n      <td>Provided by vendor</td>\n      <td>Level 1</td>\n      <td>57.0</td>\n      <td>Custom crate</td>\n      <td>RoHS, REACH</td>\n      <td>Safety interlocks during operation</td>\n      <td>240.0</td>\n    </tr>\n    <tr>\n      <th>998</th>\n      <td>42</td>\n      <td>70</td>\n      <td>2028-09-01 08:00:00</td>\n      <td>PCS-002</td>\n      <td>11223</td>\n      <td>Spectroscopic Ellipsometry Module</td>\n      <td>1</td>\n      <td>Stainless Steel, Polyethylene</td>\n      <td>Vendor Z</td>\n      <td>500</td>\n      <td>...</td>\n      <td>EMS Integration</td>\n      <td>SEMI S234</td>\n      <td>Resolution Enhancement Test</td>\n      <td>Provided by vendor</td>\n      <td>Level 1</td>\n      <td>2.0</td>\n      <td>Custom crate</td>\n      <td>RoHS, REACH</td>\n      <td>-</td>\n      <td>240.0</td>\n    </tr>\n    <tr>\n      <th>999</th>\n      <td>44</td>\n      <td>44</td>\n      <td>2023-12-01 08:00:00</td>\n      <td>CLT-001</td>\n      <td>11223</td>\n      <td>Coolant Pump for Closed-loop System</td>\n      <td>1</td>\n      <td>Ceramic, Polyurethane</td>\n      <td>Vendor K</td>\n      <td>500</td>\n      <td>...</td>\n      <td>Hydrogen Activation Process</td>\n      <td>SEMI S234</td>\n      <td>Pressure Test</td>\n      <td>Provided by vendor</td>\n      <td>Level 1</td>\n      <td>5.0</td>\n      <td>Custom crate</td>\n      <td>RoHS, REACH</td>\n      <td>-</td>\n      <td>8.0</td>\n    </tr>\n  </tbody>\n</table>\n<p>1000 rows × 24 columns</p>\n</div>"
     },
     "execution_count": 51,
     "metadata": {},
     "output_type": "execute_result"
    }
   ],
   "source": [
    "cf = pd.read_csv('../dataset/tabular-actgan-100_rec-data.csv')\n",
    "cf"
   ],
   "metadata": {
    "collapsed": false,
    "ExecuteTime": {
     "end_time": "2023-11-28T11:37:17.740016Z",
     "start_time": "2023-11-28T11:37:17.683998Z"
    }
   },
   "id": "bcc8e1d4488446bc"
  },
  {
   "cell_type": "code",
   "execution_count": 52,
   "outputs": [
    {
     "data": {
      "text/plain": "Unnamed: 0.1                 99\nUnnamed: 0                  100\nTimestamp                    90\nComponent_Name               98\nPart_Number                 476\nDescription                  98\nQuantity                      1\nMaterial                     62\nSupplier                     59\nUnit_Cost                   402\nLead_Time                    11\nCriticality                   3\nSource_of_Supply              1\nRevision_Level                5\nManufacturing_Process        91\nQuality_Standards            10\nTesting_Requirements         73\nAssembly_Instructions         1\nSubassembly_Level             2\nWeight                      163\nPackaging_Information         3\nEnvironmental_Compliance      1\nSafety_Considerations         5\nDemand                      217\ndtype: int64"
     },
     "execution_count": 52,
     "metadata": {},
     "output_type": "execute_result"
    }
   ],
   "source": [
    "cf.nunique()"
   ],
   "metadata": {
    "collapsed": false,
    "ExecuteTime": {
     "end_time": "2023-11-28T11:37:17.740431Z",
     "start_time": "2023-11-28T11:37:17.698499Z"
    }
   },
   "id": "4e014f3b10db36e7"
  },
  {
   "cell_type": "code",
   "execution_count": 2,
   "outputs": [],
   "source": [
    "import pandas as pd"
   ],
   "metadata": {
    "collapsed": false,
    "ExecuteTime": {
     "end_time": "2023-11-28T14:24:11.092775Z",
     "start_time": "2023-11-28T14:24:10.571394Z"
    }
   },
   "id": "dcf34a5243cc84e9"
  },
  {
   "cell_type": "code",
   "execution_count": 5,
   "outputs": [],
   "source": [
    "df = pd.read_csv('../dataset/ALE_dataset.csv')"
   ],
   "metadata": {
    "collapsed": false,
    "ExecuteTime": {
     "end_time": "2023-11-30T09:11:18.386087Z",
     "start_time": "2023-11-30T09:11:18.320385Z"
    }
   },
   "id": "424ec40623fe3364"
  },
  {
   "cell_type": "code",
   "execution_count": 6,
   "outputs": [
    {
     "data": {
      "text/plain": "     Unnamed: 0            Timestamp Component_Name  Part_Number  \\\n0             0  2023-01-01 08:00:00        CHM-001        12345   \n1             1  2023-02-01 08:00:00        LID-001        54321   \n2             2  2023-03-01 08:00:00        GDS-001        67890   \n3             3  2023-04-01 08:00:00        PSA-001        11223   \n4             4  2023-05-01 08:00:00        WHS-001        33445   \n..          ...                  ...            ...          ...   \n96           96  2029-09-01 08:00:00        ESR-002        33446   \n97           97  2029-10-01 08:00:00        EMS-002        55668   \n98           98  2029-11-01 08:00:00        PAS-002        77890   \n99           99  2029-12-01 08:00:00        CST-001        99002   \n100         100  2030-01-01 08:00:00        IMS-002        11224   \n\n                                       Description  Quantity  \\\n0                                Main chamber body         1   \n1                                  Lid for chamber         1   \n2                        Gas distribution manifold         1   \n3    RF Generator and Electrostatic Chuck Assembly         1   \n4                        Robot arm and wafer chuck         1   \n..                                             ...       ...   \n96                  Electron Spin Resonance Module         1   \n97                      Electron Microscopy System         1   \n98               Photoacoustic Spectroscopy Module         1   \n99                     Coating and Sputtering Tool         1   \n100                             Ion Milling System         1   \n\n                      Material   Supplier  Unit_Cost Lead_Time  ...  \\\n0              Stainless Steel   Vendor A      10000  12 weeks  ...   \n1               Aluminum Alloy   Vendor B       5000   8 weeks  ...   \n2              Stainless Steel   Vendor C       8000  10 weeks  ...   \n3                      Various   Vendor D      20000  14 weeks  ...   \n4      Aluminum Alloy, Ceramic   Vendor E      15000  16 weeks  ...   \n..                         ...        ...        ...       ...  ...   \n96             Silicon, Copper  Vendor VV      20000  16 weeks  ...   \n97             Titanium, Glass  Vendor WW      18000  14 weeks  ...   \n98             Quartz, Plastic  Vendor XX      15000  12 weeks  ...   \n99   Stainless Steel, Aluminum  Vendor YY      22000  18 weeks  ...   \n100           Aluminum, Quartz  Vendor ZZ      25000  20 weeks  ...   \n\n         Manufacturing_Process Quality_Standards      Testing_Requirements  \\\n0       CNC Machining, Welding         SEMI S123          Helium Leak Test   \n1                CNC Machining         SEMI S456         Visual Inspection   \n2          Precision Machining         SEMI S789                 Leak Test   \n3    Integration of Components         SEMI S234          Electrical Tests   \n4             Robotic Assembly         SEMI S567          Functional Tests   \n..                         ...               ...                       ...   \n96             ESR Integration         SEMI S678  Resonance Frequency Test   \n97             EMS Integration         SEMI S234           Resolution Test   \n98             PAS Integration         SEMI S345    Spectral Analysis Test   \n99      Coating and Sputtering         SEMI S567   Coating Uniformity Test   \n100            IMS Integration         SEMI S678   Milling Efficiency Test   \n\n    Assembly_Instructions Subassembly_Level Weight Packaging_Information  \\\n0      Provided by vendor           Level 1  200.0          Custom crate   \n1      Provided by vendor           Level 1   50.0      Custom packaging   \n2      Provided by vendor           Level 2   30.0          Custom crate   \n3      Provided by vendor           Level 2  100.0      Custom packaging   \n4      Provided by vendor           Level 2   40.0          Custom crate   \n..                    ...               ...    ...                   ...   \n96     Provided by vendor           Level 2   85.0          Custom crate   \n97     Provided by vendor           Level 1   60.0      Custom packaging   \n98     Provided by vendor           Level 2   75.0          Custom crate   \n99     Provided by vendor           Level 2   90.0      Custom packaging   \n100    Provided by vendor           Level 2   95.0          Custom crate   \n\n    Environmental_Compliance                 Safety_Considerations Demand  \n0                RoHS, REACH  Safety interlocks during maintenance  150.0  \n1                RoHS, REACH  Safety interlocks during lid opening  120.0  \n2                RoHS, REACH                                     -   90.0  \n3                RoHS, REACH    Safety interlocks during operation  180.0  \n4                RoHS, REACH     Safety interlocks during handling  200.0  \n..                       ...                                   ...    ...  \n96               RoHS, REACH    Safety interlocks during operation  190.0  \n97               RoHS, REACH                                     -  170.0  \n98               RoHS, REACH    Safety interlocks during operation  180.0  \n99               RoHS, REACH    Safety interlocks during operation  220.0  \n100              RoHS, REACH    Safety interlocks during operation  200.0  \n\n[101 rows x 23 columns]",
      "text/html": "<div>\n<style scoped>\n    .dataframe tbody tr th:only-of-type {\n        vertical-align: middle;\n    }\n\n    .dataframe tbody tr th {\n        vertical-align: top;\n    }\n\n    .dataframe thead th {\n        text-align: right;\n    }\n</style>\n<table border=\"1\" class=\"dataframe\">\n  <thead>\n    <tr style=\"text-align: right;\">\n      <th></th>\n      <th>Unnamed: 0</th>\n      <th>Timestamp</th>\n      <th>Component_Name</th>\n      <th>Part_Number</th>\n      <th>Description</th>\n      <th>Quantity</th>\n      <th>Material</th>\n      <th>Supplier</th>\n      <th>Unit_Cost</th>\n      <th>Lead_Time</th>\n      <th>...</th>\n      <th>Manufacturing_Process</th>\n      <th>Quality_Standards</th>\n      <th>Testing_Requirements</th>\n      <th>Assembly_Instructions</th>\n      <th>Subassembly_Level</th>\n      <th>Weight</th>\n      <th>Packaging_Information</th>\n      <th>Environmental_Compliance</th>\n      <th>Safety_Considerations</th>\n      <th>Demand</th>\n    </tr>\n  </thead>\n  <tbody>\n    <tr>\n      <th>0</th>\n      <td>0</td>\n      <td>2023-01-01 08:00:00</td>\n      <td>CHM-001</td>\n      <td>12345</td>\n      <td>Main chamber body</td>\n      <td>1</td>\n      <td>Stainless Steel</td>\n      <td>Vendor A</td>\n      <td>10000</td>\n      <td>12 weeks</td>\n      <td>...</td>\n      <td>CNC Machining, Welding</td>\n      <td>SEMI S123</td>\n      <td>Helium Leak Test</td>\n      <td>Provided by vendor</td>\n      <td>Level 1</td>\n      <td>200.0</td>\n      <td>Custom crate</td>\n      <td>RoHS, REACH</td>\n      <td>Safety interlocks during maintenance</td>\n      <td>150.0</td>\n    </tr>\n    <tr>\n      <th>1</th>\n      <td>1</td>\n      <td>2023-02-01 08:00:00</td>\n      <td>LID-001</td>\n      <td>54321</td>\n      <td>Lid for chamber</td>\n      <td>1</td>\n      <td>Aluminum Alloy</td>\n      <td>Vendor B</td>\n      <td>5000</td>\n      <td>8 weeks</td>\n      <td>...</td>\n      <td>CNC Machining</td>\n      <td>SEMI S456</td>\n      <td>Visual Inspection</td>\n      <td>Provided by vendor</td>\n      <td>Level 1</td>\n      <td>50.0</td>\n      <td>Custom packaging</td>\n      <td>RoHS, REACH</td>\n      <td>Safety interlocks during lid opening</td>\n      <td>120.0</td>\n    </tr>\n    <tr>\n      <th>2</th>\n      <td>2</td>\n      <td>2023-03-01 08:00:00</td>\n      <td>GDS-001</td>\n      <td>67890</td>\n      <td>Gas distribution manifold</td>\n      <td>1</td>\n      <td>Stainless Steel</td>\n      <td>Vendor C</td>\n      <td>8000</td>\n      <td>10 weeks</td>\n      <td>...</td>\n      <td>Precision Machining</td>\n      <td>SEMI S789</td>\n      <td>Leak Test</td>\n      <td>Provided by vendor</td>\n      <td>Level 2</td>\n      <td>30.0</td>\n      <td>Custom crate</td>\n      <td>RoHS, REACH</td>\n      <td>-</td>\n      <td>90.0</td>\n    </tr>\n    <tr>\n      <th>3</th>\n      <td>3</td>\n      <td>2023-04-01 08:00:00</td>\n      <td>PSA-001</td>\n      <td>11223</td>\n      <td>RF Generator and Electrostatic Chuck Assembly</td>\n      <td>1</td>\n      <td>Various</td>\n      <td>Vendor D</td>\n      <td>20000</td>\n      <td>14 weeks</td>\n      <td>...</td>\n      <td>Integration of Components</td>\n      <td>SEMI S234</td>\n      <td>Electrical Tests</td>\n      <td>Provided by vendor</td>\n      <td>Level 2</td>\n      <td>100.0</td>\n      <td>Custom packaging</td>\n      <td>RoHS, REACH</td>\n      <td>Safety interlocks during operation</td>\n      <td>180.0</td>\n    </tr>\n    <tr>\n      <th>4</th>\n      <td>4</td>\n      <td>2023-05-01 08:00:00</td>\n      <td>WHS-001</td>\n      <td>33445</td>\n      <td>Robot arm and wafer chuck</td>\n      <td>1</td>\n      <td>Aluminum Alloy, Ceramic</td>\n      <td>Vendor E</td>\n      <td>15000</td>\n      <td>16 weeks</td>\n      <td>...</td>\n      <td>Robotic Assembly</td>\n      <td>SEMI S567</td>\n      <td>Functional Tests</td>\n      <td>Provided by vendor</td>\n      <td>Level 2</td>\n      <td>40.0</td>\n      <td>Custom crate</td>\n      <td>RoHS, REACH</td>\n      <td>Safety interlocks during handling</td>\n      <td>200.0</td>\n    </tr>\n    <tr>\n      <th>...</th>\n      <td>...</td>\n      <td>...</td>\n      <td>...</td>\n      <td>...</td>\n      <td>...</td>\n      <td>...</td>\n      <td>...</td>\n      <td>...</td>\n      <td>...</td>\n      <td>...</td>\n      <td>...</td>\n      <td>...</td>\n      <td>...</td>\n      <td>...</td>\n      <td>...</td>\n      <td>...</td>\n      <td>...</td>\n      <td>...</td>\n      <td>...</td>\n      <td>...</td>\n      <td>...</td>\n    </tr>\n    <tr>\n      <th>96</th>\n      <td>96</td>\n      <td>2029-09-01 08:00:00</td>\n      <td>ESR-002</td>\n      <td>33446</td>\n      <td>Electron Spin Resonance Module</td>\n      <td>1</td>\n      <td>Silicon, Copper</td>\n      <td>Vendor VV</td>\n      <td>20000</td>\n      <td>16 weeks</td>\n      <td>...</td>\n      <td>ESR Integration</td>\n      <td>SEMI S678</td>\n      <td>Resonance Frequency Test</td>\n      <td>Provided by vendor</td>\n      <td>Level 2</td>\n      <td>85.0</td>\n      <td>Custom crate</td>\n      <td>RoHS, REACH</td>\n      <td>Safety interlocks during operation</td>\n      <td>190.0</td>\n    </tr>\n    <tr>\n      <th>97</th>\n      <td>97</td>\n      <td>2029-10-01 08:00:00</td>\n      <td>EMS-002</td>\n      <td>55668</td>\n      <td>Electron Microscopy System</td>\n      <td>1</td>\n      <td>Titanium, Glass</td>\n      <td>Vendor WW</td>\n      <td>18000</td>\n      <td>14 weeks</td>\n      <td>...</td>\n      <td>EMS Integration</td>\n      <td>SEMI S234</td>\n      <td>Resolution Test</td>\n      <td>Provided by vendor</td>\n      <td>Level 1</td>\n      <td>60.0</td>\n      <td>Custom packaging</td>\n      <td>RoHS, REACH</td>\n      <td>-</td>\n      <td>170.0</td>\n    </tr>\n    <tr>\n      <th>98</th>\n      <td>98</td>\n      <td>2029-11-01 08:00:00</td>\n      <td>PAS-002</td>\n      <td>77890</td>\n      <td>Photoacoustic Spectroscopy Module</td>\n      <td>1</td>\n      <td>Quartz, Plastic</td>\n      <td>Vendor XX</td>\n      <td>15000</td>\n      <td>12 weeks</td>\n      <td>...</td>\n      <td>PAS Integration</td>\n      <td>SEMI S345</td>\n      <td>Spectral Analysis Test</td>\n      <td>Provided by vendor</td>\n      <td>Level 2</td>\n      <td>75.0</td>\n      <td>Custom crate</td>\n      <td>RoHS, REACH</td>\n      <td>Safety interlocks during operation</td>\n      <td>180.0</td>\n    </tr>\n    <tr>\n      <th>99</th>\n      <td>99</td>\n      <td>2029-12-01 08:00:00</td>\n      <td>CST-001</td>\n      <td>99002</td>\n      <td>Coating and Sputtering Tool</td>\n      <td>1</td>\n      <td>Stainless Steel, Aluminum</td>\n      <td>Vendor YY</td>\n      <td>22000</td>\n      <td>18 weeks</td>\n      <td>...</td>\n      <td>Coating and Sputtering</td>\n      <td>SEMI S567</td>\n      <td>Coating Uniformity Test</td>\n      <td>Provided by vendor</td>\n      <td>Level 2</td>\n      <td>90.0</td>\n      <td>Custom packaging</td>\n      <td>RoHS, REACH</td>\n      <td>Safety interlocks during operation</td>\n      <td>220.0</td>\n    </tr>\n    <tr>\n      <th>100</th>\n      <td>100</td>\n      <td>2030-01-01 08:00:00</td>\n      <td>IMS-002</td>\n      <td>11224</td>\n      <td>Ion Milling System</td>\n      <td>1</td>\n      <td>Aluminum, Quartz</td>\n      <td>Vendor ZZ</td>\n      <td>25000</td>\n      <td>20 weeks</td>\n      <td>...</td>\n      <td>IMS Integration</td>\n      <td>SEMI S678</td>\n      <td>Milling Efficiency Test</td>\n      <td>Provided by vendor</td>\n      <td>Level 2</td>\n      <td>95.0</td>\n      <td>Custom crate</td>\n      <td>RoHS, REACH</td>\n      <td>Safety interlocks during operation</td>\n      <td>200.0</td>\n    </tr>\n  </tbody>\n</table>\n<p>101 rows × 23 columns</p>\n</div>"
     },
     "execution_count": 6,
     "metadata": {},
     "output_type": "execute_result"
    }
   ],
   "source": [
    "df"
   ],
   "metadata": {
    "collapsed": false,
    "ExecuteTime": {
     "end_time": "2023-11-30T09:11:19.622199Z",
     "start_time": "2023-11-30T09:11:19.602448Z"
    }
   },
   "id": "9aeae60b632304a4"
  },
  {
   "cell_type": "code",
   "execution_count": 5,
   "outputs": [],
   "source": [
    "from sklearn.preprocessing import LabelEncoder\n",
    "le = LabelEncoder()\n",
    "df['Component_Name'] = le.fit_transform(df['Component_Name'])"
   ],
   "metadata": {
    "collapsed": false,
    "ExecuteTime": {
     "end_time": "2023-11-28T14:24:13.448111Z",
     "start_time": "2023-11-28T14:24:12.031315Z"
    }
   },
   "id": "1a79f157d1694d7c"
  },
  {
   "cell_type": "code",
   "execution_count": 6,
   "outputs": [],
   "source": [
    "df['Criticality']= le.fit_transform(df['Criticality'])"
   ],
   "metadata": {
    "collapsed": false,
    "ExecuteTime": {
     "end_time": "2023-11-28T14:24:13.462463Z",
     "start_time": "2023-11-28T14:24:13.426714Z"
    }
   },
   "id": "7b76171dd9f748b6"
  },
  {
   "cell_type": "code",
   "execution_count": 7,
   "outputs": [
    {
     "data": {
      "text/plain": "     Unnamed: 0            Timestamp  Component_Name  Part_Number  \\\n0             0  2023-01-01 08:00:00               8        12345   \n1             1  2023-02-01 08:00:00              51        54321   \n2             2  2023-03-01 08:00:00              34        67890   \n3             3  2023-04-01 08:00:00              75        11223   \n4             4  2023-05-01 08:00:00              98        33445   \n..          ...                  ...             ...          ...   \n96           96  2029-09-01 08:00:00              25        33446   \n97           97  2029-10-01 08:00:00              24        55668   \n98           98  2029-11-01 08:00:00              64        77890   \n99           99  2029-12-01 08:00:00              13        99002   \n100         100  2030-01-01 08:00:00              45        11224   \n\n                                       Description  Quantity  \\\n0                                Main chamber body         1   \n1                                  Lid for chamber         1   \n2                        Gas distribution manifold         1   \n3    RF Generator and Electrostatic Chuck Assembly         1   \n4                        Robot arm and wafer chuck         1   \n..                                             ...       ...   \n96                  Electron Spin Resonance Module         1   \n97                      Electron Microscopy System         1   \n98               Photoacoustic Spectroscopy Module         1   \n99                     Coating and Sputtering Tool         1   \n100                             Ion Milling System         1   \n\n                      Material   Supplier  Unit_Cost Lead_Time  ...  \\\n0              Stainless Steel   Vendor A      10000  12 weeks  ...   \n1               Aluminum Alloy   Vendor B       5000   8 weeks  ...   \n2              Stainless Steel   Vendor C       8000  10 weeks  ...   \n3                      Various   Vendor D      20000  14 weeks  ...   \n4      Aluminum Alloy, Ceramic   Vendor E      15000  16 weeks  ...   \n..                         ...        ...        ...       ...  ...   \n96             Silicon, Copper  Vendor VV      20000  16 weeks  ...   \n97             Titanium, Glass  Vendor WW      18000  14 weeks  ...   \n98             Quartz, Plastic  Vendor XX      15000  12 weeks  ...   \n99   Stainless Steel, Aluminum  Vendor YY      22000  18 weeks  ...   \n100           Aluminum, Quartz  Vendor ZZ      25000  20 weeks  ...   \n\n         Manufacturing_Process Quality_Standards      Testing_Requirements  \\\n0       CNC Machining, Welding         SEMI S123          Helium Leak Test   \n1                CNC Machining         SEMI S456         Visual Inspection   \n2          Precision Machining         SEMI S789                 Leak Test   \n3    Integration of Components         SEMI S234          Electrical Tests   \n4             Robotic Assembly         SEMI S567          Functional Tests   \n..                         ...               ...                       ...   \n96             ESR Integration         SEMI S678  Resonance Frequency Test   \n97             EMS Integration         SEMI S234           Resolution Test   \n98             PAS Integration         SEMI S345    Spectral Analysis Test   \n99      Coating and Sputtering         SEMI S567   Coating Uniformity Test   \n100            IMS Integration         SEMI S678   Milling Efficiency Test   \n\n    Assembly_Instructions Subassembly_Level Weight Packaging_Information  \\\n0      Provided by vendor           Level 1  200.0          Custom crate   \n1      Provided by vendor           Level 1   50.0      Custom packaging   \n2      Provided by vendor           Level 2   30.0          Custom crate   \n3      Provided by vendor           Level 2  100.0      Custom packaging   \n4      Provided by vendor           Level 2   40.0          Custom crate   \n..                    ...               ...    ...                   ...   \n96     Provided by vendor           Level 2   85.0          Custom crate   \n97     Provided by vendor           Level 1   60.0      Custom packaging   \n98     Provided by vendor           Level 2   75.0          Custom crate   \n99     Provided by vendor           Level 2   90.0      Custom packaging   \n100    Provided by vendor           Level 2   95.0          Custom crate   \n\n    Environmental_Compliance                 Safety_Considerations Demand  \n0                RoHS, REACH  Safety interlocks during maintenance  150.0  \n1                RoHS, REACH  Safety interlocks during lid opening  120.0  \n2                RoHS, REACH                                     -   90.0  \n3                RoHS, REACH    Safety interlocks during operation  180.0  \n4                RoHS, REACH     Safety interlocks during handling  200.0  \n..                       ...                                   ...    ...  \n96               RoHS, REACH    Safety interlocks during operation  190.0  \n97               RoHS, REACH                                     -  170.0  \n98               RoHS, REACH    Safety interlocks during operation  180.0  \n99               RoHS, REACH    Safety interlocks during operation  220.0  \n100              RoHS, REACH    Safety interlocks during operation  200.0  \n\n[101 rows x 23 columns]",
      "text/html": "<div>\n<style scoped>\n    .dataframe tbody tr th:only-of-type {\n        vertical-align: middle;\n    }\n\n    .dataframe tbody tr th {\n        vertical-align: top;\n    }\n\n    .dataframe thead th {\n        text-align: right;\n    }\n</style>\n<table border=\"1\" class=\"dataframe\">\n  <thead>\n    <tr style=\"text-align: right;\">\n      <th></th>\n      <th>Unnamed: 0</th>\n      <th>Timestamp</th>\n      <th>Component_Name</th>\n      <th>Part_Number</th>\n      <th>Description</th>\n      <th>Quantity</th>\n      <th>Material</th>\n      <th>Supplier</th>\n      <th>Unit_Cost</th>\n      <th>Lead_Time</th>\n      <th>...</th>\n      <th>Manufacturing_Process</th>\n      <th>Quality_Standards</th>\n      <th>Testing_Requirements</th>\n      <th>Assembly_Instructions</th>\n      <th>Subassembly_Level</th>\n      <th>Weight</th>\n      <th>Packaging_Information</th>\n      <th>Environmental_Compliance</th>\n      <th>Safety_Considerations</th>\n      <th>Demand</th>\n    </tr>\n  </thead>\n  <tbody>\n    <tr>\n      <th>0</th>\n      <td>0</td>\n      <td>2023-01-01 08:00:00</td>\n      <td>8</td>\n      <td>12345</td>\n      <td>Main chamber body</td>\n      <td>1</td>\n      <td>Stainless Steel</td>\n      <td>Vendor A</td>\n      <td>10000</td>\n      <td>12 weeks</td>\n      <td>...</td>\n      <td>CNC Machining, Welding</td>\n      <td>SEMI S123</td>\n      <td>Helium Leak Test</td>\n      <td>Provided by vendor</td>\n      <td>Level 1</td>\n      <td>200.0</td>\n      <td>Custom crate</td>\n      <td>RoHS, REACH</td>\n      <td>Safety interlocks during maintenance</td>\n      <td>150.0</td>\n    </tr>\n    <tr>\n      <th>1</th>\n      <td>1</td>\n      <td>2023-02-01 08:00:00</td>\n      <td>51</td>\n      <td>54321</td>\n      <td>Lid for chamber</td>\n      <td>1</td>\n      <td>Aluminum Alloy</td>\n      <td>Vendor B</td>\n      <td>5000</td>\n      <td>8 weeks</td>\n      <td>...</td>\n      <td>CNC Machining</td>\n      <td>SEMI S456</td>\n      <td>Visual Inspection</td>\n      <td>Provided by vendor</td>\n      <td>Level 1</td>\n      <td>50.0</td>\n      <td>Custom packaging</td>\n      <td>RoHS, REACH</td>\n      <td>Safety interlocks during lid opening</td>\n      <td>120.0</td>\n    </tr>\n    <tr>\n      <th>2</th>\n      <td>2</td>\n      <td>2023-03-01 08:00:00</td>\n      <td>34</td>\n      <td>67890</td>\n      <td>Gas distribution manifold</td>\n      <td>1</td>\n      <td>Stainless Steel</td>\n      <td>Vendor C</td>\n      <td>8000</td>\n      <td>10 weeks</td>\n      <td>...</td>\n      <td>Precision Machining</td>\n      <td>SEMI S789</td>\n      <td>Leak Test</td>\n      <td>Provided by vendor</td>\n      <td>Level 2</td>\n      <td>30.0</td>\n      <td>Custom crate</td>\n      <td>RoHS, REACH</td>\n      <td>-</td>\n      <td>90.0</td>\n    </tr>\n    <tr>\n      <th>3</th>\n      <td>3</td>\n      <td>2023-04-01 08:00:00</td>\n      <td>75</td>\n      <td>11223</td>\n      <td>RF Generator and Electrostatic Chuck Assembly</td>\n      <td>1</td>\n      <td>Various</td>\n      <td>Vendor D</td>\n      <td>20000</td>\n      <td>14 weeks</td>\n      <td>...</td>\n      <td>Integration of Components</td>\n      <td>SEMI S234</td>\n      <td>Electrical Tests</td>\n      <td>Provided by vendor</td>\n      <td>Level 2</td>\n      <td>100.0</td>\n      <td>Custom packaging</td>\n      <td>RoHS, REACH</td>\n      <td>Safety interlocks during operation</td>\n      <td>180.0</td>\n    </tr>\n    <tr>\n      <th>4</th>\n      <td>4</td>\n      <td>2023-05-01 08:00:00</td>\n      <td>98</td>\n      <td>33445</td>\n      <td>Robot arm and wafer chuck</td>\n      <td>1</td>\n      <td>Aluminum Alloy, Ceramic</td>\n      <td>Vendor E</td>\n      <td>15000</td>\n      <td>16 weeks</td>\n      <td>...</td>\n      <td>Robotic Assembly</td>\n      <td>SEMI S567</td>\n      <td>Functional Tests</td>\n      <td>Provided by vendor</td>\n      <td>Level 2</td>\n      <td>40.0</td>\n      <td>Custom crate</td>\n      <td>RoHS, REACH</td>\n      <td>Safety interlocks during handling</td>\n      <td>200.0</td>\n    </tr>\n    <tr>\n      <th>...</th>\n      <td>...</td>\n      <td>...</td>\n      <td>...</td>\n      <td>...</td>\n      <td>...</td>\n      <td>...</td>\n      <td>...</td>\n      <td>...</td>\n      <td>...</td>\n      <td>...</td>\n      <td>...</td>\n      <td>...</td>\n      <td>...</td>\n      <td>...</td>\n      <td>...</td>\n      <td>...</td>\n      <td>...</td>\n      <td>...</td>\n      <td>...</td>\n      <td>...</td>\n      <td>...</td>\n    </tr>\n    <tr>\n      <th>96</th>\n      <td>96</td>\n      <td>2029-09-01 08:00:00</td>\n      <td>25</td>\n      <td>33446</td>\n      <td>Electron Spin Resonance Module</td>\n      <td>1</td>\n      <td>Silicon, Copper</td>\n      <td>Vendor VV</td>\n      <td>20000</td>\n      <td>16 weeks</td>\n      <td>...</td>\n      <td>ESR Integration</td>\n      <td>SEMI S678</td>\n      <td>Resonance Frequency Test</td>\n      <td>Provided by vendor</td>\n      <td>Level 2</td>\n      <td>85.0</td>\n      <td>Custom crate</td>\n      <td>RoHS, REACH</td>\n      <td>Safety interlocks during operation</td>\n      <td>190.0</td>\n    </tr>\n    <tr>\n      <th>97</th>\n      <td>97</td>\n      <td>2029-10-01 08:00:00</td>\n      <td>24</td>\n      <td>55668</td>\n      <td>Electron Microscopy System</td>\n      <td>1</td>\n      <td>Titanium, Glass</td>\n      <td>Vendor WW</td>\n      <td>18000</td>\n      <td>14 weeks</td>\n      <td>...</td>\n      <td>EMS Integration</td>\n      <td>SEMI S234</td>\n      <td>Resolution Test</td>\n      <td>Provided by vendor</td>\n      <td>Level 1</td>\n      <td>60.0</td>\n      <td>Custom packaging</td>\n      <td>RoHS, REACH</td>\n      <td>-</td>\n      <td>170.0</td>\n    </tr>\n    <tr>\n      <th>98</th>\n      <td>98</td>\n      <td>2029-11-01 08:00:00</td>\n      <td>64</td>\n      <td>77890</td>\n      <td>Photoacoustic Spectroscopy Module</td>\n      <td>1</td>\n      <td>Quartz, Plastic</td>\n      <td>Vendor XX</td>\n      <td>15000</td>\n      <td>12 weeks</td>\n      <td>...</td>\n      <td>PAS Integration</td>\n      <td>SEMI S345</td>\n      <td>Spectral Analysis Test</td>\n      <td>Provided by vendor</td>\n      <td>Level 2</td>\n      <td>75.0</td>\n      <td>Custom crate</td>\n      <td>RoHS, REACH</td>\n      <td>Safety interlocks during operation</td>\n      <td>180.0</td>\n    </tr>\n    <tr>\n      <th>99</th>\n      <td>99</td>\n      <td>2029-12-01 08:00:00</td>\n      <td>13</td>\n      <td>99002</td>\n      <td>Coating and Sputtering Tool</td>\n      <td>1</td>\n      <td>Stainless Steel, Aluminum</td>\n      <td>Vendor YY</td>\n      <td>22000</td>\n      <td>18 weeks</td>\n      <td>...</td>\n      <td>Coating and Sputtering</td>\n      <td>SEMI S567</td>\n      <td>Coating Uniformity Test</td>\n      <td>Provided by vendor</td>\n      <td>Level 2</td>\n      <td>90.0</td>\n      <td>Custom packaging</td>\n      <td>RoHS, REACH</td>\n      <td>Safety interlocks during operation</td>\n      <td>220.0</td>\n    </tr>\n    <tr>\n      <th>100</th>\n      <td>100</td>\n      <td>2030-01-01 08:00:00</td>\n      <td>45</td>\n      <td>11224</td>\n      <td>Ion Milling System</td>\n      <td>1</td>\n      <td>Aluminum, Quartz</td>\n      <td>Vendor ZZ</td>\n      <td>25000</td>\n      <td>20 weeks</td>\n      <td>...</td>\n      <td>IMS Integration</td>\n      <td>SEMI S678</td>\n      <td>Milling Efficiency Test</td>\n      <td>Provided by vendor</td>\n      <td>Level 2</td>\n      <td>95.0</td>\n      <td>Custom crate</td>\n      <td>RoHS, REACH</td>\n      <td>Safety interlocks during operation</td>\n      <td>200.0</td>\n    </tr>\n  </tbody>\n</table>\n<p>101 rows × 23 columns</p>\n</div>"
     },
     "execution_count": 7,
     "metadata": {},
     "output_type": "execute_result"
    }
   ],
   "source": [
    "df"
   ],
   "metadata": {
    "collapsed": false,
    "ExecuteTime": {
     "end_time": "2023-11-28T14:24:13.763213Z",
     "start_time": "2023-11-28T14:24:13.744990Z"
    }
   },
   "id": "3b97c74ae35b8ce9"
  },
  {
   "cell_type": "code",
   "execution_count": 120,
   "outputs": [],
   "source": [
    "import networkx as nx\n",
    "import pandas as pd\n",
    "\n",
    "\n",
    "# Create a directed graph\n",
    "graph = nx.DiGraph()\n",
    "\n",
    "# Add nodes with attributes\n",
    "for index, row in df.iterrows():\n",
    "    graph.add_node(row['Component_Name'], part_number=row['Part_Number'], quantity=row['Quantity'])\n",
    "\n",
    "# Add edges with attributes (for simplicity, let's connect components based on the order in the DataFrame)\n",
    "for i in range(len(df) - 1):\n",
    "    graph.add_edge(df.loc[i, 'Component_Name'], df.loc[i + 1, 'Component_Name'], criticality=df.loc[i, 'Criticality'])\n",
    "\n",
    "# You can add more edges based on other relationships in your data\n",
    "\n",
    "# Now 'graph' represents your data as a directed graph\n",
    "\n",
    "# You can then pass this graph into a Graph Neural Network library for further processing\n"
   ],
   "metadata": {
    "collapsed": false,
    "ExecuteTime": {
     "end_time": "2023-11-28T17:26:15.036808Z",
     "start_time": "2023-11-28T17:26:15.012989Z"
    }
   },
   "id": "e21d33148ca5b1df"
  },
  {
   "cell_type": "code",
   "execution_count": 121,
   "outputs": [
    {
     "data": {
      "text/plain": "<networkx.classes.digraph.DiGraph at 0x17f4aa890>"
     },
     "execution_count": 121,
     "metadata": {},
     "output_type": "execute_result"
    }
   ],
   "source": [
    "graph"
   ],
   "metadata": {
    "collapsed": false,
    "ExecuteTime": {
     "end_time": "2023-11-28T17:26:15.632942Z",
     "start_time": "2023-11-28T17:26:15.619469Z"
    }
   },
   "id": "63eb59042c366fd7"
  },
  {
   "cell_type": "code",
   "execution_count": 122,
   "outputs": [
    {
     "data": {
      "text/plain": "NodeDataView({8: {'part_number': 12345, 'quantity': 1}, 51: {'part_number': 54321, 'quantity': 1}, 34: {'part_number': 67890, 'quantity': 1}, 75: {'part_number': 11223, 'quantity': 1}, 98: {'part_number': 33445, 'quantity': 1}, 47: {'part_number': 55667, 'quantity': 1}, 12: {'part_number': 77889, 'quantity': 1}, 77: {'part_number': 99001, 'quantity': 1}, 37: {'part_number': 11223, 'quantity': 1}, 88: {'part_number': 55668, 'quantity': 1}, 20: {'part_number': 55667, 'quantity': 1}, 96: {'part_number': 77889, 'quantity': 1}, 67: {'part_number': 99001, 'quantity': 1}, 36: {'part_number': 11223, 'quantity': 1}, 99: {'part_number': 33445, 'quantity': 1}, 68: {'part_number': 55667, 'quantity': 1}, 63: {'part_number': 78901, 'quantity': 1}, 58: {'part_number': 12345, 'quantity': 1}, 2: {'part_number': 56789, 'quantity': 1}, 79: {'part_number': 11223, 'quantity': 1}, 26: {'part_number': 33445, 'quantity': 1}, 62: {'part_number': 55667, 'quantity': 1}, 65: {'part_number': 77889, 'quantity': 1}, 60: {'part_number': 99001, 'quantity': 1}, 70: {'part_number': 11223, 'quantity': 1}, 69: {'part_number': 33445, 'quantity': 1}, 28: {'part_number': 55667, 'quantity': 1}, 10: {'part_number': 77889, 'quantity': 1}, 41: {'part_number': 99001, 'quantity': 1}, 57: {'part_number': 11223, 'quantity': 1}, 90: {'part_number': 33445, 'quantity': 1}, 80: {'part_number': 55667, 'quantity': 1}, 91: {'part_number': 77889, 'quantity': 1}, 16: {'part_number': 99001, 'quantity': 1}, 49: {'part_number': 11223, 'quantity': 1}, 21: {'part_number': 33445, 'quantity': 1}, 3: {'part_number': 55667, 'quantity': 1}, 72: {'part_number': 77889, 'quantity': 1}, 39: {'part_number': 99001, 'quantity': 1}, 59: {'part_number': 11223, 'quantity': 1}, 18: {'part_number': 33445, 'quantity': 1}, 54: {'part_number': 55667, 'quantity': 1}, 74: {'part_number': 77889, 'quantity': 1}, 82: {'part_number': 99001, 'quantity': 1}, 1: {'part_number': 11223, 'quantity': 1}, 85: {'part_number': 33445, 'quantity': 1}, 15: {'part_number': 55667, 'quantity': 1}, 66: {'part_number': 77889, 'quantity': 1}, 81: {'part_number': 99001, 'quantity': 1}, 19: {'part_number': 11223, 'quantity': 1}, 48: {'part_number': 33445, 'quantity': 1}, 17: {'part_number': 55667, 'quantity': 1}, 87: {'part_number': 77889, 'quantity': 1}, 32: {'part_number': 99001, 'quantity': 1}, 43: {'part_number': 11223, 'quantity': 1}, 30: {'part_number': 33445, 'quantity': 1}, 46: {'part_number': 55667, 'quantity': 1}, 23: {'part_number': 77889, 'quantity': 1}, 93: {'part_number': 99001, 'quantity': 1}, 53: {'part_number': 12346, 'quantity': 1}, 97: {'part_number': 77890, 'quantity': 1}, 9: {'part_number': 99002, 'quantity': 1}, 33: {'part_number': 11224, 'quantity': 1}, 73: {'part_number': 33446, 'quantity': 1}, 5: {'part_number': 55668, 'quantity': 1}, 86: {'part_number': 77890, 'quantity': 1}, 94: {'part_number': 99002, 'quantity': 1}, 31: {'part_number': 11224, 'quantity': 1}, 61: {'part_number': 33446, 'quantity': 1}, 89: {'part_number': 55668, 'quantity': 1}, 7: {'part_number': 77890, 'quantity': 1}, 83: {'part_number': 99002, 'quantity': 1}, 38: {'part_number': 11224, 'quantity': 1}, 42: {'part_number': 33446, 'quantity': 1}, 92: {'part_number': 55668, 'quantity': 1}, 22: {'part_number': 77890, 'quantity': 1}, 50: {'part_number': 99002, 'quantity': 1}, 0: {'part_number': 11224, 'quantity': 1}, 27: {'part_number': 33446, 'quantity': 1}, 76: {'part_number': 55668, 'quantity': 1}, 84: {'part_number': 77890, 'quantity': 1}, 56: {'part_number': 99002, 'quantity': 1}, 4: {'part_number': 11224, 'quantity': 1}, 35: {'part_number': 33446, 'quantity': 1}, 44: {'part_number': 55668, 'quantity': 1}, 95: {'part_number': 77890, 'quantity': 1}, 78: {'part_number': 99002, 'quantity': 1}, 11: {'part_number': 11224, 'quantity': 1}, 14: {'part_number': 33446, 'quantity': 1}, 40: {'part_number': 77890, 'quantity': 1}, 52: {'part_number': 99002, 'quantity': 1}, 55: {'part_number': 55668, 'quantity': 1}, 6: {'part_number': 77890, 'quantity': 1}, 71: {'part_number': 99002, 'quantity': 1}, 29: {'part_number': 11224, 'quantity': 1}, 25: {'part_number': 33446, 'quantity': 1}, 24: {'part_number': 55668, 'quantity': 1}, 64: {'part_number': 77890, 'quantity': 1}, 13: {'part_number': 99002, 'quantity': 1}, 45: {'part_number': 11224, 'quantity': 1}})"
     },
     "execution_count": 122,
     "metadata": {},
     "output_type": "execute_result"
    }
   ],
   "source": [
    "graph.nodes().data()"
   ],
   "metadata": {
    "collapsed": false,
    "ExecuteTime": {
     "end_time": "2023-11-28T17:26:16.177246Z",
     "start_time": "2023-11-28T17:26:16.164643Z"
    }
   },
   "id": "55a404b1e724837a"
  },
  {
   "cell_type": "code",
   "execution_count": 123,
   "outputs": [
    {
     "name": "stdout",
     "output_type": "stream",
     "text": [
      "{'criticality': 0}\n",
      "{'criticality': 0}\n",
      "{'criticality': 2}\n",
      "{'criticality': 0}\n",
      "{'criticality': 0}\n",
      "{'criticality': 2}\n",
      "{'criticality': 2}\n",
      "{'criticality': 0}\n",
      "{'criticality': 2}\n",
      "{'criticality': 0}\n",
      "{'criticality': 1}\n",
      "{'criticality': 0}\n",
      "{'criticality': 0}\n",
      "{'criticality': 2}\n",
      "{'criticality': 2}\n",
      "{'criticality': 2}\n",
      "{'criticality': 0}\n",
      "{'criticality': 0}\n",
      "{'criticality': 2}\n",
      "{'criticality': 0}\n",
      "{'criticality': 2}\n",
      "{'criticality': 0}\n",
      "{'criticality': 0}\n",
      "{'criticality': 2}\n",
      "{'criticality': 0}\n",
      "{'criticality': 2}\n",
      "{'criticality': 2}\n",
      "{'criticality': 0}\n",
      "{'criticality': 2}\n",
      "{'criticality': 2}\n",
      "{'criticality': 0}\n",
      "{'criticality': 0}\n",
      "{'criticality': 2}\n",
      "{'criticality': 0}\n",
      "{'criticality': 2}\n",
      "{'criticality': 2}\n",
      "{'criticality': 0}\n",
      "{'criticality': 0}\n",
      "{'criticality': 2}\n",
      "{'criticality': 0}\n",
      "{'criticality': 0}\n",
      "{'criticality': 0}\n",
      "{'criticality': 2}\n",
      "{'criticality': 0}\n",
      "{'criticality': 2}\n",
      "{'criticality': 2}\n",
      "{'criticality': 0}\n",
      "{'criticality': 0}\n",
      "{'criticality': 0}\n",
      "{'criticality': 0}\n",
      "{'criticality': 0}\n",
      "{'criticality': 0}\n",
      "{'criticality': 2}\n",
      "{'criticality': 0}\n",
      "{'criticality': 2}\n",
      "{'criticality': 2}\n",
      "{'criticality': 0}\n",
      "{'criticality': 0}\n",
      "{'criticality': 0}\n",
      "{'criticality': 2}\n",
      "{'criticality': 2}\n",
      "{'criticality': 0}\n",
      "{'criticality': 1}\n",
      "{'criticality': 2}\n",
      "{'criticality': 0}\n",
      "{'criticality': 1}\n",
      "{'criticality': 1}\n",
      "{'criticality': 1}\n",
      "{'criticality': 0}\n",
      "{'criticality': 2}\n",
      "{'criticality': 2}\n",
      "{'criticality': 0}\n",
      "{'criticality': 2}\n",
      "{'criticality': 0}\n",
      "{'criticality': 0}\n",
      "{'criticality': 1}\n",
      "{'criticality': 2}\n",
      "{'criticality': 0}\n",
      "{'criticality': 0}\n",
      "{'criticality': 2}\n",
      "{'criticality': 1}\n",
      "{'criticality': 0}\n",
      "{'criticality': 1}\n",
      "{'criticality': 1}\n",
      "{'criticality': 0}\n",
      "{'criticality': 0}\n",
      "{'criticality': 1}\n",
      "{'criticality': 2}\n",
      "{'criticality': 0}\n",
      "{'criticality': 0}\n",
      "{'criticality': 2}\n",
      "{'criticality': 1}\n",
      "{'criticality': 0}\n",
      "{'criticality': 2}\n",
      "{'criticality': 0}\n",
      "{'criticality': 0}\n",
      "{'criticality': 0}\n",
      "{'criticality': 2}\n",
      "{'criticality': 0}\n",
      "{'criticality': 0}\n"
     ]
    }
   ],
   "source": [
    "for i in graph.edges:\n",
    "    print(graph.edges[i])"
   ],
   "metadata": {
    "collapsed": false,
    "ExecuteTime": {
     "end_time": "2023-11-28T17:26:16.727471Z",
     "start_time": "2023-11-28T17:26:16.712703Z"
    }
   },
   "id": "527afd3d3b1df4d2"
  },
  {
   "cell_type": "code",
   "execution_count": 127,
   "outputs": [],
   "source": [
    "import torch\n",
    "from torch_geometric.data import Data\n",
    "\n",
    "# Assuming you have a NetworkX graph named 'graph'\n",
    "\n",
    "# Convert NetworkX graph to PyTorch Geometric Data\n",
    "def graph_to_pyg_data(graph):\n",
    "    edge_attributes = []\n",
    "    x = []\n",
    "    for i in graph.nodes:\n",
    "        node_features = graph.nodes[i]\n",
    "        temp = []\n",
    "        for key,val in node_features.items():\n",
    "            temp.append(node_features[key])\n",
    "        x.append(temp)\n",
    "    for j in graph.edges:\n",
    "        node_edge_features = graph.edges[j]\n",
    "        temp = []\n",
    "        for key,val in node_edge_features.items():\n",
    "            temp.append(node_edge_features[key])\n",
    "        edge_attributes.append(temp)\n",
    "    x = np.array(x)\n",
    "    edge_attributes = np.array(edge_attributes)\n",
    "    edge_indices = [(edge[0], edge[1]) for edge in graph.edges]\n",
    "    edge_indices = np.array(edge_indices)\n",
    "    edge_index = torch.tensor(edge_indices, dtype=torch.long).t().contiguous()\n",
    "    edge_attr = torch.tensor(edge_attributes, dtype=torch.float)\n",
    "    # Create PyTorch Geometric Data object\n",
    "    data = Data(x=x, edge_index=edge_index, edge_attr=edge_attr)\n",
    "    return data\n",
    "\n",
    "# Convert NetworkX graph to PyTorch Geometric Data\n",
    "pyg_data = graph_to_pyg_data(graph)\n",
    "\n",
    "# Now you can use 'pyg_data' as input to a PyTorch Geometric GNN model\n"
   ],
   "metadata": {
    "collapsed": false,
    "ExecuteTime": {
     "end_time": "2023-11-28T17:26:29.096631Z",
     "start_time": "2023-11-28T17:26:29.062714Z"
    }
   },
   "id": "5448e995b669693e"
  },
  {
   "cell_type": "code",
   "execution_count": 128,
   "outputs": [
    {
     "data": {
      "text/plain": "array([[12345,     1],\n       [54321,     1],\n       [67890,     1],\n       [11223,     1],\n       [33445,     1],\n       [55667,     1],\n       [77889,     1],\n       [99001,     1],\n       [11223,     1],\n       [55668,     1],\n       [55667,     1],\n       [77889,     1],\n       [99001,     1],\n       [11223,     1],\n       [33445,     1],\n       [55667,     1],\n       [78901,     1],\n       [12345,     1],\n       [56789,     1],\n       [11223,     1],\n       [33445,     1],\n       [55667,     1],\n       [77889,     1],\n       [99001,     1],\n       [11223,     1],\n       [33445,     1],\n       [55667,     1],\n       [77889,     1],\n       [99001,     1],\n       [11223,     1],\n       [33445,     1],\n       [55667,     1],\n       [77889,     1],\n       [99001,     1],\n       [11223,     1],\n       [33445,     1],\n       [55667,     1],\n       [77889,     1],\n       [99001,     1],\n       [11223,     1],\n       [33445,     1],\n       [55667,     1],\n       [77889,     1],\n       [99001,     1],\n       [11223,     1],\n       [33445,     1],\n       [55667,     1],\n       [77889,     1],\n       [99001,     1],\n       [11223,     1],\n       [33445,     1],\n       [55667,     1],\n       [77889,     1],\n       [99001,     1],\n       [11223,     1],\n       [33445,     1],\n       [55667,     1],\n       [77889,     1],\n       [99001,     1],\n       [12346,     1],\n       [77890,     1],\n       [99002,     1],\n       [11224,     1],\n       [33446,     1],\n       [55668,     1],\n       [77890,     1],\n       [99002,     1],\n       [11224,     1],\n       [33446,     1],\n       [55668,     1],\n       [77890,     1],\n       [99002,     1],\n       [11224,     1],\n       [33446,     1],\n       [55668,     1],\n       [77890,     1],\n       [99002,     1],\n       [11224,     1],\n       [33446,     1],\n       [55668,     1],\n       [77890,     1],\n       [99002,     1],\n       [11224,     1],\n       [33446,     1],\n       [55668,     1],\n       [77890,     1],\n       [99002,     1],\n       [11224,     1],\n       [33446,     1],\n       [77890,     1],\n       [99002,     1],\n       [55668,     1],\n       [77890,     1],\n       [99002,     1],\n       [11224,     1],\n       [33446,     1],\n       [55668,     1],\n       [77890,     1],\n       [99002,     1],\n       [11224,     1]])"
     },
     "execution_count": 128,
     "metadata": {},
     "output_type": "execute_result"
    }
   ],
   "source": [
    "pyg_data.x"
   ],
   "metadata": {
    "collapsed": false,
    "ExecuteTime": {
     "end_time": "2023-11-28T17:26:29.815284Z",
     "start_time": "2023-11-28T17:26:29.801576Z"
    }
   },
   "id": "996a3206e926a978"
  },
  {
   "cell_type": "code",
   "execution_count": 129,
   "outputs": [
    {
     "data": {
      "text/plain": "torch.Size([2, 100])"
     },
     "execution_count": 129,
     "metadata": {},
     "output_type": "execute_result"
    }
   ],
   "source": [
    "pyg_data.edge_index.shape"
   ],
   "metadata": {
    "collapsed": false,
    "ExecuteTime": {
     "end_time": "2023-11-28T17:26:30.562541Z",
     "start_time": "2023-11-28T17:26:30.542125Z"
    }
   },
   "id": "4024d6534a0806f3"
  },
  {
   "cell_type": "code",
   "execution_count": 130,
   "outputs": [
    {
     "data": {
      "text/plain": "2"
     },
     "execution_count": 130,
     "metadata": {},
     "output_type": "execute_result"
    }
   ],
   "source": [
    "pyg_data.num_features"
   ],
   "metadata": {
    "collapsed": false,
    "ExecuteTime": {
     "end_time": "2023-11-28T17:26:31.197045Z",
     "start_time": "2023-11-28T17:26:31.182351Z"
    }
   },
   "id": "57a3120dbf43d091"
  },
  {
   "cell_type": "code",
   "execution_count": 131,
   "outputs": [
    {
     "data": {
      "text/plain": "NodeView((8, 51, 34, 75, 98, 47, 12, 77, 37, 88, 20, 96, 67, 36, 99, 68, 63, 58, 2, 79, 26, 62, 65, 60, 70, 69, 28, 10, 41, 57, 90, 80, 91, 16, 49, 21, 3, 72, 39, 59, 18, 54, 74, 82, 1, 85, 15, 66, 81, 19, 48, 17, 87, 32, 43, 30, 46, 23, 93, 53, 97, 9, 33, 73, 5, 86, 94, 31, 61, 89, 7, 83, 38, 42, 92, 22, 50, 0, 27, 76, 84, 56, 4, 35, 44, 95, 78, 11, 14, 40, 52, 55, 6, 71, 29, 25, 24, 64, 13, 45))"
     },
     "execution_count": 131,
     "metadata": {},
     "output_type": "execute_result"
    }
   ],
   "source": [
    "graph.nodes"
   ],
   "metadata": {
    "collapsed": false,
    "ExecuteTime": {
     "end_time": "2023-11-28T17:26:31.724658Z",
     "start_time": "2023-11-28T17:26:31.711906Z"
    }
   },
   "id": "abe07f7feafaffe1"
  },
  {
   "cell_type": "code",
   "execution_count": 132,
   "outputs": [
    {
     "data": {
      "text/plain": "OutEdgeView([(8, 51), (51, 34), (34, 75), (75, 98), (98, 47), (47, 12), (12, 77), (77, 37), (37, 88), (88, 20), (88, 40), (20, 96), (96, 67), (67, 36), (36, 99), (99, 68), (68, 63), (63, 58), (58, 2), (2, 79), (79, 26), (26, 62), (62, 65), (65, 60), (60, 70), (70, 69), (69, 28), (28, 10), (10, 41), (41, 57), (57, 90), (90, 80), (80, 91), (91, 16), (16, 49), (49, 21), (21, 3), (3, 72), (72, 39), (39, 59), (59, 18), (18, 54), (54, 74), (74, 82), (82, 1), (1, 85), (85, 15), (15, 66), (66, 81), (81, 19), (19, 48), (48, 17), (17, 87), (87, 32), (32, 43), (43, 30), (30, 46), (46, 23), (23, 93), (93, 53), (53, 97), (97, 9), (9, 33), (33, 73), (73, 5), (5, 86), (86, 94), (94, 31), (31, 61), (61, 89), (89, 7), (7, 83), (83, 38), (38, 42), (42, 92), (92, 22), (22, 50), (50, 0), (0, 27), (27, 76), (76, 84), (84, 56), (56, 4), (4, 35), (35, 44), (44, 95), (95, 78), (78, 11), (11, 14), (14, 88), (40, 52), (52, 55), (55, 6), (6, 71), (71, 29), (29, 25), (25, 24), (24, 64), (64, 13), (13, 45)])"
     },
     "execution_count": 132,
     "metadata": {},
     "output_type": "execute_result"
    }
   ],
   "source": [
    "graph.edges"
   ],
   "metadata": {
    "collapsed": false,
    "ExecuteTime": {
     "end_time": "2023-11-28T17:26:32.237582Z",
     "start_time": "2023-11-28T17:26:32.224880Z"
    }
   },
   "id": "cd90c5ba2907fd"
  },
  {
   "cell_type": "code",
   "execution_count": 133,
   "outputs": [
    {
     "data": {
      "text/plain": "tensor([[ 8, 51, 34, 75, 98, 47, 12, 77, 37, 88, 88, 20, 96, 67, 36, 99, 68, 63,\n         58,  2, 79, 26, 62, 65, 60, 70, 69, 28, 10, 41, 57, 90, 80, 91, 16, 49,\n         21,  3, 72, 39, 59, 18, 54, 74, 82,  1, 85, 15, 66, 81, 19, 48, 17, 87,\n         32, 43, 30, 46, 23, 93, 53, 97,  9, 33, 73,  5, 86, 94, 31, 61, 89,  7,\n         83, 38, 42, 92, 22, 50,  0, 27, 76, 84, 56,  4, 35, 44, 95, 78, 11, 14,\n         40, 52, 55,  6, 71, 29, 25, 24, 64, 13],\n        [51, 34, 75, 98, 47, 12, 77, 37, 88, 20, 40, 96, 67, 36, 99, 68, 63, 58,\n          2, 79, 26, 62, 65, 60, 70, 69, 28, 10, 41, 57, 90, 80, 91, 16, 49, 21,\n          3, 72, 39, 59, 18, 54, 74, 82,  1, 85, 15, 66, 81, 19, 48, 17, 87, 32,\n         43, 30, 46, 23, 93, 53, 97,  9, 33, 73,  5, 86, 94, 31, 61, 89,  7, 83,\n         38, 42, 92, 22, 50,  0, 27, 76, 84, 56,  4, 35, 44, 95, 78, 11, 14, 88,\n         52, 55,  6, 71, 29, 25, 24, 64, 13, 45]])"
     },
     "execution_count": 133,
     "metadata": {},
     "output_type": "execute_result"
    }
   ],
   "source": [
    "pyg_data.edge_index"
   ],
   "metadata": {
    "collapsed": false,
    "ExecuteTime": {
     "end_time": "2023-11-28T17:26:32.718861Z",
     "start_time": "2023-11-28T17:26:32.703381Z"
    }
   },
   "id": "be757f54e3957d43"
  },
  {
   "cell_type": "code",
   "execution_count": 134,
   "outputs": [
    {
     "name": "stdout",
     "output_type": "stream",
     "text": [
      "(8, 51)   {'criticality': 0}\n",
      "(51, 34)   {'criticality': 0}\n",
      "(34, 75)   {'criticality': 2}\n",
      "(75, 98)   {'criticality': 0}\n",
      "(98, 47)   {'criticality': 0}\n",
      "(47, 12)   {'criticality': 2}\n",
      "(12, 77)   {'criticality': 2}\n",
      "(77, 37)   {'criticality': 0}\n",
      "(37, 88)   {'criticality': 2}\n",
      "(88, 20)   {'criticality': 0}\n",
      "(88, 40)   {'criticality': 1}\n",
      "(20, 96)   {'criticality': 0}\n",
      "(96, 67)   {'criticality': 0}\n",
      "(67, 36)   {'criticality': 2}\n",
      "(36, 99)   {'criticality': 2}\n",
      "(99, 68)   {'criticality': 2}\n",
      "(68, 63)   {'criticality': 0}\n",
      "(63, 58)   {'criticality': 0}\n",
      "(58, 2)   {'criticality': 2}\n",
      "(2, 79)   {'criticality': 0}\n",
      "(79, 26)   {'criticality': 2}\n",
      "(26, 62)   {'criticality': 0}\n",
      "(62, 65)   {'criticality': 0}\n",
      "(65, 60)   {'criticality': 2}\n",
      "(60, 70)   {'criticality': 0}\n",
      "(70, 69)   {'criticality': 2}\n",
      "(69, 28)   {'criticality': 2}\n",
      "(28, 10)   {'criticality': 0}\n",
      "(10, 41)   {'criticality': 2}\n",
      "(41, 57)   {'criticality': 2}\n",
      "(57, 90)   {'criticality': 0}\n",
      "(90, 80)   {'criticality': 0}\n",
      "(80, 91)   {'criticality': 2}\n",
      "(91, 16)   {'criticality': 0}\n",
      "(16, 49)   {'criticality': 2}\n",
      "(49, 21)   {'criticality': 2}\n",
      "(21, 3)   {'criticality': 0}\n",
      "(3, 72)   {'criticality': 0}\n",
      "(72, 39)   {'criticality': 2}\n",
      "(39, 59)   {'criticality': 0}\n",
      "(59, 18)   {'criticality': 0}\n",
      "(18, 54)   {'criticality': 0}\n",
      "(54, 74)   {'criticality': 2}\n",
      "(74, 82)   {'criticality': 0}\n",
      "(82, 1)   {'criticality': 2}\n",
      "(1, 85)   {'criticality': 2}\n",
      "(85, 15)   {'criticality': 0}\n",
      "(15, 66)   {'criticality': 0}\n",
      "(66, 81)   {'criticality': 0}\n",
      "(81, 19)   {'criticality': 0}\n",
      "(19, 48)   {'criticality': 0}\n",
      "(48, 17)   {'criticality': 0}\n",
      "(17, 87)   {'criticality': 2}\n",
      "(87, 32)   {'criticality': 0}\n",
      "(32, 43)   {'criticality': 2}\n",
      "(43, 30)   {'criticality': 2}\n",
      "(30, 46)   {'criticality': 0}\n",
      "(46, 23)   {'criticality': 0}\n",
      "(23, 93)   {'criticality': 0}\n",
      "(93, 53)   {'criticality': 2}\n",
      "(53, 97)   {'criticality': 2}\n",
      "(97, 9)   {'criticality': 0}\n",
      "(9, 33)   {'criticality': 1}\n",
      "(33, 73)   {'criticality': 2}\n",
      "(73, 5)   {'criticality': 0}\n",
      "(5, 86)   {'criticality': 1}\n",
      "(86, 94)   {'criticality': 1}\n",
      "(94, 31)   {'criticality': 1}\n",
      "(31, 61)   {'criticality': 0}\n",
      "(61, 89)   {'criticality': 2}\n",
      "(89, 7)   {'criticality': 2}\n",
      "(7, 83)   {'criticality': 0}\n",
      "(83, 38)   {'criticality': 2}\n",
      "(38, 42)   {'criticality': 0}\n",
      "(42, 92)   {'criticality': 0}\n",
      "(92, 22)   {'criticality': 1}\n",
      "(22, 50)   {'criticality': 2}\n",
      "(50, 0)   {'criticality': 0}\n",
      "(0, 27)   {'criticality': 0}\n",
      "(27, 76)   {'criticality': 2}\n",
      "(76, 84)   {'criticality': 1}\n",
      "(84, 56)   {'criticality': 0}\n",
      "(56, 4)   {'criticality': 1}\n",
      "(4, 35)   {'criticality': 1}\n",
      "(35, 44)   {'criticality': 0}\n",
      "(44, 95)   {'criticality': 0}\n",
      "(95, 78)   {'criticality': 1}\n",
      "(78, 11)   {'criticality': 2}\n",
      "(11, 14)   {'criticality': 0}\n",
      "(14, 88)   {'criticality': 0}\n",
      "(40, 52)   {'criticality': 2}\n",
      "(52, 55)   {'criticality': 1}\n",
      "(55, 6)   {'criticality': 0}\n",
      "(6, 71)   {'criticality': 2}\n",
      "(71, 29)   {'criticality': 0}\n",
      "(29, 25)   {'criticality': 0}\n",
      "(25, 24)   {'criticality': 0}\n",
      "(24, 64)   {'criticality': 2}\n",
      "(64, 13)   {'criticality': 0}\n",
      "(13, 45)   {'criticality': 0}\n"
     ]
    }
   ],
   "source": [
    "for edge in graph.edges:\n",
    "    \n",
    "    print(edge, \" \", graph.edges[edge])"
   ],
   "metadata": {
    "collapsed": false,
    "ExecuteTime": {
     "end_time": "2023-11-28T17:26:33.184258Z",
     "start_time": "2023-11-28T17:26:33.171900Z"
    }
   },
   "id": "e1212c8af7a6892b"
  },
  {
   "cell_type": "code",
   "execution_count": 135,
   "outputs": [
    {
     "data": {
      "text/plain": "DiDegreeView({8: 1, 51: 2, 34: 2, 75: 2, 98: 2, 47: 2, 12: 2, 77: 2, 37: 2, 88: 4, 20: 2, 96: 2, 67: 2, 36: 2, 99: 2, 68: 2, 63: 2, 58: 2, 2: 2, 79: 2, 26: 2, 62: 2, 65: 2, 60: 2, 70: 2, 69: 2, 28: 2, 10: 2, 41: 2, 57: 2, 90: 2, 80: 2, 91: 2, 16: 2, 49: 2, 21: 2, 3: 2, 72: 2, 39: 2, 59: 2, 18: 2, 54: 2, 74: 2, 82: 2, 1: 2, 85: 2, 15: 2, 66: 2, 81: 2, 19: 2, 48: 2, 17: 2, 87: 2, 32: 2, 43: 2, 30: 2, 46: 2, 23: 2, 93: 2, 53: 2, 97: 2, 9: 2, 33: 2, 73: 2, 5: 2, 86: 2, 94: 2, 31: 2, 61: 2, 89: 2, 7: 2, 83: 2, 38: 2, 42: 2, 92: 2, 22: 2, 50: 2, 0: 2, 27: 2, 76: 2, 84: 2, 56: 2, 4: 2, 35: 2, 44: 2, 95: 2, 78: 2, 11: 2, 14: 2, 40: 2, 52: 2, 55: 2, 6: 2, 71: 2, 29: 2, 25: 2, 24: 2, 64: 2, 13: 2, 45: 1})"
     },
     "execution_count": 135,
     "metadata": {},
     "output_type": "execute_result"
    }
   ],
   "source": [
    "graph.degree"
   ],
   "metadata": {
    "collapsed": false,
    "ExecuteTime": {
     "end_time": "2023-11-28T17:26:33.689486Z",
     "start_time": "2023-11-28T17:26:33.676539Z"
    }
   },
   "id": "f8635460a4060c04"
  },
  {
   "cell_type": "code",
   "execution_count": 136,
   "outputs": [
    {
     "data": {
      "text/plain": "InDegreeView({8: 0, 51: 1, 34: 1, 75: 1, 98: 1, 47: 1, 12: 1, 77: 1, 37: 1, 88: 2, 20: 1, 96: 1, 67: 1, 36: 1, 99: 1, 68: 1, 63: 1, 58: 1, 2: 1, 79: 1, 26: 1, 62: 1, 65: 1, 60: 1, 70: 1, 69: 1, 28: 1, 10: 1, 41: 1, 57: 1, 90: 1, 80: 1, 91: 1, 16: 1, 49: 1, 21: 1, 3: 1, 72: 1, 39: 1, 59: 1, 18: 1, 54: 1, 74: 1, 82: 1, 1: 1, 85: 1, 15: 1, 66: 1, 81: 1, 19: 1, 48: 1, 17: 1, 87: 1, 32: 1, 43: 1, 30: 1, 46: 1, 23: 1, 93: 1, 53: 1, 97: 1, 9: 1, 33: 1, 73: 1, 5: 1, 86: 1, 94: 1, 31: 1, 61: 1, 89: 1, 7: 1, 83: 1, 38: 1, 42: 1, 92: 1, 22: 1, 50: 1, 0: 1, 27: 1, 76: 1, 84: 1, 56: 1, 4: 1, 35: 1, 44: 1, 95: 1, 78: 1, 11: 1, 14: 1, 40: 1, 52: 1, 55: 1, 6: 1, 71: 1, 29: 1, 25: 1, 24: 1, 64: 1, 13: 1, 45: 1})"
     },
     "execution_count": 136,
     "metadata": {},
     "output_type": "execute_result"
    }
   ],
   "source": [
    "graph.in_degree"
   ],
   "metadata": {
    "collapsed": false,
    "ExecuteTime": {
     "end_time": "2023-11-28T17:26:34.189146Z",
     "start_time": "2023-11-28T17:26:34.177054Z"
    }
   },
   "id": "c1f510e073490d53"
  },
  {
   "cell_type": "code",
   "execution_count": 137,
   "outputs": [
    {
     "data": {
      "text/plain": "OutDegreeView({8: 1, 51: 1, 34: 1, 75: 1, 98: 1, 47: 1, 12: 1, 77: 1, 37: 1, 88: 2, 20: 1, 96: 1, 67: 1, 36: 1, 99: 1, 68: 1, 63: 1, 58: 1, 2: 1, 79: 1, 26: 1, 62: 1, 65: 1, 60: 1, 70: 1, 69: 1, 28: 1, 10: 1, 41: 1, 57: 1, 90: 1, 80: 1, 91: 1, 16: 1, 49: 1, 21: 1, 3: 1, 72: 1, 39: 1, 59: 1, 18: 1, 54: 1, 74: 1, 82: 1, 1: 1, 85: 1, 15: 1, 66: 1, 81: 1, 19: 1, 48: 1, 17: 1, 87: 1, 32: 1, 43: 1, 30: 1, 46: 1, 23: 1, 93: 1, 53: 1, 97: 1, 9: 1, 33: 1, 73: 1, 5: 1, 86: 1, 94: 1, 31: 1, 61: 1, 89: 1, 7: 1, 83: 1, 38: 1, 42: 1, 92: 1, 22: 1, 50: 1, 0: 1, 27: 1, 76: 1, 84: 1, 56: 1, 4: 1, 35: 1, 44: 1, 95: 1, 78: 1, 11: 1, 14: 1, 40: 1, 52: 1, 55: 1, 6: 1, 71: 1, 29: 1, 25: 1, 24: 1, 64: 1, 13: 1, 45: 0})"
     },
     "execution_count": 137,
     "metadata": {},
     "output_type": "execute_result"
    }
   ],
   "source": [
    "graph.out_degree"
   ],
   "metadata": {
    "collapsed": false,
    "ExecuteTime": {
     "end_time": "2023-11-28T17:26:34.649904Z",
     "start_time": "2023-11-28T17:26:34.635151Z"
    }
   },
   "id": "8a2df8de4a78f51f"
  },
  {
   "cell_type": "code",
   "execution_count": 138,
   "outputs": [
    {
     "data": {
      "text/plain": "InEdgeView([(8, 51), (51, 34), (34, 75), (75, 98), (98, 47), (47, 12), (12, 77), (77, 37), (37, 88), (14, 88), (88, 20), (20, 96), (96, 67), (67, 36), (36, 99), (99, 68), (68, 63), (63, 58), (58, 2), (2, 79), (79, 26), (26, 62), (62, 65), (65, 60), (60, 70), (70, 69), (69, 28), (28, 10), (10, 41), (41, 57), (57, 90), (90, 80), (80, 91), (91, 16), (16, 49), (49, 21), (21, 3), (3, 72), (72, 39), (39, 59), (59, 18), (18, 54), (54, 74), (74, 82), (82, 1), (1, 85), (85, 15), (15, 66), (66, 81), (81, 19), (19, 48), (48, 17), (17, 87), (87, 32), (32, 43), (43, 30), (30, 46), (46, 23), (23, 93), (93, 53), (53, 97), (97, 9), (9, 33), (33, 73), (73, 5), (5, 86), (86, 94), (94, 31), (31, 61), (61, 89), (89, 7), (7, 83), (83, 38), (38, 42), (42, 92), (92, 22), (22, 50), (50, 0), (0, 27), (27, 76), (76, 84), (84, 56), (56, 4), (4, 35), (35, 44), (44, 95), (95, 78), (78, 11), (11, 14), (88, 40), (40, 52), (52, 55), (55, 6), (6, 71), (71, 29), (29, 25), (25, 24), (24, 64), (64, 13), (13, 45)])"
     },
     "execution_count": 138,
     "metadata": {},
     "output_type": "execute_result"
    }
   ],
   "source": [
    "graph.in_edges"
   ],
   "metadata": {
    "collapsed": false,
    "ExecuteTime": {
     "end_time": "2023-11-28T17:26:35.102341Z",
     "start_time": "2023-11-28T17:26:35.090234Z"
    }
   },
   "id": "71f3922fd9b7942e"
  },
  {
   "cell_type": "code",
   "execution_count": 139,
   "outputs": [
    {
     "data": {
      "text/plain": "AdjacencyView({8: {51: {'criticality': 0}}, 51: {34: {'criticality': 0}}, 34: {75: {'criticality': 2}}, 75: {98: {'criticality': 0}}, 98: {47: {'criticality': 0}}, 47: {12: {'criticality': 2}}, 12: {77: {'criticality': 2}}, 77: {37: {'criticality': 0}}, 37: {88: {'criticality': 2}}, 88: {20: {'criticality': 0}, 40: {'criticality': 1}}, 20: {96: {'criticality': 0}}, 96: {67: {'criticality': 0}}, 67: {36: {'criticality': 2}}, 36: {99: {'criticality': 2}}, 99: {68: {'criticality': 2}}, 68: {63: {'criticality': 0}}, 63: {58: {'criticality': 0}}, 58: {2: {'criticality': 2}}, 2: {79: {'criticality': 0}}, 79: {26: {'criticality': 2}}, 26: {62: {'criticality': 0}}, 62: {65: {'criticality': 0}}, 65: {60: {'criticality': 2}}, 60: {70: {'criticality': 0}}, 70: {69: {'criticality': 2}}, 69: {28: {'criticality': 2}}, 28: {10: {'criticality': 0}}, 10: {41: {'criticality': 2}}, 41: {57: {'criticality': 2}}, 57: {90: {'criticality': 0}}, 90: {80: {'criticality': 0}}, 80: {91: {'criticality': 2}}, 91: {16: {'criticality': 0}}, 16: {49: {'criticality': 2}}, 49: {21: {'criticality': 2}}, 21: {3: {'criticality': 0}}, 3: {72: {'criticality': 0}}, 72: {39: {'criticality': 2}}, 39: {59: {'criticality': 0}}, 59: {18: {'criticality': 0}}, 18: {54: {'criticality': 0}}, 54: {74: {'criticality': 2}}, 74: {82: {'criticality': 0}}, 82: {1: {'criticality': 2}}, 1: {85: {'criticality': 2}}, 85: {15: {'criticality': 0}}, 15: {66: {'criticality': 0}}, 66: {81: {'criticality': 0}}, 81: {19: {'criticality': 0}}, 19: {48: {'criticality': 0}}, 48: {17: {'criticality': 0}}, 17: {87: {'criticality': 2}}, 87: {32: {'criticality': 0}}, 32: {43: {'criticality': 2}}, 43: {30: {'criticality': 2}}, 30: {46: {'criticality': 0}}, 46: {23: {'criticality': 0}}, 23: {93: {'criticality': 0}}, 93: {53: {'criticality': 2}}, 53: {97: {'criticality': 2}}, 97: {9: {'criticality': 0}}, 9: {33: {'criticality': 1}}, 33: {73: {'criticality': 2}}, 73: {5: {'criticality': 0}}, 5: {86: {'criticality': 1}}, 86: {94: {'criticality': 1}}, 94: {31: {'criticality': 1}}, 31: {61: {'criticality': 0}}, 61: {89: {'criticality': 2}}, 89: {7: {'criticality': 2}}, 7: {83: {'criticality': 0}}, 83: {38: {'criticality': 2}}, 38: {42: {'criticality': 0}}, 42: {92: {'criticality': 0}}, 92: {22: {'criticality': 1}}, 22: {50: {'criticality': 2}}, 50: {0: {'criticality': 0}}, 0: {27: {'criticality': 0}}, 27: {76: {'criticality': 2}}, 76: {84: {'criticality': 1}}, 84: {56: {'criticality': 0}}, 56: {4: {'criticality': 1}}, 4: {35: {'criticality': 1}}, 35: {44: {'criticality': 0}}, 44: {95: {'criticality': 0}}, 95: {78: {'criticality': 1}}, 78: {11: {'criticality': 2}}, 11: {14: {'criticality': 0}}, 14: {88: {'criticality': 0}}, 40: {52: {'criticality': 2}}, 52: {55: {'criticality': 1}}, 55: {6: {'criticality': 0}}, 6: {71: {'criticality': 2}}, 71: {29: {'criticality': 0}}, 29: {25: {'criticality': 0}}, 25: {24: {'criticality': 0}}, 24: {64: {'criticality': 2}}, 64: {13: {'criticality': 0}}, 13: {45: {'criticality': 0}}, 45: {}})"
     },
     "execution_count": 139,
     "metadata": {},
     "output_type": "execute_result"
    }
   ],
   "source": [
    "graph.adj"
   ],
   "metadata": {
    "collapsed": false,
    "ExecuteTime": {
     "end_time": "2023-11-28T17:26:35.557264Z",
     "start_time": "2023-11-28T17:26:35.546276Z"
    }
   },
   "id": "78f53a37427f4164"
  },
  {
   "cell_type": "code",
   "execution_count": 140,
   "outputs": [],
   "source": [
    "import torch_geometric"
   ],
   "metadata": {
    "collapsed": false,
    "ExecuteTime": {
     "end_time": "2023-11-28T17:26:35.990033Z",
     "start_time": "2023-11-28T17:26:35.981071Z"
    }
   },
   "id": "f6a69cf29dec3a6"
  },
  {
   "cell_type": "code",
   "execution_count": 141,
   "outputs": [],
   "source": [
    "g = torch_geometric.utils.to_networkx( pyg_data,to_undirected= 'False')"
   ],
   "metadata": {
    "collapsed": false,
    "ExecuteTime": {
     "end_time": "2023-11-28T17:26:36.522081Z",
     "start_time": "2023-11-28T17:26:36.513553Z"
    }
   },
   "id": "6b5894d3f65b10ba"
  },
  {
   "cell_type": "code",
   "execution_count": 147,
   "outputs": [
    {
     "data": {
      "text/plain": "<Figure size 640x480 with 1 Axes>",
      "image/png": "[encoded data removed]"
     },
     "metadata": {},
     "output_type": "display_data"
    }
   ],
   "source": [
    "nx.draw(g)"
   ],
   "metadata": {
    "collapsed": false,
    "ExecuteTime": {
     "end_time": "2023-11-28T17:26:52.674043Z",
     "start_time": "2023-11-28T17:26:52.466082Z"
    }
   },
   "id": "f4dd7fa1bcbe6034"
  },
  {
   "cell_type": "code",
   "execution_count": 156,
   "outputs": [],
   "source": [
    "from torch_geometric.loader import DataLoader\n",
    "test_loader = DataLoader(pyg_data)"
   ],
   "metadata": {
    "collapsed": false,
    "ExecuteTime": {
     "end_time": "2023-11-28T17:41:42.677891Z",
     "start_time": "2023-11-28T17:41:42.649368Z"
    }
   },
   "id": "33c2ee3a7e15c6d2"
  },
  {
   "cell_type": "code",
   "execution_count": 157,
   "outputs": [
    {
     "data": {
      "text/plain": "<torch_geometric.loader.dataloader.DataLoader at 0x11032a2f0>"
     },
     "execution_count": 157,
     "metadata": {},
     "output_type": "execute_result"
    }
   ],
   "source": [
    "test_loader"
   ],
   "metadata": {
    "collapsed": false,
    "ExecuteTime": {
     "end_time": "2023-11-28T17:41:50.905332Z",
     "start_time": "2023-11-28T17:41:50.876851Z"
    }
   },
   "id": "117f2b75eb6b60f1"
  },
  {
   "cell_type": "code",
   "execution_count": 168,
   "outputs": [
    {
     "data": {
      "text/plain": "tensor([[0.],\n        [0.],\n        [2.],\n        [0.],\n        [0.],\n        [2.],\n        [2.],\n        [0.],\n        [2.],\n        [0.],\n        [1.],\n        [0.],\n        [0.],\n        [2.],\n        [2.],\n        [2.],\n        [0.],\n        [0.],\n        [2.],\n        [0.],\n        [2.],\n        [0.],\n        [0.],\n        [2.],\n        [0.],\n        [2.],\n        [2.],\n        [0.],\n        [2.],\n        [2.],\n        [0.],\n        [0.],\n        [2.],\n        [0.],\n        [2.],\n        [2.],\n        [0.],\n        [0.],\n        [2.],\n        [0.],\n        [0.],\n        [0.],\n        [2.],\n        [0.],\n        [2.],\n        [2.],\n        [0.],\n        [0.],\n        [0.],\n        [0.],\n        [0.],\n        [0.],\n        [2.],\n        [0.],\n        [2.],\n        [2.],\n        [0.],\n        [0.],\n        [0.],\n        [2.],\n        [2.],\n        [0.],\n        [1.],\n        [2.],\n        [0.],\n        [1.],\n        [1.],\n        [1.],\n        [0.],\n        [2.],\n        [2.],\n        [0.],\n        [2.],\n        [0.],\n        [0.],\n        [1.],\n        [2.],\n        [0.],\n        [0.],\n        [2.],\n        [1.],\n        [0.],\n        [1.],\n        [1.],\n        [0.],\n        [0.],\n        [1.],\n        [2.],\n        [0.],\n        [0.],\n        [2.],\n        [1.],\n        [0.],\n        [2.],\n        [0.],\n        [0.],\n        [0.],\n        [2.],\n        [0.],\n        [0.]])"
     },
     "execution_count": 168,
     "metadata": {},
     "output_type": "execute_result"
    }
   ],
   "source": [
    "pyg_data.edge_attr"
   ],
   "metadata": {
    "collapsed": false,
    "ExecuteTime": {
     "end_time": "2023-11-28T17:55:17.141173Z",
     "start_time": "2023-11-28T17:55:17.115594Z"
    }
   },
   "id": "83e8b1d824d9344a"
  },
  {
   "cell_type": "code",
   "execution_count": 169,
   "outputs": [],
   "source": [
    "import networkx as nx\n",
    "\n",
    "# Create an empty graph\n",
    "G = nx.DiGraph()\n",
    "G.add_node(\"LithographyMachine\", equipment_id=\"LM001\", model=\"ABC-200\", manufacturer=\"CompanyX\")\n",
    "\n",
    "# Add subassembly nodes\n",
    "G.add_node(\"ExposureChamber\", part_number=\"E001\", revision=\"R1\", supplier=\"SupplierA\")\n",
    "\n",
    "# Add edges between equipment and subassembly\n",
    "G.add_edge(\"LithographyMachine\", \"ExposureChamber\", relationship=\"contains\")\n",
    "\n",
    "# Add material nodes\n",
    "G.add_node(\"SiliconWafer\", material_id=\"SW001\", type=\"Silicon\", supplier=\"SupplierB\")\n",
    "\n",
    "# Add edges between equipment and material\n",
    "G.add_edge(\"LithographyMachine\", \"SiliconWafer\", relationship=\"uses_material\")\n"
   ],
   "metadata": {
    "collapsed": false,
    "ExecuteTime": {
     "end_time": "2023-11-29T01:21:32.583726Z",
     "start_time": "2023-11-29T01:21:32.537758Z"
    }
   },
   "id": "22cfb39949dee1de"
  },
  {
   "cell_type": "code",
   "execution_count": 170,
   "outputs": [
    {
     "data": {
      "text/plain": "OutEdgeView([('LithographyMachine', 'ExposureChamber'), ('LithographyMachine', 'SiliconWafer')])"
     },
     "execution_count": 170,
     "metadata": {},
     "output_type": "execute_result"
    }
   ],
   "source": [
    "G.edges"
   ],
   "metadata": {
    "collapsed": false,
    "ExecuteTime": {
     "end_time": "2023-11-29T01:21:38.550105Z",
     "start_time": "2023-11-29T01:21:38.513478Z"
    }
   },
   "id": "a6d73ee139b6ecc4"
  },
  {
   "cell_type": "code",
   "execution_count": 172,
   "outputs": [
    {
     "data": {
      "text/plain": "<Figure size 640x480 with 1 Axes>",
      "image/png": "[encoded data removed]"
     },
     "metadata": {},
     "output_type": "display_data"
    }
   ],
   "source": [
    "nx.draw(G)"
   ],
   "metadata": {
    "collapsed": false,
    "ExecuteTime": {
     "end_time": "2023-11-29T01:23:10.016500Z",
     "start_time": "2023-11-29T01:23:09.908249Z"
    }
   },
   "id": "2e8ac12a136a4d2a"
  },
  {
   "cell_type": "code",
   "execution_count": 175,
   "outputs": [
    {
     "data": {
      "text/plain": "NodeView(('LithographyMachine', 'ExposureChamber', 'SiliconWafer'))"
     },
     "execution_count": 175,
     "metadata": {},
     "output_type": "execute_result"
    }
   ],
   "source": [
    "G.nodes"
   ],
   "metadata": {
    "collapsed": false,
    "ExecuteTime": {
     "end_time": "2023-11-29T01:28:42.058872Z",
     "start_time": "2023-11-29T01:28:42.038986Z"
    }
   },
   "id": "1d6242d44ce8a395"
  },
  {
   "cell_type": "code",
   "execution_count": 176,
   "outputs": [
    {
     "data": {
      "text/plain": "NodeDataView({'LithographyMachine': {'equipment_id': 'LM001', 'model': 'ABC-200', 'manufacturer': 'CompanyX'}, 'ExposureChamber': {'part_number': 'E001', 'revision': 'R1', 'supplier': 'SupplierA'}, 'SiliconWafer': {'material_id': 'SW001', 'type': 'Silicon', 'supplier': 'SupplierB'}})"
     },
     "execution_count": 176,
     "metadata": {},
     "output_type": "execute_result"
    }
   ],
   "source": [
    "G.nodes.data()"
   ],
   "metadata": {
    "collapsed": false,
    "ExecuteTime": {
     "end_time": "2023-11-29T01:28:48.474755Z",
     "start_time": "2023-11-29T01:28:48.451149Z"
    }
   },
   "id": "35ab046e6bd82edc"
  },
  {
   "cell_type": "code",
   "execution_count": 174,
   "outputs": [
    {
     "data": {
      "text/plain": "OutEdgeDataView([('LithographyMachine', 'ExposureChamber', {'relationship': 'contains'}), ('LithographyMachine', 'SiliconWafer', {'relationship': 'uses_material'})])"
     },
     "execution_count": 174,
     "metadata": {},
     "output_type": "execute_result"
    }
   ],
   "source": [
    "G.edges.data()"
   ],
   "metadata": {
    "collapsed": false,
    "ExecuteTime": {
     "end_time": "2023-11-29T01:28:23.517337Z",
     "start_time": "2023-11-29T01:28:23.480897Z"
    }
   },
   "id": "571e19872b9ccb62"
  },
  {
   "cell_type": "code",
   "execution_count": 177,
   "outputs": [
    {
     "data": {
      "text/plain": "<networkx.classes.digraph.DiGraph at 0x110c28370>"
     },
     "execution_count": 177,
     "metadata": {},
     "output_type": "execute_result"
    }
   ],
   "source": [
    "G.to_directed()"
   ],
   "metadata": {
    "collapsed": false,
    "ExecuteTime": {
     "end_time": "2023-11-29T01:44:06.440984Z",
     "start_time": "2023-11-29T01:44:06.388627Z"
    }
   },
   "id": "a1d90abb0a319d33"
  },
  {
   "cell_type": "code",
   "execution_count": 178,
   "outputs": [
    {
     "data": {
      "text/plain": "<Figure size 640x480 with 1 Axes>",
      "image/png": "[encoded data removed]"
     },
     "metadata": {},
     "output_type": "display_data"
    }
   ],
   "source": [
    "nx.draw(G)"
   ],
   "metadata": {
    "collapsed": false,
    "ExecuteTime": {
     "end_time": "2023-11-29T01:44:13.473790Z",
     "start_time": "2023-11-29T01:44:13.359825Z"
    }
   },
   "id": "f392c89cf65d2480"
  },
  {
   "cell_type": "code",
   "execution_count": null,
   "outputs": [],
   "source": [
    " "
   ],
   "metadata": {
    "collapsed": false
   },
   "id": "58d0066215c5775"
  }
 ],
 "metadata": {
  "kernelspec": {
   "display_name": "Python 3",
   "language": "python",
   "name": "python3"
  },
  "language_info": {
   "codemirror_mode": {
    "name": "ipython",
    "version": 2
   },
   "file_extension": ".py",
   "mimetype": "text/x-python",
   "name": "python",
   "nbconvert_exporter": "python",
   "pygments_lexer": "ipython2",
   "version": "2.7.6"
  }
 },
 "nbformat": 4,
 "nbformat_minor": 5
}
