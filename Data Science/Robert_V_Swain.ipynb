{
 "cells": [
  {
   "cell_type": "code",
   "execution_count": 2,
   "id": "initial_id",
   "metadata": {
    "collapsed": true,
    "ExecuteTime": {
     "end_time": "2023-11-02T07:17:30.245002Z",
     "start_time": "2023-11-02T07:17:30.211699Z"
    }
   },
   "outputs": [],
   "source": [
    "eligible_population = [0.26,0.74]"
   ]
  },
  {
   "cell_type": "code",
   "execution_count": 3,
   "outputs": [],
   "source": [
    "import numpy as np\n",
    "import matplotlib.pyplot as plt"
   ],
   "metadata": {
    "collapsed": false,
    "ExecuteTime": {
     "end_time": "2023-11-02T07:17:30.245243Z",
     "start_time": "2023-11-02T07:17:30.215745Z"
    }
   },
   "id": "5bbbbae2d5bd400d"
  },
  {
   "cell_type": "code",
   "execution_count": 4,
   "outputs": [],
   "source": [
    "import numpy.random as npr"
   ],
   "metadata": {
    "collapsed": false,
    "ExecuteTime": {
     "end_time": "2023-11-02T07:17:30.245349Z",
     "start_time": "2023-11-02T07:17:30.219496Z"
    }
   },
   "id": "724692cddf3e57b3"
  },
  {
   "cell_type": "code",
   "execution_count": 5,
   "outputs": [
    {
     "data": {
      "text/plain": "28"
     },
     "execution_count": 5,
     "metadata": {},
     "output_type": "execute_result"
    }
   ],
   "source": [
    "npr.binomial(100,0.26)"
   ],
   "metadata": {
    "collapsed": false,
    "ExecuteTime": {
     "end_time": "2023-11-02T07:17:30.261887Z",
     "start_time": "2023-11-02T07:17:30.223808Z"
    }
   },
   "id": "1da09466fd1b69d8"
  },
  {
   "cell_type": "code",
   "execution_count": 6,
   "outputs": [],
   "source": [
    "simulations = 1000\n",
    "# for i in np.arange(simulations):\n",
    "count_pop_black = npr.binomial(100,0.26,1000)"
   ],
   "metadata": {
    "collapsed": false,
    "ExecuteTime": {
     "end_time": "2023-11-02T07:17:30.262190Z",
     "start_time": "2023-11-02T07:17:30.229129Z"
    }
   },
   "id": "f67d800a12ff0cd8"
  },
  {
   "cell_type": "code",
   "execution_count": 13,
   "outputs": [
    {
     "data": {
      "text/plain": "array([26, 31, 33, 32, 20, 20, 24, 21, 21, 26, 23, 27, 32, 28, 25, 28, 19,\n       32, 18, 17, 29, 31, 24, 28, 26, 29, 25, 19, 26, 24, 28, 29, 31, 29,\n       26, 24, 19, 26, 24, 21, 35, 18, 25, 30, 33, 24, 33, 28, 27, 17, 26,\n       20, 28, 28, 32, 27, 32, 36, 23, 23, 27, 22, 21, 23, 24, 25, 25, 30,\n       27, 37, 21, 25, 21, 28, 27, 30, 26, 32, 32, 25, 24, 26, 26, 31, 28,\n       27, 25, 29, 25, 21, 24, 31, 34, 29, 24, 26, 21, 23, 27, 25, 25, 27,\n       25, 20, 26, 27, 26, 31, 32, 30, 17, 35, 18, 17, 25, 31, 24, 26, 27,\n       28, 23, 21, 26, 30, 28, 20, 28, 20, 30, 19, 23, 18, 22, 21, 29, 28,\n       28, 35, 24, 30, 26, 18, 21, 18, 21, 29, 35, 29, 22, 33, 19, 22, 31,\n       27, 26, 21, 23, 26, 28, 25, 18, 28, 33, 23, 25, 27, 28, 29, 14, 34,\n       27, 20, 21, 33, 25, 17, 16, 21, 22, 37, 28, 21, 26, 23, 31, 24, 30,\n       25, 23, 28, 32, 20, 20, 26, 30, 26, 21, 29, 27, 26, 27, 32, 24, 26,\n       21, 23, 28, 26, 32, 27, 27, 24, 29, 25, 17, 29, 25, 19, 20, 30, 28,\n       25, 25, 25, 25, 23, 30, 27, 22, 36, 23, 28, 28, 27, 32, 24, 23, 27,\n       27, 26, 30, 38, 25, 23, 28, 27, 27, 28, 20, 23, 27, 23, 23, 27, 24,\n       29, 33, 31, 31, 26, 24, 23, 23, 26, 19, 24, 26, 33, 25, 32, 28, 31,\n       26, 24, 33, 30, 24, 26, 25, 29, 21, 25, 31, 25, 30, 23, 23, 25, 28,\n       27, 19, 21, 23, 32, 32, 23, 29, 29, 33, 26, 19, 25, 16, 27, 28, 24,\n       33, 24, 25, 26, 21, 33, 30, 23, 25, 28, 26, 22, 29, 19, 35, 26, 24,\n       24, 27, 22, 28, 29, 23, 26, 24, 29, 24, 30, 29, 33, 22, 20, 32, 18,\n       18, 26, 25, 31, 33, 33, 29, 32, 29, 30, 29, 30, 18, 25, 37, 29, 27,\n       26, 34, 22, 21, 19, 33, 27, 28, 20, 26, 26, 32, 27, 23, 29, 23, 29,\n       25, 30, 20, 19, 28, 22, 21, 25, 24, 31, 16, 26, 30, 25, 23, 27, 32,\n       32, 22, 30, 19, 22, 23, 29, 26, 31, 21, 32, 30, 20, 29, 22, 35, 19,\n       34, 26, 24, 23, 26, 36, 26, 23, 25, 34, 18, 20, 28, 25, 29, 24, 28,\n       23, 32, 20, 26, 25, 29, 36, 34, 30, 28, 25, 28, 29, 32, 23, 26, 30,\n       32, 27, 20, 27, 34, 30, 25, 21, 25, 35, 33, 21, 28, 29, 25, 16, 25,\n       21, 26, 21, 21, 21, 25, 20, 23, 24, 29, 25, 26, 26, 29, 29, 20, 26,\n       28, 24, 25, 32, 21, 22, 20, 27, 23, 30, 20, 24, 19, 22, 22, 27, 27,\n       20, 26, 26, 28, 23, 27, 29, 30, 20, 20, 25, 36, 30, 35, 29, 20, 26,\n       31, 23, 28, 29, 14, 31, 18, 27, 27, 31, 25, 26, 26, 28, 21, 23, 32,\n       21, 30, 23, 23, 21, 21, 31, 25, 19, 27, 21, 33, 16, 24, 22, 27, 28,\n       21, 21, 32, 22, 22, 28, 21, 26, 28, 28, 28, 24, 21, 32, 23, 28, 20,\n       30, 28, 32, 20, 25, 30, 17, 18, 25, 24, 29, 27, 28, 27, 19, 26, 29,\n       18, 33, 24, 30, 13, 22, 22, 23, 38, 25, 25, 31, 23, 27, 25, 29, 23,\n       31, 21, 21, 21, 30, 29, 24, 22, 33, 28, 30, 22, 29, 32, 27, 31, 21,\n       30, 26, 20, 24, 26, 25, 30, 25, 23, 30, 28, 24, 18, 27, 19, 19, 23,\n       22, 31, 23, 29, 17, 27, 28, 28, 29, 29, 27, 24, 29, 30, 31, 23, 21,\n       19, 21, 25, 24, 28, 25, 31, 23, 28, 22, 30, 25, 22, 28, 28, 31, 41,\n       27, 19, 28, 21, 19, 26, 24, 31, 39, 25, 29, 30, 29, 32, 20, 29, 26,\n       29, 24, 24, 24, 26, 31, 23, 19, 27, 17, 27, 23, 22, 20, 24, 30, 29,\n       28, 31, 27, 25, 26, 31, 30, 20, 21, 25, 30, 29, 28, 38, 31, 26, 31,\n       20, 27, 35, 27, 27, 33, 21, 25, 26, 23, 18, 33, 33, 23, 25, 28, 29,\n       22, 27, 29, 18, 30, 25, 28, 41, 30, 20, 31, 19, 26, 23, 29, 32, 18,\n       21, 32, 26, 37, 26, 24, 31, 33, 27, 23, 25, 25, 28, 28, 31, 26, 28,\n       30, 26, 28, 27, 29, 26, 23, 19, 22, 29, 23, 27, 28, 22, 18, 29, 25,\n       20, 35, 33, 25, 28, 26, 35, 34, 14, 32, 35, 24, 27, 24, 19, 26, 28,\n       24, 26, 25, 32, 33, 33, 32, 24, 33, 41, 33, 35, 30, 22, 29, 24, 27,\n       21, 22, 30, 23, 26, 32, 17, 18, 24, 30, 20, 29, 22, 27, 31, 24, 27,\n       29, 30, 23, 23, 29, 20, 26, 21, 21, 26, 39, 21, 33, 28, 23, 31, 23,\n       22, 21, 29, 22, 28, 35, 22, 25, 29, 27, 34, 25, 28, 24, 22, 27, 30,\n       35, 18, 29, 25, 23, 24, 24, 16, 29, 21, 22, 32, 27, 31, 23, 29, 30,\n       26, 28, 29, 23, 26, 24, 29, 29, 29, 20, 27, 20, 28, 15, 21, 25, 31,\n       29, 27, 20, 21, 29, 26, 22, 20, 20, 14, 29, 24, 33, 31, 33, 23, 24,\n       24, 20, 28, 23, 25, 25, 27, 33, 33, 28, 25, 32, 24, 24, 25, 27, 26,\n       19, 23, 29, 20, 24, 21, 28, 24, 26, 29, 26, 29, 36, 26, 27, 28, 25,\n       22, 23, 26, 29, 29, 25, 25, 26, 31, 29, 21, 18, 30, 21, 26, 27, 30,\n       25, 20, 23, 37, 28, 23, 28, 27, 24, 32, 30, 25, 27, 35, 25, 28, 29,\n       24, 28, 23, 28, 26, 23, 26, 25, 35, 27, 26, 33, 35, 14])"
     },
     "execution_count": 13,
     "metadata": {},
     "output_type": "execute_result"
    }
   ],
   "source": [
    "count_pop_black"
   ],
   "metadata": {
    "collapsed": false,
    "ExecuteTime": {
     "end_time": "2023-11-02T07:17:39.724244Z",
     "start_time": "2023-11-02T07:17:39.720940Z"
    }
   },
   "id": "15cb04327caa872a"
  },
  {
   "cell_type": "code",
   "execution_count": 8,
   "outputs": [],
   "source": [
    "%matplotlib inline"
   ],
   "metadata": {
    "collapsed": false,
    "ExecuteTime": {
     "end_time": "2023-11-02T07:17:30.264081Z",
     "start_time": "2023-11-02T07:17:30.236051Z"
    }
   },
   "id": "b3ec04395fdc6bb3"
  },
  {
   "cell_type": "code",
   "execution_count": 9,
   "outputs": [],
   "source": [
    "import pandas as pd"
   ],
   "metadata": {
    "collapsed": false,
    "ExecuteTime": {
     "end_time": "2023-11-02T07:17:30.264269Z",
     "start_time": "2023-11-02T07:17:30.251330Z"
    }
   },
   "id": "9e1c9e7cb46b4e69"
  },
  {
   "cell_type": "code",
   "execution_count": 10,
   "outputs": [
    {
     "data": {
      "text/plain": "      0\n0    26\n1    31\n2    33\n3    32\n4    20\n..   ..\n995  27\n996  26\n997  33\n998  35\n999  14\n\n[1000 rows x 1 columns]",
      "text/html": "<div>\n<style scoped>\n    .dataframe tbody tr th:only-of-type {\n        vertical-align: middle;\n    }\n\n    .dataframe tbody tr th {\n        vertical-align: top;\n    }\n\n    .dataframe thead th {\n        text-align: right;\n    }\n</style>\n<table border=\"1\" class=\"dataframe\">\n  <thead>\n    <tr style=\"text-align: right;\">\n      <th></th>\n      <th>0</th>\n    </tr>\n  </thead>\n  <tbody>\n    <tr>\n      <th>0</th>\n      <td>26</td>\n    </tr>\n    <tr>\n      <th>1</th>\n      <td>31</td>\n    </tr>\n    <tr>\n      <th>2</th>\n      <td>33</td>\n    </tr>\n    <tr>\n      <th>3</th>\n      <td>32</td>\n    </tr>\n    <tr>\n      <th>4</th>\n      <td>20</td>\n    </tr>\n    <tr>\n      <th>...</th>\n      <td>...</td>\n    </tr>\n    <tr>\n      <th>995</th>\n      <td>27</td>\n    </tr>\n    <tr>\n      <th>996</th>\n      <td>26</td>\n    </tr>\n    <tr>\n      <th>997</th>\n      <td>33</td>\n    </tr>\n    <tr>\n      <th>998</th>\n      <td>35</td>\n    </tr>\n    <tr>\n      <th>999</th>\n      <td>14</td>\n    </tr>\n  </tbody>\n</table>\n<p>1000 rows × 1 columns</p>\n</div>"
     },
     "execution_count": 10,
     "metadata": {},
     "output_type": "execute_result"
    }
   ],
   "source": [
    "panel_df = pd.DataFrame(count_pop_black)\n",
    "panel_df"
   ],
   "metadata": {
    "collapsed": false,
    "ExecuteTime": {
     "end_time": "2023-11-02T07:17:30.265727Z",
     "start_time": "2023-11-02T07:17:30.254872Z"
    }
   },
   "id": "133fdc9bc6b5980f"
  },
  {
   "cell_type": "code",
   "execution_count": 11,
   "outputs": [],
   "source": [
    "%matplotlib inline"
   ],
   "metadata": {
    "collapsed": false,
    "ExecuteTime": {
     "end_time": "2023-11-02T07:17:30.271772Z",
     "start_time": "2023-11-02T07:17:30.261532Z"
    }
   },
   "id": "21af5317e9607750"
  },
  {
   "cell_type": "code",
   "execution_count": 12,
   "outputs": [
    {
     "data": {
      "text/plain": "<matplotlib.collections.PathCollection at 0x12d5a0e10>"
     },
     "execution_count": 12,
     "metadata": {},
     "output_type": "execute_result"
    },
    {
     "data": {
      "text/plain": "<Figure size 640x480 with 1 Axes>",
      "image/png": "[encoded data removed]"
     },
     "metadata": {},
     "output_type": "display_data"
    }
   ],
   "source": [
    "panel_df.hist()\n",
    "plt.title('Stastic')\n",
    "plt.xlabel('Count in a random sample %',fontsize=15)\n",
    "plt.ylabel('Unit',fontsize=15)\n",
    "plt.scatter(8,0,color = 'magenta',s = 30)"
   ],
   "metadata": {
    "collapsed": false,
    "ExecuteTime": {
     "end_time": "2023-11-02T07:17:30.401220Z",
     "start_time": "2023-11-02T07:17:30.264311Z"
    }
   },
   "id": "af0394cc21729420"
  },
  {
   "cell_type": "code",
   "execution_count": 12,
   "outputs": [],
   "source": [],
   "metadata": {
    "collapsed": false,
    "ExecuteTime": {
     "end_time": "2023-11-02T07:17:30.401501Z",
     "start_time": "2023-11-02T07:17:30.397222Z"
    }
   },
   "id": "962c417c70969227"
  }
 ],
 "metadata": {
  "kernelspec": {
   "display_name": "Python 3",
   "language": "python",
   "name": "python3"
  },
  "language_info": {
   "codemirror_mode": {
    "name": "ipython",
    "version": 2
   },
   "file_extension": ".py",
   "mimetype": "text/x-python",
   "name": "python",
   "nbconvert_exporter": "python",
   "pygments_lexer": "ipython2",
   "version": "2.7.6"
  }
 },
 "nbformat": 4,
 "nbformat_minor": 5
}
