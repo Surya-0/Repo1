{
 "cells": [
  {
   "cell_type": "code",
   "execution_count": 78,
   "id": "initial_id",
   "metadata": {
    "collapsed": true,
    "ExecuteTime": {
     "end_time": "2023-10-29T11:49:52.708060Z",
     "start_time": "2023-10-29T11:49:52.694408Z"
    }
   },
   "outputs": [],
   "source": [
    "import pandas as pd\n",
    "import numpy as np\n",
    "from joblib import load\n",
    "from sih import Perceptron_RMSProp_BCE,Perceptron_adam_RMSE,Perceptron_adam_BCE,Perceptron_RMSProp_RMSE\n",
    "load_classifier = load('RandomForestClassifier1.joblib')"
   ]
  },
  {
   "cell_type": "code",
   "execution_count": 87,
   "outputs": [
    {
     "data": {
      "text/plain": "(1, 2)"
     },
     "execution_count": 87,
     "metadata": {},
     "output_type": "execute_result"
    }
   ],
   "source": [
    "X_te = np.array([[996,20]])\n",
    "y_te = np.array([1])\n",
    "X_te.shape"
   ],
   "metadata": {
    "collapsed": false,
    "ExecuteTime": {
     "end_time": "2023-10-29T11:52:21.915672Z",
     "start_time": "2023-10-29T11:52:21.913003Z"
    }
   },
   "id": "737fb5bd6233e34b"
  },
  {
   "cell_type": "code",
   "execution_count": 80,
   "outputs": [
    {
     "data": {
      "text/plain": "array([1.])"
     },
     "execution_count": 80,
     "metadata": {},
     "output_type": "execute_result"
    }
   ],
   "source": [
    "predictions = [tree.test(X_te) for tree in load_classifier]\n",
    "y_pred_joblib= np.round(np.mean(predictions, axis=0))\n",
    "y_pred_joblib"
   ],
   "metadata": {
    "collapsed": false,
    "ExecuteTime": {
     "end_time": "2023-10-29T11:49:52.812856Z",
     "start_time": "2023-10-29T11:49:52.784533Z"
    }
   },
   "id": "928220aeb478c575"
  },
  {
   "cell_type": "code",
   "execution_count": 81,
   "outputs": [
    {
     "data": {
      "text/plain": "1.0"
     },
     "execution_count": 81,
     "metadata": {},
     "output_type": "execute_result"
    }
   ],
   "source": [
    "from sklearn.metrics import accuracy_score\n",
    "acc = accuracy_score(y_te,y_pred_joblib)\n",
    "acc"
   ],
   "metadata": {
    "collapsed": false,
    "ExecuteTime": {
     "end_time": "2023-10-29T11:49:52.813049Z",
     "start_time": "2023-10-29T11:49:52.785558Z"
    }
   },
   "id": "a328839e7c37fdda"
  },
  {
   "cell_type": "code",
   "execution_count": 82,
   "outputs": [
    {
     "ename": "ModuleNotFoundError",
     "evalue": "No module named 'rest_framework'",
     "output_type": "error",
     "traceback": [
      "\u001B[0;31m---------------------------------------------------------------------------\u001B[0m",
      "\u001B[0;31mModuleNotFoundError\u001B[0m                       Traceback (most recent call last)",
      "Cell \u001B[0;32mIn[82], line 1\u001B[0m\n\u001B[0;32m----> 1\u001B[0m \u001B[38;5;28;01mfrom\u001B[39;00m \u001B[38;5;21;01mrest_framework\u001B[39;00m \u001B[38;5;28;01mimport\u001B[39;00m status\n\u001B[1;32m      2\u001B[0m \u001B[38;5;28;01mfrom\u001B[39;00m \u001B[38;5;21;01mrest_framework\u001B[39;00m\u001B[38;5;21;01m.\u001B[39;00m\u001B[38;5;21;01mdecorators\u001B[39;00m \u001B[38;5;28;01mimport\u001B[39;00m api_view\n\u001B[1;32m      3\u001B[0m \u001B[38;5;28;01mfrom\u001B[39;00m \u001B[38;5;21;01mrest_framework\u001B[39;00m\u001B[38;5;21;01m.\u001B[39;00m\u001B[38;5;21;01mresponse\u001B[39;00m \u001B[38;5;28;01mimport\u001B[39;00m Response\n",
      "\u001B[0;31mModuleNotFoundError\u001B[0m: No module named 'rest_framework'"
     ]
    }
   ],
   "source": [
    "from rest_framework import status\n",
    "from rest_framework.decorators import api_view\n",
    "from rest_framework.response import Response\n",
    "from rest_framework.views import APIView\n",
    "\n",
    "# Create your views here.\n",
    "@api_view(['GET', 'POST'])\n",
    "def api_add(request):\n",
    "    response_dict = {}\n",
    "    if request.method == 'GET':\n",
    "        pass\n",
    "    elif request.method == 'POST':\n",
    "        import numpy as np\n",
    "        from joblib import load\n",
    "        from sih import Perceptron_RMSProp_BCE,Perceptron_adam_RMSE,Perceptron_adam_BCE,Perceptron_RMSProp_RMSE\n",
    "        load_classifier = load('RandomForestClassifier1.joblib')\n",
    "        data = request.data\n",
    "        val = []\n",
    "        for key in data:\n",
    "            val.append(data[key])\n",
    "        val = np.array([val])\n",
    "        predictions = [tree.test(val) for tree in load_classifier]\n",
    "        y_pred_joblib = np.round(np.mean(predictions, axis=0))\n",
    "        pump_status = \"\"\n",
    "        if y_pred_joblib==1:\n",
    "            pump_status = \"On\"\n",
    "        else:\n",
    "            pump_status = \"Off\"\n",
    "        response_dict = {\n",
    "            \"pump status\": pump_status\n",
    "        }\n",
    "    return Response(data=response_dict, status=status.HTTP_201_CREATED)"
   ],
   "metadata": {
    "collapsed": false,
    "ExecuteTime": {
     "end_time": "2023-10-29T11:49:52.813669Z",
     "start_time": "2023-10-29T11:49:52.786121Z"
    }
   },
   "id": "a9bcf6a7291eaaa6"
  },
  {
   "cell_type": "code",
   "execution_count": 88,
   "outputs": [
    {
     "data": {
      "text/plain": "(1, 2)"
     },
     "execution_count": 88,
     "metadata": {},
     "output_type": "execute_result"
    }
   ],
   "source": [
    "dict = {\"apple\":1,\"banana\":2}\n",
    "val = []\n",
    "for key in dict:\n",
    "    val.append(dict[key])\n",
    "val = np.array([val])\n",
    "val.shape"
   ],
   "metadata": {
    "collapsed": false,
    "ExecuteTime": {
     "end_time": "2023-10-29T11:53:45.524674Z",
     "start_time": "2023-10-29T11:53:45.505807Z"
    }
   },
   "id": "5eba882895d1a614"
  },
  {
   "cell_type": "code",
   "execution_count": null,
   "outputs": [],
   "source": [],
   "metadata": {
    "collapsed": false
   },
   "id": "87c95e79f6f00cf8"
  }
 ],
 "metadata": {
  "kernelspec": {
   "display_name": "Python 3",
   "language": "python",
   "name": "python3"
  },
  "language_info": {
   "codemirror_mode": {
    "name": "ipython",
    "version": 2
   },
   "file_extension": ".py",
   "mimetype": "text/x-python",
   "name": "python",
   "nbconvert_exporter": "python",
   "pygments_lexer": "ipython2",
   "version": "2.7.6"
  }
 },
 "nbformat": 4,
 "nbformat_minor": 5
}
