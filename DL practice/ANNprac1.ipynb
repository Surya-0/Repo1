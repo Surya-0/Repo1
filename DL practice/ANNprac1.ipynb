{
 "cells": [
  {
   "cell_type": "markdown",
   "metadata": {},
   "source": [
    "# Artificial Neural Network"
   ]
  },
  {
   "cell_type": "markdown",
   "metadata": {},
   "source": [
    "### Importing the libraries"
   ]
  },
  {
   "cell_type": "code",
   "execution_count": 56,
   "metadata": {},
   "outputs": [],
   "source": [
    "import numpy as np\n",
    "import tensorflow as tf\n",
    "import pandas as pd"
   ]
  },
  {
   "cell_type": "code",
   "execution_count": 57,
   "metadata": {},
   "outputs": [
    {
     "data": {
      "text/plain": [
       "'2.12.0'"
      ]
     },
     "execution_count": 57,
     "metadata": {},
     "output_type": "execute_result"
    }
   ],
   "source": [
    "tf.__version__ "
   ]
  },
  {
   "cell_type": "markdown",
   "metadata": {},
   "source": [
    "## Part 1 - Data Preprocessing"
   ]
  },
  {
   "cell_type": "markdown",
   "metadata": {},
   "source": [
    "### Importing the dataset"
   ]
  },
  {
   "cell_type": "code",
   "execution_count": 58,
   "metadata": {},
   "outputs": [],
   "source": [
    "dataset = pd.read_csv('Churn_Modelling.csv')\n",
    "X = dataset.iloc[:, 3:-1].values # matrix of features\n",
    "y = dataset.iloc[:, -1].values  # dependent variable vector"
   ]
  },
  {
   "cell_type": "code",
   "execution_count": 59,
   "metadata": {},
   "outputs": [
    {
     "name": "stdout",
     "output_type": "stream",
     "text": [
      "[[619 'France' 'Female' ... 1 1 101348.88]\n",
      " [608 'Spain' 'Female' ... 0 1 112542.58]\n",
      " [502 'France' 'Female' ... 1 0 113931.57]\n",
      " ...\n",
      " [709 'France' 'Female' ... 0 1 42085.58]\n",
      " [772 'Germany' 'Male' ... 1 0 92888.52]\n",
      " [792 'France' 'Female' ... 1 0 38190.78]]\n"
     ]
    }
   ],
   "source": [
    "print(X)"
   ]
  },
  {
   "cell_type": "code",
   "execution_count": 60,
   "metadata": {},
   "outputs": [
    {
     "name": "stdout",
     "output_type": "stream",
     "text": [
      "[1 0 1 ... 1 1 0]\n"
     ]
    }
   ],
   "source": [
    "print(y)"
   ]
  },
  {
   "cell_type": "markdown",
   "metadata": {},
   "source": [
    "### Encoding categorical data"
   ]
  },
  {
   "cell_type": "markdown",
   "metadata": {},
   "source": [
    "Label Encoding the \"Gender\" column"
   ]
  },
  {
   "cell_type": "code",
   "execution_count": 61,
   "metadata": {},
   "outputs": [],
   "source": [
    "from sklearn.preprocessing import LabelEncoder # since the gender is binary in the dataset it is label encoded\n",
    "le = LabelEncoder()\n",
    "X[:,2] = le.fit_transform(X[:,2])"
   ]
  },
  {
   "cell_type": "code",
   "execution_count": 62,
   "metadata": {},
   "outputs": [
    {
     "name": "stdout",
     "output_type": "stream",
     "text": [
      "[[619 'France' 0 ... 1 1 101348.88]\n",
      " [608 'Spain' 0 ... 0 1 112542.58]\n",
      " [502 'France' 0 ... 1 0 113931.57]\n",
      " ...\n",
      " [709 'France' 0 ... 0 1 42085.58]\n",
      " [772 'Germany' 1 ... 1 0 92888.52]\n",
      " [792 'France' 0 ... 1 0 38190.78]]\n"
     ]
    }
   ],
   "source": [
    "print(X)"
   ]
  },
  {
   "cell_type": "markdown",
   "metadata": {},
   "source": [
    "One Hot Encoding the \"Geography\" column"
   ]
  },
  {
   "cell_type": "code",
   "execution_count": 63,
   "metadata": {},
   "outputs": [],
   "source": [
    "from sklearn.compose import ColumnTransformer   # the three countries France,Spain and Germany dont have any relation to each other hence it is one hot encoded\n",
    "from sklearn.preprocessing import OneHotEncoder\n",
    "ct = ColumnTransformer(transformers=[('encoder', OneHotEncoder(), [1])], remainder='passthrough')\n",
    "X = np.array(ct.fit_transform(X))"
   ]
  },
  {
   "cell_type": "code",
   "execution_count": 64,
   "metadata": {},
   "outputs": [
    {
     "name": "stdout",
     "output_type": "stream",
     "text": [
      "[[1.0 0.0 0.0 ... 1 1 101348.88]\n",
      " [0.0 0.0 1.0 ... 0 1 112542.58]\n",
      " [1.0 0.0 0.0 ... 1 0 113931.57]\n",
      " ...\n",
      " [1.0 0.0 0.0 ... 0 1 42085.58]\n",
      " [0.0 1.0 0.0 ... 1 0 92888.52]\n",
      " [1.0 0.0 0.0 ... 1 0 38190.78]]\n"
     ]
    }
   ],
   "source": [
    "print(X)"
   ]
  },
  {
   "cell_type": "markdown",
   "metadata": {},
   "source": [
    "### Splitting the dataset into the Training set and Test set"
   ]
  },
  {
   "cell_type": "code",
   "execution_count": 65,
   "metadata": {},
   "outputs": [],
   "source": [
    "from sklearn.model_selection import train_test_split\n",
    "X_train, X_test, y_train, y_test = train_test_split(X, y, test_size = 0.2, random_state = 1)"
   ]
  },
  {
   "cell_type": "code",
   "execution_count": 66,
   "metadata": {},
   "outputs": [
    {
     "name": "stdout",
     "output_type": "stream",
     "text": [
      "[[0.0 1.0 0.0 ... 0 1 124749.08]\n",
      " [1.0 0.0 0.0 ... 0 0 41104.82]\n",
      " [0.0 1.0 0.0 ... 1 1 45750.21]\n",
      " ...\n",
      " [1.0 0.0 0.0 ... 1 1 92027.69]\n",
      " [1.0 0.0 0.0 ... 1 1 101168.9]\n",
      " [0.0 1.0 0.0 ... 1 0 33462.94]]\n"
     ]
    }
   ],
   "source": [
    "print(X_train)"
   ]
  },
  {
   "cell_type": "code",
   "execution_count": 67,
   "metadata": {},
   "outputs": [
    {
     "name": "stdout",
     "output_type": "stream",
     "text": [
      "[[1.0 0.0 0.0 ... 1 1 97057.28]\n",
      " [1.0 0.0 0.0 ... 1 0 66526.01]\n",
      " [1.0 0.0 0.0 ... 0 1 90537.47]\n",
      " ...\n",
      " [0.0 0.0 1.0 ... 0 1 161571.79]\n",
      " [0.0 1.0 0.0 ... 1 1 165257.31]\n",
      " [0.0 1.0 0.0 ... 1 1 49025.79]]\n"
     ]
    }
   ],
   "source": [
    "print(X_test)"
   ]
  },
  {
   "cell_type": "code",
   "execution_count": 68,
   "metadata": {},
   "outputs": [
    {
     "name": "stdout",
     "output_type": "stream",
     "text": [
      "[0 0 1 ... 1 0 1]\n"
     ]
    }
   ],
   "source": [
    "print(y_train)"
   ]
  },
  {
   "cell_type": "code",
   "execution_count": 69,
   "metadata": {},
   "outputs": [
    {
     "name": "stdout",
     "output_type": "stream",
     "text": [
      "[0 0 0 ... 0 0 0]\n"
     ]
    }
   ],
   "source": [
    "print(y_test)"
   ]
  },
  {
   "cell_type": "markdown",
   "metadata": {},
   "source": [
    "### Feature Scaling"
   ]
  },
  {
   "cell_type": "code",
   "execution_count": 70,
   "metadata": {},
   "outputs": [],
   "source": [
    "from sklearn.preprocessing import StandardScaler  # note: For feature scaling in DL all the attributes need to be scaled unlike ML\n",
    "sc = StandardScaler()\n",
    "X_train = sc.fit_transform(X_train)\n",
    "X_test = sc.transform(X_test)"
   ]
  },
  {
   "cell_type": "code",
   "execution_count": 71,
   "metadata": {},
   "outputs": [
    {
     "name": "stdout",
     "output_type": "stream",
     "text": [
      "[[-0.99850112  1.71490137 -0.57273139 ... -1.55337352  0.97725852\n",
      "   0.42739449]\n",
      " [ 1.00150113 -0.58312392 -0.57273139 ... -1.55337352 -1.02327069\n",
      "  -1.02548708]\n",
      " [-0.99850112  1.71490137 -0.57273139 ...  0.64376017  0.97725852\n",
      "  -0.94479772]\n",
      " ...\n",
      " [ 1.00150113 -0.58312392 -0.57273139 ...  0.64376017  0.97725852\n",
      "  -0.14096853]\n",
      " [ 1.00150113 -0.58312392 -0.57273139 ...  0.64376017  0.97725852\n",
      "   0.01781218]\n",
      " [-0.99850112  1.71490137 -0.57273139 ...  0.64376017 -1.02327069\n",
      "  -1.15822478]]\n"
     ]
    }
   ],
   "source": [
    "print(X_train)"
   ]
  },
  {
   "cell_type": "code",
   "execution_count": 72,
   "metadata": {},
   "outputs": [
    {
     "name": "stdout",
     "output_type": "stream",
     "text": [
      "[[ 1.00150113 -0.58312392 -0.57273139 ...  0.64376017  0.97725852\n",
      "  -0.05360571]\n",
      " [ 1.00150113 -0.58312392 -0.57273139 ...  0.64376017 -1.02327069\n",
      "  -0.58392685]\n",
      " [ 1.00150113 -0.58312392 -0.57273139 ... -1.55337352  0.97725852\n",
      "  -0.16685331]\n",
      " ...\n",
      " [-0.99850112 -0.58312392  1.74601919 ... -1.55337352  0.97725852\n",
      "   1.0669965 ]\n",
      " [-0.99850112  1.71490137 -0.57273139 ...  0.64376017  0.97725852\n",
      "   1.13101314]\n",
      " [-0.99850112  1.71490137 -0.57273139 ...  0.64376017  0.97725852\n",
      "  -0.88790165]]\n"
     ]
    }
   ],
   "source": [
    "print(X_test)"
   ]
  },
  {
   "cell_type": "markdown",
   "metadata": {},
   "source": [
    "## Part 2 - Building the ANN"
   ]
  },
  {
   "cell_type": "markdown",
   "metadata": {},
   "source": [
    "### Initializing the ANN"
   ]
  },
  {
   "cell_type": "code",
   "execution_count": 73,
   "metadata": {},
   "outputs": [],
   "source": [
    "ann = tf.keras.models.Sequential()"
   ]
  },
  {
   "cell_type": "markdown",
   "metadata": {},
   "source": [
    "### Adding the input layer and the first hidden layer"
   ]
  },
  {
   "cell_type": "code",
   "execution_count": 74,
   "metadata": {},
   "outputs": [],
   "source": [
    "ann.add(tf.keras.layers.Dense(units=6,activation='relu'))"
   ]
  },
  {
   "cell_type": "markdown",
   "metadata": {},
   "source": [
    "### Adding the second hidden layer"
   ]
  },
  {
   "cell_type": "code",
   "execution_count": 75,
   "metadata": {},
   "outputs": [],
   "source": [
    "ann.add(tf.keras.layers.Dense(units=6,activation='relu'))"
   ]
  },
  {
   "cell_type": "markdown",
   "metadata": {},
   "source": [
    "### Adding the output layer"
   ]
  },
  {
   "cell_type": "code",
   "execution_count": 76,
   "metadata": {},
   "outputs": [],
   "source": [
    "ann.add(tf.keras.layers.Dense(units=1,activation='sigmoid'))"
   ]
  },
  {
   "cell_type": "markdown",
   "metadata": {},
   "source": [
    "## Part 3 - Training the ANN"
   ]
  },
  {
   "cell_type": "markdown",
   "metadata": {},
   "source": [
    "### Compiling the ANN"
   ]
  },
  {
   "cell_type": "code",
   "execution_count": 77,
   "metadata": {},
   "outputs": [],
   "source": [
    "ann.compile(optimizer='adam',loss='binary_crossentropy',metrics=['accuracy'])"
   ]
  },
  {
   "cell_type": "markdown",
   "metadata": {},
   "source": [
    "### Training the ANN on the Training set"
   ]
  },
  {
   "cell_type": "code",
   "execution_count": 78,
   "metadata": {},
   "outputs": [
    {
     "name": "stdout",
     "output_type": "stream",
     "text": [
      "Epoch 1/100\n",
      "250/250 [==============================] - 0s 331us/step - loss: 0.5601 - accuracy: 0.7944\n",
      "Epoch 2/100\n",
      "161/250 [==================>...........] - ETA: 0s - loss: 0.4918 - accuracy: 0.7962"
     ]
    },
    {
     "name": "stdout",
     "output_type": "stream",
     "text": [
      "250/250 [==============================] - 0s 313us/step - loss: 0.4845 - accuracy: 0.7972\n",
      "Epoch 3/100\n",
      "250/250 [==============================] - 0s 287us/step - loss: 0.4593 - accuracy: 0.7977\n",
      "Epoch 4/100\n",
      "250/250 [==============================] - 0s 269us/step - loss: 0.4465 - accuracy: 0.7976\n",
      "Epoch 5/100\n",
      "250/250 [==============================] - 0s 267us/step - loss: 0.4384 - accuracy: 0.7994\n",
      "Epoch 6/100\n",
      "250/250 [==============================] - 0s 254us/step - loss: 0.4320 - accuracy: 0.8036\n",
      "Epoch 7/100\n",
      "250/250 [==============================] - 0s 258us/step - loss: 0.4266 - accuracy: 0.8071\n",
      "Epoch 8/100\n",
      "250/250 [==============================] - 0s 261us/step - loss: 0.4211 - accuracy: 0.8087\n",
      "Epoch 9/100\n",
      "250/250 [==============================] - 0s 265us/step - loss: 0.4149 - accuracy: 0.8126\n",
      "Epoch 10/100\n",
      "250/250 [==============================] - 0s 297us/step - loss: 0.4086 - accuracy: 0.8160\n",
      "Epoch 11/100\n",
      "250/250 [==============================] - 0s 265us/step - loss: 0.4023 - accuracy: 0.8214\n",
      "Epoch 12/100\n",
      "250/250 [==============================] - 0s 258us/step - loss: 0.3947 - accuracy: 0.8239\n",
      "Epoch 13/100\n",
      "250/250 [==============================] - 0s 255us/step - loss: 0.3885 - accuracy: 0.8285\n",
      "Epoch 14/100\n",
      "250/250 [==============================] - 0s 259us/step - loss: 0.3832 - accuracy: 0.8291\n",
      "Epoch 15/100\n",
      "250/250 [==============================] - 0s 263us/step - loss: 0.3788 - accuracy: 0.8300\n",
      "Epoch 16/100\n",
      "250/250 [==============================] - 0s 256us/step - loss: 0.3754 - accuracy: 0.8292\n",
      "Epoch 17/100\n",
      "250/250 [==============================] - 0s 254us/step - loss: 0.3720 - accuracy: 0.8374\n",
      "Epoch 18/100\n",
      "250/250 [==============================] - 0s 255us/step - loss: 0.3693 - accuracy: 0.8457\n",
      "Epoch 19/100\n",
      "250/250 [==============================] - 0s 255us/step - loss: 0.3665 - accuracy: 0.8479\n",
      "Epoch 20/100\n",
      "250/250 [==============================] - 0s 253us/step - loss: 0.3645 - accuracy: 0.8506\n",
      "Epoch 21/100\n",
      "250/250 [==============================] - 0s 255us/step - loss: 0.3625 - accuracy: 0.8510\n",
      "Epoch 22/100\n",
      "250/250 [==============================] - 0s 255us/step - loss: 0.3609 - accuracy: 0.8546\n",
      "Epoch 23/100\n",
      "250/250 [==============================] - 0s 271us/step - loss: 0.3589 - accuracy: 0.8551\n",
      "Epoch 24/100\n",
      "250/250 [==============================] - 0s 255us/step - loss: 0.3577 - accuracy: 0.8554\n",
      "Epoch 25/100\n",
      "250/250 [==============================] - 0s 255us/step - loss: 0.3563 - accuracy: 0.8554\n",
      "Epoch 26/100\n",
      "250/250 [==============================] - 0s 258us/step - loss: 0.3550 - accuracy: 0.8568\n",
      "Epoch 27/100\n",
      "250/250 [==============================] - 0s 256us/step - loss: 0.3539 - accuracy: 0.8593\n",
      "Epoch 28/100\n",
      "250/250 [==============================] - 0s 254us/step - loss: 0.3525 - accuracy: 0.8577\n",
      "Epoch 29/100\n",
      "250/250 [==============================] - 0s 252us/step - loss: 0.3518 - accuracy: 0.8586\n",
      "Epoch 30/100\n",
      "250/250 [==============================] - 0s 267us/step - loss: 0.3504 - accuracy: 0.8580\n",
      "Epoch 31/100\n",
      "250/250 [==============================] - 0s 286us/step - loss: 0.3496 - accuracy: 0.8585\n",
      "Epoch 32/100\n",
      "250/250 [==============================] - 0s 257us/step - loss: 0.3486 - accuracy: 0.8604\n",
      "Epoch 33/100\n",
      "250/250 [==============================] - 0s 256us/step - loss: 0.3477 - accuracy: 0.8604\n",
      "Epoch 34/100\n",
      "250/250 [==============================] - 0s 254us/step - loss: 0.3476 - accuracy: 0.8595\n",
      "Epoch 35/100\n",
      "250/250 [==============================] - 0s 271us/step - loss: 0.3462 - accuracy: 0.8630\n",
      "Epoch 36/100\n",
      "250/250 [==============================] - 0s 256us/step - loss: 0.3458 - accuracy: 0.8618\n",
      "Epoch 37/100\n",
      "250/250 [==============================] - 0s 256us/step - loss: 0.3450 - accuracy: 0.8618\n",
      "Epoch 38/100\n",
      "250/250 [==============================] - 0s 250us/step - loss: 0.3448 - accuracy: 0.8619\n",
      "Epoch 39/100\n",
      "250/250 [==============================] - 0s 255us/step - loss: 0.3436 - accuracy: 0.8618\n",
      "Epoch 40/100\n",
      "250/250 [==============================] - 0s 256us/step - loss: 0.3434 - accuracy: 0.8615\n",
      "Epoch 41/100\n",
      "250/250 [==============================] - 0s 256us/step - loss: 0.3425 - accuracy: 0.8639\n",
      "Epoch 42/100\n",
      "250/250 [==============================] - 0s 273us/step - loss: 0.3419 - accuracy: 0.8627\n",
      "Epoch 43/100\n",
      "250/250 [==============================] - 0s 266us/step - loss: 0.3413 - accuracy: 0.8644\n",
      "Epoch 44/100\n",
      "250/250 [==============================] - 0s 255us/step - loss: 0.3403 - accuracy: 0.8646\n",
      "Epoch 45/100\n",
      "250/250 [==============================] - 0s 252us/step - loss: 0.3404 - accuracy: 0.8636\n",
      "Epoch 46/100\n",
      "250/250 [==============================] - 0s 254us/step - loss: 0.3401 - accuracy: 0.8634\n",
      "Epoch 47/100\n",
      "250/250 [==============================] - 0s 254us/step - loss: 0.3400 - accuracy: 0.8627\n",
      "Epoch 48/100\n",
      "250/250 [==============================] - 0s 254us/step - loss: 0.3393 - accuracy: 0.8645\n",
      "Epoch 49/100\n",
      "250/250 [==============================] - 0s 254us/step - loss: 0.3388 - accuracy: 0.8644\n",
      "Epoch 50/100\n",
      "250/250 [==============================] - 0s 256us/step - loss: 0.3385 - accuracy: 0.8656\n",
      "Epoch 51/100\n",
      "250/250 [==============================] - 0s 261us/step - loss: 0.3388 - accuracy: 0.8636\n",
      "Epoch 52/100\n",
      "250/250 [==============================] - 0s 268us/step - loss: 0.3382 - accuracy: 0.8649\n",
      "Epoch 53/100\n",
      "250/250 [==============================] - 0s 255us/step - loss: 0.3377 - accuracy: 0.8627\n",
      "Epoch 54/100\n",
      "250/250 [==============================] - 0s 255us/step - loss: 0.3371 - accuracy: 0.8645\n",
      "Epoch 55/100\n",
      "250/250 [==============================] - 0s 256us/step - loss: 0.3368 - accuracy: 0.8646\n",
      "Epoch 56/100\n",
      "250/250 [==============================] - 0s 257us/step - loss: 0.3364 - accuracy: 0.8631\n",
      "Epoch 57/100\n",
      "250/250 [==============================] - 0s 256us/step - loss: 0.3360 - accuracy: 0.8627\n",
      "Epoch 58/100\n",
      "250/250 [==============================] - 0s 256us/step - loss: 0.3365 - accuracy: 0.8631\n",
      "Epoch 59/100\n",
      "250/250 [==============================] - 0s 255us/step - loss: 0.3361 - accuracy: 0.8624\n",
      "Epoch 60/100\n",
      "250/250 [==============================] - 0s 260us/step - loss: 0.3362 - accuracy: 0.8643\n",
      "Epoch 61/100\n",
      "250/250 [==============================] - 0s 260us/step - loss: 0.3355 - accuracy: 0.8639\n",
      "Epoch 62/100\n",
      "250/250 [==============================] - 0s 253us/step - loss: 0.3355 - accuracy: 0.8650\n",
      "Epoch 63/100\n",
      "250/250 [==============================] - 0s 257us/step - loss: 0.3355 - accuracy: 0.8655\n",
      "Epoch 64/100\n",
      "250/250 [==============================] - 0s 255us/step - loss: 0.3353 - accuracy: 0.8641\n",
      "Epoch 65/100\n",
      "250/250 [==============================] - 0s 253us/step - loss: 0.3350 - accuracy: 0.8646\n",
      "Epoch 66/100\n",
      "250/250 [==============================] - 0s 255us/step - loss: 0.3347 - accuracy: 0.8640\n",
      "Epoch 67/100\n",
      "250/250 [==============================] - 0s 254us/step - loss: 0.3343 - accuracy: 0.8660\n",
      "Epoch 68/100\n",
      "250/250 [==============================] - 0s 254us/step - loss: 0.3347 - accuracy: 0.8649\n",
      "Epoch 69/100\n",
      "250/250 [==============================] - 0s 253us/step - loss: 0.3343 - accuracy: 0.8630\n",
      "Epoch 70/100\n",
      "250/250 [==============================] - 0s 253us/step - loss: 0.3340 - accuracy: 0.8656\n",
      "Epoch 71/100\n",
      "250/250 [==============================] - 0s 254us/step - loss: 0.3340 - accuracy: 0.8630\n",
      "Epoch 72/100\n",
      "250/250 [==============================] - 0s 255us/step - loss: 0.3341 - accuracy: 0.8661\n",
      "Epoch 73/100\n",
      "250/250 [==============================] - 0s 254us/step - loss: 0.3339 - accuracy: 0.8650\n",
      "Epoch 74/100\n",
      "250/250 [==============================] - 0s 254us/step - loss: 0.3337 - accuracy: 0.8658\n",
      "Epoch 75/100\n",
      "250/250 [==============================] - 0s 252us/step - loss: 0.3337 - accuracy: 0.8641\n",
      "Epoch 76/100\n",
      "250/250 [==============================] - 0s 254us/step - loss: 0.3328 - accuracy: 0.8655\n",
      "Epoch 77/100\n",
      "250/250 [==============================] - 0s 254us/step - loss: 0.3337 - accuracy: 0.8650\n",
      "Epoch 78/100\n",
      "250/250 [==============================] - 0s 265us/step - loss: 0.3332 - accuracy: 0.8646\n",
      "Epoch 79/100\n",
      "250/250 [==============================] - 0s 258us/step - loss: 0.3332 - accuracy: 0.8645\n",
      "Epoch 80/100\n",
      "250/250 [==============================] - 0s 255us/step - loss: 0.3329 - accuracy: 0.8649\n",
      "Epoch 81/100\n",
      "250/250 [==============================] - 0s 256us/step - loss: 0.3327 - accuracy: 0.8655\n",
      "Epoch 82/100\n",
      "250/250 [==============================] - 0s 255us/step - loss: 0.3329 - accuracy: 0.8655\n",
      "Epoch 83/100\n",
      "250/250 [==============================] - 0s 255us/step - loss: 0.3325 - accuracy: 0.8664\n",
      "Epoch 84/100\n",
      "250/250 [==============================] - 0s 254us/step - loss: 0.3320 - accuracy: 0.8633\n",
      "Epoch 85/100\n",
      "250/250 [==============================] - 0s 256us/step - loss: 0.3330 - accuracy: 0.8655\n",
      "Epoch 86/100\n",
      "250/250 [==============================] - 0s 254us/step - loss: 0.3326 - accuracy: 0.8646\n",
      "Epoch 87/100\n",
      "250/250 [==============================] - 0s 255us/step - loss: 0.3326 - accuracy: 0.8664\n",
      "Epoch 88/100\n",
      "250/250 [==============================] - 0s 255us/step - loss: 0.3319 - accuracy: 0.8658\n",
      "Epoch 89/100\n",
      "250/250 [==============================] - 0s 255us/step - loss: 0.3328 - accuracy: 0.8637\n",
      "Epoch 90/100\n",
      "250/250 [==============================] - 0s 243us/step - loss: 0.3319 - accuracy: 0.8637\n",
      "Epoch 91/100\n",
      "250/250 [==============================] - 0s 301us/step - loss: 0.3318 - accuracy: 0.8659\n",
      "Epoch 92/100\n",
      "250/250 [==============================] - 0s 255us/step - loss: 0.3321 - accuracy: 0.8656\n",
      "Epoch 93/100\n",
      "250/250 [==============================] - 0s 256us/step - loss: 0.3323 - accuracy: 0.8650\n",
      "Epoch 94/100\n",
      "250/250 [==============================] - 0s 252us/step - loss: 0.3321 - accuracy: 0.8648\n",
      "Epoch 95/100\n",
      "250/250 [==============================] - 0s 254us/step - loss: 0.3315 - accuracy: 0.8629\n",
      "Epoch 96/100\n",
      "250/250 [==============================] - 0s 286us/step - loss: 0.3321 - accuracy: 0.8655\n",
      "Epoch 97/100\n",
      "250/250 [==============================] - 0s 276us/step - loss: 0.3320 - accuracy: 0.8629\n",
      "Epoch 98/100\n",
      "250/250 [==============================] - 0s 263us/step - loss: 0.3313 - accuracy: 0.8654\n",
      "Epoch 99/100\n",
      "250/250 [==============================] - 0s 259us/step - loss: 0.3313 - accuracy: 0.8644\n",
      "Epoch 100/100\n",
      "250/250 [==============================] - 0s 259us/step - loss: 0.3310 - accuracy: 0.8652\n"
     ]
    },
    {
     "data": {
      "text/plain": [
       "<keras.callbacks.History at 0x151148890>"
      ]
     },
     "execution_count": 78,
     "metadata": {},
     "output_type": "execute_result"
    }
   ],
   "source": [
    "ann.fit(X_train,y_train,batch_size=32,epochs=100)"
   ]
  },
  {
   "cell_type": "markdown",
   "metadata": {},
   "source": [
    "## Part 4 - Making the predictions and evaluating the model"
   ]
  },
  {
   "cell_type": "markdown",
   "metadata": {},
   "source": [
    "### Predicting the result of a single observation"
   ]
  },
  {
   "cell_type": "markdown",
   "metadata": {},
   "source": [
    "\n",
    "Use our ANN model to predict if the customer with the following informations will leave the bank: \n",
    "\n",
    "Geography: France\n",
    "\n",
    "Credit Score: 600\n",
    "\n",
    "Gender: Male\n",
    "\n",
    "Age: 40 years old\n",
    "\n",
    "Tenure: 3 years\n",
    "\n",
    "Balance: \\$ 60000\n",
    "\n",
    "Number of Products: 2\n",
    "\n",
    "Does this customer have a credit card ? Yes\n",
    "\n",
    "Is this customer an Active Member: Yes\n",
    "\n",
    "Estimated Salary: \\$ 50000\n",
    "\n",
    "So, should we say goodbye to that customer ?"
   ]
  },
  {
   "cell_type": "markdown",
   "metadata": {},
   "source": [
    "**Solution**"
   ]
  },
  {
   "cell_type": "code",
   "execution_count": 79,
   "metadata": {},
   "outputs": [
    {
     "name": "stdout",
     "output_type": "stream",
     "text": [
      "1/1 [==============================] - 0s 41ms/step\n",
      "[[0.03197045]]\n"
     ]
    }
   ],
   "source": [
    "print(ann.predict(sc.transform([[1,0,0,600,1,40,3,60000,2,1,1,50000]]))) # getting the probability as predicted by the sigmoid function"
   ]
  },
  {
   "cell_type": "code",
   "execution_count": 80,
   "metadata": {},
   "outputs": [
    {
     "name": "stdout",
     "output_type": "stream",
     "text": [
      "1/1 [==============================] - 0s 11ms/step\n",
      "[[False]]\n"
     ]
    }
   ],
   "source": [
    "print(ann.predict(sc.transform([[1,0,0,600,1,40,3,60000,2,1,1,50000]]))>0.5) # getting the answer in 0 or 1/false or true"
   ]
  },
  {
   "cell_type": "markdown",
   "metadata": {},
   "source": [
    "Therefore, our ANN model predicts that this customer stays in the bank!\n",
    "\n",
    "**Important note 1:** Notice that the values of the features were all input in a double pair of square brackets. That's because the \"predict\" method always expects a 2D array as the format of its inputs. And putting our values into a double pair of square brackets makes the input exactly a 2D array.\n",
    "\n",
    "**Important note 2:** Notice also that the \"France\" country was not input as a string in the last column but as \"1, 0, 0\" in the first three columns. That's because of course the predict method expects the one-hot-encoded values of the state, and as we see in the first row of the matrix of features X, \"France\" was encoded as \"1, 0, 0\". And be careful to include these values in the first three columns, because the dummy variables are always created in the first columns."
   ]
  },
  {
   "cell_type": "markdown",
   "metadata": {},
   "source": [
    "### Predicting the Test set results"
   ]
  },
  {
   "cell_type": "code",
   "execution_count": 81,
   "metadata": {},
   "outputs": [
    {
     "name": "stdout",
     "output_type": "stream",
     "text": [
      " 1/63 [..............................] - ETA: 0s"
     ]
    },
    {
     "name": "stdout",
     "output_type": "stream",
     "text": [
      "63/63 [==============================] - 0s 256us/step\n",
      "[[0 0]\n",
      " [0 0]\n",
      " [0 0]\n",
      " ...\n",
      " [0 0]\n",
      " [0 0]\n",
      " [1 0]]\n"
     ]
    }
   ],
   "source": [
    "y_pred = ann.predict(X_test)\n",
    "y_pred = (y_pred >0.5)\n",
    "print(np.concatenate((y_pred.reshape(len(y_pred),1), y_test.reshape(len(y_test),1)),1))"
   ]
  },
  {
   "cell_type": "markdown",
   "metadata": {},
   "source": [
    "### Making the Confusion Matrix"
   ]
  },
  {
   "cell_type": "code",
   "execution_count": 82,
   "metadata": {},
   "outputs": [
    {
     "name": "stdout",
     "output_type": "stream",
     "text": [
      "[[1530   55]\n",
      " [ 208  207]]\n"
     ]
    },
    {
     "data": {
      "text/plain": [
       "0.8685"
      ]
     },
     "execution_count": 82,
     "metadata": {},
     "output_type": "execute_result"
    }
   ],
   "source": [
    "from sklearn.metrics import confusion_matrix, accuracy_score\n",
    "cm = confusion_matrix(y_test, y_pred)\n",
    "print(cm)\n",
    "accuracy_score(y_test, y_pred)"
   ]
  }
 ],
 "metadata": {
  "kernelspec": {
   "display_name": "tf",
   "language": "python",
   "name": "python3"
  },
  "language_info": {
   "codemirror_mode": {
    "name": "ipython",
    "version": 3
   },
   "file_extension": ".py",
   "mimetype": "text/x-python",
   "name": "python",
   "nbconvert_exporter": "python",
   "pygments_lexer": "ipython3",
   "version": "3.11.4"
  },
  "orig_nbformat": 4
 },
 "nbformat": 4,
 "nbformat_minor": 2
}
