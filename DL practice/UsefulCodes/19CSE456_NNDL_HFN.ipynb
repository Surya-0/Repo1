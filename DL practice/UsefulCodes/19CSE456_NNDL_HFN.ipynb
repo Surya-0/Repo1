{
  "nbformat": 4,
  "nbformat_minor": 0,
  "metadata": {
    "colab": {
      "provenance": []
    },
    "kernelspec": {
      "name": "python3",
      "display_name": "Python 3"
    },
    "language_info": {
      "name": "python"
    }
  },
  "cells": [
    {
      "cell_type": "code",
      "source": [
        "import numpy as np\n",
        "\n",
        "class HopfieldNetwork:\n",
        "    def __init__(self, num_neurons):\n",
        "        self.num_neurons = num_neurons\n",
        "        self.weights = np.zeros((num_neurons, num_neurons))\n",
        "\n",
        "    def train(self, patterns):\n",
        "        for pattern in patterns:\n",
        "            pattern = np.array(pattern, ndmin=2).T\n",
        "            self.weights += np.dot(pattern, pattern.T) - np.eye(self.num_neurons)\n",
        "\n",
        "    def predict(self, patterns):\n",
        "        predicted_patterns = []\n",
        "        for pattern in patterns:\n",
        "            pattern = np.array(pattern, ndmin=2).T\n",
        "            predicted_pattern = self.update(pattern)\n",
        "            predicted_patterns.append(predicted_pattern)\n",
        "        return predicted_patterns\n",
        "\n",
        "    def update(self, pattern):\n",
        "        converged = False\n",
        "        num_iterations = 0\n",
        "        while not converged and num_iterations < 100:\n",
        "            num_iterations += 1\n",
        "            prev_pattern = pattern.copy()\n",
        "            pattern = np.sign(np.dot(self.weights, pattern))\n",
        "            converged = np.array_equal(pattern, prev_pattern)\n",
        "        return pattern"
      ],
      "metadata": {
        "id": "zArAKpGVMW2N"
      },
      "execution_count": null,
      "outputs": []
    },
    {
      "cell_type": "code",
      "source": [
        "# Create a Hopfield network with 3 neurons\n",
        "network = HopfieldNetwork(num_neurons=3)\n",
        "\n",
        "# Train the network on the patterns\n",
        "patterns = [[1, 1, -1], [-1, 1, 1], [-1, -1, 1]]\n",
        "network.train(patterns)\n",
        "\n",
        "# Predict the output patterns\n",
        "output_patterns = network.predict(patterns)\n",
        "print(output_patterns)"
      ],
      "metadata": {
        "colab": {
          "base_uri": "https://localhost:8080/"
        },
        "id": "a6KIDSX9MYrb",
        "outputId": "bcdb1905-650f-4540-9a96-547a290bcf6b"
      },
      "execution_count": null,
      "outputs": [
        {
          "output_type": "stream",
          "name": "stdout",
          "text": [
            "[array([[ 1.],\n",
            "       [ 1.],\n",
            "       [-1.]]), array([[-1.],\n",
            "       [-1.],\n",
            "       [ 1.]]), array([[-1.],\n",
            "       [-1.],\n",
            "       [ 1.]])]\n"
          ]
        }
      ]
    }
  ]
}