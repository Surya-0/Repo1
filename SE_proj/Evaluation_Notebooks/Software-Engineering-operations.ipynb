{
 "cells": [
  {
   "cell_type": "code",
   "execution_count": 47,
   "id": "initial_id",
   "metadata": {
    "collapsed": true,
    "ExecuteTime": {
     "end_time": "2024-05-02T18:47:37.993164Z",
     "start_time": "2024-05-02T18:47:37.991071Z"
    }
   },
   "outputs": [],
   "source": [
    "import pandas as pd"
   ]
  },
  {
   "cell_type": "code",
   "execution_count": 48,
   "outputs": [],
   "source": [
    "macbook  = pd.read_csv('macbook_data.csv')\n",
    "HP = pd.read_csv('HP_Laptop_data.csv')\n",
    "Dell = pd.read_csv('Dell_Laptop_data.csv')\n",
    "Acer = pd.read_csv('ACER_Laptop_data.csv')\n",
    "Asus = pd.read_csv('ASUS_Laptop_data.csv')\n",
    "Microsoft = pd.read_csv('Microsoft_Laptop_data.csv')"
   ],
   "metadata": {
    "collapsed": false,
    "ExecuteTime": {
     "end_time": "2024-05-02T18:47:38.444830Z",
     "start_time": "2024-05-02T18:47:38.428393Z"
    }
   },
   "id": "6278a1d5ed971daf"
  },
  {
   "cell_type": "code",
   "execution_count": 49,
   "outputs": [],
   "source": [
    "df = [macbook,HP,Dell,Acer,Asus,Microsoft]"
   ],
   "metadata": {
    "collapsed": false,
    "ExecuteTime": {
     "end_time": "2024-05-02T18:47:38.851494Z",
     "start_time": "2024-05-02T18:47:38.845753Z"
    }
   },
   "id": "ba90d21b5e1889dc"
  },
  {
   "cell_type": "code",
   "execution_count": 50,
   "outputs": [],
   "source": [
    "merged_df = pd.concat(df)"
   ],
   "metadata": {
    "collapsed": false,
    "ExecuteTime": {
     "end_time": "2024-05-02T18:47:39.280592Z",
     "start_time": "2024-05-02T18:47:39.275698Z"
    }
   },
   "id": "2c248fccf7f0d568"
  },
  {
   "cell_type": "code",
   "execution_count": 51,
   "outputs": [
    {
     "data": {
      "text/plain": "                                                title      price  \\\n0   Apple 2024 MacBook Air 13-inch Laptop with M3 ...    $979.11   \n1   Apple 2022 MacBook Air Laptop with M2 chip: 13...    $806.88   \n2   Apple 2024 MacBook Air 15-inch Laptop with M3 ...  $1,200.37   \n3   2017 Apple Macbook Air with 1.8GHz Intel Core ...    $234.00   \n4   Apple 2023 MacBook Pro Laptop M3 Pro chip with...  $2,023.08   \n..                                                ...        ...   \n39  Microsoft Surface Laptop Studio 2 14.4\" Touchs...  $1,419.99   \n40  Microsoft Surface Pro 9 (2022), 13\" 2-in-1 Tab...  $1,173.14   \n41  Microsoft Surface Pro 9 (2022), 13\" 2-in-1 Tab...  $1,249.99   \n42  Microsoft Surface Pro 9 (2022), 13\" 2-in-1 Tab...        NaN   \n43  Microsoft Surface Pro 9 (2022), 13\" 2-in-1 Tab...    $698.60   \n\n                rating        reviews                        availability  \n0   4.4 out of 5 stars     58 ratings  Only 4 left in stock - order soon.  \n1   4.4 out of 5 stars  2,445 ratings  Only 4 left in stock - order soon.  \n2   4.5 out of 5 stars     48 ratings  Only 1 left in stock - order soon.  \n3   4.1 out of 5 stars    493 ratings                            In Stock  \n4   4.7 out of 5 stars    230 ratings  Only 3 left in stock - order soon.  \n..                 ...            ...                                 ...  \n39  3.8 out of 5 stars      3 ratings                            In Stock  \n40  4.5 out of 5 stars    827 ratings                            In Stock  \n41  4.5 out of 5 stars    827 ratings  Only 2 left in stock - order soon.  \n42  4.5 out of 5 stars    827 ratings                       Not Available  \n43  4.5 out of 5 stars    827 ratings  Only 2 left in stock - order soon.  \n\n[184 rows x 5 columns]",
      "text/html": "<div>\n<style scoped>\n    .dataframe tbody tr th:only-of-type {\n        vertical-align: middle;\n    }\n\n    .dataframe tbody tr th {\n        vertical-align: top;\n    }\n\n    .dataframe thead th {\n        text-align: right;\n    }\n</style>\n<table border=\"1\" class=\"dataframe\">\n  <thead>\n    <tr style=\"text-align: right;\">\n      <th></th>\n      <th>title</th>\n      <th>price</th>\n      <th>rating</th>\n      <th>reviews</th>\n      <th>availability</th>\n    </tr>\n  </thead>\n  <tbody>\n    <tr>\n      <th>0</th>\n      <td>Apple 2024 MacBook Air 13-inch Laptop with M3 ...</td>\n      <td>$979.11</td>\n      <td>4.4 out of 5 stars</td>\n      <td>58 ratings</td>\n      <td>Only 4 left in stock - order soon.</td>\n    </tr>\n    <tr>\n      <th>1</th>\n      <td>Apple 2022 MacBook Air Laptop with M2 chip: 13...</td>\n      <td>$806.88</td>\n      <td>4.4 out of 5 stars</td>\n      <td>2,445 ratings</td>\n      <td>Only 4 left in stock - order soon.</td>\n    </tr>\n    <tr>\n      <th>2</th>\n      <td>Apple 2024 MacBook Air 15-inch Laptop with M3 ...</td>\n      <td>$1,200.37</td>\n      <td>4.5 out of 5 stars</td>\n      <td>48 ratings</td>\n      <td>Only 1 left in stock - order soon.</td>\n    </tr>\n    <tr>\n      <th>3</th>\n      <td>2017 Apple Macbook Air with 1.8GHz Intel Core ...</td>\n      <td>$234.00</td>\n      <td>4.1 out of 5 stars</td>\n      <td>493 ratings</td>\n      <td>In Stock</td>\n    </tr>\n    <tr>\n      <th>4</th>\n      <td>Apple 2023 MacBook Pro Laptop M3 Pro chip with...</td>\n      <td>$2,023.08</td>\n      <td>4.7 out of 5 stars</td>\n      <td>230 ratings</td>\n      <td>Only 3 left in stock - order soon.</td>\n    </tr>\n    <tr>\n      <th>...</th>\n      <td>...</td>\n      <td>...</td>\n      <td>...</td>\n      <td>...</td>\n      <td>...</td>\n    </tr>\n    <tr>\n      <th>39</th>\n      <td>Microsoft Surface Laptop Studio 2 14.4\" Touchs...</td>\n      <td>$1,419.99</td>\n      <td>3.8 out of 5 stars</td>\n      <td>3 ratings</td>\n      <td>In Stock</td>\n    </tr>\n    <tr>\n      <th>40</th>\n      <td>Microsoft Surface Pro 9 (2022), 13\" 2-in-1 Tab...</td>\n      <td>$1,173.14</td>\n      <td>4.5 out of 5 stars</td>\n      <td>827 ratings</td>\n      <td>In Stock</td>\n    </tr>\n    <tr>\n      <th>41</th>\n      <td>Microsoft Surface Pro 9 (2022), 13\" 2-in-1 Tab...</td>\n      <td>$1,249.99</td>\n      <td>4.5 out of 5 stars</td>\n      <td>827 ratings</td>\n      <td>Only 2 left in stock - order soon.</td>\n    </tr>\n    <tr>\n      <th>42</th>\n      <td>Microsoft Surface Pro 9 (2022), 13\" 2-in-1 Tab...</td>\n      <td>NaN</td>\n      <td>4.5 out of 5 stars</td>\n      <td>827 ratings</td>\n      <td>Not Available</td>\n    </tr>\n    <tr>\n      <th>43</th>\n      <td>Microsoft Surface Pro 9 (2022), 13\" 2-in-1 Tab...</td>\n      <td>$698.60</td>\n      <td>4.5 out of 5 stars</td>\n      <td>827 ratings</td>\n      <td>Only 2 left in stock - order soon.</td>\n    </tr>\n  </tbody>\n</table>\n<p>184 rows × 5 columns</p>\n</div>"
     },
     "execution_count": 51,
     "metadata": {},
     "output_type": "execute_result"
    }
   ],
   "source": [
    "merged_df"
   ],
   "metadata": {
    "collapsed": false,
    "ExecuteTime": {
     "end_time": "2024-05-02T18:47:39.748994Z",
     "start_time": "2024-05-02T18:47:39.739303Z"
    }
   },
   "id": "4d623c1ae0a52f1e"
  },
  {
   "cell_type": "code",
   "execution_count": 52,
   "outputs": [],
   "source": [
    "merged_df = merged_df.dropna()"
   ],
   "metadata": {
    "collapsed": false,
    "ExecuteTime": {
     "end_time": "2024-05-02T18:47:40.608555Z",
     "start_time": "2024-05-02T18:47:40.600187Z"
    }
   },
   "id": "3c8f27891b6b2848"
  },
  {
   "cell_type": "code",
   "execution_count": 53,
   "outputs": [
    {
     "data": {
      "text/plain": "                                                title      price  \\\n0   Apple 2024 MacBook Air 13-inch Laptop with M3 ...    $979.11   \n1   Apple 2022 MacBook Air Laptop with M2 chip: 13...    $806.88   \n2   Apple 2024 MacBook Air 15-inch Laptop with M3 ...  $1,200.37   \n3   2017 Apple Macbook Air with 1.8GHz Intel Core ...    $234.00   \n4   Apple 2023 MacBook Pro Laptop M3 Pro chip with...  $2,023.08   \n..                                                ...        ...   \n31  Microsoft Surface Laptop 3 – 13.5\" Touch-Scree...    $647.28   \n39  Microsoft Surface Laptop Studio 2 14.4\" Touchs...  $1,419.99   \n40  Microsoft Surface Pro 9 (2022), 13\" 2-in-1 Tab...  $1,173.14   \n41  Microsoft Surface Pro 9 (2022), 13\" 2-in-1 Tab...  $1,249.99   \n43  Microsoft Surface Pro 9 (2022), 13\" 2-in-1 Tab...    $698.60   \n\n                rating        reviews                        availability  \n0   4.4 out of 5 stars     58 ratings  Only 4 left in stock - order soon.  \n1   4.4 out of 5 stars  2,445 ratings  Only 4 left in stock - order soon.  \n2   4.5 out of 5 stars     48 ratings  Only 1 left in stock - order soon.  \n3   4.1 out of 5 stars    493 ratings                            In Stock  \n4   4.7 out of 5 stars    230 ratings  Only 3 left in stock - order soon.  \n..                 ...            ...                                 ...  \n31  4.5 out of 5 stars    531 ratings  Only 1 left in stock - order soon.  \n39  3.8 out of 5 stars      3 ratings                            In Stock  \n40  4.5 out of 5 stars    827 ratings                            In Stock  \n41  4.5 out of 5 stars    827 ratings  Only 2 left in stock - order soon.  \n43  4.5 out of 5 stars    827 ratings  Only 2 left in stock - order soon.  \n\n[117 rows x 5 columns]",
      "text/html": "<div>\n<style scoped>\n    .dataframe tbody tr th:only-of-type {\n        vertical-align: middle;\n    }\n\n    .dataframe tbody tr th {\n        vertical-align: top;\n    }\n\n    .dataframe thead th {\n        text-align: right;\n    }\n</style>\n<table border=\"1\" class=\"dataframe\">\n  <thead>\n    <tr style=\"text-align: right;\">\n      <th></th>\n      <th>title</th>\n      <th>price</th>\n      <th>rating</th>\n      <th>reviews</th>\n      <th>availability</th>\n    </tr>\n  </thead>\n  <tbody>\n    <tr>\n      <th>0</th>\n      <td>Apple 2024 MacBook Air 13-inch Laptop with M3 ...</td>\n      <td>$979.11</td>\n      <td>4.4 out of 5 stars</td>\n      <td>58 ratings</td>\n      <td>Only 4 left in stock - order soon.</td>\n    </tr>\n    <tr>\n      <th>1</th>\n      <td>Apple 2022 MacBook Air Laptop with M2 chip: 13...</td>\n      <td>$806.88</td>\n      <td>4.4 out of 5 stars</td>\n      <td>2,445 ratings</td>\n      <td>Only 4 left in stock - order soon.</td>\n    </tr>\n    <tr>\n      <th>2</th>\n      <td>Apple 2024 MacBook Air 15-inch Laptop with M3 ...</td>\n      <td>$1,200.37</td>\n      <td>4.5 out of 5 stars</td>\n      <td>48 ratings</td>\n      <td>Only 1 left in stock - order soon.</td>\n    </tr>\n    <tr>\n      <th>3</th>\n      <td>2017 Apple Macbook Air with 1.8GHz Intel Core ...</td>\n      <td>$234.00</td>\n      <td>4.1 out of 5 stars</td>\n      <td>493 ratings</td>\n      <td>In Stock</td>\n    </tr>\n    <tr>\n      <th>4</th>\n      <td>Apple 2023 MacBook Pro Laptop M3 Pro chip with...</td>\n      <td>$2,023.08</td>\n      <td>4.7 out of 5 stars</td>\n      <td>230 ratings</td>\n      <td>Only 3 left in stock - order soon.</td>\n    </tr>\n    <tr>\n      <th>...</th>\n      <td>...</td>\n      <td>...</td>\n      <td>...</td>\n      <td>...</td>\n      <td>...</td>\n    </tr>\n    <tr>\n      <th>31</th>\n      <td>Microsoft Surface Laptop 3 – 13.5\" Touch-Scree...</td>\n      <td>$647.28</td>\n      <td>4.5 out of 5 stars</td>\n      <td>531 ratings</td>\n      <td>Only 1 left in stock - order soon.</td>\n    </tr>\n    <tr>\n      <th>39</th>\n      <td>Microsoft Surface Laptop Studio 2 14.4\" Touchs...</td>\n      <td>$1,419.99</td>\n      <td>3.8 out of 5 stars</td>\n      <td>3 ratings</td>\n      <td>In Stock</td>\n    </tr>\n    <tr>\n      <th>40</th>\n      <td>Microsoft Surface Pro 9 (2022), 13\" 2-in-1 Tab...</td>\n      <td>$1,173.14</td>\n      <td>4.5 out of 5 stars</td>\n      <td>827 ratings</td>\n      <td>In Stock</td>\n    </tr>\n    <tr>\n      <th>41</th>\n      <td>Microsoft Surface Pro 9 (2022), 13\" 2-in-1 Tab...</td>\n      <td>$1,249.99</td>\n      <td>4.5 out of 5 stars</td>\n      <td>827 ratings</td>\n      <td>Only 2 left in stock - order soon.</td>\n    </tr>\n    <tr>\n      <th>43</th>\n      <td>Microsoft Surface Pro 9 (2022), 13\" 2-in-1 Tab...</td>\n      <td>$698.60</td>\n      <td>4.5 out of 5 stars</td>\n      <td>827 ratings</td>\n      <td>Only 2 left in stock - order soon.</td>\n    </tr>\n  </tbody>\n</table>\n<p>117 rows × 5 columns</p>\n</div>"
     },
     "execution_count": 53,
     "metadata": {},
     "output_type": "execute_result"
    }
   ],
   "source": [
    "merged_df"
   ],
   "metadata": {
    "collapsed": false,
    "ExecuteTime": {
     "end_time": "2024-05-02T18:47:41.187694Z",
     "start_time": "2024-05-02T18:47:41.173433Z"
    }
   },
   "id": "b1c675300e0bccf0"
  },
  {
   "cell_type": "code",
   "execution_count": 75,
   "outputs": [
    {
     "data": {
      "text/plain": "title           hp 15.6\" Laptop Computer with 1-Year Microsoft...\nprice                                                     $449.99\nrating                                         4.3 out of 5 stars\nreviews                                                63 ratings\navailability                  Only 20 left in stock - order soon.\nName: 1, dtype: object"
     },
     "execution_count": 75,
     "metadata": {},
     "output_type": "execute_result"
    }
   ],
   "source": [
    "merged_df.iloc[14]"
   ],
   "metadata": {
    "collapsed": false,
    "ExecuteTime": {
     "end_time": "2024-05-02T19:07:54.337517Z",
     "start_time": "2024-05-02T19:07:54.329745Z"
    }
   },
   "id": "eb4ee8b648752cfd"
  },
  {
   "cell_type": "code",
   "execution_count": 80,
   "outputs": [],
   "source": [
    "merged_df.to_csv('Final_merged_data.csv',header=True,index=False)"
   ],
   "metadata": {
    "collapsed": false,
    "ExecuteTime": {
     "end_time": "2024-05-02T19:10:08.413263Z",
     "start_time": "2024-05-02T19:10:08.411985Z"
    }
   },
   "id": "c8b253b501894c91"
  },
  {
   "cell_type": "code",
   "execution_count": 81,
   "outputs": [
    {
     "data": {
      "text/plain": "                                                 title       price  \\\n0    Apple 2024 MacBook Air 13-inch Laptop with M3 ...    $ 979.11   \n1    Apple 2022 MacBook Air Laptop with M2 chip: 13...    $ 806.88   \n2    Apple 2024 MacBook Air 15-inch Laptop with M3 ...  $ 1,200.37   \n3    Apple 2017 Macbook Air with 1.8GHz Intel Core ...    $ 234.00   \n4    Apple 2023 MacBook Pro Laptop M3 Pro chip with...  $ 2,023.08   \n..                                                 ...         ...   \n112  Microsoft Surface Laptop 3 – 13.5\" Touch-Scree...    $ 647.28   \n113  Microsoft Surface Laptop Studio 2 14.4\" Touchs...  $ 1,419.99   \n114  Microsoft Surface Pro 9 (2022), 13\" 2-in-1 Tab...  $ 1,173.14   \n115  Microsoft Surface Pro 9 (2022), 13\" 2-in-1 Tab...  $ 1,249.99   \n116  Microsoft Surface Pro 9 (2022), 13\" 2-in-1 Tab...    $ 698.60   \n\n                 rating        reviews                        availability  \n0    4.4 out of 5 stars     58 ratings  Only 4 left in stock - order soon.  \n1    4.4 out of 5 stars  2,445 ratings  Only 4 left in stock - order soon.  \n2    4.5 out of 5 stars     48 ratings  Only 1 left in stock - order soon.  \n3    4.1 out of 5 stars    493 ratings                            In Stock  \n4    4.7 out of 5 stars    230 ratings  Only 3 left in stock - order soon.  \n..                  ...            ...                                 ...  \n112  4.5 out of 5 stars    531 ratings  Only 1 left in stock - order soon.  \n113  3.8 out of 5 stars      3 ratings                            In Stock  \n114  4.5 out of 5 stars    827 ratings                            In Stock  \n115  4.5 out of 5 stars    827 ratings  Only 2 left in stock - order soon.  \n116  4.5 out of 5 stars    827 ratings  Only 2 left in stock - order soon.  \n\n[117 rows x 5 columns]",
      "text/html": "<div>\n<style scoped>\n    .dataframe tbody tr th:only-of-type {\n        vertical-align: middle;\n    }\n\n    .dataframe tbody tr th {\n        vertical-align: top;\n    }\n\n    .dataframe thead th {\n        text-align: right;\n    }\n</style>\n<table border=\"1\" class=\"dataframe\">\n  <thead>\n    <tr style=\"text-align: right;\">\n      <th></th>\n      <th>title</th>\n      <th>price</th>\n      <th>rating</th>\n      <th>reviews</th>\n      <th>availability</th>\n    </tr>\n  </thead>\n  <tbody>\n    <tr>\n      <th>0</th>\n      <td>Apple 2024 MacBook Air 13-inch Laptop with M3 ...</td>\n      <td>$ 979.11</td>\n      <td>4.4 out of 5 stars</td>\n      <td>58 ratings</td>\n      <td>Only 4 left in stock - order soon.</td>\n    </tr>\n    <tr>\n      <th>1</th>\n      <td>Apple 2022 MacBook Air Laptop with M2 chip: 13...</td>\n      <td>$ 806.88</td>\n      <td>4.4 out of 5 stars</td>\n      <td>2,445 ratings</td>\n      <td>Only 4 left in stock - order soon.</td>\n    </tr>\n    <tr>\n      <th>2</th>\n      <td>Apple 2024 MacBook Air 15-inch Laptop with M3 ...</td>\n      <td>$ 1,200.37</td>\n      <td>4.5 out of 5 stars</td>\n      <td>48 ratings</td>\n      <td>Only 1 left in stock - order soon.</td>\n    </tr>\n    <tr>\n      <th>3</th>\n      <td>Apple 2017 Macbook Air with 1.8GHz Intel Core ...</td>\n      <td>$ 234.00</td>\n      <td>4.1 out of 5 stars</td>\n      <td>493 ratings</td>\n      <td>In Stock</td>\n    </tr>\n    <tr>\n      <th>4</th>\n      <td>Apple 2023 MacBook Pro Laptop M3 Pro chip with...</td>\n      <td>$ 2,023.08</td>\n      <td>4.7 out of 5 stars</td>\n      <td>230 ratings</td>\n      <td>Only 3 left in stock - order soon.</td>\n    </tr>\n    <tr>\n      <th>...</th>\n      <td>...</td>\n      <td>...</td>\n      <td>...</td>\n      <td>...</td>\n      <td>...</td>\n    </tr>\n    <tr>\n      <th>112</th>\n      <td>Microsoft Surface Laptop 3 – 13.5\" Touch-Scree...</td>\n      <td>$ 647.28</td>\n      <td>4.5 out of 5 stars</td>\n      <td>531 ratings</td>\n      <td>Only 1 left in stock - order soon.</td>\n    </tr>\n    <tr>\n      <th>113</th>\n      <td>Microsoft Surface Laptop Studio 2 14.4\" Touchs...</td>\n      <td>$ 1,419.99</td>\n      <td>3.8 out of 5 stars</td>\n      <td>3 ratings</td>\n      <td>In Stock</td>\n    </tr>\n    <tr>\n      <th>114</th>\n      <td>Microsoft Surface Pro 9 (2022), 13\" 2-in-1 Tab...</td>\n      <td>$ 1,173.14</td>\n      <td>4.5 out of 5 stars</td>\n      <td>827 ratings</td>\n      <td>In Stock</td>\n    </tr>\n    <tr>\n      <th>115</th>\n      <td>Microsoft Surface Pro 9 (2022), 13\" 2-in-1 Tab...</td>\n      <td>$ 1,249.99</td>\n      <td>4.5 out of 5 stars</td>\n      <td>827 ratings</td>\n      <td>Only 2 left in stock - order soon.</td>\n    </tr>\n    <tr>\n      <th>116</th>\n      <td>Microsoft Surface Pro 9 (2022), 13\" 2-in-1 Tab...</td>\n      <td>$ 698.60</td>\n      <td>4.5 out of 5 stars</td>\n      <td>827 ratings</td>\n      <td>Only 2 left in stock - order soon.</td>\n    </tr>\n  </tbody>\n</table>\n<p>117 rows × 5 columns</p>\n</div>"
     },
     "execution_count": 81,
     "metadata": {},
     "output_type": "execute_result"
    }
   ],
   "source": [
    "df = pd.read_csv('Final_merged_data.csv')\n",
    "df"
   ],
   "metadata": {
    "collapsed": false,
    "ExecuteTime": {
     "end_time": "2024-05-02T19:13:08.085251Z",
     "start_time": "2024-05-02T19:13:08.057354Z"
    }
   },
   "id": "6c5d0eeb73c63f32"
  },
  {
   "cell_type": "code",
   "execution_count": 82,
   "outputs": [],
   "source": [
    "df['price'] = df['price'].str.replace('\\xa0', '')"
   ],
   "metadata": {
    "collapsed": false,
    "ExecuteTime": {
     "end_time": "2024-05-02T19:13:12.044503Z",
     "start_time": "2024-05-02T19:13:12.033995Z"
    }
   },
   "id": "30584026e155816a"
  },
  {
   "cell_type": "code",
   "execution_count": 84,
   "outputs": [],
   "source": [
    "df.to_csv('Final_merged_data.csv',header = True,index = False)"
   ],
   "metadata": {
    "collapsed": false,
    "ExecuteTime": {
     "end_time": "2024-05-02T19:13:43.251741Z",
     "start_time": "2024-05-02T19:13:43.231655Z"
    }
   },
   "id": "59ad397f24b78a46"
  },
  {
   "cell_type": "code",
   "execution_count": 86,
   "outputs": [
    {
     "data": {
      "text/plain": "                                                 title      price  \\\n0    Apple 2024 MacBook Air 13-inch Laptop with M3 ...    $979.11   \n1    Apple 2022 MacBook Air Laptop with M2 chip: 13...    $806.88   \n2    Apple 2024 MacBook Air 15-inch Laptop with M3 ...  $1,200.37   \n3    Apple 2017 Macbook Air with 1.8GHz Intel Core ...    $234.00   \n4    Apple 2023 MacBook Pro Laptop M3 Pro chip with...  $2,023.08   \n..                                                 ...        ...   \n112  Microsoft Surface Laptop 3 – 13.5\" Touch-Scree...    $647.28   \n113  Microsoft Surface Laptop Studio 2 14.4\" Touchs...  $1,419.99   \n114  Microsoft Surface Pro 9 (2022), 13\" 2-in-1 Tab...  $1,173.14   \n115  Microsoft Surface Pro 9 (2022), 13\" 2-in-1 Tab...  $1,249.99   \n116  Microsoft Surface Pro 9 (2022), 13\" 2-in-1 Tab...    $698.60   \n\n                 rating        reviews                        availability  \n0    4.4 out of 5 stars     58 ratings  Only 4 left in stock - order soon.  \n1    4.4 out of 5 stars  2,445 ratings  Only 4 left in stock - order soon.  \n2    4.5 out of 5 stars     48 ratings  Only 1 left in stock - order soon.  \n3    4.1 out of 5 stars    493 ratings                            In Stock  \n4    4.7 out of 5 stars    230 ratings  Only 3 left in stock - order soon.  \n..                  ...            ...                                 ...  \n112  4.5 out of 5 stars    531 ratings  Only 1 left in stock - order soon.  \n113  3.8 out of 5 stars      3 ratings                            In Stock  \n114  4.5 out of 5 stars    827 ratings                            In Stock  \n115  4.5 out of 5 stars    827 ratings  Only 2 left in stock - order soon.  \n116  4.5 out of 5 stars    827 ratings  Only 2 left in stock - order soon.  \n\n[117 rows x 5 columns]",
      "text/html": "<div>\n<style scoped>\n    .dataframe tbody tr th:only-of-type {\n        vertical-align: middle;\n    }\n\n    .dataframe tbody tr th {\n        vertical-align: top;\n    }\n\n    .dataframe thead th {\n        text-align: right;\n    }\n</style>\n<table border=\"1\" class=\"dataframe\">\n  <thead>\n    <tr style=\"text-align: right;\">\n      <th></th>\n      <th>title</th>\n      <th>price</th>\n      <th>rating</th>\n      <th>reviews</th>\n      <th>availability</th>\n    </tr>\n  </thead>\n  <tbody>\n    <tr>\n      <th>0</th>\n      <td>Apple 2024 MacBook Air 13-inch Laptop with M3 ...</td>\n      <td>$979.11</td>\n      <td>4.4 out of 5 stars</td>\n      <td>58 ratings</td>\n      <td>Only 4 left in stock - order soon.</td>\n    </tr>\n    <tr>\n      <th>1</th>\n      <td>Apple 2022 MacBook Air Laptop with M2 chip: 13...</td>\n      <td>$806.88</td>\n      <td>4.4 out of 5 stars</td>\n      <td>2,445 ratings</td>\n      <td>Only 4 left in stock - order soon.</td>\n    </tr>\n    <tr>\n      <th>2</th>\n      <td>Apple 2024 MacBook Air 15-inch Laptop with M3 ...</td>\n      <td>$1,200.37</td>\n      <td>4.5 out of 5 stars</td>\n      <td>48 ratings</td>\n      <td>Only 1 left in stock - order soon.</td>\n    </tr>\n    <tr>\n      <th>3</th>\n      <td>Apple 2017 Macbook Air with 1.8GHz Intel Core ...</td>\n      <td>$234.00</td>\n      <td>4.1 out of 5 stars</td>\n      <td>493 ratings</td>\n      <td>In Stock</td>\n    </tr>\n    <tr>\n      <th>4</th>\n      <td>Apple 2023 MacBook Pro Laptop M3 Pro chip with...</td>\n      <td>$2,023.08</td>\n      <td>4.7 out of 5 stars</td>\n      <td>230 ratings</td>\n      <td>Only 3 left in stock - order soon.</td>\n    </tr>\n    <tr>\n      <th>...</th>\n      <td>...</td>\n      <td>...</td>\n      <td>...</td>\n      <td>...</td>\n      <td>...</td>\n    </tr>\n    <tr>\n      <th>112</th>\n      <td>Microsoft Surface Laptop 3 – 13.5\" Touch-Scree...</td>\n      <td>$647.28</td>\n      <td>4.5 out of 5 stars</td>\n      <td>531 ratings</td>\n      <td>Only 1 left in stock - order soon.</td>\n    </tr>\n    <tr>\n      <th>113</th>\n      <td>Microsoft Surface Laptop Studio 2 14.4\" Touchs...</td>\n      <td>$1,419.99</td>\n      <td>3.8 out of 5 stars</td>\n      <td>3 ratings</td>\n      <td>In Stock</td>\n    </tr>\n    <tr>\n      <th>114</th>\n      <td>Microsoft Surface Pro 9 (2022), 13\" 2-in-1 Tab...</td>\n      <td>$1,173.14</td>\n      <td>4.5 out of 5 stars</td>\n      <td>827 ratings</td>\n      <td>In Stock</td>\n    </tr>\n    <tr>\n      <th>115</th>\n      <td>Microsoft Surface Pro 9 (2022), 13\" 2-in-1 Tab...</td>\n      <td>$1,249.99</td>\n      <td>4.5 out of 5 stars</td>\n      <td>827 ratings</td>\n      <td>Only 2 left in stock - order soon.</td>\n    </tr>\n    <tr>\n      <th>116</th>\n      <td>Microsoft Surface Pro 9 (2022), 13\" 2-in-1 Tab...</td>\n      <td>$698.60</td>\n      <td>4.5 out of 5 stars</td>\n      <td>827 ratings</td>\n      <td>Only 2 left in stock - order soon.</td>\n    </tr>\n  </tbody>\n</table>\n<p>117 rows × 5 columns</p>\n</div>"
     },
     "execution_count": 86,
     "metadata": {},
     "output_type": "execute_result"
    }
   ],
   "source": [
    "ef = pd.read_csv('Final_merged_data.csv')\n",
    "ef"
   ],
   "metadata": {
    "collapsed": false,
    "ExecuteTime": {
     "end_time": "2024-05-02T19:19:33.079030Z",
     "start_time": "2024-05-02T19:19:33.043330Z"
    }
   },
   "id": "207a54a234abfa01"
  },
  {
   "cell_type": "code",
   "execution_count": 89,
   "outputs": [
    {
     "data": {
      "text/plain": "                                                 title      price  \\\n0    Apple 2024 MacBook Air 13-inch Laptop with M3 ...    $979.11   \n1    Apple 2022 MacBook Air Laptop with M2 chip: 13...    $806.88   \n2    Apple 2024 MacBook Air 15-inch Laptop with M3 ...  $1,200.37   \n3    Apple 2017 Macbook Air with 1.8GHz Intel Core ...    $234.00   \n4    Apple 2023 MacBook Pro Laptop M3 Pro chip with...  $2,023.08   \n..                                                 ...        ...   \n112  Microsoft Surface Laptop 3 – 13.5\" Touch-Scree...    $647.28   \n113  Microsoft Surface Laptop Studio 2 14.4\" Touchs...  $1,419.99   \n114  Microsoft Surface Pro 9 (2022), 13\" 2-in-1 Tab...  $1,173.14   \n115  Microsoft Surface Pro 9 (2022), 13\" 2-in-1 Tab...  $1,249.99   \n116  Microsoft Surface Pro 9 (2022), 13\" 2-in-1 Tab...    $698.60   \n\n                 rating        reviews                        availability  \n0    4.4 out of 5 stars     58 ratings  Only 4 left in stock - order soon.  \n1    4.4 out of 5 stars  2,445 ratings  Only 4 left in stock - order soon.  \n2    4.5 out of 5 stars     48 ratings  Only 1 left in stock - order soon.  \n3    4.1 out of 5 stars    493 ratings                            In Stock  \n4    4.7 out of 5 stars    230 ratings  Only 3 left in stock - order soon.  \n..                  ...            ...                                 ...  \n112  4.5 out of 5 stars    531 ratings  Only 1 left in stock - order soon.  \n113  3.8 out of 5 stars      3 ratings                            In Stock  \n114  4.5 out of 5 stars    827 ratings                            In Stock  \n115  4.5 out of 5 stars    827 ratings  Only 2 left in stock - order soon.  \n116  4.5 out of 5 stars    827 ratings  Only 2 left in stock - order soon.  \n\n[117 rows x 5 columns]",
      "text/html": "<div>\n<style scoped>\n    .dataframe tbody tr th:only-of-type {\n        vertical-align: middle;\n    }\n\n    .dataframe tbody tr th {\n        vertical-align: top;\n    }\n\n    .dataframe thead th {\n        text-align: right;\n    }\n</style>\n<table border=\"1\" class=\"dataframe\">\n  <thead>\n    <tr style=\"text-align: right;\">\n      <th></th>\n      <th>title</th>\n      <th>price</th>\n      <th>rating</th>\n      <th>reviews</th>\n      <th>availability</th>\n    </tr>\n  </thead>\n  <tbody>\n    <tr>\n      <th>0</th>\n      <td>Apple 2024 MacBook Air 13-inch Laptop with M3 ...</td>\n      <td>$979.11</td>\n      <td>4.4 out of 5 stars</td>\n      <td>58 ratings</td>\n      <td>Only 4 left in stock - order soon.</td>\n    </tr>\n    <tr>\n      <th>1</th>\n      <td>Apple 2022 MacBook Air Laptop with M2 chip: 13...</td>\n      <td>$806.88</td>\n      <td>4.4 out of 5 stars</td>\n      <td>2,445 ratings</td>\n      <td>Only 4 left in stock - order soon.</td>\n    </tr>\n    <tr>\n      <th>2</th>\n      <td>Apple 2024 MacBook Air 15-inch Laptop with M3 ...</td>\n      <td>$1,200.37</td>\n      <td>4.5 out of 5 stars</td>\n      <td>48 ratings</td>\n      <td>Only 1 left in stock - order soon.</td>\n    </tr>\n    <tr>\n      <th>3</th>\n      <td>Apple 2017 Macbook Air with 1.8GHz Intel Core ...</td>\n      <td>$234.00</td>\n      <td>4.1 out of 5 stars</td>\n      <td>493 ratings</td>\n      <td>In Stock</td>\n    </tr>\n    <tr>\n      <th>4</th>\n      <td>Apple 2023 MacBook Pro Laptop M3 Pro chip with...</td>\n      <td>$2,023.08</td>\n      <td>4.7 out of 5 stars</td>\n      <td>230 ratings</td>\n      <td>Only 3 left in stock - order soon.</td>\n    </tr>\n    <tr>\n      <th>...</th>\n      <td>...</td>\n      <td>...</td>\n      <td>...</td>\n      <td>...</td>\n      <td>...</td>\n    </tr>\n    <tr>\n      <th>112</th>\n      <td>Microsoft Surface Laptop 3 – 13.5\" Touch-Scree...</td>\n      <td>$647.28</td>\n      <td>4.5 out of 5 stars</td>\n      <td>531 ratings</td>\n      <td>Only 1 left in stock - order soon.</td>\n    </tr>\n    <tr>\n      <th>113</th>\n      <td>Microsoft Surface Laptop Studio 2 14.4\" Touchs...</td>\n      <td>$1,419.99</td>\n      <td>3.8 out of 5 stars</td>\n      <td>3 ratings</td>\n      <td>In Stock</td>\n    </tr>\n    <tr>\n      <th>114</th>\n      <td>Microsoft Surface Pro 9 (2022), 13\" 2-in-1 Tab...</td>\n      <td>$1,173.14</td>\n      <td>4.5 out of 5 stars</td>\n      <td>827 ratings</td>\n      <td>In Stock</td>\n    </tr>\n    <tr>\n      <th>115</th>\n      <td>Microsoft Surface Pro 9 (2022), 13\" 2-in-1 Tab...</td>\n      <td>$1,249.99</td>\n      <td>4.5 out of 5 stars</td>\n      <td>827 ratings</td>\n      <td>Only 2 left in stock - order soon.</td>\n    </tr>\n    <tr>\n      <th>116</th>\n      <td>Microsoft Surface Pro 9 (2022), 13\" 2-in-1 Tab...</td>\n      <td>$698.60</td>\n      <td>4.5 out of 5 stars</td>\n      <td>827 ratings</td>\n      <td>Only 2 left in stock - order soon.</td>\n    </tr>\n  </tbody>\n</table>\n<p>117 rows × 5 columns</p>\n</div>"
     },
     "execution_count": 89,
     "metadata": {},
     "output_type": "execute_result"
    }
   ],
   "source": [
    "df = pd.read_csv('Scraped_datasets/Final_merged_data.csv')\n",
    "df"
   ],
   "metadata": {
    "collapsed": false,
    "ExecuteTime": {
     "end_time": "2024-05-02T19:24:53.665754Z",
     "start_time": "2024-05-02T19:24:53.645487Z"
    }
   },
   "id": "38c3bfd98fbe1602"
  },
  {
   "cell_type": "code",
   "execution_count": 92,
   "outputs": [],
   "source": [
    "# Create a new column 'brand' by splitting the 'title' column and keeping the first element\n",
    "df['brand'] = df['title'].str.split(\" \").str[0]\n",
    "\n",
    "# Create a new column 'product_details' by splitting the 'title' column and keeping the rest of the title\n",
    "df['product_details'] = df['title'].str.split(\" \").str[1:].str.join(\" \")"
   ],
   "metadata": {
    "collapsed": false,
    "ExecuteTime": {
     "end_time": "2024-05-02T19:26:10.551964Z",
     "start_time": "2024-05-02T19:26:10.549249Z"
    }
   },
   "id": "444a4b6558bddd90"
  },
  {
   "cell_type": "code",
   "execution_count": 93,
   "outputs": [
    {
     "data": {
      "text/plain": "                                                 title      price  \\\n0    Apple 2024 MacBook Air 13-inch Laptop with M3 ...    $979.11   \n1    Apple 2022 MacBook Air Laptop with M2 chip: 13...    $806.88   \n2    Apple 2024 MacBook Air 15-inch Laptop with M3 ...  $1,200.37   \n3    Apple 2017 Macbook Air with 1.8GHz Intel Core ...    $234.00   \n4    Apple 2023 MacBook Pro Laptop M3 Pro chip with...  $2,023.08   \n..                                                 ...        ...   \n112  Microsoft Surface Laptop 3 – 13.5\" Touch-Scree...    $647.28   \n113  Microsoft Surface Laptop Studio 2 14.4\" Touchs...  $1,419.99   \n114  Microsoft Surface Pro 9 (2022), 13\" 2-in-1 Tab...  $1,173.14   \n115  Microsoft Surface Pro 9 (2022), 13\" 2-in-1 Tab...  $1,249.99   \n116  Microsoft Surface Pro 9 (2022), 13\" 2-in-1 Tab...    $698.60   \n\n                 rating        reviews                        availability  \\\n0    4.4 out of 5 stars     58 ratings  Only 4 left in stock - order soon.   \n1    4.4 out of 5 stars  2,445 ratings  Only 4 left in stock - order soon.   \n2    4.5 out of 5 stars     48 ratings  Only 1 left in stock - order soon.   \n3    4.1 out of 5 stars    493 ratings                            In Stock   \n4    4.7 out of 5 stars    230 ratings  Only 3 left in stock - order soon.   \n..                  ...            ...                                 ...   \n112  4.5 out of 5 stars    531 ratings  Only 1 left in stock - order soon.   \n113  3.8 out of 5 stars      3 ratings                            In Stock   \n114  4.5 out of 5 stars    827 ratings                            In Stock   \n115  4.5 out of 5 stars    827 ratings  Only 2 left in stock - order soon.   \n116  4.5 out of 5 stars    827 ratings  Only 2 left in stock - order soon.   \n\n    Brand      brand                                    product_details  \n0    None      Apple  2024 MacBook Air 13-inch Laptop with M3 chip: ...  \n1    None      Apple  2022 MacBook Air Laptop with M2 chip: 13.6-inc...  \n2    None      Apple  2024 MacBook Air 15-inch Laptop with M3 chip: ...  \n3    None      Apple  2017 Macbook Air with 1.8GHz Intel Core i5 (13...  \n4    None      Apple  2023 MacBook Pro Laptop M3 Pro chip with 12‑co...  \n..    ...        ...                                                ...  \n112  None  Microsoft  Surface Laptop 3 – 13.5\" Touch-Screen – Intel ...  \n113  None  Microsoft  Surface Laptop Studio 2 14.4\" Touchscreen Conv...  \n114  None  Microsoft  Surface Pro 9 (2022), 13\" 2-in-1 Tablet & Lapt...  \n115  None  Microsoft  Surface Pro 9 (2022), 13\" 2-in-1 Tablet & Lapt...  \n116  None  Microsoft  Surface Pro 9 (2022), 13\" 2-in-1 Tablet & Lapt...  \n\n[117 rows x 8 columns]",
      "text/html": "<div>\n<style scoped>\n    .dataframe tbody tr th:only-of-type {\n        vertical-align: middle;\n    }\n\n    .dataframe tbody tr th {\n        vertical-align: top;\n    }\n\n    .dataframe thead th {\n        text-align: right;\n    }\n</style>\n<table border=\"1\" class=\"dataframe\">\n  <thead>\n    <tr style=\"text-align: right;\">\n      <th></th>\n      <th>title</th>\n      <th>price</th>\n      <th>rating</th>\n      <th>reviews</th>\n      <th>availability</th>\n      <th>Brand</th>\n      <th>brand</th>\n      <th>product_details</th>\n    </tr>\n  </thead>\n  <tbody>\n    <tr>\n      <th>0</th>\n      <td>Apple 2024 MacBook Air 13-inch Laptop with M3 ...</td>\n      <td>$979.11</td>\n      <td>4.4 out of 5 stars</td>\n      <td>58 ratings</td>\n      <td>Only 4 left in stock - order soon.</td>\n      <td>None</td>\n      <td>Apple</td>\n      <td>2024 MacBook Air 13-inch Laptop with M3 chip: ...</td>\n    </tr>\n    <tr>\n      <th>1</th>\n      <td>Apple 2022 MacBook Air Laptop with M2 chip: 13...</td>\n      <td>$806.88</td>\n      <td>4.4 out of 5 stars</td>\n      <td>2,445 ratings</td>\n      <td>Only 4 left in stock - order soon.</td>\n      <td>None</td>\n      <td>Apple</td>\n      <td>2022 MacBook Air Laptop with M2 chip: 13.6-inc...</td>\n    </tr>\n    <tr>\n      <th>2</th>\n      <td>Apple 2024 MacBook Air 15-inch Laptop with M3 ...</td>\n      <td>$1,200.37</td>\n      <td>4.5 out of 5 stars</td>\n      <td>48 ratings</td>\n      <td>Only 1 left in stock - order soon.</td>\n      <td>None</td>\n      <td>Apple</td>\n      <td>2024 MacBook Air 15-inch Laptop with M3 chip: ...</td>\n    </tr>\n    <tr>\n      <th>3</th>\n      <td>Apple 2017 Macbook Air with 1.8GHz Intel Core ...</td>\n      <td>$234.00</td>\n      <td>4.1 out of 5 stars</td>\n      <td>493 ratings</td>\n      <td>In Stock</td>\n      <td>None</td>\n      <td>Apple</td>\n      <td>2017 Macbook Air with 1.8GHz Intel Core i5 (13...</td>\n    </tr>\n    <tr>\n      <th>4</th>\n      <td>Apple 2023 MacBook Pro Laptop M3 Pro chip with...</td>\n      <td>$2,023.08</td>\n      <td>4.7 out of 5 stars</td>\n      <td>230 ratings</td>\n      <td>Only 3 left in stock - order soon.</td>\n      <td>None</td>\n      <td>Apple</td>\n      <td>2023 MacBook Pro Laptop M3 Pro chip with 12‑co...</td>\n    </tr>\n    <tr>\n      <th>...</th>\n      <td>...</td>\n      <td>...</td>\n      <td>...</td>\n      <td>...</td>\n      <td>...</td>\n      <td>...</td>\n      <td>...</td>\n      <td>...</td>\n    </tr>\n    <tr>\n      <th>112</th>\n      <td>Microsoft Surface Laptop 3 – 13.5\" Touch-Scree...</td>\n      <td>$647.28</td>\n      <td>4.5 out of 5 stars</td>\n      <td>531 ratings</td>\n      <td>Only 1 left in stock - order soon.</td>\n      <td>None</td>\n      <td>Microsoft</td>\n      <td>Surface Laptop 3 – 13.5\" Touch-Screen – Intel ...</td>\n    </tr>\n    <tr>\n      <th>113</th>\n      <td>Microsoft Surface Laptop Studio 2 14.4\" Touchs...</td>\n      <td>$1,419.99</td>\n      <td>3.8 out of 5 stars</td>\n      <td>3 ratings</td>\n      <td>In Stock</td>\n      <td>None</td>\n      <td>Microsoft</td>\n      <td>Surface Laptop Studio 2 14.4\" Touchscreen Conv...</td>\n    </tr>\n    <tr>\n      <th>114</th>\n      <td>Microsoft Surface Pro 9 (2022), 13\" 2-in-1 Tab...</td>\n      <td>$1,173.14</td>\n      <td>4.5 out of 5 stars</td>\n      <td>827 ratings</td>\n      <td>In Stock</td>\n      <td>None</td>\n      <td>Microsoft</td>\n      <td>Surface Pro 9 (2022), 13\" 2-in-1 Tablet &amp; Lapt...</td>\n    </tr>\n    <tr>\n      <th>115</th>\n      <td>Microsoft Surface Pro 9 (2022), 13\" 2-in-1 Tab...</td>\n      <td>$1,249.99</td>\n      <td>4.5 out of 5 stars</td>\n      <td>827 ratings</td>\n      <td>Only 2 left in stock - order soon.</td>\n      <td>None</td>\n      <td>Microsoft</td>\n      <td>Surface Pro 9 (2022), 13\" 2-in-1 Tablet &amp; Lapt...</td>\n    </tr>\n    <tr>\n      <th>116</th>\n      <td>Microsoft Surface Pro 9 (2022), 13\" 2-in-1 Tab...</td>\n      <td>$698.60</td>\n      <td>4.5 out of 5 stars</td>\n      <td>827 ratings</td>\n      <td>Only 2 left in stock - order soon.</td>\n      <td>None</td>\n      <td>Microsoft</td>\n      <td>Surface Pro 9 (2022), 13\" 2-in-1 Tablet &amp; Lapt...</td>\n    </tr>\n  </tbody>\n</table>\n<p>117 rows × 8 columns</p>\n</div>"
     },
     "execution_count": 93,
     "metadata": {},
     "output_type": "execute_result"
    }
   ],
   "source": [
    "df"
   ],
   "metadata": {
    "collapsed": false,
    "ExecuteTime": {
     "end_time": "2024-05-02T19:26:11.780205Z",
     "start_time": "2024-05-02T19:26:11.758689Z"
    }
   },
   "id": "6dbe618479fa7a7c"
  },
  {
   "cell_type": "code",
   "execution_count": 94,
   "outputs": [],
   "source": [
    "df.drop(columns=['Brand'],inplace = True)"
   ],
   "metadata": {
    "collapsed": false,
    "ExecuteTime": {
     "end_time": "2024-05-02T19:26:34.563573Z",
     "start_time": "2024-05-02T19:26:34.548251Z"
    }
   },
   "id": "290275c6b5a84dd"
  },
  {
   "cell_type": "code",
   "execution_count": 95,
   "outputs": [
    {
     "data": {
      "text/plain": "                                                 title      price  \\\n0    Apple 2024 MacBook Air 13-inch Laptop with M3 ...    $979.11   \n1    Apple 2022 MacBook Air Laptop with M2 chip: 13...    $806.88   \n2    Apple 2024 MacBook Air 15-inch Laptop with M3 ...  $1,200.37   \n3    Apple 2017 Macbook Air with 1.8GHz Intel Core ...    $234.00   \n4    Apple 2023 MacBook Pro Laptop M3 Pro chip with...  $2,023.08   \n..                                                 ...        ...   \n112  Microsoft Surface Laptop 3 – 13.5\" Touch-Scree...    $647.28   \n113  Microsoft Surface Laptop Studio 2 14.4\" Touchs...  $1,419.99   \n114  Microsoft Surface Pro 9 (2022), 13\" 2-in-1 Tab...  $1,173.14   \n115  Microsoft Surface Pro 9 (2022), 13\" 2-in-1 Tab...  $1,249.99   \n116  Microsoft Surface Pro 9 (2022), 13\" 2-in-1 Tab...    $698.60   \n\n                 rating        reviews                        availability  \\\n0    4.4 out of 5 stars     58 ratings  Only 4 left in stock - order soon.   \n1    4.4 out of 5 stars  2,445 ratings  Only 4 left in stock - order soon.   \n2    4.5 out of 5 stars     48 ratings  Only 1 left in stock - order soon.   \n3    4.1 out of 5 stars    493 ratings                            In Stock   \n4    4.7 out of 5 stars    230 ratings  Only 3 left in stock - order soon.   \n..                  ...            ...                                 ...   \n112  4.5 out of 5 stars    531 ratings  Only 1 left in stock - order soon.   \n113  3.8 out of 5 stars      3 ratings                            In Stock   \n114  4.5 out of 5 stars    827 ratings                            In Stock   \n115  4.5 out of 5 stars    827 ratings  Only 2 left in stock - order soon.   \n116  4.5 out of 5 stars    827 ratings  Only 2 left in stock - order soon.   \n\n         brand                                    product_details  \n0        Apple  2024 MacBook Air 13-inch Laptop with M3 chip: ...  \n1        Apple  2022 MacBook Air Laptop with M2 chip: 13.6-inc...  \n2        Apple  2024 MacBook Air 15-inch Laptop with M3 chip: ...  \n3        Apple  2017 Macbook Air with 1.8GHz Intel Core i5 (13...  \n4        Apple  2023 MacBook Pro Laptop M3 Pro chip with 12‑co...  \n..         ...                                                ...  \n112  Microsoft  Surface Laptop 3 – 13.5\" Touch-Screen – Intel ...  \n113  Microsoft  Surface Laptop Studio 2 14.4\" Touchscreen Conv...  \n114  Microsoft  Surface Pro 9 (2022), 13\" 2-in-1 Tablet & Lapt...  \n115  Microsoft  Surface Pro 9 (2022), 13\" 2-in-1 Tablet & Lapt...  \n116  Microsoft  Surface Pro 9 (2022), 13\" 2-in-1 Tablet & Lapt...  \n\n[117 rows x 7 columns]",
      "text/html": "<div>\n<style scoped>\n    .dataframe tbody tr th:only-of-type {\n        vertical-align: middle;\n    }\n\n    .dataframe tbody tr th {\n        vertical-align: top;\n    }\n\n    .dataframe thead th {\n        text-align: right;\n    }\n</style>\n<table border=\"1\" class=\"dataframe\">\n  <thead>\n    <tr style=\"text-align: right;\">\n      <th></th>\n      <th>title</th>\n      <th>price</th>\n      <th>rating</th>\n      <th>reviews</th>\n      <th>availability</th>\n      <th>brand</th>\n      <th>product_details</th>\n    </tr>\n  </thead>\n  <tbody>\n    <tr>\n      <th>0</th>\n      <td>Apple 2024 MacBook Air 13-inch Laptop with M3 ...</td>\n      <td>$979.11</td>\n      <td>4.4 out of 5 stars</td>\n      <td>58 ratings</td>\n      <td>Only 4 left in stock - order soon.</td>\n      <td>Apple</td>\n      <td>2024 MacBook Air 13-inch Laptop with M3 chip: ...</td>\n    </tr>\n    <tr>\n      <th>1</th>\n      <td>Apple 2022 MacBook Air Laptop with M2 chip: 13...</td>\n      <td>$806.88</td>\n      <td>4.4 out of 5 stars</td>\n      <td>2,445 ratings</td>\n      <td>Only 4 left in stock - order soon.</td>\n      <td>Apple</td>\n      <td>2022 MacBook Air Laptop with M2 chip: 13.6-inc...</td>\n    </tr>\n    <tr>\n      <th>2</th>\n      <td>Apple 2024 MacBook Air 15-inch Laptop with M3 ...</td>\n      <td>$1,200.37</td>\n      <td>4.5 out of 5 stars</td>\n      <td>48 ratings</td>\n      <td>Only 1 left in stock - order soon.</td>\n      <td>Apple</td>\n      <td>2024 MacBook Air 15-inch Laptop with M3 chip: ...</td>\n    </tr>\n    <tr>\n      <th>3</th>\n      <td>Apple 2017 Macbook Air with 1.8GHz Intel Core ...</td>\n      <td>$234.00</td>\n      <td>4.1 out of 5 stars</td>\n      <td>493 ratings</td>\n      <td>In Stock</td>\n      <td>Apple</td>\n      <td>2017 Macbook Air with 1.8GHz Intel Core i5 (13...</td>\n    </tr>\n    <tr>\n      <th>4</th>\n      <td>Apple 2023 MacBook Pro Laptop M3 Pro chip with...</td>\n      <td>$2,023.08</td>\n      <td>4.7 out of 5 stars</td>\n      <td>230 ratings</td>\n      <td>Only 3 left in stock - order soon.</td>\n      <td>Apple</td>\n      <td>2023 MacBook Pro Laptop M3 Pro chip with 12‑co...</td>\n    </tr>\n    <tr>\n      <th>...</th>\n      <td>...</td>\n      <td>...</td>\n      <td>...</td>\n      <td>...</td>\n      <td>...</td>\n      <td>...</td>\n      <td>...</td>\n    </tr>\n    <tr>\n      <th>112</th>\n      <td>Microsoft Surface Laptop 3 – 13.5\" Touch-Scree...</td>\n      <td>$647.28</td>\n      <td>4.5 out of 5 stars</td>\n      <td>531 ratings</td>\n      <td>Only 1 left in stock - order soon.</td>\n      <td>Microsoft</td>\n      <td>Surface Laptop 3 – 13.5\" Touch-Screen – Intel ...</td>\n    </tr>\n    <tr>\n      <th>113</th>\n      <td>Microsoft Surface Laptop Studio 2 14.4\" Touchs...</td>\n      <td>$1,419.99</td>\n      <td>3.8 out of 5 stars</td>\n      <td>3 ratings</td>\n      <td>In Stock</td>\n      <td>Microsoft</td>\n      <td>Surface Laptop Studio 2 14.4\" Touchscreen Conv...</td>\n    </tr>\n    <tr>\n      <th>114</th>\n      <td>Microsoft Surface Pro 9 (2022), 13\" 2-in-1 Tab...</td>\n      <td>$1,173.14</td>\n      <td>4.5 out of 5 stars</td>\n      <td>827 ratings</td>\n      <td>In Stock</td>\n      <td>Microsoft</td>\n      <td>Surface Pro 9 (2022), 13\" 2-in-1 Tablet &amp; Lapt...</td>\n    </tr>\n    <tr>\n      <th>115</th>\n      <td>Microsoft Surface Pro 9 (2022), 13\" 2-in-1 Tab...</td>\n      <td>$1,249.99</td>\n      <td>4.5 out of 5 stars</td>\n      <td>827 ratings</td>\n      <td>Only 2 left in stock - order soon.</td>\n      <td>Microsoft</td>\n      <td>Surface Pro 9 (2022), 13\" 2-in-1 Tablet &amp; Lapt...</td>\n    </tr>\n    <tr>\n      <th>116</th>\n      <td>Microsoft Surface Pro 9 (2022), 13\" 2-in-1 Tab...</td>\n      <td>$698.60</td>\n      <td>4.5 out of 5 stars</td>\n      <td>827 ratings</td>\n      <td>Only 2 left in stock - order soon.</td>\n      <td>Microsoft</td>\n      <td>Surface Pro 9 (2022), 13\" 2-in-1 Tablet &amp; Lapt...</td>\n    </tr>\n  </tbody>\n</table>\n<p>117 rows × 7 columns</p>\n</div>"
     },
     "execution_count": 95,
     "metadata": {},
     "output_type": "execute_result"
    }
   ],
   "source": [
    "df"
   ],
   "metadata": {
    "collapsed": false,
    "ExecuteTime": {
     "end_time": "2024-05-02T19:26:35.232661Z",
     "start_time": "2024-05-02T19:26:35.211469Z"
    }
   },
   "id": "e67ad8a3ac6076e7"
  },
  {
   "cell_type": "code",
   "execution_count": 96,
   "outputs": [],
   "source": [],
   "metadata": {
    "collapsed": false,
    "ExecuteTime": {
     "end_time": "2024-05-02T21:09:25.877219Z",
     "start_time": "2024-05-02T21:09:25.876703Z"
    }
   },
   "id": "6d7a269fa4f46d06"
  },
  {
   "cell_type": "code",
   "execution_count": null,
   "outputs": [],
   "source": [],
   "metadata": {
    "collapsed": false
   },
   "id": "e64c4af40c42412a"
  }
 ],
 "metadata": {
  "kernelspec": {
   "display_name": "Python 3",
   "language": "python",
   "name": "python3"
  },
  "language_info": {
   "codemirror_mode": {
    "name": "ipython",
    "version": 2
   },
   "file_extension": ".py",
   "mimetype": "text/x-python",
   "name": "python",
   "nbconvert_exporter": "python",
   "pygments_lexer": "ipython2",
   "version": "2.7.6"
  }
 },
 "nbformat": 4,
 "nbformat_minor": 5
}
