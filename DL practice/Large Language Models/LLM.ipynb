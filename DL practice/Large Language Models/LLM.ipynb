{
 "cells": [
  {
   "cell_type": "code",
   "execution_count": 2,
   "metadata": {},
   "outputs": [],
   "source": [
    "import transformers"
   ]
  },
  {
   "cell_type": "code",
   "execution_count": 3,
   "metadata": {},
   "outputs": [],
   "source": [
    "from transformers import BertTokenizer,BertForSequenceClassification"
   ]
  },
  {
   "cell_type": "code",
   "execution_count": 4,
   "metadata": {},
   "outputs": [
    {
     "name": "stderr",
     "output_type": "stream",
     "text": [
      "100%|██████████| 231508/231508 [00:09<00:00, 23428.98B/s]\n",
      "100%|██████████| 433/433 [00:00<00:00, 1237991.57B/s]\n",
      "  1%|          | 5238784/440473133 [09:20<18:50:03, 6419.05B/s] "
     ]
    },
    {
     "ename": "KeyboardInterrupt",
     "evalue": "",
     "output_type": "error",
     "traceback": [
      "\u001b[0;31m---------------------------------------------------------------------------\u001b[0m",
      "\u001b[0;31mKeyboardInterrupt\u001b[0m                         Traceback (most recent call last)",
      "Cell \u001b[0;32mIn[4], line 3\u001b[0m\n\u001b[1;32m      1\u001b[0m model_name \u001b[39m=\u001b[39m \u001b[39m'\u001b[39m\u001b[39mbert-base-uncased\u001b[39m\u001b[39m'\u001b[39m\n\u001b[1;32m      2\u001b[0m tokenizer \u001b[39m=\u001b[39m BertTokenizer\u001b[39m.\u001b[39mfrom_pretrained(model_name)\n\u001b[0;32m----> 3\u001b[0m model \u001b[39m=\u001b[39m BertForSequenceClassification\u001b[39m.\u001b[39;49mfrom_pretrained(model_name)\n",
      "File \u001b[0;32m~/anaconda3/envs/tf/lib/python3.11/site-packages/transformers/modeling_utils.py:318\u001b[0m, in \u001b[0;36mPreTrainedModel.from_pretrained\u001b[0;34m(cls, pretrained_model_name_or_path, *model_args, **kwargs)\u001b[0m\n\u001b[1;32m    316\u001b[0m \u001b[39m# redirect to the cache, if necessary\u001b[39;00m\n\u001b[1;32m    317\u001b[0m \u001b[39mtry\u001b[39;00m:\n\u001b[0;32m--> 318\u001b[0m     resolved_archive_file \u001b[39m=\u001b[39m cached_path(archive_file, cache_dir\u001b[39m=\u001b[39;49mcache_dir, force_download\u001b[39m=\u001b[39;49mforce_download, proxies\u001b[39m=\u001b[39;49mproxies)\n\u001b[1;32m    319\u001b[0m \u001b[39mexcept\u001b[39;00m \u001b[39mEnvironmentError\u001b[39;00m:\n\u001b[1;32m    320\u001b[0m     \u001b[39mif\u001b[39;00m pretrained_model_name_or_path \u001b[39min\u001b[39;00m \u001b[39mcls\u001b[39m\u001b[39m.\u001b[39mpretrained_model_archive_map:\n",
      "File \u001b[0;32m~/anaconda3/envs/tf/lib/python3.11/site-packages/transformers/file_utils.py:176\u001b[0m, in \u001b[0;36mcached_path\u001b[0;34m(url_or_filename, cache_dir, force_download, proxies)\u001b[0m\n\u001b[1;32m    172\u001b[0m parsed \u001b[39m=\u001b[39m urlparse(url_or_filename)\n\u001b[1;32m    174\u001b[0m \u001b[39mif\u001b[39;00m parsed\u001b[39m.\u001b[39mscheme \u001b[39min\u001b[39;00m (\u001b[39m'\u001b[39m\u001b[39mhttp\u001b[39m\u001b[39m'\u001b[39m, \u001b[39m'\u001b[39m\u001b[39mhttps\u001b[39m\u001b[39m'\u001b[39m, \u001b[39m'\u001b[39m\u001b[39ms3\u001b[39m\u001b[39m'\u001b[39m):\n\u001b[1;32m    175\u001b[0m     \u001b[39m# URL, so get it from the cache (downloading if necessary)\u001b[39;00m\n\u001b[0;32m--> 176\u001b[0m     \u001b[39mreturn\u001b[39;00m get_from_cache(url_or_filename, cache_dir\u001b[39m=\u001b[39;49mcache_dir, force_download\u001b[39m=\u001b[39;49mforce_download, proxies\u001b[39m=\u001b[39;49mproxies)\n\u001b[1;32m    177\u001b[0m \u001b[39melif\u001b[39;00m os\u001b[39m.\u001b[39mpath\u001b[39m.\u001b[39mexists(url_or_filename):\n\u001b[1;32m    178\u001b[0m     \u001b[39m# File, and it exists.\u001b[39;00m\n\u001b[1;32m    179\u001b[0m     \u001b[39mreturn\u001b[39;00m url_or_filename\n",
      "File \u001b[0;32m~/anaconda3/envs/tf/lib/python3.11/site-packages/transformers/file_utils.py:302\u001b[0m, in \u001b[0;36mget_from_cache\u001b[0;34m(url, cache_dir, force_download, proxies)\u001b[0m\n\u001b[1;32m    300\u001b[0m     s3_get(url, temp_file, proxies\u001b[39m=\u001b[39mproxies)\n\u001b[1;32m    301\u001b[0m \u001b[39melse\u001b[39;00m:\n\u001b[0;32m--> 302\u001b[0m     http_get(url, temp_file, proxies\u001b[39m=\u001b[39;49mproxies)\n\u001b[1;32m    304\u001b[0m \u001b[39m# we are copying the file before closing it, so flush to avoid truncation\u001b[39;00m\n\u001b[1;32m    305\u001b[0m temp_file\u001b[39m.\u001b[39mflush()\n",
      "File \u001b[0;32m~/anaconda3/envs/tf/lib/python3.11/site-packages/transformers/file_utils.py:242\u001b[0m, in \u001b[0;36mhttp_get\u001b[0;34m(url, temp_file, proxies)\u001b[0m\n\u001b[1;32m    240\u001b[0m total \u001b[39m=\u001b[39m \u001b[39mint\u001b[39m(content_length) \u001b[39mif\u001b[39;00m content_length \u001b[39mis\u001b[39;00m \u001b[39mnot\u001b[39;00m \u001b[39mNone\u001b[39;00m \u001b[39melse\u001b[39;00m \u001b[39mNone\u001b[39;00m\n\u001b[1;32m    241\u001b[0m progress \u001b[39m=\u001b[39m tqdm(unit\u001b[39m=\u001b[39m\u001b[39m\"\u001b[39m\u001b[39mB\u001b[39m\u001b[39m\"\u001b[39m, total\u001b[39m=\u001b[39mtotal)\n\u001b[0;32m--> 242\u001b[0m \u001b[39mfor\u001b[39;00m chunk \u001b[39min\u001b[39;00m req\u001b[39m.\u001b[39miter_content(chunk_size\u001b[39m=\u001b[39m\u001b[39m1024\u001b[39m):\n\u001b[1;32m    243\u001b[0m     \u001b[39mif\u001b[39;00m chunk: \u001b[39m# filter out keep-alive new chunks\u001b[39;00m\n\u001b[1;32m    244\u001b[0m         progress\u001b[39m.\u001b[39mupdate(\u001b[39mlen\u001b[39m(chunk))\n",
      "File \u001b[0;32m~/anaconda3/envs/tf/lib/python3.11/site-packages/requests/models.py:816\u001b[0m, in \u001b[0;36mResponse.iter_content.<locals>.generate\u001b[0;34m()\u001b[0m\n\u001b[1;32m    814\u001b[0m \u001b[39mif\u001b[39;00m \u001b[39mhasattr\u001b[39m(\u001b[39mself\u001b[39m\u001b[39m.\u001b[39mraw, \u001b[39m\"\u001b[39m\u001b[39mstream\u001b[39m\u001b[39m\"\u001b[39m):\n\u001b[1;32m    815\u001b[0m     \u001b[39mtry\u001b[39;00m:\n\u001b[0;32m--> 816\u001b[0m         \u001b[39myield from\u001b[39;00m \u001b[39mself\u001b[39m\u001b[39m.\u001b[39mraw\u001b[39m.\u001b[39mstream(chunk_size, decode_content\u001b[39m=\u001b[39m\u001b[39mTrue\u001b[39;00m)\n\u001b[1;32m    817\u001b[0m     \u001b[39mexcept\u001b[39;00m ProtocolError \u001b[39mas\u001b[39;00m e:\n\u001b[1;32m    818\u001b[0m         \u001b[39mraise\u001b[39;00m ChunkedEncodingError(e)\n",
      "File \u001b[0;32m~/anaconda3/envs/tf/lib/python3.11/site-packages/urllib3/response.py:628\u001b[0m, in \u001b[0;36mHTTPResponse.stream\u001b[0;34m(self, amt, decode_content)\u001b[0m\n\u001b[1;32m    626\u001b[0m \u001b[39melse\u001b[39;00m:\n\u001b[1;32m    627\u001b[0m     \u001b[39mwhile\u001b[39;00m \u001b[39mnot\u001b[39;00m is_fp_closed(\u001b[39mself\u001b[39m\u001b[39m.\u001b[39m_fp):\n\u001b[0;32m--> 628\u001b[0m         data \u001b[39m=\u001b[39m \u001b[39mself\u001b[39;49m\u001b[39m.\u001b[39;49mread(amt\u001b[39m=\u001b[39;49mamt, decode_content\u001b[39m=\u001b[39;49mdecode_content)\n\u001b[1;32m    630\u001b[0m         \u001b[39mif\u001b[39;00m data:\n\u001b[1;32m    631\u001b[0m             \u001b[39myield\u001b[39;00m data\n",
      "File \u001b[0;32m~/anaconda3/envs/tf/lib/python3.11/site-packages/urllib3/response.py:567\u001b[0m, in \u001b[0;36mHTTPResponse.read\u001b[0;34m(self, amt, decode_content, cache_content)\u001b[0m\n\u001b[1;32m    564\u001b[0m fp_closed \u001b[39m=\u001b[39m \u001b[39mgetattr\u001b[39m(\u001b[39mself\u001b[39m\u001b[39m.\u001b[39m_fp, \u001b[39m\"\u001b[39m\u001b[39mclosed\u001b[39m\u001b[39m\"\u001b[39m, \u001b[39mFalse\u001b[39;00m)\n\u001b[1;32m    566\u001b[0m \u001b[39mwith\u001b[39;00m \u001b[39mself\u001b[39m\u001b[39m.\u001b[39m_error_catcher():\n\u001b[0;32m--> 567\u001b[0m     data \u001b[39m=\u001b[39m \u001b[39mself\u001b[39;49m\u001b[39m.\u001b[39;49m_fp_read(amt) \u001b[39mif\u001b[39;00m \u001b[39mnot\u001b[39;00m fp_closed \u001b[39melse\u001b[39;00m \u001b[39mb\u001b[39m\u001b[39m\"\u001b[39m\u001b[39m\"\u001b[39m\n\u001b[1;32m    568\u001b[0m     \u001b[39mif\u001b[39;00m amt \u001b[39mis\u001b[39;00m \u001b[39mNone\u001b[39;00m:\n\u001b[1;32m    569\u001b[0m         flush_decoder \u001b[39m=\u001b[39m \u001b[39mTrue\u001b[39;00m\n",
      "File \u001b[0;32m~/anaconda3/envs/tf/lib/python3.11/site-packages/urllib3/response.py:533\u001b[0m, in \u001b[0;36mHTTPResponse._fp_read\u001b[0;34m(self, amt)\u001b[0m\n\u001b[1;32m    530\u001b[0m     \u001b[39mreturn\u001b[39;00m buffer\u001b[39m.\u001b[39mgetvalue()\n\u001b[1;32m    531\u001b[0m \u001b[39melse\u001b[39;00m:\n\u001b[1;32m    532\u001b[0m     \u001b[39m# StringIO doesn't like amt=None\u001b[39;00m\n\u001b[0;32m--> 533\u001b[0m     \u001b[39mreturn\u001b[39;00m \u001b[39mself\u001b[39;49m\u001b[39m.\u001b[39;49m_fp\u001b[39m.\u001b[39;49mread(amt) \u001b[39mif\u001b[39;00m amt \u001b[39mis\u001b[39;00m \u001b[39mnot\u001b[39;00m \u001b[39mNone\u001b[39;00m \u001b[39melse\u001b[39;00m \u001b[39mself\u001b[39m\u001b[39m.\u001b[39m_fp\u001b[39m.\u001b[39mread()\n",
      "File \u001b[0;32m~/anaconda3/envs/tf/lib/python3.11/http/client.py:466\u001b[0m, in \u001b[0;36mHTTPResponse.read\u001b[0;34m(self, amt)\u001b[0m\n\u001b[1;32m    463\u001b[0m \u001b[39mif\u001b[39;00m \u001b[39mself\u001b[39m\u001b[39m.\u001b[39mlength \u001b[39mis\u001b[39;00m \u001b[39mnot\u001b[39;00m \u001b[39mNone\u001b[39;00m \u001b[39mand\u001b[39;00m amt \u001b[39m>\u001b[39m \u001b[39mself\u001b[39m\u001b[39m.\u001b[39mlength:\n\u001b[1;32m    464\u001b[0m     \u001b[39m# clip the read to the \"end of response\"\u001b[39;00m\n\u001b[1;32m    465\u001b[0m     amt \u001b[39m=\u001b[39m \u001b[39mself\u001b[39m\u001b[39m.\u001b[39mlength\n\u001b[0;32m--> 466\u001b[0m s \u001b[39m=\u001b[39m \u001b[39mself\u001b[39m\u001b[39m.\u001b[39mfp\u001b[39m.\u001b[39mread(amt)\n\u001b[1;32m    467\u001b[0m \u001b[39mif\u001b[39;00m \u001b[39mnot\u001b[39;00m s \u001b[39mand\u001b[39;00m amt:\n\u001b[1;32m    468\u001b[0m     \u001b[39m# Ideally, we would raise IncompleteRead if the content-length\u001b[39;00m\n\u001b[1;32m    469\u001b[0m     \u001b[39m# wasn't satisfied, but it might break compatibility.\u001b[39;00m\n\u001b[1;32m    470\u001b[0m     \u001b[39mself\u001b[39m\u001b[39m.\u001b[39m_close_conn()\n",
      "File \u001b[0;32m~/anaconda3/envs/tf/lib/python3.11/socket.py:706\u001b[0m, in \u001b[0;36mSocketIO.readinto\u001b[0;34m(self, b)\u001b[0m\n\u001b[1;32m    704\u001b[0m \u001b[39mwhile\u001b[39;00m \u001b[39mTrue\u001b[39;00m:\n\u001b[1;32m    705\u001b[0m     \u001b[39mtry\u001b[39;00m:\n\u001b[0;32m--> 706\u001b[0m         \u001b[39mreturn\u001b[39;00m \u001b[39mself\u001b[39;49m\u001b[39m.\u001b[39;49m_sock\u001b[39m.\u001b[39;49mrecv_into(b)\n\u001b[1;32m    707\u001b[0m     \u001b[39mexcept\u001b[39;00m timeout:\n\u001b[1;32m    708\u001b[0m         \u001b[39mself\u001b[39m\u001b[39m.\u001b[39m_timeout_occurred \u001b[39m=\u001b[39m \u001b[39mTrue\u001b[39;00m\n",
      "File \u001b[0;32m~/anaconda3/envs/tf/lib/python3.11/ssl.py:1278\u001b[0m, in \u001b[0;36mSSLSocket.recv_into\u001b[0;34m(self, buffer, nbytes, flags)\u001b[0m\n\u001b[1;32m   1274\u001b[0m     \u001b[39mif\u001b[39;00m flags \u001b[39m!=\u001b[39m \u001b[39m0\u001b[39m:\n\u001b[1;32m   1275\u001b[0m         \u001b[39mraise\u001b[39;00m \u001b[39mValueError\u001b[39;00m(\n\u001b[1;32m   1276\u001b[0m           \u001b[39m\"\u001b[39m\u001b[39mnon-zero flags not allowed in calls to recv_into() on \u001b[39m\u001b[39m%s\u001b[39;00m\u001b[39m\"\u001b[39m \u001b[39m%\u001b[39m\n\u001b[1;32m   1277\u001b[0m           \u001b[39mself\u001b[39m\u001b[39m.\u001b[39m\u001b[39m__class__\u001b[39m)\n\u001b[0;32m-> 1278\u001b[0m     \u001b[39mreturn\u001b[39;00m \u001b[39mself\u001b[39;49m\u001b[39m.\u001b[39;49mread(nbytes, buffer)\n\u001b[1;32m   1279\u001b[0m \u001b[39melse\u001b[39;00m:\n\u001b[1;32m   1280\u001b[0m     \u001b[39mreturn\u001b[39;00m \u001b[39msuper\u001b[39m()\u001b[39m.\u001b[39mrecv_into(buffer, nbytes, flags)\n",
      "File \u001b[0;32m~/anaconda3/envs/tf/lib/python3.11/ssl.py:1134\u001b[0m, in \u001b[0;36mSSLSocket.read\u001b[0;34m(self, len, buffer)\u001b[0m\n\u001b[1;32m   1132\u001b[0m \u001b[39mtry\u001b[39;00m:\n\u001b[1;32m   1133\u001b[0m     \u001b[39mif\u001b[39;00m buffer \u001b[39mis\u001b[39;00m \u001b[39mnot\u001b[39;00m \u001b[39mNone\u001b[39;00m:\n\u001b[0;32m-> 1134\u001b[0m         \u001b[39mreturn\u001b[39;00m \u001b[39mself\u001b[39;49m\u001b[39m.\u001b[39;49m_sslobj\u001b[39m.\u001b[39;49mread(\u001b[39mlen\u001b[39;49m, buffer)\n\u001b[1;32m   1135\u001b[0m     \u001b[39melse\u001b[39;00m:\n\u001b[1;32m   1136\u001b[0m         \u001b[39mreturn\u001b[39;00m \u001b[39mself\u001b[39m\u001b[39m.\u001b[39m_sslobj\u001b[39m.\u001b[39mread(\u001b[39mlen\u001b[39m)\n",
      "\u001b[0;31mKeyboardInterrupt\u001b[0m: "
     ]
    },
    {
     "name": "stderr",
     "output_type": "stream",
     "text": [
      "  1%|          | 5238784/440473133 [09:33<18:50:03, 6419.05B/s]"
     ]
    }
   ],
   "source": [
    "model_name = 'bert-base-uncased'\n",
    "tokenizer = BertTokenizer.from_pretrained(model_name)\n",
    "model = BertForSequenceClassification.from_pretrained(model_name)\n"
   ]
  },
  {
   "cell_type": "code",
   "execution_count": 5,
   "metadata": {},
   "outputs": [
    {
     "name": "stdout",
     "output_type": "stream",
     "text": [
      "5\n"
     ]
    }
   ],
   "source": [
    "arr = [1,9,6,4,5]\n",
    "n = len(arr)\n",
    "inv = 0 \n",
    "for i in range(0,n-1):\n",
    "    for j in range(i+1,n):\n",
    "        if(arr[i]>arr[j]):\n",
    "            inv=inv+1\n",
    "print(inv)"
   ]
  },
  {
   "cell_type": "code",
   "execution_count": 6,
   "metadata": {},
   "outputs": [
    {
     "name": "stdout",
     "output_type": "stream",
     "text": [
      "[1, 2, 3, 4]\n"
     ]
    }
   ],
   "source": [
    "n = int(input())\n",
    "Arr = list(map(int,input().split()))\n",
    "print(Arr)"
   ]
  },
  {
   "cell_type": "code",
   "execution_count": 10,
   "metadata": {},
   "outputs": [
    {
     "name": "stdout",
     "output_type": "stream",
     "text": [
      "3\n"
     ]
    }
   ],
   "source": [
    "n = int(input())\n",
    "c = 0\n",
    "Arr = list(map(int,input().split(',')))\n",
    "for i in range(n-1):\n",
    "    for j in range(i+1,n):\n",
    "        if Arr[i]>Arr[j]:\n",
    "            c+=1\n",
    "print(c)"
   ]
  },
  {
   "cell_type": "code",
   "execution_count": 18,
   "metadata": {},
   "outputs": [
    {
     "ename": "UnboundLocalError",
     "evalue": "cannot access local variable 'ctr' where it is not associated with a value",
     "output_type": "error",
     "traceback": [
      "\u001b[0;31m---------------------------------------------------------------------------\u001b[0m",
      "\u001b[0;31mUnboundLocalError\u001b[0m                         Traceback (most recent call last)",
      "Cell \u001b[0;32mIn[18], line 22\u001b[0m\n\u001b[1;32m     20\u001b[0m c \u001b[39m=\u001b[39m \u001b[39m0\u001b[39m\n\u001b[1;32m     21\u001b[0m Arr \u001b[39m=\u001b[39m \u001b[39mlist\u001b[39m(\u001b[39mmap\u001b[39m(\u001b[39mint\u001b[39m,\u001b[39minput\u001b[39m()\u001b[39m.\u001b[39msplit(\u001b[39m'\u001b[39m\u001b[39m,\u001b[39m\u001b[39m'\u001b[39m)))\n\u001b[0;32m---> 22\u001b[0m mergeSort(Arr)\n\u001b[1;32m     23\u001b[0m \u001b[39mprint\u001b[39m(ctr)\n",
      "Cell \u001b[0;32mIn[18], line 8\u001b[0m, in \u001b[0;36mmergeSort\u001b[0;34m(arr)\u001b[0m\n\u001b[1;32m      6\u001b[0m r_arr \u001b[39m=\u001b[39m arr[mid:]\n\u001b[1;32m      7\u001b[0m mergeSort(l_arr)\n\u001b[0;32m----> 8\u001b[0m mergeSort(r_arr)\n\u001b[1;32m     10\u001b[0m i\u001b[39m=\u001b[39mj\u001b[39m=\u001b[39m\u001b[39m0\u001b[39m\n\u001b[1;32m     12\u001b[0m \u001b[39mwhile\u001b[39;00m i\u001b[39m<\u001b[39m\u001b[39mlen\u001b[39m(l_arr) \u001b[39mand\u001b[39;00m j\u001b[39m<\u001b[39m\u001b[39mlen\u001b[39m(r_arr):\n",
      "Cell \u001b[0;32mIn[18], line 14\u001b[0m, in \u001b[0;36mmergeSort\u001b[0;34m(arr)\u001b[0m\n\u001b[1;32m     12\u001b[0m \u001b[39mwhile\u001b[39;00m i\u001b[39m<\u001b[39m\u001b[39mlen\u001b[39m(l_arr) \u001b[39mand\u001b[39;00m j\u001b[39m<\u001b[39m\u001b[39mlen\u001b[39m(r_arr):\n\u001b[1;32m     13\u001b[0m     \u001b[39mif\u001b[39;00m l_arr[i]\u001b[39m>\u001b[39mr_arr[j]:\n\u001b[0;32m---> 14\u001b[0m         ctr\u001b[39m+\u001b[39m\u001b[39m=\u001b[39m\u001b[39m1\u001b[39m\n\u001b[1;32m     15\u001b[0m         j\u001b[39m+\u001b[39m\u001b[39m=\u001b[39m\u001b[39m1\u001b[39m\n\u001b[1;32m     16\u001b[0m     \u001b[39melse\u001b[39;00m:\n",
      "\u001b[0;31mUnboundLocalError\u001b[0m: cannot access local variable 'ctr' where it is not associated with a value"
     ]
    }
   ],
   "source": [
    "ctr = 0\n",
    "def mergeSort(arr,ctr):\n",
    "    if len(arr)>1:\n",
    "        mid = len(arr)//2\n",
    "        l_arr = arr[:mid]\n",
    "        r_arr = arr[mid:]\n",
    "        mergeSort(l_arr,ctr)\n",
    "        mergeSort(r_arr,ctr)\n",
    "\n",
    "        i=j=0\n",
    "\n",
    "        while i<len(l_arr) and j<len(r_arr):\n",
    "            if l_arr[i]>r_arr[j]:\n",
    "                ctr+=1\n",
    "                j+=1\n",
    "            else:\n",
    "                i+=1\n",
    "\n",
    "n = int(input())\n",
    "c = 0\n",
    "Arr = list(map(int,input().split(',')))\n",
    "mergeSort(Arr)\n",
    "print(ctr)"
   ]
  },
  {
   "cell_type": "code",
   "execution_count": null,
   "metadata": {},
   "outputs": [],
   "source": [
    "def merge_split(arr):\n",
    "    if len(arr)>1:\n",
    "        mid = n//2\n",
    "        left_arr = arr[:mid]\n",
    "        right_arr = arr[mid:]\n",
    "        merge_split(left_arr)\n",
    "        merge_split(right_arr)\n",
    "        i = j =0\n",
    "        while i<len(left_arr) and j<len(right_arr):\n",
    "            if left_arr[i] > right_arr[j]:\n",
    "                "
   ]
  },
  {
   "cell_type": "code",
   "execution_count": 20,
   "metadata": {},
   "outputs": [
    {
     "name": "stdout",
     "output_type": "stream",
     "text": [
      "[170, 45, 75, 90, 802, 24, 2, 66]\n"
     ]
    }
   ],
   "source": [
    "def Radixsort(arr):\n",
    "    m = max(arr)\n",
    "    digit = 1\n",
    "    while (m // digit > 0):\n",
    "        buckets = []\n",
    "        for i in range(10):\n",
    "            buckets.append([])\n",
    "        # print(buckets)\n",
    "        for i in range(len(arr)):\n",
    "            index = arr[i]//digit\n",
    "            buckets[index % 10].append(arr[i])\n",
    "        digit = digit * 10\n",
    "        arr=[]\n",
    "        for container in buckets:\n",
    "            for elements in container:\n",
    "                arr.append(elements)\n",
    "arr = [170, 45, 75, 90, 802, 24, 2, 66]\n",
    "Radixsort(arr)\n",
    "print(arr)"
   ]
  },
  {
   "cell_type": "code",
   "execution_count": 21,
   "metadata": {},
   "outputs": [
    {
     "name": "stdout",
     "output_type": "stream",
     "text": [
      "8\n",
      "[1, 2, 3, 3, 5, 5]\n"
     ]
    }
   ],
   "source": [
    "def merge_sort_and_count_inversions(arr, lb, ub):\n",
    "    global count\n",
    "    if lb < ub:\n",
    "        mid = (lb + ub) // 2\n",
    "        merge_sort_and_count_inversions(arr, lb, mid)\n",
    "        merge_sort_and_count_inversions(arr, mid + 1, ub)\n",
    "        merge(arr, lb, mid, ub)\n",
    "\n",
    "def merge(arr, lb, mid, ub):\n",
    "    global b, count\n",
    "    i = lb\n",
    "    j = mid + 1\n",
    "    k = lb\n",
    "    \n",
    "    while i <= mid and j <= ub:\n",
    "        if arr[i] <= arr[j]:\n",
    "            b[k] = arr[i]\n",
    "            i += 1\n",
    "        else:\n",
    "            count += (mid - i + 1)  # Increment count by the number of remaining elements in the left subarray\n",
    "            b[k] = arr[j]\n",
    "            j += 1\n",
    "        k += 1\n",
    "        \n",
    "    while i <= mid:\n",
    "        b[k] = arr[i]\n",
    "        i += 1\n",
    "        k += 1\n",
    "    \n",
    "    while j <= ub:\n",
    "        b[k] = arr[j]\n",
    "        j += 1\n",
    "        k += 1\n",
    "    \n",
    "    for index in range(lb, ub + 1):\n",
    "        arr[index] = b[index]\n",
    "\n",
    "n=int(input())\n",
    "A=list(map(int,input().split(\",\")))\n",
    "b=[0]*n\n",
    "count = 0\n",
    "merge_sort_and_count_inversions(A, 0, n-1)\n",
    "print(count)\n",
    "print(b)"
   ]
  },
  {
   "cell_type": "code",
   "execution_count": 23,
   "metadata": {},
   "outputs": [
    {
     "name": "stdout",
     "output_type": "stream",
     "text": [
      "[9156678, 7123456, 1178934, 9111111, 8734567]\n",
      "[1178934, 7123456, 8734567, 9156678, 9111111]\n"
     ]
    }
   ],
   "source": [
    "def extractAreacode(no, d):\n",
    "    return int(no//pow(10, d-1))%10\n",
    "\n",
    "def funSort(list,numberofphones, digitpos,maxdigits):\n",
    "\n",
    "    if digitpos > maxdigits:\n",
    "        return\n",
    "    #@start-editable@\n",
    "    buckets= []\n",
    "    for i in range(10):\n",
    "        buckets.append([])\n",
    "    \n",
    "    for i in range(len(list)):\n",
    "        index = list[i]\n",
    "        area_code = extractAreacode(index,digitpos)\n",
    "        buckets[area_code].append(index)\n",
    "    \n",
    "    list = []\n",
    "    for cont in buckets:\n",
    "        for ele in cont:\n",
    "            list.append(ele)\n",
    "    print(list)            \n",
    "        \n",
    "    funSort(list,numberofphones,digitpos+1,maxdigits)\n",
    "    #@end-editable@\n",
    "\n",
    "def getPhoneNumbers():\n",
    "    phone = []\n",
    "    noOfElements = int(input())\n",
    "    while noOfElements > 0:\n",
    "        element=int(input())\n",
    "        phone.append(element)\n",
    "        noOfElements-=1\n",
    "    funSort(phone,len(phone), 6,7)\n",
    "\n",
    "def main():\n",
    "    getPhoneNumbers()\n",
    "    \n",
    "if __name__ == '__main__':\n",
    "    main()"
   ]
  },
  {
   "cell_type": "code",
   "execution_count": null,
   "metadata": {},
   "outputs": [],
   "source": []
  }
 ],
 "metadata": {
  "kernelspec": {
   "display_name": "tf",
   "language": "python",
   "name": "python3"
  },
  "language_info": {
   "codemirror_mode": {
    "name": "ipython",
    "version": 3
   },
   "file_extension": ".py",
   "mimetype": "text/x-python",
   "name": "python",
   "nbconvert_exporter": "python",
   "pygments_lexer": "ipython3",
   "version": "3.11.4"
  },
  "orig_nbformat": 4
 },
 "nbformat": 4,
 "nbformat_minor": 2
}
