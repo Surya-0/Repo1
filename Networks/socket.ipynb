{
 "cells": [
  {
   "cell_type": "markdown",
   "metadata": {},
   "source": [
    "## TCP socket\n"
   ]
  },
  {
   "cell_type": "code",
   "execution_count": null,
   "metadata": {},
   "outputs": [],
   "source": [
    "from socket import *\n",
    "serverPort = 12000\n",
    "serverSocket = socket(AF_INET,SOCK_STREAM)\n",
    "serverSocket.bind(('',serverPort))\n",
    "serverSocket.listen(1)\n",
    "print (\"The server is ready to receive\")\n",
    "while True:\n",
    "     connectionSocket, addr = serverSocket.accept()\n",
    "     sentence = connectionSocket.recv(1024).decode()\n",
    "     capitalizedSentence = sentence.upper()\n",
    "     connectionSocket.send(capitalizedSentence.encode())\n",
    "     connectionSocket.close()\n"
   ]
  },
  {
   "cell_type": "markdown",
   "metadata": {},
   "source": [
    "## TCP client"
   ]
  },
  {
   "cell_type": "code",
   "execution_count": null,
   "metadata": {},
   "outputs": [],
   "source": [
    "from socket import "
   ]
  }
 ],
 "metadata": {
  "kernelspec": {
   "display_name": "tf",
   "language": "python",
   "name": "python3"
  },
  "language_info": {
   "codemirror_mode": {
    "name": "ipython",
    "version": 3
   },
   "file_extension": ".py",
   "mimetype": "text/x-python",
   "name": "python",
   "nbconvert_exporter": "python",
   "pygments_lexer": "ipython3",
   "version": "3.11.4"
  },
  "orig_nbformat": 4
 },
 "nbformat": 4,
 "nbformat_minor": 2
}
