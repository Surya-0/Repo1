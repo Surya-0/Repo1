{
 "cells": [
  {
   "cell_type": "code",
   "execution_count": 1,
   "id": "initial_id",
   "metadata": {
    "collapsed": true,
    "ExecuteTime": {
     "end_time": "2024-05-03T16:35:38.563608Z",
     "start_time": "2024-05-03T16:35:38.099956Z"
    }
   },
   "outputs": [],
   "source": [
    "import pandas as pd\n",
    "import numpy as np\n",
    "import matplotlib.pyplot as plt"
   ]
  },
  {
   "cell_type": "code",
   "execution_count": 2,
   "outputs": [
    {
     "data": {
      "text/plain": "                                                 title      price  \\\n0    Apple 2024 MacBook Air 13-inch Laptop with M3 ...    $979.11   \n1    Apple 2022 MacBook Air Laptop with M2 chip: 13...    $806.88   \n2    Apple 2024 MacBook Air 15-inch Laptop with M3 ...  $1,200.37   \n3    Apple 2017 Macbook Air with 1.8GHz Intel Core ...    $234.00   \n4    Apple 2023 MacBook Pro Laptop M3 Pro chip with...  $2,023.08   \n..                                                 ...        ...   \n112  Microsoft Surface Laptop 3 – 13.5\" Touch-Scree...    $647.28   \n113  Microsoft Surface Laptop Studio 2 14.4\" Touchs...  $1,419.99   \n114  Microsoft Surface Pro 9 (2022), 13\" 2-in-1 Tab...  $1,173.14   \n115  Microsoft Surface Pro 9 (2022), 13\" 2-in-1 Tab...  $1,249.99   \n116  Microsoft Surface Pro 9 (2022), 13\" 2-in-1 Tab...    $698.60   \n\n                 rating        reviews                        availability  \n0    4.4 out of 5 stars     58 ratings  Only 4 left in stock - order soon.  \n1    4.4 out of 5 stars  2,445 ratings  Only 4 left in stock - order soon.  \n2    4.5 out of 5 stars     48 ratings  Only 1 left in stock - order soon.  \n3    4.1 out of 5 stars    493 ratings                            In Stock  \n4    4.7 out of 5 stars    230 ratings  Only 3 left in stock - order soon.  \n..                  ...            ...                                 ...  \n112  4.5 out of 5 stars    531 ratings  Only 1 left in stock - order soon.  \n113  3.8 out of 5 stars      3 ratings                            In Stock  \n114  4.5 out of 5 stars    827 ratings                            In Stock  \n115  4.5 out of 5 stars    827 ratings  Only 2 left in stock - order soon.  \n116  4.5 out of 5 stars    827 ratings  Only 2 left in stock - order soon.  \n\n[117 rows x 5 columns]",
      "text/html": "<div>\n<style scoped>\n    .dataframe tbody tr th:only-of-type {\n        vertical-align: middle;\n    }\n\n    .dataframe tbody tr th {\n        vertical-align: top;\n    }\n\n    .dataframe thead th {\n        text-align: right;\n    }\n</style>\n<table border=\"1\" class=\"dataframe\">\n  <thead>\n    <tr style=\"text-align: right;\">\n      <th></th>\n      <th>title</th>\n      <th>price</th>\n      <th>rating</th>\n      <th>reviews</th>\n      <th>availability</th>\n    </tr>\n  </thead>\n  <tbody>\n    <tr>\n      <th>0</th>\n      <td>Apple 2024 MacBook Air 13-inch Laptop with M3 ...</td>\n      <td>$979.11</td>\n      <td>4.4 out of 5 stars</td>\n      <td>58 ratings</td>\n      <td>Only 4 left in stock - order soon.</td>\n    </tr>\n    <tr>\n      <th>1</th>\n      <td>Apple 2022 MacBook Air Laptop with M2 chip: 13...</td>\n      <td>$806.88</td>\n      <td>4.4 out of 5 stars</td>\n      <td>2,445 ratings</td>\n      <td>Only 4 left in stock - order soon.</td>\n    </tr>\n    <tr>\n      <th>2</th>\n      <td>Apple 2024 MacBook Air 15-inch Laptop with M3 ...</td>\n      <td>$1,200.37</td>\n      <td>4.5 out of 5 stars</td>\n      <td>48 ratings</td>\n      <td>Only 1 left in stock - order soon.</td>\n    </tr>\n    <tr>\n      <th>3</th>\n      <td>Apple 2017 Macbook Air with 1.8GHz Intel Core ...</td>\n      <td>$234.00</td>\n      <td>4.1 out of 5 stars</td>\n      <td>493 ratings</td>\n      <td>In Stock</td>\n    </tr>\n    <tr>\n      <th>4</th>\n      <td>Apple 2023 MacBook Pro Laptop M3 Pro chip with...</td>\n      <td>$2,023.08</td>\n      <td>4.7 out of 5 stars</td>\n      <td>230 ratings</td>\n      <td>Only 3 left in stock - order soon.</td>\n    </tr>\n    <tr>\n      <th>...</th>\n      <td>...</td>\n      <td>...</td>\n      <td>...</td>\n      <td>...</td>\n      <td>...</td>\n    </tr>\n    <tr>\n      <th>112</th>\n      <td>Microsoft Surface Laptop 3 – 13.5\" Touch-Scree...</td>\n      <td>$647.28</td>\n      <td>4.5 out of 5 stars</td>\n      <td>531 ratings</td>\n      <td>Only 1 left in stock - order soon.</td>\n    </tr>\n    <tr>\n      <th>113</th>\n      <td>Microsoft Surface Laptop Studio 2 14.4\" Touchs...</td>\n      <td>$1,419.99</td>\n      <td>3.8 out of 5 stars</td>\n      <td>3 ratings</td>\n      <td>In Stock</td>\n    </tr>\n    <tr>\n      <th>114</th>\n      <td>Microsoft Surface Pro 9 (2022), 13\" 2-in-1 Tab...</td>\n      <td>$1,173.14</td>\n      <td>4.5 out of 5 stars</td>\n      <td>827 ratings</td>\n      <td>In Stock</td>\n    </tr>\n    <tr>\n      <th>115</th>\n      <td>Microsoft Surface Pro 9 (2022), 13\" 2-in-1 Tab...</td>\n      <td>$1,249.99</td>\n      <td>4.5 out of 5 stars</td>\n      <td>827 ratings</td>\n      <td>Only 2 left in stock - order soon.</td>\n    </tr>\n    <tr>\n      <th>116</th>\n      <td>Microsoft Surface Pro 9 (2022), 13\" 2-in-1 Tab...</td>\n      <td>$698.60</td>\n      <td>4.5 out of 5 stars</td>\n      <td>827 ratings</td>\n      <td>Only 2 left in stock - order soon.</td>\n    </tr>\n  </tbody>\n</table>\n<p>117 rows × 5 columns</p>\n</div>"
     },
     "execution_count": 2,
     "metadata": {},
     "output_type": "execute_result"
    }
   ],
   "source": [
    "df = pd.read_csv('../Scraped_datasets/Final_merged_data.csv')\n",
    "df"
   ],
   "metadata": {
    "collapsed": false,
    "ExecuteTime": {
     "end_time": "2024-05-03T16:35:38.570185Z",
     "start_time": "2024-05-03T16:35:38.562532Z"
    }
   },
   "id": "f57555fb503cbd66"
  },
  {
   "cell_type": "code",
   "execution_count": 3,
   "outputs": [],
   "source": [
    "# Create a new column 'brand' by splitting the 'title' column and keeping the first element\n",
    "df['brand'] = df['title'].str.split(\" \").str[0]\n",
    "\n",
    "# Create a new column 'product_details' by splitting the 'title' column and keeping the rest of the title\n",
    "df['product_details'] = df['title'].str.split(\" \").str[1:].str.join(\" \")"
   ],
   "metadata": {
    "collapsed": false,
    "ExecuteTime": {
     "end_time": "2024-05-03T16:35:38.583139Z",
     "start_time": "2024-05-03T16:35:38.571268Z"
    }
   },
   "id": "74c557d0b15154aa"
  },
  {
   "cell_type": "code",
   "execution_count": 4,
   "outputs": [
    {
     "data": {
      "text/plain": "                                                 title      price  \\\n0    Apple 2024 MacBook Air 13-inch Laptop with M3 ...    $979.11   \n1    Apple 2022 MacBook Air Laptop with M2 chip: 13...    $806.88   \n2    Apple 2024 MacBook Air 15-inch Laptop with M3 ...  $1,200.37   \n3    Apple 2017 Macbook Air with 1.8GHz Intel Core ...    $234.00   \n4    Apple 2023 MacBook Pro Laptop M3 Pro chip with...  $2,023.08   \n..                                                 ...        ...   \n112  Microsoft Surface Laptop 3 – 13.5\" Touch-Scree...    $647.28   \n113  Microsoft Surface Laptop Studio 2 14.4\" Touchs...  $1,419.99   \n114  Microsoft Surface Pro 9 (2022), 13\" 2-in-1 Tab...  $1,173.14   \n115  Microsoft Surface Pro 9 (2022), 13\" 2-in-1 Tab...  $1,249.99   \n116  Microsoft Surface Pro 9 (2022), 13\" 2-in-1 Tab...    $698.60   \n\n                 rating        reviews                        availability  \\\n0    4.4 out of 5 stars     58 ratings  Only 4 left in stock - order soon.   \n1    4.4 out of 5 stars  2,445 ratings  Only 4 left in stock - order soon.   \n2    4.5 out of 5 stars     48 ratings  Only 1 left in stock - order soon.   \n3    4.1 out of 5 stars    493 ratings                            In Stock   \n4    4.7 out of 5 stars    230 ratings  Only 3 left in stock - order soon.   \n..                  ...            ...                                 ...   \n112  4.5 out of 5 stars    531 ratings  Only 1 left in stock - order soon.   \n113  3.8 out of 5 stars      3 ratings                            In Stock   \n114  4.5 out of 5 stars    827 ratings                            In Stock   \n115  4.5 out of 5 stars    827 ratings  Only 2 left in stock - order soon.   \n116  4.5 out of 5 stars    827 ratings  Only 2 left in stock - order soon.   \n\n         brand                                    product_details  \n0        Apple  2024 MacBook Air 13-inch Laptop with M3 chip: ...  \n1        Apple  2022 MacBook Air Laptop with M2 chip: 13.6-inc...  \n2        Apple  2024 MacBook Air 15-inch Laptop with M3 chip: ...  \n3        Apple  2017 Macbook Air with 1.8GHz Intel Core i5 (13...  \n4        Apple  2023 MacBook Pro Laptop M3 Pro chip with 12‑co...  \n..         ...                                                ...  \n112  Microsoft  Surface Laptop 3 – 13.5\" Touch-Screen – Intel ...  \n113  Microsoft  Surface Laptop Studio 2 14.4\" Touchscreen Conv...  \n114  Microsoft  Surface Pro 9 (2022), 13\" 2-in-1 Tablet & Lapt...  \n115  Microsoft  Surface Pro 9 (2022), 13\" 2-in-1 Tablet & Lapt...  \n116  Microsoft  Surface Pro 9 (2022), 13\" 2-in-1 Tablet & Lapt...  \n\n[117 rows x 7 columns]",
      "text/html": "<div>\n<style scoped>\n    .dataframe tbody tr th:only-of-type {\n        vertical-align: middle;\n    }\n\n    .dataframe tbody tr th {\n        vertical-align: top;\n    }\n\n    .dataframe thead th {\n        text-align: right;\n    }\n</style>\n<table border=\"1\" class=\"dataframe\">\n  <thead>\n    <tr style=\"text-align: right;\">\n      <th></th>\n      <th>title</th>\n      <th>price</th>\n      <th>rating</th>\n      <th>reviews</th>\n      <th>availability</th>\n      <th>brand</th>\n      <th>product_details</th>\n    </tr>\n  </thead>\n  <tbody>\n    <tr>\n      <th>0</th>\n      <td>Apple 2024 MacBook Air 13-inch Laptop with M3 ...</td>\n      <td>$979.11</td>\n      <td>4.4 out of 5 stars</td>\n      <td>58 ratings</td>\n      <td>Only 4 left in stock - order soon.</td>\n      <td>Apple</td>\n      <td>2024 MacBook Air 13-inch Laptop with M3 chip: ...</td>\n    </tr>\n    <tr>\n      <th>1</th>\n      <td>Apple 2022 MacBook Air Laptop with M2 chip: 13...</td>\n      <td>$806.88</td>\n      <td>4.4 out of 5 stars</td>\n      <td>2,445 ratings</td>\n      <td>Only 4 left in stock - order soon.</td>\n      <td>Apple</td>\n      <td>2022 MacBook Air Laptop with M2 chip: 13.6-inc...</td>\n    </tr>\n    <tr>\n      <th>2</th>\n      <td>Apple 2024 MacBook Air 15-inch Laptop with M3 ...</td>\n      <td>$1,200.37</td>\n      <td>4.5 out of 5 stars</td>\n      <td>48 ratings</td>\n      <td>Only 1 left in stock - order soon.</td>\n      <td>Apple</td>\n      <td>2024 MacBook Air 15-inch Laptop with M3 chip: ...</td>\n    </tr>\n    <tr>\n      <th>3</th>\n      <td>Apple 2017 Macbook Air with 1.8GHz Intel Core ...</td>\n      <td>$234.00</td>\n      <td>4.1 out of 5 stars</td>\n      <td>493 ratings</td>\n      <td>In Stock</td>\n      <td>Apple</td>\n      <td>2017 Macbook Air with 1.8GHz Intel Core i5 (13...</td>\n    </tr>\n    <tr>\n      <th>4</th>\n      <td>Apple 2023 MacBook Pro Laptop M3 Pro chip with...</td>\n      <td>$2,023.08</td>\n      <td>4.7 out of 5 stars</td>\n      <td>230 ratings</td>\n      <td>Only 3 left in stock - order soon.</td>\n      <td>Apple</td>\n      <td>2023 MacBook Pro Laptop M3 Pro chip with 12‑co...</td>\n    </tr>\n    <tr>\n      <th>...</th>\n      <td>...</td>\n      <td>...</td>\n      <td>...</td>\n      <td>...</td>\n      <td>...</td>\n      <td>...</td>\n      <td>...</td>\n    </tr>\n    <tr>\n      <th>112</th>\n      <td>Microsoft Surface Laptop 3 – 13.5\" Touch-Scree...</td>\n      <td>$647.28</td>\n      <td>4.5 out of 5 stars</td>\n      <td>531 ratings</td>\n      <td>Only 1 left in stock - order soon.</td>\n      <td>Microsoft</td>\n      <td>Surface Laptop 3 – 13.5\" Touch-Screen – Intel ...</td>\n    </tr>\n    <tr>\n      <th>113</th>\n      <td>Microsoft Surface Laptop Studio 2 14.4\" Touchs...</td>\n      <td>$1,419.99</td>\n      <td>3.8 out of 5 stars</td>\n      <td>3 ratings</td>\n      <td>In Stock</td>\n      <td>Microsoft</td>\n      <td>Surface Laptop Studio 2 14.4\" Touchscreen Conv...</td>\n    </tr>\n    <tr>\n      <th>114</th>\n      <td>Microsoft Surface Pro 9 (2022), 13\" 2-in-1 Tab...</td>\n      <td>$1,173.14</td>\n      <td>4.5 out of 5 stars</td>\n      <td>827 ratings</td>\n      <td>In Stock</td>\n      <td>Microsoft</td>\n      <td>Surface Pro 9 (2022), 13\" 2-in-1 Tablet &amp; Lapt...</td>\n    </tr>\n    <tr>\n      <th>115</th>\n      <td>Microsoft Surface Pro 9 (2022), 13\" 2-in-1 Tab...</td>\n      <td>$1,249.99</td>\n      <td>4.5 out of 5 stars</td>\n      <td>827 ratings</td>\n      <td>Only 2 left in stock - order soon.</td>\n      <td>Microsoft</td>\n      <td>Surface Pro 9 (2022), 13\" 2-in-1 Tablet &amp; Lapt...</td>\n    </tr>\n    <tr>\n      <th>116</th>\n      <td>Microsoft Surface Pro 9 (2022), 13\" 2-in-1 Tab...</td>\n      <td>$698.60</td>\n      <td>4.5 out of 5 stars</td>\n      <td>827 ratings</td>\n      <td>Only 2 left in stock - order soon.</td>\n      <td>Microsoft</td>\n      <td>Surface Pro 9 (2022), 13\" 2-in-1 Tablet &amp; Lapt...</td>\n    </tr>\n  </tbody>\n</table>\n<p>117 rows × 7 columns</p>\n</div>"
     },
     "execution_count": 4,
     "metadata": {},
     "output_type": "execute_result"
    }
   ],
   "source": [
    "df"
   ],
   "metadata": {
    "collapsed": false,
    "ExecuteTime": {
     "end_time": "2024-05-03T16:35:38.583801Z",
     "start_time": "2024-05-03T16:35:38.573461Z"
    }
   },
   "id": "9038df41847fc707"
  },
  {
   "cell_type": "code",
   "execution_count": 5,
   "outputs": [
    {
     "data": {
      "text/plain": "0      Apple 2024 MacBook Air 13-inch Laptop with M3 ...\n1      Apple 2022 MacBook Air Laptop with M2 chip: 13...\n2      Apple 2024 MacBook Air 15-inch Laptop with M3 ...\n3      Apple 2017 Macbook Air with 1.8GHz Intel Core ...\n4      Apple 2023 MacBook Pro Laptop M3 Pro chip with...\n                             ...                        \n112    Microsoft Surface Laptop 3 – 13.5\" Touch-Scree...\n113    Microsoft Surface Laptop Studio 2 14.4\" Touchs...\n114    Microsoft Surface Pro 9 (2022), 13\" 2-in-1 Tab...\n115    Microsoft Surface Pro 9 (2022), 13\" 2-in-1 Tab...\n116    Microsoft Surface Pro 9 (2022), 13\" 2-in-1 Tab...\nName: title, Length: 117, dtype: object"
     },
     "execution_count": 5,
     "metadata": {},
     "output_type": "execute_result"
    }
   ],
   "source": [
    "df['title']"
   ],
   "metadata": {
    "collapsed": false,
    "ExecuteTime": {
     "end_time": "2024-05-03T16:35:38.583998Z",
     "start_time": "2024-05-03T16:35:38.579662Z"
    }
   },
   "id": "3e0c31c239de7c0b"
  },
  {
   "cell_type": "code",
   "execution_count": 6,
   "outputs": [],
   "source": [
    "import pandas as pd\n",
    "\n",
    "# Assuming df is your DataFrame and it has columns 'brand' and 'product_details'\n",
    "df['brand_product'] = df['brand'] + \"_\" + df['product_details']\n",
    "\n",
    "# Assign unique id to each unique brand_product\n",
    "df['product_id'] = pd.factorize(df['brand_product'])[0]"
   ],
   "metadata": {
    "collapsed": false,
    "ExecuteTime": {
     "end_time": "2024-05-03T16:35:38.599478Z",
     "start_time": "2024-05-03T16:35:38.581833Z"
    }
   },
   "id": "9a2c56f49022f5ef"
  },
  {
   "cell_type": "code",
   "execution_count": 7,
   "outputs": [
    {
     "data": {
      "text/plain": "                                                 title      price  \\\n0    Apple 2024 MacBook Air 13-inch Laptop with M3 ...    $979.11   \n1    Apple 2022 MacBook Air Laptop with M2 chip: 13...    $806.88   \n2    Apple 2024 MacBook Air 15-inch Laptop with M3 ...  $1,200.37   \n3    Apple 2017 Macbook Air with 1.8GHz Intel Core ...    $234.00   \n4    Apple 2023 MacBook Pro Laptop M3 Pro chip with...  $2,023.08   \n..                                                 ...        ...   \n112  Microsoft Surface Laptop 3 – 13.5\" Touch-Scree...    $647.28   \n113  Microsoft Surface Laptop Studio 2 14.4\" Touchs...  $1,419.99   \n114  Microsoft Surface Pro 9 (2022), 13\" 2-in-1 Tab...  $1,173.14   \n115  Microsoft Surface Pro 9 (2022), 13\" 2-in-1 Tab...  $1,249.99   \n116  Microsoft Surface Pro 9 (2022), 13\" 2-in-1 Tab...    $698.60   \n\n                 rating        reviews                        availability  \\\n0    4.4 out of 5 stars     58 ratings  Only 4 left in stock - order soon.   \n1    4.4 out of 5 stars  2,445 ratings  Only 4 left in stock - order soon.   \n2    4.5 out of 5 stars     48 ratings  Only 1 left in stock - order soon.   \n3    4.1 out of 5 stars    493 ratings                            In Stock   \n4    4.7 out of 5 stars    230 ratings  Only 3 left in stock - order soon.   \n..                  ...            ...                                 ...   \n112  4.5 out of 5 stars    531 ratings  Only 1 left in stock - order soon.   \n113  3.8 out of 5 stars      3 ratings                            In Stock   \n114  4.5 out of 5 stars    827 ratings                            In Stock   \n115  4.5 out of 5 stars    827 ratings  Only 2 left in stock - order soon.   \n116  4.5 out of 5 stars    827 ratings  Only 2 left in stock - order soon.   \n\n         brand                                    product_details  \\\n0        Apple  2024 MacBook Air 13-inch Laptop with M3 chip: ...   \n1        Apple  2022 MacBook Air Laptop with M2 chip: 13.6-inc...   \n2        Apple  2024 MacBook Air 15-inch Laptop with M3 chip: ...   \n3        Apple  2017 Macbook Air with 1.8GHz Intel Core i5 (13...   \n4        Apple  2023 MacBook Pro Laptop M3 Pro chip with 12‑co...   \n..         ...                                                ...   \n112  Microsoft  Surface Laptop 3 – 13.5\" Touch-Screen – Intel ...   \n113  Microsoft  Surface Laptop Studio 2 14.4\" Touchscreen Conv...   \n114  Microsoft  Surface Pro 9 (2022), 13\" 2-in-1 Tablet & Lapt...   \n115  Microsoft  Surface Pro 9 (2022), 13\" 2-in-1 Tablet & Lapt...   \n116  Microsoft  Surface Pro 9 (2022), 13\" 2-in-1 Tablet & Lapt...   \n\n                                         brand_product  product_id  \n0    Apple_2024 MacBook Air 13-inch Laptop with M3 ...           0  \n1    Apple_2022 MacBook Air Laptop with M2 chip: 13...           1  \n2    Apple_2024 MacBook Air 15-inch Laptop with M3 ...           2  \n3    Apple_2017 Macbook Air with 1.8GHz Intel Core ...           3  \n4    Apple_2023 MacBook Pro Laptop M3 Pro chip with...           4  \n..                                                 ...         ...  \n112  Microsoft_Surface Laptop 3 – 13.5\" Touch-Scree...         106  \n113  Microsoft_Surface Laptop Studio 2 14.4\" Touchs...         107  \n114  Microsoft_Surface Pro 9 (2022), 13\" 2-in-1 Tab...         108  \n115  Microsoft_Surface Pro 9 (2022), 13\" 2-in-1 Tab...         109  \n116  Microsoft_Surface Pro 9 (2022), 13\" 2-in-1 Tab...         110  \n\n[117 rows x 9 columns]",
      "text/html": "<div>\n<style scoped>\n    .dataframe tbody tr th:only-of-type {\n        vertical-align: middle;\n    }\n\n    .dataframe tbody tr th {\n        vertical-align: top;\n    }\n\n    .dataframe thead th {\n        text-align: right;\n    }\n</style>\n<table border=\"1\" class=\"dataframe\">\n  <thead>\n    <tr style=\"text-align: right;\">\n      <th></th>\n      <th>title</th>\n      <th>price</th>\n      <th>rating</th>\n      <th>reviews</th>\n      <th>availability</th>\n      <th>brand</th>\n      <th>product_details</th>\n      <th>brand_product</th>\n      <th>product_id</th>\n    </tr>\n  </thead>\n  <tbody>\n    <tr>\n      <th>0</th>\n      <td>Apple 2024 MacBook Air 13-inch Laptop with M3 ...</td>\n      <td>$979.11</td>\n      <td>4.4 out of 5 stars</td>\n      <td>58 ratings</td>\n      <td>Only 4 left in stock - order soon.</td>\n      <td>Apple</td>\n      <td>2024 MacBook Air 13-inch Laptop with M3 chip: ...</td>\n      <td>Apple_2024 MacBook Air 13-inch Laptop with M3 ...</td>\n      <td>0</td>\n    </tr>\n    <tr>\n      <th>1</th>\n      <td>Apple 2022 MacBook Air Laptop with M2 chip: 13...</td>\n      <td>$806.88</td>\n      <td>4.4 out of 5 stars</td>\n      <td>2,445 ratings</td>\n      <td>Only 4 left in stock - order soon.</td>\n      <td>Apple</td>\n      <td>2022 MacBook Air Laptop with M2 chip: 13.6-inc...</td>\n      <td>Apple_2022 MacBook Air Laptop with M2 chip: 13...</td>\n      <td>1</td>\n    </tr>\n    <tr>\n      <th>2</th>\n      <td>Apple 2024 MacBook Air 15-inch Laptop with M3 ...</td>\n      <td>$1,200.37</td>\n      <td>4.5 out of 5 stars</td>\n      <td>48 ratings</td>\n      <td>Only 1 left in stock - order soon.</td>\n      <td>Apple</td>\n      <td>2024 MacBook Air 15-inch Laptop with M3 chip: ...</td>\n      <td>Apple_2024 MacBook Air 15-inch Laptop with M3 ...</td>\n      <td>2</td>\n    </tr>\n    <tr>\n      <th>3</th>\n      <td>Apple 2017 Macbook Air with 1.8GHz Intel Core ...</td>\n      <td>$234.00</td>\n      <td>4.1 out of 5 stars</td>\n      <td>493 ratings</td>\n      <td>In Stock</td>\n      <td>Apple</td>\n      <td>2017 Macbook Air with 1.8GHz Intel Core i5 (13...</td>\n      <td>Apple_2017 Macbook Air with 1.8GHz Intel Core ...</td>\n      <td>3</td>\n    </tr>\n    <tr>\n      <th>4</th>\n      <td>Apple 2023 MacBook Pro Laptop M3 Pro chip with...</td>\n      <td>$2,023.08</td>\n      <td>4.7 out of 5 stars</td>\n      <td>230 ratings</td>\n      <td>Only 3 left in stock - order soon.</td>\n      <td>Apple</td>\n      <td>2023 MacBook Pro Laptop M3 Pro chip with 12‑co...</td>\n      <td>Apple_2023 MacBook Pro Laptop M3 Pro chip with...</td>\n      <td>4</td>\n    </tr>\n    <tr>\n      <th>...</th>\n      <td>...</td>\n      <td>...</td>\n      <td>...</td>\n      <td>...</td>\n      <td>...</td>\n      <td>...</td>\n      <td>...</td>\n      <td>...</td>\n      <td>...</td>\n    </tr>\n    <tr>\n      <th>112</th>\n      <td>Microsoft Surface Laptop 3 – 13.5\" Touch-Scree...</td>\n      <td>$647.28</td>\n      <td>4.5 out of 5 stars</td>\n      <td>531 ratings</td>\n      <td>Only 1 left in stock - order soon.</td>\n      <td>Microsoft</td>\n      <td>Surface Laptop 3 – 13.5\" Touch-Screen – Intel ...</td>\n      <td>Microsoft_Surface Laptop 3 – 13.5\" Touch-Scree...</td>\n      <td>106</td>\n    </tr>\n    <tr>\n      <th>113</th>\n      <td>Microsoft Surface Laptop Studio 2 14.4\" Touchs...</td>\n      <td>$1,419.99</td>\n      <td>3.8 out of 5 stars</td>\n      <td>3 ratings</td>\n      <td>In Stock</td>\n      <td>Microsoft</td>\n      <td>Surface Laptop Studio 2 14.4\" Touchscreen Conv...</td>\n      <td>Microsoft_Surface Laptop Studio 2 14.4\" Touchs...</td>\n      <td>107</td>\n    </tr>\n    <tr>\n      <th>114</th>\n      <td>Microsoft Surface Pro 9 (2022), 13\" 2-in-1 Tab...</td>\n      <td>$1,173.14</td>\n      <td>4.5 out of 5 stars</td>\n      <td>827 ratings</td>\n      <td>In Stock</td>\n      <td>Microsoft</td>\n      <td>Surface Pro 9 (2022), 13\" 2-in-1 Tablet &amp; Lapt...</td>\n      <td>Microsoft_Surface Pro 9 (2022), 13\" 2-in-1 Tab...</td>\n      <td>108</td>\n    </tr>\n    <tr>\n      <th>115</th>\n      <td>Microsoft Surface Pro 9 (2022), 13\" 2-in-1 Tab...</td>\n      <td>$1,249.99</td>\n      <td>4.5 out of 5 stars</td>\n      <td>827 ratings</td>\n      <td>Only 2 left in stock - order soon.</td>\n      <td>Microsoft</td>\n      <td>Surface Pro 9 (2022), 13\" 2-in-1 Tablet &amp; Lapt...</td>\n      <td>Microsoft_Surface Pro 9 (2022), 13\" 2-in-1 Tab...</td>\n      <td>109</td>\n    </tr>\n    <tr>\n      <th>116</th>\n      <td>Microsoft Surface Pro 9 (2022), 13\" 2-in-1 Tab...</td>\n      <td>$698.60</td>\n      <td>4.5 out of 5 stars</td>\n      <td>827 ratings</td>\n      <td>Only 2 left in stock - order soon.</td>\n      <td>Microsoft</td>\n      <td>Surface Pro 9 (2022), 13\" 2-in-1 Tablet &amp; Lapt...</td>\n      <td>Microsoft_Surface Pro 9 (2022), 13\" 2-in-1 Tab...</td>\n      <td>110</td>\n    </tr>\n  </tbody>\n</table>\n<p>117 rows × 9 columns</p>\n</div>"
     },
     "execution_count": 7,
     "metadata": {},
     "output_type": "execute_result"
    }
   ],
   "source": [
    "df"
   ],
   "metadata": {
    "collapsed": false,
    "ExecuteTime": {
     "end_time": "2024-05-03T16:35:38.633580Z",
     "start_time": "2024-05-03T16:35:38.589260Z"
    }
   },
   "id": "b92467a66c6b8278"
  },
  {
   "cell_type": "code",
   "execution_count": 8,
   "outputs": [],
   "source": [
    "df.drop(columns=['brand_product'], inplace=True)"
   ],
   "metadata": {
    "collapsed": false,
    "ExecuteTime": {
     "end_time": "2024-05-03T16:35:38.652378Z",
     "start_time": "2024-05-03T16:35:38.593745Z"
    }
   },
   "id": "fed8a18454bdfab5"
  },
  {
   "cell_type": "code",
   "execution_count": 9,
   "outputs": [
    {
     "data": {
      "text/plain": "                                                 title      price  \\\n0    Apple 2024 MacBook Air 13-inch Laptop with M3 ...    $979.11   \n1    Apple 2022 MacBook Air Laptop with M2 chip: 13...    $806.88   \n2    Apple 2024 MacBook Air 15-inch Laptop with M3 ...  $1,200.37   \n3    Apple 2017 Macbook Air with 1.8GHz Intel Core ...    $234.00   \n4    Apple 2023 MacBook Pro Laptop M3 Pro chip with...  $2,023.08   \n..                                                 ...        ...   \n112  Microsoft Surface Laptop 3 – 13.5\" Touch-Scree...    $647.28   \n113  Microsoft Surface Laptop Studio 2 14.4\" Touchs...  $1,419.99   \n114  Microsoft Surface Pro 9 (2022), 13\" 2-in-1 Tab...  $1,173.14   \n115  Microsoft Surface Pro 9 (2022), 13\" 2-in-1 Tab...  $1,249.99   \n116  Microsoft Surface Pro 9 (2022), 13\" 2-in-1 Tab...    $698.60   \n\n                 rating        reviews                        availability  \\\n0    4.4 out of 5 stars     58 ratings  Only 4 left in stock - order soon.   \n1    4.4 out of 5 stars  2,445 ratings  Only 4 left in stock - order soon.   \n2    4.5 out of 5 stars     48 ratings  Only 1 left in stock - order soon.   \n3    4.1 out of 5 stars    493 ratings                            In Stock   \n4    4.7 out of 5 stars    230 ratings  Only 3 left in stock - order soon.   \n..                  ...            ...                                 ...   \n112  4.5 out of 5 stars    531 ratings  Only 1 left in stock - order soon.   \n113  3.8 out of 5 stars      3 ratings                            In Stock   \n114  4.5 out of 5 stars    827 ratings                            In Stock   \n115  4.5 out of 5 stars    827 ratings  Only 2 left in stock - order soon.   \n116  4.5 out of 5 stars    827 ratings  Only 2 left in stock - order soon.   \n\n         brand                                    product_details  product_id  \n0        Apple  2024 MacBook Air 13-inch Laptop with M3 chip: ...           0  \n1        Apple  2022 MacBook Air Laptop with M2 chip: 13.6-inc...           1  \n2        Apple  2024 MacBook Air 15-inch Laptop with M3 chip: ...           2  \n3        Apple  2017 Macbook Air with 1.8GHz Intel Core i5 (13...           3  \n4        Apple  2023 MacBook Pro Laptop M3 Pro chip with 12‑co...           4  \n..         ...                                                ...         ...  \n112  Microsoft  Surface Laptop 3 – 13.5\" Touch-Screen – Intel ...         106  \n113  Microsoft  Surface Laptop Studio 2 14.4\" Touchscreen Conv...         107  \n114  Microsoft  Surface Pro 9 (2022), 13\" 2-in-1 Tablet & Lapt...         108  \n115  Microsoft  Surface Pro 9 (2022), 13\" 2-in-1 Tablet & Lapt...         109  \n116  Microsoft  Surface Pro 9 (2022), 13\" 2-in-1 Tablet & Lapt...         110  \n\n[117 rows x 8 columns]",
      "text/html": "<div>\n<style scoped>\n    .dataframe tbody tr th:only-of-type {\n        vertical-align: middle;\n    }\n\n    .dataframe tbody tr th {\n        vertical-align: top;\n    }\n\n    .dataframe thead th {\n        text-align: right;\n    }\n</style>\n<table border=\"1\" class=\"dataframe\">\n  <thead>\n    <tr style=\"text-align: right;\">\n      <th></th>\n      <th>title</th>\n      <th>price</th>\n      <th>rating</th>\n      <th>reviews</th>\n      <th>availability</th>\n      <th>brand</th>\n      <th>product_details</th>\n      <th>product_id</th>\n    </tr>\n  </thead>\n  <tbody>\n    <tr>\n      <th>0</th>\n      <td>Apple 2024 MacBook Air 13-inch Laptop with M3 ...</td>\n      <td>$979.11</td>\n      <td>4.4 out of 5 stars</td>\n      <td>58 ratings</td>\n      <td>Only 4 left in stock - order soon.</td>\n      <td>Apple</td>\n      <td>2024 MacBook Air 13-inch Laptop with M3 chip: ...</td>\n      <td>0</td>\n    </tr>\n    <tr>\n      <th>1</th>\n      <td>Apple 2022 MacBook Air Laptop with M2 chip: 13...</td>\n      <td>$806.88</td>\n      <td>4.4 out of 5 stars</td>\n      <td>2,445 ratings</td>\n      <td>Only 4 left in stock - order soon.</td>\n      <td>Apple</td>\n      <td>2022 MacBook Air Laptop with M2 chip: 13.6-inc...</td>\n      <td>1</td>\n    </tr>\n    <tr>\n      <th>2</th>\n      <td>Apple 2024 MacBook Air 15-inch Laptop with M3 ...</td>\n      <td>$1,200.37</td>\n      <td>4.5 out of 5 stars</td>\n      <td>48 ratings</td>\n      <td>Only 1 left in stock - order soon.</td>\n      <td>Apple</td>\n      <td>2024 MacBook Air 15-inch Laptop with M3 chip: ...</td>\n      <td>2</td>\n    </tr>\n    <tr>\n      <th>3</th>\n      <td>Apple 2017 Macbook Air with 1.8GHz Intel Core ...</td>\n      <td>$234.00</td>\n      <td>4.1 out of 5 stars</td>\n      <td>493 ratings</td>\n      <td>In Stock</td>\n      <td>Apple</td>\n      <td>2017 Macbook Air with 1.8GHz Intel Core i5 (13...</td>\n      <td>3</td>\n    </tr>\n    <tr>\n      <th>4</th>\n      <td>Apple 2023 MacBook Pro Laptop M3 Pro chip with...</td>\n      <td>$2,023.08</td>\n      <td>4.7 out of 5 stars</td>\n      <td>230 ratings</td>\n      <td>Only 3 left in stock - order soon.</td>\n      <td>Apple</td>\n      <td>2023 MacBook Pro Laptop M3 Pro chip with 12‑co...</td>\n      <td>4</td>\n    </tr>\n    <tr>\n      <th>...</th>\n      <td>...</td>\n      <td>...</td>\n      <td>...</td>\n      <td>...</td>\n      <td>...</td>\n      <td>...</td>\n      <td>...</td>\n      <td>...</td>\n    </tr>\n    <tr>\n      <th>112</th>\n      <td>Microsoft Surface Laptop 3 – 13.5\" Touch-Scree...</td>\n      <td>$647.28</td>\n      <td>4.5 out of 5 stars</td>\n      <td>531 ratings</td>\n      <td>Only 1 left in stock - order soon.</td>\n      <td>Microsoft</td>\n      <td>Surface Laptop 3 – 13.5\" Touch-Screen – Intel ...</td>\n      <td>106</td>\n    </tr>\n    <tr>\n      <th>113</th>\n      <td>Microsoft Surface Laptop Studio 2 14.4\" Touchs...</td>\n      <td>$1,419.99</td>\n      <td>3.8 out of 5 stars</td>\n      <td>3 ratings</td>\n      <td>In Stock</td>\n      <td>Microsoft</td>\n      <td>Surface Laptop Studio 2 14.4\" Touchscreen Conv...</td>\n      <td>107</td>\n    </tr>\n    <tr>\n      <th>114</th>\n      <td>Microsoft Surface Pro 9 (2022), 13\" 2-in-1 Tab...</td>\n      <td>$1,173.14</td>\n      <td>4.5 out of 5 stars</td>\n      <td>827 ratings</td>\n      <td>In Stock</td>\n      <td>Microsoft</td>\n      <td>Surface Pro 9 (2022), 13\" 2-in-1 Tablet &amp; Lapt...</td>\n      <td>108</td>\n    </tr>\n    <tr>\n      <th>115</th>\n      <td>Microsoft Surface Pro 9 (2022), 13\" 2-in-1 Tab...</td>\n      <td>$1,249.99</td>\n      <td>4.5 out of 5 stars</td>\n      <td>827 ratings</td>\n      <td>Only 2 left in stock - order soon.</td>\n      <td>Microsoft</td>\n      <td>Surface Pro 9 (2022), 13\" 2-in-1 Tablet &amp; Lapt...</td>\n      <td>109</td>\n    </tr>\n    <tr>\n      <th>116</th>\n      <td>Microsoft Surface Pro 9 (2022), 13\" 2-in-1 Tab...</td>\n      <td>$698.60</td>\n      <td>4.5 out of 5 stars</td>\n      <td>827 ratings</td>\n      <td>Only 2 left in stock - order soon.</td>\n      <td>Microsoft</td>\n      <td>Surface Pro 9 (2022), 13\" 2-in-1 Tablet &amp; Lapt...</td>\n      <td>110</td>\n    </tr>\n  </tbody>\n</table>\n<p>117 rows × 8 columns</p>\n</div>"
     },
     "execution_count": 9,
     "metadata": {},
     "output_type": "execute_result"
    }
   ],
   "source": [
    "df"
   ],
   "metadata": {
    "collapsed": false,
    "ExecuteTime": {
     "end_time": "2024-05-03T16:35:38.653348Z",
     "start_time": "2024-05-03T16:35:38.596393Z"
    }
   },
   "id": "5c0b4ddaf01953f7"
  },
  {
   "cell_type": "code",
   "execution_count": 10,
   "outputs": [],
   "source": [
    "# Convert the 'rating' column to float\n",
    "df['rating'] = df['rating'].str.split(' ').str[0].astype(float)"
   ],
   "metadata": {
    "collapsed": false,
    "ExecuteTime": {
     "end_time": "2024-05-03T16:35:38.653429Z",
     "start_time": "2024-05-03T16:35:38.602254Z"
    }
   },
   "id": "beeb641ee14d481b"
  },
  {
   "cell_type": "code",
   "execution_count": 11,
   "outputs": [
    {
     "data": {
      "text/plain": "                                                 title      price  rating  \\\n0    Apple 2024 MacBook Air 13-inch Laptop with M3 ...    $979.11     4.4   \n1    Apple 2022 MacBook Air Laptop with M2 chip: 13...    $806.88     4.4   \n2    Apple 2024 MacBook Air 15-inch Laptop with M3 ...  $1,200.37     4.5   \n3    Apple 2017 Macbook Air with 1.8GHz Intel Core ...    $234.00     4.1   \n4    Apple 2023 MacBook Pro Laptop M3 Pro chip with...  $2,023.08     4.7   \n..                                                 ...        ...     ...   \n112  Microsoft Surface Laptop 3 – 13.5\" Touch-Scree...    $647.28     4.5   \n113  Microsoft Surface Laptop Studio 2 14.4\" Touchs...  $1,419.99     3.8   \n114  Microsoft Surface Pro 9 (2022), 13\" 2-in-1 Tab...  $1,173.14     4.5   \n115  Microsoft Surface Pro 9 (2022), 13\" 2-in-1 Tab...  $1,249.99     4.5   \n116  Microsoft Surface Pro 9 (2022), 13\" 2-in-1 Tab...    $698.60     4.5   \n\n           reviews                        availability      brand  \\\n0       58 ratings  Only 4 left in stock - order soon.      Apple   \n1    2,445 ratings  Only 4 left in stock - order soon.      Apple   \n2       48 ratings  Only 1 left in stock - order soon.      Apple   \n3      493 ratings                            In Stock      Apple   \n4      230 ratings  Only 3 left in stock - order soon.      Apple   \n..             ...                                 ...        ...   \n112    531 ratings  Only 1 left in stock - order soon.  Microsoft   \n113      3 ratings                            In Stock  Microsoft   \n114    827 ratings                            In Stock  Microsoft   \n115    827 ratings  Only 2 left in stock - order soon.  Microsoft   \n116    827 ratings  Only 2 left in stock - order soon.  Microsoft   \n\n                                       product_details  product_id  \n0    2024 MacBook Air 13-inch Laptop with M3 chip: ...           0  \n1    2022 MacBook Air Laptop with M2 chip: 13.6-inc...           1  \n2    2024 MacBook Air 15-inch Laptop with M3 chip: ...           2  \n3    2017 Macbook Air with 1.8GHz Intel Core i5 (13...           3  \n4    2023 MacBook Pro Laptop M3 Pro chip with 12‑co...           4  \n..                                                 ...         ...  \n112  Surface Laptop 3 – 13.5\" Touch-Screen – Intel ...         106  \n113  Surface Laptop Studio 2 14.4\" Touchscreen Conv...         107  \n114  Surface Pro 9 (2022), 13\" 2-in-1 Tablet & Lapt...         108  \n115  Surface Pro 9 (2022), 13\" 2-in-1 Tablet & Lapt...         109  \n116  Surface Pro 9 (2022), 13\" 2-in-1 Tablet & Lapt...         110  \n\n[117 rows x 8 columns]",
      "text/html": "<div>\n<style scoped>\n    .dataframe tbody tr th:only-of-type {\n        vertical-align: middle;\n    }\n\n    .dataframe tbody tr th {\n        vertical-align: top;\n    }\n\n    .dataframe thead th {\n        text-align: right;\n    }\n</style>\n<table border=\"1\" class=\"dataframe\">\n  <thead>\n    <tr style=\"text-align: right;\">\n      <th></th>\n      <th>title</th>\n      <th>price</th>\n      <th>rating</th>\n      <th>reviews</th>\n      <th>availability</th>\n      <th>brand</th>\n      <th>product_details</th>\n      <th>product_id</th>\n    </tr>\n  </thead>\n  <tbody>\n    <tr>\n      <th>0</th>\n      <td>Apple 2024 MacBook Air 13-inch Laptop with M3 ...</td>\n      <td>$979.11</td>\n      <td>4.4</td>\n      <td>58 ratings</td>\n      <td>Only 4 left in stock - order soon.</td>\n      <td>Apple</td>\n      <td>2024 MacBook Air 13-inch Laptop with M3 chip: ...</td>\n      <td>0</td>\n    </tr>\n    <tr>\n      <th>1</th>\n      <td>Apple 2022 MacBook Air Laptop with M2 chip: 13...</td>\n      <td>$806.88</td>\n      <td>4.4</td>\n      <td>2,445 ratings</td>\n      <td>Only 4 left in stock - order soon.</td>\n      <td>Apple</td>\n      <td>2022 MacBook Air Laptop with M2 chip: 13.6-inc...</td>\n      <td>1</td>\n    </tr>\n    <tr>\n      <th>2</th>\n      <td>Apple 2024 MacBook Air 15-inch Laptop with M3 ...</td>\n      <td>$1,200.37</td>\n      <td>4.5</td>\n      <td>48 ratings</td>\n      <td>Only 1 left in stock - order soon.</td>\n      <td>Apple</td>\n      <td>2024 MacBook Air 15-inch Laptop with M3 chip: ...</td>\n      <td>2</td>\n    </tr>\n    <tr>\n      <th>3</th>\n      <td>Apple 2017 Macbook Air with 1.8GHz Intel Core ...</td>\n      <td>$234.00</td>\n      <td>4.1</td>\n      <td>493 ratings</td>\n      <td>In Stock</td>\n      <td>Apple</td>\n      <td>2017 Macbook Air with 1.8GHz Intel Core i5 (13...</td>\n      <td>3</td>\n    </tr>\n    <tr>\n      <th>4</th>\n      <td>Apple 2023 MacBook Pro Laptop M3 Pro chip with...</td>\n      <td>$2,023.08</td>\n      <td>4.7</td>\n      <td>230 ratings</td>\n      <td>Only 3 left in stock - order soon.</td>\n      <td>Apple</td>\n      <td>2023 MacBook Pro Laptop M3 Pro chip with 12‑co...</td>\n      <td>4</td>\n    </tr>\n    <tr>\n      <th>...</th>\n      <td>...</td>\n      <td>...</td>\n      <td>...</td>\n      <td>...</td>\n      <td>...</td>\n      <td>...</td>\n      <td>...</td>\n      <td>...</td>\n    </tr>\n    <tr>\n      <th>112</th>\n      <td>Microsoft Surface Laptop 3 – 13.5\" Touch-Scree...</td>\n      <td>$647.28</td>\n      <td>4.5</td>\n      <td>531 ratings</td>\n      <td>Only 1 left in stock - order soon.</td>\n      <td>Microsoft</td>\n      <td>Surface Laptop 3 – 13.5\" Touch-Screen – Intel ...</td>\n      <td>106</td>\n    </tr>\n    <tr>\n      <th>113</th>\n      <td>Microsoft Surface Laptop Studio 2 14.4\" Touchs...</td>\n      <td>$1,419.99</td>\n      <td>3.8</td>\n      <td>3 ratings</td>\n      <td>In Stock</td>\n      <td>Microsoft</td>\n      <td>Surface Laptop Studio 2 14.4\" Touchscreen Conv...</td>\n      <td>107</td>\n    </tr>\n    <tr>\n      <th>114</th>\n      <td>Microsoft Surface Pro 9 (2022), 13\" 2-in-1 Tab...</td>\n      <td>$1,173.14</td>\n      <td>4.5</td>\n      <td>827 ratings</td>\n      <td>In Stock</td>\n      <td>Microsoft</td>\n      <td>Surface Pro 9 (2022), 13\" 2-in-1 Tablet &amp; Lapt...</td>\n      <td>108</td>\n    </tr>\n    <tr>\n      <th>115</th>\n      <td>Microsoft Surface Pro 9 (2022), 13\" 2-in-1 Tab...</td>\n      <td>$1,249.99</td>\n      <td>4.5</td>\n      <td>827 ratings</td>\n      <td>Only 2 left in stock - order soon.</td>\n      <td>Microsoft</td>\n      <td>Surface Pro 9 (2022), 13\" 2-in-1 Tablet &amp; Lapt...</td>\n      <td>109</td>\n    </tr>\n    <tr>\n      <th>116</th>\n      <td>Microsoft Surface Pro 9 (2022), 13\" 2-in-1 Tab...</td>\n      <td>$698.60</td>\n      <td>4.5</td>\n      <td>827 ratings</td>\n      <td>Only 2 left in stock - order soon.</td>\n      <td>Microsoft</td>\n      <td>Surface Pro 9 (2022), 13\" 2-in-1 Tablet &amp; Lapt...</td>\n      <td>110</td>\n    </tr>\n  </tbody>\n</table>\n<p>117 rows × 8 columns</p>\n</div>"
     },
     "execution_count": 11,
     "metadata": {},
     "output_type": "execute_result"
    }
   ],
   "source": [
    "df"
   ],
   "metadata": {
    "collapsed": false,
    "ExecuteTime": {
     "end_time": "2024-05-03T16:35:38.653734Z",
     "start_time": "2024-05-03T16:35:38.605890Z"
    }
   },
   "id": "8d2d7671144a54d0"
  },
  {
   "cell_type": "code",
   "execution_count": 12,
   "outputs": [],
   "source": [
    "df['reviews'] = df['reviews'].str.replace(',', '').str.split(' ').str[0].astype(float)"
   ],
   "metadata": {
    "collapsed": false,
    "ExecuteTime": {
     "end_time": "2024-05-03T16:35:38.653780Z",
     "start_time": "2024-05-03T16:35:38.611121Z"
    }
   },
   "id": "63365958aaf9bca3"
  },
  {
   "cell_type": "code",
   "execution_count": 13,
   "outputs": [
    {
     "name": "stderr",
     "output_type": "stream",
     "text": [
      "/var/folders/21/yhy2dhmx219b7cbcq243hmwc0000gn/T/ipykernel_5023/3465546308.py:1: FutureWarning: The default value of regex will change from True to False in a future version. In addition, single character regular expressions will *not* be treated as literal strings when regex=True.\n",
      "  df['price'] = df['price'].str.replace('$', '').str.replace(',', '').astype(float)\n"
     ]
    }
   ],
   "source": [
    "df['price'] = df['price'].str.replace('$', '').str.replace(',', '').astype(float)"
   ],
   "metadata": {
    "collapsed": false,
    "ExecuteTime": {
     "end_time": "2024-05-03T16:35:38.681530Z",
     "start_time": "2024-05-03T16:35:38.613761Z"
    }
   },
   "id": "2f8b7be764037931"
  },
  {
   "cell_type": "code",
   "execution_count": 14,
   "outputs": [],
   "source": [
    "def generate_product_id(product_details):\n",
    "    product_id = hash(product_details)\n",
    "    if product_id < 0:\n",
    "        product_id = -1 * product_id\n",
    "    return product_id\n"
   ],
   "metadata": {
    "collapsed": false,
    "ExecuteTime": {
     "end_time": "2024-05-03T16:35:38.681786Z",
     "start_time": "2024-05-03T16:35:38.617441Z"
    }
   },
   "id": "5e3d9d3a52d5ecfa"
  },
  {
   "cell_type": "code",
   "execution_count": 15,
   "outputs": [],
   "source": [
    "df['product_id'] = df['product_details'].apply(generate_product_id)"
   ],
   "metadata": {
    "collapsed": false,
    "ExecuteTime": {
     "end_time": "2024-05-03T16:35:38.703665Z",
     "start_time": "2024-05-03T16:35:38.619743Z"
    }
   },
   "id": "1af3632254728b01"
  },
  {
   "cell_type": "code",
   "execution_count": 16,
   "outputs": [
    {
     "data": {
      "text/plain": "                                                 title    price  rating  \\\n0    Apple 2024 MacBook Air 13-inch Laptop with M3 ...   979.11     4.4   \n1    Apple 2022 MacBook Air Laptop with M2 chip: 13...   806.88     4.4   \n2    Apple 2024 MacBook Air 15-inch Laptop with M3 ...  1200.37     4.5   \n3    Apple 2017 Macbook Air with 1.8GHz Intel Core ...   234.00     4.1   \n4    Apple 2023 MacBook Pro Laptop M3 Pro chip with...  2023.08     4.7   \n..                                                 ...      ...     ...   \n112  Microsoft Surface Laptop 3 – 13.5\" Touch-Scree...   647.28     4.5   \n113  Microsoft Surface Laptop Studio 2 14.4\" Touchs...  1419.99     3.8   \n114  Microsoft Surface Pro 9 (2022), 13\" 2-in-1 Tab...  1173.14     4.5   \n115  Microsoft Surface Pro 9 (2022), 13\" 2-in-1 Tab...  1249.99     4.5   \n116  Microsoft Surface Pro 9 (2022), 13\" 2-in-1 Tab...   698.60     4.5   \n\n     reviews                        availability      brand  \\\n0       58.0  Only 4 left in stock - order soon.      Apple   \n1     2445.0  Only 4 left in stock - order soon.      Apple   \n2       48.0  Only 1 left in stock - order soon.      Apple   \n3      493.0                            In Stock      Apple   \n4      230.0  Only 3 left in stock - order soon.      Apple   \n..       ...                                 ...        ...   \n112    531.0  Only 1 left in stock - order soon.  Microsoft   \n113      3.0                            In Stock  Microsoft   \n114    827.0                            In Stock  Microsoft   \n115    827.0  Only 2 left in stock - order soon.  Microsoft   \n116    827.0  Only 2 left in stock - order soon.  Microsoft   \n\n                                       product_details           product_id  \n0    2024 MacBook Air 13-inch Laptop with M3 chip: ...  6000668808474226109  \n1    2022 MacBook Air Laptop with M2 chip: 13.6-inc...  5416468934369619552  \n2    2024 MacBook Air 15-inch Laptop with M3 chip: ...  1221905918155227056  \n3    2017 Macbook Air with 1.8GHz Intel Core i5 (13...  3133125904052192207  \n4    2023 MacBook Pro Laptop M3 Pro chip with 12‑co...  1856514212231354877  \n..                                                 ...                  ...  \n112  Surface Laptop 3 – 13.5\" Touch-Screen – Intel ...  5922129395303120531  \n113  Surface Laptop Studio 2 14.4\" Touchscreen Conv...  7770121589374359184  \n114  Surface Pro 9 (2022), 13\" 2-in-1 Tablet & Lapt...  8223294367177943074  \n115  Surface Pro 9 (2022), 13\" 2-in-1 Tablet & Lapt...  4109296154051151383  \n116  Surface Pro 9 (2022), 13\" 2-in-1 Tablet & Lapt...  8097343610242620522  \n\n[117 rows x 8 columns]",
      "text/html": "<div>\n<style scoped>\n    .dataframe tbody tr th:only-of-type {\n        vertical-align: middle;\n    }\n\n    .dataframe tbody tr th {\n        vertical-align: top;\n    }\n\n    .dataframe thead th {\n        text-align: right;\n    }\n</style>\n<table border=\"1\" class=\"dataframe\">\n  <thead>\n    <tr style=\"text-align: right;\">\n      <th></th>\n      <th>title</th>\n      <th>price</th>\n      <th>rating</th>\n      <th>reviews</th>\n      <th>availability</th>\n      <th>brand</th>\n      <th>product_details</th>\n      <th>product_id</th>\n    </tr>\n  </thead>\n  <tbody>\n    <tr>\n      <th>0</th>\n      <td>Apple 2024 MacBook Air 13-inch Laptop with M3 ...</td>\n      <td>979.11</td>\n      <td>4.4</td>\n      <td>58.0</td>\n      <td>Only 4 left in stock - order soon.</td>\n      <td>Apple</td>\n      <td>2024 MacBook Air 13-inch Laptop with M3 chip: ...</td>\n      <td>6000668808474226109</td>\n    </tr>\n    <tr>\n      <th>1</th>\n      <td>Apple 2022 MacBook Air Laptop with M2 chip: 13...</td>\n      <td>806.88</td>\n      <td>4.4</td>\n      <td>2445.0</td>\n      <td>Only 4 left in stock - order soon.</td>\n      <td>Apple</td>\n      <td>2022 MacBook Air Laptop with M2 chip: 13.6-inc...</td>\n      <td>5416468934369619552</td>\n    </tr>\n    <tr>\n      <th>2</th>\n      <td>Apple 2024 MacBook Air 15-inch Laptop with M3 ...</td>\n      <td>1200.37</td>\n      <td>4.5</td>\n      <td>48.0</td>\n      <td>Only 1 left in stock - order soon.</td>\n      <td>Apple</td>\n      <td>2024 MacBook Air 15-inch Laptop with M3 chip: ...</td>\n      <td>1221905918155227056</td>\n    </tr>\n    <tr>\n      <th>3</th>\n      <td>Apple 2017 Macbook Air with 1.8GHz Intel Core ...</td>\n      <td>234.00</td>\n      <td>4.1</td>\n      <td>493.0</td>\n      <td>In Stock</td>\n      <td>Apple</td>\n      <td>2017 Macbook Air with 1.8GHz Intel Core i5 (13...</td>\n      <td>3133125904052192207</td>\n    </tr>\n    <tr>\n      <th>4</th>\n      <td>Apple 2023 MacBook Pro Laptop M3 Pro chip with...</td>\n      <td>2023.08</td>\n      <td>4.7</td>\n      <td>230.0</td>\n      <td>Only 3 left in stock - order soon.</td>\n      <td>Apple</td>\n      <td>2023 MacBook Pro Laptop M3 Pro chip with 12‑co...</td>\n      <td>1856514212231354877</td>\n    </tr>\n    <tr>\n      <th>...</th>\n      <td>...</td>\n      <td>...</td>\n      <td>...</td>\n      <td>...</td>\n      <td>...</td>\n      <td>...</td>\n      <td>...</td>\n      <td>...</td>\n    </tr>\n    <tr>\n      <th>112</th>\n      <td>Microsoft Surface Laptop 3 – 13.5\" Touch-Scree...</td>\n      <td>647.28</td>\n      <td>4.5</td>\n      <td>531.0</td>\n      <td>Only 1 left in stock - order soon.</td>\n      <td>Microsoft</td>\n      <td>Surface Laptop 3 – 13.5\" Touch-Screen – Intel ...</td>\n      <td>5922129395303120531</td>\n    </tr>\n    <tr>\n      <th>113</th>\n      <td>Microsoft Surface Laptop Studio 2 14.4\" Touchs...</td>\n      <td>1419.99</td>\n      <td>3.8</td>\n      <td>3.0</td>\n      <td>In Stock</td>\n      <td>Microsoft</td>\n      <td>Surface Laptop Studio 2 14.4\" Touchscreen Conv...</td>\n      <td>7770121589374359184</td>\n    </tr>\n    <tr>\n      <th>114</th>\n      <td>Microsoft Surface Pro 9 (2022), 13\" 2-in-1 Tab...</td>\n      <td>1173.14</td>\n      <td>4.5</td>\n      <td>827.0</td>\n      <td>In Stock</td>\n      <td>Microsoft</td>\n      <td>Surface Pro 9 (2022), 13\" 2-in-1 Tablet &amp; Lapt...</td>\n      <td>8223294367177943074</td>\n    </tr>\n    <tr>\n      <th>115</th>\n      <td>Microsoft Surface Pro 9 (2022), 13\" 2-in-1 Tab...</td>\n      <td>1249.99</td>\n      <td>4.5</td>\n      <td>827.0</td>\n      <td>Only 2 left in stock - order soon.</td>\n      <td>Microsoft</td>\n      <td>Surface Pro 9 (2022), 13\" 2-in-1 Tablet &amp; Lapt...</td>\n      <td>4109296154051151383</td>\n    </tr>\n    <tr>\n      <th>116</th>\n      <td>Microsoft Surface Pro 9 (2022), 13\" 2-in-1 Tab...</td>\n      <td>698.60</td>\n      <td>4.5</td>\n      <td>827.0</td>\n      <td>Only 2 left in stock - order soon.</td>\n      <td>Microsoft</td>\n      <td>Surface Pro 9 (2022), 13\" 2-in-1 Tablet &amp; Lapt...</td>\n      <td>8097343610242620522</td>\n    </tr>\n  </tbody>\n</table>\n<p>117 rows × 8 columns</p>\n</div>"
     },
     "execution_count": 16,
     "metadata": {},
     "output_type": "execute_result"
    }
   ],
   "source": [
    "df"
   ],
   "metadata": {
    "collapsed": false,
    "ExecuteTime": {
     "end_time": "2024-05-03T16:35:38.713720Z",
     "start_time": "2024-05-03T16:35:38.621804Z"
    }
   },
   "id": "b13d8d93c74ce162"
  },
  {
   "cell_type": "code",
   "execution_count": 17,
   "outputs": [
    {
     "data": {
      "text/plain": "              product_id      brand  \\\n0    6000668808474226109      Apple   \n1    5416468934369619552      Apple   \n2    1221905918155227056      Apple   \n3    3133125904052192207      Apple   \n4    1856514212231354877      Apple   \n..                   ...        ...   \n112  5922129395303120531  Microsoft   \n113  7770121589374359184  Microsoft   \n114  8223294367177943074  Microsoft   \n115  4109296154051151383  Microsoft   \n116  8097343610242620522  Microsoft   \n\n                                       product_details    price  rating  \\\n0    2024 MacBook Air 13-inch Laptop with M3 chip: ...   979.11     4.4   \n1    2022 MacBook Air Laptop with M2 chip: 13.6-inc...   806.88     4.4   \n2    2024 MacBook Air 15-inch Laptop with M3 chip: ...  1200.37     4.5   \n3    2017 Macbook Air with 1.8GHz Intel Core i5 (13...   234.00     4.1   \n4    2023 MacBook Pro Laptop M3 Pro chip with 12‑co...  2023.08     4.7   \n..                                                 ...      ...     ...   \n112  Surface Laptop 3 – 13.5\" Touch-Screen – Intel ...   647.28     4.5   \n113  Surface Laptop Studio 2 14.4\" Touchscreen Conv...  1419.99     3.8   \n114  Surface Pro 9 (2022), 13\" 2-in-1 Tablet & Lapt...  1173.14     4.5   \n115  Surface Pro 9 (2022), 13\" 2-in-1 Tablet & Lapt...  1249.99     4.5   \n116  Surface Pro 9 (2022), 13\" 2-in-1 Tablet & Lapt...   698.60     4.5   \n\n     reviews  \n0       58.0  \n1     2445.0  \n2       48.0  \n3      493.0  \n4      230.0  \n..       ...  \n112    531.0  \n113      3.0  \n114    827.0  \n115    827.0  \n116    827.0  \n\n[117 rows x 6 columns]",
      "text/html": "<div>\n<style scoped>\n    .dataframe tbody tr th:only-of-type {\n        vertical-align: middle;\n    }\n\n    .dataframe tbody tr th {\n        vertical-align: top;\n    }\n\n    .dataframe thead th {\n        text-align: right;\n    }\n</style>\n<table border=\"1\" class=\"dataframe\">\n  <thead>\n    <tr style=\"text-align: right;\">\n      <th></th>\n      <th>product_id</th>\n      <th>brand</th>\n      <th>product_details</th>\n      <th>price</th>\n      <th>rating</th>\n      <th>reviews</th>\n    </tr>\n  </thead>\n  <tbody>\n    <tr>\n      <th>0</th>\n      <td>6000668808474226109</td>\n      <td>Apple</td>\n      <td>2024 MacBook Air 13-inch Laptop with M3 chip: ...</td>\n      <td>979.11</td>\n      <td>4.4</td>\n      <td>58.0</td>\n    </tr>\n    <tr>\n      <th>1</th>\n      <td>5416468934369619552</td>\n      <td>Apple</td>\n      <td>2022 MacBook Air Laptop with M2 chip: 13.6-inc...</td>\n      <td>806.88</td>\n      <td>4.4</td>\n      <td>2445.0</td>\n    </tr>\n    <tr>\n      <th>2</th>\n      <td>1221905918155227056</td>\n      <td>Apple</td>\n      <td>2024 MacBook Air 15-inch Laptop with M3 chip: ...</td>\n      <td>1200.37</td>\n      <td>4.5</td>\n      <td>48.0</td>\n    </tr>\n    <tr>\n      <th>3</th>\n      <td>3133125904052192207</td>\n      <td>Apple</td>\n      <td>2017 Macbook Air with 1.8GHz Intel Core i5 (13...</td>\n      <td>234.00</td>\n      <td>4.1</td>\n      <td>493.0</td>\n    </tr>\n    <tr>\n      <th>4</th>\n      <td>1856514212231354877</td>\n      <td>Apple</td>\n      <td>2023 MacBook Pro Laptop M3 Pro chip with 12‑co...</td>\n      <td>2023.08</td>\n      <td>4.7</td>\n      <td>230.0</td>\n    </tr>\n    <tr>\n      <th>...</th>\n      <td>...</td>\n      <td>...</td>\n      <td>...</td>\n      <td>...</td>\n      <td>...</td>\n      <td>...</td>\n    </tr>\n    <tr>\n      <th>112</th>\n      <td>5922129395303120531</td>\n      <td>Microsoft</td>\n      <td>Surface Laptop 3 – 13.5\" Touch-Screen – Intel ...</td>\n      <td>647.28</td>\n      <td>4.5</td>\n      <td>531.0</td>\n    </tr>\n    <tr>\n      <th>113</th>\n      <td>7770121589374359184</td>\n      <td>Microsoft</td>\n      <td>Surface Laptop Studio 2 14.4\" Touchscreen Conv...</td>\n      <td>1419.99</td>\n      <td>3.8</td>\n      <td>3.0</td>\n    </tr>\n    <tr>\n      <th>114</th>\n      <td>8223294367177943074</td>\n      <td>Microsoft</td>\n      <td>Surface Pro 9 (2022), 13\" 2-in-1 Tablet &amp; Lapt...</td>\n      <td>1173.14</td>\n      <td>4.5</td>\n      <td>827.0</td>\n    </tr>\n    <tr>\n      <th>115</th>\n      <td>4109296154051151383</td>\n      <td>Microsoft</td>\n      <td>Surface Pro 9 (2022), 13\" 2-in-1 Tablet &amp; Lapt...</td>\n      <td>1249.99</td>\n      <td>4.5</td>\n      <td>827.0</td>\n    </tr>\n    <tr>\n      <th>116</th>\n      <td>8097343610242620522</td>\n      <td>Microsoft</td>\n      <td>Surface Pro 9 (2022), 13\" 2-in-1 Tablet &amp; Lapt...</td>\n      <td>698.60</td>\n      <td>4.5</td>\n      <td>827.0</td>\n    </tr>\n  </tbody>\n</table>\n<p>117 rows × 6 columns</p>\n</div>"
     },
     "execution_count": 17,
     "metadata": {},
     "output_type": "execute_result"
    }
   ],
   "source": [
    "extracted_df = df[['product_id','brand', 'product_details','price','rating','reviews']]\n",
    "extracted_df"
   ],
   "metadata": {
    "collapsed": false,
    "ExecuteTime": {
     "end_time": "2024-05-03T16:35:38.714500Z",
     "start_time": "2024-05-03T16:35:38.630916Z"
    }
   },
   "id": "51f5162eb945fe1e"
  },
  {
   "cell_type": "code",
   "execution_count": 18,
   "outputs": [],
   "source": [
    "from sklearn.model_selection import train_test_split\n",
    "from sklearn.tree import DecisionTreeRegressor\n",
    "# from  sklearn.ensemble import RandomForestRegressor\n",
    "from sklearn.metrics import mean_squared_error\n",
    "from sklearn.preprocessing import OneHotEncoder\n",
    "from sklearn.compose import make_column_transformer\n",
    "from sklearn.pipeline import make_pipeline"
   ],
   "metadata": {
    "collapsed": false,
    "ExecuteTime": {
     "end_time": "2024-05-03T16:35:39.099374Z",
     "start_time": "2024-05-03T16:35:38.635070Z"
    }
   },
   "id": "f11f77cbfc717a2f"
  },
  {
   "cell_type": "code",
   "execution_count": 19,
   "outputs": [],
   "source": [
    "# Define preprocessor\n",
    "preprocessor = make_column_transformer(\n",
    "    (OneHotEncoder(), ['brand', 'product_details']),\n",
    "    remainder='passthrough'\n",
    ")"
   ],
   "metadata": {
    "collapsed": false,
    "ExecuteTime": {
     "end_time": "2024-05-03T16:35:39.114242Z",
     "start_time": "2024-05-03T16:35:39.100092Z"
    }
   },
   "id": "8fec401ad6aab043"
  },
  {
   "cell_type": "code",
   "execution_count": 55,
   "outputs": [],
   "source": [
    "# Define model\n",
    "model = make_pipeline(\n",
    "    preprocessor,\n",
    "    # DecisionTreeRegressor(criterion = 'friedman_mse',max_depth=25)\n",
    "    DecisionTreeRegressor(max_depth=23)\n",
    ")\n"
   ],
   "metadata": {
    "collapsed": false,
    "ExecuteTime": {
     "end_time": "2024-05-03T16:36:32.642774Z",
     "start_time": "2024-05-03T16:36:32.637224Z"
    }
   },
   "id": "899f5408d95e4d98"
  },
  {
   "cell_type": "code",
   "execution_count": 56,
   "outputs": [],
   "source": [
    "# Split the data\n",
    "X = extracted_df.drop('price', axis=1)\n",
    "y = extracted_df['price']"
   ],
   "metadata": {
    "collapsed": false,
    "ExecuteTime": {
     "end_time": "2024-05-03T16:36:33.014830Z",
     "start_time": "2024-05-03T16:36:33.009419Z"
    }
   },
   "id": "80e8a6a37d7fcc7a"
  },
  {
   "cell_type": "code",
   "execution_count": 57,
   "outputs": [
    {
     "data": {
      "text/plain": "Pipeline(steps=[('columntransformer',\n                 ColumnTransformer(remainder='passthrough',\n                                   transformers=[('onehotencoder',\n                                                  OneHotEncoder(),\n                                                  ['brand',\n                                                   'product_details'])])),\n                ('decisiontreeregressor', DecisionTreeRegressor(max_depth=23))])",
      "text/html": "<style>#sk-container-id-6 {color: black;}#sk-container-id-6 pre{padding: 0;}#sk-container-id-6 div.sk-toggleable {background-color: white;}#sk-container-id-6 label.sk-toggleable__label {cursor: pointer;display: block;width: 100%;margin-bottom: 0;padding: 0.3em;box-sizing: border-box;text-align: center;}#sk-container-id-6 label.sk-toggleable__label-arrow:before {content: \"▸\";float: left;margin-right: 0.25em;color: #696969;}#sk-container-id-6 label.sk-toggleable__label-arrow:hover:before {color: black;}#sk-container-id-6 div.sk-estimator:hover label.sk-toggleable__label-arrow:before {color: black;}#sk-container-id-6 div.sk-toggleable__content {max-height: 0;max-width: 0;overflow: hidden;text-align: left;background-color: #f0f8ff;}#sk-container-id-6 div.sk-toggleable__content pre {margin: 0.2em;color: black;border-radius: 0.25em;background-color: #f0f8ff;}#sk-container-id-6 input.sk-toggleable__control:checked~div.sk-toggleable__content {max-height: 200px;max-width: 100%;overflow: auto;}#sk-container-id-6 input.sk-toggleable__control:checked~label.sk-toggleable__label-arrow:before {content: \"▾\";}#sk-container-id-6 div.sk-estimator input.sk-toggleable__control:checked~label.sk-toggleable__label {background-color: #d4ebff;}#sk-container-id-6 div.sk-label input.sk-toggleable__control:checked~label.sk-toggleable__label {background-color: #d4ebff;}#sk-container-id-6 input.sk-hidden--visually {border: 0;clip: rect(1px 1px 1px 1px);clip: rect(1px, 1px, 1px, 1px);height: 1px;margin: -1px;overflow: hidden;padding: 0;position: absolute;width: 1px;}#sk-container-id-6 div.sk-estimator {font-family: monospace;background-color: #f0f8ff;border: 1px dotted black;border-radius: 0.25em;box-sizing: border-box;margin-bottom: 0.5em;}#sk-container-id-6 div.sk-estimator:hover {background-color: #d4ebff;}#sk-container-id-6 div.sk-parallel-item::after {content: \"\";width: 100%;border-bottom: 1px solid gray;flex-grow: 1;}#sk-container-id-6 div.sk-label:hover label.sk-toggleable__label {background-color: #d4ebff;}#sk-container-id-6 div.sk-serial::before {content: \"\";position: absolute;border-left: 1px solid gray;box-sizing: border-box;top: 0;bottom: 0;left: 50%;z-index: 0;}#sk-container-id-6 div.sk-serial {display: flex;flex-direction: column;align-items: center;background-color: white;padding-right: 0.2em;padding-left: 0.2em;position: relative;}#sk-container-id-6 div.sk-item {position: relative;z-index: 1;}#sk-container-id-6 div.sk-parallel {display: flex;align-items: stretch;justify-content: center;background-color: white;position: relative;}#sk-container-id-6 div.sk-item::before, #sk-container-id-6 div.sk-parallel-item::before {content: \"\";position: absolute;border-left: 1px solid gray;box-sizing: border-box;top: 0;bottom: 0;left: 50%;z-index: -1;}#sk-container-id-6 div.sk-parallel-item {display: flex;flex-direction: column;z-index: 1;position: relative;background-color: white;}#sk-container-id-6 div.sk-parallel-item:first-child::after {align-self: flex-end;width: 50%;}#sk-container-id-6 div.sk-parallel-item:last-child::after {align-self: flex-start;width: 50%;}#sk-container-id-6 div.sk-parallel-item:only-child::after {width: 0;}#sk-container-id-6 div.sk-dashed-wrapped {border: 1px dashed gray;margin: 0 0.4em 0.5em 0.4em;box-sizing: border-box;padding-bottom: 0.4em;background-color: white;}#sk-container-id-6 div.sk-label label {font-family: monospace;font-weight: bold;display: inline-block;line-height: 1.2em;}#sk-container-id-6 div.sk-label-container {text-align: center;}#sk-container-id-6 div.sk-container {/* jupyter's `normalize.less` sets `[hidden] { display: none; }` but bootstrap.min.css set `[hidden] { display: none !important; }` so we also need the `!important` here to be able to override the default hidden behavior on the sphinx rendered scikit-learn.org. See: https://github.com/scikit-learn/scikit-learn/issues/21755 */display: inline-block !important;position: relative;}#sk-container-id-6 div.sk-text-repr-fallback {display: none;}</style><div id=\"sk-container-id-6\" class=\"sk-top-container\"><div class=\"sk-text-repr-fallback\"><pre>Pipeline(steps=[(&#x27;columntransformer&#x27;,\n                 ColumnTransformer(remainder=&#x27;passthrough&#x27;,\n                                   transformers=[(&#x27;onehotencoder&#x27;,\n                                                  OneHotEncoder(),\n                                                  [&#x27;brand&#x27;,\n                                                   &#x27;product_details&#x27;])])),\n                (&#x27;decisiontreeregressor&#x27;, DecisionTreeRegressor(max_depth=23))])</pre><b>In a Jupyter environment, please rerun this cell to show the HTML representation or trust the notebook. <br />On GitHub, the HTML representation is unable to render, please try loading this page with nbviewer.org.</b></div><div class=\"sk-container\" hidden><div class=\"sk-item sk-dashed-wrapped\"><div class=\"sk-label-container\"><div class=\"sk-label sk-toggleable\"><input class=\"sk-toggleable__control sk-hidden--visually\" id=\"sk-estimator-id-36\" type=\"checkbox\" ><label for=\"sk-estimator-id-36\" class=\"sk-toggleable__label sk-toggleable__label-arrow\">Pipeline</label><div class=\"sk-toggleable__content\"><pre>Pipeline(steps=[(&#x27;columntransformer&#x27;,\n                 ColumnTransformer(remainder=&#x27;passthrough&#x27;,\n                                   transformers=[(&#x27;onehotencoder&#x27;,\n                                                  OneHotEncoder(),\n                                                  [&#x27;brand&#x27;,\n                                                   &#x27;product_details&#x27;])])),\n                (&#x27;decisiontreeregressor&#x27;, DecisionTreeRegressor(max_depth=23))])</pre></div></div></div><div class=\"sk-serial\"><div class=\"sk-item sk-dashed-wrapped\"><div class=\"sk-label-container\"><div class=\"sk-label sk-toggleable\"><input class=\"sk-toggleable__control sk-hidden--visually\" id=\"sk-estimator-id-37\" type=\"checkbox\" ><label for=\"sk-estimator-id-37\" class=\"sk-toggleable__label sk-toggleable__label-arrow\">columntransformer: ColumnTransformer</label><div class=\"sk-toggleable__content\"><pre>ColumnTransformer(remainder=&#x27;passthrough&#x27;,\n                  transformers=[(&#x27;onehotencoder&#x27;, OneHotEncoder(),\n                                 [&#x27;brand&#x27;, &#x27;product_details&#x27;])])</pre></div></div></div><div class=\"sk-parallel\"><div class=\"sk-parallel-item\"><div class=\"sk-item\"><div class=\"sk-label-container\"><div class=\"sk-label sk-toggleable\"><input class=\"sk-toggleable__control sk-hidden--visually\" id=\"sk-estimator-id-38\" type=\"checkbox\" ><label for=\"sk-estimator-id-38\" class=\"sk-toggleable__label sk-toggleable__label-arrow\">onehotencoder</label><div class=\"sk-toggleable__content\"><pre>[&#x27;brand&#x27;, &#x27;product_details&#x27;]</pre></div></div></div><div class=\"sk-serial\"><div class=\"sk-item\"><div class=\"sk-estimator sk-toggleable\"><input class=\"sk-toggleable__control sk-hidden--visually\" id=\"sk-estimator-id-39\" type=\"checkbox\" ><label for=\"sk-estimator-id-39\" class=\"sk-toggleable__label sk-toggleable__label-arrow\">OneHotEncoder</label><div class=\"sk-toggleable__content\"><pre>OneHotEncoder()</pre></div></div></div></div></div></div><div class=\"sk-parallel-item\"><div class=\"sk-item\"><div class=\"sk-label-container\"><div class=\"sk-label sk-toggleable\"><input class=\"sk-toggleable__control sk-hidden--visually\" id=\"sk-estimator-id-40\" type=\"checkbox\" ><label for=\"sk-estimator-id-40\" class=\"sk-toggleable__label sk-toggleable__label-arrow\">remainder</label><div class=\"sk-toggleable__content\"><pre>[&#x27;product_id&#x27;, &#x27;rating&#x27;, &#x27;reviews&#x27;]</pre></div></div></div><div class=\"sk-serial\"><div class=\"sk-item\"><div class=\"sk-estimator sk-toggleable\"><input class=\"sk-toggleable__control sk-hidden--visually\" id=\"sk-estimator-id-41\" type=\"checkbox\" ><label for=\"sk-estimator-id-41\" class=\"sk-toggleable__label sk-toggleable__label-arrow\">passthrough</label><div class=\"sk-toggleable__content\"><pre>passthrough</pre></div></div></div></div></div></div></div></div><div class=\"sk-item\"><div class=\"sk-estimator sk-toggleable\"><input class=\"sk-toggleable__control sk-hidden--visually\" id=\"sk-estimator-id-42\" type=\"checkbox\" ><label for=\"sk-estimator-id-42\" class=\"sk-toggleable__label sk-toggleable__label-arrow\">DecisionTreeRegressor</label><div class=\"sk-toggleable__content\"><pre>DecisionTreeRegressor(max_depth=23)</pre></div></div></div></div></div></div></div>"
     },
     "execution_count": 57,
     "metadata": {},
     "output_type": "execute_result"
    }
   ],
   "source": [
    "# Train the model\n",
    "model.fit(X, y)"
   ],
   "metadata": {
    "collapsed": false,
    "ExecuteTime": {
     "end_time": "2024-05-03T16:36:33.389630Z",
     "start_time": "2024-05-03T16:36:33.381559Z"
    }
   },
   "id": "808bd6e04bb53ac0"
  },
  {
   "cell_type": "code",
   "execution_count": 58,
   "outputs": [],
   "source": [
    "y_pred = model.predict(X)"
   ],
   "metadata": {
    "collapsed": false,
    "ExecuteTime": {
     "end_time": "2024-05-03T16:36:33.766801Z",
     "start_time": "2024-05-03T16:36:33.758878Z"
    }
   },
   "id": "2182ac59d20e1757"
  },
  {
   "cell_type": "code",
   "execution_count": 59,
   "outputs": [
    {
     "data": {
      "text/plain": "array([ 979.11  ,  806.88  , 1200.37  ,  234.    , 2023.08  ,  399.    ,\n       1198.55  ,  206.    ,  619.    , 3097.25  , 1406.77  ,  509.    ,\n       1998.99  ,  599.2475,  461.99  ,  498.    ,  448.    ,  299.95  ,\n        298.485 ,  469.    ,  204.    ,  418.    ,  186.97  ,  339.    ,\n        589.99  ,  499.    ,  599.2475,  545.485 ,  251.1   ,  349.    ,\n        819.99  ,  679.98  ,  669.99  ,  298.485 ,  879.    ,  599.2475,\n        429.    ,  849.    ,  259.98  ,  259.98  ,  669.99  ,  389.    ,\n        490.52  ,  389.    ,  490.52  ,  157.92  ,  699.99  ,  172.    ,\n        318.88  ,  248.88  ,  268.88  ,  289.97  ,  799.    ,  399.99  ,\n        375.    , 1239.99  ,  149.    ,  599.2475,  154.65  ,  169.    ,\n         12.99  ,  429.    ,  399.    ,  758.5   ,  599.99  ,  440.    ,\n        319.99  ,  618.99  ,  189.    ,   17.98  ,   21.99  ,   21.99  ,\n         21.99  ,  289.    ,  699.99  ,   29.99  ,   31.99  ,   31.99  ,\n         31.99  ,   16.99  ,   16.99  ,   16.99  ,   15.99  ,   46.99  ,\n       1078.88  ,  461.99  ,  199.99  ,  685.    , 1577.    , 1498.99  ,\n       1159.99  ,  549.99  , 1159.95  ,  486.    ,  461.99  ,  205.95  ,\n        319.99  ,  184.    ,  208.    ,  138.4   ,  549.    ,  490.52  ,\n        398.    ,  949.    , 1039.99  ,  549.99  ,  630.    ,  675.    ,\n        460.97  ,  545.485 ,  349.95  ,  299.95  ,  647.28  , 1419.99  ,\n       1173.14  , 1249.99  ,  698.6   ])"
     },
     "execution_count": 59,
     "metadata": {},
     "output_type": "execute_result"
    }
   ],
   "source": [
    "y_pred"
   ],
   "metadata": {
    "collapsed": false,
    "ExecuteTime": {
     "end_time": "2024-05-03T16:36:34.180980Z",
     "start_time": "2024-05-03T16:36:34.175733Z"
    }
   },
   "id": "4eedf8a201a92b93"
  },
  {
   "cell_type": "code",
   "execution_count": 60,
   "outputs": [
    {
     "data": {
      "text/plain": "4.945109188034185"
     },
     "execution_count": 60,
     "metadata": {},
     "output_type": "execute_result"
    }
   ],
   "source": [
    "from sklearn.metrics import mean_squared_error\n",
    "mse  = mean_squared_error(y,y_pred)\n",
    "mse"
   ],
   "metadata": {
    "collapsed": false,
    "ExecuteTime": {
     "end_time": "2024-05-03T16:36:35.843815Z",
     "start_time": "2024-05-03T16:36:35.841178Z"
    }
   },
   "id": "619f6a37c0860624"
  },
  {
   "cell_type": "code",
   "execution_count": 61,
   "outputs": [],
   "source": [
    "def recommend_products(df, brand, min_rating):\n",
    "    \"\"\"Recommend products from the same brand with at least min_rating.\"\"\"\n",
    "    # Filter the DataFrame based on the conditions\n",
    "    recommended_df = df[(df['brand'] == brand) & (df['rating'] >= min_rating)]\n",
    "    \n",
    "    # Sort the DataFrame based on the rating (from high to low)\n",
    "    recommended_df = recommended_df.sort_values(by='rating', ascending=False)\n",
    "    \n",
    "    return recommended_df"
   ],
   "metadata": {
    "collapsed": false,
    "ExecuteTime": {
     "end_time": "2024-05-03T16:36:36.746575Z",
     "start_time": "2024-05-03T16:36:36.736954Z"
    }
   },
   "id": "99bea3c25550e30d"
  },
  {
   "cell_type": "code",
   "execution_count": 62,
   "outputs": [],
   "source": [
    "recommended_products = recommend_products(extracted_df, 'Apple', 4.5)"
   ],
   "metadata": {
    "collapsed": false,
    "ExecuteTime": {
     "end_time": "2024-05-03T16:36:37.198188Z",
     "start_time": "2024-05-03T16:36:37.193341Z"
    }
   },
   "id": "4e8eb8772490e761"
  },
  {
   "cell_type": "code",
   "execution_count": 63,
   "outputs": [
    {
     "data": {
      "text/plain": "             product_id  brand  \\\n6   3643158709224517541  Apple   \n4   1856514212231354877  Apple   \n10  8716352687586266146  Apple   \n12  5648878088638701404  Apple   \n9   8664421581211455426  Apple   \n2   1221905918155227056  Apple   \n\n                                      product_details    price  rating  \\\n6   2022 13\" MacBook Air M2, 16GB RAM, 256GB Stora...  1198.55     4.8   \n4   2023 MacBook Pro Laptop M3 Pro chip with 12‑co...  2023.08     4.7   \n10  2023 MacBook Air Laptop with M2 chip: 15.3-inc...  1406.77     4.7   \n12  2023 MacBook Pro Laptop M2 Pro chip with 12‑co...  1998.99     4.7   \n9   2023 MacBook Pro Laptop M3 Max chip with 14‑co...  3097.25     4.6   \n2   2024 MacBook Air 15-inch Laptop with M3 chip: ...  1200.37     4.5   \n\n    reviews  \n6      69.0  \n4     230.0  \n10     87.0  \n12    357.0  \n9     142.0  \n2      48.0  ",
      "text/html": "<div>\n<style scoped>\n    .dataframe tbody tr th:only-of-type {\n        vertical-align: middle;\n    }\n\n    .dataframe tbody tr th {\n        vertical-align: top;\n    }\n\n    .dataframe thead th {\n        text-align: right;\n    }\n</style>\n<table border=\"1\" class=\"dataframe\">\n  <thead>\n    <tr style=\"text-align: right;\">\n      <th></th>\n      <th>product_id</th>\n      <th>brand</th>\n      <th>product_details</th>\n      <th>price</th>\n      <th>rating</th>\n      <th>reviews</th>\n    </tr>\n  </thead>\n  <tbody>\n    <tr>\n      <th>6</th>\n      <td>3643158709224517541</td>\n      <td>Apple</td>\n      <td>2022 13\" MacBook Air M2, 16GB RAM, 256GB Stora...</td>\n      <td>1198.55</td>\n      <td>4.8</td>\n      <td>69.0</td>\n    </tr>\n    <tr>\n      <th>4</th>\n      <td>1856514212231354877</td>\n      <td>Apple</td>\n      <td>2023 MacBook Pro Laptop M3 Pro chip with 12‑co...</td>\n      <td>2023.08</td>\n      <td>4.7</td>\n      <td>230.0</td>\n    </tr>\n    <tr>\n      <th>10</th>\n      <td>8716352687586266146</td>\n      <td>Apple</td>\n      <td>2023 MacBook Air Laptop with M2 chip: 15.3-inc...</td>\n      <td>1406.77</td>\n      <td>4.7</td>\n      <td>87.0</td>\n    </tr>\n    <tr>\n      <th>12</th>\n      <td>5648878088638701404</td>\n      <td>Apple</td>\n      <td>2023 MacBook Pro Laptop M2 Pro chip with 12‑co...</td>\n      <td>1998.99</td>\n      <td>4.7</td>\n      <td>357.0</td>\n    </tr>\n    <tr>\n      <th>9</th>\n      <td>8664421581211455426</td>\n      <td>Apple</td>\n      <td>2023 MacBook Pro Laptop M3 Max chip with 14‑co...</td>\n      <td>3097.25</td>\n      <td>4.6</td>\n      <td>142.0</td>\n    </tr>\n    <tr>\n      <th>2</th>\n      <td>1221905918155227056</td>\n      <td>Apple</td>\n      <td>2024 MacBook Air 15-inch Laptop with M3 chip: ...</td>\n      <td>1200.37</td>\n      <td>4.5</td>\n      <td>48.0</td>\n    </tr>\n  </tbody>\n</table>\n</div>"
     },
     "execution_count": 63,
     "metadata": {},
     "output_type": "execute_result"
    }
   ],
   "source": [
    "recommended_products"
   ],
   "metadata": {
    "collapsed": false,
    "ExecuteTime": {
     "end_time": "2024-05-03T16:36:40.887871Z",
     "start_time": "2024-05-03T16:36:40.878953Z"
    }
   },
   "id": "f9d00a4e732b63a3"
  },
  {
   "cell_type": "code",
   "execution_count": 28,
   "outputs": [],
   "source": [],
   "metadata": {
    "collapsed": false,
    "ExecuteTime": {
     "end_time": "2024-05-03T16:35:39.185983Z",
     "start_time": "2024-05-03T16:35:39.153428Z"
    }
   },
   "id": "c2dc53613d65c9f9"
  }
 ],
 "metadata": {
  "kernelspec": {
   "display_name": "Python 3",
   "language": "python",
   "name": "python3"
  },
  "language_info": {
   "codemirror_mode": {
    "name": "ipython",
    "version": 2
   },
   "file_extension": ".py",
   "mimetype": "text/x-python",
   "name": "python",
   "nbconvert_exporter": "python",
   "pygments_lexer": "ipython2",
   "version": "2.7.6"
  }
 },
 "nbformat": 4,
 "nbformat_minor": 5
}
