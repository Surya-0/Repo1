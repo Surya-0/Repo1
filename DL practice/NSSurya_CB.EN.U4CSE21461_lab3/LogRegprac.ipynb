{
 "cells": [
  {
   "cell_type": "markdown",
   "metadata": {},
   "source": [
    "## Logistic Regression"
   ]
  },
  {
   "cell_type": "code",
   "execution_count": 205,
   "metadata": {
    "ExecuteTime": {
     "end_time": "2023-10-28T20:40:57.077672Z",
     "start_time": "2023-10-28T20:40:57.022230Z"
    }
   },
   "outputs": [],
   "source": [
    "import numpy as np\n",
    "import pandas as pd\n",
    "import matplotlib.pyplot as plt"
   ]
  },
  {
   "cell_type": "code",
   "execution_count": 206,
   "metadata": {
    "ExecuteTime": {
     "end_time": "2023-10-28T20:40:57.095920Z",
     "start_time": "2023-10-28T20:40:57.025279Z"
    }
   },
   "outputs": [
    {
     "data": {
      "text/plain": "      Id  SepalLengthCm  SepalWidthCm  PetalLengthCm  PetalWidthCm  \\\n0      1            5.1           3.5            1.4           0.2   \n1      2            4.9           3.0            1.4           0.2   \n2      3            4.7           3.2            1.3           0.2   \n3      4            4.6           3.1            1.5           0.2   \n4      5            5.0           3.6            1.4           0.2   \n..   ...            ...           ...            ...           ...   \n145  146            6.7           3.0            5.2           2.3   \n146  147            6.3           2.5            5.0           1.9   \n147  148            6.5           3.0            5.2           2.0   \n148  149            6.2           3.4            5.4           2.3   \n149  150            5.9           3.0            5.1           1.8   \n\n            Species  \n0       Iris-setosa  \n1       Iris-setosa  \n2       Iris-setosa  \n3       Iris-setosa  \n4       Iris-setosa  \n..              ...  \n145  Iris-virginica  \n146  Iris-virginica  \n147  Iris-virginica  \n148  Iris-virginica  \n149  Iris-virginica  \n\n[150 rows x 6 columns]",
      "text/html": "<div>\n<style scoped>\n    .dataframe tbody tr th:only-of-type {\n        vertical-align: middle;\n    }\n\n    .dataframe tbody tr th {\n        vertical-align: top;\n    }\n\n    .dataframe thead th {\n        text-align: right;\n    }\n</style>\n<table border=\"1\" class=\"dataframe\">\n  <thead>\n    <tr style=\"text-align: right;\">\n      <th></th>\n      <th>Id</th>\n      <th>SepalLengthCm</th>\n      <th>SepalWidthCm</th>\n      <th>PetalLengthCm</th>\n      <th>PetalWidthCm</th>\n      <th>Species</th>\n    </tr>\n  </thead>\n  <tbody>\n    <tr>\n      <th>0</th>\n      <td>1</td>\n      <td>5.1</td>\n      <td>3.5</td>\n      <td>1.4</td>\n      <td>0.2</td>\n      <td>Iris-setosa</td>\n    </tr>\n    <tr>\n      <th>1</th>\n      <td>2</td>\n      <td>4.9</td>\n      <td>3.0</td>\n      <td>1.4</td>\n      <td>0.2</td>\n      <td>Iris-setosa</td>\n    </tr>\n    <tr>\n      <th>2</th>\n      <td>3</td>\n      <td>4.7</td>\n      <td>3.2</td>\n      <td>1.3</td>\n      <td>0.2</td>\n      <td>Iris-setosa</td>\n    </tr>\n    <tr>\n      <th>3</th>\n      <td>4</td>\n      <td>4.6</td>\n      <td>3.1</td>\n      <td>1.5</td>\n      <td>0.2</td>\n      <td>Iris-setosa</td>\n    </tr>\n    <tr>\n      <th>4</th>\n      <td>5</td>\n      <td>5.0</td>\n      <td>3.6</td>\n      <td>1.4</td>\n      <td>0.2</td>\n      <td>Iris-setosa</td>\n    </tr>\n    <tr>\n      <th>...</th>\n      <td>...</td>\n      <td>...</td>\n      <td>...</td>\n      <td>...</td>\n      <td>...</td>\n      <td>...</td>\n    </tr>\n    <tr>\n      <th>145</th>\n      <td>146</td>\n      <td>6.7</td>\n      <td>3.0</td>\n      <td>5.2</td>\n      <td>2.3</td>\n      <td>Iris-virginica</td>\n    </tr>\n    <tr>\n      <th>146</th>\n      <td>147</td>\n      <td>6.3</td>\n      <td>2.5</td>\n      <td>5.0</td>\n      <td>1.9</td>\n      <td>Iris-virginica</td>\n    </tr>\n    <tr>\n      <th>147</th>\n      <td>148</td>\n      <td>6.5</td>\n      <td>3.0</td>\n      <td>5.2</td>\n      <td>2.0</td>\n      <td>Iris-virginica</td>\n    </tr>\n    <tr>\n      <th>148</th>\n      <td>149</td>\n      <td>6.2</td>\n      <td>3.4</td>\n      <td>5.4</td>\n      <td>2.3</td>\n      <td>Iris-virginica</td>\n    </tr>\n    <tr>\n      <th>149</th>\n      <td>150</td>\n      <td>5.9</td>\n      <td>3.0</td>\n      <td>5.1</td>\n      <td>1.8</td>\n      <td>Iris-virginica</td>\n    </tr>\n  </tbody>\n</table>\n<p>150 rows × 6 columns</p>\n</div>"
     },
     "execution_count": 206,
     "metadata": {},
     "output_type": "execute_result"
    }
   ],
   "source": [
    "data = pd.read_csv('iris.csv')\n",
    "data"
   ]
  },
  {
   "cell_type": "code",
   "execution_count": 207,
   "metadata": {
    "ExecuteTime": {
     "end_time": "2023-10-28T20:40:57.096044Z",
     "start_time": "2023-10-28T20:40:57.040813Z"
    }
   },
   "outputs": [],
   "source": [
    "def convert(x):\n",
    "    if x==\"Iris-setosa\":\n",
    "        x=0\n",
    "    elif x==\"Iris-versicolor\":\n",
    "        x=1\n",
    "    return x\n",
    "data['Species'] = data['Species'].apply(convert)"
   ]
  },
  {
   "cell_type": "code",
   "execution_count": 208,
   "metadata": {
    "ExecuteTime": {
     "end_time": "2023-10-28T20:40:57.096199Z",
     "start_time": "2023-10-28T20:40:57.047063Z"
    }
   },
   "outputs": [
    {
     "data": {
      "text/plain": "      Id  SepalLengthCm  SepalWidthCm  PetalLengthCm  PetalWidthCm  \\\n0      1            5.1           3.5            1.4           0.2   \n1      2            4.9           3.0            1.4           0.2   \n2      3            4.7           3.2            1.3           0.2   \n3      4            4.6           3.1            1.5           0.2   \n4      5            5.0           3.6            1.4           0.2   \n..   ...            ...           ...            ...           ...   \n145  146            6.7           3.0            5.2           2.3   \n146  147            6.3           2.5            5.0           1.9   \n147  148            6.5           3.0            5.2           2.0   \n148  149            6.2           3.4            5.4           2.3   \n149  150            5.9           3.0            5.1           1.8   \n\n            Species  \n0                 0  \n1                 0  \n2                 0  \n3                 0  \n4                 0  \n..              ...  \n145  Iris-virginica  \n146  Iris-virginica  \n147  Iris-virginica  \n148  Iris-virginica  \n149  Iris-virginica  \n\n[150 rows x 6 columns]",
      "text/html": "<div>\n<style scoped>\n    .dataframe tbody tr th:only-of-type {\n        vertical-align: middle;\n    }\n\n    .dataframe tbody tr th {\n        vertical-align: top;\n    }\n\n    .dataframe thead th {\n        text-align: right;\n    }\n</style>\n<table border=\"1\" class=\"dataframe\">\n  <thead>\n    <tr style=\"text-align: right;\">\n      <th></th>\n      <th>Id</th>\n      <th>SepalLengthCm</th>\n      <th>SepalWidthCm</th>\n      <th>PetalLengthCm</th>\n      <th>PetalWidthCm</th>\n      <th>Species</th>\n    </tr>\n  </thead>\n  <tbody>\n    <tr>\n      <th>0</th>\n      <td>1</td>\n      <td>5.1</td>\n      <td>3.5</td>\n      <td>1.4</td>\n      <td>0.2</td>\n      <td>0</td>\n    </tr>\n    <tr>\n      <th>1</th>\n      <td>2</td>\n      <td>4.9</td>\n      <td>3.0</td>\n      <td>1.4</td>\n      <td>0.2</td>\n      <td>0</td>\n    </tr>\n    <tr>\n      <th>2</th>\n      <td>3</td>\n      <td>4.7</td>\n      <td>3.2</td>\n      <td>1.3</td>\n      <td>0.2</td>\n      <td>0</td>\n    </tr>\n    <tr>\n      <th>3</th>\n      <td>4</td>\n      <td>4.6</td>\n      <td>3.1</td>\n      <td>1.5</td>\n      <td>0.2</td>\n      <td>0</td>\n    </tr>\n    <tr>\n      <th>4</th>\n      <td>5</td>\n      <td>5.0</td>\n      <td>3.6</td>\n      <td>1.4</td>\n      <td>0.2</td>\n      <td>0</td>\n    </tr>\n    <tr>\n      <th>...</th>\n      <td>...</td>\n      <td>...</td>\n      <td>...</td>\n      <td>...</td>\n      <td>...</td>\n      <td>...</td>\n    </tr>\n    <tr>\n      <th>145</th>\n      <td>146</td>\n      <td>6.7</td>\n      <td>3.0</td>\n      <td>5.2</td>\n      <td>2.3</td>\n      <td>Iris-virginica</td>\n    </tr>\n    <tr>\n      <th>146</th>\n      <td>147</td>\n      <td>6.3</td>\n      <td>2.5</td>\n      <td>5.0</td>\n      <td>1.9</td>\n      <td>Iris-virginica</td>\n    </tr>\n    <tr>\n      <th>147</th>\n      <td>148</td>\n      <td>6.5</td>\n      <td>3.0</td>\n      <td>5.2</td>\n      <td>2.0</td>\n      <td>Iris-virginica</td>\n    </tr>\n    <tr>\n      <th>148</th>\n      <td>149</td>\n      <td>6.2</td>\n      <td>3.4</td>\n      <td>5.4</td>\n      <td>2.3</td>\n      <td>Iris-virginica</td>\n    </tr>\n    <tr>\n      <th>149</th>\n      <td>150</td>\n      <td>5.9</td>\n      <td>3.0</td>\n      <td>5.1</td>\n      <td>1.8</td>\n      <td>Iris-virginica</td>\n    </tr>\n  </tbody>\n</table>\n<p>150 rows × 6 columns</p>\n</div>"
     },
     "execution_count": 208,
     "metadata": {},
     "output_type": "execute_result"
    }
   ],
   "source": [
    "data"
   ]
  },
  {
   "cell_type": "code",
   "execution_count": 209,
   "metadata": {
    "ExecuteTime": {
     "end_time": "2023-10-28T20:40:57.096272Z",
     "start_time": "2023-10-28T20:40:57.050954Z"
    }
   },
   "outputs": [
    {
     "data": {
      "text/plain": "0                 50\n1                 50\nIris-virginica    50\nName: Species, dtype: int64"
     },
     "execution_count": 209,
     "metadata": {},
     "output_type": "execute_result"
    }
   ],
   "source": [
    "data['Species'].value_counts()"
   ]
  },
  {
   "cell_type": "code",
   "execution_count": 210,
   "metadata": {
    "ExecuteTime": {
     "end_time": "2023-10-28T20:40:57.096297Z",
     "start_time": "2023-10-28T20:40:57.053680Z"
    }
   },
   "outputs": [],
   "source": [
    "X = data.iloc[:100,:-1].values\n",
    "y = data.iloc[:100,-1].values"
   ]
  },
  {
   "cell_type": "code",
   "execution_count": 211,
   "metadata": {
    "ExecuteTime": {
     "end_time": "2023-10-28T20:40:57.096351Z",
     "start_time": "2023-10-28T20:40:57.060348Z"
    }
   },
   "outputs": [
    {
     "data": {
      "text/plain": "array([0, 0, 0, 0, 0, 0, 0, 0, 0, 0, 0, 0, 0, 0, 0, 0, 0, 0, 0, 0, 0, 0,\n       0, 0, 0, 0, 0, 0, 0, 0, 0, 0, 0, 0, 0, 0, 0, 0, 0, 0, 0, 0, 0, 0,\n       0, 0, 0, 0, 0, 0, 1, 1, 1, 1, 1, 1, 1, 1, 1, 1, 1, 1, 1, 1, 1, 1,\n       1, 1, 1, 1, 1, 1, 1, 1, 1, 1, 1, 1, 1, 1, 1, 1, 1, 1, 1, 1, 1, 1,\n       1, 1, 1, 1, 1, 1, 1, 1, 1, 1, 1, 1], dtype=object)"
     },
     "execution_count": 211,
     "metadata": {},
     "output_type": "execute_result"
    }
   ],
   "source": [
    "y"
   ]
  },
  {
   "cell_type": "code",
   "execution_count": 212,
   "metadata": {
    "ExecuteTime": {
     "end_time": "2023-10-28T20:40:57.096499Z",
     "start_time": "2023-10-28T20:40:57.063331Z"
    }
   },
   "outputs": [
    {
     "data": {
      "text/plain": "array([[  1. ,   5.1,   3.5,   1.4,   0.2],\n       [  2. ,   4.9,   3. ,   1.4,   0.2],\n       [  3. ,   4.7,   3.2,   1.3,   0.2],\n       [  4. ,   4.6,   3.1,   1.5,   0.2],\n       [  5. ,   5. ,   3.6,   1.4,   0.2],\n       [  6. ,   5.4,   3.9,   1.7,   0.4],\n       [  7. ,   4.6,   3.4,   1.4,   0.3],\n       [  8. ,   5. ,   3.4,   1.5,   0.2],\n       [  9. ,   4.4,   2.9,   1.4,   0.2],\n       [ 10. ,   4.9,   3.1,   1.5,   0.1],\n       [ 11. ,   5.4,   3.7,   1.5,   0.2],\n       [ 12. ,   4.8,   3.4,   1.6,   0.2],\n       [ 13. ,   4.8,   3. ,   1.4,   0.1],\n       [ 14. ,   4.3,   3. ,   1.1,   0.1],\n       [ 15. ,   5.8,   4. ,   1.2,   0.2],\n       [ 16. ,   5.7,   4.4,   1.5,   0.4],\n       [ 17. ,   5.4,   3.9,   1.3,   0.4],\n       [ 18. ,   5.1,   3.5,   1.4,   0.3],\n       [ 19. ,   5.7,   3.8,   1.7,   0.3],\n       [ 20. ,   5.1,   3.8,   1.5,   0.3],\n       [ 21. ,   5.4,   3.4,   1.7,   0.2],\n       [ 22. ,   5.1,   3.7,   1.5,   0.4],\n       [ 23. ,   4.6,   3.6,   1. ,   0.2],\n       [ 24. ,   5.1,   3.3,   1.7,   0.5],\n       [ 25. ,   4.8,   3.4,   1.9,   0.2],\n       [ 26. ,   5. ,   3. ,   1.6,   0.2],\n       [ 27. ,   5. ,   3.4,   1.6,   0.4],\n       [ 28. ,   5.2,   3.5,   1.5,   0.2],\n       [ 29. ,   5.2,   3.4,   1.4,   0.2],\n       [ 30. ,   4.7,   3.2,   1.6,   0.2],\n       [ 31. ,   4.8,   3.1,   1.6,   0.2],\n       [ 32. ,   5.4,   3.4,   1.5,   0.4],\n       [ 33. ,   5.2,   4.1,   1.5,   0.1],\n       [ 34. ,   5.5,   4.2,   1.4,   0.2],\n       [ 35. ,   4.9,   3.1,   1.5,   0.1],\n       [ 36. ,   5. ,   3.2,   1.2,   0.2],\n       [ 37. ,   5.5,   3.5,   1.3,   0.2],\n       [ 38. ,   4.9,   3.1,   1.5,   0.1],\n       [ 39. ,   4.4,   3. ,   1.3,   0.2],\n       [ 40. ,   5.1,   3.4,   1.5,   0.2],\n       [ 41. ,   5. ,   3.5,   1.3,   0.3],\n       [ 42. ,   4.5,   2.3,   1.3,   0.3],\n       [ 43. ,   4.4,   3.2,   1.3,   0.2],\n       [ 44. ,   5. ,   3.5,   1.6,   0.6],\n       [ 45. ,   5.1,   3.8,   1.9,   0.4],\n       [ 46. ,   4.8,   3. ,   1.4,   0.3],\n       [ 47. ,   5.1,   3.8,   1.6,   0.2],\n       [ 48. ,   4.6,   3.2,   1.4,   0.2],\n       [ 49. ,   5.3,   3.7,   1.5,   0.2],\n       [ 50. ,   5. ,   3.3,   1.4,   0.2],\n       [ 51. ,   7. ,   3.2,   4.7,   1.4],\n       [ 52. ,   6.4,   3.2,   4.5,   1.5],\n       [ 53. ,   6.9,   3.1,   4.9,   1.5],\n       [ 54. ,   5.5,   2.3,   4. ,   1.3],\n       [ 55. ,   6.5,   2.8,   4.6,   1.5],\n       [ 56. ,   5.7,   2.8,   4.5,   1.3],\n       [ 57. ,   6.3,   3.3,   4.7,   1.6],\n       [ 58. ,   4.9,   2.4,   3.3,   1. ],\n       [ 59. ,   6.6,   2.9,   4.6,   1.3],\n       [ 60. ,   5.2,   2.7,   3.9,   1.4],\n       [ 61. ,   5. ,   2. ,   3.5,   1. ],\n       [ 62. ,   5.9,   3. ,   4.2,   1.5],\n       [ 63. ,   6. ,   2.2,   4. ,   1. ],\n       [ 64. ,   6.1,   2.9,   4.7,   1.4],\n       [ 65. ,   5.6,   2.9,   3.6,   1.3],\n       [ 66. ,   6.7,   3.1,   4.4,   1.4],\n       [ 67. ,   5.6,   3. ,   4.5,   1.5],\n       [ 68. ,   5.8,   2.7,   4.1,   1. ],\n       [ 69. ,   6.2,   2.2,   4.5,   1.5],\n       [ 70. ,   5.6,   2.5,   3.9,   1.1],\n       [ 71. ,   5.9,   3.2,   4.8,   1.8],\n       [ 72. ,   6.1,   2.8,   4. ,   1.3],\n       [ 73. ,   6.3,   2.5,   4.9,   1.5],\n       [ 74. ,   6.1,   2.8,   4.7,   1.2],\n       [ 75. ,   6.4,   2.9,   4.3,   1.3],\n       [ 76. ,   6.6,   3. ,   4.4,   1.4],\n       [ 77. ,   6.8,   2.8,   4.8,   1.4],\n       [ 78. ,   6.7,   3. ,   5. ,   1.7],\n       [ 79. ,   6. ,   2.9,   4.5,   1.5],\n       [ 80. ,   5.7,   2.6,   3.5,   1. ],\n       [ 81. ,   5.5,   2.4,   3.8,   1.1],\n       [ 82. ,   5.5,   2.4,   3.7,   1. ],\n       [ 83. ,   5.8,   2.7,   3.9,   1.2],\n       [ 84. ,   6. ,   2.7,   5.1,   1.6],\n       [ 85. ,   5.4,   3. ,   4.5,   1.5],\n       [ 86. ,   6. ,   3.4,   4.5,   1.6],\n       [ 87. ,   6.7,   3.1,   4.7,   1.5],\n       [ 88. ,   6.3,   2.3,   4.4,   1.3],\n       [ 89. ,   5.6,   3. ,   4.1,   1.3],\n       [ 90. ,   5.5,   2.5,   4. ,   1.3],\n       [ 91. ,   5.5,   2.6,   4.4,   1.2],\n       [ 92. ,   6.1,   3. ,   4.6,   1.4],\n       [ 93. ,   5.8,   2.6,   4. ,   1.2],\n       [ 94. ,   5. ,   2.3,   3.3,   1. ],\n       [ 95. ,   5.6,   2.7,   4.2,   1.3],\n       [ 96. ,   5.7,   3. ,   4.2,   1.2],\n       [ 97. ,   5.7,   2.9,   4.2,   1.3],\n       [ 98. ,   6.2,   2.9,   4.3,   1.3],\n       [ 99. ,   5.1,   2.5,   3. ,   1.1],\n       [100. ,   5.7,   2.8,   4.1,   1.3]])"
     },
     "execution_count": 212,
     "metadata": {},
     "output_type": "execute_result"
    }
   ],
   "source": [
    "X"
   ]
  },
  {
   "cell_type": "code",
   "execution_count": 213,
   "metadata": {
    "ExecuteTime": {
     "end_time": "2023-10-28T20:40:57.096523Z",
     "start_time": "2023-10-28T20:40:57.065312Z"
    }
   },
   "outputs": [],
   "source": [
    "X = X[:,1:]"
   ]
  },
  {
   "cell_type": "code",
   "execution_count": 214,
   "metadata": {
    "ExecuteTime": {
     "end_time": "2023-10-28T20:40:57.096630Z",
     "start_time": "2023-10-28T20:40:57.067837Z"
    }
   },
   "outputs": [
    {
     "data": {
      "text/plain": "array([[5.1, 3.5, 1.4, 0.2],\n       [4.9, 3. , 1.4, 0.2],\n       [4.7, 3.2, 1.3, 0.2],\n       [4.6, 3.1, 1.5, 0.2],\n       [5. , 3.6, 1.4, 0.2],\n       [5.4, 3.9, 1.7, 0.4],\n       [4.6, 3.4, 1.4, 0.3],\n       [5. , 3.4, 1.5, 0.2],\n       [4.4, 2.9, 1.4, 0.2],\n       [4.9, 3.1, 1.5, 0.1],\n       [5.4, 3.7, 1.5, 0.2],\n       [4.8, 3.4, 1.6, 0.2],\n       [4.8, 3. , 1.4, 0.1],\n       [4.3, 3. , 1.1, 0.1],\n       [5.8, 4. , 1.2, 0.2],\n       [5.7, 4.4, 1.5, 0.4],\n       [5.4, 3.9, 1.3, 0.4],\n       [5.1, 3.5, 1.4, 0.3],\n       [5.7, 3.8, 1.7, 0.3],\n       [5.1, 3.8, 1.5, 0.3],\n       [5.4, 3.4, 1.7, 0.2],\n       [5.1, 3.7, 1.5, 0.4],\n       [4.6, 3.6, 1. , 0.2],\n       [5.1, 3.3, 1.7, 0.5],\n       [4.8, 3.4, 1.9, 0.2],\n       [5. , 3. , 1.6, 0.2],\n       [5. , 3.4, 1.6, 0.4],\n       [5.2, 3.5, 1.5, 0.2],\n       [5.2, 3.4, 1.4, 0.2],\n       [4.7, 3.2, 1.6, 0.2],\n       [4.8, 3.1, 1.6, 0.2],\n       [5.4, 3.4, 1.5, 0.4],\n       [5.2, 4.1, 1.5, 0.1],\n       [5.5, 4.2, 1.4, 0.2],\n       [4.9, 3.1, 1.5, 0.1],\n       [5. , 3.2, 1.2, 0.2],\n       [5.5, 3.5, 1.3, 0.2],\n       [4.9, 3.1, 1.5, 0.1],\n       [4.4, 3. , 1.3, 0.2],\n       [5.1, 3.4, 1.5, 0.2],\n       [5. , 3.5, 1.3, 0.3],\n       [4.5, 2.3, 1.3, 0.3],\n       [4.4, 3.2, 1.3, 0.2],\n       [5. , 3.5, 1.6, 0.6],\n       [5.1, 3.8, 1.9, 0.4],\n       [4.8, 3. , 1.4, 0.3],\n       [5.1, 3.8, 1.6, 0.2],\n       [4.6, 3.2, 1.4, 0.2],\n       [5.3, 3.7, 1.5, 0.2],\n       [5. , 3.3, 1.4, 0.2],\n       [7. , 3.2, 4.7, 1.4],\n       [6.4, 3.2, 4.5, 1.5],\n       [6.9, 3.1, 4.9, 1.5],\n       [5.5, 2.3, 4. , 1.3],\n       [6.5, 2.8, 4.6, 1.5],\n       [5.7, 2.8, 4.5, 1.3],\n       [6.3, 3.3, 4.7, 1.6],\n       [4.9, 2.4, 3.3, 1. ],\n       [6.6, 2.9, 4.6, 1.3],\n       [5.2, 2.7, 3.9, 1.4],\n       [5. , 2. , 3.5, 1. ],\n       [5.9, 3. , 4.2, 1.5],\n       [6. , 2.2, 4. , 1. ],\n       [6.1, 2.9, 4.7, 1.4],\n       [5.6, 2.9, 3.6, 1.3],\n       [6.7, 3.1, 4.4, 1.4],\n       [5.6, 3. , 4.5, 1.5],\n       [5.8, 2.7, 4.1, 1. ],\n       [6.2, 2.2, 4.5, 1.5],\n       [5.6, 2.5, 3.9, 1.1],\n       [5.9, 3.2, 4.8, 1.8],\n       [6.1, 2.8, 4. , 1.3],\n       [6.3, 2.5, 4.9, 1.5],\n       [6.1, 2.8, 4.7, 1.2],\n       [6.4, 2.9, 4.3, 1.3],\n       [6.6, 3. , 4.4, 1.4],\n       [6.8, 2.8, 4.8, 1.4],\n       [6.7, 3. , 5. , 1.7],\n       [6. , 2.9, 4.5, 1.5],\n       [5.7, 2.6, 3.5, 1. ],\n       [5.5, 2.4, 3.8, 1.1],\n       [5.5, 2.4, 3.7, 1. ],\n       [5.8, 2.7, 3.9, 1.2],\n       [6. , 2.7, 5.1, 1.6],\n       [5.4, 3. , 4.5, 1.5],\n       [6. , 3.4, 4.5, 1.6],\n       [6.7, 3.1, 4.7, 1.5],\n       [6.3, 2.3, 4.4, 1.3],\n       [5.6, 3. , 4.1, 1.3],\n       [5.5, 2.5, 4. , 1.3],\n       [5.5, 2.6, 4.4, 1.2],\n       [6.1, 3. , 4.6, 1.4],\n       [5.8, 2.6, 4. , 1.2],\n       [5. , 2.3, 3.3, 1. ],\n       [5.6, 2.7, 4.2, 1.3],\n       [5.7, 3. , 4.2, 1.2],\n       [5.7, 2.9, 4.2, 1.3],\n       [6.2, 2.9, 4.3, 1.3],\n       [5.1, 2.5, 3. , 1.1],\n       [5.7, 2.8, 4.1, 1.3]])"
     },
     "execution_count": 214,
     "metadata": {},
     "output_type": "execute_result"
    }
   ],
   "source": [
    "X"
   ]
  },
  {
   "cell_type": "code",
   "execution_count": 215,
   "metadata": {
    "ExecuteTime": {
     "end_time": "2023-10-28T20:40:57.096653Z",
     "start_time": "2023-10-28T20:40:57.070768Z"
    }
   },
   "outputs": [],
   "source": [
    "from sklearn.model_selection import train_test_split\n",
    "X_train,X_test,y_train,y_test = train_test_split(X,y,test_size=0.2,random_state=42)\n"
   ]
  },
  {
   "cell_type": "code",
   "execution_count": 216,
   "metadata": {
    "ExecuteTime": {
     "end_time": "2023-10-28T20:40:57.096674Z",
     "start_time": "2023-10-28T20:40:57.073223Z"
    }
   },
   "outputs": [],
   "source": [
    "from sklearn.preprocessing import StandardScaler\n",
    "sc = StandardScaler()\n",
    "X_train = sc.fit_transform(X_train)\n",
    "X_test = sc.fit_transform(X_test)"
   ]
  },
  {
   "cell_type": "code",
   "execution_count": 217,
   "outputs": [],
   "source": [
    "class Perceptron_adam:\n",
    "    def __init__(self, learning_rate=0.001, num_epochs=2000, decay_rate=0.9, epsilon=1e-7):\n",
    "        self.learning_rate = learning_rate\n",
    "        self.num_epochs = num_epochs\n",
    "        self.decay_rate = decay_rate\n",
    "        self.epsilon = epsilon\n",
    "        self.moving_avg_sq_b = 0\n",
    "        self.moving_avg_sq_w = 0\n",
    "        \n",
    "\n",
    "    def sigmoid(self, z):\n",
    "        return 1 / (1 + np.exp(-z))\n",
    "\n",
    "    def sigmoid_prime(self, z):\n",
    "        return self.sigmoid(z) * (1 - self.sigmoid(z))\n",
    "\n",
    "    def predicted(self, X):\n",
    "        linear_model = np.dot(X, self.weights) + self.bias\n",
    "        pred = self.sigmoid(linear_model)\n",
    "        return pred\n",
    "\n",
    "    def sigmoid_prime_predictor(self, X):\n",
    "        linear_model = np.dot(X, self.weights) + self.bias\n",
    "        pred = self.sigmoid_prime(linear_model)\n",
    "        return pred\n",
    "\n",
    "    def fit(self, X, y):\n",
    "        \n",
    "        num_samples, num_features = X.shape\n",
    "        self.weights = np.zeros(num_features)\n",
    "        self.bias = 0\n",
    "        \n",
    "        for i in range(self.num_epochs):\n",
    "            y_pred = self.predicted(X)\n",
    "            sp = self.sigmoid_prime_predictor(X)\n",
    "            term = ((y_pred - y) * sp).astype('float')\n",
    "            dw = (1 / num_samples) * np.dot(X.T, term)\n",
    "            db = (1 / num_samples) * sum(term)\n",
    "\n",
    "            # Update the moving average of squared gradients\n",
    "            self.moving_avg_sq_w = self.decay_rate * self.moving_avg_sq_w + (1 - self.decay_rate) * (dw ** 2)\n",
    "            self.moving_avg_sq_b = self.decay_rate * self.moving_avg_sq_b + (1 - self.decay_rate) * (db ** 2)\n",
    "            \n",
    "            # Update weights and bias using  rmsprop\n",
    "            self.weights -= (self.learning_rate / (np.sqrt((self.moving_avg_sq_w) + self.epsilon))) * dw\n",
    "            self.bias -= (self.learning_rate / (np.sqrt((self.moving_avg_sq_b) + self.epsilon))) * db\n",
    "\n",
    "    def test(self, X, y):\n",
    "        Y_predtest = self.predicted(X)\n",
    "        Y_values = Y_predtest\n",
    "        correct = 0\n",
    "        total = len(y)\n",
    "        for i in range(len(Y_predtest)):\n",
    "            if Y_predtest[i] > 0.5:\n",
    "                Y_predtest[i] = 1\n",
    "            else:\n",
    "                Y_predtest[i] = 0\n",
    "        for i in range(len(y)):\n",
    "            if y[i] == Y_predtest[i]:\n",
    "                correct += 1\n",
    "        print(\"Accuracy is : \",correct/total)\n",
    "        return Y_predtest\n"
   ],
   "metadata": {
    "collapsed": false,
    "ExecuteTime": {
     "end_time": "2023-10-28T20:40:57.097401Z",
     "start_time": "2023-10-28T20:40:57.078116Z"
    }
   }
  },
  {
   "cell_type": "code",
   "execution_count": 218,
   "metadata": {
    "ExecuteTime": {
     "end_time": "2023-10-28T20:40:57.097516Z",
     "start_time": "2023-10-28T20:40:57.083504Z"
    }
   },
   "outputs": [],
   "source": [
    "class Perceptron:\n",
    "    def __init__(self,learning_rate=0.01,num_epochs=1000):\n",
    "        self.learning_rate = learning_rate\n",
    "        self.num_epochs = num_epochs\n",
    "    \n",
    "    def sigmoid(self,z):\n",
    "        return 1/(1+np.exp(-z))\n",
    "\n",
    "    def sigmoid_prime(self,z):\n",
    "        return self.sigmoid(z)*(1-self.sigmoid(z))\n",
    "    \n",
    "    def predicted(self,X):\n",
    "        # print(X.shape)\n",
    "        # print(self.bias)\n",
    "        # print(self.weights.shape)\n",
    "        linear_model = np.dot(X,self.weights)+self.bias\n",
    "        # print(linear_model.shape)\n",
    "        pred = self.sigmoid(linear_model)\n",
    "        return pred\n",
    "    \n",
    "    def sigmoid_prime_predictor(self,X):\n",
    "        linear_model = np.dot(X,self.weights)+self.bias\n",
    "        pred = self.sigmoid_prime(linear_model)\n",
    "        return pred\n",
    "    \n",
    "    def fit(self,X,y):\n",
    "        num_samples,num_features = X.shape\n",
    "        self.weights = np.array([0.0]*num_features,dtype=\"float64\")\n",
    "        # print(self.weights.dtype)\n",
    "        self.bias = 0 \n",
    "\n",
    "        for i in range(self.num_epochs):\n",
    "            y_pred = self.predicted(X)\n",
    "            # print(y_pred.shape)\n",
    "            # print(\"Prediction type : \",y_pred.dtype)\n",
    "            sp = self.sigmoid_prime_predictor(X)\n",
    "            # print(\"Sp type :\",sp.dtype)\n",
    "            term = ((y_pred - y)*sp).astype('float')\n",
    "            # print(\"Subtraction type : \",(y_pred-y).dtype)\n",
    "            # print(\"Term type : \",term.dtype)\n",
    "            dw = (1/num_samples)*np.dot(X.T,term)\n",
    "            # print(dw.dtype)\n",
    "            db = (1/num_samples)*sum(term)\n",
    "\n",
    "            self.weights -= self.learning_rate*dw\n",
    "            self.bias -= self.learning_rate*db\n",
    "    \n",
    "    def test(self,X,y):\n",
    "        global Y_predtest\n",
    "        Y_predtest = self.predicted(X)\n",
    "        print(Y_predtest)\n",
    "        Y_values = Y_predtest\n",
    "        correct = 0\n",
    "        total = len(y)\n",
    "        for i in range(len(Y_predtest)):\n",
    "            if Y_predtest[i]>0.5:\n",
    "                Y_predtest[i] =1\n",
    "            else:\n",
    "                Y_predtest[i]=0\n",
    "        for i in range(len(y)):\n",
    "            if y[i] == Y_predtest[i]:\n",
    "                correct+=1\n",
    "\n",
    "        print(\"Accuracy: \",correct/total) \n",
    "        return Y_predtest\n",
    "            \n",
    "\n",
    "            "
   ]
  },
  {
   "cell_type": "code",
   "execution_count": 219,
   "metadata": {
    "ExecuteTime": {
     "end_time": "2023-10-28T20:40:57.111887Z",
     "start_time": "2023-10-28T20:40:57.086998Z"
    }
   },
   "outputs": [],
   "source": [
    "lgreg = Perceptron()\n",
    "lgreg.fit(X_train,y_train)"
   ]
  },
  {
   "cell_type": "code",
   "execution_count": 220,
   "metadata": {
    "ExecuteTime": {
     "end_time": "2023-10-28T20:40:57.112332Z",
     "start_time": "2023-10-28T20:40:57.110221Z"
    }
   },
   "outputs": [
    {
     "name": "stdout",
     "output_type": "stream",
     "text": [
      "[ 0.3638132  -0.38362432  0.53649734  0.53455321]\n",
      "0.049369040034941476\n"
     ]
    }
   ],
   "source": [
    "print(lgreg.weights)\n",
    "print(lgreg.bias)"
   ]
  },
  {
   "cell_type": "code",
   "execution_count": 221,
   "metadata": {
    "ExecuteTime": {
     "end_time": "2023-10-28T20:40:57.114962Z",
     "start_time": "2023-10-28T20:40:57.112545Z"
    }
   },
   "outputs": [
    {
     "name": "stdout",
     "output_type": "stream",
     "text": [
      "[0.91540496 0.84965915 0.88186361 0.26258445 0.23134809 0.22968047\n",
      " 0.13639333 0.803272   0.22170002 0.21054432 0.2711261  0.24418423\n",
      " 0.86646631 0.16611415 0.82489307 0.18841473 0.92523877 0.93324716\n",
      " 0.22942949 0.30028304]\n",
      "Accuracy:  1.0\n",
      "[1. 1. 1. 0. 0. 0. 0. 1. 0. 0. 0. 0. 1. 0. 1. 0. 1. 1. 0. 0.]\n"
     ]
    }
   ],
   "source": [
    "y_predicted = lgreg.test(X_test, y_test)\n",
    "print(y_predicted)"
   ]
  },
  {
   "cell_type": "code",
   "execution_count": 222,
   "outputs": [
    {
     "name": "stdout",
     "output_type": "stream",
     "text": [
      "[1 1 1 0 0 0 0 1 0 0 0 0 1 0 1 0 1 1 0 0]\n"
     ]
    }
   ],
   "source": [
    "print(y_test)"
   ],
   "metadata": {
    "collapsed": false,
    "ExecuteTime": {
     "end_time": "2023-10-28T20:40:57.116599Z",
     "start_time": "2023-10-28T20:40:57.114255Z"
    }
   }
  },
  {
   "cell_type": "code",
   "execution_count": 223,
   "outputs": [
    {
     "ename": "ValueError",
     "evalue": "Classification metrics can't handle a mix of unknown and binary targets",
     "output_type": "error",
     "traceback": [
      "\u001B[0;31m---------------------------------------------------------------------------\u001B[0m",
      "\u001B[0;31mValueError\u001B[0m                                Traceback (most recent call last)",
      "Cell \u001B[0;32mIn[223], line 2\u001B[0m\n\u001B[1;32m      1\u001B[0m \u001B[38;5;28;01mfrom\u001B[39;00m \u001B[38;5;21;01msklearn\u001B[39;00m\u001B[38;5;21;01m.\u001B[39;00m\u001B[38;5;21;01mmetrics\u001B[39;00m \u001B[38;5;28;01mimport\u001B[39;00m accuracy_score\n\u001B[0;32m----> 2\u001B[0m acc \u001B[38;5;241m=\u001B[39m accuracy_score(y_test,y_predicted)\n\u001B[1;32m      3\u001B[0m \u001B[38;5;28mprint\u001B[39m(acc)\n",
      "File \u001B[0;32m~/anaconda3/envs/tf/lib/python3.11/site-packages/sklearn/utils/_param_validation.py:211\u001B[0m, in \u001B[0;36mvalidate_params.<locals>.decorator.<locals>.wrapper\u001B[0;34m(*args, **kwargs)\u001B[0m\n\u001B[1;32m    205\u001B[0m \u001B[38;5;28;01mtry\u001B[39;00m:\n\u001B[1;32m    206\u001B[0m     \u001B[38;5;28;01mwith\u001B[39;00m config_context(\n\u001B[1;32m    207\u001B[0m         skip_parameter_validation\u001B[38;5;241m=\u001B[39m(\n\u001B[1;32m    208\u001B[0m             prefer_skip_nested_validation \u001B[38;5;129;01mor\u001B[39;00m global_skip_validation\n\u001B[1;32m    209\u001B[0m         )\n\u001B[1;32m    210\u001B[0m     ):\n\u001B[0;32m--> 211\u001B[0m         \u001B[38;5;28;01mreturn\u001B[39;00m func(\u001B[38;5;241m*\u001B[39margs, \u001B[38;5;241m*\u001B[39m\u001B[38;5;241m*\u001B[39mkwargs)\n\u001B[1;32m    212\u001B[0m \u001B[38;5;28;01mexcept\u001B[39;00m InvalidParameterError \u001B[38;5;28;01mas\u001B[39;00m e:\n\u001B[1;32m    213\u001B[0m     \u001B[38;5;66;03m# When the function is just a wrapper around an estimator, we allow\u001B[39;00m\n\u001B[1;32m    214\u001B[0m     \u001B[38;5;66;03m# the function to delegate validation to the estimator, but we replace\u001B[39;00m\n\u001B[1;32m    215\u001B[0m     \u001B[38;5;66;03m# the name of the estimator by the name of the function in the error\u001B[39;00m\n\u001B[1;32m    216\u001B[0m     \u001B[38;5;66;03m# message to avoid confusion.\u001B[39;00m\n\u001B[1;32m    217\u001B[0m     msg \u001B[38;5;241m=\u001B[39m re\u001B[38;5;241m.\u001B[39msub(\n\u001B[1;32m    218\u001B[0m         \u001B[38;5;124mr\u001B[39m\u001B[38;5;124m\"\u001B[39m\u001B[38;5;124mparameter of \u001B[39m\u001B[38;5;124m\\\u001B[39m\u001B[38;5;124mw+ must be\u001B[39m\u001B[38;5;124m\"\u001B[39m,\n\u001B[1;32m    219\u001B[0m         \u001B[38;5;124mf\u001B[39m\u001B[38;5;124m\"\u001B[39m\u001B[38;5;124mparameter of \u001B[39m\u001B[38;5;132;01m{\u001B[39;00mfunc\u001B[38;5;241m.\u001B[39m\u001B[38;5;18m__qualname__\u001B[39m\u001B[38;5;132;01m}\u001B[39;00m\u001B[38;5;124m must be\u001B[39m\u001B[38;5;124m\"\u001B[39m,\n\u001B[1;32m    220\u001B[0m         \u001B[38;5;28mstr\u001B[39m(e),\n\u001B[1;32m    221\u001B[0m     )\n",
      "File \u001B[0;32m~/anaconda3/envs/tf/lib/python3.11/site-packages/sklearn/metrics/_classification.py:220\u001B[0m, in \u001B[0;36maccuracy_score\u001B[0;34m(y_true, y_pred, normalize, sample_weight)\u001B[0m\n\u001B[1;32m    154\u001B[0m \u001B[38;5;250m\u001B[39m\u001B[38;5;124;03m\"\"\"Accuracy classification score.\u001B[39;00m\n\u001B[1;32m    155\u001B[0m \n\u001B[1;32m    156\u001B[0m \u001B[38;5;124;03mIn multilabel classification, this function computes subset accuracy:\u001B[39;00m\n\u001B[0;32m   (...)\u001B[0m\n\u001B[1;32m    216\u001B[0m \u001B[38;5;124;03m0.5\u001B[39;00m\n\u001B[1;32m    217\u001B[0m \u001B[38;5;124;03m\"\"\"\u001B[39;00m\n\u001B[1;32m    219\u001B[0m \u001B[38;5;66;03m# Compute accuracy for each possible representation\u001B[39;00m\n\u001B[0;32m--> 220\u001B[0m y_type, y_true, y_pred \u001B[38;5;241m=\u001B[39m _check_targets(y_true, y_pred)\n\u001B[1;32m    221\u001B[0m check_consistent_length(y_true, y_pred, sample_weight)\n\u001B[1;32m    222\u001B[0m \u001B[38;5;28;01mif\u001B[39;00m y_type\u001B[38;5;241m.\u001B[39mstartswith(\u001B[38;5;124m\"\u001B[39m\u001B[38;5;124mmultilabel\u001B[39m\u001B[38;5;124m\"\u001B[39m):\n",
      "File \u001B[0;32m~/anaconda3/envs/tf/lib/python3.11/site-packages/sklearn/metrics/_classification.py:93\u001B[0m, in \u001B[0;36m_check_targets\u001B[0;34m(y_true, y_pred)\u001B[0m\n\u001B[1;32m     90\u001B[0m     y_type \u001B[38;5;241m=\u001B[39m {\u001B[38;5;124m\"\u001B[39m\u001B[38;5;124mmulticlass\u001B[39m\u001B[38;5;124m\"\u001B[39m}\n\u001B[1;32m     92\u001B[0m \u001B[38;5;28;01mif\u001B[39;00m \u001B[38;5;28mlen\u001B[39m(y_type) \u001B[38;5;241m>\u001B[39m \u001B[38;5;241m1\u001B[39m:\n\u001B[0;32m---> 93\u001B[0m     \u001B[38;5;28;01mraise\u001B[39;00m \u001B[38;5;167;01mValueError\u001B[39;00m(\n\u001B[1;32m     94\u001B[0m         \u001B[38;5;124m\"\u001B[39m\u001B[38;5;124mClassification metrics can\u001B[39m\u001B[38;5;124m'\u001B[39m\u001B[38;5;124mt handle a mix of \u001B[39m\u001B[38;5;132;01m{0}\u001B[39;00m\u001B[38;5;124m and \u001B[39m\u001B[38;5;132;01m{1}\u001B[39;00m\u001B[38;5;124m targets\u001B[39m\u001B[38;5;124m\"\u001B[39m\u001B[38;5;241m.\u001B[39mformat(\n\u001B[1;32m     95\u001B[0m             type_true, type_pred\n\u001B[1;32m     96\u001B[0m         )\n\u001B[1;32m     97\u001B[0m     )\n\u001B[1;32m     99\u001B[0m \u001B[38;5;66;03m# We can't have more than one value on y_type => The set is no more needed\u001B[39;00m\n\u001B[1;32m    100\u001B[0m y_type \u001B[38;5;241m=\u001B[39m y_type\u001B[38;5;241m.\u001B[39mpop()\n",
      "\u001B[0;31mValueError\u001B[0m: Classification metrics can't handle a mix of unknown and binary targets"
     ]
    }
   ],
   "source": [
    "from sklearn.metrics import accuracy_score\n",
    "acc = accuracy_score(y_test,y_predicted)\n",
    "print(acc)"
   ],
   "metadata": {
    "collapsed": false,
    "ExecuteTime": {
     "end_time": "2023-10-28T20:40:57.169499Z",
     "start_time": "2023-10-28T20:40:57.117844Z"
    }
   }
  },
  {
   "cell_type": "code",
   "execution_count": null,
   "metadata": {
    "ExecuteTime": {
     "start_time": "2023-10-28T20:40:57.148018Z"
    }
   },
   "outputs": [],
   "source": [
    "arr = np.array([1,2])\n",
    "arr2 = np.array([3,4])\n",
    "print(arr*arr2)"
   ]
  },
  {
   "cell_type": "code",
   "execution_count": null,
   "metadata": {
    "ExecuteTime": {
     "start_time": "2023-10-28T20:40:57.148794Z"
    }
   },
   "outputs": [],
   "source": [
    "print(np.sum(arr+arr2))"
   ]
  },
  {
   "cell_type": "code",
   "execution_count": null,
   "metadata": {
    "ExecuteTime": {
     "start_time": "2023-10-28T20:40:57.149661Z"
    }
   },
   "outputs": [],
   "source": []
  },
  {
   "cell_type": "code",
   "execution_count": null,
   "metadata": {
    "ExecuteTime": {
     "start_time": "2023-10-28T20:40:57.150326Z"
    }
   },
   "outputs": [],
   "source": []
  }
 ],
 "metadata": {
  "kernelspec": {
   "display_name": "tf",
   "language": "python",
   "name": "python3"
  },
  "language_info": {
   "codemirror_mode": {
    "name": "ipython",
    "version": 3
   },
   "file_extension": ".py",
   "mimetype": "text/x-python",
   "name": "python",
   "nbconvert_exporter": "python",
   "pygments_lexer": "ipython3",
   "version": "3.11.4"
  },
  "orig_nbformat": 4
 },
 "nbformat": 4,
 "nbformat_minor": 2
}
