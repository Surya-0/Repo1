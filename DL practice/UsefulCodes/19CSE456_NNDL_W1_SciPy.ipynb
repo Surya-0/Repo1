{
  "nbformat": 4,
  "nbformat_minor": 0,
  "metadata": {
    "colab": {
      "provenance": []
    },
    "kernelspec": {
      "name": "python3",
      "display_name": "Python 3"
    },
    "language_info": {
      "name": "python"
    }
  },
  "cells": [
    {
      "cell_type": "markdown",
      "source": [
        "**SciPy** is a scientific computation library that uses NumPy underneath. It provides more utility functions for optimization, stats and signal processing. SciPy has optimized and added functions that are frequently used in NumPy and Data Science."
      ],
      "metadata": {
        "id": "YnDJ1NIVFLlS"
      }
    },
    {
      "cell_type": "code",
      "source": [
        "# Importing SciPy\n",
        "\n",
        "import scipy\n",
        "print(scipy.__version__)"
      ],
      "metadata": {
        "id": "AsHSx_XXFL1g"
      },
      "execution_count": null,
      "outputs": []
    },
    {
      "cell_type": "markdown",
      "source": [
        "**Constants in SciPy**: As SciPy is more focused on scientific implementations, it provides many built-in scientific constants."
      ],
      "metadata": {
        "id": "7swHCtPjF5SK"
      }
    },
    {
      "cell_type": "code",
      "source": [
        "from scipy import constants\n",
        "\n",
        "print(constants.pi)"
      ],
      "metadata": {
        "id": "70XWFYgdF8Xx"
      },
      "execution_count": null,
      "outputs": []
    },
    {
      "cell_type": "code",
      "source": [
        "# List all constants:\n",
        "\n",
        "l1 = dir(constants)\n",
        "\n",
        "for e in l1:\n",
        "  print(e)"
      ],
      "metadata": {
        "id": "mWJ3gbN-Fmds"
      },
      "execution_count": null,
      "outputs": []
    },
    {
      "cell_type": "code",
      "source": [
        "print(constants.minute)\n",
        "print(constants.hour)\n",
        "print(constants.day)\n",
        "print(constants.week)\n",
        "print(constants.year)\n",
        "print(constants.Julian_year)"
      ],
      "metadata": {
        "id": "W9h3NWhTGQQI"
      },
      "execution_count": null,
      "outputs": []
    },
    {
      "cell_type": "markdown",
      "source": [
        "**Optimizers in SciPy**: Optimizers are a set of procedures defined in SciPy that either find the minimum value of a function, or the root of an equation.\n",
        "\n",
        "NumPy is capable of finding roots for polynomials and linear equations, but it can not find roots for non linear equations, like this one:\n",
        "\n",
        "**x + cos(x)**\n",
        "\n"
      ],
      "metadata": {
        "id": "Q55SzC49GpPN"
      }
    },
    {
      "cell_type": "code",
      "source": [
        "from scipy.optimize import root\n",
        "from math import cos\n",
        "\n",
        "def eqn(x):\n",
        "  return x + cos(x)\n",
        "\n",
        "myroot = root(eqn, 0)\n",
        "\n",
        "print(myroot.x)"
      ],
      "metadata": {
        "id": "U7ykVa1IGfyN"
      },
      "execution_count": null,
      "outputs": []
    },
    {
      "cell_type": "markdown",
      "source": [
        "**Minimizing a Function**\n",
        "\n",
        "A function, in this context, represents a curve, curves have high points and low points.\n",
        "\n",
        "High points are called maxima.\n",
        "\n",
        "Low points are called minima.\n",
        "\n",
        "The highest point in the whole curve is called global maxima, whereas the rest of them are called local maxima.\n",
        "\n",
        "The lowest point in whole curve is called global minima, whereas the rest of them are called local minima."
      ],
      "metadata": {
        "id": "WYvGzoNVHHco"
      }
    },
    {
      "cell_type": "code",
      "source": [
        "from scipy.optimize import minimize\n",
        "\n",
        "def eqn(x):\n",
        "  return x**2 + x + 2\n",
        "\n",
        "mymin = minimize(eqn, 0, method='BFGS')\n",
        "\n",
        "print(mymin)"
      ],
      "metadata": {
        "id": "9rXZvSbbG9Z3"
      },
      "execution_count": null,
      "outputs": []
    },
    {
      "cell_type": "markdown",
      "source": [
        "**What is Sparse Data**\n",
        "\n",
        "Sparse data is data that has mostly unused elements (elements that don't carry any information ).\n",
        "\n",
        "It can be an array like this one:\n",
        "\n",
        "[1, 0, 2, 0, 0, 3, 0, 0, 0, 0, 0, 0]\n",
        "\n",
        "SciPy has a module, scipy.sparse that provides functions to deal with sparse data.\n",
        "\n",
        "There are primarily two types of sparse matrices that we use:\n",
        "\n",
        "CSC - Compressed Sparse Column. For efficient arithmetic, fast column slicing.\n",
        "\n",
        "CSR - Compressed Sparse Row. For fast row slicing, faster matrix vector products\n",
        "\n",
        "We will use the CSR matrix in this tutorial."
      ],
      "metadata": {
        "id": "y5jjWUmtHkTM"
      }
    },
    {
      "cell_type": "code",
      "source": [
        "# Create a CSR matrix from an array:\n",
        "\n",
        "import numpy as np\n",
        "from scipy.sparse import csr_matrix\n",
        "\n",
        "arr = np.array([0, 0, 0, 0, 0, 1, 1, 0, 2])\n",
        "\n",
        "print(csr_matrix(arr))\n",
        "print(csr_matrix(arr).data)\n"
      ],
      "metadata": {
        "id": "JP79m-EQHeEb"
      },
      "execution_count": null,
      "outputs": []
    },
    {
      "cell_type": "code",
      "source": [
        "arr = np.array([[0, 0, 0], [0, 0, 1], [1, 0, 2]])\n",
        "\n",
        "print(csr_matrix(arr))\n",
        "print(csr_matrix(arr).data)\n"
      ],
      "metadata": {
        "id": "7sBV1IWcICcG"
      },
      "execution_count": null,
      "outputs": []
    },
    {
      "cell_type": "code",
      "source": [
        "# Counting nonzeros with the count_nonzero() method:\n",
        "arr = np.array([[0, 0, 0], [0, 0, 1], [1, 0, 2]])\n",
        "\n",
        "print(csr_matrix(arr).count_nonzero())"
      ],
      "metadata": {
        "id": "yZdBUxBrIi07"
      },
      "execution_count": null,
      "outputs": []
    },
    {
      "cell_type": "code",
      "source": [
        "# Removing zero-entries from the matrix with the eliminate_zeros() method:\n",
        "arr = np.array([[0, 0, 0], [0, 0, 1], [1, 0, 2]])\n",
        "\n",
        "mat = csr_matrix(arr)\n",
        "\n",
        "mat.eliminate_zeros()\n",
        "print(mat)"
      ],
      "metadata": {
        "id": "QrYU1VU-Iq66"
      },
      "execution_count": null,
      "outputs": []
    },
    {
      "cell_type": "code",
      "source": [
        "# Eliminating duplicate entries with the sum_duplicates() method:\n",
        "\n",
        "arr = np.array([[0, 0, 0], [0, 0, 1], [1, 0, 2]])\n",
        "\n",
        "mat = csr_matrix(arr)\n",
        "mat.sum_duplicates()\n",
        "\n",
        "print(mat)"
      ],
      "metadata": {
        "id": "ddFrSrNuJITP"
      },
      "execution_count": null,
      "outputs": []
    },
    {
      "cell_type": "code",
      "source": [
        "# Converting from csr to csc with the tocsc() method:\n",
        "\n",
        "arr = np.array([[0, 0, 0], [0, 0, 1], [1, 0, 2]])\n",
        "newarr = csr_matrix(arr).tocsc()\n",
        "print(newarr)"
      ],
      "metadata": {
        "id": "EFdeL628JRmy"
      },
      "execution_count": null,
      "outputs": []
    },
    {
      "cell_type": "markdown",
      "source": [
        "**Working with Graphs**\n",
        "\n",
        "Graphs are an essential data structure. SciPy provides us with the module scipy.sparse.csgraph for working with such data structures."
      ],
      "metadata": {
        "id": "VUjxRAQPd4sN"
      }
    },
    {
      "cell_type": "code",
      "source": [
        "# Adjacency Matrix Representation\n",
        "\n",
        "from scipy.sparse.csgraph import connected_components\n",
        "from scipy.sparse import csr_matrix\n",
        "\n",
        "arr = np.array([\n",
        "  [0, 1, 2],\n",
        "  [1, 0, 0],\n",
        "  [2, 0, 0]\n",
        "])\n",
        "\n",
        "newarr = csr_matrix(arr)\n",
        "\n",
        "print(connected_components(newarr))"
      ],
      "metadata": {
        "id": "xdonQ3wrd-oG"
      },
      "execution_count": null,
      "outputs": []
    },
    {
      "cell_type": "code",
      "source": [
        "# Use the dijkstra method to find the shortest path in a graph from one element to another.\n",
        "\n",
        "from scipy.sparse.csgraph import dijkstra\n",
        "from scipy.sparse import csr_matrix\n",
        "\n",
        "arr = np.array([\n",
        "  [0, 1, 2],\n",
        "  [1, 0, 0],\n",
        "  [2, 0, 0]\n",
        "])\n",
        "\n",
        "newarr = csr_matrix(arr)\n",
        "\n",
        "print(dijkstra(newarr, return_predecessors=True, indices=0))"
      ],
      "metadata": {
        "id": "IhdmNivfeScD"
      },
      "execution_count": null,
      "outputs": []
    },
    {
      "cell_type": "code",
      "source": [
        "# Use the floyd_warshall() method to find shortest path between all pairs of elements.\n",
        "\n",
        "import numpy as np\n",
        "from scipy.sparse.csgraph import floyd_warshall\n",
        "from scipy.sparse import csr_matrix\n",
        "\n",
        "arr = np.array([\n",
        "  [0, 1, 2],\n",
        "  [1, 0, 0],\n",
        "  [2, 0, 0]\n",
        "])\n",
        "\n",
        "newarr = csr_matrix(arr)\n",
        "\n",
        "print(floyd_warshall(newarr, return_predecessors=True))"
      ],
      "metadata": {
        "id": "6rVCcG9Cett_"
      },
      "execution_count": null,
      "outputs": []
    },
    {
      "cell_type": "code",
      "source": [
        "# The bellman_ford() method can also find the shortest path between all pairs of elements, but this method can handle negative weights as well.\n",
        "\n",
        "import numpy as np\n",
        "from scipy.sparse.csgraph import bellman_ford\n",
        "from scipy.sparse import csr_matrix\n",
        "\n",
        "arr = np.array([\n",
        "  [0, -1, 2],\n",
        "  [1, 0, 0],\n",
        "  [2, 0, 0]\n",
        "])\n",
        "\n",
        "newarr = csr_matrix(arr)\n",
        "\n",
        "print(bellman_ford(newarr, return_predecessors=True, indices=0))"
      ],
      "metadata": {
        "id": "crJaoi3kezWw"
      },
      "execution_count": null,
      "outputs": []
    },
    {
      "cell_type": "code",
      "source": [
        "# The depth_first_order() method returns a depth first traversal from a node.\n",
        "\n",
        "import numpy as np\n",
        "from scipy.sparse.csgraph import depth_first_order\n",
        "from scipy.sparse import csr_matrix\n",
        "\n",
        "arr = np.array([\n",
        "  [0, 1, 0, 1],\n",
        "  [1, 1, 1, 1],\n",
        "  [2, 1, 1, 0],\n",
        "  [0, 1, 0, 1]\n",
        "])\n",
        "\n",
        "newarr = csr_matrix(arr)\n",
        "\n",
        "print(depth_first_order(newarr, 1))"
      ],
      "metadata": {
        "id": "-wW58zNDe7h-"
      },
      "execution_count": null,
      "outputs": []
    },
    {
      "cell_type": "code",
      "source": [
        "# The breadth_first_order() method returns a breadth first traversal from a node.\n",
        "\n",
        "import numpy as np\n",
        "from scipy.sparse.csgraph import breadth_first_order\n",
        "from scipy.sparse import csr_matrix\n",
        "\n",
        "arr = np.array([\n",
        "  [0, 1, 0, 1],\n",
        "  [1, 1, 1, 1],\n",
        "  [2, 1, 1, 0],\n",
        "  [0, 1, 0, 1]\n",
        "])\n",
        "\n",
        "newarr = csr_matrix(arr)\n",
        "\n",
        "print(breadth_first_order(newarr, 1))"
      ],
      "metadata": {
        "id": "qPm4kxflfApc"
      },
      "execution_count": null,
      "outputs": []
    },
    {
      "cell_type": "markdown",
      "source": [
        "**Working with Spatial Data**\n",
        "\n",
        "Spatial data refers to data that is represented in a geometric space.\n",
        "E.g. points on a coordinate system."
      ],
      "metadata": {
        "id": "V9wwwJj9fMzm"
      }
    },
    {
      "cell_type": "code",
      "source": [
        "# A Triangulation of a polygon is to divide the polygon into multiple triangles with which we can compute an area of the polygon.\n",
        "\n",
        "import numpy as np\n",
        "from scipy.spatial import Delaunay\n",
        "import matplotlib.pyplot as plt\n",
        "\n",
        "points = np.array([\n",
        "  [2, 4],\n",
        "  [3, 4],\n",
        "  [3, 0],\n",
        "  [2, 2],\n",
        "  [4, 1]\n",
        "])\n",
        "\n",
        "simplices = Delaunay(points).simplices\n",
        "\n",
        "plt.triplot(points[:, 0], points[:, 1], simplices)\n",
        "plt.scatter(points[:, 0], points[:, 1], color='r')\n",
        "\n",
        "plt.show()"
      ],
      "metadata": {
        "id": "G3O8rqnnfHiB"
      },
      "execution_count": null,
      "outputs": []
    },
    {
      "cell_type": "code",
      "source": [
        "# A convex hull is the smallest polygon that covers all of the given points.\n",
        "\n",
        "import numpy as np\n",
        "from scipy.spatial import ConvexHull\n",
        "import matplotlib.pyplot as plt\n",
        "\n",
        "points = np.array([\n",
        "  [2, 4],\n",
        "  [3, 4],\n",
        "  [3, 0],\n",
        "  [2, 2],\n",
        "  [4, 1],\n",
        "  [1, 2],\n",
        "  [5, 0],\n",
        "  [3, 1],\n",
        "  [1, 2],\n",
        "  [0, 2]\n",
        "])\n",
        "\n",
        "hull = ConvexHull(points)\n",
        "hull_points = hull.simplices\n",
        "\n",
        "plt.scatter(points[:,0], points[:,1])\n",
        "for simplex in hull_points:\n",
        "  plt.plot(points[simplex,0], points[simplex,1], 'k-')\n",
        "\n",
        "plt.show()"
      ],
      "metadata": {
        "id": "DLCxu2IqfbX5"
      },
      "execution_count": null,
      "outputs": []
    },
    {
      "cell_type": "markdown",
      "source": [
        "**Distance Matrix**\n",
        "\n",
        "There are many Distance Metrics used to find various types of distances between two points in data science, Euclidean distsance, cosine distsance etc."
      ],
      "metadata": {
        "id": "inSj8mmpfotP"
      }
    },
    {
      "cell_type": "code",
      "source": [
        "# Euclidean\n",
        "from scipy.spatial.distance import euclidean\n",
        "\n",
        "p1 = (1, 0)\n",
        "p2 = (10, 2)\n",
        "\n",
        "res = euclidean(p1, p2)\n",
        "\n",
        "print(res)"
      ],
      "metadata": {
        "id": "QJaE5XKNfiyD"
      },
      "execution_count": null,
      "outputs": []
    },
    {
      "cell_type": "code",
      "source": [
        "#Manhattan\n",
        "from scipy.spatial.distance import cityblock\n",
        "\n",
        "p1 = (1, 0)\n",
        "p2 = (10, 2)\n",
        "\n",
        "res = cityblock(p1, p2)\n",
        "\n",
        "print(res)"
      ],
      "metadata": {
        "id": "mBEfE2bvfu4P"
      },
      "execution_count": null,
      "outputs": []
    },
    {
      "cell_type": "code",
      "source": [
        "# Cosine\n",
        "from scipy.spatial.distance import cosine\n",
        "\n",
        "p1 = (1, 0)\n",
        "p2 = (10, 2)\n",
        "\n",
        "res = cosine(p1, p2)\n",
        "\n",
        "print(res)"
      ],
      "metadata": {
        "id": "aIAx1utofzWI"
      },
      "execution_count": null,
      "outputs": []
    },
    {
      "cell_type": "code",
      "source": [
        "# Hamming\n",
        "from scipy.spatial.distance import hamming\n",
        "\n",
        "p1 = (True, False, True)\n",
        "p2 = (False, True, True)\n",
        "\n",
        "res = hamming(p1, p2)\n",
        "\n",
        "print(res)"
      ],
      "metadata": {
        "id": "UEjQCQjsf4Xe"
      },
      "execution_count": null,
      "outputs": []
    },
    {
      "cell_type": "markdown",
      "source": [
        "**SciPy Interpolation**\n",
        "\n",
        "Interpolation is a method for generating points between given points.\n",
        "\n",
        "For example: for points 1 and 2, we may interpolate and find points 1.33 and 1.66."
      ],
      "metadata": {
        "id": "OJnIHd5jgHQg"
      }
    },
    {
      "cell_type": "code",
      "source": [
        "# 1D Interpolation\n",
        "\n",
        "from scipy.interpolate import interp1d\n",
        "import numpy as np\n",
        "\n",
        "xs = np.arange(10)\n",
        "ys = 2*xs + 1\n",
        "\n",
        "interp_func = interp1d(xs, ys)\n",
        "\n",
        "newarr = interp_func(np.arange(2.1, 3, 0.1))\n",
        "\n",
        "print(newarr)"
      ],
      "metadata": {
        "id": "62PYZUUYgNDd"
      },
      "execution_count": null,
      "outputs": []
    }
  ]
}