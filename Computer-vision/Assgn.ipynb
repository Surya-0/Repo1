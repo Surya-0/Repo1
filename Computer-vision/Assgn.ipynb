{
 "cells": [
  {
   "cell_type": "code",
   "execution_count": 2,
   "id": "initial_id",
   "metadata": {
    "collapsed": true,
    "ExecuteTime": {
     "end_time": "2024-04-20T13:06:33.532750Z",
     "start_time": "2024-04-20T13:06:31.773722Z"
    }
   },
   "outputs": [
    {
     "name": "stderr",
     "output_type": "stream",
     "text": [
      "[ WARN:0@820.070] global /private/var/folders/k1/30mswbxs7r1g6zwn8y4fyt500000gp/T/abs_11nitadzeg/croot/opencv-suite_1691620374638/work/modules/videoio/src/cap_gstreamer.cpp (2386) handleMessage OpenCV | GStreamer warning: your GStreamer installation is missing a required plugin\n",
      "[ WARN:0@820.074] global /private/var/folders/k1/30mswbxs7r1g6zwn8y4fyt500000gp/T/abs_11nitadzeg/croot/opencv-suite_1691620374638/work/modules/videoio/src/cap_gstreamer.cpp (2402) handleMessage OpenCV | GStreamer warning: Embedded video playback halted; module uridecodebin1 reported: Your GStreamer installation is missing a plug-in.\n",
      "[ WARN:0@820.077] global /private/var/folders/k1/30mswbxs7r1g6zwn8y4fyt500000gp/T/abs_11nitadzeg/croot/opencv-suite_1691620374638/work/modules/videoio/src/cap_gstreamer.cpp (1356) open OpenCV | GStreamer warning: unable to start pipeline\n",
      "[ WARN:0@820.082] global /private/var/folders/k1/30mswbxs7r1g6zwn8y4fyt500000gp/T/abs_11nitadzeg/croot/opencv-suite_1691620374638/work/modules/videoio/src/cap_gstreamer.cpp (862) isPipelinePlaying OpenCV | GStreamer warning: GStreamer: pipeline have not been created\n"
     ]
    },
    {
     "name": "stdout",
     "output_type": "stream",
     "text": [
      "Fast video\n"
     ]
    }
   ],
   "source": [
    "import cv2\n",
    "import numpy as np\n",
    "\n",
    "def calculate_motion(video_path):\n",
    "    cap = cv2.VideoCapture(video_path)\n",
    "    ret, frame1 = cap.read()\n",
    "    ret, frame2 = cap.read()\n",
    "\n",
    "    motion_list = []\n",
    "\n",
    "    while cap.isOpened():\n",
    "        diff = cv2.absdiff(frame1, frame2)\n",
    "        gray = cv2.cvtColor(diff, cv2.COLOR_BGR2GRAY)\n",
    "        blur = cv2.GaussianBlur(gray, (5,5), 0)\n",
    "        _, thresh = cv2.threshold(blur, 20, 255, cv2.THRESH_BINARY)\n",
    "        dilated = cv2.dilate(thresh, None, iterations=3)\n",
    "        contours, _ = cv2.findContours(dilated, cv2.RETR_TREE, cv2.CHAIN_APPROX_SIMPLE)\n",
    "\n",
    "        for contour in contours:\n",
    "            (x, y, w, h) = cv2.boundingRect(contour)\n",
    "            if cv2.contourArea(contour) < 900:\n",
    "                continue\n",
    "            motion_list.append(cv2.contourArea(contour))\n",
    "\n",
    "        frame1 = frame2\n",
    "        ret, frame2 = cap.read()\n",
    "\n",
    "        if not ret:\n",
    "            break\n",
    "\n",
    "    cap.release()\n",
    "    cv2.destroyAllWindows()\n",
    "\n",
    "    avg_motion = np.mean(motion_list)\n",
    "\n",
    "    if avg_motion < 500:\n",
    "        return \"Slow video\"\n",
    "    elif avg_motion < 1500:\n",
    "        return \"Medium video\"\n",
    "    else:\n",
    "        return \"Fast video\"\n",
    "\n",
    "video_path = \"Need 12 runs of 1 ball | TEAM WINS!!!!!!.mp4\"\n",
    "print(calculate_motion(video_path))"
   ]
  },
  {
   "cell_type": "code",
   "execution_count": 14,
   "outputs": [
    {
     "name": "stdout",
     "output_type": "stream",
     "text": [
      "9678.523905385002\n",
      "Fast video\n"
     ]
    }
   ],
   "source": [
    "import cv2\n",
    "import numpy as np\n",
    "import imageio\n",
    "\n",
    "def calculate_motion(video_path):\n",
    "    reader = imageio.get_reader(video_path)\n",
    "\n",
    "    frame1 = reader.get_next_data()\n",
    "    motion_list = []\n",
    "\n",
    "    for i, frame2 in enumerate(reader):\n",
    "        diff = cv2.absdiff(frame1, frame2)\n",
    "        gray = cv2.cvtColor(diff, cv2.COLOR_BGR2GRAY)\n",
    "        blur = cv2.GaussianBlur(gray, (5,5), 0)\n",
    "        _, thresh = cv2.threshold(blur, 20, 255, cv2.THRESH_BINARY)\n",
    "        dilated = cv2.dilate(thresh, None, iterations=3)\n",
    "        contours, _ = cv2.findContours(dilated, cv2.RETR_TREE, cv2.CHAIN_APPROX_SIMPLE)\n",
    "\n",
    "        for contour in contours:\n",
    "            (x, y, w, h) = cv2.boundingRect(contour)\n",
    "            if cv2.contourArea(contour) < 900:\n",
    "                continue\n",
    "            motion_list.append(cv2.contourArea(contour))\n",
    "\n",
    "        frame1 = frame2\n",
    "\n",
    "    avg_motion = np.mean(motion_list)\n",
    "\n",
    "    if avg_motion < 500:\n",
    "        return \"Slow video\"\n",
    "    elif avg_motion < 1500:\n",
    "        return \"Medium video\"\n",
    "    else:\n",
    "        print(avg_motion)\n",
    "        return \"Fast video\"\n",
    "\n",
    "video_path = \"Need 12 runs of 1 ball | TEAM WINS!!!!!!.mp4\"\n",
    "video_path_2 = \"it's ok, you're ok.mp4\"\n",
    "print(calculate_motion(video_path))\n",
    "# print(calculate_motion(video_path_2))"
   ],
   "metadata": {
    "collapsed": false,
    "ExecuteTime": {
     "end_time": "2024-04-20T13:13:41.734119Z",
     "start_time": "2024-04-20T13:13:40.154159Z"
    }
   },
   "id": "78cdd6539691cab3"
  },
  {
   "cell_type": "code",
   "execution_count": null,
   "outputs": [],
   "source": [],
   "metadata": {
    "collapsed": false
   },
   "id": "aa6aca2c3b7ae215"
  }
 ],
 "metadata": {
  "kernelspec": {
   "display_name": "Python 3",
   "language": "python",
   "name": "python3"
  },
  "language_info": {
   "codemirror_mode": {
    "name": "ipython",
    "version": 2
   },
   "file_extension": ".py",
   "mimetype": "text/x-python",
   "name": "python",
   "nbconvert_exporter": "python",
   "pygments_lexer": "ipython2",
   "version": "2.7.6"
  }
 },
 "nbformat": 4,
 "nbformat_minor": 5
}
