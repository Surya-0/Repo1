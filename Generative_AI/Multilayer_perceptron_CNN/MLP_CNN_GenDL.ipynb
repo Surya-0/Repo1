{
 "nbformat": 4,
 "nbformat_minor": 0,
 "metadata": {
  "colab": {
   "provenance": []
  },
  "kernelspec": {
   "name": "python3",
   "language": "python",
   "display_name": "Python 3 (ipykernel)"
  },
  "language_info": {
   "name": "python"
  }
 },
 "cells": [
  {
   "cell_type": "markdown",
   "source": [
    "### MLP and CNN execution"
   ],
   "metadata": {
    "collapsed": false
   }
  },
  {
   "cell_type": "code",
   "execution_count": 39,
   "metadata": {
    "id": "rLw4vxxoqy5l"
   },
   "outputs": [],
   "source": [
    "import numpy as np\n",
    "import pandas as pd\n",
    "import matplotlib.pyplot as plt\n",
    "from keras import datasets,layers,models,utils"
   ]
  },
  {
   "cell_type": "markdown",
   "source": [
    "### Loading and Preprocessing"
   ],
   "metadata": {
    "id": "wlRmyQUX5mIO"
   }
  },
  {
   "cell_type": "code",
   "source": [
    "(x_train,y_train),(x_test,y_test) = datasets.cifar10.load_data()"
   ],
   "metadata": {
    "colab": {
     "base_uri": "https://localhost:8080/"
    },
    "id": "MjZrgR6OrRcK",
    "outputId": "811e0463-a63d-4f9f-cb31-93eb21a4f929"
   },
   "execution_count": 2,
   "outputs": [
    {
     "output_type": "stream",
     "name": "stdout",
     "text": [
      "Downloading data from https://www.cs.toronto.edu/~kriz/cifar-10-python.tar.gz\n",
      "170498071/170498071 [==============================] - 2s 0us/step\n"
     ]
    }
   ]
  },
  {
   "cell_type": "code",
   "source": [
    "x_train.shape"
   ],
   "metadata": {
    "colab": {
     "base_uri": "https://localhost:8080/"
    },
    "id": "Jp4ixTatrjue",
    "outputId": "60f95cb3-ee46-434f-9d5f-557adbcbbf42"
   },
   "execution_count": 3,
   "outputs": [
    {
     "output_type": "execute_result",
     "data": {
      "text/plain": [
       "(50000, 32, 32, 3)"
      ]
     },
     "metadata": {},
     "execution_count": 3
    }
   ]
  },
  {
   "cell_type": "code",
   "source": [
    "y_train.shape"
   ],
   "metadata": {
    "colab": {
     "base_uri": "https://localhost:8080/"
    },
    "id": "2rIS1cgZrlCI",
    "outputId": "96f92f59-f4a5-4562-f567-cc9afc8c9094"
   },
   "execution_count": 4,
   "outputs": [
    {
     "output_type": "execute_result",
     "data": {
      "text/plain": [
       "(50000, 1)"
      ]
     },
     "metadata": {},
     "execution_count": 4
    }
   ]
  },
  {
   "cell_type": "code",
   "source": [
    "x_train = x_train.astype('float32')/255.0\n",
    "x_test = x_test.astype('float32')/255.0"
   ],
   "metadata": {
    "id": "SRsVo51Yrmdx"
   },
   "execution_count": 6,
   "outputs": []
  },
  {
   "cell_type": "code",
   "source": [
    "plt.figure(figsize = (2,2))\n",
    "plt.imshow(x_train[2])"
   ],
   "metadata": {
    "colab": {
     "base_uri": "https://localhost:8080/",
     "height": 234
    },
    "id": "nY5RoBUQrphl",
    "outputId": "6a7b09cc-0fb4-46f5-a9fe-1839143c4d5f"
   },
   "execution_count": 13,
   "outputs": [
    {
     "output_type": "execute_result",
     "data": {
      "text/plain": [
       "<matplotlib.image.AxesImage at 0x7d7d11470670>"
      ]
     },
     "metadata": {},
     "execution_count": 13
    },
    {
     "output_type": "display_data",
     "data": {
      "text/plain": [
       "<Figure size 200x200 with 1 Axes>"
      ],
      "image/png": "[encoded data removed]"
     },
     "metadata": {}
    }
   ]
  },
  {
   "cell_type": "code",
   "source": [
    "y_train[2]"
   ],
   "metadata": {
    "colab": {
     "base_uri": "https://localhost:8080/"
    },
    "id": "zXmSUqFir8rE",
    "outputId": "68ad0951-9bcc-42ba-f0d4-bef73abfffb8"
   },
   "execution_count": 14,
   "outputs": [
    {
     "output_type": "execute_result",
     "data": {
      "text/plain": [
       "array([9], dtype=uint8)"
      ]
     },
     "metadata": {},
     "execution_count": 14
    }
   ]
  },
  {
   "cell_type": "code",
   "source": [
    "num_classes = 10\n",
    "y_train = utils.to_categorical(y_train,num_classes)\n",
    "y_test = utils.to_categorical(y_test,num_classes)"
   ],
   "metadata": {
    "id": "nERZbxzTsXgl"
   },
   "execution_count": 15,
   "outputs": []
  },
  {
   "cell_type": "code",
   "source": [
    "y_train[0]"
   ],
   "metadata": {
    "colab": {
     "base_uri": "https://localhost:8080/"
    },
    "id": "-cMDwV1Zsuy4",
    "outputId": "f22055f8-1c67-4f1d-ecfe-6e8552476bb7"
   },
   "execution_count": 17,
   "outputs": [
    {
     "output_type": "execute_result",
     "data": {
      "text/plain": [
       "array([0., 0., 0., 0., 0., 0., 1., 0., 0., 0.], dtype=float32)"
      ]
     },
     "metadata": {},
     "execution_count": 17
    }
   ]
  },
  {
   "cell_type": "markdown",
   "source": [
    "### Multi - Layer Perceptron"
   ],
   "metadata": {
    "id": "8ua6KtSw5peO"
   }
  },
  {
   "cell_type": "code",
   "source": [
    "mlp = models.Sequential()"
   ],
   "metadata": {
    "id": "PHK-Ygo6sw-I"
   },
   "execution_count": 23,
   "outputs": []
  },
  {
   "cell_type": "code",
   "source": [
    "mlp.add(layers.Flatten(input_shape = (32,32,3)))\n",
    "mlp.add(layers.Dense(units = 200,activation = 'relu'))\n",
    "mlp.add(layers.Dense(units = 80,activation = 'relu'))\n",
    "mlp.add(layers.Dense(units = 10,activation = 'softmax'))"
   ],
   "metadata": {
    "id": "IFAqW4zEtmj1"
   },
   "execution_count": 24,
   "outputs": []
  },
  {
   "cell_type": "code",
   "source": [
    "mlp.summary()"
   ],
   "metadata": {
    "colab": {
     "base_uri": "https://localhost:8080/"
    },
    "id": "tU-oKbScuNvY",
    "outputId": "1fb1176d-5689-420a-ac9a-ca87624fb00d"
   },
   "execution_count": 25,
   "outputs": [
    {
     "output_type": "stream",
     "name": "stdout",
     "text": [
      "Model: \"sequential_1\"\n",
      "_________________________________________________________________\n",
      " Layer (type)                Output Shape              Param #   \n",
      "=================================================================\n",
      " flatten_2 (Flatten)         (None, 3072)              0         \n",
      "                                                                 \n",
      " dense_6 (Dense)             (None, 200)               614600    \n",
      "                                                                 \n",
      " dense_7 (Dense)             (None, 80)                16080     \n",
      "                                                                 \n",
      " dense_8 (Dense)             (None, 10)                810       \n",
      "                                                                 \n",
      "=================================================================\n",
      "Total params: 631490 (2.41 MB)\n",
      "Trainable params: 631490 (2.41 MB)\n",
      "Non-trainable params: 0 (0.00 Byte)\n",
      "_________________________________________________________________\n"
     ]
    }
   ]
  },
  {
   "cell_type": "code",
   "source": [
    "mlp.compile(optimizer = 'Adam',loss = 'categorical_crossentropy',metrics = ['accuracy'])"
   ],
   "metadata": {
    "id": "TIgIvcsEuPWS"
   },
   "execution_count": 26,
   "outputs": []
  },
  {
   "cell_type": "code",
   "source": [
    "mlp.fit(x_train,y_train,epochs = 10,batch_size = 64,validation_data = (x_test,y_test))"
   ],
   "metadata": {
    "colab": {
     "base_uri": "https://localhost:8080/"
    },
    "id": "x0s_EKrIu5oH",
    "outputId": "948e7045-c81c-4303-fcd2-74a7f981dc18"
   },
   "execution_count": 27,
   "outputs": [
    {
     "output_type": "stream",
     "name": "stdout",
     "text": [
      "Epoch 1/10\n",
      "782/782 [==============================] - 11s 13ms/step - loss: 1.8806 - accuracy: 0.3226 - val_loss: 1.7771 - val_accuracy: 0.3670\n",
      "Epoch 2/10\n",
      "782/782 [==============================] - 9s 12ms/step - loss: 1.7054 - accuracy: 0.3916 - val_loss: 1.6437 - val_accuracy: 0.4123\n",
      "Epoch 3/10\n",
      "782/782 [==============================] - 9s 11ms/step - loss: 1.6317 - accuracy: 0.4134 - val_loss: 1.5915 - val_accuracy: 0.4397\n",
      "Epoch 4/10\n",
      "782/782 [==============================] - 10s 13ms/step - loss: 1.5712 - accuracy: 0.4363 - val_loss: 1.5515 - val_accuracy: 0.4462\n",
      "Epoch 5/10\n",
      "782/782 [==============================] - 10s 12ms/step - loss: 1.5350 - accuracy: 0.4523 - val_loss: 1.5262 - val_accuracy: 0.4556\n",
      "Epoch 6/10\n",
      "782/782 [==============================] - 13s 16ms/step - loss: 1.5046 - accuracy: 0.4611 - val_loss: 1.5910 - val_accuracy: 0.4247\n",
      "Epoch 7/10\n",
      "782/782 [==============================] - 10s 12ms/step - loss: 1.4783 - accuracy: 0.4727 - val_loss: 1.5018 - val_accuracy: 0.4650\n",
      "Epoch 8/10\n",
      "782/782 [==============================] - 9s 11ms/step - loss: 1.4551 - accuracy: 0.4788 - val_loss: 1.5305 - val_accuracy: 0.4589\n",
      "Epoch 9/10\n",
      "782/782 [==============================] - 9s 12ms/step - loss: 1.4398 - accuracy: 0.4865 - val_loss: 1.4806 - val_accuracy: 0.4717\n",
      "Epoch 10/10\n",
      "782/782 [==============================] - 10s 13ms/step - loss: 1.4226 - accuracy: 0.4940 - val_loss: 1.4809 - val_accuracy: 0.4750\n"
     ]
    },
    {
     "output_type": "execute_result",
     "data": {
      "text/plain": [
       "<keras.src.callbacks.History at 0x7d7d11577ac0>"
      ]
     },
     "metadata": {},
     "execution_count": 27
    }
   ]
  },
  {
   "cell_type": "code",
   "source": [
    "input_layer = layers.Input(shape = (32,32,3))"
   ],
   "metadata": {
    "id": "Q23F-wKDvIUV"
   },
   "execution_count": 31,
   "outputs": []
  },
  {
   "cell_type": "code",
   "source": [
    "x = layers.Flatten()(input_layer)\n",
    "x = layers.Dense(units = 200,activation = 'relu')(x)\n",
    "x = layers.Dense(units = 100,activation = 'relu')(x)"
   ],
   "metadata": {
    "id": "4GF9GaJZzE4b"
   },
   "execution_count": 32,
   "outputs": []
  },
  {
   "cell_type": "code",
   "source": [
    "output_layer  = layers.Dense(units = 10,activation = 'softmax')(x)"
   ],
   "metadata": {
    "id": "ioVUjgKyzrAI"
   },
   "execution_count": 33,
   "outputs": []
  },
  {
   "cell_type": "code",
   "source": [
    "mlp_2 = models.Model(input_layer,output_layer)"
   ],
   "metadata": {
    "id": "xIquul1Rz69e"
   },
   "execution_count": 34,
   "outputs": []
  },
  {
   "cell_type": "code",
   "source": [
    "mlp_2.compile(optimizer = 'Adam',loss = 'categorical_crossentropy',metrics = ['accuracy'])"
   ],
   "metadata": {
    "id": "jHHlC3GV0JIp"
   },
   "execution_count": 35,
   "outputs": []
  },
  {
   "cell_type": "code",
   "source": [
    "mlp_2.fit(x_train,y_train,epochs = 10,batch_size = 64,validation_data = (x_test,y_test))"
   ],
   "metadata": {
    "colab": {
     "base_uri": "https://localhost:8080/"
    },
    "id": "77OI8wuc2PAO",
    "outputId": "e953dfcd-85eb-4797-aaf8-3b0227c3d7ae"
   },
   "execution_count": 36,
   "outputs": [
    {
     "output_type": "stream",
     "name": "stdout",
     "text": [
      "Epoch 1/10\n",
      "782/782 [==============================] - 15s 18ms/step - loss: 1.8718 - accuracy: 0.3213 - val_loss: 1.7068 - val_accuracy: 0.3940\n",
      "Epoch 2/10\n",
      "782/782 [==============================] - 10s 13ms/step - loss: 1.6893 - accuracy: 0.3932 - val_loss: 1.6335 - val_accuracy: 0.4165\n",
      "Epoch 3/10\n",
      "782/782 [==============================] - 9s 11ms/step - loss: 1.6185 - accuracy: 0.4196 - val_loss: 1.6263 - val_accuracy: 0.4160\n",
      "Epoch 4/10\n",
      "782/782 [==============================] - 10s 12ms/step - loss: 1.5718 - accuracy: 0.4362 - val_loss: 1.5766 - val_accuracy: 0.4419\n",
      "Epoch 5/10\n",
      "782/782 [==============================] - 10s 13ms/step - loss: 1.5353 - accuracy: 0.4512 - val_loss: 1.5380 - val_accuracy: 0.4537\n",
      "Epoch 6/10\n",
      "782/782 [==============================] - 9s 12ms/step - loss: 1.5098 - accuracy: 0.4606 - val_loss: 1.5158 - val_accuracy: 0.4609\n",
      "Epoch 7/10\n",
      "782/782 [==============================] - 8s 10ms/step - loss: 1.4838 - accuracy: 0.4712 - val_loss: 1.5053 - val_accuracy: 0.4616\n",
      "Epoch 8/10\n",
      "782/782 [==============================] - 10s 13ms/step - loss: 1.4627 - accuracy: 0.4777 - val_loss: 1.5189 - val_accuracy: 0.4542\n",
      "Epoch 9/10\n",
      "782/782 [==============================] - 10s 12ms/step - loss: 1.4448 - accuracy: 0.4863 - val_loss: 1.4791 - val_accuracy: 0.4704\n",
      "Epoch 10/10\n",
      "782/782 [==============================] - 9s 12ms/step - loss: 1.4281 - accuracy: 0.4912 - val_loss: 1.5323 - val_accuracy: 0.4520\n"
     ]
    },
    {
     "output_type": "execute_result",
     "data": {
      "text/plain": [
       "<keras.src.callbacks.History at 0x7d7cfc2326e0>"
      ]
     },
     "metadata": {},
     "execution_count": 36
    }
   ]
  },
  {
   "cell_type": "code",
   "source": [
    "mlp_2.summary()"
   ],
   "metadata": {
    "colab": {
     "base_uri": "https://localhost:8080/"
    },
    "id": "2GtoEAbb2Ueg",
    "outputId": "c1301cc3-6f5d-4a8a-dac2-9a98c11114ce"
   },
   "execution_count": 37,
   "outputs": [
    {
     "output_type": "stream",
     "name": "stdout",
     "text": [
      "Model: \"model\"\n",
      "_________________________________________________________________\n",
      " Layer (type)                Output Shape              Param #   \n",
      "=================================================================\n",
      " input_2 (InputLayer)        [(None, 32, 32, 3)]       0         \n",
      "                                                                 \n",
      " flatten_4 (Flatten)         (None, 3072)              0         \n",
      "                                                                 \n",
      " dense_9 (Dense)             (None, 200)               614600    \n",
      "                                                                 \n",
      " dense_10 (Dense)            (None, 100)               20100     \n",
      "                                                                 \n",
      " dense_11 (Dense)            (None, 10)                1010      \n",
      "                                                                 \n",
      "=================================================================\n",
      "Total params: 635710 (2.43 MB)\n",
      "Trainable params: 635710 (2.43 MB)\n",
      "Non-trainable params: 0 (0.00 Byte)\n",
      "_________________________________________________________________\n"
     ]
    }
   ]
  },
  {
   "cell_type": "markdown",
   "source": [
    "### Convolutional Neural Network"
   ],
   "metadata": {
    "id": "S8_YqISA5sku"
   }
  },
  {
   "cell_type": "code",
   "source": [
    "input_layer_cnn = layers.Input(shape = (32,32,3))"
   ],
   "metadata": {
    "id": "2zJqUDir5kLM"
   },
   "execution_count": 82,
   "outputs": []
  },
  {
   "cell_type": "code",
   "source": [
    "x = layers.Conv2D(filters = 32,kernel_size = (3,3),activation = 'relu')(input_layer_cnn)\n",
    "x = layers.MaxPool2D(pool_size = (2,2))(x)"
   ],
   "metadata": {
    "id": "VGLKEsv-6CUR"
   },
   "execution_count": 83,
   "outputs": []
  },
  {
   "cell_type": "code",
   "source": [
    "x = layers.Conv2D(filters = 32,kernel_size = (3,3),activation = 'relu')(x)\n",
    "x = layers.MaxPool2D(pool_size = (2,2))(x)"
   ],
   "metadata": {
    "id": "pdxz7olV7f72"
   },
   "execution_count": 84,
   "outputs": []
  },
  {
   "cell_type": "code",
   "source": [
    "x = layers.Flatten()(x)"
   ],
   "metadata": {
    "id": "sFTeYY7I8KKY"
   },
   "execution_count": 85,
   "outputs": []
  },
  {
   "cell_type": "code",
   "source": [
    "x = layers.Dense(units = 200,activation = 'relu')(x)\n",
    "x = layers.Dense(units = 50,activation = 'relu')(x)"
   ],
   "metadata": {
    "id": "ToJWblp78NRO"
   },
   "execution_count": 86,
   "outputs": []
  },
  {
   "cell_type": "code",
   "source": [
    "output_layer_cnn = layers.Dense(units = 10,activation = 'sigmoid')(x)"
   ],
   "metadata": {
    "id": "G0z4xh7r8ZjO"
   },
   "execution_count": 87,
   "outputs": []
  },
  {
   "cell_type": "code",
   "source": [
    "cnn = models.Model(input_layer_cnn,output_layer_cnn)"
   ],
   "metadata": {
    "id": "cLJ4daY-8hrz"
   },
   "execution_count": 88,
   "outputs": []
  },
  {
   "cell_type": "code",
   "source": [
    "cnn.summary()"
   ],
   "metadata": {
    "colab": {
     "base_uri": "https://localhost:8080/"
    },
    "id": "9ynK7itM8qNf",
    "outputId": "1c8c769a-0c5d-41e6-8504-b36093f71ee4"
   },
   "execution_count": 89,
   "outputs": [
    {
     "output_type": "stream",
     "name": "stdout",
     "text": [
      "Model: \"model_5\"\n",
      "_________________________________________________________________\n",
      " Layer (type)                Output Shape              Param #   \n",
      "=================================================================\n",
      " input_9 (InputLayer)        [(None, 32, 32, 3)]       0         \n",
      "                                                                 \n",
      " conv2d_13 (Conv2D)          (None, 30, 30, 32)        896       \n",
      "                                                                 \n",
      " max_pooling2d_12 (MaxPooli  (None, 15, 15, 32)        0         \n",
      " ng2D)                                                           \n",
      "                                                                 \n",
      " conv2d_14 (Conv2D)          (None, 13, 13, 32)        9248      \n",
      "                                                                 \n",
      " max_pooling2d_13 (MaxPooli  (None, 6, 6, 32)          0         \n",
      " ng2D)                                                           \n",
      "                                                                 \n",
      " flatten_9 (Flatten)         (None, 1152)              0         \n",
      "                                                                 \n",
      " dense_24 (Dense)            (None, 200)               230600    \n",
      "                                                                 \n",
      " dense_25 (Dense)            (None, 50)                10050     \n",
      "                                                                 \n",
      " dense_26 (Dense)            (None, 10)                510       \n",
      "                                                                 \n",
      "=================================================================\n",
      "Total params: 251304 (981.66 KB)\n",
      "Trainable params: 251304 (981.66 KB)\n",
      "Non-trainable params: 0 (0.00 Byte)\n",
      "_________________________________________________________________\n"
     ]
    }
   ]
  },
  {
   "cell_type": "code",
   "source": [
    "cnn.compile(optimizer = 'adam',metrics = 'accuracy',loss = 'categorical_crossentropy')"
   ],
   "metadata": {
    "id": "HMsB9s9W8rXR"
   },
   "execution_count": 90,
   "outputs": []
  },
  {
   "cell_type": "code",
   "source": [
    "cnn.fit(x_train,y_train,epochs = 10,batch_size = 64,validation_data = (x_test,y_test))"
   ],
   "metadata": {
    "colab": {
     "base_uri": "https://localhost:8080/"
    },
    "id": "IkWyaQQg9Qv4",
    "outputId": "4094271c-300a-4738-9eb6-790daa062194"
   },
   "execution_count": 91,
   "outputs": [
    {
     "output_type": "stream",
     "name": "stdout",
     "text": [
      "Epoch 1/10\n",
      "782/782 [==============================] - 47s 58ms/step - loss: 1.5401 - accuracy: 0.4410 - val_loss: 1.2646 - val_accuracy: 0.5474\n",
      "Epoch 2/10\n",
      "782/782 [==============================] - 43s 55ms/step - loss: 1.1716 - accuracy: 0.5835 - val_loss: 1.0981 - val_accuracy: 0.6115\n",
      "Epoch 3/10\n",
      "782/782 [==============================] - 43s 55ms/step - loss: 1.0284 - accuracy: 0.6370 - val_loss: 1.0647 - val_accuracy: 0.6279\n",
      "Epoch 4/10\n",
      "782/782 [==============================] - 43s 55ms/step - loss: 0.9346 - accuracy: 0.6736 - val_loss: 1.0414 - val_accuracy: 0.6408\n",
      "Epoch 5/10\n",
      "782/782 [==============================] - 42s 54ms/step - loss: 0.8513 - accuracy: 0.7008 - val_loss: 0.9750 - val_accuracy: 0.6640\n",
      "Epoch 6/10\n",
      "782/782 [==============================] - 42s 53ms/step - loss: 0.7751 - accuracy: 0.7303 - val_loss: 0.9296 - val_accuracy: 0.6790\n",
      "Epoch 7/10\n",
      "782/782 [==============================] - 43s 55ms/step - loss: 0.7036 - accuracy: 0.7531 - val_loss: 0.9452 - val_accuracy: 0.6741\n",
      "Epoch 8/10\n",
      "782/782 [==============================] - 42s 53ms/step - loss: 0.6420 - accuracy: 0.7756 - val_loss: 0.9474 - val_accuracy: 0.6828\n",
      "Epoch 9/10\n",
      "782/782 [==============================] - 45s 57ms/step - loss: 0.5832 - accuracy: 0.7965 - val_loss: 0.9405 - val_accuracy: 0.6942\n",
      "Epoch 10/10\n",
      "782/782 [==============================] - 42s 54ms/step - loss: 0.5250 - accuracy: 0.8152 - val_loss: 1.0012 - val_accuracy: 0.6832\n"
     ]
    },
    {
     "output_type": "execute_result",
     "data": {
      "text/plain": [
       "<keras.src.callbacks.History at 0x7d7cf99e94e0>"
      ]
     },
     "metadata": {},
     "execution_count": 91
    }
   ]
  },
  {
   "cell_type": "code",
   "source": [],
   "metadata": {
    "id": "lq1ouW2I9YO3"
   },
   "execution_count": null,
   "outputs": []
  }
 ]
}
