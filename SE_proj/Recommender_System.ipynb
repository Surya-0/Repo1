{
 "cells": [
  {
   "cell_type": "code",
   "execution_count": 2,
   "id": "initial_id",
   "metadata": {
    "collapsed": true,
    "ExecuteTime": {
     "end_time": "2024-05-02T12:25:44.609613Z",
     "start_time": "2024-05-02T12:25:42.121049Z"
    }
   },
   "outputs": [],
   "source": [
    "import pandas as pd\n",
    "import numpy as np\n",
    "import matplotlib.pyplot as plt\n",
    "import sklearn\n",
    "from sklearn.decomposition import TruncatedSVD"
   ]
  },
  {
   "cell_type": "code",
   "execution_count": 3,
   "outputs": [],
   "source": [
    "plt.style.use(\"ggplot\")\n"
   ],
   "metadata": {
    "collapsed": false,
    "ExecuteTime": {
     "end_time": "2024-05-02T12:25:47.351101Z",
     "start_time": "2024-05-02T12:25:47.334445Z"
    }
   },
   "id": "89b7c6fe6330d55b"
  },
  {
   "cell_type": "code",
   "execution_count": 4,
   "outputs": [
    {
     "data": {
      "text/plain": "                 UserId   ProductId  Rating   Timestamp\n0        A39HTATAQ9V7YF  0205616461     5.0  1369699200\n1        A3JM6GV9MNOF9X  0558925278     3.0  1355443200\n2        A1Z513UWSAAO0F  0558925278     5.0  1404691200\n3        A1WMRR494NWEWV  0733001998     4.0  1382572800\n4        A3IAAVS479H7M7  0737104473     1.0  1274227200\n...                 ...         ...     ...         ...\n2023065  A3DEHKPFANB8VA  B00LORWRJA     5.0  1405296000\n2023066  A3DEHKPFANB8VA  B00LOS7MEE     5.0  1405296000\n2023067   AG9TJLJUN5OM3  B00LP2YB8E     5.0  1405382400\n2023068   AYBIB14QOI9PC  B00LPVG6V0     5.0  1405555200\n2023069  A1PB6OT0OOPKNQ  B00LU0LTOU     5.0  1405641600\n\n[2023070 rows x 4 columns]",
      "text/html": "<div>\n<style scoped>\n    .dataframe tbody tr th:only-of-type {\n        vertical-align: middle;\n    }\n\n    .dataframe tbody tr th {\n        vertical-align: top;\n    }\n\n    .dataframe thead th {\n        text-align: right;\n    }\n</style>\n<table border=\"1\" class=\"dataframe\">\n  <thead>\n    <tr style=\"text-align: right;\">\n      <th></th>\n      <th>UserId</th>\n      <th>ProductId</th>\n      <th>Rating</th>\n      <th>Timestamp</th>\n    </tr>\n  </thead>\n  <tbody>\n    <tr>\n      <th>0</th>\n      <td>A39HTATAQ9V7YF</td>\n      <td>0205616461</td>\n      <td>5.0</td>\n      <td>1369699200</td>\n    </tr>\n    <tr>\n      <th>1</th>\n      <td>A3JM6GV9MNOF9X</td>\n      <td>0558925278</td>\n      <td>3.0</td>\n      <td>1355443200</td>\n    </tr>\n    <tr>\n      <th>2</th>\n      <td>A1Z513UWSAAO0F</td>\n      <td>0558925278</td>\n      <td>5.0</td>\n      <td>1404691200</td>\n    </tr>\n    <tr>\n      <th>3</th>\n      <td>A1WMRR494NWEWV</td>\n      <td>0733001998</td>\n      <td>4.0</td>\n      <td>1382572800</td>\n    </tr>\n    <tr>\n      <th>4</th>\n      <td>A3IAAVS479H7M7</td>\n      <td>0737104473</td>\n      <td>1.0</td>\n      <td>1274227200</td>\n    </tr>\n    <tr>\n      <th>...</th>\n      <td>...</td>\n      <td>...</td>\n      <td>...</td>\n      <td>...</td>\n    </tr>\n    <tr>\n      <th>2023065</th>\n      <td>A3DEHKPFANB8VA</td>\n      <td>B00LORWRJA</td>\n      <td>5.0</td>\n      <td>1405296000</td>\n    </tr>\n    <tr>\n      <th>2023066</th>\n      <td>A3DEHKPFANB8VA</td>\n      <td>B00LOS7MEE</td>\n      <td>5.0</td>\n      <td>1405296000</td>\n    </tr>\n    <tr>\n      <th>2023067</th>\n      <td>AG9TJLJUN5OM3</td>\n      <td>B00LP2YB8E</td>\n      <td>5.0</td>\n      <td>1405382400</td>\n    </tr>\n    <tr>\n      <th>2023068</th>\n      <td>AYBIB14QOI9PC</td>\n      <td>B00LPVG6V0</td>\n      <td>5.0</td>\n      <td>1405555200</td>\n    </tr>\n    <tr>\n      <th>2023069</th>\n      <td>A1PB6OT0OOPKNQ</td>\n      <td>B00LU0LTOU</td>\n      <td>5.0</td>\n      <td>1405641600</td>\n    </tr>\n  </tbody>\n</table>\n<p>2023070 rows × 4 columns</p>\n</div>"
     },
     "execution_count": 4,
     "metadata": {},
     "output_type": "execute_result"
    }
   ],
   "source": [
    "amazon_ratings = pd.read_csv('Datasets/ratings_Beauty.csv')\n",
    "amazon_ratings"
   ],
   "metadata": {
    "collapsed": false,
    "ExecuteTime": {
     "end_time": "2024-05-02T12:27:10.075849Z",
     "start_time": "2024-05-02T12:27:09.278902Z"
    }
   },
   "id": "da5e8da34b1761c1"
  },
  {
   "cell_type": "code",
   "execution_count": 5,
   "outputs": [
    {
     "data": {
      "text/plain": "UserId       1210271\nProductId     249274\nRating             5\nTimestamp       4231\ndtype: int64"
     },
     "execution_count": 5,
     "metadata": {},
     "output_type": "execute_result"
    }
   ],
   "source": [
    "amazon_ratings.nunique()"
   ],
   "metadata": {
    "collapsed": false,
    "ExecuteTime": {
     "end_time": "2024-05-02T12:27:45.988461Z",
     "start_time": "2024-05-02T12:27:45.657596Z"
    }
   },
   "id": "28fd0c8e4fdb35db"
  },
  {
   "cell_type": "code",
   "execution_count": 6,
   "outputs": [
    {
     "data": {
      "text/plain": "UserId       0\nProductId    0\nRating       0\nTimestamp    0\ndtype: int64"
     },
     "execution_count": 6,
     "metadata": {},
     "output_type": "execute_result"
    }
   ],
   "source": [
    "amazon_ratings.isnull().sum()"
   ],
   "metadata": {
    "collapsed": false,
    "ExecuteTime": {
     "end_time": "2024-05-02T12:29:17.625595Z",
     "start_time": "2024-05-02T12:29:17.469214Z"
    }
   },
   "id": "af62971a23aa7514"
  },
  {
   "cell_type": "code",
   "execution_count": 8,
   "outputs": [
    {
     "data": {
      "text/plain": "(2023070, 4)"
     },
     "execution_count": 8,
     "metadata": {},
     "output_type": "execute_result"
    }
   ],
   "source": [
    "amazon_ratings.shape"
   ],
   "metadata": {
    "collapsed": false,
    "ExecuteTime": {
     "end_time": "2024-05-02T12:30:05.250536Z",
     "start_time": "2024-05-02T12:30:05.239634Z"
    }
   },
   "id": "32795aa44b368f7f"
  },
  {
   "cell_type": "code",
   "execution_count": 9,
   "outputs": [
    {
     "data": {
      "text/plain": "            Rating\nProductId         \nB001MA0QY2    7533\nB0009V1YR8    2869\nB0043OYFKU    2477\nB0000YUXI0    2143\nB003V265QW    2088\nB000ZMBSPE    2041\nB003BQ6QXK    1918\nB004OHQR1Q    1885\nB00121UVU0    1838\nB000FS05VG    1589",
      "text/html": "<div>\n<style scoped>\n    .dataframe tbody tr th:only-of-type {\n        vertical-align: middle;\n    }\n\n    .dataframe tbody tr th {\n        vertical-align: top;\n    }\n\n    .dataframe thead th {\n        text-align: right;\n    }\n</style>\n<table border=\"1\" class=\"dataframe\">\n  <thead>\n    <tr style=\"text-align: right;\">\n      <th></th>\n      <th>Rating</th>\n    </tr>\n    <tr>\n      <th>ProductId</th>\n      <th></th>\n    </tr>\n  </thead>\n  <tbody>\n    <tr>\n      <th>B001MA0QY2</th>\n      <td>7533</td>\n    </tr>\n    <tr>\n      <th>B0009V1YR8</th>\n      <td>2869</td>\n    </tr>\n    <tr>\n      <th>B0043OYFKU</th>\n      <td>2477</td>\n    </tr>\n    <tr>\n      <th>B0000YUXI0</th>\n      <td>2143</td>\n    </tr>\n    <tr>\n      <th>B003V265QW</th>\n      <td>2088</td>\n    </tr>\n    <tr>\n      <th>B000ZMBSPE</th>\n      <td>2041</td>\n    </tr>\n    <tr>\n      <th>B003BQ6QXK</th>\n      <td>1918</td>\n    </tr>\n    <tr>\n      <th>B004OHQR1Q</th>\n      <td>1885</td>\n    </tr>\n    <tr>\n      <th>B00121UVU0</th>\n      <td>1838</td>\n    </tr>\n    <tr>\n      <th>B000FS05VG</th>\n      <td>1589</td>\n    </tr>\n  </tbody>\n</table>\n</div>"
     },
     "execution_count": 9,
     "metadata": {},
     "output_type": "execute_result"
    }
   ],
   "source": [
    "popular_products = pd.DataFrame(amazon_ratings.groupby('ProductId')['Rating'].count())\n",
    "most_popular = popular_products.sort_values('Rating', ascending=False)\n",
    "most_popular.head(10)"
   ],
   "metadata": {
    "collapsed": false,
    "ExecuteTime": {
     "end_time": "2024-05-02T12:30:56.367788Z",
     "start_time": "2024-05-02T12:30:56.230731Z"
    }
   },
   "id": "74b15c26b3490f1d"
  },
  {
   "cell_type": "code",
   "execution_count": 43,
   "outputs": [
    {
     "data": {
      "text/plain": "            Rating\nProductId         \nB001MA0QY2    7533\nB0009V1YR8    2869\nB0043OYFKU    2477\nB0000YUXI0    2143\nB003V265QW    2088\n...            ...\nB004U81OBC       1\nB004U7R0EI       1\nB004U7Q2O2       1\nB004U7NKRE       1\nB00LU0LTOU       1\n\n[249274 rows x 1 columns]",
      "text/html": "<div>\n<style scoped>\n    .dataframe tbody tr th:only-of-type {\n        vertical-align: middle;\n    }\n\n    .dataframe tbody tr th {\n        vertical-align: top;\n    }\n\n    .dataframe thead th {\n        text-align: right;\n    }\n</style>\n<table border=\"1\" class=\"dataframe\">\n  <thead>\n    <tr style=\"text-align: right;\">\n      <th></th>\n      <th>Rating</th>\n    </tr>\n    <tr>\n      <th>ProductId</th>\n      <th></th>\n    </tr>\n  </thead>\n  <tbody>\n    <tr>\n      <th>B001MA0QY2</th>\n      <td>7533</td>\n    </tr>\n    <tr>\n      <th>B0009V1YR8</th>\n      <td>2869</td>\n    </tr>\n    <tr>\n      <th>B0043OYFKU</th>\n      <td>2477</td>\n    </tr>\n    <tr>\n      <th>B0000YUXI0</th>\n      <td>2143</td>\n    </tr>\n    <tr>\n      <th>B003V265QW</th>\n      <td>2088</td>\n    </tr>\n    <tr>\n      <th>...</th>\n      <td>...</td>\n    </tr>\n    <tr>\n      <th>B004U81OBC</th>\n      <td>1</td>\n    </tr>\n    <tr>\n      <th>B004U7R0EI</th>\n      <td>1</td>\n    </tr>\n    <tr>\n      <th>B004U7Q2O2</th>\n      <td>1</td>\n    </tr>\n    <tr>\n      <th>B004U7NKRE</th>\n      <td>1</td>\n    </tr>\n    <tr>\n      <th>B00LU0LTOU</th>\n      <td>1</td>\n    </tr>\n  </tbody>\n</table>\n<p>249274 rows × 1 columns</p>\n</div>"
     },
     "execution_count": 43,
     "metadata": {},
     "output_type": "execute_result"
    }
   ],
   "source": [
    "most_popular"
   ],
   "metadata": {
    "collapsed": false,
    "ExecuteTime": {
     "end_time": "2024-05-02T13:30:31.355654Z",
     "start_time": "2024-05-02T13:30:31.342299Z"
    }
   },
   "id": "be954b15594e0193"
  },
  {
   "cell_type": "code",
   "execution_count": 49,
   "outputs": [
    {
     "data": {
      "text/plain": "Rating    4.321386\nName: B001MA0QY2, dtype: float64"
     },
     "execution_count": 49,
     "metadata": {},
     "output_type": "execute_result"
    }
   ],
   "source": [
    "mean_ratings = pd.DataFrame(amazon_ratings.groupby('ProductId')['Rating'].mean())\n",
    "most_popular_mean = mean_ratings.sort_values('Rating', ascending=False)\n",
    "most_popular_mean.loc['B001MA0QY2']"
   ],
   "metadata": {
    "collapsed": false,
    "ExecuteTime": {
     "end_time": "2024-05-02T13:32:40.334081Z",
     "start_time": "2024-05-02T13:32:40.177700Z"
    }
   },
   "id": "ed306660b6e2d776"
  },
  {
   "cell_type": "code",
   "execution_count": 50,
   "outputs": [
    {
     "data": {
      "text/plain": "            Rating\nProductId         \n0205616461     5.0\nB00551HYQC     5.0\nB0054ZSIXC     5.0\nB00550UX52     5.0\nB00550YQP0     5.0\n...            ...\nB00586PNN0     1.0\nB00585I1VW     1.0\nB005854H5G     1.0\nB00583Q2MY     1.0\nB00740KNT2     1.0\n\n[249274 rows x 1 columns]",
      "text/html": "<div>\n<style scoped>\n    .dataframe tbody tr th:only-of-type {\n        vertical-align: middle;\n    }\n\n    .dataframe tbody tr th {\n        vertical-align: top;\n    }\n\n    .dataframe thead th {\n        text-align: right;\n    }\n</style>\n<table border=\"1\" class=\"dataframe\">\n  <thead>\n    <tr style=\"text-align: right;\">\n      <th></th>\n      <th>Rating</th>\n    </tr>\n    <tr>\n      <th>ProductId</th>\n      <th></th>\n    </tr>\n  </thead>\n  <tbody>\n    <tr>\n      <th>0205616461</th>\n      <td>5.0</td>\n    </tr>\n    <tr>\n      <th>B00551HYQC</th>\n      <td>5.0</td>\n    </tr>\n    <tr>\n      <th>B0054ZSIXC</th>\n      <td>5.0</td>\n    </tr>\n    <tr>\n      <th>B00550UX52</th>\n      <td>5.0</td>\n    </tr>\n    <tr>\n      <th>B00550YQP0</th>\n      <td>5.0</td>\n    </tr>\n    <tr>\n      <th>...</th>\n      <td>...</td>\n    </tr>\n    <tr>\n      <th>B00586PNN0</th>\n      <td>1.0</td>\n    </tr>\n    <tr>\n      <th>B00585I1VW</th>\n      <td>1.0</td>\n    </tr>\n    <tr>\n      <th>B005854H5G</th>\n      <td>1.0</td>\n    </tr>\n    <tr>\n      <th>B00583Q2MY</th>\n      <td>1.0</td>\n    </tr>\n    <tr>\n      <th>B00740KNT2</th>\n      <td>1.0</td>\n    </tr>\n  </tbody>\n</table>\n<p>249274 rows × 1 columns</p>\n</div>"
     },
     "execution_count": 50,
     "metadata": {},
     "output_type": "execute_result"
    }
   ],
   "source": [
    "most_popular_mean"
   ],
   "metadata": {
    "collapsed": false,
    "ExecuteTime": {
     "end_time": "2024-05-02T13:32:54.501583Z",
     "start_time": "2024-05-02T13:32:54.498200Z"
    }
   },
   "id": "78ce90aea96b2dd9"
  },
  {
   "cell_type": "code",
   "execution_count": 10,
   "outputs": [
    {
     "data": {
      "text/plain": "<Axes: xlabel='ProductId'>"
     },
     "execution_count": 10,
     "metadata": {},
     "output_type": "execute_result"
    },
    {
     "data": {
      "text/plain": "<Figure size 640x480 with 1 Axes>",
      "image/png": "[encoded data removed]"
     },
     "metadata": {},
     "output_type": "display_data"
    }
   ],
   "source": [
    "most_popular.head(30).plot(kind = \"bar\")"
   ],
   "metadata": {
    "collapsed": false,
    "ExecuteTime": {
     "end_time": "2024-05-02T12:31:28.585991Z",
     "start_time": "2024-05-02T12:31:28.271886Z"
    }
   },
   "id": "7461214877723df7"
  },
  {
   "cell_type": "markdown",
   "source": [
    "### A statistical approach to the recommender system"
   ],
   "metadata": {
    "collapsed": false
   },
   "id": "dc359ca35f6c7bec"
  },
  {
   "cell_type": "markdown",
   "source": [
    "#### Building the utility matrix"
   ],
   "metadata": {
    "collapsed": false
   },
   "id": "b3d26880ebfed6d6"
  },
  {
   "cell_type": "code",
   "execution_count": 11,
   "outputs": [],
   "source": [
    "# Subset of Amazon Ratings\n",
    "amazon_ratings1 = amazon_ratings.head(10000)"
   ],
   "metadata": {
    "collapsed": false,
    "ExecuteTime": {
     "end_time": "2024-05-02T12:40:17.920748Z",
     "start_time": "2024-05-02T12:40:17.917410Z"
    }
   },
   "id": "aa0a4b26edf21fe8"
  },
  {
   "cell_type": "code",
   "execution_count": 12,
   "outputs": [
    {
     "data": {
      "text/plain": "              UserId   ProductId  Rating   Timestamp\n0     A39HTATAQ9V7YF  0205616461     5.0  1369699200\n1     A3JM6GV9MNOF9X  0558925278     3.0  1355443200\n2     A1Z513UWSAAO0F  0558925278     5.0  1404691200\n3     A1WMRR494NWEWV  0733001998     4.0  1382572800\n4     A3IAAVS479H7M7  0737104473     1.0  1274227200\n...              ...         ...     ...         ...\n9995   A9V4K2YJ2DWTQ  B000052YQ2     3.0  1396396800\n9996  A3033CXHQ0NF8J  B000052YQ2     5.0  1291248000\n9997  A1Z66KHEXSF3L5  B000052YQ2     3.0  1361577600\n9998  A1Y7D2DRVBN59D  B000052YQ2     5.0  1402099200\n9999   APYKGTU0LFICH  B000052YQ2     2.0  1387238400\n\n[10000 rows x 4 columns]",
      "text/html": "<div>\n<style scoped>\n    .dataframe tbody tr th:only-of-type {\n        vertical-align: middle;\n    }\n\n    .dataframe tbody tr th {\n        vertical-align: top;\n    }\n\n    .dataframe thead th {\n        text-align: right;\n    }\n</style>\n<table border=\"1\" class=\"dataframe\">\n  <thead>\n    <tr style=\"text-align: right;\">\n      <th></th>\n      <th>UserId</th>\n      <th>ProductId</th>\n      <th>Rating</th>\n      <th>Timestamp</th>\n    </tr>\n  </thead>\n  <tbody>\n    <tr>\n      <th>0</th>\n      <td>A39HTATAQ9V7YF</td>\n      <td>0205616461</td>\n      <td>5.0</td>\n      <td>1369699200</td>\n    </tr>\n    <tr>\n      <th>1</th>\n      <td>A3JM6GV9MNOF9X</td>\n      <td>0558925278</td>\n      <td>3.0</td>\n      <td>1355443200</td>\n    </tr>\n    <tr>\n      <th>2</th>\n      <td>A1Z513UWSAAO0F</td>\n      <td>0558925278</td>\n      <td>5.0</td>\n      <td>1404691200</td>\n    </tr>\n    <tr>\n      <th>3</th>\n      <td>A1WMRR494NWEWV</td>\n      <td>0733001998</td>\n      <td>4.0</td>\n      <td>1382572800</td>\n    </tr>\n    <tr>\n      <th>4</th>\n      <td>A3IAAVS479H7M7</td>\n      <td>0737104473</td>\n      <td>1.0</td>\n      <td>1274227200</td>\n    </tr>\n    <tr>\n      <th>...</th>\n      <td>...</td>\n      <td>...</td>\n      <td>...</td>\n      <td>...</td>\n    </tr>\n    <tr>\n      <th>9995</th>\n      <td>A9V4K2YJ2DWTQ</td>\n      <td>B000052YQ2</td>\n      <td>3.0</td>\n      <td>1396396800</td>\n    </tr>\n    <tr>\n      <th>9996</th>\n      <td>A3033CXHQ0NF8J</td>\n      <td>B000052YQ2</td>\n      <td>5.0</td>\n      <td>1291248000</td>\n    </tr>\n    <tr>\n      <th>9997</th>\n      <td>A1Z66KHEXSF3L5</td>\n      <td>B000052YQ2</td>\n      <td>3.0</td>\n      <td>1361577600</td>\n    </tr>\n    <tr>\n      <th>9998</th>\n      <td>A1Y7D2DRVBN59D</td>\n      <td>B000052YQ2</td>\n      <td>5.0</td>\n      <td>1402099200</td>\n    </tr>\n    <tr>\n      <th>9999</th>\n      <td>APYKGTU0LFICH</td>\n      <td>B000052YQ2</td>\n      <td>2.0</td>\n      <td>1387238400</td>\n    </tr>\n  </tbody>\n</table>\n<p>10000 rows × 4 columns</p>\n</div>"
     },
     "execution_count": 12,
     "metadata": {},
     "output_type": "execute_result"
    }
   ],
   "source": [
    "amazon_ratings1"
   ],
   "metadata": {
    "collapsed": false,
    "ExecuteTime": {
     "end_time": "2024-05-02T12:40:25.598041Z",
     "start_time": "2024-05-02T12:40:25.584549Z"
    }
   },
   "id": "fadc37e12088253c"
  },
  {
   "cell_type": "code",
   "execution_count": 16,
   "outputs": [
    {
     "data": {
      "text/plain": "UserId       9697\nProductId     886\nRating          5\nTimestamp    2320\ndtype: int64"
     },
     "execution_count": 16,
     "metadata": {},
     "output_type": "execute_result"
    }
   ],
   "source": [
    "amazon_ratings1.nunique()"
   ],
   "metadata": {
    "collapsed": false,
    "ExecuteTime": {
     "end_time": "2024-05-02T12:43:51.471473Z",
     "start_time": "2024-05-02T12:43:51.462643Z"
    }
   },
   "id": "23fe1fcd0689e433"
  },
  {
   "cell_type": "markdown",
   "source": [
    "There are 9697 users and 886 unique products in this dataframe amazon ratings 1 which is a miniature version of the original dataframe to simplify our mathematical calculations. With this we form the ratings utility matrix which consists of all possible user - item preferences as a matrix. The rows represent the users and the columns represent the products. "
   ],
   "metadata": {
    "collapsed": false
   },
   "id": "8bd44f1c99e50c4f"
  },
  {
   "cell_type": "code",
   "execution_count": 13,
   "outputs": [
    {
     "data": {
      "text/plain": "ProductId              0205616461  0558925278  0733001998  0737104473  \\\nUserId                                                                  \nA00205921JHJK5X9LNP42           0           0           0           0   \nA024581134CV80ZBLIZTZ           0           0           0           0   \nA03056581JJIOL5FSKJY7           0           0           0           0   \nA03099101ZRK4K607JVHH           0           0           0           0   \nA0505229A7NSH3FRXRR4            0           0           0           0   \n\nProductId              0762451459  1304139212  1304139220  130414089X  \\\nUserId                                                                  \nA00205921JHJK5X9LNP42           0           0           0           0   \nA024581134CV80ZBLIZTZ           0           0           0           0   \nA03056581JJIOL5FSKJY7           0           0           0           0   \nA03099101ZRK4K607JVHH           0           0           0           0   \nA0505229A7NSH3FRXRR4            0           0           0           0   \n\nProductId              130414643X  1304146537  ...  B000052YPE  B000052YPF  \\\nUserId                                         ...                           \nA00205921JHJK5X9LNP42           0           0  ...           0           0   \nA024581134CV80ZBLIZTZ           0           0  ...           0           0   \nA03056581JJIOL5FSKJY7           0           0  ...           0           0   \nA03099101ZRK4K607JVHH           0           0  ...           0           0   \nA0505229A7NSH3FRXRR4            0           0  ...           0           0   \n\nProductId              B000052YPG  B000052YPH  B000052YPM  B000052YPU  \\\nUserId                                                                  \nA00205921JHJK5X9LNP42           0           0           0           0   \nA024581134CV80ZBLIZTZ           0           0           0           0   \nA03056581JJIOL5FSKJY7           0           0           0           0   \nA03099101ZRK4K607JVHH           0           0           0           0   \nA0505229A7NSH3FRXRR4            0           0           0           0   \n\nProductId              B000052YPV  B000052YPY  B000052YQ0  B000052YQ2  \nUserId                                                                 \nA00205921JHJK5X9LNP42           0           0           0           0  \nA024581134CV80ZBLIZTZ           0           0           0           0  \nA03056581JJIOL5FSKJY7           0           0           0           0  \nA03099101ZRK4K607JVHH           0           0           0           0  \nA0505229A7NSH3FRXRR4            0           0           0           0  \n\n[5 rows x 886 columns]",
      "text/html": "<div>\n<style scoped>\n    .dataframe tbody tr th:only-of-type {\n        vertical-align: middle;\n    }\n\n    .dataframe tbody tr th {\n        vertical-align: top;\n    }\n\n    .dataframe thead th {\n        text-align: right;\n    }\n</style>\n<table border=\"1\" class=\"dataframe\">\n  <thead>\n    <tr style=\"text-align: right;\">\n      <th>ProductId</th>\n      <th>0205616461</th>\n      <th>0558925278</th>\n      <th>0733001998</th>\n      <th>0737104473</th>\n      <th>0762451459</th>\n      <th>1304139212</th>\n      <th>1304139220</th>\n      <th>130414089X</th>\n      <th>130414643X</th>\n      <th>1304146537</th>\n      <th>...</th>\n      <th>B000052YPE</th>\n      <th>B000052YPF</th>\n      <th>B000052YPG</th>\n      <th>B000052YPH</th>\n      <th>B000052YPM</th>\n      <th>B000052YPU</th>\n      <th>B000052YPV</th>\n      <th>B000052YPY</th>\n      <th>B000052YQ0</th>\n      <th>B000052YQ2</th>\n    </tr>\n    <tr>\n      <th>UserId</th>\n      <th></th>\n      <th></th>\n      <th></th>\n      <th></th>\n      <th></th>\n      <th></th>\n      <th></th>\n      <th></th>\n      <th></th>\n      <th></th>\n      <th></th>\n      <th></th>\n      <th></th>\n      <th></th>\n      <th></th>\n      <th></th>\n      <th></th>\n      <th></th>\n      <th></th>\n      <th></th>\n      <th></th>\n    </tr>\n  </thead>\n  <tbody>\n    <tr>\n      <th>A00205921JHJK5X9LNP42</th>\n      <td>0</td>\n      <td>0</td>\n      <td>0</td>\n      <td>0</td>\n      <td>0</td>\n      <td>0</td>\n      <td>0</td>\n      <td>0</td>\n      <td>0</td>\n      <td>0</td>\n      <td>...</td>\n      <td>0</td>\n      <td>0</td>\n      <td>0</td>\n      <td>0</td>\n      <td>0</td>\n      <td>0</td>\n      <td>0</td>\n      <td>0</td>\n      <td>0</td>\n      <td>0</td>\n    </tr>\n    <tr>\n      <th>A024581134CV80ZBLIZTZ</th>\n      <td>0</td>\n      <td>0</td>\n      <td>0</td>\n      <td>0</td>\n      <td>0</td>\n      <td>0</td>\n      <td>0</td>\n      <td>0</td>\n      <td>0</td>\n      <td>0</td>\n      <td>...</td>\n      <td>0</td>\n      <td>0</td>\n      <td>0</td>\n      <td>0</td>\n      <td>0</td>\n      <td>0</td>\n      <td>0</td>\n      <td>0</td>\n      <td>0</td>\n      <td>0</td>\n    </tr>\n    <tr>\n      <th>A03056581JJIOL5FSKJY7</th>\n      <td>0</td>\n      <td>0</td>\n      <td>0</td>\n      <td>0</td>\n      <td>0</td>\n      <td>0</td>\n      <td>0</td>\n      <td>0</td>\n      <td>0</td>\n      <td>0</td>\n      <td>...</td>\n      <td>0</td>\n      <td>0</td>\n      <td>0</td>\n      <td>0</td>\n      <td>0</td>\n      <td>0</td>\n      <td>0</td>\n      <td>0</td>\n      <td>0</td>\n      <td>0</td>\n    </tr>\n    <tr>\n      <th>A03099101ZRK4K607JVHH</th>\n      <td>0</td>\n      <td>0</td>\n      <td>0</td>\n      <td>0</td>\n      <td>0</td>\n      <td>0</td>\n      <td>0</td>\n      <td>0</td>\n      <td>0</td>\n      <td>0</td>\n      <td>...</td>\n      <td>0</td>\n      <td>0</td>\n      <td>0</td>\n      <td>0</td>\n      <td>0</td>\n      <td>0</td>\n      <td>0</td>\n      <td>0</td>\n      <td>0</td>\n      <td>0</td>\n    </tr>\n    <tr>\n      <th>A0505229A7NSH3FRXRR4</th>\n      <td>0</td>\n      <td>0</td>\n      <td>0</td>\n      <td>0</td>\n      <td>0</td>\n      <td>0</td>\n      <td>0</td>\n      <td>0</td>\n      <td>0</td>\n      <td>0</td>\n      <td>...</td>\n      <td>0</td>\n      <td>0</td>\n      <td>0</td>\n      <td>0</td>\n      <td>0</td>\n      <td>0</td>\n      <td>0</td>\n      <td>0</td>\n      <td>0</td>\n      <td>0</td>\n    </tr>\n  </tbody>\n</table>\n<p>5 rows × 886 columns</p>\n</div>"
     },
     "execution_count": 13,
     "metadata": {},
     "output_type": "execute_result"
    }
   ],
   "source": [
    "ratings_utility_matrix = amazon_ratings1.pivot_table(values='Rating', index='UserId', columns='ProductId', fill_value=0)\n",
    "ratings_utility_matrix.head()"
   ],
   "metadata": {
    "collapsed": false,
    "ExecuteTime": {
     "end_time": "2024-05-02T12:42:22.267836Z",
     "start_time": "2024-05-02T12:42:21.863037Z"
    }
   },
   "id": "5f526158d36be9ac"
  },
  {
   "cell_type": "code",
   "execution_count": 15,
   "outputs": [
    {
     "data": {
      "text/plain": "(9697, 886)"
     },
     "execution_count": 15,
     "metadata": {},
     "output_type": "execute_result"
    }
   ],
   "source": [
    "ratings_utility_matrix.shape"
   ],
   "metadata": {
    "collapsed": false,
    "ExecuteTime": {
     "end_time": "2024-05-02T12:43:37.438269Z",
     "start_time": "2024-05-02T12:43:37.418515Z"
    }
   },
   "id": "831d11ab7808ef4c"
  },
  {
   "cell_type": "markdown",
   "source": [
    "Next we take the transpose of the matrix due to which we get a matrix with the products as rows and the columns as users  "
   ],
   "metadata": {
    "collapsed": false
   },
   "id": "690783e5b52408cb"
  },
  {
   "cell_type": "code",
   "execution_count": 17,
   "outputs": [
    {
     "data": {
      "text/plain": "(886, 9697)"
     },
     "execution_count": 17,
     "metadata": {},
     "output_type": "execute_result"
    }
   ],
   "source": [
    "X = ratings_utility_matrix.T\n",
    "X.shape"
   ],
   "metadata": {
    "collapsed": false,
    "ExecuteTime": {
     "end_time": "2024-05-02T12:52:59.193996Z",
     "start_time": "2024-05-02T12:52:59.169695Z"
    }
   },
   "id": "351cbfae342d071b"
  },
  {
   "cell_type": "markdown",
   "source": [
    "This helps in reducing the dimensions of the matrix from 886 x 9697 to 886 x 10, to reduce the curse of dimensionality. "
   ],
   "metadata": {
    "collapsed": false
   },
   "id": "8ad125a56413f61d"
  },
  {
   "cell_type": "code",
   "execution_count": 20,
   "outputs": [
    {
     "data": {
      "text/plain": "(886, 10)"
     },
     "execution_count": 20,
     "metadata": {},
     "output_type": "execute_result"
    }
   ],
   "source": [
    "SVD = TruncatedSVD(n_components=10)\n",
    "decomposed_matrix = SVD.fit_transform(X)\n",
    "decomposed_matrix.shape"
   ],
   "metadata": {
    "collapsed": false,
    "ExecuteTime": {
     "end_time": "2024-05-02T12:57:45.339842Z",
     "start_time": "2024-05-02T12:57:44.587688Z"
    }
   },
   "id": "37756ef080f57393"
  },
  {
   "cell_type": "code",
   "execution_count": 23,
   "outputs": [
    {
     "data": {
      "text/plain": "array([[ 4.58278638e-16, -1.30044011e-13, -5.34036792e-14, ...,\n         1.02763711e-12,  2.50997164e-12,  7.27326997e-13],\n       [ 1.31522023e-14, -2.83050644e-13, -3.88605025e-13, ...,\n         3.74867329e-12,  2.45824870e-11,  1.32233750e-11],\n       [-3.54065961e-16,  3.61658697e-15,  3.30805721e-15, ...,\n        -4.94322384e-14, -2.62549000e-13, -4.35517197e-13],\n       ...,\n       [ 3.30024089e-06,  2.27950631e-01, -1.04114212e-02, ...,\n        -3.74027775e-03, -3.07663468e-05, -4.95262707e-02],\n       [-2.61824206e-07,  8.30725305e-04, -2.42459759e-05, ...,\n        -4.94295744e-04,  9.90783650e-05, -3.60538835e-03],\n       [-2.63636389e-04,  4.24415804e-01,  3.60885785e-01, ...,\n        -1.75184385e-02,  9.08214847e-02,  5.38613335e-01]])"
     },
     "execution_count": 23,
     "metadata": {},
     "output_type": "execute_result"
    }
   ],
   "source": [
    "decomposed_matrix"
   ],
   "metadata": {
    "collapsed": false,
    "ExecuteTime": {
     "end_time": "2024-05-02T12:58:10.049215Z",
     "start_time": "2024-05-02T12:58:10.033316Z"
    }
   },
   "id": "1b6b4ade8a7d9f9e"
  },
  {
   "cell_type": "markdown",
   "source": [
    "building the correlation matrix for the products to check the correlation between the various products involved"
   ],
   "metadata": {
    "collapsed": false
   },
   "id": "ed63f7c04eaa01c4"
  },
  {
   "cell_type": "code",
   "execution_count": 24,
   "outputs": [
    {
     "data": {
      "text/plain": "(886, 886)"
     },
     "execution_count": 24,
     "metadata": {},
     "output_type": "execute_result"
    }
   ],
   "source": [
    "correlation_matrix = np.corrcoef(decomposed_matrix)\n",
    "correlation_matrix.shape"
   ],
   "metadata": {
    "collapsed": false,
    "ExecuteTime": {
     "end_time": "2024-05-02T13:09:48.471754Z",
     "start_time": "2024-05-02T13:09:48.418446Z"
    }
   },
   "id": "4a952aead6e56bea"
  },
  {
   "cell_type": "code",
   "execution_count": 26,
   "outputs": [
    {
     "data": {
      "text/plain": "(886, 9697)"
     },
     "execution_count": 26,
     "metadata": {},
     "output_type": "execute_result"
    }
   ],
   "source": [
    "X.shape"
   ],
   "metadata": {
    "collapsed": false,
    "ExecuteTime": {
     "end_time": "2024-05-02T13:14:00.818945Z",
     "start_time": "2024-05-02T13:14:00.812296Z"
    }
   },
   "id": "7c8fad333061a719"
  },
  {
   "cell_type": "code",
   "execution_count": 25,
   "outputs": [
    {
     "data": {
      "text/plain": "'6117036094'"
     },
     "execution_count": 25,
     "metadata": {},
     "output_type": "execute_result"
    }
   ],
   "source": [
    "X.index[99]"
   ],
   "metadata": {
    "collapsed": false,
    "ExecuteTime": {
     "end_time": "2024-05-02T13:13:57.050286Z",
     "start_time": "2024-05-02T13:13:57.041828Z"
    }
   },
   "id": "6eb5808605082d47"
  },
  {
   "cell_type": "code",
   "execution_count": 27,
   "outputs": [
    {
     "data": {
      "text/plain": "99"
     },
     "execution_count": 27,
     "metadata": {},
     "output_type": "execute_result"
    }
   ],
   "source": [
    "i = \"6117036094\"\n",
    "\n",
    "product_names = list(X.index)\n",
    "product_ID = product_names.index(i)\n",
    "product_ID"
   ],
   "metadata": {
    "collapsed": false,
    "ExecuteTime": {
     "end_time": "2024-05-02T13:14:24.402266Z",
     "start_time": "2024-05-02T13:14:24.398338Z"
    }
   },
   "id": "ce1187240332357e"
  },
  {
   "cell_type": "code",
   "execution_count": 81,
   "outputs": [
    {
     "data": {
      "text/plain": "            UserId   ProductId  Rating   Timestamp\n294  ANLSZ40VRRB21  6117036094     5.0  1400457600",
      "text/html": "<div>\n<style scoped>\n    .dataframe tbody tr th:only-of-type {\n        vertical-align: middle;\n    }\n\n    .dataframe tbody tr th {\n        vertical-align: top;\n    }\n\n    .dataframe thead th {\n        text-align: right;\n    }\n</style>\n<table border=\"1\" class=\"dataframe\">\n  <thead>\n    <tr style=\"text-align: right;\">\n      <th></th>\n      <th>UserId</th>\n      <th>ProductId</th>\n      <th>Rating</th>\n      <th>Timestamp</th>\n    </tr>\n  </thead>\n  <tbody>\n    <tr>\n      <th>294</th>\n      <td>ANLSZ40VRRB21</td>\n      <td>6117036094</td>\n      <td>5.0</td>\n      <td>1400457600</td>\n    </tr>\n  </tbody>\n</table>\n</div>"
     },
     "execution_count": 81,
     "metadata": {},
     "output_type": "execute_result"
    }
   ],
   "source": [
    "amazon_ratings1[amazon_ratings1['ProductId'] == '6117036094']"
   ],
   "metadata": {
    "collapsed": false,
    "ExecuteTime": {
     "end_time": "2024-05-03T04:03:24.072490Z",
     "start_time": "2024-05-03T04:03:23.971768Z"
    }
   },
   "id": "1fd8c8a8b378e81c"
  },
  {
   "cell_type": "code",
   "execution_count": 29,
   "outputs": [
    {
     "data": {
      "text/plain": "886"
     },
     "execution_count": 29,
     "metadata": {},
     "output_type": "execute_result"
    }
   ],
   "source": [
    "len(product_names)"
   ],
   "metadata": {
    "collapsed": false,
    "ExecuteTime": {
     "end_time": "2024-05-02T13:14:36.963927Z",
     "start_time": "2024-05-02T13:14:36.956163Z"
    }
   },
   "id": "653a238c036205f0"
  },
  {
   "cell_type": "code",
   "execution_count": 33,
   "outputs": [
    {
     "data": {
      "text/plain": "array([-0.50074725, -0.28917264, -0.28855805,  0.79732859,  0.85104878,\n        0.61017013,  0.60184355,  0.02110354,  0.610086  ,  0.70367638,\n        0.60184355,  0.7046148 ,  0.60076156,  0.61367064,  0.61017013,\n        0.60184355,  0.60184355, -0.06990354,  0.60076108, -0.2748251 ,\n        0.70894317, -0.04717053,  0.59792953,  0.7047749 ,  0.70869706,\n        0.69176378,  0.69543753,  0.64293609,  0.7047749 ,  0.69116032,\n        0.69278401,  0.61044646,  0.62917294,  0.69157464,  0.70465397,\n        0.61017013,  0.69157464, -0.79196564,  0.61004949,  0.64192174,\n        0.64195499,  0.69176378,  0.61047998,  0.61017013,  0.61017013,\n        0.61017013,  0.7047749 ,  0.61017013,  0.61010466,  0.64192174,\n        0.69198763,  0.63691162, -0.70668106, -0.34235486, -0.11101375,\n        0.84020402,  0.85205885, -0.32024073, -0.79863444, -0.6346139 ,\n        0.82304417, -0.32130407,  0.8199586 ,  0.20290629,  0.42704959,\n        0.66970737,  0.11047425,  0.03104324,  0.28693633,  0.59393821,\n       -0.55010652, -0.35765671,  0.5936745 ,  0.61167308, -0.47863716,\n       -0.41738535,  0.69622062, -0.11323151,  0.19303949,  0.2358142 ,\n       -0.30617432, -0.68827515, -0.87098113, -0.75016262,  0.22963167,\n        0.2385387 ,  0.57966479, -0.73382189,  0.49911589, -0.2648089 ,\n        0.77722286,  0.42499855, -0.58717743,  0.63244015,  0.09770923,\n       -0.73475903, -0.73751512, -0.73693573, -0.252512  ,  1.        ,\n        0.30217341,  0.68253548, -0.70692401, -0.68015562, -0.61208726,\n        0.44405157, -0.52690232,  0.59422016,  0.49075342, -0.89090333,\n        0.2605456 , -0.19446405,  0.82846478, -0.31248548, -0.30114603,\n       -0.82609762, -0.5279753 ,  0.46558769, -0.60942187,  0.70437627,\n       -0.78908483,  0.5569029 ,  0.70361343,  0.53878716,  0.35155525,\n        0.60442469,  0.05247617, -0.43449355,  0.82331365,  0.3942155 ,\n        0.42523854,  0.52761867, -0.56164792,  0.23804479, -0.41922037,\n       -0.6600038 , -0.34291872, -0.34685989,  0.36655644,  0.30552989,\n        0.32421326,  0.81340749,  0.39348239, -0.63598224,  0.6157598 ,\n        0.77280947, -0.38896781,  0.71086756,  0.00253972,  0.80221193,\n        0.34640967, -0.68423754, -0.29380112,  0.91773288,  0.72460652,\n       -0.68106812,  0.54893126,  0.2905199 ,  0.12084014, -0.66825834,\n        0.61809541, -0.78357351, -0.72007124,  0.43566968, -0.52722302,\n        0.76552118,  0.80590439, -0.32927388, -0.55557438, -0.53215382,\n       -0.66812191,  0.42514118,  0.66656744, -0.76337036,  0.20722016,\n       -0.74753268, -0.01157289, -0.56219647,  0.62083917, -0.45509324,\n       -0.7736064 , -0.64445364,  0.20868435, -0.60480937, -0.28386412,\n       -0.92229681, -0.7968648 ,  0.4518082 ,  0.60404682,  0.74632443,\n       -0.74373892,  0.61117122,  0.8790307 , -0.83792948,  0.83526138,\n        0.86177582, -0.9566266 ,  0.11026552, -0.1676554 ,  0.57401067,\n        0.4471214 , -0.28386412, -0.00464375,  0.58654158, -0.75653995,\n       -0.87278866, -0.56279193,  0.90680854, -0.66872946,  0.53716795,\n       -0.24354314, -0.87826776,  0.78033153, -0.47033575,  0.27079591,\n       -0.78379643, -0.48706086,  0.43193913, -0.43921968, -0.7734364 ,\n        0.75231448,  0.47899781,  0.52752014, -0.68620074,  0.52644443,\n        0.75113336, -0.92473793,  0.91557356,  0.57889408, -0.11957044,\n       -0.76145085,  0.84657073,  0.20722234,  0.71956868,  0.7301048 ,\n       -0.90667294,  0.38560314,  0.52854113, -0.16025725, -0.35841293,\n       -0.78714613,  0.7956926 , -0.21418148, -0.90132139, -0.76057042,\n        0.54099931,  0.2209682 , -0.5486715 , -0.8558798 ,  0.21465204,\n        0.55416793, -0.18154913,  0.39397935, -0.65893863,  0.56964233,\n       -0.89468069, -0.78872188, -0.04496898, -0.72386774, -0.68106612,\n       -0.14484919, -0.71417938, -0.82682041, -0.8474996 ,  0.87349649,\n       -0.60224576,  0.72313028,  0.94447287, -0.1383686 ,  0.13792691,\n        0.59647498,  0.52232915,  0.84231238, -0.86552244,  0.64253401,\n       -0.14056509,  0.47152026,  0.73296187, -0.51660466,  0.41929798,\n        0.15904238,  0.05359808,  0.43956142,  0.56456028,  0.39175931,\n       -0.80954523,  0.37879565, -0.20539976,  0.56159794, -0.87551742,\n       -0.2047941 ,  0.42155154,  0.82391531, -0.12141401, -0.48792624,\n        0.50969668, -0.90818632, -0.53541612, -0.53562658,  0.7594821 ,\n       -0.78037271, -0.57200666,  0.69602431,  0.26319415, -0.3120693 ,\n        0.43716495, -0.09539387,  0.34630839,  0.51788469, -0.33891494,\n        0.14056376,  0.25427592,  0.18920901,  0.57051209,  0.67966265,\n        0.09987722,  0.73909432, -0.86733402,  0.87729732,  0.89260519,\n        0.69781108, -0.24812908,  0.88360685,  0.4032973 ,  0.61032293,\n       -0.64045165,  0.8009236 ,  0.91835985, -0.67816608, -0.53402294,\n        0.66103823,  0.90278351,  0.15799142,  0.07713969, -0.44297666,\n        0.1962315 ,  0.13998897, -0.37283431, -0.57062101, -0.58890425,\n        0.4120475 ,  0.18049238, -0.95067413, -0.26756945,  0.1717213 ,\n        0.25240592, -0.50332918, -0.65167915,  0.49580841,  0.70100492,\n        0.45849224,  0.24537948, -0.78506636,  0.4488696 , -0.69802616,\n        0.29240149, -0.53558043,  0.25453995, -0.89931914, -0.16653193,\n        0.46904674, -0.84604022, -0.73217942, -0.31224069,  0.46863719,\n        0.49696001, -0.18632752,  0.30536015,  0.84645663, -0.33158903,\n        0.5938427 ,  0.70630194, -0.4840269 ,  0.28400217, -0.4042064 ,\n       -0.11442933,  0.30834722,  0.92998704, -0.92610217,  0.46745699,\n       -0.35263077, -0.36519848,  0.31854983, -0.46028868, -0.55092198,\n       -0.41474885,  0.69345968, -0.11551773, -0.01948842, -0.13434739,\n       -0.75721432,  0.27096725, -0.39080485,  0.23159637,  0.72313028,\n        0.14914626, -0.30134652,  0.64256661,  0.75229106,  0.10080491,\n        0.66696331,  0.41747944,  0.18454838,  0.52096907,  0.39788048,\n        0.7549978 ,  0.53985812,  0.39388919,  0.28321171,  0.03502046,\n        0.21850414,  0.68537144,  0.64977129, -0.89807095, -0.49583147,\n        0.64977129,  0.18894852, -0.22916367,  0.67897211, -0.6127882 ,\n        0.59815959,  0.13804514,  0.47228818,  0.24521573, -0.32934401,\n        0.30551217,  0.71068525, -0.42290964, -0.86408579, -0.23356271,\n       -0.15531393, -0.57892166, -0.29128306,  0.38747347,  0.51957834,\n       -0.96103018,  0.42511715,  0.86699855,  0.20699661, -0.64841369,\n       -0.15534417,  0.88722439,  0.90749641,  0.1943015 , -0.57335641,\n        0.6290889 , -0.10492706, -0.51918564,  0.20135887, -0.54471922,\n       -0.55217021,  0.71849696, -0.46074702, -0.27905575, -0.01030711,\n       -0.01609933, -0.92131554, -0.21113993,  0.95196123, -0.59739637,\n        0.33731948, -0.00355361,  0.30011721,  0.43460055,  0.68273381,\n        0.60539444,  0.92085744,  0.62217187, -0.52497458,  0.53290905,\n       -0.39448393,  0.53033877, -0.79371488,  0.41852044,  0.68332845,\n       -0.17089677,  0.34259996, -0.42758124,  0.65931432, -0.09433639,\n        0.69507499, -0.78572532, -0.81073466,  0.72038434,  0.5700963 ,\n       -0.77155386,  0.87654022,  0.33119058,  0.75630908, -0.37200106,\n        0.53744551,  0.62849496,  0.2271296 ,  0.52354357,  0.88100706,\n       -0.63480415,  0.63985931,  0.86261245, -0.68904999, -0.72281693,\n       -0.62763144, -0.79427343, -0.88871113, -0.4902266 , -0.72690564,\n       -0.29683842, -0.29728004,  0.08087098,  0.44081349,  0.72397483,\n       -0.41578297, -0.48556303,  0.70813827,  0.4421184 ,  0.96834774,\n       -0.67645072,  0.40534752,  0.38299846,  0.39629456, -0.16396664,\n        0.39761644,  0.93522929, -0.91785395,  0.34180985, -0.36640954,\n        0.77118671,  0.59864867,  0.68732513,  0.42339948,  0.51401857,\n       -0.8288349 ,  0.41356247,  0.61592464, -0.26056757,  0.92597914,\n        0.42428327, -0.62650831, -0.33560953,  0.91179479, -0.30801427,\n       -0.84946909, -0.44752649,  0.72350337,  0.0397013 ,  0.21832378,\n        0.25537584,  0.40373677,  0.01134461,  0.776989  ,  0.90774537,\n       -0.79344721,  0.36407224, -0.54702099, -0.72227506,  0.65651834,\n       -0.63654797,  0.44910161,  0.08636623, -0.95053184,  0.55369831,\n        0.73706494, -0.53538549,  0.6797795 , -0.81830485, -0.10538767,\n       -0.44604789,  0.48487842, -0.86754581, -0.80602265,  0.67430317,\n        0.63574624, -0.53084072,  0.19823247, -0.81773725,  0.72606209,\n       -0.70533821, -0.15754442, -0.15533606,  0.48871744, -0.41653239,\n        0.42109678, -0.18918972, -0.23653956,  0.16419427,  0.46507421,\n        0.76701504, -0.85662858, -0.79365965,  0.56290387, -0.53514852,\n       -0.81206376,  0.3786272 ,  0.09895322, -0.6906005 , -0.74142918,\n       -0.78150491,  0.01473866, -0.4677194 ,  0.44818662, -0.25544593,\n        0.28919036,  0.55665124,  0.73848139,  0.24365716, -0.57422165,\n       -0.62093312, -0.87280624,  0.60646074, -0.21811987,  0.61386465,\n       -0.71760002,  0.63721173, -0.82373379,  0.6230124 ,  0.85526598,\n       -0.91582501, -0.68759446,  0.68301262, -0.59376178,  0.7592926 ,\n       -0.7649681 , -0.12216901,  0.5407336 ,  0.60774412, -0.63516985,\n        0.93293731, -0.38944019, -0.79543638, -0.88860537,  0.02089133,\n        0.30828642,  0.77098649,  0.36563225, -0.05900487,  0.76012737,\n       -0.70039653, -0.73639377,  0.53555221, -0.31189188, -0.20665989,\n        0.86906067, -0.70607935,  0.46352944,  0.46352342,  0.86941297,\n        0.31340781, -0.49334881, -0.22082822,  0.1978068 , -0.41416491,\n       -0.41490074, -0.36894323, -0.91340635,  0.24140331,  0.70064708,\n        0.80217982, -0.5699583 , -0.12822305,  0.56259075, -0.1596839 ,\n        0.24374047, -0.35312146,  0.88269493,  0.25744896,  0.9294589 ,\n       -0.59279804, -0.12822482,  0.63536867,  0.8716616 ,  0.13802341,\n       -0.10163286, -0.90116596, -0.06344217, -0.36292552, -0.55182727,\n       -0.8263688 , -0.86689724, -0.72377743,  0.7551195 ,  0.26854065,\n       -0.68240933,  0.37323508,  0.25744896, -0.69367397,  0.5975394 ,\n       -0.66829139,  0.40116572, -0.02129581, -0.93693995,  0.42834771,\n        0.95092946,  0.35262789,  0.93323595, -0.02294176, -0.18434375,\n        0.49908793, -0.48810743, -0.41751468,  0.83817607, -0.22643942,\n        0.17324873,  0.4391004 ,  0.47646221, -0.25076164, -0.00181988,\n        0.32687888, -0.51605781, -0.14213234,  0.4033703 ,  0.32734454,\n        0.36198992,  0.50557605, -0.52057919, -0.92037824,  0.81311176,\n       -0.34757323,  0.49090801, -0.94756578, -0.39275395,  0.05244563,\n       -0.53315889, -0.29297503, -0.76879469,  0.29587126,  0.06017756,\n        0.15760378, -0.83144945,  0.16639536,  0.49911651, -0.87203259,\n        0.86177582,  0.44516497, -0.43482836, -0.06116418,  0.48731972,\n        0.85983377,  0.49561965, -0.55544365,  0.76320536,  0.84050497,\n       -0.53784284,  0.29240995, -0.61762608, -0.29586062, -0.22799115,\n       -0.64362958,  0.42862327, -0.05709172, -0.24031638, -0.24032936,\n       -0.68114219,  0.32701885, -0.50629752,  0.05539453,  0.42903645,\n        0.74436803,  0.56571249,  0.3180787 , -0.79834621,  0.81662156,\n       -0.86536338,  0.55505876,  0.66472297, -0.36600737, -0.08691384,\n        0.49020622,  0.60713251,  0.18018377,  0.59536793, -0.60095716,\n       -0.61952276,  0.05231065, -0.59740699, -0.40855374,  0.42828388,\n       -0.8638327 ,  0.374762  , -0.46273101, -0.20191424, -0.8810358 ,\n       -0.31531127, -0.84335982,  0.37037296, -0.62168323, -0.6689015 ,\n        0.59980157,  0.43416782,  0.94950235,  0.55597774, -0.87812863,\n        0.15036246, -0.72786514,  0.15596572, -0.45927366,  0.51749619,\n       -0.25807107, -0.41379862, -0.50664743, -0.64525919,  0.39338341,\n       -0.15753065, -0.48043846, -0.47360596,  0.01968511, -0.19807367,\n       -0.47112545, -0.47055758, -0.89095826, -0.73113506, -0.91823564,\n        0.06023938, -0.58311971, -0.13744331,  0.61161688,  0.26796266,\n       -0.35332716, -0.22452553, -0.21935298,  0.68634559,  0.65177937,\n       -0.14378879, -0.4679924 ,  0.85486072,  0.07862013, -0.37272793,\n       -0.05380673, -0.69497878, -0.90728044,  0.88766521,  0.39471278,\n       -0.20767758, -0.85636626,  0.65088745,  0.70207233, -0.03447859,\n        0.3925444 ,  0.49270639, -0.4326745 , -0.58282593, -0.62596814,\n       -0.21418407,  0.67847727, -0.15026141, -0.05427557, -0.1287163 ,\n       -0.30017653, -0.16562075, -0.39122916, -0.0702192 ,  0.67150152,\n        0.68180602, -0.74798169, -0.05476321,  0.71299694, -0.85017431,\n        0.51942993, -0.68650782, -0.10310013, -0.42525951,  0.68102886,\n        0.38467644, -0.19658236, -0.19815879, -0.75215609,  0.82592709,\n       -0.19413831, -0.60871015,  0.89106844, -0.89353054, -0.26250377,\n       -0.92563547,  0.54215958, -0.7795888 ,  0.00653828, -0.65366149,\n        0.67304742, -0.55474021,  0.10944491, -0.58904683, -0.4669688 ,\n        0.72059776,  0.1114737 , -0.37632789, -0.1144452 , -0.50710749,\n        0.31560307])"
     },
     "execution_count": 33,
     "metadata": {},
     "output_type": "execute_result"
    }
   ],
   "source": [
    "correlation_product_id = correlation_matrix[product_ID]\n",
    "correlation_product_id"
   ],
   "metadata": {
    "collapsed": false,
    "ExecuteTime": {
     "end_time": "2024-05-02T13:19:06.491650Z",
     "start_time": "2024-05-02T13:19:06.478779Z"
    }
   },
   "id": "c0b6649de116182e"
  },
  {
   "cell_type": "markdown",
   "source": [
    "So if we assume that the customer has bought the product 6117036094 then we recommend 10 items to the customer closely correlated to the item the customer has bought before."
   ],
   "metadata": {
    "collapsed": false
   },
   "id": "51655f1d6c0f36b"
  },
  {
   "cell_type": "code",
   "execution_count": 36,
   "outputs": [
    {
     "data": {
      "text/plain": "['9601420347',\n '978807247X',\n '9788073514',\n '9788080626',\n '9790774443',\n '9790774907',\n '9790779925',\n '9790786069',\n '9790787510']"
     },
     "execution_count": 36,
     "metadata": {},
     "output_type": "execute_result"
    }
   ],
   "source": [
    "Recommend = list(X.index[correlation_product_id > 0.90])\n",
    "\n",
    "# Removes the item already bought by the customer\n",
    "Recommend.remove(i) \n",
    "\n",
    "Recommend[0:9]"
   ],
   "metadata": {
    "collapsed": false,
    "ExecuteTime": {
     "end_time": "2024-05-02T13:19:40.358114Z",
     "start_time": "2024-05-02T13:19:40.325404Z"
    }
   },
   "id": "a7ac56e3efca0f0c"
  },
  {
   "cell_type": "markdown",
   "source": [
    "### A deep learning approach to the recommender system\n"
   ],
   "metadata": {
    "collapsed": false
   },
   "id": "355da14bcc8e53f0"
  },
  {
   "cell_type": "code",
   "execution_count": null,
   "outputs": [],
   "source": [],
   "metadata": {
    "collapsed": false
   },
   "id": "7b1dd37efb17e62f"
  }
 ],
 "metadata": {
  "kernelspec": {
   "display_name": "Python 3",
   "language": "python",
   "name": "python3"
  },
  "language_info": {
   "codemirror_mode": {
    "name": "ipython",
    "version": 2
   },
   "file_extension": ".py",
   "mimetype": "text/x-python",
   "name": "python",
   "nbconvert_exporter": "python",
   "pygments_lexer": "ipython2",
   "version": "2.7.6"
  }
 },
 "nbformat": 4,
 "nbformat_minor": 5
}
