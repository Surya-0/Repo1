{
 "cells": [
  {
   "cell_type": "markdown",
   "source": [
    "## With DP"
   ],
   "metadata": {
    "collapsed": false
   },
   "id": "402354ebc2c86d19"
  },
  {
   "cell_type": "code",
   "execution_count": null,
   "id": "initial_id",
   "metadata": {
    "collapsed": true
   },
   "outputs": [],
   "source": [
    "import time\n",
    "start_time = time.time()\n",
    "n = 5\n",
    "m = [None]*(n+1)\n",
    "m[0] = 0\n",
    "m[1] = 1\n",
    "def fib(n):\n",
    "    if m[n] == None:\n",
    "        m[n] = fib(n-1)+fib(n-2)\n",
    "    return m[n]\n",
    "end_time = time.time()\n",
    "a = fib(n)\n",
    "print(a)\n",
    "print(end_time - start_time)\n"
   ]
  },
  {
   "cell_type": "markdown",
   "source": [
    "## Without DP"
   ],
   "metadata": {
    "collapsed": false
   },
   "id": "71706fb5fe8bf33c"
  },
  {
   "cell_type": "code",
   "execution_count": null,
   "outputs": [],
   "source": [
    "import time\n",
    "start_time = time.time()\n",
    "n = 5\n",
    "def fib(n):\n",
    "    if n == 0 or n == 1:\n",
    "        return n\n",
    "    else:\n",
    "        return fib(n-1)+fib(n-2)\n",
    "x = fib(n)\n",
    "end_time = time.time()\n",
    "print(end_time - start_time)\n",
    "print(x)"
   ],
   "metadata": {
    "collapsed": false
   },
   "id": "761329d879f086eb"
  }
 ],
 "metadata": {
  "kernelspec": {
   "display_name": "Python 3",
   "language": "python",
   "name": "python3"
  },
  "language_info": {
   "codemirror_mode": {
    "name": "ipython",
    "version": 2
   },
   "file_extension": ".py",
   "mimetype": "text/x-python",
   "name": "python",
   "nbconvert_exporter": "python",
   "pygments_lexer": "ipython2",
   "version": "2.7.6"
  }
 },
 "nbformat": 4,
 "nbformat_minor": 5
}
