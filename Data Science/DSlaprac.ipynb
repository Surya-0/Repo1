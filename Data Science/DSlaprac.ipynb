{
 "cells": [
  {
   "cell_type": "code",
   "execution_count": 1,
   "metadata": {},
   "outputs": [],
   "source": [
    "import pandas as pd\n",
    "import matplotlib.pyplot as plt\n",
    "import numpy as np\n",
    "import seaborn as sns\n",
    "import random"
   ]
  },
  {
   "cell_type": "code",
   "execution_count": 3,
   "metadata": {},
   "outputs": [
    {
     "data": {
      "text/plain": [
       "(500, 11)"
      ]
     },
     "execution_count": 3,
     "metadata": {},
     "output_type": "execute_result"
    }
   ],
   "source": [
    "d1 = pd.read_csv('https://raw.githubusercontent.com/dayanandv/Data-Science/main/dataset/uk-500.csv')\n",
    "d1"
   ]
  },
  {
   "cell_type": "code",
   "execution_count": 12,
   "metadata": {},
   "outputs": [
    {
     "data": {
      "text/html": [
       "<div>\n",
       "<style scoped>\n",
       "    .dataframe tbody tr th:only-of-type {\n",
       "        vertical-align: middle;\n",
       "    }\n",
       "\n",
       "    .dataframe tbody tr th {\n",
       "        vertical-align: top;\n",
       "    }\n",
       "\n",
       "    .dataframe thead th {\n",
       "        text-align: right;\n",
       "    }\n",
       "</style>\n",
       "<table border=\"1\" class=\"dataframe\">\n",
       "  <thead>\n",
       "    <tr style=\"text-align: right;\">\n",
       "      <th></th>\n",
       "      <th>first_name</th>\n",
       "      <th>last_name</th>\n",
       "      <th>company_name</th>\n",
       "      <th>address</th>\n",
       "      <th>city</th>\n",
       "      <th>county</th>\n",
       "      <th>postal</th>\n",
       "      <th>phone1</th>\n",
       "      <th>phone2</th>\n",
       "      <th>email</th>\n",
       "      <th>web</th>\n",
       "    </tr>\n",
       "  </thead>\n",
       "  <tbody>\n",
       "    <tr>\n",
       "      <th>361</th>\n",
       "      <td>Celia</td>\n",
       "      <td>Reisling</td>\n",
       "      <td>Bridger Valley General Store</td>\n",
       "      <td>8362 Whithorn St</td>\n",
       "      <td>Leatherhead South Ward</td>\n",
       "      <td>Surrey</td>\n",
       "      <td>KT22 8AP</td>\n",
       "      <td>01309-159593</td>\n",
       "      <td>01299-509105</td>\n",
       "      <td>celia.reisling@hotmail.com</td>\n",
       "      <td>http://www.bridgervalleygeneralstore.co.uk</td>\n",
       "    </tr>\n",
       "    <tr>\n",
       "      <th>73</th>\n",
       "      <td>Yun</td>\n",
       "      <td>Paletta</td>\n",
       "      <td>Goe, Douglas E Esq</td>\n",
       "      <td>9205 Upper Hill St</td>\n",
       "      <td>City and Hunslet Ward</td>\n",
       "      <td>West Yorkshire</td>\n",
       "      <td>LS1 5QE</td>\n",
       "      <td>01350-332706</td>\n",
       "      <td>01374-255198</td>\n",
       "      <td>yun_paletta@paletta.co.uk</td>\n",
       "      <td>http://www.goedouglaseesq.co.uk</td>\n",
       "    </tr>\n",
       "    <tr>\n",
       "      <th>374</th>\n",
       "      <td>Keneth</td>\n",
       "      <td>Stpierrie</td>\n",
       "      <td>Mueller Repro Blue Printg</td>\n",
       "      <td>2 Seacombe St</td>\n",
       "      <td>Littleborough Lakeside Ward</td>\n",
       "      <td>Greater Manchester</td>\n",
       "      <td>OL15 0JP</td>\n",
       "      <td>01919-731224</td>\n",
       "      <td>01325-412836</td>\n",
       "      <td>keneth_stpierrie@hotmail.com</td>\n",
       "      <td>http://www.muellerreproblueprintg.co.uk</td>\n",
       "    </tr>\n",
       "    <tr>\n",
       "      <th>155</th>\n",
       "      <td>Lino</td>\n",
       "      <td>Sutulovich</td>\n",
       "      <td>Sherpa Corp</td>\n",
       "      <td>55 Margaret Rd</td>\n",
       "      <td>Heaton Ward</td>\n",
       "      <td>Yorkshire, West</td>\n",
       "      <td>BD9 4DA</td>\n",
       "      <td>01316-590173</td>\n",
       "      <td>01980-890046</td>\n",
       "      <td>lino.sutulovich@gmail.com</td>\n",
       "      <td>http://www.sherpacorp.co.uk</td>\n",
       "    </tr>\n",
       "    <tr>\n",
       "      <th>104</th>\n",
       "      <td>Lisbeth</td>\n",
       "      <td>Creecy</td>\n",
       "      <td>Gerstenfeld, Gerald F Esq</td>\n",
       "      <td>484 Barry St</td>\n",
       "      <td>Shiney Row Ward</td>\n",
       "      <td>County Durham</td>\n",
       "      <td>DH4 7RG</td>\n",
       "      <td>01931-620849</td>\n",
       "      <td>01825-623398</td>\n",
       "      <td>lcreecy@gmail.com</td>\n",
       "      <td>http://www.gerstenfeldgeraldfesq.co.uk</td>\n",
       "    </tr>\n",
       "  </tbody>\n",
       "</table>\n",
       "</div>"
      ],
      "text/plain": [
       "    first_name   last_name                  company_name             address  \\\n",
       "361      Celia    Reisling  Bridger Valley General Store    8362 Whithorn St   \n",
       "73         Yun     Paletta            Goe, Douglas E Esq  9205 Upper Hill St   \n",
       "374     Keneth   Stpierrie     Mueller Repro Blue Printg       2 Seacombe St   \n",
       "155       Lino  Sutulovich                   Sherpa Corp      55 Margaret Rd   \n",
       "104    Lisbeth      Creecy     Gerstenfeld, Gerald F Esq        484 Barry St   \n",
       "\n",
       "                            city              county    postal        phone1  \\\n",
       "361       Leatherhead South Ward              Surrey  KT22 8AP  01309-159593   \n",
       "73         City and Hunslet Ward      West Yorkshire   LS1 5QE  01350-332706   \n",
       "374  Littleborough Lakeside Ward  Greater Manchester  OL15 0JP  01919-731224   \n",
       "155                  Heaton Ward     Yorkshire, West   BD9 4DA  01316-590173   \n",
       "104              Shiney Row Ward       County Durham   DH4 7RG  01931-620849   \n",
       "\n",
       "           phone2                         email  \\\n",
       "361  01299-509105    celia.reisling@hotmail.com   \n",
       "73   01374-255198     yun_paletta@paletta.co.uk   \n",
       "374  01325-412836  keneth_stpierrie@hotmail.com   \n",
       "155  01980-890046     lino.sutulovich@gmail.com   \n",
       "104  01825-623398             lcreecy@gmail.com   \n",
       "\n",
       "                                            web  \n",
       "361  http://www.bridgervalleygeneralstore.co.uk  \n",
       "73              http://www.goedouglaseesq.co.uk  \n",
       "374     http://www.muellerreproblueprintg.co.uk  \n",
       "155                 http://www.sherpacorp.co.uk  \n",
       "104      http://www.gerstenfeldgeraldfesq.co.uk  "
      ]
     },
     "execution_count": 12,
     "metadata": {},
     "output_type": "execute_result"
    }
   ],
   "source": [
    "d1.sample(n=5,random_state=42)"
   ]
  }
 ],
 "metadata": {
  "kernelspec": {
   "display_name": "tf",
   "language": "python",
   "name": "python3"
  },
  "language_info": {
   "codemirror_mode": {
    "name": "ipython",
    "version": 3
   },
   "file_extension": ".py",
   "mimetype": "text/x-python",
   "name": "python",
   "nbconvert_exporter": "python",
   "pygments_lexer": "ipython3",
   "version": "3.11.4"
  },
  "orig_nbformat": 4
 },
 "nbformat": 4,
 "nbformat_minor": 2
}
