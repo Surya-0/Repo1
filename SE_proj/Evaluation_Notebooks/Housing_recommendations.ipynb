{
 "cells": [
  {
   "cell_type": "code",
   "execution_count": 72,
   "id": "initial_id",
   "metadata": {
    "collapsed": true,
    "ExecuteTime": {
     "end_time": "2024-05-03T17:37:00.088323Z",
     "start_time": "2024-05-03T17:37:00.083583Z"
    }
   },
   "outputs": [],
   "source": [
    "import numpy as np\n",
    "import pandas as pd\n",
    "import matplotlib.pyplot as plt"
   ]
  },
  {
   "cell_type": "code",
   "execution_count": 73,
   "outputs": [
    {
     "data": {
      "text/plain": "       Unnamed: 0       City     Price  Area                         Location  \\\n0               0  Bangalore  30000000  3340                 JP Nagar Phase 1   \n1               1  Bangalore   7888000  1045       Dasarahalli on Tumkur Road   \n2               2  Bangalore   4866000  1179  Kannur on Thanisandra Main Road   \n3               3  Bangalore   8358000  1675                     Doddanekundi   \n4               4  Bangalore   6845000  1670                          Kengeri   \n...           ...        ...       ...   ...                              ...   \n29130        7714     Mumbai  14500000  1180                   Mira Road East   \n29131        7715     Mumbai  14500000   530                     Naigaon East   \n29132        7716     Mumbai   4100000   700                         Shirgaon   \n29133        7717     Mumbai   2750000   995                   Mira Road East   \n29134        7718     Mumbai   2750000  1020                   Mira Road East   \n\n       No. of Bedrooms  \n0                    4  \n1                    2  \n2                    2  \n3                    3  \n4                    3  \n...                ...  \n29130                2  \n29131                1  \n29132                1  \n29133                2  \n29134                2  \n\n[29135 rows x 6 columns]",
      "text/html": "<div>\n<style scoped>\n    .dataframe tbody tr th:only-of-type {\n        vertical-align: middle;\n    }\n\n    .dataframe tbody tr th {\n        vertical-align: top;\n    }\n\n    .dataframe thead th {\n        text-align: right;\n    }\n</style>\n<table border=\"1\" class=\"dataframe\">\n  <thead>\n    <tr style=\"text-align: right;\">\n      <th></th>\n      <th>Unnamed: 0</th>\n      <th>City</th>\n      <th>Price</th>\n      <th>Area</th>\n      <th>Location</th>\n      <th>No. of Bedrooms</th>\n    </tr>\n  </thead>\n  <tbody>\n    <tr>\n      <th>0</th>\n      <td>0</td>\n      <td>Bangalore</td>\n      <td>30000000</td>\n      <td>3340</td>\n      <td>JP Nagar Phase 1</td>\n      <td>4</td>\n    </tr>\n    <tr>\n      <th>1</th>\n      <td>1</td>\n      <td>Bangalore</td>\n      <td>7888000</td>\n      <td>1045</td>\n      <td>Dasarahalli on Tumkur Road</td>\n      <td>2</td>\n    </tr>\n    <tr>\n      <th>2</th>\n      <td>2</td>\n      <td>Bangalore</td>\n      <td>4866000</td>\n      <td>1179</td>\n      <td>Kannur on Thanisandra Main Road</td>\n      <td>2</td>\n    </tr>\n    <tr>\n      <th>3</th>\n      <td>3</td>\n      <td>Bangalore</td>\n      <td>8358000</td>\n      <td>1675</td>\n      <td>Doddanekundi</td>\n      <td>3</td>\n    </tr>\n    <tr>\n      <th>4</th>\n      <td>4</td>\n      <td>Bangalore</td>\n      <td>6845000</td>\n      <td>1670</td>\n      <td>Kengeri</td>\n      <td>3</td>\n    </tr>\n    <tr>\n      <th>...</th>\n      <td>...</td>\n      <td>...</td>\n      <td>...</td>\n      <td>...</td>\n      <td>...</td>\n      <td>...</td>\n    </tr>\n    <tr>\n      <th>29130</th>\n      <td>7714</td>\n      <td>Mumbai</td>\n      <td>14500000</td>\n      <td>1180</td>\n      <td>Mira Road East</td>\n      <td>2</td>\n    </tr>\n    <tr>\n      <th>29131</th>\n      <td>7715</td>\n      <td>Mumbai</td>\n      <td>14500000</td>\n      <td>530</td>\n      <td>Naigaon East</td>\n      <td>1</td>\n    </tr>\n    <tr>\n      <th>29132</th>\n      <td>7716</td>\n      <td>Mumbai</td>\n      <td>4100000</td>\n      <td>700</td>\n      <td>Shirgaon</td>\n      <td>1</td>\n    </tr>\n    <tr>\n      <th>29133</th>\n      <td>7717</td>\n      <td>Mumbai</td>\n      <td>2750000</td>\n      <td>995</td>\n      <td>Mira Road East</td>\n      <td>2</td>\n    </tr>\n    <tr>\n      <th>29134</th>\n      <td>7718</td>\n      <td>Mumbai</td>\n      <td>2750000</td>\n      <td>1020</td>\n      <td>Mira Road East</td>\n      <td>2</td>\n    </tr>\n  </tbody>\n</table>\n<p>29135 rows × 6 columns</p>\n</div>"
     },
     "execution_count": 73,
     "metadata": {},
     "output_type": "execute_result"
    }
   ],
   "source": [
    "df = pd.read_csv('../Datasets/Housing_data.csv')\n",
    "df"
   ],
   "metadata": {
    "collapsed": false,
    "ExecuteTime": {
     "end_time": "2024-05-03T18:03:16.967444Z",
     "start_time": "2024-05-03T18:03:16.924919Z"
    }
   },
   "id": "8abddefa1f720c58"
  },
  {
   "cell_type": "code",
   "execution_count": 52,
   "outputs": [
    {
     "data": {
      "text/plain": "Unnamed: 0         7657\nCity                  6\nPrice              4924\nArea               2452\nLocation           1776\nNo. of Bedrooms       9\ndtype: int64"
     },
     "execution_count": 52,
     "metadata": {},
     "output_type": "execute_result"
    }
   ],
   "source": [
    "df.nunique()"
   ],
   "metadata": {
    "collapsed": false,
    "ExecuteTime": {
     "end_time": "2024-05-03T17:35:08.610372Z",
     "start_time": "2024-05-03T17:35:08.562759Z"
    }
   },
   "id": "3bdeb3b0bd390a6d"
  },
  {
   "cell_type": "code",
   "execution_count": 74,
   "outputs": [],
   "source": [
    "from sklearn.preprocessing import LabelEncoder\n",
    "le = LabelEncoder()\n",
    "df['City'] = le.fit_transform(df['City'])\n",
    "df['Location'] = le.fit_transform(df['Location'])"
   ],
   "metadata": {
    "collapsed": false,
    "ExecuteTime": {
     "end_time": "2024-05-03T18:03:20.125515Z",
     "start_time": "2024-05-03T18:03:20.093322Z"
    }
   },
   "id": "868936d437718f11"
  },
  {
   "cell_type": "code",
   "execution_count": 75,
   "outputs": [
    {
     "data": {
      "text/plain": "       Unnamed: 0  City     Price  Area  Location  No. of Bedrooms\n0               0     0  30000000  3340       595                4\n1               1     0   7888000  1045       374                2\n2               2     0   4866000  1179       698                2\n3               3     0   8358000  1675       398                3\n4               4     0   6845000  1670       731                3\n...           ...   ...       ...   ...       ...              ...\n29130        7714     5  14500000  1180       940                2\n29131        7715     5  14500000   530       996                1\n29132        7716     5   4100000   700      1491                1\n29133        7717     5   2750000   995       940                2\n29134        7718     5   2750000  1020       940                2\n\n[29135 rows x 6 columns]",
      "text/html": "<div>\n<style scoped>\n    .dataframe tbody tr th:only-of-type {\n        vertical-align: middle;\n    }\n\n    .dataframe tbody tr th {\n        vertical-align: top;\n    }\n\n    .dataframe thead th {\n        text-align: right;\n    }\n</style>\n<table border=\"1\" class=\"dataframe\">\n  <thead>\n    <tr style=\"text-align: right;\">\n      <th></th>\n      <th>Unnamed: 0</th>\n      <th>City</th>\n      <th>Price</th>\n      <th>Area</th>\n      <th>Location</th>\n      <th>No. of Bedrooms</th>\n    </tr>\n  </thead>\n  <tbody>\n    <tr>\n      <th>0</th>\n      <td>0</td>\n      <td>0</td>\n      <td>30000000</td>\n      <td>3340</td>\n      <td>595</td>\n      <td>4</td>\n    </tr>\n    <tr>\n      <th>1</th>\n      <td>1</td>\n      <td>0</td>\n      <td>7888000</td>\n      <td>1045</td>\n      <td>374</td>\n      <td>2</td>\n    </tr>\n    <tr>\n      <th>2</th>\n      <td>2</td>\n      <td>0</td>\n      <td>4866000</td>\n      <td>1179</td>\n      <td>698</td>\n      <td>2</td>\n    </tr>\n    <tr>\n      <th>3</th>\n      <td>3</td>\n      <td>0</td>\n      <td>8358000</td>\n      <td>1675</td>\n      <td>398</td>\n      <td>3</td>\n    </tr>\n    <tr>\n      <th>4</th>\n      <td>4</td>\n      <td>0</td>\n      <td>6845000</td>\n      <td>1670</td>\n      <td>731</td>\n      <td>3</td>\n    </tr>\n    <tr>\n      <th>...</th>\n      <td>...</td>\n      <td>...</td>\n      <td>...</td>\n      <td>...</td>\n      <td>...</td>\n      <td>...</td>\n    </tr>\n    <tr>\n      <th>29130</th>\n      <td>7714</td>\n      <td>5</td>\n      <td>14500000</td>\n      <td>1180</td>\n      <td>940</td>\n      <td>2</td>\n    </tr>\n    <tr>\n      <th>29131</th>\n      <td>7715</td>\n      <td>5</td>\n      <td>14500000</td>\n      <td>530</td>\n      <td>996</td>\n      <td>1</td>\n    </tr>\n    <tr>\n      <th>29132</th>\n      <td>7716</td>\n      <td>5</td>\n      <td>4100000</td>\n      <td>700</td>\n      <td>1491</td>\n      <td>1</td>\n    </tr>\n    <tr>\n      <th>29133</th>\n      <td>7717</td>\n      <td>5</td>\n      <td>2750000</td>\n      <td>995</td>\n      <td>940</td>\n      <td>2</td>\n    </tr>\n    <tr>\n      <th>29134</th>\n      <td>7718</td>\n      <td>5</td>\n      <td>2750000</td>\n      <td>1020</td>\n      <td>940</td>\n      <td>2</td>\n    </tr>\n  </tbody>\n</table>\n<p>29135 rows × 6 columns</p>\n</div>"
     },
     "execution_count": 75,
     "metadata": {},
     "output_type": "execute_result"
    }
   ],
   "source": [
    "df"
   ],
   "metadata": {
    "collapsed": false,
    "ExecuteTime": {
     "end_time": "2024-05-03T18:03:20.955025Z",
     "start_time": "2024-05-03T18:03:20.950194Z"
    }
   },
   "id": "6b1b2d4af745dbf1"
  },
  {
   "cell_type": "code",
   "execution_count": 55,
   "outputs": [
    {
     "data": {
      "text/plain": "Unnamed: 0         7657\nCity                  6\nPrice              4924\nArea               2452\nLocation           1776\nNo. of Bedrooms       9\ndtype: int64"
     },
     "execution_count": 55,
     "metadata": {},
     "output_type": "execute_result"
    }
   ],
   "source": [
    "df.nunique()"
   ],
   "metadata": {
    "collapsed": false,
    "ExecuteTime": {
     "end_time": "2024-05-03T17:35:08.610895Z",
     "start_time": "2024-05-03T17:35:08.584191Z"
    }
   },
   "id": "2032522493935f8f"
  },
  {
   "cell_type": "code",
   "execution_count": 77,
   "outputs": [],
   "source": [
    "from sklearn.tree import DecisionTreeRegressor\n",
    "dt = DecisionTreeRegressor()"
   ],
   "metadata": {
    "collapsed": false,
    "ExecuteTime": {
     "end_time": "2024-05-03T18:14:48.461530Z",
     "start_time": "2024-05-03T18:14:48.461054Z"
    }
   },
   "id": "89dcd8b8b9dc5d75"
  },
  {
   "cell_type": "code",
   "execution_count": 78,
   "outputs": [],
   "source": [
    "y = df['Price'].values"
   ],
   "metadata": {
    "collapsed": false,
    "ExecuteTime": {
     "end_time": "2024-05-03T18:14:49.220207Z",
     "start_time": "2024-05-03T18:14:49.218245Z"
    }
   },
   "id": "8fd7827fa9e61dd1"
  },
  {
   "cell_type": "code",
   "execution_count": 79,
   "outputs": [
    {
     "data": {
      "text/plain": "array([30000000,  7888000,  4866000, ...,  4100000,  2750000,  2750000])"
     },
     "execution_count": 79,
     "metadata": {},
     "output_type": "execute_result"
    }
   ],
   "source": [
    "y"
   ],
   "metadata": {
    "collapsed": false,
    "ExecuteTime": {
     "end_time": "2024-05-03T18:14:49.606421Z",
     "start_time": "2024-05-03T18:14:49.601426Z"
    }
   },
   "id": "441d7dd39b804947"
  },
  {
   "cell_type": "code",
   "execution_count": 80,
   "outputs": [
    {
     "data": {
      "text/plain": "       Unnamed: 0  City  Area  Location  No. of Bedrooms\n0               0     0  3340       595                4\n1               1     0  1045       374                2\n2               2     0  1179       698                2\n3               3     0  1675       398                3\n4               4     0  1670       731                3\n...           ...   ...   ...       ...              ...\n29130        7714     5  1180       940                2\n29131        7715     5   530       996                1\n29132        7716     5   700      1491                1\n29133        7717     5   995       940                2\n29134        7718     5  1020       940                2\n\n[29135 rows x 5 columns]",
      "text/html": "<div>\n<style scoped>\n    .dataframe tbody tr th:only-of-type {\n        vertical-align: middle;\n    }\n\n    .dataframe tbody tr th {\n        vertical-align: top;\n    }\n\n    .dataframe thead th {\n        text-align: right;\n    }\n</style>\n<table border=\"1\" class=\"dataframe\">\n  <thead>\n    <tr style=\"text-align: right;\">\n      <th></th>\n      <th>Unnamed: 0</th>\n      <th>City</th>\n      <th>Area</th>\n      <th>Location</th>\n      <th>No. of Bedrooms</th>\n    </tr>\n  </thead>\n  <tbody>\n    <tr>\n      <th>0</th>\n      <td>0</td>\n      <td>0</td>\n      <td>3340</td>\n      <td>595</td>\n      <td>4</td>\n    </tr>\n    <tr>\n      <th>1</th>\n      <td>1</td>\n      <td>0</td>\n      <td>1045</td>\n      <td>374</td>\n      <td>2</td>\n    </tr>\n    <tr>\n      <th>2</th>\n      <td>2</td>\n      <td>0</td>\n      <td>1179</td>\n      <td>698</td>\n      <td>2</td>\n    </tr>\n    <tr>\n      <th>3</th>\n      <td>3</td>\n      <td>0</td>\n      <td>1675</td>\n      <td>398</td>\n      <td>3</td>\n    </tr>\n    <tr>\n      <th>4</th>\n      <td>4</td>\n      <td>0</td>\n      <td>1670</td>\n      <td>731</td>\n      <td>3</td>\n    </tr>\n    <tr>\n      <th>...</th>\n      <td>...</td>\n      <td>...</td>\n      <td>...</td>\n      <td>...</td>\n      <td>...</td>\n    </tr>\n    <tr>\n      <th>29130</th>\n      <td>7714</td>\n      <td>5</td>\n      <td>1180</td>\n      <td>940</td>\n      <td>2</td>\n    </tr>\n    <tr>\n      <th>29131</th>\n      <td>7715</td>\n      <td>5</td>\n      <td>530</td>\n      <td>996</td>\n      <td>1</td>\n    </tr>\n    <tr>\n      <th>29132</th>\n      <td>7716</td>\n      <td>5</td>\n      <td>700</td>\n      <td>1491</td>\n      <td>1</td>\n    </tr>\n    <tr>\n      <th>29133</th>\n      <td>7717</td>\n      <td>5</td>\n      <td>995</td>\n      <td>940</td>\n      <td>2</td>\n    </tr>\n    <tr>\n      <th>29134</th>\n      <td>7718</td>\n      <td>5</td>\n      <td>1020</td>\n      <td>940</td>\n      <td>2</td>\n    </tr>\n  </tbody>\n</table>\n<p>29135 rows × 5 columns</p>\n</div>"
     },
     "execution_count": 80,
     "metadata": {},
     "output_type": "execute_result"
    }
   ],
   "source": [
    "df.drop(columns= ['Price'],inplace=True)\n",
    "df"
   ],
   "metadata": {
    "collapsed": false,
    "ExecuteTime": {
     "end_time": "2024-05-03T18:14:50.383067Z",
     "start_time": "2024-05-03T18:14:50.363221Z"
    }
   },
   "id": "9b4467f4d4e09d02"
  },
  {
   "cell_type": "code",
   "execution_count": 81,
   "outputs": [],
   "source": [
    "X = df.values"
   ],
   "metadata": {
    "collapsed": false,
    "ExecuteTime": {
     "end_time": "2024-05-03T18:14:50.848132Z",
     "start_time": "2024-05-03T18:14:50.842699Z"
    }
   },
   "id": "4f0d786056192d41"
  },
  {
   "cell_type": "code",
   "execution_count": 82,
   "outputs": [
    {
     "data": {
      "text/plain": "array([[   0,    0, 3340,  595,    4],\n       [   1,    0, 1045,  374,    2],\n       [   2,    0, 1179,  698,    2],\n       ...,\n       [7716,    5,  700, 1491,    1],\n       [7717,    5,  995,  940,    2],\n       [7718,    5, 1020,  940,    2]])"
     },
     "execution_count": 82,
     "metadata": {},
     "output_type": "execute_result"
    }
   ],
   "source": [
    "X"
   ],
   "metadata": {
    "collapsed": false,
    "ExecuteTime": {
     "end_time": "2024-05-03T18:14:51.394148Z",
     "start_time": "2024-05-03T18:14:51.385074Z"
    }
   },
   "id": "ca86bd536b44c58f"
  },
  {
   "cell_type": "code",
   "execution_count": 83,
   "outputs": [
    {
     "data": {
      "text/plain": "array([30000000,  7888000,  4866000, ...,  4100000,  2750000,  2750000])"
     },
     "execution_count": 83,
     "metadata": {},
     "output_type": "execute_result"
    }
   ],
   "source": [
    "y"
   ],
   "metadata": {
    "collapsed": false,
    "ExecuteTime": {
     "end_time": "2024-05-03T18:14:52.926478Z",
     "start_time": "2024-05-03T18:14:52.919287Z"
    }
   },
   "id": "cf8371f40ebf84f7"
  },
  {
   "cell_type": "code",
   "execution_count": 84,
   "outputs": [],
   "source": [
    "from sklearn.model_selection import train_test_split\n",
    "X_train,X_test,Y_train,Y_test = train_test_split(X,y,test_size=0.2)"
   ],
   "metadata": {
    "collapsed": false,
    "ExecuteTime": {
     "end_time": "2024-05-03T18:14:53.519286Z",
     "start_time": "2024-05-03T18:14:53.517296Z"
    }
   },
   "id": "a03ce3cba33b80e1"
  },
  {
   "cell_type": "code",
   "execution_count": 85,
   "outputs": [
    {
     "data": {
      "text/plain": "array([[2202,    4,  650, 1057,    2],\n       [2388,    5,  840,  553,    2],\n       [1878,    4, 1377,  869,    3],\n       ...,\n       [3610,    1,  637, 1110,    2],\n       [ 967,    4, 1920,  412,    3],\n       [1115,    1, 1229,  124,    3]])"
     },
     "execution_count": 85,
     "metadata": {},
     "output_type": "execute_result"
    }
   ],
   "source": [
    "X_train"
   ],
   "metadata": {
    "collapsed": false,
    "ExecuteTime": {
     "end_time": "2024-05-03T18:14:54.261074Z",
     "start_time": "2024-05-03T18:14:54.252918Z"
    }
   },
   "id": "d0b2a33003ea0842"
  },
  {
   "cell_type": "code",
   "execution_count": 86,
   "outputs": [
    {
     "data": {
      "text/plain": "array([4000000, 5898000, 2200000, ..., 4770000, 7800000, 4914000])"
     },
     "execution_count": 86,
     "metadata": {},
     "output_type": "execute_result"
    }
   ],
   "source": [
    "Y_train"
   ],
   "metadata": {
    "collapsed": false,
    "ExecuteTime": {
     "end_time": "2024-05-03T18:14:55.251477Z",
     "start_time": "2024-05-03T18:14:55.244500Z"
    }
   },
   "id": "a947d34445669663"
  },
  {
   "cell_type": "code",
   "execution_count": 87,
   "outputs": [
    {
     "data": {
      "text/plain": "DecisionTreeRegressor()",
      "text/html": "<style>#sk-container-id-4 {color: black;}#sk-container-id-4 pre{padding: 0;}#sk-container-id-4 div.sk-toggleable {background-color: white;}#sk-container-id-4 label.sk-toggleable__label {cursor: pointer;display: block;width: 100%;margin-bottom: 0;padding: 0.3em;box-sizing: border-box;text-align: center;}#sk-container-id-4 label.sk-toggleable__label-arrow:before {content: \"▸\";float: left;margin-right: 0.25em;color: #696969;}#sk-container-id-4 label.sk-toggleable__label-arrow:hover:before {color: black;}#sk-container-id-4 div.sk-estimator:hover label.sk-toggleable__label-arrow:before {color: black;}#sk-container-id-4 div.sk-toggleable__content {max-height: 0;max-width: 0;overflow: hidden;text-align: left;background-color: #f0f8ff;}#sk-container-id-4 div.sk-toggleable__content pre {margin: 0.2em;color: black;border-radius: 0.25em;background-color: #f0f8ff;}#sk-container-id-4 input.sk-toggleable__control:checked~div.sk-toggleable__content {max-height: 200px;max-width: 100%;overflow: auto;}#sk-container-id-4 input.sk-toggleable__control:checked~label.sk-toggleable__label-arrow:before {content: \"▾\";}#sk-container-id-4 div.sk-estimator input.sk-toggleable__control:checked~label.sk-toggleable__label {background-color: #d4ebff;}#sk-container-id-4 div.sk-label input.sk-toggleable__control:checked~label.sk-toggleable__label {background-color: #d4ebff;}#sk-container-id-4 input.sk-hidden--visually {border: 0;clip: rect(1px 1px 1px 1px);clip: rect(1px, 1px, 1px, 1px);height: 1px;margin: -1px;overflow: hidden;padding: 0;position: absolute;width: 1px;}#sk-container-id-4 div.sk-estimator {font-family: monospace;background-color: #f0f8ff;border: 1px dotted black;border-radius: 0.25em;box-sizing: border-box;margin-bottom: 0.5em;}#sk-container-id-4 div.sk-estimator:hover {background-color: #d4ebff;}#sk-container-id-4 div.sk-parallel-item::after {content: \"\";width: 100%;border-bottom: 1px solid gray;flex-grow: 1;}#sk-container-id-4 div.sk-label:hover label.sk-toggleable__label {background-color: #d4ebff;}#sk-container-id-4 div.sk-serial::before {content: \"\";position: absolute;border-left: 1px solid gray;box-sizing: border-box;top: 0;bottom: 0;left: 50%;z-index: 0;}#sk-container-id-4 div.sk-serial {display: flex;flex-direction: column;align-items: center;background-color: white;padding-right: 0.2em;padding-left: 0.2em;position: relative;}#sk-container-id-4 div.sk-item {position: relative;z-index: 1;}#sk-container-id-4 div.sk-parallel {display: flex;align-items: stretch;justify-content: center;background-color: white;position: relative;}#sk-container-id-4 div.sk-item::before, #sk-container-id-4 div.sk-parallel-item::before {content: \"\";position: absolute;border-left: 1px solid gray;box-sizing: border-box;top: 0;bottom: 0;left: 50%;z-index: -1;}#sk-container-id-4 div.sk-parallel-item {display: flex;flex-direction: column;z-index: 1;position: relative;background-color: white;}#sk-container-id-4 div.sk-parallel-item:first-child::after {align-self: flex-end;width: 50%;}#sk-container-id-4 div.sk-parallel-item:last-child::after {align-self: flex-start;width: 50%;}#sk-container-id-4 div.sk-parallel-item:only-child::after {width: 0;}#sk-container-id-4 div.sk-dashed-wrapped {border: 1px dashed gray;margin: 0 0.4em 0.5em 0.4em;box-sizing: border-box;padding-bottom: 0.4em;background-color: white;}#sk-container-id-4 div.sk-label label {font-family: monospace;font-weight: bold;display: inline-block;line-height: 1.2em;}#sk-container-id-4 div.sk-label-container {text-align: center;}#sk-container-id-4 div.sk-container {/* jupyter's `normalize.less` sets `[hidden] { display: none; }` but bootstrap.min.css set `[hidden] { display: none !important; }` so we also need the `!important` here to be able to override the default hidden behavior on the sphinx rendered scikit-learn.org. See: https://github.com/scikit-learn/scikit-learn/issues/21755 */display: inline-block !important;position: relative;}#sk-container-id-4 div.sk-text-repr-fallback {display: none;}</style><div id=\"sk-container-id-4\" class=\"sk-top-container\"><div class=\"sk-text-repr-fallback\"><pre>DecisionTreeRegressor()</pre><b>In a Jupyter environment, please rerun this cell to show the HTML representation or trust the notebook. <br />On GitHub, the HTML representation is unable to render, please try loading this page with nbviewer.org.</b></div><div class=\"sk-container\" hidden><div class=\"sk-item\"><div class=\"sk-estimator sk-toggleable\"><input class=\"sk-toggleable__control sk-hidden--visually\" id=\"sk-estimator-id-4\" type=\"checkbox\" checked><label for=\"sk-estimator-id-4\" class=\"sk-toggleable__label sk-toggleable__label-arrow\">DecisionTreeRegressor</label><div class=\"sk-toggleable__content\"><pre>DecisionTreeRegressor()</pre></div></div></div></div></div>"
     },
     "execution_count": 87,
     "metadata": {},
     "output_type": "execute_result"
    }
   ],
   "source": [
    "dt.fit(X_train,Y_train)"
   ],
   "metadata": {
    "collapsed": false,
    "ExecuteTime": {
     "end_time": "2024-05-03T18:14:56.396168Z",
     "start_time": "2024-05-03T18:14:56.292540Z"
    }
   },
   "id": "851645a9d166d0ff"
  },
  {
   "cell_type": "code",
   "execution_count": 88,
   "outputs": [
    {
     "data": {
      "text/plain": "array([ 2900000.,  6578000., 13500000., ..., 19000000.,  5300000.,\n       14000000.])"
     },
     "execution_count": 88,
     "metadata": {},
     "output_type": "execute_result"
    }
   ],
   "source": [
    "Y_pred = dt.predict(X_test)\n",
    "Y_pred\n"
   ],
   "metadata": {
    "collapsed": false,
    "ExecuteTime": {
     "end_time": "2024-05-03T18:14:57.563871Z",
     "start_time": "2024-05-03T18:14:57.557709Z"
    }
   },
   "id": "b7e26d9a66a089b7"
  },
  {
   "cell_type": "code",
   "execution_count": 89,
   "outputs": [
    {
     "data": {
      "text/plain": "975496001504477.8"
     },
     "execution_count": 89,
     "metadata": {},
     "output_type": "execute_result"
    }
   ],
   "source": [
    "from sklearn.metrics import mean_squared_error\n",
    "mse = mean_squared_error(Y_test,Y_pred)\n",
    "mse"
   ],
   "metadata": {
    "collapsed": false,
    "ExecuteTime": {
     "end_time": "2024-05-03T18:15:00.103274Z",
     "start_time": "2024-05-03T18:15:00.100472Z"
    }
   },
   "id": "efeb16df62870d38"
  },
  {
   "cell_type": "code",
   "execution_count": null,
   "outputs": [],
   "source": [],
   "metadata": {
    "collapsed": false
   },
   "id": "2b7f2df814f6b199"
  }
 ],
 "metadata": {
  "kernelspec": {
   "display_name": "Python 3",
   "language": "python",
   "name": "python3"
  },
  "language_info": {
   "codemirror_mode": {
    "name": "ipython",
    "version": 2
   },
   "file_extension": ".py",
   "mimetype": "text/x-python",
   "name": "python",
   "nbconvert_exporter": "python",
   "pygments_lexer": "ipython2",
   "version": "2.7.6"
  }
 },
 "nbformat": 4,
 "nbformat_minor": 5
}
