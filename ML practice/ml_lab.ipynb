{
 "cells": [
  {
   "cell_type": "code",
   "execution_count": 83,
   "id": "initial_id",
   "metadata": {
    "collapsed": true,
    "ExecuteTime": {
     "end_time": "2023-11-01T04:16:15.982557Z",
     "start_time": "2023-11-01T04:16:15.945196Z"
    }
   },
   "outputs": [],
   "source": [
    "import numpy as np\n",
    "import matplotlib.pyplot as plt"
   ]
  },
  {
   "cell_type": "code",
   "execution_count": 84,
   "outputs": [
    {
     "name": "stdout",
     "output_type": "stream",
     "text": [
      "(4, 2) (4,)\n"
     ]
    }
   ],
   "source": [
    "X = np.array([[0,0],[0,1],[1,0],[1,1]])\n",
    "y = np.array([0,0,0,1])\n",
    "print(X.shape, y.shape)"
   ],
   "metadata": {
    "collapsed": false,
    "ExecuteTime": {
     "end_time": "2023-11-01T04:16:15.982877Z",
     "start_time": "2023-11-01T04:16:15.949489Z"
    }
   },
   "id": "9c6159daa84c3908"
  },
  {
   "cell_type": "code",
   "execution_count": 85,
   "outputs": [],
   "source": [
    "class Perceptron:\n",
    "    def __init__(self,learning_rate = 0.02,epochs = 5):\n",
    "        self.learning_rate = learning_rate\n",
    "        self.epochs = epochs\n",
    "    \n",
    "    def predict(self,X):\n",
    "        linear_model = np.dot(X,self.weights)+self.bias\n",
    "        return linear_model\n",
    "    \n",
    "    def fit(self,X,y):\n",
    "        num_samples,num_features = X.shape\n",
    "        self.weights = np.random.randn(num_features)\n",
    "        self.bias = 0\n",
    "        for i in range(self.epochs):\n",
    "            y_pred = self.predict(X)\n",
    "            loss = y_pred - y\n",
    "            self.weights -= self.learning_rate*np.dot(X.T,loss)\n",
    "            self.bias -= self.learning_rate*np.sum(loss)\n",
    "        \n",
    "    def test(self,X):\n",
    "        global Y_predtest\n",
    "        Y_predtest = self.predict(X)\n",
    "        for i in range(len(Y_predtest)):\n",
    "            if  Y_predtest[i] > 0.5:\n",
    "                Y_predtest[i] = 1\n",
    "            else:\n",
    "                Y_predtest[i] = 0\n",
    "        return Y_predtest\n",
    "        \n",
    "    "
   ],
   "metadata": {
    "collapsed": false,
    "ExecuteTime": {
     "end_time": "2023-11-01T04:16:15.983273Z",
     "start_time": "2023-11-01T04:16:15.954527Z"
    }
   },
   "id": "c9abfc0ff8d4e9d8"
  },
  {
   "cell_type": "code",
   "execution_count": 86,
   "outputs": [],
   "source": [
    "model = Perceptron()\n",
    "model.fit(X,y)"
   ],
   "metadata": {
    "collapsed": false,
    "ExecuteTime": {
     "end_time": "2023-11-01T04:16:15.989576Z",
     "start_time": "2023-11-01T04:16:15.958557Z"
    }
   },
   "id": "8c7c134c1710e9fa"
  },
  {
   "cell_type": "code",
   "execution_count": 87,
   "outputs": [],
   "source": [
    "y_pred = model.test(X)"
   ],
   "metadata": {
    "collapsed": false,
    "ExecuteTime": {
     "end_time": "2023-11-01T04:16:15.989715Z",
     "start_time": "2023-11-01T04:16:15.962702Z"
    }
   },
   "id": "17a00cdc713738e8"
  },
  {
   "cell_type": "code",
   "execution_count": 88,
   "outputs": [
    {
     "data": {
      "text/plain": "array([0., 0., 1., 1.])"
     },
     "execution_count": 88,
     "metadata": {},
     "output_type": "execute_result"
    }
   ],
   "source": [
    "y_pred"
   ],
   "metadata": {
    "collapsed": false,
    "ExecuteTime": {
     "end_time": "2023-11-01T04:16:15.989879Z",
     "start_time": "2023-11-01T04:16:15.965728Z"
    }
   },
   "id": "cdb8a39eea36a19"
  },
  {
   "cell_type": "code",
   "execution_count": 89,
   "outputs": [
    {
     "data": {
      "text/plain": "array([ 0.78308889, -0.23943031])"
     },
     "execution_count": 89,
     "metadata": {},
     "output_type": "execute_result"
    }
   ],
   "source": [
    "model.weights"
   ],
   "metadata": {
    "collapsed": false,
    "ExecuteTime": {
     "end_time": "2023-11-01T04:16:15.989973Z",
     "start_time": "2023-11-01T04:16:15.968408Z"
    }
   },
   "id": "50648d6e2f1fdfbd"
  },
  {
   "cell_type": "code",
   "execution_count": 90,
   "outputs": [
    {
     "data": {
      "text/plain": "-0.003280741592826333"
     },
     "execution_count": 90,
     "metadata": {},
     "output_type": "execute_result"
    }
   ],
   "source": [
    "model.bias"
   ],
   "metadata": {
    "collapsed": false,
    "ExecuteTime": {
     "end_time": "2023-11-01T04:16:15.990054Z",
     "start_time": "2023-11-01T04:16:15.970948Z"
    }
   },
   "id": "69ab6bd26d136961"
  },
  {
   "cell_type": "code",
   "execution_count": 91,
   "outputs": [
    {
     "data": {
      "text/plain": "[]"
     },
     "execution_count": 91,
     "metadata": {},
     "output_type": "execute_result"
    },
    {
     "data": {
      "text/plain": "<Figure size 640x480 with 1 Axes>",
      "image/png": "[encoded data removed]"
     },
     "metadata": {},
     "output_type": "display_data"
    }
   ],
   "source": [
    "X = [i for i in range(4)]\n",
    "plt.scatter(x = X,y = y_pred)\n",
    "plt.plot()"
   ],
   "metadata": {
    "collapsed": false,
    "ExecuteTime": {
     "end_time": "2023-11-01T04:16:16.047595Z",
     "start_time": "2023-11-01T04:16:15.973434Z"
    }
   },
   "id": "2c332e0da62ed3da"
  },
  {
   "cell_type": "code",
   "execution_count": 91,
   "outputs": [],
   "source": [],
   "metadata": {
    "collapsed": false,
    "ExecuteTime": {
     "end_time": "2023-11-01T04:16:16.048016Z",
     "start_time": "2023-11-01T04:16:16.033198Z"
    }
   },
   "id": "f0ad2b00dce46e77"
  }
 ],
 "metadata": {
  "kernelspec": {
   "display_name": "Python 3",
   "language": "python",
   "name": "python3"
  },
  "language_info": {
   "codemirror_mode": {
    "name": "ipython",
    "version": 2
   },
   "file_extension": ".py",
   "mimetype": "text/x-python",
   "name": "python",
   "nbconvert_exporter": "python",
   "pygments_lexer": "ipython2",
   "version": "2.7.6"
  }
 },
 "nbformat": 4,
 "nbformat_minor": 5
}
