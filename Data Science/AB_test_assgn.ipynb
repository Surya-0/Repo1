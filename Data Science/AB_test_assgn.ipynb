{
 "cells": [
  {
   "cell_type": "code",
   "execution_count": 1,
   "id": "initial_id",
   "metadata": {
    "collapsed": true,
    "ExecuteTime": {
     "end_time": "2023-11-02T13:51:13.998265Z",
     "start_time": "2023-11-02T13:51:13.996758Z"
    }
   },
   "outputs": [],
   "source": [
    "import numpy as np\n",
    "import pandas as pd\n",
    "import matplotlib.pyplot as plt"
   ]
  },
  {
   "cell_type": "code",
   "execution_count": 2,
   "outputs": [
    {
     "data": {
      "text/plain": "        Team  Blakeman  Prioleau\n0   Patriots     11.50     11.80\n1   Patriots     10.85     11.20\n2   Patriots     11.15     11.50\n3   Patriots     10.70     11.00\n4   Patriots     11.10     11.45\n5   Patriots     11.60     11.95\n6   Patriots     11.85     12.30\n7   Patriots     11.10     11.55\n8   Patriots     10.95     11.35\n9   Patriots     10.50     10.90\n10  Patriots     10.90     11.35\n11     Colts     12.70     12.35\n12     Colts     12.75     12.30\n13     Colts     12.50     12.95\n14     Colts     12.55     12.15",
      "text/html": "<div>\n<style scoped>\n    .dataframe tbody tr th:only-of-type {\n        vertical-align: middle;\n    }\n\n    .dataframe tbody tr th {\n        vertical-align: top;\n    }\n\n    .dataframe thead th {\n        text-align: right;\n    }\n</style>\n<table border=\"1\" class=\"dataframe\">\n  <thead>\n    <tr style=\"text-align: right;\">\n      <th></th>\n      <th>Team</th>\n      <th>Blakeman</th>\n      <th>Prioleau</th>\n    </tr>\n  </thead>\n  <tbody>\n    <tr>\n      <th>0</th>\n      <td>Patriots</td>\n      <td>11.50</td>\n      <td>11.80</td>\n    </tr>\n    <tr>\n      <th>1</th>\n      <td>Patriots</td>\n      <td>10.85</td>\n      <td>11.20</td>\n    </tr>\n    <tr>\n      <th>2</th>\n      <td>Patriots</td>\n      <td>11.15</td>\n      <td>11.50</td>\n    </tr>\n    <tr>\n      <th>3</th>\n      <td>Patriots</td>\n      <td>10.70</td>\n      <td>11.00</td>\n    </tr>\n    <tr>\n      <th>4</th>\n      <td>Patriots</td>\n      <td>11.10</td>\n      <td>11.45</td>\n    </tr>\n    <tr>\n      <th>5</th>\n      <td>Patriots</td>\n      <td>11.60</td>\n      <td>11.95</td>\n    </tr>\n    <tr>\n      <th>6</th>\n      <td>Patriots</td>\n      <td>11.85</td>\n      <td>12.30</td>\n    </tr>\n    <tr>\n      <th>7</th>\n      <td>Patriots</td>\n      <td>11.10</td>\n      <td>11.55</td>\n    </tr>\n    <tr>\n      <th>8</th>\n      <td>Patriots</td>\n      <td>10.95</td>\n      <td>11.35</td>\n    </tr>\n    <tr>\n      <th>9</th>\n      <td>Patriots</td>\n      <td>10.50</td>\n      <td>10.90</td>\n    </tr>\n    <tr>\n      <th>10</th>\n      <td>Patriots</td>\n      <td>10.90</td>\n      <td>11.35</td>\n    </tr>\n    <tr>\n      <th>11</th>\n      <td>Colts</td>\n      <td>12.70</td>\n      <td>12.35</td>\n    </tr>\n    <tr>\n      <th>12</th>\n      <td>Colts</td>\n      <td>12.75</td>\n      <td>12.30</td>\n    </tr>\n    <tr>\n      <th>13</th>\n      <td>Colts</td>\n      <td>12.50</td>\n      <td>12.95</td>\n    </tr>\n    <tr>\n      <th>14</th>\n      <td>Colts</td>\n      <td>12.55</td>\n      <td>12.15</td>\n    </tr>\n  </tbody>\n</table>\n</div>"
     },
     "execution_count": 2,
     "metadata": {},
     "output_type": "execute_result"
    }
   ],
   "source": [
    "df = pd.read_csv('deflategate.csv')\n",
    "df"
   ],
   "metadata": {
    "collapsed": false,
    "ExecuteTime": {
     "end_time": "2023-11-02T14:05:38.489867Z",
     "start_time": "2023-11-02T14:05:38.457250Z"
    }
   },
   "id": "9ac544ffabcb5c6e"
  },
  {
   "cell_type": "code",
   "execution_count": 5,
   "outputs": [
    {
     "data": {
      "text/plain": "        Team  pressure\n0   Patriots    11.650\n1   Patriots    11.025\n2   Patriots    11.325\n3   Patriots    10.850\n4   Patriots    11.275\n5   Patriots    11.775\n6   Patriots    12.075\n7   Patriots    11.325\n8   Patriots    11.150\n9   Patriots    10.700\n10  Patriots    11.125\n11     Colts    12.525\n12     Colts    12.525\n13     Colts    12.725\n14     Colts    12.350",
      "text/html": "<div>\n<style scoped>\n    .dataframe tbody tr th:only-of-type {\n        vertical-align: middle;\n    }\n\n    .dataframe tbody tr th {\n        vertical-align: top;\n    }\n\n    .dataframe thead th {\n        text-align: right;\n    }\n</style>\n<table border=\"1\" class=\"dataframe\">\n  <thead>\n    <tr style=\"text-align: right;\">\n      <th></th>\n      <th>Team</th>\n      <th>pressure</th>\n    </tr>\n  </thead>\n  <tbody>\n    <tr>\n      <th>0</th>\n      <td>Patriots</td>\n      <td>11.650</td>\n    </tr>\n    <tr>\n      <th>1</th>\n      <td>Patriots</td>\n      <td>11.025</td>\n    </tr>\n    <tr>\n      <th>2</th>\n      <td>Patriots</td>\n      <td>11.325</td>\n    </tr>\n    <tr>\n      <th>3</th>\n      <td>Patriots</td>\n      <td>10.850</td>\n    </tr>\n    <tr>\n      <th>4</th>\n      <td>Patriots</td>\n      <td>11.275</td>\n    </tr>\n    <tr>\n      <th>5</th>\n      <td>Patriots</td>\n      <td>11.775</td>\n    </tr>\n    <tr>\n      <th>6</th>\n      <td>Patriots</td>\n      <td>12.075</td>\n    </tr>\n    <tr>\n      <th>7</th>\n      <td>Patriots</td>\n      <td>11.325</td>\n    </tr>\n    <tr>\n      <th>8</th>\n      <td>Patriots</td>\n      <td>11.150</td>\n    </tr>\n    <tr>\n      <th>9</th>\n      <td>Patriots</td>\n      <td>10.700</td>\n    </tr>\n    <tr>\n      <th>10</th>\n      <td>Patriots</td>\n      <td>11.125</td>\n    </tr>\n    <tr>\n      <th>11</th>\n      <td>Colts</td>\n      <td>12.525</td>\n    </tr>\n    <tr>\n      <th>12</th>\n      <td>Colts</td>\n      <td>12.525</td>\n    </tr>\n    <tr>\n      <th>13</th>\n      <td>Colts</td>\n      <td>12.725</td>\n    </tr>\n    <tr>\n      <th>14</th>\n      <td>Colts</td>\n      <td>12.350</td>\n    </tr>\n  </tbody>\n</table>\n</div>"
     },
     "execution_count": 5,
     "metadata": {},
     "output_type": "execute_result"
    }
   ],
   "source": [
    "df['pressure'] = (df['Blakeman']+df['Prioleau'])/2\n",
    "df.drop(columns=['Blakeman','Prioleau'],inplace=True)\n",
    "df"
   ],
   "metadata": {
    "collapsed": false,
    "ExecuteTime": {
     "end_time": "2023-11-02T15:23:51.468354Z",
     "start_time": "2023-11-02T15:23:51.459322Z"
    }
   },
   "id": "526aad79070434f8"
  },
  {
   "cell_type": "code",
   "execution_count": 9,
   "outputs": [
    {
     "data": {
      "text/plain": "        Team  pressure\n0   Patriots    11.650\n1   Patriots    11.025\n2   Patriots    11.325\n3   Patriots    10.850\n4   Patriots    11.275\n5   Patriots    11.775\n6   Patriots    12.075\n7   Patriots    11.325\n8   Patriots    11.150\n9   Patriots    10.700\n10  Patriots    11.125",
      "text/html": "<div>\n<style scoped>\n    .dataframe tbody tr th:only-of-type {\n        vertical-align: middle;\n    }\n\n    .dataframe tbody tr th {\n        vertical-align: top;\n    }\n\n    .dataframe thead th {\n        text-align: right;\n    }\n</style>\n<table border=\"1\" class=\"dataframe\">\n  <thead>\n    <tr style=\"text-align: right;\">\n      <th></th>\n      <th>Team</th>\n      <th>pressure</th>\n    </tr>\n  </thead>\n  <tbody>\n    <tr>\n      <th>0</th>\n      <td>Patriots</td>\n      <td>11.650</td>\n    </tr>\n    <tr>\n      <th>1</th>\n      <td>Patriots</td>\n      <td>11.025</td>\n    </tr>\n    <tr>\n      <th>2</th>\n      <td>Patriots</td>\n      <td>11.325</td>\n    </tr>\n    <tr>\n      <th>3</th>\n      <td>Patriots</td>\n      <td>10.850</td>\n    </tr>\n    <tr>\n      <th>4</th>\n      <td>Patriots</td>\n      <td>11.275</td>\n    </tr>\n    <tr>\n      <th>5</th>\n      <td>Patriots</td>\n      <td>11.775</td>\n    </tr>\n    <tr>\n      <th>6</th>\n      <td>Patriots</td>\n      <td>12.075</td>\n    </tr>\n    <tr>\n      <th>7</th>\n      <td>Patriots</td>\n      <td>11.325</td>\n    </tr>\n    <tr>\n      <th>8</th>\n      <td>Patriots</td>\n      <td>11.150</td>\n    </tr>\n    <tr>\n      <th>9</th>\n      <td>Patriots</td>\n      <td>10.700</td>\n    </tr>\n    <tr>\n      <th>10</th>\n      <td>Patriots</td>\n      <td>11.125</td>\n    </tr>\n  </tbody>\n</table>\n</div>"
     },
     "execution_count": 9,
     "metadata": {},
     "output_type": "execute_result"
    }
   ],
   "source": [
    "patriots_df = df[df['Team'] == 'Patriots']\n",
    "patriots_df "
   ],
   "metadata": {
    "collapsed": false,
    "ExecuteTime": {
     "end_time": "2023-11-02T15:26:33.173072Z",
     "start_time": "2023-11-02T15:26:33.162938Z"
    }
   },
   "id": "c28d65b1c9d4f0e8"
  },
  {
   "cell_type": "code",
   "execution_count": 10,
   "outputs": [
    {
     "data": {
      "text/plain": "     Team  pressure\n11  Colts    12.525\n12  Colts    12.525\n13  Colts    12.725\n14  Colts    12.350",
      "text/html": "<div>\n<style scoped>\n    .dataframe tbody tr th:only-of-type {\n        vertical-align: middle;\n    }\n\n    .dataframe tbody tr th {\n        vertical-align: top;\n    }\n\n    .dataframe thead th {\n        text-align: right;\n    }\n</style>\n<table border=\"1\" class=\"dataframe\">\n  <thead>\n    <tr style=\"text-align: right;\">\n      <th></th>\n      <th>Team</th>\n      <th>pressure</th>\n    </tr>\n  </thead>\n  <tbody>\n    <tr>\n      <th>11</th>\n      <td>Colts</td>\n      <td>12.525</td>\n    </tr>\n    <tr>\n      <th>12</th>\n      <td>Colts</td>\n      <td>12.525</td>\n    </tr>\n    <tr>\n      <th>13</th>\n      <td>Colts</td>\n      <td>12.725</td>\n    </tr>\n    <tr>\n      <th>14</th>\n      <td>Colts</td>\n      <td>12.350</td>\n    </tr>\n  </tbody>\n</table>\n</div>"
     },
     "execution_count": 10,
     "metadata": {},
     "output_type": "execute_result"
    }
   ],
   "source": [
    "colts_df = df[df['Team'] == 'Colts']\n",
    "colts_df"
   ],
   "metadata": {
    "collapsed": false,
    "ExecuteTime": {
     "end_time": "2023-11-02T15:26:49.932852Z",
     "start_time": "2023-11-02T15:26:49.924155Z"
    }
   },
   "id": "48b59b918a3cc1e5"
  },
  {
   "cell_type": "code",
   "execution_count": 13,
   "outputs": [
    {
     "name": "stderr",
     "output_type": "stream",
     "text": [
      "/var/folders/21/yhy2dhmx219b7cbcq243hmwc0000gn/T/ipykernel_31701/1405249625.py:1: SettingWithCopyWarning: \n",
      "A value is trying to be set on a copy of a slice from a DataFrame.\n",
      "Try using .loc[row_indexer,col_indexer] = value instead\n",
      "\n",
      "See the caveats in the documentation: https://pandas.pydata.org/pandas-docs/stable/user_guide/indexing.html#returning-a-view-versus-a-copy\n",
      "  patriots_df['diff'] = 12.5-patriots_df['pressure']\n"
     ]
    },
    {
     "data": {
      "text/plain": "        Team   diff\n0   Patriots  0.850\n1   Patriots  1.475\n2   Patriots  1.175\n3   Patriots  1.650\n4   Patriots  1.225\n5   Patriots  0.725\n6   Patriots  0.425\n7   Patriots  1.175\n8   Patriots  1.350\n9   Patriots  1.800\n10  Patriots  1.375",
      "text/html": "<div>\n<style scoped>\n    .dataframe tbody tr th:only-of-type {\n        vertical-align: middle;\n    }\n\n    .dataframe tbody tr th {\n        vertical-align: top;\n    }\n\n    .dataframe thead th {\n        text-align: right;\n    }\n</style>\n<table border=\"1\" class=\"dataframe\">\n  <thead>\n    <tr style=\"text-align: right;\">\n      <th></th>\n      <th>Team</th>\n      <th>diff</th>\n    </tr>\n  </thead>\n  <tbody>\n    <tr>\n      <th>0</th>\n      <td>Patriots</td>\n      <td>0.850</td>\n    </tr>\n    <tr>\n      <th>1</th>\n      <td>Patriots</td>\n      <td>1.475</td>\n    </tr>\n    <tr>\n      <th>2</th>\n      <td>Patriots</td>\n      <td>1.175</td>\n    </tr>\n    <tr>\n      <th>3</th>\n      <td>Patriots</td>\n      <td>1.650</td>\n    </tr>\n    <tr>\n      <th>4</th>\n      <td>Patriots</td>\n      <td>1.225</td>\n    </tr>\n    <tr>\n      <th>5</th>\n      <td>Patriots</td>\n      <td>0.725</td>\n    </tr>\n    <tr>\n      <th>6</th>\n      <td>Patriots</td>\n      <td>0.425</td>\n    </tr>\n    <tr>\n      <th>7</th>\n      <td>Patriots</td>\n      <td>1.175</td>\n    </tr>\n    <tr>\n      <th>8</th>\n      <td>Patriots</td>\n      <td>1.350</td>\n    </tr>\n    <tr>\n      <th>9</th>\n      <td>Patriots</td>\n      <td>1.800</td>\n    </tr>\n    <tr>\n      <th>10</th>\n      <td>Patriots</td>\n      <td>1.375</td>\n    </tr>\n  </tbody>\n</table>\n</div>"
     },
     "execution_count": 13,
     "metadata": {},
     "output_type": "execute_result"
    }
   ],
   "source": [
    "patriots_df['diff'] = 12.5-patriots_df['pressure']\n",
    "patriots_df.drop(columns=['pressure'])"
   ],
   "metadata": {
    "collapsed": false,
    "ExecuteTime": {
     "end_time": "2023-11-02T15:28:44.806229Z",
     "start_time": "2023-11-02T15:28:44.802125Z"
    }
   },
   "id": "67c2ccc5e16676bc"
  },
  {
   "cell_type": "code",
   "execution_count": 15,
   "outputs": [
    {
     "name": "stderr",
     "output_type": "stream",
     "text": [
      "/var/folders/21/yhy2dhmx219b7cbcq243hmwc0000gn/T/ipykernel_31701/4026769585.py:1: SettingWithCopyWarning: \n",
      "A value is trying to be set on a copy of a slice from a DataFrame.\n",
      "Try using .loc[row_indexer,col_indexer] = value instead\n",
      "\n",
      "See the caveats in the documentation: https://pandas.pydata.org/pandas-docs/stable/user_guide/indexing.html#returning-a-view-versus-a-copy\n",
      "  colts_df['diff'] = 13-colts_df['pressure']\n"
     ]
    },
    {
     "data": {
      "text/plain": "     Team   diff\n11  Colts  0.475\n12  Colts  0.475\n13  Colts  0.275\n14  Colts  0.650",
      "text/html": "<div>\n<style scoped>\n    .dataframe tbody tr th:only-of-type {\n        vertical-align: middle;\n    }\n\n    .dataframe tbody tr th {\n        vertical-align: top;\n    }\n\n    .dataframe thead th {\n        text-align: right;\n    }\n</style>\n<table border=\"1\" class=\"dataframe\">\n  <thead>\n    <tr style=\"text-align: right;\">\n      <th></th>\n      <th>Team</th>\n      <th>diff</th>\n    </tr>\n  </thead>\n  <tbody>\n    <tr>\n      <th>11</th>\n      <td>Colts</td>\n      <td>0.475</td>\n    </tr>\n    <tr>\n      <th>12</th>\n      <td>Colts</td>\n      <td>0.475</td>\n    </tr>\n    <tr>\n      <th>13</th>\n      <td>Colts</td>\n      <td>0.275</td>\n    </tr>\n    <tr>\n      <th>14</th>\n      <td>Colts</td>\n      <td>0.650</td>\n    </tr>\n  </tbody>\n</table>\n</div>"
     },
     "execution_count": 15,
     "metadata": {},
     "output_type": "execute_result"
    }
   ],
   "source": [
    "colts_df['diff'] = 13-colts_df['pressure']\n",
    "colts_df.drop(columns=['pressure'])"
   ],
   "metadata": {
    "collapsed": false,
    "ExecuteTime": {
     "end_time": "2023-11-02T15:30:13.038271Z",
     "start_time": "2023-11-02T15:30:13.033949Z"
    }
   },
   "id": "f550abe654cddab3"
  },
  {
   "cell_type": "code",
   "execution_count": 17,
   "outputs": [
    {
     "name": "stdout",
     "output_type": "stream",
     "text": [
      "1.202272727272728\n",
      "0.46875\n"
     ]
    }
   ],
   "source": [
    "mean_patriots = patriots_df['diff'].mean()\n",
    "mean_colts = colts_df['diff'].mean()\n",
    "print(mean_patriots)\n",
    "print(mean_colts)"
   ],
   "metadata": {
    "collapsed": false,
    "ExecuteTime": {
     "end_time": "2023-11-02T15:31:48.519852Z",
     "start_time": "2023-11-02T15:31:48.516924Z"
    }
   },
   "id": "c4cd538aad005bbd"
  },
  {
   "cell_type": "markdown",
   "source": [
    "This observed difference has the difference between the mean of the drop of the ball patriots and the mean of the drop of the ball of the  colts.It is also considered to be the test statistic"
   ],
   "metadata": {
    "collapsed": false
   },
   "id": "8ac7527d766f50fb"
  },
  {
   "cell_type": "code",
   "execution_count": 19,
   "outputs": [
    {
     "data": {
      "text/plain": "0.733522727272728"
     },
     "execution_count": 19,
     "metadata": {},
     "output_type": "execute_result"
    }
   ],
   "source": [
    "observed_diff = mean_patriots - mean_colts # test statistic\n",
    "observed_diff"
   ],
   "metadata": {
    "collapsed": false,
    "ExecuteTime": {
     "end_time": "2023-11-02T15:33:07.987564Z",
     "start_time": "2023-11-02T15:33:07.985253Z"
    }
   },
   "id": "9f3351c198b74f87"
  },
  {
   "cell_type": "markdown",
   "source": [
    "Here we need to perform the random permutation test"
   ],
   "metadata": {
    "collapsed": false
   },
   "id": "d59053f02c48237"
  },
  {
   "cell_type": "code",
   "execution_count": null,
   "outputs": [],
   "source": [
    "diff_arr = []"
   ],
   "metadata": {
    "collapsed": false
   },
   "id": "d8f6816d5a6d0910"
  },
  {
   "cell_type": "code",
   "execution_count": 23,
   "outputs": [
    {
     "data": {
      "text/plain": "13    12.725\n8     11.150\n1     11.025\n4     11.275\n5     11.775\n6     12.075\n14    12.350\n0     11.650\n9     10.700\n10    11.125\n3     10.850\n2     11.325\n7     11.325\n11    12.525\n12    12.525\nName: pressure, dtype: float64"
     },
     "execution_count": 23,
     "metadata": {},
     "output_type": "execute_result"
    }
   ],
   "source": [
    "shuffled = df.sample(15)\n",
    "shuffled_pressure = shuffled['pressure']\n",
    "shuffled_pressure"
   ],
   "metadata": {
    "collapsed": false,
    "ExecuteTime": {
     "end_time": "2023-11-02T15:52:33.300750Z",
     "start_time": "2023-11-02T15:52:33.294170Z"
    }
   },
   "id": "2844b6a7d5ac42d6"
  },
  {
   "cell_type": "code",
   "execution_count": 27,
   "outputs": [
    {
     "data": {
      "text/plain": "        Team  pressure  shuff_pressure\n0   Patriots    11.650          12.725\n1   Patriots    11.025          11.150\n2   Patriots    11.325          11.025\n3   Patriots    10.850          11.275\n4   Patriots    11.275          11.775\n5   Patriots    11.775          12.075\n6   Patriots    12.075          12.350\n7   Patriots    11.325          11.650\n8   Patriots    11.150          10.700\n9   Patriots    10.700          11.125\n10  Patriots    11.125          10.850",
      "text/html": "<div>\n<style scoped>\n    .dataframe tbody tr th:only-of-type {\n        vertical-align: middle;\n    }\n\n    .dataframe tbody tr th {\n        vertical-align: top;\n    }\n\n    .dataframe thead th {\n        text-align: right;\n    }\n</style>\n<table border=\"1\" class=\"dataframe\">\n  <thead>\n    <tr style=\"text-align: right;\">\n      <th></th>\n      <th>Team</th>\n      <th>pressure</th>\n      <th>shuff_pressure</th>\n    </tr>\n  </thead>\n  <tbody>\n    <tr>\n      <th>0</th>\n      <td>Patriots</td>\n      <td>11.650</td>\n      <td>12.725</td>\n    </tr>\n    <tr>\n      <th>1</th>\n      <td>Patriots</td>\n      <td>11.025</td>\n      <td>11.150</td>\n    </tr>\n    <tr>\n      <th>2</th>\n      <td>Patriots</td>\n      <td>11.325</td>\n      <td>11.025</td>\n    </tr>\n    <tr>\n      <th>3</th>\n      <td>Patriots</td>\n      <td>10.850</td>\n      <td>11.275</td>\n    </tr>\n    <tr>\n      <th>4</th>\n      <td>Patriots</td>\n      <td>11.275</td>\n      <td>11.775</td>\n    </tr>\n    <tr>\n      <th>5</th>\n      <td>Patriots</td>\n      <td>11.775</td>\n      <td>12.075</td>\n    </tr>\n    <tr>\n      <th>6</th>\n      <td>Patriots</td>\n      <td>12.075</td>\n      <td>12.350</td>\n    </tr>\n    <tr>\n      <th>7</th>\n      <td>Patriots</td>\n      <td>11.325</td>\n      <td>11.650</td>\n    </tr>\n    <tr>\n      <th>8</th>\n      <td>Patriots</td>\n      <td>11.150</td>\n      <td>10.700</td>\n    </tr>\n    <tr>\n      <th>9</th>\n      <td>Patriots</td>\n      <td>10.700</td>\n      <td>11.125</td>\n    </tr>\n    <tr>\n      <th>10</th>\n      <td>Patriots</td>\n      <td>11.125</td>\n      <td>10.850</td>\n    </tr>\n  </tbody>\n</table>\n</div>"
     },
     "execution_count": 27,
     "metadata": {},
     "output_type": "execute_result"
    }
   ],
   "source": [
    "original_and_shuffled = df.assign(shuff_pressure = shuffled_pressure.values)\n",
    "original_and_shuffled_patriots = original_and_shuffled[original_and_shuffled['Team']=='Patriots']\n",
    "original_and_shuffled_patriots"
   ],
   "metadata": {
    "collapsed": false,
    "ExecuteTime": {
     "end_time": "2023-11-02T15:57:16.654135Z",
     "start_time": "2023-11-02T15:57:16.648707Z"
    }
   },
   "id": "8e62e8514a5d5749"
  },
  {
   "cell_type": "code",
   "execution_count": null,
   "outputs": [],
   "source": [
    "for i in range(10000):\n",
    "    shuffled = df.sample(15)\n",
    "    shuffled_pressure = shuffled['pressure']\n",
    "    original_and_shuffled = df.assign(shuff_pressure = shuffled_pressure.values)\n",
    "    original_and_shuffled_patriots = original_and_shuffled[original_and_shuffled['Team']=='Patriots']\n",
    "    original_and_shuffled_colts = original_and_shuffled[original_and_shuffled['Team']=='Colts']\n",
    "    \n",
    "    "
   ],
   "metadata": {
    "collapsed": false
   },
   "id": "563b2c54b1464883"
  }
 ],
 "metadata": {
  "kernelspec": {
   "display_name": "Python 3",
   "language": "python",
   "name": "python3"
  },
  "language_info": {
   "codemirror_mode": {
    "name": "ipython",
    "version": 2
   },
   "file_extension": ".py",
   "mimetype": "text/x-python",
   "name": "python",
   "nbconvert_exporter": "python",
   "pygments_lexer": "ipython2",
   "version": "2.7.6"
  }
 },
 "nbformat": 4,
 "nbformat_minor": 5
}
