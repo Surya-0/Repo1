{
 "cells": [
  {
   "cell_type": "code",
   "execution_count": 50,
   "id": "initial_id",
   "metadata": {
    "collapsed": true,
    "ExecuteTime": {
     "end_time": "2023-11-03T10:41:49.942507Z",
     "start_time": "2023-11-03T10:41:49.864549Z"
    }
   },
   "outputs": [],
   "source": [
    "import numpy as np\n",
    "import pandas as pd\n",
    "import matplotlib.pyplot as plt\n"
   ]
  },
  {
   "cell_type": "code",
   "execution_count": 51,
   "outputs": [
    {
     "data": {
      "text/plain": "      Unnamed: 0  Birth Weight  Gestational Days  Maternal Age  \\\n0              0           120               284            27   \n1              1           113               282            33   \n2              2           128               279            18   \n3              3           108               282            18   \n4              4           136               286            35   \n...          ...           ...               ...           ...   \n1169        1169           113               275            27   \n1170        1170           128               265            24   \n1171        1171           130               291            30   \n1172        1172           125               281            21   \n1173        1173           117               297            38   \n\n      Maternal Height  Maternal Pregnancy Weight  Maternal Smoker  \n0                  62                        100            False  \n1                  64                        135            False  \n2                  64                        115             True  \n3                  67                        125             True  \n4                  62                         93            False  \n...               ...                        ...              ...  \n1169               60                        100            False  \n1170               67                        120            False  \n1171               65                        150             True  \n1172               65                        110            False  \n1173               65                        129            False  \n\n[1174 rows x 7 columns]",
      "text/html": "<div>\n<style scoped>\n    .dataframe tbody tr th:only-of-type {\n        vertical-align: middle;\n    }\n\n    .dataframe tbody tr th {\n        vertical-align: top;\n    }\n\n    .dataframe thead th {\n        text-align: right;\n    }\n</style>\n<table border=\"1\" class=\"dataframe\">\n  <thead>\n    <tr style=\"text-align: right;\">\n      <th></th>\n      <th>Unnamed: 0</th>\n      <th>Birth Weight</th>\n      <th>Gestational Days</th>\n      <th>Maternal Age</th>\n      <th>Maternal Height</th>\n      <th>Maternal Pregnancy Weight</th>\n      <th>Maternal Smoker</th>\n    </tr>\n  </thead>\n  <tbody>\n    <tr>\n      <th>0</th>\n      <td>0</td>\n      <td>120</td>\n      <td>284</td>\n      <td>27</td>\n      <td>62</td>\n      <td>100</td>\n      <td>False</td>\n    </tr>\n    <tr>\n      <th>1</th>\n      <td>1</td>\n      <td>113</td>\n      <td>282</td>\n      <td>33</td>\n      <td>64</td>\n      <td>135</td>\n      <td>False</td>\n    </tr>\n    <tr>\n      <th>2</th>\n      <td>2</td>\n      <td>128</td>\n      <td>279</td>\n      <td>18</td>\n      <td>64</td>\n      <td>115</td>\n      <td>True</td>\n    </tr>\n    <tr>\n      <th>3</th>\n      <td>3</td>\n      <td>108</td>\n      <td>282</td>\n      <td>18</td>\n      <td>67</td>\n      <td>125</td>\n      <td>True</td>\n    </tr>\n    <tr>\n      <th>4</th>\n      <td>4</td>\n      <td>136</td>\n      <td>286</td>\n      <td>35</td>\n      <td>62</td>\n      <td>93</td>\n      <td>False</td>\n    </tr>\n    <tr>\n      <th>...</th>\n      <td>...</td>\n      <td>...</td>\n      <td>...</td>\n      <td>...</td>\n      <td>...</td>\n      <td>...</td>\n      <td>...</td>\n    </tr>\n    <tr>\n      <th>1169</th>\n      <td>1169</td>\n      <td>113</td>\n      <td>275</td>\n      <td>27</td>\n      <td>60</td>\n      <td>100</td>\n      <td>False</td>\n    </tr>\n    <tr>\n      <th>1170</th>\n      <td>1170</td>\n      <td>128</td>\n      <td>265</td>\n      <td>24</td>\n      <td>67</td>\n      <td>120</td>\n      <td>False</td>\n    </tr>\n    <tr>\n      <th>1171</th>\n      <td>1171</td>\n      <td>130</td>\n      <td>291</td>\n      <td>30</td>\n      <td>65</td>\n      <td>150</td>\n      <td>True</td>\n    </tr>\n    <tr>\n      <th>1172</th>\n      <td>1172</td>\n      <td>125</td>\n      <td>281</td>\n      <td>21</td>\n      <td>65</td>\n      <td>110</td>\n      <td>False</td>\n    </tr>\n    <tr>\n      <th>1173</th>\n      <td>1173</td>\n      <td>117</td>\n      <td>297</td>\n      <td>38</td>\n      <td>65</td>\n      <td>129</td>\n      <td>False</td>\n    </tr>\n  </tbody>\n</table>\n<p>1174 rows × 7 columns</p>\n</div>"
     },
     "execution_count": 51,
     "metadata": {},
     "output_type": "execute_result"
    }
   ],
   "source": [
    "df = pd.read_csv('test.csv.csv')\n",
    "df"
   ],
   "metadata": {
    "collapsed": false,
    "ExecuteTime": {
     "end_time": "2023-11-03T10:41:49.966183Z",
     "start_time": "2023-11-03T10:41:49.872949Z"
    }
   },
   "id": "6b3d4e03736982ed"
  },
  {
   "cell_type": "markdown",
   "source": [
    "## Question 1"
   ],
   "metadata": {
    "collapsed": false
   },
   "id": "2fe8afaad065054"
  },
  {
   "cell_type": "code",
   "execution_count": 52,
   "outputs": [
    {
     "data": {
      "text/plain": "      Birth Weight  Maternal Smoker\n0              120            False\n1              113            False\n2              128             True\n3              108             True\n4              136            False\n...            ...              ...\n1169           113            False\n1170           128            False\n1171           130             True\n1172           125            False\n1173           117            False\n\n[1174 rows x 2 columns]",
      "text/html": "<div>\n<style scoped>\n    .dataframe tbody tr th:only-of-type {\n        vertical-align: middle;\n    }\n\n    .dataframe tbody tr th {\n        vertical-align: top;\n    }\n\n    .dataframe thead th {\n        text-align: right;\n    }\n</style>\n<table border=\"1\" class=\"dataframe\">\n  <thead>\n    <tr style=\"text-align: right;\">\n      <th></th>\n      <th>Birth Weight</th>\n      <th>Maternal Smoker</th>\n    </tr>\n  </thead>\n  <tbody>\n    <tr>\n      <th>0</th>\n      <td>120</td>\n      <td>False</td>\n    </tr>\n    <tr>\n      <th>1</th>\n      <td>113</td>\n      <td>False</td>\n    </tr>\n    <tr>\n      <th>2</th>\n      <td>128</td>\n      <td>True</td>\n    </tr>\n    <tr>\n      <th>3</th>\n      <td>108</td>\n      <td>True</td>\n    </tr>\n    <tr>\n      <th>4</th>\n      <td>136</td>\n      <td>False</td>\n    </tr>\n    <tr>\n      <th>...</th>\n      <td>...</td>\n      <td>...</td>\n    </tr>\n    <tr>\n      <th>1169</th>\n      <td>113</td>\n      <td>False</td>\n    </tr>\n    <tr>\n      <th>1170</th>\n      <td>128</td>\n      <td>False</td>\n    </tr>\n    <tr>\n      <th>1171</th>\n      <td>130</td>\n      <td>True</td>\n    </tr>\n    <tr>\n      <th>1172</th>\n      <td>125</td>\n      <td>False</td>\n    </tr>\n    <tr>\n      <th>1173</th>\n      <td>117</td>\n      <td>False</td>\n    </tr>\n  </tbody>\n</table>\n<p>1174 rows × 2 columns</p>\n</div>"
     },
     "execution_count": 52,
     "metadata": {},
     "output_type": "execute_result"
    }
   ],
   "source": [
    "req_df = df[['Birth Weight','Maternal Smoker']]\n",
    "req_df"
   ],
   "metadata": {
    "collapsed": false,
    "ExecuteTime": {
     "end_time": "2023-11-03T10:41:49.966785Z",
     "start_time": "2023-11-03T10:41:49.883222Z"
    }
   },
   "id": "73828616ba68e93e"
  },
  {
   "cell_type": "code",
   "execution_count": 53,
   "outputs": [
    {
     "name": "stderr",
     "output_type": "stream",
     "text": [
      "/var/folders/21/yhy2dhmx219b7cbcq243hmwc0000gn/T/ipykernel_42563/1522281418.py:3: SettingWithCopyWarning: \n",
      "A value is trying to be set on a copy of a slice from a DataFrame.\n",
      "Try using .loc[row_indexer,col_indexer] = value instead\n",
      "\n",
      "See the caveats in the documentation: https://pandas.pydata.org/pandas-docs/stable/user_guide/indexing.html#returning-a-view-versus-a-copy\n",
      "  req_df['Maternal Smoker'] = le.fit_transform(req_df['Maternal Smoker'])\n"
     ]
    }
   ],
   "source": [
    "from sklearn.preprocessing import LabelEncoder\n",
    "le = LabelEncoder()\n",
    "req_df['Maternal Smoker'] = le.fit_transform(req_df['Maternal Smoker'])"
   ],
   "metadata": {
    "collapsed": false,
    "ExecuteTime": {
     "end_time": "2023-11-03T10:41:49.966955Z",
     "start_time": "2023-11-03T10:41:49.887074Z"
    }
   },
   "id": "da65dd466a78c3d1"
  },
  {
   "cell_type": "code",
   "execution_count": 54,
   "outputs": [
    {
     "data": {
      "text/plain": "      Birth Weight  Maternal Smoker\n0              120                0\n1              113                0\n2              128                1\n3              108                1\n4              136                0\n...            ...              ...\n1169           113                0\n1170           128                0\n1171           130                1\n1172           125                0\n1173           117                0\n\n[1174 rows x 2 columns]",
      "text/html": "<div>\n<style scoped>\n    .dataframe tbody tr th:only-of-type {\n        vertical-align: middle;\n    }\n\n    .dataframe tbody tr th {\n        vertical-align: top;\n    }\n\n    .dataframe thead th {\n        text-align: right;\n    }\n</style>\n<table border=\"1\" class=\"dataframe\">\n  <thead>\n    <tr style=\"text-align: right;\">\n      <th></th>\n      <th>Birth Weight</th>\n      <th>Maternal Smoker</th>\n    </tr>\n  </thead>\n  <tbody>\n    <tr>\n      <th>0</th>\n      <td>120</td>\n      <td>0</td>\n    </tr>\n    <tr>\n      <th>1</th>\n      <td>113</td>\n      <td>0</td>\n    </tr>\n    <tr>\n      <th>2</th>\n      <td>128</td>\n      <td>1</td>\n    </tr>\n    <tr>\n      <th>3</th>\n      <td>108</td>\n      <td>1</td>\n    </tr>\n    <tr>\n      <th>4</th>\n      <td>136</td>\n      <td>0</td>\n    </tr>\n    <tr>\n      <th>...</th>\n      <td>...</td>\n      <td>...</td>\n    </tr>\n    <tr>\n      <th>1169</th>\n      <td>113</td>\n      <td>0</td>\n    </tr>\n    <tr>\n      <th>1170</th>\n      <td>128</td>\n      <td>0</td>\n    </tr>\n    <tr>\n      <th>1171</th>\n      <td>130</td>\n      <td>1</td>\n    </tr>\n    <tr>\n      <th>1172</th>\n      <td>125</td>\n      <td>0</td>\n    </tr>\n    <tr>\n      <th>1173</th>\n      <td>117</td>\n      <td>0</td>\n    </tr>\n  </tbody>\n</table>\n<p>1174 rows × 2 columns</p>\n</div>"
     },
     "execution_count": 54,
     "metadata": {},
     "output_type": "execute_result"
    }
   ],
   "source": [
    "req_df"
   ],
   "metadata": {
    "collapsed": false,
    "ExecuteTime": {
     "end_time": "2023-11-03T10:41:49.979437Z",
     "start_time": "2023-11-03T10:41:49.892446Z"
    }
   },
   "id": "9f84ebc196ec89a4"
  },
  {
   "cell_type": "code",
   "execution_count": 55,
   "outputs": [
    {
     "data": {
      "text/plain": "      Birth Weight  Maternal Smoker\n2              128                1\n3              108                1\n8              143                1\n10             144                1\n11             141                1\n...            ...              ...\n1162           143                1\n1163           113                1\n1164           109                1\n1165           103                1\n1171           130                1\n\n[459 rows x 2 columns]",
      "text/html": "<div>\n<style scoped>\n    .dataframe tbody tr th:only-of-type {\n        vertical-align: middle;\n    }\n\n    .dataframe tbody tr th {\n        vertical-align: top;\n    }\n\n    .dataframe thead th {\n        text-align: right;\n    }\n</style>\n<table border=\"1\" class=\"dataframe\">\n  <thead>\n    <tr style=\"text-align: right;\">\n      <th></th>\n      <th>Birth Weight</th>\n      <th>Maternal Smoker</th>\n    </tr>\n  </thead>\n  <tbody>\n    <tr>\n      <th>2</th>\n      <td>128</td>\n      <td>1</td>\n    </tr>\n    <tr>\n      <th>3</th>\n      <td>108</td>\n      <td>1</td>\n    </tr>\n    <tr>\n      <th>8</th>\n      <td>143</td>\n      <td>1</td>\n    </tr>\n    <tr>\n      <th>10</th>\n      <td>144</td>\n      <td>1</td>\n    </tr>\n    <tr>\n      <th>11</th>\n      <td>141</td>\n      <td>1</td>\n    </tr>\n    <tr>\n      <th>...</th>\n      <td>...</td>\n      <td>...</td>\n    </tr>\n    <tr>\n      <th>1162</th>\n      <td>143</td>\n      <td>1</td>\n    </tr>\n    <tr>\n      <th>1163</th>\n      <td>113</td>\n      <td>1</td>\n    </tr>\n    <tr>\n      <th>1164</th>\n      <td>109</td>\n      <td>1</td>\n    </tr>\n    <tr>\n      <th>1165</th>\n      <td>103</td>\n      <td>1</td>\n    </tr>\n    <tr>\n      <th>1171</th>\n      <td>130</td>\n      <td>1</td>\n    </tr>\n  </tbody>\n</table>\n<p>459 rows × 2 columns</p>\n</div>"
     },
     "execution_count": 55,
     "metadata": {},
     "output_type": "execute_result"
    }
   ],
   "source": [
    "smoker_df = req_df[req_df['Maternal Smoker']==1]\n",
    "smoker_df\n"
   ],
   "metadata": {
    "collapsed": false,
    "ExecuteTime": {
     "end_time": "2023-11-03T10:41:49.993213Z",
     "start_time": "2023-11-03T10:41:49.896880Z"
    }
   },
   "id": "c520c87e94b719bb"
  },
  {
   "cell_type": "code",
   "execution_count": 56,
   "outputs": [
    {
     "data": {
      "text/plain": "      Birth Weight  Maternal Smoker\n0              120                0\n1              113                0\n4              136                0\n5              138                0\n6              132                0\n...            ...              ...\n1168           132                0\n1169           113                0\n1170           128                0\n1172           125                0\n1173           117                0\n\n[715 rows x 2 columns]",
      "text/html": "<div>\n<style scoped>\n    .dataframe tbody tr th:only-of-type {\n        vertical-align: middle;\n    }\n\n    .dataframe tbody tr th {\n        vertical-align: top;\n    }\n\n    .dataframe thead th {\n        text-align: right;\n    }\n</style>\n<table border=\"1\" class=\"dataframe\">\n  <thead>\n    <tr style=\"text-align: right;\">\n      <th></th>\n      <th>Birth Weight</th>\n      <th>Maternal Smoker</th>\n    </tr>\n  </thead>\n  <tbody>\n    <tr>\n      <th>0</th>\n      <td>120</td>\n      <td>0</td>\n    </tr>\n    <tr>\n      <th>1</th>\n      <td>113</td>\n      <td>0</td>\n    </tr>\n    <tr>\n      <th>4</th>\n      <td>136</td>\n      <td>0</td>\n    </tr>\n    <tr>\n      <th>5</th>\n      <td>138</td>\n      <td>0</td>\n    </tr>\n    <tr>\n      <th>6</th>\n      <td>132</td>\n      <td>0</td>\n    </tr>\n    <tr>\n      <th>...</th>\n      <td>...</td>\n      <td>...</td>\n    </tr>\n    <tr>\n      <th>1168</th>\n      <td>132</td>\n      <td>0</td>\n    </tr>\n    <tr>\n      <th>1169</th>\n      <td>113</td>\n      <td>0</td>\n    </tr>\n    <tr>\n      <th>1170</th>\n      <td>128</td>\n      <td>0</td>\n    </tr>\n    <tr>\n      <th>1172</th>\n      <td>125</td>\n      <td>0</td>\n    </tr>\n    <tr>\n      <th>1173</th>\n      <td>117</td>\n      <td>0</td>\n    </tr>\n  </tbody>\n</table>\n<p>715 rows × 2 columns</p>\n</div>"
     },
     "execution_count": 56,
     "metadata": {},
     "output_type": "execute_result"
    }
   ],
   "source": [
    "non_smoker_df = req_df[req_df['Maternal Smoker']==0]\n",
    "non_smoker_df"
   ],
   "metadata": {
    "collapsed": false,
    "ExecuteTime": {
     "end_time": "2023-11-03T10:41:49.993456Z",
     "start_time": "2023-11-03T10:41:49.901712Z"
    }
   },
   "id": "a4712154d09cf3ba"
  },
  {
   "cell_type": "markdown",
   "source": [
    "(1) Draw the histograms of the two distributions in the sample"
   ],
   "metadata": {
    "collapsed": false
   },
   "id": "1b58eace93d78be0"
  },
  {
   "cell_type": "code",
   "execution_count": 57,
   "outputs": [
    {
     "data": {
      "text/plain": "<Figure size 640x480 with 2 Axes>",
      "image/png": "[encoded data removed]"
     },
     "metadata": {},
     "output_type": "display_data"
    }
   ],
   "source": [
    "smoker_df.hist(histtype = 'stepfilled')\n",
    "plt.show()"
   ],
   "metadata": {
    "collapsed": false,
    "ExecuteTime": {
     "end_time": "2023-11-03T10:41:50.013272Z",
     "start_time": "2023-11-03T10:41:49.904379Z"
    }
   },
   "id": "2c7b9a2597242e4e"
  },
  {
   "cell_type": "code",
   "execution_count": 58,
   "outputs": [
    {
     "data": {
      "text/plain": "2       128\n3       108\n8       143\n10      144\n11      141\n       ... \n1162    143\n1163    113\n1164    109\n1165    103\n1171    130\nName: Birth Weight, Length: 459, dtype: int64"
     },
     "execution_count": 58,
     "metadata": {},
     "output_type": "execute_result"
    }
   ],
   "source": [
    "smoker_no = smoker_df['Birth Weight']\n",
    "smoker_no"
   ],
   "metadata": {
    "collapsed": false,
    "ExecuteTime": {
     "end_time": "2023-11-03T10:41:50.013492Z",
     "start_time": "2023-11-03T10:41:49.997180Z"
    }
   },
   "id": "e2671e7e3995da8a"
  },
  {
   "cell_type": "code",
   "execution_count": 59,
   "outputs": [
    {
     "data": {
      "text/plain": "0       120\n1       113\n4       136\n5       138\n6       132\n       ... \n1168    132\n1169    113\n1170    128\n1172    125\n1173    117\nName: Birth Weight, Length: 715, dtype: int64"
     },
     "execution_count": 59,
     "metadata": {},
     "output_type": "execute_result"
    }
   ],
   "source": [
    "non_smoker_no = non_smoker_df['Birth Weight']\n",
    "non_smoker_no"
   ],
   "metadata": {
    "collapsed": false,
    "ExecuteTime": {
     "end_time": "2023-11-03T10:41:50.053053Z",
     "start_time": "2023-11-03T10:41:50.001894Z"
    }
   },
   "id": "a40cfc9a865eb045"
  },
  {
   "cell_type": "code",
   "execution_count": 60,
   "outputs": [
    {
     "data": {
      "text/plain": "<Figure size 640x480 with 2 Axes>",
      "image/png": "[encoded data removed]"
     },
     "metadata": {},
     "output_type": "display_data"
    }
   ],
   "source": [
    "non_smoker_df.hist(histtype = 'stepfilled')\n",
    "plt.show()"
   ],
   "metadata": {
    "collapsed": false,
    "ExecuteTime": {
     "end_time": "2023-11-03T10:41:50.147881Z",
     "start_time": "2023-11-03T10:41:50.007289Z"
    }
   },
   "id": "415b6cdf390b5e35"
  },
  {
   "cell_type": "code",
   "execution_count": 61,
   "outputs": [
    {
     "data": {
      "text/plain": "<Figure size 640x480 with 1 Axes>",
      "image/png": "[encoded data removed]"
     },
     "metadata": {},
     "output_type": "display_data"
    }
   ],
   "source": [
    "smoker_no.hist(alpha = 0.5)\n",
    "non_smoker_no.hist(alpha = 0.5)\n",
    "plt.show()"
   ],
   "metadata": {
    "collapsed": false,
    "ExecuteTime": {
     "end_time": "2023-11-03T10:41:50.176877Z",
     "start_time": "2023-11-03T10:41:50.102380Z"
    }
   },
   "id": "4cfa9bf2acfb926d"
  },
  {
   "cell_type": "markdown",
   "source": [
    "(2) Choose a suitable statistical test and State the Null and Alternative Hypothesis "
   ],
   "metadata": {
    "collapsed": false
   },
   "id": "5332226fc9a70ed2"
  },
  {
   "cell_type": "markdown",
   "source": [
    "Answer : We can choose the difference between the mean of the weights of the smokers and the non-smokers as the test.The statistical test which we are going to use is AB testing .The hypothesis are:\n",
    "Null hypothesis : There  is no difference between the weights of the babies of non-smokers and the weights of the babies of smokers\n",
    "Alternative hypothesis : There is difference between the weights of the non-smokers and the smokers"
   ],
   "metadata": {
    "collapsed": false
   },
   "id": "c4fe51832696261d"
  },
  {
   "cell_type": "markdown",
   "source": [
    "(3) Choose the statistic to apply for this case"
   ],
   "metadata": {
    "collapsed": false
   },
   "id": "f0e31250a4edfff6"
  },
  {
   "cell_type": "markdown",
   "source": [
    "Answer : We can choose the difference between the mean of the weights of the smokers and the non-smokers as the test"
   ],
   "metadata": {
    "collapsed": false
   },
   "id": "f628ac5f7f0b5286"
  },
  {
   "cell_type": "markdown",
   "source": [
    "(4) State the observed statistic"
   ],
   "metadata": {
    "collapsed": false
   },
   "id": "650b5e44b09d9485"
  },
  {
   "cell_type": "code",
   "execution_count": 70,
   "outputs": [
    {
     "data": {
      "text/plain": "-9.266142572024918"
     },
     "execution_count": 70,
     "metadata": {},
     "output_type": "execute_result"
    }
   ],
   "source": [
    "observed_diff = smoker_no.mean() - non_smoker_no.mean()\n",
    "observed_diff"
   ],
   "metadata": {
    "collapsed": false,
    "ExecuteTime": {
     "end_time": "2023-11-03T10:43:07.655676Z",
     "start_time": "2023-11-03T10:43:07.640717Z"
    }
   },
   "id": "99060494c574b9cb"
  },
  {
   "cell_type": "markdown",
   "source": [
    "(5) Simulate the test statistic under the Null that will help make the decision"
   ],
   "metadata": {
    "collapsed": false
   },
   "id": "4efb4dca591cfe5f"
  },
  {
   "cell_type": "markdown",
   "source": [
    "Answer: We need to perform random permutation and plot its histogram to compare the observed statistic.The random permutation is used for getting the expected value"
   ],
   "metadata": {
    "collapsed": false
   },
   "id": "b5da04b013ec8e6e"
  },
  {
   "cell_type": "code",
   "execution_count": 63,
   "outputs": [
    {
     "data": {
      "text/plain": "      Birth Weight  Maternal Smoker\n0              120                0\n1              113                0\n2              128                1\n3              108                1\n4              136                0\n...            ...              ...\n1169           113                0\n1170           128                0\n1171           130                1\n1172           125                0\n1173           117                0\n\n[1174 rows x 2 columns]",
      "text/html": "<div>\n<style scoped>\n    .dataframe tbody tr th:only-of-type {\n        vertical-align: middle;\n    }\n\n    .dataframe tbody tr th {\n        vertical-align: top;\n    }\n\n    .dataframe thead th {\n        text-align: right;\n    }\n</style>\n<table border=\"1\" class=\"dataframe\">\n  <thead>\n    <tr style=\"text-align: right;\">\n      <th></th>\n      <th>Birth Weight</th>\n      <th>Maternal Smoker</th>\n    </tr>\n  </thead>\n  <tbody>\n    <tr>\n      <th>0</th>\n      <td>120</td>\n      <td>0</td>\n    </tr>\n    <tr>\n      <th>1</th>\n      <td>113</td>\n      <td>0</td>\n    </tr>\n    <tr>\n      <th>2</th>\n      <td>128</td>\n      <td>1</td>\n    </tr>\n    <tr>\n      <th>3</th>\n      <td>108</td>\n      <td>1</td>\n    </tr>\n    <tr>\n      <th>4</th>\n      <td>136</td>\n      <td>0</td>\n    </tr>\n    <tr>\n      <th>...</th>\n      <td>...</td>\n      <td>...</td>\n    </tr>\n    <tr>\n      <th>1169</th>\n      <td>113</td>\n      <td>0</td>\n    </tr>\n    <tr>\n      <th>1170</th>\n      <td>128</td>\n      <td>0</td>\n    </tr>\n    <tr>\n      <th>1171</th>\n      <td>130</td>\n      <td>1</td>\n    </tr>\n    <tr>\n      <th>1172</th>\n      <td>125</td>\n      <td>0</td>\n    </tr>\n    <tr>\n      <th>1173</th>\n      <td>117</td>\n      <td>0</td>\n    </tr>\n  </tbody>\n</table>\n<p>1174 rows × 2 columns</p>\n</div>"
     },
     "execution_count": 63,
     "metadata": {},
     "output_type": "execute_result"
    }
   ],
   "source": [
    "req_df"
   ],
   "metadata": {
    "collapsed": false,
    "ExecuteTime": {
     "end_time": "2023-11-03T10:41:50.207638Z",
     "start_time": "2023-11-03T10:41:50.166584Z"
    }
   },
   "id": "94abdcd49b0526cb"
  },
  {
   "cell_type": "code",
   "execution_count": 64,
   "outputs": [
    {
     "data": {
      "text/plain": "     Birth Weight  Maternal Smoker\n225           111                0\n203           121                1\n735            86                1\n947           122                0\n718           144                0\n..            ...              ...\n679           110                0\n239            81                1\n488           158                0\n359           126                1\n109           100                1\n\n[1174 rows x 2 columns]",
      "text/html": "<div>\n<style scoped>\n    .dataframe tbody tr th:only-of-type {\n        vertical-align: middle;\n    }\n\n    .dataframe tbody tr th {\n        vertical-align: top;\n    }\n\n    .dataframe thead th {\n        text-align: right;\n    }\n</style>\n<table border=\"1\" class=\"dataframe\">\n  <thead>\n    <tr style=\"text-align: right;\">\n      <th></th>\n      <th>Birth Weight</th>\n      <th>Maternal Smoker</th>\n    </tr>\n  </thead>\n  <tbody>\n    <tr>\n      <th>225</th>\n      <td>111</td>\n      <td>0</td>\n    </tr>\n    <tr>\n      <th>203</th>\n      <td>121</td>\n      <td>1</td>\n    </tr>\n    <tr>\n      <th>735</th>\n      <td>86</td>\n      <td>1</td>\n    </tr>\n    <tr>\n      <th>947</th>\n      <td>122</td>\n      <td>0</td>\n    </tr>\n    <tr>\n      <th>718</th>\n      <td>144</td>\n      <td>0</td>\n    </tr>\n    <tr>\n      <th>...</th>\n      <td>...</td>\n      <td>...</td>\n    </tr>\n    <tr>\n      <th>679</th>\n      <td>110</td>\n      <td>0</td>\n    </tr>\n    <tr>\n      <th>239</th>\n      <td>81</td>\n      <td>1</td>\n    </tr>\n    <tr>\n      <th>488</th>\n      <td>158</td>\n      <td>0</td>\n    </tr>\n    <tr>\n      <th>359</th>\n      <td>126</td>\n      <td>1</td>\n    </tr>\n    <tr>\n      <th>109</th>\n      <td>100</td>\n      <td>1</td>\n    </tr>\n  </tbody>\n</table>\n<p>1174 rows × 2 columns</p>\n</div>"
     },
     "execution_count": 64,
     "metadata": {},
     "output_type": "execute_result"
    }
   ],
   "source": [
    "shuffled = req_df.sample(1174)\n",
    "shuffled\n"
   ],
   "metadata": {
    "collapsed": false,
    "ExecuteTime": {
     "end_time": "2023-11-03T10:41:50.207956Z",
     "start_time": "2023-11-03T10:41:50.170150Z"
    }
   },
   "id": "64af51982a541e40"
  },
  {
   "cell_type": "code",
   "execution_count": 65,
   "outputs": [],
   "source": [
    "diff_arr = []"
   ],
   "metadata": {
    "collapsed": false,
    "ExecuteTime": {
     "end_time": "2023-11-03T10:41:50.208124Z",
     "start_time": "2023-11-03T10:41:50.174568Z"
    }
   },
   "id": "f217719738638f43"
  },
  {
   "cell_type": "code",
   "execution_count": 66,
   "outputs": [],
   "source": [
    "for i in range(5000):\n",
    "    shuffled = req_df.sample(1174)\n",
    "    shuffled_weights = shuffled['Birth Weight']\n",
    "    original_and_shuffled = req_df.assign(shuffled_weights = shuffled_weights.values)\n",
    "    all_group_means = original_and_shuffled.groupby('Maternal Smoker').mean()\n",
    "    difference = all_group_means['shuffled_weights'][1] - all_group_means['shuffled_weights'][0]\n",
    "    diff_arr.append(difference)\n",
    "diff_arr = np.array(diff_arr)"
   ],
   "metadata": {
    "collapsed": false,
    "ExecuteTime": {
     "end_time": "2023-11-03T10:41:51.910927Z",
     "start_time": "2023-11-03T10:41:50.178432Z"
    }
   },
   "id": "8ebda07b9281a30c"
  },
  {
   "cell_type": "code",
   "execution_count": 68,
   "outputs": [],
   "source": [
    "diff_arr = pd.DataFrame(diff_arr)"
   ],
   "metadata": {
    "collapsed": false,
    "ExecuteTime": {
     "end_time": "2023-11-03T10:42:26.281801Z",
     "start_time": "2023-11-03T10:42:26.275682Z"
    }
   },
   "id": "12f2db5314f17b1e"
  },
  {
   "cell_type": "code",
   "execution_count": 71,
   "outputs": [
    {
     "data": {
      "text/plain": "<Figure size 640x480 with 1 Axes>",
      "image/png": "[encoded data removed]"
     },
     "metadata": {},
     "output_type": "display_data"
    }
   ],
   "source": [
    "diff_arr.hist()\n",
    "plt.scatter(observed_diff,0,s = 30,color = 'red')\n",
    "plt.show()"
   ],
   "metadata": {
    "collapsed": false,
    "ExecuteTime": {
     "end_time": "2023-11-03T10:43:28.984246Z",
     "start_time": "2023-11-03T10:43:28.907687Z"
    }
   },
   "id": "c2517f6b688f537"
  },
  {
   "cell_type": "code",
   "execution_count": 72,
   "outputs": [
    {
     "data": {
      "text/plain": "0"
     },
     "execution_count": 72,
     "metadata": {},
     "output_type": "execute_result"
    }
   ],
   "source": [
    "p_value = np.count_nonzero(observed_diff>diff_arr)\n",
    "p_value"
   ],
   "metadata": {
    "collapsed": false,
    "ExecuteTime": {
     "end_time": "2023-11-03T10:45:10.043158Z",
     "start_time": "2023-11-03T10:45:10.038577Z"
    }
   },
   "id": "a845452525740c5a"
  },
  {
   "cell_type": "code",
   "execution_count": 73,
   "outputs": [
    {
     "name": "stdout",
     "output_type": "stream",
     "text": [
      "Reject the null hypothesis\n"
     ]
    }
   ],
   "source": [
    "if p_value > 0.05:\n",
    "    print(\"Accept the null hypothesis\")\n",
    "else:\n",
    "    print(\"Reject the null hypothesis\")"
   ],
   "metadata": {
    "collapsed": false,
    "ExecuteTime": {
     "end_time": "2023-11-03T10:48:07.217830Z",
     "start_time": "2023-11-03T10:48:07.205180Z"
    }
   },
   "id": "f12525679d44a4f2"
  },
  {
   "cell_type": "markdown",
   "source": [
    "(6) State the outcome of the hypothesis test"
   ],
   "metadata": {
    "collapsed": false
   },
   "id": "ce78eb8ed54a40da"
  },
  {
   "cell_type": "markdown",
   "source": [
    "Answer: As the p-value is zero(which is lesser than the significance level) we can reject the null hypothesis.Hence the birth weight of the children of smokers is lesser than the birth weight of the children of non-smokers"
   ],
   "metadata": {
    "collapsed": false
   },
   "id": "47fd7381c61a7078"
  },
  {
   "cell_type": "markdown",
   "source": [
    "(7) Draw a histogram to depict what the model of random selection predicts about the statistic"
   ],
   "metadata": {
    "collapsed": false
   },
   "id": "1e3806b00ea79373"
  },
  {
   "cell_type": "code",
   "execution_count": 74,
   "outputs": [
    {
     "data": {
      "text/plain": "<Figure size 640x480 with 1 Axes>",
      "image/png": "[encoded data removed]"
     },
     "metadata": {},
     "output_type": "display_data"
    }
   ],
   "source": [
    "diff_arr.hist()\n",
    "plt.show()"
   ],
   "metadata": {
    "collapsed": false,
    "ExecuteTime": {
     "end_time": "2023-11-03T10:48:51.591874Z",
     "start_time": "2023-11-03T10:48:51.499563Z"
    }
   },
   "id": "57a7e30e3a645ea7"
  },
  {
   "cell_type": "markdown",
   "source": [
    "## Question 2"
   ],
   "metadata": {
    "collapsed": false
   },
   "id": "aceabe8b0fb66b47"
  },
  {
   "cell_type": "code",
   "execution_count": 76,
   "outputs": [
    {
     "data": {
      "text/plain": "  Blood Type  Blood percentage  Sample percentage\n0         O+                42                 35\n1         A+                31                 30\n2         B+                15                 13\n3        AB+                 5                  8\n4     Others                 7                 14",
      "text/html": "<div>\n<style scoped>\n    .dataframe tbody tr th:only-of-type {\n        vertical-align: middle;\n    }\n\n    .dataframe tbody tr th {\n        vertical-align: top;\n    }\n\n    .dataframe thead th {\n        text-align: right;\n    }\n</style>\n<table border=\"1\" class=\"dataframe\">\n  <thead>\n    <tr style=\"text-align: right;\">\n      <th></th>\n      <th>Blood Type</th>\n      <th>Blood percentage</th>\n      <th>Sample percentage</th>\n    </tr>\n  </thead>\n  <tbody>\n    <tr>\n      <th>0</th>\n      <td>O+</td>\n      <td>42</td>\n      <td>35</td>\n    </tr>\n    <tr>\n      <th>1</th>\n      <td>A+</td>\n      <td>31</td>\n      <td>30</td>\n    </tr>\n    <tr>\n      <th>2</th>\n      <td>B+</td>\n      <td>15</td>\n      <td>13</td>\n    </tr>\n    <tr>\n      <th>3</th>\n      <td>AB+</td>\n      <td>5</td>\n      <td>8</td>\n    </tr>\n    <tr>\n      <th>4</th>\n      <td>Others</td>\n      <td>7</td>\n      <td>14</td>\n    </tr>\n  </tbody>\n</table>\n</div>"
     },
     "execution_count": 76,
     "metadata": {},
     "output_type": "execute_result"
    }
   ],
   "source": [
    "blood_group = {\"Blood Type\":['O+','A+','B+','AB+','Others'],\"Blood percentage\":[42,31,15,5,7],\"Sample percentage\":[35,30,13,8,14]}\n",
    "blood_group = pd.DataFrame(blood_group)\n",
    "blood_group"
   ],
   "metadata": {
    "collapsed": false,
    "ExecuteTime": {
     "end_time": "2023-11-03T10:54:29.643169Z",
     "start_time": "2023-11-03T10:54:29.631726Z"
    }
   },
   "id": "54f2d18ae7ca792b"
  },
  {
   "cell_type": "markdown",
   "source": [
    "(1) State the Null and Alternative Hypothesis"
   ],
   "metadata": {
    "collapsed": false
   },
   "id": "7a19ca6855f5b14f"
  },
  {
   "cell_type": "markdown",
   "source": [
    "Null Hypothesis: The distribution of percentages of the blood samples of the aboriginal population group is not different from the distribution of the blood samples of the original population group.\n",
    "\n",
    "Alternative Hypothesis:The distribution of percentages of the blood samples of the aboriginal population group is different from the distribution of the blood samples of the original population group"
   ],
   "metadata": {
    "collapsed": false
   },
   "id": "5151a505dbaa9b2a"
  },
  {
   "cell_type": "markdown",
   "source": [
    "(2) Choose the statistic to apply for this case"
   ],
   "metadata": {
    "collapsed": false
   },
   "id": "65e68d39afa465cc"
  },
  {
   "cell_type": "markdown",
   "source": [
    "We use hypothesis testing.Here we can subtract the sample percentages from the actual population blood percentage.Then we can take the absolute value and take the sum and divide it by 2.So we take the sum of absolute differences and then divide by 2"
   ],
   "metadata": {
    "collapsed": false
   },
   "id": "5b3a64f793fee3c7"
  },
  {
   "cell_type": "markdown",
   "source": [
    "(3) State the observed statistic"
   ],
   "metadata": {
    "collapsed": false
   },
   "id": "644e86646ed56966"
  },
  {
   "cell_type": "code",
   "execution_count": 80,
   "outputs": [
    {
     "data": {
      "text/plain": "  Blood Type  Blood percentage  Sample percentage  diff  abs diff\n0         O+                42                 35    -7         7\n1         A+                31                 30    -1         1\n2         B+                15                 13    -2         2\n3        AB+                 5                  8     3         3\n4     Others                 7                 14     7         7",
      "text/html": "<div>\n<style scoped>\n    .dataframe tbody tr th:only-of-type {\n        vertical-align: middle;\n    }\n\n    .dataframe tbody tr th {\n        vertical-align: top;\n    }\n\n    .dataframe thead th {\n        text-align: right;\n    }\n</style>\n<table border=\"1\" class=\"dataframe\">\n  <thead>\n    <tr style=\"text-align: right;\">\n      <th></th>\n      <th>Blood Type</th>\n      <th>Blood percentage</th>\n      <th>Sample percentage</th>\n      <th>diff</th>\n      <th>abs diff</th>\n    </tr>\n  </thead>\n  <tbody>\n    <tr>\n      <th>0</th>\n      <td>O+</td>\n      <td>42</td>\n      <td>35</td>\n      <td>-7</td>\n      <td>7</td>\n    </tr>\n    <tr>\n      <th>1</th>\n      <td>A+</td>\n      <td>31</td>\n      <td>30</td>\n      <td>-1</td>\n      <td>1</td>\n    </tr>\n    <tr>\n      <th>2</th>\n      <td>B+</td>\n      <td>15</td>\n      <td>13</td>\n      <td>-2</td>\n      <td>2</td>\n    </tr>\n    <tr>\n      <th>3</th>\n      <td>AB+</td>\n      <td>5</td>\n      <td>8</td>\n      <td>3</td>\n      <td>3</td>\n    </tr>\n    <tr>\n      <th>4</th>\n      <td>Others</td>\n      <td>7</td>\n      <td>14</td>\n      <td>7</td>\n      <td>7</td>\n    </tr>\n  </tbody>\n</table>\n</div>"
     },
     "execution_count": 80,
     "metadata": {},
     "output_type": "execute_result"
    }
   ],
   "source": [
    "blood_group['diff'] = blood_group['Sample percentage'] - blood_group['Blood percentage']\n",
    "blood_group['abs diff']= abs(blood_group['diff'])\n",
    "blood_group"
   ],
   "metadata": {
    "collapsed": false,
    "ExecuteTime": {
     "end_time": "2023-11-03T11:00:33.180558Z",
     "start_time": "2023-11-03T11:00:33.169699Z"
    }
   },
   "id": "120b57e99b8f3634"
  },
  {
   "cell_type": "code",
   "execution_count": 83,
   "outputs": [
    {
     "data": {
      "text/plain": "10.0"
     },
     "execution_count": 83,
     "metadata": {},
     "output_type": "execute_result"
    }
   ],
   "source": [
    "observed_diff = blood_group['abs diff'].sum()/2\n",
    "observed_diff"
   ],
   "metadata": {
    "collapsed": false,
    "ExecuteTime": {
     "end_time": "2023-11-03T11:01:29.057335Z",
     "start_time": "2023-11-03T11:01:29.041301Z"
    }
   },
   "id": "536e533c2969dd64"
  },
  {
   "cell_type": "markdown",
   "source": [
    "(4) Simulate the test statistic under the Null that will help make the decision"
   ],
   "metadata": {
    "collapsed": false
   },
   "id": "99481f4c43b7ab1e"
  },
  {
   "cell_type": "code",
   "execution_count": 91,
   "outputs": [],
   "source": [
    "diff_arr = []\n",
    "for i in range(5000):\n",
    "    sample = (np.random.multinomial(1568,[0.42,0.31,0.15,0.05,0.07])/1568)*100\n",
    "    a = abs(sample[0]-42)\n",
    "    b = abs(sample[1]-31)\n",
    "    c = abs(sample[2]-15)\n",
    "    d = abs(sample[3]-5)\n",
    "    e = abs(sample[4]-7)\n",
    "    diff = (a+b+c+d+e)/2\n",
    "    diff_arr.append(diff)\n",
    "    "
   ],
   "metadata": {
    "collapsed": false,
    "ExecuteTime": {
     "end_time": "2023-11-03T11:07:57.164952Z",
     "start_time": "2023-11-03T11:07:57.131003Z"
    }
   },
   "id": "cd5d2b0c9b8935a2"
  },
  {
   "cell_type": "code",
   "execution_count": 93,
   "outputs": [],
   "source": [
    "diff_arr = pd.DataFrame(diff_arr)"
   ],
   "metadata": {
    "collapsed": false,
    "ExecuteTime": {
     "end_time": "2023-11-03T11:08:19.177273Z",
     "start_time": "2023-11-03T11:08:19.162169Z"
    }
   },
   "id": "506522844e5316a2"
  },
  {
   "cell_type": "code",
   "execution_count": 95,
   "outputs": [
    {
     "data": {
      "text/plain": "<Figure size 640x480 with 1 Axes>",
      "image/png": "[encoded data removed]"
     },
     "metadata": {},
     "output_type": "display_data"
    }
   ],
   "source": [
    "diff_arr.hist()\n",
    "plt.scatter(observed_diff,0,color='red',s = 30)\n",
    "plt.show()"
   ],
   "metadata": {
    "collapsed": false,
    "ExecuteTime": {
     "end_time": "2023-11-03T11:09:07.778391Z",
     "start_time": "2023-11-03T11:09:07.689353Z"
    }
   },
   "id": "4ea7b99a450d5821"
  },
  {
   "cell_type": "code",
   "execution_count": 97,
   "outputs": [
    {
     "data": {
      "text/plain": "0.0"
     },
     "execution_count": 97,
     "metadata": {},
     "output_type": "execute_result"
    }
   ],
   "source": [
    "p_value = np.count_nonzero(diff_arr > observed_diff)/diff_arr.size\n",
    "p_value"
   ],
   "metadata": {
    "collapsed": false,
    "ExecuteTime": {
     "end_time": "2023-11-03T11:10:34.765319Z",
     "start_time": "2023-11-03T11:10:34.756284Z"
    }
   },
   "id": "343ead9d638c226e"
  },
  {
   "cell_type": "code",
   "execution_count": 98,
   "outputs": [
    {
     "name": "stdout",
     "output_type": "stream",
     "text": [
      "Reject the null hypothesis\n"
     ]
    }
   ],
   "source": [
    "if p_value < 0.05:\n",
    "    print(\"Reject the null hypothesis\")\n",
    "else:\n",
    "    print(\"Accept the null hypothesis\")"
   ],
   "metadata": {
    "collapsed": false,
    "ExecuteTime": {
     "end_time": "2023-11-03T11:10:35.636565Z",
     "start_time": "2023-11-03T11:10:35.600486Z"
    }
   },
   "id": "17b57caacfa4fc88"
  },
  {
   "cell_type": "markdown",
   "source": [
    "(5) What is the outcome of your analysis? "
   ],
   "metadata": {
    "collapsed": false
   },
   "id": "39a40ebfbdee0b7b"
  },
  {
   "cell_type": "markdown",
   "source": [
    "We can reject the null hypothesis.Hence the  distribution of percentages of the blood samples of the aboriginal population group is different from the distribution of the blood samples of the original population group"
   ],
   "metadata": {
    "collapsed": false
   },
   "id": "6d896e710adf4c11"
  },
  {
   "cell_type": "markdown",
   "source": [
    "(6) Draw a histogram to depict what the model of random selection predicts about the\n",
    "statistic"
   ],
   "metadata": {
    "collapsed": false
   },
   "id": "28b08d61f924608a"
  },
  {
   "cell_type": "code",
   "execution_count": 99,
   "outputs": [
    {
     "data": {
      "text/plain": "<Figure size 640x480 with 1 Axes>",
      "image/png": "[encoded data removed]"
     },
     "metadata": {},
     "output_type": "display_data"
    }
   ],
   "source": [
    "diff_arr = []\n",
    "for i in range(5000):\n",
    "    sample = (np.random.multinomial(1568,[0.42,0.31,0.15,0.05,0.07])/1568)*100\n",
    "    a = abs(sample[0]-42)\n",
    "    b = abs(sample[1]-31)\n",
    "    c = abs(sample[2]-15)\n",
    "    d = abs(sample[3]-5)\n",
    "    e = abs(sample[4]-7)\n",
    "    diff = (a+b+c+d+e)/2\n",
    "    diff_arr.append(diff)\n",
    "diff_arr = pd.DataFrame(diff_arr)\n",
    "diff_arr.hist()\n",
    "plt.show()"
   ],
   "metadata": {
    "collapsed": false,
    "ExecuteTime": {
     "end_time": "2023-11-03T11:12:31.410759Z",
     "start_time": "2023-11-03T11:12:31.218928Z"
    }
   },
   "id": "c8883e6aa8ecb0a0"
  },
  {
   "cell_type": "code",
   "execution_count": null,
   "outputs": [],
   "source": [],
   "metadata": {
    "collapsed": false
   },
   "id": "3a57ad9635df6352"
  }
 ],
 "metadata": {
  "kernelspec": {
   "display_name": "Python 3",
   "language": "python",
   "name": "python3"
  },
  "language_info": {
   "codemirror_mode": {
    "name": "ipython",
    "version": 2
   },
   "file_extension": ".py",
   "mimetype": "text/x-python",
   "name": "python",
   "nbconvert_exporter": "python",
   "pygments_lexer": "ipython2",
   "version": "2.7.6"
  }
 },
 "nbformat": 4,
 "nbformat_minor": 5
}
