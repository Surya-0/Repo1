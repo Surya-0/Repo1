{
 "cells": [
  {
   "cell_type": "code",
   "execution_count": 1,
   "outputs": [],
   "source": [
    "import numpy as np\n",
    "import pandas as pd\n",
    "import matplotlib.pyplot as plt\n",
    "import tensorflow as tf"
   ],
   "metadata": {
    "collapsed": false,
    "ExecuteTime": {
     "end_time": "2023-11-27T06:00:03.863544Z",
     "start_time": "2023-11-27T06:00:01.266255Z"
    }
   },
   "id": "3bd38e982719ebda"
  },
  {
   "cell_type": "code",
   "execution_count": 2,
   "outputs": [],
   "source": [
    "(X_train,y_train),(X_test,y_test) = tf.keras.datasets.mnist.load_data()"
   ],
   "metadata": {
    "collapsed": false,
    "ExecuteTime": {
     "end_time": "2023-11-27T06:00:04.668143Z",
     "start_time": "2023-11-27T06:00:04.479898Z"
    }
   },
   "id": "a5f5f3c17d837e8e"
  },
  {
   "cell_type": "code",
   "execution_count": 3,
   "outputs": [
    {
     "data": {
      "text/plain": "(60000, 28, 28)"
     },
     "execution_count": 3,
     "metadata": {},
     "output_type": "execute_result"
    }
   ],
   "source": [
    "X_train.shape"
   ],
   "metadata": {
    "collapsed": false,
    "ExecuteTime": {
     "end_time": "2023-11-27T06:00:04.958400Z",
     "start_time": "2023-11-27T06:00:04.954640Z"
    }
   },
   "id": "fa2b726fec8d1153"
  },
  {
   "cell_type": "code",
   "execution_count": 4,
   "outputs": [],
   "source": [
    "X_train = X_train.reshape(-1,28,28,1).astype(\"float32\")/255\n",
    "X_test = X_test.reshape(-1,28,28,1).astype(\"float32\")/255"
   ],
   "metadata": {
    "collapsed": false,
    "ExecuteTime": {
     "end_time": "2023-11-27T06:00:05.611558Z",
     "start_time": "2023-11-27T06:00:05.479733Z"
    }
   },
   "id": "cfec33ef076d981d"
  },
  {
   "cell_type": "code",
   "execution_count": 5,
   "outputs": [
    {
     "data": {
      "text/plain": "(60000, 28, 28, 1)"
     },
     "execution_count": 5,
     "metadata": {},
     "output_type": "execute_result"
    }
   ],
   "source": [
    "X_train.shape"
   ],
   "metadata": {
    "collapsed": false,
    "ExecuteTime": {
     "end_time": "2023-11-27T06:00:06.070976Z",
     "start_time": "2023-11-27T06:00:06.068369Z"
    }
   },
   "id": "357e5c1ee006b790"
  },
  {
   "cell_type": "code",
   "execution_count": 6,
   "outputs": [],
   "source": [
    "X_mean = np.mean(X_train)\n",
    "X_train -= X_mean\n",
    "X_test -= X_mean"
   ],
   "metadata": {
    "collapsed": false,
    "ExecuteTime": {
     "end_time": "2023-11-27T06:00:06.672295Z",
     "start_time": "2023-11-27T06:00:06.630639Z"
    }
   },
   "id": "e1606c8718acb34a"
  },
  {
   "cell_type": "code",
   "execution_count": 7,
   "outputs": [
    {
     "data": {
      "text/plain": "array([5, 0, 4, ..., 5, 6, 8], dtype=uint8)"
     },
     "execution_count": 7,
     "metadata": {},
     "output_type": "execute_result"
    }
   ],
   "source": [
    "y_train"
   ],
   "metadata": {
    "collapsed": false,
    "ExecuteTime": {
     "end_time": "2023-11-27T06:00:07.385515Z",
     "start_time": "2023-11-27T06:00:07.378271Z"
    }
   },
   "id": "3e29fd568131b644"
  },
  {
   "cell_type": "code",
   "execution_count": 8,
   "outputs": [],
   "source": [
    "T_train = tf.keras.utils.to_categorical(y_train, 10)\n",
    "T_test = tf.keras.utils.to_categorical(y_test, 10)"
   ],
   "metadata": {
    "collapsed": false,
    "ExecuteTime": {
     "end_time": "2023-11-27T06:00:08.464100Z",
     "start_time": "2023-11-27T06:00:08.454776Z"
    }
   },
   "id": "61a81711d92ff32"
  },
  {
   "cell_type": "code",
   "execution_count": 9,
   "outputs": [],
   "source": [
    "# T_train"
   ],
   "metadata": {
    "collapsed": false,
    "ExecuteTime": {
     "end_time": "2023-11-27T06:00:13.496420Z",
     "start_time": "2023-11-27T06:00:13.488672Z"
    }
   },
   "id": "638803e2c2fcb8b"
  },
  {
   "cell_type": "code",
   "execution_count": 10,
   "outputs": [
    {
     "name": "stderr",
     "output_type": "stream",
     "text": [
      "2023-11-27 11:30:14.295179: I metal_plugin/src/device/metal_device.cc:1154] Metal device set to: Apple M2\n",
      "2023-11-27 11:30:14.295243: I metal_plugin/src/device/metal_device.cc:296] systemMemory: 8.00 GB\n",
      "2023-11-27 11:30:14.295256: I metal_plugin/src/device/metal_device.cc:313] maxCacheSize: 2.67 GB\n",
      "2023-11-27 11:30:14.295298: I tensorflow/core/common_runtime/pluggable_device/pluggable_device_factory.cc:306] Could not identify NUMA node of platform GPU ID 0, defaulting to 0. Your kernel may not have been built with NUMA support.\n",
      "2023-11-27 11:30:14.295316: I tensorflow/core/common_runtime/pluggable_device/pluggable_device_factory.cc:272] Created TensorFlow device (/job:localhost/replica:0/task:0/device:GPU:0 with 0 MB memory) -> physical PluggableDevice (device: 0, name: METAL, pci bus id: <undefined>)\n"
     ]
    }
   ],
   "source": [
    "model = tf.keras.models.Sequential()"
   ],
   "metadata": {
    "collapsed": false,
    "ExecuteTime": {
     "end_time": "2023-11-27T06:00:14.325732Z",
     "start_time": "2023-11-27T06:00:14.284807Z"
    }
   },
   "id": "bd64e16e35db9a69"
  },
  {
   "cell_type": "code",
   "execution_count": 11,
   "outputs": [],
   "source": [
    "model.add(tf.keras.layers.Input(shape=(28,28,1)))"
   ],
   "metadata": {
    "collapsed": false,
    "ExecuteTime": {
     "end_time": "2023-11-27T06:00:15.099051Z",
     "start_time": "2023-11-27T06:00:15.094489Z"
    }
   },
   "id": "ac5d1530557179e4"
  },
  {
   "cell_type": "markdown",
   "source": [
    "## First convolution layer"
   ],
   "metadata": {
    "collapsed": false
   },
   "id": "de30dae1842c0d8d"
  },
  {
   "cell_type": "code",
   "execution_count": 12,
   "outputs": [],
   "source": [
    "model.add(tf.keras.layers.Conv2D(16,(3,3)))\n",
    "model.add(tf.keras.layers.Activation('relu'))\n",
    "model.add(tf.keras.layers.MaxPooling2D(pool_size = (3,3)))"
   ],
   "metadata": {
    "collapsed": false,
    "ExecuteTime": {
     "end_time": "2023-11-27T06:00:16.867213Z",
     "start_time": "2023-11-27T06:00:16.790884Z"
    }
   },
   "id": "cfe2de2fea6e861b"
  },
  {
   "cell_type": "markdown",
   "source": [
    "## Second Convolution layer"
   ],
   "metadata": {
    "collapsed": false
   },
   "id": "3af16d30f9dde524"
  },
  {
   "cell_type": "code",
   "execution_count": 13,
   "outputs": [],
   "source": [
    "model.add(tf.keras.layers.Conv2D(16,(3,3)))\n",
    "model.add(tf.keras.layers.Activation('relu'))\n",
    "model.add(tf.keras.layers.MaxPooling2D(pool_size = (2,2)))"
   ],
   "metadata": {
    "collapsed": false,
    "ExecuteTime": {
     "end_time": "2023-11-27T06:00:18.225488Z",
     "start_time": "2023-11-27T06:00:18.199669Z"
    }
   },
   "id": "9805ba02603363df"
  },
  {
   "cell_type": "markdown",
   "source": [
    "## Flatten the layer"
   ],
   "metadata": {
    "collapsed": false
   },
   "id": "ad917fdfbc0415ca"
  },
  {
   "cell_type": "code",
   "execution_count": 14,
   "outputs": [],
   "source": [
    "model.add(tf.keras.layers.Flatten())"
   ],
   "metadata": {
    "collapsed": false,
    "ExecuteTime": {
     "end_time": "2023-11-27T06:00:19.370498Z",
     "start_time": "2023-11-27T06:00:19.368592Z"
    }
   },
   "id": "6eca8b52ebb86ede"
  },
  {
   "cell_type": "markdown",
   "source": [
    "## Add a dense layer"
   ],
   "metadata": {
    "collapsed": false
   },
   "id": "6f2e80725c3a84be"
  },
  {
   "cell_type": "code",
   "execution_count": 15,
   "outputs": [],
   "source": [
    "model.add(tf.keras.layers.Dense(units=100))\n",
    "model.add(tf.keras.layers.Activation('relu'))"
   ],
   "metadata": {
    "collapsed": false,
    "ExecuteTime": {
     "end_time": "2023-11-27T06:00:21.290177Z",
     "start_time": "2023-11-27T06:00:21.255681Z"
    }
   },
   "id": "b416a70d134e8530"
  },
  {
   "cell_type": "markdown",
   "source": [
    "## Add the output layer"
   ],
   "metadata": {
    "collapsed": false
   },
   "id": "61e9702ea30f0e17"
  },
  {
   "cell_type": "code",
   "execution_count": 16,
   "outputs": [],
   "source": [
    "model.add(tf.keras.layers.Dense(units=10))\n",
    "model.add(tf.keras.layers.Activation('softmax'))"
   ],
   "metadata": {
    "collapsed": false,
    "ExecuteTime": {
     "end_time": "2023-11-27T06:00:22.992748Z",
     "start_time": "2023-11-27T06:00:22.971991Z"
    }
   },
   "id": "d3190496588c3ff1"
  },
  {
   "cell_type": "code",
   "execution_count": null,
   "outputs": [],
   "source": [
    "model.compile(optimizer='adam',loss='categorical_crossentropy',metrics = ['accuracy'])"
   ],
   "metadata": {
    "collapsed": false
   },
   "id": "d7b461a23fe2e7eb"
  },
  {
   "cell_type": "code",
   "execution_count": 17,
   "outputs": [
    {
     "name": "stdout",
     "output_type": "stream",
     "text": [
      "Model: \"sequential\"\n",
      "_________________________________________________________________\n",
      " Layer (type)                Output Shape              Param #   \n",
      "=================================================================\n",
      " conv2d (Conv2D)             (None, 26, 26, 16)        160       \n",
      "                                                                 \n",
      " activation (Activation)     (None, 26, 26, 16)        0         \n",
      "                                                                 \n",
      " max_pooling2d (MaxPooling2  (None, 8, 8, 16)          0         \n",
      " D)                                                              \n",
      "                                                                 \n",
      " conv2d_1 (Conv2D)           (None, 6, 6, 16)          2320      \n",
      "                                                                 \n",
      " activation_1 (Activation)   (None, 6, 6, 16)          0         \n",
      "                                                                 \n",
      " max_pooling2d_1 (MaxPoolin  (None, 3, 3, 16)          0         \n",
      " g2D)                                                            \n",
      "                                                                 \n",
      " flatten (Flatten)           (None, 144)               0         \n",
      "                                                                 \n",
      " dense (Dense)               (None, 100)               14500     \n",
      "                                                                 \n",
      " activation_2 (Activation)   (None, 100)               0         \n",
      "                                                                 \n",
      " dense_1 (Dense)             (None, 10)                1010      \n",
      "                                                                 \n",
      " activation_3 (Activation)   (None, 10)                0         \n",
      "                                                                 \n",
      "=================================================================\n",
      "Total params: 17990 (70.27 KB)\n",
      "Trainable params: 17990 (70.27 KB)\n",
      "Non-trainable params: 0 (0.00 Byte)\n",
      "_________________________________________________________________\n"
     ]
    }
   ],
   "source": [
    "model.summary()"
   ],
   "metadata": {
    "collapsed": false,
    "ExecuteTime": {
     "end_time": "2023-11-27T06:00:26.606487Z",
     "start_time": "2023-11-27T06:00:26.580225Z"
    }
   },
   "id": "bf3b64c2d21ff805"
  },
  {
   "cell_type": "code",
   "execution_count": null,
   "outputs": [],
   "source": [
    "model.fit(X_train,T_train,batch_size = 64,epochs = 10)"
   ],
   "metadata": {
    "collapsed": false
   },
   "id": "5870a785c2c6f7b"
  },
  {
   "cell_type": "code",
   "execution_count": null,
   "outputs": [],
   "source": [
    "# score = model.evaluate(X_test,T_test)   \n",
    "# print(score[0],score[1])"
   ],
   "metadata": {
    "collapsed": false
   },
   "id": "d854c2c6a1f73856"
  },
  {
   "cell_type": "code",
   "execution_count": null,
   "outputs": [],
   "source": [],
   "metadata": {
    "collapsed": false
   },
   "id": "3c7cb90eceeb5ac9"
  }
 ],
 "metadata": {
  "kernelspec": {
   "display_name": "Python 3",
   "language": "python",
   "name": "python3"
  },
  "language_info": {
   "codemirror_mode": {
    "name": "ipython",
    "version": 2
   },
   "file_extension": ".py",
   "mimetype": "text/x-python",
   "name": "python",
   "nbconvert_exporter": "python",
   "pygments_lexer": "ipython2",
   "version": "2.7.6"
  }
 },
 "nbformat": 4,
 "nbformat_minor": 5
}
