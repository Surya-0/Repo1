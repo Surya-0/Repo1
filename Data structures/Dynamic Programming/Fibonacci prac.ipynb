{
 "cells": [
  {
   "cell_type": "markdown",
   "source": [
    "## With DP"
   ],
   "metadata": {
    "collapsed": false
   },
   "id": "402354ebc2c86d19"
  },
  {
   "cell_type": "code",
   "execution_count": 9,
   "id": "initial_id",
   "metadata": {
    "collapsed": true,
    "ExecuteTime": {
     "end_time": "2023-11-12T12:41:34.079845Z",
     "start_time": "2023-11-12T12:41:34.068758Z"
    }
   },
   "outputs": [
    {
     "name": "stdout",
     "output_type": "stream",
     "text": [
      "102334155\n",
      "0.00012683868408203125\n"
     ]
    }
   ],
   "source": [
    "import time\n",
    "start_time = time.time()\n",
    "n = 40\n",
    "m = [None]*(n+1)\n",
    "m[0] = 0\n",
    "m[1] = 1\n",
    "def fib(n):\n",
    "    if m[n] == None:\n",
    "        m[n] = fib(n-1)+fib(n-2)\n",
    "    return m[n]\n",
    "end_time = time.time()\n",
    "a = fib(n)\n",
    "print(a)\n",
    "print(end_time - start_time)\n"
   ]
  },
  {
   "cell_type": "markdown",
   "source": [
    "## Without DP"
   ],
   "metadata": {
    "collapsed": false
   },
   "id": "71706fb5fe8bf33c"
  },
  {
   "cell_type": "code",
   "execution_count": 10,
   "outputs": [
    {
     "name": "stdout",
     "output_type": "stream",
     "text": [
      "11.519397020339966\n",
      "102334155\n"
     ]
    }
   ],
   "source": [
    "import time\n",
    "start_time = time.time()\n",
    "n = 40\n",
    "def fib(n):\n",
    "    if n == 0 or n == 1:\n",
    "        return n\n",
    "    else:\n",
    "        return fib(n-1)+fib(n-2)\n",
    "x = fib(n)\n",
    "end_time = time.time()\n",
    "print(end_time - start_time)\n",
    "print(x)"
   ],
   "metadata": {
    "collapsed": false,
    "ExecuteTime": {
     "end_time": "2023-11-12T12:41:45.598513Z",
     "start_time": "2023-11-12T12:41:34.110178Z"
    }
   },
   "id": "761329d879f086eb"
  }
 ],
 "metadata": {
  "kernelspec": {
   "display_name": "Python 3",
   "language": "python",
   "name": "python3"
  },
  "language_info": {
   "codemirror_mode": {
    "name": "ipython",
    "version": 2
   },
   "file_extension": ".py",
   "mimetype": "text/x-python",
   "name": "python",
   "nbconvert_exporter": "python",
   "pygments_lexer": "ipython2",
   "version": "2.7.6"
  }
 },
 "nbformat": 4,
 "nbformat_minor": 5
}
