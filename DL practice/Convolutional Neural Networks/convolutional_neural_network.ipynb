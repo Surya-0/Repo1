{
 "cells": [
  {
   "cell_type": "markdown",
   "metadata": {
    "colab_type": "text",
    "id": "3DR-eO17geWu"
   },
   "source": [
    "# Convolutional Neural Network"
   ]
  },
  {
   "cell_type": "markdown",
   "metadata": {
    "colab_type": "text",
    "id": "EMefrVPCg-60"
   },
   "source": [
    "### Importing the libraries"
   ]
  },
  {
   "cell_type": "code",
   "execution_count": 1,
   "metadata": {
    "colab": {},
    "colab_type": "code",
    "id": "sCV30xyVhFbE",
    "ExecuteTime": {
     "end_time": "2023-11-20T17:04:54.291970Z",
     "start_time": "2023-11-20T17:04:52.363164Z"
    }
   },
   "outputs": [],
   "source": [
    "import tensorflow as tf\n",
    "from tensorflow.keras.preprocessing.image import ImageDataGenerator"
   ]
  },
  {
   "cell_type": "code",
   "execution_count": 2,
   "metadata": {
    "colab": {},
    "colab_type": "code",
    "id": "FIleuCAjoFD8",
    "ExecuteTime": {
     "end_time": "2023-11-20T17:04:55.262313Z",
     "start_time": "2023-11-20T17:04:55.253380Z"
    }
   },
   "outputs": [
    {
     "data": {
      "text/plain": "'2.15.0'"
     },
     "execution_count": 2,
     "metadata": {},
     "output_type": "execute_result"
    }
   ],
   "source": [
    "tf.__version__"
   ]
  },
  {
   "cell_type": "markdown",
   "metadata": {
    "colab_type": "text",
    "id": "oxQxCBWyoGPE"
   },
   "source": [
    "## Part 1 - Data Preprocessing"
   ]
  },
  {
   "cell_type": "markdown",
   "metadata": {
    "colab_type": "text",
    "id": "MvE-heJNo3GG"
   },
   "source": [
    "### Preprocessing the Training set"
   ]
  },
  {
   "cell_type": "code",
   "execution_count": 3,
   "metadata": {
    "colab": {},
    "colab_type": "code",
    "id": "0koUcJMJpEBD",
    "ExecuteTime": {
     "end_time": "2023-11-20T17:04:57.358219Z",
     "start_time": "2023-11-20T17:04:57.191131Z"
    }
   },
   "outputs": [
    {
     "name": "stdout",
     "output_type": "stream",
     "text": [
      "Found 7991 images belonging to 2 classes.\n"
     ]
    }
   ],
   "source": [
    "train_datagen = ImageDataGenerator(rescale = 1./255,\n",
    "                                   shear_range = 0.2,\n",
    "                                   zoom_range = 0.2,\n",
    "                                   horizontal_flip = True)\n",
    "training_set = train_datagen.flow_from_directory('dataset/training_set',\n",
    "                                                 target_size = (64, 64),\n",
    "                                                 batch_size = 32,\n",
    "                                                 class_mode = 'binary')"
   ]
  },
  {
   "cell_type": "markdown",
   "metadata": {
    "colab_type": "text",
    "id": "mrCMmGw9pHys"
   },
   "source": [
    "### Preprocessing the Test set"
   ]
  },
  {
   "cell_type": "code",
   "execution_count": 4,
   "metadata": {
    "colab": {},
    "colab_type": "code",
    "id": "SH4WzfOhpKc3",
    "ExecuteTime": {
     "end_time": "2023-11-20T17:04:59.317979Z",
     "start_time": "2023-11-20T17:04:59.272349Z"
    }
   },
   "outputs": [
    {
     "name": "stdout",
     "output_type": "stream",
     "text": [
      "Found 1999 images belonging to 2 classes.\n"
     ]
    }
   ],
   "source": [
    "test_datagen = ImageDataGenerator(rescale = 1./255)\n",
    "test_set = test_datagen.flow_from_directory('dataset/test_set',\n",
    "                                            target_size = (64, 64),\n",
    "                                            batch_size = 32,\n",
    "                                            class_mode = 'binary')"
   ]
  },
  {
   "cell_type": "markdown",
   "metadata": {
    "colab_type": "text",
    "id": "af8O4l90gk7B"
   },
   "source": [
    "## Part 2 - Building the CNN"
   ]
  },
  {
   "cell_type": "markdown",
   "metadata": {
    "colab_type": "text",
    "id": "ces1gXY2lmoX"
   },
   "source": [
    "### Initialising the CNN"
   ]
  },
  {
   "cell_type": "code",
   "execution_count": 5,
   "metadata": {
    "colab": {},
    "colab_type": "code",
    "id": "SAUt4UMPlhLS",
    "ExecuteTime": {
     "end_time": "2023-11-20T17:05:02.555416Z",
     "start_time": "2023-11-20T17:05:02.393823Z"
    }
   },
   "outputs": [
    {
     "name": "stderr",
     "output_type": "stream",
     "text": [
      "2023-11-20 22:35:02.401373: I metal_plugin/src/device/metal_device.cc:1154] Metal device set to: Apple M2\n",
      "2023-11-20 22:35:02.401439: I metal_plugin/src/device/metal_device.cc:296] systemMemory: 8.00 GB\n",
      "2023-11-20 22:35:02.401449: I metal_plugin/src/device/metal_device.cc:313] maxCacheSize: 2.67 GB\n",
      "2023-11-20 22:35:02.401495: I tensorflow/core/common_runtime/pluggable_device/pluggable_device_factory.cc:306] Could not identify NUMA node of platform GPU ID 0, defaulting to 0. Your kernel may not have been built with NUMA support.\n",
      "2023-11-20 22:35:02.401514: I tensorflow/core/common_runtime/pluggable_device/pluggable_device_factory.cc:272] Created TensorFlow device (/job:localhost/replica:0/task:0/device:GPU:0 with 0 MB memory) -> physical PluggableDevice (device: 0, name: METAL, pci bus id: <undefined>)\n"
     ]
    }
   ],
   "source": [
    "cnn = tf.keras.models.Sequential()"
   ]
  },
  {
   "cell_type": "markdown",
   "metadata": {
    "colab_type": "text",
    "id": "u5YJj_XMl5LF"
   },
   "source": [
    "### Step 1 - Convolution"
   ]
  },
  {
   "cell_type": "code",
   "execution_count": 6,
   "metadata": {
    "colab": {},
    "colab_type": "code",
    "id": "XPzPrMckl-hV",
    "ExecuteTime": {
     "end_time": "2023-11-20T17:05:13.728737Z",
     "start_time": "2023-11-20T17:05:13.261285Z"
    }
   },
   "outputs": [],
   "source": [
    "cnn.add(tf.keras.layers.Conv2D(filters=32, kernel_size=3, activation='relu', input_shape=[64, 64, 3]))"
   ]
  },
  {
   "cell_type": "markdown",
   "metadata": {
    "colab_type": "text",
    "id": "tf87FpvxmNOJ"
   },
   "source": [
    "### Step 2 - Pooling"
   ]
  },
  {
   "cell_type": "code",
   "execution_count": 7,
   "metadata": {
    "colab": {},
    "colab_type": "code",
    "id": "ncpqPl69mOac",
    "ExecuteTime": {
     "end_time": "2023-11-20T17:05:14.907666Z",
     "start_time": "2023-11-20T17:05:14.901051Z"
    }
   },
   "outputs": [],
   "source": [
    "cnn.add(tf.keras.layers.MaxPool2D(pool_size=2, strides=2))"
   ]
  },
  {
   "cell_type": "markdown",
   "metadata": {
    "colab_type": "text",
    "id": "xaTOgD8rm4mU"
   },
   "source": [
    "### Adding a second convolutional layer"
   ]
  },
  {
   "cell_type": "code",
   "execution_count": 8,
   "metadata": {
    "colab": {},
    "colab_type": "code",
    "id": "i_-FZjn_m8gk",
    "ExecuteTime": {
     "end_time": "2023-11-20T17:05:16.455222Z",
     "start_time": "2023-11-20T17:05:16.434911Z"
    }
   },
   "outputs": [],
   "source": [
    "cnn.add(tf.keras.layers.Conv2D(filters=32, kernel_size=3, activation='relu'))\n",
    "cnn.add(tf.keras.layers.MaxPool2D(pool_size=2, strides=2))"
   ]
  },
  {
   "cell_type": "markdown",
   "metadata": {
    "colab_type": "text",
    "id": "tmiEuvTunKfk"
   },
   "source": [
    "### Step 3 - Flattening"
   ]
  },
  {
   "cell_type": "code",
   "execution_count": 9,
   "metadata": {
    "colab": {},
    "colab_type": "code",
    "id": "6AZeOGCvnNZn",
    "ExecuteTime": {
     "end_time": "2023-11-20T17:05:18.222571Z",
     "start_time": "2023-11-20T17:05:18.215442Z"
    }
   },
   "outputs": [],
   "source": [
    "cnn.add(tf.keras.layers.Flatten())"
   ]
  },
  {
   "cell_type": "markdown",
   "metadata": {
    "colab_type": "text",
    "id": "dAoSECOm203v"
   },
   "source": [
    "### Step 4 - Full Connection"
   ]
  },
  {
   "cell_type": "code",
   "execution_count": 10,
   "metadata": {
    "colab": {},
    "colab_type": "code",
    "id": "8GtmUlLd26Nq",
    "ExecuteTime": {
     "end_time": "2023-11-20T17:05:19.849952Z",
     "start_time": "2023-11-20T17:05:19.804094Z"
    }
   },
   "outputs": [],
   "source": [
    "cnn.add(tf.keras.layers.Dense(units=128, activation='relu'))"
   ]
  },
  {
   "cell_type": "markdown",
   "metadata": {
    "colab_type": "text",
    "id": "yTldFvbX28Na"
   },
   "source": [
    "### Step 5 - Output Layer"
   ]
  },
  {
   "cell_type": "code",
   "execution_count": 11,
   "metadata": {
    "colab": {},
    "colab_type": "code",
    "id": "1p_Zj1Mc3Ko_",
    "ExecuteTime": {
     "end_time": "2023-11-20T17:05:22.285929Z",
     "start_time": "2023-11-20T17:05:22.105309Z"
    }
   },
   "outputs": [],
   "source": [
    "cnn.add(tf.keras.layers.Dense(units=1, activation='sigmoid'))"
   ]
  },
  {
   "cell_type": "markdown",
   "metadata": {
    "colab_type": "text",
    "id": "D6XkI90snSDl"
   },
   "source": [
    "## Part 3 - Training the CNN"
   ]
  },
  {
   "cell_type": "markdown",
   "metadata": {
    "colab_type": "text",
    "id": "vfrFQACEnc6i"
   },
   "source": [
    "### Compiling the CNN"
   ]
  },
  {
   "cell_type": "code",
   "execution_count": 12,
   "metadata": {
    "colab": {},
    "colab_type": "code",
    "id": "NALksrNQpUlJ",
    "ExecuteTime": {
     "end_time": "2023-11-20T17:05:24.275083Z",
     "start_time": "2023-11-20T17:05:24.260415Z"
    }
   },
   "outputs": [],
   "source": [
    "cnn.compile(loss = 'binary_crossentropy', metrics = ['accuracy'])"
   ]
  },
  {
   "cell_type": "markdown",
   "metadata": {
    "colab_type": "text",
    "id": "ehS-v3MIpX2h"
   },
   "source": [
    "### Training the CNN on the Training set and evaluating it on the Test set"
   ]
  },
  {
   "cell_type": "code",
   "execution_count": 13,
   "metadata": {
    "colab": {},
    "colab_type": "code",
    "id": "XUj1W4PJptta",
    "ExecuteTime": {
     "end_time": "2023-11-20T17:12:03.151049Z",
     "start_time": "2023-11-20T17:05:25.998085Z"
    }
   },
   "outputs": [
    {
     "name": "stdout",
     "output_type": "stream",
     "text": [
      "Epoch 1/25\n"
     ]
    },
    {
     "name": "stderr",
     "output_type": "stream",
     "text": [
      "2023-11-20 22:35:26.360688: I tensorflow/core/grappler/optimizers/custom_graph_optimizer_registry.cc:117] Plugin optimizer for device_type GPU is enabled.\n"
     ]
    },
    {
     "name": "stdout",
     "output_type": "stream",
     "text": [
      "250/250 [==============================] - 20s 70ms/step - loss: 0.6891 - accuracy: 0.5858 - val_loss: 0.6891 - val_accuracy: 0.6143\n",
      "Epoch 2/25\n",
      "250/250 [==============================] - 16s 63ms/step - loss: 0.6136 - accuracy: 0.6678 - val_loss: 0.5952 - val_accuracy: 0.6988\n",
      "Epoch 3/25\n",
      "250/250 [==============================] - 16s 62ms/step - loss: 0.5822 - accuracy: 0.7017 - val_loss: 0.5521 - val_accuracy: 0.7204\n",
      "Epoch 4/25\n",
      "250/250 [==============================] - 16s 63ms/step - loss: 0.5639 - accuracy: 0.7131 - val_loss: 0.5921 - val_accuracy: 0.7094\n",
      "Epoch 5/25\n",
      "250/250 [==============================] - 16s 64ms/step - loss: 0.6077 - accuracy: 0.6864 - val_loss: 0.9483 - val_accuracy: 0.5908\n",
      "Epoch 6/25\n",
      "250/250 [==============================] - 16s 64ms/step - loss: 0.6664 - accuracy: 0.6621 - val_loss: 0.9773 - val_accuracy: 0.5713\n",
      "Epoch 7/25\n",
      "250/250 [==============================] - 16s 65ms/step - loss: 0.6886 - accuracy: 0.6519 - val_loss: 0.7385 - val_accuracy: 0.6298\n",
      "Epoch 8/25\n",
      "250/250 [==============================] - 16s 65ms/step - loss: 0.6515 - accuracy: 0.6761 - val_loss: 0.5215 - val_accuracy: 0.7484\n",
      "Epoch 9/25\n",
      "250/250 [==============================] - 16s 62ms/step - loss: 0.6178 - accuracy: 0.6860 - val_loss: 0.6220 - val_accuracy: 0.6708\n",
      "Epoch 10/25\n",
      "250/250 [==============================] - 16s 62ms/step - loss: 0.5917 - accuracy: 0.6992 - val_loss: 0.5777 - val_accuracy: 0.7254\n",
      "Epoch 11/25\n",
      "250/250 [==============================] - 16s 63ms/step - loss: 0.5711 - accuracy: 0.7098 - val_loss: 0.5030 - val_accuracy: 0.7549\n",
      "Epoch 12/25\n",
      "250/250 [==============================] - 16s 64ms/step - loss: 0.5376 - accuracy: 0.7293 - val_loss: 0.5052 - val_accuracy: 0.7524\n",
      "Epoch 13/25\n",
      "250/250 [==============================] - 16s 63ms/step - loss: 0.5312 - accuracy: 0.7341 - val_loss: 0.5673 - val_accuracy: 0.7219\n",
      "Epoch 14/25\n",
      "250/250 [==============================] - 15s 62ms/step - loss: 0.5315 - accuracy: 0.7371 - val_loss: 0.5377 - val_accuracy: 0.7504\n",
      "Epoch 15/25\n",
      "250/250 [==============================] - 15s 61ms/step - loss: 0.5433 - accuracy: 0.7311 - val_loss: 0.5599 - val_accuracy: 0.7304\n",
      "Epoch 16/25\n",
      "250/250 [==============================] - 15s 61ms/step - loss: 0.5432 - accuracy: 0.7393 - val_loss: 0.5431 - val_accuracy: 0.7409\n",
      "Epoch 17/25\n",
      "250/250 [==============================] - 15s 62ms/step - loss: 0.5496 - accuracy: 0.7420 - val_loss: 0.5237 - val_accuracy: 0.7484\n",
      "Epoch 18/25\n",
      "250/250 [==============================] - 15s 62ms/step - loss: 0.5879 - accuracy: 0.7279 - val_loss: 0.9238 - val_accuracy: 0.6413\n",
      "Epoch 19/25\n",
      "250/250 [==============================] - 15s 61ms/step - loss: 0.6094 - accuracy: 0.7196 - val_loss: 0.5206 - val_accuracy: 0.7619\n",
      "Epoch 20/25\n",
      "250/250 [==============================] - 15s 62ms/step - loss: 0.6429 - accuracy: 0.7078 - val_loss: 0.6000 - val_accuracy: 0.7524\n",
      "Epoch 21/25\n",
      "250/250 [==============================] - 15s 62ms/step - loss: 0.6425 - accuracy: 0.7114 - val_loss: 0.6253 - val_accuracy: 0.7344\n",
      "Epoch 22/25\n",
      "250/250 [==============================] - 15s 62ms/step - loss: 0.6658 - accuracy: 0.7072 - val_loss: 0.6366 - val_accuracy: 0.7289\n",
      "Epoch 23/25\n",
      "250/250 [==============================] - 15s 61ms/step - loss: 0.6702 - accuracy: 0.7201 - val_loss: 0.8568 - val_accuracy: 0.6668\n",
      "Epoch 24/25\n",
      "250/250 [==============================] - 15s 62ms/step - loss: 0.7194 - accuracy: 0.6960 - val_loss: 0.5947 - val_accuracy: 0.7379\n",
      "Epoch 25/25\n",
      "250/250 [==============================] - 17s 67ms/step - loss: 0.7561 - accuracy: 0.6947 - val_loss: 0.8875 - val_accuracy: 0.6748\n"
     ]
    },
    {
     "data": {
      "text/plain": "<keras.src.callbacks.History at 0x289018d60>"
     },
     "execution_count": 13,
     "metadata": {},
     "output_type": "execute_result"
    }
   ],
   "source": [
    "cnn.fit(x = training_set, validation_data = test_set, epochs = 25)"
   ]
  },
  {
   "cell_type": "markdown",
   "metadata": {
    "colab_type": "text",
    "id": "U3PZasO0006Z"
   },
   "source": [
    "## Part 4 - Making a single prediction"
   ]
  },
  {
   "cell_type": "code",
   "execution_count": null,
   "metadata": {
    "colab": {},
    "colab_type": "code",
    "id": "gsSiWEJY1BPB",
    "ExecuteTime": {
     "end_time": "2023-11-18T10:34:25.488923Z",
     "start_time": "2023-11-18T10:34:25.488436Z"
    }
   },
   "outputs": [],
   "source": [
    "import numpy as np\n",
    "from keras.utils import load_img\n",
    "from keras.utils import img_to_array\n",
    "test_image = load_img('dataset/single_prediction/catordog6.jpg', target_size = (64, 64))\n",
    "test_image = img_to_array(test_image)\n",
    "test_image = np.expand_dims(test_image, axis = 0)\n",
    "result = cnn.predict(test_image)\n",
    "training_set.class_indices\n",
    "if result[0][0] == 1:\n",
    "  prediction = 'dog'\n",
    "else:\n",
    "  prediction = 'cat'"
   ]
  },
  {
   "cell_type": "code",
   "execution_count": null,
   "metadata": {
    "colab": {},
    "colab_type": "code",
    "id": "ED9KB3I54c1i",
    "ExecuteTime": {
     "start_time": "2023-11-18T10:34:25.489901Z"
    }
   },
   "outputs": [],
   "source": [
    "print(prediction)"
   ]
  },
  {
   "cell_type": "code",
   "execution_count": null,
   "outputs": [],
   "source": [
    "pip list"
   ],
   "metadata": {
    "collapsed": false,
    "ExecuteTime": {
     "start_time": "2023-11-18T10:34:25.490838Z"
    }
   }
  },
  {
   "cell_type": "code",
   "execution_count": null,
   "outputs": [],
   "source": [
    "import tensorflow as tf\n",
    "\n",
    "cifar = tf.keras.datasets.cifar100\n",
    "(x_train, y_train), (x_test, y_test) = cifar.load_data()\n",
    "model = tf.keras.applications.ResNet50(\n",
    "    include_top=True,\n",
    "    weights=None,\n",
    "    input_shape=(32, 32, 3),\n",
    "    classes=100,)\n",
    "\n",
    "loss_fn = tf.keras.losses.SparseCategoricalCrossentropy(from_logits=False)\n",
    "model.compile(optimizer=\"adam\", loss=loss_fn, metrics=[\"accuracy\"])\n",
    "model.fit(x_train, y_train, epochs=5, batch_size=64)"
   ],
   "metadata": {
    "collapsed": false,
    "ExecuteTime": {
     "start_time": "2023-11-18T10:34:25.491645Z"
    }
   }
  },
  {
   "cell_type": "code",
   "execution_count": null,
   "outputs": [],
   "source": [
    "import tensorflow as tf\n",
    "\n",
    "cifar = tf.keras.datasets.cifar100\n",
    "(x_train, y_train), (x_test, y_test) = cifar.load_data()\n",
    "model = tf.keras.applications.ResNet50(\n",
    "    include_top=True,\n",
    "    weights=None,\n",
    "    input_shape=(32, 32, 3),\n",
    "    classes=100,)\n",
    "\n",
    "loss_fn = tf.keras.losses.SparseCategoricalCrossentropy(from_logits=False)\n",
    "model.compile(optimizer=\"adam\", loss=loss_fn, metrics=[\"accuracy\"])\n",
    "model.fit(x_train, y_train, epochs=5, batch_size=64)"
   ],
   "metadata": {
    "collapsed": false,
    "ExecuteTime": {
     "start_time": "2023-11-18T10:34:25.492354Z"
    }
   }
  }
 ],
 "metadata": {
  "colab": {
   "collapsed_sections": [],
   "name": "convolutional_neural_network.ipynb",
   "provenance": [],
   "toc_visible": true
  },
  "kernelspec": {
   "name": "python3",
   "language": "python",
   "display_name": "Python 3 (ipykernel)"
  },
  "language_info": {
   "codemirror_mode": {
    "name": "ipython",
    "version": 3
   },
   "file_extension": ".py",
   "mimetype": "text/x-python",
   "name": "python",
   "nbconvert_exporter": "python",
   "pygments_lexer": "ipython3",
   "version": "3.11.4"
  }
 },
 "nbformat": 4,
 "nbformat_minor": 0
}
