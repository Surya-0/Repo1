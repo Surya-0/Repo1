{
 "cells": [
  {
   "cell_type": "code",
   "execution_count": 131,
   "id": "initial_id",
   "metadata": {
    "collapsed": true,
    "ExecuteTime": {
     "end_time": "2024-01-09T11:45:59.525484Z",
     "start_time": "2024-01-09T11:45:59.413902Z"
    }
   },
   "outputs": [],
   "source": [
    "from transformers import GPT2Tokenizer,GPT2LMHeadModel,BertTokenizer\n",
    "import torch"
   ]
  },
  {
   "cell_type": "code",
   "execution_count": 2,
   "outputs": [],
   "source": [
    "tokenizer = GPT2Tokenizer.from_pretrained('gpt2-large')"
   ],
   "metadata": {
    "collapsed": false,
    "ExecuteTime": {
     "end_time": "2024-01-08T16:04:56.104642Z",
     "start_time": "2024-01-08T16:04:54.595941Z"
    }
   },
   "id": "df9214fb1326e379"
  },
  {
   "cell_type": "code",
   "execution_count": 63,
   "outputs": [],
   "source": [
    "device = torch.device('mps')"
   ],
   "metadata": {
    "collapsed": false,
    "ExecuteTime": {
     "end_time": "2024-01-09T11:33:45.060473Z",
     "start_time": "2024-01-09T11:33:45.058457Z"
    }
   },
   "id": "42242ee8b6d9d52a"
  },
  {
   "cell_type": "code",
   "execution_count": 64,
   "outputs": [],
   "source": [
    "model = GPT2LMHeadModel.from_pretrained('gpt2-large').to(device)"
   ],
   "metadata": {
    "collapsed": false,
    "ExecuteTime": {
     "end_time": "2024-01-09T11:34:34.446651Z",
     "start_time": "2024-01-09T11:33:49.898132Z"
    }
   },
   "id": "c146fc157cc12a66"
  },
  {
   "cell_type": "code",
   "execution_count": 122,
   "outputs": [],
   "source": [
    "input = \"Give me a python code for generating the first 5 fibonacci numbers\"\n",
    "tokenizer.add_special_tokens({'pad_token': '[PAD]'})\n",
    "train_encoding = tokenizer(input,padding=True,truncation=True)"
   ],
   "metadata": {
    "collapsed": false,
    "ExecuteTime": {
     "end_time": "2024-01-09T11:43:31.749166Z",
     "start_time": "2024-01-09T11:43:31.611809Z"
    }
   },
   "id": "f9f14d469b7d9f94"
  },
  {
   "cell_type": "code",
   "execution_count": 123,
   "outputs": [
    {
     "data": {
      "text/plain": "{'input_ids': [23318, 502, 257, 21015, 2438, 329, 15453, 262, 717, 642, 12900, 261, 44456, 3146], 'attention_mask': [1, 1, 1, 1, 1, 1, 1, 1, 1, 1, 1, 1, 1, 1]}"
     },
     "execution_count": 123,
     "metadata": {},
     "output_type": "execute_result"
    }
   ],
   "source": [
    "train_encoding"
   ],
   "metadata": {
    "collapsed": false,
    "ExecuteTime": {
     "end_time": "2024-01-09T11:43:32.173602Z",
     "start_time": "2024-01-09T11:43:32.148112Z"
    }
   },
   "id": "29b107442354d433"
  },
  {
   "cell_type": "code",
   "execution_count": 124,
   "outputs": [],
   "source": [
    "input_ids = tokenizer.encode(input, return_tensors=\"pt\").to(device)\n",
    "output = model.generate(\n",
    "    input_ids,\n",
    "    max_length=50,\n",
    "    temperature=0.7,\n",
    "    top_k=50,\n",
    "    pad_token_id=tokenizer.eos_token_id,\n",
    "    do_sample=True\n",
    ")"
   ],
   "metadata": {
    "collapsed": false,
    "ExecuteTime": {
     "end_time": "2024-01-09T11:43:51.681076Z",
     "start_time": "2024-01-09T11:43:32.651006Z"
    }
   },
   "id": "4c405efbacfbe3a3"
  },
  {
   "cell_type": "code",
   "execution_count": 125,
   "outputs": [
    {
     "data": {
      "text/plain": "tensor([[23318,   502,   257, 21015,  2438,   329, 15453,   262,   717,   642,\n         12900,   261, 44456,  3146,   357,    72,    13,    68,    13,   352,\n            11,   362,    11,   513,    11,   642,   737,   198,   198,    12,\n            32, 21015,  2438,   329,  5270,   286,   262,   717,   642, 41566,\n           261, 44456,  3146,    13,   198,   198,    12,    32, 21015,  2438]],\n       device='mps:0')"
     },
     "execution_count": 125,
     "metadata": {},
     "output_type": "execute_result"
    }
   ],
   "source": [
    "output"
   ],
   "metadata": {
    "collapsed": false,
    "ExecuteTime": {
     "end_time": "2024-01-09T11:43:51.779304Z",
     "start_time": "2024-01-09T11:43:51.642127Z"
    }
   },
   "id": "d779b9462a7e8bba"
  },
  {
   "cell_type": "code",
   "execution_count": 126,
   "outputs": [
    {
     "data": {
      "text/plain": "tensor([23318,   502,   257, 21015,  2438,   329, 15453,   262,   717,   642,\n        12900,   261, 44456,  3146,   357,    72,    13,    68,    13,   352,\n           11,   362,    11,   513,    11,   642,   737,   198,   198,    12,\n           32, 21015,  2438,   329,  5270,   286,   262,   717,   642, 41566,\n          261, 44456,  3146,    13,   198,   198,    12,    32, 21015,  2438],\n       device='mps:0')"
     },
     "execution_count": 126,
     "metadata": {},
     "output_type": "execute_result"
    }
   ],
   "source": [
    "output[0]"
   ],
   "metadata": {
    "collapsed": false,
    "ExecuteTime": {
     "end_time": "2024-01-09T11:43:51.779960Z",
     "start_time": "2024-01-09T11:43:51.743503Z"
    }
   },
   "id": "2ae94b4c0e243859"
  },
  {
   "cell_type": "code",
   "execution_count": 127,
   "outputs": [
    {
     "data": {
      "text/plain": "'Give me a python code for generating the first 5 fibonacci numbers (i.e. 1, 2, 3, 5).\\n\\n-A python code for generation of the first 5 Fibonacci numbers.\\n\\n-A python code'"
     },
     "execution_count": 127,
     "metadata": {},
     "output_type": "execute_result"
    }
   ],
   "source": [
    "tokenizer.decode(output[0])"
   ],
   "metadata": {
    "collapsed": false,
    "ExecuteTime": {
     "end_time": "2024-01-09T11:43:51.793591Z",
     "start_time": "2024-01-09T11:43:51.747716Z"
    }
   },
   "id": "7eada3179492edef"
  },
  {
   "cell_type": "code",
   "execution_count": 128,
   "outputs": [
    {
     "data": {
      "text/plain": "tensor([[23318,   502,   257, 21015,  2438,   329, 15453,   262,   717,   642,\n         12900,   261, 44456,  3146]])"
     },
     "execution_count": 128,
     "metadata": {},
     "output_type": "execute_result"
    }
   ],
   "source": [
    "tokenizer.encode(input,return_tensors='pt')"
   ],
   "metadata": {
    "collapsed": false,
    "ExecuteTime": {
     "end_time": "2024-01-09T11:43:52.698789Z",
     "start_time": "2024-01-09T11:43:51.752086Z"
    }
   },
   "id": "7769054978333f73"
  },
  {
   "cell_type": "code",
   "execution_count": 129,
   "outputs": [
    {
     "data": {
      "text/plain": "[23318,\n 502,\n 257,\n 21015,\n 2438,\n 329,\n 15453,\n 262,\n 717,\n 642,\n 12900,\n 261,\n 44456,\n 3146]"
     },
     "execution_count": 129,
     "metadata": {},
     "output_type": "execute_result"
    }
   ],
   "source": [
    "tokenizer.encode(input)"
   ],
   "metadata": {
    "collapsed": false,
    "ExecuteTime": {
     "end_time": "2024-01-09T11:43:52.712410Z",
     "start_time": "2024-01-09T11:43:51.778482Z"
    }
   },
   "id": "139765a331720670"
  },
  {
   "cell_type": "code",
   "execution_count": 130,
   "outputs": [
    {
     "data": {
      "text/plain": "['Give',\n 'Ġme',\n 'Ġa',\n 'Ġpython',\n 'Ġcode',\n 'Ġfor',\n 'Ġgenerating',\n 'Ġthe',\n 'Ġfirst',\n 'Ġ5',\n 'Ġfib',\n 'on',\n 'acci',\n 'Ġnumbers']"
     },
     "execution_count": 130,
     "metadata": {},
     "output_type": "execute_result"
    }
   ],
   "source": [
    "tokenizer.tokenize(input)"
   ],
   "metadata": {
    "collapsed": false,
    "ExecuteTime": {
     "end_time": "2024-01-09T11:43:52.713181Z",
     "start_time": "2024-01-09T11:43:51.781666Z"
    }
   },
   "id": "e27bcb25a26f89f6"
  },
  {
   "cell_type": "code",
   "execution_count": 132,
   "outputs": [],
   "source": [
    "bert_tokenizer = BertTokenizer.from_pretrained('bert-base-uncased')"
   ],
   "metadata": {
    "collapsed": false,
    "ExecuteTime": {
     "end_time": "2024-01-09T11:46:54.863895Z",
     "start_time": "2024-01-09T11:46:54.368241Z"
    }
   },
   "id": "ef867c988d994556"
  },
  {
   "cell_type": "code",
   "execution_count": 133,
   "outputs": [
    {
     "data": {
      "text/plain": "BertTokenizer(name_or_path='bert-base-uncased', vocab_size=30522, model_max_length=512, is_fast=False, padding_side='right', truncation_side='right', special_tokens={'unk_token': '[UNK]', 'sep_token': '[SEP]', 'pad_token': '[PAD]', 'cls_token': '[CLS]', 'mask_token': '[MASK]'}, clean_up_tokenization_spaces=True),  added_tokens_decoder={\n\t0: AddedToken(\"[PAD]\", rstrip=False, lstrip=False, single_word=False, normalized=False, special=True),\n\t100: AddedToken(\"[UNK]\", rstrip=False, lstrip=False, single_word=False, normalized=False, special=True),\n\t101: AddedToken(\"[CLS]\", rstrip=False, lstrip=False, single_word=False, normalized=False, special=True),\n\t102: AddedToken(\"[SEP]\", rstrip=False, lstrip=False, single_word=False, normalized=False, special=True),\n\t103: AddedToken(\"[MASK]\", rstrip=False, lstrip=False, single_word=False, normalized=False, special=True),\n}"
     },
     "execution_count": 133,
     "metadata": {},
     "output_type": "execute_result"
    }
   ],
   "source": [
    "bert_tokenizer"
   ],
   "metadata": {
    "collapsed": false,
    "ExecuteTime": {
     "end_time": "2024-01-09T11:46:56.720020Z",
     "start_time": "2024-01-09T11:46:56.704977Z"
    }
   },
   "id": "e3dcd402e25880b"
  },
  {
   "cell_type": "code",
   "execution_count": 134,
   "outputs": [
    {
     "data": {
      "text/plain": "GPT2Tokenizer(name_or_path='gpt2-large', vocab_size=50257, model_max_length=1024, is_fast=False, padding_side='right', truncation_side='right', special_tokens={'bos_token': '<|endoftext|>', 'eos_token': '<|endoftext|>', 'unk_token': '<|endoftext|>', 'pad_token': '[PAD]'}, clean_up_tokenization_spaces=True),  added_tokens_decoder={\n\t50256: AddedToken(\"<|endoftext|>\", rstrip=False, lstrip=False, single_word=False, normalized=True, special=True),\n\t50257: AddedToken(\"[PAD]\", rstrip=False, lstrip=False, single_word=False, normalized=False, special=True),\n}"
     },
     "execution_count": 134,
     "metadata": {},
     "output_type": "execute_result"
    }
   ],
   "source": [
    "tokenizer"
   ],
   "metadata": {
    "collapsed": false,
    "ExecuteTime": {
     "end_time": "2024-01-09T11:47:03.599557Z",
     "start_time": "2024-01-09T11:47:03.592022Z"
    }
   },
   "id": "c9d9ed82ea191fb2"
  },
  {
   "cell_type": "code",
   "execution_count": 135,
   "outputs": [
    {
     "data": {
      "text/plain": "['give',\n 'me',\n 'a',\n 'python',\n 'code',\n 'for',\n 'generating',\n 'the',\n 'first',\n '5',\n 'fi',\n '##bon',\n '##ac',\n '##ci',\n 'numbers']"
     },
     "execution_count": 135,
     "metadata": {},
     "output_type": "execute_result"
    }
   ],
   "source": [
    "bert_tokenizer.tokenize(input)"
   ],
   "metadata": {
    "collapsed": false,
    "ExecuteTime": {
     "end_time": "2024-01-09T11:49:25.253117Z",
     "start_time": "2024-01-09T11:49:25.226978Z"
    }
   },
   "id": "b28c64535678ca0c"
  },
  {
   "cell_type": "code",
   "execution_count": 136,
   "outputs": [
    {
     "data": {
      "text/plain": "30522"
     },
     "execution_count": 136,
     "metadata": {},
     "output_type": "execute_result"
    }
   ],
   "source": [
    "bert_tokenizer.vocab_size"
   ],
   "metadata": {
    "collapsed": false,
    "ExecuteTime": {
     "end_time": "2024-01-09T12:35:36.821593Z",
     "start_time": "2024-01-09T12:35:36.821065Z"
    }
   },
   "id": "57201c0e9b54cfca"
  },
  {
   "cell_type": "code",
   "execution_count": 138,
   "outputs": [
    {
     "data": {
      "text/plain": "'give'"
     },
     "execution_count": 138,
     "metadata": {},
     "output_type": "execute_result"
    }
   ],
   "source": [
    "bert_tokenizer.tokenize(input)[0]"
   ],
   "metadata": {
    "collapsed": false,
    "ExecuteTime": {
     "end_time": "2024-01-09T13:18:54.571956Z",
     "start_time": "2024-01-09T13:18:54.571219Z"
    }
   },
   "id": "9dbe7f4ba9816f10"
  },
  {
   "cell_type": "code",
   "execution_count": null,
   "outputs": [],
   "source": [],
   "metadata": {
    "collapsed": false
   },
   "id": "3268f885c279b11f"
  }
 ],
 "metadata": {
  "kernelspec": {
   "display_name": "Python 3",
   "language": "python",
   "name": "python3"
  },
  "language_info": {
   "codemirror_mode": {
    "name": "ipython",
    "version": 2
   },
   "file_extension": ".py",
   "mimetype": "text/x-python",
   "name": "python",
   "nbconvert_exporter": "python",
   "pygments_lexer": "ipython2",
   "version": "2.7.6"
  }
 },
 "nbformat": 4,
 "nbformat_minor": 5
}
