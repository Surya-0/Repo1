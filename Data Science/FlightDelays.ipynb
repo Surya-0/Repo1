{
 "cells": [
  {
   "cell_type": "code",
   "execution_count": 32,
   "id": "initial_id",
   "metadata": {
    "collapsed": true,
    "ExecuteTime": {
     "end_time": "2023-11-03T04:58:55.156403Z",
     "start_time": "2023-11-03T04:58:55.149772Z"
    }
   },
   "outputs": [],
   "source": [
    "import numpy as np\n",
    "import matplotlib.pyplot as plt\n",
    "import  pandas as pd"
   ]
  },
  {
   "cell_type": "code",
   "execution_count": 33,
   "outputs": [
    {
     "data": {
      "text/plain": "      CRS_DEP_TIME CARRIER  DEP_TIME DEST  DISTANCE     FL_DATE  FL_NUM  \\\n0             1455      OH      1455  JFK       184  01/01/2004    5935   \n1             1640      DH      1640  JFK       213  01/01/2004    6155   \n2             1245      DH      1245  LGA       229  01/01/2004    7208   \n3             1715      DH      1709  LGA       229  01/01/2004    7215   \n4             1039      DH      1035  LGA       229  01/01/2004    7792   \n...            ...     ...       ...  ...       ...         ...     ...   \n2196           645      RU       644  EWR       199   1/31/2004    2761   \n2197          1700      RU      1653  EWR       213   1/31/2004    2497   \n2198          1600      RU      1558  EWR       199   1/31/2004    2361   \n2199          1359      RU      1403  EWR       199   1/31/2004    2216   \n2200          1730      RU      1736  EWR       199   1/31/2004    2097   \n\n     ORIGIN  Weather  DAY_WEEK  DAY_OF_MONTH TAIL_NUM Flight Status  \n0       BWI        0         4             1   N940CA        ontime  \n1       DCA        0         4             1   N405FJ        ontime  \n2       IAD        0         4             1   N695BR        ontime  \n3       IAD        0         4             1   N662BR        ontime  \n4       IAD        0         4             1   N698BR        ontime  \n...     ...      ...       ...           ...      ...           ...  \n2196    DCA        0         6            31   N15555        ontime  \n2197    IAD        0         6            31   N16976        ontime  \n2198    DCA        0         6            31   N14902        ontime  \n2199    DCA        0         6            31   N16961        ontime  \n2200    DCA        0         6            31   N13994        ontime  \n\n[2201 rows x 13 columns]",
      "text/html": "<div>\n<style scoped>\n    .dataframe tbody tr th:only-of-type {\n        vertical-align: middle;\n    }\n\n    .dataframe tbody tr th {\n        vertical-align: top;\n    }\n\n    .dataframe thead th {\n        text-align: right;\n    }\n</style>\n<table border=\"1\" class=\"dataframe\">\n  <thead>\n    <tr style=\"text-align: right;\">\n      <th></th>\n      <th>CRS_DEP_TIME</th>\n      <th>CARRIER</th>\n      <th>DEP_TIME</th>\n      <th>DEST</th>\n      <th>DISTANCE</th>\n      <th>FL_DATE</th>\n      <th>FL_NUM</th>\n      <th>ORIGIN</th>\n      <th>Weather</th>\n      <th>DAY_WEEK</th>\n      <th>DAY_OF_MONTH</th>\n      <th>TAIL_NUM</th>\n      <th>Flight Status</th>\n    </tr>\n  </thead>\n  <tbody>\n    <tr>\n      <th>0</th>\n      <td>1455</td>\n      <td>OH</td>\n      <td>1455</td>\n      <td>JFK</td>\n      <td>184</td>\n      <td>01/01/2004</td>\n      <td>5935</td>\n      <td>BWI</td>\n      <td>0</td>\n      <td>4</td>\n      <td>1</td>\n      <td>N940CA</td>\n      <td>ontime</td>\n    </tr>\n    <tr>\n      <th>1</th>\n      <td>1640</td>\n      <td>DH</td>\n      <td>1640</td>\n      <td>JFK</td>\n      <td>213</td>\n      <td>01/01/2004</td>\n      <td>6155</td>\n      <td>DCA</td>\n      <td>0</td>\n      <td>4</td>\n      <td>1</td>\n      <td>N405FJ</td>\n      <td>ontime</td>\n    </tr>\n    <tr>\n      <th>2</th>\n      <td>1245</td>\n      <td>DH</td>\n      <td>1245</td>\n      <td>LGA</td>\n      <td>229</td>\n      <td>01/01/2004</td>\n      <td>7208</td>\n      <td>IAD</td>\n      <td>0</td>\n      <td>4</td>\n      <td>1</td>\n      <td>N695BR</td>\n      <td>ontime</td>\n    </tr>\n    <tr>\n      <th>3</th>\n      <td>1715</td>\n      <td>DH</td>\n      <td>1709</td>\n      <td>LGA</td>\n      <td>229</td>\n      <td>01/01/2004</td>\n      <td>7215</td>\n      <td>IAD</td>\n      <td>0</td>\n      <td>4</td>\n      <td>1</td>\n      <td>N662BR</td>\n      <td>ontime</td>\n    </tr>\n    <tr>\n      <th>4</th>\n      <td>1039</td>\n      <td>DH</td>\n      <td>1035</td>\n      <td>LGA</td>\n      <td>229</td>\n      <td>01/01/2004</td>\n      <td>7792</td>\n      <td>IAD</td>\n      <td>0</td>\n      <td>4</td>\n      <td>1</td>\n      <td>N698BR</td>\n      <td>ontime</td>\n    </tr>\n    <tr>\n      <th>...</th>\n      <td>...</td>\n      <td>...</td>\n      <td>...</td>\n      <td>...</td>\n      <td>...</td>\n      <td>...</td>\n      <td>...</td>\n      <td>...</td>\n      <td>...</td>\n      <td>...</td>\n      <td>...</td>\n      <td>...</td>\n      <td>...</td>\n    </tr>\n    <tr>\n      <th>2196</th>\n      <td>645</td>\n      <td>RU</td>\n      <td>644</td>\n      <td>EWR</td>\n      <td>199</td>\n      <td>1/31/2004</td>\n      <td>2761</td>\n      <td>DCA</td>\n      <td>0</td>\n      <td>6</td>\n      <td>31</td>\n      <td>N15555</td>\n      <td>ontime</td>\n    </tr>\n    <tr>\n      <th>2197</th>\n      <td>1700</td>\n      <td>RU</td>\n      <td>1653</td>\n      <td>EWR</td>\n      <td>213</td>\n      <td>1/31/2004</td>\n      <td>2497</td>\n      <td>IAD</td>\n      <td>0</td>\n      <td>6</td>\n      <td>31</td>\n      <td>N16976</td>\n      <td>ontime</td>\n    </tr>\n    <tr>\n      <th>2198</th>\n      <td>1600</td>\n      <td>RU</td>\n      <td>1558</td>\n      <td>EWR</td>\n      <td>199</td>\n      <td>1/31/2004</td>\n      <td>2361</td>\n      <td>DCA</td>\n      <td>0</td>\n      <td>6</td>\n      <td>31</td>\n      <td>N14902</td>\n      <td>ontime</td>\n    </tr>\n    <tr>\n      <th>2199</th>\n      <td>1359</td>\n      <td>RU</td>\n      <td>1403</td>\n      <td>EWR</td>\n      <td>199</td>\n      <td>1/31/2004</td>\n      <td>2216</td>\n      <td>DCA</td>\n      <td>0</td>\n      <td>6</td>\n      <td>31</td>\n      <td>N16961</td>\n      <td>ontime</td>\n    </tr>\n    <tr>\n      <th>2200</th>\n      <td>1730</td>\n      <td>RU</td>\n      <td>1736</td>\n      <td>EWR</td>\n      <td>199</td>\n      <td>1/31/2004</td>\n      <td>2097</td>\n      <td>DCA</td>\n      <td>0</td>\n      <td>6</td>\n      <td>31</td>\n      <td>N13994</td>\n      <td>ontime</td>\n    </tr>\n  </tbody>\n</table>\n<p>2201 rows × 13 columns</p>\n</div>"
     },
     "execution_count": 33,
     "metadata": {},
     "output_type": "execute_result"
    }
   ],
   "source": [
    "df = pd.read_csv('FlightDelays.csv')\n",
    "df"
   ],
   "metadata": {
    "collapsed": false,
    "ExecuteTime": {
     "end_time": "2023-11-03T04:58:55.788758Z",
     "start_time": "2023-11-03T04:58:55.775625Z"
    }
   },
   "id": "cb654c19182e18c5"
  },
  {
   "cell_type": "code",
   "execution_count": 34,
   "outputs": [
    {
     "data": {
      "text/plain": "      CRS_DEP_TIME CARRIER  DEP_TIME DEST  DISTANCE     FL_DATE  FL_NUM  \\\n0             1455      OH      1455  JFK       184  01/01/2004    5935   \n1             1640      DH      1640  JFK       213  01/01/2004    6155   \n2             1245      DH      1245  LGA       229  01/01/2004    7208   \n3             1715      DH      1709  LGA       229  01/01/2004    7215   \n4             1039      DH      1035  LGA       229  01/01/2004    7792   \n...            ...     ...       ...  ...       ...         ...     ...   \n2196           645      RU       644  EWR       199   1/31/2004    2761   \n2197          1700      RU      1653  EWR       213   1/31/2004    2497   \n2198          1600      RU      1558  EWR       199   1/31/2004    2361   \n2199          1359      RU      1403  EWR       199   1/31/2004    2216   \n2200          1730      RU      1736  EWR       199   1/31/2004    2097   \n\n     ORIGIN  Weather  DAY_WEEK  DAY_OF_MONTH TAIL_NUM Flight Status  Delay  \n0       BWI        0         4             1   N940CA        ontime      0  \n1       DCA        0         4             1   N405FJ        ontime      0  \n2       IAD        0         4             1   N695BR        ontime      0  \n3       IAD        0         4             1   N662BR        ontime     -6  \n4       IAD        0         4             1   N698BR        ontime     -4  \n...     ...      ...       ...           ...      ...           ...    ...  \n2196    DCA        0         6            31   N15555        ontime     -1  \n2197    IAD        0         6            31   N16976        ontime    -47  \n2198    DCA        0         6            31   N14902        ontime    -42  \n2199    DCA        0         6            31   N16961        ontime     44  \n2200    DCA        0         6            31   N13994        ontime      6  \n\n[2201 rows x 14 columns]",
      "text/html": "<div>\n<style scoped>\n    .dataframe tbody tr th:only-of-type {\n        vertical-align: middle;\n    }\n\n    .dataframe tbody tr th {\n        vertical-align: top;\n    }\n\n    .dataframe thead th {\n        text-align: right;\n    }\n</style>\n<table border=\"1\" class=\"dataframe\">\n  <thead>\n    <tr style=\"text-align: right;\">\n      <th></th>\n      <th>CRS_DEP_TIME</th>\n      <th>CARRIER</th>\n      <th>DEP_TIME</th>\n      <th>DEST</th>\n      <th>DISTANCE</th>\n      <th>FL_DATE</th>\n      <th>FL_NUM</th>\n      <th>ORIGIN</th>\n      <th>Weather</th>\n      <th>DAY_WEEK</th>\n      <th>DAY_OF_MONTH</th>\n      <th>TAIL_NUM</th>\n      <th>Flight Status</th>\n      <th>Delay</th>\n    </tr>\n  </thead>\n  <tbody>\n    <tr>\n      <th>0</th>\n      <td>1455</td>\n      <td>OH</td>\n      <td>1455</td>\n      <td>JFK</td>\n      <td>184</td>\n      <td>01/01/2004</td>\n      <td>5935</td>\n      <td>BWI</td>\n      <td>0</td>\n      <td>4</td>\n      <td>1</td>\n      <td>N940CA</td>\n      <td>ontime</td>\n      <td>0</td>\n    </tr>\n    <tr>\n      <th>1</th>\n      <td>1640</td>\n      <td>DH</td>\n      <td>1640</td>\n      <td>JFK</td>\n      <td>213</td>\n      <td>01/01/2004</td>\n      <td>6155</td>\n      <td>DCA</td>\n      <td>0</td>\n      <td>4</td>\n      <td>1</td>\n      <td>N405FJ</td>\n      <td>ontime</td>\n      <td>0</td>\n    </tr>\n    <tr>\n      <th>2</th>\n      <td>1245</td>\n      <td>DH</td>\n      <td>1245</td>\n      <td>LGA</td>\n      <td>229</td>\n      <td>01/01/2004</td>\n      <td>7208</td>\n      <td>IAD</td>\n      <td>0</td>\n      <td>4</td>\n      <td>1</td>\n      <td>N695BR</td>\n      <td>ontime</td>\n      <td>0</td>\n    </tr>\n    <tr>\n      <th>3</th>\n      <td>1715</td>\n      <td>DH</td>\n      <td>1709</td>\n      <td>LGA</td>\n      <td>229</td>\n      <td>01/01/2004</td>\n      <td>7215</td>\n      <td>IAD</td>\n      <td>0</td>\n      <td>4</td>\n      <td>1</td>\n      <td>N662BR</td>\n      <td>ontime</td>\n      <td>-6</td>\n    </tr>\n    <tr>\n      <th>4</th>\n      <td>1039</td>\n      <td>DH</td>\n      <td>1035</td>\n      <td>LGA</td>\n      <td>229</td>\n      <td>01/01/2004</td>\n      <td>7792</td>\n      <td>IAD</td>\n      <td>0</td>\n      <td>4</td>\n      <td>1</td>\n      <td>N698BR</td>\n      <td>ontime</td>\n      <td>-4</td>\n    </tr>\n    <tr>\n      <th>...</th>\n      <td>...</td>\n      <td>...</td>\n      <td>...</td>\n      <td>...</td>\n      <td>...</td>\n      <td>...</td>\n      <td>...</td>\n      <td>...</td>\n      <td>...</td>\n      <td>...</td>\n      <td>...</td>\n      <td>...</td>\n      <td>...</td>\n      <td>...</td>\n    </tr>\n    <tr>\n      <th>2196</th>\n      <td>645</td>\n      <td>RU</td>\n      <td>644</td>\n      <td>EWR</td>\n      <td>199</td>\n      <td>1/31/2004</td>\n      <td>2761</td>\n      <td>DCA</td>\n      <td>0</td>\n      <td>6</td>\n      <td>31</td>\n      <td>N15555</td>\n      <td>ontime</td>\n      <td>-1</td>\n    </tr>\n    <tr>\n      <th>2197</th>\n      <td>1700</td>\n      <td>RU</td>\n      <td>1653</td>\n      <td>EWR</td>\n      <td>213</td>\n      <td>1/31/2004</td>\n      <td>2497</td>\n      <td>IAD</td>\n      <td>0</td>\n      <td>6</td>\n      <td>31</td>\n      <td>N16976</td>\n      <td>ontime</td>\n      <td>-47</td>\n    </tr>\n    <tr>\n      <th>2198</th>\n      <td>1600</td>\n      <td>RU</td>\n      <td>1558</td>\n      <td>EWR</td>\n      <td>199</td>\n      <td>1/31/2004</td>\n      <td>2361</td>\n      <td>DCA</td>\n      <td>0</td>\n      <td>6</td>\n      <td>31</td>\n      <td>N14902</td>\n      <td>ontime</td>\n      <td>-42</td>\n    </tr>\n    <tr>\n      <th>2199</th>\n      <td>1359</td>\n      <td>RU</td>\n      <td>1403</td>\n      <td>EWR</td>\n      <td>199</td>\n      <td>1/31/2004</td>\n      <td>2216</td>\n      <td>DCA</td>\n      <td>0</td>\n      <td>6</td>\n      <td>31</td>\n      <td>N16961</td>\n      <td>ontime</td>\n      <td>44</td>\n    </tr>\n    <tr>\n      <th>2200</th>\n      <td>1730</td>\n      <td>RU</td>\n      <td>1736</td>\n      <td>EWR</td>\n      <td>199</td>\n      <td>1/31/2004</td>\n      <td>2097</td>\n      <td>DCA</td>\n      <td>0</td>\n      <td>6</td>\n      <td>31</td>\n      <td>N13994</td>\n      <td>ontime</td>\n      <td>6</td>\n    </tr>\n  </tbody>\n</table>\n<p>2201 rows × 14 columns</p>\n</div>"
     },
     "execution_count": 34,
     "metadata": {},
     "output_type": "execute_result"
    }
   ],
   "source": [
    "df['Delay'] =  df['DEP_TIME'] - df['CRS_DEP_TIME']\n",
    "df"
   ],
   "metadata": {
    "collapsed": false,
    "ExecuteTime": {
     "end_time": "2023-11-03T04:59:04.234587Z",
     "start_time": "2023-11-03T04:59:04.222753Z"
    }
   },
   "id": "bbd4f93df3541f2e"
  },
  {
   "cell_type": "code",
   "execution_count": 35,
   "outputs": [
    {
     "data": {
      "text/plain": "     CRS_DEP_TIME CARRIER  DEP_TIME DEST  DISTANCE     FL_DATE  FL_NUM ORIGIN  \\\n0        14:55:00      OH  14:55:00  JFK       184  01/01/2004    5935    BWI   \n1        16:40:00      DH  16:40:00  JFK       213  01/01/2004    6155    DCA   \n2        12:45:00      DH  12:45:00  LGA       229  01/01/2004    7208    IAD   \n3        17:15:00      DH  17:09:00  LGA       229  01/01/2004    7215    IAD   \n4        10:39:00      DH  10:35:00  LGA       229  01/01/2004    7792    IAD   \n...           ...     ...       ...  ...       ...         ...     ...    ...   \n2196     06:45:00      RU  06:44:00  EWR       199   1/31/2004    2761    DCA   \n2197     17:00:00      RU  16:53:00  EWR       213   1/31/2004    2497    IAD   \n2198     16:00:00      RU  15:58:00  EWR       199   1/31/2004    2361    DCA   \n2199     13:59:00      RU  14:03:00  EWR       199   1/31/2004    2216    DCA   \n2200     17:30:00      RU  17:36:00  EWR       199   1/31/2004    2097    DCA   \n\n      Weather  DAY_WEEK  DAY_OF_MONTH TAIL_NUM Flight Status  Delay  \n0           0         4             1   N940CA        ontime      0  \n1           0         4             1   N405FJ        ontime      0  \n2           0         4             1   N695BR        ontime      0  \n3           0         4             1   N662BR        ontime     -6  \n4           0         4             1   N698BR        ontime     -4  \n...       ...       ...           ...      ...           ...    ...  \n2196        0         6            31   N15555        ontime     -1  \n2197        0         6            31   N16976        ontime    -47  \n2198        0         6            31   N14902        ontime    -42  \n2199        0         6            31   N16961        ontime     44  \n2200        0         6            31   N13994        ontime      6  \n\n[2201 rows x 14 columns]",
      "text/html": "<div>\n<style scoped>\n    .dataframe tbody tr th:only-of-type {\n        vertical-align: middle;\n    }\n\n    .dataframe tbody tr th {\n        vertical-align: top;\n    }\n\n    .dataframe thead th {\n        text-align: right;\n    }\n</style>\n<table border=\"1\" class=\"dataframe\">\n  <thead>\n    <tr style=\"text-align: right;\">\n      <th></th>\n      <th>CRS_DEP_TIME</th>\n      <th>CARRIER</th>\n      <th>DEP_TIME</th>\n      <th>DEST</th>\n      <th>DISTANCE</th>\n      <th>FL_DATE</th>\n      <th>FL_NUM</th>\n      <th>ORIGIN</th>\n      <th>Weather</th>\n      <th>DAY_WEEK</th>\n      <th>DAY_OF_MONTH</th>\n      <th>TAIL_NUM</th>\n      <th>Flight Status</th>\n      <th>Delay</th>\n    </tr>\n  </thead>\n  <tbody>\n    <tr>\n      <th>0</th>\n      <td>14:55:00</td>\n      <td>OH</td>\n      <td>14:55:00</td>\n      <td>JFK</td>\n      <td>184</td>\n      <td>01/01/2004</td>\n      <td>5935</td>\n      <td>BWI</td>\n      <td>0</td>\n      <td>4</td>\n      <td>1</td>\n      <td>N940CA</td>\n      <td>ontime</td>\n      <td>0</td>\n    </tr>\n    <tr>\n      <th>1</th>\n      <td>16:40:00</td>\n      <td>DH</td>\n      <td>16:40:00</td>\n      <td>JFK</td>\n      <td>213</td>\n      <td>01/01/2004</td>\n      <td>6155</td>\n      <td>DCA</td>\n      <td>0</td>\n      <td>4</td>\n      <td>1</td>\n      <td>N405FJ</td>\n      <td>ontime</td>\n      <td>0</td>\n    </tr>\n    <tr>\n      <th>2</th>\n      <td>12:45:00</td>\n      <td>DH</td>\n      <td>12:45:00</td>\n      <td>LGA</td>\n      <td>229</td>\n      <td>01/01/2004</td>\n      <td>7208</td>\n      <td>IAD</td>\n      <td>0</td>\n      <td>4</td>\n      <td>1</td>\n      <td>N695BR</td>\n      <td>ontime</td>\n      <td>0</td>\n    </tr>\n    <tr>\n      <th>3</th>\n      <td>17:15:00</td>\n      <td>DH</td>\n      <td>17:09:00</td>\n      <td>LGA</td>\n      <td>229</td>\n      <td>01/01/2004</td>\n      <td>7215</td>\n      <td>IAD</td>\n      <td>0</td>\n      <td>4</td>\n      <td>1</td>\n      <td>N662BR</td>\n      <td>ontime</td>\n      <td>-6</td>\n    </tr>\n    <tr>\n      <th>4</th>\n      <td>10:39:00</td>\n      <td>DH</td>\n      <td>10:35:00</td>\n      <td>LGA</td>\n      <td>229</td>\n      <td>01/01/2004</td>\n      <td>7792</td>\n      <td>IAD</td>\n      <td>0</td>\n      <td>4</td>\n      <td>1</td>\n      <td>N698BR</td>\n      <td>ontime</td>\n      <td>-4</td>\n    </tr>\n    <tr>\n      <th>...</th>\n      <td>...</td>\n      <td>...</td>\n      <td>...</td>\n      <td>...</td>\n      <td>...</td>\n      <td>...</td>\n      <td>...</td>\n      <td>...</td>\n      <td>...</td>\n      <td>...</td>\n      <td>...</td>\n      <td>...</td>\n      <td>...</td>\n      <td>...</td>\n    </tr>\n    <tr>\n      <th>2196</th>\n      <td>06:45:00</td>\n      <td>RU</td>\n      <td>06:44:00</td>\n      <td>EWR</td>\n      <td>199</td>\n      <td>1/31/2004</td>\n      <td>2761</td>\n      <td>DCA</td>\n      <td>0</td>\n      <td>6</td>\n      <td>31</td>\n      <td>N15555</td>\n      <td>ontime</td>\n      <td>-1</td>\n    </tr>\n    <tr>\n      <th>2197</th>\n      <td>17:00:00</td>\n      <td>RU</td>\n      <td>16:53:00</td>\n      <td>EWR</td>\n      <td>213</td>\n      <td>1/31/2004</td>\n      <td>2497</td>\n      <td>IAD</td>\n      <td>0</td>\n      <td>6</td>\n      <td>31</td>\n      <td>N16976</td>\n      <td>ontime</td>\n      <td>-47</td>\n    </tr>\n    <tr>\n      <th>2198</th>\n      <td>16:00:00</td>\n      <td>RU</td>\n      <td>15:58:00</td>\n      <td>EWR</td>\n      <td>199</td>\n      <td>1/31/2004</td>\n      <td>2361</td>\n      <td>DCA</td>\n      <td>0</td>\n      <td>6</td>\n      <td>31</td>\n      <td>N14902</td>\n      <td>ontime</td>\n      <td>-42</td>\n    </tr>\n    <tr>\n      <th>2199</th>\n      <td>13:59:00</td>\n      <td>RU</td>\n      <td>14:03:00</td>\n      <td>EWR</td>\n      <td>199</td>\n      <td>1/31/2004</td>\n      <td>2216</td>\n      <td>DCA</td>\n      <td>0</td>\n      <td>6</td>\n      <td>31</td>\n      <td>N16961</td>\n      <td>ontime</td>\n      <td>44</td>\n    </tr>\n    <tr>\n      <th>2200</th>\n      <td>17:30:00</td>\n      <td>RU</td>\n      <td>17:36:00</td>\n      <td>EWR</td>\n      <td>199</td>\n      <td>1/31/2004</td>\n      <td>2097</td>\n      <td>DCA</td>\n      <td>0</td>\n      <td>6</td>\n      <td>31</td>\n      <td>N13994</td>\n      <td>ontime</td>\n      <td>6</td>\n    </tr>\n  </tbody>\n</table>\n<p>2201 rows × 14 columns</p>\n</div>"
     },
     "execution_count": 35,
     "metadata": {},
     "output_type": "execute_result"
    }
   ],
   "source": [
    "df['CRS_DEP_TIME'] = df['CRS_DEP_TIME'].apply(lambda x: pd.to_datetime(str(x), format='%H%M').time())\n",
    "df['DEP_TIME'] = df['DEP_TIME'].apply(lambda x: pd.to_datetime(str(x), format='%H%M').time())\n",
    "df"
   ],
   "metadata": {
    "collapsed": false,
    "ExecuteTime": {
     "end_time": "2023-11-03T04:59:30.047300Z",
     "start_time": "2023-11-03T04:59:29.889586Z"
    }
   },
   "id": "95a96790e3a7de5c"
  },
  {
   "cell_type": "code",
   "execution_count": 36,
   "outputs": [
    {
     "data": {
      "text/plain": "            CRS_DEP_TIME CARRIER            DEP_TIME DEST  DISTANCE  \\\n0    1900-01-01 14:55:00      OH 1900-01-01 14:55:00  JFK       184   \n1    1900-01-01 16:40:00      DH 1900-01-01 16:40:00  JFK       213   \n2    1900-01-01 12:45:00      DH 1900-01-01 12:45:00  LGA       229   \n3    1900-01-01 17:15:00      DH 1900-01-01 17:09:00  LGA       229   \n4    1900-01-01 10:39:00      DH 1900-01-01 10:35:00  LGA       229   \n...                  ...     ...                 ...  ...       ...   \n2196 1900-01-01 06:45:00      RU 1900-01-01 06:44:00  EWR       199   \n2197 1900-01-01 17:00:00      RU 1900-01-01 16:53:00  EWR       213   \n2198 1900-01-01 16:00:00      RU 1900-01-01 15:58:00  EWR       199   \n2199 1900-01-01 13:59:00      RU 1900-01-01 14:03:00  EWR       199   \n2200 1900-01-01 17:30:00      RU 1900-01-01 17:36:00  EWR       199   \n\n         FL_DATE  FL_NUM ORIGIN  Weather  DAY_WEEK  DAY_OF_MONTH TAIL_NUM  \\\n0     01/01/2004    5935    BWI        0         4             1   N940CA   \n1     01/01/2004    6155    DCA        0         4             1   N405FJ   \n2     01/01/2004    7208    IAD        0         4             1   N695BR   \n3     01/01/2004    7215    IAD        0         4             1   N662BR   \n4     01/01/2004    7792    IAD        0         4             1   N698BR   \n...          ...     ...    ...      ...       ...           ...      ...   \n2196   1/31/2004    2761    DCA        0         6            31   N15555   \n2197   1/31/2004    2497    IAD        0         6            31   N16976   \n2198   1/31/2004    2361    DCA        0         6            31   N14902   \n2199   1/31/2004    2216    DCA        0         6            31   N16961   \n2200   1/31/2004    2097    DCA        0         6            31   N13994   \n\n     Flight Status  Delay       Delay_value  \n0           ontime      0   0 days 00:00:00  \n1           ontime      0   0 days 00:00:00  \n2           ontime      0   0 days 00:00:00  \n3           ontime     -6 -1 days +23:54:00  \n4           ontime     -4 -1 days +23:56:00  \n...            ...    ...               ...  \n2196        ontime     -1 -1 days +23:59:00  \n2197        ontime    -47 -1 days +23:53:00  \n2198        ontime    -42 -1 days +23:58:00  \n2199        ontime     44   0 days 00:04:00  \n2200        ontime      6   0 days 00:06:00  \n\n[2201 rows x 15 columns]",
      "text/html": "<div>\n<style scoped>\n    .dataframe tbody tr th:only-of-type {\n        vertical-align: middle;\n    }\n\n    .dataframe tbody tr th {\n        vertical-align: top;\n    }\n\n    .dataframe thead th {\n        text-align: right;\n    }\n</style>\n<table border=\"1\" class=\"dataframe\">\n  <thead>\n    <tr style=\"text-align: right;\">\n      <th></th>\n      <th>CRS_DEP_TIME</th>\n      <th>CARRIER</th>\n      <th>DEP_TIME</th>\n      <th>DEST</th>\n      <th>DISTANCE</th>\n      <th>FL_DATE</th>\n      <th>FL_NUM</th>\n      <th>ORIGIN</th>\n      <th>Weather</th>\n      <th>DAY_WEEK</th>\n      <th>DAY_OF_MONTH</th>\n      <th>TAIL_NUM</th>\n      <th>Flight Status</th>\n      <th>Delay</th>\n      <th>Delay_value</th>\n    </tr>\n  </thead>\n  <tbody>\n    <tr>\n      <th>0</th>\n      <td>1900-01-01 14:55:00</td>\n      <td>OH</td>\n      <td>1900-01-01 14:55:00</td>\n      <td>JFK</td>\n      <td>184</td>\n      <td>01/01/2004</td>\n      <td>5935</td>\n      <td>BWI</td>\n      <td>0</td>\n      <td>4</td>\n      <td>1</td>\n      <td>N940CA</td>\n      <td>ontime</td>\n      <td>0</td>\n      <td>0 days 00:00:00</td>\n    </tr>\n    <tr>\n      <th>1</th>\n      <td>1900-01-01 16:40:00</td>\n      <td>DH</td>\n      <td>1900-01-01 16:40:00</td>\n      <td>JFK</td>\n      <td>213</td>\n      <td>01/01/2004</td>\n      <td>6155</td>\n      <td>DCA</td>\n      <td>0</td>\n      <td>4</td>\n      <td>1</td>\n      <td>N405FJ</td>\n      <td>ontime</td>\n      <td>0</td>\n      <td>0 days 00:00:00</td>\n    </tr>\n    <tr>\n      <th>2</th>\n      <td>1900-01-01 12:45:00</td>\n      <td>DH</td>\n      <td>1900-01-01 12:45:00</td>\n      <td>LGA</td>\n      <td>229</td>\n      <td>01/01/2004</td>\n      <td>7208</td>\n      <td>IAD</td>\n      <td>0</td>\n      <td>4</td>\n      <td>1</td>\n      <td>N695BR</td>\n      <td>ontime</td>\n      <td>0</td>\n      <td>0 days 00:00:00</td>\n    </tr>\n    <tr>\n      <th>3</th>\n      <td>1900-01-01 17:15:00</td>\n      <td>DH</td>\n      <td>1900-01-01 17:09:00</td>\n      <td>LGA</td>\n      <td>229</td>\n      <td>01/01/2004</td>\n      <td>7215</td>\n      <td>IAD</td>\n      <td>0</td>\n      <td>4</td>\n      <td>1</td>\n      <td>N662BR</td>\n      <td>ontime</td>\n      <td>-6</td>\n      <td>-1 days +23:54:00</td>\n    </tr>\n    <tr>\n      <th>4</th>\n      <td>1900-01-01 10:39:00</td>\n      <td>DH</td>\n      <td>1900-01-01 10:35:00</td>\n      <td>LGA</td>\n      <td>229</td>\n      <td>01/01/2004</td>\n      <td>7792</td>\n      <td>IAD</td>\n      <td>0</td>\n      <td>4</td>\n      <td>1</td>\n      <td>N698BR</td>\n      <td>ontime</td>\n      <td>-4</td>\n      <td>-1 days +23:56:00</td>\n    </tr>\n    <tr>\n      <th>...</th>\n      <td>...</td>\n      <td>...</td>\n      <td>...</td>\n      <td>...</td>\n      <td>...</td>\n      <td>...</td>\n      <td>...</td>\n      <td>...</td>\n      <td>...</td>\n      <td>...</td>\n      <td>...</td>\n      <td>...</td>\n      <td>...</td>\n      <td>...</td>\n      <td>...</td>\n    </tr>\n    <tr>\n      <th>2196</th>\n      <td>1900-01-01 06:45:00</td>\n      <td>RU</td>\n      <td>1900-01-01 06:44:00</td>\n      <td>EWR</td>\n      <td>199</td>\n      <td>1/31/2004</td>\n      <td>2761</td>\n      <td>DCA</td>\n      <td>0</td>\n      <td>6</td>\n      <td>31</td>\n      <td>N15555</td>\n      <td>ontime</td>\n      <td>-1</td>\n      <td>-1 days +23:59:00</td>\n    </tr>\n    <tr>\n      <th>2197</th>\n      <td>1900-01-01 17:00:00</td>\n      <td>RU</td>\n      <td>1900-01-01 16:53:00</td>\n      <td>EWR</td>\n      <td>213</td>\n      <td>1/31/2004</td>\n      <td>2497</td>\n      <td>IAD</td>\n      <td>0</td>\n      <td>6</td>\n      <td>31</td>\n      <td>N16976</td>\n      <td>ontime</td>\n      <td>-47</td>\n      <td>-1 days +23:53:00</td>\n    </tr>\n    <tr>\n      <th>2198</th>\n      <td>1900-01-01 16:00:00</td>\n      <td>RU</td>\n      <td>1900-01-01 15:58:00</td>\n      <td>EWR</td>\n      <td>199</td>\n      <td>1/31/2004</td>\n      <td>2361</td>\n      <td>DCA</td>\n      <td>0</td>\n      <td>6</td>\n      <td>31</td>\n      <td>N14902</td>\n      <td>ontime</td>\n      <td>-42</td>\n      <td>-1 days +23:58:00</td>\n    </tr>\n    <tr>\n      <th>2199</th>\n      <td>1900-01-01 13:59:00</td>\n      <td>RU</td>\n      <td>1900-01-01 14:03:00</td>\n      <td>EWR</td>\n      <td>199</td>\n      <td>1/31/2004</td>\n      <td>2216</td>\n      <td>DCA</td>\n      <td>0</td>\n      <td>6</td>\n      <td>31</td>\n      <td>N16961</td>\n      <td>ontime</td>\n      <td>44</td>\n      <td>0 days 00:04:00</td>\n    </tr>\n    <tr>\n      <th>2200</th>\n      <td>1900-01-01 17:30:00</td>\n      <td>RU</td>\n      <td>1900-01-01 17:36:00</td>\n      <td>EWR</td>\n      <td>199</td>\n      <td>1/31/2004</td>\n      <td>2097</td>\n      <td>DCA</td>\n      <td>0</td>\n      <td>6</td>\n      <td>31</td>\n      <td>N13994</td>\n      <td>ontime</td>\n      <td>6</td>\n      <td>0 days 00:06:00</td>\n    </tr>\n  </tbody>\n</table>\n<p>2201 rows × 15 columns</p>\n</div>"
     },
     "execution_count": 36,
     "metadata": {},
     "output_type": "execute_result"
    }
   ],
   "source": [
    "df['CRS_DEP_TIME'] = pd.to_datetime(df['CRS_DEP_TIME'], format='%H:%M:%S')\n",
    "df['DEP_TIME'] = pd.to_datetime(df['DEP_TIME'], format='%H:%M:%S')\n",
    "df['Delay_value'] = df['DEP_TIME'] - df['CRS_DEP_TIME']  \n",
    "df"
   ],
   "metadata": {
    "collapsed": false,
    "ExecuteTime": {
     "end_time": "2023-11-03T05:00:34.178097Z",
     "start_time": "2023-11-03T05:00:34.159072Z"
    }
   },
   "id": "6d29bc729d6095f9"
  },
  {
   "cell_type": "code",
   "execution_count": 37,
   "outputs": [
    {
     "data": {
      "text/plain": "dtype('<M8[ns]')"
     },
     "execution_count": 37,
     "metadata": {},
     "output_type": "execute_result"
    }
   ],
   "source": [
    "df['DEP_TIME'].dtype"
   ],
   "metadata": {
    "collapsed": false,
    "ExecuteTime": {
     "end_time": "2023-11-03T05:01:23.371158Z",
     "start_time": "2023-11-03T05:01:23.364164Z"
    }
   },
   "id": "a6ae76262748b1fb"
  },
  {
   "cell_type": "code",
   "execution_count": 38,
   "outputs": [
    {
     "data": {
      "text/plain": "dtype('<m8[ns]')"
     },
     "execution_count": 38,
     "metadata": {},
     "output_type": "execute_result"
    }
   ],
   "source": [
    "df['Delay_value'].dtype"
   ],
   "metadata": {
    "collapsed": false,
    "ExecuteTime": {
     "end_time": "2023-11-03T05:01:24.315489Z",
     "start_time": "2023-11-03T05:01:24.303965Z"
    }
   },
   "id": "591e10565e15e365"
  },
  {
   "cell_type": "code",
   "execution_count": 39,
   "outputs": [
    {
     "data": {
      "text/plain": "            CRS_DEP_TIME CARRIER            DEP_TIME DEST  DISTANCE  \\\n53   1900-01-01 14:55:00      DH 1900-01-01 15:31:00  LGA       229   \n56   1900-01-01 10:39:00      DH 1900-01-01 12:36:00  LGA       229   \n57   1900-01-01 08:40:00      DH 1900-01-01 08:59:00  JFK       228   \n62   1900-01-01 21:20:00      DH 1900-01-01 23:05:00  JFK       228   \n73   1900-01-01 18:30:00      MQ 1900-01-01 18:47:00  JFK       213   \n...                  ...     ...                 ...  ...       ...   \n2126 1900-01-01 17:20:00      RU 1900-01-01 17:48:00  EWR       169   \n2128 1900-01-01 14:55:00      RU 1900-01-01 15:13:00  EWR       169   \n2146 1900-01-01 15:25:00      RU 1900-01-01 16:01:00  EWR       199   \n2156 1900-01-01 08:40:00      DH 1900-01-01 09:31:00  JFK       228   \n2172 1900-01-01 06:00:00      MQ 1900-01-01 06:13:00  JFK       213   \n\n         FL_DATE  FL_NUM ORIGIN  Weather  DAY_WEEK  DAY_OF_MONTH TAIL_NUM  \\\n53    01/02/2004    7211    IAD        0         5             2   N665BR   \n56    01/02/2004    7792    IAD        0         5             2   N665BR   \n57    01/02/2004    7800    IAD        0         5             2   N645BR   \n62    01/02/2004    7814    IAD        0         5             2   N657BR   \n73    01/02/2004    4784    DCA        0         5             2   N727MQ   \n...          ...     ...    ...      ...       ...           ...      ...   \n2126   1/30/2004    3372    BWI        0         5            30   N12563   \n2128   1/30/2004    2403    BWI        0         5            30   N14945   \n2146   1/30/2004    2261    DCA        0         5            30   N13979   \n2156   1/31/2004    7800    IAD        0         6            31   N655BR   \n2172   1/31/2004    4760    DCA        0         6            31   N733MQ   \n\n     Flight Status  Delay     Delay_value  \n53         delayed     76 0 days 00:36:00  \n56         delayed    197 0 days 01:57:00  \n57          ontime     19 0 days 00:19:00  \n62         delayed    185 0 days 01:45:00  \n73          ontime     17 0 days 00:17:00  \n...            ...    ...             ...  \n2126       delayed     28 0 days 00:28:00  \n2128       delayed     58 0 days 00:18:00  \n2146       delayed     76 0 days 00:36:00  \n2156       delayed     91 0 days 00:51:00  \n2172        ontime     13 0 days 00:13:00  \n\n[367 rows x 15 columns]",
      "text/html": "<div>\n<style scoped>\n    .dataframe tbody tr th:only-of-type {\n        vertical-align: middle;\n    }\n\n    .dataframe tbody tr th {\n        vertical-align: top;\n    }\n\n    .dataframe thead th {\n        text-align: right;\n    }\n</style>\n<table border=\"1\" class=\"dataframe\">\n  <thead>\n    <tr style=\"text-align: right;\">\n      <th></th>\n      <th>CRS_DEP_TIME</th>\n      <th>CARRIER</th>\n      <th>DEP_TIME</th>\n      <th>DEST</th>\n      <th>DISTANCE</th>\n      <th>FL_DATE</th>\n      <th>FL_NUM</th>\n      <th>ORIGIN</th>\n      <th>Weather</th>\n      <th>DAY_WEEK</th>\n      <th>DAY_OF_MONTH</th>\n      <th>TAIL_NUM</th>\n      <th>Flight Status</th>\n      <th>Delay</th>\n      <th>Delay_value</th>\n    </tr>\n  </thead>\n  <tbody>\n    <tr>\n      <th>53</th>\n      <td>1900-01-01 14:55:00</td>\n      <td>DH</td>\n      <td>1900-01-01 15:31:00</td>\n      <td>LGA</td>\n      <td>229</td>\n      <td>01/02/2004</td>\n      <td>7211</td>\n      <td>IAD</td>\n      <td>0</td>\n      <td>5</td>\n      <td>2</td>\n      <td>N665BR</td>\n      <td>delayed</td>\n      <td>76</td>\n      <td>0 days 00:36:00</td>\n    </tr>\n    <tr>\n      <th>56</th>\n      <td>1900-01-01 10:39:00</td>\n      <td>DH</td>\n      <td>1900-01-01 12:36:00</td>\n      <td>LGA</td>\n      <td>229</td>\n      <td>01/02/2004</td>\n      <td>7792</td>\n      <td>IAD</td>\n      <td>0</td>\n      <td>5</td>\n      <td>2</td>\n      <td>N665BR</td>\n      <td>delayed</td>\n      <td>197</td>\n      <td>0 days 01:57:00</td>\n    </tr>\n    <tr>\n      <th>57</th>\n      <td>1900-01-01 08:40:00</td>\n      <td>DH</td>\n      <td>1900-01-01 08:59:00</td>\n      <td>JFK</td>\n      <td>228</td>\n      <td>01/02/2004</td>\n      <td>7800</td>\n      <td>IAD</td>\n      <td>0</td>\n      <td>5</td>\n      <td>2</td>\n      <td>N645BR</td>\n      <td>ontime</td>\n      <td>19</td>\n      <td>0 days 00:19:00</td>\n    </tr>\n    <tr>\n      <th>62</th>\n      <td>1900-01-01 21:20:00</td>\n      <td>DH</td>\n      <td>1900-01-01 23:05:00</td>\n      <td>JFK</td>\n      <td>228</td>\n      <td>01/02/2004</td>\n      <td>7814</td>\n      <td>IAD</td>\n      <td>0</td>\n      <td>5</td>\n      <td>2</td>\n      <td>N657BR</td>\n      <td>delayed</td>\n      <td>185</td>\n      <td>0 days 01:45:00</td>\n    </tr>\n    <tr>\n      <th>73</th>\n      <td>1900-01-01 18:30:00</td>\n      <td>MQ</td>\n      <td>1900-01-01 18:47:00</td>\n      <td>JFK</td>\n      <td>213</td>\n      <td>01/02/2004</td>\n      <td>4784</td>\n      <td>DCA</td>\n      <td>0</td>\n      <td>5</td>\n      <td>2</td>\n      <td>N727MQ</td>\n      <td>ontime</td>\n      <td>17</td>\n      <td>0 days 00:17:00</td>\n    </tr>\n    <tr>\n      <th>...</th>\n      <td>...</td>\n      <td>...</td>\n      <td>...</td>\n      <td>...</td>\n      <td>...</td>\n      <td>...</td>\n      <td>...</td>\n      <td>...</td>\n      <td>...</td>\n      <td>...</td>\n      <td>...</td>\n      <td>...</td>\n      <td>...</td>\n      <td>...</td>\n      <td>...</td>\n    </tr>\n    <tr>\n      <th>2126</th>\n      <td>1900-01-01 17:20:00</td>\n      <td>RU</td>\n      <td>1900-01-01 17:48:00</td>\n      <td>EWR</td>\n      <td>169</td>\n      <td>1/30/2004</td>\n      <td>3372</td>\n      <td>BWI</td>\n      <td>0</td>\n      <td>5</td>\n      <td>30</td>\n      <td>N12563</td>\n      <td>delayed</td>\n      <td>28</td>\n      <td>0 days 00:28:00</td>\n    </tr>\n    <tr>\n      <th>2128</th>\n      <td>1900-01-01 14:55:00</td>\n      <td>RU</td>\n      <td>1900-01-01 15:13:00</td>\n      <td>EWR</td>\n      <td>169</td>\n      <td>1/30/2004</td>\n      <td>2403</td>\n      <td>BWI</td>\n      <td>0</td>\n      <td>5</td>\n      <td>30</td>\n      <td>N14945</td>\n      <td>delayed</td>\n      <td>58</td>\n      <td>0 days 00:18:00</td>\n    </tr>\n    <tr>\n      <th>2146</th>\n      <td>1900-01-01 15:25:00</td>\n      <td>RU</td>\n      <td>1900-01-01 16:01:00</td>\n      <td>EWR</td>\n      <td>199</td>\n      <td>1/30/2004</td>\n      <td>2261</td>\n      <td>DCA</td>\n      <td>0</td>\n      <td>5</td>\n      <td>30</td>\n      <td>N13979</td>\n      <td>delayed</td>\n      <td>76</td>\n      <td>0 days 00:36:00</td>\n    </tr>\n    <tr>\n      <th>2156</th>\n      <td>1900-01-01 08:40:00</td>\n      <td>DH</td>\n      <td>1900-01-01 09:31:00</td>\n      <td>JFK</td>\n      <td>228</td>\n      <td>1/31/2004</td>\n      <td>7800</td>\n      <td>IAD</td>\n      <td>0</td>\n      <td>6</td>\n      <td>31</td>\n      <td>N655BR</td>\n      <td>delayed</td>\n      <td>91</td>\n      <td>0 days 00:51:00</td>\n    </tr>\n    <tr>\n      <th>2172</th>\n      <td>1900-01-01 06:00:00</td>\n      <td>MQ</td>\n      <td>1900-01-01 06:13:00</td>\n      <td>JFK</td>\n      <td>213</td>\n      <td>1/31/2004</td>\n      <td>4760</td>\n      <td>DCA</td>\n      <td>0</td>\n      <td>6</td>\n      <td>31</td>\n      <td>N733MQ</td>\n      <td>ontime</td>\n      <td>13</td>\n      <td>0 days 00:13:00</td>\n    </tr>\n  </tbody>\n</table>\n<p>367 rows × 15 columns</p>\n</div>"
     },
     "execution_count": 39,
     "metadata": {},
     "output_type": "execute_result"
    }
   ],
   "source": [
    "df[df['Delay_value'] >'00:10:00']"
   ],
   "metadata": {
    "collapsed": false,
    "ExecuteTime": {
     "end_time": "2023-11-03T05:02:50.411438Z",
     "start_time": "2023-11-03T05:02:50.381305Z"
    }
   },
   "id": "98f3bbc56a7bb8e7"
  },
  {
   "cell_type": "code",
   "execution_count": 45,
   "outputs": [
    {
     "data": {
      "text/plain": "            CRS_DEP_TIME CARRIER            DEP_TIME DEST  DISTANCE  \\\n3    1900-01-01 17:15:00      DH 1900-01-01 17:09:00  LGA       229   \n4    1900-01-01 10:39:00      DH 1900-01-01 10:35:00  LGA       229   \n5    1900-01-01 08:40:00      DH 1900-01-01 08:39:00  JFK       228   \n7    1900-01-01 16:45:00      DH 1900-01-01 16:44:00  JFK       228   \n8    1900-01-01 17:15:00      DH 1900-01-01 17:10:00  JFK       228   \n...                  ...     ...                 ...  ...       ...   \n2194 1900-01-01 09:30:00      RU 1900-01-01 09:25:00  EWR       199   \n2195 1900-01-01 07:00:00      RU 1900-01-01 06:50:00  EWR       213   \n2196 1900-01-01 06:45:00      RU 1900-01-01 06:44:00  EWR       199   \n2197 1900-01-01 17:00:00      RU 1900-01-01 16:53:00  EWR       213   \n2198 1900-01-01 16:00:00      RU 1900-01-01 15:58:00  EWR       199   \n\n         FL_DATE  FL_NUM ORIGIN  Weather  DAY_WEEK  DAY_OF_MONTH TAIL_NUM  \\\n3     01/01/2004    7215    IAD        0         4             1   N662BR   \n4     01/01/2004    7792    IAD        0         4             1   N698BR   \n5     01/01/2004    7800    IAD        0         4             1   N687BR   \n7     01/01/2004    7810    IAD        0         4             1   N301UE   \n8     01/01/2004    7812    IAD        0         4             1   N328UE   \n...          ...     ...    ...      ...       ...           ...      ...   \n2194   1/31/2004    2582    DCA        0         6            31   N12567   \n2195   1/31/2004    2855    IAD        0         6            31   N14558   \n2196   1/31/2004    2761    DCA        0         6            31   N15555   \n2197   1/31/2004    2497    IAD        0         6            31   N16976   \n2198   1/31/2004    2361    DCA        0         6            31   N14902   \n\n     Flight Status  Delay       Delay_value  \n3           ontime     -6 -1 days +23:54:00  \n4           ontime     -4 -1 days +23:56:00  \n5           ontime     -1 -1 days +23:59:00  \n7           ontime     -1 -1 days +23:59:00  \n8           ontime     -5 -1 days +23:55:00  \n...            ...    ...               ...  \n2194        ontime     -5 -1 days +23:55:00  \n2195        ontime    -50 -1 days +23:50:00  \n2196        ontime     -1 -1 days +23:59:00  \n2197        ontime    -47 -1 days +23:53:00  \n2198        ontime    -42 -1 days +23:58:00  \n\n[1362 rows x 15 columns]",
      "text/html": "<div>\n<style scoped>\n    .dataframe tbody tr th:only-of-type {\n        vertical-align: middle;\n    }\n\n    .dataframe tbody tr th {\n        vertical-align: top;\n    }\n\n    .dataframe thead th {\n        text-align: right;\n    }\n</style>\n<table border=\"1\" class=\"dataframe\">\n  <thead>\n    <tr style=\"text-align: right;\">\n      <th></th>\n      <th>CRS_DEP_TIME</th>\n      <th>CARRIER</th>\n      <th>DEP_TIME</th>\n      <th>DEST</th>\n      <th>DISTANCE</th>\n      <th>FL_DATE</th>\n      <th>FL_NUM</th>\n      <th>ORIGIN</th>\n      <th>Weather</th>\n      <th>DAY_WEEK</th>\n      <th>DAY_OF_MONTH</th>\n      <th>TAIL_NUM</th>\n      <th>Flight Status</th>\n      <th>Delay</th>\n      <th>Delay_value</th>\n    </tr>\n  </thead>\n  <tbody>\n    <tr>\n      <th>3</th>\n      <td>1900-01-01 17:15:00</td>\n      <td>DH</td>\n      <td>1900-01-01 17:09:00</td>\n      <td>LGA</td>\n      <td>229</td>\n      <td>01/01/2004</td>\n      <td>7215</td>\n      <td>IAD</td>\n      <td>0</td>\n      <td>4</td>\n      <td>1</td>\n      <td>N662BR</td>\n      <td>ontime</td>\n      <td>-6</td>\n      <td>-1 days +23:54:00</td>\n    </tr>\n    <tr>\n      <th>4</th>\n      <td>1900-01-01 10:39:00</td>\n      <td>DH</td>\n      <td>1900-01-01 10:35:00</td>\n      <td>LGA</td>\n      <td>229</td>\n      <td>01/01/2004</td>\n      <td>7792</td>\n      <td>IAD</td>\n      <td>0</td>\n      <td>4</td>\n      <td>1</td>\n      <td>N698BR</td>\n      <td>ontime</td>\n      <td>-4</td>\n      <td>-1 days +23:56:00</td>\n    </tr>\n    <tr>\n      <th>5</th>\n      <td>1900-01-01 08:40:00</td>\n      <td>DH</td>\n      <td>1900-01-01 08:39:00</td>\n      <td>JFK</td>\n      <td>228</td>\n      <td>01/01/2004</td>\n      <td>7800</td>\n      <td>IAD</td>\n      <td>0</td>\n      <td>4</td>\n      <td>1</td>\n      <td>N687BR</td>\n      <td>ontime</td>\n      <td>-1</td>\n      <td>-1 days +23:59:00</td>\n    </tr>\n    <tr>\n      <th>7</th>\n      <td>1900-01-01 16:45:00</td>\n      <td>DH</td>\n      <td>1900-01-01 16:44:00</td>\n      <td>JFK</td>\n      <td>228</td>\n      <td>01/01/2004</td>\n      <td>7810</td>\n      <td>IAD</td>\n      <td>0</td>\n      <td>4</td>\n      <td>1</td>\n      <td>N301UE</td>\n      <td>ontime</td>\n      <td>-1</td>\n      <td>-1 days +23:59:00</td>\n    </tr>\n    <tr>\n      <th>8</th>\n      <td>1900-01-01 17:15:00</td>\n      <td>DH</td>\n      <td>1900-01-01 17:10:00</td>\n      <td>JFK</td>\n      <td>228</td>\n      <td>01/01/2004</td>\n      <td>7812</td>\n      <td>IAD</td>\n      <td>0</td>\n      <td>4</td>\n      <td>1</td>\n      <td>N328UE</td>\n      <td>ontime</td>\n      <td>-5</td>\n      <td>-1 days +23:55:00</td>\n    </tr>\n    <tr>\n      <th>...</th>\n      <td>...</td>\n      <td>...</td>\n      <td>...</td>\n      <td>...</td>\n      <td>...</td>\n      <td>...</td>\n      <td>...</td>\n      <td>...</td>\n      <td>...</td>\n      <td>...</td>\n      <td>...</td>\n      <td>...</td>\n      <td>...</td>\n      <td>...</td>\n      <td>...</td>\n    </tr>\n    <tr>\n      <th>2194</th>\n      <td>1900-01-01 09:30:00</td>\n      <td>RU</td>\n      <td>1900-01-01 09:25:00</td>\n      <td>EWR</td>\n      <td>199</td>\n      <td>1/31/2004</td>\n      <td>2582</td>\n      <td>DCA</td>\n      <td>0</td>\n      <td>6</td>\n      <td>31</td>\n      <td>N12567</td>\n      <td>ontime</td>\n      <td>-5</td>\n      <td>-1 days +23:55:00</td>\n    </tr>\n    <tr>\n      <th>2195</th>\n      <td>1900-01-01 07:00:00</td>\n      <td>RU</td>\n      <td>1900-01-01 06:50:00</td>\n      <td>EWR</td>\n      <td>213</td>\n      <td>1/31/2004</td>\n      <td>2855</td>\n      <td>IAD</td>\n      <td>0</td>\n      <td>6</td>\n      <td>31</td>\n      <td>N14558</td>\n      <td>ontime</td>\n      <td>-50</td>\n      <td>-1 days +23:50:00</td>\n    </tr>\n    <tr>\n      <th>2196</th>\n      <td>1900-01-01 06:45:00</td>\n      <td>RU</td>\n      <td>1900-01-01 06:44:00</td>\n      <td>EWR</td>\n      <td>199</td>\n      <td>1/31/2004</td>\n      <td>2761</td>\n      <td>DCA</td>\n      <td>0</td>\n      <td>6</td>\n      <td>31</td>\n      <td>N15555</td>\n      <td>ontime</td>\n      <td>-1</td>\n      <td>-1 days +23:59:00</td>\n    </tr>\n    <tr>\n      <th>2197</th>\n      <td>1900-01-01 17:00:00</td>\n      <td>RU</td>\n      <td>1900-01-01 16:53:00</td>\n      <td>EWR</td>\n      <td>213</td>\n      <td>1/31/2004</td>\n      <td>2497</td>\n      <td>IAD</td>\n      <td>0</td>\n      <td>6</td>\n      <td>31</td>\n      <td>N16976</td>\n      <td>ontime</td>\n      <td>-47</td>\n      <td>-1 days +23:53:00</td>\n    </tr>\n    <tr>\n      <th>2198</th>\n      <td>1900-01-01 16:00:00</td>\n      <td>RU</td>\n      <td>1900-01-01 15:58:00</td>\n      <td>EWR</td>\n      <td>199</td>\n      <td>1/31/2004</td>\n      <td>2361</td>\n      <td>DCA</td>\n      <td>0</td>\n      <td>6</td>\n      <td>31</td>\n      <td>N14902</td>\n      <td>ontime</td>\n      <td>-42</td>\n      <td>-1 days +23:58:00</td>\n    </tr>\n  </tbody>\n</table>\n<p>1362 rows × 15 columns</p>\n</div>"
     },
     "execution_count": 45,
     "metadata": {},
     "output_type": "execute_result"
    }
   ],
   "source": [
    "df[df['Delay_value']<'00:00:00']"
   ],
   "metadata": {
    "collapsed": false,
    "ExecuteTime": {
     "end_time": "2023-11-03T05:04:18.825486Z",
     "start_time": "2023-11-03T05:04:18.789706Z"
    }
   },
   "id": "de3efca7f72521eb"
  },
  {
   "cell_type": "code",
   "execution_count": 10,
   "outputs": [],
   "source": [
    "af = df[df['Delay_value']>'00:00:00']"
   ],
   "metadata": {
    "collapsed": false,
    "ExecuteTime": {
     "end_time": "2023-11-03T04:48:05.051706Z",
     "start_time": "2023-11-03T04:48:05.017849Z"
    }
   },
   "id": "32739a9fc3bf5a4"
  },
  {
   "cell_type": "code",
   "execution_count": 11,
   "outputs": [
    {
     "name": "stderr",
     "output_type": "stream",
     "text": [
      "/var/folders/21/yhy2dhmx219b7cbcq243hmwc0000gn/T/ipykernel_38540/3276606633.py:1: SettingWithCopyWarning: \n",
      "A value is trying to be set on a copy of a slice from a DataFrame.\n",
      "Try using .loc[row_indexer,col_indexer] = value instead\n",
      "\n",
      "See the caveats in the documentation: https://pandas.pydata.org/pandas-docs/stable/user_guide/indexing.html#returning-a-view-versus-a-copy\n",
      "  af['Flight Status'] = af['Flight Status'].replace('delayed')\n"
     ]
    },
    {
     "data": {
      "text/plain": "            CRS_DEP_TIME CARRIER            DEP_TIME DEST  DISTANCE  \\\n6    1900-01-01 12:40:00      DH 1900-01-01 12:43:00  JFK       228   \n9    1900-01-01 21:20:00      DH 1900-01-01 21:29:00  JFK       228   \n11   1900-01-01 14:55:00      DL 1900-01-01 14:58:00  JFK       213   \n12   1900-01-01 09:30:00      DL 1900-01-01 09:32:00  LGA       214   \n51   1900-01-01 16:40:00      DH 1900-01-01 16:41:00  JFK       213   \n...                  ...     ...                 ...  ...       ...   \n2177 1900-01-01 07:00:00      US 1900-01-01 07:06:00  LGA       214   \n2187 1900-01-01 07:00:00      RU 1900-01-01 07:04:00  EWR       169   \n2191 1900-01-01 12:45:00      DH 1900-01-01 12:47:00  EWR       213   \n2199 1900-01-01 13:59:00      RU 1900-01-01 14:03:00  EWR       199   \n2200 1900-01-01 17:30:00      RU 1900-01-01 17:36:00  EWR       199   \n\n         FL_DATE  FL_NUM ORIGIN  Weather  DAY_WEEK  DAY_OF_MONTH TAIL_NUM  \\\n6     01/01/2004    7806    IAD        0         4             1   N321UE   \n9     01/01/2004    7814    IAD        0         4             1   N685BR   \n11    01/01/2004     746    DCA        0         4             1   N918DE   \n12    01/01/2004    1746    DCA        0         4             1   N242DL   \n51    01/02/2004    6155    DCA        0         5             2   N415FJ   \n...          ...     ...    ...      ...       ...           ...      ...   \n2177   1/31/2004    2160    DCA        0         6            31   N725UW   \n2187   1/31/2004    2703    BWI        0         6            31   N14542   \n2191   1/31/2004    7303    IAD        0         6            31   N624BR   \n2199   1/31/2004    2216    DCA        0         6            31   N16961   \n2200   1/31/2004    2097    DCA        0         6            31   N13994   \n\n     Flight Status  Delay     Delay_value  \n6           ontime      3 0 days 00:03:00  \n9           ontime      9 0 days 00:09:00  \n11          ontime      3 0 days 00:03:00  \n12          ontime      2 0 days 00:02:00  \n51          ontime      1 0 days 00:01:00  \n...            ...    ...             ...  \n2177        ontime      6 0 days 00:06:00  \n2187        ontime      4 0 days 00:04:00  \n2191        ontime      2 0 days 00:02:00  \n2199        ontime     44 0 days 00:04:00  \n2200        ontime      6 0 days 00:06:00  \n\n[638 rows x 15 columns]",
      "text/html": "<div>\n<style scoped>\n    .dataframe tbody tr th:only-of-type {\n        vertical-align: middle;\n    }\n\n    .dataframe tbody tr th {\n        vertical-align: top;\n    }\n\n    .dataframe thead th {\n        text-align: right;\n    }\n</style>\n<table border=\"1\" class=\"dataframe\">\n  <thead>\n    <tr style=\"text-align: right;\">\n      <th></th>\n      <th>CRS_DEP_TIME</th>\n      <th>CARRIER</th>\n      <th>DEP_TIME</th>\n      <th>DEST</th>\n      <th>DISTANCE</th>\n      <th>FL_DATE</th>\n      <th>FL_NUM</th>\n      <th>ORIGIN</th>\n      <th>Weather</th>\n      <th>DAY_WEEK</th>\n      <th>DAY_OF_MONTH</th>\n      <th>TAIL_NUM</th>\n      <th>Flight Status</th>\n      <th>Delay</th>\n      <th>Delay_value</th>\n    </tr>\n  </thead>\n  <tbody>\n    <tr>\n      <th>6</th>\n      <td>1900-01-01 12:40:00</td>\n      <td>DH</td>\n      <td>1900-01-01 12:43:00</td>\n      <td>JFK</td>\n      <td>228</td>\n      <td>01/01/2004</td>\n      <td>7806</td>\n      <td>IAD</td>\n      <td>0</td>\n      <td>4</td>\n      <td>1</td>\n      <td>N321UE</td>\n      <td>ontime</td>\n      <td>3</td>\n      <td>0 days 00:03:00</td>\n    </tr>\n    <tr>\n      <th>9</th>\n      <td>1900-01-01 21:20:00</td>\n      <td>DH</td>\n      <td>1900-01-01 21:29:00</td>\n      <td>JFK</td>\n      <td>228</td>\n      <td>01/01/2004</td>\n      <td>7814</td>\n      <td>IAD</td>\n      <td>0</td>\n      <td>4</td>\n      <td>1</td>\n      <td>N685BR</td>\n      <td>ontime</td>\n      <td>9</td>\n      <td>0 days 00:09:00</td>\n    </tr>\n    <tr>\n      <th>11</th>\n      <td>1900-01-01 14:55:00</td>\n      <td>DL</td>\n      <td>1900-01-01 14:58:00</td>\n      <td>JFK</td>\n      <td>213</td>\n      <td>01/01/2004</td>\n      <td>746</td>\n      <td>DCA</td>\n      <td>0</td>\n      <td>4</td>\n      <td>1</td>\n      <td>N918DE</td>\n      <td>ontime</td>\n      <td>3</td>\n      <td>0 days 00:03:00</td>\n    </tr>\n    <tr>\n      <th>12</th>\n      <td>1900-01-01 09:30:00</td>\n      <td>DL</td>\n      <td>1900-01-01 09:32:00</td>\n      <td>LGA</td>\n      <td>214</td>\n      <td>01/01/2004</td>\n      <td>1746</td>\n      <td>DCA</td>\n      <td>0</td>\n      <td>4</td>\n      <td>1</td>\n      <td>N242DL</td>\n      <td>ontime</td>\n      <td>2</td>\n      <td>0 days 00:02:00</td>\n    </tr>\n    <tr>\n      <th>51</th>\n      <td>1900-01-01 16:40:00</td>\n      <td>DH</td>\n      <td>1900-01-01 16:41:00</td>\n      <td>JFK</td>\n      <td>213</td>\n      <td>01/02/2004</td>\n      <td>6155</td>\n      <td>DCA</td>\n      <td>0</td>\n      <td>5</td>\n      <td>2</td>\n      <td>N415FJ</td>\n      <td>ontime</td>\n      <td>1</td>\n      <td>0 days 00:01:00</td>\n    </tr>\n    <tr>\n      <th>...</th>\n      <td>...</td>\n      <td>...</td>\n      <td>...</td>\n      <td>...</td>\n      <td>...</td>\n      <td>...</td>\n      <td>...</td>\n      <td>...</td>\n      <td>...</td>\n      <td>...</td>\n      <td>...</td>\n      <td>...</td>\n      <td>...</td>\n      <td>...</td>\n      <td>...</td>\n    </tr>\n    <tr>\n      <th>2177</th>\n      <td>1900-01-01 07:00:00</td>\n      <td>US</td>\n      <td>1900-01-01 07:06:00</td>\n      <td>LGA</td>\n      <td>214</td>\n      <td>1/31/2004</td>\n      <td>2160</td>\n      <td>DCA</td>\n      <td>0</td>\n      <td>6</td>\n      <td>31</td>\n      <td>N725UW</td>\n      <td>ontime</td>\n      <td>6</td>\n      <td>0 days 00:06:00</td>\n    </tr>\n    <tr>\n      <th>2187</th>\n      <td>1900-01-01 07:00:00</td>\n      <td>RU</td>\n      <td>1900-01-01 07:04:00</td>\n      <td>EWR</td>\n      <td>169</td>\n      <td>1/31/2004</td>\n      <td>2703</td>\n      <td>BWI</td>\n      <td>0</td>\n      <td>6</td>\n      <td>31</td>\n      <td>N14542</td>\n      <td>ontime</td>\n      <td>4</td>\n      <td>0 days 00:04:00</td>\n    </tr>\n    <tr>\n      <th>2191</th>\n      <td>1900-01-01 12:45:00</td>\n      <td>DH</td>\n      <td>1900-01-01 12:47:00</td>\n      <td>EWR</td>\n      <td>213</td>\n      <td>1/31/2004</td>\n      <td>7303</td>\n      <td>IAD</td>\n      <td>0</td>\n      <td>6</td>\n      <td>31</td>\n      <td>N624BR</td>\n      <td>ontime</td>\n      <td>2</td>\n      <td>0 days 00:02:00</td>\n    </tr>\n    <tr>\n      <th>2199</th>\n      <td>1900-01-01 13:59:00</td>\n      <td>RU</td>\n      <td>1900-01-01 14:03:00</td>\n      <td>EWR</td>\n      <td>199</td>\n      <td>1/31/2004</td>\n      <td>2216</td>\n      <td>DCA</td>\n      <td>0</td>\n      <td>6</td>\n      <td>31</td>\n      <td>N16961</td>\n      <td>ontime</td>\n      <td>44</td>\n      <td>0 days 00:04:00</td>\n    </tr>\n    <tr>\n      <th>2200</th>\n      <td>1900-01-01 17:30:00</td>\n      <td>RU</td>\n      <td>1900-01-01 17:36:00</td>\n      <td>EWR</td>\n      <td>199</td>\n      <td>1/31/2004</td>\n      <td>2097</td>\n      <td>DCA</td>\n      <td>0</td>\n      <td>6</td>\n      <td>31</td>\n      <td>N13994</td>\n      <td>ontime</td>\n      <td>6</td>\n      <td>0 days 00:06:00</td>\n    </tr>\n  </tbody>\n</table>\n<p>638 rows × 15 columns</p>\n</div>"
     },
     "execution_count": 11,
     "metadata": {},
     "output_type": "execute_result"
    }
   ],
   "source": [
    "af['Flight Status'] = af['Flight Status'].replace('delayed')\n",
    "af"
   ],
   "metadata": {
    "collapsed": false,
    "ExecuteTime": {
     "end_time": "2023-11-03T04:48:05.068622Z",
     "start_time": "2023-11-03T04:48:05.021522Z"
    }
   },
   "id": "a198cdf743c4e9fa"
  },
  {
   "cell_type": "code",
   "execution_count": 12,
   "outputs": [
    {
     "data": {
      "text/plain": "            CRS_DEP_TIME CARRIER            DEP_TIME DEST  DISTANCE  \\\n0    1900-01-01 14:55:00      OH 1900-01-01 14:55:00  JFK       184   \n1    1900-01-01 16:40:00      DH 1900-01-01 16:40:00  JFK       213   \n2    1900-01-01 12:45:00      DH 1900-01-01 12:45:00  LGA       229   \n3    1900-01-01 17:15:00      DH 1900-01-01 17:09:00  LGA       229   \n4    1900-01-01 10:39:00      DH 1900-01-01 10:35:00  LGA       229   \n...                  ...     ...                 ...  ...       ...   \n2196 1900-01-01 06:45:00      RU 1900-01-01 06:44:00  EWR       199   \n2197 1900-01-01 17:00:00      RU 1900-01-01 16:53:00  EWR       213   \n2198 1900-01-01 16:00:00      RU 1900-01-01 15:58:00  EWR       199   \n2199 1900-01-01 13:59:00      RU 1900-01-01 14:03:00  EWR       199   \n2200 1900-01-01 17:30:00      RU 1900-01-01 17:36:00  EWR       199   \n\n         FL_DATE  FL_NUM ORIGIN  Weather  DAY_WEEK  DAY_OF_MONTH TAIL_NUM  \\\n0     01/01/2004    5935    BWI        0         4             1   N940CA   \n1     01/01/2004    6155    DCA        0         4             1   N405FJ   \n2     01/01/2004    7208    IAD        0         4             1   N695BR   \n3     01/01/2004    7215    IAD        0         4             1   N662BR   \n4     01/01/2004    7792    IAD        0         4             1   N698BR   \n...          ...     ...    ...      ...       ...           ...      ...   \n2196   1/31/2004    2761    DCA        0         6            31   N15555   \n2197   1/31/2004    2497    IAD        0         6            31   N16976   \n2198   1/31/2004    2361    DCA        0         6            31   N14902   \n2199   1/31/2004    2216    DCA        0         6            31   N16961   \n2200   1/31/2004    2097    DCA        0         6            31   N13994   \n\n     Flight Status  Delay       Delay_value  \n0           ontime      0   0 days 00:00:00  \n1           ontime      0   0 days 00:00:00  \n2           ontime      0   0 days 00:00:00  \n3           ontime     -6 -1 days +23:54:00  \n4           ontime     -4 -1 days +23:56:00  \n...            ...    ...               ...  \n2196        ontime     -1 -1 days +23:59:00  \n2197        ontime    -47 -1 days +23:53:00  \n2198        ontime    -42 -1 days +23:58:00  \n2199        ontime     44   0 days 00:04:00  \n2200        ontime      6   0 days 00:06:00  \n\n[2201 rows x 15 columns]",
      "text/html": "<div>\n<style scoped>\n    .dataframe tbody tr th:only-of-type {\n        vertical-align: middle;\n    }\n\n    .dataframe tbody tr th {\n        vertical-align: top;\n    }\n\n    .dataframe thead th {\n        text-align: right;\n    }\n</style>\n<table border=\"1\" class=\"dataframe\">\n  <thead>\n    <tr style=\"text-align: right;\">\n      <th></th>\n      <th>CRS_DEP_TIME</th>\n      <th>CARRIER</th>\n      <th>DEP_TIME</th>\n      <th>DEST</th>\n      <th>DISTANCE</th>\n      <th>FL_DATE</th>\n      <th>FL_NUM</th>\n      <th>ORIGIN</th>\n      <th>Weather</th>\n      <th>DAY_WEEK</th>\n      <th>DAY_OF_MONTH</th>\n      <th>TAIL_NUM</th>\n      <th>Flight Status</th>\n      <th>Delay</th>\n      <th>Delay_value</th>\n    </tr>\n  </thead>\n  <tbody>\n    <tr>\n      <th>0</th>\n      <td>1900-01-01 14:55:00</td>\n      <td>OH</td>\n      <td>1900-01-01 14:55:00</td>\n      <td>JFK</td>\n      <td>184</td>\n      <td>01/01/2004</td>\n      <td>5935</td>\n      <td>BWI</td>\n      <td>0</td>\n      <td>4</td>\n      <td>1</td>\n      <td>N940CA</td>\n      <td>ontime</td>\n      <td>0</td>\n      <td>0 days 00:00:00</td>\n    </tr>\n    <tr>\n      <th>1</th>\n      <td>1900-01-01 16:40:00</td>\n      <td>DH</td>\n      <td>1900-01-01 16:40:00</td>\n      <td>JFK</td>\n      <td>213</td>\n      <td>01/01/2004</td>\n      <td>6155</td>\n      <td>DCA</td>\n      <td>0</td>\n      <td>4</td>\n      <td>1</td>\n      <td>N405FJ</td>\n      <td>ontime</td>\n      <td>0</td>\n      <td>0 days 00:00:00</td>\n    </tr>\n    <tr>\n      <th>2</th>\n      <td>1900-01-01 12:45:00</td>\n      <td>DH</td>\n      <td>1900-01-01 12:45:00</td>\n      <td>LGA</td>\n      <td>229</td>\n      <td>01/01/2004</td>\n      <td>7208</td>\n      <td>IAD</td>\n      <td>0</td>\n      <td>4</td>\n      <td>1</td>\n      <td>N695BR</td>\n      <td>ontime</td>\n      <td>0</td>\n      <td>0 days 00:00:00</td>\n    </tr>\n    <tr>\n      <th>3</th>\n      <td>1900-01-01 17:15:00</td>\n      <td>DH</td>\n      <td>1900-01-01 17:09:00</td>\n      <td>LGA</td>\n      <td>229</td>\n      <td>01/01/2004</td>\n      <td>7215</td>\n      <td>IAD</td>\n      <td>0</td>\n      <td>4</td>\n      <td>1</td>\n      <td>N662BR</td>\n      <td>ontime</td>\n      <td>-6</td>\n      <td>-1 days +23:54:00</td>\n    </tr>\n    <tr>\n      <th>4</th>\n      <td>1900-01-01 10:39:00</td>\n      <td>DH</td>\n      <td>1900-01-01 10:35:00</td>\n      <td>LGA</td>\n      <td>229</td>\n      <td>01/01/2004</td>\n      <td>7792</td>\n      <td>IAD</td>\n      <td>0</td>\n      <td>4</td>\n      <td>1</td>\n      <td>N698BR</td>\n      <td>ontime</td>\n      <td>-4</td>\n      <td>-1 days +23:56:00</td>\n    </tr>\n    <tr>\n      <th>...</th>\n      <td>...</td>\n      <td>...</td>\n      <td>...</td>\n      <td>...</td>\n      <td>...</td>\n      <td>...</td>\n      <td>...</td>\n      <td>...</td>\n      <td>...</td>\n      <td>...</td>\n      <td>...</td>\n      <td>...</td>\n      <td>...</td>\n      <td>...</td>\n      <td>...</td>\n    </tr>\n    <tr>\n      <th>2196</th>\n      <td>1900-01-01 06:45:00</td>\n      <td>RU</td>\n      <td>1900-01-01 06:44:00</td>\n      <td>EWR</td>\n      <td>199</td>\n      <td>1/31/2004</td>\n      <td>2761</td>\n      <td>DCA</td>\n      <td>0</td>\n      <td>6</td>\n      <td>31</td>\n      <td>N15555</td>\n      <td>ontime</td>\n      <td>-1</td>\n      <td>-1 days +23:59:00</td>\n    </tr>\n    <tr>\n      <th>2197</th>\n      <td>1900-01-01 17:00:00</td>\n      <td>RU</td>\n      <td>1900-01-01 16:53:00</td>\n      <td>EWR</td>\n      <td>213</td>\n      <td>1/31/2004</td>\n      <td>2497</td>\n      <td>IAD</td>\n      <td>0</td>\n      <td>6</td>\n      <td>31</td>\n      <td>N16976</td>\n      <td>ontime</td>\n      <td>-47</td>\n      <td>-1 days +23:53:00</td>\n    </tr>\n    <tr>\n      <th>2198</th>\n      <td>1900-01-01 16:00:00</td>\n      <td>RU</td>\n      <td>1900-01-01 15:58:00</td>\n      <td>EWR</td>\n      <td>199</td>\n      <td>1/31/2004</td>\n      <td>2361</td>\n      <td>DCA</td>\n      <td>0</td>\n      <td>6</td>\n      <td>31</td>\n      <td>N14902</td>\n      <td>ontime</td>\n      <td>-42</td>\n      <td>-1 days +23:58:00</td>\n    </tr>\n    <tr>\n      <th>2199</th>\n      <td>1900-01-01 13:59:00</td>\n      <td>RU</td>\n      <td>1900-01-01 14:03:00</td>\n      <td>EWR</td>\n      <td>199</td>\n      <td>1/31/2004</td>\n      <td>2216</td>\n      <td>DCA</td>\n      <td>0</td>\n      <td>6</td>\n      <td>31</td>\n      <td>N16961</td>\n      <td>ontime</td>\n      <td>44</td>\n      <td>0 days 00:04:00</td>\n    </tr>\n    <tr>\n      <th>2200</th>\n      <td>1900-01-01 17:30:00</td>\n      <td>RU</td>\n      <td>1900-01-01 17:36:00</td>\n      <td>EWR</td>\n      <td>199</td>\n      <td>1/31/2004</td>\n      <td>2097</td>\n      <td>DCA</td>\n      <td>0</td>\n      <td>6</td>\n      <td>31</td>\n      <td>N13994</td>\n      <td>ontime</td>\n      <td>6</td>\n      <td>0 days 00:06:00</td>\n    </tr>\n  </tbody>\n</table>\n<p>2201 rows × 15 columns</p>\n</div>"
     },
     "execution_count": 12,
     "metadata": {},
     "output_type": "execute_result"
    }
   ],
   "source": [
    "df"
   ],
   "metadata": {
    "collapsed": false,
    "ExecuteTime": {
     "end_time": "2023-11-03T04:48:05.089640Z",
     "start_time": "2023-11-03T04:48:05.032946Z"
    }
   },
   "id": "a5cca2c51ddb3451"
  },
  {
   "cell_type": "code",
   "execution_count": 13,
   "outputs": [
    {
     "data": {
      "text/plain": "            CRS_DEP_TIME CARRIER            DEP_TIME DEST  DISTANCE  \\\n6    1900-01-01 12:40:00      DH 1900-01-01 12:43:00  JFK       228   \n9    1900-01-01 21:20:00      DH 1900-01-01 21:29:00  JFK       228   \n11   1900-01-01 14:55:00      DL 1900-01-01 14:58:00  JFK       213   \n12   1900-01-01 09:30:00      DL 1900-01-01 09:32:00  LGA       214   \n51   1900-01-01 16:40:00      DH 1900-01-01 16:41:00  JFK       213   \n...                  ...     ...                 ...  ...       ...   \n2177 1900-01-01 07:00:00      US 1900-01-01 07:06:00  LGA       214   \n2187 1900-01-01 07:00:00      RU 1900-01-01 07:04:00  EWR       169   \n2191 1900-01-01 12:45:00      DH 1900-01-01 12:47:00  EWR       213   \n2199 1900-01-01 13:59:00      RU 1900-01-01 14:03:00  EWR       199   \n2200 1900-01-01 17:30:00      RU 1900-01-01 17:36:00  EWR       199   \n\n         FL_DATE  FL_NUM ORIGIN  Weather  DAY_WEEK  DAY_OF_MONTH TAIL_NUM  \\\n6     01/01/2004    7806    IAD        0         4             1   N321UE   \n9     01/01/2004    7814    IAD        0         4             1   N685BR   \n11    01/01/2004     746    DCA        0         4             1   N918DE   \n12    01/01/2004    1746    DCA        0         4             1   N242DL   \n51    01/02/2004    6155    DCA        0         5             2   N415FJ   \n...          ...     ...    ...      ...       ...           ...      ...   \n2177   1/31/2004    2160    DCA        0         6            31   N725UW   \n2187   1/31/2004    2703    BWI        0         6            31   N14542   \n2191   1/31/2004    7303    IAD        0         6            31   N624BR   \n2199   1/31/2004    2216    DCA        0         6            31   N16961   \n2200   1/31/2004    2097    DCA        0         6            31   N13994   \n\n     Flight Status  Delay     Delay_value  \n6           ontime      3 0 days 00:03:00  \n9           ontime      9 0 days 00:09:00  \n11          ontime      3 0 days 00:03:00  \n12          ontime      2 0 days 00:02:00  \n51          ontime      1 0 days 00:01:00  \n...            ...    ...             ...  \n2177        ontime      6 0 days 00:06:00  \n2187        ontime      4 0 days 00:04:00  \n2191        ontime      2 0 days 00:02:00  \n2199        ontime     44 0 days 00:04:00  \n2200        ontime      6 0 days 00:06:00  \n\n[638 rows x 15 columns]",
      "text/html": "<div>\n<style scoped>\n    .dataframe tbody tr th:only-of-type {\n        vertical-align: middle;\n    }\n\n    .dataframe tbody tr th {\n        vertical-align: top;\n    }\n\n    .dataframe thead th {\n        text-align: right;\n    }\n</style>\n<table border=\"1\" class=\"dataframe\">\n  <thead>\n    <tr style=\"text-align: right;\">\n      <th></th>\n      <th>CRS_DEP_TIME</th>\n      <th>CARRIER</th>\n      <th>DEP_TIME</th>\n      <th>DEST</th>\n      <th>DISTANCE</th>\n      <th>FL_DATE</th>\n      <th>FL_NUM</th>\n      <th>ORIGIN</th>\n      <th>Weather</th>\n      <th>DAY_WEEK</th>\n      <th>DAY_OF_MONTH</th>\n      <th>TAIL_NUM</th>\n      <th>Flight Status</th>\n      <th>Delay</th>\n      <th>Delay_value</th>\n    </tr>\n  </thead>\n  <tbody>\n    <tr>\n      <th>6</th>\n      <td>1900-01-01 12:40:00</td>\n      <td>DH</td>\n      <td>1900-01-01 12:43:00</td>\n      <td>JFK</td>\n      <td>228</td>\n      <td>01/01/2004</td>\n      <td>7806</td>\n      <td>IAD</td>\n      <td>0</td>\n      <td>4</td>\n      <td>1</td>\n      <td>N321UE</td>\n      <td>ontime</td>\n      <td>3</td>\n      <td>0 days 00:03:00</td>\n    </tr>\n    <tr>\n      <th>9</th>\n      <td>1900-01-01 21:20:00</td>\n      <td>DH</td>\n      <td>1900-01-01 21:29:00</td>\n      <td>JFK</td>\n      <td>228</td>\n      <td>01/01/2004</td>\n      <td>7814</td>\n      <td>IAD</td>\n      <td>0</td>\n      <td>4</td>\n      <td>1</td>\n      <td>N685BR</td>\n      <td>ontime</td>\n      <td>9</td>\n      <td>0 days 00:09:00</td>\n    </tr>\n    <tr>\n      <th>11</th>\n      <td>1900-01-01 14:55:00</td>\n      <td>DL</td>\n      <td>1900-01-01 14:58:00</td>\n      <td>JFK</td>\n      <td>213</td>\n      <td>01/01/2004</td>\n      <td>746</td>\n      <td>DCA</td>\n      <td>0</td>\n      <td>4</td>\n      <td>1</td>\n      <td>N918DE</td>\n      <td>ontime</td>\n      <td>3</td>\n      <td>0 days 00:03:00</td>\n    </tr>\n    <tr>\n      <th>12</th>\n      <td>1900-01-01 09:30:00</td>\n      <td>DL</td>\n      <td>1900-01-01 09:32:00</td>\n      <td>LGA</td>\n      <td>214</td>\n      <td>01/01/2004</td>\n      <td>1746</td>\n      <td>DCA</td>\n      <td>0</td>\n      <td>4</td>\n      <td>1</td>\n      <td>N242DL</td>\n      <td>ontime</td>\n      <td>2</td>\n      <td>0 days 00:02:00</td>\n    </tr>\n    <tr>\n      <th>51</th>\n      <td>1900-01-01 16:40:00</td>\n      <td>DH</td>\n      <td>1900-01-01 16:41:00</td>\n      <td>JFK</td>\n      <td>213</td>\n      <td>01/02/2004</td>\n      <td>6155</td>\n      <td>DCA</td>\n      <td>0</td>\n      <td>5</td>\n      <td>2</td>\n      <td>N415FJ</td>\n      <td>ontime</td>\n      <td>1</td>\n      <td>0 days 00:01:00</td>\n    </tr>\n    <tr>\n      <th>...</th>\n      <td>...</td>\n      <td>...</td>\n      <td>...</td>\n      <td>...</td>\n      <td>...</td>\n      <td>...</td>\n      <td>...</td>\n      <td>...</td>\n      <td>...</td>\n      <td>...</td>\n      <td>...</td>\n      <td>...</td>\n      <td>...</td>\n      <td>...</td>\n      <td>...</td>\n    </tr>\n    <tr>\n      <th>2177</th>\n      <td>1900-01-01 07:00:00</td>\n      <td>US</td>\n      <td>1900-01-01 07:06:00</td>\n      <td>LGA</td>\n      <td>214</td>\n      <td>1/31/2004</td>\n      <td>2160</td>\n      <td>DCA</td>\n      <td>0</td>\n      <td>6</td>\n      <td>31</td>\n      <td>N725UW</td>\n      <td>ontime</td>\n      <td>6</td>\n      <td>0 days 00:06:00</td>\n    </tr>\n    <tr>\n      <th>2187</th>\n      <td>1900-01-01 07:00:00</td>\n      <td>RU</td>\n      <td>1900-01-01 07:04:00</td>\n      <td>EWR</td>\n      <td>169</td>\n      <td>1/31/2004</td>\n      <td>2703</td>\n      <td>BWI</td>\n      <td>0</td>\n      <td>6</td>\n      <td>31</td>\n      <td>N14542</td>\n      <td>ontime</td>\n      <td>4</td>\n      <td>0 days 00:04:00</td>\n    </tr>\n    <tr>\n      <th>2191</th>\n      <td>1900-01-01 12:45:00</td>\n      <td>DH</td>\n      <td>1900-01-01 12:47:00</td>\n      <td>EWR</td>\n      <td>213</td>\n      <td>1/31/2004</td>\n      <td>7303</td>\n      <td>IAD</td>\n      <td>0</td>\n      <td>6</td>\n      <td>31</td>\n      <td>N624BR</td>\n      <td>ontime</td>\n      <td>2</td>\n      <td>0 days 00:02:00</td>\n    </tr>\n    <tr>\n      <th>2199</th>\n      <td>1900-01-01 13:59:00</td>\n      <td>RU</td>\n      <td>1900-01-01 14:03:00</td>\n      <td>EWR</td>\n      <td>199</td>\n      <td>1/31/2004</td>\n      <td>2216</td>\n      <td>DCA</td>\n      <td>0</td>\n      <td>6</td>\n      <td>31</td>\n      <td>N16961</td>\n      <td>ontime</td>\n      <td>44</td>\n      <td>0 days 00:04:00</td>\n    </tr>\n    <tr>\n      <th>2200</th>\n      <td>1900-01-01 17:30:00</td>\n      <td>RU</td>\n      <td>1900-01-01 17:36:00</td>\n      <td>EWR</td>\n      <td>199</td>\n      <td>1/31/2004</td>\n      <td>2097</td>\n      <td>DCA</td>\n      <td>0</td>\n      <td>6</td>\n      <td>31</td>\n      <td>N13994</td>\n      <td>ontime</td>\n      <td>6</td>\n      <td>0 days 00:06:00</td>\n    </tr>\n  </tbody>\n</table>\n<p>638 rows × 15 columns</p>\n</div>"
     },
     "execution_count": 13,
     "metadata": {},
     "output_type": "execute_result"
    }
   ],
   "source": [
    "af"
   ],
   "metadata": {
    "collapsed": false,
    "ExecuteTime": {
     "end_time": "2023-11-03T04:48:05.112282Z",
     "start_time": "2023-11-03T04:48:05.038775Z"
    }
   },
   "id": "4073cbb1f54a45"
  },
  {
   "cell_type": "code",
   "execution_count": 14,
   "outputs": [
    {
     "name": "stdout",
     "output_type": "stream",
     "text": [
      "0.8268968650613358\n"
     ]
    }
   ],
   "source": [
    "l = len(df[df['Delay_value']<'00:10:00'])\n",
    "n = len(df)\n",
    "print(l/n)\n"
   ],
   "metadata": {
    "collapsed": false,
    "ExecuteTime": {
     "end_time": "2023-11-03T04:48:05.112622Z",
     "start_time": "2023-11-03T04:48:05.043541Z"
    }
   },
   "id": "442a58083a9a3485"
  },
  {
   "cell_type": "code",
   "execution_count": 15,
   "outputs": [
    {
     "data": {
      "text/plain": "            CRS_DEP_TIME CARRIER            DEP_TIME DEST  DISTANCE  \\\n6    1900-01-01 12:40:00      DH 1900-01-01 12:43:00  JFK       228   \n9    1900-01-01 21:20:00      DH 1900-01-01 21:29:00  JFK       228   \n11   1900-01-01 14:55:00      DL 1900-01-01 14:58:00  JFK       213   \n12   1900-01-01 09:30:00      DL 1900-01-01 09:32:00  LGA       214   \n51   1900-01-01 16:40:00      DH 1900-01-01 16:41:00  JFK       213   \n...                  ...     ...                 ...  ...       ...   \n2177 1900-01-01 07:00:00      US 1900-01-01 07:06:00  LGA       214   \n2187 1900-01-01 07:00:00      RU 1900-01-01 07:04:00  EWR       169   \n2191 1900-01-01 12:45:00      DH 1900-01-01 12:47:00  EWR       213   \n2199 1900-01-01 13:59:00      RU 1900-01-01 14:03:00  EWR       199   \n2200 1900-01-01 17:30:00      RU 1900-01-01 17:36:00  EWR       199   \n\n         FL_DATE  FL_NUM ORIGIN  Weather  DAY_WEEK  DAY_OF_MONTH TAIL_NUM  \\\n6     01/01/2004    7806    IAD        0         4             1   N321UE   \n9     01/01/2004    7814    IAD        0         4             1   N685BR   \n11    01/01/2004     746    DCA        0         4             1   N918DE   \n12    01/01/2004    1746    DCA        0         4             1   N242DL   \n51    01/02/2004    6155    DCA        0         5             2   N415FJ   \n...          ...     ...    ...      ...       ...           ...      ...   \n2177   1/31/2004    2160    DCA        0         6            31   N725UW   \n2187   1/31/2004    2703    BWI        0         6            31   N14542   \n2191   1/31/2004    7303    IAD        0         6            31   N624BR   \n2199   1/31/2004    2216    DCA        0         6            31   N16961   \n2200   1/31/2004    2097    DCA        0         6            31   N13994   \n\n     Flight Status  Delay     Delay_value  \n6           ontime      3 0 days 00:03:00  \n9           ontime      9 0 days 00:09:00  \n11          ontime      3 0 days 00:03:00  \n12          ontime      2 0 days 00:02:00  \n51          ontime      1 0 days 00:01:00  \n...            ...    ...             ...  \n2177        ontime      6 0 days 00:06:00  \n2187        ontime      4 0 days 00:04:00  \n2191        ontime      2 0 days 00:02:00  \n2199        ontime     44 0 days 00:04:00  \n2200        ontime      6 0 days 00:06:00  \n\n[638 rows x 15 columns]",
      "text/html": "<div>\n<style scoped>\n    .dataframe tbody tr th:only-of-type {\n        vertical-align: middle;\n    }\n\n    .dataframe tbody tr th {\n        vertical-align: top;\n    }\n\n    .dataframe thead th {\n        text-align: right;\n    }\n</style>\n<table border=\"1\" class=\"dataframe\">\n  <thead>\n    <tr style=\"text-align: right;\">\n      <th></th>\n      <th>CRS_DEP_TIME</th>\n      <th>CARRIER</th>\n      <th>DEP_TIME</th>\n      <th>DEST</th>\n      <th>DISTANCE</th>\n      <th>FL_DATE</th>\n      <th>FL_NUM</th>\n      <th>ORIGIN</th>\n      <th>Weather</th>\n      <th>DAY_WEEK</th>\n      <th>DAY_OF_MONTH</th>\n      <th>TAIL_NUM</th>\n      <th>Flight Status</th>\n      <th>Delay</th>\n      <th>Delay_value</th>\n    </tr>\n  </thead>\n  <tbody>\n    <tr>\n      <th>6</th>\n      <td>1900-01-01 12:40:00</td>\n      <td>DH</td>\n      <td>1900-01-01 12:43:00</td>\n      <td>JFK</td>\n      <td>228</td>\n      <td>01/01/2004</td>\n      <td>7806</td>\n      <td>IAD</td>\n      <td>0</td>\n      <td>4</td>\n      <td>1</td>\n      <td>N321UE</td>\n      <td>ontime</td>\n      <td>3</td>\n      <td>0 days 00:03:00</td>\n    </tr>\n    <tr>\n      <th>9</th>\n      <td>1900-01-01 21:20:00</td>\n      <td>DH</td>\n      <td>1900-01-01 21:29:00</td>\n      <td>JFK</td>\n      <td>228</td>\n      <td>01/01/2004</td>\n      <td>7814</td>\n      <td>IAD</td>\n      <td>0</td>\n      <td>4</td>\n      <td>1</td>\n      <td>N685BR</td>\n      <td>ontime</td>\n      <td>9</td>\n      <td>0 days 00:09:00</td>\n    </tr>\n    <tr>\n      <th>11</th>\n      <td>1900-01-01 14:55:00</td>\n      <td>DL</td>\n      <td>1900-01-01 14:58:00</td>\n      <td>JFK</td>\n      <td>213</td>\n      <td>01/01/2004</td>\n      <td>746</td>\n      <td>DCA</td>\n      <td>0</td>\n      <td>4</td>\n      <td>1</td>\n      <td>N918DE</td>\n      <td>ontime</td>\n      <td>3</td>\n      <td>0 days 00:03:00</td>\n    </tr>\n    <tr>\n      <th>12</th>\n      <td>1900-01-01 09:30:00</td>\n      <td>DL</td>\n      <td>1900-01-01 09:32:00</td>\n      <td>LGA</td>\n      <td>214</td>\n      <td>01/01/2004</td>\n      <td>1746</td>\n      <td>DCA</td>\n      <td>0</td>\n      <td>4</td>\n      <td>1</td>\n      <td>N242DL</td>\n      <td>ontime</td>\n      <td>2</td>\n      <td>0 days 00:02:00</td>\n    </tr>\n    <tr>\n      <th>51</th>\n      <td>1900-01-01 16:40:00</td>\n      <td>DH</td>\n      <td>1900-01-01 16:41:00</td>\n      <td>JFK</td>\n      <td>213</td>\n      <td>01/02/2004</td>\n      <td>6155</td>\n      <td>DCA</td>\n      <td>0</td>\n      <td>5</td>\n      <td>2</td>\n      <td>N415FJ</td>\n      <td>ontime</td>\n      <td>1</td>\n      <td>0 days 00:01:00</td>\n    </tr>\n    <tr>\n      <th>...</th>\n      <td>...</td>\n      <td>...</td>\n      <td>...</td>\n      <td>...</td>\n      <td>...</td>\n      <td>...</td>\n      <td>...</td>\n      <td>...</td>\n      <td>...</td>\n      <td>...</td>\n      <td>...</td>\n      <td>...</td>\n      <td>...</td>\n      <td>...</td>\n      <td>...</td>\n    </tr>\n    <tr>\n      <th>2177</th>\n      <td>1900-01-01 07:00:00</td>\n      <td>US</td>\n      <td>1900-01-01 07:06:00</td>\n      <td>LGA</td>\n      <td>214</td>\n      <td>1/31/2004</td>\n      <td>2160</td>\n      <td>DCA</td>\n      <td>0</td>\n      <td>6</td>\n      <td>31</td>\n      <td>N725UW</td>\n      <td>ontime</td>\n      <td>6</td>\n      <td>0 days 00:06:00</td>\n    </tr>\n    <tr>\n      <th>2187</th>\n      <td>1900-01-01 07:00:00</td>\n      <td>RU</td>\n      <td>1900-01-01 07:04:00</td>\n      <td>EWR</td>\n      <td>169</td>\n      <td>1/31/2004</td>\n      <td>2703</td>\n      <td>BWI</td>\n      <td>0</td>\n      <td>6</td>\n      <td>31</td>\n      <td>N14542</td>\n      <td>ontime</td>\n      <td>4</td>\n      <td>0 days 00:04:00</td>\n    </tr>\n    <tr>\n      <th>2191</th>\n      <td>1900-01-01 12:45:00</td>\n      <td>DH</td>\n      <td>1900-01-01 12:47:00</td>\n      <td>EWR</td>\n      <td>213</td>\n      <td>1/31/2004</td>\n      <td>7303</td>\n      <td>IAD</td>\n      <td>0</td>\n      <td>6</td>\n      <td>31</td>\n      <td>N624BR</td>\n      <td>ontime</td>\n      <td>2</td>\n      <td>0 days 00:02:00</td>\n    </tr>\n    <tr>\n      <th>2199</th>\n      <td>1900-01-01 13:59:00</td>\n      <td>RU</td>\n      <td>1900-01-01 14:03:00</td>\n      <td>EWR</td>\n      <td>199</td>\n      <td>1/31/2004</td>\n      <td>2216</td>\n      <td>DCA</td>\n      <td>0</td>\n      <td>6</td>\n      <td>31</td>\n      <td>N16961</td>\n      <td>ontime</td>\n      <td>44</td>\n      <td>0 days 00:04:00</td>\n    </tr>\n    <tr>\n      <th>2200</th>\n      <td>1900-01-01 17:30:00</td>\n      <td>RU</td>\n      <td>1900-01-01 17:36:00</td>\n      <td>EWR</td>\n      <td>199</td>\n      <td>1/31/2004</td>\n      <td>2097</td>\n      <td>DCA</td>\n      <td>0</td>\n      <td>6</td>\n      <td>31</td>\n      <td>N13994</td>\n      <td>ontime</td>\n      <td>6</td>\n      <td>0 days 00:06:00</td>\n    </tr>\n  </tbody>\n</table>\n<p>638 rows × 15 columns</p>\n</div>"
     },
     "execution_count": 15,
     "metadata": {},
     "output_type": "execute_result"
    }
   ],
   "source": [
    "df[df['Delay_value']>'00:00:00']"
   ],
   "metadata": {
    "collapsed": false,
    "ExecuteTime": {
     "end_time": "2023-11-03T04:48:05.114293Z",
     "start_time": "2023-11-03T04:48:05.051581Z"
    }
   },
   "id": "e1a61054d7a3366f"
  },
  {
   "cell_type": "code",
   "execution_count": 16,
   "outputs": [
    {
     "data": {
      "text/plain": "Timedelta('-1 days +23:58:00')"
     },
     "execution_count": 16,
     "metadata": {},
     "output_type": "execute_result"
    }
   ],
   "source": [
    "df['Delay_value'].median()\n"
   ],
   "metadata": {
    "collapsed": false,
    "ExecuteTime": {
     "end_time": "2023-11-03T04:48:05.114480Z",
     "start_time": "2023-11-03T04:48:05.055609Z"
    }
   },
   "id": "262b5309434563a3"
  },
  {
   "cell_type": "code",
   "execution_count": 17,
   "outputs": [
    {
     "data": {
      "text/plain": "            CRS_DEP_TIME CARRIER            DEP_TIME DEST  DISTANCE  \\\n0    1900-01-01 14:55:00      OH 1900-01-01 14:55:00  JFK       184   \n1    1900-01-01 16:40:00      DH 1900-01-01 16:40:00  JFK       213   \n2    1900-01-01 12:45:00      DH 1900-01-01 12:45:00  LGA       229   \n3    1900-01-01 17:15:00      DH 1900-01-01 17:09:00  LGA       229   \n4    1900-01-01 10:39:00      DH 1900-01-01 10:35:00  LGA       229   \n...                  ...     ...                 ...  ...       ...   \n2196 1900-01-01 06:45:00      RU 1900-01-01 06:44:00  EWR       199   \n2197 1900-01-01 17:00:00      RU 1900-01-01 16:53:00  EWR       213   \n2198 1900-01-01 16:00:00      RU 1900-01-01 15:58:00  EWR       199   \n2199 1900-01-01 13:59:00      RU 1900-01-01 14:03:00  EWR       199   \n2200 1900-01-01 17:30:00      RU 1900-01-01 17:36:00  EWR       199   \n\n         FL_DATE  FL_NUM ORIGIN  Weather  DAY_WEEK  DAY_OF_MONTH TAIL_NUM  \\\n0     01/01/2004    5935    BWI        0         4             1   N940CA   \n1     01/01/2004    6155    DCA        0         4             1   N405FJ   \n2     01/01/2004    7208    IAD        0         4             1   N695BR   \n3     01/01/2004    7215    IAD        0         4             1   N662BR   \n4     01/01/2004    7792    IAD        0         4             1   N698BR   \n...          ...     ...    ...      ...       ...           ...      ...   \n2196   1/31/2004    2761    DCA        0         6            31   N15555   \n2197   1/31/2004    2497    IAD        0         6            31   N16976   \n2198   1/31/2004    2361    DCA        0         6            31   N14902   \n2199   1/31/2004    2216    DCA        0         6            31   N16961   \n2200   1/31/2004    2097    DCA        0         6            31   N13994   \n\n     Flight Status  Delay       Delay_value  \n0           ontime      0   0 days 00:00:00  \n1           ontime      0   0 days 00:00:00  \n2           ontime      0   0 days 00:00:00  \n3           ontime     -6 -1 days +23:54:00  \n4           ontime     -4 -1 days +23:56:00  \n...            ...    ...               ...  \n2196        ontime     -1 -1 days +23:59:00  \n2197        ontime    -47 -1 days +23:53:00  \n2198        ontime    -42 -1 days +23:58:00  \n2199        ontime     44   0 days 00:04:00  \n2200        ontime      6   0 days 00:06:00  \n\n[2201 rows x 15 columns]",
      "text/html": "<div>\n<style scoped>\n    .dataframe tbody tr th:only-of-type {\n        vertical-align: middle;\n    }\n\n    .dataframe tbody tr th {\n        vertical-align: top;\n    }\n\n    .dataframe thead th {\n        text-align: right;\n    }\n</style>\n<table border=\"1\" class=\"dataframe\">\n  <thead>\n    <tr style=\"text-align: right;\">\n      <th></th>\n      <th>CRS_DEP_TIME</th>\n      <th>CARRIER</th>\n      <th>DEP_TIME</th>\n      <th>DEST</th>\n      <th>DISTANCE</th>\n      <th>FL_DATE</th>\n      <th>FL_NUM</th>\n      <th>ORIGIN</th>\n      <th>Weather</th>\n      <th>DAY_WEEK</th>\n      <th>DAY_OF_MONTH</th>\n      <th>TAIL_NUM</th>\n      <th>Flight Status</th>\n      <th>Delay</th>\n      <th>Delay_value</th>\n    </tr>\n  </thead>\n  <tbody>\n    <tr>\n      <th>0</th>\n      <td>1900-01-01 14:55:00</td>\n      <td>OH</td>\n      <td>1900-01-01 14:55:00</td>\n      <td>JFK</td>\n      <td>184</td>\n      <td>01/01/2004</td>\n      <td>5935</td>\n      <td>BWI</td>\n      <td>0</td>\n      <td>4</td>\n      <td>1</td>\n      <td>N940CA</td>\n      <td>ontime</td>\n      <td>0</td>\n      <td>0 days 00:00:00</td>\n    </tr>\n    <tr>\n      <th>1</th>\n      <td>1900-01-01 16:40:00</td>\n      <td>DH</td>\n      <td>1900-01-01 16:40:00</td>\n      <td>JFK</td>\n      <td>213</td>\n      <td>01/01/2004</td>\n      <td>6155</td>\n      <td>DCA</td>\n      <td>0</td>\n      <td>4</td>\n      <td>1</td>\n      <td>N405FJ</td>\n      <td>ontime</td>\n      <td>0</td>\n      <td>0 days 00:00:00</td>\n    </tr>\n    <tr>\n      <th>2</th>\n      <td>1900-01-01 12:45:00</td>\n      <td>DH</td>\n      <td>1900-01-01 12:45:00</td>\n      <td>LGA</td>\n      <td>229</td>\n      <td>01/01/2004</td>\n      <td>7208</td>\n      <td>IAD</td>\n      <td>0</td>\n      <td>4</td>\n      <td>1</td>\n      <td>N695BR</td>\n      <td>ontime</td>\n      <td>0</td>\n      <td>0 days 00:00:00</td>\n    </tr>\n    <tr>\n      <th>3</th>\n      <td>1900-01-01 17:15:00</td>\n      <td>DH</td>\n      <td>1900-01-01 17:09:00</td>\n      <td>LGA</td>\n      <td>229</td>\n      <td>01/01/2004</td>\n      <td>7215</td>\n      <td>IAD</td>\n      <td>0</td>\n      <td>4</td>\n      <td>1</td>\n      <td>N662BR</td>\n      <td>ontime</td>\n      <td>-6</td>\n      <td>-1 days +23:54:00</td>\n    </tr>\n    <tr>\n      <th>4</th>\n      <td>1900-01-01 10:39:00</td>\n      <td>DH</td>\n      <td>1900-01-01 10:35:00</td>\n      <td>LGA</td>\n      <td>229</td>\n      <td>01/01/2004</td>\n      <td>7792</td>\n      <td>IAD</td>\n      <td>0</td>\n      <td>4</td>\n      <td>1</td>\n      <td>N698BR</td>\n      <td>ontime</td>\n      <td>-4</td>\n      <td>-1 days +23:56:00</td>\n    </tr>\n    <tr>\n      <th>...</th>\n      <td>...</td>\n      <td>...</td>\n      <td>...</td>\n      <td>...</td>\n      <td>...</td>\n      <td>...</td>\n      <td>...</td>\n      <td>...</td>\n      <td>...</td>\n      <td>...</td>\n      <td>...</td>\n      <td>...</td>\n      <td>...</td>\n      <td>...</td>\n      <td>...</td>\n    </tr>\n    <tr>\n      <th>2196</th>\n      <td>1900-01-01 06:45:00</td>\n      <td>RU</td>\n      <td>1900-01-01 06:44:00</td>\n      <td>EWR</td>\n      <td>199</td>\n      <td>1/31/2004</td>\n      <td>2761</td>\n      <td>DCA</td>\n      <td>0</td>\n      <td>6</td>\n      <td>31</td>\n      <td>N15555</td>\n      <td>ontime</td>\n      <td>-1</td>\n      <td>-1 days +23:59:00</td>\n    </tr>\n    <tr>\n      <th>2197</th>\n      <td>1900-01-01 17:00:00</td>\n      <td>RU</td>\n      <td>1900-01-01 16:53:00</td>\n      <td>EWR</td>\n      <td>213</td>\n      <td>1/31/2004</td>\n      <td>2497</td>\n      <td>IAD</td>\n      <td>0</td>\n      <td>6</td>\n      <td>31</td>\n      <td>N16976</td>\n      <td>ontime</td>\n      <td>-47</td>\n      <td>-1 days +23:53:00</td>\n    </tr>\n    <tr>\n      <th>2198</th>\n      <td>1900-01-01 16:00:00</td>\n      <td>RU</td>\n      <td>1900-01-01 15:58:00</td>\n      <td>EWR</td>\n      <td>199</td>\n      <td>1/31/2004</td>\n      <td>2361</td>\n      <td>DCA</td>\n      <td>0</td>\n      <td>6</td>\n      <td>31</td>\n      <td>N14902</td>\n      <td>ontime</td>\n      <td>-42</td>\n      <td>-1 days +23:58:00</td>\n    </tr>\n    <tr>\n      <th>2199</th>\n      <td>1900-01-01 13:59:00</td>\n      <td>RU</td>\n      <td>1900-01-01 14:03:00</td>\n      <td>EWR</td>\n      <td>199</td>\n      <td>1/31/2004</td>\n      <td>2216</td>\n      <td>DCA</td>\n      <td>0</td>\n      <td>6</td>\n      <td>31</td>\n      <td>N16961</td>\n      <td>ontime</td>\n      <td>44</td>\n      <td>0 days 00:04:00</td>\n    </tr>\n    <tr>\n      <th>2200</th>\n      <td>1900-01-01 17:30:00</td>\n      <td>RU</td>\n      <td>1900-01-01 17:36:00</td>\n      <td>EWR</td>\n      <td>199</td>\n      <td>1/31/2004</td>\n      <td>2097</td>\n      <td>DCA</td>\n      <td>0</td>\n      <td>6</td>\n      <td>31</td>\n      <td>N13994</td>\n      <td>ontime</td>\n      <td>6</td>\n      <td>0 days 00:06:00</td>\n    </tr>\n  </tbody>\n</table>\n<p>2201 rows × 15 columns</p>\n</div>"
     },
     "execution_count": 17,
     "metadata": {},
     "output_type": "execute_result"
    }
   ],
   "source": [
    "df"
   ],
   "metadata": {
    "collapsed": false,
    "ExecuteTime": {
     "end_time": "2023-11-03T04:48:05.115089Z",
     "start_time": "2023-11-03T04:48:05.063374Z"
    }
   },
   "id": "3cda73cc0dd0d0e0"
  },
  {
   "cell_type": "code",
   "execution_count": 18,
   "outputs": [
    {
     "data": {
      "text/plain": "            CRS_DEP_TIME CARRIER            DEP_TIME DEST  DISTANCE  \\\n6    1900-01-01 12:40:00      DH 1900-01-01 12:43:00  JFK       228   \n9    1900-01-01 21:20:00      DH 1900-01-01 21:29:00  JFK       228   \n11   1900-01-01 14:55:00      DL 1900-01-01 14:58:00  JFK       213   \n12   1900-01-01 09:30:00      DL 1900-01-01 09:32:00  LGA       214   \n51   1900-01-01 16:40:00      DH 1900-01-01 16:41:00  JFK       213   \n...                  ...     ...                 ...  ...       ...   \n2177 1900-01-01 07:00:00      US 1900-01-01 07:06:00  LGA       214   \n2187 1900-01-01 07:00:00      RU 1900-01-01 07:04:00  EWR       169   \n2191 1900-01-01 12:45:00      DH 1900-01-01 12:47:00  EWR       213   \n2199 1900-01-01 13:59:00      RU 1900-01-01 14:03:00  EWR       199   \n2200 1900-01-01 17:30:00      RU 1900-01-01 17:36:00  EWR       199   \n\n         FL_DATE  FL_NUM ORIGIN  Weather  DAY_WEEK  DAY_OF_MONTH TAIL_NUM  \\\n6     01/01/2004    7806    IAD        0         4             1   N321UE   \n9     01/01/2004    7814    IAD        0         4             1   N685BR   \n11    01/01/2004     746    DCA        0         4             1   N918DE   \n12    01/01/2004    1746    DCA        0         4             1   N242DL   \n51    01/02/2004    6155    DCA        0         5             2   N415FJ   \n...          ...     ...    ...      ...       ...           ...      ...   \n2177   1/31/2004    2160    DCA        0         6            31   N725UW   \n2187   1/31/2004    2703    BWI        0         6            31   N14542   \n2191   1/31/2004    7303    IAD        0         6            31   N624BR   \n2199   1/31/2004    2216    DCA        0         6            31   N16961   \n2200   1/31/2004    2097    DCA        0         6            31   N13994   \n\n     Flight Status  Delay     Delay_value  \n6           ontime      3 0 days 00:03:00  \n9           ontime      9 0 days 00:09:00  \n11          ontime      3 0 days 00:03:00  \n12          ontime      2 0 days 00:02:00  \n51          ontime      1 0 days 00:01:00  \n...            ...    ...             ...  \n2177        ontime      6 0 days 00:06:00  \n2187        ontime      4 0 days 00:04:00  \n2191        ontime      2 0 days 00:02:00  \n2199        ontime     44 0 days 00:04:00  \n2200        ontime      6 0 days 00:06:00  \n\n[638 rows x 15 columns]",
      "text/html": "<div>\n<style scoped>\n    .dataframe tbody tr th:only-of-type {\n        vertical-align: middle;\n    }\n\n    .dataframe tbody tr th {\n        vertical-align: top;\n    }\n\n    .dataframe thead th {\n        text-align: right;\n    }\n</style>\n<table border=\"1\" class=\"dataframe\">\n  <thead>\n    <tr style=\"text-align: right;\">\n      <th></th>\n      <th>CRS_DEP_TIME</th>\n      <th>CARRIER</th>\n      <th>DEP_TIME</th>\n      <th>DEST</th>\n      <th>DISTANCE</th>\n      <th>FL_DATE</th>\n      <th>FL_NUM</th>\n      <th>ORIGIN</th>\n      <th>Weather</th>\n      <th>DAY_WEEK</th>\n      <th>DAY_OF_MONTH</th>\n      <th>TAIL_NUM</th>\n      <th>Flight Status</th>\n      <th>Delay</th>\n      <th>Delay_value</th>\n    </tr>\n  </thead>\n  <tbody>\n    <tr>\n      <th>6</th>\n      <td>1900-01-01 12:40:00</td>\n      <td>DH</td>\n      <td>1900-01-01 12:43:00</td>\n      <td>JFK</td>\n      <td>228</td>\n      <td>01/01/2004</td>\n      <td>7806</td>\n      <td>IAD</td>\n      <td>0</td>\n      <td>4</td>\n      <td>1</td>\n      <td>N321UE</td>\n      <td>ontime</td>\n      <td>3</td>\n      <td>0 days 00:03:00</td>\n    </tr>\n    <tr>\n      <th>9</th>\n      <td>1900-01-01 21:20:00</td>\n      <td>DH</td>\n      <td>1900-01-01 21:29:00</td>\n      <td>JFK</td>\n      <td>228</td>\n      <td>01/01/2004</td>\n      <td>7814</td>\n      <td>IAD</td>\n      <td>0</td>\n      <td>4</td>\n      <td>1</td>\n      <td>N685BR</td>\n      <td>ontime</td>\n      <td>9</td>\n      <td>0 days 00:09:00</td>\n    </tr>\n    <tr>\n      <th>11</th>\n      <td>1900-01-01 14:55:00</td>\n      <td>DL</td>\n      <td>1900-01-01 14:58:00</td>\n      <td>JFK</td>\n      <td>213</td>\n      <td>01/01/2004</td>\n      <td>746</td>\n      <td>DCA</td>\n      <td>0</td>\n      <td>4</td>\n      <td>1</td>\n      <td>N918DE</td>\n      <td>ontime</td>\n      <td>3</td>\n      <td>0 days 00:03:00</td>\n    </tr>\n    <tr>\n      <th>12</th>\n      <td>1900-01-01 09:30:00</td>\n      <td>DL</td>\n      <td>1900-01-01 09:32:00</td>\n      <td>LGA</td>\n      <td>214</td>\n      <td>01/01/2004</td>\n      <td>1746</td>\n      <td>DCA</td>\n      <td>0</td>\n      <td>4</td>\n      <td>1</td>\n      <td>N242DL</td>\n      <td>ontime</td>\n      <td>2</td>\n      <td>0 days 00:02:00</td>\n    </tr>\n    <tr>\n      <th>51</th>\n      <td>1900-01-01 16:40:00</td>\n      <td>DH</td>\n      <td>1900-01-01 16:41:00</td>\n      <td>JFK</td>\n      <td>213</td>\n      <td>01/02/2004</td>\n      <td>6155</td>\n      <td>DCA</td>\n      <td>0</td>\n      <td>5</td>\n      <td>2</td>\n      <td>N415FJ</td>\n      <td>ontime</td>\n      <td>1</td>\n      <td>0 days 00:01:00</td>\n    </tr>\n    <tr>\n      <th>...</th>\n      <td>...</td>\n      <td>...</td>\n      <td>...</td>\n      <td>...</td>\n      <td>...</td>\n      <td>...</td>\n      <td>...</td>\n      <td>...</td>\n      <td>...</td>\n      <td>...</td>\n      <td>...</td>\n      <td>...</td>\n      <td>...</td>\n      <td>...</td>\n      <td>...</td>\n    </tr>\n    <tr>\n      <th>2177</th>\n      <td>1900-01-01 07:00:00</td>\n      <td>US</td>\n      <td>1900-01-01 07:06:00</td>\n      <td>LGA</td>\n      <td>214</td>\n      <td>1/31/2004</td>\n      <td>2160</td>\n      <td>DCA</td>\n      <td>0</td>\n      <td>6</td>\n      <td>31</td>\n      <td>N725UW</td>\n      <td>ontime</td>\n      <td>6</td>\n      <td>0 days 00:06:00</td>\n    </tr>\n    <tr>\n      <th>2187</th>\n      <td>1900-01-01 07:00:00</td>\n      <td>RU</td>\n      <td>1900-01-01 07:04:00</td>\n      <td>EWR</td>\n      <td>169</td>\n      <td>1/31/2004</td>\n      <td>2703</td>\n      <td>BWI</td>\n      <td>0</td>\n      <td>6</td>\n      <td>31</td>\n      <td>N14542</td>\n      <td>ontime</td>\n      <td>4</td>\n      <td>0 days 00:04:00</td>\n    </tr>\n    <tr>\n      <th>2191</th>\n      <td>1900-01-01 12:45:00</td>\n      <td>DH</td>\n      <td>1900-01-01 12:47:00</td>\n      <td>EWR</td>\n      <td>213</td>\n      <td>1/31/2004</td>\n      <td>7303</td>\n      <td>IAD</td>\n      <td>0</td>\n      <td>6</td>\n      <td>31</td>\n      <td>N624BR</td>\n      <td>ontime</td>\n      <td>2</td>\n      <td>0 days 00:02:00</td>\n    </tr>\n    <tr>\n      <th>2199</th>\n      <td>1900-01-01 13:59:00</td>\n      <td>RU</td>\n      <td>1900-01-01 14:03:00</td>\n      <td>EWR</td>\n      <td>199</td>\n      <td>1/31/2004</td>\n      <td>2216</td>\n      <td>DCA</td>\n      <td>0</td>\n      <td>6</td>\n      <td>31</td>\n      <td>N16961</td>\n      <td>ontime</td>\n      <td>44</td>\n      <td>0 days 00:04:00</td>\n    </tr>\n    <tr>\n      <th>2200</th>\n      <td>1900-01-01 17:30:00</td>\n      <td>RU</td>\n      <td>1900-01-01 17:36:00</td>\n      <td>EWR</td>\n      <td>199</td>\n      <td>1/31/2004</td>\n      <td>2097</td>\n      <td>DCA</td>\n      <td>0</td>\n      <td>6</td>\n      <td>31</td>\n      <td>N13994</td>\n      <td>ontime</td>\n      <td>6</td>\n      <td>0 days 00:06:00</td>\n    </tr>\n  </tbody>\n</table>\n<p>638 rows × 15 columns</p>\n</div>"
     },
     "execution_count": 18,
     "metadata": {},
     "output_type": "execute_result"
    }
   ],
   "source": [
    "df[df['Delay_value']>'00:00:00']"
   ],
   "metadata": {
    "collapsed": false,
    "ExecuteTime": {
     "end_time": "2023-11-03T04:48:05.116659Z",
     "start_time": "2023-11-03T04:48:05.072849Z"
    }
   },
   "id": "b7f500410099c703"
  },
  {
   "cell_type": "code",
   "execution_count": 19,
   "outputs": [
    {
     "name": "stdout",
     "output_type": "stream",
     "text": [
      "-1 days +23:58:00\n",
      "-1 days +23:58:00\n",
      "-1 days +23:58:00\n",
      "-1 days +23:58:00\n",
      "-1 days +23:58:00\n",
      "-1 days +23:58:00\n",
      "-1 days +23:58:00\n",
      "-1 days +23:58:00\n",
      "-1 days +23:58:00\n",
      "-1 days +23:58:00\n"
     ]
    }
   ],
   "source": [
    "for i in range(10):\n",
    "    rec = df.sample(frac=0.25,random_state=0)\n",
    "    print(rec['Delay_value'].median())"
   ],
   "metadata": {
    "collapsed": false,
    "ExecuteTime": {
     "end_time": "2023-11-03T04:48:05.116848Z",
     "start_time": "2023-11-03T04:48:05.078954Z"
    }
   },
   "id": "32fa08c62f56ce49"
  },
  {
   "cell_type": "code",
   "execution_count": 20,
   "outputs": [],
   "source": [
    "data_org = df.iloc[:,:].values"
   ],
   "metadata": {
    "collapsed": false,
    "ExecuteTime": {
     "end_time": "2023-11-03T04:48:05.123722Z",
     "start_time": "2023-11-03T04:48:05.086833Z"
    }
   },
   "id": "81f0394ef68db665"
  },
  {
   "cell_type": "code",
   "execution_count": 21,
   "outputs": [],
   "source": [
    "seconds_as_float = df['Delay_value'].apply(lambda x: x.total_seconds()).astype(float)\n"
   ],
   "metadata": {
    "collapsed": false,
    "ExecuteTime": {
     "end_time": "2023-11-03T04:48:05.136616Z",
     "start_time": "2023-11-03T04:48:05.093578Z"
    }
   },
   "id": "a243e431aba3e5c1"
  },
  {
   "cell_type": "code",
   "execution_count": 22,
   "outputs": [
    {
     "data": {
      "text/plain": "0         0.0\n1         0.0\n2         0.0\n3      -360.0\n4      -240.0\n        ...  \n2196    -60.0\n2197   -420.0\n2198   -120.0\n2199    240.0\n2200    360.0\nName: Delay_value, Length: 2201, dtype: float64"
     },
     "execution_count": 22,
     "metadata": {},
     "output_type": "execute_result"
    }
   ],
   "source": [
    "seconds_as_float\n"
   ],
   "metadata": {
    "collapsed": false,
    "ExecuteTime": {
     "end_time": "2023-11-03T04:48:05.177604Z",
     "start_time": "2023-11-03T04:48:05.097858Z"
    }
   },
   "id": "7d89fbd8f064816"
  },
  {
   "cell_type": "code",
   "execution_count": 23,
   "outputs": [
    {
     "data": {
      "text/plain": "<Figure size 640x480 with 1 Axes>",
      "image/png": "[encoded data removed]"
     },
     "metadata": {},
     "output_type": "display_data"
    }
   ],
   "source": [
    "plt.hist(seconds_as_float,bins = 100)\n",
    "plt.show()"
   ],
   "metadata": {
    "collapsed": false,
    "ExecuteTime": {
     "end_time": "2023-11-03T04:48:05.317317Z",
     "start_time": "2023-11-03T04:48:05.100758Z"
    }
   },
   "id": "b48334c07c38a849"
  },
  {
   "cell_type": "code",
   "execution_count": 24,
   "outputs": [
    {
     "name": "stdout",
     "output_type": "stream",
     "text": [
      "1820\n"
     ]
    }
   ],
   "source": [
    "print(l)"
   ],
   "metadata": {
    "collapsed": false,
    "ExecuteTime": {
     "end_time": "2023-11-03T04:49:43.755082Z",
     "start_time": "2023-11-03T04:49:43.720571Z"
    }
   },
   "id": "3c70c52f52f532a"
  },
  {
   "cell_type": "code",
   "execution_count": 27,
   "outputs": [
    {
     "data": {
      "text/plain": "            CRS_DEP_TIME CARRIER            DEP_TIME DEST  DISTANCE  \\\n0    1900-01-01 14:55:00      OH 1900-01-01 14:55:00  JFK       184   \n1    1900-01-01 16:40:00      DH 1900-01-01 16:40:00  JFK       213   \n2    1900-01-01 12:45:00      DH 1900-01-01 12:45:00  LGA       229   \n3    1900-01-01 17:15:00      DH 1900-01-01 17:09:00  LGA       229   \n4    1900-01-01 10:39:00      DH 1900-01-01 10:35:00  LGA       229   \n...                  ...     ...                 ...  ...       ...   \n2196 1900-01-01 06:45:00      RU 1900-01-01 06:44:00  EWR       199   \n2197 1900-01-01 17:00:00      RU 1900-01-01 16:53:00  EWR       213   \n2198 1900-01-01 16:00:00      RU 1900-01-01 15:58:00  EWR       199   \n2199 1900-01-01 13:59:00      RU 1900-01-01 14:03:00  EWR       199   \n2200 1900-01-01 17:30:00      RU 1900-01-01 17:36:00  EWR       199   \n\n         FL_DATE  FL_NUM ORIGIN  Weather  DAY_WEEK  DAY_OF_MONTH TAIL_NUM  \\\n0     01/01/2004    5935    BWI        0         4             1   N940CA   \n1     01/01/2004    6155    DCA        0         4             1   N405FJ   \n2     01/01/2004    7208    IAD        0         4             1   N695BR   \n3     01/01/2004    7215    IAD        0         4             1   N662BR   \n4     01/01/2004    7792    IAD        0         4             1   N698BR   \n...          ...     ...    ...      ...       ...           ...      ...   \n2196   1/31/2004    2761    DCA        0         6            31   N15555   \n2197   1/31/2004    2497    IAD        0         6            31   N16976   \n2198   1/31/2004    2361    DCA        0         6            31   N14902   \n2199   1/31/2004    2216    DCA        0         6            31   N16961   \n2200   1/31/2004    2097    DCA        0         6            31   N13994   \n\n     Flight Status  Delay       Delay_value  \n0           ontime      0   0 days 00:00:00  \n1           ontime      0   0 days 00:00:00  \n2           ontime      0   0 days 00:00:00  \n3           ontime     -6 -1 days +23:54:00  \n4           ontime     -4 -1 days +23:56:00  \n...            ...    ...               ...  \n2196        ontime     -1 -1 days +23:59:00  \n2197        ontime    -47 -1 days +23:53:00  \n2198        ontime    -42 -1 days +23:58:00  \n2199        ontime     44   0 days 00:04:00  \n2200        ontime      6   0 days 00:06:00  \n\n[2201 rows x 15 columns]",
      "text/html": "<div>\n<style scoped>\n    .dataframe tbody tr th:only-of-type {\n        vertical-align: middle;\n    }\n\n    .dataframe tbody tr th {\n        vertical-align: top;\n    }\n\n    .dataframe thead th {\n        text-align: right;\n    }\n</style>\n<table border=\"1\" class=\"dataframe\">\n  <thead>\n    <tr style=\"text-align: right;\">\n      <th></th>\n      <th>CRS_DEP_TIME</th>\n      <th>CARRIER</th>\n      <th>DEP_TIME</th>\n      <th>DEST</th>\n      <th>DISTANCE</th>\n      <th>FL_DATE</th>\n      <th>FL_NUM</th>\n      <th>ORIGIN</th>\n      <th>Weather</th>\n      <th>DAY_WEEK</th>\n      <th>DAY_OF_MONTH</th>\n      <th>TAIL_NUM</th>\n      <th>Flight Status</th>\n      <th>Delay</th>\n      <th>Delay_value</th>\n    </tr>\n  </thead>\n  <tbody>\n    <tr>\n      <th>0</th>\n      <td>1900-01-01 14:55:00</td>\n      <td>OH</td>\n      <td>1900-01-01 14:55:00</td>\n      <td>JFK</td>\n      <td>184</td>\n      <td>01/01/2004</td>\n      <td>5935</td>\n      <td>BWI</td>\n      <td>0</td>\n      <td>4</td>\n      <td>1</td>\n      <td>N940CA</td>\n      <td>ontime</td>\n      <td>0</td>\n      <td>0 days 00:00:00</td>\n    </tr>\n    <tr>\n      <th>1</th>\n      <td>1900-01-01 16:40:00</td>\n      <td>DH</td>\n      <td>1900-01-01 16:40:00</td>\n      <td>JFK</td>\n      <td>213</td>\n      <td>01/01/2004</td>\n      <td>6155</td>\n      <td>DCA</td>\n      <td>0</td>\n      <td>4</td>\n      <td>1</td>\n      <td>N405FJ</td>\n      <td>ontime</td>\n      <td>0</td>\n      <td>0 days 00:00:00</td>\n    </tr>\n    <tr>\n      <th>2</th>\n      <td>1900-01-01 12:45:00</td>\n      <td>DH</td>\n      <td>1900-01-01 12:45:00</td>\n      <td>LGA</td>\n      <td>229</td>\n      <td>01/01/2004</td>\n      <td>7208</td>\n      <td>IAD</td>\n      <td>0</td>\n      <td>4</td>\n      <td>1</td>\n      <td>N695BR</td>\n      <td>ontime</td>\n      <td>0</td>\n      <td>0 days 00:00:00</td>\n    </tr>\n    <tr>\n      <th>3</th>\n      <td>1900-01-01 17:15:00</td>\n      <td>DH</td>\n      <td>1900-01-01 17:09:00</td>\n      <td>LGA</td>\n      <td>229</td>\n      <td>01/01/2004</td>\n      <td>7215</td>\n      <td>IAD</td>\n      <td>0</td>\n      <td>4</td>\n      <td>1</td>\n      <td>N662BR</td>\n      <td>ontime</td>\n      <td>-6</td>\n      <td>-1 days +23:54:00</td>\n    </tr>\n    <tr>\n      <th>4</th>\n      <td>1900-01-01 10:39:00</td>\n      <td>DH</td>\n      <td>1900-01-01 10:35:00</td>\n      <td>LGA</td>\n      <td>229</td>\n      <td>01/01/2004</td>\n      <td>7792</td>\n      <td>IAD</td>\n      <td>0</td>\n      <td>4</td>\n      <td>1</td>\n      <td>N698BR</td>\n      <td>ontime</td>\n      <td>-4</td>\n      <td>-1 days +23:56:00</td>\n    </tr>\n    <tr>\n      <th>...</th>\n      <td>...</td>\n      <td>...</td>\n      <td>...</td>\n      <td>...</td>\n      <td>...</td>\n      <td>...</td>\n      <td>...</td>\n      <td>...</td>\n      <td>...</td>\n      <td>...</td>\n      <td>...</td>\n      <td>...</td>\n      <td>...</td>\n      <td>...</td>\n      <td>...</td>\n    </tr>\n    <tr>\n      <th>2196</th>\n      <td>1900-01-01 06:45:00</td>\n      <td>RU</td>\n      <td>1900-01-01 06:44:00</td>\n      <td>EWR</td>\n      <td>199</td>\n      <td>1/31/2004</td>\n      <td>2761</td>\n      <td>DCA</td>\n      <td>0</td>\n      <td>6</td>\n      <td>31</td>\n      <td>N15555</td>\n      <td>ontime</td>\n      <td>-1</td>\n      <td>-1 days +23:59:00</td>\n    </tr>\n    <tr>\n      <th>2197</th>\n      <td>1900-01-01 17:00:00</td>\n      <td>RU</td>\n      <td>1900-01-01 16:53:00</td>\n      <td>EWR</td>\n      <td>213</td>\n      <td>1/31/2004</td>\n      <td>2497</td>\n      <td>IAD</td>\n      <td>0</td>\n      <td>6</td>\n      <td>31</td>\n      <td>N16976</td>\n      <td>ontime</td>\n      <td>-47</td>\n      <td>-1 days +23:53:00</td>\n    </tr>\n    <tr>\n      <th>2198</th>\n      <td>1900-01-01 16:00:00</td>\n      <td>RU</td>\n      <td>1900-01-01 15:58:00</td>\n      <td>EWR</td>\n      <td>199</td>\n      <td>1/31/2004</td>\n      <td>2361</td>\n      <td>DCA</td>\n      <td>0</td>\n      <td>6</td>\n      <td>31</td>\n      <td>N14902</td>\n      <td>ontime</td>\n      <td>-42</td>\n      <td>-1 days +23:58:00</td>\n    </tr>\n    <tr>\n      <th>2199</th>\n      <td>1900-01-01 13:59:00</td>\n      <td>RU</td>\n      <td>1900-01-01 14:03:00</td>\n      <td>EWR</td>\n      <td>199</td>\n      <td>1/31/2004</td>\n      <td>2216</td>\n      <td>DCA</td>\n      <td>0</td>\n      <td>6</td>\n      <td>31</td>\n      <td>N16961</td>\n      <td>ontime</td>\n      <td>44</td>\n      <td>0 days 00:04:00</td>\n    </tr>\n    <tr>\n      <th>2200</th>\n      <td>1900-01-01 17:30:00</td>\n      <td>RU</td>\n      <td>1900-01-01 17:36:00</td>\n      <td>EWR</td>\n      <td>199</td>\n      <td>1/31/2004</td>\n      <td>2097</td>\n      <td>DCA</td>\n      <td>0</td>\n      <td>6</td>\n      <td>31</td>\n      <td>N13994</td>\n      <td>ontime</td>\n      <td>6</td>\n      <td>0 days 00:06:00</td>\n    </tr>\n  </tbody>\n</table>\n<p>2201 rows × 15 columns</p>\n</div>"
     },
     "execution_count": 27,
     "metadata": {},
     "output_type": "execute_result"
    }
   ],
   "source": [
    "df"
   ],
   "metadata": {
    "collapsed": false,
    "ExecuteTime": {
     "end_time": "2023-11-03T04:51:02.202011Z",
     "start_time": "2023-11-03T04:51:02.191462Z"
    }
   },
   "id": "5d0e250b9fc48d29"
  },
  {
   "cell_type": "code",
   "execution_count": 31,
   "outputs": [
    {
     "data": {
      "text/plain": "            CRS_DEP_TIME CARRIER            DEP_TIME DEST  DISTANCE  \\\n0    1900-01-01 14:55:00      OH 1900-01-01 14:55:00  JFK       184   \n1    1900-01-01 16:40:00      DH 1900-01-01 16:40:00  JFK       213   \n2    1900-01-01 12:45:00      DH 1900-01-01 12:45:00  LGA       229   \n3    1900-01-01 17:15:00      DH 1900-01-01 17:09:00  LGA       229   \n4    1900-01-01 10:39:00      DH 1900-01-01 10:35:00  LGA       229   \n...                  ...     ...                 ...  ...       ...   \n2196 1900-01-01 06:45:00      RU 1900-01-01 06:44:00  EWR       199   \n2197 1900-01-01 17:00:00      RU 1900-01-01 16:53:00  EWR       213   \n2198 1900-01-01 16:00:00      RU 1900-01-01 15:58:00  EWR       199   \n2199 1900-01-01 13:59:00      RU 1900-01-01 14:03:00  EWR       199   \n2200 1900-01-01 17:30:00      RU 1900-01-01 17:36:00  EWR       199   \n\n         FL_DATE  FL_NUM ORIGIN  Weather  DAY_WEEK  DAY_OF_MONTH TAIL_NUM  \\\n0     01/01/2004    5935    BWI        0         4             1   N940CA   \n1     01/01/2004    6155    DCA        0         4             1   N405FJ   \n2     01/01/2004    7208    IAD        0         4             1   N695BR   \n3     01/01/2004    7215    IAD        0         4             1   N662BR   \n4     01/01/2004    7792    IAD        0         4             1   N698BR   \n...          ...     ...    ...      ...       ...           ...      ...   \n2196   1/31/2004    2761    DCA        0         6            31   N15555   \n2197   1/31/2004    2497    IAD        0         6            31   N16976   \n2198   1/31/2004    2361    DCA        0         6            31   N14902   \n2199   1/31/2004    2216    DCA        0         6            31   N16961   \n2200   1/31/2004    2097    DCA        0         6            31   N13994   \n\n     Flight Status  Delay       Delay_value  \n0           ontime      0   0 days 00:00:00  \n1           ontime      0   0 days 00:00:00  \n2           ontime      0   0 days 00:00:00  \n3           ontime     -6 -1 days +23:54:00  \n4           ontime     -4 -1 days +23:56:00  \n...            ...    ...               ...  \n2196        ontime     -1 -1 days +23:59:00  \n2197        ontime    -47 -1 days +23:53:00  \n2198        ontime    -42 -1 days +23:58:00  \n2199        ontime     44   0 days 00:04:00  \n2200        ontime      6   0 days 00:06:00  \n\n[1820 rows x 15 columns]",
      "text/html": "<div>\n<style scoped>\n    .dataframe tbody tr th:only-of-type {\n        vertical-align: middle;\n    }\n\n    .dataframe tbody tr th {\n        vertical-align: top;\n    }\n\n    .dataframe thead th {\n        text-align: right;\n    }\n</style>\n<table border=\"1\" class=\"dataframe\">\n  <thead>\n    <tr style=\"text-align: right;\">\n      <th></th>\n      <th>CRS_DEP_TIME</th>\n      <th>CARRIER</th>\n      <th>DEP_TIME</th>\n      <th>DEST</th>\n      <th>DISTANCE</th>\n      <th>FL_DATE</th>\n      <th>FL_NUM</th>\n      <th>ORIGIN</th>\n      <th>Weather</th>\n      <th>DAY_WEEK</th>\n      <th>DAY_OF_MONTH</th>\n      <th>TAIL_NUM</th>\n      <th>Flight Status</th>\n      <th>Delay</th>\n      <th>Delay_value</th>\n    </tr>\n  </thead>\n  <tbody>\n    <tr>\n      <th>0</th>\n      <td>1900-01-01 14:55:00</td>\n      <td>OH</td>\n      <td>1900-01-01 14:55:00</td>\n      <td>JFK</td>\n      <td>184</td>\n      <td>01/01/2004</td>\n      <td>5935</td>\n      <td>BWI</td>\n      <td>0</td>\n      <td>4</td>\n      <td>1</td>\n      <td>N940CA</td>\n      <td>ontime</td>\n      <td>0</td>\n      <td>0 days 00:00:00</td>\n    </tr>\n    <tr>\n      <th>1</th>\n      <td>1900-01-01 16:40:00</td>\n      <td>DH</td>\n      <td>1900-01-01 16:40:00</td>\n      <td>JFK</td>\n      <td>213</td>\n      <td>01/01/2004</td>\n      <td>6155</td>\n      <td>DCA</td>\n      <td>0</td>\n      <td>4</td>\n      <td>1</td>\n      <td>N405FJ</td>\n      <td>ontime</td>\n      <td>0</td>\n      <td>0 days 00:00:00</td>\n    </tr>\n    <tr>\n      <th>2</th>\n      <td>1900-01-01 12:45:00</td>\n      <td>DH</td>\n      <td>1900-01-01 12:45:00</td>\n      <td>LGA</td>\n      <td>229</td>\n      <td>01/01/2004</td>\n      <td>7208</td>\n      <td>IAD</td>\n      <td>0</td>\n      <td>4</td>\n      <td>1</td>\n      <td>N695BR</td>\n      <td>ontime</td>\n      <td>0</td>\n      <td>0 days 00:00:00</td>\n    </tr>\n    <tr>\n      <th>3</th>\n      <td>1900-01-01 17:15:00</td>\n      <td>DH</td>\n      <td>1900-01-01 17:09:00</td>\n      <td>LGA</td>\n      <td>229</td>\n      <td>01/01/2004</td>\n      <td>7215</td>\n      <td>IAD</td>\n      <td>0</td>\n      <td>4</td>\n      <td>1</td>\n      <td>N662BR</td>\n      <td>ontime</td>\n      <td>-6</td>\n      <td>-1 days +23:54:00</td>\n    </tr>\n    <tr>\n      <th>4</th>\n      <td>1900-01-01 10:39:00</td>\n      <td>DH</td>\n      <td>1900-01-01 10:35:00</td>\n      <td>LGA</td>\n      <td>229</td>\n      <td>01/01/2004</td>\n      <td>7792</td>\n      <td>IAD</td>\n      <td>0</td>\n      <td>4</td>\n      <td>1</td>\n      <td>N698BR</td>\n      <td>ontime</td>\n      <td>-4</td>\n      <td>-1 days +23:56:00</td>\n    </tr>\n    <tr>\n      <th>...</th>\n      <td>...</td>\n      <td>...</td>\n      <td>...</td>\n      <td>...</td>\n      <td>...</td>\n      <td>...</td>\n      <td>...</td>\n      <td>...</td>\n      <td>...</td>\n      <td>...</td>\n      <td>...</td>\n      <td>...</td>\n      <td>...</td>\n      <td>...</td>\n      <td>...</td>\n    </tr>\n    <tr>\n      <th>2196</th>\n      <td>1900-01-01 06:45:00</td>\n      <td>RU</td>\n      <td>1900-01-01 06:44:00</td>\n      <td>EWR</td>\n      <td>199</td>\n      <td>1/31/2004</td>\n      <td>2761</td>\n      <td>DCA</td>\n      <td>0</td>\n      <td>6</td>\n      <td>31</td>\n      <td>N15555</td>\n      <td>ontime</td>\n      <td>-1</td>\n      <td>-1 days +23:59:00</td>\n    </tr>\n    <tr>\n      <th>2197</th>\n      <td>1900-01-01 17:00:00</td>\n      <td>RU</td>\n      <td>1900-01-01 16:53:00</td>\n      <td>EWR</td>\n      <td>213</td>\n      <td>1/31/2004</td>\n      <td>2497</td>\n      <td>IAD</td>\n      <td>0</td>\n      <td>6</td>\n      <td>31</td>\n      <td>N16976</td>\n      <td>ontime</td>\n      <td>-47</td>\n      <td>-1 days +23:53:00</td>\n    </tr>\n    <tr>\n      <th>2198</th>\n      <td>1900-01-01 16:00:00</td>\n      <td>RU</td>\n      <td>1900-01-01 15:58:00</td>\n      <td>EWR</td>\n      <td>199</td>\n      <td>1/31/2004</td>\n      <td>2361</td>\n      <td>DCA</td>\n      <td>0</td>\n      <td>6</td>\n      <td>31</td>\n      <td>N14902</td>\n      <td>ontime</td>\n      <td>-42</td>\n      <td>-1 days +23:58:00</td>\n    </tr>\n    <tr>\n      <th>2199</th>\n      <td>1900-01-01 13:59:00</td>\n      <td>RU</td>\n      <td>1900-01-01 14:03:00</td>\n      <td>EWR</td>\n      <td>199</td>\n      <td>1/31/2004</td>\n      <td>2216</td>\n      <td>DCA</td>\n      <td>0</td>\n      <td>6</td>\n      <td>31</td>\n      <td>N16961</td>\n      <td>ontime</td>\n      <td>44</td>\n      <td>0 days 00:04:00</td>\n    </tr>\n    <tr>\n      <th>2200</th>\n      <td>1900-01-01 17:30:00</td>\n      <td>RU</td>\n      <td>1900-01-01 17:36:00</td>\n      <td>EWR</td>\n      <td>199</td>\n      <td>1/31/2004</td>\n      <td>2097</td>\n      <td>DCA</td>\n      <td>0</td>\n      <td>6</td>\n      <td>31</td>\n      <td>N13994</td>\n      <td>ontime</td>\n      <td>6</td>\n      <td>0 days 00:06:00</td>\n    </tr>\n  </tbody>\n</table>\n<p>1820 rows × 15 columns</p>\n</div>"
     },
     "execution_count": 31,
     "metadata": {},
     "output_type": "execute_result"
    }
   ],
   "source": [
    "df[df['Delay_value']<'00:10:00'] "
   ],
   "metadata": {
    "collapsed": false,
    "ExecuteTime": {
     "end_time": "2023-11-03T04:54:47.073458Z",
     "start_time": "2023-11-03T04:54:47.070768Z"
    }
   },
   "id": "244104327d8706da"
  },
  {
   "cell_type": "code",
   "execution_count": null,
   "outputs": [],
   "source": [],
   "metadata": {
    "collapsed": false
   },
   "id": "223b0775be9ac922"
  }
 ],
 "metadata": {
  "kernelspec": {
   "display_name": "Python 3",
   "language": "python",
   "name": "python3"
  },
  "language_info": {
   "codemirror_mode": {
    "name": "ipython",
    "version": 2
   },
   "file_extension": ".py",
   "mimetype": "text/x-python",
   "name": "python",
   "nbconvert_exporter": "python",
   "pygments_lexer": "ipython2",
   "version": "2.7.6"
  }
 },
 "nbformat": 4,
 "nbformat_minor": 5
}
