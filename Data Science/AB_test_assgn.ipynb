{
 "cells": [
  {
   "cell_type": "code",
   "execution_count": 1,
   "id": "initial_id",
   "metadata": {
    "collapsed": true,
    "ExecuteTime": {
     "end_time": "2023-11-02T13:51:13.998265Z",
     "start_time": "2023-11-02T13:51:13.996758Z"
    }
   },
   "outputs": [],
   "source": [
    "import numpy as np\n",
    "import pandas as pd\n",
    "import matplotlib.pyplot as plt"
   ]
  },
  {
   "cell_type": "code",
   "execution_count": 2,
   "outputs": [
    {
     "data": {
      "text/plain": "        Team  Blakeman  Prioleau\n0   Patriots     11.50     11.80\n1   Patriots     10.85     11.20\n2   Patriots     11.15     11.50\n3   Patriots     10.70     11.00\n4   Patriots     11.10     11.45\n5   Patriots     11.60     11.95\n6   Patriots     11.85     12.30\n7   Patriots     11.10     11.55\n8   Patriots     10.95     11.35\n9   Patriots     10.50     10.90\n10  Patriots     10.90     11.35\n11     Colts     12.70     12.35\n12     Colts     12.75     12.30\n13     Colts     12.50     12.95\n14     Colts     12.55     12.15",
      "text/html": "<div>\n<style scoped>\n    .dataframe tbody tr th:only-of-type {\n        vertical-align: middle;\n    }\n\n    .dataframe tbody tr th {\n        vertical-align: top;\n    }\n\n    .dataframe thead th {\n        text-align: right;\n    }\n</style>\n<table border=\"1\" class=\"dataframe\">\n  <thead>\n    <tr style=\"text-align: right;\">\n      <th></th>\n      <th>Team</th>\n      <th>Blakeman</th>\n      <th>Prioleau</th>\n    </tr>\n  </thead>\n  <tbody>\n    <tr>\n      <th>0</th>\n      <td>Patriots</td>\n      <td>11.50</td>\n      <td>11.80</td>\n    </tr>\n    <tr>\n      <th>1</th>\n      <td>Patriots</td>\n      <td>10.85</td>\n      <td>11.20</td>\n    </tr>\n    <tr>\n      <th>2</th>\n      <td>Patriots</td>\n      <td>11.15</td>\n      <td>11.50</td>\n    </tr>\n    <tr>\n      <th>3</th>\n      <td>Patriots</td>\n      <td>10.70</td>\n      <td>11.00</td>\n    </tr>\n    <tr>\n      <th>4</th>\n      <td>Patriots</td>\n      <td>11.10</td>\n      <td>11.45</td>\n    </tr>\n    <tr>\n      <th>5</th>\n      <td>Patriots</td>\n      <td>11.60</td>\n      <td>11.95</td>\n    </tr>\n    <tr>\n      <th>6</th>\n      <td>Patriots</td>\n      <td>11.85</td>\n      <td>12.30</td>\n    </tr>\n    <tr>\n      <th>7</th>\n      <td>Patriots</td>\n      <td>11.10</td>\n      <td>11.55</td>\n    </tr>\n    <tr>\n      <th>8</th>\n      <td>Patriots</td>\n      <td>10.95</td>\n      <td>11.35</td>\n    </tr>\n    <tr>\n      <th>9</th>\n      <td>Patriots</td>\n      <td>10.50</td>\n      <td>10.90</td>\n    </tr>\n    <tr>\n      <th>10</th>\n      <td>Patriots</td>\n      <td>10.90</td>\n      <td>11.35</td>\n    </tr>\n    <tr>\n      <th>11</th>\n      <td>Colts</td>\n      <td>12.70</td>\n      <td>12.35</td>\n    </tr>\n    <tr>\n      <th>12</th>\n      <td>Colts</td>\n      <td>12.75</td>\n      <td>12.30</td>\n    </tr>\n    <tr>\n      <th>13</th>\n      <td>Colts</td>\n      <td>12.50</td>\n      <td>12.95</td>\n    </tr>\n    <tr>\n      <th>14</th>\n      <td>Colts</td>\n      <td>12.55</td>\n      <td>12.15</td>\n    </tr>\n  </tbody>\n</table>\n</div>"
     },
     "execution_count": 2,
     "metadata": {},
     "output_type": "execute_result"
    }
   ],
   "source": [
    "df = pd.read_csv('deflategate.csv')\n",
    "df"
   ],
   "metadata": {
    "collapsed": false,
    "ExecuteTime": {
     "end_time": "2023-11-02T14:05:38.489867Z",
     "start_time": "2023-11-02T14:05:38.457250Z"
    }
   },
   "id": "9ac544ffabcb5c6e"
  },
  {
   "cell_type": "code",
   "execution_count": null,
   "outputs": [],
   "source": [],
   "metadata": {
    "collapsed": false
   },
   "id": "526aad79070434f8"
  }
 ],
 "metadata": {
  "kernelspec": {
   "display_name": "Python 3",
   "language": "python",
   "name": "python3"
  },
  "language_info": {
   "codemirror_mode": {
    "name": "ipython",
    "version": 2
   },
   "file_extension": ".py",
   "mimetype": "text/x-python",
   "name": "python",
   "nbconvert_exporter": "python",
   "pygments_lexer": "ipython2",
   "version": "2.7.6"
  }
 },
 "nbformat": 4,
 "nbformat_minor": 5
}
